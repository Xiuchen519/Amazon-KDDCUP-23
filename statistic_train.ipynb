{
 "cells": [
  {
   "cell_type": "code",
   "execution_count": 3,
   "metadata": {},
   "outputs": [],
   "source": [
    "import torch\n",
    "import numpy as np\n",
    "import pandas as pd \n",
    "import os \n",
    "from functools import lru_cache"
   ]
  },
  {
   "cell_type": "code",
   "execution_count": 6,
   "metadata": {},
   "outputs": [],
   "source": [
    "train_data_dir = './raw_data/'\n",
    "@lru_cache(maxsize=1)\n",
    "def read_train_data():\n",
    "    return pd.read_csv(os.path.join(train_data_dir, 'sessions_train.csv'))"
   ]
  },
  {
   "cell_type": "code",
   "execution_count": 7,
   "metadata": {},
   "outputs": [],
   "source": [
    "sessions_train = read_train_data()"
   ]
  },
  {
   "cell_type": "code",
   "execution_count": 8,
   "metadata": {},
   "outputs": [],
   "source": [
    "def get_prev_items(prev_items):\n",
    "    product_list = prev_items.strip('[]').split(' ')\n",
    "    product_list = list(map(lambda x : x.strip(\"'\\n\"), product_list))\n",
    "    return product_list"
   ]
  },
  {
   "cell_type": "code",
   "execution_count": 11,
   "metadata": {},
   "outputs": [
    {
     "name": "stderr",
     "output_type": "stream",
     "text": [
      " 12%|█▏        | 442092/3606249 [01:54<13:42, 3848.54it/s] \n"
     ]
    },
    {
     "ename": "KeyboardInterrupt",
     "evalue": "",
     "output_type": "error",
     "traceback": [
      "\u001b[0;31m---------------------------------------------------------------------------\u001b[0m",
      "\u001b[0;31mKeyboardInterrupt\u001b[0m                         Traceback (most recent call last)",
      "Cell \u001b[0;32mIn[11], line 6\u001b[0m\n\u001b[1;32m      4\u001b[0m in_count \u001b[39m=\u001b[39m \u001b[39m0\u001b[39m\n\u001b[1;32m      5\u001b[0m \u001b[39mfor\u001b[39;00m i \u001b[39min\u001b[39;00m tqdm(\u001b[39mrange\u001b[39m(num_sessions_train)):\n\u001b[0;32m----> 6\u001b[0m     sess_train \u001b[39m=\u001b[39m sessions_train\u001b[39m.\u001b[39;49miloc[i]\n\u001b[1;32m      7\u001b[0m     prev_items \u001b[39m=\u001b[39m get_prev_items(sess_train[\u001b[39m'\u001b[39m\u001b[39mprev_items\u001b[39m\u001b[39m'\u001b[39m])\n\u001b[1;32m      8\u001b[0m     next_item \u001b[39m=\u001b[39m sess_train[\u001b[39m'\u001b[39m\u001b[39mnext_item\u001b[39m\u001b[39m'\u001b[39m]\n",
      "File \u001b[0;32m~/.conda/envs/torch12/lib/python3.9/site-packages/pandas/core/indexing.py:1073\u001b[0m, in \u001b[0;36m_LocationIndexer.__getitem__\u001b[0;34m(self, key)\u001b[0m\n\u001b[1;32m   1070\u001b[0m axis \u001b[39m=\u001b[39m \u001b[39mself\u001b[39m\u001b[39m.\u001b[39maxis \u001b[39mor\u001b[39;00m \u001b[39m0\u001b[39m\n\u001b[1;32m   1072\u001b[0m maybe_callable \u001b[39m=\u001b[39m com\u001b[39m.\u001b[39mapply_if_callable(key, \u001b[39mself\u001b[39m\u001b[39m.\u001b[39mobj)\n\u001b[0;32m-> 1073\u001b[0m \u001b[39mreturn\u001b[39;00m \u001b[39mself\u001b[39;49m\u001b[39m.\u001b[39;49m_getitem_axis(maybe_callable, axis\u001b[39m=\u001b[39;49maxis)\n",
      "File \u001b[0;32m~/.conda/envs/torch12/lib/python3.9/site-packages/pandas/core/indexing.py:1627\u001b[0m, in \u001b[0;36m_iLocIndexer._getitem_axis\u001b[0;34m(self, key, axis)\u001b[0m\n\u001b[1;32m   1624\u001b[0m \u001b[39m# validate the location\u001b[39;00m\n\u001b[1;32m   1625\u001b[0m \u001b[39mself\u001b[39m\u001b[39m.\u001b[39m_validate_integer(key, axis)\n\u001b[0;32m-> 1627\u001b[0m \u001b[39mreturn\u001b[39;00m \u001b[39mself\u001b[39;49m\u001b[39m.\u001b[39;49mobj\u001b[39m.\u001b[39;49m_ixs(key, axis\u001b[39m=\u001b[39;49maxis)\n",
      "File \u001b[0;32m~/.conda/envs/torch12/lib/python3.9/site-packages/pandas/core/frame.py:3723\u001b[0m, in \u001b[0;36mDataFrame._ixs\u001b[0;34m(self, i, axis)\u001b[0m\n\u001b[1;32m   3719\u001b[0m     copy \u001b[39m=\u001b[39m \u001b[39misinstance\u001b[39m(new_mgr\u001b[39m.\u001b[39marray, np\u001b[39m.\u001b[39mndarray) \u001b[39mand\u001b[39;00m new_mgr\u001b[39m.\u001b[39marray\u001b[39m.\u001b[39mbase \u001b[39mis\u001b[39;00m \u001b[39mNone\u001b[39;00m\n\u001b[1;32m   3720\u001b[0m     result \u001b[39m=\u001b[39m \u001b[39mself\u001b[39m\u001b[39m.\u001b[39m_constructor_sliced(new_mgr, name\u001b[39m=\u001b[39m\u001b[39mself\u001b[39m\u001b[39m.\u001b[39mindex[i])\u001b[39m.\u001b[39m__finalize__(\n\u001b[1;32m   3721\u001b[0m         \u001b[39mself\u001b[39m\n\u001b[1;32m   3722\u001b[0m     )\n\u001b[0;32m-> 3723\u001b[0m     result\u001b[39m.\u001b[39;49m_set_is_copy(\u001b[39mself\u001b[39;49m, copy\u001b[39m=\u001b[39;49mcopy)\n\u001b[1;32m   3724\u001b[0m     \u001b[39mreturn\u001b[39;00m result\n\u001b[1;32m   3726\u001b[0m \u001b[39m# icol\u001b[39;00m\n\u001b[1;32m   3727\u001b[0m \u001b[39melse\u001b[39;00m:\n",
      "File \u001b[0;32m~/.conda/envs/torch12/lib/python3.9/site-packages/pandas/core/generic.py:4117\u001b[0m, in \u001b[0;36mNDFrame._set_is_copy\u001b[0;34m(self, ref, copy)\u001b[0m\n\u001b[1;32m   4114\u001b[0m \u001b[39m@final\u001b[39m\n\u001b[1;32m   4115\u001b[0m \u001b[39mdef\u001b[39;00m \u001b[39m_set_is_copy\u001b[39m(\u001b[39mself\u001b[39m, ref: NDFrame, copy: bool_t \u001b[39m=\u001b[39m \u001b[39mTrue\u001b[39;00m) \u001b[39m-\u001b[39m\u001b[39m>\u001b[39m \u001b[39mNone\u001b[39;00m:\n\u001b[1;32m   4116\u001b[0m     \u001b[39mif\u001b[39;00m \u001b[39mnot\u001b[39;00m copy:\n\u001b[0;32m-> 4117\u001b[0m         \u001b[39mself\u001b[39;49m\u001b[39m.\u001b[39;49m_is_copy \u001b[39m=\u001b[39m \u001b[39mNone\u001b[39;00m\n\u001b[1;32m   4118\u001b[0m     \u001b[39melse\u001b[39;00m:\n\u001b[1;32m   4119\u001b[0m         \u001b[39massert\u001b[39;00m ref \u001b[39mis\u001b[39;00m \u001b[39mnot\u001b[39;00m \u001b[39mNone\u001b[39;00m\n",
      "File \u001b[0;32m~/.conda/envs/torch12/lib/python3.9/site-packages/pandas/core/generic.py:5913\u001b[0m, in \u001b[0;36mNDFrame.__setattr__\u001b[0;34m(self, name, value)\u001b[0m\n\u001b[1;32m   5905\u001b[0m \u001b[39m\u001b[39m\u001b[39m\"\"\"\u001b[39;00m\n\u001b[1;32m   5906\u001b[0m \u001b[39mAfter regular attribute access, try setting the name\u001b[39;00m\n\u001b[1;32m   5907\u001b[0m \u001b[39mThis allows simpler access to columns for interactive use.\u001b[39;00m\n\u001b[1;32m   5908\u001b[0m \u001b[39m\"\"\"\u001b[39;00m\n\u001b[1;32m   5909\u001b[0m \u001b[39m# first try regular attribute access via __getattribute__, so that\u001b[39;00m\n\u001b[1;32m   5910\u001b[0m \u001b[39m# e.g. ``obj.x`` and ``obj.x = 4`` will always reference/modify\u001b[39;00m\n\u001b[1;32m   5911\u001b[0m \u001b[39m# the same attribute.\u001b[39;00m\n\u001b[0;32m-> 5913\u001b[0m \u001b[39mtry\u001b[39;00m:\n\u001b[1;32m   5914\u001b[0m     \u001b[39mobject\u001b[39m\u001b[39m.\u001b[39m\u001b[39m__getattribute__\u001b[39m(\u001b[39mself\u001b[39m, name)\n\u001b[1;32m   5915\u001b[0m     \u001b[39mreturn\u001b[39;00m \u001b[39mobject\u001b[39m\u001b[39m.\u001b[39m\u001b[39m__setattr__\u001b[39m(\u001b[39mself\u001b[39m, name, value)\n",
      "\u001b[0;31mKeyboardInterrupt\u001b[0m: "
     ]
    }
   ],
   "source": [
    "from tqdm import tqdm \n",
    "num_sessions_train = len(sessions_train)\n",
    "\n",
    "in_count = 0\n",
    "for i in tqdm(range(num_sessions_train)):\n",
    "    sess_train = sessions_train.iloc[i]\n",
    "    prev_items = get_prev_items(sess_train['prev_items'])\n",
    "    next_item = sess_train['next_item']\n",
    "    if next_item in prev_items:\n",
    "        in_count += 1\n",
    "\n",
    "print(in_count / num_sessions_train)"
   ]
  },
  {
   "cell_type": "code",
   "execution_count": 10,
   "metadata": {},
   "outputs": [
    {
     "data": {
      "text/plain": [
       "0"
      ]
     },
     "execution_count": 10,
     "metadata": {},
     "output_type": "execute_result"
    }
   ],
   "source": [
    "in_count"
   ]
  }
 ],
 "metadata": {
  "kernelspec": {
   "display_name": "torch12",
   "language": "python",
   "name": "python3"
  },
  "language_info": {
   "codemirror_mode": {
    "name": "ipython",
    "version": 3
   },
   "file_extension": ".py",
   "mimetype": "text/x-python",
   "name": "python",
   "nbconvert_exporter": "python",
   "pygments_lexer": "ipython3",
   "version": "3.9.16"
  },
  "orig_nbformat": 4
 },
 "nbformat": 4,
 "nbformat_minor": 2
}
