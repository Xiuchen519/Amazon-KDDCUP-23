{
 "cells": [
  {
   "cell_type": "code",
   "execution_count": 1,
   "metadata": {},
   "outputs": [
    {
     "name": "stderr",
     "output_type": "stream",
     "text": [
      "/root/autodl-tmp/xiaolong/.conda/envs/torch12/lib/python3.9/site-packages/tqdm/auto.py:22: TqdmWarning: IProgress not found. Please update jupyter and ipywidgets. See https://ipywidgets.readthedocs.io/en/stable/user_install.html\n",
      "  from .autonotebook import tqdm as notebook_tqdm\n"
     ]
    }
   ],
   "source": [
    "import os\n",
    "import torch\n",
    "from torch.nn.utils.rnn import pad_sequence\n",
    "import numpy as np\n",
    "import pandas as pd\n",
    "from tqdm import tqdm, trange\n",
    "from collections import *\n",
    "import copy\n",
    "from functools import lru_cache"
   ]
  },
  {
   "cell_type": "code",
   "execution_count": 2,
   "metadata": {},
   "outputs": [],
   "source": [
    "valid_data_path = \"/root/autodl-tmp/xiaolong/WorkSpace/Amazon-KDDCUP-23/data_for_recstudio/all_task_1_valid_sessions.csv\"\n",
    "roberta_pred_path = \"/root/autodl-tmp/xiaolong/WorkSpace/Amazon-KDDCUP-23/candidates/roberta/roberta_valid_150_with_score.parquet\"\n",
    "sasrec_pred_path = \"/root/autodl-tmp/xiaolong/WorkSpace/Amazon-KDDCUP-23/candidates/SASRec_Next/SASRec_valid_150_with_score.parquet\"\n",
    "graph_pred_path = \"/root/autodl-tmp/huangxu/Amazon-KDDCUP-23/co-occurrence_graph/graph_valid_150_with_score.parquet\""
   ]
  },
  {
   "cell_type": "code",
   "execution_count": 3,
   "metadata": {},
   "outputs": [],
   "source": [
    "def normalization(data):\n",
    "    print(\"Max=\", np.max(data, axis=0), \" Min=\", np.min(data, axis=0))\n",
    "    _range = np.max(data, axis=0) - np.min(data, axis=0)\n",
    "    return (data - np.min(data, axis=0)) / _range\n",
    "\n",
    "def standardization(data):\n",
    "    mu = np.mean(data, axis=0)\n",
    "    sigma = np.std(data, axis=0)\n",
    "    print(\"Mean={}, Sigma={}\".format(mu, sigma))\n",
    "    return (data - mu) / sigma\n",
    "\n",
    "def softmax(data, axis):\n",
    "    _exp = np.exp(data)\n",
    "    return data / _exp.sum(axis=axis, keepdims=True)"
   ]
  },
  {
   "cell_type": "code",
   "execution_count": 4,
   "metadata": {},
   "outputs": [],
   "source": [
    "@lru_cache(maxsize=1)\n",
    "def read_valid_data():\n",
    "    return pd.read_csv(valid_data_path)\n",
    "\n",
    "@lru_cache(maxsize=1)\n",
    "def read_roberta_pred():\n",
    "    return pd.read_parquet(roberta_pred_path, engine='pyarrow')\n",
    "\n",
    "@lru_cache(maxsize=1)\n",
    "def read_sasrec_pred():\n",
    "    return pd.read_parquet(sasrec_pred_path, engine='pyarrow')\n",
    "\n",
    "@lru_cache(maxsize=1)\n",
    "def read_graph_pred():\n",
    "    return pd.read_parquet(graph_pred_path, engine='pyarrow')"
   ]
  },
  {
   "cell_type": "code",
   "execution_count": 2,
   "metadata": {},
   "outputs": [],
   "source": [
    "# softmax normalization\n",
    "def softmax_norm(pred_df, log=False):\n",
    "    new_pred_df = copy.deepcopy(pred_df)\n",
    "    softmax_fn = torch.nn.Softmax(dim=-1)\n",
    "    if log:\n",
    "        all_scores = [np.log(pred_df.iloc[i]['scores'] + 1).tolist() for i in tqdm(range(pred_df.shape[0]))] # [N, 150]\n",
    "    else:  \n",
    "        all_scores = [pred_df.iloc[i]['scores'].tolist() for i in tqdm(range(pred_df.shape[0]))] # [N, 150]\n",
    "    norm_score = softmax_fn(torch.tensor(all_scores, dtype=torch.float)).numpy()\n",
    "    norm_score = [x for x in norm_score]\n",
    "    new_pred_df['scores'] = norm_score\n",
    "    return new_pred_df"
   ]
  },
  {
   "cell_type": "code",
   "execution_count": 6,
   "metadata": {},
   "outputs": [],
   "source": [
    "# log and min max normalization\n",
    "def log_min_max_norm(pred_df):\n",
    "    new_pred_df = copy.deepcopy(pred_df)\n",
    "    all_scores = [pred_df.iloc[i]['scores'] for i in tqdm(range(pred_df.shape[0]))] # [N, 150]\n",
    "    norm_scores = []\n",
    "    for i in tqdm(range(len(pred_df))):\n",
    "        cur_scores = np.log(all_scores[i] + 1)\n",
    "        cur_scores = (cur_scores - cur_scores.min()) / (cur_scores.max() - cur_scores.min())\n",
    "        norm_scores.append(cur_scores)\n",
    "    new_pred_df['scores'] = norm_scores\n",
    "    return new_pred_df "
   ]
  },
  {
   "cell_type": "code",
   "execution_count": 7,
   "metadata": {},
   "outputs": [],
   "source": [
    "# @numba.jit(parallel=True)\n",
    "def merge_all_scores(predictions: list, ground_truth=None):\n",
    "    N = predictions[0].shape[0]\n",
    "    all_scores = []\n",
    "    all_labels = []\n",
    "    all_cands = []\n",
    "    for i in tqdm(range(N)):\n",
    "        scores = []\n",
    "        labels = []\n",
    "        truth = ground_truth.iloc[i] if ground_truth is not None else None\n",
    "        cur_predictions = [p.iloc[i] for p in predictions]\n",
    "        \n",
    "        # get all valid candidates that appears in all three sets\n",
    "        rec_sets = [set(p['next_item_prediction']) for p in cur_predictions] \n",
    "        all_valid_candidates = rec_sets[0] # appear in three sets \n",
    "        for rec_set in rec_sets[1:]:\n",
    "            all_valid_candidates = all_valid_candidates.intersection(rec_set)\n",
    "        all_valid_candidates = list(all_valid_candidates)\n",
    "        if (len(all_valid_candidates) == 0) or (truth not in all_valid_candidates): # ground truth must be in the combined candidates set \n",
    "            continue\n",
    "\n",
    "        id2score = [Counter(dict(zip(p['next_item_prediction'], p['scores']))) for p in cur_predictions]\n",
    "\n",
    "        for cand in all_valid_candidates:\n",
    "            scores.append([d[cand] for d in id2score])\n",
    "            if ground_truth is not None:\n",
    "                if cand == truth:\n",
    "                    labels.append(1)\n",
    "                else:\n",
    "                    labels.append(0)\n",
    "        all_scores.append(scores)\n",
    "        all_labels.append(labels)\n",
    "        all_cands.append(all_valid_candidates)\n",
    "    return all_scores, all_labels, all_cands"
   ]
  },
  {
   "cell_type": "code",
   "execution_count": 75,
   "metadata": {},
   "outputs": [],
   "source": [
    "# @numba.jit(parallel=True)\n",
    "def merge_all_scores_union(predictions: list, ground_truth=None):\n",
    "    N = predictions[0].shape[0]\n",
    "    all_scores = []\n",
    "    all_labels = []\n",
    "    all_cands = []\n",
    "    for i in tqdm(range(N)):\n",
    "        scores = []\n",
    "        labels = []\n",
    "        truth = ground_truth.iloc[i] if ground_truth is not None else None\n",
    "        cur_predictions = [p.iloc[i] for p in predictions]\n",
    "        \n",
    "        # get all valid candidates that appears in all three sets\n",
    "        rec_sets = [set(p['next_item_prediction']) for p in cur_predictions] \n",
    "        all_valid_candidates = rec_sets[0] # appear in three sets \n",
    "        for rec_set in rec_sets[1:]:\n",
    "            all_valid_candidates = all_valid_candidates.union(rec_set)\n",
    "        all_valid_candidates = list(all_valid_candidates)\n",
    "        if (len(all_valid_candidates) == 0) or (truth not in all_valid_candidates): # ground truth must be in the combined candidates set \n",
    "            continue\n",
    "\n",
    "        id2score = [Counter(dict(zip(p['next_item_prediction'], p['scores']))) for p in cur_predictions]\n",
    "\n",
    "        for cand in all_valid_candidates:\n",
    "            scores.append([d[cand] for d in id2score])\n",
    "            if ground_truth is not None:\n",
    "                if cand == truth:\n",
    "                    labels.append(1)\n",
    "                else:\n",
    "                    labels.append(0)\n",
    "        \n",
    "        # padding\n",
    "        num_padding_candidates = len(predictions) * len(predictions[0].iloc[0]['next_item_prediction']) - len(all_valid_candidates)\n",
    "        for i in range(num_padding_candidates):\n",
    "            scores.append([0.0, 0.0, 0.0])\n",
    "            labels.append(-1)\n",
    "            \n",
    "        all_scores.append(scores)\n",
    "        all_labels.append(labels)\n",
    "        all_cands.append(all_valid_candidates)\n",
    "    return all_scores, all_labels, all_cands"
   ]
  },
  {
   "cell_type": "code",
   "execution_count": 64,
   "metadata": {},
   "outputs": [],
   "source": [
    "valid_data = read_valid_data()\n",
    "roberta_pred = read_roberta_pred()\n",
    "sasrec_pred = read_sasrec_pred()\n",
    "graph_pred = read_graph_pred()"
   ]
  },
  {
   "cell_type": "code",
   "execution_count": 65,
   "metadata": {},
   "outputs": [],
   "source": [
    "assert len(valid_data) == len(roberta_pred) and len(valid_data) == len(sasrec_pred) and len(valid_data) == len(graph_pred)"
   ]
  },
  {
   "cell_type": "code",
   "execution_count": 12,
   "metadata": {},
   "outputs": [
    {
     "name": "stderr",
     "output_type": "stream",
     "text": [
      "100%|██████████| 361581/361581 [00:57<00:00, 6326.85it/s]\n"
     ]
    }
   ],
   "source": [
    "common_rate = {'bert-sasrec':[], 'sasrec-graph':[], 'bert-graph':[], 'all':[]}\n",
    "\n",
    "for i in trange(valid_data.shape[0]):\n",
    "    roberta_rec = set(roberta_pred.iloc[i]['next_item_prediction'])\n",
    "    sasrec_rec = set(sasrec_pred.iloc[i]['next_item_prediction'])\n",
    "    graph_rec = set(graph_pred.iloc[i]['next_item_prediction'])\n",
    "    common = roberta_rec.intersection(sasrec_rec)\n",
    "    common_rate['bert-sasrec'].append(len(common)/len(sasrec_rec))\n",
    "    common = graph_rec.intersection(sasrec_rec)\n",
    "    common_rate['sasrec-graph'].append(len(common)/len(sasrec_rec))\n",
    "    common = roberta_rec.intersection(graph_rec)\n",
    "    common_rate['bert-graph'].append(len(common)/len(sasrec_rec))\n",
    "    common = roberta_rec.intersection(sasrec_rec.intersection(graph_rec))\n",
    "    common_rate['all'].append(len(common)/len(sasrec_rec))"
   ]
  },
  {
   "cell_type": "code",
   "execution_count": 13,
   "metadata": {},
   "outputs": [
    {
     "name": "stdout",
     "output_type": "stream",
     "text": [
      "{'bert-sasrec': 0.2713753949092089, 'sasrec-graph': 0.19065977839912304, 'bert-graph': 0.1365519390307197, 'all': 0.1117052057491959}\n"
     ]
    }
   ],
   "source": [
    "rate = {}\n",
    "for k, v in common_rate.items():\n",
    "    rate[k] = np.mean(v)\n",
    "print(rate)"
   ]
  },
  {
   "cell_type": "code",
   "execution_count": 66,
   "metadata": {},
   "outputs": [
    {
     "name": "stderr",
     "output_type": "stream",
     "text": [
      "100%|██████████| 361581/361581 [00:32<00:00, 11246.02it/s]\n",
      "100%|██████████| 361581/361581 [00:35<00:00, 10156.19it/s]\n"
     ]
    }
   ],
   "source": [
    "normlized_sasrec_pred = softmax_norm(sasrec_pred)\n",
    "normlized_roberta_pred = softmax_norm(roberta_pred)"
   ]
  },
  {
   "cell_type": "code",
   "execution_count": 162,
   "metadata": {},
   "outputs": [
    {
     "name": "stderr",
     "output_type": "stream",
     "text": [
      "100%|██████████| 361581/361581 [00:27<00:00, 13250.01it/s]\n"
     ]
    }
   ],
   "source": [
    "normlized_graph_pred = softmax_norm(graph_pred)"
   ]
  },
  {
   "cell_type": "code",
   "execution_count": 147,
   "metadata": {},
   "outputs": [
    {
     "data": {
      "text/html": [
       "<div>\n",
       "<style scoped>\n",
       "    .dataframe tbody tr th:only-of-type {\n",
       "        vertical-align: middle;\n",
       "    }\n",
       "\n",
       "    .dataframe tbody tr th {\n",
       "        vertical-align: top;\n",
       "    }\n",
       "\n",
       "    .dataframe thead th {\n",
       "        text-align: right;\n",
       "    }\n",
       "</style>\n",
       "<table border=\"1\" class=\"dataframe\">\n",
       "  <thead>\n",
       "    <tr style=\"text-align: right;\">\n",
       "      <th></th>\n",
       "      <th>locale</th>\n",
       "      <th>next_item_prediction</th>\n",
       "      <th>scores</th>\n",
       "    </tr>\n",
       "  </thead>\n",
       "  <tbody>\n",
       "    <tr>\n",
       "      <th>0</th>\n",
       "      <td>UK</td>\n",
       "      <td>[B06XG1LZ6Z, B06XGDZVZR, B06XGD9VLV, B076PN1SK...</td>\n",
       "      <td>[43, 41, 37, 22, 20, 15, 15, 13, 10, 9, 8, 7, ...</td>\n",
       "    </tr>\n",
       "    <tr>\n",
       "      <th>1</th>\n",
       "      <td>JP</td>\n",
       "      <td>[B09LCPT9DQ, B09MRYK5CV, B092D5HM5S, B01H6MF6Z...</td>\n",
       "      <td>[503, 51, 44, 42, 29, 28, 26, 20, 20, 19, 19, ...</td>\n",
       "    </tr>\n",
       "    <tr>\n",
       "      <th>2</th>\n",
       "      <td>UK</td>\n",
       "      <td>[B00L529BAC, B01EV58VX2, B003TJATC8, B01M6625M...</td>\n",
       "      <td>[2, 2, 1, 1, 1, 1, 1, 1, 1, 0, 0, 0, 0, 0, 0, ...</td>\n",
       "    </tr>\n",
       "    <tr>\n",
       "      <th>3</th>\n",
       "      <td>UK</td>\n",
       "      <td>[0008532222, 1801314918, 024157563X, 024156343...</td>\n",
       "      <td>[2, 2, 2, 2, 2, 1, 1, 1, 1, 1, 1, 1, 1, 1, 1, ...</td>\n",
       "    </tr>\n",
       "    <tr>\n",
       "      <th>4</th>\n",
       "      <td>JP</td>\n",
       "      <td>[B0B6PF619D, B09BJF6N8K, B0B6P77ZRN, B0B6P6DKN...</td>\n",
       "      <td>[13, 5, 5, 4, 4, 4, 3, 2, 2, 1, 1, 1, 0, 0, 0,...</td>\n",
       "    </tr>\n",
       "    <tr>\n",
       "      <th>5</th>\n",
       "      <td>DE</td>\n",
       "      <td>[B0BD48G63Q, B0BD3DGNT9, B08CRVG7BB, B0953XQY4...</td>\n",
       "      <td>[35, 6, 5, 4, 3, 3, 3, 3, 3, 3, 2, 2, 2, 2, 2,...</td>\n",
       "    </tr>\n",
       "    <tr>\n",
       "      <th>6</th>\n",
       "      <td>DE</td>\n",
       "      <td>[B07BMZYYFZ, B07Q82LRDK, B0045DNZ9Q, B08BR288Z...</td>\n",
       "      <td>[3, 2, 2, 1, 1, 0, 0, 0, 0, 0, 0, 0, 0, 0, 0, ...</td>\n",
       "    </tr>\n",
       "    <tr>\n",
       "      <th>7</th>\n",
       "      <td>UK</td>\n",
       "      <td>[B08FBZ8QSL, B07W6JJ253, B013SL2712, B07W6JP97...</td>\n",
       "      <td>[31, 18, 18, 16, 16, 10, 9, 9, 8, 8, 7, 7, 7, ...</td>\n",
       "    </tr>\n",
       "    <tr>\n",
       "      <th>8</th>\n",
       "      <td>JP</td>\n",
       "      <td>[B0BFPGHSYX, B00B57A5IY, B00LE7TO0K, B086LGXKY...</td>\n",
       "      <td>[19, 15, 15, 12, 11, 10, 9, 8, 8, 8, 8, 7, 7, ...</td>\n",
       "    </tr>\n",
       "    <tr>\n",
       "      <th>9</th>\n",
       "      <td>DE</td>\n",
       "      <td>[B07KQHHYQC, B07MH3K3S8, B07YLZ67Q8, B07KQJH4P...</td>\n",
       "      <td>[11, 7, 6, 6, 5, 5, 4, 3, 3, 3, 2, 2, 2, 2, 2,...</td>\n",
       "    </tr>\n",
       "    <tr>\n",
       "      <th>10</th>\n",
       "      <td>UK</td>\n",
       "      <td>[B01MU4MUHX, B09N959VPS, B096XR7M84, B077P3D31...</td>\n",
       "      <td>[2, 1, 1, 1, 1, 1, 1, 1, 0, 0, 0, 0, 0, 0, 0, ...</td>\n",
       "    </tr>\n",
       "    <tr>\n",
       "      <th>11</th>\n",
       "      <td>UK</td>\n",
       "      <td>[1472271246, 1405951184, 0241990459, 152917691...</td>\n",
       "      <td>[8, 6, 5, 5, 4, 3, 3, 3, 3, 3, 3, 2, 2, 2, 2, ...</td>\n",
       "    </tr>\n",
       "    <tr>\n",
       "      <th>12</th>\n",
       "      <td>UK</td>\n",
       "      <td>[B079RLJDK8, B00NTCH52W, B0B1MPZWJG, B07MLFBJG...</td>\n",
       "      <td>[1, 0, 0, 0, 0, 0, 0, 0, 0, 0, 0, 0, 0, 0, 0, ...</td>\n",
       "    </tr>\n",
       "    <tr>\n",
       "      <th>13</th>\n",
       "      <td>UK</td>\n",
       "      <td>[B08PPDTH9L, B07MSJCPR4, B0761P8SDY, B09VT3KZ2...</td>\n",
       "      <td>[24, 24, 15, 13, 9, 9, 6, 6, 5, 5, 5, 5, 4, 4,...</td>\n",
       "    </tr>\n",
       "    <tr>\n",
       "      <th>14</th>\n",
       "      <td>UK</td>\n",
       "      <td>[B00O9RYS7Q, B07VRWWFJP, B0B6Y61879, B0037RYU6...</td>\n",
       "      <td>[3, 2, 2, 2, 2, 1, 1, 1, 1, 1, 1, 1, 1, 1, 1, ...</td>\n",
       "    </tr>\n",
       "    <tr>\n",
       "      <th>15</th>\n",
       "      <td>UK</td>\n",
       "      <td>[B09BPWHRYQ, B09BPV8Q2X, B089RQGCJ9, B09BPV24J...</td>\n",
       "      <td>[4, 3, 2, 2, 1, 1, 1, 1, 1, 1, 1, 1, 1, 1, 1, ...</td>\n",
       "    </tr>\n",
       "    <tr>\n",
       "      <th>16</th>\n",
       "      <td>UK</td>\n",
       "      <td>[B002AF3GG8, B08R521F92, B0BB3GYZ6J, 152914839...</td>\n",
       "      <td>[5, 4, 3, 3, 2, 2, 2, 2, 2, 1, 1, 1, 1, 1, 1, ...</td>\n",
       "    </tr>\n",
       "    <tr>\n",
       "      <th>17</th>\n",
       "      <td>JP</td>\n",
       "      <td>[B0B9BC1D97, B0B7NGBDZL, B08Z8T8NJR, B09YD82NH...</td>\n",
       "      <td>[2, 2, 1, 1, 1, 0, 0, 0, 0, 0, 0, 0, 0, 0, 0, ...</td>\n",
       "    </tr>\n",
       "    <tr>\n",
       "      <th>18</th>\n",
       "      <td>JP</td>\n",
       "      <td>[B01NCV3YRG, B07TSH8VBP, B07TSH9NDD, B07TTLRKT...</td>\n",
       "      <td>[7, 5, 3, 3, 3, 2, 2, 2, 2, 2, 2, 2, 2, 2, 1, ...</td>\n",
       "    </tr>\n",
       "    <tr>\n",
       "      <th>19</th>\n",
       "      <td>UK</td>\n",
       "      <td>[B0BFBQYX4X, B0BFBQ62N6, 0241407478, B09TZMK2K...</td>\n",
       "      <td>[18, 11, 4, 3, 3, 3, 3, 2, 2, 2, 2, 2, 1, 1, 1...</td>\n",
       "    </tr>\n",
       "  </tbody>\n",
       "</table>\n",
       "</div>"
      ],
      "text/plain": [
       "   locale                               next_item_prediction  \\\n",
       "0      UK  [B06XG1LZ6Z, B06XGDZVZR, B06XGD9VLV, B076PN1SK...   \n",
       "1      JP  [B09LCPT9DQ, B09MRYK5CV, B092D5HM5S, B01H6MF6Z...   \n",
       "2      UK  [B00L529BAC, B01EV58VX2, B003TJATC8, B01M6625M...   \n",
       "3      UK  [0008532222, 1801314918, 024157563X, 024156343...   \n",
       "4      JP  [B0B6PF619D, B09BJF6N8K, B0B6P77ZRN, B0B6P6DKN...   \n",
       "5      DE  [B0BD48G63Q, B0BD3DGNT9, B08CRVG7BB, B0953XQY4...   \n",
       "6      DE  [B07BMZYYFZ, B07Q82LRDK, B0045DNZ9Q, B08BR288Z...   \n",
       "7      UK  [B08FBZ8QSL, B07W6JJ253, B013SL2712, B07W6JP97...   \n",
       "8      JP  [B0BFPGHSYX, B00B57A5IY, B00LE7TO0K, B086LGXKY...   \n",
       "9      DE  [B07KQHHYQC, B07MH3K3S8, B07YLZ67Q8, B07KQJH4P...   \n",
       "10     UK  [B01MU4MUHX, B09N959VPS, B096XR7M84, B077P3D31...   \n",
       "11     UK  [1472271246, 1405951184, 0241990459, 152917691...   \n",
       "12     UK  [B079RLJDK8, B00NTCH52W, B0B1MPZWJG, B07MLFBJG...   \n",
       "13     UK  [B08PPDTH9L, B07MSJCPR4, B0761P8SDY, B09VT3KZ2...   \n",
       "14     UK  [B00O9RYS7Q, B07VRWWFJP, B0B6Y61879, B0037RYU6...   \n",
       "15     UK  [B09BPWHRYQ, B09BPV8Q2X, B089RQGCJ9, B09BPV24J...   \n",
       "16     UK  [B002AF3GG8, B08R521F92, B0BB3GYZ6J, 152914839...   \n",
       "17     JP  [B0B9BC1D97, B0B7NGBDZL, B08Z8T8NJR, B09YD82NH...   \n",
       "18     JP  [B01NCV3YRG, B07TSH8VBP, B07TSH9NDD, B07TTLRKT...   \n",
       "19     UK  [B0BFBQYX4X, B0BFBQ62N6, 0241407478, B09TZMK2K...   \n",
       "\n",
       "                                               scores  \n",
       "0   [43, 41, 37, 22, 20, 15, 15, 13, 10, 9, 8, 7, ...  \n",
       "1   [503, 51, 44, 42, 29, 28, 26, 20, 20, 19, 19, ...  \n",
       "2   [2, 2, 1, 1, 1, 1, 1, 1, 1, 0, 0, 0, 0, 0, 0, ...  \n",
       "3   [2, 2, 2, 2, 2, 1, 1, 1, 1, 1, 1, 1, 1, 1, 1, ...  \n",
       "4   [13, 5, 5, 4, 4, 4, 3, 2, 2, 1, 1, 1, 0, 0, 0,...  \n",
       "5   [35, 6, 5, 4, 3, 3, 3, 3, 3, 3, 2, 2, 2, 2, 2,...  \n",
       "6   [3, 2, 2, 1, 1, 0, 0, 0, 0, 0, 0, 0, 0, 0, 0, ...  \n",
       "7   [31, 18, 18, 16, 16, 10, 9, 9, 8, 8, 7, 7, 7, ...  \n",
       "8   [19, 15, 15, 12, 11, 10, 9, 8, 8, 8, 8, 7, 7, ...  \n",
       "9   [11, 7, 6, 6, 5, 5, 4, 3, 3, 3, 2, 2, 2, 2, 2,...  \n",
       "10  [2, 1, 1, 1, 1, 1, 1, 1, 0, 0, 0, 0, 0, 0, 0, ...  \n",
       "11  [8, 6, 5, 5, 4, 3, 3, 3, 3, 3, 3, 2, 2, 2, 2, ...  \n",
       "12  [1, 0, 0, 0, 0, 0, 0, 0, 0, 0, 0, 0, 0, 0, 0, ...  \n",
       "13  [24, 24, 15, 13, 9, 9, 6, 6, 5, 5, 5, 5, 4, 4,...  \n",
       "14  [3, 2, 2, 2, 2, 1, 1, 1, 1, 1, 1, 1, 1, 1, 1, ...  \n",
       "15  [4, 3, 2, 2, 1, 1, 1, 1, 1, 1, 1, 1, 1, 1, 1, ...  \n",
       "16  [5, 4, 3, 3, 2, 2, 2, 2, 2, 1, 1, 1, 1, 1, 1, ...  \n",
       "17  [2, 2, 1, 1, 1, 0, 0, 0, 0, 0, 0, 0, 0, 0, 0, ...  \n",
       "18  [7, 5, 3, 3, 3, 2, 2, 2, 2, 2, 2, 2, 2, 2, 1, ...  \n",
       "19  [18, 11, 4, 3, 3, 3, 3, 2, 2, 2, 2, 2, 1, 1, 1...  "
      ]
     },
     "execution_count": 147,
     "metadata": {},
     "output_type": "execute_result"
    }
   ],
   "source": [
    "graph_pred.head(20)"
   ]
  },
  {
   "cell_type": "code",
   "execution_count": 163,
   "metadata": {},
   "outputs": [
    {
     "data": {
      "text/html": [
       "<div>\n",
       "<style scoped>\n",
       "    .dataframe tbody tr th:only-of-type {\n",
       "        vertical-align: middle;\n",
       "    }\n",
       "\n",
       "    .dataframe tbody tr th {\n",
       "        vertical-align: top;\n",
       "    }\n",
       "\n",
       "    .dataframe thead th {\n",
       "        text-align: right;\n",
       "    }\n",
       "</style>\n",
       "<table border=\"1\" class=\"dataframe\">\n",
       "  <thead>\n",
       "    <tr style=\"text-align: right;\">\n",
       "      <th></th>\n",
       "      <th>locale</th>\n",
       "      <th>next_item_prediction</th>\n",
       "      <th>scores</th>\n",
       "    </tr>\n",
       "  </thead>\n",
       "  <tbody>\n",
       "    <tr>\n",
       "      <th>0</th>\n",
       "      <td>UK</td>\n",
       "      <td>[B06XG1LZ6Z, B06XGDZVZR, B06XGD9VLV, B076PN1SK...</td>\n",
       "      <td>[0.87887824, 0.11894324, 0.0021785214, 6.66414...</td>\n",
       "    </tr>\n",
       "    <tr>\n",
       "      <th>1</th>\n",
       "      <td>JP</td>\n",
       "      <td>[B09LCPT9DQ, B09MRYK5CV, B092D5HM5S, B01H6MF6Z...</td>\n",
       "      <td>[1.0, 0.0, 0.0, 0.0, 0.0, 0.0, 0.0, 0.0, 0.0, ...</td>\n",
       "    </tr>\n",
       "    <tr>\n",
       "      <th>2</th>\n",
       "      <td>UK</td>\n",
       "      <td>[B00L529BAC, B01EV58VX2, B003TJATC8, B01M6625M...</td>\n",
       "      <td>[0.04227002, 0.04227002, 0.015550272, 0.015550...</td>\n",
       "    </tr>\n",
       "    <tr>\n",
       "      <th>3</th>\n",
       "      <td>UK</td>\n",
       "      <td>[0008532222, 1801314918, 024157563X, 024156343...</td>\n",
       "      <td>[0.03528044, 0.03528044, 0.03528044, 0.0352804...</td>\n",
       "    </tr>\n",
       "    <tr>\n",
       "      <th>4</th>\n",
       "      <td>JP</td>\n",
       "      <td>[B0B6PF619D, B09BJF6N8K, B0B6P77ZRN, B0B6P6DKN...</td>\n",
       "      <td>[0.99855167, 0.00033497676, 0.00033497676, 0.0...</td>\n",
       "    </tr>\n",
       "    <tr>\n",
       "      <th>5</th>\n",
       "      <td>DE</td>\n",
       "      <td>[B0BD48G63Q, B0BD3DGNT9, B08CRVG7BB, B0953XQY4...</td>\n",
       "      <td>[1.0, 2.5436657e-13, 9.357623e-14, 3.442477e-1...</td>\n",
       "    </tr>\n",
       "    <tr>\n",
       "      <th>6</th>\n",
       "      <td>DE</td>\n",
       "      <td>[B07BMZYYFZ, B07Q82LRDK, B0045DNZ9Q, B08BR288Z...</td>\n",
       "      <td>[0.10839459, 0.039876144, 0.039876144, 0.01466...</td>\n",
       "    </tr>\n",
       "    <tr>\n",
       "      <th>7</th>\n",
       "      <td>UK</td>\n",
       "      <td>[B08FBZ8QSL, B07W6JJ253, B013SL2712, B07W6JP97...</td>\n",
       "      <td>[0.99999475, 2.2603176e-06, 2.2603176e-06, 3.0...</td>\n",
       "    </tr>\n",
       "    <tr>\n",
       "      <th>8</th>\n",
       "      <td>JP</td>\n",
       "      <td>[B0BFPGHSYX, B00B57A5IY, B00LE7TO0K, B086LGXKY...</td>\n",
       "      <td>[0.96326417, 0.0176428, 0.0176428, 0.000878383...</td>\n",
       "    </tr>\n",
       "    <tr>\n",
       "      <th>9</th>\n",
       "      <td>DE</td>\n",
       "      <td>[B07KQHHYQC, B07MH3K3S8, B07YLZ67Q8, B07KQJH4P...</td>\n",
       "      <td>[0.95961535, 0.017575968, 0.0064658374, 0.0064...</td>\n",
       "    </tr>\n",
       "    <tr>\n",
       "      <th>10</th>\n",
       "      <td>UK</td>\n",
       "      <td>[B01MU4MUHX, B09N959VPS, B096XR7M84, B077P3D31...</td>\n",
       "      <td>[0.04387357, 0.016140185, 0.016140185, 0.01614...</td>\n",
       "    </tr>\n",
       "    <tr>\n",
       "      <th>11</th>\n",
       "      <td>UK</td>\n",
       "      <td>[1472271246, 1405951184, 0241990459, 152917691...</td>\n",
       "      <td>[0.69793785, 0.094455615, 0.03474828, 0.034748...</td>\n",
       "    </tr>\n",
       "    <tr>\n",
       "      <th>12</th>\n",
       "      <td>UK</td>\n",
       "      <td>[B079RLJDK8, B00NTCH52W, B0B1MPZWJG, B07MLFBJG...</td>\n",
       "      <td>[0.01791664, 0.0065911636, 0.0065911636, 0.006...</td>\n",
       "    </tr>\n",
       "    <tr>\n",
       "      <th>13</th>\n",
       "      <td>UK</td>\n",
       "      <td>[B08PPDTH9L, B07MSJCPR4, B0761P8SDY, B09VT3KZ2...</td>\n",
       "      <td>[0.49996483, 0.49996483, 6.1700564e-05, 8.3502...</td>\n",
       "    </tr>\n",
       "    <tr>\n",
       "      <th>14</th>\n",
       "      <td>UK</td>\n",
       "      <td>[B00O9RYS7Q, B07VRWWFJP, B0B6Y61879, B0037RYU6...</td>\n",
       "      <td>[0.08904316, 0.03275715, 0.03275715, 0.0327571...</td>\n",
       "    </tr>\n",
       "    <tr>\n",
       "      <th>15</th>\n",
       "      <td>UK</td>\n",
       "      <td>[B09BPWHRYQ, B09BPV8Q2X, B089RQGCJ9, B09BPV24J...</td>\n",
       "      <td>[0.21178532, 0.07791147, 0.028662026, 0.028662...</td>\n",
       "    </tr>\n",
       "    <tr>\n",
       "      <th>16</th>\n",
       "      <td>UK</td>\n",
       "      <td>[B002AF3GG8, B08R521F92, B0BB3GYZ6J, 152914839...</td>\n",
       "      <td>[0.3128476, 0.115090206, 0.04233932, 0.0423393...</td>\n",
       "    </tr>\n",
       "    <tr>\n",
       "      <th>17</th>\n",
       "      <td>JP</td>\n",
       "      <td>[B0B9BC1D97, B0B7NGBDZL, B08Z8T8NJR, B09YD82NH...</td>\n",
       "      <td>[0.044000037, 0.044000037, 0.016186709, 0.0161...</td>\n",
       "    </tr>\n",
       "    <tr>\n",
       "      <th>18</th>\n",
       "      <td>JP</td>\n",
       "      <td>[B01NCV3YRG, B07TSH8VBP, B07TSH9NDD, B07TTLRKT...</td>\n",
       "      <td>[0.7103065, 0.09612954, 0.013009718, 0.0130097...</td>\n",
       "    </tr>\n",
       "    <tr>\n",
       "      <th>19</th>\n",
       "      <td>UK</td>\n",
       "      <td>[B0BFBQYX4X, B0BFBQ62N6, 0241407478, B09TZMK2K...</td>\n",
       "      <td>[0.9990835, 0.0009110462, 8.307666e-07, 3.0562...</td>\n",
       "    </tr>\n",
       "  </tbody>\n",
       "</table>\n",
       "</div>"
      ],
      "text/plain": [
       "   locale                               next_item_prediction  \\\n",
       "0      UK  [B06XG1LZ6Z, B06XGDZVZR, B06XGD9VLV, B076PN1SK...   \n",
       "1      JP  [B09LCPT9DQ, B09MRYK5CV, B092D5HM5S, B01H6MF6Z...   \n",
       "2      UK  [B00L529BAC, B01EV58VX2, B003TJATC8, B01M6625M...   \n",
       "3      UK  [0008532222, 1801314918, 024157563X, 024156343...   \n",
       "4      JP  [B0B6PF619D, B09BJF6N8K, B0B6P77ZRN, B0B6P6DKN...   \n",
       "5      DE  [B0BD48G63Q, B0BD3DGNT9, B08CRVG7BB, B0953XQY4...   \n",
       "6      DE  [B07BMZYYFZ, B07Q82LRDK, B0045DNZ9Q, B08BR288Z...   \n",
       "7      UK  [B08FBZ8QSL, B07W6JJ253, B013SL2712, B07W6JP97...   \n",
       "8      JP  [B0BFPGHSYX, B00B57A5IY, B00LE7TO0K, B086LGXKY...   \n",
       "9      DE  [B07KQHHYQC, B07MH3K3S8, B07YLZ67Q8, B07KQJH4P...   \n",
       "10     UK  [B01MU4MUHX, B09N959VPS, B096XR7M84, B077P3D31...   \n",
       "11     UK  [1472271246, 1405951184, 0241990459, 152917691...   \n",
       "12     UK  [B079RLJDK8, B00NTCH52W, B0B1MPZWJG, B07MLFBJG...   \n",
       "13     UK  [B08PPDTH9L, B07MSJCPR4, B0761P8SDY, B09VT3KZ2...   \n",
       "14     UK  [B00O9RYS7Q, B07VRWWFJP, B0B6Y61879, B0037RYU6...   \n",
       "15     UK  [B09BPWHRYQ, B09BPV8Q2X, B089RQGCJ9, B09BPV24J...   \n",
       "16     UK  [B002AF3GG8, B08R521F92, B0BB3GYZ6J, 152914839...   \n",
       "17     JP  [B0B9BC1D97, B0B7NGBDZL, B08Z8T8NJR, B09YD82NH...   \n",
       "18     JP  [B01NCV3YRG, B07TSH8VBP, B07TSH9NDD, B07TTLRKT...   \n",
       "19     UK  [B0BFBQYX4X, B0BFBQ62N6, 0241407478, B09TZMK2K...   \n",
       "\n",
       "                                               scores  \n",
       "0   [0.87887824, 0.11894324, 0.0021785214, 6.66414...  \n",
       "1   [1.0, 0.0, 0.0, 0.0, 0.0, 0.0, 0.0, 0.0, 0.0, ...  \n",
       "2   [0.04227002, 0.04227002, 0.015550272, 0.015550...  \n",
       "3   [0.03528044, 0.03528044, 0.03528044, 0.0352804...  \n",
       "4   [0.99855167, 0.00033497676, 0.00033497676, 0.0...  \n",
       "5   [1.0, 2.5436657e-13, 9.357623e-14, 3.442477e-1...  \n",
       "6   [0.10839459, 0.039876144, 0.039876144, 0.01466...  \n",
       "7   [0.99999475, 2.2603176e-06, 2.2603176e-06, 3.0...  \n",
       "8   [0.96326417, 0.0176428, 0.0176428, 0.000878383...  \n",
       "9   [0.95961535, 0.017575968, 0.0064658374, 0.0064...  \n",
       "10  [0.04387357, 0.016140185, 0.016140185, 0.01614...  \n",
       "11  [0.69793785, 0.094455615, 0.03474828, 0.034748...  \n",
       "12  [0.01791664, 0.0065911636, 0.0065911636, 0.006...  \n",
       "13  [0.49996483, 0.49996483, 6.1700564e-05, 8.3502...  \n",
       "14  [0.08904316, 0.03275715, 0.03275715, 0.0327571...  \n",
       "15  [0.21178532, 0.07791147, 0.028662026, 0.028662...  \n",
       "16  [0.3128476, 0.115090206, 0.04233932, 0.0423393...  \n",
       "17  [0.044000037, 0.044000037, 0.016186709, 0.0161...  \n",
       "18  [0.7103065, 0.09612954, 0.013009718, 0.0130097...  \n",
       "19  [0.9990835, 0.0009110462, 8.307666e-07, 3.0562...  "
      ]
     },
     "execution_count": 163,
     "metadata": {},
     "output_type": "execute_result"
    }
   ],
   "source": [
    "normlized_graph_pred.head(20)"
   ]
  },
  {
   "cell_type": "code",
   "execution_count": 164,
   "metadata": {},
   "outputs": [
    {
     "data": {
      "text/plain": [
       "(  locale                               next_item_prediction sess_id  \\\n",
       " 0     UK  [B06XG1LZ6Z, B06XGD9VLV, B076PN1SKG, B01MYUDYP...       0   \n",
       " 1     JP  [B09LCPT9DQ, B09MRYK5CV, B0BB5VQ1L8, B084T9C6W...       1   \n",
       " \n",
       "                                               scores  \n",
       " 0  [0.2711737, 0.16762927, 0.16571583, 0.12527893...  \n",
       " 1  [0.910162, 0.019133814, 0.0131163215, 0.010162...  ,\n",
       "                                 next_item_prediction  \\\n",
       " 0  [B096ZT4DK4, B09XCGNN6F, B09XCHDLYR, B06XGD9VL...   \n",
       " 1  [B08ZHJKF28, B09LCPT9DQ, B09MRYK5CV, B09G9YRX1...   \n",
       " \n",
       "                                               scores  \n",
       " 0  [0.01427838, 0.013319071, 0.013319071, 0.01237...  \n",
       " 1  [0.0713702, 0.03977809, 0.035806235, 0.0334270...  ,\n",
       "   locale                               next_item_prediction  \\\n",
       " 0     UK  [B06XG1LZ6Z, B06XGDZVZR, B06XGD9VLV, B076PN1SK...   \n",
       " 1     JP  [B09LCPT9DQ, B09MRYK5CV, B092D5HM5S, B01H6MF6Z...   \n",
       " \n",
       "                                               scores  \n",
       " 0  [0.87887824, 0.11894324, 0.0021785214, 6.66414...  \n",
       " 1  [1.0, 0.0, 0.0, 0.0, 0.0, 0.0, 0.0, 0.0, 0.0, ...  )"
      ]
     },
     "execution_count": 164,
     "metadata": {},
     "output_type": "execute_result"
    }
   ],
   "source": [
    "normlized_sasrec_pred.head(2), normlized_roberta_pred.head(2), normlized_graph_pred.head(2)"
   ]
  },
  {
   "cell_type": "code",
   "execution_count": 165,
   "metadata": {},
   "outputs": [
    {
     "name": "stderr",
     "output_type": "stream",
     "text": [
      "100%|██████████| 361581/361581 [15:32<00:00, 387.59it/s]  \n"
     ]
    }
   ],
   "source": [
    "all_scores, all_labels, _ = merge_all_scores_union([normlized_sasrec_pred, normlized_roberta_pred, normlized_graph_pred], valid_data['next_item'])"
   ]
  },
  {
   "cell_type": "code",
   "execution_count": 166,
   "metadata": {},
   "outputs": [],
   "source": [
    "all_scores = np.array(all_scores, dtype=np.float32)\n",
    "all_labels = np.array(all_labels, dtype=np.float32)"
   ]
  },
  {
   "cell_type": "code",
   "execution_count": 96,
   "metadata": {},
   "outputs": [],
   "source": [
    "np.save('scores_450_union.npy', all_scores)\n",
    "np.save('labels_450_union.npy', all_labels)"
   ]
  },
  {
   "cell_type": "code",
   "execution_count": 173,
   "metadata": {},
   "outputs": [],
   "source": [
    "all_scores = np.load('scores_450_union_all_softmax.npy')\n",
    "all_labels = np.load('labels_450_union_all_softmax.npy')"
   ]
  },
  {
   "cell_type": "code",
   "execution_count": 174,
   "metadata": {},
   "outputs": [
    {
     "data": {
      "text/plain": [
       "numpy.float32"
      ]
     },
     "execution_count": 174,
     "metadata": {},
     "output_type": "execute_result"
    }
   ],
   "source": [
    "type(all_scores[0][0][0])"
   ]
  },
  {
   "cell_type": "code",
   "execution_count": 175,
   "metadata": {},
   "outputs": [],
   "source": [
    "class ScoreDataset(torch.utils.data.Dataset):\n",
    "    def __init__(self, scores, labels):\n",
    "        self.scores = scores\n",
    "        self.labels = labels\n",
    "        print(len(scores), len(labels))\n",
    "\n",
    "    def __getitem__(self, index):\n",
    "        return {'scores' : self.scores[index], 'labels' : self.labels[index]}\n",
    "\n",
    "    def __len__(self):\n",
    "        return len(self.scores)\n"
   ]
  },
  {
   "cell_type": "code",
   "execution_count": 184,
   "metadata": {},
   "outputs": [],
   "source": [
    "class EmsembleWeight(torch.nn.Module):\n",
    "    def __init__(self, n_models):\n",
    "        super().__init__()\n",
    "        self.weights = torch.nn.Parameter(torch.ones(n_models, dtype=torch.float), requires_grad=True)\n",
    "        self.relu_fn = torch.nn.ReLU()\n",
    "\n",
    "    def forward(self, scores):\n",
    "        # scores : [B, L, 3], w : [3]\n",
    "        w = torch.softmax(self.weights, dim=-1)\n",
    "        weighted_score = torch.matmul(scores, w.view(-1,1))\n",
    "        return weighted_score.squeeze()\n",
    "\n",
    "    def cal_loss(self, batch):\n",
    "        # batch['labels'] : [B, L]\n",
    "        score = self.forward(batch['scores']) # [B, L]\n",
    "        \n",
    "        # pos score\n",
    "        pos_score = score[batch['labels'] == 1] # [B]\n",
    "        assert len(pos_score) == len(batch['scores']) \n",
    "        pos_score = pos_score.view(-1, 1) # [B, 1]\n",
    "\n",
    "        # all score \n",
    "        score[batch['labels'] == -1] = -float('inf')\n",
    "\n",
    "        delta = score - pos_score # [B, L]\n",
    "        delta = self.relu_fn(delta + 0.15) # pos with big difference will be omited\n",
    "\n",
    "        # num of candidates \n",
    "        num_can = (batch['labels'] != -1).sum(dim=-1) # [B]\n",
    "        loss = (delta.sum(dim=-1) / num_can).mean()\n",
    "        return loss"
   ]
  },
  {
   "cell_type": "code",
   "execution_count": 185,
   "metadata": {},
   "outputs": [
    {
     "name": "stdout",
     "output_type": "stream",
     "text": [
      "344846 344846\n"
     ]
    }
   ],
   "source": [
    "dataset = ScoreDataset(all_scores, all_labels)\n",
    "loader = torch.utils.data.DataLoader(dataset, batch_size=2048, shuffle=True)"
   ]
  },
  {
   "cell_type": "code",
   "execution_count": 186,
   "metadata": {},
   "outputs": [],
   "source": [
    "model = EmsembleWeight(3)\n",
    "model = model.cuda()\n",
    "optimizer = torch.optim.Adam(model.parameters(), lr=0.001)"
   ]
  },
  {
   "cell_type": "code",
   "execution_count": 187,
   "metadata": {},
   "outputs": [
    {
     "name": "stderr",
     "output_type": "stream",
     "text": [
      "100%|██████████| 169/169 [00:07<00:00, 21.35it/s]\n"
     ]
    },
    {
     "name": "stdout",
     "output_type": "stream",
     "text": [
      "Epoch: 0: loss: 0.10061\n",
      "Current weight: tensor([0.3617, 0.2716, 0.3667], device='cuda:0')\n"
     ]
    },
    {
     "name": "stderr",
     "output_type": "stream",
     "text": [
      "100%|██████████| 169/169 [00:06<00:00, 26.22it/s]\n"
     ]
    },
    {
     "name": "stdout",
     "output_type": "stream",
     "text": [
      "Epoch: 1: loss: 0.10041\n",
      "Current weight: tensor([0.3779, 0.2276, 0.3944], device='cuda:0')\n"
     ]
    },
    {
     "name": "stderr",
     "output_type": "stream",
     "text": [
      "100%|██████████| 169/169 [00:09<00:00, 18.49it/s]\n"
     ]
    },
    {
     "name": "stdout",
     "output_type": "stream",
     "text": [
      "Epoch: 2: loss: 0.10030\n",
      "Current weight: tensor([0.3861, 0.1952, 0.4187], device='cuda:0')\n"
     ]
    },
    {
     "name": "stderr",
     "output_type": "stream",
     "text": [
      "100%|██████████| 169/169 [00:06<00:00, 24.82it/s]\n"
     ]
    },
    {
     "name": "stdout",
     "output_type": "stream",
     "text": [
      "Epoch: 3: loss: 0.10026\n",
      "Current weight: tensor([0.3901, 0.1711, 0.4388], device='cuda:0')\n"
     ]
    },
    {
     "name": "stderr",
     "output_type": "stream",
     "text": [
      "100%|██████████| 169/169 [00:07<00:00, 23.92it/s]\n"
     ]
    },
    {
     "name": "stdout",
     "output_type": "stream",
     "text": [
      "Epoch: 4: loss: 0.10020\n",
      "Current weight: tensor([0.3941, 0.1516, 0.4542], device='cuda:0')\n"
     ]
    },
    {
     "name": "stderr",
     "output_type": "stream",
     "text": [
      "100%|██████████| 169/169 [00:06<00:00, 25.69it/s]\n"
     ]
    },
    {
     "name": "stdout",
     "output_type": "stream",
     "text": [
      "Epoch: 5: loss: 0.10018\n",
      "Current weight: tensor([0.3966, 0.1361, 0.4673], device='cuda:0')\n"
     ]
    },
    {
     "name": "stderr",
     "output_type": "stream",
     "text": [
      "100%|██████████| 169/169 [00:06<00:00, 27.47it/s]\n"
     ]
    },
    {
     "name": "stdout",
     "output_type": "stream",
     "text": [
      "Epoch: 6: loss: 0.10015\n",
      "Current weight: tensor([0.3986, 0.1234, 0.4779], device='cuda:0')\n"
     ]
    },
    {
     "name": "stderr",
     "output_type": "stream",
     "text": [
      "100%|██████████| 169/169 [00:06<00:00, 27.21it/s]\n"
     ]
    },
    {
     "name": "stdout",
     "output_type": "stream",
     "text": [
      "Epoch: 7: loss: 0.10013\n",
      "Current weight: tensor([0.3985, 0.1128, 0.4887], device='cuda:0')\n"
     ]
    },
    {
     "name": "stderr",
     "output_type": "stream",
     "text": [
      "100%|██████████| 169/169 [00:06<00:00, 27.01it/s]\n"
     ]
    },
    {
     "name": "stdout",
     "output_type": "stream",
     "text": [
      "Epoch: 8: loss: 0.10011\n",
      "Current weight: tensor([0.4012, 0.1033, 0.4955], device='cuda:0')\n"
     ]
    },
    {
     "name": "stderr",
     "output_type": "stream",
     "text": [
      "100%|██████████| 169/169 [00:06<00:00, 26.85it/s]\n"
     ]
    },
    {
     "name": "stdout",
     "output_type": "stream",
     "text": [
      "Epoch: 9: loss: 0.10013\n",
      "Current weight: tensor([0.4027, 0.0952, 0.5021], device='cuda:0')\n"
     ]
    },
    {
     "name": "stderr",
     "output_type": "stream",
     "text": [
      "100%|██████████| 169/169 [00:06<00:00, 25.28it/s]\n"
     ]
    },
    {
     "name": "stdout",
     "output_type": "stream",
     "text": [
      "Epoch: 10: loss: 0.10010\n",
      "Current weight: tensor([0.4051, 0.0882, 0.5067], device='cuda:0')\n"
     ]
    },
    {
     "name": "stderr",
     "output_type": "stream",
     "text": [
      "100%|██████████| 169/169 [00:06<00:00, 25.22it/s]\n"
     ]
    },
    {
     "name": "stdout",
     "output_type": "stream",
     "text": [
      "Epoch: 11: loss: 0.10010\n",
      "Current weight: tensor([0.4029, 0.0817, 0.5154], device='cuda:0')\n"
     ]
    },
    {
     "name": "stderr",
     "output_type": "stream",
     "text": [
      "100%|██████████| 169/169 [00:06<00:00, 27.95it/s]\n"
     ]
    },
    {
     "name": "stdout",
     "output_type": "stream",
     "text": [
      "Epoch: 12: loss: 0.10009\n",
      "Current weight: tensor([0.4054, 0.0761, 0.5185], device='cuda:0')\n"
     ]
    },
    {
     "name": "stderr",
     "output_type": "stream",
     "text": [
      "100%|██████████| 169/169 [00:06<00:00, 27.16it/s]\n"
     ]
    },
    {
     "name": "stdout",
     "output_type": "stream",
     "text": [
      "Epoch: 13: loss: 0.10009\n",
      "Current weight: tensor([0.4056, 0.0710, 0.5234], device='cuda:0')\n"
     ]
    },
    {
     "name": "stderr",
     "output_type": "stream",
     "text": [
      "100%|██████████| 169/169 [00:06<00:00, 26.81it/s]\n"
     ]
    },
    {
     "name": "stdout",
     "output_type": "stream",
     "text": [
      "Epoch: 14: loss: 0.10008\n",
      "Current weight: tensor([0.4082, 0.0663, 0.5255], device='cuda:0')\n"
     ]
    },
    {
     "name": "stderr",
     "output_type": "stream",
     "text": [
      "100%|██████████| 169/169 [00:06<00:00, 26.87it/s]\n"
     ]
    },
    {
     "name": "stdout",
     "output_type": "stream",
     "text": [
      "Epoch: 15: loss: 0.10007\n",
      "Current weight: tensor([0.4093, 0.0620, 0.5287], device='cuda:0')\n"
     ]
    },
    {
     "name": "stderr",
     "output_type": "stream",
     "text": [
      "100%|██████████| 169/169 [00:06<00:00, 26.14it/s]\n"
     ]
    },
    {
     "name": "stdout",
     "output_type": "stream",
     "text": [
      "Epoch: 16: loss: 0.10007\n",
      "Current weight: tensor([0.4100, 0.0581, 0.5318], device='cuda:0')\n"
     ]
    },
    {
     "name": "stderr",
     "output_type": "stream",
     "text": [
      "100%|██████████| 169/169 [00:06<00:00, 25.66it/s]\n"
     ]
    },
    {
     "name": "stdout",
     "output_type": "stream",
     "text": [
      "Epoch: 17: loss: 0.10008\n",
      "Current weight: tensor([0.4123, 0.0546, 0.5331], device='cuda:0')\n"
     ]
    },
    {
     "name": "stderr",
     "output_type": "stream",
     "text": [
      "100%|██████████| 169/169 [00:06<00:00, 27.69it/s]\n"
     ]
    },
    {
     "name": "stdout",
     "output_type": "stream",
     "text": [
      "Epoch: 18: loss: 0.10008\n",
      "Current weight: tensor([0.4106, 0.0513, 0.5380], device='cuda:0')\n"
     ]
    },
    {
     "name": "stderr",
     "output_type": "stream",
     "text": [
      "100%|██████████| 169/169 [00:06<00:00, 27.13it/s]\n"
     ]
    },
    {
     "name": "stdout",
     "output_type": "stream",
     "text": [
      "Epoch: 19: loss: 0.10006\n",
      "Current weight: tensor([0.4109, 0.0483, 0.5408], device='cuda:0')\n"
     ]
    },
    {
     "name": "stderr",
     "output_type": "stream",
     "text": [
      "100%|██████████| 169/169 [00:06<00:00, 27.53it/s]\n"
     ]
    },
    {
     "name": "stdout",
     "output_type": "stream",
     "text": [
      "Epoch: 20: loss: 0.10006\n",
      "Current weight: tensor([0.4145, 0.0456, 0.5399], device='cuda:0')\n"
     ]
    },
    {
     "name": "stderr",
     "output_type": "stream",
     "text": [
      "100%|██████████| 169/169 [00:12<00:00, 13.48it/s]\n"
     ]
    },
    {
     "name": "stdout",
     "output_type": "stream",
     "text": [
      "Epoch: 21: loss: 0.10006\n",
      "Current weight: tensor([0.4130, 0.0430, 0.5439], device='cuda:0')\n"
     ]
    },
    {
     "name": "stderr",
     "output_type": "stream",
     "text": [
      "100%|██████████| 169/169 [00:05<00:00, 28.18it/s]\n"
     ]
    },
    {
     "name": "stdout",
     "output_type": "stream",
     "text": [
      "Epoch: 22: loss: 0.10005\n",
      "Current weight: tensor([0.4149, 0.0407, 0.5444], device='cuda:0')\n"
     ]
    },
    {
     "name": "stderr",
     "output_type": "stream",
     "text": [
      "100%|██████████| 169/169 [00:06<00:00, 28.13it/s]\n"
     ]
    },
    {
     "name": "stdout",
     "output_type": "stream",
     "text": [
      "Epoch: 23: loss: 0.10006\n",
      "Current weight: tensor([0.4162, 0.0384, 0.5454], device='cuda:0')\n"
     ]
    },
    {
     "name": "stderr",
     "output_type": "stream",
     "text": [
      "100%|██████████| 169/169 [00:06<00:00, 27.03it/s]\n"
     ]
    },
    {
     "name": "stdout",
     "output_type": "stream",
     "text": [
      "Epoch: 24: loss: 0.10005\n",
      "Current weight: tensor([0.4153, 0.0364, 0.5483], device='cuda:0')\n"
     ]
    },
    {
     "name": "stderr",
     "output_type": "stream",
     "text": [
      "100%|██████████| 169/169 [00:06<00:00, 24.29it/s]\n"
     ]
    },
    {
     "name": "stdout",
     "output_type": "stream",
     "text": [
      "Epoch: 25: loss: 0.10005\n",
      "Current weight: tensor([0.4162, 0.0345, 0.5493], device='cuda:0')\n"
     ]
    },
    {
     "name": "stderr",
     "output_type": "stream",
     "text": [
      "100%|██████████| 169/169 [00:06<00:00, 26.88it/s]\n"
     ]
    },
    {
     "name": "stdout",
     "output_type": "stream",
     "text": [
      "Epoch: 26: loss: 0.10005\n",
      "Current weight: tensor([0.4151, 0.0327, 0.5522], device='cuda:0')\n"
     ]
    },
    {
     "name": "stderr",
     "output_type": "stream",
     "text": [
      "100%|██████████| 169/169 [00:06<00:00, 26.83it/s]\n"
     ]
    },
    {
     "name": "stdout",
     "output_type": "stream",
     "text": [
      "Epoch: 27: loss: 0.10004\n",
      "Current weight: tensor([0.4142, 0.0310, 0.5548], device='cuda:0')\n"
     ]
    },
    {
     "name": "stderr",
     "output_type": "stream",
     "text": [
      "100%|██████████| 169/169 [00:06<00:00, 27.39it/s]\n"
     ]
    },
    {
     "name": "stdout",
     "output_type": "stream",
     "text": [
      "Epoch: 28: loss: 0.10005\n",
      "Current weight: tensor([0.4157, 0.0294, 0.5549], device='cuda:0')\n"
     ]
    },
    {
     "name": "stderr",
     "output_type": "stream",
     "text": [
      "100%|██████████| 169/169 [00:08<00:00, 19.10it/s]\n"
     ]
    },
    {
     "name": "stdout",
     "output_type": "stream",
     "text": [
      "Epoch: 29: loss: 0.10005\n",
      "Current weight: tensor([0.4199, 0.0279, 0.5522], device='cuda:0')\n"
     ]
    },
    {
     "name": "stderr",
     "output_type": "stream",
     "text": [
      "100%|██████████| 169/169 [00:06<00:00, 25.46it/s]\n"
     ]
    },
    {
     "name": "stdout",
     "output_type": "stream",
     "text": [
      "Epoch: 30: loss: 0.10005\n",
      "Current weight: tensor([0.4186, 0.0264, 0.5549], device='cuda:0')\n"
     ]
    },
    {
     "name": "stderr",
     "output_type": "stream",
     "text": [
      "100%|██████████| 169/169 [00:06<00:00, 24.74it/s]\n"
     ]
    },
    {
     "name": "stdout",
     "output_type": "stream",
     "text": [
      "Epoch: 31: loss: 0.10004\n",
      "Current weight: tensor([0.4176, 0.0251, 0.5573], device='cuda:0')\n"
     ]
    },
    {
     "name": "stderr",
     "output_type": "stream",
     "text": [
      "100%|██████████| 169/169 [00:06<00:00, 27.12it/s]\n"
     ]
    },
    {
     "name": "stdout",
     "output_type": "stream",
     "text": [
      "Epoch: 32: loss: 0.10005\n",
      "Current weight: tensor([0.4192, 0.0238, 0.5570], device='cuda:0')\n"
     ]
    },
    {
     "name": "stderr",
     "output_type": "stream",
     "text": [
      "100%|██████████| 169/169 [00:06<00:00, 27.16it/s]\n"
     ]
    },
    {
     "name": "stdout",
     "output_type": "stream",
     "text": [
      "Epoch: 33: loss: 0.10005\n",
      "Current weight: tensor([0.4192, 0.0226, 0.5582], device='cuda:0')\n"
     ]
    },
    {
     "name": "stderr",
     "output_type": "stream",
     "text": [
      "100%|██████████| 169/169 [00:06<00:00, 27.13it/s]\n"
     ]
    },
    {
     "name": "stdout",
     "output_type": "stream",
     "text": [
      "Epoch: 34: loss: 0.10005\n",
      "Current weight: tensor([0.4186, 0.0215, 0.5599], device='cuda:0')\n"
     ]
    },
    {
     "name": "stderr",
     "output_type": "stream",
     "text": [
      "100%|██████████| 169/169 [00:06<00:00, 26.94it/s]\n"
     ]
    },
    {
     "name": "stdout",
     "output_type": "stream",
     "text": [
      "Epoch: 35: loss: 0.10004\n",
      "Current weight: tensor([0.4204, 0.0204, 0.5591], device='cuda:0')\n"
     ]
    },
    {
     "name": "stderr",
     "output_type": "stream",
     "text": [
      "100%|██████████| 169/169 [00:06<00:00, 26.41it/s]\n"
     ]
    },
    {
     "name": "stdout",
     "output_type": "stream",
     "text": [
      "Epoch: 36: loss: 0.10004\n",
      "Current weight: tensor([0.4191, 0.0194, 0.5615], device='cuda:0')\n"
     ]
    },
    {
     "name": "stderr",
     "output_type": "stream",
     "text": [
      "100%|██████████| 169/169 [00:06<00:00, 24.65it/s]\n"
     ]
    },
    {
     "name": "stdout",
     "output_type": "stream",
     "text": [
      "Epoch: 37: loss: 0.10002\n",
      "Current weight: tensor([0.4194, 0.0185, 0.5621], device='cuda:0')\n"
     ]
    },
    {
     "name": "stderr",
     "output_type": "stream",
     "text": [
      "100%|██████████| 169/169 [00:06<00:00, 25.99it/s]\n"
     ]
    },
    {
     "name": "stdout",
     "output_type": "stream",
     "text": [
      "Epoch: 38: loss: 0.10005\n",
      "Current weight: tensor([0.4218, 0.0176, 0.5606], device='cuda:0')\n"
     ]
    },
    {
     "name": "stderr",
     "output_type": "stream",
     "text": [
      "100%|██████████| 169/169 [00:06<00:00, 27.31it/s]\n"
     ]
    },
    {
     "name": "stdout",
     "output_type": "stream",
     "text": [
      "Epoch: 39: loss: 0.10003\n",
      "Current weight: tensor([0.4195, 0.0167, 0.5638], device='cuda:0')\n"
     ]
    },
    {
     "name": "stderr",
     "output_type": "stream",
     "text": [
      "100%|██████████| 169/169 [00:06<00:00, 27.34it/s]\n"
     ]
    },
    {
     "name": "stdout",
     "output_type": "stream",
     "text": [
      "Epoch: 40: loss: 0.10006\n",
      "Current weight: tensor([0.4243, 0.0160, 0.5598], device='cuda:0')\n"
     ]
    },
    {
     "name": "stderr",
     "output_type": "stream",
     "text": [
      "100%|██████████| 169/169 [00:06<00:00, 26.89it/s]\n"
     ]
    },
    {
     "name": "stdout",
     "output_type": "stream",
     "text": [
      "Epoch: 41: loss: 0.10005\n",
      "Current weight: tensor([0.4224, 0.0152, 0.5624], device='cuda:0')\n"
     ]
    },
    {
     "name": "stderr",
     "output_type": "stream",
     "text": [
      "100%|██████████| 169/169 [00:06<00:00, 26.30it/s]\n"
     ]
    },
    {
     "name": "stdout",
     "output_type": "stream",
     "text": [
      "Epoch: 42: loss: 0.10005\n",
      "Current weight: tensor([0.4216, 0.0144, 0.5639], device='cuda:0')\n"
     ]
    },
    {
     "name": "stderr",
     "output_type": "stream",
     "text": [
      "100%|██████████| 169/169 [00:06<00:00, 24.23it/s]\n"
     ]
    },
    {
     "name": "stdout",
     "output_type": "stream",
     "text": [
      "Epoch: 43: loss: 0.10005\n",
      "Current weight: tensor([0.4208, 0.0137, 0.5654], device='cuda:0')\n"
     ]
    },
    {
     "name": "stderr",
     "output_type": "stream",
     "text": [
      "100%|██████████| 169/169 [00:06<00:00, 26.48it/s]\n"
     ]
    },
    {
     "name": "stdout",
     "output_type": "stream",
     "text": [
      "Epoch: 44: loss: 0.10004\n",
      "Current weight: tensor([0.4222, 0.0131, 0.5647], device='cuda:0')\n"
     ]
    },
    {
     "name": "stderr",
     "output_type": "stream",
     "text": [
      "100%|██████████| 169/169 [00:06<00:00, 26.80it/s]\n"
     ]
    },
    {
     "name": "stdout",
     "output_type": "stream",
     "text": [
      "Epoch: 45: loss: 0.10003\n",
      "Current weight: tensor([0.4249, 0.0125, 0.5627], device='cuda:0')\n"
     ]
    },
    {
     "name": "stderr",
     "output_type": "stream",
     "text": [
      "100%|██████████| 169/169 [00:06<00:00, 26.73it/s]\n"
     ]
    },
    {
     "name": "stdout",
     "output_type": "stream",
     "text": [
      "Epoch: 46: loss: 0.10003\n",
      "Current weight: tensor([0.4228, 0.0119, 0.5654], device='cuda:0')\n"
     ]
    },
    {
     "name": "stderr",
     "output_type": "stream",
     "text": [
      "100%|██████████| 169/169 [00:06<00:00, 27.04it/s]\n"
     ]
    },
    {
     "name": "stdout",
     "output_type": "stream",
     "text": [
      "Epoch: 47: loss: 0.10003\n",
      "Current weight: tensor([0.4240, 0.0113, 0.5647], device='cuda:0')\n"
     ]
    },
    {
     "name": "stderr",
     "output_type": "stream",
     "text": [
      "100%|██████████| 169/169 [00:06<00:00, 25.99it/s]\n"
     ]
    },
    {
     "name": "stdout",
     "output_type": "stream",
     "text": [
      "Epoch: 48: loss: 0.10005\n",
      "Current weight: tensor([0.4258, 0.0108, 0.5635], device='cuda:0')\n"
     ]
    },
    {
     "name": "stderr",
     "output_type": "stream",
     "text": [
      "100%|██████████| 169/169 [00:06<00:00, 24.62it/s]"
     ]
    },
    {
     "name": "stdout",
     "output_type": "stream",
     "text": [
      "Epoch: 49: loss: 0.10003\n",
      "Current weight: tensor([0.4249, 0.0103, 0.5649], device='cuda:0')\n"
     ]
    },
    {
     "name": "stderr",
     "output_type": "stream",
     "text": [
      "\n"
     ]
    }
   ],
   "source": [
    "epochs = 50\n",
    "model.train()\n",
    "for e in range(epochs):\n",
    "    e_loss = 0\n",
    "    step = 0\n",
    "    for batch in tqdm(loader, total=len(loader)):\n",
    "        optimizer.zero_grad()\n",
    "        batch = {k: v.cuda() for k,v in batch.items()}\n",
    "        loss = model.cal_loss(batch)\n",
    "        loss.backward()\n",
    "        optimizer.step()\n",
    "\n",
    "        e_loss += loss.data\n",
    "        step += 1\n",
    "    softmax_weight = torch.softmax(model.weights.data.detach(), dim=-1)\n",
    "    print(\"Epoch: {}: loss: {:.5f}\".format(e, e_loss / step))\n",
    "    print(\"Current weight: {}\".format(softmax_weight))"
   ]
  },
  {
   "attachments": {},
   "cell_type": "markdown",
   "metadata": {},
   "source": [
    "# calculate metrics on valid_data"
   ]
  },
  {
   "cell_type": "code",
   "execution_count": 189,
   "metadata": {},
   "outputs": [
    {
     "data": {
      "text/html": [
       "<div>\n",
       "<style scoped>\n",
       "    .dataframe tbody tr th:only-of-type {\n",
       "        vertical-align: middle;\n",
       "    }\n",
       "\n",
       "    .dataframe tbody tr th {\n",
       "        vertical-align: top;\n",
       "    }\n",
       "\n",
       "    .dataframe thead th {\n",
       "        text-align: right;\n",
       "    }\n",
       "</style>\n",
       "<table border=\"1\" class=\"dataframe\">\n",
       "  <thead>\n",
       "    <tr style=\"text-align: right;\">\n",
       "      <th></th>\n",
       "      <th>locale</th>\n",
       "      <th>next_item_prediction</th>\n",
       "      <th>sess_id</th>\n",
       "      <th>scores</th>\n",
       "    </tr>\n",
       "  </thead>\n",
       "  <tbody>\n",
       "    <tr>\n",
       "      <th>0</th>\n",
       "      <td>UK</td>\n",
       "      <td>[B06XG1LZ6Z, B06XGD9VLV, B076PN1SKG, B01MYUDYP...</td>\n",
       "      <td>0</td>\n",
       "      <td>[0.2711737, 0.16762927, 0.16571583, 0.12527893...</td>\n",
       "    </tr>\n",
       "    <tr>\n",
       "      <th>1</th>\n",
       "      <td>JP</td>\n",
       "      <td>[B09LCPT9DQ, B09MRYK5CV, B0BB5VQ1L8, B084T9C6W...</td>\n",
       "      <td>1</td>\n",
       "      <td>[0.910162, 0.019133814, 0.0131163215, 0.010162...</td>\n",
       "    </tr>\n",
       "    <tr>\n",
       "      <th>2</th>\n",
       "      <td>UK</td>\n",
       "      <td>[B09XBS6WCX, B01EYGW86Y, B01MDOBUCC, B01C5YK17...</td>\n",
       "      <td>2</td>\n",
       "      <td>[0.4977258, 0.111056164, 0.0858272, 0.02598772...</td>\n",
       "    </tr>\n",
       "    <tr>\n",
       "      <th>3</th>\n",
       "      <td>UK</td>\n",
       "      <td>[0241572614, 1406392979, 024157563X, 024147681...</td>\n",
       "      <td>3</td>\n",
       "      <td>[0.17356576, 0.105796315, 0.09800567, 0.081133...</td>\n",
       "    </tr>\n",
       "    <tr>\n",
       "      <th>4</th>\n",
       "      <td>JP</td>\n",
       "      <td>[B0B6PF619D, B0B6P77ZRN, B0B6P2PCMP, B0B6NY4PN...</td>\n",
       "      <td>4</td>\n",
       "      <td>[0.94184154, 0.03955462, 0.0068080365, 0.00285...</td>\n",
       "    </tr>\n",
       "    <tr>\n",
       "      <th>...</th>\n",
       "      <td>...</td>\n",
       "      <td>...</td>\n",
       "      <td>...</td>\n",
       "      <td>...</td>\n",
       "    </tr>\n",
       "    <tr>\n",
       "      <th>361576</th>\n",
       "      <td>UK</td>\n",
       "      <td>[B0050IG9DE, B0B7LVKNK8, B07ZCWWZSM, B00465F49...</td>\n",
       "      <td>361576</td>\n",
       "      <td>[0.2831857, 0.028501466, 0.027289871, 0.026143...</td>\n",
       "    </tr>\n",
       "    <tr>\n",
       "      <th>361577</th>\n",
       "      <td>JP</td>\n",
       "      <td>[B09B9V4PXC, B09BCM5NL1, B09XGRXXG3, B09XH1YGL...</td>\n",
       "      <td>361577</td>\n",
       "      <td>[0.32079417, 0.2724555, 0.10274507, 0.07312795...</td>\n",
       "    </tr>\n",
       "    <tr>\n",
       "      <th>361578</th>\n",
       "      <td>DE</td>\n",
       "      <td>[B0BC38GHB4, B07KLCY8NF, B00MXZEMBI, B07K6LTLW...</td>\n",
       "      <td>361578</td>\n",
       "      <td>[0.56181896, 0.2779604, 0.06445203, 0.06327815...</td>\n",
       "    </tr>\n",
       "    <tr>\n",
       "      <th>361579</th>\n",
       "      <td>DE</td>\n",
       "      <td>[B08RQR2NPB, B08RQDVX71, B08H8SYLMQ, B08H8TLK4...</td>\n",
       "      <td>361579</td>\n",
       "      <td>[0.46686655, 0.2816499, 0.078525245, 0.0615999...</td>\n",
       "    </tr>\n",
       "    <tr>\n",
       "      <th>361580</th>\n",
       "      <td>DE</td>\n",
       "      <td>[B0095FMJE6, B016UZOCX4, B07T42KRCB, B07JHTY3V...</td>\n",
       "      <td>361580</td>\n",
       "      <td>[0.216575, 0.18340768, 0.17849427, 0.059399586...</td>\n",
       "    </tr>\n",
       "  </tbody>\n",
       "</table>\n",
       "<p>361581 rows × 4 columns</p>\n",
       "</div>"
      ],
      "text/plain": [
       "       locale                               next_item_prediction sess_id  \\\n",
       "0          UK  [B06XG1LZ6Z, B06XGD9VLV, B076PN1SKG, B01MYUDYP...       0   \n",
       "1          JP  [B09LCPT9DQ, B09MRYK5CV, B0BB5VQ1L8, B084T9C6W...       1   \n",
       "2          UK  [B09XBS6WCX, B01EYGW86Y, B01MDOBUCC, B01C5YK17...       2   \n",
       "3          UK  [0241572614, 1406392979, 024157563X, 024147681...       3   \n",
       "4          JP  [B0B6PF619D, B0B6P77ZRN, B0B6P2PCMP, B0B6NY4PN...       4   \n",
       "...       ...                                                ...     ...   \n",
       "361576     UK  [B0050IG9DE, B0B7LVKNK8, B07ZCWWZSM, B00465F49...  361576   \n",
       "361577     JP  [B09B9V4PXC, B09BCM5NL1, B09XGRXXG3, B09XH1YGL...  361577   \n",
       "361578     DE  [B0BC38GHB4, B07KLCY8NF, B00MXZEMBI, B07K6LTLW...  361578   \n",
       "361579     DE  [B08RQR2NPB, B08RQDVX71, B08H8SYLMQ, B08H8TLK4...  361579   \n",
       "361580     DE  [B0095FMJE6, B016UZOCX4, B07T42KRCB, B07JHTY3V...  361580   \n",
       "\n",
       "                                                   scores  \n",
       "0       [0.2711737, 0.16762927, 0.16571583, 0.12527893...  \n",
       "1       [0.910162, 0.019133814, 0.0131163215, 0.010162...  \n",
       "2       [0.4977258, 0.111056164, 0.0858272, 0.02598772...  \n",
       "3       [0.17356576, 0.105796315, 0.09800567, 0.081133...  \n",
       "4       [0.94184154, 0.03955462, 0.0068080365, 0.00285...  \n",
       "...                                                   ...  \n",
       "361576  [0.2831857, 0.028501466, 0.027289871, 0.026143...  \n",
       "361577  [0.32079417, 0.2724555, 0.10274507, 0.07312795...  \n",
       "361578  [0.56181896, 0.2779604, 0.06445203, 0.06327815...  \n",
       "361579  [0.46686655, 0.2816499, 0.078525245, 0.0615999...  \n",
       "361580  [0.216575, 0.18340768, 0.17849427, 0.059399586...  \n",
       "\n",
       "[361581 rows x 4 columns]"
      ]
     },
     "execution_count": 189,
     "metadata": {},
     "output_type": "execute_result"
    }
   ],
   "source": [
    "normlized_sasrec_pred"
   ]
  },
  {
   "cell_type": "code",
   "execution_count": 190,
   "metadata": {},
   "outputs": [
    {
     "data": {
      "text/html": [
       "<div>\n",
       "<style scoped>\n",
       "    .dataframe tbody tr th:only-of-type {\n",
       "        vertical-align: middle;\n",
       "    }\n",
       "\n",
       "    .dataframe tbody tr th {\n",
       "        vertical-align: top;\n",
       "    }\n",
       "\n",
       "    .dataframe thead th {\n",
       "        text-align: right;\n",
       "    }\n",
       "</style>\n",
       "<table border=\"1\" class=\"dataframe\">\n",
       "  <thead>\n",
       "    <tr style=\"text-align: right;\">\n",
       "      <th></th>\n",
       "      <th>locale</th>\n",
       "      <th>next_item_prediction</th>\n",
       "      <th>scores</th>\n",
       "    </tr>\n",
       "  </thead>\n",
       "  <tbody>\n",
       "    <tr>\n",
       "      <th>0</th>\n",
       "      <td>UK</td>\n",
       "      <td>[B06XG1LZ6Z, B06XGDZVZR, B06XGD9VLV, B076PN1SK...</td>\n",
       "      <td>[0.87887824, 0.11894324, 0.0021785214, 6.66414...</td>\n",
       "    </tr>\n",
       "    <tr>\n",
       "      <th>1</th>\n",
       "      <td>JP</td>\n",
       "      <td>[B09LCPT9DQ, B09MRYK5CV, B092D5HM5S, B01H6MF6Z...</td>\n",
       "      <td>[1.0, 0.0, 0.0, 0.0, 0.0, 0.0, 0.0, 0.0, 0.0, ...</td>\n",
       "    </tr>\n",
       "    <tr>\n",
       "      <th>2</th>\n",
       "      <td>UK</td>\n",
       "      <td>[B00L529BAC, B01EV58VX2, B003TJATC8, B01M6625M...</td>\n",
       "      <td>[0.04227002, 0.04227002, 0.015550272, 0.015550...</td>\n",
       "    </tr>\n",
       "    <tr>\n",
       "      <th>3</th>\n",
       "      <td>UK</td>\n",
       "      <td>[0008532222, 1801314918, 024157563X, 024156343...</td>\n",
       "      <td>[0.03528044, 0.03528044, 0.03528044, 0.0352804...</td>\n",
       "    </tr>\n",
       "    <tr>\n",
       "      <th>4</th>\n",
       "      <td>JP</td>\n",
       "      <td>[B0B6PF619D, B09BJF6N8K, B0B6P77ZRN, B0B6P6DKN...</td>\n",
       "      <td>[0.99855167, 0.00033497676, 0.00033497676, 0.0...</td>\n",
       "    </tr>\n",
       "    <tr>\n",
       "      <th>...</th>\n",
       "      <td>...</td>\n",
       "      <td>...</td>\n",
       "      <td>...</td>\n",
       "    </tr>\n",
       "    <tr>\n",
       "      <th>361576</th>\n",
       "      <td>UK</td>\n",
       "      <td>[B08F5D8T22, B0050IG9DE, B01A955L8G, B08NYPTF9...</td>\n",
       "      <td>[0.016600577, 0.016600577, 0.016600577, 0.0166...</td>\n",
       "    </tr>\n",
       "    <tr>\n",
       "      <th>361577</th>\n",
       "      <td>JP</td>\n",
       "      <td>[B09B9V4PXC, B09BCM5NL1, B09XGRXXG3, B09XH1YGL...</td>\n",
       "      <td>[0.9999546, 4.539787e-05, 0.0, 0.0, 0.0, 0.0, ...</td>\n",
       "    </tr>\n",
       "    <tr>\n",
       "      <th>361578</th>\n",
       "      <td>DE</td>\n",
       "      <td>[B0BC38GHB4, B07KLCY8NF, B00MXZEMBI, B01FE96DM...</td>\n",
       "      <td>[0.18709013, 0.18709013, 0.025319895, 0.025319...</td>\n",
       "    </tr>\n",
       "    <tr>\n",
       "      <th>361579</th>\n",
       "      <td>DE</td>\n",
       "      <td>[B08RQDVX71, B08RQR2NPB, B08H8TLK4F, B07PY86YP...</td>\n",
       "      <td>[1.0, 4.1399375e-08, 4.1399375e-08, 1.7139084e...</td>\n",
       "    </tr>\n",
       "    <tr>\n",
       "      <th>361580</th>\n",
       "      <td>DE</td>\n",
       "      <td>[B0095FMJE6, B07YDMKD89, B00J8GJ7V0, B09GLVDMN...</td>\n",
       "      <td>[0.1934566, 0.071168706, 0.071168706, 0.071168...</td>\n",
       "    </tr>\n",
       "  </tbody>\n",
       "</table>\n",
       "<p>361581 rows × 3 columns</p>\n",
       "</div>"
      ],
      "text/plain": [
       "       locale                               next_item_prediction  \\\n",
       "0          UK  [B06XG1LZ6Z, B06XGDZVZR, B06XGD9VLV, B076PN1SK...   \n",
       "1          JP  [B09LCPT9DQ, B09MRYK5CV, B092D5HM5S, B01H6MF6Z...   \n",
       "2          UK  [B00L529BAC, B01EV58VX2, B003TJATC8, B01M6625M...   \n",
       "3          UK  [0008532222, 1801314918, 024157563X, 024156343...   \n",
       "4          JP  [B0B6PF619D, B09BJF6N8K, B0B6P77ZRN, B0B6P6DKN...   \n",
       "...       ...                                                ...   \n",
       "361576     UK  [B08F5D8T22, B0050IG9DE, B01A955L8G, B08NYPTF9...   \n",
       "361577     JP  [B09B9V4PXC, B09BCM5NL1, B09XGRXXG3, B09XH1YGL...   \n",
       "361578     DE  [B0BC38GHB4, B07KLCY8NF, B00MXZEMBI, B01FE96DM...   \n",
       "361579     DE  [B08RQDVX71, B08RQR2NPB, B08H8TLK4F, B07PY86YP...   \n",
       "361580     DE  [B0095FMJE6, B07YDMKD89, B00J8GJ7V0, B09GLVDMN...   \n",
       "\n",
       "                                                   scores  \n",
       "0       [0.87887824, 0.11894324, 0.0021785214, 6.66414...  \n",
       "1       [1.0, 0.0, 0.0, 0.0, 0.0, 0.0, 0.0, 0.0, 0.0, ...  \n",
       "2       [0.04227002, 0.04227002, 0.015550272, 0.015550...  \n",
       "3       [0.03528044, 0.03528044, 0.03528044, 0.0352804...  \n",
       "4       [0.99855167, 0.00033497676, 0.00033497676, 0.0...  \n",
       "...                                                   ...  \n",
       "361576  [0.016600577, 0.016600577, 0.016600577, 0.0166...  \n",
       "361577  [0.9999546, 4.539787e-05, 0.0, 0.0, 0.0, 0.0, ...  \n",
       "361578  [0.18709013, 0.18709013, 0.025319895, 0.025319...  \n",
       "361579  [1.0, 4.1399375e-08, 4.1399375e-08, 1.7139084e...  \n",
       "361580  [0.1934566, 0.071168706, 0.071168706, 0.071168...  \n",
       "\n",
       "[361581 rows x 3 columns]"
      ]
     },
     "execution_count": 190,
     "metadata": {},
     "output_type": "execute_result"
    }
   ],
   "source": [
    "normlized_graph_pred"
   ]
  },
  {
   "cell_type": "code",
   "execution_count": 205,
   "metadata": {},
   "outputs": [],
   "source": [
    "def cal_hit_and_mrr(ground_truth_list, candidates_list):\n",
    "    hits, mrrs = [], []\n",
    "    for i in tqdm(range(len(ground_truth_list))):\n",
    "        ground_truth = ground_truth_list.iloc[i]\n",
    "        candidates = candidates_list.iloc[i]\n",
    "        hit, mrr = 0.0, 0.0\n",
    "        for j in range(len(candidates)):\n",
    "            if ground_truth == candidates[j]:\n",
    "                hit = 1.0\n",
    "                mrr = 1.0 / (j + 1)\n",
    "                break\n",
    "        hits.append(hit)\n",
    "        mrrs.append(mrr)\n",
    "    return np.array(hits).mean(), np.array(mrrs).mean()"
   ]
  },
  {
   "cell_type": "code",
   "execution_count": 15,
   "metadata": {},
   "outputs": [],
   "source": [
    "# merge multi predictions \n",
    "def merge_multi_predictions(pred_df_list : list[pd.DataFrame], weights : list):\n",
    "    new_pred_df = copy.deepcopy(pred_df_list[0])\n",
    "    new_predictions = []\n",
    "    score_counter = Counter()\n",
    "    for i in tqdm(range(pred_df_list[0].shape[0])):\n",
    "        score_counter.clear()\n",
    "        for pred_df, w in zip(pred_df_list, weights):\n",
    "            for item, score in zip(pred_df.iloc[i]['next_item_prediction'], pred_df.iloc[i]['scores']):\n",
    "                score_counter[item] += w * score \n",
    "        new_pred, _ = zip(*score_counter.most_common(100))\n",
    "        new_predictions.append(list(new_pred))\n",
    "    new_pred_df['next_item_prediction'] = new_predictions\n",
    "    \n",
    "    return new_pred_df\n",
    "        "
   ]
  },
  {
   "cell_type": "code",
   "execution_count": 213,
   "metadata": {},
   "outputs": [
    {
     "name": "stderr",
     "output_type": "stream",
     "text": [
      "  1%|          | 2197/361581 [01:02<2:50:01, 35.23it/s]\n"
     ]
    },
    {
     "ename": "KeyboardInterrupt",
     "evalue": "",
     "output_type": "error",
     "traceback": [
      "\u001b[0;31m---------------------------------------------------------------------------\u001b[0m",
      "\u001b[0;31mKeyboardInterrupt\u001b[0m                         Traceback (most recent call last)",
      "Cell \u001b[0;32mIn[213], line 1\u001b[0m\n\u001b[0;32m----> 1\u001b[0m sasrec_graph_prediction \u001b[39m=\u001b[39m merge_two_prediction([normlized_sasrec_pred, normlized_graph_pred], [\u001b[39m0.43\u001b[39;49m, \u001b[39m0.57\u001b[39;49m])\n\u001b[1;32m      2\u001b[0m sasrec_graph_prediction\u001b[39m.\u001b[39mhead(\u001b[39m5\u001b[39m)\n",
      "Cell \u001b[0;32mIn[199], line 10\u001b[0m, in \u001b[0;36mmerge_two_prediction\u001b[0;34m(pred_df_list, weights)\u001b[0m\n\u001b[1;32m      8\u001b[0m \u001b[39mfor\u001b[39;00m pred_df, w \u001b[39min\u001b[39;00m \u001b[39mzip\u001b[39m(pred_df_list, weights):\n\u001b[1;32m      9\u001b[0m     \u001b[39mfor\u001b[39;00m item, score \u001b[39min\u001b[39;00m \u001b[39mzip\u001b[39m(pred_df\u001b[39m.\u001b[39miloc[i][\u001b[39m'\u001b[39m\u001b[39mnext_item_prediction\u001b[39m\u001b[39m'\u001b[39m], pred_df\u001b[39m.\u001b[39miloc[i][\u001b[39m'\u001b[39m\u001b[39mscores\u001b[39m\u001b[39m'\u001b[39m]):\n\u001b[0;32m---> 10\u001b[0m         score_counter[item] \u001b[39m+\u001b[39m\u001b[39m=\u001b[39m w \u001b[39m*\u001b[39;49m score \n\u001b[1;32m     11\u001b[0m new_pred, _ \u001b[39m=\u001b[39m \u001b[39mzip\u001b[39m(\u001b[39m*\u001b[39mscore_counter\u001b[39m.\u001b[39mmost_common(\u001b[39m100\u001b[39m))\n\u001b[1;32m     12\u001b[0m new_predictions\u001b[39m.\u001b[39mappend(new_pred)\n",
      "\u001b[0;31mKeyboardInterrupt\u001b[0m: "
     ]
    }
   ],
   "source": [
    "sasrec_graph_prediction = merge_two_prediction([normlized_sasrec_pred, normlized_graph_pred], [0.43, 0.57])\n",
    "sasrec_graph_prediction.head(5)"
   ]
  },
  {
   "cell_type": "code",
   "execution_count": 219,
   "metadata": {},
   "outputs": [
    {
     "data": {
      "text/plain": [
       "(       locale                               next_item_prediction sess_id  \\\n",
       " 0          UK  [B06XG1LZ6Z, B06XGD9VLV, B076PN1SKG, B01MYUDYP...       0   \n",
       " 1          JP  [B09LCPT9DQ, B09MRYK5CV, B0BB5VQ1L8, B084T9C6W...       1   \n",
       " 2          UK  [B09XBS6WCX, B01EYGW86Y, B01MDOBUCC, B01C5YK17...       2   \n",
       " 3          UK  [0241572614, 1406392979, 024157563X, 024147681...       3   \n",
       " 4          JP  [B0B6PF619D, B0B6P77ZRN, B0B6P2PCMP, B0B6NY4PN...       4   \n",
       " ...       ...                                                ...     ...   \n",
       " 361576     UK  [B0050IG9DE, B0B7LVKNK8, B07ZCWWZSM, B00465F49...  361576   \n",
       " 361577     JP  [B09B9V4PXC, B09BCM5NL1, B09XGRXXG3, B09XH1YGL...  361577   \n",
       " 361578     DE  [B0BC38GHB4, B07KLCY8NF, B00MXZEMBI, B07K6LTLW...  361578   \n",
       " 361579     DE  [B08RQR2NPB, B08RQDVX71, B08H8SYLMQ, B08H8TLK4...  361579   \n",
       " 361580     DE  [B0095FMJE6, B016UZOCX4, B07T42KRCB, B07JHTY3V...  361580   \n",
       " \n",
       "                                                    scores  \n",
       " 0       [0.2711737, 0.16762927, 0.16571583, 0.12527893...  \n",
       " 1       [0.910162, 0.019133814, 0.0131163215, 0.010162...  \n",
       " 2       [0.4977258, 0.111056164, 0.0858272, 0.02598772...  \n",
       " 3       [0.17356576, 0.105796315, 0.09800567, 0.081133...  \n",
       " 4       [0.94184154, 0.03955462, 0.0068080365, 0.00285...  \n",
       " ...                                                   ...  \n",
       " 361576  [0.2831857, 0.028501466, 0.027289871, 0.026143...  \n",
       " 361577  [0.32079417, 0.2724555, 0.10274507, 0.07312795...  \n",
       " 361578  [0.56181896, 0.2779604, 0.06445203, 0.06327815...  \n",
       " 361579  [0.46686655, 0.2816499, 0.078525245, 0.0615999...  \n",
       " 361580  [0.216575, 0.18340768, 0.17849427, 0.059399586...  \n",
       " \n",
       " [361581 rows x 4 columns],\n",
       "        locale                               next_item_prediction  \\\n",
       " 0          UK  [B06XG1LZ6Z, B06XGDZVZR, B06XGD9VLV, B076PN1SK...   \n",
       " 1          JP  [B09LCPT9DQ, B09MRYK5CV, B092D5HM5S, B01H6MF6Z...   \n",
       " 2          UK  [B00L529BAC, B01EV58VX2, B003TJATC8, B01M6625M...   \n",
       " 3          UK  [0008532222, 1801314918, 024157563X, 024156343...   \n",
       " 4          JP  [B0B6PF619D, B09BJF6N8K, B0B6P77ZRN, B0B6P6DKN...   \n",
       " ...       ...                                                ...   \n",
       " 361576     UK  [B08F5D8T22, B0050IG9DE, B01A955L8G, B08NYPTF9...   \n",
       " 361577     JP  [B09B9V4PXC, B09BCM5NL1, B09XGRXXG3, B09XH1YGL...   \n",
       " 361578     DE  [B0BC38GHB4, B07KLCY8NF, B00MXZEMBI, B01FE96DM...   \n",
       " 361579     DE  [B08RQDVX71, B08RQR2NPB, B08H8TLK4F, B07PY86YP...   \n",
       " 361580     DE  [B0095FMJE6, B07YDMKD89, B00J8GJ7V0, B09GLVDMN...   \n",
       " \n",
       "                                                    scores  \n",
       " 0       [0.87887824, 0.11894324, 0.0021785214, 6.66414...  \n",
       " 1       [1.0, 0.0, 0.0, 0.0, 0.0, 0.0, 0.0, 0.0, 0.0, ...  \n",
       " 2       [0.04227002, 0.04227002, 0.015550272, 0.015550...  \n",
       " 3       [0.03528044, 0.03528044, 0.03528044, 0.0352804...  \n",
       " 4       [0.99855167, 0.00033497676, 0.00033497676, 0.0...  \n",
       " ...                                                   ...  \n",
       " 361576  [0.016600577, 0.016600577, 0.016600577, 0.0166...  \n",
       " 361577  [0.9999546, 4.539787e-05, 0.0, 0.0, 0.0, 0.0, ...  \n",
       " 361578  [0.18709013, 0.18709013, 0.025319895, 0.025319...  \n",
       " 361579  [1.0, 4.1399375e-08, 4.1399375e-08, 1.7139084e...  \n",
       " 361580  [0.1934566, 0.071168706, 0.071168706, 0.071168...  \n",
       " \n",
       " [361581 rows x 3 columns])"
      ]
     },
     "execution_count": 219,
     "metadata": {},
     "output_type": "execute_result"
    }
   ],
   "source": [
    "normlized_sasrec_pred, normlized_graph_pred"
   ]
  },
  {
   "cell_type": "code",
   "execution_count": 221,
   "metadata": {},
   "outputs": [
    {
     "name": "stderr",
     "output_type": "stream",
     "text": [
      "100%|██████████| 361581/361581 [00:16<00:00, 22542.10it/s]\n"
     ]
    },
    {
     "data": {
      "text/plain": [
       "(0.8617709448228751, 0.3649325409228786)"
      ]
     },
     "execution_count": 221,
     "metadata": {},
     "output_type": "execute_result"
    }
   ],
   "source": [
    "cal_hit_and_mrr(valid_data['next_item'], sasrec_graph_prediction['next_item_prediction'])"
   ]
  },
  {
   "cell_type": "code",
   "execution_count": 251,
   "metadata": {},
   "outputs": [
    {
     "name": "stderr",
     "output_type": "stream",
     "text": [
      "100%|██████████| 361581/361581 [00:16<00:00, 21690.42it/s]\n"
     ]
    },
    {
     "data": {
      "text/plain": [
       "(0.9464297073131608, 0.4242726830543117)"
      ]
     },
     "execution_count": 251,
     "metadata": {},
     "output_type": "execute_result"
    }
   ],
   "source": [
    "cal_hit_and_mrr(valid_data['next_item'], graph_pred['next_item_prediction'])"
   ]
  },
  {
   "attachments": {},
   "cell_type": "markdown",
   "metadata": {},
   "source": [
    "# merge test sasrec and co-graph "
   ]
  },
  {
   "cell_type": "code",
   "execution_count": 3,
   "metadata": {},
   "outputs": [],
   "source": [
    "sasrec_pred_test_path = \"/root/autodl-tmp/xiaolong/WorkSpace/Amazon-KDDCUP-23/candidates/SASRec_Next/SASRec_test_150_with_score.parquet\"\n",
    "sasrec_pred_test_path_2 = \"/root/autodl-tmp/xiaolong/WorkSpace/Amazon-KDDCUP-23/predictions/SASRec_Next/kdd_cup_2023/three_locale_prediction_0416_2120.parquet\"\n",
    "roberta_pred_test_path = '/root/autodl-tmp/xiaolong/WorkSpace/Amazon-KDDCUP-23/candidates/roberta/roberta_test_150_with_score.parquet'\n",
    "graph_pred_test_path = \"/root/autodl-tmp/huangxu/Amazon-KDDCUP-23/co-occurrence_graph/graph_test_150_with_score.parquet\"\n"
   ]
  },
  {
   "cell_type": "code",
   "execution_count": 4,
   "metadata": {},
   "outputs": [],
   "source": [
    "@lru_cache(maxsize=1)\n",
    "def read_sasrec_pred_test():\n",
    "    return pd.read_parquet(sasrec_pred_test_path, engine='pyarrow')\n",
    "\n",
    "@lru_cache(maxsize=1)\n",
    "def read_sasrec_pred_test_2():\n",
    "    return pd.read_parquet(sasrec_pred_test_path_2, engine='pyarrow')\n",
    "\n",
    "@lru_cache(maxsize=1)\n",
    "def read_roberta_pred_test():\n",
    "    return pd.read_parquet(roberta_pred_test_path, engine='pyarrow')\n",
    "\n",
    "@lru_cache(maxsize=1)\n",
    "def read_graph_pred_test():\n",
    "    return pd.read_parquet(graph_pred_test_path, engine='pyarrow')"
   ]
  },
  {
   "cell_type": "code",
   "execution_count": 5,
   "metadata": {},
   "outputs": [],
   "source": [
    "sasrec_pred_test = read_sasrec_pred_test_2()\n",
    "roberta_pred_test = read_roberta_pred_test()\n",
    "graph_pred_test = read_graph_pred_test()"
   ]
  },
  {
   "cell_type": "code",
   "execution_count": 6,
   "metadata": {},
   "outputs": [
    {
     "data": {
      "text/plain": [
       "(  locale                               next_item_prediction  \\\n",
       " 0     DE  [B099NS1XPG, B07LG5T3V9, B099NR3X6D, B08QYYBTM...   \n",
       " 1     DE  [B004ZXMV4Q, B08BZCKDKQ, B095TQTZXY, B010MJNUZ...   \n",
       " \n",
       "                                               scores  \n",
       " 0  [19.93616485595703, 19.43468475341797, 18.6949...  \n",
       " 1  [22.813570022583008, 18.525903701782227, 18.01...  ,\n",
       " 316971,\n",
       " 150)"
      ]
     },
     "execution_count": 6,
     "metadata": {},
     "output_type": "execute_result"
    }
   ],
   "source": [
    "sasrec_pred_test.head(2), len(sasrec_pred_test), len(sasrec_pred_test.iloc[0]['next_item_prediction'])"
   ]
  },
  {
   "cell_type": "code",
   "execution_count": 7,
   "metadata": {},
   "outputs": [
    {
     "data": {
      "text/html": [
       "<div>\n",
       "<style scoped>\n",
       "    .dataframe tbody tr th:only-of-type {\n",
       "        vertical-align: middle;\n",
       "    }\n",
       "\n",
       "    .dataframe tbody tr th {\n",
       "        vertical-align: top;\n",
       "    }\n",
       "\n",
       "    .dataframe thead th {\n",
       "        text-align: right;\n",
       "    }\n",
       "</style>\n",
       "<table border=\"1\" class=\"dataframe\">\n",
       "  <thead>\n",
       "    <tr style=\"text-align: right;\">\n",
       "      <th></th>\n",
       "      <th>locale</th>\n",
       "      <th>next_item_prediction</th>\n",
       "      <th>scores</th>\n",
       "    </tr>\n",
       "  </thead>\n",
       "  <tbody>\n",
       "    <tr>\n",
       "      <th>0</th>\n",
       "      <td>DE</td>\n",
       "      <td>[B099NS1XPG, B07LG5T3V9, B099NR3X6D, B08QYYBTM...</td>\n",
       "      <td>[19.93616485595703, 19.43468475341797, 18.6949...</td>\n",
       "    </tr>\n",
       "    <tr>\n",
       "      <th>1</th>\n",
       "      <td>DE</td>\n",
       "      <td>[B004ZXMV4Q, B08BZCKDKQ, B095TQTZXY, B010MJNUZ...</td>\n",
       "      <td>[22.813570022583008, 18.525903701782227, 18.01...</td>\n",
       "    </tr>\n",
       "    <tr>\n",
       "      <th>2</th>\n",
       "      <td>DE</td>\n",
       "      <td>[B0B5QNFWJ1, B0BJF4KGCN, B099277D7Q, B0B5TFLBC...</td>\n",
       "      <td>[14.396807670593262, 14.095083236694336, 13.71...</td>\n",
       "    </tr>\n",
       "    <tr>\n",
       "      <th>3</th>\n",
       "      <td>DE</td>\n",
       "      <td>[395535086X, 3772476953, 3772477917, B0829LZFT...</td>\n",
       "      <td>[18.627986907958984, 18.095304489135742, 16.81...</td>\n",
       "    </tr>\n",
       "    <tr>\n",
       "      <th>4</th>\n",
       "      <td>DE</td>\n",
       "      <td>[B09J8SKX9G, B09J8V9RQQ, B09J8VPTTW, B09J8TWRV...</td>\n",
       "      <td>[19.423419952392578, 18.855445861816406, 18.45...</td>\n",
       "    </tr>\n",
       "    <tr>\n",
       "      <th>...</th>\n",
       "      <td>...</td>\n",
       "      <td>...</td>\n",
       "      <td>...</td>\n",
       "    </tr>\n",
       "    <tr>\n",
       "      <th>316966</th>\n",
       "      <td>UK</td>\n",
       "      <td>[B08X9L5RGD, B09G9YY2C9, B09MW64JGM, B07V5FL8G...</td>\n",
       "      <td>[20.52749252319336, 15.89537239074707, 15.7825...</td>\n",
       "    </tr>\n",
       "    <tr>\n",
       "      <th>316967</th>\n",
       "      <td>UK</td>\n",
       "      <td>[B0989BHLSY, B09895QPQF, B09CPNS7XV, B09L14HQF...</td>\n",
       "      <td>[17.313642501831055, 17.087045669555664, 16.69...</td>\n",
       "    </tr>\n",
       "    <tr>\n",
       "      <th>316968</th>\n",
       "      <td>UK</td>\n",
       "      <td>[B09HKZBNZH, B09HZSRJWW, B07PY1NG3X, B09HL141Q...</td>\n",
       "      <td>[22.398101806640625, 21.34939193725586, 19.468...</td>\n",
       "    </tr>\n",
       "    <tr>\n",
       "      <th>316969</th>\n",
       "      <td>UK</td>\n",
       "      <td>[B08FB464L7, B07TR5LQSL, B0BGDK1J1G, B00HEL380...</td>\n",
       "      <td>[16.046977996826172, 15.801373481750488, 15.09...</td>\n",
       "    </tr>\n",
       "    <tr>\n",
       "      <th>316970</th>\n",
       "      <td>UK</td>\n",
       "      <td>[B09XPX59JK, B0B42JD9RH, B09ZNQ7B9Y, B0B2WCXJJ...</td>\n",
       "      <td>[20.460391998291016, 17.457040786743164, 16.06...</td>\n",
       "    </tr>\n",
       "  </tbody>\n",
       "</table>\n",
       "<p>316971 rows × 3 columns</p>\n",
       "</div>"
      ],
      "text/plain": [
       "       locale                               next_item_prediction  \\\n",
       "0          DE  [B099NS1XPG, B07LG5T3V9, B099NR3X6D, B08QYYBTM...   \n",
       "1          DE  [B004ZXMV4Q, B08BZCKDKQ, B095TQTZXY, B010MJNUZ...   \n",
       "2          DE  [B0B5QNFWJ1, B0BJF4KGCN, B099277D7Q, B0B5TFLBC...   \n",
       "3          DE  [395535086X, 3772476953, 3772477917, B0829LZFT...   \n",
       "4          DE  [B09J8SKX9G, B09J8V9RQQ, B09J8VPTTW, B09J8TWRV...   \n",
       "...       ...                                                ...   \n",
       "316966     UK  [B08X9L5RGD, B09G9YY2C9, B09MW64JGM, B07V5FL8G...   \n",
       "316967     UK  [B0989BHLSY, B09895QPQF, B09CPNS7XV, B09L14HQF...   \n",
       "316968     UK  [B09HKZBNZH, B09HZSRJWW, B07PY1NG3X, B09HL141Q...   \n",
       "316969     UK  [B08FB464L7, B07TR5LQSL, B0BGDK1J1G, B00HEL380...   \n",
       "316970     UK  [B09XPX59JK, B0B42JD9RH, B09ZNQ7B9Y, B0B2WCXJJ...   \n",
       "\n",
       "                                                   scores  \n",
       "0       [19.93616485595703, 19.43468475341797, 18.6949...  \n",
       "1       [22.813570022583008, 18.525903701782227, 18.01...  \n",
       "2       [14.396807670593262, 14.095083236694336, 13.71...  \n",
       "3       [18.627986907958984, 18.095304489135742, 16.81...  \n",
       "4       [19.423419952392578, 18.855445861816406, 18.45...  \n",
       "...                                                   ...  \n",
       "316966  [20.52749252319336, 15.89537239074707, 15.7825...  \n",
       "316967  [17.313642501831055, 17.087045669555664, 16.69...  \n",
       "316968  [22.398101806640625, 21.34939193725586, 19.468...  \n",
       "316969  [16.046977996826172, 15.801373481750488, 15.09...  \n",
       "316970  [20.460391998291016, 17.457040786743164, 16.06...  \n",
       "\n",
       "[316971 rows x 3 columns]"
      ]
     },
     "execution_count": 7,
     "metadata": {},
     "output_type": "execute_result"
    }
   ],
   "source": [
    "sasrec_pred_test.rename(columns={'score' : 'scores'}, inplace=True)\n",
    "sasrec_pred_test"
   ]
  },
  {
   "cell_type": "code",
   "execution_count": 8,
   "metadata": {},
   "outputs": [
    {
     "data": {
      "text/plain": [
       "(                                next_item_prediction  \\\n",
       " 0  [B07TV22X9M, B08Q391KS3, B07TV364MZ, B01H1R0K6...   \n",
       " 1  [B004ZXMV4Q, B09P1XWJPS, B00R9RNWF2, B010MJNUZ...   \n",
       " \n",
       "                                               scores  \n",
       " 0  [269.218017578125, 268.97796630859375, 268.910...  \n",
       " 1  [268.6519775390625, 267.3247985839844, 266.088...  ,\n",
       " 316971,\n",
       " 150)"
      ]
     },
     "execution_count": 8,
     "metadata": {},
     "output_type": "execute_result"
    }
   ],
   "source": [
    "roberta_pred_test.head(2), len(roberta_pred_test), len(roberta_pred_test.iloc[0]['next_item_prediction'])"
   ]
  },
  {
   "cell_type": "code",
   "execution_count": 9,
   "metadata": {},
   "outputs": [
    {
     "data": {
      "text/plain": [
       "(  locale                               next_item_prediction  \\\n",
       " 0     DE  [B099NS1XPG, B099NR3X6D, B0B7S7LBMB, B0B53KBXR...   \n",
       " 1     DE  [B004ZXMV4Q, B08H93ZRK9, B0BFJGXWDV, B0B1MPZWJ...   \n",
       " \n",
       "                                               scores  \n",
       " 0  [23, 12, 5, 4, 4, 3, 3, 2, 2, 2, 2, 2, 2, 2, 2...  \n",
       " 1  [14, 2, 2, 2, 2, 2, 1, 1, 1, 1, 1, 1, 1, 1, 1,...  ,\n",
       " 316971,\n",
       " 150)"
      ]
     },
     "execution_count": 9,
     "metadata": {},
     "output_type": "execute_result"
    }
   ],
   "source": [
    "graph_pred_test.head(2), len(graph_pred_test), len(graph_pred_test.iloc[0]['next_item_prediction'])"
   ]
  },
  {
   "cell_type": "code",
   "execution_count": 10,
   "metadata": {},
   "outputs": [
    {
     "name": "stderr",
     "output_type": "stream",
     "text": [
      "100%|██████████| 316971/316971 [00:12<00:00, 25076.77it/s]\n",
      "100%|██████████| 316971/316971 [00:19<00:00, 16272.65it/s]\n",
      "100%|██████████| 316971/316971 [00:09<00:00, 32299.80it/s]\n"
     ]
    }
   ],
   "source": [
    "normlized_sasrec_pred_test = softmax_norm(sasrec_pred_test)\n",
    "normlized_roberta_pred_test = softmax_norm(roberta_pred_test)\n",
    "normlized_graph_pred_test = softmax_norm(graph_pred_test)"
   ]
  },
  {
   "cell_type": "code",
   "execution_count": 25,
   "metadata": {},
   "outputs": [
    {
     "name": "stderr",
     "output_type": "stream",
     "text": [
      "100%|██████████| 316971/316971 [04:41<00:00, 1124.11it/s]\n"
     ]
    }
   ],
   "source": [
    "merged_pred_test_df = merge_multi_predictions([normlized_sasrec_pred_test, normlized_graph_pred_test], [0.75, 0.25])"
   ]
  },
  {
   "cell_type": "code",
   "execution_count": 26,
   "metadata": {},
   "outputs": [],
   "source": [
    "merged_pred_test_df.drop(columns=['scores'], inplace=True)"
   ]
  },
  {
   "cell_type": "code",
   "execution_count": 27,
   "metadata": {},
   "outputs": [
    {
     "data": {
      "text/plain": [
       "count    316971.0\n",
       "mean        100.0\n",
       "std           0.0\n",
       "min         100.0\n",
       "25%         100.0\n",
       "50%         100.0\n",
       "75%         100.0\n",
       "max         100.0\n",
       "Name: next_item_prediction, dtype: float64"
      ]
     },
     "execution_count": 27,
     "metadata": {},
     "output_type": "execute_result"
    }
   ],
   "source": [
    "merged_pred_test_df['next_item_prediction'].apply(len).describe()"
   ]
  },
  {
   "cell_type": "code",
   "execution_count": 23,
   "metadata": {},
   "outputs": [],
   "source": [
    "merged_pred_test_df.to_parquet('../predictions/merge_prediction/merge_co_graph_sasrec_softmax_3.parquet', engine='pyarrow')"
   ]
  }
 ],
 "metadata": {
  "kernelspec": {
   "display_name": "torch12",
   "language": "python",
   "name": "python3"
  },
  "language_info": {
   "codemirror_mode": {
    "name": "ipython",
    "version": 3
   },
   "file_extension": ".py",
   "mimetype": "text/x-python",
   "name": "python",
   "nbconvert_exporter": "python",
   "pygments_lexer": "ipython3",
   "version": "3.9.16"
  },
  "orig_nbformat": 4
 },
 "nbformat": 4,
 "nbformat_minor": 2
}
