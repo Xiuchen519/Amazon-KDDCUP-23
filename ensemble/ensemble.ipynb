{
 "cells": [
  {
   "cell_type": "code",
   "execution_count": 2,
   "metadata": {},
   "outputs": [
    {
     "name": "stderr",
     "output_type": "stream",
     "text": [
      "/root/autodl-tmp/xiaolong/.conda/envs/torch12/lib/python3.9/site-packages/tqdm/auto.py:22: TqdmWarning: IProgress not found. Please update jupyter and ipywidgets. See https://ipywidgets.readthedocs.io/en/stable/user_install.html\n",
      "  from .autonotebook import tqdm as notebook_tqdm\n"
     ]
    }
   ],
   "source": [
    "import os\n",
    "import torch as th\n",
    "import numpy as np\n",
    "import pandas as pd\n",
    "from tqdm import tqdm, trange\n",
    "from collections import *\n",
    "import numba"
   ]
  },
  {
   "cell_type": "code",
   "execution_count": 2,
   "metadata": {},
   "outputs": [],
   "source": [
    "# @numba.jit(parallel=True)\n",
    "def merge_all_scores(predictions: list, ground_truth=None):\n",
    "    N = predictions[0].shape[0]\n",
    "    all_scores = []\n",
    "    all_labels = []\n",
    "    all_cands = []\n",
    "    for i in range(N):\n",
    "        scores = []\n",
    "        labels = []\n",
    "        truth = ground_truth.iloc[i] if ground_truth is not None else None\n",
    "        id2score = [Counter(dict(zip(p['next_item_prediction'][i], p['scores'][i]))) for p in predictions]\n",
    "        all_candidates = np.concatenate([p['next_item_prediction'][i] for p in predictions])\n",
    "        for cand in all_candidates:\n",
    "            scores.append([d[cand] for d in id2score])\n",
    "            if ground_truth is not None:\n",
    "                if cand == truth:\n",
    "                    labels.append(1)\n",
    "                else:\n",
    "                    labels.append(0)\n",
    "        all_scores.append(scores)\n",
    "        all_labels.append(labels)\n",
    "        all_cands.append(all_candidates)\n",
    "    return all_scores, all_labels, all_cands"
   ]
  },
  {
   "cell_type": "code",
   "execution_count": 3,
   "metadata": {},
   "outputs": [],
   "source": [
    "def normalization(data):\n",
    "    print(\"Max=\", np.max(data, axis=0), \" Min=\", np.min(data, axis=0))\n",
    "    _range = np.max(data, axis=0) - np.min(data, axis=0)\n",
    "    return (data - np.min(data, axis=0)) / _range\n",
    "\n",
    "def standardization(data):\n",
    "    mu = np.mean(data, axis=0)\n",
    "    sigma = np.std(data, axis=0)\n",
    "    print(\"Mean={}, Sigma={}\".format(mu, sigma))\n",
    "    return (data - mu) / sigma\n",
    "\n",
    "def softmax(data, axis):\n",
    "    _exp = np.exp(data)\n",
    "    return data / _exp.sum(axis=axis, keepdims=True)"
   ]
  },
  {
   "cell_type": "code",
   "execution_count": 4,
   "metadata": {},
   "outputs": [],
   "source": [
    "valid_data = pd.read_csv(\"/root/autodl-tmp/xiaolong/WorkSpace/Amazon-KDDCUP-23/data_for_recstudio/all_task_1_valid_sessions.csv\", sep=\",\")\n",
    "roberta_pred = pd.read_parquet(\"/root/autodl-tmp/xiaolong/WorkSpace/Amazon-KDDCUP-23/candidates/roberta/roberta_valid_150_with_score.parquet\", engine='pyarrow')\n",
    "sasrec_pred = pd.read_parquet(\"/root/autodl-tmp/xiaolong/WorkSpace/Amazon-KDDCUP-23/candidates/SASRec_Next/SASRec_valid_150_with_score.parquet\", engine='pyarrow')\n",
    "graph_pred = pd.read_parquet(\"/root/autodl-tmp/huangxu/Amazon-KDDCUP-23/co-occurrence_graph/graph_valid_150_with_score.parquet\", engine='pyarrow')"
   ]
  },
  {
   "cell_type": "code",
   "execution_count": 5,
   "metadata": {},
   "outputs": [
    {
     "data": {
      "text/html": [
       "<div>\n",
       "<style scoped>\n",
       "    .dataframe tbody tr th:only-of-type {\n",
       "        vertical-align: middle;\n",
       "    }\n",
       "\n",
       "    .dataframe tbody tr th {\n",
       "        vertical-align: top;\n",
       "    }\n",
       "\n",
       "    .dataframe thead th {\n",
       "        text-align: right;\n",
       "    }\n",
       "</style>\n",
       "<table border=\"1\" class=\"dataframe\">\n",
       "  <thead>\n",
       "    <tr style=\"text-align: right;\">\n",
       "      <th></th>\n",
       "      <th>next_item_prediction</th>\n",
       "      <th>scores</th>\n",
       "    </tr>\n",
       "  </thead>\n",
       "  <tbody>\n",
       "    <tr>\n",
       "      <th>0</th>\n",
       "      <td>[B084ZPL21L, B0B2JT2BND, B0B2JSKN7X, B08F7P8R6...</td>\n",
       "      <td>[266.0794982910156, 265.99432373046875, 265.99...</td>\n",
       "    </tr>\n",
       "    <tr>\n",
       "      <th>1</th>\n",
       "      <td>[B09WM9W6WQ, B09LCPT9DQ, B09MRYK5CV, B09LCRNQT...</td>\n",
       "      <td>[268.8392639160156, 268.33990478515625, 268.14...</td>\n",
       "    </tr>\n",
       "    <tr>\n",
       "      <th>2</th>\n",
       "      <td>[B06ZYHMRST, B007CW985C, B0017RTPK6, B002E2N5M...</td>\n",
       "      <td>[264.55255126953125, 264.0582580566406, 264.01...</td>\n",
       "    </tr>\n",
       "    <tr>\n",
       "      <th>3</th>\n",
       "      <td>[B08DP195R4, B01M5EBAO4, B09BNHWWZM, B0BJ54PZV...</td>\n",
       "      <td>[264.06292724609375, 263.95538330078125, 263.7...</td>\n",
       "    </tr>\n",
       "    <tr>\n",
       "      <th>4</th>\n",
       "      <td>[B0B6NY5RM8, B0B6PF619D, B09BJGBBBR, B0B6NYJRW...</td>\n",
       "      <td>[267.2440185546875, 267.2406921386719, 267.028...</td>\n",
       "    </tr>\n",
       "    <tr>\n",
       "      <th>...</th>\n",
       "      <td>...</td>\n",
       "      <td>...</td>\n",
       "    </tr>\n",
       "    <tr>\n",
       "      <th>361576</th>\n",
       "      <td>[B08HH6L4PB, B08L8N8HDR, B079FV57RR, B085WCD1C...</td>\n",
       "      <td>[266.1954040527344, 266.1148986816406, 264.926...</td>\n",
       "    </tr>\n",
       "    <tr>\n",
       "      <th>361577</th>\n",
       "      <td>[B09D76FT9D, B09D71VQF2, B09XH1YGLL, B09XGMMW6...</td>\n",
       "      <td>[267.57916259765625, 267.4937744140625, 267.48...</td>\n",
       "    </tr>\n",
       "    <tr>\n",
       "      <th>361578</th>\n",
       "      <td>[B0B6D8KGPC, B0BC2K5CY1, B0BC38GHB4, B09SXRRTZ...</td>\n",
       "      <td>[264.9151306152344, 264.9008483886719, 264.841...</td>\n",
       "    </tr>\n",
       "    <tr>\n",
       "      <th>361579</th>\n",
       "      <td>[B08T5Q4JGS, B08M9CDNSH, B0BFDZTJMF, B08RQDVX7...</td>\n",
       "      <td>[265.9405517578125, 265.3836669921875, 265.371...</td>\n",
       "    </tr>\n",
       "    <tr>\n",
       "      <th>361580</th>\n",
       "      <td>[B081YZVG5L, B07636CZVG, B015SVEH9A, B00Q8L9F9...</td>\n",
       "      <td>[266.9991455078125, 266.1468505859375, 265.927...</td>\n",
       "    </tr>\n",
       "  </tbody>\n",
       "</table>\n",
       "<p>361581 rows × 2 columns</p>\n",
       "</div>"
      ],
      "text/plain": [
       "                                     next_item_prediction  \\\n",
       "0       [B084ZPL21L, B0B2JT2BND, B0B2JSKN7X, B08F7P8R6...   \n",
       "1       [B09WM9W6WQ, B09LCPT9DQ, B09MRYK5CV, B09LCRNQT...   \n",
       "2       [B06ZYHMRST, B007CW985C, B0017RTPK6, B002E2N5M...   \n",
       "3       [B08DP195R4, B01M5EBAO4, B09BNHWWZM, B0BJ54PZV...   \n",
       "4       [B0B6NY5RM8, B0B6PF619D, B09BJGBBBR, B0B6NYJRW...   \n",
       "...                                                   ...   \n",
       "361576  [B08HH6L4PB, B08L8N8HDR, B079FV57RR, B085WCD1C...   \n",
       "361577  [B09D76FT9D, B09D71VQF2, B09XH1YGLL, B09XGMMW6...   \n",
       "361578  [B0B6D8KGPC, B0BC2K5CY1, B0BC38GHB4, B09SXRRTZ...   \n",
       "361579  [B08T5Q4JGS, B08M9CDNSH, B0BFDZTJMF, B08RQDVX7...   \n",
       "361580  [B081YZVG5L, B07636CZVG, B015SVEH9A, B00Q8L9F9...   \n",
       "\n",
       "                                                   scores  \n",
       "0       [266.0794982910156, 265.99432373046875, 265.99...  \n",
       "1       [268.8392639160156, 268.33990478515625, 268.14...  \n",
       "2       [264.55255126953125, 264.0582580566406, 264.01...  \n",
       "3       [264.06292724609375, 263.95538330078125, 263.7...  \n",
       "4       [267.2440185546875, 267.2406921386719, 267.028...  \n",
       "...                                                   ...  \n",
       "361576  [266.1954040527344, 266.1148986816406, 264.926...  \n",
       "361577  [267.57916259765625, 267.4937744140625, 267.48...  \n",
       "361578  [264.9151306152344, 264.9008483886719, 264.841...  \n",
       "361579  [265.9405517578125, 265.3836669921875, 265.371...  \n",
       "361580  [266.9991455078125, 266.1468505859375, 265.927...  \n",
       "\n",
       "[361581 rows x 2 columns]"
      ]
     },
     "execution_count": 5,
     "metadata": {},
     "output_type": "execute_result"
    }
   ],
   "source": [
    "roberta_pred"
   ]
  },
  {
   "cell_type": "code",
   "execution_count": 6,
   "metadata": {},
   "outputs": [
    {
     "name": "stderr",
     "output_type": "stream",
     "text": [
      "100%|██████████| 361581/361581 [01:02<00:00, 5788.00it/s]\n"
     ]
    }
   ],
   "source": [
    "common_rate = {'bert-sasrec':[], 'sasrec-graph':[], 'bert-graph':[], 'all':[]}\n",
    "\n",
    "for i in trange(valid_data.shape[0]):\n",
    "    roberta_rec = set(roberta_pred.iloc[i]['next_item_prediction'])\n",
    "    sasrec_rec = set(sasrec_pred.iloc[i]['next_item_prediction'])\n",
    "    graph_rec = set(graph_pred.iloc[i]['next_item_prediction'])\n",
    "    common = roberta_rec.intersection(sasrec_rec)\n",
    "    common_rate['bert-sasrec'].append(len(common)/len(sasrec_rec))\n",
    "    common = graph_rec.intersection(sasrec_rec)\n",
    "    common_rate['sasrec-graph'].append(len(common)/len(sasrec_rec))\n",
    "    common = roberta_rec.intersection(graph_rec)\n",
    "    common_rate['bert-graph'].append(len(common)/len(sasrec_rec))\n",
    "    common = roberta_rec.intersection(sasrec_rec.intersection(graph_rec))\n",
    "    common_rate['all'].append(len(common)/len(sasrec_rec))"
   ]
  },
  {
   "cell_type": "code",
   "execution_count": 30,
   "metadata": {},
   "outputs": [
    {
     "name": "stdout",
     "output_type": "stream",
     "text": [
      "{'bert-sasrec': 0.26116807391243824, 'sasrec-graph': 0.11254824414630928, 'bert-graph': 0.0831898062490378, 'all': 0.06386674078560546}\n"
     ]
    }
   ],
   "source": [
    "rate = {}\n",
    "for k, v in common_rate.items():\n",
    "    rate[k] = np.mean(v)\n",
    "print(rate)"
   ]
  },
  {
   "cell_type": "code",
   "execution_count": 7,
   "metadata": {},
   "outputs": [],
   "source": [
    "predictions = [sasrec_pred, roberta_pred, graph_pred]\n",
    "all_scores, all_labels, _ = merge_all_scores(predictions, valid_data['next_item'])\n",
    "all_scores = np.array(all_scores)\n",
    "all_labels = np.array(all_labels)"
   ]
  },
  {
   "cell_type": "code",
   "execution_count": 10,
   "metadata": {},
   "outputs": [],
   "source": [
    "all_scores[:,:, -1] = np.log(all_scores[:,:, -1]+1)"
   ]
  },
  {
   "cell_type": "code",
   "execution_count": 52,
   "metadata": {},
   "outputs": [
    {
     "name": "stderr",
     "output_type": "stream",
     "text": [
      "/tmp/ipykernel_623348/377069537.py:13: RuntimeWarning: overflow encountered in exp\n",
      "  _exp = np.exp(data)\n"
     ]
    }
   ],
   "source": [
    "all_probs = softmax(all_scores, axis=1)"
   ]
  },
  {
   "cell_type": "code",
   "execution_count": null,
   "metadata": {},
   "outputs": [],
   "source": [
    "all_candidates_valid = pd.DataFrame({'locale': valid_data['locale'], 'candidates': _})"
   ]
  },
  {
   "cell_type": "code",
   "execution_count": null,
   "metadata": {},
   "outputs": [],
   "source": [
    "all_candidates_valid.to_parquet(\"/root/autodl-tmp/huangxu/Amazon-KDDCUP-23/ensemble/valid_session_candidates_450.parquet\", engine='pyarrow')"
   ]
  },
  {
   "cell_type": "code",
   "execution_count": 3,
   "metadata": {},
   "outputs": [
    {
     "ename": "NameError",
     "evalue": "name 'all_scores' is not defined",
     "output_type": "error",
     "traceback": [
      "\u001b[0;31m---------------------------------------------------------------------------\u001b[0m",
      "\u001b[0;31mNameError\u001b[0m                                 Traceback (most recent call last)",
      "Cell \u001b[0;32mIn[3], line 1\u001b[0m\n\u001b[0;32m----> 1\u001b[0m np\u001b[39m.\u001b[39msave(\u001b[39m'\u001b[39m\u001b[39mscores_450.npy\u001b[39m\u001b[39m'\u001b[39m, all_scores)\n\u001b[1;32m      2\u001b[0m np\u001b[39m.\u001b[39msave(\u001b[39m'\u001b[39m\u001b[39mlabels_450.npy\u001b[39m\u001b[39m'\u001b[39m, all_labels)\n",
      "\u001b[0;31mNameError\u001b[0m: name 'all_scores' is not defined"
     ]
    }
   ],
   "source": [
    "np.save('scores_450.npy', all_scores)\n",
    "np.save('labels_450.npy', all_labels)"
   ]
  },
  {
   "cell_type": "code",
   "execution_count": 5,
   "metadata": {},
   "outputs": [],
   "source": [
    "all_scores = np.load('/root/autodl-tmp/huangxu/Amazon-KDDCUP-23/ensemble/scores_450.npy')"
   ]
  },
  {
   "cell_type": "code",
   "execution_count": 11,
   "metadata": {},
   "outputs": [
    {
     "data": {
      "text/plain": [
       "numpy.float64"
      ]
     },
     "execution_count": 11,
     "metadata": {},
     "output_type": "execute_result"
    }
   ],
   "source": [
    "type(all_scores[0][0][1])"
   ]
  },
  {
   "cell_type": "code",
   "execution_count": 61,
   "metadata": {},
   "outputs": [
    {
     "name": "stdout",
     "output_type": "stream",
     "text": [
      "[  5.74415528 122.87012845   0.31664055]\n"
     ]
    }
   ],
   "source": [
    "scores_mean = all_scores.mean(axis=0).mean(axis=0)\n",
    "print(scores_mean)"
   ]
  },
  {
   "cell_type": "code",
   "execution_count": 62,
   "metadata": {},
   "outputs": [
    {
     "name": "stdout",
     "output_type": "stream",
     "text": [
      "Max= [ 41.49373245 272.68444824   7.85360481]  Min= [-3.82411766  0.          0.        ]\n"
     ]
    }
   ],
   "source": [
    "flat_score = all_scores.reshape(-1, 3)\n",
    "flat_score = normalization(flat_score)\n",
    "norm_scores = flat_score.reshape(all_scores.shape)"
   ]
  },
  {
   "cell_type": "code",
   "execution_count": 22,
   "metadata": {},
   "outputs": [
    {
     "name": "stdout",
     "output_type": "stream",
     "text": [
      "[[0.63509469 0.62448067 0.62422734 ... 0.08438436 0.42763748 0.42298822]\n",
      " [0.57159204 0.4863681  0.47803585 ... 0.34399732 0.08438436 0.08438436]\n",
      " [0.55927866 0.52617882 0.52049232 ... 0.08438436 0.08438436 0.08438436]\n",
      " ...\n",
      " [0.56258023 0.54705211 0.51480086 ... 0.08438436 0.08438436 0.08438436]\n",
      " [0.59835961 0.58720774 0.5590236  ... 0.08438436 0.08438436 0.08438436]\n",
      " [0.54689293 0.54322494 0.54262573 ... 0.08438436 0.08438436 0.08438436]] \n",
      " [[0.97363901 0.97363901 0.         ... 0.         0.         0.        ]\n",
      " [0.98406751 0.98336591 0.9753296  ... 0.97524891 0.         0.        ]\n",
      " [0.         0.9664743  0.         ... 0.         0.         0.        ]\n",
      " ...\n",
      " [0.97123708 0.         0.96223483 ... 0.         0.         0.        ]\n",
      " [0.97220907 0.97299494 0.97220123 ... 0.         0.         0.        ]\n",
      " [0.97147143 0.         0.         ... 0.         0.         0.        ]] \n",
      " [[0.48184111 0.46317408 0.39924268 ... 0.08825847 0.08825847 0.08825847]\n",
      " [0.79232103 0.50311211 0.38765924 ... 0.13988637 0.13988637 0.13988637]\n",
      " [0.08825847 0.         0.         ... 0.         0.         0.        ]\n",
      " ...\n",
      " [0.20492983 0.20492983 0.13988637 ... 0.         0.         0.        ]\n",
      " [0.49292027 0.531525   0.41965912 ... 0.         0.         0.        ]\n",
      " [0.20492983 0.         0.         ... 0.         0.         0.        ]]\n"
     ]
    }
   ],
   "source": [
    "print(norm_scores[:,:,0], \"\\n\", norm_scores[:,:,1], \"\\n\", norm_scores[:,:,2])"
   ]
  },
  {
   "cell_type": "code",
   "execution_count": 63,
   "metadata": {},
   "outputs": [],
   "source": [
    "class ScoreDataset(th.utils.data.Dataset):\n",
    "    def __init__(self, scores, labels):\n",
    "        self.scores = scores\n",
    "        self.labels = labels\n",
    "        print(scores.shape, labels.shape)\n",
    "\n",
    "    def __getitem__(self, index):\n",
    "        return {'scores': self.scores[index], 'labels': self.labels[index]}\n",
    "\n",
    "    def __len__(self):\n",
    "        return self.scores.shape[0]"
   ]
  },
  {
   "cell_type": "code",
   "execution_count": 64,
   "metadata": {},
   "outputs": [],
   "source": [
    "class EmsembleWeight(th.nn.Module):\n",
    "    def __init__(self, n_models):\n",
    "        super().__init__()\n",
    "        self.weights = th.nn.Parameter(th.ones(n_models, dtype=th.double), requires_grad=True)\n",
    "\n",
    "    def forward(self, scores):\n",
    "        w = th.softmax(self.weights, dim=-1)\n",
    "        weighted_score = scores @ w.view(-1,1)\n",
    "        return weighted_score.squeeze()\n",
    "\n",
    "    def cal_loss(self, batch):\n",
    "        score = self.forward(batch['scores'])\n",
    "        pos_mask = batch['labels'].nonzero()\n",
    "        pos_score = score[pos_mask[:, 0], pos_mask[:, 1]]\n",
    "        score_sum = th.logsumexp(score, dim=-1)[pos_mask[:, 0]]\n",
    "        loss = (- pos_score + score_sum).mean()\n",
    "        return loss"
   ]
  },
  {
   "cell_type": "code",
   "execution_count": 65,
   "metadata": {},
   "outputs": [
    {
     "name": "stdout",
     "output_type": "stream",
     "text": [
      "(361581, 450, 2) (361581, 450)\n"
     ]
    }
   ],
   "source": [
    "dataset = ScoreDataset(norm_scores[:,:,[0,2]], all_labels)\n",
    "loader = th.utils.data.DataLoader(dataset, batch_size=1024, shuffle=True)"
   ]
  },
  {
   "cell_type": "code",
   "execution_count": 66,
   "metadata": {},
   "outputs": [],
   "source": [
    "model = EmsembleWeight(2)\n",
    "model = model.cuda()\n",
    "optimizer = th.optim.Adam(model.parameters(), lr=0.001)"
   ]
  },
  {
   "cell_type": "code",
   "execution_count": 67,
   "metadata": {},
   "outputs": [],
   "source": [
    "epochs = 50"
   ]
  },
  {
   "cell_type": "code",
   "execution_count": 68,
   "metadata": {},
   "outputs": [
    {
     "name": "stdout",
     "output_type": "stream",
     "text": [
      "Epoch: 0: loss: 5.91446\n",
      "Current weight: tensor([0.6708, 1.3292], device='cuda:0', dtype=torch.float64)\n",
      "Epoch: 1: loss: 5.91163\n",
      "Current weight: tensor([0.3921, 1.6079], device='cuda:0', dtype=torch.float64)\n",
      "Epoch: 2: loss: 5.90994\n",
      "Current weight: tensor([0.1621, 1.8379], device='cuda:0', dtype=torch.float64)\n",
      "Epoch: 3: loss: 5.90893\n",
      "Current weight: tensor([-0.0311,  2.0311], device='cuda:0', dtype=torch.float64)\n",
      "Epoch: 4: loss: 5.90833\n",
      "Current weight: tensor([-0.1986,  2.1986], device='cuda:0', dtype=torch.float64)\n",
      "Epoch: 5: loss: 5.90788\n",
      "Current weight: tensor([-0.3462,  2.3462], device='cuda:0', dtype=torch.float64)\n",
      "Epoch: 6: loss: 5.90770\n",
      "Current weight: tensor([-0.4809,  2.4809], device='cuda:0', dtype=torch.float64)\n",
      "Epoch: 7: loss: 5.90749\n",
      "Current weight: tensor([-0.6035,  2.6035], device='cuda:0', dtype=torch.float64)\n",
      "Epoch: 8: loss: 5.90738\n",
      "Current weight: tensor([-0.7196,  2.7196], device='cuda:0', dtype=torch.float64)\n",
      "Epoch: 9: loss: 5.90727\n",
      "Current weight: tensor([-0.8293,  2.8293], device='cuda:0', dtype=torch.float64)\n",
      "Epoch: 10: loss: 5.90720\n",
      "Current weight: tensor([-0.9340,  2.9340], device='cuda:0', dtype=torch.float64)\n",
      "Epoch: 11: loss: 5.90714\n",
      "Current weight: tensor([-1.0352,  3.0352], device='cuda:0', dtype=torch.float64)\n",
      "Epoch: 12: loss: 5.90713\n",
      "Current weight: tensor([-1.1329,  3.1329], device='cuda:0', dtype=torch.float64)\n",
      "Epoch: 13: loss: 5.90702\n",
      "Current weight: tensor([-1.2281,  3.2281], device='cuda:0', dtype=torch.float64)\n",
      "Epoch: 14: loss: 5.90707\n",
      "Current weight: tensor([-1.3212,  3.3212], device='cuda:0', dtype=torch.float64)\n",
      "Epoch: 15: loss: 5.90694\n",
      "Current weight: tensor([-1.4124,  3.4124], device='cuda:0', dtype=torch.float64)\n",
      "Epoch: 16: loss: 5.90700\n",
      "Current weight: tensor([-1.5025,  3.5025], device='cuda:0', dtype=torch.float64)\n",
      "Epoch: 17: loss: 5.90694\n",
      "Current weight: tensor([-1.5908,  3.5908], device='cuda:0', dtype=torch.float64)\n",
      "Epoch: 18: loss: 5.90697\n",
      "Current weight: tensor([-1.6791,  3.6791], device='cuda:0', dtype=torch.float64)\n",
      "Epoch: 19: loss: 5.90692\n",
      "Current weight: tensor([-1.7661,  3.7661], device='cuda:0', dtype=torch.float64)\n",
      "Epoch: 20: loss: 5.90693\n",
      "Current weight: tensor([-1.8530,  3.8530], device='cuda:0', dtype=torch.float64)\n",
      "Epoch: 21: loss: 5.90685\n",
      "Current weight: tensor([-1.9389,  3.9389], device='cuda:0', dtype=torch.float64)\n",
      "Epoch: 22: loss: 5.90687\n",
      "Current weight: tensor([-2.0243,  4.0243], device='cuda:0', dtype=torch.float64)\n",
      "Epoch: 23: loss: 5.90680\n",
      "Current weight: tensor([-2.1092,  4.1092], device='cuda:0', dtype=torch.float64)\n",
      "Epoch: 24: loss: 5.90685\n",
      "Current weight: tensor([-2.1944,  4.1944], device='cuda:0', dtype=torch.float64)\n",
      "Epoch: 25: loss: 5.90694\n",
      "Current weight: tensor([-2.2791,  4.2791], device='cuda:0', dtype=torch.float64)\n",
      "Epoch: 26: loss: 5.90692\n",
      "Current weight: tensor([-2.3633,  4.3633], device='cuda:0', dtype=torch.float64)\n",
      "Epoch: 27: loss: 5.90686\n",
      "Current weight: tensor([-2.4473,  4.4473], device='cuda:0', dtype=torch.float64)\n",
      "Epoch: 28: loss: 5.90688\n",
      "Current weight: tensor([-2.5312,  4.5312], device='cuda:0', dtype=torch.float64)\n",
      "Epoch: 29: loss: 5.90686\n",
      "Current weight: tensor([-2.6148,  4.6148], device='cuda:0', dtype=torch.float64)\n",
      "Epoch: 30: loss: 5.90687\n",
      "Current weight: tensor([-2.6988,  4.6988], device='cuda:0', dtype=torch.float64)\n",
      "Epoch: 31: loss: 5.90684\n",
      "Current weight: tensor([-2.7822,  4.7822], device='cuda:0', dtype=torch.float64)\n",
      "Epoch: 32: loss: 5.90682\n",
      "Current weight: tensor([-2.8658,  4.8658], device='cuda:0', dtype=torch.float64)\n",
      "Epoch: 33: loss: 5.90685\n",
      "Current weight: tensor([-2.9493,  4.9493], device='cuda:0', dtype=torch.float64)\n",
      "Epoch: 34: loss: 5.90680\n",
      "Current weight: tensor([-3.0326,  5.0326], device='cuda:0', dtype=torch.float64)\n",
      "Epoch: 35: loss: 5.90689\n",
      "Current weight: tensor([-3.1167,  5.1167], device='cuda:0', dtype=torch.float64)\n",
      "Epoch: 36: loss: 5.90683\n",
      "Current weight: tensor([-3.2000,  5.2000], device='cuda:0', dtype=torch.float64)\n",
      "Epoch: 37: loss: 5.90684\n",
      "Current weight: tensor([-3.2829,  5.2829], device='cuda:0', dtype=torch.float64)\n",
      "Epoch: 38: loss: 5.90684\n",
      "Current weight: tensor([-3.3664,  5.3664], device='cuda:0', dtype=torch.float64)\n",
      "Epoch: 39: loss: 5.90681\n",
      "Current weight: tensor([-3.4494,  5.4494], device='cuda:0', dtype=torch.float64)\n",
      "Epoch: 40: loss: 5.90680\n",
      "Current weight: tensor([-3.5326,  5.5326], device='cuda:0', dtype=torch.float64)\n",
      "Epoch: 41: loss: 5.90683\n",
      "Current weight: tensor([-3.6162,  5.6162], device='cuda:0', dtype=torch.float64)\n",
      "Epoch: 42: loss: 5.90685\n",
      "Current weight: tensor([-3.6997,  5.6997], device='cuda:0', dtype=torch.float64)\n",
      "Epoch: 43: loss: 5.90681\n",
      "Current weight: tensor([-3.7824,  5.7824], device='cuda:0', dtype=torch.float64)\n",
      "Epoch: 44: loss: 5.90678\n",
      "Current weight: tensor([-3.8656,  5.8656], device='cuda:0', dtype=torch.float64)\n",
      "Epoch: 45: loss: 5.90682\n",
      "Current weight: tensor([-3.9491,  5.9491], device='cuda:0', dtype=torch.float64)\n",
      "Epoch: 46: loss: 5.90686\n",
      "Current weight: tensor([-4.0325,  6.0325], device='cuda:0', dtype=torch.float64)\n",
      "Epoch: 47: loss: 5.90678\n",
      "Current weight: tensor([-4.1152,  6.1152], device='cuda:0', dtype=torch.float64)\n",
      "Epoch: 48: loss: 5.90688\n",
      "Current weight: tensor([-4.1981,  6.1981], device='cuda:0', dtype=torch.float64)\n",
      "Epoch: 49: loss: 5.90688\n",
      "Current weight: tensor([-4.2811,  6.2811], device='cuda:0', dtype=torch.float64)\n"
     ]
    }
   ],
   "source": [
    "model.train()\n",
    "for e in range(epochs):\n",
    "    e_loss = 0\n",
    "    step = 0\n",
    "    for batch in loader:\n",
    "        optimizer.zero_grad()\n",
    "        batch = {k: v.cuda() for k,v in batch.items()}\n",
    "        loss = model.cal_loss(batch)\n",
    "        loss.backward()\n",
    "        optimizer.step()\n",
    "\n",
    "        e_loss += loss.data\n",
    "        step += 1\n",
    "    print(\"Epoch: {}: loss: {:.5f}\".format(e, e_loss / step))\n",
    "    print(\"Current weight: {}\".format(model.weights.data))"
   ]
  },
  {
   "cell_type": "code",
   "execution_count": 69,
   "metadata": {},
   "outputs": [
    {
     "data": {
      "text/plain": [
       "tensor([2.5876e-05, 9.9997e-01], device='cuda:0', dtype=torch.float64)"
      ]
     },
     "execution_count": 69,
     "metadata": {},
     "output_type": "execute_result"
    }
   ],
   "source": [
    "th.softmax(model.weights.data, dim=-1)"
   ]
  },
  {
   "cell_type": "code",
   "execution_count": 48,
   "metadata": {},
   "outputs": [],
   "source": [
    "test_data = pd.read_csv(\"/root/autodl-tmp/xiaolong/WorkSpace/Amazon-KDDCUP-23/raw_data/sessions_test_task1.csv\", sep=\",\")\n",
    "roberta_pred_tst = pd.read_parquet(\"/root/autodl-tmp/xiaolong/WorkSpace/Amazon-KDDCUP-23/candidates/roberta/roberta_test_150_with_score.parquet\", engine='pyarrow')\n",
    "sasrec_pred_tst = pd.read_parquet(\"/root/autodl-tmp/xiaolong/WorkSpace/Amazon-KDDCUP-23/candidates/SASRec_Next/SASRec_test_150_with_score.parquet\", engine='pyarrow')\n",
    "graph_pred_tst = pd.read_parquet(\"/root/autodl-tmp/huangxu/Amazon-KDDCUP-23/co-occurrence_graph/graph_test_150_with_score.parquet\", engine='pyarrow')"
   ]
  },
  {
   "cell_type": "code",
   "execution_count": 49,
   "metadata": {},
   "outputs": [],
   "source": [
    "predictions_tst = [sasrec_pred_tst, roberta_pred_tst, graph_pred_tst]\n",
    "all_scores_tst, _, all_cands_tst = merge_all_scores(predictions_tst)\n",
    "all_scores_tst = np.array(all_scores_tst)\n",
    "cands = np.array(all_cands_tst)"
   ]
  },
  {
   "cell_type": "code",
   "execution_count": 56,
   "metadata": {},
   "outputs": [],
   "source": [
    "all_scores_tst[:, :, -1] = np.log(all_scores_tst[:,:, -1]+1)"
   ]
  },
  {
   "cell_type": "code",
   "execution_count": 57,
   "metadata": {},
   "outputs": [
    {
     "name": "stdout",
     "output_type": "stream",
     "text": [
      "Max= [ 40.96121979 273.03417969   2.16220585]  Min= [-3.29537606  0.          0.        ]\n"
     ]
    }
   ],
   "source": [
    "flat_score_tst = all_scores_tst.reshape(-1, 3)\n",
    "flat_score_tst = normalization(flat_score_tst)\n",
    "norm_scores_tst = flat_score.reshape(all_scores_tst.shape)"
   ]
  },
  {
   "cell_type": "code",
   "execution_count": 51,
   "metadata": {},
   "outputs": [
    {
     "data": {
      "text/plain": [
       "True"
      ]
     },
     "execution_count": 51,
     "metadata": {},
     "output_type": "execute_result"
    }
   ],
   "source": [
    "cands.shape == all_scores_tst.shape[:-1]"
   ]
  },
  {
   "cell_type": "code",
   "execution_count": 52,
   "metadata": {},
   "outputs": [],
   "source": [
    "weight = th.softmax(model.weights.data, dim=-1).cpu().numpy()"
   ]
  },
  {
   "cell_type": "code",
   "execution_count": 55,
   "metadata": {},
   "outputs": [],
   "source": [
    "scores = norm_scores[:, :, [0,2]] @ weight"
   ]
  },
  {
   "cell_type": "code",
   "execution_count": null,
   "metadata": {},
   "outputs": [
    {
     "data": {
      "text/plain": [
       "(316971, 450)"
      ]
     },
     "execution_count": 37,
     "metadata": {},
     "output_type": "execute_result"
    }
   ],
   "source": [
    "scores.shape"
   ]
  },
  {
   "cell_type": "code",
   "execution_count": null,
   "metadata": {},
   "outputs": [],
   "source": [
    "idx = np.argsort(-scores, axis=1)[:,:100]"
   ]
  },
  {
   "cell_type": "code",
   "execution_count": null,
   "metadata": {},
   "outputs": [],
   "source": [
    "final_res = []\n",
    "\n",
    "for i, c in enumerate(all_cands_tst):\n",
    "    final_res.append(c[idx[i]].tolist())"
   ]
  },
  {
   "cell_type": "code",
   "execution_count": null,
   "metadata": {},
   "outputs": [
    {
     "data": {
      "text/plain": [
       "count    316971.0\n",
       "mean        100.0\n",
       "std           0.0\n",
       "min         100.0\n",
       "25%         100.0\n",
       "50%         100.0\n",
       "75%         100.0\n",
       "max         100.0\n",
       "Name: next_item_prediction, dtype: float64"
      ]
     },
     "execution_count": 40,
     "metadata": {},
     "output_type": "execute_result"
    }
   ],
   "source": [
    "df = pd.DataFrame({'locale': test_data['locale'], 'next_item_prediction': final_res})\n",
    "df['next_item_prediction'].apply(len).describe()"
   ]
  },
  {
   "cell_type": "code",
   "execution_count": null,
   "metadata": {},
   "outputs": [],
   "source": [
    "df.to_parquet(\"/root/autodl-tmp/huangxu/Amazon-KDDCUP-23/ensemble/predictions.parquet\", engine='pyarrow')"
   ]
  },
  {
   "cell_type": "code",
   "execution_count": 25,
   "metadata": {},
   "outputs": [
    {
     "data": {
      "text/html": [
       "<div>\n",
       "<style scoped>\n",
       "    .dataframe tbody tr th:only-of-type {\n",
       "        vertical-align: middle;\n",
       "    }\n",
       "\n",
       "    .dataframe tbody tr th {\n",
       "        vertical-align: top;\n",
       "    }\n",
       "\n",
       "    .dataframe thead th {\n",
       "        text-align: right;\n",
       "    }\n",
       "</style>\n",
       "<table border=\"1\" class=\"dataframe\">\n",
       "  <thead>\n",
       "    <tr style=\"text-align: right;\">\n",
       "      <th></th>\n",
       "      <th>locale</th>\n",
       "      <th>next_item_prediction</th>\n",
       "    </tr>\n",
       "  </thead>\n",
       "  <tbody>\n",
       "    <tr>\n",
       "      <th>0</th>\n",
       "      <td>DE</td>\n",
       "      <td>[B0BFBQD7BB, B0BFBQD7BB, B0B7S7LBMB, B0B7S7LBM...</td>\n",
       "    </tr>\n",
       "    <tr>\n",
       "      <th>1</th>\n",
       "      <td>DE</td>\n",
       "      <td>[B01IT50MC8, B09WD6NB21, B00CLN9TYM, B07KWB5C6...</td>\n",
       "    </tr>\n",
       "    <tr>\n",
       "      <th>2</th>\n",
       "      <td>DE</td>\n",
       "      <td>[B0BF99DXCY, B0044MK532, B0044MK532, B0044MK53...</td>\n",
       "    </tr>\n",
       "    <tr>\n",
       "      <th>3</th>\n",
       "      <td>DE</td>\n",
       "      <td>[B08M2FXZWR, B0BJYJQS7T, B0BJYJQS7T, B0BJYJQS7...</td>\n",
       "    </tr>\n",
       "    <tr>\n",
       "      <th>4</th>\n",
       "      <td>DE</td>\n",
       "      <td>[B09L8GQGTY, B09P33NXS5, B09P33NXS5, B096DGXNZ...</td>\n",
       "    </tr>\n",
       "    <tr>\n",
       "      <th>...</th>\n",
       "      <td>...</td>\n",
       "      <td>...</td>\n",
       "    </tr>\n",
       "    <tr>\n",
       "      <th>316966</th>\n",
       "      <td>UK</td>\n",
       "      <td>[B0B5QT4SFX, B0084M66PY, B09BZCDZTK, B083476WT...</td>\n",
       "    </tr>\n",
       "    <tr>\n",
       "      <th>316967</th>\n",
       "      <td>UK</td>\n",
       "      <td>[B08KGG48WV, B08KDK6FS1, B08KDK6FS1, B08MBP7G5...</td>\n",
       "    </tr>\n",
       "    <tr>\n",
       "      <th>316968</th>\n",
       "      <td>UK</td>\n",
       "      <td>[B0002EXYZ2, B0002EXYZ2, B09MTQSLVC, B09MTQSLV...</td>\n",
       "    </tr>\n",
       "    <tr>\n",
       "      <th>316969</th>\n",
       "      <td>UK</td>\n",
       "      <td>[B09C8RQ8NT, B004LR92MK, B09G6M255X, B09G6KJ62...</td>\n",
       "    </tr>\n",
       "    <tr>\n",
       "      <th>316970</th>\n",
       "      <td>UK</td>\n",
       "      <td>[B0BBM919DP, B0BBM919DP, B09Y61G9K8, B09Y61G9K...</td>\n",
       "    </tr>\n",
       "  </tbody>\n",
       "</table>\n",
       "<p>316971 rows × 2 columns</p>\n",
       "</div>"
      ],
      "text/plain": [
       "       locale                               next_item_prediction\n",
       "0          DE  [B0BFBQD7BB, B0BFBQD7BB, B0B7S7LBMB, B0B7S7LBM...\n",
       "1          DE  [B01IT50MC8, B09WD6NB21, B00CLN9TYM, B07KWB5C6...\n",
       "2          DE  [B0BF99DXCY, B0044MK532, B0044MK532, B0044MK53...\n",
       "3          DE  [B08M2FXZWR, B0BJYJQS7T, B0BJYJQS7T, B0BJYJQS7...\n",
       "4          DE  [B09L8GQGTY, B09P33NXS5, B09P33NXS5, B096DGXNZ...\n",
       "...       ...                                                ...\n",
       "316966     UK  [B0B5QT4SFX, B0084M66PY, B09BZCDZTK, B083476WT...\n",
       "316967     UK  [B08KGG48WV, B08KDK6FS1, B08KDK6FS1, B08MBP7G5...\n",
       "316968     UK  [B0002EXYZ2, B0002EXYZ2, B09MTQSLVC, B09MTQSLV...\n",
       "316969     UK  [B09C8RQ8NT, B004LR92MK, B09G6M255X, B09G6KJ62...\n",
       "316970     UK  [B0BBM919DP, B0BBM919DP, B09Y61G9K8, B09Y61G9K...\n",
       "\n",
       "[316971 rows x 2 columns]"
      ]
     },
     "execution_count": 25,
     "metadata": {},
     "output_type": "execute_result"
    }
   ],
   "source": [
    "df"
   ]
  },
  {
   "cell_type": "code",
   "execution_count": 82,
   "metadata": {},
   "outputs": [],
   "source": [
    "valid_data = pd.read_csv(\"/root/autodl-tmp/xiaolong/WorkSpace/Amazon-KDDCUP-23/data_for_recstudio/all_task_1_valid_sessions.csv\", sep=\",\")\n",
    "roberta_pred_val = pd.read_parquet(\"/root/autodl-tmp/xiaolong/WorkSpace/Amazon-KDDCUP-23/candidates/roberta/roberta_valid_150_with_score.parquet\", engine='pyarrow')\n",
    "sasrec_pred_val = pd.read_parquet(\"/root/autodl-tmp/xiaolong/WorkSpace/Amazon-KDDCUP-23/candidates/SASRec_Next/SASRec_valid_150_with_score.parquet\", engine='pyarrow')\n",
    "graph_pred_val = pd.read_parquet(\"/root/autodl-tmp/huangxu/Amazon-KDDCUP-23/co-occurrence_graph/graph_valid_150_with_score.parquet\", engine='pyarrow')"
   ]
  },
  {
   "cell_type": "code",
   "execution_count": 89,
   "metadata": {},
   "outputs": [
    {
     "data": {
      "text/plain": [
       "((361581, 3), (361581, 2))"
      ]
     },
     "execution_count": 89,
     "metadata": {},
     "output_type": "execute_result"
    }
   ],
   "source": [
    "valid_data.shape, roberta_pred_val.shape"
   ]
  },
  {
   "cell_type": "code",
   "execution_count": 83,
   "metadata": {},
   "outputs": [],
   "source": [
    "predictions_val = [sasrec_pred_val, roberta_pred_val, graph_pred_val]\n",
    "all_scores_val, _, all_cands_val = merge_all_scores(predictions_val)\n",
    "all_scores_val = np.array(all_scores_val)\n",
    "cands = np.array(all_cands_val)"
   ]
  },
  {
   "cell_type": "code",
   "execution_count": 84,
   "metadata": {},
   "outputs": [
    {
     "name": "stdout",
     "output_type": "stream",
     "text": [
      "Max= [  41.49373245  272.68444824 8210.        ]  Min= [-3.82411766  0.          0.        ]\n"
     ]
    }
   ],
   "source": [
    "flat_score = all_scores_val.reshape(-1, 3)\n",
    "flat_score = normalization(flat_score)\n",
    "norm_scores = flat_score.reshape(all_scores_val.shape)\n",
    "scores = norm_scores @ weight"
   ]
  },
  {
   "cell_type": "code",
   "execution_count": 94,
   "metadata": {},
   "outputs": [],
   "source": [
    "idx = np.argsort(-scores, axis=1)[:,:100]\n",
    "\n",
    "final_res = []\n",
    "\n",
    "for i, c in enumerate(all_cands_val):\n",
    "    final_res.append(c[idx[i]].tolist())"
   ]
  },
  {
   "cell_type": "code",
   "execution_count": 96,
   "metadata": {},
   "outputs": [
    {
     "data": {
      "text/plain": [
       "count    361581.0\n",
       "mean        100.0\n",
       "std           0.0\n",
       "min         100.0\n",
       "25%         100.0\n",
       "50%         100.0\n",
       "75%         100.0\n",
       "max         100.0\n",
       "Name: next_item_prediction, dtype: float64"
      ]
     },
     "execution_count": 96,
     "metadata": {},
     "output_type": "execute_result"
    }
   ],
   "source": [
    "df_val = pd.DataFrame({'locale': valid_data['locale'], 'next_item_prediction': final_res})\n",
    "df_val['next_item_prediction'].apply(len).describe()"
   ]
  },
  {
   "cell_type": "code",
   "execution_count": 97,
   "metadata": {},
   "outputs": [],
   "source": [
    "df_val.to_parquet(\"/root/autodl-tmp/huangxu/Amazon-KDDCUP-23/ensemble/predictions_val.parquet\", engine='pyarrow')"
   ]
  },
  {
   "cell_type": "code",
   "execution_count": 93,
   "metadata": {},
   "outputs": [
    {
     "data": {
      "text/plain": [
       "316971"
      ]
     },
     "execution_count": 93,
     "metadata": {},
     "output_type": "execute_result"
    }
   ],
   "source": [
    "len(final_res)"
   ]
  }
 ],
 "metadata": {
  "kernelspec": {
   "display_name": "huangxu",
   "language": "python",
   "name": "python3"
  },
  "language_info": {
   "codemirror_mode": {
    "name": "ipython",
    "version": 3
   },
   "file_extension": ".py",
   "mimetype": "text/x-python",
   "name": "python",
   "nbconvert_exporter": "python",
   "pygments_lexer": "ipython3",
   "version": "3.9.16"
  },
  "orig_nbformat": 4
 },
 "nbformat": 4,
 "nbformat_minor": 2
}
