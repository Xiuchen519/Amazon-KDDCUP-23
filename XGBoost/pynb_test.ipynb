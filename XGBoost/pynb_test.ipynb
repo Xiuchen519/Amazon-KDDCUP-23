{
 "cells": [
  {
   "cell_type": "markdown",
   "metadata": {},
   "source": [
    "# Necessary Common Functions\n",
    "\n",
    "Those functions should be ran before each part."
   ]
  },
  {
   "cell_type": "code",
   "execution_count": null,
   "metadata": {},
   "outputs": [
    {
     "name": "stderr",
     "output_type": "stream",
     "text": [
      "/root/autodl-tmp/xiaolong/.conda/envs/torch12/lib/python3.9/site-packages/tqdm/auto.py:22: TqdmWarning: IProgress not found. Please update jupyter and ipywidgets. See https://ipywidgets.readthedocs.io/en/stable/user_install.html\n",
      "  from .autonotebook import tqdm as notebook_tqdm\n"
     ]
    }
   ],
   "source": [
    "import os\n",
    "import random\n",
    "import numpy as np\n",
    "import pandas as pd\n",
    "import cudf, itertools\n",
    "import scipy.sparse as ssp\n",
    "from functools import lru_cache\n",
    "from tqdm import tqdm, trange\n",
    "from collections import Counter, defaultdict\n",
    "import numba \n",
    "from numba import jit\n",
    "import datasets\n",
    "from datasets import Dataset as TFDataset\n",
    "import multiprocessing"
   ]
  },
  {
   "cell_type": "code",
   "execution_count": null,
   "metadata": {},
   "outputs": [],
   "source": [
    "def get_sessions(df: pd.DataFrame, test=False, list_item=False) -> list:\n",
    "    \n",
    "    all_item = []\n",
    "    if 'next_item' in df and not test:\n",
    "        if list_item:\n",
    "            for i in trange(len(df)):\n",
    "                all_item.append(np.concatenate([np.array(df.loc[i, 'prev_items']), np.array(df.loc[i, 'next_item'])], axis=0))\n",
    "        else:\n",
    "            for i in trange(len(df)):\n",
    "                all_item.append(eval((df.loc[i, 'prev_items'][:-1]+f\" '{df.loc[i, 'next_item']}']\").replace(\" \", \",\")))\n",
    "    else:\n",
    "        if list_item:\n",
    "            all_item = df['prev_items']\n",
    "        else:\n",
    "            for i in trange(len(df)):\n",
    "                all_item.append(eval((df.loc[i, 'prev_items']).replace(\" \", \",\")))\n",
    "    return all_item"
   ]
  },
  {
   "cell_type": "code",
   "execution_count": null,
   "metadata": {},
   "outputs": [],
   "source": [
    "def get_co_occurence_dict(sessions: list, bidirection: bool=True, weighted: bool=False, max_dis=None) -> dict:\n",
    "    res = {}\n",
    "    for sess in tqdm(sessions):\n",
    "        for i, id in enumerate(sess):\n",
    "            if id not in res:\n",
    "                res[id] = Counter()\n",
    "            \n",
    "            if max_dis == None:\n",
    "                e = len(sess)\n",
    "            else:\n",
    "                e = min(i + max_dis + 1, len(sess))\n",
    "\n",
    "            for j in range(i+1, e):\n",
    "                if not weighted:\n",
    "                    res[id][sess[j]] += 1\n",
    "                else:\n",
    "                    res[id][sess[j]] += 1 / (j-i)\n",
    "                if bidirection:\n",
    "                    if sess[j] not in res:\n",
    "                        res[sess[j]] = Counter()\n",
    "                    if not weighted:\n",
    "                        res[sess[j]][id] += 1\n",
    "                    else:\n",
    "                        res[sess[j]][id] += 1 / (j-i)\n",
    "    return res"
   ]
  },
  {
   "cell_type": "code",
   "execution_count": null,
   "metadata": {},
   "outputs": [],
   "source": [
    "def sort_co_occurence_dict(co_occurence_dict: dict) -> dict:\n",
    "    res = {}\n",
    "    for k,v in co_occurence_dict.items():\n",
    "        res[k] = dict(sorted(v.items(), key=lambda item: -item[1]))\n",
    "    return res"
   ]
  },
  {
   "cell_type": "code",
   "execution_count": null,
   "metadata": {},
   "outputs": [],
   "source": [
    "def cast_dtype(df : pd.DataFrame, columns=None):\n",
    "    if columns is None:\n",
    "        columns = df.columns\n",
    "    for k in columns:\n",
    "        dt = type(df[k].iloc[0])\n",
    "        if 'float' in str(dt):\n",
    "            df[k] = df[k].astype('float32')\n",
    "        elif 'int' in str(dt):\n",
    "            df[k] = df[k].astype('int32')\n",
    "        elif dt == list:\n",
    "            dt_ = type(df.iloc[0][k][0])\n",
    "            if 'float' in str(dt_):\n",
    "                df[k] = df[k].apply(lambda x : np.array(x, dtype=np.float32))\n",
    "            elif 'int' in str(dt_):\n",
    "                df[k] = df[k].apply(lambda x : np.array(x, dtype=np.int32))"
   ]
  },
  {
   "cell_type": "code",
   "execution_count": null,
   "metadata": {},
   "outputs": [],
   "source": [
    "def get_session_last_item(session_df):\n",
    "    last_items = []\n",
    "    num_sessions = len(session_df)\n",
    "    for i in tqdm(range(num_sessions)):\n",
    "        sess = session_df.iloc[i]\n",
    "        sess_prev_items = sess['prev_items']\n",
    "        \n",
    "        product_list = sess_prev_items.strip('[]').split(' ')\n",
    "        last_item = product_list[-1].strip(\"'\\n\")\n",
    "\n",
    "        last_items.append(last_item)\n",
    "    return last_items "
   ]
  },
  {
   "cell_type": "code",
   "execution_count": null,
   "metadata": {},
   "outputs": [],
   "source": [
    "def get_co_graph_counts(session_last_items, merged_candidates_df, co_graph_dict):\n",
    "    co_graph_count_list = []\n",
    "    for idx, row in tqdm(merged_candidates_df.iterrows(), total=merged_candidates_df.shape[0]):\n",
    "        sess_id = row['sess_id']\n",
    "        product = row['product']\n",
    "        last_item = session_last_items[sess_id]\n",
    "        co_graph_count = co_graph_dict[last_item][product]\n",
    "        co_graph_count_list.append(co_graph_count)\n",
    "    return co_graph_count_list"
   ]
  },
  {
   "cell_type": "code",
   "execution_count": null,
   "metadata": {},
   "outputs": [],
   "source": [
    "def flatten_co_graph_dict(co_graph_dict):\n",
    "    product_list = []\n",
    "    neighbor_list = []\n",
    "    counts_list = []\n",
    "    for product in tqdm(co_graph_dict.keys(), total=len(co_graph_dict)):\n",
    "        for neigh in co_graph_dict[product].keys():\n",
    "            product_list.append(product)\n",
    "            neighbor_list.append(neigh)\n",
    "            counts_list.append(co_graph_dict[product][neigh])\n",
    "    return pd.DataFrame({'product_' : product_list, 'neighbor' : neighbor_list, 'counts' : counts_list})"
   ]
  },
  {
   "cell_type": "code",
   "execution_count": null,
   "metadata": {},
   "outputs": [],
   "source": [
    "def normalize_co_graph_counts(merged_candidates_counts):\n",
    "    # normalize co graph counts \n",
    "    # merged_candidates_counts_g = cudf.from_pandas(merged_candidates_counts)\n",
    "    sessions_count_sum = merged_candidates_counts[['sess_id', 'counts']].groupby('sess_id').sum()\n",
    "    sessions_count_sum.sort_index(inplace=True)\n",
    "\n",
    "    sessions_count_sum = sessions_count_sum.to_pandas()\n",
    "\n",
    "    candidates_count_sum = sessions_count_sum.loc[merged_candidates_counts['sess_id']].reset_index(drop=True)\n",
    "    merged_candidates_counts['counts_cum'] = candidates_count_sum['counts']\n",
    "    merged_candidates_counts['normalized_counts'] = merged_candidates_counts['counts'] / merged_candidates_counts['counts_cum']\n",
    "\n",
    "    # del merged_candidates_counts_g\n",
    "    # del sessions_count_sum_g\n",
    "    "
   ]
  },
  {
   "cell_type": "markdown",
   "metadata": {},
   "source": [
    "# Merge valid co-graph counts "
   ]
  },
  {
   "cell_type": "code",
   "execution_count": null,
   "metadata": {},
   "outputs": [],
   "source": [
    "merged_candidates_feature_path = '/root/autodl-tmp/xiaolong/WorkSpace/Amazon-KDDCUP-23/XGBoost/candidates/merged_candidates_no_hist_feature.parquet'\n",
    "train_sessions_path = '/root/autodl-tmp/xiaolong/WorkSpace/Amazon-KDDCUP-23/data_for_recstudio/task1_data/task13_4_task1_train_sessions.csv'\n",
    "valid_sessions_path = '/root/autodl-tmp/xiaolong/WorkSpace/Amazon-KDDCUP-23/data_for_recstudio/task1_data/task13_4_task1_valid_sessions.csv'\n",
    "test_sessions_path = '/root/autodl-tmp/xiaolong/WorkSpace/Amazon-KDDCUP-23/raw_data/sessions_test_task1.csv'\n",
    "product_data_path = '/root/autodl-tmp/xiaolong/WorkSpace/Amazon-KDDCUP-23/raw_data/products_train.csv'"
   ]
  },
  {
   "cell_type": "code",
   "execution_count": null,
   "metadata": {},
   "outputs": [],
   "source": [
    "@lru_cache(maxsize=1)\n",
    "def read_merged_candidates_feature():\n",
    "    return pd.read_parquet(merged_candidates_feature_path)\n",
    "\n",
    "@lru_cache(maxsize=1)\n",
    "def read_product_data():\n",
    "    return pd.read_csv(product_data_path)\n",
    "\n",
    "@lru_cache(maxsize=1)\n",
    "def read_train_data():\n",
    "    return pd.read_csv(train_sessions_path)\n",
    "\n",
    "@lru_cache(maxsize=1)\n",
    "def read_valid_data():\n",
    "    return pd.read_csv(valid_sessions_path)\n",
    "\n",
    "@lru_cache(maxsize=1)\n",
    "def read_test_data():\n",
    "    return pd.read_csv(test_sessions_path)"
   ]
  },
  {
   "cell_type": "code",
   "execution_count": null,
   "metadata": {},
   "outputs": [],
   "source": [
    "merged_candidates_feature = read_merged_candidates_feature()"
   ]
  },
  {
   "cell_type": "code",
   "execution_count": null,
   "metadata": {},
   "outputs": [],
   "source": [
    "merged_candidates = merged_candidates_feature[['sess_id', 'sess_locale', 'product']]"
   ]
  },
  {
   "cell_type": "code",
   "execution_count": null,
   "metadata": {},
   "outputs": [],
   "source": [
    "train_sess_data = read_train_data()\n",
    "valid_sess_data = read_valid_data()\n",
    "test_sess_data = read_test_data()\n",
    "product = read_product_data()"
   ]
  },
  {
   "cell_type": "code",
   "execution_count": null,
   "metadata": {},
   "outputs": [
    {
     "name": "stderr",
     "output_type": "stream",
     "text": [
      "100%|██████████| 3557898/3557898 [02:32<00:00, 23315.27it/s]\n",
      "100%|██████████| 361581/361581 [00:12<00:00, 29670.48it/s]\n"
     ]
    }
   ],
   "source": [
    "train_sess_item = get_sessions(train_sess_data, list_item=False)\n",
    "valid_sess_item = get_sessions(valid_sess_data, test=True, list_item=False)"
   ]
  },
  {
   "attachments": {},
   "cell_type": "markdown",
   "metadata": {},
   "source": [
    "## bidirection"
   ]
  },
  {
   "cell_type": "code",
   "execution_count": null,
   "metadata": {},
   "outputs": [],
   "source": [
    "# bidirection\n",
    "co_occurence_dict_bi = get_co_occurence_dict(train_sess_item + valid_sess_item, bidirection=True, weighted=False)"
   ]
  },
  {
   "cell_type": "code",
   "execution_count": null,
   "metadata": {},
   "outputs": [],
   "source": [
    "# only one arg, can't use another arg\n",
    "def get_bi_valid_session_co_graph_candidates(sess_id):\n",
    "    sess = valid_sess_item[sess_id]\n",
    "    prev_items = set()\n",
    "    cand_counter = Counter()\n",
    "    for item in sess:\n",
    "        if item in co_occurence_dict_bi and item not in prev_items:\n",
    "            cand_counter = cand_counter + co_occurence_dict_bi[item]\n",
    "            prev_items.add(item) # one time for every item\n",
    "    for item in sess:\n",
    "        if item in cand_counter:\n",
    "            cand_counter.pop(item) # remove history items \n",
    "\n",
    "    return cand_counter"
   ]
  },
  {
   "cell_type": "code",
   "execution_count": null,
   "metadata": {},
   "outputs": [],
   "source": [
    "valid_co_graph_candidates = TFDataset.from_dict({'sess_id' : list(range(valid_sess_data.shape[0]))})"
   ]
  },
  {
   "cell_type": "code",
   "execution_count": null,
   "metadata": {},
   "outputs": [],
   "source": [
    "# about 1 mins\n",
    "sess_ids = list(range(len(valid_sess_item)))\n",
    "pool = multiprocessing.Pool(10)\n",
    "bi_valid_sessions_counter = pool.map(get_bi_valid_session_co_graph_candidates, sess_ids)"
   ]
  },
  {
   "cell_type": "code",
   "execution_count": null,
   "metadata": {},
   "outputs": [
    {
     "data": {
      "text/plain": [
       "(Dataset({\n",
       "     features: ['sess_id'],\n",
       "     num_rows: 361581\n",
       " }),\n",
       " 361581)"
      ]
     },
     "metadata": {},
     "output_type": "display_data"
    }
   ],
   "source": [
    "valid_co_graph_candidates, len(bi_valid_sessions_counter)"
   ]
  },
  {
   "cell_type": "code",
   "execution_count": null,
   "metadata": {},
   "outputs": [
    {
     "name": "stderr",
     "output_type": "stream",
     "text": [
      "100%|██████████| 84407339/84407339 [03:18<00:00, 424750.81it/s]\n",
      "/tmp/ipykernel_92972/4091948514.py:5: SettingWithCopyWarning: \n",
      "A value is trying to be set on a copy of a slice from a DataFrame.\n",
      "Try using .loc[row_indexer,col_indexer] = value instead\n",
      "\n",
      "See the caveats in the documentation: https://pandas.pydata.org/pandas-docs/stable/user_guide/indexing.html#returning-a-view-versus-a-copy\n",
      "  merged_candidates['all_items_co_graph_count_0'] = all_items_co_graph_count_list\n"
     ]
    }
   ],
   "source": [
    "all_items_co_graph_count_list = []\n",
    "for row in tqdm(merged_candidates.itertuples(), total=merged_candidates.shape[0]):\n",
    "    all_items_co_graph_count_list.append(bi_valid_sessions_counter[row.sess_id][row.product])\n",
    "assert len(all_items_co_graph_count_list) == merged_candidates.shape[0]\n",
    "merged_candidates['all_items_co_graph_count_0'] = all_items_co_graph_count_list"
   ]
  },
  {
   "cell_type": "code",
   "execution_count": null,
   "metadata": {},
   "outputs": [
    {
     "name": "stderr",
     "output_type": "stream",
     "text": [
      "/tmp/ipykernel_92972/860000090.py:3: SettingWithCopyWarning: \n",
      "A value is trying to be set on a copy of a slice from a DataFrame.\n",
      "Try using .loc[row_indexer,col_indexer] = value instead\n",
      "\n",
      "See the caveats in the documentation: https://pandas.pydata.org/pandas-docs/stable/user_guide/indexing.html#returning-a-view-versus-a-copy\n",
      "  merged_candidates['normalized_all_items_co_graph_count_0'] = count_sum_array[merged_candidates['sess_id']]\n",
      "/tmp/ipykernel_92972/860000090.py:4: SettingWithCopyWarning: \n",
      "A value is trying to be set on a copy of a slice from a DataFrame.\n",
      "Try using .loc[row_indexer,col_indexer] = value instead\n",
      "\n",
      "See the caveats in the documentation: https://pandas.pydata.org/pandas-docs/stable/user_guide/indexing.html#returning-a-view-versus-a-copy\n",
      "  merged_candidates['normalized_all_items_co_graph_count_0'] = merged_candidates['all_items_co_graph_count_0'] / merged_candidates['normalized_all_items_co_graph_count_0']\n"
     ]
    }
   ],
   "source": [
    "count_sum_array = merged_candidates.groupby(by='sess_id')['all_items_co_graph_count_0'].sum().to_numpy()\n",
    "assert len(count_sum_array[merged_candidates['sess_id']]) == merged_candidates.shape[0]\n",
    "merged_candidates['normalized_all_items_co_graph_count_0'] = count_sum_array[merged_candidates['sess_id']]\n",
    "merged_candidates['normalized_all_items_co_graph_count_0'] = merged_candidates['all_items_co_graph_count_0'] / merged_candidates['normalized_all_items_co_graph_count_0']"
   ]
  },
  {
   "cell_type": "code",
   "execution_count": null,
   "metadata": {},
   "outputs": [],
   "source": [
    "merged_candidates_feature['normalized_all_items_co_graph_count_0'] = merged_candidates['normalized_all_items_co_graph_count_0']\n",
    "merged_candidates_feature['all_items_co_graph_count_0'] = merged_candidates['all_items_co_graph_count_0']"
   ]
  },
  {
   "cell_type": "code",
   "execution_count": null,
   "metadata": {},
   "outputs": [
    {
     "data": {
      "text/html": [
       "<div>\n",
       "<style scoped>\n",
       "    .dataframe tbody tr th:only-of-type {\n",
       "        vertical-align: middle;\n",
       "    }\n",
       "\n",
       "    .dataframe tbody tr th {\n",
       "        vertical-align: top;\n",
       "    }\n",
       "\n",
       "    .dataframe thead th {\n",
       "        text-align: right;\n",
       "    }\n",
       "</style>\n",
       "<table border=\"1\" class=\"dataframe\">\n",
       "  <thead>\n",
       "    <tr style=\"text-align: right;\">\n",
       "      <th></th>\n",
       "      <th>product</th>\n",
       "      <th>sasrec_normalized_scores_3</th>\n",
       "      <th>all_items_co_graph_count_0</th>\n",
       "      <th>normalized_all_items_co_graph_count_0</th>\n",
       "    </tr>\n",
       "  </thead>\n",
       "  <tbody>\n",
       "    <tr>\n",
       "      <th>4672245</th>\n",
       "      <td>B07D98ZNJX</td>\n",
       "      <td>8.362947e-01</td>\n",
       "      <td>11</td>\n",
       "      <td>0.250000</td>\n",
       "    </tr>\n",
       "    <tr>\n",
       "      <th>4672246</th>\n",
       "      <td>B07D997JWG</td>\n",
       "      <td>1.596784e-01</td>\n",
       "      <td>10</td>\n",
       "      <td>0.227273</td>\n",
       "    </tr>\n",
       "    <tr>\n",
       "      <th>4672267</th>\n",
       "      <td>B07QJB4MFD</td>\n",
       "      <td>2.989717e-03</td>\n",
       "      <td>4</td>\n",
       "      <td>0.090909</td>\n",
       "    </tr>\n",
       "    <tr>\n",
       "      <th>4672174</th>\n",
       "      <td>B007SQ3HGS</td>\n",
       "      <td>3.628744e-04</td>\n",
       "      <td>2</td>\n",
       "      <td>0.045455</td>\n",
       "    </tr>\n",
       "    <tr>\n",
       "      <th>4672394</th>\n",
       "      <td>B09Y5GC5R7</td>\n",
       "      <td>3.485525e-04</td>\n",
       "      <td>2</td>\n",
       "      <td>0.045455</td>\n",
       "    </tr>\n",
       "    <tr>\n",
       "      <th>4672283</th>\n",
       "      <td>B07V3P7Z9R</td>\n",
       "      <td>1.137960e-04</td>\n",
       "      <td>2</td>\n",
       "      <td>0.045455</td>\n",
       "    </tr>\n",
       "    <tr>\n",
       "      <th>4672297</th>\n",
       "      <td>B081N7R51C</td>\n",
       "      <td>1.123027e-04</td>\n",
       "      <td>1</td>\n",
       "      <td>0.022727</td>\n",
       "    </tr>\n",
       "    <tr>\n",
       "      <th>4672300</th>\n",
       "      <td>B081N8XPQH</td>\n",
       "      <td>6.985810e-05</td>\n",
       "      <td>0</td>\n",
       "      <td>0.000000</td>\n",
       "    </tr>\n",
       "    <tr>\n",
       "      <th>4672284</th>\n",
       "      <td>B07V4PBMWT</td>\n",
       "      <td>1.069833e-05</td>\n",
       "      <td>2</td>\n",
       "      <td>0.045455</td>\n",
       "    </tr>\n",
       "    <tr>\n",
       "      <th>4672340</th>\n",
       "      <td>B08SVPH33Z</td>\n",
       "      <td>9.188924e-06</td>\n",
       "      <td>3</td>\n",
       "      <td>0.068182</td>\n",
       "    </tr>\n",
       "    <tr>\n",
       "      <th>4672216</th>\n",
       "      <td>B01LAJK8JW</td>\n",
       "      <td>1.723544e-06</td>\n",
       "      <td>1</td>\n",
       "      <td>0.022727</td>\n",
       "    </tr>\n",
       "    <tr>\n",
       "      <th>4672299</th>\n",
       "      <td>B081N8FXN9</td>\n",
       "      <td>1.509996e-06</td>\n",
       "      <td>0</td>\n",
       "      <td>0.000000</td>\n",
       "    </tr>\n",
       "    <tr>\n",
       "      <th>4672288</th>\n",
       "      <td>B07X9Q39H6</td>\n",
       "      <td>1.439259e-06</td>\n",
       "      <td>2</td>\n",
       "      <td>0.045455</td>\n",
       "    </tr>\n",
       "    <tr>\n",
       "      <th>4672366</th>\n",
       "      <td>B09FL3THHP</td>\n",
       "      <td>1.251831e-06</td>\n",
       "      <td>0</td>\n",
       "      <td>0.000000</td>\n",
       "    </tr>\n",
       "    <tr>\n",
       "      <th>4672194</th>\n",
       "      <td>B00NV07P6S</td>\n",
       "      <td>7.416334e-07</td>\n",
       "      <td>0</td>\n",
       "      <td>0.000000</td>\n",
       "    </tr>\n",
       "    <tr>\n",
       "      <th>4672358</th>\n",
       "      <td>B09BJ5D58T</td>\n",
       "      <td>2.844340e-07</td>\n",
       "      <td>0</td>\n",
       "      <td>0.000000</td>\n",
       "    </tr>\n",
       "    <tr>\n",
       "      <th>4672384</th>\n",
       "      <td>B09QJ5VG25</td>\n",
       "      <td>2.801196e-07</td>\n",
       "      <td>0</td>\n",
       "      <td>0.000000</td>\n",
       "    </tr>\n",
       "    <tr>\n",
       "      <th>4672289</th>\n",
       "      <td>B07XDM58K9</td>\n",
       "      <td>2.609762e-07</td>\n",
       "      <td>0</td>\n",
       "      <td>0.000000</td>\n",
       "    </tr>\n",
       "    <tr>\n",
       "      <th>4672407</th>\n",
       "      <td>B0BBYRS36N</td>\n",
       "      <td>2.530841e-07</td>\n",
       "      <td>0</td>\n",
       "      <td>0.000000</td>\n",
       "    </tr>\n",
       "    <tr>\n",
       "      <th>4672170</th>\n",
       "      <td>B006XJTNJ6</td>\n",
       "      <td>1.679089e-07</td>\n",
       "      <td>0</td>\n",
       "      <td>0.000000</td>\n",
       "    </tr>\n",
       "    <tr>\n",
       "      <th>4672298</th>\n",
       "      <td>B081N8FCXN</td>\n",
       "      <td>1.619993e-07</td>\n",
       "      <td>0</td>\n",
       "      <td>0.000000</td>\n",
       "    </tr>\n",
       "    <tr>\n",
       "      <th>4672164</th>\n",
       "      <td>B003WU2MW4</td>\n",
       "      <td>1.236053e-07</td>\n",
       "      <td>0</td>\n",
       "      <td>0.000000</td>\n",
       "    </tr>\n",
       "    <tr>\n",
       "      <th>4672264</th>\n",
       "      <td>B07PNDMCGL</td>\n",
       "      <td>1.121221e-07</td>\n",
       "      <td>0</td>\n",
       "      <td>0.000000</td>\n",
       "    </tr>\n",
       "    <tr>\n",
       "      <th>4672344</th>\n",
       "      <td>B08WZSL569</td>\n",
       "      <td>1.049323e-07</td>\n",
       "      <td>0</td>\n",
       "      <td>0.000000</td>\n",
       "    </tr>\n",
       "    <tr>\n",
       "      <th>4672398</th>\n",
       "      <td>B0B2BQMSPZ</td>\n",
       "      <td>1.036528e-07</td>\n",
       "      <td>0</td>\n",
       "      <td>0.000000</td>\n",
       "    </tr>\n",
       "  </tbody>\n",
       "</table>\n",
       "</div>"
      ],
      "text/plain": [
       "            product  sasrec_normalized_scores_3  all_items_co_graph_count_0  \\\n",
       "4672245  B07D98ZNJX                8.362947e-01                          11   \n",
       "4672246  B07D997JWG                1.596784e-01                          10   \n",
       "4672267  B07QJB4MFD                2.989717e-03                           4   \n",
       "4672174  B007SQ3HGS                3.628744e-04                           2   \n",
       "4672394  B09Y5GC5R7                3.485525e-04                           2   \n",
       "4672283  B07V3P7Z9R                1.137960e-04                           2   \n",
       "4672297  B081N7R51C                1.123027e-04                           1   \n",
       "4672300  B081N8XPQH                6.985810e-05                           0   \n",
       "4672284  B07V4PBMWT                1.069833e-05                           2   \n",
       "4672340  B08SVPH33Z                9.188924e-06                           3   \n",
       "4672216  B01LAJK8JW                1.723544e-06                           1   \n",
       "4672299  B081N8FXN9                1.509996e-06                           0   \n",
       "4672288  B07X9Q39H6                1.439259e-06                           2   \n",
       "4672366  B09FL3THHP                1.251831e-06                           0   \n",
       "4672194  B00NV07P6S                7.416334e-07                           0   \n",
       "4672358  B09BJ5D58T                2.844340e-07                           0   \n",
       "4672384  B09QJ5VG25                2.801196e-07                           0   \n",
       "4672289  B07XDM58K9                2.609762e-07                           0   \n",
       "4672407  B0BBYRS36N                2.530841e-07                           0   \n",
       "4672170  B006XJTNJ6                1.679089e-07                           0   \n",
       "4672298  B081N8FCXN                1.619993e-07                           0   \n",
       "4672164  B003WU2MW4                1.236053e-07                           0   \n",
       "4672264  B07PNDMCGL                1.121221e-07                           0   \n",
       "4672344  B08WZSL569                1.049323e-07                           0   \n",
       "4672398  B0B2BQMSPZ                1.036528e-07                           0   \n",
       "\n",
       "         normalized_all_items_co_graph_count_0  \n",
       "4672245                               0.250000  \n",
       "4672246                               0.227273  \n",
       "4672267                               0.090909  \n",
       "4672174                               0.045455  \n",
       "4672394                               0.045455  \n",
       "4672283                               0.045455  \n",
       "4672297                               0.022727  \n",
       "4672300                               0.000000  \n",
       "4672284                               0.045455  \n",
       "4672340                               0.068182  \n",
       "4672216                               0.022727  \n",
       "4672299                               0.000000  \n",
       "4672288                               0.045455  \n",
       "4672366                               0.000000  \n",
       "4672194                               0.000000  \n",
       "4672358                               0.000000  \n",
       "4672384                               0.000000  \n",
       "4672289                               0.000000  \n",
       "4672407                               0.000000  \n",
       "4672170                               0.000000  \n",
       "4672298                               0.000000  \n",
       "4672164                               0.000000  \n",
       "4672264                               0.000000  \n",
       "4672344                               0.000000  \n",
       "4672398                               0.000000  "
      ]
     },
     "metadata": {},
     "output_type": "display_data"
    }
   ],
   "source": [
    "merged_candidates_feature.query('sess_id==20000').sort_values(by=['sasrec_normalized_scores_3'], ascending=False)[['product', 'sasrec_normalized_scores_3', 'all_items_co_graph_count_0', 'normalized_all_items_co_graph_count_0']][:25]"
   ]
  },
  {
   "cell_type": "code",
   "execution_count": null,
   "metadata": {},
   "outputs": [],
   "source": [
    "cast_dtype(merged_candidates_feature, \n",
    "           ['all_items_co_graph_count_0', 'normalized_all_items_co_graph_count_0'])\n",
    "merged_candidates_feature.to_parquet(merged_candidates_feature_path, engine='pyarrow')"
   ]
  }
 ],
 "metadata": {
  "kernelspec": {
   "display_name": "torch12",
   "language": "python",
   "name": "python3"
  },
  "language_info": {
   "codemirror_mode": {
    "name": "ipython",
    "version": 3
   },
   "file_extension": ".py",
   "mimetype": "text/x-python",
   "name": "python",
   "nbconvert_exporter": "python",
   "pygments_lexer": "ipython3",
   "version": "3.9.16"
  }
 },
 "nbformat": 4,
 "nbformat_minor": 2
}
