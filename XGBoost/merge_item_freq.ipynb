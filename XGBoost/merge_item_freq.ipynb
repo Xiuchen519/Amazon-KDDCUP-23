{
 "cells": [
  {
   "cell_type": "code",
   "execution_count": 15,
   "metadata": {},
   "outputs": [],
   "source": [
    "import os\n",
    "import random\n",
    "import numpy as np\n",
    "import pandas as pd\n",
    "import cudf, itertools\n",
    "import scipy.sparse as ssp\n",
    "from functools import lru_cache\n",
    "from tqdm import tqdm, trange\n",
    "from collections import Counter, defaultdict"
   ]
  },
  {
   "cell_type": "code",
   "execution_count": 16,
   "metadata": {},
   "outputs": [],
   "source": [
    "merged_candidates_feature_path = '/root/autodl-tmp/xiaolong/WorkSpace/Amazon-KDDCUP-23/XGBoost/candidates/merged_candidates_feature_2.parquet'\n",
    "valid_sessions_path = '/root/autodl-tmp/xiaolong/WorkSpace/Amazon-KDDCUP-23/data_for_recstudio/task1_data/task13_4_task1_valid_sessions.csv'\n",
    "train_sessions_path = '/root/autodl-tmp/xiaolong/WorkSpace/Amazon-KDDCUP-23/data_for_recstudio/task1_data/task13_4_task1_train_sessions.csv'\n",
    "test_sessions_path = '/root/autodl-tmp/xiaolong/WorkSpace/Amazon-KDDCUP-23/raw_data/sessions_test_task1.csv'"
   ]
  },
  {
   "cell_type": "code",
   "execution_count": 17,
   "metadata": {},
   "outputs": [],
   "source": [
    "@lru_cache(maxsize=1)\n",
    "def read_merged_candidates_feature():\n",
    "    return pd.read_parquet(merged_candidates_feature_path, engine='pyarrow')\n",
    "\n",
    "@lru_cache(maxsize=1)\n",
    "def read_valid_sessions():\n",
    "    return pd.read_csv(valid_sessions_path)\n",
    "\n",
    "@lru_cache(maxsize=1)\n",
    "def read_train_sessions():\n",
    "    return pd.read_csv(train_sessions_path)"
   ]
  },
  {
   "cell_type": "code",
   "execution_count": 18,
   "metadata": {},
   "outputs": [],
   "source": [
    "def cast_dtype(df : pd.DataFrame):\n",
    "    for k in df.columns:\n",
    "        dt = type(df[k].iloc[0])\n",
    "        if 'float' in str(dt):\n",
    "            df[k] = df[k].astype('float32')\n",
    "        elif 'int' in str(dt):\n",
    "            df[k] = df[k].astype('int32')\n",
    "        elif dt == list:\n",
    "            dt_ = type(df.iloc[0][k][0])\n",
    "            if 'float' in str(dt_):\n",
    "                df[k] = df[k].apply(lambda x : np.array(x, dtype=np.float32))\n",
    "            elif 'int' in str(dt_):\n",
    "                df[k] = df[k].apply(lambda x : np.array(x, dtype=np.int32))"
   ]
  },
  {
   "cell_type": "code",
   "execution_count": 19,
   "metadata": {},
   "outputs": [],
   "source": [
    "def cal_item_freq(item_counter:Counter, session_df:pd.DataFrame, test=False):\n",
    "    for i in tqdm(range(session_df.shape[0])):\n",
    "        sess = session_df.iloc[i]\n",
    "        prev_items = eval(sess['prev_items'].replace(' ', ','))\n",
    "        for item in prev_items:\n",
    "            item_counter[item] += 1\n",
    "        if not test:\n",
    "            next_item = sess['next_item'] \n",
    "            item_counter[next_item] += 1 "
   ]
  },
  {
   "attachments": {},
   "cell_type": "markdown",
   "metadata": {},
   "source": [
    "# Merge valid item frequency"
   ]
  },
  {
   "cell_type": "code",
   "execution_count": 20,
   "metadata": {},
   "outputs": [],
   "source": [
    "valid_sessions_df = read_valid_sessions()\n",
    "train_sessions_df = read_train_sessions()"
   ]
  },
  {
   "cell_type": "code",
   "execution_count": 21,
   "metadata": {},
   "outputs": [],
   "source": [
    "merged_candidates_feature = read_merged_candidates_feature()"
   ]
  },
  {
   "cell_type": "code",
   "execution_count": 22,
   "metadata": {},
   "outputs": [
    {
     "name": "stderr",
     "output_type": "stream",
     "text": [
      "100%|██████████| 3557898/3557898 [02:54<00:00, 20376.20it/s]\n",
      "100%|██████████| 361581/361581 [00:16<00:00, 21631.55it/s]\n"
     ]
    }
   ],
   "source": [
    "item_counter = Counter()\n",
    "cal_item_freq(item_counter, train_sessions_df, test=False)\n",
    "cal_item_freq(item_counter, valid_sessions_df, test=True)"
   ]
  },
  {
   "cell_type": "code",
   "execution_count": 23,
   "metadata": {},
   "outputs": [
    {
     "data": {
      "text/plain": [
       "[('B07QPV9Z7X', 2993),\n",
       " ('B0BD5MFPMF', 2851),\n",
       " ('B01MXLEVR7', 2383),\n",
       " ('B09NQGVSPD', 2294),\n",
       " ('B08CN3G4N9', 2271),\n",
       " ('B08GWS298V', 2234),\n",
       " ('B00NTCH52W', 2202),\n",
       " ('B0BDML9477', 2156),\n",
       " ('B0BD88WWQ8', 2106),\n",
       " ('B07RHT52HX', 2101)]"
      ]
     },
     "execution_count": 23,
     "metadata": {},
     "output_type": "execute_result"
    }
   ],
   "source": [
    "item_counter.most_common(10)"
   ]
  },
  {
   "cell_type": "code",
   "execution_count": 24,
   "metadata": {},
   "outputs": [],
   "source": [
    "products, counts = zip(*item_counter.items())\n",
    "item_freq_df = pd.DataFrame({'product' : products, 'product_freq' : counts})"
   ]
  },
  {
   "cell_type": "code",
   "execution_count": 25,
   "metadata": {},
   "outputs": [],
   "source": [
    "item_freq_df_g = cudf.from_pandas(item_freq_df)\n",
    "merged_candidates_feature_g = cudf.from_pandas(merged_candidates_feature)"
   ]
  },
  {
   "cell_type": "code",
   "execution_count": 26,
   "metadata": {},
   "outputs": [],
   "source": [
    "merged_candidates_freq_g = merged_candidates_feature_g.merge(item_freq_df_g, how='left', left_on=['product'], right_on=['product'])\n",
    "merged_candidates_freq_g = merged_candidates_freq_g.sort_values(by=['sess_id']).reset_index(drop=True)\n",
    "merged_candidates_freq_g['product_freq'] = merged_candidates_freq_g['product_freq'].fillna(0)\n",
    "cast_dtype(merged_candidates_freq_g)"
   ]
  },
  {
   "cell_type": "code",
   "execution_count": 27,
   "metadata": {},
   "outputs": [],
   "source": [
    "merged_candidates_freq = merged_candidates_freq_g.to_pandas()\n",
    "merged_candidates_freq.to_parquet(merged_candidates_feature_path, engine='pyarrow')"
   ]
  },
  {
   "cell_type": "code",
   "execution_count": 28,
   "metadata": {},
   "outputs": [
    {
     "data": {
      "text/html": [
       "<div>\n",
       "<style scoped>\n",
       "    .dataframe tbody tr th:only-of-type {\n",
       "        vertical-align: middle;\n",
       "    }\n",
       "\n",
       "    .dataframe tbody tr th {\n",
       "        vertical-align: top;\n",
       "    }\n",
       "\n",
       "    .dataframe thead th {\n",
       "        text-align: right;\n",
       "    }\n",
       "</style>\n",
       "<table border=\"1\" class=\"dataframe\">\n",
       "  <thead>\n",
       "    <tr style=\"text-align: right;\">\n",
       "      <th></th>\n",
       "      <th>sess_id</th>\n",
       "      <th>sess_locale</th>\n",
       "      <th>product</th>\n",
       "      <th>target</th>\n",
       "      <th>sasrec_normalized_scores</th>\n",
       "      <th>roberta_normalized_scores</th>\n",
       "      <th>co_graph_normalized_counts</th>\n",
       "      <th>co_graph_normalized_counts_0</th>\n",
       "      <th>co_graph_normalized_counts_1</th>\n",
       "      <th>co_graph_normalized_counts_2</th>\n",
       "      <th>product_freq</th>\n",
       "    </tr>\n",
       "  </thead>\n",
       "  <tbody>\n",
       "    <tr>\n",
       "      <th>0</th>\n",
       "      <td>0</td>\n",
       "      <td>UK</td>\n",
       "      <td>B07TBQB8FK</td>\n",
       "      <td>0.0</td>\n",
       "      <td>0.000000</td>\n",
       "      <td>0.000000</td>\n",
       "      <td>0.005037</td>\n",
       "      <td>0.006873</td>\n",
       "      <td>0.005402</td>\n",
       "      <td>0.003190</td>\n",
       "      <td>43</td>\n",
       "    </tr>\n",
       "    <tr>\n",
       "      <th>1</th>\n",
       "      <td>0</td>\n",
       "      <td>UK</td>\n",
       "      <td>B01MSZE4YK</td>\n",
       "      <td>0.0</td>\n",
       "      <td>0.000000</td>\n",
       "      <td>0.000000</td>\n",
       "      <td>0.001717</td>\n",
       "      <td>0.001718</td>\n",
       "      <td>0.002026</td>\n",
       "      <td>0.001595</td>\n",
       "      <td>23</td>\n",
       "    </tr>\n",
       "    <tr>\n",
       "      <th>2</th>\n",
       "      <td>0</td>\n",
       "      <td>UK</td>\n",
       "      <td>B07VC5C7Z7</td>\n",
       "      <td>0.0</td>\n",
       "      <td>0.000000</td>\n",
       "      <td>0.000000</td>\n",
       "      <td>0.003778</td>\n",
       "      <td>0.003436</td>\n",
       "      <td>0.006077</td>\n",
       "      <td>0.003190</td>\n",
       "      <td>173</td>\n",
       "    </tr>\n",
       "    <tr>\n",
       "      <th>3</th>\n",
       "      <td>0</td>\n",
       "      <td>UK</td>\n",
       "      <td>B0856KQ4D2</td>\n",
       "      <td>0.0</td>\n",
       "      <td>0.000276</td>\n",
       "      <td>0.007527</td>\n",
       "      <td>0.000000</td>\n",
       "      <td>0.000000</td>\n",
       "      <td>0.000000</td>\n",
       "      <td>0.000000</td>\n",
       "      <td>81</td>\n",
       "    </tr>\n",
       "    <tr>\n",
       "      <th>4</th>\n",
       "      <td>0</td>\n",
       "      <td>UK</td>\n",
       "      <td>B01HF2A8PC</td>\n",
       "      <td>0.0</td>\n",
       "      <td>0.000406</td>\n",
       "      <td>0.019186</td>\n",
       "      <td>0.000000</td>\n",
       "      <td>0.000000</td>\n",
       "      <td>0.000000</td>\n",
       "      <td>0.000000</td>\n",
       "      <td>5</td>\n",
       "    </tr>\n",
       "    <tr>\n",
       "      <th>...</th>\n",
       "      <td>...</td>\n",
       "      <td>...</td>\n",
       "      <td>...</td>\n",
       "      <td>...</td>\n",
       "      <td>...</td>\n",
       "      <td>...</td>\n",
       "      <td>...</td>\n",
       "      <td>...</td>\n",
       "      <td>...</td>\n",
       "      <td>...</td>\n",
       "      <td>...</td>\n",
       "    </tr>\n",
       "    <tr>\n",
       "      <th>85447871</th>\n",
       "      <td>361580</td>\n",
       "      <td>DE</td>\n",
       "      <td>B09D7RH5QG</td>\n",
       "      <td>0.0</td>\n",
       "      <td>0.000880</td>\n",
       "      <td>0.003712</td>\n",
       "      <td>0.000000</td>\n",
       "      <td>0.000000</td>\n",
       "      <td>0.000000</td>\n",
       "      <td>0.000000</td>\n",
       "      <td>17</td>\n",
       "    </tr>\n",
       "    <tr>\n",
       "      <th>85447872</th>\n",
       "      <td>361580</td>\n",
       "      <td>DE</td>\n",
       "      <td>B07CJJVQRJ</td>\n",
       "      <td>0.0</td>\n",
       "      <td>0.000013</td>\n",
       "      <td>0.000000</td>\n",
       "      <td>0.000000</td>\n",
       "      <td>0.000000</td>\n",
       "      <td>0.000000</td>\n",
       "      <td>0.000000</td>\n",
       "      <td>10</td>\n",
       "    </tr>\n",
       "    <tr>\n",
       "      <th>85447873</th>\n",
       "      <td>361580</td>\n",
       "      <td>DE</td>\n",
       "      <td>B09W4WL5BN</td>\n",
       "      <td>0.0</td>\n",
       "      <td>0.000000</td>\n",
       "      <td>0.004873</td>\n",
       "      <td>0.000000</td>\n",
       "      <td>0.000000</td>\n",
       "      <td>0.000000</td>\n",
       "      <td>0.000000</td>\n",
       "      <td>11</td>\n",
       "    </tr>\n",
       "    <tr>\n",
       "      <th>85447874</th>\n",
       "      <td>361580</td>\n",
       "      <td>DE</td>\n",
       "      <td>B08D9PGC9P</td>\n",
       "      <td>0.0</td>\n",
       "      <td>0.000071</td>\n",
       "      <td>0.014974</td>\n",
       "      <td>0.000000</td>\n",
       "      <td>0.000000</td>\n",
       "      <td>0.000000</td>\n",
       "      <td>0.000000</td>\n",
       "      <td>128</td>\n",
       "    </tr>\n",
       "    <tr>\n",
       "      <th>85447875</th>\n",
       "      <td>361580</td>\n",
       "      <td>DE</td>\n",
       "      <td>B002GT7Y0M</td>\n",
       "      <td>0.0</td>\n",
       "      <td>0.000000</td>\n",
       "      <td>0.006355</td>\n",
       "      <td>0.000000</td>\n",
       "      <td>0.000000</td>\n",
       "      <td>0.000000</td>\n",
       "      <td>0.000000</td>\n",
       "      <td>3</td>\n",
       "    </tr>\n",
       "  </tbody>\n",
       "</table>\n",
       "<p>85447876 rows × 11 columns</p>\n",
       "</div>"
      ],
      "text/plain": [
       "          sess_id sess_locale     product  target  sasrec_normalized_scores  \\\n",
       "0               0          UK  B07TBQB8FK     0.0                  0.000000   \n",
       "1               0          UK  B01MSZE4YK     0.0                  0.000000   \n",
       "2               0          UK  B07VC5C7Z7     0.0                  0.000000   \n",
       "3               0          UK  B0856KQ4D2     0.0                  0.000276   \n",
       "4               0          UK  B01HF2A8PC     0.0                  0.000406   \n",
       "...           ...         ...         ...     ...                       ...   \n",
       "85447871   361580          DE  B09D7RH5QG     0.0                  0.000880   \n",
       "85447872   361580          DE  B07CJJVQRJ     0.0                  0.000013   \n",
       "85447873   361580          DE  B09W4WL5BN     0.0                  0.000000   \n",
       "85447874   361580          DE  B08D9PGC9P     0.0                  0.000071   \n",
       "85447875   361580          DE  B002GT7Y0M     0.0                  0.000000   \n",
       "\n",
       "          roberta_normalized_scores  co_graph_normalized_counts  \\\n",
       "0                          0.000000                    0.005037   \n",
       "1                          0.000000                    0.001717   \n",
       "2                          0.000000                    0.003778   \n",
       "3                          0.007527                    0.000000   \n",
       "4                          0.019186                    0.000000   \n",
       "...                             ...                         ...   \n",
       "85447871                   0.003712                    0.000000   \n",
       "85447872                   0.000000                    0.000000   \n",
       "85447873                   0.004873                    0.000000   \n",
       "85447874                   0.014974                    0.000000   \n",
       "85447875                   0.006355                    0.000000   \n",
       "\n",
       "          co_graph_normalized_counts_0  co_graph_normalized_counts_1  \\\n",
       "0                             0.006873                      0.005402   \n",
       "1                             0.001718                      0.002026   \n",
       "2                             0.003436                      0.006077   \n",
       "3                             0.000000                      0.000000   \n",
       "4                             0.000000                      0.000000   \n",
       "...                                ...                           ...   \n",
       "85447871                      0.000000                      0.000000   \n",
       "85447872                      0.000000                      0.000000   \n",
       "85447873                      0.000000                      0.000000   \n",
       "85447874                      0.000000                      0.000000   \n",
       "85447875                      0.000000                      0.000000   \n",
       "\n",
       "          co_graph_normalized_counts_2  product_freq  \n",
       "0                             0.003190            43  \n",
       "1                             0.001595            23  \n",
       "2                             0.003190           173  \n",
       "3                             0.000000            81  \n",
       "4                             0.000000             5  \n",
       "...                                ...           ...  \n",
       "85447871                      0.000000            17  \n",
       "85447872                      0.000000            10  \n",
       "85447873                      0.000000            11  \n",
       "85447874                      0.000000           128  \n",
       "85447875                      0.000000             3  \n",
       "\n",
       "[85447876 rows x 11 columns]"
      ]
     },
     "execution_count": 28,
     "metadata": {},
     "output_type": "execute_result"
    }
   ],
   "source": [
    "merged_candidates_freq"
   ]
  },
  {
   "attachments": {},
   "cell_type": "markdown",
   "metadata": {},
   "source": [
    "# Merge test item frequency"
   ]
  },
  {
   "cell_type": "code",
   "execution_count": 9,
   "metadata": {},
   "outputs": [],
   "source": [
    "merged_candidates_feature_test_path = '/root/autodl-tmp/xiaolong/WorkSpace/Amazon-KDDCUP-23/XGBoost/candidates/merged_candidates_feature_test.parquet'\n",
    "valid_sessions_path = '/root/autodl-tmp/xiaolong/WorkSpace/Amazon-KDDCUP-23/data_for_recstudio/task1_data/task13_4_task1_valid_sessions.csv'\n",
    "train_sessions_path = '/root/autodl-tmp/xiaolong/WorkSpace/Amazon-KDDCUP-23/data_for_recstudio/task1_data/task13_4_task1_train_sessions.csv'\n",
    "test_sessions_path = '/root/autodl-tmp/xiaolong/WorkSpace/Amazon-KDDCUP-23/raw_data/sessions_test_task1.csv'"
   ]
  },
  {
   "cell_type": "code",
   "execution_count": 10,
   "metadata": {},
   "outputs": [],
   "source": [
    "@lru_cache(maxsize=1)\n",
    "def read_merged_candidates_feature_test():\n",
    "    return pd.read_parquet(merged_candidates_feature_test_path, engine='pyarrow')\n",
    "\n",
    "@lru_cache(maxsize=1)\n",
    "def read_valid_sessions():\n",
    "    return pd.read_csv(valid_sessions_path)\n",
    "\n",
    "@lru_cache(maxsize=1)\n",
    "def read_train_sessions():\n",
    "    return pd.read_csv(train_sessions_path)\n",
    "\n",
    "@lru_cache(maxsize=1)\n",
    "def read_test_sessions():\n",
    "    return pd.read_csv(test_sessions_path)"
   ]
  },
  {
   "cell_type": "code",
   "execution_count": 11,
   "metadata": {},
   "outputs": [],
   "source": [
    "merged_candidates_feature_test = read_merged_candidates_feature_test()\n",
    "valid_sessions_df = read_valid_sessions()\n",
    "train_sessions_df = read_train_sessions()\n",
    "test_sessions_df = read_test_sessions()"
   ]
  },
  {
   "cell_type": "code",
   "execution_count": 79,
   "metadata": {},
   "outputs": [
    {
     "name": "stderr",
     "output_type": "stream",
     "text": [
      "100%|██████████| 3557898/3557898 [02:53<00:00, 20533.94it/s]\n",
      "100%|██████████| 361581/361581 [00:17<00:00, 20139.22it/s]\n"
     ]
    }
   ],
   "source": [
    "# test sessions are included in train and valid sessions\n",
    "item_counter = Counter()\n",
    "cal_item_freq(item_counter, train_sessions_df, test=False)\n",
    "# cal_item_freq(item_counter, valid_sessions_df, test=True)\n",
    "cal_item_freq(item_counter, valid_sessions_df, test=False)\n"
   ]
  },
  {
   "cell_type": "code",
   "execution_count": 80,
   "metadata": {},
   "outputs": [],
   "source": [
    "products, counts = zip(*item_counter.items())\n",
    "item_freq_df = pd.DataFrame({'product' : products, 'product_freq' : counts})"
   ]
  },
  {
   "cell_type": "code",
   "execution_count": 81,
   "metadata": {},
   "outputs": [],
   "source": [
    "merged_candidates_feature_test.drop(columns=['product_freq'], inplace=True)"
   ]
  },
  {
   "cell_type": "code",
   "execution_count": 82,
   "metadata": {},
   "outputs": [],
   "source": [
    "item_freq_df_g = cudf.from_pandas(item_freq_df)\n",
    "merged_candidates_feature_g = cudf.from_pandas(merged_candidates_feature_test)"
   ]
  },
  {
   "cell_type": "code",
   "execution_count": null,
   "metadata": {},
   "outputs": [],
   "source": [
    "merged_candidates_feature_g"
   ]
  },
  {
   "cell_type": "code",
   "execution_count": 84,
   "metadata": {},
   "outputs": [],
   "source": [
    "merged_candidates_freq_g = merged_candidates_feature_g.merge(item_freq_df_g, how='left', left_on=['product'], right_on=['product'])\n",
    "merged_candidates_freq_g = merged_candidates_freq_g.sort_values(by=['sess_id']).reset_index(drop=True)\n",
    "merged_candidates_freq_g['product_freq'] = merged_candidates_freq_g['product_freq'].fillna(0)\n",
    "cast_dtype(merged_candidates_freq_g)"
   ]
  },
  {
   "cell_type": "code",
   "execution_count": 85,
   "metadata": {},
   "outputs": [],
   "source": [
    "merged_candidates_freq = merged_candidates_freq_g.to_pandas()\n",
    "merged_candidates_freq.to_parquet(merged_candidates_feature_test_path, engine='pyarrow')"
   ]
  },
  {
   "attachments": {},
   "cell_type": "markdown",
   "metadata": {},
   "source": [
    "# candidates statistic"
   ]
  },
  {
   "cell_type": "code",
   "execution_count": 65,
   "metadata": {},
   "outputs": [],
   "source": [
    "merged_candidates_feature_test = pd.read_parquet('/root/autodl-tmp/xiaolong/WorkSpace/Amazon-KDDCUP-23/XGBoost/candidates/merged_candidates_feature_test_2.parquet', engine='pyarrow')"
   ]
  },
  {
   "cell_type": "code",
   "execution_count": 66,
   "metadata": {},
   "outputs": [
    {
     "data": {
      "text/html": [
       "<div>\n",
       "<style scoped>\n",
       "    .dataframe tbody tr th:only-of-type {\n",
       "        vertical-align: middle;\n",
       "    }\n",
       "\n",
       "    .dataframe tbody tr th {\n",
       "        vertical-align: top;\n",
       "    }\n",
       "\n",
       "    .dataframe thead th {\n",
       "        text-align: right;\n",
       "    }\n",
       "</style>\n",
       "<table border=\"1\" class=\"dataframe\">\n",
       "  <thead>\n",
       "    <tr style=\"text-align: right;\">\n",
       "      <th></th>\n",
       "      <th>sess_id</th>\n",
       "      <th>sess_locale</th>\n",
       "      <th>product</th>\n",
       "      <th>sasrec_normalized_scores</th>\n",
       "      <th>roberta_normalized_scores</th>\n",
       "      <th>co_graph_normalized_counts</th>\n",
       "      <th>co_graph_normalized_counts_0</th>\n",
       "      <th>co_graph_normalized_counts_1</th>\n",
       "      <th>co_graph_normalized_counts_2</th>\n",
       "      <th>product_freq</th>\n",
       "    </tr>\n",
       "  </thead>\n",
       "  <tbody>\n",
       "    <tr>\n",
       "      <th>0</th>\n",
       "      <td>0</td>\n",
       "      <td>DE</td>\n",
       "      <td>B09T2ZXL4V</td>\n",
       "      <td>0.000357</td>\n",
       "      <td>0.008733</td>\n",
       "      <td>0.005862</td>\n",
       "      <td>0.012821</td>\n",
       "      <td>0.000000</td>\n",
       "      <td>0.000000</td>\n",
       "      <td>118</td>\n",
       "    </tr>\n",
       "    <tr>\n",
       "      <th>1</th>\n",
       "      <td>0</td>\n",
       "      <td>DE</td>\n",
       "      <td>B08QYYBTMC</td>\n",
       "      <td>0.002867</td>\n",
       "      <td>0.000000</td>\n",
       "      <td>0.012702</td>\n",
       "      <td>0.012821</td>\n",
       "      <td>0.007380</td>\n",
       "      <td>0.014286</td>\n",
       "      <td>574</td>\n",
       "    </tr>\n",
       "    <tr>\n",
       "      <th>2</th>\n",
       "      <td>0</td>\n",
       "      <td>DE</td>\n",
       "      <td>B0B7S7LBMB</td>\n",
       "      <td>0.000042</td>\n",
       "      <td>0.000000</td>\n",
       "      <td>0.019052</td>\n",
       "      <td>0.032051</td>\n",
       "      <td>0.011070</td>\n",
       "      <td>0.007143</td>\n",
       "      <td>551</td>\n",
       "    </tr>\n",
       "    <tr>\n",
       "      <th>3</th>\n",
       "      <td>0</td>\n",
       "      <td>DE</td>\n",
       "      <td>B0BD7MGXMM</td>\n",
       "      <td>0.000378</td>\n",
       "      <td>0.000000</td>\n",
       "      <td>0.002931</td>\n",
       "      <td>0.006410</td>\n",
       "      <td>0.000000</td>\n",
       "      <td>0.000000</td>\n",
       "      <td>101</td>\n",
       "    </tr>\n",
       "    <tr>\n",
       "      <th>4</th>\n",
       "      <td>0</td>\n",
       "      <td>DE</td>\n",
       "      <td>B000H6W2GW</td>\n",
       "      <td>0.000000</td>\n",
       "      <td>0.000000</td>\n",
       "      <td>0.000000</td>\n",
       "      <td>0.000000</td>\n",
       "      <td>0.000000</td>\n",
       "      <td>0.000000</td>\n",
       "      <td>873</td>\n",
       "    </tr>\n",
       "    <tr>\n",
       "      <th>...</th>\n",
       "      <td>...</td>\n",
       "      <td>...</td>\n",
       "      <td>...</td>\n",
       "      <td>...</td>\n",
       "      <td>...</td>\n",
       "      <td>...</td>\n",
       "      <td>...</td>\n",
       "      <td>...</td>\n",
       "      <td>...</td>\n",
       "      <td>...</td>\n",
       "    </tr>\n",
       "    <tr>\n",
       "      <th>70403346</th>\n",
       "      <td>316970</td>\n",
       "      <td>UK</td>\n",
       "      <td>B0BGMDVM7V</td>\n",
       "      <td>0.000011</td>\n",
       "      <td>0.014775</td>\n",
       "      <td>0.000000</td>\n",
       "      <td>0.000000</td>\n",
       "      <td>0.000000</td>\n",
       "      <td>0.000000</td>\n",
       "      <td>26</td>\n",
       "    </tr>\n",
       "    <tr>\n",
       "      <th>70403347</th>\n",
       "      <td>316970</td>\n",
       "      <td>UK</td>\n",
       "      <td>B09FSZNRD9</td>\n",
       "      <td>0.000000</td>\n",
       "      <td>0.007841</td>\n",
       "      <td>0.000000</td>\n",
       "      <td>0.000000</td>\n",
       "      <td>0.000000</td>\n",
       "      <td>0.000000</td>\n",
       "      <td>20</td>\n",
       "    </tr>\n",
       "    <tr>\n",
       "      <th>70403348</th>\n",
       "      <td>316970</td>\n",
       "      <td>UK</td>\n",
       "      <td>B0B7838HH6</td>\n",
       "      <td>0.000000</td>\n",
       "      <td>0.000000</td>\n",
       "      <td>0.038889</td>\n",
       "      <td>0.058824</td>\n",
       "      <td>0.033333</td>\n",
       "      <td>0.030303</td>\n",
       "      <td>169</td>\n",
       "    </tr>\n",
       "    <tr>\n",
       "      <th>70403349</th>\n",
       "      <td>316970</td>\n",
       "      <td>UK</td>\n",
       "      <td>B08TJRVWV1</td>\n",
       "      <td>0.000000</td>\n",
       "      <td>0.000000</td>\n",
       "      <td>0.000000</td>\n",
       "      <td>0.000000</td>\n",
       "      <td>0.000000</td>\n",
       "      <td>0.000000</td>\n",
       "      <td>655</td>\n",
       "    </tr>\n",
       "    <tr>\n",
       "      <th>70403350</th>\n",
       "      <td>316970</td>\n",
       "      <td>UK</td>\n",
       "      <td>B0BGK32WY5</td>\n",
       "      <td>0.000000</td>\n",
       "      <td>0.000000</td>\n",
       "      <td>0.000000</td>\n",
       "      <td>0.000000</td>\n",
       "      <td>0.000000</td>\n",
       "      <td>0.000000</td>\n",
       "      <td>873</td>\n",
       "    </tr>\n",
       "  </tbody>\n",
       "</table>\n",
       "<p>70403351 rows × 10 columns</p>\n",
       "</div>"
      ],
      "text/plain": [
       "          sess_id sess_locale     product  sasrec_normalized_scores  \\\n",
       "0               0          DE  B09T2ZXL4V                  0.000357   \n",
       "1               0          DE  B08QYYBTMC                  0.002867   \n",
       "2               0          DE  B0B7S7LBMB                  0.000042   \n",
       "3               0          DE  B0BD7MGXMM                  0.000378   \n",
       "4               0          DE  B000H6W2GW                  0.000000   \n",
       "...           ...         ...         ...                       ...   \n",
       "70403346   316970          UK  B0BGMDVM7V                  0.000011   \n",
       "70403347   316970          UK  B09FSZNRD9                  0.000000   \n",
       "70403348   316970          UK  B0B7838HH6                  0.000000   \n",
       "70403349   316970          UK  B08TJRVWV1                  0.000000   \n",
       "70403350   316970          UK  B0BGK32WY5                  0.000000   \n",
       "\n",
       "          roberta_normalized_scores  co_graph_normalized_counts  \\\n",
       "0                          0.008733                    0.005862   \n",
       "1                          0.000000                    0.012702   \n",
       "2                          0.000000                    0.019052   \n",
       "3                          0.000000                    0.002931   \n",
       "4                          0.000000                    0.000000   \n",
       "...                             ...                         ...   \n",
       "70403346                   0.014775                    0.000000   \n",
       "70403347                   0.007841                    0.000000   \n",
       "70403348                   0.000000                    0.038889   \n",
       "70403349                   0.000000                    0.000000   \n",
       "70403350                   0.000000                    0.000000   \n",
       "\n",
       "          co_graph_normalized_counts_0  co_graph_normalized_counts_1  \\\n",
       "0                             0.012821                      0.000000   \n",
       "1                             0.012821                      0.007380   \n",
       "2                             0.032051                      0.011070   \n",
       "3                             0.006410                      0.000000   \n",
       "4                             0.000000                      0.000000   \n",
       "...                                ...                           ...   \n",
       "70403346                      0.000000                      0.000000   \n",
       "70403347                      0.000000                      0.000000   \n",
       "70403348                      0.058824                      0.033333   \n",
       "70403349                      0.000000                      0.000000   \n",
       "70403350                      0.000000                      0.000000   \n",
       "\n",
       "          co_graph_normalized_counts_2  product_freq  \n",
       "0                             0.000000           118  \n",
       "1                             0.014286           574  \n",
       "2                             0.007143           551  \n",
       "3                             0.000000           101  \n",
       "4                             0.000000           873  \n",
       "...                                ...           ...  \n",
       "70403346                      0.000000            26  \n",
       "70403347                      0.000000            20  \n",
       "70403348                      0.030303           169  \n",
       "70403349                      0.000000           655  \n",
       "70403350                      0.000000           873  \n",
       "\n",
       "[70403351 rows x 10 columns]"
      ]
     },
     "execution_count": 66,
     "metadata": {},
     "output_type": "execute_result"
    }
   ],
   "source": [
    "merged_candidates_feature_test"
   ]
  },
  {
   "cell_type": "code",
   "execution_count": 67,
   "metadata": {},
   "outputs": [
    {
     "data": {
      "text/plain": [
       "0.5497605930717702"
      ]
     },
     "execution_count": 67,
     "metadata": {},
     "output_type": "execute_result"
    }
   ],
   "source": [
    "(merged_candidates_feature_test['roberta_normalized_scores'] == 0.0).sum() / 70403351.0"
   ]
  },
  {
   "cell_type": "code",
   "execution_count": 68,
   "metadata": {},
   "outputs": [
    {
     "data": {
      "text/plain": [
       "0.549195776206732"
      ]
     },
     "execution_count": 68,
     "metadata": {},
     "output_type": "execute_result"
    }
   ],
   "source": [
    "(merged_candidates_feature_test['sasrec_normalized_scores'] == 0.0).sum() / 70403351.0"
   ]
  },
  {
   "cell_type": "code",
   "execution_count": 69,
   "metadata": {},
   "outputs": [
    {
     "data": {
      "text/plain": [
       "0.6944105402028378"
      ]
     },
     "execution_count": 69,
     "metadata": {},
     "output_type": "execute_result"
    }
   ],
   "source": [
    "(merged_candidates_feature_test['co_graph_normalized_counts_0'] == 0.0).sum() / 70403351.0"
   ]
  },
  {
   "cell_type": "code",
   "execution_count": 70,
   "metadata": {},
   "outputs": [
    {
     "data": {
      "text/plain": [
       "0.7542271389894495"
      ]
     },
     "execution_count": 70,
     "metadata": {},
     "output_type": "execute_result"
    }
   ],
   "source": [
    "(merged_candidates_feature_test['co_graph_normalized_counts_1'] == 0.0).sum() / 70403351.0"
   ]
  },
  {
   "cell_type": "code",
   "execution_count": 71,
   "metadata": {},
   "outputs": [],
   "source": [
    "merged_candidates_feature = read_merged_candidates_feature()"
   ]
  },
  {
   "cell_type": "code",
   "execution_count": 72,
   "metadata": {},
   "outputs": [
    {
     "data": {
      "text/plain": [
       "0.57642176930686"
      ]
     },
     "execution_count": 72,
     "metadata": {},
     "output_type": "execute_result"
    }
   ],
   "source": [
    "(merged_candidates_feature['roberta_normalized_scores'] == 0.0).sum() / 85508299.0"
   ]
  },
  {
   "cell_type": "code",
   "execution_count": 73,
   "metadata": {},
   "outputs": [
    {
     "data": {
      "text/plain": [
       "0.5760398531609195"
      ]
     },
     "execution_count": 73,
     "metadata": {},
     "output_type": "execute_result"
    }
   ],
   "source": [
    "(merged_candidates_feature['sasrec_normalized_scores'] == 0.0).sum() / 85508299.0"
   ]
  },
  {
   "cell_type": "code",
   "execution_count": 74,
   "metadata": {},
   "outputs": [
    {
     "data": {
      "text/plain": [
       "0.7768674242952722"
      ]
     },
     "execution_count": 74,
     "metadata": {},
     "output_type": "execute_result"
    }
   ],
   "source": [
    "(merged_candidates_feature['co_graph_normalized_counts_0'] == 0.0).sum() / 85508299.0"
   ]
  },
  {
   "cell_type": "code",
   "execution_count": 75,
   "metadata": {},
   "outputs": [
    {
     "data": {
      "text/plain": [
       "0.8249585341418147"
      ]
     },
     "execution_count": 75,
     "metadata": {},
     "output_type": "execute_result"
    }
   ],
   "source": [
    "(merged_candidates_feature['co_graph_normalized_counts_1'] == 0.0).sum() / 85508299.0"
   ]
  },
  {
   "cell_type": "code",
   "execution_count": 15,
   "metadata": {},
   "outputs": [
    {
     "data": {
      "text/html": [
       "<div>\n",
       "<style scoped>\n",
       "    .dataframe tbody tr th:only-of-type {\n",
       "        vertical-align: middle;\n",
       "    }\n",
       "\n",
       "    .dataframe tbody tr th {\n",
       "        vertical-align: top;\n",
       "    }\n",
       "\n",
       "    .dataframe thead th {\n",
       "        text-align: right;\n",
       "    }\n",
       "</style>\n",
       "<table border=\"1\" class=\"dataframe\">\n",
       "  <thead>\n",
       "    <tr style=\"text-align: right;\">\n",
       "      <th></th>\n",
       "      <th>sess_id</th>\n",
       "      <th>sess_locale</th>\n",
       "      <th>product</th>\n",
       "      <th>target</th>\n",
       "      <th>sasrec_normalized_scores</th>\n",
       "      <th>roberta_normalized_scores</th>\n",
       "      <th>co_graph_normalized_counts</th>\n",
       "      <th>co_graph_normalized_counts_0</th>\n",
       "      <th>co_graph_normalized_counts_1</th>\n",
       "      <th>co_graph_normalized_counts_2</th>\n",
       "      <th>product_freq</th>\n",
       "    </tr>\n",
       "  </thead>\n",
       "  <tbody>\n",
       "    <tr>\n",
       "      <th>155143</th>\n",
       "      <td>649</td>\n",
       "      <td>UK</td>\n",
       "      <td>B09P2YPF3H</td>\n",
       "      <td>0.0</td>\n",
       "      <td>0.0</td>\n",
       "      <td>0.008176</td>\n",
       "      <td>0.000000</td>\n",
       "      <td>0.000000</td>\n",
       "      <td>0.0</td>\n",
       "      <td>0.0</td>\n",
       "      <td>7</td>\n",
       "    </tr>\n",
       "    <tr>\n",
       "      <th>306835</th>\n",
       "      <td>1287</td>\n",
       "      <td>UK</td>\n",
       "      <td>B09P2YPF3H</td>\n",
       "      <td>0.0</td>\n",
       "      <td>0.0</td>\n",
       "      <td>0.007995</td>\n",
       "      <td>0.000000</td>\n",
       "      <td>0.000000</td>\n",
       "      <td>0.0</td>\n",
       "      <td>0.0</td>\n",
       "      <td>7</td>\n",
       "    </tr>\n",
       "    <tr>\n",
       "      <th>335697</th>\n",
       "      <td>1407</td>\n",
       "      <td>UK</td>\n",
       "      <td>B09P2YPF3H</td>\n",
       "      <td>0.0</td>\n",
       "      <td>0.0</td>\n",
       "      <td>0.000000</td>\n",
       "      <td>0.014634</td>\n",
       "      <td>0.028571</td>\n",
       "      <td>0.0</td>\n",
       "      <td>0.0</td>\n",
       "      <td>7</td>\n",
       "    </tr>\n",
       "    <tr>\n",
       "      <th>353023</th>\n",
       "      <td>1482</td>\n",
       "      <td>UK</td>\n",
       "      <td>B09P2YPF3H</td>\n",
       "      <td>0.0</td>\n",
       "      <td>0.0</td>\n",
       "      <td>0.009932</td>\n",
       "      <td>0.027650</td>\n",
       "      <td>0.064516</td>\n",
       "      <td>0.0</td>\n",
       "      <td>0.0</td>\n",
       "      <td>7</td>\n",
       "    </tr>\n",
       "    <tr>\n",
       "      <th>373576</th>\n",
       "      <td>1568</td>\n",
       "      <td>UK</td>\n",
       "      <td>B09P2YPF3H</td>\n",
       "      <td>0.0</td>\n",
       "      <td>0.0</td>\n",
       "      <td>0.009154</td>\n",
       "      <td>0.000000</td>\n",
       "      <td>0.000000</td>\n",
       "      <td>0.0</td>\n",
       "      <td>0.0</td>\n",
       "      <td>7</td>\n",
       "    </tr>\n",
       "    <tr>\n",
       "      <th>...</th>\n",
       "      <td>...</td>\n",
       "      <td>...</td>\n",
       "      <td>...</td>\n",
       "      <td>...</td>\n",
       "      <td>...</td>\n",
       "      <td>...</td>\n",
       "      <td>...</td>\n",
       "      <td>...</td>\n",
       "      <td>...</td>\n",
       "      <td>...</td>\n",
       "      <td>...</td>\n",
       "    </tr>\n",
       "    <tr>\n",
       "      <th>85008145</th>\n",
       "      <td>358834</td>\n",
       "      <td>UK</td>\n",
       "      <td>B09P2YPF3H</td>\n",
       "      <td>0.0</td>\n",
       "      <td>0.0</td>\n",
       "      <td>0.005578</td>\n",
       "      <td>0.000000</td>\n",
       "      <td>0.000000</td>\n",
       "      <td>0.0</td>\n",
       "      <td>0.0</td>\n",
       "      <td>7</td>\n",
       "    </tr>\n",
       "    <tr>\n",
       "      <th>85240941</th>\n",
       "      <td>359819</td>\n",
       "      <td>UK</td>\n",
       "      <td>B09P2YPF3H</td>\n",
       "      <td>0.0</td>\n",
       "      <td>0.0</td>\n",
       "      <td>0.007549</td>\n",
       "      <td>0.000000</td>\n",
       "      <td>0.000000</td>\n",
       "      <td>0.0</td>\n",
       "      <td>0.0</td>\n",
       "      <td>7</td>\n",
       "    </tr>\n",
       "    <tr>\n",
       "      <th>85330404</th>\n",
       "      <td>360195</td>\n",
       "      <td>UK</td>\n",
       "      <td>B09P2YPF3H</td>\n",
       "      <td>0.0</td>\n",
       "      <td>0.0</td>\n",
       "      <td>0.010609</td>\n",
       "      <td>0.000000</td>\n",
       "      <td>0.000000</td>\n",
       "      <td>0.0</td>\n",
       "      <td>0.0</td>\n",
       "      <td>7</td>\n",
       "    </tr>\n",
       "    <tr>\n",
       "      <th>85332443</th>\n",
       "      <td>360203</td>\n",
       "      <td>UK</td>\n",
       "      <td>B09P2YPF3H</td>\n",
       "      <td>0.0</td>\n",
       "      <td>0.0</td>\n",
       "      <td>0.007566</td>\n",
       "      <td>0.000000</td>\n",
       "      <td>0.000000</td>\n",
       "      <td>0.0</td>\n",
       "      <td>0.0</td>\n",
       "      <td>7</td>\n",
       "    </tr>\n",
       "    <tr>\n",
       "      <th>85508299</th>\n",
       "      <td>360950</td>\n",
       "      <td>UK</td>\n",
       "      <td>B09P2YPF3H</td>\n",
       "      <td>0.0</td>\n",
       "      <td>0.0</td>\n",
       "      <td>0.006005</td>\n",
       "      <td>0.000000</td>\n",
       "      <td>0.000000</td>\n",
       "      <td>0.0</td>\n",
       "      <td>0.0</td>\n",
       "      <td>7</td>\n",
       "    </tr>\n",
       "  </tbody>\n",
       "</table>\n",
       "<p>522 rows × 11 columns</p>\n",
       "</div>"
      ],
      "text/plain": [
       "          sess_id sess_locale     product  target  sasrec_normalized_scores  \\\n",
       "155143        649          UK  B09P2YPF3H     0.0                       0.0   \n",
       "306835       1287          UK  B09P2YPF3H     0.0                       0.0   \n",
       "335697       1407          UK  B09P2YPF3H     0.0                       0.0   \n",
       "353023       1482          UK  B09P2YPF3H     0.0                       0.0   \n",
       "373576       1568          UK  B09P2YPF3H     0.0                       0.0   \n",
       "...           ...         ...         ...     ...                       ...   \n",
       "85008145   358834          UK  B09P2YPF3H     0.0                       0.0   \n",
       "85240941   359819          UK  B09P2YPF3H     0.0                       0.0   \n",
       "85330404   360195          UK  B09P2YPF3H     0.0                       0.0   \n",
       "85332443   360203          UK  B09P2YPF3H     0.0                       0.0   \n",
       "85508299   360950          UK  B09P2YPF3H     0.0                       0.0   \n",
       "\n",
       "          roberta_normalized_scores  co_graph_normalized_counts  \\\n",
       "155143                     0.008176                    0.000000   \n",
       "306835                     0.007995                    0.000000   \n",
       "335697                     0.000000                    0.014634   \n",
       "353023                     0.009932                    0.027650   \n",
       "373576                     0.009154                    0.000000   \n",
       "...                             ...                         ...   \n",
       "85008145                   0.005578                    0.000000   \n",
       "85240941                   0.007549                    0.000000   \n",
       "85330404                   0.010609                    0.000000   \n",
       "85332443                   0.007566                    0.000000   \n",
       "85508299                   0.006005                    0.000000   \n",
       "\n",
       "          co_graph_normalized_counts_0  co_graph_normalized_counts_1  \\\n",
       "155143                        0.000000                           0.0   \n",
       "306835                        0.000000                           0.0   \n",
       "335697                        0.028571                           0.0   \n",
       "353023                        0.064516                           0.0   \n",
       "373576                        0.000000                           0.0   \n",
       "...                                ...                           ...   \n",
       "85008145                      0.000000                           0.0   \n",
       "85240941                      0.000000                           0.0   \n",
       "85330404                      0.000000                           0.0   \n",
       "85332443                      0.000000                           0.0   \n",
       "85508299                      0.000000                           0.0   \n",
       "\n",
       "          co_graph_normalized_counts_2  product_freq  \n",
       "155143                             0.0             7  \n",
       "306835                             0.0             7  \n",
       "335697                             0.0             7  \n",
       "353023                             0.0             7  \n",
       "373576                             0.0             7  \n",
       "...                                ...           ...  \n",
       "85008145                           0.0             7  \n",
       "85240941                           0.0             7  \n",
       "85330404                           0.0             7  \n",
       "85332443                           0.0             7  \n",
       "85508299                           0.0             7  \n",
       "\n",
       "[522 rows x 11 columns]"
      ]
     },
     "execution_count": 15,
     "metadata": {},
     "output_type": "execute_result"
    }
   ],
   "source": [
    "merged_candidates_feature[merged_candidates_feature['product'] == 'B09P2YPF3H']"
   ]
  }
 ],
 "metadata": {
  "kernelspec": {
   "display_name": "torch12",
   "language": "python",
   "name": "python3"
  },
  "language_info": {
   "codemirror_mode": {
    "name": "ipython",
    "version": 3
   },
   "file_extension": ".py",
   "mimetype": "text/x-python",
   "name": "python",
   "nbconvert_exporter": "python",
   "pygments_lexer": "ipython3",
   "version": "3.9.16"
  },
  "orig_nbformat": 4
 },
 "nbformat": 4,
 "nbformat_minor": 2
}
