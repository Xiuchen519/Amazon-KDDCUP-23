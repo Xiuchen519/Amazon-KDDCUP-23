{
 "cells": [
  {
   "cell_type": "code",
   "execution_count": 1,
   "metadata": {
    "execution": {
     "iopub.execute_input": "2023-05-22T14:08:54.467855Z",
     "iopub.status.busy": "2023-05-22T14:08:54.467358Z",
     "iopub.status.idle": "2023-05-22T14:08:54.483090Z",
     "shell.execute_reply": "2023-05-22T14:08:54.481728Z"
    }
   },
   "outputs": [],
   "source": [
    "import pandas as pd"
   ]
  },
  {
   "cell_type": "code",
   "execution_count": 3,
   "metadata": {},
   "outputs": [],
   "source": [
    "merged_candidates_2_feature = pd.read_parquet('/root/autodl-tmp/xiaolong/WorkSpace/Amazon-KDDCUP-23/XGBoost/candidates/merged_candidates_2_feature.parquet', engine='pyarrow')"
   ]
  },
  {
   "cell_type": "code",
   "execution_count": 4,
   "metadata": {},
   "outputs": [
    {
     "data": {
      "text/html": [
       "<div>\n",
       "<style scoped>\n",
       "    .dataframe tbody tr th:only-of-type {\n",
       "        vertical-align: middle;\n",
       "    }\n",
       "\n",
       "    .dataframe tbody tr th {\n",
       "        vertical-align: top;\n",
       "    }\n",
       "\n",
       "    .dataframe thead th {\n",
       "        text-align: right;\n",
       "    }\n",
       "</style>\n",
       "<table border=\"1\" class=\"dataframe\">\n",
       "  <thead>\n",
       "    <tr style=\"text-align: right;\">\n",
       "      <th></th>\n",
       "      <th>sess_id</th>\n",
       "      <th>sess_locale</th>\n",
       "      <th>product</th>\n",
       "      <th>target</th>\n",
       "      <th>sess_avg_price</th>\n",
       "      <th>product_price</th>\n",
       "    </tr>\n",
       "  </thead>\n",
       "  <tbody>\n",
       "    <tr>\n",
       "      <th>0</th>\n",
       "      <td>0</td>\n",
       "      <td>UK</td>\n",
       "      <td>B096FLR9LK</td>\n",
       "      <td>0.0</td>\n",
       "      <td>7.388571</td>\n",
       "      <td>17.990000</td>\n",
       "    </tr>\n",
       "    <tr>\n",
       "      <th>1</th>\n",
       "      <td>0</td>\n",
       "      <td>UK</td>\n",
       "      <td>B093SZNPZN</td>\n",
       "      <td>0.0</td>\n",
       "      <td>7.388571</td>\n",
       "      <td>14.990000</td>\n",
       "    </tr>\n",
       "    <tr>\n",
       "      <th>2</th>\n",
       "      <td>0</td>\n",
       "      <td>UK</td>\n",
       "      <td>B0856JQ3WJ</td>\n",
       "      <td>0.0</td>\n",
       "      <td>7.388571</td>\n",
       "      <td>14.610000</td>\n",
       "    </tr>\n",
       "    <tr>\n",
       "      <th>3</th>\n",
       "      <td>0</td>\n",
       "      <td>UK</td>\n",
       "      <td>B09XMX99F3</td>\n",
       "      <td>0.0</td>\n",
       "      <td>7.388571</td>\n",
       "      <td>12.990000</td>\n",
       "    </tr>\n",
       "    <tr>\n",
       "      <th>4</th>\n",
       "      <td>0</td>\n",
       "      <td>UK</td>\n",
       "      <td>B07L3L4PQH</td>\n",
       "      <td>0.0</td>\n",
       "      <td>7.388571</td>\n",
       "      <td>13.000000</td>\n",
       "    </tr>\n",
       "    <tr>\n",
       "      <th>...</th>\n",
       "      <td>...</td>\n",
       "      <td>...</td>\n",
       "      <td>...</td>\n",
       "      <td>...</td>\n",
       "      <td>...</td>\n",
       "      <td>...</td>\n",
       "    </tr>\n",
       "    <tr>\n",
       "      <th>77570148</th>\n",
       "      <td>361580</td>\n",
       "      <td>DE</td>\n",
       "      <td>B0013USA1M</td>\n",
       "      <td>0.0</td>\n",
       "      <td>32.424000</td>\n",
       "      <td>29.820000</td>\n",
       "    </tr>\n",
       "    <tr>\n",
       "      <th>77570149</th>\n",
       "      <td>361580</td>\n",
       "      <td>DE</td>\n",
       "      <td>B00O4TD1XG</td>\n",
       "      <td>0.0</td>\n",
       "      <td>32.424000</td>\n",
       "      <td>28.950001</td>\n",
       "    </tr>\n",
       "    <tr>\n",
       "      <th>77570150</th>\n",
       "      <td>361580</td>\n",
       "      <td>DE</td>\n",
       "      <td>B00816X8TU</td>\n",
       "      <td>0.0</td>\n",
       "      <td>32.424000</td>\n",
       "      <td>27.450001</td>\n",
       "    </tr>\n",
       "    <tr>\n",
       "      <th>77570151</th>\n",
       "      <td>361580</td>\n",
       "      <td>DE</td>\n",
       "      <td>B0857Z91PY</td>\n",
       "      <td>0.0</td>\n",
       "      <td>32.424000</td>\n",
       "      <td>60.509998</td>\n",
       "    </tr>\n",
       "    <tr>\n",
       "      <th>77570152</th>\n",
       "      <td>361580</td>\n",
       "      <td>DE</td>\n",
       "      <td>B07636CZVG</td>\n",
       "      <td>0.0</td>\n",
       "      <td>32.424000</td>\n",
       "      <td>39.919998</td>\n",
       "    </tr>\n",
       "  </tbody>\n",
       "</table>\n",
       "<p>77570153 rows × 6 columns</p>\n",
       "</div>"
      ],
      "text/plain": [
       "          sess_id sess_locale     product  target  sess_avg_price  \\\n",
       "0               0          UK  B096FLR9LK     0.0        7.388571   \n",
       "1               0          UK  B093SZNPZN     0.0        7.388571   \n",
       "2               0          UK  B0856JQ3WJ     0.0        7.388571   \n",
       "3               0          UK  B09XMX99F3     0.0        7.388571   \n",
       "4               0          UK  B07L3L4PQH     0.0        7.388571   \n",
       "...           ...         ...         ...     ...             ...   \n",
       "77570148   361580          DE  B0013USA1M     0.0       32.424000   \n",
       "77570149   361580          DE  B00O4TD1XG     0.0       32.424000   \n",
       "77570150   361580          DE  B00816X8TU     0.0       32.424000   \n",
       "77570151   361580          DE  B0857Z91PY     0.0       32.424000   \n",
       "77570152   361580          DE  B07636CZVG     0.0       32.424000   \n",
       "\n",
       "          product_price  \n",
       "0             17.990000  \n",
       "1             14.990000  \n",
       "2             14.610000  \n",
       "3             12.990000  \n",
       "4             13.000000  \n",
       "...                 ...  \n",
       "77570148      29.820000  \n",
       "77570149      28.950001  \n",
       "77570150      27.450001  \n",
       "77570151      60.509998  \n",
       "77570152      39.919998  \n",
       "\n",
       "[77570153 rows x 6 columns]"
      ]
     },
     "execution_count": 4,
     "metadata": {},
     "output_type": "execute_result"
    }
   ],
   "source": [
    "merged_candidates_2_feature"
   ]
  },
  {
   "cell_type": "code",
   "execution_count": 6,
   "metadata": {},
   "outputs": [
    {
     "data": {
      "text/plain": [
       "0.7176898122412405"
      ]
     },
     "execution_count": 6,
     "metadata": {},
     "output_type": "execute_result"
    }
   ],
   "source": [
    "# recall \n",
    "(merged_candidates_2['target'] == 1.0).sum() / (merged_candidates_2['sess_id'].max() + 1)"
   ]
  },
  {
   "cell_type": "code",
   "execution_count": null,
   "metadata": {},
   "outputs": [],
   "source": [
    "'cxl'"
   ]
  }
 ],
 "metadata": {
  "kernelspec": {
   "display_name": "torch12",
   "language": "python",
   "name": "python3"
  },
  "language_info": {
   "codemirror_mode": {
    "name": "ipython",
    "version": 3
   },
   "file_extension": ".py",
   "mimetype": "text/x-python",
   "name": "python",
   "nbconvert_exporter": "python",
   "pygments_lexer": "ipython3",
   "version": "3.9.16"
  }
 },
 "nbformat": 4,
 "nbformat_minor": 2
}
