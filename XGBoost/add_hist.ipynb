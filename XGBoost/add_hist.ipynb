{
 "cells": [
  {
   "cell_type": "code",
   "execution_count": 2,
   "metadata": {},
   "outputs": [],
   "source": [
    "import os\n",
    "os.environ[\"CUDA_VISIBLE_DEVICES\"] = \"1\"\n",
    "import numpy as np\n",
    "import pandas as pd\n",
    "import scipy.sparse as ssp\n",
    "from functools import lru_cache\n",
    "from tqdm import tqdm, trange\n",
    "import xgboost as xgb \n",
    "from sklearn.model_selection import GroupKFold\n",
    "import time\n",
    "import matplotlib.pyplot as plt"
   ]
  },
  {
   "cell_type": "code",
   "execution_count": 5,
   "metadata": {},
   "outputs": [],
   "source": [
    "test_sessions_path = '/root/autodl-tmp/xiaolong/WorkSpace/Amazon-KDDCUP-23/raw_data/sessions_test_task1_phase2.csv'"
   ]
  },
  {
   "cell_type": "code",
   "execution_count": 6,
   "metadata": {},
   "outputs": [],
   "source": [
    "test_sessions = pd.read_csv(test_sessions_path)"
   ]
  },
  {
   "cell_type": "code",
   "execution_count": 7,
   "metadata": {},
   "outputs": [
    {
     "data": {
      "text/html": [
       "<div>\n",
       "<style scoped>\n",
       "    .dataframe tbody tr th:only-of-type {\n",
       "        vertical-align: middle;\n",
       "    }\n",
       "\n",
       "    .dataframe tbody tr th {\n",
       "        vertical-align: top;\n",
       "    }\n",
       "\n",
       "    .dataframe thead th {\n",
       "        text-align: right;\n",
       "    }\n",
       "</style>\n",
       "<table border=\"1\" class=\"dataframe\">\n",
       "  <thead>\n",
       "    <tr style=\"text-align: right;\">\n",
       "      <th></th>\n",
       "      <th>prev_items</th>\n",
       "      <th>locale</th>\n",
       "    </tr>\n",
       "  </thead>\n",
       "  <tbody>\n",
       "    <tr>\n",
       "      <th>0</th>\n",
       "      <td>['B087VLP2RT' 'B09BRQSHYH' 'B099KW4ZLV']</td>\n",
       "      <td>DE</td>\n",
       "    </tr>\n",
       "    <tr>\n",
       "      <th>1</th>\n",
       "      <td>['B08XW4W667' 'B096VMCJYF' 'B096VMCJYF']</td>\n",
       "      <td>DE</td>\n",
       "    </tr>\n",
       "    <tr>\n",
       "      <th>2</th>\n",
       "      <td>['B09Z4T2GJ3' 'B09Z3FBXMB' 'B0936K9LTJ' 'B09Z4...</td>\n",
       "      <td>DE</td>\n",
       "    </tr>\n",
       "    <tr>\n",
       "      <th>3</th>\n",
       "      <td>['B07T6Y2HG7' 'B07T2NBLX9' 'B07Y1G5F3Y']</td>\n",
       "      <td>DE</td>\n",
       "    </tr>\n",
       "    <tr>\n",
       "      <th>4</th>\n",
       "      <td>['B0B2DRKZ6X' 'B0B2DRKZ6X' 'B0B2DRKZ6X']</td>\n",
       "      <td>DE</td>\n",
       "    </tr>\n",
       "    <tr>\n",
       "      <th>...</th>\n",
       "      <td>...</td>\n",
       "      <td>...</td>\n",
       "    </tr>\n",
       "    <tr>\n",
       "      <th>316967</th>\n",
       "      <td>['B078RJX3CC' 'B07GKM97YF']</td>\n",
       "      <td>UK</td>\n",
       "    </tr>\n",
       "    <tr>\n",
       "      <th>316968</th>\n",
       "      <td>['B01LX5Y7RG' 'B00M35Y2J0' 'B0BFR9D1Y2' 'B09BB...</td>\n",
       "      <td>UK</td>\n",
       "    </tr>\n",
       "    <tr>\n",
       "      <th>316969</th>\n",
       "      <td>['B09HGRXXTM' 'B08VDNCZT9']</td>\n",
       "      <td>UK</td>\n",
       "    </tr>\n",
       "    <tr>\n",
       "      <th>316970</th>\n",
       "      <td>['B089CVQ2FS' 'B089CVQ2FS']</td>\n",
       "      <td>UK</td>\n",
       "    </tr>\n",
       "    <tr>\n",
       "      <th>316971</th>\n",
       "      <td>['B07H48412Q' 'B093GS4XYP' 'B07H42L4TJ']</td>\n",
       "      <td>UK</td>\n",
       "    </tr>\n",
       "  </tbody>\n",
       "</table>\n",
       "<p>316972 rows × 2 columns</p>\n",
       "</div>"
      ],
      "text/plain": [
       "                                               prev_items locale\n",
       "0                ['B087VLP2RT' 'B09BRQSHYH' 'B099KW4ZLV']     DE\n",
       "1                ['B08XW4W667' 'B096VMCJYF' 'B096VMCJYF']     DE\n",
       "2       ['B09Z4T2GJ3' 'B09Z3FBXMB' 'B0936K9LTJ' 'B09Z4...     DE\n",
       "3                ['B07T6Y2HG7' 'B07T2NBLX9' 'B07Y1G5F3Y']     DE\n",
       "4                ['B0B2DRKZ6X' 'B0B2DRKZ6X' 'B0B2DRKZ6X']     DE\n",
       "...                                                   ...    ...\n",
       "316967                        ['B078RJX3CC' 'B07GKM97YF']     UK\n",
       "316968  ['B01LX5Y7RG' 'B00M35Y2J0' 'B0BFR9D1Y2' 'B09BB...     UK\n",
       "316969                        ['B09HGRXXTM' 'B08VDNCZT9']     UK\n",
       "316970                        ['B089CVQ2FS' 'B089CVQ2FS']     UK\n",
       "316971           ['B07H48412Q' 'B093GS4XYP' 'B07H42L4TJ']     UK\n",
       "\n",
       "[316972 rows x 2 columns]"
      ]
     },
     "execution_count": 7,
     "metadata": {},
     "output_type": "execute_result"
    }
   ],
   "source": [
    "test_sessions"
   ]
  },
  {
   "cell_type": "code",
   "execution_count": 3,
   "metadata": {},
   "outputs": [],
   "source": [
    "submission = pd.read_parquet('/root/autodl-tmp/xiaolong/WorkSpace/Amazon-KDDCUP-23/predictions/XGBoost/xgboost_06_04_10_24_with_feat_models.parquet', engine='pyarrow')"
   ]
  },
  {
   "cell_type": "code",
   "execution_count": 8,
   "metadata": {},
   "outputs": [
    {
     "data": {
      "text/html": [
       "<div>\n",
       "<style scoped>\n",
       "    .dataframe tbody tr th:only-of-type {\n",
       "        vertical-align: middle;\n",
       "    }\n",
       "\n",
       "    .dataframe tbody tr th {\n",
       "        vertical-align: top;\n",
       "    }\n",
       "\n",
       "    .dataframe thead th {\n",
       "        text-align: right;\n",
       "    }\n",
       "</style>\n",
       "<table border=\"1\" class=\"dataframe\">\n",
       "  <thead>\n",
       "    <tr style=\"text-align: right;\">\n",
       "      <th></th>\n",
       "      <th>next_item_prediction</th>\n",
       "      <th>locale</th>\n",
       "    </tr>\n",
       "  </thead>\n",
       "  <tbody>\n",
       "    <tr>\n",
       "      <th>0</th>\n",
       "      <td>[B091CK241X, B07SDFLVKD, B0BGC82WVW, B093X59B3...</td>\n",
       "      <td>DE</td>\n",
       "    </tr>\n",
       "    <tr>\n",
       "      <th>1</th>\n",
       "      <td>[B084CB7GX9, B004P4QFJM, B08HQWQ1SK, B004P4OF1...</td>\n",
       "      <td>DE</td>\n",
       "    </tr>\n",
       "    <tr>\n",
       "      <th>2</th>\n",
       "      <td>[B09Z4PZQBF, B08LLF9M11, B09GPJ15GS, B09KBCTXF...</td>\n",
       "      <td>DE</td>\n",
       "    </tr>\n",
       "    <tr>\n",
       "      <th>3</th>\n",
       "      <td>[B07Y1KLF25, B07T5XY2CJ, B07T2NFRFV, B07T5XJW9...</td>\n",
       "      <td>DE</td>\n",
       "    </tr>\n",
       "    <tr>\n",
       "      <th>4</th>\n",
       "      <td>[B0B2JY9THB, B08SXLWXH9, B01MRXVY2O, B08SHZHRQ...</td>\n",
       "      <td>DE</td>\n",
       "    </tr>\n",
       "    <tr>\n",
       "      <th>...</th>\n",
       "      <td>...</td>\n",
       "      <td>...</td>\n",
       "    </tr>\n",
       "    <tr>\n",
       "      <th>316967</th>\n",
       "      <td>[B07GKP2LCF, B07GKYSHB4, B00V6FIFZ0, B09QMK82R...</td>\n",
       "      <td>UK</td>\n",
       "    </tr>\n",
       "    <tr>\n",
       "      <th>316968</th>\n",
       "      <td>[B00M35Y326, B07KTJXWHH, B08L5Z8GPL, B00NVMIO0...</td>\n",
       "      <td>UK</td>\n",
       "    </tr>\n",
       "    <tr>\n",
       "      <th>316969</th>\n",
       "      <td>[B08VDHH6QF, B08VD5DC5L, B09HGSCL9Q, B08VDSL59...</td>\n",
       "      <td>UK</td>\n",
       "    </tr>\n",
       "    <tr>\n",
       "      <th>316970</th>\n",
       "      <td>[B089CZWB4C, B08W2JJZBM, B09WCQYGX8, B08T1ZJYH...</td>\n",
       "      <td>UK</td>\n",
       "    </tr>\n",
       "    <tr>\n",
       "      <th>316971</th>\n",
       "      <td>[B08GY1QYXP, B08GY61ZZN, B07H9J1YXN, B07NNW2YX...</td>\n",
       "      <td>UK</td>\n",
       "    </tr>\n",
       "  </tbody>\n",
       "</table>\n",
       "<p>316972 rows × 2 columns</p>\n",
       "</div>"
      ],
      "text/plain": [
       "                                     next_item_prediction locale\n",
       "0       [B091CK241X, B07SDFLVKD, B0BGC82WVW, B093X59B3...     DE\n",
       "1       [B084CB7GX9, B004P4QFJM, B08HQWQ1SK, B004P4OF1...     DE\n",
       "2       [B09Z4PZQBF, B08LLF9M11, B09GPJ15GS, B09KBCTXF...     DE\n",
       "3       [B07Y1KLF25, B07T5XY2CJ, B07T2NFRFV, B07T5XJW9...     DE\n",
       "4       [B0B2JY9THB, B08SXLWXH9, B01MRXVY2O, B08SHZHRQ...     DE\n",
       "...                                                   ...    ...\n",
       "316967  [B07GKP2LCF, B07GKYSHB4, B00V6FIFZ0, B09QMK82R...     UK\n",
       "316968  [B00M35Y326, B07KTJXWHH, B08L5Z8GPL, B00NVMIO0...     UK\n",
       "316969  [B08VDHH6QF, B08VD5DC5L, B09HGSCL9Q, B08VDSL59...     UK\n",
       "316970  [B089CZWB4C, B08W2JJZBM, B09WCQYGX8, B08T1ZJYH...     UK\n",
       "316971  [B08GY1QYXP, B08GY61ZZN, B07H9J1YXN, B07NNW2YX...     UK\n",
       "\n",
       "[316972 rows x 2 columns]"
      ]
     },
     "execution_count": 8,
     "metadata": {},
     "output_type": "execute_result"
    }
   ],
   "source": [
    "submission"
   ]
  },
  {
   "cell_type": "code",
   "execution_count": 11,
   "metadata": {},
   "outputs": [
    {
     "name": "stderr",
     "output_type": "stream",
     "text": [
      "100%|██████████| 316972/316972 [01:02<00:00, 5088.79it/s]\n"
     ]
    }
   ],
   "source": [
    "for row in tqdm(test_sessions.itertuples(), total=test_sessions.shape[0]):\n",
    "    idx = row.Index\n",
    "    prev_items = eval(row.prev_items.replace(' ', ','))\n",
    "    next_item_prediction = submission.iloc[idx]['next_item_prediction']\n",
    "    next_item_prediction = np.insert(next_item_prediction, 50, prev_items[-1])\n",
    "    if len(prev_items) >= 2:\n",
    "        next_item_prediction = np.insert(next_item_prediction, 51, prev_items[-2])\n",
    "    submission.iloc[idx]['next_item_prediction'] = next_item_prediction[:100]"
   ]
  },
  {
   "cell_type": "code",
   "execution_count": 12,
   "metadata": {},
   "outputs": [
    {
     "data": {
      "text/plain": [
       "100"
      ]
     },
     "execution_count": 12,
     "metadata": {},
     "output_type": "execute_result"
    }
   ],
   "source": [
    "len(submission.iloc[0]['next_item_prediction'])"
   ]
  },
  {
   "cell_type": "code",
   "execution_count": 14,
   "metadata": {},
   "outputs": [
    {
     "data": {
      "text/plain": [
       "\"['B087VLP2RT' 'B09BRQSHYH' 'B099KW4ZLV']\""
      ]
     },
     "execution_count": 14,
     "metadata": {},
     "output_type": "execute_result"
    }
   ],
   "source": [
    "test_sessions.iloc[0]['prev_items']"
   ]
  },
  {
   "cell_type": "code",
   "execution_count": 15,
   "metadata": {},
   "outputs": [
    {
     "data": {
      "text/plain": [
       "('B099KW4ZLV', 'B09BRQSHYH')"
      ]
     },
     "execution_count": 15,
     "metadata": {},
     "output_type": "execute_result"
    }
   ],
   "source": [
    "submission.iloc[0]['next_item_prediction'][50], submission.iloc[0]['next_item_prediction'][51]"
   ]
  },
  {
   "cell_type": "code",
   "execution_count": 18,
   "metadata": {},
   "outputs": [
    {
     "data": {
      "text/plain": [
       "\"['B08H5JP1Q4' 'B00NUS53CY']\""
      ]
     },
     "execution_count": 18,
     "metadata": {},
     "output_type": "execute_result"
    }
   ],
   "source": [
    "test_sessions.iloc[15000]['prev_items']"
   ]
  },
  {
   "cell_type": "code",
   "execution_count": 19,
   "metadata": {},
   "outputs": [
    {
     "data": {
      "text/plain": [
       "('B00NUS53CY', 'B08H5JP1Q4')"
      ]
     },
     "execution_count": 19,
     "metadata": {},
     "output_type": "execute_result"
    }
   ],
   "source": [
    "submission.iloc[15000]['next_item_prediction'][50], submission.iloc[15000]['next_item_prediction'][51]"
   ]
  },
  {
   "cell_type": "code",
   "execution_count": 20,
   "metadata": {},
   "outputs": [],
   "source": [
    "submission.to_parquet('../predictions/XGBoost/xgboost_06_04_15_03_add_userhist.parquet', engine='pyarrow')"
   ]
  }
 ],
 "metadata": {
  "kernelspec": {
   "display_name": "torch12",
   "language": "python",
   "name": "python3"
  },
  "language_info": {
   "codemirror_mode": {
    "name": "ipython",
    "version": 3
   },
   "file_extension": ".py",
   "mimetype": "text/x-python",
   "name": "python",
   "nbconvert_exporter": "python",
   "pygments_lexer": "ipython3",
   "version": "3.9.15"
  },
  "orig_nbformat": 4
 },
 "nbformat": 4,
 "nbformat_minor": 2
}
