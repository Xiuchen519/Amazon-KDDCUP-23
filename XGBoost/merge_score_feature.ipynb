{
 "cells": [
  {
   "cell_type": "code",
   "execution_count": 1,
   "metadata": {},
   "outputs": [],
   "source": [
    "import os\n",
    "import random\n",
    "import numpy as np\n",
    "import pandas as pd\n",
    "import cudf, itertools\n",
    "import scipy.sparse as ssp\n",
    "from functools import lru_cache\n",
    "from tqdm import tqdm, trange\n",
    "from collections import Counter, defaultdict"
   ]
  },
  {
   "cell_type": "code",
   "execution_count": 2,
   "metadata": {},
   "outputs": [],
   "source": [
    "merged_candidates_path = '/root/autodl-tmp/xiaolong/WorkSpace/Amazon-KDDCUP-23/XGBoost/candidates/merged_candidates_2.parquet'\n",
    "valid_sessions_path = '/root/autodl-tmp/xiaolong/WorkSpace/Amazon-KDDCUP-23/data_for_recstudio/task1_data/task13_4_task1_valid_sessions.csv'\n",
    "sasrec_valid_candidates_path = '/root/autodl-tmp/xiaolong/WorkSpace/Amazon-KDDCUP-23/candidates/SASRec_Next/seperate_locale/SASRec_Next_04_26_15_26_valid_100_with_score.parquet'\n",
    "roberta_valid_candidates_path = '/root/autodl-tmp/xiaolong/WorkSpace/Amazon-KDDCUP-23/candidates/roberta/roberta_valid_100_with_score.parquet'\n",
    "co_graph_valid_candidates_path = '/root/autodl-tmp/xiaolong/WorkSpace/Amazon-KDDCUP-23/candidates/co_graph/co_graph_valid_100_with_normalized_score_2.parquet'"
   ]
  },
  {
   "cell_type": "code",
   "execution_count": 3,
   "metadata": {},
   "outputs": [],
   "source": [
    "@lru_cache(maxsize=1)\n",
    "def read_merged_candidates():\n",
    "    return pd.read_parquet(merged_candidates_path, engine='pyarrow')\n",
    "\n",
    "@lru_cache(maxsize=1)\n",
    "def read_valid_sessions():\n",
    "    return pd.read_csv(valid_sessions_path)\n",
    "\n",
    "@lru_cache(maxsize=1)\n",
    "def read_sasrec_valid_candidates():\n",
    "    return pd.read_parquet(sasrec_valid_candidates_path, engine='pyarrow')\n",
    "\n",
    "lru_cache(maxsize=1)\n",
    "def read_roberta_valid_candidates():\n",
    "    return pd.read_parquet(roberta_valid_candidates_path, engine='pyarrow')\n",
    "\n",
    "lru_cache(maxsize=1)\n",
    "def read_co_graph_valid_candidates():\n",
    "    return pd.read_parquet(co_graph_valid_candidates_path, engine='pyarrow')\n"
   ]
  },
  {
   "cell_type": "code",
   "execution_count": 4,
   "metadata": {},
   "outputs": [],
   "source": [
    "def cast_dtype(df : pd.DataFrame):\n",
    "    for k in df.columns:\n",
    "        dt = type(df[k].iloc[0])\n",
    "        if 'float' in str(dt):\n",
    "            df[k] = df[k].astype('float32')\n",
    "        elif 'int' in str(dt):\n",
    "            df[k] = df[k].astype('int32')\n",
    "        elif dt == list:\n",
    "            dt_ = type(df.iloc[0][k][0])\n",
    "            if 'float' in str(dt_):\n",
    "                df[k] = df[k].apply(lambda x : np.array(x, dtype=np.float32))\n",
    "            elif 'int' in str(dt_):\n",
    "                df[k] = df[k].apply(lambda x : np.array(x, dtype=np.int32))"
   ]
  },
  {
   "cell_type": "code",
   "execution_count": 5,
   "metadata": {},
   "outputs": [],
   "source": [
    "def normalize_score(candidates_df):\n",
    "    normalized_score = []\n",
    "    for i in tqdm(range(len(candidates_df))):\n",
    "        scores = candidates_df.iloc[i]['scores'] - candidates_df.iloc[i]['scores'].max()\n",
    "        scores = np.array(scores)\n",
    "        scores = np.exp(scores) / np.exp(scores).sum()\n",
    "        normalized_score.append(scores)\n",
    "    candidates_df['normalized_scores'] = normalized_score"
   ]
  },
  {
   "cell_type": "code",
   "execution_count": 6,
   "metadata": {},
   "outputs": [],
   "source": [
    "def flatten_candidates(candidates_df):\n",
    "    column_list = list(candidates_df.keys())\n",
    "    values_dict = {key : [] for key in column_list}\n",
    "    num_candidates = len(candidates_df.iloc[0]['candidates'])\n",
    "    for i in tqdm(range(candidates_df.shape[0])):\n",
    "        sess = candidates_df.iloc[i]\n",
    "        for key in column_list:\n",
    "            cur_value = sess[key]\n",
    "            if type(cur_value) == np.ndarray or type(cur_value) == list:\n",
    "                for x in cur_value:\n",
    "                    values_dict[key].append(x)\n",
    "            else:\n",
    "                for _ in range(num_candidates):\n",
    "                    values_dict[key].append(cur_value)\n",
    "    \n",
    "    return pd.DataFrame(values_dict)"
   ]
  },
  {
   "attachments": {},
   "cell_type": "markdown",
   "metadata": {},
   "source": [
    "# Merge valid score features"
   ]
  },
  {
   "cell_type": "code",
   "execution_count": 7,
   "metadata": {},
   "outputs": [],
   "source": [
    "merged_candidates = read_merged_candidates()\n",
    "valid_sessions = read_valid_sessions()"
   ]
  },
  {
   "attachments": {},
   "cell_type": "markdown",
   "metadata": {},
   "source": [
    "## merge sasrec scores "
   ]
  },
  {
   "cell_type": "code",
   "execution_count": 8,
   "metadata": {},
   "outputs": [],
   "source": [
    "sasrec_valid_candidates = read_sasrec_valid_candidates()"
   ]
  },
  {
   "cell_type": "code",
   "execution_count": 9,
   "metadata": {},
   "outputs": [
    {
     "name": "stderr",
     "output_type": "stream",
     "text": [
      "100%|██████████| 361581/361581 [00:36<00:00, 9800.54it/s] \n"
     ]
    }
   ],
   "source": [
    "normalize_score(sasrec_valid_candidates)"
   ]
  },
  {
   "cell_type": "code",
   "execution_count": 10,
   "metadata": {},
   "outputs": [
    {
     "name": "stderr",
     "output_type": "stream",
     "text": [
      "100%|██████████| 361581/361581 [00:33<00:00, 10673.23it/s]\n"
     ]
    }
   ],
   "source": [
    "flattened_sasrec_valid_candidates = flatten_candidates(sasrec_valid_candidates.drop(columns=['scores']))"
   ]
  },
  {
   "cell_type": "code",
   "execution_count": 11,
   "metadata": {},
   "outputs": [],
   "source": [
    "flattened_sasrec_valid_candidates.rename(columns={'normalized_scores' : 'sasrec_normalized_scores', 'candidates' : 'product'}, inplace=True)\n",
    "flattened_sasrec_valid_candidates['sess_id'] = flattened_sasrec_valid_candidates['sess_id'].astype('int32')"
   ]
  },
  {
   "cell_type": "code",
   "execution_count": 12,
   "metadata": {},
   "outputs": [],
   "source": [
    "merged_candidates_g = cudf.from_pandas(merged_candidates)\n",
    "flattened_sasrec_valid_candidates_g = cudf.from_pandas(flattened_sasrec_valid_candidates)"
   ]
  },
  {
   "cell_type": "code",
   "execution_count": 13,
   "metadata": {},
   "outputs": [],
   "source": [
    "merged_candidates_sasrec_g = merged_candidates_g.merge(flattened_sasrec_valid_candidates_g[['sess_id', 'product', 'sasrec_normalized_scores']], how='left', left_on=['sess_id', 'product'], right_on=['sess_id', 'product'])\n",
    "merged_candidates_sasrec_g = merged_candidates_sasrec_g.sort_values(by=['sess_id']).reset_index(drop=True)\n",
    "merged_candidates_sasrec_g['sasrec_normalized_scores'] = merged_candidates_sasrec_g['sasrec_normalized_scores'].fillna(0.0)\n",
    "cast_dtype(merged_candidates_sasrec_g)"
   ]
  },
  {
   "cell_type": "code",
   "execution_count": 14,
   "metadata": {},
   "outputs": [],
   "source": [
    "merged_candidates_sasrec = merged_candidates_sasrec_g.to_pandas()\n",
    "merged_candidates_sasrec.to_parquet('./candidates/merged_candidates_feature_2.parquet', engine='pyarrow')"
   ]
  },
  {
   "cell_type": "code",
   "execution_count": 15,
   "metadata": {},
   "outputs": [],
   "source": [
    "# release GPU\n",
    "del merged_candidates_sasrec_g\n",
    "del merged_candidates_g\n",
    "del flattened_sasrec_valid_candidates_g"
   ]
  },
  {
   "attachments": {},
   "cell_type": "markdown",
   "metadata": {},
   "source": [
    "## merge roberta scores "
   ]
  },
  {
   "cell_type": "code",
   "execution_count": 16,
   "metadata": {},
   "outputs": [
    {
     "data": {
      "text/html": [
       "<div>\n",
       "<style scoped>\n",
       "    .dataframe tbody tr th:only-of-type {\n",
       "        vertical-align: middle;\n",
       "    }\n",
       "\n",
       "    .dataframe tbody tr th {\n",
       "        vertical-align: top;\n",
       "    }\n",
       "\n",
       "    .dataframe thead th {\n",
       "        text-align: right;\n",
       "    }\n",
       "</style>\n",
       "<table border=\"1\" class=\"dataframe\">\n",
       "  <thead>\n",
       "    <tr style=\"text-align: right;\">\n",
       "      <th></th>\n",
       "      <th>sess_id</th>\n",
       "      <th>sess_locale</th>\n",
       "      <th>product</th>\n",
       "      <th>target</th>\n",
       "      <th>sasrec_normalized_scores</th>\n",
       "    </tr>\n",
       "  </thead>\n",
       "  <tbody>\n",
       "    <tr>\n",
       "      <th>0</th>\n",
       "      <td>0</td>\n",
       "      <td>UK</td>\n",
       "      <td>B098QH6122</td>\n",
       "      <td>0.0</td>\n",
       "      <td>0.000063</td>\n",
       "    </tr>\n",
       "    <tr>\n",
       "      <th>1</th>\n",
       "      <td>0</td>\n",
       "      <td>UK</td>\n",
       "      <td>B076PN1SKG</td>\n",
       "      <td>0.0</td>\n",
       "      <td>0.022821</td>\n",
       "    </tr>\n",
       "    <tr>\n",
       "      <th>2</th>\n",
       "      <td>0</td>\n",
       "      <td>UK</td>\n",
       "      <td>B09WF4MM8F</td>\n",
       "      <td>0.0</td>\n",
       "      <td>0.000248</td>\n",
       "    </tr>\n",
       "    <tr>\n",
       "      <th>3</th>\n",
       "      <td>0</td>\n",
       "      <td>UK</td>\n",
       "      <td>B08G86V98M</td>\n",
       "      <td>0.0</td>\n",
       "      <td>0.005668</td>\n",
       "    </tr>\n",
       "    <tr>\n",
       "      <th>4</th>\n",
       "      <td>0</td>\n",
       "      <td>UK</td>\n",
       "      <td>B077VWJYHT</td>\n",
       "      <td>0.0</td>\n",
       "      <td>0.000166</td>\n",
       "    </tr>\n",
       "    <tr>\n",
       "      <th>...</th>\n",
       "      <td>...</td>\n",
       "      <td>...</td>\n",
       "      <td>...</td>\n",
       "      <td>...</td>\n",
       "      <td>...</td>\n",
       "    </tr>\n",
       "    <tr>\n",
       "      <th>85365224</th>\n",
       "      <td>361580</td>\n",
       "      <td>DE</td>\n",
       "      <td>B07TV22X9M</td>\n",
       "      <td>0.0</td>\n",
       "      <td>0.000000</td>\n",
       "    </tr>\n",
       "    <tr>\n",
       "      <th>85365225</th>\n",
       "      <td>361580</td>\n",
       "      <td>DE</td>\n",
       "      <td>B003BZT45I</td>\n",
       "      <td>0.0</td>\n",
       "      <td>0.000000</td>\n",
       "    </tr>\n",
       "    <tr>\n",
       "      <th>85365226</th>\n",
       "      <td>361580</td>\n",
       "      <td>DE</td>\n",
       "      <td>B07DPW7V27</td>\n",
       "      <td>0.0</td>\n",
       "      <td>0.000000</td>\n",
       "    </tr>\n",
       "    <tr>\n",
       "      <th>85365227</th>\n",
       "      <td>361580</td>\n",
       "      <td>DE</td>\n",
       "      <td>B09RKGYBR2</td>\n",
       "      <td>0.0</td>\n",
       "      <td>0.000208</td>\n",
       "    </tr>\n",
       "    <tr>\n",
       "      <th>85365228</th>\n",
       "      <td>361580</td>\n",
       "      <td>DE</td>\n",
       "      <td>B0095FMHTS</td>\n",
       "      <td>0.0</td>\n",
       "      <td>0.000101</td>\n",
       "    </tr>\n",
       "  </tbody>\n",
       "</table>\n",
       "<p>85365229 rows × 5 columns</p>\n",
       "</div>"
      ],
      "text/plain": [
       "          sess_id sess_locale     product  target  sasrec_normalized_scores\n",
       "0               0          UK  B098QH6122     0.0                  0.000063\n",
       "1               0          UK  B076PN1SKG     0.0                  0.022821\n",
       "2               0          UK  B09WF4MM8F     0.0                  0.000248\n",
       "3               0          UK  B08G86V98M     0.0                  0.005668\n",
       "4               0          UK  B077VWJYHT     0.0                  0.000166\n",
       "...           ...         ...         ...     ...                       ...\n",
       "85365224   361580          DE  B07TV22X9M     0.0                  0.000000\n",
       "85365225   361580          DE  B003BZT45I     0.0                  0.000000\n",
       "85365226   361580          DE  B07DPW7V27     0.0                  0.000000\n",
       "85365227   361580          DE  B09RKGYBR2     0.0                  0.000208\n",
       "85365228   361580          DE  B0095FMHTS     0.0                  0.000101\n",
       "\n",
       "[85365229 rows x 5 columns]"
      ]
     },
     "execution_count": 16,
     "metadata": {},
     "output_type": "execute_result"
    }
   ],
   "source": [
    "merged_candidates_score = pd.read_parquet('./candidates/merged_candidates_feature_2.parquet', engine='pyarrow')\n",
    "merged_candidates_score"
   ]
  },
  {
   "cell_type": "code",
   "execution_count": 17,
   "metadata": {},
   "outputs": [],
   "source": [
    "roberta_valid_candidates = read_roberta_valid_candidates()"
   ]
  },
  {
   "cell_type": "code",
   "execution_count": 18,
   "metadata": {},
   "outputs": [
    {
     "name": "stderr",
     "output_type": "stream",
     "text": [
      "100%|██████████| 361581/361581 [01:11<00:00, 5073.99it/s]\n"
     ]
    }
   ],
   "source": [
    "normalize_score(roberta_valid_candidates)"
   ]
  },
  {
   "cell_type": "code",
   "execution_count": 19,
   "metadata": {},
   "outputs": [
    {
     "name": "stderr",
     "output_type": "stream",
     "text": [
      "100%|██████████| 361581/361581 [00:37<00:00, 9732.05it/s] \n"
     ]
    }
   ],
   "source": [
    "flattened_roberta_valid_candidates = flatten_candidates(roberta_valid_candidates.drop(columns=['scores']))"
   ]
  },
  {
   "cell_type": "code",
   "execution_count": 20,
   "metadata": {},
   "outputs": [],
   "source": [
    "flattened_roberta_valid_candidates.rename(columns={'normalized_scores' : 'roberta_normalized_scores', 'candidates' : 'product'}, inplace=True)"
   ]
  },
  {
   "cell_type": "code",
   "execution_count": 21,
   "metadata": {},
   "outputs": [],
   "source": [
    "merged_candidates_score_g = cudf.from_pandas(merged_candidates_score)\n",
    "flattened_roberta_valid_candidates_g = cudf.from_pandas(flattened_roberta_valid_candidates)"
   ]
  },
  {
   "cell_type": "code",
   "execution_count": 22,
   "metadata": {},
   "outputs": [],
   "source": [
    "merged_candidates_roberta_g = merged_candidates_score_g.merge(flattened_roberta_valid_candidates_g[['sess_id', 'product', 'roberta_normalized_scores']], how='left', left_on=['sess_id', 'product'], right_on=['sess_id', 'product'])\n",
    "merged_candidates_roberta_g = merged_candidates_roberta_g.sort_values(by=['sess_id']).reset_index(drop=True)\n",
    "merged_candidates_roberta_g['roberta_normalized_scores'] = merged_candidates_roberta_g['roberta_normalized_scores'].fillna(0.0)\n",
    "cast_dtype(merged_candidates_roberta_g)"
   ]
  },
  {
   "cell_type": "code",
   "execution_count": 23,
   "metadata": {},
   "outputs": [],
   "source": [
    "merged_candidates_roberta = merged_candidates_roberta_g.to_pandas()\n",
    "merged_candidates_roberta.to_parquet('./candidates/merged_candidates_feature_2.parquet', engine='pyarrow')"
   ]
  },
  {
   "cell_type": "code",
   "execution_count": 24,
   "metadata": {},
   "outputs": [],
   "source": [
    "# release GPU\n",
    "del merged_candidates_score_g\n",
    "del merged_candidates_roberta_g\n",
    "del flattened_roberta_valid_candidates_g"
   ]
  },
  {
   "attachments": {},
   "cell_type": "markdown",
   "metadata": {},
   "source": [
    "## merge co-graph scores "
   ]
  },
  {
   "cell_type": "code",
   "execution_count": 25,
   "metadata": {},
   "outputs": [
    {
     "data": {
      "text/html": [
       "<div>\n",
       "<style scoped>\n",
       "    .dataframe tbody tr th:only-of-type {\n",
       "        vertical-align: middle;\n",
       "    }\n",
       "\n",
       "    .dataframe tbody tr th {\n",
       "        vertical-align: top;\n",
       "    }\n",
       "\n",
       "    .dataframe thead th {\n",
       "        text-align: right;\n",
       "    }\n",
       "</style>\n",
       "<table border=\"1\" class=\"dataframe\">\n",
       "  <thead>\n",
       "    <tr style=\"text-align: right;\">\n",
       "      <th></th>\n",
       "      <th>sess_id</th>\n",
       "      <th>sess_locale</th>\n",
       "      <th>product</th>\n",
       "      <th>target</th>\n",
       "      <th>sasrec_normalized_scores</th>\n",
       "      <th>roberta_normalized_scores</th>\n",
       "    </tr>\n",
       "  </thead>\n",
       "  <tbody>\n",
       "    <tr>\n",
       "      <th>0</th>\n",
       "      <td>0</td>\n",
       "      <td>UK</td>\n",
       "      <td>B098QH6122</td>\n",
       "      <td>0.0</td>\n",
       "      <td>0.000063</td>\n",
       "      <td>0.011196</td>\n",
       "    </tr>\n",
       "    <tr>\n",
       "      <th>1</th>\n",
       "      <td>0</td>\n",
       "      <td>UK</td>\n",
       "      <td>B08G86V98M</td>\n",
       "      <td>0.0</td>\n",
       "      <td>0.005668</td>\n",
       "      <td>0.013206</td>\n",
       "    </tr>\n",
       "    <tr>\n",
       "      <th>2</th>\n",
       "      <td>0</td>\n",
       "      <td>UK</td>\n",
       "      <td>B077VWJYHT</td>\n",
       "      <td>0.0</td>\n",
       "      <td>0.000166</td>\n",
       "      <td>0.008670</td>\n",
       "    </tr>\n",
       "    <tr>\n",
       "      <th>3</th>\n",
       "      <td>0</td>\n",
       "      <td>UK</td>\n",
       "      <td>B09XDVQFWD</td>\n",
       "      <td>0.0</td>\n",
       "      <td>0.000168</td>\n",
       "      <td>0.011001</td>\n",
       "    </tr>\n",
       "    <tr>\n",
       "      <th>4</th>\n",
       "      <td>0</td>\n",
       "      <td>UK</td>\n",
       "      <td>B097Y5FZBM</td>\n",
       "      <td>0.0</td>\n",
       "      <td>0.000000</td>\n",
       "      <td>0.007589</td>\n",
       "    </tr>\n",
       "    <tr>\n",
       "      <th>...</th>\n",
       "      <td>...</td>\n",
       "      <td>...</td>\n",
       "      <td>...</td>\n",
       "      <td>...</td>\n",
       "      <td>...</td>\n",
       "      <td>...</td>\n",
       "    </tr>\n",
       "    <tr>\n",
       "      <th>85441841</th>\n",
       "      <td>361580</td>\n",
       "      <td>DE</td>\n",
       "      <td>B09GLTD98C</td>\n",
       "      <td>0.0</td>\n",
       "      <td>0.000617</td>\n",
       "      <td>0.000000</td>\n",
       "    </tr>\n",
       "    <tr>\n",
       "      <th>85441842</th>\n",
       "      <td>361580</td>\n",
       "      <td>DE</td>\n",
       "      <td>B07BG8D61S</td>\n",
       "      <td>0.0</td>\n",
       "      <td>0.000096</td>\n",
       "      <td>0.000000</td>\n",
       "    </tr>\n",
       "    <tr>\n",
       "      <th>85441843</th>\n",
       "      <td>361580</td>\n",
       "      <td>DE</td>\n",
       "      <td>B0BB7ZMGY8</td>\n",
       "      <td>0.0</td>\n",
       "      <td>0.000055</td>\n",
       "      <td>0.000000</td>\n",
       "    </tr>\n",
       "    <tr>\n",
       "      <th>85441844</th>\n",
       "      <td>361580</td>\n",
       "      <td>DE</td>\n",
       "      <td>B0798Z1T76</td>\n",
       "      <td>0.0</td>\n",
       "      <td>0.000000</td>\n",
       "      <td>0.012702</td>\n",
       "    </tr>\n",
       "    <tr>\n",
       "      <th>85441845</th>\n",
       "      <td>361580</td>\n",
       "      <td>DE</td>\n",
       "      <td>B097BSYMZF</td>\n",
       "      <td>0.0</td>\n",
       "      <td>0.000000</td>\n",
       "      <td>0.001680</td>\n",
       "    </tr>\n",
       "  </tbody>\n",
       "</table>\n",
       "<p>85441846 rows × 6 columns</p>\n",
       "</div>"
      ],
      "text/plain": [
       "          sess_id sess_locale     product  target  sasrec_normalized_scores  \\\n",
       "0               0          UK  B098QH6122     0.0                  0.000063   \n",
       "1               0          UK  B08G86V98M     0.0                  0.005668   \n",
       "2               0          UK  B077VWJYHT     0.0                  0.000166   \n",
       "3               0          UK  B09XDVQFWD     0.0                  0.000168   \n",
       "4               0          UK  B097Y5FZBM     0.0                  0.000000   \n",
       "...           ...         ...         ...     ...                       ...   \n",
       "85441841   361580          DE  B09GLTD98C     0.0                  0.000617   \n",
       "85441842   361580          DE  B07BG8D61S     0.0                  0.000096   \n",
       "85441843   361580          DE  B0BB7ZMGY8     0.0                  0.000055   \n",
       "85441844   361580          DE  B0798Z1T76     0.0                  0.000000   \n",
       "85441845   361580          DE  B097BSYMZF     0.0                  0.000000   \n",
       "\n",
       "          roberta_normalized_scores  \n",
       "0                          0.011196  \n",
       "1                          0.013206  \n",
       "2                          0.008670  \n",
       "3                          0.011001  \n",
       "4                          0.007589  \n",
       "...                             ...  \n",
       "85441841                   0.000000  \n",
       "85441842                   0.000000  \n",
       "85441843                   0.000000  \n",
       "85441844                   0.012702  \n",
       "85441845                   0.001680  \n",
       "\n",
       "[85441846 rows x 6 columns]"
      ]
     },
     "execution_count": 25,
     "metadata": {},
     "output_type": "execute_result"
    }
   ],
   "source": [
    "merged_candidates_score = pd.read_parquet('./candidates/merged_candidates_feature_2.parquet', engine='pyarrow')\n",
    "merged_candidates_score"
   ]
  },
  {
   "cell_type": "code",
   "execution_count": 26,
   "metadata": {},
   "outputs": [
    {
     "data": {
      "text/html": [
       "<div>\n",
       "<style scoped>\n",
       "    .dataframe tbody tr th:only-of-type {\n",
       "        vertical-align: middle;\n",
       "    }\n",
       "\n",
       "    .dataframe tbody tr th {\n",
       "        vertical-align: top;\n",
       "    }\n",
       "\n",
       "    .dataframe thead th {\n",
       "        text-align: right;\n",
       "    }\n",
       "</style>\n",
       "<table border=\"1\" class=\"dataframe\">\n",
       "  <thead>\n",
       "    <tr style=\"text-align: right;\">\n",
       "      <th></th>\n",
       "      <th>candidates</th>\n",
       "      <th>counts</th>\n",
       "      <th>normalized_counts</th>\n",
       "      <th>state</th>\n",
       "      <th>counts_0</th>\n",
       "      <th>normalized_counts_0</th>\n",
       "      <th>counts_1</th>\n",
       "      <th>normalized_counts_1</th>\n",
       "      <th>counts_2</th>\n",
       "      <th>normalized_counts_2</th>\n",
       "      <th>sess_id</th>\n",
       "    </tr>\n",
       "  </thead>\n",
       "  <tbody>\n",
       "    <tr>\n",
       "      <th>0</th>\n",
       "      <td>[B077XGDMD2, B06XGDZVZR, B06XG1LZ6Z, B06XGD9VL...</td>\n",
       "      <td>[178.33333, 117.833336, 114.833336, 103.5, 53....</td>\n",
       "      <td>[0.1224957, 0.08093875, 0.078878075, 0.0710933...</td>\n",
       "      <td>Pad</td>\n",
       "      <td>[66, 41, 41, 37, 19, 20, 15, 15, 13, 10, 8, 9,...</td>\n",
       "      <td>[0.11340206, 0.07044674, 0.07044674, 0.0635738...</td>\n",
       "      <td>[28.333334, 27.833334, 23.833334, 21.5, 10.5, ...</td>\n",
       "      <td>[0.1147873, 0.11276165, 0.09655638, 0.08710331...</td>\n",
       "      <td>[84, 49, 50, 45, 24, 17, 12, 12, 11, 9, 11, 8,...</td>\n",
       "      <td>[0.13397129, 0.07814992, 0.079744816, 0.071770...</td>\n",
       "      <td>0</td>\n",
       "    </tr>\n",
       "    <tr>\n",
       "      <th>1</th>\n",
       "      <td>[B09LCPT9DQ, B09WM9W6WQ, B092D5HM5S, B09MRYK5C...</td>\n",
       "      <td>[1579.8334, 300.83334, 145.16667, 133.83333, 9...</td>\n",
       "      <td>[0.29414138, 0.056010675, 0.027027866, 0.02491...</td>\n",
       "      <td>Full</td>\n",
       "      <td>[497, 100, 44, 49, 29, 41, 25, 20, 28, 18, 19,...</td>\n",
       "      <td>[0.22357175, 0.044984255, 0.019793073, 0.02204...</td>\n",
       "      <td>[431.83334, 42.833332, 19.166666, 36.833332, 1...</td>\n",
       "      <td>[0.45939717, 0.045567375, 0.020390071, 0.03918...</td>\n",
       "      <td>[651, 158, 82, 48, 51, 32, 32, 42, 25, 35, 32,...</td>\n",
       "      <td>[0.29483697, 0.07155797, 0.03713768, 0.0217391...</td>\n",
       "      <td>1</td>\n",
       "    </tr>\n",
       "    <tr>\n",
       "      <th>2</th>\n",
       "      <td>[B00L529BAC, B01EV58VX2, B07VYSSRL7, B003TJATC...</td>\n",
       "      <td>[5.5, 4.8333335, 4.0, 3.0, 3.0, 3.0, 3.0, 3.0,...</td>\n",
       "      <td>[0.12267658, 0.10780669, 0.08921933, 0.0669145...</td>\n",
       "      <td>Pad</td>\n",
       "      <td>[2, 2, 1, 1, 1, 1, 1, 1, 0, 1, 0, 0, 0, 0, 0, ...</td>\n",
       "      <td>[0.18181819, 0.18181819, 0.09090909, 0.0909090...</td>\n",
       "      <td>[1.5, 0.8333333, 1.0, 1.0, 1.0, 1.0, 1.0, 1.0,...</td>\n",
       "      <td>[0.16981132, 0.094339624, 0.11320755, 0.113207...</td>\n",
       "      <td>[2, 2, 2, 1, 1, 1, 1, 1, 3, 1, 2, 1, 1, 1, 1, ...</td>\n",
       "      <td>[0.08, 0.08, 0.08, 0.04, 0.04, 0.04, 0.04, 0.0...</td>\n",
       "      <td>2</td>\n",
       "    </tr>\n",
       "    <tr>\n",
       "      <th>3</th>\n",
       "      <td>[1839941960, 1788009975, 024157563X, 024156343...</td>\n",
       "      <td>[26.5, 11.0, 5.3333335, 5.0, 4.6666665, 3.5, 3...</td>\n",
       "      <td>[0.24018127, 0.09969789, 0.04833837, 0.0453172...</td>\n",
       "      <td>Pad</td>\n",
       "      <td>[8, 3, 2, 2, 2, 2, 1, 1, 1, 1, 1, 1, 1, 1, 1, ...</td>\n",
       "      <td>[0.22857143, 0.08571429, 0.057142857, 0.057142...</td>\n",
       "      <td>[7.5, 2.0, 1.3333334, 1.0, 0.6666667, 0.5, 0.5...</td>\n",
       "      <td>[0.38793105, 0.10344828, 0.06896552, 0.0517241...</td>\n",
       "      <td>[11, 6, 2, 2, 2, 1, 2, 1, 1, 2, 1, 1, 1, 1, 1,...</td>\n",
       "      <td>[0.19642857, 0.10714286, 0.035714287, 0.035714...</td>\n",
       "      <td>3</td>\n",
       "    </tr>\n",
       "    <tr>\n",
       "      <th>4</th>\n",
       "      <td>[B0B6PF619D, B09BJF6N8K, B0B6P77ZRN, B0B6P6DKN...</td>\n",
       "      <td>[33.666668, 12.0, 10.0, 8.333333, 8.166667, 6....</td>\n",
       "      <td>[0.28291318, 0.10084034, 0.084033616, 0.070028...</td>\n",
       "      <td>Pad</td>\n",
       "      <td>[13, 4, 5, 4, 3, 3, 3, 4, 4, 2, 2, 0, 1, 1, 0,...</td>\n",
       "      <td>[0.26530612, 0.08163265, 0.10204082, 0.0816326...</td>\n",
       "      <td>[7.6666665, 4.0, 1.0, 1.3333334, 1.1666666, 1....</td>\n",
       "      <td>[0.40350878, 0.21052632, 0.05263158, 0.0701754...</td>\n",
       "      <td>[13, 4, 4, 3, 4, 2, 2, 0, 0, 1, 1, 3, 1, 1, 2,...</td>\n",
       "      <td>[0.25490198, 0.078431375, 0.078431375, 0.05882...</td>\n",
       "      <td>4</td>\n",
       "    </tr>\n",
       "    <tr>\n",
       "      <th>...</th>\n",
       "      <td>...</td>\n",
       "      <td>...</td>\n",
       "      <td>...</td>\n",
       "      <td>...</td>\n",
       "      <td>...</td>\n",
       "      <td>...</td>\n",
       "      <td>...</td>\n",
       "      <td>...</td>\n",
       "      <td>...</td>\n",
       "      <td>...</td>\n",
       "      <td>...</td>\n",
       "    </tr>\n",
       "    <tr>\n",
       "      <th>361576</th>\n",
       "      <td>[B08HH6L4PB, B08F5D8T22, B0050IG9DE, B01A955L8...</td>\n",
       "      <td>[8.0, 4.0, 3.5, 3.0, 2.5, 2.3333333, 2.0, 1.0,...</td>\n",
       "      <td>[0.24742268, 0.12371134, 0.10824742, 0.0927835...</td>\n",
       "      <td>Pad</td>\n",
       "      <td>[1, 1, 1, 1, 1, 1, 0, 1, 1, 0, 0, 0, 0, 0, 0, ...</td>\n",
       "      <td>[0.125, 0.125, 0.125, 0.125, 0.125, 0.125, 0.0...</td>\n",
       "      <td>[1.0, 1.0, 0.5, 1.0, 0.5, 0.33333334, 0.0, 0.0...</td>\n",
       "      <td>[0.23076923, 0.23076923, 0.115384616, 0.230769...</td>\n",
       "      <td>[6, 2, 2, 1, 1, 1, 2, 0, 0, 1, 1, 1, 1, 1, 0, ...</td>\n",
       "      <td>[0.3, 0.1, 0.1, 0.05, 0.05, 0.05, 0.1, 0.0, 0....</td>\n",
       "      <td>361576</td>\n",
       "    </tr>\n",
       "    <tr>\n",
       "      <th>361577</th>\n",
       "      <td>[B09BBX1T4S, B09D76FT9D, B09B9V4PXC, B09BCM5NL...</td>\n",
       "      <td>[2889.5, 1050.8334, 933.0, 748.3333, 354.0, 34...</td>\n",
       "      <td>[0.20720936, 0.07535646, 0.066906504, 0.053663...</td>\n",
       "      <td>Full</td>\n",
       "      <td>[742, 412, 300, 287, 147, 129, 107, 92, 83, 82...</td>\n",
       "      <td>[0.12008416, 0.06667746, 0.048551545, 0.046447...</td>\n",
       "      <td>[524.5, 122.833336, 195.0, 189.33333, 74.0, 76...</td>\n",
       "      <td>[0.25061718, 0.058692362, 0.09317512, 0.090467...</td>\n",
       "      <td>[1623, 516, 438, 272, 133, 143, 97, 94, 77, 71...</td>\n",
       "      <td>[0.286092, 0.090957165, 0.077207826, 0.0479464...</td>\n",
       "      <td>361577</td>\n",
       "    </tr>\n",
       "    <tr>\n",
       "      <th>361578</th>\n",
       "      <td>[B0BC38GHB4, B07KLCY8NF, B09SXQW8MS, B00MXZEMB...</td>\n",
       "      <td>[10.0, 7.5, 6.0, 5.3333335, 4.0, 3.5, 3.5, 3.0...</td>\n",
       "      <td>[0.15503876, 0.11627907, 0.093023255, 0.082687...</td>\n",
       "      <td>Pad</td>\n",
       "      <td>[2, 4, 2, 2, 2, 2, 1, 1, 1, 1, 1, 1, 0, 1, 1, ...</td>\n",
       "      <td>[0.08, 0.16, 0.08, 0.08, 0.08, 0.08, 0.04, 0.0...</td>\n",
       "      <td>[2.0, 1.5, 1.0, 1.3333334, 1.0, 0.5, 0.5, 1.0,...</td>\n",
       "      <td>[0.21052632, 0.15789473, 0.10526316, 0.1403508...</td>\n",
       "      <td>[6, 2, 3, 2, 1, 1, 2, 1, 2, 1, 1, 1, 2, 0, 0, ...</td>\n",
       "      <td>[0.2, 0.06666667, 0.1, 0.06666667, 0.033333335...</td>\n",
       "      <td>361578</td>\n",
       "    </tr>\n",
       "    <tr>\n",
       "      <th>361579</th>\n",
       "      <td>[B08RQDVX71, B08RQR2NPB, B08H8TLK4F, B07PY86YP...</td>\n",
       "      <td>[276.66666, 164.0, 162.66667, 89.833336, 75.33...</td>\n",
       "      <td>[0.18181819, 0.10777656, 0.10690033, 0.0590361...</td>\n",
       "      <td>Pad</td>\n",
       "      <td>[64, 47, 47, 29, 21, 26, 29, 17, 17, 17, 12, 1...</td>\n",
       "      <td>[0.10977702, 0.080617495, 0.080617495, 0.04974...</td>\n",
       "      <td>[38.666668, 29.0, 24.666666, 20.833334, 11.333...</td>\n",
       "      <td>[0.16407356, 0.12305516, 0.10466761, 0.0884017...</td>\n",
       "      <td>[174, 88, 91, 40, 43, 28, 20, 16, 13, 15, 9, 9...</td>\n",
       "      <td>[0.24751067, 0.12517782, 0.12944524, 0.0568990...</td>\n",
       "      <td>361579</td>\n",
       "    </tr>\n",
       "    <tr>\n",
       "      <th>361580</th>\n",
       "      <td>[B07T42KRCB, B01AM32IF4, B08427PFR5, B016UZOCX...</td>\n",
       "      <td>[25.5, 21.333334, 20.333334, 19.5, 18.0, 11.83...</td>\n",
       "      <td>[0.07348703, 0.061479345, 0.0585975, 0.0561959...</td>\n",
       "      <td>Pad</td>\n",
       "      <td>[8, 9, 6, 6, 9, 4, 1, 4, 3, 2, 3, 3, 3, 2, 2, ...</td>\n",
       "      <td>[0.057971016, 0.06521739, 0.04347826, 0.043478...</td>\n",
       "      <td>[5.5, 4.3333335, 4.3333335, 4.5, 2.0, 2.833333...</td>\n",
       "      <td>[0.096491225, 0.07602339, 0.07602339, 0.078947...</td>\n",
       "      <td>[12, 8, 10, 9, 7, 5, 9, 4, 5, 6, 4, 3, 2, 2, 2...</td>\n",
       "      <td>[0.078947365, 0.05263158, 0.065789476, 0.05921...</td>\n",
       "      <td>361580</td>\n",
       "    </tr>\n",
       "  </tbody>\n",
       "</table>\n",
       "<p>361581 rows × 11 columns</p>\n",
       "</div>"
      ],
      "text/plain": [
       "                                               candidates  \\\n",
       "0       [B077XGDMD2, B06XGDZVZR, B06XG1LZ6Z, B06XGD9VL...   \n",
       "1       [B09LCPT9DQ, B09WM9W6WQ, B092D5HM5S, B09MRYK5C...   \n",
       "2       [B00L529BAC, B01EV58VX2, B07VYSSRL7, B003TJATC...   \n",
       "3       [1839941960, 1788009975, 024157563X, 024156343...   \n",
       "4       [B0B6PF619D, B09BJF6N8K, B0B6P77ZRN, B0B6P6DKN...   \n",
       "...                                                   ...   \n",
       "361576  [B08HH6L4PB, B08F5D8T22, B0050IG9DE, B01A955L8...   \n",
       "361577  [B09BBX1T4S, B09D76FT9D, B09B9V4PXC, B09BCM5NL...   \n",
       "361578  [B0BC38GHB4, B07KLCY8NF, B09SXQW8MS, B00MXZEMB...   \n",
       "361579  [B08RQDVX71, B08RQR2NPB, B08H8TLK4F, B07PY86YP...   \n",
       "361580  [B07T42KRCB, B01AM32IF4, B08427PFR5, B016UZOCX...   \n",
       "\n",
       "                                                   counts  \\\n",
       "0       [178.33333, 117.833336, 114.833336, 103.5, 53....   \n",
       "1       [1579.8334, 300.83334, 145.16667, 133.83333, 9...   \n",
       "2       [5.5, 4.8333335, 4.0, 3.0, 3.0, 3.0, 3.0, 3.0,...   \n",
       "3       [26.5, 11.0, 5.3333335, 5.0, 4.6666665, 3.5, 3...   \n",
       "4       [33.666668, 12.0, 10.0, 8.333333, 8.166667, 6....   \n",
       "...                                                   ...   \n",
       "361576  [8.0, 4.0, 3.5, 3.0, 2.5, 2.3333333, 2.0, 1.0,...   \n",
       "361577  [2889.5, 1050.8334, 933.0, 748.3333, 354.0, 34...   \n",
       "361578  [10.0, 7.5, 6.0, 5.3333335, 4.0, 3.5, 3.5, 3.0...   \n",
       "361579  [276.66666, 164.0, 162.66667, 89.833336, 75.33...   \n",
       "361580  [25.5, 21.333334, 20.333334, 19.5, 18.0, 11.83...   \n",
       "\n",
       "                                        normalized_counts state  \\\n",
       "0       [0.1224957, 0.08093875, 0.078878075, 0.0710933...   Pad   \n",
       "1       [0.29414138, 0.056010675, 0.027027866, 0.02491...  Full   \n",
       "2       [0.12267658, 0.10780669, 0.08921933, 0.0669145...   Pad   \n",
       "3       [0.24018127, 0.09969789, 0.04833837, 0.0453172...   Pad   \n",
       "4       [0.28291318, 0.10084034, 0.084033616, 0.070028...   Pad   \n",
       "...                                                   ...   ...   \n",
       "361576  [0.24742268, 0.12371134, 0.10824742, 0.0927835...   Pad   \n",
       "361577  [0.20720936, 0.07535646, 0.066906504, 0.053663...  Full   \n",
       "361578  [0.15503876, 0.11627907, 0.093023255, 0.082687...   Pad   \n",
       "361579  [0.18181819, 0.10777656, 0.10690033, 0.0590361...   Pad   \n",
       "361580  [0.07348703, 0.061479345, 0.0585975, 0.0561959...   Pad   \n",
       "\n",
       "                                                 counts_0  \\\n",
       "0       [66, 41, 41, 37, 19, 20, 15, 15, 13, 10, 8, 9,...   \n",
       "1       [497, 100, 44, 49, 29, 41, 25, 20, 28, 18, 19,...   \n",
       "2       [2, 2, 1, 1, 1, 1, 1, 1, 0, 1, 0, 0, 0, 0, 0, ...   \n",
       "3       [8, 3, 2, 2, 2, 2, 1, 1, 1, 1, 1, 1, 1, 1, 1, ...   \n",
       "4       [13, 4, 5, 4, 3, 3, 3, 4, 4, 2, 2, 0, 1, 1, 0,...   \n",
       "...                                                   ...   \n",
       "361576  [1, 1, 1, 1, 1, 1, 0, 1, 1, 0, 0, 0, 0, 0, 0, ...   \n",
       "361577  [742, 412, 300, 287, 147, 129, 107, 92, 83, 82...   \n",
       "361578  [2, 4, 2, 2, 2, 2, 1, 1, 1, 1, 1, 1, 0, 1, 1, ...   \n",
       "361579  [64, 47, 47, 29, 21, 26, 29, 17, 17, 17, 12, 1...   \n",
       "361580  [8, 9, 6, 6, 9, 4, 1, 4, 3, 2, 3, 3, 3, 2, 2, ...   \n",
       "\n",
       "                                      normalized_counts_0  \\\n",
       "0       [0.11340206, 0.07044674, 0.07044674, 0.0635738...   \n",
       "1       [0.22357175, 0.044984255, 0.019793073, 0.02204...   \n",
       "2       [0.18181819, 0.18181819, 0.09090909, 0.0909090...   \n",
       "3       [0.22857143, 0.08571429, 0.057142857, 0.057142...   \n",
       "4       [0.26530612, 0.08163265, 0.10204082, 0.0816326...   \n",
       "...                                                   ...   \n",
       "361576  [0.125, 0.125, 0.125, 0.125, 0.125, 0.125, 0.0...   \n",
       "361577  [0.12008416, 0.06667746, 0.048551545, 0.046447...   \n",
       "361578  [0.08, 0.16, 0.08, 0.08, 0.08, 0.08, 0.04, 0.0...   \n",
       "361579  [0.10977702, 0.080617495, 0.080617495, 0.04974...   \n",
       "361580  [0.057971016, 0.06521739, 0.04347826, 0.043478...   \n",
       "\n",
       "                                                 counts_1  \\\n",
       "0       [28.333334, 27.833334, 23.833334, 21.5, 10.5, ...   \n",
       "1       [431.83334, 42.833332, 19.166666, 36.833332, 1...   \n",
       "2       [1.5, 0.8333333, 1.0, 1.0, 1.0, 1.0, 1.0, 1.0,...   \n",
       "3       [7.5, 2.0, 1.3333334, 1.0, 0.6666667, 0.5, 0.5...   \n",
       "4       [7.6666665, 4.0, 1.0, 1.3333334, 1.1666666, 1....   \n",
       "...                                                   ...   \n",
       "361576  [1.0, 1.0, 0.5, 1.0, 0.5, 0.33333334, 0.0, 0.0...   \n",
       "361577  [524.5, 122.833336, 195.0, 189.33333, 74.0, 76...   \n",
       "361578  [2.0, 1.5, 1.0, 1.3333334, 1.0, 0.5, 0.5, 1.0,...   \n",
       "361579  [38.666668, 29.0, 24.666666, 20.833334, 11.333...   \n",
       "361580  [5.5, 4.3333335, 4.3333335, 4.5, 2.0, 2.833333...   \n",
       "\n",
       "                                      normalized_counts_1  \\\n",
       "0       [0.1147873, 0.11276165, 0.09655638, 0.08710331...   \n",
       "1       [0.45939717, 0.045567375, 0.020390071, 0.03918...   \n",
       "2       [0.16981132, 0.094339624, 0.11320755, 0.113207...   \n",
       "3       [0.38793105, 0.10344828, 0.06896552, 0.0517241...   \n",
       "4       [0.40350878, 0.21052632, 0.05263158, 0.0701754...   \n",
       "...                                                   ...   \n",
       "361576  [0.23076923, 0.23076923, 0.115384616, 0.230769...   \n",
       "361577  [0.25061718, 0.058692362, 0.09317512, 0.090467...   \n",
       "361578  [0.21052632, 0.15789473, 0.10526316, 0.1403508...   \n",
       "361579  [0.16407356, 0.12305516, 0.10466761, 0.0884017...   \n",
       "361580  [0.096491225, 0.07602339, 0.07602339, 0.078947...   \n",
       "\n",
       "                                                 counts_2  \\\n",
       "0       [84, 49, 50, 45, 24, 17, 12, 12, 11, 9, 11, 8,...   \n",
       "1       [651, 158, 82, 48, 51, 32, 32, 42, 25, 35, 32,...   \n",
       "2       [2, 2, 2, 1, 1, 1, 1, 1, 3, 1, 2, 1, 1, 1, 1, ...   \n",
       "3       [11, 6, 2, 2, 2, 1, 2, 1, 1, 2, 1, 1, 1, 1, 1,...   \n",
       "4       [13, 4, 4, 3, 4, 2, 2, 0, 0, 1, 1, 3, 1, 1, 2,...   \n",
       "...                                                   ...   \n",
       "361576  [6, 2, 2, 1, 1, 1, 2, 0, 0, 1, 1, 1, 1, 1, 0, ...   \n",
       "361577  [1623, 516, 438, 272, 133, 143, 97, 94, 77, 71...   \n",
       "361578  [6, 2, 3, 2, 1, 1, 2, 1, 2, 1, 1, 1, 2, 0, 0, ...   \n",
       "361579  [174, 88, 91, 40, 43, 28, 20, 16, 13, 15, 9, 9...   \n",
       "361580  [12, 8, 10, 9, 7, 5, 9, 4, 5, 6, 4, 3, 2, 2, 2...   \n",
       "\n",
       "                                      normalized_counts_2  sess_id  \n",
       "0       [0.13397129, 0.07814992, 0.079744816, 0.071770...        0  \n",
       "1       [0.29483697, 0.07155797, 0.03713768, 0.0217391...        1  \n",
       "2       [0.08, 0.08, 0.08, 0.04, 0.04, 0.04, 0.04, 0.0...        2  \n",
       "3       [0.19642857, 0.10714286, 0.035714287, 0.035714...        3  \n",
       "4       [0.25490198, 0.078431375, 0.078431375, 0.05882...        4  \n",
       "...                                                   ...      ...  \n",
       "361576  [0.3, 0.1, 0.1, 0.05, 0.05, 0.05, 0.1, 0.0, 0....   361576  \n",
       "361577  [0.286092, 0.090957165, 0.077207826, 0.0479464...   361577  \n",
       "361578  [0.2, 0.06666667, 0.1, 0.06666667, 0.033333335...   361578  \n",
       "361579  [0.24751067, 0.12517782, 0.12944524, 0.0568990...   361579  \n",
       "361580  [0.078947365, 0.05263158, 0.065789476, 0.05921...   361580  \n",
       "\n",
       "[361581 rows x 11 columns]"
      ]
     },
     "execution_count": 26,
     "metadata": {},
     "output_type": "execute_result"
    }
   ],
   "source": [
    "co_graph_valid_candidates = read_co_graph_valid_candidates()\n",
    "co_graph_valid_candidates"
   ]
  },
  {
   "cell_type": "code",
   "execution_count": 27,
   "metadata": {},
   "outputs": [
    {
     "name": "stderr",
     "output_type": "stream",
     "text": [
      "100%|██████████| 361581/361581 [00:54<00:00, 6652.55it/s]\n"
     ]
    }
   ],
   "source": [
    "flattened_co_graph_valid_candidates = flatten_candidates(co_graph_valid_candidates.drop(columns=['counts', 'state', 'counts_0', 'counts_1', 'counts_2']))"
   ]
  },
  {
   "cell_type": "code",
   "execution_count": 28,
   "metadata": {},
   "outputs": [],
   "source": [
    "col_rename = {'normalized_counts' : 'co_graph_normalized_counts', \n",
    "              'normalized_counts_0' : 'co_graph_normalized_counts_0',\n",
    "              'normalized_counts_1' : 'co_graph_normalized_counts_1', \n",
    "              'normalized_counts_2' : 'co_graph_normalized_counts_2', \n",
    "              'candidates' : 'product'}\n",
    "flattened_co_graph_valid_candidates.rename(columns=col_rename, inplace=True)"
   ]
  },
  {
   "cell_type": "code",
   "execution_count": 29,
   "metadata": {},
   "outputs": [],
   "source": [
    "merged_candidates_score_g = cudf.from_pandas(merged_candidates_score)\n",
    "flattened_co_graph_valid_candidates_g = cudf.from_pandas(flattened_co_graph_valid_candidates)"
   ]
  },
  {
   "cell_type": "code",
   "execution_count": 30,
   "metadata": {},
   "outputs": [],
   "source": [
    "merged_candidates_co_graph_g = merged_candidates_score_g.merge(flattened_co_graph_valid_candidates_g, \n",
    "    how='left', left_on=['sess_id', 'product'], right_on=['sess_id', 'product'])\n",
    "merged_candidates_co_graph_g = merged_candidates_co_graph_g.sort_values(by=['sess_id']).reset_index(drop=True)\n",
    "merged_candidates_co_graph_g['co_graph_normalized_counts'] = merged_candidates_co_graph_g['co_graph_normalized_counts'].fillna(0.0)\n",
    "merged_candidates_co_graph_g['co_graph_normalized_counts_0'] = merged_candidates_co_graph_g['co_graph_normalized_counts_0'].fillna(0.0)\n",
    "merged_candidates_co_graph_g['co_graph_normalized_counts_1'] = merged_candidates_co_graph_g['co_graph_normalized_counts_1'].fillna(0.0)\n",
    "merged_candidates_co_graph_g['co_graph_normalized_counts_2'] = merged_candidates_co_graph_g['co_graph_normalized_counts_2'].fillna(0.0)\n",
    "cast_dtype(merged_candidates_co_graph_g)"
   ]
  },
  {
   "cell_type": "code",
   "execution_count": 31,
   "metadata": {},
   "outputs": [],
   "source": [
    "merged_candidates_co_graph = merged_candidates_co_graph_g.to_pandas()\n",
    "merged_candidates_co_graph.to_parquet('./candidates/merged_candidates_feature_2.parquet', engine='pyarrow')"
   ]
  },
  {
   "cell_type": "code",
   "execution_count": 32,
   "metadata": {},
   "outputs": [],
   "source": [
    "# release GPU\n",
    "del merged_candidates_score_g\n",
    "del merged_candidates_co_graph_g\n",
    "del flattened_co_graph_valid_candidates_g"
   ]
  },
  {
   "attachments": {},
   "cell_type": "markdown",
   "metadata": {},
   "source": [
    "# Merge test score features"
   ]
  },
  {
   "cell_type": "code",
   "execution_count": 7,
   "metadata": {},
   "outputs": [],
   "source": [
    "merged_candidates_test_path = '/root/autodl-tmp/xiaolong/WorkSpace/Amazon-KDDCUP-23/XGBoost/candidates/merged_candidates_test.parquet'\n",
    "merged_candidates_feature_test_path = '/root/autodl-tmp/xiaolong/WorkSpace/Amazon-KDDCUP-23/XGBoost/candidates/merged_candidates_feature_test.parquet'\n",
    "test_sessions_path = '/root/autodl-tmp/xiaolong/WorkSpace/Amazon-KDDCUP-23/raw_data/sessions_test_task1.csv'\n",
    "sasrec_test_candidates_path = '/root/autodl-tmp/xiaolong/WorkSpace/Amazon-KDDCUP-23/candidates/SASRec_Next/seperate_locale/SASRec_Next_04_27_20_07_test_100_with_score.parquet'\n",
    "roberta_test_candidates_path = '/root/autodl-tmp/xiaolong/WorkSpace/Amazon-KDDCUP-23/candidates/roberta/roberta_test_100_with_score.parquet'\n",
    "co_graph_test_candidates_path = '/root/autodl-tmp/xiaolong/WorkSpace/Amazon-KDDCUP-23/candidates/co_graph/co_graph_test_100_with_normalized_score.parquet'"
   ]
  },
  {
   "cell_type": "code",
   "execution_count": 8,
   "metadata": {},
   "outputs": [],
   "source": [
    "@lru_cache(maxsize=1)\n",
    "def read_merged_candidates_test():\n",
    "    return pd.read_parquet(merged_candidates_test_path, engine='pyarrow')\n",
    "\n",
    "@lru_cache(maxsize=1)\n",
    "def read_merged_candidates_feature_test():\n",
    "    return pd.read_parquet(merged_candidates_feature_test_path, engine='pyarrow')\n",
    "\n",
    "@lru_cache(maxsize=1)\n",
    "def read_test_sessions():\n",
    "    return pd.read_csv(test_sessions_path)\n",
    "\n",
    "@lru_cache(maxsize=1)\n",
    "def read_sasrec_test_candidates():\n",
    "    return pd.read_parquet(sasrec_test_candidates_path, engine='pyarrow')\n",
    "\n",
    "lru_cache(maxsize=1)\n",
    "def read_roberta_test_candidates():\n",
    "    return pd.read_parquet(roberta_test_candidates_path, engine='pyarrow')\n",
    "\n",
    "lru_cache(maxsize=1)\n",
    "def read_co_graph_test_candidates():\n",
    "    return pd.read_parquet(co_graph_test_candidates_path, engine='pyarrow')"
   ]
  },
  {
   "attachments": {},
   "cell_type": "markdown",
   "metadata": {},
   "source": [
    "## Merge SASRec score"
   ]
  },
  {
   "cell_type": "code",
   "execution_count": null,
   "metadata": {},
   "outputs": [],
   "source": [
    "merged_candidates_test = read_merged_candidates_test()\n",
    "test_sessions = read_test_sessions()"
   ]
  },
  {
   "cell_type": "code",
   "execution_count": 21,
   "metadata": {},
   "outputs": [],
   "source": [
    "sasrec_test_candidates = read_sasrec_test_candidates()\n",
    "sasrec_test_candidates['sess_id'] = np.arange(sasrec_test_candidates.shape[0], dtype=np.int32) # add sess_id"
   ]
  },
  {
   "cell_type": "code",
   "execution_count": 14,
   "metadata": {},
   "outputs": [
    {
     "name": "stderr",
     "output_type": "stream",
     "text": [
      "100%|██████████| 316971/316971 [00:45<00:00, 6899.08it/s] \n"
     ]
    }
   ],
   "source": [
    "normalize_score(sasrec_test_candidates)"
   ]
  },
  {
   "cell_type": "code",
   "execution_count": 23,
   "metadata": {},
   "outputs": [
    {
     "name": "stderr",
     "output_type": "stream",
     "text": [
      "100%|██████████| 316971/316971 [00:35<00:00, 8997.91it/s]\n"
     ]
    }
   ],
   "source": [
    "flattened_sasrec_test_candidates = flatten_candidates(sasrec_test_candidates.drop(columns=['scores']))"
   ]
  },
  {
   "cell_type": "code",
   "execution_count": 26,
   "metadata": {},
   "outputs": [],
   "source": [
    "flattened_sasrec_test_candidates.rename(columns={'normalized_scores' : 'sasrec_normalized_scores', 'candidates' : 'product'}, inplace=True)\n",
    "flattened_sasrec_test_candidates['sess_id'] = flattened_sasrec_test_candidates['sess_id'].astype('int32')"
   ]
  },
  {
   "cell_type": "code",
   "execution_count": 30,
   "metadata": {},
   "outputs": [],
   "source": [
    "merged_candidates_test_g = cudf.from_pandas(merged_candidates_test)\n",
    "flattened_sasrec_test_candidates_g = cudf.from_pandas(flattened_sasrec_test_candidates)"
   ]
  },
  {
   "cell_type": "code",
   "execution_count": 31,
   "metadata": {},
   "outputs": [],
   "source": [
    "merged_candidates_sasrec_g = merged_candidates_test_g.merge(flattened_sasrec_test_candidates_g[['sess_id', 'product', 'sasrec_normalized_scores']], how='left', left_on=['sess_id', 'product'], right_on=['sess_id', 'product'])\n",
    "merged_candidates_sasrec_g = merged_candidates_sasrec_g.sort_values(by=['sess_id']).reset_index(drop=True)\n",
    "merged_candidates_sasrec_g['sasrec_normalized_scores'] = merged_candidates_sasrec_g['sasrec_normalized_scores'].fillna(0.0)"
   ]
  },
  {
   "cell_type": "code",
   "execution_count": 33,
   "metadata": {},
   "outputs": [],
   "source": [
    "cast_dtype(merged_candidates_sasrec_g)"
   ]
  },
  {
   "cell_type": "code",
   "execution_count": 34,
   "metadata": {},
   "outputs": [],
   "source": [
    "merged_candidates_sasrec = merged_candidates_sasrec_g.to_pandas()\n",
    "merged_candidates_sasrec.to_parquet('./candidates/merged_candidates_feature_test.parquet', engine='pyarrow')"
   ]
  },
  {
   "cell_type": "code",
   "execution_count": 36,
   "metadata": {},
   "outputs": [],
   "source": [
    "del merged_candidates_sasrec_g\n",
    "del merged_candidates_test_g\n",
    "del flattened_sasrec_test_candidates_g"
   ]
  },
  {
   "attachments": {},
   "cell_type": "markdown",
   "metadata": {},
   "source": [
    "## Merge RoBerta score"
   ]
  },
  {
   "cell_type": "code",
   "execution_count": 17,
   "metadata": {},
   "outputs": [],
   "source": [
    "merged_candidates_test = read_merged_candidates_feature_test()\n",
    "test_sessions = read_test_sessions()"
   ]
  },
  {
   "cell_type": "code",
   "execution_count": 10,
   "metadata": {},
   "outputs": [],
   "source": [
    "roberta_test_candidates = read_roberta_test_candidates()\n",
    "roberta_test_candidates['sess_id'] = np.arange(roberta_test_candidates.shape[0], dtype=np.int32) # add sess_id"
   ]
  },
  {
   "cell_type": "code",
   "execution_count": 12,
   "metadata": {},
   "outputs": [
    {
     "name": "stderr",
     "output_type": "stream",
     "text": [
      "100%|██████████| 316971/316971 [00:59<00:00, 5370.37it/s]\n"
     ]
    }
   ],
   "source": [
    "normalize_score(roberta_test_candidates)"
   ]
  },
  {
   "cell_type": "code",
   "execution_count": 19,
   "metadata": {},
   "outputs": [
    {
     "name": "stderr",
     "output_type": "stream",
     "text": [
      "100%|██████████| 316971/316971 [00:32<00:00, 9804.01it/s] \n"
     ]
    }
   ],
   "source": [
    "flattened_roberta_test_candidates = flatten_candidates(roberta_test_candidates.drop(columns=['scores']))\n",
    "flattened_roberta_test_candidates.rename(columns={'normalized_scores' : 'roberta_normalized_scores', 'candidates' : 'product'}, inplace=True)\n",
    "flattened_roberta_test_candidates['sess_id'] = flattened_roberta_test_candidates['sess_id'].astype('int32')"
   ]
  },
  {
   "cell_type": "code",
   "execution_count": 21,
   "metadata": {},
   "outputs": [],
   "source": [
    "merged_candidates_test_g = cudf.from_pandas(merged_candidates_test)\n",
    "flattened_roberta_test_candidates_g = cudf.from_pandas(flattened_roberta_test_candidates)"
   ]
  },
  {
   "cell_type": "code",
   "execution_count": 22,
   "metadata": {},
   "outputs": [],
   "source": [
    "merged_candidates_roberta_g = merged_candidates_test_g.merge(flattened_roberta_test_candidates_g[['sess_id', 'product', 'roberta_normalized_scores']], how='left', left_on=['sess_id', 'product'], right_on=['sess_id', 'product'])\n",
    "merged_candidates_roberta_g = merged_candidates_roberta_g.sort_values(by=['sess_id']).reset_index(drop=True)\n",
    "merged_candidates_roberta_g['roberta_normalized_scores'] = merged_candidates_roberta_g['roberta_normalized_scores'].fillna(0.0)\n",
    "cast_dtype(merged_candidates_roberta_g)"
   ]
  },
  {
   "cell_type": "code",
   "execution_count": 24,
   "metadata": {},
   "outputs": [],
   "source": [
    "merged_candidates_roberta = merged_candidates_roberta_g.to_pandas()\n",
    "merged_candidates_roberta.to_parquet('./candidates/merged_candidates_feature_test.parquet', engine='pyarrow')"
   ]
  },
  {
   "cell_type": "code",
   "execution_count": 25,
   "metadata": {},
   "outputs": [],
   "source": [
    "del merged_candidates_roberta_g\n",
    "del merged_candidates_test_g\n",
    "del flattened_roberta_test_candidates_g"
   ]
  },
  {
   "attachments": {},
   "cell_type": "markdown",
   "metadata": {},
   "source": [
    "## Merge co-graph scores"
   ]
  },
  {
   "cell_type": "code",
   "execution_count": 9,
   "metadata": {},
   "outputs": [],
   "source": [
    "merged_candidates_test = read_merged_candidates_feature_test()\n",
    "test_sessions = read_test_sessions()\n",
    "co_graph_test_candidates = read_co_graph_test_candidates()"
   ]
  },
  {
   "cell_type": "code",
   "execution_count": 11,
   "metadata": {},
   "outputs": [
    {
     "name": "stderr",
     "output_type": "stream",
     "text": [
      "100%|██████████| 316971/316971 [00:47<00:00, 6639.83it/s]\n"
     ]
    }
   ],
   "source": [
    "flattened_co_graph_test_candidates = flatten_candidates(co_graph_test_candidates.drop(columns=['counts', 'state', 'counts_0', 'counts_1', 'counts_2']))\n",
    "col_rename = {'normalized_counts' : 'co_graph_normalized_counts', \n",
    "              'normalized_counts_0' : 'co_graph_normalized_counts_0',\n",
    "              'normalized_counts_1' : 'co_graph_normalized_counts_1', \n",
    "              'normalized_counts_2' : 'co_graph_normalized_counts_2', \n",
    "              'candidates' : 'product'}\n",
    "flattened_co_graph_test_candidates.rename(columns=col_rename, inplace=True)"
   ]
  },
  {
   "cell_type": "code",
   "execution_count": 14,
   "metadata": {},
   "outputs": [],
   "source": [
    "merged_candidates_test_g = cudf.from_pandas(merged_candidates_test)\n",
    "flattened_co_graph_test_candidates_g = cudf.from_pandas(flattened_co_graph_test_candidates)"
   ]
  },
  {
   "cell_type": "code",
   "execution_count": 15,
   "metadata": {},
   "outputs": [],
   "source": [
    "merged_candidates_co_graph_g = merged_candidates_test_g.merge(flattened_co_graph_test_candidates_g, \n",
    "    how='left', left_on=['sess_id', 'product'], right_on=['sess_id', 'product'])\n",
    "merged_candidates_co_graph_g = merged_candidates_co_graph_g.sort_values(by=['sess_id']).reset_index(drop=True)\n",
    "merged_candidates_co_graph_g['co_graph_normalized_counts'] = merged_candidates_co_graph_g['co_graph_normalized_counts'].fillna(0.0)\n",
    "merged_candidates_co_graph_g['co_graph_normalized_counts_0'] = merged_candidates_co_graph_g['co_graph_normalized_counts_0'].fillna(0.0)\n",
    "merged_candidates_co_graph_g['co_graph_normalized_counts_1'] = merged_candidates_co_graph_g['co_graph_normalized_counts_1'].fillna(0.0)\n",
    "merged_candidates_co_graph_g['co_graph_normalized_counts_2'] = merged_candidates_co_graph_g['co_graph_normalized_counts_2'].fillna(0.0)\n",
    "cast_dtype(merged_candidates_co_graph_g)"
   ]
  },
  {
   "cell_type": "code",
   "execution_count": 17,
   "metadata": {},
   "outputs": [],
   "source": [
    "merged_candidates_co_graph = merged_candidates_co_graph_g.to_pandas()\n",
    "merged_candidates_co_graph.to_parquet('./candidates/merged_candidates_feature_test.parquet', engine='pyarrow')"
   ]
  },
  {
   "cell_type": "code",
   "execution_count": 18,
   "metadata": {},
   "outputs": [],
   "source": [
    "# release GPU\n",
    "del merged_candidates_test_g\n",
    "del merged_candidates_co_graph_g\n",
    "del flattened_co_graph_test_candidates_g"
   ]
  }
 ],
 "metadata": {
  "kernelspec": {
   "display_name": "torch12",
   "language": "python",
   "name": "python3"
  },
  "language_info": {
   "codemirror_mode": {
    "name": "ipython",
    "version": 3
   },
   "file_extension": ".py",
   "mimetype": "text/x-python",
   "name": "python",
   "nbconvert_exporter": "python",
   "pygments_lexer": "ipython3",
   "version": "3.9.16"
  },
  "orig_nbformat": 4
 },
 "nbformat": 4,
 "nbformat_minor": 2
}
