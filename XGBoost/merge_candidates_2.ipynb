{
 "cells": [
  {
   "cell_type": "code",
   "execution_count": 49,
   "metadata": {},
   "outputs": [],
   "source": [
    "import os\n",
    "import random\n",
    "import numpy as np\n",
    "import pandas as pd\n",
    "import cudf, itertools\n",
    "import scipy.sparse as ssp\n",
    "from functools import lru_cache, partial\n",
    "from tqdm import tqdm, trange\n",
    "from collections import Counter, defaultdict\n",
    "import datasets\n",
    "from datasets import Dataset as TFDataset"
   ]
  },
  {
   "cell_type": "code",
   "execution_count": 50,
   "metadata": {},
   "outputs": [],
   "source": [
    "def cast_dtype(df : pd.DataFrame):\n",
    "    for k in df.columns:\n",
    "        dt = type(df[k].iloc[0])\n",
    "        if 'float' in str(dt):\n",
    "            df[k] = df[k].astype('float32')\n",
    "        elif 'int' in str(dt):\n",
    "            df[k] = df[k].astype('int32')\n",
    "        elif dt == list:\n",
    "            dt_ = type(df.iloc[0][k][0])\n",
    "            if 'float' in str(dt_):\n",
    "                df[k] = df[k].apply(lambda x : np.array(x, dtype=np.float32))\n",
    "            elif 'int' in str(dt_):\n",
    "                df[k] = df[k].apply(lambda x : np.array(x, dtype=np.int32))"
   ]
  },
  {
   "cell_type": "code",
   "execution_count": 51,
   "metadata": {},
   "outputs": [],
   "source": [
    "def merge_candidates(session_df, candidates_df_list, test=False):\n",
    "    sess_id_list = []\n",
    "    sess_locale_list = []\n",
    "    product_list = []\n",
    "    target_list = []\n",
    "    for i in tqdm(range(session_df.shape[0])):\n",
    "        sess_id = i\n",
    "        sess_locale = session_df.iloc[i]['locale']\n",
    "        if not test:\n",
    "            sess_next_item = session_df.iloc[i]['next_item']\n",
    "\n",
    "        candidates_set_list = [set(x.iloc[i]['candidates']) for x in candidates_df_list]\n",
    "        candidates_set = candidates_set_list[0]\n",
    "        for x in candidates_set_list[1:]:\n",
    "            candidates_set = candidates_set.union(x)\n",
    "        cur_product_list = list(candidates_set)\n",
    "        cur_sess_id_list = [sess_id for _ in range(len(cur_product_list))]\n",
    "        cur_sess_locale_list = [sess_locale for _ in range(len(cur_product_list))]\n",
    "        if not test:\n",
    "            cur_target_list = (np.array(cur_product_list) == sess_next_item).astype(np.float32).tolist()\n",
    "\n",
    "        for j in range(len(cur_product_list)):\n",
    "            sess_id_list.append(cur_sess_id_list[j])\n",
    "            sess_locale_list.append(cur_sess_locale_list[j])\n",
    "            product_list.append(cur_product_list[j])\n",
    "            if not test:\n",
    "                target_list.append(cur_target_list[j])\n",
    "\n",
    "    df_dict = {'sess_id' : sess_id_list, 'sess_locale' : sess_locale_list, 'product' : product_list}\n",
    "    if not test: \n",
    "        df_dict['target'] = target_list\n",
    "    return pd.DataFrame(df_dict)"
   ]
  },
  {
   "cell_type": "code",
   "execution_count": 52,
   "metadata": {},
   "outputs": [],
   "source": [
    "def get_sessions(df: pd.DataFrame, test=False, list_item=False) -> list:\n",
    "    \n",
    "    all_item = []\n",
    "    if 'next_item' in df and not test:\n",
    "        if list_item:\n",
    "            for i in trange(len(df)):\n",
    "                all_item.append(np.concatenate([np.array(df.loc[i, 'prev_items']), np.array(df.loc[i, 'next_item'])], axis=0))\n",
    "        else:\n",
    "            for i in trange(len(df)):\n",
    "                all_item.append(eval((df.loc[i, 'prev_items'][:-1]+f\" '{df.loc[i, 'next_item']}']\").replace(\" \", \",\")))\n",
    "    else:\n",
    "        if list_item:\n",
    "            all_item = df['prev_items']\n",
    "        else:\n",
    "            for i in trange(len(df)):\n",
    "                all_item.append(eval((df.loc[i, 'prev_items']).replace(\" \", \",\")))\n",
    "    return all_item"
   ]
  },
  {
   "cell_type": "code",
   "execution_count": 53,
   "metadata": {},
   "outputs": [],
   "source": [
    "def get_co_occurence_dict(sessions: list, bidirection: bool=True, weighted: bool=False, max_dis=None) -> dict:\n",
    "    res = {}\n",
    "    for sess in tqdm(sessions):\n",
    "        for i, id in enumerate(sess):\n",
    "            if id not in res:\n",
    "                res[id] = Counter()\n",
    "            \n",
    "            if max_dis == None:\n",
    "                e = len(sess)\n",
    "            else:\n",
    "                e = min(i + max_dis + 1, len(sess))\n",
    "\n",
    "            for j in range(i+1, e):\n",
    "                if not weighted:\n",
    "                    res[id][sess[j]] += 1\n",
    "                else:\n",
    "                    res[id][sess[j]] += 1 / (j-i)\n",
    "                if bidirection:\n",
    "                    if sess[j] not in res:\n",
    "                        res[sess[j]] = Counter()\n",
    "                    if not weighted:\n",
    "                        res[sess[j]][id] += 1\n",
    "                    else:\n",
    "                        res[sess[j]][id] += 1 / (j-i)\n",
    "    return res"
   ]
  },
  {
   "cell_type": "code",
   "execution_count": 54,
   "metadata": {},
   "outputs": [],
   "source": [
    "def merge_candidates(session_df, candidates_df_list, test=False):\n",
    "    sess_id_list = []\n",
    "    sess_locale_list = []\n",
    "    product_list = []\n",
    "    target_list = []\n",
    "    for i in tqdm(range(session_df.shape[0])):\n",
    "        sess_id = i\n",
    "        sess_locale = session_df.iloc[i]['locale']\n",
    "        if not test:\n",
    "            sess_next_item = session_df.iloc[i]['next_item']\n",
    "\n",
    "        candidates_set_list = [set(x.iloc[i]['candidates']) for x in candidates_df_list]\n",
    "        candidates_set = candidates_set_list[0]\n",
    "        for x in candidates_set_list[1:]:\n",
    "            candidates_set = candidates_set.union(x)\n",
    "        cur_product_list = list(candidates_set)\n",
    "        cur_sess_id_list = [sess_id for _ in range(len(cur_product_list))]\n",
    "        cur_sess_locale_list = [sess_locale for _ in range(len(cur_product_list))]\n",
    "        if not test:\n",
    "            cur_target_list = (np.array(cur_product_list) == sess_next_item).astype(np.float32).tolist()\n",
    "\n",
    "        for j in range(len(cur_product_list)):\n",
    "            sess_id_list.append(cur_sess_id_list[j])\n",
    "            sess_locale_list.append(cur_sess_locale_list[j])\n",
    "            product_list.append(cur_product_list[j])\n",
    "            if not test:\n",
    "                target_list.append(cur_target_list[j])\n",
    "\n",
    "    df_dict = {'sess_id' : sess_id_list, 'sess_locale' : sess_locale_list, 'product' : product_list}\n",
    "    if not test: \n",
    "        df_dict['target'] = target_list\n",
    "    return pd.DataFrame(df_dict)"
   ]
  },
  {
   "attachments": {},
   "cell_type": "markdown",
   "metadata": {},
   "source": [
    "# Merge Validation Candidates"
   ]
  },
  {
   "cell_type": "code",
   "execution_count": 55,
   "metadata": {},
   "outputs": [],
   "source": [
    "train_sessions_path = '/root/autodl-tmp/xiaolong/WorkSpace/Amazon-KDDCUP-23/data_for_recstudio/task1_data/task13_4_task1_train_sessions.csv'\n",
    "valid_sessions_path = '/root/autodl-tmp/xiaolong/WorkSpace/Amazon-KDDCUP-23/data_for_recstudio/task1_data/task13_4_task1_valid_sessions.csv'\n",
    "sasrec_valid_candidates_path = '/root/autodl-tmp/xiaolong/WorkSpace/Amazon-KDDCUP-23/candidates/SASRec_Next/seperate_locale/SASRec_Next_04_26_15_26_valid_100_with_score.parquet'\n",
    "roberta_valid_candidates_path = '/root/autodl-tmp/xiaolong/WorkSpace/Amazon-KDDCUP-23/candidates/roberta/roberta_valid_100_with_score.parquet'\n",
    "product_data_path = '/root/autodl-tmp/xiaolong/WorkSpace/Amazon-KDDCUP-23/data_for_recstudio/products_train.csv'"
   ]
  },
  {
   "cell_type": "code",
   "execution_count": 56,
   "metadata": {},
   "outputs": [],
   "source": [
    "@lru_cache(maxsize=1)\n",
    "def read_train_sessions():\n",
    "    return pd.read_csv(train_sessions_path)\n",
    "\n",
    "@lru_cache(maxsize=1)\n",
    "def read_valid_sessions():\n",
    "    return pd.read_csv(valid_sessions_path)\n",
    "\n",
    "@lru_cache(maxsize=1)\n",
    "def read_sasrec_valid_candidates():\n",
    "    return pd.read_parquet(sasrec_valid_candidates_path, engine='pyarrow')\n",
    "\n",
    "lru_cache(maxsize=1)\n",
    "def read_roberta_valid_candidates():\n",
    "    return pd.read_parquet(roberta_valid_candidates_path, engine='pyarrow')\n",
    "\n",
    "@lru_cache(maxsize=1)\n",
    "def read_product_data():\n",
    "    return pd.read_csv(product_data_path)"
   ]
  },
  {
   "cell_type": "code",
   "execution_count": 57,
   "metadata": {},
   "outputs": [],
   "source": [
    "train_sessions = read_train_sessions()\n",
    "valid_sessions = read_valid_sessions()\n",
    "sasrec_valid_candidates = read_sasrec_valid_candidates()\n",
    "roberta_valid_candidates = read_roberta_valid_candidates()\n",
    "product_data = read_product_data()"
   ]
  },
  {
   "cell_type": "code",
   "execution_count": 58,
   "metadata": {},
   "outputs": [
    {
     "data": {
      "text/html": [
       "<div>\n",
       "<style scoped>\n",
       "    .dataframe tbody tr th:only-of-type {\n",
       "        vertical-align: middle;\n",
       "    }\n",
       "\n",
       "    .dataframe tbody tr th {\n",
       "        vertical-align: top;\n",
       "    }\n",
       "\n",
       "    .dataframe thead th {\n",
       "        text-align: right;\n",
       "    }\n",
       "</style>\n",
       "<table border=\"1\" class=\"dataframe\">\n",
       "  <thead>\n",
       "    <tr style=\"text-align: right;\">\n",
       "      <th></th>\n",
       "      <th>locale</th>\n",
       "      <th>candidates</th>\n",
       "      <th>sess_id</th>\n",
       "      <th>scores</th>\n",
       "    </tr>\n",
       "  </thead>\n",
       "  <tbody>\n",
       "    <tr>\n",
       "      <th>0</th>\n",
       "      <td>UK</td>\n",
       "      <td>[B06XGDZVZR, B06XG1LZ6Z, B06XGD9VLV, B01MYUDYP...</td>\n",
       "      <td>0</td>\n",
       "      <td>[18.85309600830078, 18.762922286987305, 17.422...</td>\n",
       "    </tr>\n",
       "    <tr>\n",
       "      <th>1</th>\n",
       "      <td>JP</td>\n",
       "      <td>[B09LCPT9DQ, B09MRYK5CV, B092D5HM5S, B0797D6F3...</td>\n",
       "      <td>1</td>\n",
       "      <td>[17.74812889099121, 14.109373092651367, 12.546...</td>\n",
       "    </tr>\n",
       "    <tr>\n",
       "      <th>2</th>\n",
       "      <td>UK</td>\n",
       "      <td>[B00L529BAC, B0B1VNZW6H, B09XBS6WCX, B07CFSC84...</td>\n",
       "      <td>2</td>\n",
       "      <td>[16.962995529174805, 16.4238338470459, 16.2612...</td>\n",
       "    </tr>\n",
       "    <tr>\n",
       "      <th>3</th>\n",
       "      <td>UK</td>\n",
       "      <td>[024157563X, 1406392979, 0241457920, 024156343...</td>\n",
       "      <td>3</td>\n",
       "      <td>[14.681435585021973, 14.633809089660645, 14.45...</td>\n",
       "    </tr>\n",
       "    <tr>\n",
       "      <th>4</th>\n",
       "      <td>JP</td>\n",
       "      <td>[B0B6PF619D, B09BJF6N8K, B0B6P77ZRN, B0B6P2PCM...</td>\n",
       "      <td>4</td>\n",
       "      <td>[21.915809631347656, 20.597021102905273, 19.71...</td>\n",
       "    </tr>\n",
       "    <tr>\n",
       "      <th>...</th>\n",
       "      <td>...</td>\n",
       "      <td>...</td>\n",
       "      <td>...</td>\n",
       "      <td>...</td>\n",
       "    </tr>\n",
       "    <tr>\n",
       "      <th>361576</th>\n",
       "      <td>UK</td>\n",
       "      <td>[B08F5D8T22, B0050IG9DE, B00465F49W, B01A955L8...</td>\n",
       "      <td>361576</td>\n",
       "      <td>[23.4932804107666, 20.638296127319336, 19.6963...</td>\n",
       "    </tr>\n",
       "    <tr>\n",
       "      <th>361577</th>\n",
       "      <td>JP</td>\n",
       "      <td>[B09BCM5NL1, B09B9V4PXC, B09XH1YGLL, B09XGRXXG...</td>\n",
       "      <td>361577</td>\n",
       "      <td>[13.340217590332031, 12.540390014648438, 12.30...</td>\n",
       "    </tr>\n",
       "    <tr>\n",
       "      <th>361578</th>\n",
       "      <td>DE</td>\n",
       "      <td>[B0BC38GHB4, B00MXZEMBI, B078X1F2JD, B07KLCY8N...</td>\n",
       "      <td>361578</td>\n",
       "      <td>[22.47096824645996, 19.17393684387207, 17.3051...</td>\n",
       "    </tr>\n",
       "    <tr>\n",
       "      <th>361579</th>\n",
       "      <td>DE</td>\n",
       "      <td>[B08RQR2NPB, B08RQDVX71, B07PY86YPJ, B08H8SYLM...</td>\n",
       "      <td>361579</td>\n",
       "      <td>[19.952720642089844, 19.861900329589844, 19.27...</td>\n",
       "    </tr>\n",
       "    <tr>\n",
       "      <th>361580</th>\n",
       "      <td>DE</td>\n",
       "      <td>[B00J8GJ7V0, B07YDMKD89, B00GN3HD9E, B074V59ST...</td>\n",
       "      <td>361580</td>\n",
       "      <td>[19.675710678100586, 19.301164627075195, 17.94...</td>\n",
       "    </tr>\n",
       "  </tbody>\n",
       "</table>\n",
       "<p>361581 rows × 4 columns</p>\n",
       "</div>"
      ],
      "text/plain": [
       "       locale                                         candidates sess_id  \\\n",
       "0          UK  [B06XGDZVZR, B06XG1LZ6Z, B06XGD9VLV, B01MYUDYP...       0   \n",
       "1          JP  [B09LCPT9DQ, B09MRYK5CV, B092D5HM5S, B0797D6F3...       1   \n",
       "2          UK  [B00L529BAC, B0B1VNZW6H, B09XBS6WCX, B07CFSC84...       2   \n",
       "3          UK  [024157563X, 1406392979, 0241457920, 024156343...       3   \n",
       "4          JP  [B0B6PF619D, B09BJF6N8K, B0B6P77ZRN, B0B6P2PCM...       4   \n",
       "...       ...                                                ...     ...   \n",
       "361576     UK  [B08F5D8T22, B0050IG9DE, B00465F49W, B01A955L8...  361576   \n",
       "361577     JP  [B09BCM5NL1, B09B9V4PXC, B09XH1YGLL, B09XGRXXG...  361577   \n",
       "361578     DE  [B0BC38GHB4, B00MXZEMBI, B078X1F2JD, B07KLCY8N...  361578   \n",
       "361579     DE  [B08RQR2NPB, B08RQDVX71, B07PY86YPJ, B08H8SYLM...  361579   \n",
       "361580     DE  [B00J8GJ7V0, B07YDMKD89, B00GN3HD9E, B074V59ST...  361580   \n",
       "\n",
       "                                                   scores  \n",
       "0       [18.85309600830078, 18.762922286987305, 17.422...  \n",
       "1       [17.74812889099121, 14.109373092651367, 12.546...  \n",
       "2       [16.962995529174805, 16.4238338470459, 16.2612...  \n",
       "3       [14.681435585021973, 14.633809089660645, 14.45...  \n",
       "4       [21.915809631347656, 20.597021102905273, 19.71...  \n",
       "...                                                   ...  \n",
       "361576  [23.4932804107666, 20.638296127319336, 19.6963...  \n",
       "361577  [13.340217590332031, 12.540390014648438, 12.30...  \n",
       "361578  [22.47096824645996, 19.17393684387207, 17.3051...  \n",
       "361579  [19.952720642089844, 19.861900329589844, 19.27...  \n",
       "361580  [19.675710678100586, 19.301164627075195, 17.94...  \n",
       "\n",
       "[361581 rows x 4 columns]"
      ]
     },
     "execution_count": 58,
     "metadata": {},
     "output_type": "execute_result"
    }
   ],
   "source": [
    "sasrec_valid_candidates"
   ]
  },
  {
   "cell_type": "code",
   "execution_count": 59,
   "metadata": {},
   "outputs": [
    {
     "data": {
      "text/html": [
       "<div>\n",
       "<style scoped>\n",
       "    .dataframe tbody tr th:only-of-type {\n",
       "        vertical-align: middle;\n",
       "    }\n",
       "\n",
       "    .dataframe tbody tr th {\n",
       "        vertical-align: top;\n",
       "    }\n",
       "\n",
       "    .dataframe thead th {\n",
       "        text-align: right;\n",
       "    }\n",
       "</style>\n",
       "<table border=\"1\" class=\"dataframe\">\n",
       "  <thead>\n",
       "    <tr style=\"text-align: right;\">\n",
       "      <th></th>\n",
       "      <th>candidates</th>\n",
       "      <th>scores</th>\n",
       "      <th>sess_id</th>\n",
       "    </tr>\n",
       "  </thead>\n",
       "  <tbody>\n",
       "    <tr>\n",
       "      <th>0</th>\n",
       "      <td>[B096ZT4DK4, B09XCGNN6F, B09XCHDLYR, B06XGD9VL...</td>\n",
       "      <td>[268.6368103027344, 268.5672607421875, 268.567...</td>\n",
       "      <td>0</td>\n",
       "    </tr>\n",
       "    <tr>\n",
       "      <th>1</th>\n",
       "      <td>[B08ZHJKF28, B09LCPT9DQ, B09MRYK5CV, B09G9YRX1...</td>\n",
       "      <td>[269.99102783203125, 269.4064636230469, 269.30...</td>\n",
       "      <td>1</td>\n",
       "    </tr>\n",
       "    <tr>\n",
       "      <th>2</th>\n",
       "      <td>[B06ZYHMRST, B01017JLP6, B007CW985C, B0017RTPK...</td>\n",
       "      <td>[264.7541198730469, 264.58624267578125, 264.49...</td>\n",
       "      <td>2</td>\n",
       "    </tr>\n",
       "    <tr>\n",
       "      <th>3</th>\n",
       "      <td>[B01M5EBAO4, B07TYFS1K7, B08BX71RLT, B0BGY899Q...</td>\n",
       "      <td>[267.71771240234375, 266.8636779785156, 266.69...</td>\n",
       "      <td>3</td>\n",
       "    </tr>\n",
       "    <tr>\n",
       "      <th>4</th>\n",
       "      <td>[B0B6NXJMJJ, B0B6PF619D, B0B6P77ZRN, B0B6NRKVZ...</td>\n",
       "      <td>[269.4986572265625, 269.49267578125, 269.47979...</td>\n",
       "      <td>4</td>\n",
       "    </tr>\n",
       "    <tr>\n",
       "      <th>...</th>\n",
       "      <td>...</td>\n",
       "      <td>...</td>\n",
       "      <td>...</td>\n",
       "    </tr>\n",
       "    <tr>\n",
       "      <th>361576</th>\n",
       "      <td>[B08F5D8T22, B079FV57RR, B085WCD1CF, B09C3Q4V1...</td>\n",
       "      <td>[269.1492919921875, 269.11639404296875, 266.56...</td>\n",
       "      <td>361576</td>\n",
       "    </tr>\n",
       "    <tr>\n",
       "      <th>361577</th>\n",
       "      <td>[B0B96YTD1B, B0B96YKVJ6, B09XGPX16G, B0B973WT3...</td>\n",
       "      <td>[269.2782897949219, 269.2471923828125, 269.101...</td>\n",
       "      <td>361577</td>\n",
       "    </tr>\n",
       "    <tr>\n",
       "      <th>361578</th>\n",
       "      <td>[B09SXRYYMM, B0B6D8KGPC, B0B6D9V5CG, B0BC38GHB...</td>\n",
       "      <td>[266.98553466796875, 266.8766784667969, 266.80...</td>\n",
       "      <td>361578</td>\n",
       "    </tr>\n",
       "    <tr>\n",
       "      <th>361579</th>\n",
       "      <td>[B08RQDVX71, B08RQBT2D8, B08RQR2NPB, B09D3VG5N...</td>\n",
       "      <td>[268.53466796875, 267.6655578613281, 267.64810...</td>\n",
       "      <td>361579</td>\n",
       "    </tr>\n",
       "    <tr>\n",
       "      <th>361580</th>\n",
       "      <td>[B019CHEY7G, B00NVEE53K, B09CT39KZG, B015FR2T5...</td>\n",
       "      <td>[269.11981201171875, 268.0408020019531, 267.23...</td>\n",
       "      <td>361580</td>\n",
       "    </tr>\n",
       "  </tbody>\n",
       "</table>\n",
       "<p>361581 rows × 3 columns</p>\n",
       "</div>"
      ],
      "text/plain": [
       "                                               candidates  \\\n",
       "0       [B096ZT4DK4, B09XCGNN6F, B09XCHDLYR, B06XGD9VL...   \n",
       "1       [B08ZHJKF28, B09LCPT9DQ, B09MRYK5CV, B09G9YRX1...   \n",
       "2       [B06ZYHMRST, B01017JLP6, B007CW985C, B0017RTPK...   \n",
       "3       [B01M5EBAO4, B07TYFS1K7, B08BX71RLT, B0BGY899Q...   \n",
       "4       [B0B6NXJMJJ, B0B6PF619D, B0B6P77ZRN, B0B6NRKVZ...   \n",
       "...                                                   ...   \n",
       "361576  [B08F5D8T22, B079FV57RR, B085WCD1CF, B09C3Q4V1...   \n",
       "361577  [B0B96YTD1B, B0B96YKVJ6, B09XGPX16G, B0B973WT3...   \n",
       "361578  [B09SXRYYMM, B0B6D8KGPC, B0B6D9V5CG, B0BC38GHB...   \n",
       "361579  [B08RQDVX71, B08RQBT2D8, B08RQR2NPB, B09D3VG5N...   \n",
       "361580  [B019CHEY7G, B00NVEE53K, B09CT39KZG, B015FR2T5...   \n",
       "\n",
       "                                                   scores  sess_id  \n",
       "0       [268.6368103027344, 268.5672607421875, 268.567...        0  \n",
       "1       [269.99102783203125, 269.4064636230469, 269.30...        1  \n",
       "2       [264.7541198730469, 264.58624267578125, 264.49...        2  \n",
       "3       [267.71771240234375, 266.8636779785156, 266.69...        3  \n",
       "4       [269.4986572265625, 269.49267578125, 269.47979...        4  \n",
       "...                                                   ...      ...  \n",
       "361576  [269.1492919921875, 269.11639404296875, 266.56...   361576  \n",
       "361577  [269.2782897949219, 269.2471923828125, 269.101...   361577  \n",
       "361578  [266.98553466796875, 266.8766784667969, 266.80...   361578  \n",
       "361579  [268.53466796875, 267.6655578613281, 267.64810...   361579  \n",
       "361580  [269.11981201171875, 268.0408020019531, 267.23...   361580  \n",
       "\n",
       "[361581 rows x 3 columns]"
      ]
     },
     "execution_count": 59,
     "metadata": {},
     "output_type": "execute_result"
    }
   ],
   "source": [
    "roberta_valid_candidates['sess_id'] = np.arange(roberta_valid_candidates.shape[0])\n",
    "roberta_valid_candidates"
   ]
  },
  {
   "attachments": {},
   "cell_type": "markdown",
   "metadata": {},
   "source": [
    "## get co-graph candidates"
   ]
  },
  {
   "cell_type": "code",
   "execution_count": 60,
   "metadata": {},
   "outputs": [
    {
     "name": "stderr",
     "output_type": "stream",
     "text": [
      "100%|██████████| 3557898/3557898 [01:49<00:00, 32539.04it/s]\n",
      "100%|██████████| 361581/361581 [00:14<00:00, 25734.17it/s]\n"
     ]
    }
   ],
   "source": [
    "train_sess_item = get_sessions(train_sessions, list_item=False)\n",
    "valid_sess_item = get_sessions(valid_sessions, test=True, list_item=False)"
   ]
  },
  {
   "cell_type": "code",
   "execution_count": 61,
   "metadata": {},
   "outputs": [
    {
     "name": "stderr",
     "output_type": "stream",
     "text": [
      "100%|██████████| 3919479/3919479 [01:20<00:00, 48638.98it/s]\n"
     ]
    }
   ],
   "source": [
    "co_occurence_dict_bi = get_co_occurence_dict(train_sess_item + valid_sess_item, bidirection=True, weighted=False)"
   ]
  },
  {
   "cell_type": "code",
   "execution_count": 87,
   "metadata": {},
   "outputs": [],
   "source": [
    "valid_co_graph_candidates_dataset = TFDataset.from_dict({'sess_id' : list(range(len(valid_sessions)))})"
   ]
  },
  {
   "cell_type": "code",
   "execution_count": 88,
   "metadata": {},
   "outputs": [],
   "source": [
    "def get_valid_session_co_graph_candidates(sess_id_example):\n",
    "    sess = valid_sess_item[sess_id_example['sess_id']]\n",
    "    prev_items = set()\n",
    "    cand_counter = Counter()\n",
    "    for item in sess:\n",
    "        if item in co_occurence_dict_bi and item not in prev_items:\n",
    "            cand_counter = cand_counter + co_occurence_dict_bi[item]\n",
    "            prev_items.add(item) # one time for every item\n",
    "    for item in sess:\n",
    "        if item in cand_counter:\n",
    "            cand_counter.pop(item) # remove history items \n",
    "    if len(cand_counter) > 0:\n",
    "        candidates, _ = zip(*cand_counter.most_common(100))\n",
    "    else:\n",
    "        candidates = []\n",
    "    return {'co_graph_candidates' : candidates}"
   ]
  },
  {
   "cell_type": "code",
   "execution_count": 89,
   "metadata": {},
   "outputs": [],
   "source": [
    "# about 1 mins\n",
    "datasets.set_progress_bar_enabled(False)\n",
    "valid_co_graph_candidates_dataset = valid_co_graph_candidates_dataset.map(get_valid_session_co_graph_candidates, num_proc=8, batched=False)\n",
    "datasets.set_progress_bar_enabled(True)"
   ]
  },
  {
   "cell_type": "code",
   "execution_count": 90,
   "metadata": {},
   "outputs": [],
   "source": [
    "valid_co_graph_candidates = valid_co_graph_candidates_dataset['co_graph_candidates']"
   ]
  },
  {
   "cell_type": "code",
   "execution_count": 91,
   "metadata": {},
   "outputs": [
    {
     "data": {
      "text/html": [
       "<div>\n",
       "<style scoped>\n",
       "    .dataframe tbody tr th:only-of-type {\n",
       "        vertical-align: middle;\n",
       "    }\n",
       "\n",
       "    .dataframe tbody tr th {\n",
       "        vertical-align: top;\n",
       "    }\n",
       "\n",
       "    .dataframe thead th {\n",
       "        text-align: right;\n",
       "    }\n",
       "</style>\n",
       "<table border=\"1\" class=\"dataframe\">\n",
       "  <thead>\n",
       "    <tr style=\"text-align: right;\">\n",
       "      <th></th>\n",
       "      <th>sess_id</th>\n",
       "      <th>candidates</th>\n",
       "    </tr>\n",
       "  </thead>\n",
       "  <tbody>\n",
       "    <tr>\n",
       "      <th>0</th>\n",
       "      <td>0</td>\n",
       "      <td>[B06XG1LZ6Z, B06XGDZVZR, B06XGD9VLV, B076PN1SK...</td>\n",
       "    </tr>\n",
       "    <tr>\n",
       "      <th>1</th>\n",
       "      <td>1</td>\n",
       "      <td>[B09LCPT9DQ, B0BB5VQ1L8, B092D5HM5S, B01BEPNPF...</td>\n",
       "    </tr>\n",
       "    <tr>\n",
       "      <th>2</th>\n",
       "      <td>2</td>\n",
       "      <td>[B0B1VNZW6H, B08M1863YR, B003BQFX4S, B0B1VLKR1...</td>\n",
       "    </tr>\n",
       "    <tr>\n",
       "      <th>3</th>\n",
       "      <td>3</td>\n",
       "      <td>[B07G4MNXPZ, B09ZTGMS34, B09B7DGSDT, B097JK5BS...</td>\n",
       "    </tr>\n",
       "    <tr>\n",
       "      <th>4</th>\n",
       "      <td>4</td>\n",
       "      <td>[B0B6PF619D, B0B6P77ZRN, B0B6NRKVZF, B0B6NY4PN...</td>\n",
       "    </tr>\n",
       "    <tr>\n",
       "      <th>...</th>\n",
       "      <td>...</td>\n",
       "      <td>...</td>\n",
       "    </tr>\n",
       "    <tr>\n",
       "      <th>361576</th>\n",
       "      <td>361576</td>\n",
       "      <td>[B0050IG9DE, B00465F49W, B08F5D8T22, B09C23S3F...</td>\n",
       "    </tr>\n",
       "    <tr>\n",
       "      <th>361577</th>\n",
       "      <td>361577</td>\n",
       "      <td>[B09B9V4PXC, B09BCM5NL1, B09XGRXXG3, B09XH1YGL...</td>\n",
       "    </tr>\n",
       "    <tr>\n",
       "      <th>361578</th>\n",
       "      <td>361578</td>\n",
       "      <td>[B00E4JO8MO, B00ELRLN3G, B01N9BZMWS, B079L5WQR...</td>\n",
       "    </tr>\n",
       "    <tr>\n",
       "      <th>361579</th>\n",
       "      <td>361579</td>\n",
       "      <td>[B08RQDVX71, B08H8TLK4F, B08RQR2NPB, B08H8SYLM...</td>\n",
       "    </tr>\n",
       "    <tr>\n",
       "      <th>361580</th>\n",
       "      <td>361580</td>\n",
       "      <td>[B00J8GJ7V0, B09GLVDMNQ, B0BB7ZMGY8, B07GQ9YN2...</td>\n",
       "    </tr>\n",
       "  </tbody>\n",
       "</table>\n",
       "<p>361581 rows × 2 columns</p>\n",
       "</div>"
      ],
      "text/plain": [
       "        sess_id                                         candidates\n",
       "0             0  [B06XG1LZ6Z, B06XGDZVZR, B06XGD9VLV, B076PN1SK...\n",
       "1             1  [B09LCPT9DQ, B0BB5VQ1L8, B092D5HM5S, B01BEPNPF...\n",
       "2             2  [B0B1VNZW6H, B08M1863YR, B003BQFX4S, B0B1VLKR1...\n",
       "3             3  [B07G4MNXPZ, B09ZTGMS34, B09B7DGSDT, B097JK5BS...\n",
       "4             4  [B0B6PF619D, B0B6P77ZRN, B0B6NRKVZF, B0B6NY4PN...\n",
       "...         ...                                                ...\n",
       "361576   361576  [B0050IG9DE, B00465F49W, B08F5D8T22, B09C23S3F...\n",
       "361577   361577  [B09B9V4PXC, B09BCM5NL1, B09XGRXXG3, B09XH1YGL...\n",
       "361578   361578  [B00E4JO8MO, B00ELRLN3G, B01N9BZMWS, B079L5WQR...\n",
       "361579   361579  [B08RQDVX71, B08H8TLK4F, B08RQR2NPB, B08H8SYLM...\n",
       "361580   361580  [B00J8GJ7V0, B09GLVDMNQ, B0BB7ZMGY8, B07GQ9YN2...\n",
       "\n",
       "[361581 rows x 2 columns]"
      ]
     },
     "execution_count": 91,
     "metadata": {},
     "output_type": "execute_result"
    }
   ],
   "source": [
    "co_graph_valid_candidates = pd.DataFrame({'sess_id' : list(range(len(valid_sessions))), 'candidates' : valid_co_graph_candidates})\n",
    "co_graph_valid_candidates"
   ]
  },
  {
   "cell_type": "code",
   "execution_count": 92,
   "metadata": {},
   "outputs": [
    {
     "data": {
      "text/plain": [
       "361581"
      ]
     },
     "execution_count": 92,
     "metadata": {},
     "output_type": "execute_result"
    }
   ],
   "source": [
    "len(valid_co_graph_candidates)"
   ]
  },
  {
   "cell_type": "code",
   "execution_count": 93,
   "metadata": {},
   "outputs": [
    {
     "data": {
      "text/plain": [
       "(['B09LCPT9DQ',\n",
       "  'B0BB5VQ1L8',\n",
       "  'B092D5HM5S',\n",
       "  'B01BEPNPF6',\n",
       "  'B0BFD9P93X',\n",
       "  'B084T9C6WD',\n",
       "  'B01H6MF6Z8',\n",
       "  'B09MRYK5CV',\n",
       "  'B08GZR18S3',\n",
       "  'B08RYKYFKD'],\n",
       " 100)"
      ]
     },
     "execution_count": 93,
     "metadata": {},
     "output_type": "execute_result"
    }
   ],
   "source": [
    "valid_co_graph_candidates[1][:10], len(valid_co_graph_candidates[1])"
   ]
  },
  {
   "cell_type": "code",
   "execution_count": 94,
   "metadata": {},
   "outputs": [
    {
     "data": {
      "text/plain": [
       "692"
      ]
     },
     "execution_count": 94,
     "metadata": {},
     "output_type": "execute_result"
    }
   ],
   "source": [
    "co_occurence_dict_bi['B09WM9W6WQ']['B09LCPT9DQ']"
   ]
  },
  {
   "attachments": {},
   "cell_type": "markdown",
   "metadata": {},
   "source": [
    "## merge candidates "
   ]
  },
  {
   "cell_type": "code",
   "execution_count": 95,
   "metadata": {},
   "outputs": [
    {
     "data": {
      "text/html": [
       "<div>\n",
       "<style scoped>\n",
       "    .dataframe tbody tr th:only-of-type {\n",
       "        vertical-align: middle;\n",
       "    }\n",
       "\n",
       "    .dataframe tbody tr th {\n",
       "        vertical-align: top;\n",
       "    }\n",
       "\n",
       "    .dataframe thead th {\n",
       "        text-align: right;\n",
       "    }\n",
       "</style>\n",
       "<table border=\"1\" class=\"dataframe\">\n",
       "  <thead>\n",
       "    <tr style=\"text-align: right;\">\n",
       "      <th></th>\n",
       "      <th>prev_items</th>\n",
       "      <th>next_item</th>\n",
       "      <th>locale</th>\n",
       "    </tr>\n",
       "  </thead>\n",
       "  <tbody>\n",
       "    <tr>\n",
       "      <th>0</th>\n",
       "      <td>['B09VSN9GLS' 'B09VSG9DCG' 'B0BJ5L1ZPH' 'B09VS...</td>\n",
       "      <td>B06XG1LZ6Z</td>\n",
       "      <td>UK</td>\n",
       "    </tr>\n",
       "    <tr>\n",
       "      <th>1</th>\n",
       "      <td>['B00390YWXE' 'B00390YWXE' 'B09WM9W6WQ']</td>\n",
       "      <td>B01MSUI4FE</td>\n",
       "      <td>JP</td>\n",
       "    </tr>\n",
       "    <tr>\n",
       "      <th>2</th>\n",
       "      <td>['B01BM9V6H8' 'B01MG55XDR' 'B07VYSSRL7']</td>\n",
       "      <td>B01M6625ME</td>\n",
       "      <td>UK</td>\n",
       "    </tr>\n",
       "    <tr>\n",
       "      <th>3</th>\n",
       "      <td>['B092ZG24S7' 'B09BNHWWZM' 'B08CB1WG5M' '17880...</td>\n",
       "      <td>0241558573</td>\n",
       "      <td>UK</td>\n",
       "    </tr>\n",
       "    <tr>\n",
       "      <th>4</th>\n",
       "      <td>['B0B6NY5RM8' 'B09BJGBBBR']</td>\n",
       "      <td>B09BJF6N8K</td>\n",
       "      <td>JP</td>\n",
       "    </tr>\n",
       "    <tr>\n",
       "      <th>...</th>\n",
       "      <td>...</td>\n",
       "      <td>...</td>\n",
       "      <td>...</td>\n",
       "    </tr>\n",
       "    <tr>\n",
       "      <th>361576</th>\n",
       "      <td>['B08HH6L4PB' 'B08L8N8HDR']</td>\n",
       "      <td>B00TS5UXGY</td>\n",
       "      <td>UK</td>\n",
       "    </tr>\n",
       "    <tr>\n",
       "      <th>361577</th>\n",
       "      <td>['B08X4L1KLZ' 'B09BBX1T4S' 'B09D76FT9D']</td>\n",
       "      <td>B09BCM5NL1</td>\n",
       "      <td>JP</td>\n",
       "    </tr>\n",
       "    <tr>\n",
       "      <th>361578</th>\n",
       "      <td>['B0098G6L3M' 'B00ELRLP3O' 'B00PLXGK82' 'B09GS...</td>\n",
       "      <td>B0BC38GHB4</td>\n",
       "      <td>DE</td>\n",
       "    </tr>\n",
       "    <tr>\n",
       "      <th>361579</th>\n",
       "      <td>['B07Q2CNLY3' 'B07Q2CNLY3' 'B07BR7DZWN' 'B07Q2...</td>\n",
       "      <td>B08H8SYLMQ</td>\n",
       "      <td>DE</td>\n",
       "    </tr>\n",
       "    <tr>\n",
       "      <th>361580</th>\n",
       "      <td>['B07N6J2M3K' 'B081YZVG5L' 'B011XK46F0' 'B0842...</td>\n",
       "      <td>B0853Q7C2Q</td>\n",
       "      <td>DE</td>\n",
       "    </tr>\n",
       "  </tbody>\n",
       "</table>\n",
       "<p>361581 rows × 3 columns</p>\n",
       "</div>"
      ],
      "text/plain": [
       "                                               prev_items   next_item locale\n",
       "0       ['B09VSN9GLS' 'B09VSG9DCG' 'B0BJ5L1ZPH' 'B09VS...  B06XG1LZ6Z     UK\n",
       "1                ['B00390YWXE' 'B00390YWXE' 'B09WM9W6WQ']  B01MSUI4FE     JP\n",
       "2                ['B01BM9V6H8' 'B01MG55XDR' 'B07VYSSRL7']  B01M6625ME     UK\n",
       "3       ['B092ZG24S7' 'B09BNHWWZM' 'B08CB1WG5M' '17880...  0241558573     UK\n",
       "4                             ['B0B6NY5RM8' 'B09BJGBBBR']  B09BJF6N8K     JP\n",
       "...                                                   ...         ...    ...\n",
       "361576                        ['B08HH6L4PB' 'B08L8N8HDR']  B00TS5UXGY     UK\n",
       "361577           ['B08X4L1KLZ' 'B09BBX1T4S' 'B09D76FT9D']  B09BCM5NL1     JP\n",
       "361578  ['B0098G6L3M' 'B00ELRLP3O' 'B00PLXGK82' 'B09GS...  B0BC38GHB4     DE\n",
       "361579  ['B07Q2CNLY3' 'B07Q2CNLY3' 'B07BR7DZWN' 'B07Q2...  B08H8SYLMQ     DE\n",
       "361580  ['B07N6J2M3K' 'B081YZVG5L' 'B011XK46F0' 'B0842...  B0853Q7C2Q     DE\n",
       "\n",
       "[361581 rows x 3 columns]"
      ]
     },
     "execution_count": 95,
     "metadata": {},
     "output_type": "execute_result"
    }
   ],
   "source": [
    "valid_sessions"
   ]
  },
  {
   "cell_type": "code",
   "execution_count": 96,
   "metadata": {},
   "outputs": [],
   "source": [
    "# make sure that history items are not in candidates set\n",
    "assert 'B07VYSSRL7' not in co_graph_valid_candidates.iloc[3]['candidates']\n",
    "assert 'B07VYSSRL7' not in sasrec_valid_candidates.iloc[3]['candidates']\n",
    "assert 'B07VYSSRL7' not in roberta_valid_candidates.iloc[3]['candidates']\n",
    "assert 'B08L8N8HDR' not in co_graph_valid_candidates.iloc[361576]['candidates']\n",
    "assert 'B08L8N8HDR' not in sasrec_valid_candidates.iloc[361576]['candidates']\n",
    "assert 'B08L8N8HDR' not in roberta_valid_candidates.iloc[361576]['candidates']"
   ]
  },
  {
   "cell_type": "code",
   "execution_count": 97,
   "metadata": {},
   "outputs": [
    {
     "name": "stderr",
     "output_type": "stream",
     "text": [
      "100%|██████████| 361581/361581 [02:32<00:00, 2374.23it/s]\n"
     ]
    }
   ],
   "source": [
    "merged_candidates_df = merge_candidates(valid_sessions, [sasrec_valid_candidates, roberta_valid_candidates, co_graph_valid_candidates])"
   ]
  },
  {
   "cell_type": "code",
   "execution_count": 98,
   "metadata": {},
   "outputs": [
    {
     "data": {
      "text/plain": [
       "0.7176898122412405"
      ]
     },
     "execution_count": 98,
     "metadata": {},
     "output_type": "execute_result"
    }
   ],
   "source": [
    "# recall \n",
    "(merged_candidates_df['target'] == 1.0).sum() / (merged_candidates_df['sess_id'].max() + 1)"
   ]
  },
  {
   "cell_type": "code",
   "execution_count": 19,
   "metadata": {},
   "outputs": [],
   "source": [
    "cast_dtype(merged_candidates_df)"
   ]
  },
  {
   "cell_type": "code",
   "execution_count": 48,
   "metadata": {},
   "outputs": [],
   "source": [
    "merged_candidates_df.to_parquet('./candidates/merged_candidates_all_items.parquet', engine='pyarrow')"
   ]
  },
  {
   "cell_type": "code",
   "execution_count": 74,
   "metadata": {},
   "outputs": [
    {
     "data": {
      "text/html": [
       "<div>\n",
       "<style scoped>\n",
       "    .dataframe tbody tr th:only-of-type {\n",
       "        vertical-align: middle;\n",
       "    }\n",
       "\n",
       "    .dataframe tbody tr th {\n",
       "        vertical-align: top;\n",
       "    }\n",
       "\n",
       "    .dataframe thead th {\n",
       "        text-align: right;\n",
       "    }\n",
       "</style>\n",
       "<table border=\"1\" class=\"dataframe\">\n",
       "  <thead>\n",
       "    <tr style=\"text-align: right;\">\n",
       "      <th></th>\n",
       "      <th>sess_id</th>\n",
       "      <th>sess_locale</th>\n",
       "      <th>product</th>\n",
       "      <th>target</th>\n",
       "    </tr>\n",
       "  </thead>\n",
       "  <tbody>\n",
       "    <tr>\n",
       "      <th>0</th>\n",
       "      <td>0</td>\n",
       "      <td>UK</td>\n",
       "      <td>B0856JQ3WJ</td>\n",
       "      <td>0.0</td>\n",
       "    </tr>\n",
       "    <tr>\n",
       "      <th>1</th>\n",
       "      <td>0</td>\n",
       "      <td>UK</td>\n",
       "      <td>B07L3L4PQH</td>\n",
       "      <td>0.0</td>\n",
       "    </tr>\n",
       "    <tr>\n",
       "      <th>2</th>\n",
       "      <td>0</td>\n",
       "      <td>UK</td>\n",
       "      <td>B07L3LGRFH</td>\n",
       "      <td>0.0</td>\n",
       "    </tr>\n",
       "    <tr>\n",
       "      <th>3</th>\n",
       "      <td>0</td>\n",
       "      <td>UK</td>\n",
       "      <td>B08147T2RH</td>\n",
       "      <td>0.0</td>\n",
       "    </tr>\n",
       "    <tr>\n",
       "      <th>4</th>\n",
       "      <td>0</td>\n",
       "      <td>UK</td>\n",
       "      <td>B09TW5134P</td>\n",
       "      <td>0.0</td>\n",
       "    </tr>\n",
       "    <tr>\n",
       "      <th>...</th>\n",
       "      <td>...</td>\n",
       "      <td>...</td>\n",
       "      <td>...</td>\n",
       "      <td>...</td>\n",
       "    </tr>\n",
       "    <tr>\n",
       "      <th>87162772</th>\n",
       "      <td>361580</td>\n",
       "      <td>DE</td>\n",
       "      <td>B00816X8TU</td>\n",
       "      <td>0.0</td>\n",
       "    </tr>\n",
       "    <tr>\n",
       "      <th>87162773</th>\n",
       "      <td>361580</td>\n",
       "      <td>DE</td>\n",
       "      <td>B0187EEUHO</td>\n",
       "      <td>0.0</td>\n",
       "    </tr>\n",
       "    <tr>\n",
       "      <th>87162774</th>\n",
       "      <td>361580</td>\n",
       "      <td>DE</td>\n",
       "      <td>B084GPY76H</td>\n",
       "      <td>0.0</td>\n",
       "    </tr>\n",
       "    <tr>\n",
       "      <th>87162775</th>\n",
       "      <td>361580</td>\n",
       "      <td>DE</td>\n",
       "      <td>B07N8J3B19</td>\n",
       "      <td>0.0</td>\n",
       "    </tr>\n",
       "    <tr>\n",
       "      <th>87162776</th>\n",
       "      <td>361580</td>\n",
       "      <td>DE</td>\n",
       "      <td>B07636CZVG</td>\n",
       "      <td>0.0</td>\n",
       "    </tr>\n",
       "  </tbody>\n",
       "</table>\n",
       "<p>87162777 rows × 4 columns</p>\n",
       "</div>"
      ],
      "text/plain": [
       "          sess_id sess_locale     product  target\n",
       "0               0          UK  B0856JQ3WJ     0.0\n",
       "1               0          UK  B07L3L4PQH     0.0\n",
       "2               0          UK  B07L3LGRFH     0.0\n",
       "3               0          UK  B08147T2RH     0.0\n",
       "4               0          UK  B09TW5134P     0.0\n",
       "...           ...         ...         ...     ...\n",
       "87162772   361580          DE  B00816X8TU     0.0\n",
       "87162773   361580          DE  B0187EEUHO     0.0\n",
       "87162774   361580          DE  B084GPY76H     0.0\n",
       "87162775   361580          DE  B07N8J3B19     0.0\n",
       "87162776   361580          DE  B07636CZVG     0.0\n",
       "\n",
       "[87162777 rows x 4 columns]"
      ]
     },
     "execution_count": 74,
     "metadata": {},
     "output_type": "execute_result"
    }
   ],
   "source": [
    "merged_candidates_df"
   ]
  },
  {
   "attachments": {},
   "cell_type": "markdown",
   "metadata": {},
   "source": [
    "# Merge Test Candidates"
   ]
  },
  {
   "cell_type": "code",
   "execution_count": 26,
   "metadata": {},
   "outputs": [],
   "source": [
    "test_sessions_path = '/root/autodl-tmp/xiaolong/WorkSpace/Amazon-KDDCUP-23/raw_data/sessions_test_task1.csv'\n",
    "sasrec_test_candidates_path = '/root/autodl-tmp/xiaolong/WorkSpace/Amazon-KDDCUP-23/candidates/SASRec_Next/seperate_locale/SASRec_Next_04_27_20_07_test_100_with_score.parquet'\n",
    "roberta_test_candidates_path = '/root/autodl-tmp/xiaolong/WorkSpace/Amazon-KDDCUP-23/candidates/roberta/roberta_test_100_with_score.parquet'\n",
    "co_graph_test_candidates_path = '/root/autodl-tmp/xiaolong/WorkSpace/Amazon-KDDCUP-23/candidates/co_graph/co_graph_test_100_with_normalized_score.parquet'"
   ]
  },
  {
   "cell_type": "code",
   "execution_count": 27,
   "metadata": {},
   "outputs": [],
   "source": [
    "@lru_cache(maxsize=1)\n",
    "def read_test_sessions():\n",
    "    return pd.read_csv(test_sessions_path)\n",
    "\n",
    "@lru_cache(maxsize=1)\n",
    "def read_sasrec_test_candidates():\n",
    "    return pd.read_parquet(sasrec_test_candidates_path, engine='pyarrow')\n",
    "\n",
    "lru_cache(maxsize=1)\n",
    "def read_roberta_test_candidates():\n",
    "    return pd.read_parquet(roberta_test_candidates_path, engine='pyarrow')\n",
    "\n",
    "lru_cache(maxsize=1)\n",
    "def read_co_graph_test_candidates():\n",
    "    return pd.read_parquet(co_graph_test_candidates_path, engine='pyarrow')"
   ]
  },
  {
   "cell_type": "code",
   "execution_count": 36,
   "metadata": {},
   "outputs": [],
   "source": [
    "test_sessions = read_test_sessions()\n",
    "sasrec_test_candidates = read_sasrec_test_candidates()\n",
    "roberta_test_candidates = read_roberta_test_candidates()\n",
    "co_graph_test_candidates = read_co_graph_test_candidates()"
   ]
  },
  {
   "cell_type": "code",
   "execution_count": 39,
   "metadata": {},
   "outputs": [
    {
     "name": "stderr",
     "output_type": "stream",
     "text": [
      "100%|██████████| 316971/316971 [01:36<00:00, 3298.02it/s]\n"
     ]
    }
   ],
   "source": [
    "merged_candidates_df = merge_candidates(test_sessions, [sasrec_test_candidates, roberta_test_candidates, co_graph_test_candidates], test=True)"
   ]
  },
  {
   "cell_type": "code",
   "execution_count": 41,
   "metadata": {},
   "outputs": [],
   "source": [
    "cast_dtype(merged_candidates_df)"
   ]
  },
  {
   "cell_type": "code",
   "execution_count": 42,
   "metadata": {},
   "outputs": [],
   "source": [
    "merged_candidates_df.to_parquet('./candidates/merged_candidates_test.parquet', engine='pyarrow')"
   ]
  }
 ],
 "metadata": {
  "kernelspec": {
   "display_name": "torch12",
   "language": "python",
   "name": "python3"
  },
  "language_info": {
   "codemirror_mode": {
    "name": "ipython",
    "version": 3
   },
   "file_extension": ".py",
   "mimetype": "text/x-python",
   "name": "python",
   "nbconvert_exporter": "python",
   "pygments_lexer": "ipython3",
   "version": "3.9.16"
  },
  "orig_nbformat": 4
 },
 "nbformat": 4,
 "nbformat_minor": 2
}
