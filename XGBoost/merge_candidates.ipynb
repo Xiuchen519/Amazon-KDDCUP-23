{
 "cells": [
  {
   "cell_type": "code",
   "execution_count": 1,
   "metadata": {},
   "outputs": [
    {
     "name": "stderr",
     "output_type": "stream",
     "text": [
      "<frozen importlib._bootstrap>:228: RuntimeWarning: pyarrow._fs.FileInfo size changed, may indicate binary incompatibility. Expected 64 from C header, got 88 from PyObject\n",
      "<frozen importlib._bootstrap>:228: RuntimeWarning: pyarrow._fs.FileSelector size changed, may indicate binary incompatibility. Expected 48 from C header, got 72 from PyObject\n"
     ]
    }
   ],
   "source": [
    "import os\n",
    "import random\n",
    "import numpy as np\n",
    "import pandas as pd\n",
    "import cudf, itertools\n",
    "import scipy.sparse as ssp\n",
    "from functools import lru_cache\n",
    "from tqdm import tqdm, trange\n",
    "from collections import Counter, defaultdict"
   ]
  },
  {
   "cell_type": "code",
   "execution_count": 2,
   "metadata": {},
   "outputs": [],
   "source": [
    "def cast_dtype(df : pd.DataFrame):\n",
    "    for k in df.columns:\n",
    "        dt = type(df[k].iloc[0])\n",
    "        if 'float' in str(dt):\n",
    "            df[k] = df[k].astype('float32')\n",
    "        elif 'int' in str(dt):\n",
    "            df[k] = df[k].astype('int32')\n",
    "        elif dt == list:\n",
    "            dt_ = type(df.iloc[0][k][0])\n",
    "            if 'float' in str(dt_):\n",
    "                df[k] = df[k].apply(lambda x : np.array(x, dtype=np.float32))\n",
    "            elif 'int' in str(dt_):\n",
    "                df[k] = df[k].apply(lambda x : np.array(x, dtype=np.int32))"
   ]
  },
  {
   "cell_type": "code",
   "execution_count": 3,
   "metadata": {},
   "outputs": [],
   "source": [
    "def merge_candidates(session_df, candidates_df_list, test=False):\n",
    "    sess_id_list = []\n",
    "    sess_locale_list = []\n",
    "    product_list = []\n",
    "    target_list = []\n",
    "    for i in tqdm(range(session_df.shape[0])):\n",
    "        sess_id = i\n",
    "        sess_locale = session_df.iloc[i]['locale']\n",
    "        if not test:\n",
    "            sess_next_item = session_df.iloc[i]['next_item']\n",
    "\n",
    "        candidates_set_list = [set(x.iloc[i]['candidates']) for x in candidates_df_list]\n",
    "        candidates_set = candidates_set_list[0]\n",
    "        for x in candidates_set_list[1:]:\n",
    "            candidates_set = candidates_set.union(x)\n",
    "        cur_product_list = list(candidates_set)\n",
    "        cur_sess_id_list = [sess_id for _ in range(len(cur_product_list))]\n",
    "        cur_sess_locale_list = [sess_locale for _ in range(len(cur_product_list))]\n",
    "        if not test:\n",
    "            cur_target_list = (np.array(cur_product_list) == sess_next_item).astype(np.float32).tolist()\n",
    "\n",
    "        for j in range(len(cur_product_list)):\n",
    "            sess_id_list.append(cur_sess_id_list[j])\n",
    "            sess_locale_list.append(cur_sess_locale_list[j])\n",
    "            product_list.append(cur_product_list[j])\n",
    "            if not test:\n",
    "                target_list.append(cur_target_list[j])\n",
    "\n",
    "    df_dict = {'sess_id' : sess_id_list, 'sess_locale' : sess_locale_list, 'product' : product_list}\n",
    "    if not test: \n",
    "        df_dict['target'] = target_list\n",
    "    return pd.DataFrame(df_dict)"
   ]
  },
  {
   "attachments": {},
   "cell_type": "markdown",
   "metadata": {},
   "source": [
    "# Merge Validation Candidates"
   ]
  },
  {
   "cell_type": "code",
   "execution_count": 11,
   "metadata": {},
   "outputs": [],
   "source": [
    "valid_sessions_path = '/root/autodl-tmp/xiaolong/WorkSpace/Amazon-KDDCUP-23/data_for_recstudio/task1_data/task13_4_task1_valid_sessions.csv'\n",
    "sasrec_valid_candidates_path = '/root/autodl-tmp/xiaolong/WorkSpace/Amazon-KDDCUP-23/candidates/SASRec_Next/seperate_locale/SASRec_Next_04_26_15_26_valid_100_with_score.parquet'\n",
    "roberta_valid_candidates_path = '/root/autodl-tmp/xiaolong/WorkSpace/Amazon-KDDCUP-23/candidates/roberta/roberta_valid_100_with_score.parquet'\n",
    "co_graph_valid_candidates_path = '/root/autodl-tmp/xiaolong/WorkSpace/Amazon-KDDCUP-23/candidates/co_graph/co_graph_valid_100_with_normalized_score_2.parquet'"
   ]
  },
  {
   "cell_type": "code",
   "execution_count": 9,
   "metadata": {},
   "outputs": [],
   "source": [
    "@lru_cache(maxsize=1)\n",
    "def read_valid_sessions():\n",
    "    return pd.read_csv(valid_sessions_path)\n",
    "\n",
    "@lru_cache(maxsize=1)\n",
    "def read_sasrec_valid_candidates():\n",
    "    return pd.read_parquet(sasrec_valid_candidates_path, engine='pyarrow')\n",
    "\n",
    "lru_cache(maxsize=1)\n",
    "def read_roberta_valid_candidates():\n",
    "    return pd.read_parquet(roberta_valid_candidates_path, engine='pyarrow')\n",
    "\n",
    "lru_cache(maxsize=1)\n",
    "def read_co_graph_valid_candidates():\n",
    "    return pd.read_parquet(co_graph_valid_candidates_path, engine='pyarrow')"
   ]
  },
  {
   "cell_type": "code",
   "execution_count": 12,
   "metadata": {},
   "outputs": [],
   "source": [
    "valid_sessions = read_valid_sessions()\n",
    "sasrec_valid_candidates = read_sasrec_valid_candidates()\n",
    "roberta_valid_candidates = read_roberta_valid_candidates()\n",
    "co_graph_valid_candidates = read_co_graph_valid_candidates()"
   ]
  },
  {
   "cell_type": "code",
   "execution_count": 13,
   "metadata": {},
   "outputs": [
    {
     "data": {
      "text/html": [
       "<div>\n",
       "<style scoped>\n",
       "    .dataframe tbody tr th:only-of-type {\n",
       "        vertical-align: middle;\n",
       "    }\n",
       "\n",
       "    .dataframe tbody tr th {\n",
       "        vertical-align: top;\n",
       "    }\n",
       "\n",
       "    .dataframe thead th {\n",
       "        text-align: right;\n",
       "    }\n",
       "</style>\n",
       "<table border=\"1\" class=\"dataframe\">\n",
       "  <thead>\n",
       "    <tr style=\"text-align: right;\">\n",
       "      <th></th>\n",
       "      <th>candidates</th>\n",
       "      <th>scores</th>\n",
       "      <th>sess_id</th>\n",
       "    </tr>\n",
       "  </thead>\n",
       "  <tbody>\n",
       "    <tr>\n",
       "      <th>0</th>\n",
       "      <td>[B096ZT4DK4, B09XCGNN6F, B09XCHDLYR, B06XGD9VL...</td>\n",
       "      <td>[268.6368103027344, 268.5672607421875, 268.567...</td>\n",
       "      <td>0</td>\n",
       "    </tr>\n",
       "    <tr>\n",
       "      <th>1</th>\n",
       "      <td>[B08ZHJKF28, B09LCPT9DQ, B09MRYK5CV, B09G9YRX1...</td>\n",
       "      <td>[269.99102783203125, 269.4064636230469, 269.30...</td>\n",
       "      <td>1</td>\n",
       "    </tr>\n",
       "    <tr>\n",
       "      <th>2</th>\n",
       "      <td>[B06ZYHMRST, B01017JLP6, B007CW985C, B0017RTPK...</td>\n",
       "      <td>[264.7541198730469, 264.58624267578125, 264.49...</td>\n",
       "      <td>2</td>\n",
       "    </tr>\n",
       "    <tr>\n",
       "      <th>3</th>\n",
       "      <td>[B01M5EBAO4, B07TYFS1K7, B08BX71RLT, B0BGY899Q...</td>\n",
       "      <td>[267.71771240234375, 266.8636779785156, 266.69...</td>\n",
       "      <td>3</td>\n",
       "    </tr>\n",
       "    <tr>\n",
       "      <th>4</th>\n",
       "      <td>[B0B6NXJMJJ, B0B6PF619D, B0B6P77ZRN, B0B6NRKVZ...</td>\n",
       "      <td>[269.4986572265625, 269.49267578125, 269.47979...</td>\n",
       "      <td>4</td>\n",
       "    </tr>\n",
       "    <tr>\n",
       "      <th>...</th>\n",
       "      <td>...</td>\n",
       "      <td>...</td>\n",
       "      <td>...</td>\n",
       "    </tr>\n",
       "    <tr>\n",
       "      <th>361576</th>\n",
       "      <td>[B08F5D8T22, B079FV57RR, B085WCD1CF, B09C3Q4V1...</td>\n",
       "      <td>[269.1492919921875, 269.11639404296875, 266.56...</td>\n",
       "      <td>361576</td>\n",
       "    </tr>\n",
       "    <tr>\n",
       "      <th>361577</th>\n",
       "      <td>[B0B96YTD1B, B0B96YKVJ6, B09XGPX16G, B0B973WT3...</td>\n",
       "      <td>[269.2782897949219, 269.2471923828125, 269.101...</td>\n",
       "      <td>361577</td>\n",
       "    </tr>\n",
       "    <tr>\n",
       "      <th>361578</th>\n",
       "      <td>[B09SXRYYMM, B0B6D8KGPC, B0B6D9V5CG, B0BC38GHB...</td>\n",
       "      <td>[266.98553466796875, 266.8766784667969, 266.80...</td>\n",
       "      <td>361578</td>\n",
       "    </tr>\n",
       "    <tr>\n",
       "      <th>361579</th>\n",
       "      <td>[B08RQDVX71, B08RQBT2D8, B08RQR2NPB, B09D3VG5N...</td>\n",
       "      <td>[268.53466796875, 267.6655578613281, 267.64810...</td>\n",
       "      <td>361579</td>\n",
       "    </tr>\n",
       "    <tr>\n",
       "      <th>361580</th>\n",
       "      <td>[B019CHEY7G, B00NVEE53K, B09CT39KZG, B015FR2T5...</td>\n",
       "      <td>[269.11981201171875, 268.0408020019531, 267.23...</td>\n",
       "      <td>361580</td>\n",
       "    </tr>\n",
       "  </tbody>\n",
       "</table>\n",
       "<p>361581 rows × 3 columns</p>\n",
       "</div>"
      ],
      "text/plain": [
       "                                               candidates  \\\n",
       "0       [B096ZT4DK4, B09XCGNN6F, B09XCHDLYR, B06XGD9VL...   \n",
       "1       [B08ZHJKF28, B09LCPT9DQ, B09MRYK5CV, B09G9YRX1...   \n",
       "2       [B06ZYHMRST, B01017JLP6, B007CW985C, B0017RTPK...   \n",
       "3       [B01M5EBAO4, B07TYFS1K7, B08BX71RLT, B0BGY899Q...   \n",
       "4       [B0B6NXJMJJ, B0B6PF619D, B0B6P77ZRN, B0B6NRKVZ...   \n",
       "...                                                   ...   \n",
       "361576  [B08F5D8T22, B079FV57RR, B085WCD1CF, B09C3Q4V1...   \n",
       "361577  [B0B96YTD1B, B0B96YKVJ6, B09XGPX16G, B0B973WT3...   \n",
       "361578  [B09SXRYYMM, B0B6D8KGPC, B0B6D9V5CG, B0BC38GHB...   \n",
       "361579  [B08RQDVX71, B08RQBT2D8, B08RQR2NPB, B09D3VG5N...   \n",
       "361580  [B019CHEY7G, B00NVEE53K, B09CT39KZG, B015FR2T5...   \n",
       "\n",
       "                                                   scores  sess_id  \n",
       "0       [268.6368103027344, 268.5672607421875, 268.567...        0  \n",
       "1       [269.99102783203125, 269.4064636230469, 269.30...        1  \n",
       "2       [264.7541198730469, 264.58624267578125, 264.49...        2  \n",
       "3       [267.71771240234375, 266.8636779785156, 266.69...        3  \n",
       "4       [269.4986572265625, 269.49267578125, 269.47979...        4  \n",
       "...                                                   ...      ...  \n",
       "361576  [269.1492919921875, 269.11639404296875, 266.56...   361576  \n",
       "361577  [269.2782897949219, 269.2471923828125, 269.101...   361577  \n",
       "361578  [266.98553466796875, 266.8766784667969, 266.80...   361578  \n",
       "361579  [268.53466796875, 267.6655578613281, 267.64810...   361579  \n",
       "361580  [269.11981201171875, 268.0408020019531, 267.23...   361580  \n",
       "\n",
       "[361581 rows x 3 columns]"
      ]
     },
     "execution_count": 13,
     "metadata": {},
     "output_type": "execute_result"
    }
   ],
   "source": [
    "roberta_valid_candidates['sess_id'] = np.arange(roberta_valid_candidates.shape[0])\n",
    "roberta_valid_candidates"
   ]
  },
  {
   "attachments": {},
   "cell_type": "markdown",
   "metadata": {},
   "source": [
    "## merge candidates "
   ]
  },
  {
   "cell_type": "code",
   "execution_count": 17,
   "metadata": {},
   "outputs": [
    {
     "data": {
      "text/html": [
       "<div>\n",
       "<style scoped>\n",
       "    .dataframe tbody tr th:only-of-type {\n",
       "        vertical-align: middle;\n",
       "    }\n",
       "\n",
       "    .dataframe tbody tr th {\n",
       "        vertical-align: top;\n",
       "    }\n",
       "\n",
       "    .dataframe thead th {\n",
       "        text-align: right;\n",
       "    }\n",
       "</style>\n",
       "<table border=\"1\" class=\"dataframe\">\n",
       "  <thead>\n",
       "    <tr style=\"text-align: right;\">\n",
       "      <th></th>\n",
       "      <th>prev_items</th>\n",
       "      <th>next_item</th>\n",
       "      <th>locale</th>\n",
       "    </tr>\n",
       "  </thead>\n",
       "  <tbody>\n",
       "    <tr>\n",
       "      <th>0</th>\n",
       "      <td>['B09VSN9GLS' 'B09VSG9DCG' 'B0BJ5L1ZPH' 'B09VS...</td>\n",
       "      <td>B06XG1LZ6Z</td>\n",
       "      <td>UK</td>\n",
       "    </tr>\n",
       "    <tr>\n",
       "      <th>1</th>\n",
       "      <td>['B00390YWXE' 'B00390YWXE' 'B09WM9W6WQ']</td>\n",
       "      <td>B01MSUI4FE</td>\n",
       "      <td>JP</td>\n",
       "    </tr>\n",
       "    <tr>\n",
       "      <th>2</th>\n",
       "      <td>['B01BM9V6H8' 'B01MG55XDR' 'B07VYSSRL7']</td>\n",
       "      <td>B01M6625ME</td>\n",
       "      <td>UK</td>\n",
       "    </tr>\n",
       "    <tr>\n",
       "      <th>3</th>\n",
       "      <td>['B092ZG24S7' 'B09BNHWWZM' 'B08CB1WG5M' '17880...</td>\n",
       "      <td>0241558573</td>\n",
       "      <td>UK</td>\n",
       "    </tr>\n",
       "    <tr>\n",
       "      <th>4</th>\n",
       "      <td>['B0B6NY5RM8' 'B09BJGBBBR']</td>\n",
       "      <td>B09BJF6N8K</td>\n",
       "      <td>JP</td>\n",
       "    </tr>\n",
       "    <tr>\n",
       "      <th>...</th>\n",
       "      <td>...</td>\n",
       "      <td>...</td>\n",
       "      <td>...</td>\n",
       "    </tr>\n",
       "    <tr>\n",
       "      <th>361576</th>\n",
       "      <td>['B08HH6L4PB' 'B08L8N8HDR']</td>\n",
       "      <td>B00TS5UXGY</td>\n",
       "      <td>UK</td>\n",
       "    </tr>\n",
       "    <tr>\n",
       "      <th>361577</th>\n",
       "      <td>['B08X4L1KLZ' 'B09BBX1T4S' 'B09D76FT9D']</td>\n",
       "      <td>B09BCM5NL1</td>\n",
       "      <td>JP</td>\n",
       "    </tr>\n",
       "    <tr>\n",
       "      <th>361578</th>\n",
       "      <td>['B0098G6L3M' 'B00ELRLP3O' 'B00PLXGK82' 'B09GS...</td>\n",
       "      <td>B0BC38GHB4</td>\n",
       "      <td>DE</td>\n",
       "    </tr>\n",
       "    <tr>\n",
       "      <th>361579</th>\n",
       "      <td>['B07Q2CNLY3' 'B07Q2CNLY3' 'B07BR7DZWN' 'B07Q2...</td>\n",
       "      <td>B08H8SYLMQ</td>\n",
       "      <td>DE</td>\n",
       "    </tr>\n",
       "    <tr>\n",
       "      <th>361580</th>\n",
       "      <td>['B07N6J2M3K' 'B081YZVG5L' 'B011XK46F0' 'B0842...</td>\n",
       "      <td>B0853Q7C2Q</td>\n",
       "      <td>DE</td>\n",
       "    </tr>\n",
       "  </tbody>\n",
       "</table>\n",
       "<p>361581 rows × 3 columns</p>\n",
       "</div>"
      ],
      "text/plain": [
       "                                               prev_items   next_item locale\n",
       "0       ['B09VSN9GLS' 'B09VSG9DCG' 'B0BJ5L1ZPH' 'B09VS...  B06XG1LZ6Z     UK\n",
       "1                ['B00390YWXE' 'B00390YWXE' 'B09WM9W6WQ']  B01MSUI4FE     JP\n",
       "2                ['B01BM9V6H8' 'B01MG55XDR' 'B07VYSSRL7']  B01M6625ME     UK\n",
       "3       ['B092ZG24S7' 'B09BNHWWZM' 'B08CB1WG5M' '17880...  0241558573     UK\n",
       "4                             ['B0B6NY5RM8' 'B09BJGBBBR']  B09BJF6N8K     JP\n",
       "...                                                   ...         ...    ...\n",
       "361576                        ['B08HH6L4PB' 'B08L8N8HDR']  B00TS5UXGY     UK\n",
       "361577           ['B08X4L1KLZ' 'B09BBX1T4S' 'B09D76FT9D']  B09BCM5NL1     JP\n",
       "361578  ['B0098G6L3M' 'B00ELRLP3O' 'B00PLXGK82' 'B09GS...  B0BC38GHB4     DE\n",
       "361579  ['B07Q2CNLY3' 'B07Q2CNLY3' 'B07BR7DZWN' 'B07Q2...  B08H8SYLMQ     DE\n",
       "361580  ['B07N6J2M3K' 'B081YZVG5L' 'B011XK46F0' 'B0842...  B0853Q7C2Q     DE\n",
       "\n",
       "[361581 rows x 3 columns]"
      ]
     },
     "execution_count": 17,
     "metadata": {},
     "output_type": "execute_result"
    }
   ],
   "source": [
    "valid_sessions"
   ]
  },
  {
   "cell_type": "code",
   "execution_count": 18,
   "metadata": {},
   "outputs": [
    {
     "name": "stderr",
     "output_type": "stream",
     "text": [
      "100%|██████████| 361581/361581 [02:34<00:00, 2346.95it/s]\n"
     ]
    }
   ],
   "source": [
    "merged_candidates_df = merge_candidates(valid_sessions, [sasrec_valid_candidates, roberta_valid_candidates, co_graph_valid_candidates])"
   ]
  },
  {
   "cell_type": "code",
   "execution_count": 19,
   "metadata": {},
   "outputs": [],
   "source": [
    "cast_dtype(merged_candidates_df)"
   ]
  },
  {
   "cell_type": "code",
   "execution_count": null,
   "metadata": {},
   "outputs": [],
   "source": [
    "merged_candidates_df.to_parquet('./candidates/merged_candidates_2.parquet', engine='pyarrow')"
   ]
  },
  {
   "attachments": {},
   "cell_type": "markdown",
   "metadata": {},
   "source": [
    "# Merge Test Candidates"
   ]
  },
  {
   "cell_type": "code",
   "execution_count": 26,
   "metadata": {},
   "outputs": [],
   "source": [
    "test_sessions_path = '/root/autodl-tmp/xiaolong/WorkSpace/Amazon-KDDCUP-23/raw_data/sessions_test_task1.csv'\n",
    "sasrec_test_candidates_path = '/root/autodl-tmp/xiaolong/WorkSpace/Amazon-KDDCUP-23/candidates/SASRec_Next/seperate_locale/SASRec_Next_04_27_20_07_test_100_with_score.parquet'\n",
    "roberta_test_candidates_path = '/root/autodl-tmp/xiaolong/WorkSpace/Amazon-KDDCUP-23/candidates/roberta/roberta_test_100_with_score.parquet'\n",
    "co_graph_test_candidates_path = '/root/autodl-tmp/xiaolong/WorkSpace/Amazon-KDDCUP-23/candidates/co_graph/co_graph_test_100_with_normalized_score.parquet'"
   ]
  },
  {
   "cell_type": "code",
   "execution_count": 27,
   "metadata": {},
   "outputs": [],
   "source": [
    "@lru_cache(maxsize=1)\n",
    "def read_test_sessions():\n",
    "    return pd.read_csv(test_sessions_path)\n",
    "\n",
    "@lru_cache(maxsize=1)\n",
    "def read_sasrec_test_candidates():\n",
    "    return pd.read_parquet(sasrec_test_candidates_path, engine='pyarrow')\n",
    "\n",
    "lru_cache(maxsize=1)\n",
    "def read_roberta_test_candidates():\n",
    "    return pd.read_parquet(roberta_test_candidates_path, engine='pyarrow')\n",
    "\n",
    "lru_cache(maxsize=1)\n",
    "def read_co_graph_test_candidates():\n",
    "    return pd.read_parquet(co_graph_test_candidates_path, engine='pyarrow')"
   ]
  },
  {
   "cell_type": "code",
   "execution_count": 36,
   "metadata": {},
   "outputs": [],
   "source": [
    "test_sessions = read_test_sessions()\n",
    "sasrec_test_candidates = read_sasrec_test_candidates()\n",
    "roberta_test_candidates = read_roberta_test_candidates()\n",
    "co_graph_test_candidates = read_co_graph_test_candidates()"
   ]
  },
  {
   "cell_type": "code",
   "execution_count": 39,
   "metadata": {},
   "outputs": [
    {
     "name": "stderr",
     "output_type": "stream",
     "text": [
      "100%|██████████| 316971/316971 [01:36<00:00, 3298.02it/s]\n"
     ]
    }
   ],
   "source": [
    "merged_candidates_df = merge_candidates(test_sessions, [sasrec_test_candidates, roberta_test_candidates, co_graph_test_candidates], test=True)"
   ]
  },
  {
   "cell_type": "code",
   "execution_count": 41,
   "metadata": {},
   "outputs": [],
   "source": [
    "cast_dtype(merged_candidates_df)"
   ]
  },
  {
   "cell_type": "code",
   "execution_count": 42,
   "metadata": {},
   "outputs": [],
   "source": [
    "merged_candidates_df.to_parquet('./candidates/merged_candidates_test.parquet', engine='pyarrow')"
   ]
  }
 ],
 "metadata": {
  "kernelspec": {
   "display_name": "torch12",
   "language": "python",
   "name": "python3"
  },
  "language_info": {
   "codemirror_mode": {
    "name": "ipython",
    "version": 3
   },
   "file_extension": ".py",
   "mimetype": "text/x-python",
   "name": "python",
   "nbconvert_exporter": "python",
   "pygments_lexer": "ipython3",
   "version": "3.9.16"
  },
  "orig_nbformat": 4
 },
 "nbformat": 4,
 "nbformat_minor": 2
}
