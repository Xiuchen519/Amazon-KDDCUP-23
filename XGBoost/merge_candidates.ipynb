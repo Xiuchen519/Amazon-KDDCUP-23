{
 "cells": [
  {
   "cell_type": "code",
   "execution_count": 1,
   "metadata": {},
   "outputs": [
    {
     "name": "stderr",
     "output_type": "stream",
     "text": [
      "/root/autodl-tmp/xiaolong/anaconda3/envs/torch12/lib/python3.9/site-packages/tqdm/auto.py:22: TqdmWarning: IProgress not found. Please update jupyter and ipywidgets. See https://ipywidgets.readthedocs.io/en/stable/user_install.html\n",
      "  from .autonotebook import tqdm as notebook_tqdm\n"
     ]
    }
   ],
   "source": [
    "import os\n",
    "import random\n",
    "import numpy as np\n",
    "import pandas as pd\n",
    "import cudf, itertools\n",
    "import scipy.sparse as ssp\n",
    "from functools import lru_cache, partial\n",
    "from tqdm import tqdm, trange\n",
    "from collections import Counter, defaultdict\n",
    "import datasets\n",
    "from datasets import Dataset as TFDataset\n",
    "import copy"
   ]
  },
  {
   "cell_type": "code",
   "execution_count": 2,
   "metadata": {},
   "outputs": [],
   "source": [
    "def cast_dtype(df : pd.DataFrame):\n",
    "    for k in df.columns:\n",
    "        dt = type(df[k].iloc[0])\n",
    "        if 'float' in str(dt):\n",
    "            df[k] = df[k].astype('float32')\n",
    "        elif 'int' in str(dt):\n",
    "            df[k] = df[k].astype('int32')\n",
    "        elif dt == list:\n",
    "            dt_ = type(df.iloc[0][k][0])\n",
    "            if 'float' in str(dt_):\n",
    "                df[k] = df[k].apply(lambda x : np.array(x, dtype=np.float32))\n",
    "            elif 'int' in str(dt_):\n",
    "                df[k] = df[k].apply(lambda x : np.array(x, dtype=np.int32))"
   ]
  },
  {
   "cell_type": "code",
   "execution_count": 3,
   "metadata": {},
   "outputs": [],
   "source": [
    "def merge_candidates(session_df, candidates_df_list, test=False):\n",
    "    sess_id_list = []\n",
    "    sess_locale_list = []\n",
    "    product_list = []\n",
    "    target_list = []\n",
    "    for i in tqdm(range(session_df.shape[0])):\n",
    "        sess_id = i\n",
    "        sess_locale = session_df.iloc[i]['locale']\n",
    "        if not test:\n",
    "            sess_next_item = session_df.iloc[i]['next_item']\n",
    "\n",
    "        candidates_set_list = [set(x.iloc[i]['candidates']) for x in candidates_df_list]\n",
    "        candidates_set = candidates_set_list[0]\n",
    "        for x in candidates_set_list[1:]:\n",
    "            candidates_set = candidates_set.union(x)\n",
    "        cur_product_list = list(candidates_set)\n",
    "        cur_sess_id_list = [sess_id for _ in range(len(cur_product_list))]\n",
    "        cur_sess_locale_list = [sess_locale for _ in range(len(cur_product_list))]\n",
    "        if not test:\n",
    "            cur_target_list = (np.array(cur_product_list) == sess_next_item).astype(np.float32).tolist()\n",
    "\n",
    "        for j in range(len(cur_product_list)):\n",
    "            sess_id_list.append(cur_sess_id_list[j])\n",
    "            sess_locale_list.append(cur_sess_locale_list[j])\n",
    "            product_list.append(cur_product_list[j])\n",
    "            if not test:\n",
    "                target_list.append(cur_target_list[j])\n",
    "\n",
    "    df_dict = {'sess_id' : sess_id_list, 'sess_locale' : sess_locale_list, 'product' : product_list}\n",
    "    if not test: \n",
    "        df_dict['target'] = target_list\n",
    "    return pd.DataFrame(df_dict)"
   ]
  },
  {
   "cell_type": "code",
   "execution_count": 4,
   "metadata": {},
   "outputs": [],
   "source": [
    "def get_sessions(df: pd.DataFrame, test=False, list_item=False) -> list:\n",
    "    \n",
    "    all_item = []\n",
    "    if 'next_item' in df and not test:\n",
    "        if list_item:\n",
    "            for i in trange(len(df)):\n",
    "                all_item.append(np.concatenate([np.array(df.loc[i, 'prev_items']), np.array(df.loc[i, 'next_item'])], axis=0))\n",
    "        else:\n",
    "            for i in trange(len(df)):\n",
    "                all_item.append(eval((df.loc[i, 'prev_items'][:-1]+f\" '{df.loc[i, 'next_item']}']\").replace(\" \", \",\")))\n",
    "    else:\n",
    "        if list_item:\n",
    "            all_item = df['prev_items']\n",
    "        else:\n",
    "            for i in trange(len(df)):\n",
    "                all_item.append(eval((df.loc[i, 'prev_items']).replace(\" \", \",\")))\n",
    "    return all_item"
   ]
  },
  {
   "cell_type": "code",
   "execution_count": 5,
   "metadata": {},
   "outputs": [],
   "source": [
    "def get_co_occurence_dict(sessions: list, bidirection: bool=True, weighted: bool=False, max_dis=None) -> dict:\n",
    "    res = {}\n",
    "    for sess in tqdm(sessions):\n",
    "        for i, id in enumerate(sess):\n",
    "            if id not in res:\n",
    "                res[id] = Counter()\n",
    "            \n",
    "            if max_dis == None:\n",
    "                e = len(sess)\n",
    "            else:\n",
    "                e = min(i + max_dis + 1, len(sess))\n",
    "\n",
    "            for j in range(i+1, e):\n",
    "                if not weighted:\n",
    "                    res[id][sess[j]] += 1\n",
    "                else:\n",
    "                    res[id][sess[j]] += 1 / (j-i)\n",
    "                if bidirection:\n",
    "                    if sess[j] not in res:\n",
    "                        res[sess[j]] = Counter()\n",
    "                    if not weighted:\n",
    "                        res[sess[j]][id] += 1\n",
    "                    else:\n",
    "                        res[sess[j]][id] += 1 / (j-i)\n",
    "    return res"
   ]
  },
  {
   "cell_type": "code",
   "execution_count": 6,
   "metadata": {},
   "outputs": [],
   "source": [
    "def merge_candidates(session_df, candidates_df_list, test=False):\n",
    "    sess_id_list = []\n",
    "    sess_locale_list = []\n",
    "    product_list = []\n",
    "    target_list = []\n",
    "    for i in tqdm(range(session_df.shape[0])):\n",
    "        sess_id = i\n",
    "        sess_locale = session_df.iloc[i]['locale']\n",
    "        if not test:\n",
    "            sess_next_item = session_df.iloc[i]['next_item']\n",
    "\n",
    "        candidates_set_list = [set(x.iloc[i]['candidates']) for x in candidates_df_list]\n",
    "        candidates_set = candidates_set_list[0]\n",
    "        for x in candidates_set_list[1:]:\n",
    "            candidates_set = candidates_set.union(x)\n",
    "        cur_product_list = list(candidates_set)\n",
    "        cur_sess_id_list = [sess_id for _ in range(len(cur_product_list))]\n",
    "        cur_sess_locale_list = [sess_locale for _ in range(len(cur_product_list))]\n",
    "        if not test:\n",
    "            cur_target_list = (np.array(cur_product_list) == sess_next_item).astype(np.float32).tolist()\n",
    "\n",
    "        for j in range(len(cur_product_list)):\n",
    "            sess_id_list.append(cur_sess_id_list[j])\n",
    "            sess_locale_list.append(cur_sess_locale_list[j])\n",
    "            product_list.append(cur_product_list[j])\n",
    "            if not test:\n",
    "                target_list.append(cur_target_list[j])\n",
    "\n",
    "    df_dict = {'sess_id' : sess_id_list, 'sess_locale' : sess_locale_list, 'product' : product_list}\n",
    "    if not test: \n",
    "        df_dict['target'] = target_list\n",
    "    return pd.DataFrame(df_dict)"
   ]
  },
  {
   "attachments": {},
   "cell_type": "markdown",
   "metadata": {},
   "source": [
    "# Merge Validation Candidates"
   ]
  },
  {
   "cell_type": "code",
   "execution_count": 7,
   "metadata": {},
   "outputs": [],
   "source": [
    "train_sessions_path = '/root/autodl-tmp/xiaolong/WorkSpace/Amazon-KDDCUP-23/data_for_recstudio/task1_data/task13_4_task1_train_sessions_phase2.csv'\n",
    "valid_sessions_path = '/root/autodl-tmp/xiaolong/WorkSpace/Amazon-KDDCUP-23/data_for_recstudio/task1_data/task13_4_task1_valid_sessions_phase2.csv'\n",
    "sasrec_valid_candidates_path = '/root/autodl-tmp/xiaolong/WorkSpace/Amazon-KDDCUP-23/candidates_phase2/SASRec/valid_top300_sasrec0531.parquet'\n",
    "roberta_valid_candidates_path = '/root/autodl-tmp/xiaolong/WorkSpace/Amazon-KDDCUP-23/candidates_phase2/roberta/phase2_task1_valid_300_filtered.parquet'\n",
    "product_data_path = '/root/autodl-tmp/xiaolong/WorkSpace/Amazon-KDDCUP-23/data_for_recstudio/products_train.csv'"
   ]
  },
  {
   "cell_type": "code",
   "execution_count": 8,
   "metadata": {},
   "outputs": [],
   "source": [
    "@lru_cache(maxsize=1)\n",
    "def read_train_sessions():\n",
    "    return pd.read_csv(train_sessions_path)\n",
    "\n",
    "@lru_cache(maxsize=1)\n",
    "def read_valid_sessions():\n",
    "    return pd.read_csv(valid_sessions_path)\n",
    "\n",
    "@lru_cache(maxsize=1)\n",
    "def read_sasrec_valid_candidates():\n",
    "    return pd.read_parquet(sasrec_valid_candidates_path, engine='pyarrow')\n",
    "\n",
    "lru_cache(maxsize=1)\n",
    "def read_roberta_valid_candidates():\n",
    "    return pd.read_parquet(roberta_valid_candidates_path, engine='pyarrow')\n",
    "\n",
    "@lru_cache(maxsize=1)\n",
    "def read_product_data():\n",
    "    return pd.read_csv(product_data_path)"
   ]
  },
  {
   "cell_type": "code",
   "execution_count": 9,
   "metadata": {},
   "outputs": [],
   "source": [
    "train_sessions = read_train_sessions()\n",
    "valid_sessions = read_valid_sessions()\n",
    "sasrec_valid_candidates = read_sasrec_valid_candidates()\n",
    "roberta_valid_candidates = read_roberta_valid_candidates()\n",
    "product_data = read_product_data()"
   ]
  },
  {
   "cell_type": "code",
   "execution_count": 10,
   "metadata": {},
   "outputs": [
    {
     "data": {
      "text/html": [
       "<div>\n",
       "<style scoped>\n",
       "    .dataframe tbody tr th:only-of-type {\n",
       "        vertical-align: middle;\n",
       "    }\n",
       "\n",
       "    .dataframe tbody tr th {\n",
       "        vertical-align: top;\n",
       "    }\n",
       "\n",
       "    .dataframe thead th {\n",
       "        text-align: right;\n",
       "    }\n",
       "</style>\n",
       "<table border=\"1\" class=\"dataframe\">\n",
       "  <thead>\n",
       "    <tr style=\"text-align: right;\">\n",
       "      <th></th>\n",
       "      <th>next_item_prediction</th>\n",
       "      <th>locale</th>\n",
       "    </tr>\n",
       "  </thead>\n",
       "  <tbody>\n",
       "    <tr>\n",
       "      <th>0</th>\n",
       "      <td>[B09BNV7PBF, B08G56GFCV, B09BNW36Z2, B09Y96L4C...</td>\n",
       "      <td>DE</td>\n",
       "    </tr>\n",
       "    <tr>\n",
       "      <th>1</th>\n",
       "      <td>[B0BGJCMQ5H, B08L9CHW69, B08TLR9773, B0BHJKVMB...</td>\n",
       "      <td>DE</td>\n",
       "    </tr>\n",
       "    <tr>\n",
       "      <th>2</th>\n",
       "      <td>[B0B77KWZ7B, B0B77KRD1Q, B0B77M9DVM, B0B77PGVM...</td>\n",
       "      <td>DE</td>\n",
       "    </tr>\n",
       "    <tr>\n",
       "      <th>3</th>\n",
       "      <td>[B0B9FYSBC9, B093F6V982, B01G7PUCZE, B085L9FT7...</td>\n",
       "      <td>DE</td>\n",
       "    </tr>\n",
       "    <tr>\n",
       "      <th>4</th>\n",
       "      <td>[B0B7XBPC69, B09FT8ZVR7, B07FSQ6BGV, B0B2W3P3L...</td>\n",
       "      <td>DE</td>\n",
       "    </tr>\n",
       "    <tr>\n",
       "      <th>...</th>\n",
       "      <td>...</td>\n",
       "      <td>...</td>\n",
       "    </tr>\n",
       "    <tr>\n",
       "      <th>261811</th>\n",
       "      <td>[B0B256HNBW, B0B24SG4YR, B09213J1RM, B091ZZ6VR...</td>\n",
       "      <td>UK</td>\n",
       "    </tr>\n",
       "    <tr>\n",
       "      <th>261812</th>\n",
       "      <td>[B09RN57T97, B09DLCDML9, B07RGVSD61, B078H22NB...</td>\n",
       "      <td>UK</td>\n",
       "    </tr>\n",
       "    <tr>\n",
       "      <th>261813</th>\n",
       "      <td>[B07D37YF4W, B09TPS3DZ2, B07D395945, B082DGC1K...</td>\n",
       "      <td>UK</td>\n",
       "    </tr>\n",
       "    <tr>\n",
       "      <th>261814</th>\n",
       "      <td>[B07C9LQJFF, B073Q4XMXS, B00L2ILKUI, B01M1HF9M...</td>\n",
       "      <td>UK</td>\n",
       "    </tr>\n",
       "    <tr>\n",
       "      <th>261815</th>\n",
       "      <td>[B08XQQ55CT, B011QFZ9DK, B011414I0Q, B073D1Y4K...</td>\n",
       "      <td>UK</td>\n",
       "    </tr>\n",
       "  </tbody>\n",
       "</table>\n",
       "<p>261816 rows × 2 columns</p>\n",
       "</div>"
      ],
      "text/plain": [
       "                                     next_item_prediction locale\n",
       "0       [B09BNV7PBF, B08G56GFCV, B09BNW36Z2, B09Y96L4C...     DE\n",
       "1       [B0BGJCMQ5H, B08L9CHW69, B08TLR9773, B0BHJKVMB...     DE\n",
       "2       [B0B77KWZ7B, B0B77KRD1Q, B0B77M9DVM, B0B77PGVM...     DE\n",
       "3       [B0B9FYSBC9, B093F6V982, B01G7PUCZE, B085L9FT7...     DE\n",
       "4       [B0B7XBPC69, B09FT8ZVR7, B07FSQ6BGV, B0B2W3P3L...     DE\n",
       "...                                                   ...    ...\n",
       "261811  [B0B256HNBW, B0B24SG4YR, B09213J1RM, B091ZZ6VR...     UK\n",
       "261812  [B09RN57T97, B09DLCDML9, B07RGVSD61, B078H22NB...     UK\n",
       "261813  [B07D37YF4W, B09TPS3DZ2, B07D395945, B082DGC1K...     UK\n",
       "261814  [B07C9LQJFF, B073Q4XMXS, B00L2ILKUI, B01M1HF9M...     UK\n",
       "261815  [B08XQQ55CT, B011QFZ9DK, B011414I0Q, B073D1Y4K...     UK\n",
       "\n",
       "[261816 rows x 2 columns]"
      ]
     },
     "execution_count": 10,
     "metadata": {},
     "output_type": "execute_result"
    }
   ],
   "source": [
    "sasrec_valid_candidates"
   ]
  },
  {
   "cell_type": "code",
   "execution_count": 11,
   "metadata": {},
   "outputs": [
    {
     "data": {
      "text/html": [
       "<div>\n",
       "<style scoped>\n",
       "    .dataframe tbody tr th:only-of-type {\n",
       "        vertical-align: middle;\n",
       "    }\n",
       "\n",
       "    .dataframe tbody tr th {\n",
       "        vertical-align: top;\n",
       "    }\n",
       "\n",
       "    .dataframe thead th {\n",
       "        text-align: right;\n",
       "    }\n",
       "</style>\n",
       "<table border=\"1\" class=\"dataframe\">\n",
       "  <thead>\n",
       "    <tr style=\"text-align: right;\">\n",
       "      <th></th>\n",
       "      <th>next_item_prediction</th>\n",
       "      <th>sess_id</th>\n",
       "    </tr>\n",
       "  </thead>\n",
       "  <tbody>\n",
       "    <tr>\n",
       "      <th>0</th>\n",
       "      <td>[B09BNV7PBF, B09BNXMFCT, B07W6Q951M, B09BNVXRZ...</td>\n",
       "      <td>0</td>\n",
       "    </tr>\n",
       "    <tr>\n",
       "      <th>1</th>\n",
       "      <td>[B0B82B3NRZ, B0B25PXM6S, B00E383IRC, B0B829WLD...</td>\n",
       "      <td>1</td>\n",
       "    </tr>\n",
       "    <tr>\n",
       "      <th>2</th>\n",
       "      <td>[B0B77NDDG1, B0B77KVDYG, B0B77PJJ8Z, B0B77PG2K...</td>\n",
       "      <td>2</td>\n",
       "    </tr>\n",
       "    <tr>\n",
       "      <th>3</th>\n",
       "      <td>[B077PL86PP, B08NPHSB2F, B0B1DBR6T5, B01G7PQ7L...</td>\n",
       "      <td>3</td>\n",
       "    </tr>\n",
       "    <tr>\n",
       "      <th>4</th>\n",
       "      <td>[B07SW3YYTQ, B0B3GGVMR7, B09G6MBTS7, B0B2W3P3L...</td>\n",
       "      <td>4</td>\n",
       "    </tr>\n",
       "    <tr>\n",
       "      <th>...</th>\n",
       "      <td>...</td>\n",
       "      <td>...</td>\n",
       "    </tr>\n",
       "    <tr>\n",
       "      <th>261811</th>\n",
       "      <td>[B01DY36JF4, B0835DXMY6, B08CD8KPRG, B094VLF9Q...</td>\n",
       "      <td>261811</td>\n",
       "    </tr>\n",
       "    <tr>\n",
       "      <th>261812</th>\n",
       "      <td>[B09G9GZTHD, B0BB1ZJMY2, B09G9J91CZ, B09WDDYCS...</td>\n",
       "      <td>261812</td>\n",
       "    </tr>\n",
       "    <tr>\n",
       "      <th>261813</th>\n",
       "      <td>[B084LL85L6, B08Z9Y379G, B0B3JK6V8T, B09TPT35W...</td>\n",
       "      <td>261813</td>\n",
       "    </tr>\n",
       "    <tr>\n",
       "      <th>261814</th>\n",
       "      <td>[B073Q4XMXS, B0076126L2, B07B5GXS45, B00AGG3MZ...</td>\n",
       "      <td>261814</td>\n",
       "    </tr>\n",
       "    <tr>\n",
       "      <th>261815</th>\n",
       "      <td>[B0037LK0EU, B01M4LGLVU, B07VJCN496, B075BFHB5...</td>\n",
       "      <td>261815</td>\n",
       "    </tr>\n",
       "  </tbody>\n",
       "</table>\n",
       "<p>261816 rows × 2 columns</p>\n",
       "</div>"
      ],
      "text/plain": [
       "                                     next_item_prediction  sess_id\n",
       "0       [B09BNV7PBF, B09BNXMFCT, B07W6Q951M, B09BNVXRZ...        0\n",
       "1       [B0B82B3NRZ, B0B25PXM6S, B00E383IRC, B0B829WLD...        1\n",
       "2       [B0B77NDDG1, B0B77KVDYG, B0B77PJJ8Z, B0B77PG2K...        2\n",
       "3       [B077PL86PP, B08NPHSB2F, B0B1DBR6T5, B01G7PQ7L...        3\n",
       "4       [B07SW3YYTQ, B0B3GGVMR7, B09G6MBTS7, B0B2W3P3L...        4\n",
       "...                                                   ...      ...\n",
       "261811  [B01DY36JF4, B0835DXMY6, B08CD8KPRG, B094VLF9Q...   261811\n",
       "261812  [B09G9GZTHD, B0BB1ZJMY2, B09G9J91CZ, B09WDDYCS...   261812\n",
       "261813  [B084LL85L6, B08Z9Y379G, B0B3JK6V8T, B09TPT35W...   261813\n",
       "261814  [B073Q4XMXS, B0076126L2, B07B5GXS45, B00AGG3MZ...   261814\n",
       "261815  [B0037LK0EU, B01M4LGLVU, B07VJCN496, B075BFHB5...   261815\n",
       "\n",
       "[261816 rows x 2 columns]"
      ]
     },
     "execution_count": 11,
     "metadata": {},
     "output_type": "execute_result"
    }
   ],
   "source": [
    "roberta_valid_candidates['sess_id'] = np.arange(roberta_valid_candidates.shape[0])\n",
    "roberta_valid_candidates"
   ]
  },
  {
   "attachments": {},
   "cell_type": "markdown",
   "metadata": {},
   "source": [
    "## get co-graph candidates"
   ]
  },
  {
   "cell_type": "code",
   "execution_count": null,
   "metadata": {},
   "outputs": [],
   "source": [
    "train_sess_item = get_sessions(train_sessions, list_item=False)\n",
    "valid_sess_item = get_sessions(valid_sessions, test=True, list_item=False)"
   ]
  },
  {
   "cell_type": "code",
   "execution_count": null,
   "metadata": {},
   "outputs": [
    {
     "name": "stderr",
     "output_type": "stream",
     "text": [
      "100%|██████████| 3010900/3010900 [01:48<00:00, 27653.33it/s]\n"
     ]
    }
   ],
   "source": [
    "# valid sessions are included in train sessions \n",
    "co_occurence_dict_bi = get_co_occurence_dict(train_sess_item, bidirection=True, weighted=False)"
   ]
  },
  {
   "cell_type": "code",
   "execution_count": null,
   "metadata": {},
   "outputs": [],
   "source": [
    "valid_co_graph_candidates_dataset = TFDataset.from_dict({'sess_id' : list(range(len(valid_sessions)))})"
   ]
  },
  {
   "cell_type": "code",
   "execution_count": null,
   "metadata": {},
   "outputs": [],
   "source": [
    "def get_valid_session_co_graph_candidates(sess_id_example):\n",
    "    sess = valid_sess_item[sess_id_example['sess_id']]\n",
    "    prev_items = set()\n",
    "    cand_counter = Counter()\n",
    "    for item in sess:\n",
    "        if item in co_occurence_dict_bi and item not in prev_items:\n",
    "            cand_counter = cand_counter + co_occurence_dict_bi[item]\n",
    "            prev_items.add(item) # one time for every item\n",
    "    for item in sess:\n",
    "        if item in cand_counter:\n",
    "            cand_counter.pop(item) # remove history items \n",
    "    if len(cand_counter) > 0:\n",
    "        candidates, _ = zip(*cand_counter.most_common(100))\n",
    "    else:\n",
    "        candidates = []\n",
    "    return {'co_graph_candidates' : candidates}"
   ]
  },
  {
   "cell_type": "code",
   "execution_count": null,
   "metadata": {},
   "outputs": [
    {
     "name": "stderr",
     "output_type": "stream",
     "text": [
      "Parameter 'function'=<function get_valid_session_co_graph_candidates at 0x7f877a5ca3a0> of the transform datasets.arrow_dataset.Dataset._map_single couldn't be hashed properly, a random hash was used instead. Make sure your transforms and parameters are serializable with pickle or dill for the dataset fingerprinting and caching to work. If you reuse this transform, the caching mechanism will consider it to be different from the previous calls and recompute everything. This warning is only showed once. Subsequent hashing failures won't be showed.\n"
     ]
    }
   ],
   "source": [
    "# about 1 mins\n",
    "datasets.set_progress_bar_enabled(False)\n",
    "valid_co_graph_candidates_dataset = valid_co_graph_candidates_dataset.map(get_valid_session_co_graph_candidates, num_proc=8, batched=False)\n",
    "datasets.set_progress_bar_enabled(True)"
   ]
  },
  {
   "cell_type": "code",
   "execution_count": null,
   "metadata": {},
   "outputs": [],
   "source": [
    "valid_co_graph_candidates = valid_co_graph_candidates_dataset['co_graph_candidates']"
   ]
  },
  {
   "cell_type": "code",
   "execution_count": null,
   "metadata": {},
   "outputs": [
    {
     "data": {
      "text/html": [
       "<div>\n",
       "<style scoped>\n",
       "    .dataframe tbody tr th:only-of-type {\n",
       "        vertical-align: middle;\n",
       "    }\n",
       "\n",
       "    .dataframe tbody tr th {\n",
       "        vertical-align: top;\n",
       "    }\n",
       "\n",
       "    .dataframe thead th {\n",
       "        text-align: right;\n",
       "    }\n",
       "</style>\n",
       "<table border=\"1\" class=\"dataframe\">\n",
       "  <thead>\n",
       "    <tr style=\"text-align: right;\">\n",
       "      <th></th>\n",
       "      <th>sess_id</th>\n",
       "      <th>candidates</th>\n",
       "    </tr>\n",
       "  </thead>\n",
       "  <tbody>\n",
       "    <tr>\n",
       "      <th>0</th>\n",
       "      <td>0</td>\n",
       "      <td>[B09YQSGV9B, B09BNV7PBF, B09QFP8FNZ, B09BNSD7G...</td>\n",
       "    </tr>\n",
       "    <tr>\n",
       "      <th>1</th>\n",
       "      <td>1</td>\n",
       "      <td>[B07CZ4DLCP, B09C7BRP5Y, B08TLR9773, B09C6RTP2...</td>\n",
       "    </tr>\n",
       "    <tr>\n",
       "      <th>2</th>\n",
       "      <td>2</td>\n",
       "      <td>[B0B77KWZ7B, B0B77PGVM9, B0B77M9DVM, B0B77KRD1...</td>\n",
       "    </tr>\n",
       "    <tr>\n",
       "      <th>3</th>\n",
       "      <td>3</td>\n",
       "      <td>[B0B9FYSBC9, B09QLGKG6M, B09HN456ZN, B0B8VM7QK...</td>\n",
       "    </tr>\n",
       "    <tr>\n",
       "      <th>4</th>\n",
       "      <td>4</td>\n",
       "      <td>[B09ZXYVP4Q, B09WDC1S17, B09WDCD4FT, B09ZYC44S...</td>\n",
       "    </tr>\n",
       "    <tr>\n",
       "      <th>...</th>\n",
       "      <td>...</td>\n",
       "      <td>...</td>\n",
       "    </tr>\n",
       "    <tr>\n",
       "      <th>261811</th>\n",
       "      <td>261811</td>\n",
       "      <td>[B0B256HNBW, B094VJV3PS, B0B24SG4YR, B08CD8KPR...</td>\n",
       "    </tr>\n",
       "    <tr>\n",
       "      <th>261812</th>\n",
       "      <td>261812</td>\n",
       "      <td>[B09Y52VXK5, B09RN57T97, B0B2KQQWSG, B07RNLDLR...</td>\n",
       "    </tr>\n",
       "    <tr>\n",
       "      <th>261813</th>\n",
       "      <td>261813</td>\n",
       "      <td>[B07D395945, B07D38HKCS, B0B92VZXP4, B09TPR7B7...</td>\n",
       "    </tr>\n",
       "    <tr>\n",
       "      <th>261814</th>\n",
       "      <td>261814</td>\n",
       "      <td>[B084V9PP9B, B073Q4XMXS, B075DFHSW6, B07C9LQJF...</td>\n",
       "    </tr>\n",
       "    <tr>\n",
       "      <th>261815</th>\n",
       "      <td>261815</td>\n",
       "      <td>[B08XQQ55CT, B011QFZ9DK, B0B77ZGQZ4, B008OFRQZ...</td>\n",
       "    </tr>\n",
       "  </tbody>\n",
       "</table>\n",
       "<p>261816 rows × 2 columns</p>\n",
       "</div>"
      ],
      "text/plain": [
       "        sess_id                                         candidates\n",
       "0             0  [B09YQSGV9B, B09BNV7PBF, B09QFP8FNZ, B09BNSD7G...\n",
       "1             1  [B07CZ4DLCP, B09C7BRP5Y, B08TLR9773, B09C6RTP2...\n",
       "2             2  [B0B77KWZ7B, B0B77PGVM9, B0B77M9DVM, B0B77KRD1...\n",
       "3             3  [B0B9FYSBC9, B09QLGKG6M, B09HN456ZN, B0B8VM7QK...\n",
       "4             4  [B09ZXYVP4Q, B09WDC1S17, B09WDCD4FT, B09ZYC44S...\n",
       "...         ...                                                ...\n",
       "261811   261811  [B0B256HNBW, B094VJV3PS, B0B24SG4YR, B08CD8KPR...\n",
       "261812   261812  [B09Y52VXK5, B09RN57T97, B0B2KQQWSG, B07RNLDLR...\n",
       "261813   261813  [B07D395945, B07D38HKCS, B0B92VZXP4, B09TPR7B7...\n",
       "261814   261814  [B084V9PP9B, B073Q4XMXS, B075DFHSW6, B07C9LQJF...\n",
       "261815   261815  [B08XQQ55CT, B011QFZ9DK, B0B77ZGQZ4, B008OFRQZ...\n",
       "\n",
       "[261816 rows x 2 columns]"
      ]
     },
     "execution_count": 18,
     "metadata": {},
     "output_type": "execute_result"
    }
   ],
   "source": [
    "co_graph_valid_candidates = pd.DataFrame({'sess_id' : list(range(len(valid_sessions))), 'candidates' : valid_co_graph_candidates})\n",
    "co_graph_valid_candidates"
   ]
  },
  {
   "cell_type": "code",
   "execution_count": null,
   "metadata": {},
   "outputs": [],
   "source": [
    "def get_valid_session_co_graph_candidates_150(sess_id_example):\n",
    "    sess = valid_sess_item[sess_id_example['sess_id']]\n",
    "    prev_items = set()\n",
    "    cand_counter = Counter()\n",
    "    for item in sess:\n",
    "        if item in co_occurence_dict_bi and item not in prev_items:\n",
    "            cand_counter = cand_counter + co_occurence_dict_bi[item]\n",
    "            prev_items.add(item) # one time for every item\n",
    "    for item in sess:\n",
    "        if item in cand_counter:\n",
    "            cand_counter.pop(item) # remove history items \n",
    "    if len(cand_counter) > 0:\n",
    "        candidates, _ = zip(*cand_counter.most_common(150))\n",
    "    else:\n",
    "        candidates = []\n",
    "    return {'co_graph_candidates' : candidates}"
   ]
  },
  {
   "cell_type": "code",
   "execution_count": null,
   "metadata": {},
   "outputs": [],
   "source": [
    "# about 1 mins\n",
    "datasets.set_progress_bar_enabled(False)\n",
    "valid_co_graph_candidates_150_dataset = valid_co_graph_candidates_dataset.map(get_valid_session_co_graph_candidates_150, num_proc=8, batched=False)\n",
    "datasets.set_progress_bar_enabled(True)"
   ]
  },
  {
   "cell_type": "code",
   "execution_count": null,
   "metadata": {},
   "outputs": [],
   "source": [
    "valid_co_graph_candidates_150 = valid_co_graph_candidates_150_dataset['co_graph_candidates']"
   ]
  },
  {
   "cell_type": "code",
   "execution_count": null,
   "metadata": {},
   "outputs": [
    {
     "data": {
      "text/html": [
       "<div>\n",
       "<style scoped>\n",
       "    .dataframe tbody tr th:only-of-type {\n",
       "        vertical-align: middle;\n",
       "    }\n",
       "\n",
       "    .dataframe tbody tr th {\n",
       "        vertical-align: top;\n",
       "    }\n",
       "\n",
       "    .dataframe thead th {\n",
       "        text-align: right;\n",
       "    }\n",
       "</style>\n",
       "<table border=\"1\" class=\"dataframe\">\n",
       "  <thead>\n",
       "    <tr style=\"text-align: right;\">\n",
       "      <th></th>\n",
       "      <th>sess_id</th>\n",
       "      <th>candidates</th>\n",
       "    </tr>\n",
       "  </thead>\n",
       "  <tbody>\n",
       "    <tr>\n",
       "      <th>0</th>\n",
       "      <td>0</td>\n",
       "      <td>[B09YQSGV9B, B09BNV7PBF, B09QFP8FNZ, B09BNSD7G...</td>\n",
       "    </tr>\n",
       "    <tr>\n",
       "      <th>1</th>\n",
       "      <td>1</td>\n",
       "      <td>[B07CZ4DLCP, B09C7BRP5Y, B08TLR9773, B09C6RTP2...</td>\n",
       "    </tr>\n",
       "    <tr>\n",
       "      <th>2</th>\n",
       "      <td>2</td>\n",
       "      <td>[B0B77KWZ7B, B0B77PGVM9, B0B77M9DVM, B0B77KRD1...</td>\n",
       "    </tr>\n",
       "    <tr>\n",
       "      <th>3</th>\n",
       "      <td>3</td>\n",
       "      <td>[B0B9FYSBC9, B09QLGKG6M, B09HN456ZN, B0B8VM7QK...</td>\n",
       "    </tr>\n",
       "    <tr>\n",
       "      <th>4</th>\n",
       "      <td>4</td>\n",
       "      <td>[B09ZXYVP4Q, B09WDC1S17, B09WDCD4FT, B09ZYC44S...</td>\n",
       "    </tr>\n",
       "    <tr>\n",
       "      <th>...</th>\n",
       "      <td>...</td>\n",
       "      <td>...</td>\n",
       "    </tr>\n",
       "    <tr>\n",
       "      <th>261811</th>\n",
       "      <td>261811</td>\n",
       "      <td>[B0B256HNBW, B094VJV3PS, B0B24SG4YR, B08CD8KPR...</td>\n",
       "    </tr>\n",
       "    <tr>\n",
       "      <th>261812</th>\n",
       "      <td>261812</td>\n",
       "      <td>[B09Y52VXK5, B09RN57T97, B0B2KQQWSG, B07RNLDLR...</td>\n",
       "    </tr>\n",
       "    <tr>\n",
       "      <th>261813</th>\n",
       "      <td>261813</td>\n",
       "      <td>[B07D395945, B07D38HKCS, B0B92VZXP4, B09TPR7B7...</td>\n",
       "    </tr>\n",
       "    <tr>\n",
       "      <th>261814</th>\n",
       "      <td>261814</td>\n",
       "      <td>[B084V9PP9B, B073Q4XMXS, B075DFHSW6, B07C9LQJF...</td>\n",
       "    </tr>\n",
       "    <tr>\n",
       "      <th>261815</th>\n",
       "      <td>261815</td>\n",
       "      <td>[B08XQQ55CT, B011QFZ9DK, B0B77ZGQZ4, B008OFRQZ...</td>\n",
       "    </tr>\n",
       "  </tbody>\n",
       "</table>\n",
       "<p>261816 rows × 2 columns</p>\n",
       "</div>"
      ],
      "text/plain": [
       "        sess_id                                         candidates\n",
       "0             0  [B09YQSGV9B, B09BNV7PBF, B09QFP8FNZ, B09BNSD7G...\n",
       "1             1  [B07CZ4DLCP, B09C7BRP5Y, B08TLR9773, B09C6RTP2...\n",
       "2             2  [B0B77KWZ7B, B0B77PGVM9, B0B77M9DVM, B0B77KRD1...\n",
       "3             3  [B0B9FYSBC9, B09QLGKG6M, B09HN456ZN, B0B8VM7QK...\n",
       "4             4  [B09ZXYVP4Q, B09WDC1S17, B09WDCD4FT, B09ZYC44S...\n",
       "...         ...                                                ...\n",
       "261811   261811  [B0B256HNBW, B094VJV3PS, B0B24SG4YR, B08CD8KPR...\n",
       "261812   261812  [B09Y52VXK5, B09RN57T97, B0B2KQQWSG, B07RNLDLR...\n",
       "261813   261813  [B07D395945, B07D38HKCS, B0B92VZXP4, B09TPR7B7...\n",
       "261814   261814  [B084V9PP9B, B073Q4XMXS, B075DFHSW6, B07C9LQJF...\n",
       "261815   261815  [B08XQQ55CT, B011QFZ9DK, B0B77ZGQZ4, B008OFRQZ...\n",
       "\n",
       "[261816 rows x 2 columns]"
      ]
     },
     "execution_count": 42,
     "metadata": {},
     "output_type": "execute_result"
    }
   ],
   "source": [
    "co_graph_valid_candidates_150 = pd.DataFrame({'sess_id' : list(range(len(valid_sessions))), 'candidates' : valid_co_graph_candidates_150})"
   ]
  },
  {
   "cell_type": "code",
   "execution_count": null,
   "metadata": {},
   "outputs": [
    {
     "data": {
      "text/plain": [
       "150"
      ]
     },
     "execution_count": 48,
     "metadata": {},
     "output_type": "execute_result"
    }
   ],
   "source": [
    "len(co_graph_valid_candidates_150.iloc[60]['candidates'])"
   ]
  },
  {
   "cell_type": "code",
   "execution_count": 51,
   "metadata": {},
   "outputs": [],
   "source": [
    "def get_valid_session_co_graph_candidates_200(sess_id_example):\n",
    "    sess = valid_sess_item[sess_id_example['sess_id']]\n",
    "    prev_items = set()\n",
    "    cand_counter = Counter()\n",
    "    for item in sess:\n",
    "        if item in co_occurence_dict_bi and item not in prev_items:\n",
    "            cand_counter = cand_counter + co_occurence_dict_bi[item]\n",
    "            prev_items.add(item) # one time for every item\n",
    "    for item in sess:\n",
    "        if item in cand_counter:\n",
    "            cand_counter.pop(item) # remove history items \n",
    "    if len(cand_counter) > 0:\n",
    "        candidates, _ = zip(*cand_counter.most_common(200))\n",
    "    else:\n",
    "        candidates = []\n",
    "    return {'co_graph_candidates' : candidates}"
   ]
  },
  {
   "cell_type": "code",
   "execution_count": 52,
   "metadata": {},
   "outputs": [],
   "source": [
    "# about 1 mins\n",
    "datasets.set_progress_bar_enabled(False)\n",
    "valid_co_graph_candidates_200_dataset = valid_co_graph_candidates_dataset.map(get_valid_session_co_graph_candidates_200, num_proc=8, batched=False)\n",
    "datasets.set_progress_bar_enabled(True)"
   ]
  },
  {
   "cell_type": "code",
   "execution_count": 53,
   "metadata": {},
   "outputs": [],
   "source": [
    "valid_co_graph_candidates_200 = valid_co_graph_candidates_200_dataset['co_graph_candidates']"
   ]
  },
  {
   "cell_type": "code",
   "execution_count": 54,
   "metadata": {},
   "outputs": [],
   "source": [
    "co_graph_valid_candidates_200 = pd.DataFrame({'sess_id' : list(range(len(valid_sessions))), 'candidates' : valid_co_graph_candidates_200})"
   ]
  },
  {
   "cell_type": "code",
   "execution_count": 58,
   "metadata": {},
   "outputs": [
    {
     "data": {
      "text/plain": [
       "200"
      ]
     },
     "execution_count": 58,
     "metadata": {},
     "output_type": "execute_result"
    }
   ],
   "source": [
    "len(co_graph_valid_candidates_200.iloc[100]['candidates'])"
   ]
  },
  {
   "cell_type": "code",
   "execution_count": 19,
   "metadata": {},
   "outputs": [
    {
     "data": {
      "text/plain": [
       "261816"
      ]
     },
     "execution_count": 19,
     "metadata": {},
     "output_type": "execute_result"
    }
   ],
   "source": [
    "len(valid_co_graph_candidates)"
   ]
  },
  {
   "cell_type": "code",
   "execution_count": 23,
   "metadata": {},
   "outputs": [
    {
     "data": {
      "text/plain": [
       "\"['B0BD5JBWKW' 'B09MSFTHDV' 'B0B8291RBN' 'B092VQCBRV' 'B06Y5G959K']\""
      ]
     },
     "execution_count": 23,
     "metadata": {},
     "output_type": "execute_result"
    }
   ],
   "source": [
    "valid_sessions.iloc[1]['prev_items']"
   ]
  },
  {
   "cell_type": "code",
   "execution_count": 20,
   "metadata": {},
   "outputs": [
    {
     "data": {
      "text/plain": [
       "(['B07CZ4DLCP',\n",
       "  'B09C7BRP5Y',\n",
       "  'B08TLR9773',\n",
       "  'B09C6RTP2S',\n",
       "  'B09MSHV8LT',\n",
       "  'B0BGJCMQ5H',\n",
       "  'B0B7JY3GDW',\n",
       "  'B0B829LLGR',\n",
       "  'B0B4BJG9L4',\n",
       "  'B0B8D4CWZ4'],\n",
       " 100)"
      ]
     },
     "execution_count": 20,
     "metadata": {},
     "output_type": "execute_result"
    }
   ],
   "source": [
    "valid_co_graph_candidates[1][:10], len(valid_co_graph_candidates[1])"
   ]
  },
  {
   "cell_type": "code",
   "execution_count": 25,
   "metadata": {},
   "outputs": [
    {
     "data": {
      "text/plain": [
       "6"
      ]
     },
     "execution_count": 25,
     "metadata": {},
     "output_type": "execute_result"
    }
   ],
   "source": [
    "co_occurence_dict_bi['B06Y5G959K']['B09C7BRP5Y']"
   ]
  },
  {
   "attachments": {},
   "cell_type": "markdown",
   "metadata": {},
   "source": [
    "## merge candidates "
   ]
  },
  {
   "cell_type": "code",
   "execution_count": 13,
   "metadata": {},
   "outputs": [
    {
     "data": {
      "text/html": [
       "<div>\n",
       "<style scoped>\n",
       "    .dataframe tbody tr th:only-of-type {\n",
       "        vertical-align: middle;\n",
       "    }\n",
       "\n",
       "    .dataframe tbody tr th {\n",
       "        vertical-align: top;\n",
       "    }\n",
       "\n",
       "    .dataframe thead th {\n",
       "        text-align: right;\n",
       "    }\n",
       "</style>\n",
       "<table border=\"1\" class=\"dataframe\">\n",
       "  <thead>\n",
       "    <tr style=\"text-align: right;\">\n",
       "      <th></th>\n",
       "      <th>prev_items</th>\n",
       "      <th>next_item</th>\n",
       "      <th>locale</th>\n",
       "    </tr>\n",
       "  </thead>\n",
       "  <tbody>\n",
       "    <tr>\n",
       "      <th>0</th>\n",
       "      <td>['B08WX53RJD' 'B09JWGF3X2' 'B09BNTMYR8' 'B0B1M...</td>\n",
       "      <td>B09BNV7PBF</td>\n",
       "      <td>DE</td>\n",
       "    </tr>\n",
       "    <tr>\n",
       "      <th>1</th>\n",
       "      <td>['B0BD5JBWKW' 'B09MSFTHDV' 'B0B8291RBN' 'B092V...</td>\n",
       "      <td>B07CHK4N8S</td>\n",
       "      <td>DE</td>\n",
       "    </tr>\n",
       "    <tr>\n",
       "      <th>2</th>\n",
       "      <td>['B0B77MCDQB' 'B0B77MCDQB']</td>\n",
       "      <td>B0B7J4842S</td>\n",
       "      <td>DE</td>\n",
       "    </tr>\n",
       "    <tr>\n",
       "      <th>3</th>\n",
       "      <td>['B0BDV9S9J7' 'B0B9RQM5WT' 'B0B1VY21F4' 'B0B9R...</td>\n",
       "      <td>B0B2Q5C6ZK</td>\n",
       "      <td>DE</td>\n",
       "    </tr>\n",
       "    <tr>\n",
       "      <th>4</th>\n",
       "      <td>['B09YSZPS3H' 'B09YSZPS3H' 'B09WDBDGBZ' 'B09YS...</td>\n",
       "      <td>B09ZXYVP4Q</td>\n",
       "      <td>DE</td>\n",
       "    </tr>\n",
       "    <tr>\n",
       "      <th>...</th>\n",
       "      <td>...</td>\n",
       "      <td>...</td>\n",
       "      <td>...</td>\n",
       "    </tr>\n",
       "    <tr>\n",
       "      <th>261811</th>\n",
       "      <td>['B08SJWM6L2' 'B08ZKP7Z4T' 'B08SJWM6L2' 'B08CD...</td>\n",
       "      <td>B0B63T163B</td>\n",
       "      <td>UK</td>\n",
       "    </tr>\n",
       "    <tr>\n",
       "      <th>261812</th>\n",
       "      <td>['B07Z1V3WGM' 'B07QQC48FX' 'B07W92D6W5' 'B07KP...</td>\n",
       "      <td>B09CYG11VV</td>\n",
       "      <td>UK</td>\n",
       "    </tr>\n",
       "    <tr>\n",
       "      <th>261813</th>\n",
       "      <td>['B082DGJQCL' 'B09JV3Q5FX' 'B082DGJQCL' 'B082D...</td>\n",
       "      <td>B09PBFBR4L</td>\n",
       "      <td>UK</td>\n",
       "    </tr>\n",
       "    <tr>\n",
       "      <th>261814</th>\n",
       "      <td>['B003KU6GAU' 'B074JDHYCF' 'B003KU6GAU']</td>\n",
       "      <td>B096RVWZCV</td>\n",
       "      <td>UK</td>\n",
       "    </tr>\n",
       "    <tr>\n",
       "      <th>261815</th>\n",
       "      <td>['B075B7X2PZ' 'B0080ZSQKS' 'B0080ZSQKS']</td>\n",
       "      <td>B011414I0Q</td>\n",
       "      <td>UK</td>\n",
       "    </tr>\n",
       "  </tbody>\n",
       "</table>\n",
       "<p>261816 rows × 3 columns</p>\n",
       "</div>"
      ],
      "text/plain": [
       "                                               prev_items   next_item locale\n",
       "0       ['B08WX53RJD' 'B09JWGF3X2' 'B09BNTMYR8' 'B0B1M...  B09BNV7PBF     DE\n",
       "1       ['B0BD5JBWKW' 'B09MSFTHDV' 'B0B8291RBN' 'B092V...  B07CHK4N8S     DE\n",
       "2                             ['B0B77MCDQB' 'B0B77MCDQB']  B0B7J4842S     DE\n",
       "3       ['B0BDV9S9J7' 'B0B9RQM5WT' 'B0B1VY21F4' 'B0B9R...  B0B2Q5C6ZK     DE\n",
       "4       ['B09YSZPS3H' 'B09YSZPS3H' 'B09WDBDGBZ' 'B09YS...  B09ZXYVP4Q     DE\n",
       "...                                                   ...         ...    ...\n",
       "261811  ['B08SJWM6L2' 'B08ZKP7Z4T' 'B08SJWM6L2' 'B08CD...  B0B63T163B     UK\n",
       "261812  ['B07Z1V3WGM' 'B07QQC48FX' 'B07W92D6W5' 'B07KP...  B09CYG11VV     UK\n",
       "261813  ['B082DGJQCL' 'B09JV3Q5FX' 'B082DGJQCL' 'B082D...  B09PBFBR4L     UK\n",
       "261814           ['B003KU6GAU' 'B074JDHYCF' 'B003KU6GAU']  B096RVWZCV     UK\n",
       "261815           ['B075B7X2PZ' 'B0080ZSQKS' 'B0080ZSQKS']  B011414I0Q     UK\n",
       "\n",
       "[261816 rows x 3 columns]"
      ]
     },
     "execution_count": 13,
     "metadata": {},
     "output_type": "execute_result"
    }
   ],
   "source": [
    "valid_sessions"
   ]
  },
  {
   "cell_type": "code",
   "execution_count": null,
   "metadata": {},
   "outputs": [],
   "source": [
    "# make sure that history items are not in candidates set\n",
    "assert 'B07VYSSRL7' not in co_graph_valid_candidates.iloc[2]['candidates']\n",
    "assert 'B01MG55XDR' not in sasrec_valid_candidates.iloc[2]['next_item_prediction']\n",
    "assert 'B01BM9V6H8' not in roberta_valid_candidates.iloc[2]['next_item_prediction']"
   ]
  },
  {
   "cell_type": "code",
   "execution_count": 14,
   "metadata": {},
   "outputs": [],
   "source": [
    "sasrec_valid_candidates_100 = copy.deepcopy(sasrec_valid_candidates)\n",
    "sasrec_valid_candidates_100['candidates'] = sasrec_valid_candidates['next_item_prediction'].apply(lambda x : x[:100])\n",
    "\n",
    "roberta_valid_candidates_100 = copy.deepcopy(roberta_valid_candidates)\n",
    "roberta_valid_candidates_100['candidates'] = roberta_valid_candidates['next_item_prediction'].apply(lambda x : x[:100])"
   ]
  },
  {
   "cell_type": "code",
   "execution_count": 15,
   "metadata": {},
   "outputs": [
    {
     "name": "stderr",
     "output_type": "stream",
     "text": [
      "100%|██████████| 261816/261816 [02:51<00:00, 1522.57it/s]\n"
     ]
    }
   ],
   "source": [
    "merged_candidates_df = merge_candidates(valid_sessions, [sasrec_valid_candidates_100, roberta_valid_candidates_100])"
   ]
  },
  {
   "cell_type": "code",
   "execution_count": 16,
   "metadata": {},
   "outputs": [
    {
     "data": {
      "text/plain": [
       "0.7320217251810431"
      ]
     },
     "execution_count": 16,
     "metadata": {},
     "output_type": "execute_result"
    }
   ],
   "source": [
    "# recall \n",
    "(merged_candidates_df['target'] == 1.0).sum() / (merged_candidates_df['sess_id'].max() + 1)"
   ]
  },
  {
   "cell_type": "code",
   "execution_count": 32,
   "metadata": {},
   "outputs": [
    {
     "name": "stderr",
     "output_type": "stream",
     "text": [
      "100%|██████████| 261816/261816 [03:27<00:00, 1261.58it/s]\n"
     ]
    }
   ],
   "source": [
    "merged_candidates_df = merge_candidates(valid_sessions, [sasrec_valid_candidates_100, roberta_valid_candidates_100, co_graph_valid_candidates])"
   ]
  },
  {
   "cell_type": "code",
   "execution_count": 33,
   "metadata": {},
   "outputs": [
    {
     "data": {
      "text/plain": [
       "0.7416697222476853"
      ]
     },
     "execution_count": 33,
     "metadata": {},
     "output_type": "execute_result"
    }
   ],
   "source": [
    "# recall \n",
    "(merged_candidates_df['target'] == 1.0).sum() / (merged_candidates_df['sess_id'].max() + 1)"
   ]
  },
  {
   "cell_type": "code",
   "execution_count": 65,
   "metadata": {},
   "outputs": [
    {
     "data": {
      "text/plain": [
       "(204.81605020319614, 53624119)"
      ]
     },
     "execution_count": 65,
     "metadata": {},
     "output_type": "execute_result"
    }
   ],
   "source": [
    "len(merged_candidates_df) / (merged_candidates_df['sess_id'].max() + 1), len(merged_candidates_df)"
   ]
  },
  {
   "cell_type": "code",
   "execution_count": 17,
   "metadata": {},
   "outputs": [],
   "source": [
    "sasrec_valid_candidates_150 = copy.deepcopy(sasrec_valid_candidates)\n",
    "sasrec_valid_candidates_150['candidates'] = sasrec_valid_candidates['next_item_prediction'].apply(lambda x : x[:150])\n",
    "\n",
    "roberta_valid_candidates_150 = copy.deepcopy(roberta_valid_candidates)\n",
    "roberta_valid_candidates_150['candidates'] = roberta_valid_candidates['next_item_prediction'].apply(lambda x : x[:150])"
   ]
  },
  {
   "cell_type": "code",
   "execution_count": 18,
   "metadata": {},
   "outputs": [
    {
     "name": "stderr",
     "output_type": "stream",
     "text": [
      "100%|██████████| 261816/261816 [03:19<00:00, 1309.33it/s]\n"
     ]
    },
    {
     "data": {
      "text/plain": [
       "0.7530517615424573"
      ]
     },
     "execution_count": 18,
     "metadata": {},
     "output_type": "execute_result"
    }
   ],
   "source": [
    "merged_candidates_df_150 = merge_candidates(valid_sessions, [sasrec_valid_candidates_150, roberta_valid_candidates_150])\n",
    "# recall \n",
    "(merged_candidates_df_150['target'] == 1.0).sum() / (merged_candidates_df_150['sess_id'].max() + 1)"
   ]
  },
  {
   "cell_type": "code",
   "execution_count": 49,
   "metadata": {},
   "outputs": [
    {
     "name": "stderr",
     "output_type": "stream",
     "text": [
      "100%|██████████| 261816/261816 [04:06<00:00, 1063.62it/s]\n"
     ]
    }
   ],
   "source": [
    "merged_candidates_df_150 = merge_candidates(valid_sessions, [sasrec_valid_candidates_150, roberta_valid_candidates_150, co_graph_valid_candidates_150])"
   ]
  },
  {
   "cell_type": "code",
   "execution_count": 50,
   "metadata": {},
   "outputs": [
    {
     "data": {
      "text/plain": [
       "0.7613629419134048"
      ]
     },
     "execution_count": 50,
     "metadata": {},
     "output_type": "execute_result"
    }
   ],
   "source": [
    "# recall \n",
    "(merged_candidates_df_150['target'] == 1.0).sum() / (merged_candidates_df_150['sess_id'].max() + 1)"
   ]
  },
  {
   "cell_type": "code",
   "execution_count": 66,
   "metadata": {},
   "outputs": [
    {
     "data": {
      "text/plain": [
       "(301.13590842423685, 78842199)"
      ]
     },
     "execution_count": 66,
     "metadata": {},
     "output_type": "execute_result"
    }
   ],
   "source": [
    "len(merged_candidates_df_150) / (merged_candidates_df_150['sess_id'].max() + 1), len(merged_candidates_df_150)"
   ]
  },
  {
   "cell_type": "code",
   "execution_count": 20,
   "metadata": {},
   "outputs": [],
   "source": [
    "sasrec_valid_candidates_200 = copy.deepcopy(sasrec_valid_candidates)\n",
    "sasrec_valid_candidates_200['candidates'] = sasrec_valid_candidates['next_item_prediction'].apply(lambda x : x[:200])\n",
    "\n",
    "roberta_valid_candidates_200 = copy.deepcopy(roberta_valid_candidates)\n",
    "roberta_valid_candidates_200['candidates'] = roberta_valid_candidates['next_item_prediction'].apply(lambda x : x[:200])"
   ]
  },
  {
   "cell_type": "code",
   "execution_count": 21,
   "metadata": {},
   "outputs": [
    {
     "name": "stderr",
     "output_type": "stream",
     "text": [
      "100%|██████████| 261816/261816 [03:54<00:00, 1115.78it/s]\n"
     ]
    },
    {
     "data": {
      "text/plain": [
       "0.7662022183518196"
      ]
     },
     "execution_count": 21,
     "metadata": {},
     "output_type": "execute_result"
    }
   ],
   "source": [
    "merged_candidates_df_200 = merge_candidates(valid_sessions, [sasrec_valid_candidates_200, roberta_valid_candidates_200])\n",
    "# recall \n",
    "(merged_candidates_df_200['target'] == 1.0).sum() / (merged_candidates_df_200['sess_id'].max() + 1)"
   ]
  },
  {
   "cell_type": "code",
   "execution_count": 60,
   "metadata": {},
   "outputs": [
    {
     "name": "stderr",
     "output_type": "stream",
     "text": [
      "100%|██████████| 261816/261816 [09:43<00:00, 448.84it/s]\n"
     ]
    }
   ],
   "source": [
    "merged_candidates_df_200 = merge_candidates(valid_sessions, [sasrec_valid_candidates_200, roberta_valid_candidates_200, co_graph_valid_candidates_200])"
   ]
  },
  {
   "cell_type": "code",
   "execution_count": 61,
   "metadata": {},
   "outputs": [
    {
     "data": {
      "text/plain": [
       "0.7733790142695633"
      ]
     },
     "execution_count": 61,
     "metadata": {},
     "output_type": "execute_result"
    }
   ],
   "source": [
    "# recall \n",
    "(merged_candidates_df_200['target'] == 1.0).sum() / (merged_candidates_df_200['sess_id'].max() + 1)"
   ]
  },
  {
   "cell_type": "code",
   "execution_count": 67,
   "metadata": {},
   "outputs": [
    {
     "data": {
      "text/plain": [
       "(394.99121902404744, 103415021)"
      ]
     },
     "execution_count": 67,
     "metadata": {},
     "output_type": "execute_result"
    }
   ],
   "source": [
    "len(merged_candidates_df_200) / (merged_candidates_df_200['sess_id'].max() + 1), len(merged_candidates_df_200)"
   ]
  },
  {
   "cell_type": "code",
   "execution_count": 68,
   "metadata": {},
   "outputs": [],
   "source": [
    "cast_dtype(merged_candidates_df_150)"
   ]
  },
  {
   "cell_type": "code",
   "execution_count": 70,
   "metadata": {},
   "outputs": [],
   "source": [
    "merged_candidates_df_150.to_parquet('./candidates_phase2/merged_candidates_150.parquet', engine='pyarrow')"
   ]
  },
  {
   "cell_type": "code",
   "execution_count": 69,
   "metadata": {},
   "outputs": [
    {
     "data": {
      "text/html": [
       "<div>\n",
       "<style scoped>\n",
       "    .dataframe tbody tr th:only-of-type {\n",
       "        vertical-align: middle;\n",
       "    }\n",
       "\n",
       "    .dataframe tbody tr th {\n",
       "        vertical-align: top;\n",
       "    }\n",
       "\n",
       "    .dataframe thead th {\n",
       "        text-align: right;\n",
       "    }\n",
       "</style>\n",
       "<table border=\"1\" class=\"dataframe\">\n",
       "  <thead>\n",
       "    <tr style=\"text-align: right;\">\n",
       "      <th></th>\n",
       "      <th>sess_id</th>\n",
       "      <th>sess_locale</th>\n",
       "      <th>product</th>\n",
       "      <th>target</th>\n",
       "    </tr>\n",
       "  </thead>\n",
       "  <tbody>\n",
       "    <tr>\n",
       "      <th>0</th>\n",
       "      <td>0</td>\n",
       "      <td>DE</td>\n",
       "      <td>B09BNW4F85</td>\n",
       "      <td>0.0</td>\n",
       "    </tr>\n",
       "    <tr>\n",
       "      <th>1</th>\n",
       "      <td>0</td>\n",
       "      <td>DE</td>\n",
       "      <td>B01J41G4SC</td>\n",
       "      <td>0.0</td>\n",
       "    </tr>\n",
       "    <tr>\n",
       "      <th>2</th>\n",
       "      <td>0</td>\n",
       "      <td>DE</td>\n",
       "      <td>B07FP2KPWV</td>\n",
       "      <td>0.0</td>\n",
       "    </tr>\n",
       "    <tr>\n",
       "      <th>3</th>\n",
       "      <td>0</td>\n",
       "      <td>DE</td>\n",
       "      <td>B09QFM2945</td>\n",
       "      <td>0.0</td>\n",
       "    </tr>\n",
       "    <tr>\n",
       "      <th>4</th>\n",
       "      <td>0</td>\n",
       "      <td>DE</td>\n",
       "      <td>B09QG4M23V</td>\n",
       "      <td>0.0</td>\n",
       "    </tr>\n",
       "    <tr>\n",
       "      <th>...</th>\n",
       "      <td>...</td>\n",
       "      <td>...</td>\n",
       "      <td>...</td>\n",
       "      <td>...</td>\n",
       "    </tr>\n",
       "    <tr>\n",
       "      <th>78842194</th>\n",
       "      <td>261815</td>\n",
       "      <td>UK</td>\n",
       "      <td>B07CF56HFY</td>\n",
       "      <td>0.0</td>\n",
       "    </tr>\n",
       "    <tr>\n",
       "      <th>78842195</th>\n",
       "      <td>261815</td>\n",
       "      <td>UK</td>\n",
       "      <td>B002SPGQV2</td>\n",
       "      <td>0.0</td>\n",
       "    </tr>\n",
       "    <tr>\n",
       "      <th>78842196</th>\n",
       "      <td>261815</td>\n",
       "      <td>UK</td>\n",
       "      <td>B07YQFYH54</td>\n",
       "      <td>0.0</td>\n",
       "    </tr>\n",
       "    <tr>\n",
       "      <th>78842197</th>\n",
       "      <td>261815</td>\n",
       "      <td>UK</td>\n",
       "      <td>B09N3QGQ2M</td>\n",
       "      <td>0.0</td>\n",
       "    </tr>\n",
       "    <tr>\n",
       "      <th>78842198</th>\n",
       "      <td>261815</td>\n",
       "      <td>UK</td>\n",
       "      <td>B00WQLYFB6</td>\n",
       "      <td>0.0</td>\n",
       "    </tr>\n",
       "  </tbody>\n",
       "</table>\n",
       "<p>78842199 rows × 4 columns</p>\n",
       "</div>"
      ],
      "text/plain": [
       "          sess_id sess_locale     product  target\n",
       "0               0          DE  B09BNW4F85     0.0\n",
       "1               0          DE  B01J41G4SC     0.0\n",
       "2               0          DE  B07FP2KPWV     0.0\n",
       "3               0          DE  B09QFM2945     0.0\n",
       "4               0          DE  B09QG4M23V     0.0\n",
       "...           ...         ...         ...     ...\n",
       "78842194   261815          UK  B07CF56HFY     0.0\n",
       "78842195   261815          UK  B002SPGQV2     0.0\n",
       "78842196   261815          UK  B07YQFYH54     0.0\n",
       "78842197   261815          UK  B09N3QGQ2M     0.0\n",
       "78842198   261815          UK  B00WQLYFB6     0.0\n",
       "\n",
       "[78842199 rows x 4 columns]"
      ]
     },
     "execution_count": 69,
     "metadata": {},
     "output_type": "execute_result"
    }
   ],
   "source": [
    "merged_candidates_df_150"
   ]
  },
  {
   "cell_type": "code",
   "execution_count": 71,
   "metadata": {},
   "outputs": [],
   "source": [
    "cast_dtype(merged_candidates_df)\n",
    "merged_candidates_df.to_parquet('./candidates_phase2/merged_candidates_100.parquet', engine='pyarrow')"
   ]
  },
  {
   "cell_type": "code",
   "execution_count": 72,
   "metadata": {},
   "outputs": [
    {
     "data": {
      "text/html": [
       "<div>\n",
       "<style scoped>\n",
       "    .dataframe tbody tr th:only-of-type {\n",
       "        vertical-align: middle;\n",
       "    }\n",
       "\n",
       "    .dataframe tbody tr th {\n",
       "        vertical-align: top;\n",
       "    }\n",
       "\n",
       "    .dataframe thead th {\n",
       "        text-align: right;\n",
       "    }\n",
       "</style>\n",
       "<table border=\"1\" class=\"dataframe\">\n",
       "  <thead>\n",
       "    <tr style=\"text-align: right;\">\n",
       "      <th></th>\n",
       "      <th>sess_id</th>\n",
       "      <th>sess_locale</th>\n",
       "      <th>product</th>\n",
       "      <th>target</th>\n",
       "    </tr>\n",
       "  </thead>\n",
       "  <tbody>\n",
       "    <tr>\n",
       "      <th>0</th>\n",
       "      <td>0</td>\n",
       "      <td>DE</td>\n",
       "      <td>B09L8GZZVX</td>\n",
       "      <td>0.0</td>\n",
       "    </tr>\n",
       "    <tr>\n",
       "      <th>1</th>\n",
       "      <td>0</td>\n",
       "      <td>DE</td>\n",
       "      <td>B09BNW4F85</td>\n",
       "      <td>0.0</td>\n",
       "    </tr>\n",
       "    <tr>\n",
       "      <th>2</th>\n",
       "      <td>0</td>\n",
       "      <td>DE</td>\n",
       "      <td>B01J41G4SC</td>\n",
       "      <td>0.0</td>\n",
       "    </tr>\n",
       "    <tr>\n",
       "      <th>3</th>\n",
       "      <td>0</td>\n",
       "      <td>DE</td>\n",
       "      <td>B07FNWMBML</td>\n",
       "      <td>0.0</td>\n",
       "    </tr>\n",
       "    <tr>\n",
       "      <th>4</th>\n",
       "      <td>0</td>\n",
       "      <td>DE</td>\n",
       "      <td>B07FP2KPWV</td>\n",
       "      <td>0.0</td>\n",
       "    </tr>\n",
       "    <tr>\n",
       "      <th>...</th>\n",
       "      <td>...</td>\n",
       "      <td>...</td>\n",
       "      <td>...</td>\n",
       "      <td>...</td>\n",
       "    </tr>\n",
       "    <tr>\n",
       "      <th>53624114</th>\n",
       "      <td>261815</td>\n",
       "      <td>UK</td>\n",
       "      <td>B0037P6GC6</td>\n",
       "      <td>0.0</td>\n",
       "    </tr>\n",
       "    <tr>\n",
       "      <th>53624115</th>\n",
       "      <td>261815</td>\n",
       "      <td>UK</td>\n",
       "      <td>B07YQFYH54</td>\n",
       "      <td>0.0</td>\n",
       "    </tr>\n",
       "    <tr>\n",
       "      <th>53624116</th>\n",
       "      <td>261815</td>\n",
       "      <td>UK</td>\n",
       "      <td>B009SKGKDO</td>\n",
       "      <td>0.0</td>\n",
       "    </tr>\n",
       "    <tr>\n",
       "      <th>53624117</th>\n",
       "      <td>261815</td>\n",
       "      <td>UK</td>\n",
       "      <td>B07XPHH7S1</td>\n",
       "      <td>0.0</td>\n",
       "    </tr>\n",
       "    <tr>\n",
       "      <th>53624118</th>\n",
       "      <td>261815</td>\n",
       "      <td>UK</td>\n",
       "      <td>B00WQLYFB6</td>\n",
       "      <td>0.0</td>\n",
       "    </tr>\n",
       "  </tbody>\n",
       "</table>\n",
       "<p>53624119 rows × 4 columns</p>\n",
       "</div>"
      ],
      "text/plain": [
       "          sess_id sess_locale     product  target\n",
       "0               0          DE  B09L8GZZVX     0.0\n",
       "1               0          DE  B09BNW4F85     0.0\n",
       "2               0          DE  B01J41G4SC     0.0\n",
       "3               0          DE  B07FNWMBML     0.0\n",
       "4               0          DE  B07FP2KPWV     0.0\n",
       "...           ...         ...         ...     ...\n",
       "53624114   261815          UK  B0037P6GC6     0.0\n",
       "53624115   261815          UK  B07YQFYH54     0.0\n",
       "53624116   261815          UK  B009SKGKDO     0.0\n",
       "53624117   261815          UK  B07XPHH7S1     0.0\n",
       "53624118   261815          UK  B00WQLYFB6     0.0\n",
       "\n",
       "[53624119 rows x 4 columns]"
      ]
     },
     "execution_count": 72,
     "metadata": {},
     "output_type": "execute_result"
    }
   ],
   "source": [
    "merged_candidates_df"
   ]
  },
  {
   "attachments": {},
   "cell_type": "markdown",
   "metadata": {},
   "source": [
    "# Merge Test Candidates"
   ]
  },
  {
   "cell_type": "code",
   "execution_count": 7,
   "metadata": {},
   "outputs": [],
   "source": [
    "train_sessions_path = '/root/autodl-tmp/xiaolong/WorkSpace/Amazon-KDDCUP-23/data_for_recstudio/task1_data/task13_4_task1_train_sessions_phase2.csv'\n",
    "valid_sessions_path = '/root/autodl-tmp/xiaolong/WorkSpace/Amazon-KDDCUP-23/data_for_recstudio/task1_data/task13_4_task1_valid_sessions_phase2.csv'\n",
    "test_sessions_path = '/root/autodl-tmp/xiaolong/WorkSpace/Amazon-KDDCUP-23/raw_data/sessions_test_task1_phase2.csv'\n",
    "sasrec_test_candidates_path = '/root/autodl-tmp/xiaolong/WorkSpace/Amazon-KDDCUP-23/candidates_phase2/SASRec/test_top300_sasrec0531.parquet'\n",
    "roberta_test_candidates_path = '/root/autodl-tmp/xiaolong/WorkSpace/Amazon-KDDCUP-23/candidates_phase2/roberta/phase2_task1_test_300_filtered.parquet'\n",
    "product_data_path = '/root/autodl-tmp/xiaolong/WorkSpace/Amazon-KDDCUP-23/data_for_recstudio/products_train.csv'"
   ]
  },
  {
   "cell_type": "code",
   "execution_count": 8,
   "metadata": {},
   "outputs": [],
   "source": [
    "@lru_cache(maxsize=1)\n",
    "def read_train_sessions():\n",
    "    return pd.read_csv(train_sessions_path)\n",
    "\n",
    "@lru_cache(maxsize=1)\n",
    "def read_valid_sessions():\n",
    "    return pd.read_csv(valid_sessions_path)\n",
    "\n",
    "@lru_cache(maxsize=1)\n",
    "def read_test_sessions():\n",
    "    return pd.read_csv(test_sessions_path)\n",
    "\n",
    "@lru_cache(maxsize=1)\n",
    "def read_sasrec_test_candidates():\n",
    "    return pd.read_parquet(sasrec_test_candidates_path, engine='pyarrow')\n",
    "\n",
    "lru_cache(maxsize=1)\n",
    "def read_roberta_test_candidates():\n",
    "    return pd.read_parquet(roberta_test_candidates_path, engine='pyarrow')\n",
    "\n",
    "@lru_cache(maxsize=1)\n",
    "def read_product_data():\n",
    "    return pd.read_csv(product_data_path)\n"
   ]
  },
  {
   "cell_type": "code",
   "execution_count": 9,
   "metadata": {},
   "outputs": [],
   "source": [
    "train_sessions = read_train_sessions()\n",
    "valid_sessions = read_valid_sessions()\n",
    "test_sessions = read_test_sessions()\n",
    "sasrec_test_candidates = read_sasrec_test_candidates()\n",
    "roberta_test_candidates = read_roberta_test_candidates()\n",
    "product_data = read_product_data()"
   ]
  },
  {
   "cell_type": "code",
   "execution_count": 10,
   "metadata": {},
   "outputs": [
    {
     "data": {
      "text/html": [
       "<div>\n",
       "<style scoped>\n",
       "    .dataframe tbody tr th:only-of-type {\n",
       "        vertical-align: middle;\n",
       "    }\n",
       "\n",
       "    .dataframe tbody tr th {\n",
       "        vertical-align: top;\n",
       "    }\n",
       "\n",
       "    .dataframe thead th {\n",
       "        text-align: right;\n",
       "    }\n",
       "</style>\n",
       "<table border=\"1\" class=\"dataframe\">\n",
       "  <thead>\n",
       "    <tr style=\"text-align: right;\">\n",
       "      <th></th>\n",
       "      <th>prev_items</th>\n",
       "      <th>locale</th>\n",
       "      <th>next_item_prediction</th>\n",
       "    </tr>\n",
       "  </thead>\n",
       "  <tbody>\n",
       "    <tr>\n",
       "      <th>0</th>\n",
       "      <td>['B087VLP2RT' 'B09BRQSHYH' 'B099KW4ZLV']</td>\n",
       "      <td>DE</td>\n",
       "      <td>[B07SDFLVKD, B091CK241X, B0BGC82WVW, B07SR4R8K...</td>\n",
       "    </tr>\n",
       "    <tr>\n",
       "      <th>1</th>\n",
       "      <td>['B08XW4W667' 'B096VMCJYF' 'B096VMCJYF']</td>\n",
       "      <td>DE</td>\n",
       "      <td>[B084CB7GX9, B004P4QFJM, B08HQWQ1SK, B004P4OF1...</td>\n",
       "    </tr>\n",
       "    <tr>\n",
       "      <th>2</th>\n",
       "      <td>['B09Z4T2GJ3' 'B09Z3FBXMB' 'B0936K9LTJ' 'B09Z4...</td>\n",
       "      <td>DE</td>\n",
       "      <td>[B09Z4PZQBF, B08LLF9M11, B09GPJ15GS, B07HFTJLR...</td>\n",
       "    </tr>\n",
       "    <tr>\n",
       "      <th>3</th>\n",
       "      <td>['B07T6Y2HG7' 'B07T2NBLX9' 'B07Y1G5F3Y']</td>\n",
       "      <td>DE</td>\n",
       "      <td>[B07Y1KLF25, B07T5XJW9G, B07QQZD49D, B07VSNX4G...</td>\n",
       "    </tr>\n",
       "    <tr>\n",
       "      <th>4</th>\n",
       "      <td>['B0B2DRKZ6X' 'B0B2DRKZ6X' 'B0B2DRKZ6X']</td>\n",
       "      <td>DE</td>\n",
       "      <td>[B0B2JY9THB, B08P94RML3, B08SXLWXH9, B08SHZHRQ...</td>\n",
       "    </tr>\n",
       "    <tr>\n",
       "      <th>...</th>\n",
       "      <td>...</td>\n",
       "      <td>...</td>\n",
       "      <td>...</td>\n",
       "    </tr>\n",
       "    <tr>\n",
       "      <th>316967</th>\n",
       "      <td>['B078RJX3CC' 'B07GKM97YF']</td>\n",
       "      <td>UK</td>\n",
       "      <td>[B07GKP2LCF, B07GKYSHB4, B006DDGCI2, B081VSV2F...</td>\n",
       "    </tr>\n",
       "    <tr>\n",
       "      <th>316968</th>\n",
       "      <td>['B01LX5Y7RG' 'B00M35Y2J0' 'B0BFR9D1Y2' 'B09BB...</td>\n",
       "      <td>UK</td>\n",
       "      <td>[B00M35Y326, B085C7TCTC, B08L5Z8GPL, B00NVMIO0...</td>\n",
       "    </tr>\n",
       "    <tr>\n",
       "      <th>316969</th>\n",
       "      <td>['B09HGRXXTM' 'B08VDNCZT9']</td>\n",
       "      <td>UK</td>\n",
       "      <td>[B08VDHH6QF, B08VDSL596, B08VD5DC5L, B07SWLWPX...</td>\n",
       "    </tr>\n",
       "    <tr>\n",
       "      <th>316970</th>\n",
       "      <td>['B089CVQ2FS' 'B089CVQ2FS']</td>\n",
       "      <td>UK</td>\n",
       "      <td>[B089CZWB4C, B08W2JJZBM, B08T1ZJYHV, B09WCQYGX...</td>\n",
       "    </tr>\n",
       "    <tr>\n",
       "      <th>316971</th>\n",
       "      <td>['B07H48412Q' 'B093GS4XYP' 'B07H42L4TJ']</td>\n",
       "      <td>UK</td>\n",
       "      <td>[B07H9J1YXN, B09X7CJ8H1, B08GYG6T12, B07NNW2YX...</td>\n",
       "    </tr>\n",
       "  </tbody>\n",
       "</table>\n",
       "<p>316972 rows × 3 columns</p>\n",
       "</div>"
      ],
      "text/plain": [
       "                                               prev_items locale  \\\n",
       "0                ['B087VLP2RT' 'B09BRQSHYH' 'B099KW4ZLV']     DE   \n",
       "1                ['B08XW4W667' 'B096VMCJYF' 'B096VMCJYF']     DE   \n",
       "2       ['B09Z4T2GJ3' 'B09Z3FBXMB' 'B0936K9LTJ' 'B09Z4...     DE   \n",
       "3                ['B07T6Y2HG7' 'B07T2NBLX9' 'B07Y1G5F3Y']     DE   \n",
       "4                ['B0B2DRKZ6X' 'B0B2DRKZ6X' 'B0B2DRKZ6X']     DE   \n",
       "...                                                   ...    ...   \n",
       "316967                        ['B078RJX3CC' 'B07GKM97YF']     UK   \n",
       "316968  ['B01LX5Y7RG' 'B00M35Y2J0' 'B0BFR9D1Y2' 'B09BB...     UK   \n",
       "316969                        ['B09HGRXXTM' 'B08VDNCZT9']     UK   \n",
       "316970                        ['B089CVQ2FS' 'B089CVQ2FS']     UK   \n",
       "316971           ['B07H48412Q' 'B093GS4XYP' 'B07H42L4TJ']     UK   \n",
       "\n",
       "                                     next_item_prediction  \n",
       "0       [B07SDFLVKD, B091CK241X, B0BGC82WVW, B07SR4R8K...  \n",
       "1       [B084CB7GX9, B004P4QFJM, B08HQWQ1SK, B004P4OF1...  \n",
       "2       [B09Z4PZQBF, B08LLF9M11, B09GPJ15GS, B07HFTJLR...  \n",
       "3       [B07Y1KLF25, B07T5XJW9G, B07QQZD49D, B07VSNX4G...  \n",
       "4       [B0B2JY9THB, B08P94RML3, B08SXLWXH9, B08SHZHRQ...  \n",
       "...                                                   ...  \n",
       "316967  [B07GKP2LCF, B07GKYSHB4, B006DDGCI2, B081VSV2F...  \n",
       "316968  [B00M35Y326, B085C7TCTC, B08L5Z8GPL, B00NVMIO0...  \n",
       "316969  [B08VDHH6QF, B08VDSL596, B08VD5DC5L, B07SWLWPX...  \n",
       "316970  [B089CZWB4C, B08W2JJZBM, B08T1ZJYHV, B09WCQYGX...  \n",
       "316971  [B07H9J1YXN, B09X7CJ8H1, B08GYG6T12, B07NNW2YX...  \n",
       "\n",
       "[316972 rows x 3 columns]"
      ]
     },
     "execution_count": 10,
     "metadata": {},
     "output_type": "execute_result"
    }
   ],
   "source": [
    "sasrec_test_candidates"
   ]
  },
  {
   "cell_type": "code",
   "execution_count": 11,
   "metadata": {},
   "outputs": [
    {
     "data": {
      "text/html": [
       "<div>\n",
       "<style scoped>\n",
       "    .dataframe tbody tr th:only-of-type {\n",
       "        vertical-align: middle;\n",
       "    }\n",
       "\n",
       "    .dataframe tbody tr th {\n",
       "        vertical-align: top;\n",
       "    }\n",
       "\n",
       "    .dataframe thead th {\n",
       "        text-align: right;\n",
       "    }\n",
       "</style>\n",
       "<table border=\"1\" class=\"dataframe\">\n",
       "  <thead>\n",
       "    <tr style=\"text-align: right;\">\n",
       "      <th></th>\n",
       "      <th>next_item_prediction</th>\n",
       "      <th>sess_id</th>\n",
       "    </tr>\n",
       "  </thead>\n",
       "  <tbody>\n",
       "    <tr>\n",
       "      <th>0</th>\n",
       "      <td>[B07GJXLBJ2, B078Y36QFJ, B08JW5DR79, B01L7PQBL...</td>\n",
       "      <td>0</td>\n",
       "    </tr>\n",
       "    <tr>\n",
       "      <th>1</th>\n",
       "      <td>[B079NW6DQ1, B0B2Z8DJYP, B079NVK7CZ, B079NWL3L...</td>\n",
       "      <td>1</td>\n",
       "    </tr>\n",
       "    <tr>\n",
       "      <th>2</th>\n",
       "      <td>[B09Z4PZQBF, B09Z3D15JK, B08C5F8M7V, B08C5FLXW...</td>\n",
       "      <td>2</td>\n",
       "    </tr>\n",
       "    <tr>\n",
       "      <th>3</th>\n",
       "      <td>[B08FQ2XLFV, B07T5XY2CJ, B07Y1KLF25, B07SZHHK5...</td>\n",
       "      <td>3</td>\n",
       "    </tr>\n",
       "    <tr>\n",
       "      <th>4</th>\n",
       "      <td>[B0B2JY9THB, B08LKGLSP8, B09JC6YKQ5, B09G2GHZV...</td>\n",
       "      <td>4</td>\n",
       "    </tr>\n",
       "    <tr>\n",
       "      <th>...</th>\n",
       "      <td>...</td>\n",
       "      <td>...</td>\n",
       "    </tr>\n",
       "    <tr>\n",
       "      <th>316967</th>\n",
       "      <td>[B07GKP2LCF, B00V6FIFZ0, B095HM921Q, B07GKYSHB...</td>\n",
       "      <td>316967</td>\n",
       "    </tr>\n",
       "    <tr>\n",
       "      <th>316968</th>\n",
       "      <td>[B01NCJMULG, B07KTJXWHH, B07R2KJTVY, B00M35Y2M...</td>\n",
       "      <td>316968</td>\n",
       "    </tr>\n",
       "    <tr>\n",
       "      <th>316969</th>\n",
       "      <td>[B08VDSL596, B08VDHH6QF, B09NCC7GH2, B0B3XX8P9...</td>\n",
       "      <td>316969</td>\n",
       "    </tr>\n",
       "    <tr>\n",
       "      <th>316970</th>\n",
       "      <td>[B08W2JJZBM, B089CZWB4C, B089CJ7P7Z, B08T1ZJYH...</td>\n",
       "      <td>316970</td>\n",
       "    </tr>\n",
       "    <tr>\n",
       "      <th>316971</th>\n",
       "      <td>[B07H9DVLBB, B08GY1QYXP, B08GY61ZZN, B07YFGG1S...</td>\n",
       "      <td>316971</td>\n",
       "    </tr>\n",
       "  </tbody>\n",
       "</table>\n",
       "<p>316972 rows × 2 columns</p>\n",
       "</div>"
      ],
      "text/plain": [
       "                                     next_item_prediction  sess_id\n",
       "0       [B07GJXLBJ2, B078Y36QFJ, B08JW5DR79, B01L7PQBL...        0\n",
       "1       [B079NW6DQ1, B0B2Z8DJYP, B079NVK7CZ, B079NWL3L...        1\n",
       "2       [B09Z4PZQBF, B09Z3D15JK, B08C5F8M7V, B08C5FLXW...        2\n",
       "3       [B08FQ2XLFV, B07T5XY2CJ, B07Y1KLF25, B07SZHHK5...        3\n",
       "4       [B0B2JY9THB, B08LKGLSP8, B09JC6YKQ5, B09G2GHZV...        4\n",
       "...                                                   ...      ...\n",
       "316967  [B07GKP2LCF, B00V6FIFZ0, B095HM921Q, B07GKYSHB...   316967\n",
       "316968  [B01NCJMULG, B07KTJXWHH, B07R2KJTVY, B00M35Y2M...   316968\n",
       "316969  [B08VDSL596, B08VDHH6QF, B09NCC7GH2, B0B3XX8P9...   316969\n",
       "316970  [B08W2JJZBM, B089CZWB4C, B089CJ7P7Z, B08T1ZJYH...   316970\n",
       "316971  [B07H9DVLBB, B08GY1QYXP, B08GY61ZZN, B07YFGG1S...   316971\n",
       "\n",
       "[316972 rows x 2 columns]"
      ]
     },
     "execution_count": 11,
     "metadata": {},
     "output_type": "execute_result"
    }
   ],
   "source": [
    "roberta_test_candidates['sess_id'] = np.arange(roberta_test_candidates.shape[0])\n",
    "roberta_test_candidates"
   ]
  },
  {
   "attachments": {},
   "cell_type": "markdown",
   "metadata": {},
   "source": [
    "## get co-graph candidates"
   ]
  },
  {
   "cell_type": "code",
   "execution_count": 12,
   "metadata": {},
   "outputs": [
    {
     "name": "stderr",
     "output_type": "stream",
     "text": [
      "100%|██████████| 3010900/3010900 [03:36<00:00, 13881.74it/s]\n",
      "100%|██████████| 261816/261816 [00:23<00:00, 11000.89it/s]\n",
      "100%|██████████| 316972/316972 [00:16<00:00, 19727.28it/s]\n"
     ]
    }
   ],
   "source": [
    "train_sess_item = get_sessions(train_sessions, list_item=False)\n",
    "valid_sess_item = get_sessions(valid_sessions, test=False, list_item=False)\n",
    "test_sess_item = get_sessions(test_sessions, test=True, list_item=False)"
   ]
  },
  {
   "cell_type": "code",
   "execution_count": 13,
   "metadata": {},
   "outputs": [
    {
     "name": "stderr",
     "output_type": "stream",
     "text": [
      "100%|██████████| 3010900/3010900 [02:15<00:00, 22220.44it/s]\n"
     ]
    }
   ],
   "source": [
    "co_occurence_dict_bi = get_co_occurence_dict(train_sess_item, bidirection=True, weighted=False)"
   ]
  },
  {
   "cell_type": "code",
   "execution_count": 14,
   "metadata": {},
   "outputs": [],
   "source": [
    "test_co_graph_candidates_dataset = TFDataset.from_dict({'sess_id' : list(range(len(test_sessions)))})"
   ]
  },
  {
   "cell_type": "code",
   "execution_count": 15,
   "metadata": {},
   "outputs": [],
   "source": [
    "def get_test_session_co_graph_candidates(sess_id_example):\n",
    "    sess = test_sess_item[sess_id_example['sess_id']]\n",
    "    prev_items = set()\n",
    "    cand_counter = Counter()\n",
    "    for item in sess:\n",
    "        if item in co_occurence_dict_bi and item not in prev_items:\n",
    "            cand_counter = cand_counter + co_occurence_dict_bi[item]\n",
    "            prev_items.add(item) # one time for every item\n",
    "    for item in sess:\n",
    "        if item in cand_counter:\n",
    "            cand_counter.pop(item) # remove history items\n",
    "    if len(cand_counter) > 0:\n",
    "        candidates, _ = zip(*cand_counter.most_common(150))\n",
    "    else:\n",
    "        candidates = []\n",
    "    return {'co_graph_candidates' : candidates}"
   ]
  },
  {
   "cell_type": "code",
   "execution_count": 16,
   "metadata": {},
   "outputs": [
    {
     "name": "stderr",
     "output_type": "stream",
     "text": [
      "Parameter 'function'=<function get_test_session_co_graph_candidates at 0x7f60c1721280> of the transform datasets.arrow_dataset.Dataset._map_single couldn't be hashed properly, a random hash was used instead. Make sure your transforms and parameters are serializable with pickle or dill for the dataset fingerprinting and caching to work. If you reuse this transform, the caching mechanism will consider it to be different from the previous calls and recompute everything. This warning is only showed once. Subsequent hashing failures won't be showed.\n"
     ]
    }
   ],
   "source": [
    "# about 1 mins\n",
    "datasets.set_progress_bar_enabled(False)\n",
    "test_co_graph_candidates_dataset_150 = test_co_graph_candidates_dataset.map(get_test_session_co_graph_candidates, num_proc=8, batched=False)\n",
    "datasets.set_progress_bar_enabled(True)"
   ]
  },
  {
   "cell_type": "code",
   "execution_count": 17,
   "metadata": {},
   "outputs": [],
   "source": [
    "test_co_graph_candidates_150 = test_co_graph_candidates_dataset_150['co_graph_candidates']"
   ]
  },
  {
   "cell_type": "code",
   "execution_count": 18,
   "metadata": {},
   "outputs": [
    {
     "data": {
      "text/html": [
       "<div>\n",
       "<style scoped>\n",
       "    .dataframe tbody tr th:only-of-type {\n",
       "        vertical-align: middle;\n",
       "    }\n",
       "\n",
       "    .dataframe tbody tr th {\n",
       "        vertical-align: top;\n",
       "    }\n",
       "\n",
       "    .dataframe thead th {\n",
       "        text-align: right;\n",
       "    }\n",
       "</style>\n",
       "<table border=\"1\" class=\"dataframe\">\n",
       "  <thead>\n",
       "    <tr style=\"text-align: right;\">\n",
       "      <th></th>\n",
       "      <th>sess_id</th>\n",
       "      <th>candidates</th>\n",
       "    </tr>\n",
       "  </thead>\n",
       "  <tbody>\n",
       "    <tr>\n",
       "      <th>0</th>\n",
       "      <td>0</td>\n",
       "      <td>[B07SDFLVKD, B08SRMPBRF, B091CK241X, B07SR4R8K...</td>\n",
       "    </tr>\n",
       "    <tr>\n",
       "      <th>1</th>\n",
       "      <td>1</td>\n",
       "      <td>[B004P4OF1C, B09YD8XV6M, B004P4QFJM, B084CB7GX...</td>\n",
       "    </tr>\n",
       "    <tr>\n",
       "      <th>2</th>\n",
       "      <td>2</td>\n",
       "      <td>[B09Z4PZQBF, B09GPJ15GS, B08LLF9M11, B07XFZWKX...</td>\n",
       "    </tr>\n",
       "    <tr>\n",
       "      <th>3</th>\n",
       "      <td>3</td>\n",
       "      <td>[B07QQZD49D, B07T5XY2CJ, B07VSNX4GG, B07WV6ZNQ...</td>\n",
       "    </tr>\n",
       "    <tr>\n",
       "      <th>4</th>\n",
       "      <td>4</td>\n",
       "      <td>[B08P94RML3, B0935DN1BN, B08R9PTZ5G, B07HKQRV8...</td>\n",
       "    </tr>\n",
       "    <tr>\n",
       "      <th>...</th>\n",
       "      <td>...</td>\n",
       "      <td>...</td>\n",
       "    </tr>\n",
       "    <tr>\n",
       "      <th>316967</th>\n",
       "      <td>316967</td>\n",
       "      <td>[B07GKP2LCF, B07GKYSHB4, B07B3PZK8V, B078RK3J1...</td>\n",
       "    </tr>\n",
       "    <tr>\n",
       "      <th>316968</th>\n",
       "      <td>316968</td>\n",
       "      <td>[B00NVMIO02, B0865RL4PH, B08TV24K42, B0989S5K3...</td>\n",
       "    </tr>\n",
       "    <tr>\n",
       "      <th>316969</th>\n",
       "      <td>316969</td>\n",
       "      <td>[B08VDSL596, B09HGSCL9Q, B08VDGMBGP, B08VDKWMR...</td>\n",
       "    </tr>\n",
       "    <tr>\n",
       "      <th>316970</th>\n",
       "      <td>316970</td>\n",
       "      <td>[B089CZWB4C, B09P12CMC2, B09LYL8SV8, B08PF7R4R...</td>\n",
       "    </tr>\n",
       "    <tr>\n",
       "      <th>316971</th>\n",
       "      <td>316971</td>\n",
       "      <td>[B08GY61ZZN, B07NNW2YXB, B07H4BPZZG, B07H9DVLB...</td>\n",
       "    </tr>\n",
       "  </tbody>\n",
       "</table>\n",
       "<p>316972 rows × 2 columns</p>\n",
       "</div>"
      ],
      "text/plain": [
       "        sess_id                                         candidates\n",
       "0             0  [B07SDFLVKD, B08SRMPBRF, B091CK241X, B07SR4R8K...\n",
       "1             1  [B004P4OF1C, B09YD8XV6M, B004P4QFJM, B084CB7GX...\n",
       "2             2  [B09Z4PZQBF, B09GPJ15GS, B08LLF9M11, B07XFZWKX...\n",
       "3             3  [B07QQZD49D, B07T5XY2CJ, B07VSNX4GG, B07WV6ZNQ...\n",
       "4             4  [B08P94RML3, B0935DN1BN, B08R9PTZ5G, B07HKQRV8...\n",
       "...         ...                                                ...\n",
       "316967   316967  [B07GKP2LCF, B07GKYSHB4, B07B3PZK8V, B078RK3J1...\n",
       "316968   316968  [B00NVMIO02, B0865RL4PH, B08TV24K42, B0989S5K3...\n",
       "316969   316969  [B08VDSL596, B09HGSCL9Q, B08VDGMBGP, B08VDKWMR...\n",
       "316970   316970  [B089CZWB4C, B09P12CMC2, B09LYL8SV8, B08PF7R4R...\n",
       "316971   316971  [B08GY61ZZN, B07NNW2YXB, B07H4BPZZG, B07H9DVLB...\n",
       "\n",
       "[316972 rows x 2 columns]"
      ]
     },
     "execution_count": 18,
     "metadata": {},
     "output_type": "execute_result"
    }
   ],
   "source": [
    "co_graph_test_candidates_150 = pd.DataFrame({'sess_id' : list(range(len(test_sessions))), 'candidates' : test_co_graph_candidates_150})\n",
    "co_graph_test_candidates_150"
   ]
  },
  {
   "attachments": {},
   "cell_type": "markdown",
   "metadata": {},
   "source": [
    "## merge candidates "
   ]
  },
  {
   "cell_type": "code",
   "execution_count": 19,
   "metadata": {},
   "outputs": [
    {
     "data": {
      "text/html": [
       "<div>\n",
       "<style scoped>\n",
       "    .dataframe tbody tr th:only-of-type {\n",
       "        vertical-align: middle;\n",
       "    }\n",
       "\n",
       "    .dataframe tbody tr th {\n",
       "        vertical-align: top;\n",
       "    }\n",
       "\n",
       "    .dataframe thead th {\n",
       "        text-align: right;\n",
       "    }\n",
       "</style>\n",
       "<table border=\"1\" class=\"dataframe\">\n",
       "  <thead>\n",
       "    <tr style=\"text-align: right;\">\n",
       "      <th></th>\n",
       "      <th>prev_items</th>\n",
       "      <th>locale</th>\n",
       "    </tr>\n",
       "  </thead>\n",
       "  <tbody>\n",
       "    <tr>\n",
       "      <th>0</th>\n",
       "      <td>['B087VLP2RT' 'B09BRQSHYH' 'B099KW4ZLV']</td>\n",
       "      <td>DE</td>\n",
       "    </tr>\n",
       "    <tr>\n",
       "      <th>1</th>\n",
       "      <td>['B08XW4W667' 'B096VMCJYF' 'B096VMCJYF']</td>\n",
       "      <td>DE</td>\n",
       "    </tr>\n",
       "    <tr>\n",
       "      <th>2</th>\n",
       "      <td>['B09Z4T2GJ3' 'B09Z3FBXMB' 'B0936K9LTJ' 'B09Z4...</td>\n",
       "      <td>DE</td>\n",
       "    </tr>\n",
       "    <tr>\n",
       "      <th>3</th>\n",
       "      <td>['B07T6Y2HG7' 'B07T2NBLX9' 'B07Y1G5F3Y']</td>\n",
       "      <td>DE</td>\n",
       "    </tr>\n",
       "    <tr>\n",
       "      <th>4</th>\n",
       "      <td>['B0B2DRKZ6X' 'B0B2DRKZ6X' 'B0B2DRKZ6X']</td>\n",
       "      <td>DE</td>\n",
       "    </tr>\n",
       "    <tr>\n",
       "      <th>...</th>\n",
       "      <td>...</td>\n",
       "      <td>...</td>\n",
       "    </tr>\n",
       "    <tr>\n",
       "      <th>316967</th>\n",
       "      <td>['B078RJX3CC' 'B07GKM97YF']</td>\n",
       "      <td>UK</td>\n",
       "    </tr>\n",
       "    <tr>\n",
       "      <th>316968</th>\n",
       "      <td>['B01LX5Y7RG' 'B00M35Y2J0' 'B0BFR9D1Y2' 'B09BB...</td>\n",
       "      <td>UK</td>\n",
       "    </tr>\n",
       "    <tr>\n",
       "      <th>316969</th>\n",
       "      <td>['B09HGRXXTM' 'B08VDNCZT9']</td>\n",
       "      <td>UK</td>\n",
       "    </tr>\n",
       "    <tr>\n",
       "      <th>316970</th>\n",
       "      <td>['B089CVQ2FS' 'B089CVQ2FS']</td>\n",
       "      <td>UK</td>\n",
       "    </tr>\n",
       "    <tr>\n",
       "      <th>316971</th>\n",
       "      <td>['B07H48412Q' 'B093GS4XYP' 'B07H42L4TJ']</td>\n",
       "      <td>UK</td>\n",
       "    </tr>\n",
       "  </tbody>\n",
       "</table>\n",
       "<p>316972 rows × 2 columns</p>\n",
       "</div>"
      ],
      "text/plain": [
       "                                               prev_items locale\n",
       "0                ['B087VLP2RT' 'B09BRQSHYH' 'B099KW4ZLV']     DE\n",
       "1                ['B08XW4W667' 'B096VMCJYF' 'B096VMCJYF']     DE\n",
       "2       ['B09Z4T2GJ3' 'B09Z3FBXMB' 'B0936K9LTJ' 'B09Z4...     DE\n",
       "3                ['B07T6Y2HG7' 'B07T2NBLX9' 'B07Y1G5F3Y']     DE\n",
       "4                ['B0B2DRKZ6X' 'B0B2DRKZ6X' 'B0B2DRKZ6X']     DE\n",
       "...                                                   ...    ...\n",
       "316967                        ['B078RJX3CC' 'B07GKM97YF']     UK\n",
       "316968  ['B01LX5Y7RG' 'B00M35Y2J0' 'B0BFR9D1Y2' 'B09BB...     UK\n",
       "316969                        ['B09HGRXXTM' 'B08VDNCZT9']     UK\n",
       "316970                        ['B089CVQ2FS' 'B089CVQ2FS']     UK\n",
       "316971           ['B07H48412Q' 'B093GS4XYP' 'B07H42L4TJ']     UK\n",
       "\n",
       "[316972 rows x 2 columns]"
      ]
     },
     "execution_count": 19,
     "metadata": {},
     "output_type": "execute_result"
    }
   ],
   "source": [
    "test_sessions"
   ]
  },
  {
   "cell_type": "code",
   "execution_count": 21,
   "metadata": {},
   "outputs": [],
   "source": [
    "# make sure that history items are not in candidates set\n",
    "assert 'B099KW4ZLV' not in co_graph_test_candidates_150.iloc[0]['candidates']\n",
    "assert 'B09BRQSHYH' not in sasrec_test_candidates.iloc[0]['next_item_prediction']\n",
    "assert 'B087VLP2RT' not in roberta_test_candidates.iloc[0]['next_item_prediction']"
   ]
  },
  {
   "cell_type": "code",
   "execution_count": 23,
   "metadata": {},
   "outputs": [],
   "source": [
    "sasrec_test_candidates_150 = copy.deepcopy(sasrec_test_candidates)\n",
    "sasrec_test_candidates_150['candidates'] = sasrec_test_candidates['next_item_prediction'].apply(lambda x : x[:150])\n",
    "\n",
    "roberta_test_candidates_150 = copy.deepcopy(roberta_test_candidates)\n",
    "roberta_test_candidates_150['candidates'] = roberta_test_candidates['next_item_prediction'].apply(lambda x : x[:150])"
   ]
  },
  {
   "cell_type": "code",
   "execution_count": 24,
   "metadata": {},
   "outputs": [
    {
     "name": "stderr",
     "output_type": "stream",
     "text": [
      "100%|██████████| 316972/316972 [04:15<00:00, 1242.83it/s]\n"
     ]
    }
   ],
   "source": [
    "merged_candidates_df = merge_candidates(test_sessions, [sasrec_test_candidates_150, roberta_test_candidates_150, co_graph_test_candidates_150], test=True)"
   ]
  },
  {
   "cell_type": "code",
   "execution_count": 26,
   "metadata": {},
   "outputs": [],
   "source": [
    "cast_dtype(merged_candidates_df)"
   ]
  },
  {
   "cell_type": "code",
   "execution_count": null,
   "metadata": {},
   "outputs": [],
   "source": [
    "merged_candidates_df.to_parquet('./candidates_phase2//merged_candidates_150_test.parquet', engine='pyarrow')"
   ]
  },
  {
   "cell_type": "code",
   "execution_count": 25,
   "metadata": {},
   "outputs": [
    {
     "data": {
      "text/html": [
       "<div>\n",
       "<style scoped>\n",
       "    .dataframe tbody tr th:only-of-type {\n",
       "        vertical-align: middle;\n",
       "    }\n",
       "\n",
       "    .dataframe tbody tr th {\n",
       "        vertical-align: top;\n",
       "    }\n",
       "\n",
       "    .dataframe thead th {\n",
       "        text-align: right;\n",
       "    }\n",
       "</style>\n",
       "<table border=\"1\" class=\"dataframe\">\n",
       "  <thead>\n",
       "    <tr style=\"text-align: right;\">\n",
       "      <th></th>\n",
       "      <th>sess_id</th>\n",
       "      <th>sess_locale</th>\n",
       "      <th>product</th>\n",
       "    </tr>\n",
       "  </thead>\n",
       "  <tbody>\n",
       "    <tr>\n",
       "      <th>0</th>\n",
       "      <td>0</td>\n",
       "      <td>DE</td>\n",
       "      <td>B08PZ7QKD2</td>\n",
       "    </tr>\n",
       "    <tr>\n",
       "      <th>1</th>\n",
       "      <td>0</td>\n",
       "      <td>DE</td>\n",
       "      <td>B01MY13UKE</td>\n",
       "    </tr>\n",
       "    <tr>\n",
       "      <th>2</th>\n",
       "      <td>0</td>\n",
       "      <td>DE</td>\n",
       "      <td>B09CHFG3JB</td>\n",
       "    </tr>\n",
       "    <tr>\n",
       "      <th>3</th>\n",
       "      <td>0</td>\n",
       "      <td>DE</td>\n",
       "      <td>B09C92RJN7</td>\n",
       "    </tr>\n",
       "    <tr>\n",
       "      <th>4</th>\n",
       "      <td>0</td>\n",
       "      <td>DE</td>\n",
       "      <td>B094Z7S1JB</td>\n",
       "    </tr>\n",
       "    <tr>\n",
       "      <th>...</th>\n",
       "      <td>...</td>\n",
       "      <td>...</td>\n",
       "      <td>...</td>\n",
       "    </tr>\n",
       "    <tr>\n",
       "      <th>96556030</th>\n",
       "      <td>316971</td>\n",
       "      <td>UK</td>\n",
       "      <td>B07FC7VZ8G</td>\n",
       "    </tr>\n",
       "    <tr>\n",
       "      <th>96556031</th>\n",
       "      <td>316971</td>\n",
       "      <td>UK</td>\n",
       "      <td>B08P1T8R46</td>\n",
       "    </tr>\n",
       "    <tr>\n",
       "      <th>96556032</th>\n",
       "      <td>316971</td>\n",
       "      <td>UK</td>\n",
       "      <td>B07SBL5GZB</td>\n",
       "    </tr>\n",
       "    <tr>\n",
       "      <th>96556033</th>\n",
       "      <td>316971</td>\n",
       "      <td>UK</td>\n",
       "      <td>B09B6RB4H9</td>\n",
       "    </tr>\n",
       "    <tr>\n",
       "      <th>96556034</th>\n",
       "      <td>316971</td>\n",
       "      <td>UK</td>\n",
       "      <td>B0829M98P7</td>\n",
       "    </tr>\n",
       "  </tbody>\n",
       "</table>\n",
       "<p>96556035 rows × 3 columns</p>\n",
       "</div>"
      ],
      "text/plain": [
       "          sess_id sess_locale     product\n",
       "0               0          DE  B08PZ7QKD2\n",
       "1               0          DE  B01MY13UKE\n",
       "2               0          DE  B09CHFG3JB\n",
       "3               0          DE  B09C92RJN7\n",
       "4               0          DE  B094Z7S1JB\n",
       "...           ...         ...         ...\n",
       "96556030   316971          UK  B07FC7VZ8G\n",
       "96556031   316971          UK  B08P1T8R46\n",
       "96556032   316971          UK  B07SBL5GZB\n",
       "96556033   316971          UK  B09B6RB4H9\n",
       "96556034   316971          UK  B0829M98P7\n",
       "\n",
       "[96556035 rows x 3 columns]"
      ]
     },
     "execution_count": 25,
     "metadata": {},
     "output_type": "execute_result"
    }
   ],
   "source": [
    "merged_candidates_df"
   ]
  }
 ],
 "metadata": {
  "kernelspec": {
   "display_name": "torch12",
   "language": "python",
   "name": "python3"
  },
  "language_info": {
   "codemirror_mode": {
    "name": "ipython",
    "version": 3
   },
   "file_extension": ".py",
   "mimetype": "text/x-python",
   "name": "python",
   "nbconvert_exporter": "python",
   "pygments_lexer": "ipython3",
   "version": "3.9.15"
  },
  "orig_nbformat": 4
 },
 "nbformat": 4,
 "nbformat_minor": 2
}
