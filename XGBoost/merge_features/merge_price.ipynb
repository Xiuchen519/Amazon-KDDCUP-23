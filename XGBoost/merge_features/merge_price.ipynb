{
 "cells": [
  {
   "cell_type": "code",
   "execution_count": 1,
   "metadata": {},
   "outputs": [],
   "source": [
    "import os\n",
    "os.environ[\"CUDA_VISIBLE_DEVICES\"] = \"0\"\n",
    "import random\n",
    "import numpy as np\n",
    "import pandas as pd\n",
    "import cudf, itertools\n",
    "import scipy.sparse as ssp\n",
    "from functools import lru_cache, partial\n",
    "from tqdm import tqdm, trange\n",
    "from collections import Counter, defaultdict"
   ]
  },
  {
   "cell_type": "code",
   "execution_count": 2,
   "metadata": {},
   "outputs": [],
   "source": [
    "def cast_dtype(df : pd.DataFrame):\n",
    "    for k in df.columns:\n",
    "        dt = type(df[k].iloc[0])\n",
    "        if 'float' in str(dt):\n",
    "            df[k] = df[k].astype('float32')\n",
    "        elif 'int' in str(dt):\n",
    "            df[k] = df[k].astype('int32')\n",
    "        elif dt == list:\n",
    "            dt_ = type(df.iloc[0][k][0])\n",
    "            if 'float' in str(dt_):\n",
    "                df[k] = df[k].apply(lambda x : np.array(x, dtype=np.float32))\n",
    "            elif 'int' in str(dt_):\n",
    "                df[k] = df[k].apply(lambda x : np.array(x, dtype=np.int32))"
   ]
  },
  {
   "cell_type": "code",
   "execution_count": 3,
   "metadata": {},
   "outputs": [],
   "source": [
    "def get_avg_price(session_df, product2price_dict):\n",
    "    avg_price_list = []\n",
    "    for i in tqdm(range(session_df.shape[0])):\n",
    "        sess = session_df.iloc[i]\n",
    "        locale = sess['locale']\n",
    "        avg_price = 0.0\n",
    "        prev_items = eval(sess['prev_items'].replace(' ', ','))\n",
    "        for item in prev_items:\n",
    "            avg_price += product2price_dict[item+'_'+locale]\n",
    "        avg_price = avg_price / len(prev_items)\n",
    "        avg_price_list.append(avg_price)\n",
    "    return avg_price_list"
   ]
  },
  {
   "cell_type": "code",
   "execution_count": 4,
   "metadata": {},
   "outputs": [],
   "source": [
    "def get_product_price(candidate_df : pd.DataFrame, product2price_dict):\n",
    "    price_list = []\n",
    "    for candidate in tqdm(candidate_df.itertuples(index=False), total=candidate_df.shape[0]):\n",
    "        product = candidate.product\n",
    "        locale = candidate.sess_locale\n",
    "        if product+'_'+locale not in product2price_dict:\n",
    "            if locale == 'DE': price_list.append(36.7616060903638)\n",
    "            elif locale == 'JP': price_list.append(4201.2729840839065)\n",
    "            elif locale == 'UK': price_list.append(22.097065056579634)\n",
    "        else:\n",
    "            price_list.append(product2price_dict[product+'_'+locale])\n",
    "    return price_list"
   ]
  },
  {
   "attachments": {},
   "cell_type": "markdown",
   "metadata": {},
   "source": [
    "# Merge valid price "
   ]
  },
  {
   "cell_type": "code",
   "execution_count": 10,
   "metadata": {},
   "outputs": [],
   "source": [
    "merged_candidates_feature_path = '/root/autodl-tmp/xiaolong/WorkSpace/Amazon-KDDCUP-23/XGBoost/candidates_phase2/merged_candidates_150_feature.parquet'\n",
    "valid_sessions_path = '/root/autodl-tmp/xiaolong/WorkSpace/Amazon-KDDCUP-23/data_for_recstudio/task1_data/task13_4_task1_valid_sessions_phase2.csv'\n",
    "product_path = '/root/autodl-tmp/xiaolong/WorkSpace/Amazon-KDDCUP-23/data_for_recstudio/processed_products_train.csv'"
   ]
  },
  {
   "cell_type": "code",
   "execution_count": 11,
   "metadata": {},
   "outputs": [],
   "source": [
    "@lru_cache(maxsize=1)\n",
    "def read_merged_candidates_feature():\n",
    "    return pd.read_parquet(merged_candidates_feature_path, engine='pyarrow')\n",
    "\n",
    "@lru_cache(maxsize=1)\n",
    "def read_valid_sessions():\n",
    "    return pd.read_csv(valid_sessions_path)\n",
    "\n",
    "@lru_cache(maxsize=1)\n",
    "def read_product_feature():\n",
    "    return pd.read_csv(product_path)"
   ]
  },
  {
   "cell_type": "code",
   "execution_count": 12,
   "metadata": {},
   "outputs": [],
   "source": [
    "valid_sessions = read_valid_sessions()\n",
    "product_feature = read_product_feature()\n",
    "merged_candidates_feature = read_merged_candidates_feature()\n",
    "product_feature['price'] = np.exp(product_feature['price']) - 1"
   ]
  },
  {
   "cell_type": "code",
   "execution_count": 13,
   "metadata": {},
   "outputs": [
    {
     "name": "stderr",
     "output_type": "stream",
     "text": [
      "100%|██████████| 1551057/1551057 [03:41<00:00, 7012.30it/s]\n"
     ]
    }
   ],
   "source": [
    "product2price = {}\n",
    "for i in tqdm(range(product_feature.shape[0])):\n",
    "    product = product_feature.iloc[i]\n",
    "    k = product['id']+'_'+product['locale']\n",
    "    v = product['price']\n",
    "    product2price[k] = v"
   ]
  },
  {
   "cell_type": "code",
   "execution_count": 14,
   "metadata": {},
   "outputs": [
    {
     "name": "stderr",
     "output_type": "stream",
     "text": [
      "100%|██████████| 261816/261816 [00:28<00:00, 9060.97it/s] \n"
     ]
    }
   ],
   "source": [
    "avg_price_list = get_avg_price(valid_sessions, product2price)\n",
    "assert len(avg_price_list) == len(valid_sessions)"
   ]
  },
  {
   "cell_type": "code",
   "execution_count": 15,
   "metadata": {},
   "outputs": [],
   "source": [
    "avg_price_list = np.array(avg_price_list)\n",
    "sess_index = merged_candidates_feature['sess_id'].to_numpy()\n",
    "avg_price_list = avg_price_list[sess_index]"
   ]
  },
  {
   "cell_type": "code",
   "execution_count": 16,
   "metadata": {},
   "outputs": [],
   "source": [
    "merged_candidates_feature['sess_avg_price'] = avg_price_list"
   ]
  },
  {
   "cell_type": "code",
   "execution_count": 17,
   "metadata": {},
   "outputs": [
    {
     "name": "stderr",
     "output_type": "stream",
     "text": [
      "100%|██████████| 78842199/78842199 [04:24<00:00, 298195.06it/s]\n"
     ]
    }
   ],
   "source": [
    "product_price_list = get_product_price(merged_candidates_feature, product2price)\n",
    "assert len(product_price_list) == len(merged_candidates_feature)"
   ]
  },
  {
   "cell_type": "code",
   "execution_count": 18,
   "metadata": {},
   "outputs": [],
   "source": [
    "merged_candidates_feature['product_price'] = product_price_list"
   ]
  },
  {
   "cell_type": "code",
   "execution_count": 19,
   "metadata": {},
   "outputs": [],
   "source": [
    "cast_dtype(merged_candidates_feature)\n",
    "merged_candidates_feature.to_parquet(merged_candidates_feature_path, engine='pyarrow')"
   ]
  },
  {
   "cell_type": "code",
   "execution_count": 20,
   "metadata": {},
   "outputs": [
    {
     "data": {
      "text/html": [
       "<div>\n",
       "<style scoped>\n",
       "    .dataframe tbody tr th:only-of-type {\n",
       "        vertical-align: middle;\n",
       "    }\n",
       "\n",
       "    .dataframe tbody tr th {\n",
       "        vertical-align: top;\n",
       "    }\n",
       "\n",
       "    .dataframe thead th {\n",
       "        text-align: right;\n",
       "    }\n",
       "</style>\n",
       "<table border=\"1\" class=\"dataframe\">\n",
       "  <thead>\n",
       "    <tr style=\"text-align: right;\">\n",
       "      <th></th>\n",
       "      <th>sess_id</th>\n",
       "      <th>sess_locale</th>\n",
       "      <th>product</th>\n",
       "      <th>target</th>\n",
       "      <th>sess_avg_price</th>\n",
       "      <th>product_price</th>\n",
       "    </tr>\n",
       "  </thead>\n",
       "  <tbody>\n",
       "    <tr>\n",
       "      <th>0</th>\n",
       "      <td>0</td>\n",
       "      <td>DE</td>\n",
       "      <td>B09BNW4F85</td>\n",
       "      <td>0.0</td>\n",
       "      <td>43.256542</td>\n",
       "      <td>35.990002</td>\n",
       "    </tr>\n",
       "    <tr>\n",
       "      <th>1</th>\n",
       "      <td>0</td>\n",
       "      <td>DE</td>\n",
       "      <td>B01J41G4SC</td>\n",
       "      <td>0.0</td>\n",
       "      <td>43.256542</td>\n",
       "      <td>49.990002</td>\n",
       "    </tr>\n",
       "    <tr>\n",
       "      <th>2</th>\n",
       "      <td>0</td>\n",
       "      <td>DE</td>\n",
       "      <td>B07FP2KPWV</td>\n",
       "      <td>0.0</td>\n",
       "      <td>43.256542</td>\n",
       "      <td>39.000000</td>\n",
       "    </tr>\n",
       "    <tr>\n",
       "      <th>3</th>\n",
       "      <td>0</td>\n",
       "      <td>DE</td>\n",
       "      <td>B09QFM2945</td>\n",
       "      <td>0.0</td>\n",
       "      <td>43.256542</td>\n",
       "      <td>28.990000</td>\n",
       "    </tr>\n",
       "    <tr>\n",
       "      <th>4</th>\n",
       "      <td>0</td>\n",
       "      <td>DE</td>\n",
       "      <td>B09QG4M23V</td>\n",
       "      <td>0.0</td>\n",
       "      <td>43.256542</td>\n",
       "      <td>31.990000</td>\n",
       "    </tr>\n",
       "    <tr>\n",
       "      <th>...</th>\n",
       "      <td>...</td>\n",
       "      <td>...</td>\n",
       "      <td>...</td>\n",
       "      <td>...</td>\n",
       "      <td>...</td>\n",
       "      <td>...</td>\n",
       "    </tr>\n",
       "    <tr>\n",
       "      <th>78842194</th>\n",
       "      <td>261815</td>\n",
       "      <td>UK</td>\n",
       "      <td>B07CF56HFY</td>\n",
       "      <td>0.0</td>\n",
       "      <td>9.383333</td>\n",
       "      <td>9.990000</td>\n",
       "    </tr>\n",
       "    <tr>\n",
       "      <th>78842195</th>\n",
       "      <td>261815</td>\n",
       "      <td>UK</td>\n",
       "      <td>B002SPGQV2</td>\n",
       "      <td>0.0</td>\n",
       "      <td>9.383333</td>\n",
       "      <td>5.410000</td>\n",
       "    </tr>\n",
       "    <tr>\n",
       "      <th>78842196</th>\n",
       "      <td>261815</td>\n",
       "      <td>UK</td>\n",
       "      <td>B07YQFYH54</td>\n",
       "      <td>0.0</td>\n",
       "      <td>9.383333</td>\n",
       "      <td>9.790000</td>\n",
       "    </tr>\n",
       "    <tr>\n",
       "      <th>78842197</th>\n",
       "      <td>261815</td>\n",
       "      <td>UK</td>\n",
       "      <td>B09N3QGQ2M</td>\n",
       "      <td>0.0</td>\n",
       "      <td>9.383333</td>\n",
       "      <td>22.097065</td>\n",
       "    </tr>\n",
       "    <tr>\n",
       "      <th>78842198</th>\n",
       "      <td>261815</td>\n",
       "      <td>UK</td>\n",
       "      <td>B00WQLYFB6</td>\n",
       "      <td>0.0</td>\n",
       "      <td>9.383333</td>\n",
       "      <td>5.000000</td>\n",
       "    </tr>\n",
       "  </tbody>\n",
       "</table>\n",
       "<p>78842199 rows × 6 columns</p>\n",
       "</div>"
      ],
      "text/plain": [
       "          sess_id sess_locale     product  target  sess_avg_price  \\\n",
       "0               0          DE  B09BNW4F85     0.0       43.256542   \n",
       "1               0          DE  B01J41G4SC     0.0       43.256542   \n",
       "2               0          DE  B07FP2KPWV     0.0       43.256542   \n",
       "3               0          DE  B09QFM2945     0.0       43.256542   \n",
       "4               0          DE  B09QG4M23V     0.0       43.256542   \n",
       "...           ...         ...         ...     ...             ...   \n",
       "78842194   261815          UK  B07CF56HFY     0.0        9.383333   \n",
       "78842195   261815          UK  B002SPGQV2     0.0        9.383333   \n",
       "78842196   261815          UK  B07YQFYH54     0.0        9.383333   \n",
       "78842197   261815          UK  B09N3QGQ2M     0.0        9.383333   \n",
       "78842198   261815          UK  B00WQLYFB6     0.0        9.383333   \n",
       "\n",
       "          product_price  \n",
       "0             35.990002  \n",
       "1             49.990002  \n",
       "2             39.000000  \n",
       "3             28.990000  \n",
       "4             31.990000  \n",
       "...                 ...  \n",
       "78842194       9.990000  \n",
       "78842195       5.410000  \n",
       "78842196       9.790000  \n",
       "78842197      22.097065  \n",
       "78842198       5.000000  \n",
       "\n",
       "[78842199 rows x 6 columns]"
      ]
     },
     "execution_count": 20,
     "metadata": {},
     "output_type": "execute_result"
    }
   ],
   "source": [
    "merged_candidates_feature"
   ]
  },
  {
   "cell_type": "code",
   "execution_count": null,
   "metadata": {},
   "outputs": [],
   "source": []
  }
 ],
 "metadata": {
  "kernelspec": {
   "display_name": "torch12",
   "language": "python",
   "name": "python3"
  },
  "language_info": {
   "codemirror_mode": {
    "name": "ipython",
    "version": 3
   },
   "file_extension": ".py",
   "mimetype": "text/x-python",
   "name": "python",
   "nbconvert_exporter": "python",
   "pygments_lexer": "ipython3",
   "version": "3.9.15"
  },
  "orig_nbformat": 4
 },
 "nbformat": 4,
 "nbformat_minor": 2
}
