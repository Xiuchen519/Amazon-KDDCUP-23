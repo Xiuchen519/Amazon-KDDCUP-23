{
 "cells": [
  {
   "cell_type": "code",
   "execution_count": 1,
   "metadata": {
    "execution": {
     "iopub.execute_input": "2023-06-01T19:05:05.284813Z",
     "iopub.status.busy": "2023-06-01T19:05:05.284135Z",
     "iopub.status.idle": "2023-06-01T19:05:06.554598Z",
     "shell.execute_reply": "2023-06-01T19:05:06.553751Z"
    }
   },
   "outputs": [],
   "source": [
    "import sys\n",
    "sys.path.append('/root/autodl-tmp/xiaolong/WorkSpace/Amazon-KDDCUP-23/')\n",
    "import pandas as pd \n",
    "import numpy as np \n",
    "import datasets\n",
    "from datasets import Dataset as TFDataset \n",
    "import pickle\n",
    "from bm25.rank_bm25 import BM25Okapi\n",
    "import random\n",
    "# import cudf, itertools\n",
    "import scipy.sparse as ssp\n",
    "from functools import lru_cache, partial\n",
    "from tqdm import tqdm, trange\n",
    "from collections import Counter, defaultdict\n",
    "from transformers import PreTrainedTokenizer, AutoTokenizer\n",
    "import multiprocessing"
   ]
  },
  {
   "cell_type": "code",
   "execution_count": 2,
   "metadata": {
    "execution": {
     "iopub.execute_input": "2023-06-01T19:05:06.560011Z",
     "iopub.status.busy": "2023-06-01T19:05:06.559351Z",
     "iopub.status.idle": "2023-06-01T19:05:06.568677Z",
     "shell.execute_reply": "2023-06-01T19:05:06.567726Z"
    }
   },
   "outputs": [],
   "source": [
    "def cast_dtype(df : pd.DataFrame, columns=None):\n",
    "    if columns is None:\n",
    "        columns = df.columns\n",
    "    for k in columns:\n",
    "        dt = type(df[k].iloc[0])\n",
    "        if 'float' in str(dt):\n",
    "            df[k] = df[k].astype('float32')\n",
    "        elif 'int' in str(dt):\n",
    "            df[k] = df[k].astype('int32')\n",
    "        elif dt == list:\n",
    "            dt_ = type(df.iloc[0][k][0])\n",
    "            if 'float' in str(dt_):\n",
    "                df[k] = df[k].apply(lambda x : np.array(x, dtype=np.float32))\n",
    "            elif 'int' in str(dt_):\n",
    "                df[k] = df[k].apply(lambda x : np.array(x, dtype=np.int32))"
   ]
  },
  {
   "cell_type": "code",
   "execution_count": 3,
   "metadata": {
    "execution": {
     "iopub.execute_input": "2023-06-01T19:05:06.572606Z",
     "iopub.status.busy": "2023-06-01T19:05:06.572251Z",
     "iopub.status.idle": "2023-06-01T19:05:06.577669Z",
     "shell.execute_reply": "2023-06-01T19:05:06.576810Z"
    }
   },
   "outputs": [],
   "source": [
    "def tokenize_function(examples, corpus_col_name, tokenizer, max_length):\n",
    "    if corpus_col_name in examples:\n",
    "        return tokenizer(examples[corpus_col_name], \n",
    "            add_special_tokens=False, # don't add special tokens when preprocess\n",
    "            truncation=True, \n",
    "            max_length=max_length,\n",
    "            return_attention_mask=False,\n",
    "            return_token_type_ids=False)"
   ]
  },
  {
   "cell_type": "code",
   "execution_count": 4,
   "metadata": {
    "execution": {
     "iopub.execute_input": "2023-06-01T19:05:06.582143Z",
     "iopub.status.busy": "2023-06-01T19:05:06.581614Z",
     "iopub.status.idle": "2023-06-01T19:05:06.589168Z",
     "shell.execute_reply": "2023-06-01T19:05:06.588298Z"
    }
   },
   "outputs": [],
   "source": [
    "def construct_query_list_from_sessions(sessions_df:pd.DataFrame, product_map:dict, max_seq_len:int, product_corpus:list):\n",
    "    query_list = []\n",
    "    for sess in tqdm(sessions_df.itertuples(), total=sessions_df.shape[0]):\n",
    "        sess_locale = sess.locale\n",
    "        prev_items = eval(sess.prev_items.replace(' ', ','))[-max_seq_len : ]\n",
    "        prev_items = [product_map.get(sess_locale+'_'+item, 0) for item in prev_items]\n",
    "        sess_query = sum([product_corpus[item] for item in prev_items], [])\n",
    "        query_list.append(sess_query)\n",
    "    return query_list"
   ]
  },
  {
   "attachments": {},
   "cell_type": "markdown",
   "metadata": {},
   "source": [
    "# Merge valid BM25 score"
   ]
  },
  {
   "cell_type": "code",
   "execution_count": 5,
   "metadata": {
    "execution": {
     "iopub.execute_input": "2023-06-01T19:05:06.593532Z",
     "iopub.status.busy": "2023-06-01T19:05:06.593235Z",
     "iopub.status.idle": "2023-06-01T19:05:06.597042Z",
     "shell.execute_reply": "2023-06-01T19:05:06.596300Z"
    }
   },
   "outputs": [],
   "source": [
    "merged_candidates_feature_path = '/root/autodl-tmp/xiaolong/WorkSpace/Amazon-KDDCUP-23/XGBoost/candidates_phase2/merged_candidates_150_feature.parquet'\n",
    "product_data_path = '/root/autodl-tmp/xiaolong/WorkSpace/Amazon-KDDCUP-23/raw_data/products_train.csv'\n",
    "valid_sessions_path = '/root/autodl-tmp/xiaolong/WorkSpace/Amazon-KDDCUP-23/data_for_recstudio/task1_data/task13_4_task1_valid_sessions_phase2.csv'"
   ]
  },
  {
   "cell_type": "code",
   "execution_count": 6,
   "metadata": {
    "execution": {
     "iopub.execute_input": "2023-06-01T19:05:06.602471Z",
     "iopub.status.busy": "2023-06-01T19:05:06.601735Z",
     "iopub.status.idle": "2023-06-01T19:05:06.616479Z",
     "shell.execute_reply": "2023-06-01T19:05:06.615560Z"
    }
   },
   "outputs": [],
   "source": [
    "@lru_cache(maxsize=1)\n",
    "def read_merged_candidates_feature():\n",
    "    return pd.read_parquet(merged_candidates_feature_path, engine='pyarrow')\n",
    "\n",
    "@lru_cache(maxsize=1)\n",
    "def read_product_data():\n",
    "    return pd.read_csv(product_data_path)\n",
    "\n",
    "@lru_cache(maxsize=1)\n",
    "def read_valid_sessions():\n",
    "    return pd.read_csv(valid_sessions_path)\n"
   ]
  },
  {
   "cell_type": "code",
   "execution_count": 7,
   "metadata": {
    "execution": {
     "iopub.execute_input": "2023-06-01T19:05:06.620506Z",
     "iopub.status.busy": "2023-06-01T19:05:06.620047Z",
     "iopub.status.idle": "2023-06-01T19:06:04.245795Z",
     "shell.execute_reply": "2023-06-01T19:06:04.244324Z"
    }
   },
   "outputs": [],
   "source": [
    "merged_candidates_feature = read_merged_candidates_feature()\n",
    "product_data = read_product_data()\n",
    "valid_sessions = read_valid_sessions()"
   ]
  },
  {
   "cell_type": "code",
   "execution_count": 8,
   "metadata": {
    "execution": {
     "iopub.execute_input": "2023-06-01T19:06:04.251628Z",
     "iopub.status.busy": "2023-06-01T19:06:04.251210Z",
     "iopub.status.idle": "2023-06-01T19:06:04.257191Z",
     "shell.execute_reply": "2023-06-01T19:06:04.255692Z"
    }
   },
   "outputs": [],
   "source": [
    "TOKENIZER_NAME = 'xlm-roberta-base'\n",
    "MAX_FEAT_LEN = 200"
   ]
  },
  {
   "cell_type": "code",
   "execution_count": 9,
   "metadata": {
    "execution": {
     "iopub.execute_input": "2023-06-01T19:06:04.262595Z",
     "iopub.status.busy": "2023-06-01T19:06:04.261511Z",
     "iopub.status.idle": "2023-06-01T19:06:06.622821Z",
     "shell.execute_reply": "2023-06-01T19:06:06.621902Z"
    }
   },
   "outputs": [],
   "source": [
    "tokenizer = AutoTokenizer.from_pretrained(\n",
    "        TOKENIZER_NAME,\n",
    "        use_fast=False,\n",
    ")"
   ]
  },
  {
   "cell_type": "code",
   "execution_count": 10,
   "metadata": {
    "execution": {
     "iopub.execute_input": "2023-06-01T19:06:06.627419Z",
     "iopub.status.busy": "2023-06-01T19:06:06.626893Z",
     "iopub.status.idle": "2023-06-01T19:06:20.277062Z",
     "shell.execute_reply": "2023-06-01T19:06:20.276111Z"
    }
   },
   "outputs": [],
   "source": [
    "feat_corpus = product_data[['brand', 'color', 'size', 'model', 'material', 'author']]\n",
    "padding_df = pd.DataFrame({'brand' : [''], 'color' : [''], 'size' : [''], 'model' : [''], 'material' : [''], 'author' : ['']})\n",
    "feat_corpus = pd.concat([padding_df, feat_corpus]).reset_index(drop=True) # add padding product\n",
    "feat_corpus['brand'] = feat_corpus['brand'].fillna('')\n",
    "feat_corpus['color'] = feat_corpus['color'].fillna('')\n",
    "feat_corpus['size'] = feat_corpus['size'].fillna('')\n",
    "feat_corpus['model'] = feat_corpus['model'].fillna('')\n",
    "feat_corpus['material'] = feat_corpus['material'].fillna('')\n",
    "feat_corpus['author'] = feat_corpus['author'].fillna('')\n",
    "feat_corpus['feat'] = feat_corpus['brand'] + ' ' + feat_corpus['color'] + ' ' + feat_corpus['size'] + ' ' + feat_corpus['model'] \\\n",
    "        + ' ' + feat_corpus['material'] + ' ' + feat_corpus['author']\n",
    "feat_corpus['feat'] = feat_corpus['feat'].apply(lambda x : x.lower())\n"
   ]
  },
  {
   "cell_type": "code",
   "execution_count": 11,
   "metadata": {
    "execution": {
     "iopub.execute_input": "2023-06-01T19:06:20.285044Z",
     "iopub.status.busy": "2023-06-01T19:06:20.284378Z",
     "iopub.status.idle": "2023-06-01T19:09:23.222798Z",
     "shell.execute_reply": "2023-06-01T19:09:23.221772Z"
    }
   },
   "outputs": [
    {
     "name": "stderr",
     "output_type": "stream",
     "text": [
      "Parameter 'function'=<function Dataset.map.<locals>.decorate.<locals>.decorated at 0x7fdc7b1dee50> of the transform datasets.arrow_dataset.Dataset._map_single couldn't be hashed properly, a random hash was used instead. Make sure your transforms and parameters are serializable with pickle or dill for the dataset fingerprinting and caching to work. If you reuse this transform, the caching mechanism will consider it to be different from the previous calls and recompute everything. This warning is only showed once. Subsequent hashing failures won't be showed.\n"
     ]
    }
   ],
   "source": [
    "feat_corpus = TFDataset.from_pandas(feat_corpus, preserve_index=False)\n",
    "feat_corpus = feat_corpus.map(partial(tokenize_function, corpus_col_name='feat', tokenizer=tokenizer, max_length=MAX_FEAT_LEN), \n",
    "                                num_proc=8, remove_columns=['feat'], batched=True)\n",
    "feat_corpus_list = feat_corpus['input_ids']"
   ]
  },
  {
   "cell_type": "code",
   "execution_count": 12,
   "metadata": {
    "execution": {
     "iopub.execute_input": "2023-06-01T19:09:23.228861Z",
     "iopub.status.busy": "2023-06-01T19:09:23.228381Z",
     "iopub.status.idle": "2023-06-01T19:09:34.842070Z",
     "shell.execute_reply": "2023-06-01T19:09:34.840763Z"
    }
   },
   "outputs": [],
   "source": [
    "with open('/root/autodl-tmp/xiaolong/WorkSpace/Amazon-KDDCUP-23/bm25/cache/feat_bm25.pkl', 'rb') as f:\n",
    "    feat_BM25 = pickle.load(f)"
   ]
  },
  {
   "cell_type": "code",
   "execution_count": 13,
   "metadata": {
    "execution": {
     "iopub.execute_input": "2023-06-01T19:09:34.847904Z",
     "iopub.status.busy": "2023-06-01T19:09:34.847415Z",
     "iopub.status.idle": "2023-06-01T19:09:39.375634Z",
     "shell.execute_reply": "2023-06-01T19:09:39.374920Z"
    }
   },
   "outputs": [
    {
     "data": {
      "text/html": [
       "<div>\n",
       "<style scoped>\n",
       "    .dataframe tbody tr th:only-of-type {\n",
       "        vertical-align: middle;\n",
       "    }\n",
       "\n",
       "    .dataframe tbody tr th {\n",
       "        vertical-align: top;\n",
       "    }\n",
       "\n",
       "    .dataframe thead th {\n",
       "        text-align: right;\n",
       "    }\n",
       "</style>\n",
       "<table border=\"1\" class=\"dataframe\">\n",
       "  <thead>\n",
       "    <tr style=\"text-align: right;\">\n",
       "      <th></th>\n",
       "      <th>sess_id</th>\n",
       "      <th>sess_locale</th>\n",
       "      <th>product</th>\n",
       "    </tr>\n",
       "  </thead>\n",
       "  <tbody>\n",
       "    <tr>\n",
       "      <th>0</th>\n",
       "      <td>0</td>\n",
       "      <td>DE</td>\n",
       "      <td>355165591X</td>\n",
       "    </tr>\n",
       "    <tr>\n",
       "      <th>1</th>\n",
       "      <td>0</td>\n",
       "      <td>DE</td>\n",
       "      <td>3833237058</td>\n",
       "    </tr>\n",
       "    <tr>\n",
       "      <th>2</th>\n",
       "      <td>0</td>\n",
       "      <td>DE</td>\n",
       "      <td>B00CIXSI6U</td>\n",
       "    </tr>\n",
       "    <tr>\n",
       "      <th>3</th>\n",
       "      <td>0</td>\n",
       "      <td>DE</td>\n",
       "      <td>B00NVDOWUW</td>\n",
       "    </tr>\n",
       "    <tr>\n",
       "      <th>4</th>\n",
       "      <td>0</td>\n",
       "      <td>DE</td>\n",
       "      <td>B00NVDP3ZU</td>\n",
       "    </tr>\n",
       "    <tr>\n",
       "      <th>...</th>\n",
       "      <td>...</td>\n",
       "      <td>...</td>\n",
       "      <td>...</td>\n",
       "    </tr>\n",
       "    <tr>\n",
       "      <th>78842194</th>\n",
       "      <td>261815</td>\n",
       "      <td>UK</td>\n",
       "      <td>B0BCX524Y6</td>\n",
       "    </tr>\n",
       "    <tr>\n",
       "      <th>78842195</th>\n",
       "      <td>261815</td>\n",
       "      <td>UK</td>\n",
       "      <td>B0BCX6QB4L</td>\n",
       "    </tr>\n",
       "    <tr>\n",
       "      <th>78842196</th>\n",
       "      <td>261815</td>\n",
       "      <td>UK</td>\n",
       "      <td>B0BFPJYXQL</td>\n",
       "    </tr>\n",
       "    <tr>\n",
       "      <th>78842197</th>\n",
       "      <td>261815</td>\n",
       "      <td>UK</td>\n",
       "      <td>B0BH3X67S3</td>\n",
       "    </tr>\n",
       "    <tr>\n",
       "      <th>78842198</th>\n",
       "      <td>261815</td>\n",
       "      <td>UK</td>\n",
       "      <td>B0BH5MJGGB</td>\n",
       "    </tr>\n",
       "  </tbody>\n",
       "</table>\n",
       "<p>78842199 rows × 3 columns</p>\n",
       "</div>"
      ],
      "text/plain": [
       "          sess_id sess_locale     product\n",
       "0               0          DE  355165591X\n",
       "1               0          DE  3833237058\n",
       "2               0          DE  B00CIXSI6U\n",
       "3               0          DE  B00NVDOWUW\n",
       "4               0          DE  B00NVDP3ZU\n",
       "...           ...         ...         ...\n",
       "78842194   261815          UK  B0BCX524Y6\n",
       "78842195   261815          UK  B0BCX6QB4L\n",
       "78842196   261815          UK  B0BFPJYXQL\n",
       "78842197   261815          UK  B0BH3X67S3\n",
       "78842198   261815          UK  B0BH5MJGGB\n",
       "\n",
       "[78842199 rows x 3 columns]"
      ]
     },
     "execution_count": 13,
     "metadata": {},
     "output_type": "execute_result"
    }
   ],
   "source": [
    "merged_candidates = merged_candidates_feature[['sess_id', 'sess_locale', 'product']]\n",
    "merged_candidates"
   ]
  },
  {
   "cell_type": "code",
   "execution_count": 14,
   "metadata": {
    "execution": {
     "iopub.execute_input": "2023-06-01T19:09:39.381973Z",
     "iopub.status.busy": "2023-06-01T19:09:39.381565Z",
     "iopub.status.idle": "2023-06-01T19:09:39.490964Z",
     "shell.execute_reply": "2023-06-01T19:09:39.490268Z"
    }
   },
   "outputs": [
    {
     "name": "stderr",
     "output_type": "stream",
     "text": [
      "/tmp/ipykernel_687247/3969984160.py:2: SettingWithCopyWarning: \n",
      "A value is trying to be set on a copy of a slice from a DataFrame.\n",
      "Try using .loc[row_indexer,col_indexer] = value instead\n",
      "\n",
      "See the caveats in the documentation: https://pandas.pydata.org/pandas-docs/stable/user_guide/indexing.html#returning-a-view-versus-a-copy\n",
      "  product_index['product_index'] = product_index.index + 1\n"
     ]
    }
   ],
   "source": [
    "product_index = product_data[['id', 'locale']]\n",
    "product_index['product_index'] = product_index.index + 1"
   ]
  },
  {
   "cell_type": "code",
   "execution_count": null,
   "metadata": {
    "execution": {
     "iopub.execute_input": "2023-06-01T19:09:39.604269Z",
     "iopub.status.busy": "2023-06-01T19:09:39.603849Z",
     "iopub.status.idle": "2023-06-01T19:11:39.091015Z",
     "shell.execute_reply": "2023-06-01T19:11:39.089701Z"
    }
   },
   "outputs": [],
   "source": [
    "merged_candidates = merged_candidates.merge(product_index, how='left', left_on=['sess_locale', 'product'], right_on=['locale', 'id'])\n",
    "merged_candidates['product_index'] = merged_candidates['product_index'].fillna(0)\n",
    "merged_candidates['product_index'] = merged_candidates['product_index'].astype('int64')\n",
    "merged_candidates.drop(columns=['id', 'locale'], inplace=True)\n",
    "assert len(merged_candidates) == len(merged_candidates_feature)\n",
    "merged_candidates_grouped = merged_candidates.groupby(by='sess_id')['product_index'].apply(list)"
   ]
  },
  {
   "cell_type": "code",
   "execution_count": 17,
   "metadata": {
    "execution": {
     "iopub.execute_input": "2023-06-01T19:11:39.097532Z",
     "iopub.status.busy": "2023-06-01T19:11:39.096908Z",
     "iopub.status.idle": "2023-06-01T19:11:46.483658Z",
     "shell.execute_reply": "2023-06-01T19:11:46.482897Z"
    }
   },
   "outputs": [
    {
     "name": "stderr",
     "output_type": "stream",
     "text": [
      "100%|██████████| 1551057/1551057 [00:07<00:00, 197882.86it/s]\n"
     ]
    }
   ],
   "source": [
    "locale_product_map = {}\n",
    "for row in tqdm(product_data.itertuples(), total=product_data.shape[0]):\n",
    "    locale_product_map[row.locale+'_'+row.id] = row.Index + 1"
   ]
  },
  {
   "cell_type": "code",
   "execution_count": 18,
   "metadata": {
    "execution": {
     "iopub.execute_input": "2023-06-01T19:11:46.493461Z",
     "iopub.status.busy": "2023-06-01T19:11:46.492948Z",
     "iopub.status.idle": "2023-06-01T19:12:03.943017Z",
     "shell.execute_reply": "2023-06-01T19:12:03.941970Z"
    }
   },
   "outputs": [
    {
     "name": "stderr",
     "output_type": "stream",
     "text": [
      "100%|██████████| 261816/261816 [00:10<00:00, 24694.72it/s]\n"
     ]
    }
   ],
   "source": [
    "# construct query list \n",
    "valid_query_list = construct_query_list_from_sessions(valid_sessions, locale_product_map, 5, product_corpus=feat_corpus_list)"
   ]
  },
  {
   "cell_type": "code",
   "execution_count": 19,
   "metadata": {
    "execution": {
     "iopub.execute_input": "2023-06-01T19:12:03.951146Z",
     "iopub.status.busy": "2023-06-01T19:12:03.950623Z",
     "iopub.status.idle": "2023-06-01T19:12:03.956762Z",
     "shell.execute_reply": "2023-06-01T19:12:03.955766Z"
    }
   },
   "outputs": [],
   "source": [
    "def get_sess_scores(sess):\n",
    "    sess_id = sess['sess_id']\n",
    "    scores = feat_BM25.get_batch_scores(valid_query_list[sess_id], merged_candidates_grouped[sess_id])\n",
    "    return {'sess_bm25_scores' : scores}"
   ]
  },
  {
   "cell_type": "code",
   "execution_count": 57,
   "metadata": {},
   "outputs": [],
   "source": [
    "scores = feat_BM25.get_scores(valid_query_list[150102])\n",
    "top_n = np.argsort(scores)[::-1][:5]"
   ]
  },
  {
   "cell_type": "code",
   "execution_count": 58,
   "metadata": {},
   "outputs": [
    {
     "data": {
      "text/plain": [
       "array([1069719,  970734,   19560, 1244867, 1183103])"
      ]
     },
     "execution_count": 58,
     "metadata": {},
     "output_type": "execute_result"
    }
   ],
   "source": [
    "top_n"
   ]
  },
  {
   "cell_type": "code",
   "execution_count": 42,
   "metadata": {
    "execution": {
     "iopub.execute_input": "2023-06-01T19:09:39.497864Z",
     "iopub.status.busy": "2023-06-01T19:09:39.497257Z",
     "iopub.status.idle": "2023-06-01T19:09:39.598449Z",
     "shell.execute_reply": "2023-06-01T19:09:39.597543Z"
    }
   },
   "outputs": [
    {
     "data": {
      "text/html": [
       "<div>\n",
       "<style scoped>\n",
       "    .dataframe tbody tr th:only-of-type {\n",
       "        vertical-align: middle;\n",
       "    }\n",
       "\n",
       "    .dataframe tbody tr th {\n",
       "        vertical-align: top;\n",
       "    }\n",
       "\n",
       "    .dataframe thead th {\n",
       "        text-align: right;\n",
       "    }\n",
       "</style>\n",
       "<table border=\"1\" class=\"dataframe\">\n",
       "  <thead>\n",
       "    <tr style=\"text-align: right;\">\n",
       "      <th></th>\n",
       "      <th>id</th>\n",
       "      <th>locale</th>\n",
       "      <th>product_index</th>\n",
       "    </tr>\n",
       "  </thead>\n",
       "  <tbody>\n",
       "    <tr>\n",
       "      <th>1329918</th>\n",
       "      <td>B004FG87G4</td>\n",
       "      <td>UK</td>\n",
       "      <td>1329919</td>\n",
       "    </tr>\n",
       "  </tbody>\n",
       "</table>\n",
       "</div>"
      ],
      "text/plain": [
       "                 id locale  product_index\n",
       "1329918  B004FG87G4     UK        1329919"
      ]
     },
     "execution_count": 42,
     "metadata": {},
     "output_type": "execute_result"
    }
   ],
   "source": [
    "product_index.query(\"id=='B004FG87G4' & locale=='UK'\")"
   ]
  },
  {
   "cell_type": "code",
   "execution_count": 36,
   "metadata": {},
   "outputs": [
    {
     "data": {
      "text/plain": [
       "'tlarder black s aluminium applaws 70g 70 g (pack of 12) mm1019net'"
      ]
     },
     "execution_count": 36,
     "metadata": {},
     "output_type": "execute_result"
    }
   ],
   "source": [
    "tokenizer.decode(valid_query_list[250102])"
   ]
  },
  {
   "cell_type": "code",
   "execution_count": 37,
   "metadata": {},
   "outputs": [
    {
     "data": {
      "text/plain": [
       "'applaws 70 g (pack of 12) 9100946'"
      ]
     },
     "execution_count": 37,
     "metadata": {},
     "output_type": "execute_result"
    }
   ],
   "source": [
    "tokenizer.decode(feat_corpus[1275708]['input_ids'])"
   ]
  },
  {
   "cell_type": "code",
   "execution_count": 39,
   "metadata": {},
   "outputs": [
    {
     "data": {
      "text/plain": [
       "'applaws 70 g (pack of 12) 1017ml-ac'"
      ]
     },
     "execution_count": 39,
     "metadata": {},
     "output_type": "execute_result"
    }
   ],
   "source": [
    "tokenizer.decode(feat_corpus[1164316]['input_ids'])"
   ]
  },
  {
   "cell_type": "code",
   "execution_count": 41,
   "metadata": {},
   "outputs": [
    {
     "data": {
      "text/plain": [
       "'applaws 70 g (pack of 12) 8001ml-a'"
      ]
     },
     "execution_count": 41,
     "metadata": {},
     "output_type": "execute_result"
    }
   ],
   "source": [
    "tokenizer.decode(feat_corpus[1033024]['input_ids'])\n"
   ]
  },
  {
   "cell_type": "code",
   "execution_count": 43,
   "metadata": {},
   "outputs": [
    {
     "data": {
      "text/plain": [
       "'applaws adult 70 g (pack of 24) 9104464'"
      ]
     },
     "execution_count": 43,
     "metadata": {},
     "output_type": "execute_result"
    }
   ],
   "source": [
    "tokenizer.decode(feat_corpus[1329919]['input_ids'])\n"
   ]
  },
  {
   "cell_type": "code",
   "execution_count": 20,
   "metadata": {
    "execution": {
     "iopub.execute_input": "2023-06-01T19:12:03.962417Z",
     "iopub.status.busy": "2023-06-01T19:12:03.961661Z",
     "iopub.status.idle": "2023-06-01T19:26:18.588406Z",
     "shell.execute_reply": "2023-06-01T19:26:18.587195Z"
    }
   },
   "outputs": [],
   "source": [
    "# about 23 mins\n",
    "datasets.set_progress_bar_enabled(False)\n",
    "valid_query_dataset = TFDataset.from_dict({'sess_id' : list(range(len(valid_query_list)))})\n",
    "valid_query_dataset = valid_query_dataset.map(get_sess_scores, num_proc=20, batched=False)\n",
    "datasets.set_progress_bar_enabled(True)"
   ]
  },
  {
   "cell_type": "code",
   "execution_count": 21,
   "metadata": {
    "execution": {
     "iopub.execute_input": "2023-06-01T19:26:18.594901Z",
     "iopub.status.busy": "2023-06-01T19:26:18.594296Z",
     "iopub.status.idle": "2023-06-01T19:26:59.733908Z",
     "shell.execute_reply": "2023-06-01T19:26:59.732267Z"
    }
   },
   "outputs": [],
   "source": [
    "valid_scores_list = valid_query_dataset['sess_bm25_scores']"
   ]
  },
  {
   "cell_type": "code",
   "execution_count": 22,
   "metadata": {
    "execution": {
     "iopub.execute_input": "2023-06-01T19:26:59.741230Z",
     "iopub.status.busy": "2023-06-01T19:26:59.740640Z",
     "iopub.status.idle": "2023-06-01T19:27:11.264262Z",
     "shell.execute_reply": "2023-06-01T19:27:11.263303Z"
    }
   },
   "outputs": [
    {
     "name": "stderr",
     "output_type": "stream",
     "text": [
      "100%|██████████| 261816/261816 [00:24<00:00, 10877.77it/s]\n"
     ]
    }
   ],
   "source": [
    "merged_bm25_scores = []\n",
    "for scores_set in tqdm(valid_scores_list):\n",
    "    for s in scores_set:\n",
    "        merged_bm25_scores.append(s)\n",
    "assert len(merged_bm25_scores) == len(merged_candidates)\n",
    "assert len(merged_bm25_scores) == len(merged_candidates_feature)"
   ]
  },
  {
   "cell_type": "code",
   "execution_count": 24,
   "metadata": {
    "execution": {
     "iopub.execute_input": "2023-06-01T19:27:11.270350Z",
     "iopub.status.busy": "2023-06-01T19:27:11.269913Z",
     "iopub.status.idle": "2023-06-01T19:27:24.782149Z",
     "shell.execute_reply": "2023-06-01T19:27:24.780837Z"
    }
   },
   "outputs": [],
   "source": [
    "merged_candidates_feature['feat_BM25_scores'] = merged_bm25_scores"
   ]
  },
  {
   "cell_type": "code",
   "execution_count": 67,
   "metadata": {
    "execution": {
     "iopub.execute_input": "2023-06-01T19:27:24.787806Z",
     "iopub.status.busy": "2023-06-01T19:27:24.787271Z",
     "iopub.status.idle": "2023-06-01T19:28:54.467020Z",
     "shell.execute_reply": "2023-06-01T19:28:54.465132Z"
    }
   },
   "outputs": [],
   "source": [
    "cast_dtype(merged_candidates_feature, ['feat_BM25_scores'])\n",
    "merged_candidates_feature.to_parquet(merged_candidates_feature_path)"
   ]
  },
  {
   "cell_type": "code",
   "execution_count": 44,
   "metadata": {
    "execution": {
     "iopub.execute_input": "2023-06-01T19:28:54.473795Z",
     "iopub.status.busy": "2023-06-01T19:28:54.472736Z",
     "iopub.status.idle": "2023-06-01T19:29:04.446527Z",
     "shell.execute_reply": "2023-06-01T19:29:04.445618Z"
    }
   },
   "outputs": [
    {
     "data": {
      "text/html": [
       "<div>\n",
       "<style scoped>\n",
       "    .dataframe tbody tr th:only-of-type {\n",
       "        vertical-align: middle;\n",
       "    }\n",
       "\n",
       "    .dataframe tbody tr th {\n",
       "        vertical-align: top;\n",
       "    }\n",
       "\n",
       "    .dataframe thead th {\n",
       "        text-align: right;\n",
       "    }\n",
       "</style>\n",
       "<table border=\"1\" class=\"dataframe\">\n",
       "  <thead>\n",
       "    <tr style=\"text-align: right;\">\n",
       "      <th></th>\n",
       "      <th>sess_id</th>\n",
       "      <th>sess_locale</th>\n",
       "      <th>product</th>\n",
       "      <th>feat_BM25_scores</th>\n",
       "      <th>normalized_sasrec_scores_2</th>\n",
       "    </tr>\n",
       "  </thead>\n",
       "  <tbody>\n",
       "    <tr>\n",
       "      <th>66317107</th>\n",
       "      <td>220102</td>\n",
       "      <td>UK</td>\n",
       "      <td>B078748C4T</td>\n",
       "      <td>88.072678</td>\n",
       "      <td>2.013201e-01</td>\n",
       "    </tr>\n",
       "    <tr>\n",
       "      <th>66317112</th>\n",
       "      <td>220102</td>\n",
       "      <td>UK</td>\n",
       "      <td>B079YW4SD3</td>\n",
       "      <td>77.730469</td>\n",
       "      <td>3.801024e-05</td>\n",
       "    </tr>\n",
       "    <tr>\n",
       "      <th>66317059</th>\n",
       "      <td>220102</td>\n",
       "      <td>UK</td>\n",
       "      <td>B01MT6DAG4</td>\n",
       "      <td>63.776562</td>\n",
       "      <td>4.546821e-06</td>\n",
       "    </tr>\n",
       "    <tr>\n",
       "      <th>66317040</th>\n",
       "      <td>220102</td>\n",
       "      <td>UK</td>\n",
       "      <td>B00WZRQNAC</td>\n",
       "      <td>59.516838</td>\n",
       "      <td>4.448581e-02</td>\n",
       "    </tr>\n",
       "    <tr>\n",
       "      <th>66317111</th>\n",
       "      <td>220102</td>\n",
       "      <td>UK</td>\n",
       "      <td>B079YSXCD8</td>\n",
       "      <td>58.733582</td>\n",
       "      <td>9.240651e-03</td>\n",
       "    </tr>\n",
       "    <tr>\n",
       "      <th>66317027</th>\n",
       "      <td>220102</td>\n",
       "      <td>UK</td>\n",
       "      <td>B00P1HCBI6</td>\n",
       "      <td>57.892109</td>\n",
       "      <td>1.082161e-05</td>\n",
       "    </tr>\n",
       "    <tr>\n",
       "      <th>66317246</th>\n",
       "      <td>220102</td>\n",
       "      <td>UK</td>\n",
       "      <td>B09BDBYFWQ</td>\n",
       "      <td>56.900654</td>\n",
       "      <td>2.199206e-02</td>\n",
       "    </tr>\n",
       "    <tr>\n",
       "      <th>66317094</th>\n",
       "      <td>220102</td>\n",
       "      <td>UK</td>\n",
       "      <td>B074YT5FL6</td>\n",
       "      <td>55.936466</td>\n",
       "      <td>1.292779e-03</td>\n",
       "    </tr>\n",
       "    <tr>\n",
       "      <th>66317180</th>\n",
       "      <td>220102</td>\n",
       "      <td>UK</td>\n",
       "      <td>B081SWBSFD</td>\n",
       "      <td>55.764687</td>\n",
       "      <td>1.397770e-09</td>\n",
       "    </tr>\n",
       "    <tr>\n",
       "      <th>66317212</th>\n",
       "      <td>220102</td>\n",
       "      <td>UK</td>\n",
       "      <td>B08MRMLTKQ</td>\n",
       "      <td>55.249546</td>\n",
       "      <td>4.006482e-04</td>\n",
       "    </tr>\n",
       "    <tr>\n",
       "      <th>66317132</th>\n",
       "      <td>220102</td>\n",
       "      <td>UK</td>\n",
       "      <td>B07JNNLL6Z</td>\n",
       "      <td>54.720791</td>\n",
       "      <td>1.188253e-05</td>\n",
       "    </tr>\n",
       "    <tr>\n",
       "      <th>66317093</th>\n",
       "      <td>220102</td>\n",
       "      <td>UK</td>\n",
       "      <td>B074YPMWP2</td>\n",
       "      <td>53.898926</td>\n",
       "      <td>1.939434e-04</td>\n",
       "    </tr>\n",
       "    <tr>\n",
       "      <th>66317211</th>\n",
       "      <td>220102</td>\n",
       "      <td>UK</td>\n",
       "      <td>B08MRMLQRN</td>\n",
       "      <td>53.478214</td>\n",
       "      <td>1.908272e-04</td>\n",
       "    </tr>\n",
       "    <tr>\n",
       "      <th>66317039</th>\n",
       "      <td>220102</td>\n",
       "      <td>UK</td>\n",
       "      <td>B00WZRP6K0</td>\n",
       "      <td>53.440468</td>\n",
       "      <td>5.129721e-03</td>\n",
       "    </tr>\n",
       "    <tr>\n",
       "      <th>66317210</th>\n",
       "      <td>220102</td>\n",
       "      <td>UK</td>\n",
       "      <td>B08MRKPT9H</td>\n",
       "      <td>52.920891</td>\n",
       "      <td>3.038107e-04</td>\n",
       "    </tr>\n",
       "    <tr>\n",
       "      <th>66317181</th>\n",
       "      <td>220102</td>\n",
       "      <td>UK</td>\n",
       "      <td>B081SWJMC6</td>\n",
       "      <td>52.417706</td>\n",
       "      <td>1.455936e-06</td>\n",
       "    </tr>\n",
       "    <tr>\n",
       "      <th>66317114</th>\n",
       "      <td>220102</td>\n",
       "      <td>UK</td>\n",
       "      <td>B07C595KFT</td>\n",
       "      <td>52.417706</td>\n",
       "      <td>8.198460e-03</td>\n",
       "    </tr>\n",
       "    <tr>\n",
       "      <th>66317184</th>\n",
       "      <td>220102</td>\n",
       "      <td>UK</td>\n",
       "      <td>B081SXMNMN</td>\n",
       "      <td>52.417706</td>\n",
       "      <td>6.214439e-07</td>\n",
       "    </tr>\n",
       "    <tr>\n",
       "      <th>66317302</th>\n",
       "      <td>220102</td>\n",
       "      <td>UK</td>\n",
       "      <td>B0BJKFXQRV</td>\n",
       "      <td>51.750786</td>\n",
       "      <td>9.299104e-03</td>\n",
       "    </tr>\n",
       "    <tr>\n",
       "      <th>66316987</th>\n",
       "      <td>220102</td>\n",
       "      <td>UK</td>\n",
       "      <td>B001V9LB9I</td>\n",
       "      <td>51.750786</td>\n",
       "      <td>9.696553e-04</td>\n",
       "    </tr>\n",
       "    <tr>\n",
       "      <th>66317022</th>\n",
       "      <td>220102</td>\n",
       "      <td>UK</td>\n",
       "      <td>B00MGK9Q5M</td>\n",
       "      <td>51.750786</td>\n",
       "      <td>8.563035e-05</td>\n",
       "    </tr>\n",
       "    <tr>\n",
       "      <th>66316995</th>\n",
       "      <td>220102</td>\n",
       "      <td>UK</td>\n",
       "      <td>B004IW9Y30</td>\n",
       "      <td>51.750786</td>\n",
       "      <td>2.868732e-04</td>\n",
       "    </tr>\n",
       "    <tr>\n",
       "      <th>66317207</th>\n",
       "      <td>220102</td>\n",
       "      <td>UK</td>\n",
       "      <td>B08M58SWB1</td>\n",
       "      <td>51.692276</td>\n",
       "      <td>3.667139e-04</td>\n",
       "    </tr>\n",
       "    <tr>\n",
       "      <th>66317038</th>\n",
       "      <td>220102</td>\n",
       "      <td>UK</td>\n",
       "      <td>B00WZRMTPA</td>\n",
       "      <td>51.527504</td>\n",
       "      <td>8.426500e-03</td>\n",
       "    </tr>\n",
       "    <tr>\n",
       "      <th>66317045</th>\n",
       "      <td>220102</td>\n",
       "      <td>UK</td>\n",
       "      <td>B017OF39W4</td>\n",
       "      <td>51.527504</td>\n",
       "      <td>1.227458e-03</td>\n",
       "    </tr>\n",
       "  </tbody>\n",
       "</table>\n",
       "</div>"
      ],
      "text/plain": [
       "          sess_id sess_locale     product  feat_BM25_scores  \\\n",
       "66317107   220102          UK  B078748C4T         88.072678   \n",
       "66317112   220102          UK  B079YW4SD3         77.730469   \n",
       "66317059   220102          UK  B01MT6DAG4         63.776562   \n",
       "66317040   220102          UK  B00WZRQNAC         59.516838   \n",
       "66317111   220102          UK  B079YSXCD8         58.733582   \n",
       "66317027   220102          UK  B00P1HCBI6         57.892109   \n",
       "66317246   220102          UK  B09BDBYFWQ         56.900654   \n",
       "66317094   220102          UK  B074YT5FL6         55.936466   \n",
       "66317180   220102          UK  B081SWBSFD         55.764687   \n",
       "66317212   220102          UK  B08MRMLTKQ         55.249546   \n",
       "66317132   220102          UK  B07JNNLL6Z         54.720791   \n",
       "66317093   220102          UK  B074YPMWP2         53.898926   \n",
       "66317211   220102          UK  B08MRMLQRN         53.478214   \n",
       "66317039   220102          UK  B00WZRP6K0         53.440468   \n",
       "66317210   220102          UK  B08MRKPT9H         52.920891   \n",
       "66317181   220102          UK  B081SWJMC6         52.417706   \n",
       "66317114   220102          UK  B07C595KFT         52.417706   \n",
       "66317184   220102          UK  B081SXMNMN         52.417706   \n",
       "66317302   220102          UK  B0BJKFXQRV         51.750786   \n",
       "66316987   220102          UK  B001V9LB9I         51.750786   \n",
       "66317022   220102          UK  B00MGK9Q5M         51.750786   \n",
       "66316995   220102          UK  B004IW9Y30         51.750786   \n",
       "66317207   220102          UK  B08M58SWB1         51.692276   \n",
       "66317038   220102          UK  B00WZRMTPA         51.527504   \n",
       "66317045   220102          UK  B017OF39W4         51.527504   \n",
       "\n",
       "          normalized_sasrec_scores_2  \n",
       "66317107                2.013201e-01  \n",
       "66317112                3.801024e-05  \n",
       "66317059                4.546821e-06  \n",
       "66317040                4.448581e-02  \n",
       "66317111                9.240651e-03  \n",
       "66317027                1.082161e-05  \n",
       "66317246                2.199206e-02  \n",
       "66317094                1.292779e-03  \n",
       "66317180                1.397770e-09  \n",
       "66317212                4.006482e-04  \n",
       "66317132                1.188253e-05  \n",
       "66317093                1.939434e-04  \n",
       "66317211                1.908272e-04  \n",
       "66317039                5.129721e-03  \n",
       "66317210                3.038107e-04  \n",
       "66317181                1.455936e-06  \n",
       "66317114                8.198460e-03  \n",
       "66317184                6.214439e-07  \n",
       "66317302                9.299104e-03  \n",
       "66316987                9.696553e-04  \n",
       "66317022                8.563035e-05  \n",
       "66316995                2.868732e-04  \n",
       "66317207                3.667139e-04  \n",
       "66317038                8.426500e-03  \n",
       "66317045                1.227458e-03  "
      ]
     },
     "execution_count": 44,
     "metadata": {},
     "output_type": "execute_result"
    }
   ],
   "source": [
    "merged_candidates_feature.query('sess_id==250102').sort_values(by=['feat_BM25_scores'], ascending=False)[['sess_id', 'sess_locale', 'product', 'feat_BM25_scores', 'normalized_sasrec_scores_2']][:25]"
   ]
  },
  {
   "cell_type": "code",
   "execution_count": 26,
   "metadata": {
    "execution": {
     "iopub.execute_input": "2023-06-01T19:29:04.453563Z",
     "iopub.status.busy": "2023-06-01T19:29:04.453034Z",
     "iopub.status.idle": "2023-06-01T19:29:04.465785Z",
     "shell.execute_reply": "2023-06-01T19:29:04.465194Z"
    }
   },
   "outputs": [
    {
     "data": {
      "text/html": [
       "<div>\n",
       "<style scoped>\n",
       "    .dataframe tbody tr th:only-of-type {\n",
       "        vertical-align: middle;\n",
       "    }\n",
       "\n",
       "    .dataframe tbody tr th {\n",
       "        vertical-align: top;\n",
       "    }\n",
       "\n",
       "    .dataframe thead th {\n",
       "        text-align: right;\n",
       "    }\n",
       "</style>\n",
       "<table border=\"1\" class=\"dataframe\">\n",
       "  <thead>\n",
       "    <tr style=\"text-align: right;\">\n",
       "      <th></th>\n",
       "      <th>sess_id</th>\n",
       "      <th>sess_locale</th>\n",
       "      <th>product</th>\n",
       "      <th>product_index</th>\n",
       "    </tr>\n",
       "  </thead>\n",
       "  <tbody>\n",
       "    <tr>\n",
       "      <th>0</th>\n",
       "      <td>0</td>\n",
       "      <td>DE</td>\n",
       "      <td>355165591X</td>\n",
       "      <td>127299</td>\n",
       "    </tr>\n",
       "    <tr>\n",
       "      <th>1</th>\n",
       "      <td>0</td>\n",
       "      <td>DE</td>\n",
       "      <td>3833237058</td>\n",
       "      <td>248194</td>\n",
       "    </tr>\n",
       "    <tr>\n",
       "      <th>2</th>\n",
       "      <td>0</td>\n",
       "      <td>DE</td>\n",
       "      <td>B00CIXSI6U</td>\n",
       "      <td>115708</td>\n",
       "    </tr>\n",
       "    <tr>\n",
       "      <th>3</th>\n",
       "      <td>0</td>\n",
       "      <td>DE</td>\n",
       "      <td>B00NVDOWUW</td>\n",
       "      <td>55370</td>\n",
       "    </tr>\n",
       "    <tr>\n",
       "      <th>4</th>\n",
       "      <td>0</td>\n",
       "      <td>DE</td>\n",
       "      <td>B00NVDP3ZU</td>\n",
       "      <td>100302</td>\n",
       "    </tr>\n",
       "    <tr>\n",
       "      <th>...</th>\n",
       "      <td>...</td>\n",
       "      <td>...</td>\n",
       "      <td>...</td>\n",
       "      <td>...</td>\n",
       "    </tr>\n",
       "    <tr>\n",
       "      <th>78842194</th>\n",
       "      <td>261815</td>\n",
       "      <td>UK</td>\n",
       "      <td>B0BCX524Y6</td>\n",
       "      <td>982599</td>\n",
       "    </tr>\n",
       "    <tr>\n",
       "      <th>78842195</th>\n",
       "      <td>261815</td>\n",
       "      <td>UK</td>\n",
       "      <td>B0BCX6QB4L</td>\n",
       "      <td>1046447</td>\n",
       "    </tr>\n",
       "    <tr>\n",
       "      <th>78842196</th>\n",
       "      <td>261815</td>\n",
       "      <td>UK</td>\n",
       "      <td>B0BFPJYXQL</td>\n",
       "      <td>1187691</td>\n",
       "    </tr>\n",
       "    <tr>\n",
       "      <th>78842197</th>\n",
       "      <td>261815</td>\n",
       "      <td>UK</td>\n",
       "      <td>B0BH3X67S3</td>\n",
       "      <td>983386</td>\n",
       "    </tr>\n",
       "    <tr>\n",
       "      <th>78842198</th>\n",
       "      <td>261815</td>\n",
       "      <td>UK</td>\n",
       "      <td>B0BH5MJGGB</td>\n",
       "      <td>1041957</td>\n",
       "    </tr>\n",
       "  </tbody>\n",
       "</table>\n",
       "<p>78842199 rows × 4 columns</p>\n",
       "</div>"
      ],
      "text/plain": [
       "          sess_id sess_locale     product  product_index\n",
       "0               0          DE  355165591X         127299\n",
       "1               0          DE  3833237058         248194\n",
       "2               0          DE  B00CIXSI6U         115708\n",
       "3               0          DE  B00NVDOWUW          55370\n",
       "4               0          DE  B00NVDP3ZU         100302\n",
       "...           ...         ...         ...            ...\n",
       "78842194   261815          UK  B0BCX524Y6         982599\n",
       "78842195   261815          UK  B0BCX6QB4L        1046447\n",
       "78842196   261815          UK  B0BFPJYXQL        1187691\n",
       "78842197   261815          UK  B0BH3X67S3         983386\n",
       "78842198   261815          UK  B0BH5MJGGB        1041957\n",
       "\n",
       "[78842199 rows x 4 columns]"
      ]
     },
     "execution_count": 26,
     "metadata": {},
     "output_type": "execute_result"
    }
   ],
   "source": [
    "merged_candidates"
   ]
  },
  {
   "cell_type": "code",
   "execution_count": 27,
   "metadata": {
    "execution": {
     "iopub.execute_input": "2023-06-01T19:29:04.471837Z",
     "iopub.status.busy": "2023-06-01T19:29:04.471397Z",
     "iopub.status.idle": "2023-06-01T19:29:04.503239Z",
     "shell.execute_reply": "2023-06-01T19:29:04.502574Z"
    }
   },
   "outputs": [
    {
     "data": {
      "text/html": [
       "<div>\n",
       "<style scoped>\n",
       "    .dataframe tbody tr th:only-of-type {\n",
       "        vertical-align: middle;\n",
       "    }\n",
       "\n",
       "    .dataframe tbody tr th {\n",
       "        vertical-align: top;\n",
       "    }\n",
       "\n",
       "    .dataframe thead th {\n",
       "        text-align: right;\n",
       "    }\n",
       "</style>\n",
       "<table border=\"1\" class=\"dataframe\">\n",
       "  <thead>\n",
       "    <tr style=\"text-align: right;\">\n",
       "      <th></th>\n",
       "      <th>sess_id</th>\n",
       "      <th>sess_locale</th>\n",
       "      <th>product</th>\n",
       "      <th>target</th>\n",
       "      <th>sess_avg_price</th>\n",
       "      <th>product_price</th>\n",
       "      <th>product_freq</th>\n",
       "      <th>sasrec_scores_3</th>\n",
       "      <th>normalized_sasrec_scores_3</th>\n",
       "      <th>sasrec_scores_2</th>\n",
       "      <th>normalized_sasrec_scores_2</th>\n",
       "      <th>seqmlp_scores</th>\n",
       "      <th>normalized_seqmlp_scores</th>\n",
       "      <th>narm_scores</th>\n",
       "      <th>normalized_narm_scores</th>\n",
       "      <th>gru4rec_scores_2</th>\n",
       "      <th>normalized_gru4rec_scores_2</th>\n",
       "      <th>title_BM25_scores</th>\n",
       "      <th>desc_BM25_scores</th>\n",
       "    </tr>\n",
       "  </thead>\n",
       "  <tbody>\n",
       "    <tr>\n",
       "      <th>0</th>\n",
       "      <td>0</td>\n",
       "      <td>DE</td>\n",
       "      <td>355165591X</td>\n",
       "      <td>0.0</td>\n",
       "      <td>43.256542</td>\n",
       "      <td>8.990000</td>\n",
       "      <td>51.0</td>\n",
       "      <td>2.230508</td>\n",
       "      <td>7.658405e-09</td>\n",
       "      <td>0.512931</td>\n",
       "      <td>1.377575e-09</td>\n",
       "      <td>6.044256</td>\n",
       "      <td>3.054954e-09</td>\n",
       "      <td>3.628220</td>\n",
       "      <td>1.469988e-13</td>\n",
       "      <td>5.093824</td>\n",
       "      <td>1.288155e-10</td>\n",
       "      <td>0.000000</td>\n",
       "      <td>0.455206</td>\n",
       "    </tr>\n",
       "    <tr>\n",
       "      <th>1</th>\n",
       "      <td>0</td>\n",
       "      <td>DE</td>\n",
       "      <td>3833237058</td>\n",
       "      <td>0.0</td>\n",
       "      <td>43.256542</td>\n",
       "      <td>22.000000</td>\n",
       "      <td>84.0</td>\n",
       "      <td>9.605231</td>\n",
       "      <td>1.221631e-05</td>\n",
       "      <td>9.325538</td>\n",
       "      <td>9.255110e-06</td>\n",
       "      <td>10.732503</td>\n",
       "      <td>3.319589e-07</td>\n",
       "      <td>15.734776</td>\n",
       "      <td>2.661486e-08</td>\n",
       "      <td>13.133082</td>\n",
       "      <td>3.993682e-07</td>\n",
       "      <td>89.696823</td>\n",
       "      <td>0.904280</td>\n",
       "    </tr>\n",
       "    <tr>\n",
       "      <th>2</th>\n",
       "      <td>0</td>\n",
       "      <td>DE</td>\n",
       "      <td>B00CIXSI6U</td>\n",
       "      <td>0.0</td>\n",
       "      <td>43.256542</td>\n",
       "      <td>6.470000</td>\n",
       "      <td>7.0</td>\n",
       "      <td>0.714114</td>\n",
       "      <td>1.681035e-09</td>\n",
       "      <td>-0.115904</td>\n",
       "      <td>7.345399e-10</td>\n",
       "      <td>4.902086</td>\n",
       "      <td>9.749146e-10</td>\n",
       "      <td>7.462822</td>\n",
       "      <td>6.802375e-12</td>\n",
       "      <td>4.295491</td>\n",
       "      <td>5.797709e-11</td>\n",
       "      <td>0.000000</td>\n",
       "      <td>0.000000</td>\n",
       "    </tr>\n",
       "    <tr>\n",
       "      <th>3</th>\n",
       "      <td>0</td>\n",
       "      <td>DE</td>\n",
       "      <td>B00NVDOWUW</td>\n",
       "      <td>0.0</td>\n",
       "      <td>43.256542</td>\n",
       "      <td>11.990000</td>\n",
       "      <td>166.0</td>\n",
       "      <td>8.750996</td>\n",
       "      <td>5.199363e-06</td>\n",
       "      <td>8.507557</td>\n",
       "      <td>4.084482e-06</td>\n",
       "      <td>13.401752</td>\n",
       "      <td>4.789881e-06</td>\n",
       "      <td>9.774860</td>\n",
       "      <td>6.866981e-11</td>\n",
       "      <td>10.362890</td>\n",
       "      <td>2.502041e-08</td>\n",
       "      <td>180.035004</td>\n",
       "      <td>252.282623</td>\n",
       "    </tr>\n",
       "    <tr>\n",
       "      <th>4</th>\n",
       "      <td>0</td>\n",
       "      <td>DE</td>\n",
       "      <td>B00NVDP3ZU</td>\n",
       "      <td>0.0</td>\n",
       "      <td>43.256542</td>\n",
       "      <td>22.990000</td>\n",
       "      <td>502.0</td>\n",
       "      <td>8.056712</td>\n",
       "      <td>2.596729e-06</td>\n",
       "      <td>5.898870</td>\n",
       "      <td>3.007453e-07</td>\n",
       "      <td>9.162767</td>\n",
       "      <td>6.908073e-08</td>\n",
       "      <td>10.392188</td>\n",
       "      <td>1.273116e-10</td>\n",
       "      <td>12.687778</td>\n",
       "      <td>2.558471e-07</td>\n",
       "      <td>148.722244</td>\n",
       "      <td>218.617142</td>\n",
       "    </tr>\n",
       "    <tr>\n",
       "      <th>...</th>\n",
       "      <td>...</td>\n",
       "      <td>...</td>\n",
       "      <td>...</td>\n",
       "      <td>...</td>\n",
       "      <td>...</td>\n",
       "      <td>...</td>\n",
       "      <td>...</td>\n",
       "      <td>...</td>\n",
       "      <td>...</td>\n",
       "      <td>...</td>\n",
       "      <td>...</td>\n",
       "      <td>...</td>\n",
       "      <td>...</td>\n",
       "      <td>...</td>\n",
       "      <td>...</td>\n",
       "      <td>...</td>\n",
       "      <td>...</td>\n",
       "      <td>...</td>\n",
       "      <td>...</td>\n",
       "    </tr>\n",
       "    <tr>\n",
       "      <th>78842194</th>\n",
       "      <td>261815</td>\n",
       "      <td>UK</td>\n",
       "      <td>B0BCX524Y6</td>\n",
       "      <td>0.0</td>\n",
       "      <td>9.383333</td>\n",
       "      <td>16.990000</td>\n",
       "      <td>7.0</td>\n",
       "      <td>6.813615</td>\n",
       "      <td>1.076201e-03</td>\n",
       "      <td>7.203015</td>\n",
       "      <td>4.597607e-04</td>\n",
       "      <td>6.808200</td>\n",
       "      <td>4.075167e-04</td>\n",
       "      <td>7.742151</td>\n",
       "      <td>7.126370e-04</td>\n",
       "      <td>7.978776</td>\n",
       "      <td>9.559332e-04</td>\n",
       "      <td>95.027313</td>\n",
       "      <td>22.518597</td>\n",
       "    </tr>\n",
       "    <tr>\n",
       "      <th>78842195</th>\n",
       "      <td>261815</td>\n",
       "      <td>UK</td>\n",
       "      <td>B0BCX6QB4L</td>\n",
       "      <td>0.0</td>\n",
       "      <td>9.383333</td>\n",
       "      <td>10.990000</td>\n",
       "      <td>53.0</td>\n",
       "      <td>9.030836</td>\n",
       "      <td>9.881445e-03</td>\n",
       "      <td>10.123234</td>\n",
       "      <td>8.526421e-03</td>\n",
       "      <td>10.454871</td>\n",
       "      <td>1.562696e-02</td>\n",
       "      <td>10.198983</td>\n",
       "      <td>8.314902e-03</td>\n",
       "      <td>10.432762</td>\n",
       "      <td>1.112192e-02</td>\n",
       "      <td>95.027313</td>\n",
       "      <td>22.518597</td>\n",
       "    </tr>\n",
       "    <tr>\n",
       "      <th>78842196</th>\n",
       "      <td>261815</td>\n",
       "      <td>UK</td>\n",
       "      <td>B0BFPJYXQL</td>\n",
       "      <td>0.0</td>\n",
       "      <td>9.383333</td>\n",
       "      <td>10.560000</td>\n",
       "      <td>7.0</td>\n",
       "      <td>0.796892</td>\n",
       "      <td>2.623396e-06</td>\n",
       "      <td>1.711608</td>\n",
       "      <td>1.895152e-06</td>\n",
       "      <td>-0.960521</td>\n",
       "      <td>1.722791e-07</td>\n",
       "      <td>2.838342</td>\n",
       "      <td>5.286535e-06</td>\n",
       "      <td>2.107661</td>\n",
       "      <td>2.695469e-06</td>\n",
       "      <td>177.093521</td>\n",
       "      <td>130.335434</td>\n",
       "    </tr>\n",
       "    <tr>\n",
       "      <th>78842197</th>\n",
       "      <td>261815</td>\n",
       "      <td>UK</td>\n",
       "      <td>B0BH3X67S3</td>\n",
       "      <td>0.0</td>\n",
       "      <td>9.383333</td>\n",
       "      <td>6.830000</td>\n",
       "      <td>38.0</td>\n",
       "      <td>4.250781</td>\n",
       "      <td>8.296004e-05</td>\n",
       "      <td>6.447586</td>\n",
       "      <td>2.159998e-04</td>\n",
       "      <td>5.091795</td>\n",
       "      <td>7.323526e-05</td>\n",
       "      <td>6.170062</td>\n",
       "      <td>1.479513e-04</td>\n",
       "      <td>7.305784</td>\n",
       "      <td>4.876977e-04</td>\n",
       "      <td>33.781818</td>\n",
       "      <td>43.050674</td>\n",
       "    </tr>\n",
       "    <tr>\n",
       "      <th>78842198</th>\n",
       "      <td>261815</td>\n",
       "      <td>UK</td>\n",
       "      <td>B0BH5MJGGB</td>\n",
       "      <td>0.0</td>\n",
       "      <td>9.383333</td>\n",
       "      <td>22.097065</td>\n",
       "      <td>31.0</td>\n",
       "      <td>-0.310635</td>\n",
       "      <td>8.667048e-07</td>\n",
       "      <td>1.264672</td>\n",
       "      <td>1.212111e-06</td>\n",
       "      <td>1.801214</td>\n",
       "      <td>2.726709e-06</td>\n",
       "      <td>-0.284344</td>\n",
       "      <td>2.328123e-07</td>\n",
       "      <td>1.204651</td>\n",
       "      <td>1.092603e-06</td>\n",
       "      <td>17.059958</td>\n",
       "      <td>53.645397</td>\n",
       "    </tr>\n",
       "  </tbody>\n",
       "</table>\n",
       "<p>78842199 rows × 19 columns</p>\n",
       "</div>"
      ],
      "text/plain": [
       "          sess_id sess_locale     product  target  sess_avg_price  \\\n",
       "0               0          DE  355165591X     0.0       43.256542   \n",
       "1               0          DE  3833237058     0.0       43.256542   \n",
       "2               0          DE  B00CIXSI6U     0.0       43.256542   \n",
       "3               0          DE  B00NVDOWUW     0.0       43.256542   \n",
       "4               0          DE  B00NVDP3ZU     0.0       43.256542   \n",
       "...           ...         ...         ...     ...             ...   \n",
       "78842194   261815          UK  B0BCX524Y6     0.0        9.383333   \n",
       "78842195   261815          UK  B0BCX6QB4L     0.0        9.383333   \n",
       "78842196   261815          UK  B0BFPJYXQL     0.0        9.383333   \n",
       "78842197   261815          UK  B0BH3X67S3     0.0        9.383333   \n",
       "78842198   261815          UK  B0BH5MJGGB     0.0        9.383333   \n",
       "\n",
       "          product_price  product_freq  sasrec_scores_3  \\\n",
       "0              8.990000          51.0         2.230508   \n",
       "1             22.000000          84.0         9.605231   \n",
       "2              6.470000           7.0         0.714114   \n",
       "3             11.990000         166.0         8.750996   \n",
       "4             22.990000         502.0         8.056712   \n",
       "...                 ...           ...              ...   \n",
       "78842194      16.990000           7.0         6.813615   \n",
       "78842195      10.990000          53.0         9.030836   \n",
       "78842196      10.560000           7.0         0.796892   \n",
       "78842197       6.830000          38.0         4.250781   \n",
       "78842198      22.097065          31.0        -0.310635   \n",
       "\n",
       "          normalized_sasrec_scores_3  sasrec_scores_2  \\\n",
       "0                       7.658405e-09         0.512931   \n",
       "1                       1.221631e-05         9.325538   \n",
       "2                       1.681035e-09        -0.115904   \n",
       "3                       5.199363e-06         8.507557   \n",
       "4                       2.596729e-06         5.898870   \n",
       "...                              ...              ...   \n",
       "78842194                1.076201e-03         7.203015   \n",
       "78842195                9.881445e-03        10.123234   \n",
       "78842196                2.623396e-06         1.711608   \n",
       "78842197                8.296004e-05         6.447586   \n",
       "78842198                8.667048e-07         1.264672   \n",
       "\n",
       "          normalized_sasrec_scores_2  seqmlp_scores  normalized_seqmlp_scores  \\\n",
       "0                       1.377575e-09       6.044256              3.054954e-09   \n",
       "1                       9.255110e-06      10.732503              3.319589e-07   \n",
       "2                       7.345399e-10       4.902086              9.749146e-10   \n",
       "3                       4.084482e-06      13.401752              4.789881e-06   \n",
       "4                       3.007453e-07       9.162767              6.908073e-08   \n",
       "...                              ...            ...                       ...   \n",
       "78842194                4.597607e-04       6.808200              4.075167e-04   \n",
       "78842195                8.526421e-03      10.454871              1.562696e-02   \n",
       "78842196                1.895152e-06      -0.960521              1.722791e-07   \n",
       "78842197                2.159998e-04       5.091795              7.323526e-05   \n",
       "78842198                1.212111e-06       1.801214              2.726709e-06   \n",
       "\n",
       "          narm_scores  normalized_narm_scores  gru4rec_scores_2  \\\n",
       "0            3.628220            1.469988e-13          5.093824   \n",
       "1           15.734776            2.661486e-08         13.133082   \n",
       "2            7.462822            6.802375e-12          4.295491   \n",
       "3            9.774860            6.866981e-11         10.362890   \n",
       "4           10.392188            1.273116e-10         12.687778   \n",
       "...               ...                     ...               ...   \n",
       "78842194     7.742151            7.126370e-04          7.978776   \n",
       "78842195    10.198983            8.314902e-03         10.432762   \n",
       "78842196     2.838342            5.286535e-06          2.107661   \n",
       "78842197     6.170062            1.479513e-04          7.305784   \n",
       "78842198    -0.284344            2.328123e-07          1.204651   \n",
       "\n",
       "          normalized_gru4rec_scores_2  title_BM25_scores  desc_BM25_scores  \n",
       "0                        1.288155e-10           0.000000          0.455206  \n",
       "1                        3.993682e-07          89.696823          0.904280  \n",
       "2                        5.797709e-11           0.000000          0.000000  \n",
       "3                        2.502041e-08         180.035004        252.282623  \n",
       "4                        2.558471e-07         148.722244        218.617142  \n",
       "...                               ...                ...               ...  \n",
       "78842194                 9.559332e-04          95.027313         22.518597  \n",
       "78842195                 1.112192e-02          95.027313         22.518597  \n",
       "78842196                 2.695469e-06         177.093521        130.335434  \n",
       "78842197                 4.876977e-04          33.781818         43.050674  \n",
       "78842198                 1.092603e-06          17.059958         53.645397  \n",
       "\n",
       "[78842199 rows x 19 columns]"
      ]
     },
     "execution_count": 27,
     "metadata": {},
     "output_type": "execute_result"
    }
   ],
   "source": [
    "merged_candidates_feature"
   ]
  }
 ],
 "metadata": {
  "kernelspec": {
   "display_name": "torch12",
   "language": "python",
   "name": "python3"
  },
  "language_info": {
   "codemirror_mode": {
    "name": "ipython",
    "version": 3
   },
   "file_extension": ".py",
   "mimetype": "text/x-python",
   "name": "python",
   "nbconvert_exporter": "python",
   "pygments_lexer": "ipython3",
   "version": "3.9.15"
  }
 },
 "nbformat": 4,
 "nbformat_minor": 2
}
