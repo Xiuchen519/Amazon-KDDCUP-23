{
 "cells": [
  {
   "attachments": {},
   "cell_type": "markdown",
   "metadata": {},
   "source": [
    "use loc[i, field] instead of iloc[i, field], iloc is very slow."
   ]
  },
  {
   "cell_type": "code",
   "execution_count": 1,
   "metadata": {
    "execution": {
     "iopub.execute_input": "2023-06-01T12:40:48.904670Z",
     "iopub.status.busy": "2023-06-01T12:40:48.903900Z",
     "iopub.status.idle": "2023-06-01T12:40:52.096008Z",
     "shell.execute_reply": "2023-06-01T12:40:52.094941Z"
    }
   },
   "outputs": [],
   "source": [
    "import sys\n",
    "sys.path = ['/root/autodl-tmp/xiaolong/WorkSpace/Amazon-KDDCUP-23/RecStudio/'] + sys.path\n",
    "import os\n",
    "os.environ[\"CUDA_VISIBLE_DEVICES\"] = \"3\"\n",
    "import random\n",
    "import numpy as np\n",
    "import pandas as pd\n",
    "import cudf, itertools\n",
    "import scipy.sparse as ssp\n",
    "from functools import lru_cache, partial\n",
    "from tqdm import tqdm, trange\n",
    "from collections import Counter, defaultdict\n",
    "import torch\n",
    "import pickle"
   ]
  },
  {
   "cell_type": "code",
   "execution_count": 2,
   "metadata": {
    "execution": {
     "iopub.execute_input": "2023-06-01T12:40:52.105653Z",
     "iopub.status.busy": "2023-06-01T12:40:52.105215Z",
     "iopub.status.idle": "2023-06-01T12:40:52.115257Z",
     "shell.execute_reply": "2023-06-01T12:40:52.113785Z"
    }
   },
   "outputs": [],
   "source": [
    "def cast_dtype(df : pd.DataFrame):\n",
    "    for k in df.columns:\n",
    "        dt = type(df[k].iloc[0])\n",
    "        if 'float' in str(dt):\n",
    "            df[k] = df[k].astype('float32')\n",
    "        elif 'int' in str(dt):\n",
    "            df[k] = df[k].astype('int32')\n",
    "        elif dt == list:\n",
    "            dt_ = type(df.iloc[0][k][0])\n",
    "            if 'float' in str(dt_):\n",
    "                df[k] = df[k].apply(lambda x : np.array(x, dtype=np.float32))\n",
    "            elif 'int' in str(dt_):\n",
    "                df[k] = df[k].apply(lambda x : np.array(x, dtype=np.int32))"
   ]
  },
  {
   "cell_type": "code",
   "execution_count": 3,
   "metadata": {
    "execution": {
     "iopub.execute_input": "2023-06-01T12:40:52.120577Z",
     "iopub.status.busy": "2023-06-01T12:40:52.120216Z",
     "iopub.status.idle": "2023-06-01T12:40:52.126411Z",
     "shell.execute_reply": "2023-06-01T12:40:52.125392Z"
    }
   },
   "outputs": [],
   "source": [
    "def _load_cache(path):\n",
    "    with open(path, 'rb') as f:\n",
    "        download_obj = pickle.load(f)\n",
    "    return download_obj"
   ]
  },
  {
   "cell_type": "code",
   "execution_count": 4,
   "metadata": {
    "execution": {
     "iopub.execute_input": "2023-06-01T12:40:52.130937Z",
     "iopub.status.busy": "2023-06-01T12:40:52.130156Z",
     "iopub.status.idle": "2023-06-01T12:40:52.141740Z",
     "shell.execute_reply": "2023-06-01T12:40:52.140791Z"
    }
   },
   "outputs": [],
   "source": [
    "def get_scores(merged_candidates_df, query_embeddings, product_embeddings):\n",
    "    batch_size = 2048\n",
    "    num_iter = (len(merged_candidates_df) - 1) // batch_size + 1\n",
    "    score_list = []\n",
    "    with torch.no_grad():\n",
    "        for i in tqdm(range(num_iter)):\n",
    "            st, ed = i * batch_size, (i + 1) * batch_size \n",
    "            batch_sess = merged_candidates_df.iloc[st : ed]\n",
    "            batch_sess_id = torch.tensor(batch_sess['sess_id'].tolist(), dtype=torch.long, device=query_embeddings.device)\n",
    "            batch_product_id = torch.tensor(batch_sess['dataset_id'].tolist(), dtype=torch.long, device=product_embeddings.device)\n",
    "            query_emb = query_embeddings[batch_sess_id]\n",
    "            product_emb = product_embeddings[batch_product_id]\n",
    "            batch_score = (query_emb * product_emb).sum(dim=-1) \n",
    "            score_list.append(batch_score.cpu())\n",
    "        score_list = torch.cat(score_list, dim=0).cpu().tolist()\n",
    "        return score_list "
   ]
  },
  {
   "cell_type": "code",
   "execution_count": 5,
   "metadata": {
    "execution": {
     "iopub.execute_input": "2023-06-01T12:40:52.145776Z",
     "iopub.status.busy": "2023-06-01T12:40:52.145262Z",
     "iopub.status.idle": "2023-06-01T12:40:52.155761Z",
     "shell.execute_reply": "2023-06-01T12:40:52.154690Z"
    }
   },
   "outputs": [],
   "source": [
    "def normalize_scores(score_df, score_name, normalized_score_name):\n",
    "    # score_df_g = cudf.from_pandas(score_df)\n",
    "    score_df['exp_score'] = np.exp(score_df[score_name].to_numpy())\n",
    "    scores_sum = score_df[['sess_id', 'exp_score']].groupby('sess_id').sum()\n",
    "    scores_sum.reset_index(inplace=True)\n",
    "    scores_sum = scores_sum.sort_values(by=['sess_id'], ascending=True)\n",
    "    scores_sum.reset_index(drop=True, inplace=True)\n",
    "    scores_sum.rename(columns={'exp_score' : 'score_sum'}, inplace=True)\n",
    "\n",
    "    merged_score_df = score_df.merge(scores_sum, how='left', left_on=['sess_id'], right_on=['sess_id'])\n",
    "    merged_score_df = merged_score_df.sort_values(by=['sess_id', 'product'])\n",
    "    merged_score_df.reset_index(drop=True, inplace=True)\n",
    "    \n",
    "    # merged_score_df = merged_score_df_g.to_pandas(merged_score_df_g)\n",
    "    score_df[normalized_score_name] = merged_score_df['exp_score'] / merged_score_df['score_sum']\n",
    "    score_df['exp_score'] = merged_score_df['exp_score']\n",
    "    score_df['score_sum'] = merged_score_df['score_sum']\n",
    "\n",
    "    # del scores_sum_g\n",
    "    # del merged_score_df_g "
   ]
  },
  {
   "attachments": {},
   "cell_type": "markdown",
   "metadata": {},
   "source": [
    "# Merge valid score"
   ]
  },
  {
   "cell_type": "code",
   "execution_count": 6,
   "metadata": {
    "execution": {
     "iopub.execute_input": "2023-06-01T12:40:52.160208Z",
     "iopub.status.busy": "2023-06-01T12:40:52.159356Z",
     "iopub.status.idle": "2023-06-01T12:40:52.164464Z",
     "shell.execute_reply": "2023-06-01T12:40:52.163125Z"
    }
   },
   "outputs": [],
   "source": [
    "FIELD_NAME = 'sasrec_scores_3'"
   ]
  },
  {
   "cell_type": "code",
   "execution_count": 7,
   "metadata": {
    "execution": {
     "iopub.execute_input": "2023-06-01T12:40:52.170262Z",
     "iopub.status.busy": "2023-06-01T12:40:52.169291Z",
     "iopub.status.idle": "2023-06-01T12:40:52.176188Z",
     "shell.execute_reply": "2023-06-01T12:40:52.174917Z"
    }
   },
   "outputs": [],
   "source": [
    "merged_candidates_feature_path = '/root/autodl-tmp/xiaolong/WorkSpace/Amazon-KDDCUP-23/XGBoost/candidates_phase2/merged_candidates_150_feature.parquet'\n",
    "valid_sessions_path = '/root/autodl-tmp/xiaolong/WorkSpace/Amazon-KDDCUP-23/data_for_recstudio/task1_data/task13_4_task1_valid_sessions_phase2.csv'\n",
    "test_sessions_path = '/root/autodl-tmp/xiaolong/WorkSpace/Amazon-KDDCUP-23/raw_data/sessions_test_task1_phase2.csv'"
   ]
  },
  {
   "cell_type": "code",
   "execution_count": 8,
   "metadata": {
    "execution": {
     "iopub.execute_input": "2023-06-01T12:40:52.183482Z",
     "iopub.status.busy": "2023-06-01T12:40:52.182113Z",
     "iopub.status.idle": "2023-06-01T12:40:52.194070Z",
     "shell.execute_reply": "2023-06-01T12:40:52.192577Z"
    }
   },
   "outputs": [],
   "source": [
    "@lru_cache(maxsize=1)\n",
    "def read_merged_candidates_feature():\n",
    "    return pd.read_parquet(merged_candidates_feature_path, engine='pyarrow')\n",
    "\n",
    "@lru_cache(maxsize=1)\n",
    "def read_valid_sessions():\n",
    "    return pd.read_csv(valid_sessions_path)\n",
    "\n",
    "@lru_cache(maxsize=1)\n",
    "def read_test_sessions():\n",
    "    return pd.read_csv(test_sessions_path)"
   ]
  },
  {
   "cell_type": "code",
   "execution_count": 9,
   "metadata": {
    "execution": {
     "iopub.execute_input": "2023-06-01T12:40:52.201166Z",
     "iopub.status.busy": "2023-06-01T12:40:52.200206Z",
     "iopub.status.idle": "2023-06-01T12:40:52.208878Z",
     "shell.execute_reply": "2023-06-01T12:40:52.207351Z"
    }
   },
   "outputs": [],
   "source": [
    "DE_product_embeddings_path = '/root/autodl-tmp/xiaolong/WorkSpace/Amazon-KDDCUP-23/candidates_phase2/query_embeddings/SASRec_Next/kdd_cup_2023_DE/product_embeddings_2023-06-01-19-29-17.pt'\n",
    "DE_valid_embeddings_path = '/root/autodl-tmp/xiaolong/WorkSpace/Amazon-KDDCUP-23/candidates_phase2/query_embeddings/SASRec_Next/kdd_cup_2023_DE/valid_embeddings_2023-06-01-19-29-23.pt'\n",
    "JP_product_embeddings_path = '/root/autodl-tmp/xiaolong/WorkSpace/Amazon-KDDCUP-23/candidates_phase2/query_embeddings/SASRec_Next/kdd_cup_2023_JP/product_embeddings_2023-06-01-19-30-31.pt'\n",
    "JP_valid_embeddings_path = '/root/autodl-tmp/xiaolong/WorkSpace/Amazon-KDDCUP-23/candidates_phase2/query_embeddings/SASRec_Next/kdd_cup_2023_JP/valid_embeddings_2023-06-01-19-30-38.pt'\n",
    "UK_product_embeddings_path = '/root/autodl-tmp/xiaolong/WorkSpace/Amazon-KDDCUP-23/candidates_phase2/query_embeddings/SASRec_Next/kdd_cup_2023_UK/product_embeddings_2023-06-01-19-36-30.pt'\n",
    "UK_valid_embeddings_path = '/root/autodl-tmp/xiaolong/WorkSpace/Amazon-KDDCUP-23/candidates_phase2/query_embeddings/SASRec_Next/kdd_cup_2023_UK/valid_embeddings_2023-06-01-19-36-37.pt'"
   ]
  },
  {
   "cell_type": "code",
   "execution_count": 10,
   "metadata": {
    "execution": {
     "iopub.execute_input": "2023-06-01T12:40:52.216401Z",
     "iopub.status.busy": "2023-06-01T12:40:52.215414Z",
     "iopub.status.idle": "2023-06-01T12:40:52.222149Z",
     "shell.execute_reply": "2023-06-01T12:40:52.220839Z"
    }
   },
   "outputs": [],
   "source": [
    "DE_dataset_cache = '/root/autodl-tmp/xiaolong/WorkSpace/Amazon-KDDCUP-23/.recstudio/cache/b5aeac4e5b9ff0518bbcb59a28086594'\n",
    "JP_dataset_cache = '/root/autodl-tmp/xiaolong/WorkSpace/Amazon-KDDCUP-23/.recstudio/cache/2536617955df215e0047f5b220d1c012'\n",
    "UK_dataset_cache = '/root/autodl-tmp/xiaolong/WorkSpace/Amazon-KDDCUP-23/.recstudio/cache/8d133ea55ad67bd3efd625dfeff0fb1d'"
   ]
  },
  {
   "cell_type": "code",
   "execution_count": 11,
   "metadata": {
    "execution": {
     "iopub.execute_input": "2023-06-01T12:40:52.229254Z",
     "iopub.status.busy": "2023-06-01T12:40:52.228090Z",
     "iopub.status.idle": "2023-06-01T12:41:10.232938Z",
     "shell.execute_reply": "2023-06-01T12:41:10.231523Z"
    }
   },
   "outputs": [],
   "source": [
    "DE_train_dataset, DE_valid_dataset = _load_cache(DE_dataset_cache)\n",
    "JP_train_dataset, JP_valid_dataset = _load_cache(JP_dataset_cache)\n",
    "UK_train_dataset, UK_valid_dataset = _load_cache(UK_dataset_cache)\n",
    "locale_map = {\n",
    "    'DE' : DE_train_dataset.field2token2idx['product_id'], \n",
    "    'JP' : JP_train_dataset.field2token2idx['product_id'], \n",
    "    'UK' : UK_train_dataset.field2token2idx['product_id']\n",
    "    }"
   ]
  },
  {
   "cell_type": "code",
   "execution_count": 12,
   "metadata": {
    "execution": {
     "iopub.execute_input": "2023-06-01T12:41:10.239504Z",
     "iopub.status.busy": "2023-06-01T12:41:10.238430Z",
     "iopub.status.idle": "2023-06-01T12:43:10.128765Z",
     "shell.execute_reply": "2023-06-01T12:43:10.127424Z"
    }
   },
   "outputs": [],
   "source": [
    "merged_candidates = read_merged_candidates_feature()\n",
    "valid_sessions = read_valid_sessions()\n",
    "EMBED_DIM = 128\n",
    "merged_candidates.sort_values(by=['sess_id', 'product'], inplace=True)\n",
    "merged_candidates.reset_index(drop=True, inplace=True)"
   ]
  },
  {
   "cell_type": "code",
   "execution_count": 13,
   "metadata": {
    "execution": {
     "iopub.execute_input": "2023-06-01T12:43:10.137372Z",
     "iopub.status.busy": "2023-06-01T12:43:10.136815Z",
     "iopub.status.idle": "2023-06-01T12:43:10.624985Z",
     "shell.execute_reply": "2023-06-01T12:43:10.624158Z"
    }
   },
   "outputs": [],
   "source": [
    "# sess embeddings \n",
    "valid_DE_query_emb = torch.load(DE_valid_embeddings_path, map_location='cpu')\n",
    "valid_JP_query_emb = torch.load(JP_valid_embeddings_path, map_location='cpu')\n",
    "valid_UK_query_emb = torch.load(UK_valid_embeddings_path, map_location='cpu')\n",
    "valid_query_embeddings = torch.empty(len(valid_sessions), EMBED_DIM)\n",
    "valid_query_embeddings[(valid_sessions[valid_sessions['locale'] == 'DE'].index).tolist()] = valid_DE_query_emb\n",
    "valid_query_embeddings[(valid_sessions[valid_sessions['locale'] == 'JP'].index).tolist()] = valid_JP_query_emb\n",
    "valid_query_embeddings[(valid_sessions[valid_sessions['locale'] == 'UK'].index).tolist()] = valid_UK_query_emb"
   ]
  },
  {
   "cell_type": "code",
   "execution_count": 14,
   "metadata": {
    "execution": {
     "iopub.execute_input": "2023-06-01T12:43:10.630123Z",
     "iopub.status.busy": "2023-06-01T12:43:10.629750Z",
     "iopub.status.idle": "2023-06-01T12:43:12.145934Z",
     "shell.execute_reply": "2023-06-01T12:43:12.145213Z"
    }
   },
   "outputs": [],
   "source": [
    "# product_embeddings \n",
    "DE_product_emb = torch.load(DE_product_embeddings_path, map_location='cpu')\n",
    "JP_product_emb = torch.load(JP_product_embeddings_path, map_location='cpu')\n",
    "UK_product_emb = torch.load(UK_product_embeddings_path, map_location='cpu')\n",
    "product_embeddings = torch.cat([DE_product_emb, JP_product_emb, UK_product_emb], dim=0)"
   ]
  },
  {
   "cell_type": "code",
   "execution_count": 15,
   "metadata": {
    "execution": {
     "iopub.execute_input": "2023-06-01T12:43:12.151016Z",
     "iopub.status.busy": "2023-06-01T12:43:12.150643Z",
     "iopub.status.idle": "2023-06-01T12:43:20.574608Z",
     "shell.execute_reply": "2023-06-01T12:43:20.573392Z"
    }
   },
   "outputs": [],
   "source": [
    "merged_candidates_sasrec = merged_candidates[['sess_id', 'sess_locale', 'product']].copy()"
   ]
  },
  {
   "cell_type": "code",
   "execution_count": 16,
   "metadata": {
    "execution": {
     "iopub.execute_input": "2023-06-01T12:43:20.579664Z",
     "iopub.status.busy": "2023-06-01T12:43:20.579142Z",
     "iopub.status.idle": "2023-06-01T12:43:23.633105Z",
     "shell.execute_reply": "2023-06-01T12:43:23.632258Z"
    }
   },
   "outputs": [],
   "source": [
    "DE_product_list, DE_id_list = list(zip(*locale_map['DE'].items()))\n",
    "JP_product_list, JP_id_list = list(zip(*locale_map['JP'].items()))\n",
    "UK_product_list, UK_id_list = list(zip(*locale_map['UK'].items()))\n",
    "product_list = list(DE_product_list) + list(JP_product_list) + list(UK_product_list)\n",
    "id_list = list(DE_id_list) + list(JP_id_list) + list(UK_id_list)\n",
    "locale_list = ['DE'] * len(DE_id_list) + ['JP'] * len(JP_id_list) + ['UK'] * len(UK_id_list)\n",
    "product_id_df = pd.DataFrame({'locale' : locale_list, 'product' : product_list, 'dataset_id' : id_list})"
   ]
  },
  {
   "cell_type": "code",
   "execution_count": 17,
   "metadata": {
    "execution": {
     "iopub.execute_input": "2023-06-01T12:43:23.639189Z",
     "iopub.status.busy": "2023-06-01T12:43:23.638819Z",
     "iopub.status.idle": "2023-06-01T12:43:23.643448Z",
     "shell.execute_reply": "2023-06-01T12:43:23.642200Z"
    }
   },
   "outputs": [],
   "source": [
    "# merged_candidates_sasrec_g = cudf.from_pandas(merged_candidates_sasrec)\n",
    "# product_id_df_g = cudf.from_pandas(product_id_df)"
   ]
  },
  {
   "cell_type": "code",
   "execution_count": 18,
   "metadata": {
    "execution": {
     "iopub.execute_input": "2023-06-01T12:43:23.651726Z",
     "iopub.status.busy": "2023-06-01T12:43:23.650820Z",
     "iopub.status.idle": "2023-06-01T12:43:23.657202Z",
     "shell.execute_reply": "2023-06-01T12:43:23.655996Z"
    }
   },
   "outputs": [],
   "source": [
    "# merged_candidates_sasrec_score_g = merged_candidates_sasrec_g.merge(product_id_df_g, how='left', left_on=['sess_locale', 'product'], right_on=['locale', 'product'])\n",
    "# merged_candidates_sasrec_score_g['dataset_id'] = merged_candidates_sasrec_score_g['dataset_id'].fillna(0)\n",
    "# merged_candidates_sasrec_score_g.drop(columns=['locale'], inplace=True)\n",
    "# merged_candidates_sasrec_score_g = merged_candidates_sasrec_score_g.sort_values(by=['sess_id', 'product'])\n",
    "# merged_candidates_sasrec_score_g.reset_index(drop=True, inplace=True)\n",
    "# merged_candidates_sasrec_score = merged_candidates_sasrec_score_g.to_pandas()\n",
    "# assert len(merged_candidates_sasrec_score) == len(merged_candidates)"
   ]
  },
  {
   "cell_type": "code",
   "execution_count": 19,
   "metadata": {
    "execution": {
     "iopub.execute_input": "2023-06-01T12:43:23.665327Z",
     "iopub.status.busy": "2023-06-01T12:43:23.664399Z",
     "iopub.status.idle": "2023-06-01T12:45:58.856312Z",
     "shell.execute_reply": "2023-06-01T12:45:58.855195Z"
    }
   },
   "outputs": [],
   "source": [
    "merged_candidates_sasrec_score = merged_candidates_sasrec.merge(product_id_df, how='left', left_on=['sess_locale', 'product'], right_on=['locale', 'product'])\n",
    "merged_candidates_sasrec_score['dataset_id'] = merged_candidates_sasrec_score['dataset_id'].fillna(0)\n",
    "merged_candidates_sasrec_score.drop(columns=['locale'], inplace=True)\n",
    "merged_candidates_sasrec_score = merged_candidates_sasrec_score.sort_values(by=['sess_id', 'product'])\n",
    "merged_candidates_sasrec_score.reset_index(drop=True, inplace=True)\n",
    "assert len(merged_candidates_sasrec_score) == len(merged_candidates)"
   ]
  },
  {
   "cell_type": "code",
   "execution_count": 20,
   "metadata": {
    "execution": {
     "iopub.execute_input": "2023-06-01T12:45:58.866022Z",
     "iopub.status.busy": "2023-06-01T12:45:58.864971Z",
     "iopub.status.idle": "2023-06-01T12:45:58.871895Z",
     "shell.execute_reply": "2023-06-01T12:45:58.870664Z"
    }
   },
   "outputs": [],
   "source": [
    "# del merged_candidates_sasrec_g\n",
    "# del product_id_df_g\n",
    "# del merged_candidates_sasrec_score_g"
   ]
  },
  {
   "cell_type": "code",
   "execution_count": 21,
   "metadata": {
    "execution": {
     "iopub.execute_input": "2023-06-01T12:45:58.879638Z",
     "iopub.status.busy": "2023-06-01T12:45:58.878865Z",
     "iopub.status.idle": "2023-06-01T12:46:48.887678Z",
     "shell.execute_reply": "2023-06-01T12:46:48.886404Z"
    }
   },
   "outputs": [
    {
     "name": "stderr",
     "output_type": "stream",
     "text": [
      "/tmp/ipykernel_887172/2146751149.py:3: SettingWithCopyWarning: \n",
      "A value is trying to be set on a copy of a slice from a DataFrame\n",
      "\n",
      "See the caveats in the documentation: https://pandas.pydata.org/pandas-docs/stable/user_guide/indexing.html#returning-a-view-versus-a-copy\n",
      "  merged_candidates_sasrec_score['dataset_id'][merged_candidates_sasrec_score['sess_locale'] == locale] = \\\n"
     ]
    }
   ],
   "source": [
    "locale_offset = {'DE' : 0, 'JP' : len(DE_product_list), 'UK' : len(DE_product_list) + len(JP_product_list)}\n",
    "for locale in ['DE', 'JP', 'UK']:\n",
    "    merged_candidates_sasrec_score['dataset_id'][merged_candidates_sasrec_score['sess_locale'] == locale] = \\\n",
    "        merged_candidates_sasrec_score['dataset_id'][merged_candidates_sasrec_score['sess_locale'] == locale] + locale_offset[locale]"
   ]
  },
  {
   "cell_type": "code",
   "execution_count": 22,
   "metadata": {
    "execution": {
     "iopub.execute_input": "2023-06-01T12:46:48.892221Z",
     "iopub.status.busy": "2023-06-01T12:46:48.891804Z",
     "iopub.status.idle": "2023-06-01T12:46:51.157265Z",
     "shell.execute_reply": "2023-06-01T12:46:51.156356Z"
    }
   },
   "outputs": [],
   "source": [
    "valid_query_embeddings = valid_query_embeddings.to('cuda:0')\n",
    "product_embeddings = product_embeddings.to('cuda:0')"
   ]
  },
  {
   "cell_type": "code",
   "execution_count": 23,
   "metadata": {
    "execution": {
     "iopub.execute_input": "2023-06-01T12:46:51.161280Z",
     "iopub.status.busy": "2023-06-01T12:46:51.160841Z",
     "iopub.status.idle": "2023-06-01T12:48:27.452025Z",
     "shell.execute_reply": "2023-06-01T12:48:27.450676Z"
    }
   },
   "outputs": [
    {
     "name": "stderr",
     "output_type": "stream",
     "text": [
      "  0%|                                                                                                                                                    | 0/38498 [00:00<?, ?it/s]/tmp/ipykernel_887172/150055658.py:10: DeprecationWarning: an integer is required (got type float).  Implicit conversion to integers using __int__ is deprecated, and may be removed in a future version of Python.\n",
      "  batch_product_id = torch.tensor(batch_sess['dataset_id'].tolist(), dtype=torch.long, device=product_embeddings.device)\n",
      "100%|███████████████████████████████████████████████████████████████████████████████████████████████████████████████████████████████████████| 38498/38498 [01:19<00:00, 484.12it/s]\n"
     ]
    }
   ],
   "source": [
    "merged_candidates_sasrec_score[FIELD_NAME] = get_scores(merged_candidates_sasrec_score, valid_query_embeddings, product_embeddings)"
   ]
  },
  {
   "cell_type": "code",
   "execution_count": 24,
   "metadata": {
    "execution": {
     "iopub.execute_input": "2023-06-01T12:48:27.461334Z",
     "iopub.status.busy": "2023-06-01T12:48:27.460721Z",
     "iopub.status.idle": "2023-06-01T12:50:25.820109Z",
     "shell.execute_reply": "2023-06-01T12:50:25.819111Z"
    }
   },
   "outputs": [],
   "source": [
    "normalize_scores(merged_candidates_sasrec_score, FIELD_NAME, 'normalized_'+FIELD_NAME)"
   ]
  },
  {
   "cell_type": "code",
   "execution_count": 25,
   "metadata": {
    "execution": {
     "iopub.execute_input": "2023-06-01T12:50:25.825711Z",
     "iopub.status.busy": "2023-06-01T12:50:25.825309Z",
     "iopub.status.idle": "2023-06-01T12:50:26.860650Z",
     "shell.execute_reply": "2023-06-01T12:50:26.859900Z"
    }
   },
   "outputs": [],
   "source": [
    "merged_candidates[FIELD_NAME] = merged_candidates_sasrec_score[FIELD_NAME]\n",
    "merged_candidates['normalized_'+FIELD_NAME] = merged_candidates_sasrec_score['normalized_'+FIELD_NAME]"
   ]
  },
  {
   "cell_type": "code",
   "execution_count": 26,
   "metadata": {
    "execution": {
     "iopub.execute_input": "2023-06-01T12:50:26.867774Z",
     "iopub.status.busy": "2023-06-01T12:50:26.867402Z",
     "iopub.status.idle": "2023-06-01T12:51:02.851417Z",
     "shell.execute_reply": "2023-06-01T12:51:02.849930Z"
    }
   },
   "outputs": [],
   "source": [
    "cast_dtype(merged_candidates)\n",
    "merged_candidates.to_parquet(merged_candidates_feature_path, engine='pyarrow')"
   ]
  },
  {
   "cell_type": "code",
   "execution_count": 27,
   "metadata": {
    "execution": {
     "iopub.execute_input": "2023-06-01T12:51:02.857675Z",
     "iopub.status.busy": "2023-06-01T12:51:02.857041Z",
     "iopub.status.idle": "2023-06-01T12:51:02.895036Z",
     "shell.execute_reply": "2023-06-01T12:51:02.894106Z"
    }
   },
   "outputs": [
    {
     "data": {
      "text/html": [
       "<div>\n",
       "<style scoped>\n",
       "    .dataframe tbody tr th:only-of-type {\n",
       "        vertical-align: middle;\n",
       "    }\n",
       "\n",
       "    .dataframe tbody tr th {\n",
       "        vertical-align: top;\n",
       "    }\n",
       "\n",
       "    .dataframe thead th {\n",
       "        text-align: right;\n",
       "    }\n",
       "</style>\n",
       "<table border=\"1\" class=\"dataframe\">\n",
       "  <thead>\n",
       "    <tr style=\"text-align: right;\">\n",
       "      <th></th>\n",
       "      <th>sess_id</th>\n",
       "      <th>sess_locale</th>\n",
       "      <th>product</th>\n",
       "      <th>dataset_id</th>\n",
       "      <th>sasrec_scores_3</th>\n",
       "      <th>exp_score</th>\n",
       "      <th>normalized_sasrec_scores_3</th>\n",
       "      <th>score_sum</th>\n",
       "    </tr>\n",
       "  </thead>\n",
       "  <tbody>\n",
       "    <tr>\n",
       "      <th>0</th>\n",
       "      <td>0</td>\n",
       "      <td>DE</td>\n",
       "      <td>355165591X</td>\n",
       "      <td>16294.0</td>\n",
       "      <td>2.230508</td>\n",
       "      <td>9.304592</td>\n",
       "      <td>7.658405e-09</td>\n",
       "      <td>1.214952e+09</td>\n",
       "    </tr>\n",
       "    <tr>\n",
       "      <th>1</th>\n",
       "      <td>0</td>\n",
       "      <td>DE</td>\n",
       "      <td>3833237058</td>\n",
       "      <td>32078.0</td>\n",
       "      <td>9.605231</td>\n",
       "      <td>14842.222729</td>\n",
       "      <td>1.221631e-05</td>\n",
       "      <td>1.214952e+09</td>\n",
       "    </tr>\n",
       "    <tr>\n",
       "      <th>2</th>\n",
       "      <td>0</td>\n",
       "      <td>DE</td>\n",
       "      <td>B00CIXSI6U</td>\n",
       "      <td>284040.0</td>\n",
       "      <td>0.714114</td>\n",
       "      <td>2.042376</td>\n",
       "      <td>1.681035e-09</td>\n",
       "      <td>1.214952e+09</td>\n",
       "    </tr>\n",
       "    <tr>\n",
       "      <th>3</th>\n",
       "      <td>0</td>\n",
       "      <td>DE</td>\n",
       "      <td>B00NVDOWUW</td>\n",
       "      <td>1746.0</td>\n",
       "      <td>8.750996</td>\n",
       "      <td>6316.974385</td>\n",
       "      <td>5.199363e-06</td>\n",
       "      <td>1.214952e+09</td>\n",
       "    </tr>\n",
       "    <tr>\n",
       "      <th>4</th>\n",
       "      <td>0</td>\n",
       "      <td>DE</td>\n",
       "      <td>B00NVDP3ZU</td>\n",
       "      <td>106496.0</td>\n",
       "      <td>8.056712</td>\n",
       "      <td>3154.900227</td>\n",
       "      <td>2.596729e-06</td>\n",
       "      <td>1.214952e+09</td>\n",
       "    </tr>\n",
       "    <tr>\n",
       "      <th>...</th>\n",
       "      <td>...</td>\n",
       "      <td>...</td>\n",
       "      <td>...</td>\n",
       "      <td>...</td>\n",
       "      <td>...</td>\n",
       "      <td>...</td>\n",
       "      <td>...</td>\n",
       "      <td>...</td>\n",
       "    </tr>\n",
       "    <tr>\n",
       "      <th>78842194</th>\n",
       "      <td>261815</td>\n",
       "      <td>UK</td>\n",
       "      <td>B0BCX524Y6</td>\n",
       "      <td>1162096.0</td>\n",
       "      <td>6.813615</td>\n",
       "      <td>910.154937</td>\n",
       "      <td>1.076201e-03</td>\n",
       "      <td>8.457107e+05</td>\n",
       "    </tr>\n",
       "    <tr>\n",
       "      <th>78842195</th>\n",
       "      <td>261815</td>\n",
       "      <td>UK</td>\n",
       "      <td>B0BCX6QB4L</td>\n",
       "      <td>1026202.0</td>\n",
       "      <td>9.030836</td>\n",
       "      <td>8356.843854</td>\n",
       "      <td>9.881445e-03</td>\n",
       "      <td>8.457107e+05</td>\n",
       "    </tr>\n",
       "    <tr>\n",
       "      <th>78842196</th>\n",
       "      <td>261815</td>\n",
       "      <td>UK</td>\n",
       "      <td>B0BFPJYXQL</td>\n",
       "      <td>1055763.0</td>\n",
       "      <td>0.796892</td>\n",
       "      <td>2.218634</td>\n",
       "      <td>2.623396e-06</td>\n",
       "      <td>8.457107e+05</td>\n",
       "    </tr>\n",
       "    <tr>\n",
       "      <th>78842197</th>\n",
       "      <td>261815</td>\n",
       "      <td>UK</td>\n",
       "      <td>B0BH3X67S3</td>\n",
       "      <td>966272.0</td>\n",
       "      <td>4.250781</td>\n",
       "      <td>70.160190</td>\n",
       "      <td>8.296004e-05</td>\n",
       "      <td>8.457107e+05</td>\n",
       "    </tr>\n",
       "    <tr>\n",
       "      <th>78842198</th>\n",
       "      <td>261815</td>\n",
       "      <td>UK</td>\n",
       "      <td>B0BH5MJGGB</td>\n",
       "      <td>1002940.0</td>\n",
       "      <td>-0.310635</td>\n",
       "      <td>0.732981</td>\n",
       "      <td>8.667048e-07</td>\n",
       "      <td>8.457107e+05</td>\n",
       "    </tr>\n",
       "  </tbody>\n",
       "</table>\n",
       "<p>78842199 rows × 8 columns</p>\n",
       "</div>"
      ],
      "text/plain": [
       "          sess_id sess_locale     product  dataset_id  sasrec_scores_3  \\\n",
       "0               0          DE  355165591X     16294.0         2.230508   \n",
       "1               0          DE  3833237058     32078.0         9.605231   \n",
       "2               0          DE  B00CIXSI6U    284040.0         0.714114   \n",
       "3               0          DE  B00NVDOWUW      1746.0         8.750996   \n",
       "4               0          DE  B00NVDP3ZU    106496.0         8.056712   \n",
       "...           ...         ...         ...         ...              ...   \n",
       "78842194   261815          UK  B0BCX524Y6   1162096.0         6.813615   \n",
       "78842195   261815          UK  B0BCX6QB4L   1026202.0         9.030836   \n",
       "78842196   261815          UK  B0BFPJYXQL   1055763.0         0.796892   \n",
       "78842197   261815          UK  B0BH3X67S3    966272.0         4.250781   \n",
       "78842198   261815          UK  B0BH5MJGGB   1002940.0        -0.310635   \n",
       "\n",
       "             exp_score  normalized_sasrec_scores_3     score_sum  \n",
       "0             9.304592                7.658405e-09  1.214952e+09  \n",
       "1         14842.222729                1.221631e-05  1.214952e+09  \n",
       "2             2.042376                1.681035e-09  1.214952e+09  \n",
       "3          6316.974385                5.199363e-06  1.214952e+09  \n",
       "4          3154.900227                2.596729e-06  1.214952e+09  \n",
       "...                ...                         ...           ...  \n",
       "78842194    910.154937                1.076201e-03  8.457107e+05  \n",
       "78842195   8356.843854                9.881445e-03  8.457107e+05  \n",
       "78842196      2.218634                2.623396e-06  8.457107e+05  \n",
       "78842197     70.160190                8.296004e-05  8.457107e+05  \n",
       "78842198      0.732981                8.667048e-07  8.457107e+05  \n",
       "\n",
       "[78842199 rows x 8 columns]"
      ]
     },
     "execution_count": 27,
     "metadata": {},
     "output_type": "execute_result"
    }
   ],
   "source": [
    "merged_candidates_sasrec_score"
   ]
  },
  {
   "cell_type": "code",
   "execution_count": 28,
   "metadata": {
    "execution": {
     "iopub.execute_input": "2023-06-01T12:51:02.901489Z",
     "iopub.status.busy": "2023-06-01T12:51:02.900952Z",
     "iopub.status.idle": "2023-06-01T12:51:03.036169Z",
     "shell.execute_reply": "2023-06-01T12:51:03.035058Z"
    }
   },
   "outputs": [],
   "source": [
    "# # verify sasrec scores\n",
    "# merged_candidates[merged_candidates['sess_id'] == 2000].sort_values(by=['sasrec_scores_3'], ascending=False)[['sess_id', 'sess_locale', 'product', 'sasrec_scores_2', 'normalized_sasrec_scores_2', 'sasrec_scores_3', 'normalized_sasrec_scores_3']].iloc[:20]"
   ]
  },
  {
   "cell_type": "code",
   "execution_count": 29,
   "metadata": {
    "execution": {
     "iopub.execute_input": "2023-06-01T12:51:03.042558Z",
     "iopub.status.busy": "2023-06-01T12:51:03.041981Z",
     "iopub.status.idle": "2023-06-01T12:51:03.256416Z",
     "shell.execute_reply": "2023-06-01T12:51:03.255378Z"
    }
   },
   "outputs": [
    {
     "data": {
      "text/html": [
       "<div>\n",
       "<style scoped>\n",
       "    .dataframe tbody tr th:only-of-type {\n",
       "        vertical-align: middle;\n",
       "    }\n",
       "\n",
       "    .dataframe tbody tr th {\n",
       "        vertical-align: top;\n",
       "    }\n",
       "\n",
       "    .dataframe thead th {\n",
       "        text-align: right;\n",
       "    }\n",
       "</style>\n",
       "<table border=\"1\" class=\"dataframe\">\n",
       "  <thead>\n",
       "    <tr style=\"text-align: right;\">\n",
       "      <th></th>\n",
       "      <th>sess_id</th>\n",
       "      <th>sess_locale</th>\n",
       "      <th>product</th>\n",
       "      <th>target</th>\n",
       "      <th>sess_avg_price</th>\n",
       "      <th>product_price</th>\n",
       "      <th>product_freq</th>\n",
       "      <th>sasrec_scores_3</th>\n",
       "      <th>normalized_sasrec_scores_3</th>\n",
       "    </tr>\n",
       "  </thead>\n",
       "  <tbody>\n",
       "    <tr>\n",
       "      <th>0</th>\n",
       "      <td>0</td>\n",
       "      <td>DE</td>\n",
       "      <td>355165591X</td>\n",
       "      <td>0.0</td>\n",
       "      <td>43.256542</td>\n",
       "      <td>8.990000</td>\n",
       "      <td>51.0</td>\n",
       "      <td>2.230508</td>\n",
       "      <td>7.658405e-09</td>\n",
       "    </tr>\n",
       "    <tr>\n",
       "      <th>1</th>\n",
       "      <td>0</td>\n",
       "      <td>DE</td>\n",
       "      <td>3833237058</td>\n",
       "      <td>0.0</td>\n",
       "      <td>43.256542</td>\n",
       "      <td>22.000000</td>\n",
       "      <td>84.0</td>\n",
       "      <td>9.605231</td>\n",
       "      <td>1.221631e-05</td>\n",
       "    </tr>\n",
       "    <tr>\n",
       "      <th>2</th>\n",
       "      <td>0</td>\n",
       "      <td>DE</td>\n",
       "      <td>B00CIXSI6U</td>\n",
       "      <td>0.0</td>\n",
       "      <td>43.256542</td>\n",
       "      <td>6.470000</td>\n",
       "      <td>7.0</td>\n",
       "      <td>0.714114</td>\n",
       "      <td>1.681035e-09</td>\n",
       "    </tr>\n",
       "    <tr>\n",
       "      <th>3</th>\n",
       "      <td>0</td>\n",
       "      <td>DE</td>\n",
       "      <td>B00NVDOWUW</td>\n",
       "      <td>0.0</td>\n",
       "      <td>43.256542</td>\n",
       "      <td>11.990000</td>\n",
       "      <td>166.0</td>\n",
       "      <td>8.750996</td>\n",
       "      <td>5.199363e-06</td>\n",
       "    </tr>\n",
       "    <tr>\n",
       "      <th>4</th>\n",
       "      <td>0</td>\n",
       "      <td>DE</td>\n",
       "      <td>B00NVDP3ZU</td>\n",
       "      <td>0.0</td>\n",
       "      <td>43.256542</td>\n",
       "      <td>22.990000</td>\n",
       "      <td>502.0</td>\n",
       "      <td>8.056712</td>\n",
       "      <td>2.596729e-06</td>\n",
       "    </tr>\n",
       "    <tr>\n",
       "      <th>...</th>\n",
       "      <td>...</td>\n",
       "      <td>...</td>\n",
       "      <td>...</td>\n",
       "      <td>...</td>\n",
       "      <td>...</td>\n",
       "      <td>...</td>\n",
       "      <td>...</td>\n",
       "      <td>...</td>\n",
       "      <td>...</td>\n",
       "    </tr>\n",
       "    <tr>\n",
       "      <th>78842194</th>\n",
       "      <td>261815</td>\n",
       "      <td>UK</td>\n",
       "      <td>B0BCX524Y6</td>\n",
       "      <td>0.0</td>\n",
       "      <td>9.383333</td>\n",
       "      <td>16.990000</td>\n",
       "      <td>7.0</td>\n",
       "      <td>6.813615</td>\n",
       "      <td>1.076201e-03</td>\n",
       "    </tr>\n",
       "    <tr>\n",
       "      <th>78842195</th>\n",
       "      <td>261815</td>\n",
       "      <td>UK</td>\n",
       "      <td>B0BCX6QB4L</td>\n",
       "      <td>0.0</td>\n",
       "      <td>9.383333</td>\n",
       "      <td>10.990000</td>\n",
       "      <td>53.0</td>\n",
       "      <td>9.030836</td>\n",
       "      <td>9.881445e-03</td>\n",
       "    </tr>\n",
       "    <tr>\n",
       "      <th>78842196</th>\n",
       "      <td>261815</td>\n",
       "      <td>UK</td>\n",
       "      <td>B0BFPJYXQL</td>\n",
       "      <td>0.0</td>\n",
       "      <td>9.383333</td>\n",
       "      <td>10.560000</td>\n",
       "      <td>7.0</td>\n",
       "      <td>0.796892</td>\n",
       "      <td>2.623396e-06</td>\n",
       "    </tr>\n",
       "    <tr>\n",
       "      <th>78842197</th>\n",
       "      <td>261815</td>\n",
       "      <td>UK</td>\n",
       "      <td>B0BH3X67S3</td>\n",
       "      <td>0.0</td>\n",
       "      <td>9.383333</td>\n",
       "      <td>6.830000</td>\n",
       "      <td>38.0</td>\n",
       "      <td>4.250781</td>\n",
       "      <td>8.296004e-05</td>\n",
       "    </tr>\n",
       "    <tr>\n",
       "      <th>78842198</th>\n",
       "      <td>261815</td>\n",
       "      <td>UK</td>\n",
       "      <td>B0BH5MJGGB</td>\n",
       "      <td>0.0</td>\n",
       "      <td>9.383333</td>\n",
       "      <td>22.097065</td>\n",
       "      <td>31.0</td>\n",
       "      <td>-0.310635</td>\n",
       "      <td>8.667048e-07</td>\n",
       "    </tr>\n",
       "  </tbody>\n",
       "</table>\n",
       "<p>78842199 rows × 9 columns</p>\n",
       "</div>"
      ],
      "text/plain": [
       "          sess_id sess_locale     product  target  sess_avg_price  \\\n",
       "0               0          DE  355165591X     0.0       43.256542   \n",
       "1               0          DE  3833237058     0.0       43.256542   \n",
       "2               0          DE  B00CIXSI6U     0.0       43.256542   \n",
       "3               0          DE  B00NVDOWUW     0.0       43.256542   \n",
       "4               0          DE  B00NVDP3ZU     0.0       43.256542   \n",
       "...           ...         ...         ...     ...             ...   \n",
       "78842194   261815          UK  B0BCX524Y6     0.0        9.383333   \n",
       "78842195   261815          UK  B0BCX6QB4L     0.0        9.383333   \n",
       "78842196   261815          UK  B0BFPJYXQL     0.0        9.383333   \n",
       "78842197   261815          UK  B0BH3X67S3     0.0        9.383333   \n",
       "78842198   261815          UK  B0BH5MJGGB     0.0        9.383333   \n",
       "\n",
       "          product_price  product_freq  sasrec_scores_3  \\\n",
       "0              8.990000          51.0         2.230508   \n",
       "1             22.000000          84.0         9.605231   \n",
       "2              6.470000           7.0         0.714114   \n",
       "3             11.990000         166.0         8.750996   \n",
       "4             22.990000         502.0         8.056712   \n",
       "...                 ...           ...              ...   \n",
       "78842194      16.990000           7.0         6.813615   \n",
       "78842195      10.990000          53.0         9.030836   \n",
       "78842196      10.560000           7.0         0.796892   \n",
       "78842197       6.830000          38.0         4.250781   \n",
       "78842198      22.097065          31.0        -0.310635   \n",
       "\n",
       "          normalized_sasrec_scores_3  \n",
       "0                       7.658405e-09  \n",
       "1                       1.221631e-05  \n",
       "2                       1.681035e-09  \n",
       "3                       5.199363e-06  \n",
       "4                       2.596729e-06  \n",
       "...                              ...  \n",
       "78842194                1.076201e-03  \n",
       "78842195                9.881445e-03  \n",
       "78842196                2.623396e-06  \n",
       "78842197                8.296004e-05  \n",
       "78842198                8.667048e-07  \n",
       "\n",
       "[78842199 rows x 9 columns]"
      ]
     },
     "execution_count": 29,
     "metadata": {},
     "output_type": "execute_result"
    }
   ],
   "source": [
    "merged_candidates"
   ]
  }
 ],
 "metadata": {
  "kernelspec": {
   "display_name": "torch12",
   "language": "python",
   "name": "python3"
  },
  "language_info": {
   "codemirror_mode": {
    "name": "ipython",
    "version": 3
   },
   "file_extension": ".py",
   "mimetype": "text/x-python",
   "name": "python",
   "nbconvert_exporter": "python",
   "pygments_lexer": "ipython3",
   "version": "3.9.15"
  }
 },
 "nbformat": 4,
 "nbformat_minor": 2
}
