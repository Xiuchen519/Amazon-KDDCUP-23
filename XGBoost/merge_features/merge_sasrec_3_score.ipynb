{
 "cells": [
  {
   "attachments": {},
   "cell_type": "markdown",
   "metadata": {},
   "source": [
    "use loc[i, field] instead of iloc[i, field], iloc is very slow."
   ]
  },
  {
   "cell_type": "code",
   "execution_count": 1,
   "metadata": {
    "execution": {
     "iopub.execute_input": "2023-05-23T05:19:18.331320Z",
     "iopub.status.busy": "2023-05-23T05:19:18.331048Z",
     "iopub.status.idle": "2023-05-23T05:19:23.047916Z",
     "shell.execute_reply": "2023-05-23T05:19:23.046772Z"
    }
   },
   "outputs": [
    {
     "name": "stderr",
     "output_type": "stream",
     "text": [
      "/root/autodl-tmp/xiaolong/.conda/envs/torch12/lib/python3.9/site-packages/tqdm/auto.py:22: TqdmWarning: IProgress not found. Please update jupyter and ipywidgets. See https://ipywidgets.readthedocs.io/en/stable/user_install.html\n",
      "  from .autonotebook import tqdm as notebook_tqdm\n"
     ]
    }
   ],
   "source": [
    "import sys\n",
    "sys.path = ['/root/autodl-tmp/xiaolong/WorkSpace/Amazon-KDDCUP-23/RecStudio/'] + sys.path\n",
    "import os\n",
    "os.environ[\"CUDA_VISIBLE_DEVICES\"] = \"0\"\n",
    "import random\n",
    "import numpy as np\n",
    "import pandas as pd\n",
    "import cudf, itertools\n",
    "import scipy.sparse as ssp\n",
    "from functools import lru_cache, partial\n",
    "from tqdm import tqdm, trange\n",
    "from collections import Counter, defaultdict\n",
    "import torch\n",
    "import pickle"
   ]
  },
  {
   "cell_type": "code",
   "execution_count": 2,
   "metadata": {
    "execution": {
     "iopub.execute_input": "2023-05-23T05:19:23.090500Z",
     "iopub.status.busy": "2023-05-23T05:19:23.089838Z",
     "iopub.status.idle": "2023-05-23T05:19:23.097152Z",
     "shell.execute_reply": "2023-05-23T05:19:23.096262Z"
    }
   },
   "outputs": [],
   "source": [
    "def cast_dtype(df : pd.DataFrame):\n",
    "    for k in df.columns:\n",
    "        dt = type(df[k].iloc[0])\n",
    "        if 'float' in str(dt):\n",
    "            df[k] = df[k].astype('float32')\n",
    "        elif 'int' in str(dt):\n",
    "            df[k] = df[k].astype('int32')\n",
    "        elif dt == list:\n",
    "            dt_ = type(df.iloc[0][k][0])\n",
    "            if 'float' in str(dt_):\n",
    "                df[k] = df[k].apply(lambda x : np.array(x, dtype=np.float32))\n",
    "            elif 'int' in str(dt_):\n",
    "                df[k] = df[k].apply(lambda x : np.array(x, dtype=np.int32))"
   ]
  },
  {
   "cell_type": "code",
   "execution_count": 3,
   "metadata": {
    "execution": {
     "iopub.execute_input": "2023-05-23T05:19:23.100197Z",
     "iopub.status.busy": "2023-05-23T05:19:23.099740Z",
     "iopub.status.idle": "2023-05-23T05:19:23.104532Z",
     "shell.execute_reply": "2023-05-23T05:19:23.103391Z"
    }
   },
   "outputs": [],
   "source": [
    "def _load_cache(path):\n",
    "    with open(path, 'rb') as f:\n",
    "        download_obj = pickle.load(f)\n",
    "    return download_obj"
   ]
  },
  {
   "cell_type": "code",
   "execution_count": 4,
   "metadata": {
    "execution": {
     "iopub.execute_input": "2023-05-23T05:19:23.107295Z",
     "iopub.status.busy": "2023-05-23T05:19:23.107012Z",
     "iopub.status.idle": "2023-05-23T05:19:23.113335Z",
     "shell.execute_reply": "2023-05-23T05:19:23.112393Z"
    }
   },
   "outputs": [],
   "source": [
    "def get_scores(merged_candidates_df, query_embeddings, product_embeddings):\n",
    "    batch_size = 2048\n",
    "    num_iter = (len(merged_candidates_df) - 1) // batch_size + 1\n",
    "    score_list = []\n",
    "    with torch.no_grad():\n",
    "        for i in tqdm(range(num_iter)):\n",
    "            st, ed = i * batch_size, (i + 1) * batch_size \n",
    "            batch_sess = merged_candidates_df.iloc[st : ed]\n",
    "            batch_sess_id = torch.tensor(batch_sess['sess_id'].tolist(), dtype=torch.long, device=query_embeddings.device)\n",
    "            batch_product_id = torch.tensor(batch_sess['dataset_id'].tolist(), dtype=torch.long, device=product_embeddings.device)\n",
    "            query_emb = query_embeddings[batch_sess_id]\n",
    "            product_emb = product_embeddings[batch_product_id]\n",
    "            batch_score = (query_emb * product_emb).sum(dim=-1) \n",
    "            score_list.append(batch_score.cpu())\n",
    "        score_list = torch.cat(score_list, dim=0).cpu().tolist()\n",
    "        return score_list "
   ]
  },
  {
   "cell_type": "code",
   "execution_count": 5,
   "metadata": {
    "execution": {
     "iopub.execute_input": "2023-05-23T05:19:23.116368Z",
     "iopub.status.busy": "2023-05-23T05:19:23.115874Z",
     "iopub.status.idle": "2023-05-23T05:19:23.122736Z",
     "shell.execute_reply": "2023-05-23T05:19:23.121592Z"
    }
   },
   "outputs": [],
   "source": [
    "def normalize_scores(score_df, score_name, normalized_score_name):\n",
    "    # score_df_g = cudf.from_pandas(score_df)\n",
    "    score_df['exp_score'] = np.exp(score_df[score_name].to_numpy())\n",
    "    scores_sum = score_df[['sess_id', 'exp_score']].groupby('sess_id').sum()\n",
    "    scores_sum.reset_index(inplace=True)\n",
    "    scores_sum = scores_sum.sort_values(by=['sess_id'], ascending=True)\n",
    "    scores_sum.reset_index(drop=True, inplace=True)\n",
    "    scores_sum.rename(columns={'exp_score' : 'score_sum'}, inplace=True)\n",
    "\n",
    "    merged_score_df = score_df.merge(scores_sum, how='left', left_on=['sess_id'], right_on=['sess_id'])\n",
    "    merged_score_df = merged_score_df.sort_values(by=['sess_id', 'product'])\n",
    "    merged_score_df.reset_index(drop=True, inplace=True)\n",
    "    \n",
    "    # merged_score_df = merged_score_df_g.to_pandas(merged_score_df_g)\n",
    "    score_df[normalized_score_name] = merged_score_df['exp_score'] / merged_score_df['score_sum']\n",
    "    score_df['exp_score'] = merged_score_df['exp_score']\n",
    "    score_df['score_sum'] = merged_score_df['score_sum']\n",
    "\n",
    "    # del scores_sum_g\n",
    "    # del merged_score_df_g "
   ]
  },
  {
   "attachments": {},
   "cell_type": "markdown",
   "metadata": {},
   "source": [
    "# Merge valid score"
   ]
  },
  {
   "cell_type": "code",
   "execution_count": 6,
   "metadata": {
    "execution": {
     "iopub.execute_input": "2023-05-23T05:19:23.126553Z",
     "iopub.status.busy": "2023-05-23T05:19:23.126214Z",
     "iopub.status.idle": "2023-05-23T05:19:23.130596Z",
     "shell.execute_reply": "2023-05-23T05:19:23.129692Z"
    }
   },
   "outputs": [],
   "source": [
    "FIELD_NAME = 'sasrec_scores_3'"
   ]
  },
  {
   "cell_type": "code",
   "execution_count": 7,
   "metadata": {
    "execution": {
     "iopub.execute_input": "2023-05-23T05:19:23.133667Z",
     "iopub.status.busy": "2023-05-23T05:19:23.133352Z",
     "iopub.status.idle": "2023-05-23T05:19:23.137410Z",
     "shell.execute_reply": "2023-05-23T05:19:23.136551Z"
    }
   },
   "outputs": [],
   "source": [
    "merged_candidates_feature_path = '/root/autodl-tmp/xiaolong/WorkSpace/Amazon-KDDCUP-23/XGBoost/candidates/merged_candidates_2_feature.parquet'\n",
    "valid_sessions_path = '/root/autodl-tmp/xiaolong/WorkSpace/Amazon-KDDCUP-23/data_for_recstudio/task1_data/task13_4_task1_valid_sessions.csv'\n",
    "test_sessions_path = '/root/autodl-tmp/xiaolong/WorkSpace/Amazon-KDDCUP-23/raw_data/sessions_test_task1.csv'"
   ]
  },
  {
   "cell_type": "code",
   "execution_count": 8,
   "metadata": {
    "execution": {
     "iopub.execute_input": "2023-05-23T05:19:23.140136Z",
     "iopub.status.busy": "2023-05-23T05:19:23.139779Z",
     "iopub.status.idle": "2023-05-23T05:19:23.144807Z",
     "shell.execute_reply": "2023-05-23T05:19:23.143691Z"
    }
   },
   "outputs": [],
   "source": [
    "@lru_cache(maxsize=1)\n",
    "def read_merged_candidates_feature():\n",
    "    return pd.read_parquet(merged_candidates_feature_path, engine='pyarrow')\n",
    "\n",
    "@lru_cache(maxsize=1)\n",
    "def read_valid_sessions():\n",
    "    return pd.read_csv(valid_sessions_path)\n",
    "\n",
    "@lru_cache(maxsize=1)\n",
    "def read_test_sessions():\n",
    "    return pd.read_csv(test_sessions_path)"
   ]
  },
  {
   "cell_type": "code",
   "execution_count": 9,
   "metadata": {
    "execution": {
     "iopub.execute_input": "2023-05-23T05:19:23.147895Z",
     "iopub.status.busy": "2023-05-23T05:19:23.147624Z",
     "iopub.status.idle": "2023-05-23T05:19:23.152583Z",
     "shell.execute_reply": "2023-05-23T05:19:23.151645Z"
    }
   },
   "outputs": [],
   "source": [
    "DE_product_embeddings_path = '/root/autodl-tmp/xiaolong/WorkSpace/Amazon-KDDCUP-23/candidates/query_embeddings/SASRec_Next/kdd_cup_2023_DE/product_embeddings_2023-05-11-21-16-31.pt'\n",
    "DE_valid_embeddings_path = '/root/autodl-tmp/xiaolong/WorkSpace/Amazon-KDDCUP-23/candidates/query_embeddings/SASRec_Next/kdd_cup_2023_DE/valid_embeddings_2023-05-11-21-16-40.pt'\n",
    "JP_product_embeddings_path = '/root/autodl-tmp/xiaolong/WorkSpace/Amazon-KDDCUP-23/candidates/query_embeddings/SASRec_Next/kdd_cup_2023_JP/product_embeddings_2023-05-11-21-17-24.pt'\n",
    "JP_valid_embeddings_path = '/root/autodl-tmp/xiaolong/WorkSpace/Amazon-KDDCUP-23/candidates/query_embeddings/SASRec_Next/kdd_cup_2023_JP/valid_embeddings_2023-05-11-21-17-33.pt'\n",
    "UK_product_embeddings_path = '/root/autodl-tmp/xiaolong/WorkSpace/Amazon-KDDCUP-23/candidates/query_embeddings/SASRec_Next/kdd_cup_2023_UK/product_embeddings_2023-05-11-21-18-13.pt'\n",
    "UK_valid_embeddings_path = '/root/autodl-tmp/xiaolong/WorkSpace/Amazon-KDDCUP-23/candidates/query_embeddings/SASRec_Next/kdd_cup_2023_UK/valid_embeddings_2023-05-11-21-18-18.pt'"
   ]
  },
  {
   "cell_type": "code",
   "execution_count": 10,
   "metadata": {
    "execution": {
     "iopub.execute_input": "2023-05-23T05:19:23.155409Z",
     "iopub.status.busy": "2023-05-23T05:19:23.155114Z",
     "iopub.status.idle": "2023-05-23T05:19:23.159478Z",
     "shell.execute_reply": "2023-05-23T05:19:23.158676Z"
    }
   },
   "outputs": [],
   "source": [
    "DE_dataset_cache = '/root/autodl-tmp/xiaolong/WorkSpace/Amazon-KDDCUP-23/.recstudio/cache/c76eddf0a07106ffcce7ce8010856a3b'\n",
    "JP_dataset_cache = '/root/autodl-tmp/xiaolong/WorkSpace/Amazon-KDDCUP-23/.recstudio/cache/81a71d0a18766af84b3beab69bf53e69'\n",
    "UK_dataset_cache = '/root/autodl-tmp/xiaolong/WorkSpace/Amazon-KDDCUP-23/.recstudio/cache/250dbc09c30162452e00486051e47756'"
   ]
  },
  {
   "cell_type": "code",
   "execution_count": 11,
   "metadata": {
    "execution": {
     "iopub.execute_input": "2023-05-23T05:19:23.162933Z",
     "iopub.status.busy": "2023-05-23T05:19:23.162650Z",
     "iopub.status.idle": "2023-05-23T05:20:02.856513Z",
     "shell.execute_reply": "2023-05-23T05:20:02.851730Z"
    }
   },
   "outputs": [],
   "source": [
    "DE_train_dataset, DE_valid_dataset = _load_cache(DE_dataset_cache)\n",
    "JP_train_dataset, JP_valid_dataset = _load_cache(JP_dataset_cache)\n",
    "UK_train_dataset, UK_valid_dataset = _load_cache(UK_dataset_cache)\n",
    "locale_map = {\n",
    "    'DE' : DE_train_dataset.field2token2idx['product_id'], \n",
    "    'JP' : JP_train_dataset.field2token2idx['product_id'], \n",
    "    'UK' : UK_train_dataset.field2token2idx['product_id']\n",
    "    }"
   ]
  },
  {
   "cell_type": "code",
   "execution_count": 12,
   "metadata": {
    "execution": {
     "iopub.execute_input": "2023-05-23T05:20:02.877113Z",
     "iopub.status.busy": "2023-05-23T05:20:02.875301Z",
     "iopub.status.idle": "2023-05-23T05:24:02.661959Z",
     "shell.execute_reply": "2023-05-23T05:24:02.631445Z"
    }
   },
   "outputs": [],
   "source": [
    "merged_candidates = read_merged_candidates_feature()\n",
    "valid_sessions = read_valid_sessions()\n",
    "EMBED_DIM = 128\n",
    "merged_candidates.sort_values(by=['sess_id', 'product'], inplace=True)\n",
    "merged_candidates.reset_index(drop=True, inplace=True)"
   ]
  },
  {
   "cell_type": "code",
   "execution_count": 13,
   "metadata": {
    "execution": {
     "iopub.execute_input": "2023-05-23T05:24:02.679575Z",
     "iopub.status.busy": "2023-05-23T05:24:02.679205Z",
     "iopub.status.idle": "2023-05-23T05:24:03.104784Z",
     "shell.execute_reply": "2023-05-23T05:24:03.103545Z"
    }
   },
   "outputs": [],
   "source": [
    "# sess embeddings \n",
    "valid_DE_query_emb = torch.load(DE_valid_embeddings_path, map_location='cpu')\n",
    "valid_JP_query_emb = torch.load(JP_valid_embeddings_path, map_location='cpu')\n",
    "valid_UK_query_emb = torch.load(UK_valid_embeddings_path, map_location='cpu')\n",
    "valid_query_embeddings = torch.empty(len(valid_sessions), EMBED_DIM)\n",
    "valid_query_embeddings[(valid_sessions[valid_sessions['locale'] == 'DE'].index).tolist()] = valid_DE_query_emb\n",
    "valid_query_embeddings[(valid_sessions[valid_sessions['locale'] == 'JP'].index).tolist()] = valid_JP_query_emb\n",
    "valid_query_embeddings[(valid_sessions[valid_sessions['locale'] == 'UK'].index).tolist()] = valid_UK_query_emb"
   ]
  },
  {
   "cell_type": "code",
   "execution_count": 14,
   "metadata": {
    "execution": {
     "iopub.execute_input": "2023-05-23T05:24:03.110071Z",
     "iopub.status.busy": "2023-05-23T05:24:03.109722Z",
     "iopub.status.idle": "2023-05-23T05:24:03.891679Z",
     "shell.execute_reply": "2023-05-23T05:24:03.890422Z"
    }
   },
   "outputs": [],
   "source": [
    "# product_embeddings \n",
    "DE_product_emb = torch.load(DE_product_embeddings_path, map_location='cpu')\n",
    "JP_product_emb = torch.load(JP_product_embeddings_path, map_location='cpu')\n",
    "UK_product_emb = torch.load(UK_product_embeddings_path, map_location='cpu')\n",
    "product_embeddings = torch.cat([DE_product_emb, JP_product_emb, UK_product_emb], dim=0)"
   ]
  },
  {
   "cell_type": "code",
   "execution_count": 15,
   "metadata": {
    "execution": {
     "iopub.execute_input": "2023-05-23T05:24:03.896733Z",
     "iopub.status.busy": "2023-05-23T05:24:03.896326Z",
     "iopub.status.idle": "2023-05-23T05:24:16.063480Z",
     "shell.execute_reply": "2023-05-23T05:24:16.060754Z"
    }
   },
   "outputs": [],
   "source": [
    "merged_candidates_sasrec = merged_candidates[['sess_id', 'sess_locale', 'product']].copy()"
   ]
  },
  {
   "cell_type": "code",
   "execution_count": 16,
   "metadata": {
    "execution": {
     "iopub.execute_input": "2023-05-23T05:24:16.070493Z",
     "iopub.status.busy": "2023-05-23T05:24:16.068981Z",
     "iopub.status.idle": "2023-05-23T05:24:20.105617Z",
     "shell.execute_reply": "2023-05-23T05:24:20.104612Z"
    }
   },
   "outputs": [],
   "source": [
    "DE_product_list, DE_id_list = list(zip(*locale_map['DE'].items()))\n",
    "JP_product_list, JP_id_list = list(zip(*locale_map['JP'].items()))\n",
    "UK_product_list, UK_id_list = list(zip(*locale_map['UK'].items()))\n",
    "product_list = list(DE_product_list) + list(JP_product_list) + list(UK_product_list)\n",
    "id_list = list(DE_id_list) + list(JP_id_list) + list(UK_id_list)\n",
    "locale_list = ['DE'] * len(DE_id_list) + ['JP'] * len(JP_id_list) + ['UK'] * len(UK_id_list)\n",
    "product_id_df = pd.DataFrame({'locale' : locale_list, 'product' : product_list, 'dataset_id' : id_list})"
   ]
  },
  {
   "cell_type": "code",
   "execution_count": 17,
   "metadata": {
    "execution": {
     "iopub.execute_input": "2023-05-23T05:24:20.109590Z",
     "iopub.status.busy": "2023-05-23T05:24:20.109306Z",
     "iopub.status.idle": "2023-05-23T05:24:20.113264Z",
     "shell.execute_reply": "2023-05-23T05:24:20.112366Z"
    }
   },
   "outputs": [],
   "source": [
    "# merged_candidates_sasrec_g = cudf.from_pandas(merged_candidates_sasrec)\n",
    "# product_id_df_g = cudf.from_pandas(product_id_df)"
   ]
  },
  {
   "cell_type": "code",
   "execution_count": 18,
   "metadata": {
    "execution": {
     "iopub.execute_input": "2023-05-23T05:24:20.116915Z",
     "iopub.status.busy": "2023-05-23T05:24:20.116653Z",
     "iopub.status.idle": "2023-05-23T05:24:20.120506Z",
     "shell.execute_reply": "2023-05-23T05:24:20.119473Z"
    }
   },
   "outputs": [],
   "source": [
    "# merged_candidates_sasrec_score_g = merged_candidates_sasrec_g.merge(product_id_df_g, how='left', left_on=['sess_locale', 'product'], right_on=['locale', 'product'])\n",
    "# merged_candidates_sasrec_score_g['dataset_id'] = merged_candidates_sasrec_score_g['dataset_id'].fillna(0)\n",
    "# merged_candidates_sasrec_score_g.drop(columns=['locale'], inplace=True)\n",
    "# merged_candidates_sasrec_score_g = merged_candidates_sasrec_score_g.sort_values(by=['sess_id', 'product'])\n",
    "# merged_candidates_sasrec_score_g.reset_index(drop=True, inplace=True)\n",
    "# merged_candidates_sasrec_score = merged_candidates_sasrec_score_g.to_pandas()\n",
    "# assert len(merged_candidates_sasrec_score) == len(merged_candidates)"
   ]
  },
  {
   "cell_type": "code",
   "execution_count": 19,
   "metadata": {
    "execution": {
     "iopub.execute_input": "2023-05-23T05:24:20.123464Z",
     "iopub.status.busy": "2023-05-23T05:24:20.123188Z",
     "iopub.status.idle": "2023-05-23T05:28:26.530490Z",
     "shell.execute_reply": "2023-05-23T05:28:26.524192Z"
    }
   },
   "outputs": [],
   "source": [
    "merged_candidates_sasrec_score = merged_candidates_sasrec.merge(product_id_df, how='left', left_on=['sess_locale', 'product'], right_on=['locale', 'product'])\n",
    "merged_candidates_sasrec_score['dataset_id'] = merged_candidates_sasrec_score['dataset_id'].fillna(0)\n",
    "merged_candidates_sasrec_score.drop(columns=['locale'], inplace=True)\n",
    "merged_candidates_sasrec_score = merged_candidates_sasrec_score.sort_values(by=['sess_id', 'product'])\n",
    "merged_candidates_sasrec_score.reset_index(drop=True, inplace=True)\n",
    "assert len(merged_candidates_sasrec_score) == len(merged_candidates)"
   ]
  },
  {
   "cell_type": "code",
   "execution_count": 20,
   "metadata": {
    "execution": {
     "iopub.execute_input": "2023-05-23T05:28:26.543439Z",
     "iopub.status.busy": "2023-05-23T05:28:26.543064Z",
     "iopub.status.idle": "2023-05-23T05:28:26.547910Z",
     "shell.execute_reply": "2023-05-23T05:28:26.546981Z"
    }
   },
   "outputs": [],
   "source": [
    "# del merged_candidates_sasrec_g\n",
    "# del product_id_df_g\n",
    "# del merged_candidates_sasrec_score_g"
   ]
  },
  {
   "cell_type": "code",
   "execution_count": 21,
   "metadata": {
    "execution": {
     "iopub.execute_input": "2023-05-23T05:28:26.551703Z",
     "iopub.status.busy": "2023-05-23T05:28:26.551368Z",
     "iopub.status.idle": "2023-05-23T05:29:45.687437Z",
     "shell.execute_reply": "2023-05-23T05:29:45.686193Z"
    }
   },
   "outputs": [
    {
     "name": "stderr",
     "output_type": "stream",
     "text": [
      "/tmp/ipykernel_468657/2146751149.py:3: SettingWithCopyWarning: \n",
      "A value is trying to be set on a copy of a slice from a DataFrame\n",
      "\n",
      "See the caveats in the documentation: https://pandas.pydata.org/pandas-docs/stable/user_guide/indexing.html#returning-a-view-versus-a-copy\n",
      "  merged_candidates_sasrec_score['dataset_id'][merged_candidates_sasrec_score['sess_locale'] == locale] = \\\n"
     ]
    }
   ],
   "source": [
    "locale_offset = {'DE' : 0, 'JP' : len(DE_product_list), 'UK' : len(DE_product_list) + len(JP_product_list)}\n",
    "for locale in ['DE', 'JP', 'UK']:\n",
    "    merged_candidates_sasrec_score['dataset_id'][merged_candidates_sasrec_score['sess_locale'] == locale] = \\\n",
    "        merged_candidates_sasrec_score['dataset_id'][merged_candidates_sasrec_score['sess_locale'] == locale] + locale_offset[locale]"
   ]
  },
  {
   "cell_type": "code",
   "execution_count": 22,
   "metadata": {
    "execution": {
     "iopub.execute_input": "2023-05-23T05:29:45.691674Z",
     "iopub.status.busy": "2023-05-23T05:29:45.691130Z",
     "iopub.status.idle": "2023-05-23T05:29:50.693510Z",
     "shell.execute_reply": "2023-05-23T05:29:50.692518Z"
    }
   },
   "outputs": [],
   "source": [
    "valid_query_embeddings = valid_query_embeddings.to('cuda:0')\n",
    "product_embeddings = product_embeddings.to('cuda:0')"
   ]
  },
  {
   "cell_type": "code",
   "execution_count": 23,
   "metadata": {
    "execution": {
     "iopub.execute_input": "2023-05-23T05:29:50.698088Z",
     "iopub.status.busy": "2023-05-23T05:29:50.697758Z",
     "iopub.status.idle": "2023-05-23T05:32:04.487990Z",
     "shell.execute_reply": "2023-05-23T05:32:04.486582Z"
    }
   },
   "outputs": [
    {
     "name": "stderr",
     "output_type": "stream",
     "text": [
      "  0%|                                              | 0/37877 [00:00<?, ?it/s]/tmp/ipykernel_468657/150055658.py:10: DeprecationWarning: an integer is required (got type float).  Implicit conversion to integers using __int__ is deprecated, and may be removed in a future version of Python.\n",
      "  batch_product_id = torch.tensor(batch_sess['dataset_id'].tolist(), dtype=torch.long, device=product_embeddings.device)\n",
      "100%|█████████████████████████████████| 37877/37877 [01:52<00:00, 335.71it/s]\n"
     ]
    }
   ],
   "source": [
    "merged_candidates_sasrec_score[FIELD_NAME] = get_scores(merged_candidates_sasrec_score, valid_query_embeddings, product_embeddings)"
   ]
  },
  {
   "cell_type": "code",
   "execution_count": 24,
   "metadata": {
    "execution": {
     "iopub.execute_input": "2023-05-23T05:32:04.498989Z",
     "iopub.status.busy": "2023-05-23T05:32:04.498155Z",
     "iopub.status.idle": "2023-05-23T05:34:38.906747Z",
     "shell.execute_reply": "2023-05-23T05:34:38.905419Z"
    }
   },
   "outputs": [],
   "source": [
    "normalize_scores(merged_candidates_sasrec_score, FIELD_NAME, 'normalized_'+FIELD_NAME)"
   ]
  },
  {
   "cell_type": "code",
   "execution_count": 25,
   "metadata": {
    "execution": {
     "iopub.execute_input": "2023-05-23T05:34:38.910957Z",
     "iopub.status.busy": "2023-05-23T05:34:38.910647Z",
     "iopub.status.idle": "2023-05-23T05:34:40.115702Z",
     "shell.execute_reply": "2023-05-23T05:34:40.114326Z"
    }
   },
   "outputs": [],
   "source": [
    "merged_candidates[FIELD_NAME] = merged_candidates_sasrec_score[FIELD_NAME]\n",
    "merged_candidates['normalized_'+FIELD_NAME] = merged_candidates_sasrec_score['normalized_'+FIELD_NAME]"
   ]
  },
  {
   "cell_type": "code",
   "execution_count": 26,
   "metadata": {
    "execution": {
     "iopub.execute_input": "2023-05-23T05:34:40.120396Z",
     "iopub.status.busy": "2023-05-23T05:34:40.119696Z",
     "iopub.status.idle": "2023-05-23T05:35:33.924285Z",
     "shell.execute_reply": "2023-05-23T05:35:33.923006Z"
    }
   },
   "outputs": [],
   "source": [
    "cast_dtype(merged_candidates)\n",
    "merged_candidates.to_parquet(merged_candidates_feature_path, engine='pyarrow')"
   ]
  },
  {
   "cell_type": "code",
   "execution_count": 27,
   "metadata": {
    "execution": {
     "iopub.execute_input": "2023-05-23T05:35:33.927567Z",
     "iopub.status.busy": "2023-05-23T05:35:33.927289Z",
     "iopub.status.idle": "2023-05-23T05:35:33.967574Z",
     "shell.execute_reply": "2023-05-23T05:35:33.966633Z"
    }
   },
   "outputs": [
    {
     "data": {
      "text/html": [
       "<div>\n",
       "<style scoped>\n",
       "    .dataframe tbody tr th:only-of-type {\n",
       "        vertical-align: middle;\n",
       "    }\n",
       "\n",
       "    .dataframe tbody tr th {\n",
       "        vertical-align: top;\n",
       "    }\n",
       "\n",
       "    .dataframe thead th {\n",
       "        text-align: right;\n",
       "    }\n",
       "</style>\n",
       "<table border=\"1\" class=\"dataframe\">\n",
       "  <thead>\n",
       "    <tr style=\"text-align: right;\">\n",
       "      <th></th>\n",
       "      <th>sess_id</th>\n",
       "      <th>sess_locale</th>\n",
       "      <th>product</th>\n",
       "      <th>dataset_id</th>\n",
       "      <th>sasrec_scores_3</th>\n",
       "      <th>exp_score</th>\n",
       "      <th>normalized_sasrec_scores_3</th>\n",
       "      <th>score_sum</th>\n",
       "    </tr>\n",
       "  </thead>\n",
       "  <tbody>\n",
       "    <tr>\n",
       "      <th>0</th>\n",
       "      <td>0</td>\n",
       "      <td>UK</td>\n",
       "      <td>B000V599Y2</td>\n",
       "      <td>1086285.0</td>\n",
       "      <td>10.677187</td>\n",
       "      <td>43355.418383</td>\n",
       "      <td>2.019072e-04</td>\n",
       "      <td>2.147294e+08</td>\n",
       "    </tr>\n",
       "    <tr>\n",
       "      <th>1</th>\n",
       "      <td>0</td>\n",
       "      <td>UK</td>\n",
       "      <td>B007VZUA7U</td>\n",
       "      <td>1086284.0</td>\n",
       "      <td>8.838863</td>\n",
       "      <td>6897.148697</td>\n",
       "      <td>3.212018e-05</td>\n",
       "      <td>2.147294e+08</td>\n",
       "    </tr>\n",
       "    <tr>\n",
       "      <th>2</th>\n",
       "      <td>0</td>\n",
       "      <td>UK</td>\n",
       "      <td>B009EUAEQC</td>\n",
       "      <td>1229279.0</td>\n",
       "      <td>10.670128</td>\n",
       "      <td>43050.445948</td>\n",
       "      <td>2.004869e-04</td>\n",
       "      <td>2.147294e+08</td>\n",
       "    </tr>\n",
       "    <tr>\n",
       "      <th>3</th>\n",
       "      <td>0</td>\n",
       "      <td>UK</td>\n",
       "      <td>B00AH02IWG</td>\n",
       "      <td>1229278.0</td>\n",
       "      <td>11.166204</td>\n",
       "      <td>70700.254565</td>\n",
       "      <td>3.292527e-04</td>\n",
       "      <td>2.147294e+08</td>\n",
       "    </tr>\n",
       "    <tr>\n",
       "      <th>4</th>\n",
       "      <td>0</td>\n",
       "      <td>UK</td>\n",
       "      <td>B00I0UKKD4</td>\n",
       "      <td>969578.0</td>\n",
       "      <td>11.681271</td>\n",
       "      <td>118334.495322</td>\n",
       "      <td>5.510865e-04</td>\n",
       "      <td>2.147294e+08</td>\n",
       "    </tr>\n",
       "    <tr>\n",
       "      <th>...</th>\n",
       "      <td>...</td>\n",
       "      <td>...</td>\n",
       "      <td>...</td>\n",
       "      <td>...</td>\n",
       "      <td>...</td>\n",
       "      <td>...</td>\n",
       "      <td>...</td>\n",
       "      <td>...</td>\n",
       "    </tr>\n",
       "    <tr>\n",
       "      <th>77570148</th>\n",
       "      <td>361580</td>\n",
       "      <td>DE</td>\n",
       "      <td>B0BB7XV97M</td>\n",
       "      <td>92057.0</td>\n",
       "      <td>9.635838</td>\n",
       "      <td>15303.510950</td>\n",
       "      <td>3.403846e-05</td>\n",
       "      <td>4.495947e+08</td>\n",
       "    </tr>\n",
       "    <tr>\n",
       "      <th>77570149</th>\n",
       "      <td>361580</td>\n",
       "      <td>DE</td>\n",
       "      <td>B0BB7YSRBX</td>\n",
       "      <td>52408.0</td>\n",
       "      <td>9.159988</td>\n",
       "      <td>9508.946805</td>\n",
       "      <td>2.115004e-05</td>\n",
       "      <td>4.495947e+08</td>\n",
       "    </tr>\n",
       "    <tr>\n",
       "      <th>77570150</th>\n",
       "      <td>361580</td>\n",
       "      <td>DE</td>\n",
       "      <td>B0BB7ZMGY8</td>\n",
       "      <td>20389.0</td>\n",
       "      <td>10.119755</td>\n",
       "      <td>24828.681879</td>\n",
       "      <td>5.522459e-05</td>\n",
       "      <td>4.495947e+08</td>\n",
       "    </tr>\n",
       "    <tr>\n",
       "      <th>77570151</th>\n",
       "      <td>361580</td>\n",
       "      <td>DE</td>\n",
       "      <td>B0BD4CP7N3</td>\n",
       "      <td>491692.0</td>\n",
       "      <td>-1.612869</td>\n",
       "      <td>0.199315</td>\n",
       "      <td>4.433215e-10</td>\n",
       "      <td>4.495947e+08</td>\n",
       "    </tr>\n",
       "    <tr>\n",
       "      <th>77570152</th>\n",
       "      <td>361580</td>\n",
       "      <td>DE</td>\n",
       "      <td>B0BL17QFL2</td>\n",
       "      <td>60573.0</td>\n",
       "      <td>4.621465</td>\n",
       "      <td>101.642802</td>\n",
       "      <td>2.260765e-07</td>\n",
       "      <td>4.495947e+08</td>\n",
       "    </tr>\n",
       "  </tbody>\n",
       "</table>\n",
       "<p>77570153 rows × 8 columns</p>\n",
       "</div>"
      ],
      "text/plain": [
       "          sess_id sess_locale     product  dataset_id  sasrec_scores_3  \\\n",
       "0               0          UK  B000V599Y2   1086285.0        10.677187   \n",
       "1               0          UK  B007VZUA7U   1086284.0         8.838863   \n",
       "2               0          UK  B009EUAEQC   1229279.0        10.670128   \n",
       "3               0          UK  B00AH02IWG   1229278.0        11.166204   \n",
       "4               0          UK  B00I0UKKD4    969578.0        11.681271   \n",
       "...           ...         ...         ...         ...              ...   \n",
       "77570148   361580          DE  B0BB7XV97M     92057.0         9.635838   \n",
       "77570149   361580          DE  B0BB7YSRBX     52408.0         9.159988   \n",
       "77570150   361580          DE  B0BB7ZMGY8     20389.0        10.119755   \n",
       "77570151   361580          DE  B0BD4CP7N3    491692.0        -1.612869   \n",
       "77570152   361580          DE  B0BL17QFL2     60573.0         4.621465   \n",
       "\n",
       "              exp_score  normalized_sasrec_scores_3     score_sum  \n",
       "0          43355.418383                2.019072e-04  2.147294e+08  \n",
       "1           6897.148697                3.212018e-05  2.147294e+08  \n",
       "2          43050.445948                2.004869e-04  2.147294e+08  \n",
       "3          70700.254565                3.292527e-04  2.147294e+08  \n",
       "4         118334.495322                5.510865e-04  2.147294e+08  \n",
       "...                 ...                         ...           ...  \n",
       "77570148   15303.510950                3.403846e-05  4.495947e+08  \n",
       "77570149    9508.946805                2.115004e-05  4.495947e+08  \n",
       "77570150   24828.681879                5.522459e-05  4.495947e+08  \n",
       "77570151       0.199315                4.433215e-10  4.495947e+08  \n",
       "77570152     101.642802                2.260765e-07  4.495947e+08  \n",
       "\n",
       "[77570153 rows x 8 columns]"
      ]
     },
     "execution_count": 27,
     "metadata": {},
     "output_type": "execute_result"
    }
   ],
   "source": [
    "merged_candidates_sasrec_score"
   ]
  },
  {
   "cell_type": "code",
   "execution_count": 28,
   "metadata": {
    "execution": {
     "iopub.execute_input": "2023-05-23T05:35:33.975849Z",
     "iopub.status.busy": "2023-05-23T05:35:33.974654Z",
     "iopub.status.idle": "2023-05-23T05:35:41.662467Z",
     "shell.execute_reply": "2023-05-23T05:35:41.661317Z"
    }
   },
   "outputs": [
    {
     "data": {
      "text/html": [
       "<div>\n",
       "<style scoped>\n",
       "    .dataframe tbody tr th:only-of-type {\n",
       "        vertical-align: middle;\n",
       "    }\n",
       "\n",
       "    .dataframe tbody tr th {\n",
       "        vertical-align: top;\n",
       "    }\n",
       "\n",
       "    .dataframe thead th {\n",
       "        text-align: right;\n",
       "    }\n",
       "</style>\n",
       "<table border=\"1\" class=\"dataframe\">\n",
       "  <thead>\n",
       "    <tr style=\"text-align: right;\">\n",
       "      <th></th>\n",
       "      <th>sess_id</th>\n",
       "      <th>sess_locale</th>\n",
       "      <th>product</th>\n",
       "      <th>sasrec_scores_2</th>\n",
       "      <th>normalized_sasrec_scores_2</th>\n",
       "      <th>sasrec_scores_3</th>\n",
       "      <th>normalized_sasrec_scores_3</th>\n",
       "    </tr>\n",
       "  </thead>\n",
       "  <tbody>\n",
       "    <tr>\n",
       "      <th>431175</th>\n",
       "      <td>2000</td>\n",
       "      <td>JP</td>\n",
       "      <td>B086X9CBRD</td>\n",
       "      <td>14.987995</td>\n",
       "      <td>0.510252</td>\n",
       "      <td>14.290791</td>\n",
       "      <td>0.504257</td>\n",
       "    </tr>\n",
       "    <tr>\n",
       "      <th>431234</th>\n",
       "      <td>2000</td>\n",
       "      <td>JP</td>\n",
       "      <td>B09SKY29S2</td>\n",
       "      <td>13.341005</td>\n",
       "      <td>0.098289</td>\n",
       "      <td>12.808008</td>\n",
       "      <td>0.114469</td>\n",
       "    </tr>\n",
       "    <tr>\n",
       "      <th>431216</th>\n",
       "      <td>2000</td>\n",
       "      <td>JP</td>\n",
       "      <td>B09DFKPTJY</td>\n",
       "      <td>12.606855</td>\n",
       "      <td>0.047170</td>\n",
       "      <td>11.978699</td>\n",
       "      <td>0.049949</td>\n",
       "    </tr>\n",
       "    <tr>\n",
       "      <th>431099</th>\n",
       "      <td>2000</td>\n",
       "      <td>JP</td>\n",
       "      <td>B01B74BTAM</td>\n",
       "      <td>12.199039</td>\n",
       "      <td>0.031373</td>\n",
       "      <td>11.649967</td>\n",
       "      <td>0.035955</td>\n",
       "    </tr>\n",
       "    <tr>\n",
       "      <th>431114</th>\n",
       "      <td>2000</td>\n",
       "      <td>JP</td>\n",
       "      <td>B01JKHIEYM</td>\n",
       "      <td>12.713286</td>\n",
       "      <td>0.052468</td>\n",
       "      <td>11.453544</td>\n",
       "      <td>0.029543</td>\n",
       "    </tr>\n",
       "    <tr>\n",
       "      <th>431202</th>\n",
       "      <td>2000</td>\n",
       "      <td>JP</td>\n",
       "      <td>B08Y655N98</td>\n",
       "      <td>12.260298</td>\n",
       "      <td>0.033355</td>\n",
       "      <td>11.242960</td>\n",
       "      <td>0.023933</td>\n",
       "    </tr>\n",
       "    <tr>\n",
       "      <th>431145</th>\n",
       "      <td>2000</td>\n",
       "      <td>JP</td>\n",
       "      <td>B07FDQBL6Y</td>\n",
       "      <td>12.004602</td>\n",
       "      <td>0.025829</td>\n",
       "      <td>11.218767</td>\n",
       "      <td>0.023361</td>\n",
       "    </tr>\n",
       "    <tr>\n",
       "      <th>431200</th>\n",
       "      <td>2000</td>\n",
       "      <td>JP</td>\n",
       "      <td>B08Y5T9VKZ</td>\n",
       "      <td>12.010115</td>\n",
       "      <td>0.025972</td>\n",
       "      <td>10.825808</td>\n",
       "      <td>0.015770</td>\n",
       "    </tr>\n",
       "    <tr>\n",
       "      <th>431233</th>\n",
       "      <td>2000</td>\n",
       "      <td>JP</td>\n",
       "      <td>B09SKWKHWX</td>\n",
       "      <td>11.115759</td>\n",
       "      <td>0.010619</td>\n",
       "      <td>10.706393</td>\n",
       "      <td>0.013995</td>\n",
       "    </tr>\n",
       "    <tr>\n",
       "      <th>431101</th>\n",
       "      <td>2000</td>\n",
       "      <td>JP</td>\n",
       "      <td>B01BSTS43G</td>\n",
       "      <td>11.370605</td>\n",
       "      <td>0.013702</td>\n",
       "      <td>10.639573</td>\n",
       "      <td>0.013090</td>\n",
       "    </tr>\n",
       "    <tr>\n",
       "      <th>431055</th>\n",
       "      <td>2000</td>\n",
       "      <td>JP</td>\n",
       "      <td>B000QVYJUK</td>\n",
       "      <td>10.928013</td>\n",
       "      <td>0.008802</td>\n",
       "      <td>10.611936</td>\n",
       "      <td>0.012733</td>\n",
       "    </tr>\n",
       "    <tr>\n",
       "      <th>431160</th>\n",
       "      <td>2000</td>\n",
       "      <td>JP</td>\n",
       "      <td>B07Z4YVRCW</td>\n",
       "      <td>11.215329</td>\n",
       "      <td>0.011731</td>\n",
       "      <td>10.406797</td>\n",
       "      <td>0.010372</td>\n",
       "    </tr>\n",
       "    <tr>\n",
       "      <th>431102</th>\n",
       "      <td>2000</td>\n",
       "      <td>JP</td>\n",
       "      <td>B01BSTS48G</td>\n",
       "      <td>10.587543</td>\n",
       "      <td>0.006262</td>\n",
       "      <td>10.376348</td>\n",
       "      <td>0.010061</td>\n",
       "    </tr>\n",
       "    <tr>\n",
       "      <th>431129</th>\n",
       "      <td>2000</td>\n",
       "      <td>JP</td>\n",
       "      <td>B071SLZH2N</td>\n",
       "      <td>10.678562</td>\n",
       "      <td>0.006858</td>\n",
       "      <td>10.298676</td>\n",
       "      <td>0.009309</td>\n",
       "    </tr>\n",
       "    <tr>\n",
       "      <th>431217</th>\n",
       "      <td>2000</td>\n",
       "      <td>JP</td>\n",
       "      <td>B09DJVJN5P</td>\n",
       "      <td>10.361154</td>\n",
       "      <td>0.004993</td>\n",
       "      <td>10.248901</td>\n",
       "      <td>0.008857</td>\n",
       "    </tr>\n",
       "    <tr>\n",
       "      <th>431243</th>\n",
       "      <td>2000</td>\n",
       "      <td>JP</td>\n",
       "      <td>B0B1BQ2Z2M</td>\n",
       "      <td>10.420588</td>\n",
       "      <td>0.005299</td>\n",
       "      <td>9.970964</td>\n",
       "      <td>0.006708</td>\n",
       "    </tr>\n",
       "    <tr>\n",
       "      <th>431067</th>\n",
       "      <td>2000</td>\n",
       "      <td>JP</td>\n",
       "      <td>B003E37US0</td>\n",
       "      <td>10.209156</td>\n",
       "      <td>0.004289</td>\n",
       "      <td>9.934607</td>\n",
       "      <td>0.006468</td>\n",
       "    </tr>\n",
       "    <tr>\n",
       "      <th>431227</th>\n",
       "      <td>2000</td>\n",
       "      <td>JP</td>\n",
       "      <td>B09QFRXWQ2</td>\n",
       "      <td>10.334383</td>\n",
       "      <td>0.004861</td>\n",
       "      <td>9.929650</td>\n",
       "      <td>0.006436</td>\n",
       "    </tr>\n",
       "    <tr>\n",
       "      <th>431128</th>\n",
       "      <td>2000</td>\n",
       "      <td>JP</td>\n",
       "      <td>B0719X7XBR</td>\n",
       "      <td>10.245605</td>\n",
       "      <td>0.004448</td>\n",
       "      <td>9.823494</td>\n",
       "      <td>0.005788</td>\n",
       "    </tr>\n",
       "    <tr>\n",
       "      <th>431191</th>\n",
       "      <td>2000</td>\n",
       "      <td>JP</td>\n",
       "      <td>B08L41V6D8</td>\n",
       "      <td>10.363391</td>\n",
       "      <td>0.005004</td>\n",
       "      <td>9.800323</td>\n",
       "      <td>0.005655</td>\n",
       "    </tr>\n",
       "  </tbody>\n",
       "</table>\n",
       "</div>"
      ],
      "text/plain": [
       "        sess_id sess_locale     product  sasrec_scores_2  \\\n",
       "431175     2000          JP  B086X9CBRD        14.987995   \n",
       "431234     2000          JP  B09SKY29S2        13.341005   \n",
       "431216     2000          JP  B09DFKPTJY        12.606855   \n",
       "431099     2000          JP  B01B74BTAM        12.199039   \n",
       "431114     2000          JP  B01JKHIEYM        12.713286   \n",
       "431202     2000          JP  B08Y655N98        12.260298   \n",
       "431145     2000          JP  B07FDQBL6Y        12.004602   \n",
       "431200     2000          JP  B08Y5T9VKZ        12.010115   \n",
       "431233     2000          JP  B09SKWKHWX        11.115759   \n",
       "431101     2000          JP  B01BSTS43G        11.370605   \n",
       "431055     2000          JP  B000QVYJUK        10.928013   \n",
       "431160     2000          JP  B07Z4YVRCW        11.215329   \n",
       "431102     2000          JP  B01BSTS48G        10.587543   \n",
       "431129     2000          JP  B071SLZH2N        10.678562   \n",
       "431217     2000          JP  B09DJVJN5P        10.361154   \n",
       "431243     2000          JP  B0B1BQ2Z2M        10.420588   \n",
       "431067     2000          JP  B003E37US0        10.209156   \n",
       "431227     2000          JP  B09QFRXWQ2        10.334383   \n",
       "431128     2000          JP  B0719X7XBR        10.245605   \n",
       "431191     2000          JP  B08L41V6D8        10.363391   \n",
       "\n",
       "        normalized_sasrec_scores_2  sasrec_scores_3  \\\n",
       "431175                    0.510252        14.290791   \n",
       "431234                    0.098289        12.808008   \n",
       "431216                    0.047170        11.978699   \n",
       "431099                    0.031373        11.649967   \n",
       "431114                    0.052468        11.453544   \n",
       "431202                    0.033355        11.242960   \n",
       "431145                    0.025829        11.218767   \n",
       "431200                    0.025972        10.825808   \n",
       "431233                    0.010619        10.706393   \n",
       "431101                    0.013702        10.639573   \n",
       "431055                    0.008802        10.611936   \n",
       "431160                    0.011731        10.406797   \n",
       "431102                    0.006262        10.376348   \n",
       "431129                    0.006858        10.298676   \n",
       "431217                    0.004993        10.248901   \n",
       "431243                    0.005299         9.970964   \n",
       "431067                    0.004289         9.934607   \n",
       "431227                    0.004861         9.929650   \n",
       "431128                    0.004448         9.823494   \n",
       "431191                    0.005004         9.800323   \n",
       "\n",
       "        normalized_sasrec_scores_3  \n",
       "431175                    0.504257  \n",
       "431234                    0.114469  \n",
       "431216                    0.049949  \n",
       "431099                    0.035955  \n",
       "431114                    0.029543  \n",
       "431202                    0.023933  \n",
       "431145                    0.023361  \n",
       "431200                    0.015770  \n",
       "431233                    0.013995  \n",
       "431101                    0.013090  \n",
       "431055                    0.012733  \n",
       "431160                    0.010372  \n",
       "431102                    0.010061  \n",
       "431129                    0.009309  \n",
       "431217                    0.008857  \n",
       "431243                    0.006708  \n",
       "431067                    0.006468  \n",
       "431227                    0.006436  \n",
       "431128                    0.005788  \n",
       "431191                    0.005655  "
      ]
     },
     "execution_count": 28,
     "metadata": {},
     "output_type": "execute_result"
    }
   ],
   "source": [
    "# verify sasrec scores\n",
    "merged_candidates[merged_candidates['sess_id'] == 2000].sort_values(by=['sasrec_scores_3'], ascending=False)[['sess_id', 'sess_locale', 'product', 'sasrec_scores_2', 'normalized_sasrec_scores_2', 'sasrec_scores_3', 'normalized_sasrec_scores_3']].iloc[:20]"
   ]
  },
  {
   "cell_type": "code",
   "execution_count": 29,
   "metadata": {
    "execution": {
     "iopub.execute_input": "2023-05-23T05:35:41.666901Z",
     "iopub.status.busy": "2023-05-23T05:35:41.666340Z",
     "iopub.status.idle": "2023-05-23T05:35:41.699255Z",
     "shell.execute_reply": "2023-05-23T05:35:41.698075Z"
    }
   },
   "outputs": [
    {
     "data": {
      "text/html": [
       "<div>\n",
       "<style scoped>\n",
       "    .dataframe tbody tr th:only-of-type {\n",
       "        vertical-align: middle;\n",
       "    }\n",
       "\n",
       "    .dataframe tbody tr th {\n",
       "        vertical-align: top;\n",
       "    }\n",
       "\n",
       "    .dataframe thead th {\n",
       "        text-align: right;\n",
       "    }\n",
       "</style>\n",
       "<table border=\"1\" class=\"dataframe\">\n",
       "  <thead>\n",
       "    <tr style=\"text-align: right;\">\n",
       "      <th></th>\n",
       "      <th>sess_id</th>\n",
       "      <th>sess_locale</th>\n",
       "      <th>product</th>\n",
       "      <th>target</th>\n",
       "      <th>sess_avg_price</th>\n",
       "      <th>product_price</th>\n",
       "      <th>product_freq</th>\n",
       "      <th>sasrec_scores_2</th>\n",
       "      <th>normalized_sasrec_scores_2</th>\n",
       "      <th>sasrec_scores_3</th>\n",
       "      <th>normalized_sasrec_scores_3</th>\n",
       "    </tr>\n",
       "  </thead>\n",
       "  <tbody>\n",
       "    <tr>\n",
       "      <th>0</th>\n",
       "      <td>0</td>\n",
       "      <td>UK</td>\n",
       "      <td>B000V599Y2</td>\n",
       "      <td>0.0</td>\n",
       "      <td>7.388571</td>\n",
       "      <td>5.200000</td>\n",
       "      <td>37.0</td>\n",
       "      <td>13.152878</td>\n",
       "      <td>7.433639e-04</td>\n",
       "      <td>10.677187</td>\n",
       "      <td>2.019072e-04</td>\n",
       "    </tr>\n",
       "    <tr>\n",
       "      <th>1</th>\n",
       "      <td>0</td>\n",
       "      <td>UK</td>\n",
       "      <td>B007VZUA7U</td>\n",
       "      <td>0.0</td>\n",
       "      <td>7.388571</td>\n",
       "      <td>7.000000</td>\n",
       "      <td>36.0</td>\n",
       "      <td>9.393598</td>\n",
       "      <td>1.732076e-05</td>\n",
       "      <td>8.838863</td>\n",
       "      <td>3.212018e-05</td>\n",
       "    </tr>\n",
       "    <tr>\n",
       "      <th>2</th>\n",
       "      <td>0</td>\n",
       "      <td>UK</td>\n",
       "      <td>B009EUAEQC</td>\n",
       "      <td>0.0</td>\n",
       "      <td>7.388571</td>\n",
       "      <td>7.490000</td>\n",
       "      <td>4.0</td>\n",
       "      <td>11.754339</td>\n",
       "      <td>1.835794e-04</td>\n",
       "      <td>10.670128</td>\n",
       "      <td>2.004869e-04</td>\n",
       "    </tr>\n",
       "    <tr>\n",
       "      <th>3</th>\n",
       "      <td>0</td>\n",
       "      <td>UK</td>\n",
       "      <td>B00AH02IWG</td>\n",
       "      <td>0.0</td>\n",
       "      <td>7.388571</td>\n",
       "      <td>8.500000</td>\n",
       "      <td>3.0</td>\n",
       "      <td>12.194766</td>\n",
       "      <td>2.851667e-04</td>\n",
       "      <td>11.166204</td>\n",
       "      <td>3.292527e-04</td>\n",
       "    </tr>\n",
       "    <tr>\n",
       "      <th>4</th>\n",
       "      <td>0</td>\n",
       "      <td>UK</td>\n",
       "      <td>B00I0UKKD4</td>\n",
       "      <td>0.0</td>\n",
       "      <td>7.388571</td>\n",
       "      <td>17.049999</td>\n",
       "      <td>118.0</td>\n",
       "      <td>11.835367</td>\n",
       "      <td>1.990737e-04</td>\n",
       "      <td>11.681271</td>\n",
       "      <td>5.510865e-04</td>\n",
       "    </tr>\n",
       "    <tr>\n",
       "      <th>...</th>\n",
       "      <td>...</td>\n",
       "      <td>...</td>\n",
       "      <td>...</td>\n",
       "      <td>...</td>\n",
       "      <td>...</td>\n",
       "      <td>...</td>\n",
       "      <td>...</td>\n",
       "      <td>...</td>\n",
       "      <td>...</td>\n",
       "      <td>...</td>\n",
       "      <td>...</td>\n",
       "    </tr>\n",
       "    <tr>\n",
       "      <th>77570148</th>\n",
       "      <td>361580</td>\n",
       "      <td>DE</td>\n",
       "      <td>B0BB7XV97M</td>\n",
       "      <td>0.0</td>\n",
       "      <td>32.424000</td>\n",
       "      <td>47.990002</td>\n",
       "      <td>56.0</td>\n",
       "      <td>9.117821</td>\n",
       "      <td>6.076918e-05</td>\n",
       "      <td>9.635838</td>\n",
       "      <td>3.403846e-05</td>\n",
       "    </tr>\n",
       "    <tr>\n",
       "      <th>77570149</th>\n",
       "      <td>361580</td>\n",
       "      <td>DE</td>\n",
       "      <td>B0BB7YSRBX</td>\n",
       "      <td>0.0</td>\n",
       "      <td>32.424000</td>\n",
       "      <td>43.990002</td>\n",
       "      <td>58.0</td>\n",
       "      <td>9.163816</td>\n",
       "      <td>6.362959e-05</td>\n",
       "      <td>9.159988</td>\n",
       "      <td>2.115004e-05</td>\n",
       "    </tr>\n",
       "    <tr>\n",
       "      <th>77570150</th>\n",
       "      <td>361580</td>\n",
       "      <td>DE</td>\n",
       "      <td>B0BB7ZMGY8</td>\n",
       "      <td>0.0</td>\n",
       "      <td>32.424000</td>\n",
       "      <td>41.990002</td>\n",
       "      <td>452.0</td>\n",
       "      <td>11.256460</td>\n",
       "      <td>5.158017e-04</td>\n",
       "      <td>10.119755</td>\n",
       "      <td>5.522459e-05</td>\n",
       "    </tr>\n",
       "    <tr>\n",
       "      <th>77570151</th>\n",
       "      <td>361580</td>\n",
       "      <td>DE</td>\n",
       "      <td>B0BD4CP7N3</td>\n",
       "      <td>0.0</td>\n",
       "      <td>32.424000</td>\n",
       "      <td>24.990000</td>\n",
       "      <td>1.0</td>\n",
       "      <td>-3.778687</td>\n",
       "      <td>1.523355e-10</td>\n",
       "      <td>-1.612869</td>\n",
       "      <td>4.433215e-10</td>\n",
       "    </tr>\n",
       "    <tr>\n",
       "      <th>77570152</th>\n",
       "      <td>361580</td>\n",
       "      <td>DE</td>\n",
       "      <td>B0BL17QFL2</td>\n",
       "      <td>0.0</td>\n",
       "      <td>32.424000</td>\n",
       "      <td>67.989998</td>\n",
       "      <td>6.0</td>\n",
       "      <td>2.492291</td>\n",
       "      <td>8.058466e-08</td>\n",
       "      <td>4.621465</td>\n",
       "      <td>2.260765e-07</td>\n",
       "    </tr>\n",
       "  </tbody>\n",
       "</table>\n",
       "<p>77570153 rows × 11 columns</p>\n",
       "</div>"
      ],
      "text/plain": [
       "          sess_id sess_locale     product  target  sess_avg_price  \\\n",
       "0               0          UK  B000V599Y2     0.0        7.388571   \n",
       "1               0          UK  B007VZUA7U     0.0        7.388571   \n",
       "2               0          UK  B009EUAEQC     0.0        7.388571   \n",
       "3               0          UK  B00AH02IWG     0.0        7.388571   \n",
       "4               0          UK  B00I0UKKD4     0.0        7.388571   \n",
       "...           ...         ...         ...     ...             ...   \n",
       "77570148   361580          DE  B0BB7XV97M     0.0       32.424000   \n",
       "77570149   361580          DE  B0BB7YSRBX     0.0       32.424000   \n",
       "77570150   361580          DE  B0BB7ZMGY8     0.0       32.424000   \n",
       "77570151   361580          DE  B0BD4CP7N3     0.0       32.424000   \n",
       "77570152   361580          DE  B0BL17QFL2     0.0       32.424000   \n",
       "\n",
       "          product_price  product_freq  sasrec_scores_2  \\\n",
       "0              5.200000          37.0        13.152878   \n",
       "1              7.000000          36.0         9.393598   \n",
       "2              7.490000           4.0        11.754339   \n",
       "3              8.500000           3.0        12.194766   \n",
       "4             17.049999         118.0        11.835367   \n",
       "...                 ...           ...              ...   \n",
       "77570148      47.990002          56.0         9.117821   \n",
       "77570149      43.990002          58.0         9.163816   \n",
       "77570150      41.990002         452.0        11.256460   \n",
       "77570151      24.990000           1.0        -3.778687   \n",
       "77570152      67.989998           6.0         2.492291   \n",
       "\n",
       "          normalized_sasrec_scores_2  sasrec_scores_3  \\\n",
       "0                       7.433639e-04        10.677187   \n",
       "1                       1.732076e-05         8.838863   \n",
       "2                       1.835794e-04        10.670128   \n",
       "3                       2.851667e-04        11.166204   \n",
       "4                       1.990737e-04        11.681271   \n",
       "...                              ...              ...   \n",
       "77570148                6.076918e-05         9.635838   \n",
       "77570149                6.362959e-05         9.159988   \n",
       "77570150                5.158017e-04        10.119755   \n",
       "77570151                1.523355e-10        -1.612869   \n",
       "77570152                8.058466e-08         4.621465   \n",
       "\n",
       "          normalized_sasrec_scores_3  \n",
       "0                       2.019072e-04  \n",
       "1                       3.212018e-05  \n",
       "2                       2.004869e-04  \n",
       "3                       3.292527e-04  \n",
       "4                       5.510865e-04  \n",
       "...                              ...  \n",
       "77570148                3.403846e-05  \n",
       "77570149                2.115004e-05  \n",
       "77570150                5.522459e-05  \n",
       "77570151                4.433215e-10  \n",
       "77570152                2.260765e-07  \n",
       "\n",
       "[77570153 rows x 11 columns]"
      ]
     },
     "execution_count": 29,
     "metadata": {},
     "output_type": "execute_result"
    }
   ],
   "source": [
    "merged_candidates"
   ]
  },
  {
   "attachments": {},
   "cell_type": "markdown",
   "metadata": {},
   "source": [
    "# Merge test score"
   ]
  },
  {
   "cell_type": "code",
   "execution_count": 30,
   "metadata": {
    "execution": {
     "iopub.execute_input": "2023-05-23T05:35:41.704506Z",
     "iopub.status.busy": "2023-05-23T05:35:41.702964Z",
     "iopub.status.idle": "2023-05-23T05:35:41.709121Z",
     "shell.execute_reply": "2023-05-23T05:35:41.707697Z"
    }
   },
   "outputs": [],
   "source": [
    "FIELD_NAME = 'sasrec_scores_3'"
   ]
  },
  {
   "cell_type": "code",
   "execution_count": 31,
   "metadata": {
    "execution": {
     "iopub.execute_input": "2023-05-23T05:35:41.712890Z",
     "iopub.status.busy": "2023-05-23T05:35:41.712398Z",
     "iopub.status.idle": "2023-05-23T05:35:41.717465Z",
     "shell.execute_reply": "2023-05-23T05:35:41.716433Z"
    }
   },
   "outputs": [],
   "source": [
    "merged_candidates_feature_test_path = '/root/autodl-tmp/xiaolong/WorkSpace/Amazon-KDDCUP-23/XGBoost/candidates/merged_candidates_test_2_feature.parquet'\n",
    "test_sessions_path = '/root/autodl-tmp/xiaolong/WorkSpace/Amazon-KDDCUP-23/raw_data/sessions_test_task1.csv'"
   ]
  },
  {
   "cell_type": "code",
   "execution_count": 32,
   "metadata": {
    "execution": {
     "iopub.execute_input": "2023-05-23T05:35:41.741733Z",
     "iopub.status.busy": "2023-05-23T05:35:41.741072Z",
     "iopub.status.idle": "2023-05-23T05:35:41.747416Z",
     "shell.execute_reply": "2023-05-23T05:35:41.746388Z"
    }
   },
   "outputs": [],
   "source": [
    "DE_product_embeddings_path = '/root/autodl-tmp/xiaolong/WorkSpace/Amazon-KDDCUP-23/candidates/query_embeddings/SASRec_Next/kdd_cup_2023_DE/product_embeddings_2023-05-11-21-16-31.pt'\n",
    "DE_test_embeddings_path = '/root/autodl-tmp/xiaolong/WorkSpace/Amazon-KDDCUP-23/candidates/query_embeddings/SASRec_Next/kdd_cup_2023_DE/predict_embeddings_2023-05-11-21-17-08.pt'\n",
    "JP_product_embeddings_path = '/root/autodl-tmp/xiaolong/WorkSpace/Amazon-KDDCUP-23/candidates/query_embeddings/SASRec_Next/kdd_cup_2023_JP/product_embeddings_2023-05-11-21-17-24.pt'\n",
    "JP_test_embeddings_path = '/root/autodl-tmp/xiaolong/WorkSpace/Amazon-KDDCUP-23/candidates/query_embeddings/SASRec_Next/kdd_cup_2023_JP/predict_embeddings_2023-05-11-21-17-59.pt'\n",
    "UK_product_embeddings_path = '/root/autodl-tmp/xiaolong/WorkSpace/Amazon-KDDCUP-23/candidates/query_embeddings/SASRec_Next/kdd_cup_2023_UK/product_embeddings_2023-05-11-21-18-13.pt'\n",
    "UK_test_embeddings_path = '/root/autodl-tmp/xiaolong/WorkSpace/Amazon-KDDCUP-23/candidates/query_embeddings/SASRec_Next/kdd_cup_2023_UK/predict_embeddings_2023-05-11-21-18-45.pt'"
   ]
  },
  {
   "cell_type": "code",
   "execution_count": 33,
   "metadata": {
    "execution": {
     "iopub.execute_input": "2023-05-23T05:35:41.752418Z",
     "iopub.status.busy": "2023-05-23T05:35:41.751075Z",
     "iopub.status.idle": "2023-05-23T05:35:41.760345Z",
     "shell.execute_reply": "2023-05-23T05:35:41.759236Z"
    }
   },
   "outputs": [],
   "source": [
    "@lru_cache(maxsize=1)\n",
    "def read_merged_candidates_feature_test():\n",
    "    return pd.read_parquet(merged_candidates_feature_test_path, engine='pyarrow')\n",
    "\n",
    "@lru_cache(maxsize=1)\n",
    "def read_test_sessions():\n",
    "    return pd.read_csv(test_sessions_path)"
   ]
  },
  {
   "cell_type": "code",
   "execution_count": 34,
   "metadata": {
    "execution": {
     "iopub.execute_input": "2023-05-23T05:35:41.763900Z",
     "iopub.status.busy": "2023-05-23T05:35:41.763374Z",
     "iopub.status.idle": "2023-05-23T05:37:50.441272Z",
     "shell.execute_reply": "2023-05-23T05:37:50.439794Z"
    }
   },
   "outputs": [],
   "source": [
    "merged_candidates = read_merged_candidates_feature_test()\n",
    "test_sessions = read_test_sessions()\n",
    "EMBED_DIM = 128\n",
    "merged_candidates.sort_values(by=['sess_id', 'product'], inplace=True)\n",
    "merged_candidates.reset_index(drop=True, inplace=True)"
   ]
  },
  {
   "cell_type": "code",
   "execution_count": 35,
   "metadata": {
    "execution": {
     "iopub.execute_input": "2023-05-23T05:37:50.446829Z",
     "iopub.status.busy": "2023-05-23T05:37:50.446511Z",
     "iopub.status.idle": "2023-05-23T05:37:54.751591Z",
     "shell.execute_reply": "2023-05-23T05:37:54.750224Z"
    }
   },
   "outputs": [],
   "source": [
    "# sess embeddings \n",
    "test_DE_query_emb = torch.load(DE_test_embeddings_path, map_location='cpu')\n",
    "test_JP_query_emb = torch.load(JP_test_embeddings_path, map_location='cpu')\n",
    "test_UK_query_emb = torch.load(UK_test_embeddings_path, map_location='cpu')\n",
    "test_query_embeddings = torch.cat(\n",
    "    [test_DE_query_emb[test_sessions['locale'] == 'DE'], test_JP_query_emb[test_sessions['locale'] == 'JP'], test_UK_query_emb[test_sessions['locale'] == 'UK']],\n",
    "    dim=0)"
   ]
  },
  {
   "cell_type": "code",
   "execution_count": 36,
   "metadata": {
    "execution": {
     "iopub.execute_input": "2023-05-23T05:37:54.757064Z",
     "iopub.status.busy": "2023-05-23T05:37:54.756699Z",
     "iopub.status.idle": "2023-05-23T05:37:54.764267Z",
     "shell.execute_reply": "2023-05-23T05:37:54.763091Z"
    }
   },
   "outputs": [
    {
     "data": {
      "text/plain": [
       "torch.Size([316971, 128])"
      ]
     },
     "execution_count": 36,
     "metadata": {},
     "output_type": "execute_result"
    }
   ],
   "source": [
    "test_query_embeddings.shape"
   ]
  },
  {
   "cell_type": "code",
   "execution_count": 37,
   "metadata": {
    "execution": {
     "iopub.execute_input": "2023-05-23T05:37:54.767981Z",
     "iopub.status.busy": "2023-05-23T05:37:54.767670Z",
     "iopub.status.idle": "2023-05-23T05:37:55.668958Z",
     "shell.execute_reply": "2023-05-23T05:37:55.667695Z"
    }
   },
   "outputs": [],
   "source": [
    "# product embeddings \n",
    "DE_product_emb = torch.load(DE_product_embeddings_path, map_location='cpu')\n",
    "JP_product_emb = torch.load(JP_product_embeddings_path, map_location='cpu')\n",
    "UK_product_emb = torch.load(UK_product_embeddings_path, map_location='cpu')\n",
    "product_embeddings = torch.cat([DE_product_emb, JP_product_emb, UK_product_emb], dim=0)"
   ]
  },
  {
   "cell_type": "code",
   "execution_count": 38,
   "metadata": {
    "execution": {
     "iopub.execute_input": "2023-05-23T05:37:55.672480Z",
     "iopub.status.busy": "2023-05-23T05:37:55.671917Z",
     "iopub.status.idle": "2023-05-23T05:38:18.600339Z",
     "shell.execute_reply": "2023-05-23T05:38:18.598941Z"
    }
   },
   "outputs": [],
   "source": [
    "DE_dataset_cache = '/root/autodl-tmp/xiaolong/WorkSpace/Amazon-KDDCUP-23/.recstudio/cache/c76eddf0a07106ffcce7ce8010856a3b'\n",
    "JP_dataset_cache = '/root/autodl-tmp/xiaolong/WorkSpace/Amazon-KDDCUP-23/.recstudio/cache/81a71d0a18766af84b3beab69bf53e69'\n",
    "UK_dataset_cache = '/root/autodl-tmp/xiaolong/WorkSpace/Amazon-KDDCUP-23/.recstudio/cache/250dbc09c30162452e00486051e47756'\n",
    "DE_train_dataset, DE_valid_dataset = _load_cache(DE_dataset_cache)\n",
    "JP_train_dataset, JP_valid_dataset = _load_cache(JP_dataset_cache)\n",
    "UK_train_dataset, UK_valid_dataset = _load_cache(UK_dataset_cache)\n",
    "locale_map = {\n",
    "    'DE' : DE_train_dataset.field2token2idx['product_id'], \n",
    "    'JP' : JP_train_dataset.field2token2idx['product_id'], \n",
    "    'UK' : UK_train_dataset.field2token2idx['product_id']\n",
    "    }"
   ]
  },
  {
   "cell_type": "code",
   "execution_count": 39,
   "metadata": {
    "execution": {
     "iopub.execute_input": "2023-05-23T05:38:18.604423Z",
     "iopub.status.busy": "2023-05-23T05:38:18.603982Z",
     "iopub.status.idle": "2023-05-23T05:38:21.704683Z",
     "shell.execute_reply": "2023-05-23T05:38:21.703498Z"
    }
   },
   "outputs": [],
   "source": [
    "DE_product_list, DE_id_list = list(zip(*locale_map['DE'].items()))\n",
    "JP_product_list, JP_id_list = list(zip(*locale_map['JP'].items()))\n",
    "UK_product_list, UK_id_list = list(zip(*locale_map['UK'].items()))\n",
    "product_list = list(DE_product_list) + list(JP_product_list) + list(UK_product_list)\n",
    "id_list = list(DE_id_list) + list(JP_id_list) + list(UK_id_list)\n",
    "locale_list = ['DE'] * len(DE_id_list) + ['JP'] * len(JP_id_list) + ['UK'] * len(UK_id_list)\n",
    "product_id_df = pd.DataFrame({'locale' : locale_list, 'product' : product_list, 'dataset_id' : id_list})"
   ]
  },
  {
   "cell_type": "code",
   "execution_count": 40,
   "metadata": {
    "execution": {
     "iopub.execute_input": "2023-05-23T05:38:21.707763Z",
     "iopub.status.busy": "2023-05-23T05:38:21.707473Z",
     "iopub.status.idle": "2023-05-23T05:38:31.675340Z",
     "shell.execute_reply": "2023-05-23T05:38:31.674350Z"
    }
   },
   "outputs": [],
   "source": [
    "merged_candidates_sasrec = merged_candidates[['sess_id', 'sess_locale', 'product']].copy()"
   ]
  },
  {
   "cell_type": "code",
   "execution_count": 41,
   "metadata": {
    "execution": {
     "iopub.execute_input": "2023-05-23T05:38:31.681435Z",
     "iopub.status.busy": "2023-05-23T05:38:31.681012Z",
     "iopub.status.idle": "2023-05-23T05:38:31.684845Z",
     "shell.execute_reply": "2023-05-23T05:38:31.683971Z"
    }
   },
   "outputs": [],
   "source": [
    "# merged_candidates_sasrec_g = cudf.from_pandas(merged_candidates_sasrec)\n",
    "# product_id_df_g = cudf.from_pandas(product_id_df)"
   ]
  },
  {
   "cell_type": "code",
   "execution_count": 42,
   "metadata": {
    "execution": {
     "iopub.execute_input": "2023-05-23T05:38:31.690615Z",
     "iopub.status.busy": "2023-05-23T05:38:31.690322Z",
     "iopub.status.idle": "2023-05-23T05:38:31.694095Z",
     "shell.execute_reply": "2023-05-23T05:38:31.693401Z"
    }
   },
   "outputs": [],
   "source": [
    "# merged_candidates_sasrec_score_g = merged_candidates_sasrec_g.merge(product_id_df_g, how='left', left_on=['sess_locale', 'product'], right_on=['locale', 'product'])\n",
    "# merged_candidates_sasrec_score_g['dataset_id'] = merged_candidates_sasrec_score_g['dataset_id'].fillna(0)\n",
    "# merged_candidates_sasrec_score_g.drop(columns=['locale'], inplace=True)\n",
    "# merged_candidates_sasrec_score_g = merged_candidates_sasrec_score_g.sort_values(by=['sess_id', 'product'])\n",
    "# merged_candidates_sasrec_score_g.reset_index(drop=True, inplace=True)\n",
    "# merged_candidates_sasrec_score = merged_candidates_sasrec_score_g.to_pandas()"
   ]
  },
  {
   "cell_type": "code",
   "execution_count": 43,
   "metadata": {
    "execution": {
     "iopub.execute_input": "2023-05-23T05:38:31.700601Z",
     "iopub.status.busy": "2023-05-23T05:38:31.699349Z",
     "iopub.status.idle": "2023-05-23T05:41:04.279715Z",
     "shell.execute_reply": "2023-05-23T05:41:04.278161Z"
    }
   },
   "outputs": [],
   "source": [
    "merged_candidates_sasrec_score = merged_candidates_sasrec.merge(product_id_df, how='left', left_on=['sess_locale', 'product'], right_on=['locale', 'product'])\n",
    "merged_candidates_sasrec_score['dataset_id'] = merged_candidates_sasrec_score['dataset_id'].fillna(0)\n",
    "merged_candidates_sasrec_score.drop(columns=['locale'], inplace=True)\n",
    "merged_candidates_sasrec_score = merged_candidates_sasrec_score.sort_values(by=['sess_id', 'product'])\n",
    "merged_candidates_sasrec_score.reset_index(drop=True, inplace=True)"
   ]
  },
  {
   "cell_type": "code",
   "execution_count": 44,
   "metadata": {
    "execution": {
     "iopub.execute_input": "2023-05-23T05:41:04.287746Z",
     "iopub.status.busy": "2023-05-23T05:41:04.286654Z",
     "iopub.status.idle": "2023-05-23T05:41:04.290916Z",
     "shell.execute_reply": "2023-05-23T05:41:04.290159Z"
    }
   },
   "outputs": [],
   "source": [
    "# del merged_candidates_sasrec_score_g\n",
    "# del product_id_df_g\n",
    "# del merged_candidates_sasrec_g"
   ]
  },
  {
   "cell_type": "code",
   "execution_count": 45,
   "metadata": {
    "execution": {
     "iopub.execute_input": "2023-05-23T05:41:04.293956Z",
     "iopub.status.busy": "2023-05-23T05:41:04.293335Z",
     "iopub.status.idle": "2023-05-23T05:41:51.670772Z",
     "shell.execute_reply": "2023-05-23T05:41:51.669530Z"
    }
   },
   "outputs": [
    {
     "name": "stderr",
     "output_type": "stream",
     "text": [
      "/tmp/ipykernel_468657/2146751149.py:3: SettingWithCopyWarning: \n",
      "A value is trying to be set on a copy of a slice from a DataFrame\n",
      "\n",
      "See the caveats in the documentation: https://pandas.pydata.org/pandas-docs/stable/user_guide/indexing.html#returning-a-view-versus-a-copy\n",
      "  merged_candidates_sasrec_score['dataset_id'][merged_candidates_sasrec_score['sess_locale'] == locale] = \\\n"
     ]
    }
   ],
   "source": [
    "locale_offset = {'DE' : 0, 'JP' : len(DE_product_list), 'UK' : len(DE_product_list) + len(JP_product_list)}\n",
    "for locale in ['DE', 'JP', 'UK']:\n",
    "    merged_candidates_sasrec_score['dataset_id'][merged_candidates_sasrec_score['sess_locale'] == locale] = \\\n",
    "        merged_candidates_sasrec_score['dataset_id'][merged_candidates_sasrec_score['sess_locale'] == locale] + locale_offset[locale]"
   ]
  },
  {
   "cell_type": "code",
   "execution_count": 46,
   "metadata": {
    "execution": {
     "iopub.execute_input": "2023-05-23T05:41:51.680786Z",
     "iopub.status.busy": "2023-05-23T05:41:51.680415Z",
     "iopub.status.idle": "2023-05-23T05:45:01.209917Z",
     "shell.execute_reply": "2023-05-23T05:45:01.205935Z"
    }
   },
   "outputs": [
    {
     "name": "stderr",
     "output_type": "stream",
     "text": [
      "  0%|                                              | 0/32441 [00:00<?, ?it/s]/tmp/ipykernel_468657/150055658.py:10: DeprecationWarning: an integer is required (got type float).  Implicit conversion to integers using __int__ is deprecated, and may be removed in a future version of Python.\n",
      "  batch_product_id = torch.tensor(batch_sess['dataset_id'].tolist(), dtype=torch.long, device=product_embeddings.device)\n",
      "100%|█████████████████████████████████| 32441/32441 [02:53<00:00, 187.05it/s]\n"
     ]
    }
   ],
   "source": [
    "merged_candidates_sasrec_score[FIELD_NAME] = get_scores(merged_candidates_sasrec_score, test_query_embeddings, product_embeddings)"
   ]
  },
  {
   "cell_type": "code",
   "execution_count": 47,
   "metadata": {
    "execution": {
     "iopub.execute_input": "2023-05-23T05:45:01.222940Z",
     "iopub.status.busy": "2023-05-23T05:45:01.222586Z",
     "iopub.status.idle": "2023-05-23T05:47:01.047089Z",
     "shell.execute_reply": "2023-05-23T05:47:01.045420Z"
    }
   },
   "outputs": [],
   "source": [
    "normalize_scores(merged_candidates_sasrec_score, FIELD_NAME, 'normalized_'+FIELD_NAME)"
   ]
  },
  {
   "cell_type": "code",
   "execution_count": 48,
   "metadata": {
    "execution": {
     "iopub.execute_input": "2023-05-23T05:47:01.055998Z",
     "iopub.status.busy": "2023-05-23T05:47:01.055471Z",
     "iopub.status.idle": "2023-05-23T05:47:02.101885Z",
     "shell.execute_reply": "2023-05-23T05:47:02.100996Z"
    }
   },
   "outputs": [],
   "source": [
    "merged_candidates[FIELD_NAME] = merged_candidates_sasrec_score[FIELD_NAME]\n",
    "merged_candidates['normalized_'+FIELD_NAME] = merged_candidates_sasrec_score['normalized_'+FIELD_NAME]"
   ]
  },
  {
   "cell_type": "code",
   "execution_count": 49,
   "metadata": {
    "execution": {
     "iopub.execute_input": "2023-05-23T05:47:02.105362Z",
     "iopub.status.busy": "2023-05-23T05:47:02.105083Z",
     "iopub.status.idle": "2023-05-23T05:47:36.533091Z",
     "shell.execute_reply": "2023-05-23T05:47:36.531488Z"
    }
   },
   "outputs": [],
   "source": [
    "cast_dtype(merged_candidates)\n",
    "merged_candidates.to_parquet(merged_candidates_feature_test_path, engine='pyarrow')"
   ]
  },
  {
   "cell_type": "code",
   "execution_count": 50,
   "metadata": {
    "execution": {
     "iopub.execute_input": "2023-05-23T05:47:36.538301Z",
     "iopub.status.busy": "2023-05-23T05:47:36.537430Z",
     "iopub.status.idle": "2023-05-23T05:47:40.262997Z",
     "shell.execute_reply": "2023-05-23T05:47:40.262120Z"
    }
   },
   "outputs": [
    {
     "data": {
      "text/html": [
       "<div>\n",
       "<style scoped>\n",
       "    .dataframe tbody tr th:only-of-type {\n",
       "        vertical-align: middle;\n",
       "    }\n",
       "\n",
       "    .dataframe tbody tr th {\n",
       "        vertical-align: top;\n",
       "    }\n",
       "\n",
       "    .dataframe thead th {\n",
       "        text-align: right;\n",
       "    }\n",
       "</style>\n",
       "<table border=\"1\" class=\"dataframe\">\n",
       "  <thead>\n",
       "    <tr style=\"text-align: right;\">\n",
       "      <th></th>\n",
       "      <th>sess_locale</th>\n",
       "      <th>product</th>\n",
       "      <th>normalized_sasrec_scores_3</th>\n",
       "      <th>sasrec_scores_3</th>\n",
       "      <th>normalized_sasrec_scores_2</th>\n",
       "      <th>sasrec_scores_2</th>\n",
       "    </tr>\n",
       "  </thead>\n",
       "  <tbody>\n",
       "    <tr>\n",
       "      <th>26955086</th>\n",
       "      <td>JP</td>\n",
       "      <td>B098WGMWNP</td>\n",
       "      <td>0.552800</td>\n",
       "      <td>21.521570</td>\n",
       "      <td>0.342903</td>\n",
       "      <td>23.371174</td>\n",
       "    </tr>\n",
       "    <tr>\n",
       "      <th>26955088</th>\n",
       "      <td>JP</td>\n",
       "      <td>B098WP5TC8</td>\n",
       "      <td>0.381307</td>\n",
       "      <td>21.150179</td>\n",
       "      <td>0.609430</td>\n",
       "      <td>23.946251</td>\n",
       "    </tr>\n",
       "    <tr>\n",
       "      <th>26955087</th>\n",
       "      <td>JP</td>\n",
       "      <td>B098WLVTFC</td>\n",
       "      <td>0.051011</td>\n",
       "      <td>19.138615</td>\n",
       "      <td>0.041077</td>\n",
       "      <td>21.249163</td>\n",
       "    </tr>\n",
       "    <tr>\n",
       "      <th>26955089</th>\n",
       "      <td>JP</td>\n",
       "      <td>B098X329LP</td>\n",
       "      <td>0.011358</td>\n",
       "      <td>17.636488</td>\n",
       "      <td>0.006074</td>\n",
       "      <td>19.337807</td>\n",
       "    </tr>\n",
       "    <tr>\n",
       "      <th>26955104</th>\n",
       "      <td>JP</td>\n",
       "      <td>B09KZ1ZV66</td>\n",
       "      <td>0.000548</td>\n",
       "      <td>14.605345</td>\n",
       "      <td>0.000027</td>\n",
       "      <td>13.934914</td>\n",
       "    </tr>\n",
       "    <tr>\n",
       "      <th>26954975</th>\n",
       "      <td>JP</td>\n",
       "      <td>B00OLHELIA</td>\n",
       "      <td>0.000396</td>\n",
       "      <td>14.279746</td>\n",
       "      <td>0.000004</td>\n",
       "      <td>11.932653</td>\n",
       "    </tr>\n",
       "    <tr>\n",
       "      <th>26955050</th>\n",
       "      <td>JP</td>\n",
       "      <td>B08CN8C1RM</td>\n",
       "      <td>0.000203</td>\n",
       "      <td>13.612795</td>\n",
       "      <td>0.000034</td>\n",
       "      <td>14.156077</td>\n",
       "    </tr>\n",
       "    <tr>\n",
       "      <th>26954971</th>\n",
       "      <td>JP</td>\n",
       "      <td>B00IMQINN0</td>\n",
       "      <td>0.000200</td>\n",
       "      <td>13.595983</td>\n",
       "      <td>0.000011</td>\n",
       "      <td>13.060494</td>\n",
       "    </tr>\n",
       "    <tr>\n",
       "      <th>26955022</th>\n",
       "      <td>JP</td>\n",
       "      <td>B07ZSHHK1K</td>\n",
       "      <td>0.000193</td>\n",
       "      <td>13.560355</td>\n",
       "      <td>0.000008</td>\n",
       "      <td>12.685432</td>\n",
       "    </tr>\n",
       "    <tr>\n",
       "      <th>26954991</th>\n",
       "      <td>JP</td>\n",
       "      <td>B079T2QCFZ</td>\n",
       "      <td>0.000114</td>\n",
       "      <td>13.037858</td>\n",
       "      <td>0.000185</td>\n",
       "      <td>15.845692</td>\n",
       "    </tr>\n",
       "    <tr>\n",
       "      <th>26955051</th>\n",
       "      <td>JP</td>\n",
       "      <td>B08CN9VJLX</td>\n",
       "      <td>0.000099</td>\n",
       "      <td>12.892039</td>\n",
       "      <td>0.000010</td>\n",
       "      <td>12.909916</td>\n",
       "    </tr>\n",
       "    <tr>\n",
       "      <th>26955101</th>\n",
       "      <td>JP</td>\n",
       "      <td>B09KG2KJS4</td>\n",
       "      <td>0.000091</td>\n",
       "      <td>12.808537</td>\n",
       "      <td>0.000011</td>\n",
       "      <td>13.025697</td>\n",
       "    </tr>\n",
       "    <tr>\n",
       "      <th>26955007</th>\n",
       "      <td>JP</td>\n",
       "      <td>B07F7FNPC7</td>\n",
       "      <td>0.000088</td>\n",
       "      <td>12.779854</td>\n",
       "      <td>0.000002</td>\n",
       "      <td>11.481423</td>\n",
       "    </tr>\n",
       "    <tr>\n",
       "      <th>26955082</th>\n",
       "      <td>JP</td>\n",
       "      <td>B094HQH565</td>\n",
       "      <td>0.000077</td>\n",
       "      <td>12.638463</td>\n",
       "      <td>0.000009</td>\n",
       "      <td>12.786063</td>\n",
       "    </tr>\n",
       "    <tr>\n",
       "      <th>26954996</th>\n",
       "      <td>JP</td>\n",
       "      <td>B079TGGJYX</td>\n",
       "      <td>0.000076</td>\n",
       "      <td>12.630508</td>\n",
       "      <td>0.000005</td>\n",
       "      <td>12.155953</td>\n",
       "    </tr>\n",
       "    <tr>\n",
       "      <th>26954981</th>\n",
       "      <td>JP</td>\n",
       "      <td>B014W4US6U</td>\n",
       "      <td>0.000072</td>\n",
       "      <td>12.581566</td>\n",
       "      <td>0.000001</td>\n",
       "      <td>10.762100</td>\n",
       "    </tr>\n",
       "    <tr>\n",
       "      <th>26955133</th>\n",
       "      <td>JP</td>\n",
       "      <td>B0BDKYQ4ZK</td>\n",
       "      <td>0.000072</td>\n",
       "      <td>12.571899</td>\n",
       "      <td>0.000004</td>\n",
       "      <td>11.892407</td>\n",
       "    </tr>\n",
       "    <tr>\n",
       "      <th>26955143</th>\n",
       "      <td>JP</td>\n",
       "      <td>B0BKPPLNQB</td>\n",
       "      <td>0.000064</td>\n",
       "      <td>12.453609</td>\n",
       "      <td>0.000007</td>\n",
       "      <td>12.622231</td>\n",
       "    </tr>\n",
       "    <tr>\n",
       "      <th>26955009</th>\n",
       "      <td>JP</td>\n",
       "      <td>B07GXJ9C3B</td>\n",
       "      <td>0.000061</td>\n",
       "      <td>12.402514</td>\n",
       "      <td>0.000004</td>\n",
       "      <td>12.043398</td>\n",
       "    </tr>\n",
       "    <tr>\n",
       "      <th>26955103</th>\n",
       "      <td>JP</td>\n",
       "      <td>B09KRPZXVS</td>\n",
       "      <td>0.000053</td>\n",
       "      <td>12.266268</td>\n",
       "      <td>0.000001</td>\n",
       "      <td>10.848961</td>\n",
       "    </tr>\n",
       "  </tbody>\n",
       "</table>\n",
       "</div>"
      ],
      "text/plain": [
       "         sess_locale     product  normalized_sasrec_scores_3  sasrec_scores_3  \\\n",
       "26955086          JP  B098WGMWNP                    0.552800        21.521570   \n",
       "26955088          JP  B098WP5TC8                    0.381307        21.150179   \n",
       "26955087          JP  B098WLVTFC                    0.051011        19.138615   \n",
       "26955089          JP  B098X329LP                    0.011358        17.636488   \n",
       "26955104          JP  B09KZ1ZV66                    0.000548        14.605345   \n",
       "26954975          JP  B00OLHELIA                    0.000396        14.279746   \n",
       "26955050          JP  B08CN8C1RM                    0.000203        13.612795   \n",
       "26954971          JP  B00IMQINN0                    0.000200        13.595983   \n",
       "26955022          JP  B07ZSHHK1K                    0.000193        13.560355   \n",
       "26954991          JP  B079T2QCFZ                    0.000114        13.037858   \n",
       "26955051          JP  B08CN9VJLX                    0.000099        12.892039   \n",
       "26955101          JP  B09KG2KJS4                    0.000091        12.808537   \n",
       "26955007          JP  B07F7FNPC7                    0.000088        12.779854   \n",
       "26955082          JP  B094HQH565                    0.000077        12.638463   \n",
       "26954996          JP  B079TGGJYX                    0.000076        12.630508   \n",
       "26954981          JP  B014W4US6U                    0.000072        12.581566   \n",
       "26955133          JP  B0BDKYQ4ZK                    0.000072        12.571899   \n",
       "26955143          JP  B0BKPPLNQB                    0.000064        12.453609   \n",
       "26955009          JP  B07GXJ9C3B                    0.000061        12.402514   \n",
       "26955103          JP  B09KRPZXVS                    0.000053        12.266268   \n",
       "\n",
       "          normalized_sasrec_scores_2  sasrec_scores_2  \n",
       "26955086                    0.342903        23.371174  \n",
       "26955088                    0.609430        23.946251  \n",
       "26955087                    0.041077        21.249163  \n",
       "26955089                    0.006074        19.337807  \n",
       "26955104                    0.000027        13.934914  \n",
       "26954975                    0.000004        11.932653  \n",
       "26955050                    0.000034        14.156077  \n",
       "26954971                    0.000011        13.060494  \n",
       "26955022                    0.000008        12.685432  \n",
       "26954991                    0.000185        15.845692  \n",
       "26955051                    0.000010        12.909916  \n",
       "26955101                    0.000011        13.025697  \n",
       "26955007                    0.000002        11.481423  \n",
       "26955082                    0.000009        12.786063  \n",
       "26954996                    0.000005        12.155953  \n",
       "26954981                    0.000001        10.762100  \n",
       "26955133                    0.000004        11.892407  \n",
       "26955143                    0.000007        12.622231  \n",
       "26955009                    0.000004        12.043398  \n",
       "26955103                    0.000001        10.848961  "
      ]
     },
     "execution_count": 50,
     "metadata": {},
     "output_type": "execute_result"
    }
   ],
   "source": [
    "merged_candidates[(merged_candidates['sess_id'] == 130000)].sort_values(by='normalized_sasrec_scores_3', ascending=False)[['sess_locale', 'product', 'normalized_sasrec_scores_3', 'sasrec_scores_3', 'normalized_sasrec_scores_2', 'sasrec_scores_2']][:20]"
   ]
  }
 ],
 "metadata": {
  "kernelspec": {
   "display_name": "torch12",
   "language": "python",
   "name": "python3"
  },
  "language_info": {
   "codemirror_mode": {
    "name": "ipython",
    "version": 3
   },
   "file_extension": ".py",
   "mimetype": "text/x-python",
   "name": "python",
   "nbconvert_exporter": "python",
   "pygments_lexer": "ipython3",
   "version": "3.9.16"
  }
 },
 "nbformat": 4,
 "nbformat_minor": 2
}
