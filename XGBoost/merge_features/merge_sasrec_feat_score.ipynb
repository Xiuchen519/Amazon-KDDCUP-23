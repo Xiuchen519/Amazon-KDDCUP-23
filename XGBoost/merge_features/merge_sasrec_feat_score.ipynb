{
 "cells": [
  {
   "attachments": {},
   "cell_type": "markdown",
   "metadata": {},
   "source": [
    "use loc[i, field] instead of iloc[i, field], iloc is very slow."
   ]
  },
  {
   "cell_type": "code",
   "execution_count": 1,
   "metadata": {
    "execution": {
     "iopub.execute_input": "2023-05-22T08:56:36.051874Z",
     "iopub.status.busy": "2023-05-22T08:56:36.051594Z",
     "iopub.status.idle": "2023-05-22T08:56:52.031135Z",
     "shell.execute_reply": "2023-05-22T08:56:52.030152Z"
    }
   },
   "outputs": [
    {
     "name": "stderr",
     "output_type": "stream",
     "text": [
      "/root/autodl-tmp/xiaolong/.conda/envs/torch12/lib/python3.9/site-packages/tqdm/auto.py:22: TqdmWarning: IProgress not found. Please update jupyter and ipywidgets. See https://ipywidgets.readthedocs.io/en/stable/user_install.html\n",
      "  from .autonotebook import tqdm as notebook_tqdm\n"
     ]
    }
   ],
   "source": [
    "import sys\n",
    "sys.path = ['/root/autodl-tmp/xiaolong/WorkSpace/Amazon-KDDCUP-23/RecStudio/'] + sys.path\n",
    "import os\n",
    "os.environ[\"CUDA_VISIBLE_DEVICES\"] = \"0\"\n",
    "import random\n",
    "import numpy as np\n",
    "import pandas as pd\n",
    "import cudf, itertools\n",
    "import scipy.sparse as ssp\n",
    "from functools import lru_cache, partial\n",
    "from tqdm import tqdm, trange\n",
    "from collections import Counter, defaultdict\n",
    "import torch\n",
    "import pickle\n"
   ]
  },
  {
   "cell_type": "code",
   "execution_count": 2,
   "metadata": {
    "execution": {
     "iopub.execute_input": "2023-05-22T08:56:52.087862Z",
     "iopub.status.busy": "2023-05-22T08:56:52.087356Z",
     "iopub.status.idle": "2023-05-22T08:56:52.092669Z",
     "shell.execute_reply": "2023-05-22T08:56:52.091362Z"
    }
   },
   "outputs": [],
   "source": [
    "merged_candidates_feature_path = '/root/autodl-tmp/xiaolong/WorkSpace/Amazon-KDDCUP-23/XGBoost/candidates/merged_candidates_2_feature.parquet'\n",
    "valid_sessions_path = '/root/autodl-tmp/xiaolong/WorkSpace/Amazon-KDDCUP-23/data_for_recstudio/task1_data/task13_4_task1_valid_sessions.csv'\n",
    "test_sessions_path = '/root/autodl-tmp/xiaolong/WorkSpace/Amazon-KDDCUP-23/raw_data/sessions_test_task1.csv'"
   ]
  },
  {
   "cell_type": "code",
   "execution_count": 3,
   "metadata": {
    "execution": {
     "iopub.execute_input": "2023-05-22T08:56:52.101563Z",
     "iopub.status.busy": "2023-05-22T08:56:52.101190Z",
     "iopub.status.idle": "2023-05-22T08:56:52.107005Z",
     "shell.execute_reply": "2023-05-22T08:56:52.106093Z"
    }
   },
   "outputs": [],
   "source": [
    "@lru_cache(maxsize=1)\n",
    "def read_merged_candidates_feature():\n",
    "    return pd.read_parquet(merged_candidates_feature_path, engine='pyarrow')\n",
    "\n",
    "@lru_cache(maxsize=1)\n",
    "def read_valid_sessions():\n",
    "    return pd.read_csv(valid_sessions_path)\n",
    "\n",
    "@lru_cache(maxsize=1)\n",
    "def read_test_sessions():\n",
    "    return pd.read_csv(test_sessions_path)"
   ]
  },
  {
   "cell_type": "code",
   "execution_count": 4,
   "metadata": {
    "execution": {
     "iopub.execute_input": "2023-05-22T08:56:52.110922Z",
     "iopub.status.busy": "2023-05-22T08:56:52.110619Z",
     "iopub.status.idle": "2023-05-22T08:56:52.118506Z",
     "shell.execute_reply": "2023-05-22T08:56:52.117526Z"
    }
   },
   "outputs": [],
   "source": [
    "def cast_dtype(df : pd.DataFrame, columns=None):\n",
    "    if columns is None:\n",
    "        columns = df.columns\n",
    "    for k in columns:\n",
    "        dt = type(df[k].iloc[0])\n",
    "        if 'float' in str(dt):\n",
    "            df[k] = df[k].astype('float32')\n",
    "        elif 'int' in str(dt):\n",
    "            df[k] = df[k].astype('int32')\n",
    "        elif dt == list:\n",
    "            dt_ = type(df.iloc[0][k][0])\n",
    "            if 'float' in str(dt_):\n",
    "                df[k] = df[k].apply(lambda x : np.array(x, dtype=np.float32))\n",
    "            elif 'int' in str(dt_):\n",
    "                df[k] = df[k].apply(lambda x : np.array(x, dtype=np.int32))"
   ]
  },
  {
   "cell_type": "code",
   "execution_count": 5,
   "metadata": {
    "execution": {
     "iopub.execute_input": "2023-05-22T08:56:52.122488Z",
     "iopub.status.busy": "2023-05-22T08:56:52.122094Z",
     "iopub.status.idle": "2023-05-22T08:56:52.126489Z",
     "shell.execute_reply": "2023-05-22T08:56:52.125822Z"
    }
   },
   "outputs": [],
   "source": [
    "def _load_cache(path):\n",
    "    with open(path, 'rb') as f:\n",
    "        download_obj = pickle.load(f)\n",
    "    return download_obj"
   ]
  },
  {
   "cell_type": "code",
   "execution_count": 6,
   "metadata": {
    "execution": {
     "iopub.execute_input": "2023-05-22T08:56:52.130482Z",
     "iopub.status.busy": "2023-05-22T08:56:52.130221Z",
     "iopub.status.idle": "2023-05-22T08:56:52.136435Z",
     "shell.execute_reply": "2023-05-22T08:56:52.135436Z"
    }
   },
   "outputs": [],
   "source": [
    "def get_scores(merged_candidates_df, query_embeddings, product_embeddings):\n",
    "    batch_size = 2048\n",
    "    num_iter = (len(merged_candidates_df) - 1) // batch_size + 1\n",
    "    score_list = []\n",
    "    with torch.no_grad():\n",
    "        for i in tqdm(range(num_iter)):\n",
    "            st, ed = i * batch_size, (i + 1) * batch_size \n",
    "            batch_sess = merged_candidates_df.iloc[st : ed]\n",
    "            batch_sess_id = torch.tensor(batch_sess['sess_id'].tolist(), dtype=torch.long, device=query_embeddings.device)\n",
    "            batch_product_id = torch.tensor(batch_sess['dataset_id'].tolist(), dtype=torch.long, device=product_embeddings.device)\n",
    "            query_emb = query_embeddings[batch_sess_id]\n",
    "            product_emb = product_embeddings[batch_product_id]\n",
    "            batch_score = (query_emb * product_emb).sum(dim=-1) \n",
    "            score_list.append(batch_score.cpu())\n",
    "        score_list = torch.cat(score_list, dim=0).cpu().tolist()\n",
    "        return score_list "
   ]
  },
  {
   "cell_type": "code",
   "execution_count": 7,
   "metadata": {
    "execution": {
     "iopub.execute_input": "2023-05-22T08:56:52.139843Z",
     "iopub.status.busy": "2023-05-22T08:56:52.139535Z",
     "iopub.status.idle": "2023-05-22T08:56:52.146243Z",
     "shell.execute_reply": "2023-05-22T08:56:52.145277Z"
    }
   },
   "outputs": [],
   "source": [
    "def normalize_scores(score_df, score_name, normalized_score_name):\n",
    "    # score_df_g = cudf.from_pandas(score_df)\n",
    "    score_df['exp_score'] = np.exp(score_df[score_name].to_numpy())\n",
    "    scores_sum = score_df[['sess_id', 'exp_score']].groupby('sess_id').sum()\n",
    "    scores_sum.reset_index(inplace=True)\n",
    "    scores_sum = scores_sum.sort_values(by=['sess_id'], ascending=True)\n",
    "    scores_sum.reset_index(drop=True, inplace=True)\n",
    "    scores_sum.rename(columns={'exp_score' : 'score_sum'}, inplace=True)\n",
    "\n",
    "    merged_score_df = score_df.merge(scores_sum, how='left', left_on=['sess_id'], right_on=['sess_id'])\n",
    "    merged_score_df = merged_score_df.sort_values(by=['sess_id', 'product'])\n",
    "    merged_score_df.reset_index(drop=True, inplace=True)\n",
    "    \n",
    "    # merged_score_df = merged_score_df_g.to_pandas(merged_score_df_g)\n",
    "    score_df[normalized_score_name] = merged_score_df['exp_score'] / merged_score_df['score_sum']\n",
    "    score_df['exp_score'] = merged_score_df['exp_score']\n",
    "    score_df['score_sum'] = merged_score_df['score_sum']\n",
    "\n",
    "    # del scores_sum_g\n",
    "    # del merged_score_df_g "
   ]
  },
  {
   "attachments": {},
   "cell_type": "markdown",
   "metadata": {},
   "source": [
    "# Merge valid score"
   ]
  },
  {
   "cell_type": "code",
   "execution_count": 8,
   "metadata": {
    "execution": {
     "iopub.execute_input": "2023-05-22T08:56:52.150852Z",
     "iopub.status.busy": "2023-05-22T08:56:52.150516Z",
     "iopub.status.idle": "2023-05-22T08:56:52.155357Z",
     "shell.execute_reply": "2023-05-22T08:56:52.154303Z"
    }
   },
   "outputs": [],
   "source": [
    "FIELD_NAME = 'sasrec_feat_scores'"
   ]
  },
  {
   "cell_type": "code",
   "execution_count": 9,
   "metadata": {
    "execution": {
     "iopub.execute_input": "2023-05-22T08:56:52.159826Z",
     "iopub.status.busy": "2023-05-22T08:56:52.159536Z",
     "iopub.status.idle": "2023-05-22T08:56:52.165307Z",
     "shell.execute_reply": "2023-05-22T08:56:52.163733Z"
    }
   },
   "outputs": [],
   "source": [
    "DE_product_embeddings_path = '/root/autodl-tmp/xiaolong/WorkSpace/Amazon-KDDCUP-23/candidates/query_embeddings/SASRec_Next_Feat/kdd_cup_2023_DE/product_embeddings_2023-05-22-14-49-09.pt'\n",
    "DE_valid_embeddings_path = '/root/autodl-tmp/xiaolong/WorkSpace/Amazon-KDDCUP-23/candidates/query_embeddings/SASRec_Next_Feat/kdd_cup_2023_DE/valid_embeddings_2023-05-22-14-50-10.pt'\n",
    "JP_product_embeddings_path = '/root/autodl-tmp/xiaolong/WorkSpace/Amazon-KDDCUP-23/candidates/query_embeddings/SASRec_Next_Feat/kdd_cup_2023_JP/product_embeddings_2023-05-22-14-56-18.pt'\n",
    "JP_valid_embeddings_path = '/root/autodl-tmp/xiaolong/WorkSpace/Amazon-KDDCUP-23/candidates/query_embeddings/SASRec_Next_Feat/kdd_cup_2023_JP/valid_embeddings_2023-05-22-14-56-53.pt'\n",
    "UK_product_embeddings_path = '/root/autodl-tmp/xiaolong/WorkSpace/Amazon-KDDCUP-23/candidates/query_embeddings/SASRec_Next_Feat/kdd_cup_2023_UK/product_embeddings_2023-05-22-15-00-18.pt'\n",
    "UK_valid_embeddings_path = '/root/autodl-tmp/xiaolong/WorkSpace/Amazon-KDDCUP-23/candidates/query_embeddings/SASRec_Next_Feat/kdd_cup_2023_UK/valid_embeddings_2023-05-22-15-01-04.pt'"
   ]
  },
  {
   "cell_type": "code",
   "execution_count": 10,
   "metadata": {
    "execution": {
     "iopub.execute_input": "2023-05-22T08:56:52.169471Z",
     "iopub.status.busy": "2023-05-22T08:56:52.169194Z",
     "iopub.status.idle": "2023-05-22T08:56:52.174420Z",
     "shell.execute_reply": "2023-05-22T08:56:52.173444Z"
    }
   },
   "outputs": [],
   "source": [
    "DE_dataset_cache = '/root/autodl-tmp/xiaolong/WorkSpace/Amazon-KDDCUP-23/.recstudio/cache/c76eddf0a07106ffcce7ce8010856a3b'\n",
    "JP_dataset_cache = '/root/autodl-tmp/xiaolong/WorkSpace/Amazon-KDDCUP-23/.recstudio/cache/81a71d0a18766af84b3beab69bf53e69'\n",
    "UK_dataset_cache = '/root/autodl-tmp/xiaolong/WorkSpace/Amazon-KDDCUP-23/.recstudio/cache/250dbc09c30162452e00486051e47756'"
   ]
  },
  {
   "cell_type": "code",
   "execution_count": 11,
   "metadata": {
    "execution": {
     "iopub.execute_input": "2023-05-22T08:56:52.178644Z",
     "iopub.status.busy": "2023-05-22T08:56:52.178333Z",
     "iopub.status.idle": "2023-05-22T08:57:25.302423Z",
     "shell.execute_reply": "2023-05-22T08:57:25.300526Z"
    }
   },
   "outputs": [],
   "source": [
    "DE_train_dataset, DE_valid_dataset = _load_cache(DE_dataset_cache)\n",
    "JP_train_dataset, JP_valid_dataset = _load_cache(JP_dataset_cache)\n",
    "UK_train_dataset, UK_valid_dataset = _load_cache(UK_dataset_cache)\n",
    "locale_map = {\n",
    "    'DE' : DE_train_dataset.field2token2idx['product_id'], \n",
    "    'JP' : JP_train_dataset.field2token2idx['product_id'], \n",
    "    'UK' : UK_train_dataset.field2token2idx['product_id']\n",
    "    }"
   ]
  },
  {
   "cell_type": "code",
   "execution_count": 12,
   "metadata": {
    "execution": {
     "iopub.execute_input": "2023-05-22T08:57:25.309995Z",
     "iopub.status.busy": "2023-05-22T08:57:25.308753Z",
     "iopub.status.idle": "2023-05-22T09:01:10.288964Z",
     "shell.execute_reply": "2023-05-22T09:01:10.286640Z"
    }
   },
   "outputs": [],
   "source": [
    "merged_candidates = read_merged_candidates_feature()\n",
    "valid_sessions = read_valid_sessions()\n",
    "EMBED_DIM = 128\n",
    "merged_candidates.sort_values(by=['sess_id', 'product'], inplace=True)\n",
    "merged_candidates.reset_index(drop=True, inplace=True)"
   ]
  },
  {
   "cell_type": "code",
   "execution_count": 13,
   "metadata": {
    "execution": {
     "iopub.execute_input": "2023-05-22T09:01:10.295912Z",
     "iopub.status.busy": "2023-05-22T09:01:10.295388Z",
     "iopub.status.idle": "2023-05-22T09:01:11.717831Z",
     "shell.execute_reply": "2023-05-22T09:01:11.716425Z"
    }
   },
   "outputs": [],
   "source": [
    "# sess embeddings \n",
    "valid_DE_query_emb = torch.load(DE_valid_embeddings_path, map_location='cpu')\n",
    "valid_JP_query_emb = torch.load(JP_valid_embeddings_path, map_location='cpu')\n",
    "valid_UK_query_emb = torch.load(UK_valid_embeddings_path, map_location='cpu')\n",
    "valid_query_embeddings = torch.empty(len(valid_sessions), EMBED_DIM)\n",
    "valid_query_embeddings[(valid_sessions[valid_sessions['locale'] == 'DE'].index).tolist()] = valid_DE_query_emb\n",
    "valid_query_embeddings[(valid_sessions[valid_sessions['locale'] == 'JP'].index).tolist()] = valid_JP_query_emb\n",
    "valid_query_embeddings[(valid_sessions[valid_sessions['locale'] == 'UK'].index).tolist()] = valid_UK_query_emb"
   ]
  },
  {
   "cell_type": "code",
   "execution_count": 14,
   "metadata": {
    "execution": {
     "iopub.execute_input": "2023-05-22T09:01:11.723884Z",
     "iopub.status.busy": "2023-05-22T09:01:11.722916Z",
     "iopub.status.idle": "2023-05-22T09:01:13.071506Z",
     "shell.execute_reply": "2023-05-22T09:01:13.070176Z"
    }
   },
   "outputs": [],
   "source": [
    "# product_embeddings \n",
    "DE_product_emb = torch.load(DE_product_embeddings_path, map_location='cpu')\n",
    "JP_product_emb = torch.load(JP_product_embeddings_path, map_location='cpu')\n",
    "UK_product_emb = torch.load(UK_product_embeddings_path, map_location='cpu')\n",
    "product_embeddings = torch.cat([DE_product_emb, JP_product_emb, UK_product_emb], dim=0)"
   ]
  },
  {
   "cell_type": "code",
   "execution_count": 15,
   "metadata": {
    "execution": {
     "iopub.execute_input": "2023-05-22T09:01:13.077577Z",
     "iopub.status.busy": "2023-05-22T09:01:13.077214Z",
     "iopub.status.idle": "2023-05-22T09:02:36.333742Z",
     "shell.execute_reply": "2023-05-22T09:02:36.317907Z"
    }
   },
   "outputs": [],
   "source": [
    "merged_candidates_ = merged_candidates[['sess_id', 'sess_locale', 'product']].copy()"
   ]
  },
  {
   "cell_type": "code",
   "execution_count": 16,
   "metadata": {
    "execution": {
     "iopub.execute_input": "2023-05-22T09:02:36.378206Z",
     "iopub.status.busy": "2023-05-22T09:02:36.374001Z",
     "iopub.status.idle": "2023-05-22T09:02:41.858739Z",
     "shell.execute_reply": "2023-05-22T09:02:41.857893Z"
    }
   },
   "outputs": [],
   "source": [
    "DE_product_list, DE_id_list = list(zip(*locale_map['DE'].items()))\n",
    "JP_product_list, JP_id_list = list(zip(*locale_map['JP'].items()))\n",
    "UK_product_list, UK_id_list = list(zip(*locale_map['UK'].items()))\n",
    "product_list = list(DE_product_list) + list(JP_product_list) + list(UK_product_list)\n",
    "id_list = list(DE_id_list) + list(JP_id_list) + list(UK_id_list)\n",
    "locale_list = ['DE'] * len(DE_id_list) + ['JP'] * len(JP_id_list) + ['UK'] * len(UK_id_list)\n",
    "product_id_df = pd.DataFrame({'locale' : locale_list, 'product' : product_list, 'dataset_id' : id_list})"
   ]
  },
  {
   "cell_type": "code",
   "execution_count": 17,
   "metadata": {
    "execution": {
     "iopub.execute_input": "2023-05-22T09:02:41.863033Z",
     "iopub.status.busy": "2023-05-22T09:02:41.862701Z",
     "iopub.status.idle": "2023-05-22T09:03:02.540579Z",
     "shell.execute_reply": "2023-05-22T09:03:02.539411Z"
    }
   },
   "outputs": [],
   "source": [
    "# merged_candidates_g = cudf.from_pandas(merged_candidates_)\n",
    "# product_id_df_g = cudf.from_pandas(product_id_df)"
   ]
  },
  {
   "cell_type": "code",
   "execution_count": 18,
   "metadata": {
    "execution": {
     "iopub.execute_input": "2023-05-22T09:03:02.545133Z",
     "iopub.status.busy": "2023-05-22T09:03:02.544811Z",
     "iopub.status.idle": "2023-05-22T09:03:51.047932Z",
     "shell.execute_reply": "2023-05-22T09:03:51.046353Z"
    }
   },
   "outputs": [],
   "source": [
    "# merged_candidates_score_g = merged_candidates_g.merge(product_id_df_g, how='left', left_on=['sess_locale', 'product'], right_on=['locale', 'product'])\n",
    "# merged_candidates_score_g['dataset_id'] = merged_candidates_score_g['dataset_id'].fillna(0)\n",
    "# merged_candidates_score_g.drop(columns=['locale'], inplace=True)\n",
    "# merged_candidates_score_g = merged_candidates_score_g.sort_values(by=['sess_id', 'product'])\n",
    "# merged_candidates_score_g.reset_index(drop=True, inplace=True)\n",
    "# merged_candidates_score = merged_candidates_score_g.to_pandas()"
   ]
  },
  {
   "cell_type": "code",
   "execution_count": null,
   "metadata": {},
   "outputs": [],
   "source": [
    "merged_candidates_score = merged_candidates_.merge(product_id_df, how='left', left_on=['sess_locale', 'product'], right_on=['locale', 'product'])\n",
    "merged_candidates_score['dataset_id'] = merged_candidates_score['dataset_id'].fillna(0)\n",
    "merged_candidates_score.drop(columns=['locale'], inplace=True)\n",
    "merged_candidates_score = merged_candidates_score.sort_values(by=['sess_id', 'product'])\n",
    "merged_candidates_score.reset_index(drop=True, inplace=True)"
   ]
  },
  {
   "cell_type": "code",
   "execution_count": 19,
   "metadata": {
    "execution": {
     "iopub.execute_input": "2023-05-22T09:03:51.056778Z",
     "iopub.status.busy": "2023-05-22T09:03:51.056438Z",
     "iopub.status.idle": "2023-05-22T09:03:51.075182Z",
     "shell.execute_reply": "2023-05-22T09:03:51.074292Z"
    }
   },
   "outputs": [],
   "source": [
    "# del merged_candidates_g\n",
    "# del product_id_df_g\n",
    "# del merged_candidates_score_g"
   ]
  },
  {
   "cell_type": "code",
   "execution_count": 20,
   "metadata": {
    "execution": {
     "iopub.execute_input": "2023-05-22T09:03:51.079634Z",
     "iopub.status.busy": "2023-05-22T09:03:51.079299Z",
     "iopub.status.idle": "2023-05-22T09:05:16.948476Z",
     "shell.execute_reply": "2023-05-22T09:05:16.945197Z"
    }
   },
   "outputs": [
    {
     "name": "stderr",
     "output_type": "stream",
     "text": [
      "/tmp/ipykernel_839857/2978421209.py:3: SettingWithCopyWarning: \n",
      "A value is trying to be set on a copy of a slice from a DataFrame\n",
      "\n",
      "See the caveats in the documentation: https://pandas.pydata.org/pandas-docs/stable/user_guide/indexing.html#returning-a-view-versus-a-copy\n",
      "  merged_candidates_score['dataset_id'][merged_candidates_score['sess_locale'] == locale] = \\\n"
     ]
    }
   ],
   "source": [
    "locale_offset = {'DE' : 0, 'JP' : len(DE_product_list), 'UK' : len(DE_product_list) + len(JP_product_list)}\n",
    "for locale in ['DE', 'JP', 'UK']:\n",
    "    merged_candidates_score['dataset_id'][merged_candidates_score['sess_locale'] == locale] = \\\n",
    "        merged_candidates_score['dataset_id'][merged_candidates_score['sess_locale'] == locale] + locale_offset[locale]"
   ]
  },
  {
   "cell_type": "code",
   "execution_count": 21,
   "metadata": {
    "execution": {
     "iopub.execute_input": "2023-05-22T09:05:16.955767Z",
     "iopub.status.busy": "2023-05-22T09:05:16.955022Z",
     "iopub.status.idle": "2023-05-22T09:05:20.752292Z",
     "shell.execute_reply": "2023-05-22T09:05:20.751153Z"
    }
   },
   "outputs": [],
   "source": [
    "valid_query_embeddings = valid_query_embeddings.to('cuda:0')\n",
    "product_embeddings = product_embeddings.to('cuda:0')"
   ]
  },
  {
   "cell_type": "code",
   "execution_count": 22,
   "metadata": {
    "execution": {
     "iopub.execute_input": "2023-05-22T09:05:20.756626Z",
     "iopub.status.busy": "2023-05-22T09:05:20.755633Z",
     "iopub.status.idle": "2023-05-22T09:06:20.190753Z",
     "shell.execute_reply": "2023-05-22T09:06:20.189142Z"
    }
   },
   "outputs": [
    {
     "name": "stderr",
     "output_type": "stream",
     "text": [
      "100%|██████████████████████████████████████████████████████████████████████████████████████████████| 41215/41215 [00:43<00:00, 950.07it/s]\n"
     ]
    }
   ],
   "source": [
    "merged_candidates_score[FIELD_NAME] = get_scores(merged_candidates_score, valid_query_embeddings, product_embeddings)"
   ]
  },
  {
   "cell_type": "code",
   "execution_count": 23,
   "metadata": {
    "execution": {
     "iopub.execute_input": "2023-05-22T09:06:20.195943Z",
     "iopub.status.busy": "2023-05-22T09:06:20.195552Z",
     "iopub.status.idle": "2023-05-22T09:09:08.844787Z",
     "shell.execute_reply": "2023-05-22T09:09:08.838200Z"
    }
   },
   "outputs": [],
   "source": [
    "normalize_scores(merged_candidates_score, FIELD_NAME, 'normalized_'+FIELD_NAME)"
   ]
  },
  {
   "cell_type": "code",
   "execution_count": 24,
   "metadata": {
    "execution": {
     "iopub.execute_input": "2023-05-22T09:09:08.849390Z",
     "iopub.status.busy": "2023-05-22T09:09:08.848994Z",
     "iopub.status.idle": "2023-05-22T09:09:09.932876Z",
     "shell.execute_reply": "2023-05-22T09:09:09.931606Z"
    }
   },
   "outputs": [],
   "source": [
    "merged_candidates[FIELD_NAME] = merged_candidates_score[FIELD_NAME]\n",
    "merged_candidates['normalized_'+FIELD_NAME] = merged_candidates_score['normalized_'+FIELD_NAME]"
   ]
  },
  {
   "cell_type": "code",
   "execution_count": 25,
   "metadata": {
    "execution": {
     "iopub.execute_input": "2023-05-22T09:09:09.936742Z",
     "iopub.status.busy": "2023-05-22T09:09:09.936438Z",
     "iopub.status.idle": "2023-05-22T09:12:59.519892Z",
     "shell.execute_reply": "2023-05-22T09:12:59.517245Z"
    }
   },
   "outputs": [],
   "source": [
    "cast_dtype(merged_candidates)\n",
    "merged_candidates.to_parquet(merged_candidates_feature_path, engine='pyarrow')"
   ]
  },
  {
   "cell_type": "code",
   "execution_count": 26,
   "metadata": {
    "execution": {
     "iopub.execute_input": "2023-05-22T09:12:59.538032Z",
     "iopub.status.busy": "2023-05-22T09:12:59.537644Z",
     "iopub.status.idle": "2023-05-22T09:13:59.505540Z",
     "shell.execute_reply": "2023-05-22T09:13:59.504462Z"
    }
   },
   "outputs": [
    {
     "data": {
      "text/html": [
       "<div>\n",
       "<style scoped>\n",
       "    .dataframe tbody tr th:only-of-type {\n",
       "        vertical-align: middle;\n",
       "    }\n",
       "\n",
       "    .dataframe tbody tr th {\n",
       "        vertical-align: top;\n",
       "    }\n",
       "\n",
       "    .dataframe thead th {\n",
       "        text-align: right;\n",
       "    }\n",
       "</style>\n",
       "<table border=\"1\" class=\"dataframe\">\n",
       "  <thead>\n",
       "    <tr style=\"text-align: right;\">\n",
       "      <th></th>\n",
       "      <th>sess_id</th>\n",
       "      <th>sess_locale</th>\n",
       "      <th>product</th>\n",
       "      <th>target</th>\n",
       "      <th>sasrec_scores_2</th>\n",
       "      <th>sasrec_normalized_scores_2</th>\n",
       "      <th>product_freq</th>\n",
       "      <th>gru4rec_scores</th>\n",
       "      <th>gru4rec_normalized_scores</th>\n",
       "      <th>sess_avg_price</th>\n",
       "      <th>...</th>\n",
       "      <th>sasrec_normalized_scores_3</th>\n",
       "      <th>normalized_all_items_co_graph_count_0</th>\n",
       "      <th>all_items_co_graph_count_0</th>\n",
       "      <th>seqmlp_scores</th>\n",
       "      <th>seqmlp_normalized_scores</th>\n",
       "      <th>desc_BM25_scores</th>\n",
       "      <th>narm_scores</th>\n",
       "      <th>normalized_narm_scores</th>\n",
       "      <th>sasrec_feat_scores</th>\n",
       "      <th>normalized_sasrec_feat_scores</th>\n",
       "    </tr>\n",
       "  </thead>\n",
       "  <tbody>\n",
       "    <tr>\n",
       "      <th>0</th>\n",
       "      <td>0</td>\n",
       "      <td>UK</td>\n",
       "      <td>B000OPPVCS</td>\n",
       "      <td>0.0</td>\n",
       "      <td>11.972421</td>\n",
       "      <td>2.286162e-04</td>\n",
       "      <td>104</td>\n",
       "      <td>6.484859</td>\n",
       "      <td>3.816029e-05</td>\n",
       "      <td>7.388571</td>\n",
       "      <td>...</td>\n",
       "      <td>2.517129e-04</td>\n",
       "      <td>0.002635</td>\n",
       "      <td>2</td>\n",
       "      <td>8.378721</td>\n",
       "      <td>1.007163e-05</td>\n",
       "      <td>362.381012</td>\n",
       "      <td>16.883379</td>\n",
       "      <td>2.761682e-04</td>\n",
       "      <td>15.763786</td>\n",
       "      <td>3.403873e-03</td>\n",
       "    </tr>\n",
       "    <tr>\n",
       "      <th>1</th>\n",
       "      <td>0</td>\n",
       "      <td>UK</td>\n",
       "      <td>B000V599Y2</td>\n",
       "      <td>0.0</td>\n",
       "      <td>13.152878</td>\n",
       "      <td>7.443427e-04</td>\n",
       "      <td>37</td>\n",
       "      <td>4.342063</td>\n",
       "      <td>4.477209e-06</td>\n",
       "      <td>7.388571</td>\n",
       "      <td>...</td>\n",
       "      <td>2.031618e-04</td>\n",
       "      <td>0.003953</td>\n",
       "      <td>3</td>\n",
       "      <td>7.534612</td>\n",
       "      <td>4.330198e-06</td>\n",
       "      <td>64.592583</td>\n",
       "      <td>13.755573</td>\n",
       "      <td>1.209999e-05</td>\n",
       "      <td>11.217986</td>\n",
       "      <td>3.612080e-05</td>\n",
       "    </tr>\n",
       "    <tr>\n",
       "      <th>2</th>\n",
       "      <td>0</td>\n",
       "      <td>UK</td>\n",
       "      <td>B0018HH444</td>\n",
       "      <td>0.0</td>\n",
       "      <td>5.606023</td>\n",
       "      <td>3.928400e-07</td>\n",
       "      <td>7</td>\n",
       "      <td>3.220763</td>\n",
       "      <td>1.458925e-06</td>\n",
       "      <td>7.388571</td>\n",
       "      <td>...</td>\n",
       "      <td>2.036883e-06</td>\n",
       "      <td>0.001318</td>\n",
       "      <td>1</td>\n",
       "      <td>11.199949</td>\n",
       "      <td>1.691779e-04</td>\n",
       "      <td>67.996689</td>\n",
       "      <td>9.759952</td>\n",
       "      <td>2.225914e-07</td>\n",
       "      <td>6.324236</td>\n",
       "      <td>2.706629e-07</td>\n",
       "    </tr>\n",
       "    <tr>\n",
       "      <th>3</th>\n",
       "      <td>0</td>\n",
       "      <td>UK</td>\n",
       "      <td>B0079JI4DU</td>\n",
       "      <td>0.0</td>\n",
       "      <td>0.000000</td>\n",
       "      <td>1.443945e-09</td>\n",
       "      <td>67</td>\n",
       "      <td>0.000000</td>\n",
       "      <td>5.824698e-08</td>\n",
       "      <td>7.388571</td>\n",
       "      <td>...</td>\n",
       "      <td>4.685961e-09</td>\n",
       "      <td>0.002635</td>\n",
       "      <td>2</td>\n",
       "      <td>0.000000</td>\n",
       "      <td>2.313489e-09</td>\n",
       "      <td>0.000000</td>\n",
       "      <td>0.000000</td>\n",
       "      <td>1.284740e-11</td>\n",
       "      <td>0.000000</td>\n",
       "      <td>4.851186e-10</td>\n",
       "    </tr>\n",
       "    <tr>\n",
       "      <th>4</th>\n",
       "      <td>0</td>\n",
       "      <td>UK</td>\n",
       "      <td>B0079JI4EY</td>\n",
       "      <td>0.0</td>\n",
       "      <td>0.000000</td>\n",
       "      <td>1.443945e-09</td>\n",
       "      <td>77</td>\n",
       "      <td>0.000000</td>\n",
       "      <td>5.824698e-08</td>\n",
       "      <td>7.388571</td>\n",
       "      <td>...</td>\n",
       "      <td>4.685961e-09</td>\n",
       "      <td>0.002635</td>\n",
       "      <td>2</td>\n",
       "      <td>0.000000</td>\n",
       "      <td>2.313489e-09</td>\n",
       "      <td>0.000000</td>\n",
       "      <td>0.000000</td>\n",
       "      <td>1.284740e-11</td>\n",
       "      <td>0.000000</td>\n",
       "      <td>4.851186e-10</td>\n",
       "    </tr>\n",
       "    <tr>\n",
       "      <th>...</th>\n",
       "      <td>...</td>\n",
       "      <td>...</td>\n",
       "      <td>...</td>\n",
       "      <td>...</td>\n",
       "      <td>...</td>\n",
       "      <td>...</td>\n",
       "      <td>...</td>\n",
       "      <td>...</td>\n",
       "      <td>...</td>\n",
       "      <td>...</td>\n",
       "      <td>...</td>\n",
       "      <td>...</td>\n",
       "      <td>...</td>\n",
       "      <td>...</td>\n",
       "      <td>...</td>\n",
       "      <td>...</td>\n",
       "      <td>...</td>\n",
       "      <td>...</td>\n",
       "      <td>...</td>\n",
       "      <td>...</td>\n",
       "      <td>...</td>\n",
       "    </tr>\n",
       "    <tr>\n",
       "      <th>84407334</th>\n",
       "      <td>361580</td>\n",
       "      <td>DE</td>\n",
       "      <td>B0BB7XV97M</td>\n",
       "      <td>0.0</td>\n",
       "      <td>9.117821</td>\n",
       "      <td>6.077226e-05</td>\n",
       "      <td>56</td>\n",
       "      <td>9.268379</td>\n",
       "      <td>1.396883e-05</td>\n",
       "      <td>32.424000</td>\n",
       "      <td>...</td>\n",
       "      <td>3.403967e-05</td>\n",
       "      <td>0.003356</td>\n",
       "      <td>2</td>\n",
       "      <td>13.965775</td>\n",
       "      <td>2.930834e-03</td>\n",
       "      <td>0.000000</td>\n",
       "      <td>9.397533</td>\n",
       "      <td>2.219567e-04</td>\n",
       "      <td>8.051070</td>\n",
       "      <td>1.486921e-06</td>\n",
       "    </tr>\n",
       "    <tr>\n",
       "      <th>84407335</th>\n",
       "      <td>361580</td>\n",
       "      <td>DE</td>\n",
       "      <td>B0BB7YSRBX</td>\n",
       "      <td>0.0</td>\n",
       "      <td>9.163816</td>\n",
       "      <td>6.363281e-05</td>\n",
       "      <td>58</td>\n",
       "      <td>7.047796</td>\n",
       "      <td>1.516259e-06</td>\n",
       "      <td>32.424000</td>\n",
       "      <td>...</td>\n",
       "      <td>2.115080e-05</td>\n",
       "      <td>0.001678</td>\n",
       "      <td>1</td>\n",
       "      <td>10.212118</td>\n",
       "      <td>6.867505e-05</td>\n",
       "      <td>0.000000</td>\n",
       "      <td>8.080528</td>\n",
       "      <td>5.947030e-05</td>\n",
       "      <td>8.144089</td>\n",
       "      <td>1.631869e-06</td>\n",
       "    </tr>\n",
       "    <tr>\n",
       "      <th>84407336</th>\n",
       "      <td>361580</td>\n",
       "      <td>DE</td>\n",
       "      <td>B0BB7ZMGY8</td>\n",
       "      <td>0.0</td>\n",
       "      <td>11.256460</td>\n",
       "      <td>5.158278e-04</td>\n",
       "      <td>452</td>\n",
       "      <td>9.359167</td>\n",
       "      <td>1.529639e-05</td>\n",
       "      <td>32.424000</td>\n",
       "      <td>...</td>\n",
       "      <td>5.522656e-05</td>\n",
       "      <td>0.038591</td>\n",
       "      <td>23</td>\n",
       "      <td>12.275789</td>\n",
       "      <td>5.408041e-04</td>\n",
       "      <td>0.000000</td>\n",
       "      <td>10.893625</td>\n",
       "      <td>9.908607e-04</td>\n",
       "      <td>11.075905</td>\n",
       "      <td>3.061659e-05</td>\n",
       "    </tr>\n",
       "    <tr>\n",
       "      <th>84407337</th>\n",
       "      <td>361580</td>\n",
       "      <td>DE</td>\n",
       "      <td>B0BD4CP7N3</td>\n",
       "      <td>0.0</td>\n",
       "      <td>-3.778687</td>\n",
       "      <td>1.523433e-10</td>\n",
       "      <td>1</td>\n",
       "      <td>-0.593306</td>\n",
       "      <td>7.282568e-10</td>\n",
       "      <td>32.424000</td>\n",
       "      <td>...</td>\n",
       "      <td>4.433373e-10</td>\n",
       "      <td>0.000000</td>\n",
       "      <td>0</td>\n",
       "      <td>-2.456360</td>\n",
       "      <td>2.162463e-10</td>\n",
       "      <td>36.028561</td>\n",
       "      <td>2.628504</td>\n",
       "      <td>2.549859e-07</td>\n",
       "      <td>1.995993</td>\n",
       "      <td>3.488199e-09</td>\n",
       "    </tr>\n",
       "    <tr>\n",
       "      <th>84407338</th>\n",
       "      <td>361580</td>\n",
       "      <td>DE</td>\n",
       "      <td>B0BFPJC4C2</td>\n",
       "      <td>0.0</td>\n",
       "      <td>0.000000</td>\n",
       "      <td>6.666320e-09</td>\n",
       "      <td>62</td>\n",
       "      <td>0.000000</td>\n",
       "      <td>1.318118e-09</td>\n",
       "      <td>32.424000</td>\n",
       "      <td>...</td>\n",
       "      <td>2.224305e-09</td>\n",
       "      <td>0.001678</td>\n",
       "      <td>1</td>\n",
       "      <td>0.000000</td>\n",
       "      <td>2.521926e-09</td>\n",
       "      <td>0.000000</td>\n",
       "      <td>0.000000</td>\n",
       "      <td>1.840650e-08</td>\n",
       "      <td>0.000000</td>\n",
       "      <td>4.739718e-10</td>\n",
       "    </tr>\n",
       "  </tbody>\n",
       "</table>\n",
       "<p>84407339 rows × 33 columns</p>\n",
       "</div>"
      ],
      "text/plain": [
       "          sess_id sess_locale     product  target  sasrec_scores_2  \\\n",
       "0               0          UK  B000OPPVCS     0.0        11.972421   \n",
       "1               0          UK  B000V599Y2     0.0        13.152878   \n",
       "2               0          UK  B0018HH444     0.0         5.606023   \n",
       "3               0          UK  B0079JI4DU     0.0         0.000000   \n",
       "4               0          UK  B0079JI4EY     0.0         0.000000   \n",
       "...           ...         ...         ...     ...              ...   \n",
       "84407334   361580          DE  B0BB7XV97M     0.0         9.117821   \n",
       "84407335   361580          DE  B0BB7YSRBX     0.0         9.163816   \n",
       "84407336   361580          DE  B0BB7ZMGY8     0.0        11.256460   \n",
       "84407337   361580          DE  B0BD4CP7N3     0.0        -3.778687   \n",
       "84407338   361580          DE  B0BFPJC4C2     0.0         0.000000   \n",
       "\n",
       "          sasrec_normalized_scores_2  product_freq  gru4rec_scores  \\\n",
       "0                       2.286162e-04           104        6.484859   \n",
       "1                       7.443427e-04            37        4.342063   \n",
       "2                       3.928400e-07             7        3.220763   \n",
       "3                       1.443945e-09            67        0.000000   \n",
       "4                       1.443945e-09            77        0.000000   \n",
       "...                              ...           ...             ...   \n",
       "84407334                6.077226e-05            56        9.268379   \n",
       "84407335                6.363281e-05            58        7.047796   \n",
       "84407336                5.158278e-04           452        9.359167   \n",
       "84407337                1.523433e-10             1       -0.593306   \n",
       "84407338                6.666320e-09            62        0.000000   \n",
       "\n",
       "          gru4rec_normalized_scores  sess_avg_price  ...  \\\n",
       "0                      3.816029e-05        7.388571  ...   \n",
       "1                      4.477209e-06        7.388571  ...   \n",
       "2                      1.458925e-06        7.388571  ...   \n",
       "3                      5.824698e-08        7.388571  ...   \n",
       "4                      5.824698e-08        7.388571  ...   \n",
       "...                             ...             ...  ...   \n",
       "84407334               1.396883e-05       32.424000  ...   \n",
       "84407335               1.516259e-06       32.424000  ...   \n",
       "84407336               1.529639e-05       32.424000  ...   \n",
       "84407337               7.282568e-10       32.424000  ...   \n",
       "84407338               1.318118e-09       32.424000  ...   \n",
       "\n",
       "          sasrec_normalized_scores_3  normalized_all_items_co_graph_count_0  \\\n",
       "0                       2.517129e-04                               0.002635   \n",
       "1                       2.031618e-04                               0.003953   \n",
       "2                       2.036883e-06                               0.001318   \n",
       "3                       4.685961e-09                               0.002635   \n",
       "4                       4.685961e-09                               0.002635   \n",
       "...                              ...                                    ...   \n",
       "84407334                3.403967e-05                               0.003356   \n",
       "84407335                2.115080e-05                               0.001678   \n",
       "84407336                5.522656e-05                               0.038591   \n",
       "84407337                4.433373e-10                               0.000000   \n",
       "84407338                2.224305e-09                               0.001678   \n",
       "\n",
       "          all_items_co_graph_count_0  seqmlp_scores  seqmlp_normalized_scores  \\\n",
       "0                                  2       8.378721              1.007163e-05   \n",
       "1                                  3       7.534612              4.330198e-06   \n",
       "2                                  1      11.199949              1.691779e-04   \n",
       "3                                  2       0.000000              2.313489e-09   \n",
       "4                                  2       0.000000              2.313489e-09   \n",
       "...                              ...            ...                       ...   \n",
       "84407334                           2      13.965775              2.930834e-03   \n",
       "84407335                           1      10.212118              6.867505e-05   \n",
       "84407336                          23      12.275789              5.408041e-04   \n",
       "84407337                           0      -2.456360              2.162463e-10   \n",
       "84407338                           1       0.000000              2.521926e-09   \n",
       "\n",
       "          desc_BM25_scores  narm_scores  normalized_narm_scores  \\\n",
       "0               362.381012    16.883379            2.761682e-04   \n",
       "1                64.592583    13.755573            1.209999e-05   \n",
       "2                67.996689     9.759952            2.225914e-07   \n",
       "3                 0.000000     0.000000            1.284740e-11   \n",
       "4                 0.000000     0.000000            1.284740e-11   \n",
       "...                    ...          ...                     ...   \n",
       "84407334          0.000000     9.397533            2.219567e-04   \n",
       "84407335          0.000000     8.080528            5.947030e-05   \n",
       "84407336          0.000000    10.893625            9.908607e-04   \n",
       "84407337         36.028561     2.628504            2.549859e-07   \n",
       "84407338          0.000000     0.000000            1.840650e-08   \n",
       "\n",
       "          sasrec_feat_scores  normalized_sasrec_feat_scores  \n",
       "0                  15.763786                   3.403873e-03  \n",
       "1                  11.217986                   3.612080e-05  \n",
       "2                   6.324236                   2.706629e-07  \n",
       "3                   0.000000                   4.851186e-10  \n",
       "4                   0.000000                   4.851186e-10  \n",
       "...                      ...                            ...  \n",
       "84407334            8.051070                   1.486921e-06  \n",
       "84407335            8.144089                   1.631869e-06  \n",
       "84407336           11.075905                   3.061659e-05  \n",
       "84407337            1.995993                   3.488199e-09  \n",
       "84407338            0.000000                   4.739718e-10  \n",
       "\n",
       "[84407339 rows x 33 columns]"
      ]
     },
     "execution_count": 26,
     "metadata": {},
     "output_type": "execute_result"
    }
   ],
   "source": [
    "merged_candidates"
   ]
  },
  {
   "cell_type": "code",
   "execution_count": 27,
   "metadata": {
    "execution": {
     "iopub.execute_input": "2023-05-22T09:13:59.511878Z",
     "iopub.status.busy": "2023-05-22T09:13:59.511575Z",
     "iopub.status.idle": "2023-05-22T09:14:22.060624Z",
     "shell.execute_reply": "2023-05-22T09:14:22.059498Z"
    }
   },
   "outputs": [
    {
     "data": {
      "text/html": [
       "<div>\n",
       "<style scoped>\n",
       "    .dataframe tbody tr th:only-of-type {\n",
       "        vertical-align: middle;\n",
       "    }\n",
       "\n",
       "    .dataframe tbody tr th {\n",
       "        vertical-align: top;\n",
       "    }\n",
       "\n",
       "    .dataframe thead th {\n",
       "        text-align: right;\n",
       "    }\n",
       "</style>\n",
       "<table border=\"1\" class=\"dataframe\">\n",
       "  <thead>\n",
       "    <tr style=\"text-align: right;\">\n",
       "      <th></th>\n",
       "      <th>sess_locale</th>\n",
       "      <th>product</th>\n",
       "      <th>sasrec_normalized_scores_3</th>\n",
       "      <th>sasrec_scores_3</th>\n",
       "      <th>normalized_sasrec_feat_scores</th>\n",
       "      <th>sasrec_feat_scores</th>\n",
       "    </tr>\n",
       "  </thead>\n",
       "  <tbody>\n",
       "    <tr>\n",
       "      <th>35011902</th>\n",
       "      <td>DE</td>\n",
       "      <td>B08VN4VTMC</td>\n",
       "      <td>0.407627</td>\n",
       "      <td>18.442009</td>\n",
       "      <td>0.441094</td>\n",
       "      <td>19.765358</td>\n",
       "    </tr>\n",
       "    <tr>\n",
       "      <th>35011843</th>\n",
       "      <td>DE</td>\n",
       "      <td>B07TP1HY5B</td>\n",
       "      <td>0.173127</td>\n",
       "      <td>17.585684</td>\n",
       "      <td>0.134083</td>\n",
       "      <td>18.574560</td>\n",
       "    </tr>\n",
       "    <tr>\n",
       "      <th>35011977</th>\n",
       "      <td>DE</td>\n",
       "      <td>B0BBRKH55W</td>\n",
       "      <td>0.131551</td>\n",
       "      <td>17.311052</td>\n",
       "      <td>0.114731</td>\n",
       "      <td>18.418694</td>\n",
       "    </tr>\n",
       "    <tr>\n",
       "      <th>35011978</th>\n",
       "      <td>DE</td>\n",
       "      <td>B0BBRPFP73</td>\n",
       "      <td>0.095298</td>\n",
       "      <td>16.988661</td>\n",
       "      <td>0.134298</td>\n",
       "      <td>18.576164</td>\n",
       "    </tr>\n",
       "    <tr>\n",
       "      <th>35011979</th>\n",
       "      <td>DE</td>\n",
       "      <td>B0BBRR84KK</td>\n",
       "      <td>0.074192</td>\n",
       "      <td>16.738312</td>\n",
       "      <td>0.084972</td>\n",
       "      <td>18.118423</td>\n",
       "    </tr>\n",
       "    <tr>\n",
       "      <th>35011888</th>\n",
       "      <td>DE</td>\n",
       "      <td>B08HHXDHRJ</td>\n",
       "      <td>0.047119</td>\n",
       "      <td>16.284338</td>\n",
       "      <td>0.015333</td>\n",
       "      <td>16.406120</td>\n",
       "    </tr>\n",
       "    <tr>\n",
       "      <th>35011807</th>\n",
       "      <td>DE</td>\n",
       "      <td>B0793LCHRD</td>\n",
       "      <td>0.015908</td>\n",
       "      <td>15.198477</td>\n",
       "      <td>0.009762</td>\n",
       "      <td>15.954628</td>\n",
       "    </tr>\n",
       "    <tr>\n",
       "      <th>35011786</th>\n",
       "      <td>DE</td>\n",
       "      <td>B011KJ6WLU</td>\n",
       "      <td>0.010079</td>\n",
       "      <td>14.742159</td>\n",
       "      <td>0.022817</td>\n",
       "      <td>16.803595</td>\n",
       "    </tr>\n",
       "    <tr>\n",
       "      <th>35011790</th>\n",
       "      <td>DE</td>\n",
       "      <td>B01MSZ7WK7</td>\n",
       "      <td>0.009994</td>\n",
       "      <td>14.733601</td>\n",
       "      <td>0.000751</td>\n",
       "      <td>13.389692</td>\n",
       "    </tr>\n",
       "    <tr>\n",
       "      <th>35011968</th>\n",
       "      <td>DE</td>\n",
       "      <td>B0B7NCTHWX</td>\n",
       "      <td>0.009510</td>\n",
       "      <td>14.684032</td>\n",
       "      <td>0.020397</td>\n",
       "      <td>16.691465</td>\n",
       "    </tr>\n",
       "    <tr>\n",
       "      <th>35011791</th>\n",
       "      <td>DE</td>\n",
       "      <td>B01N5FJHSG</td>\n",
       "      <td>0.003369</td>\n",
       "      <td>13.646289</td>\n",
       "      <td>0.000510</td>\n",
       "      <td>13.002496</td>\n",
       "    </tr>\n",
       "    <tr>\n",
       "      <th>35011891</th>\n",
       "      <td>DE</td>\n",
       "      <td>B08HWG4C82</td>\n",
       "      <td>0.003118</td>\n",
       "      <td>13.568786</td>\n",
       "      <td>0.002257</td>\n",
       "      <td>14.490099</td>\n",
       "    </tr>\n",
       "    <tr>\n",
       "      <th>35011898</th>\n",
       "      <td>DE</td>\n",
       "      <td>B08L3TS2RN</td>\n",
       "      <td>0.002444</td>\n",
       "      <td>13.325091</td>\n",
       "      <td>0.000481</td>\n",
       "      <td>12.944606</td>\n",
       "    </tr>\n",
       "    <tr>\n",
       "      <th>35011969</th>\n",
       "      <td>DE</td>\n",
       "      <td>B0B7NFL1ZD</td>\n",
       "      <td>0.002229</td>\n",
       "      <td>13.233336</td>\n",
       "      <td>0.000976</td>\n",
       "      <td>13.651484</td>\n",
       "    </tr>\n",
       "    <tr>\n",
       "      <th>35011834</th>\n",
       "      <td>DE</td>\n",
       "      <td>B07QN4TPW4</td>\n",
       "      <td>0.002223</td>\n",
       "      <td>13.230636</td>\n",
       "      <td>0.002488</td>\n",
       "      <td>14.587669</td>\n",
       "    </tr>\n",
       "  </tbody>\n",
       "</table>\n",
       "</div>"
      ],
      "text/plain": [
       "         sess_locale     product  sasrec_normalized_scores_3  sasrec_scores_3  \\\n",
       "35011902          DE  B08VN4VTMC                    0.407627        18.442009   \n",
       "35011843          DE  B07TP1HY5B                    0.173127        17.585684   \n",
       "35011977          DE  B0BBRKH55W                    0.131551        17.311052   \n",
       "35011978          DE  B0BBRPFP73                    0.095298        16.988661   \n",
       "35011979          DE  B0BBRR84KK                    0.074192        16.738312   \n",
       "35011888          DE  B08HHXDHRJ                    0.047119        16.284338   \n",
       "35011807          DE  B0793LCHRD                    0.015908        15.198477   \n",
       "35011786          DE  B011KJ6WLU                    0.010079        14.742159   \n",
       "35011790          DE  B01MSZ7WK7                    0.009994        14.733601   \n",
       "35011968          DE  B0B7NCTHWX                    0.009510        14.684032   \n",
       "35011791          DE  B01N5FJHSG                    0.003369        13.646289   \n",
       "35011891          DE  B08HWG4C82                    0.003118        13.568786   \n",
       "35011898          DE  B08L3TS2RN                    0.002444        13.325091   \n",
       "35011969          DE  B0B7NFL1ZD                    0.002229        13.233336   \n",
       "35011834          DE  B07QN4TPW4                    0.002223        13.230636   \n",
       "\n",
       "          normalized_sasrec_feat_scores  sasrec_feat_scores  \n",
       "35011902                       0.441094           19.765358  \n",
       "35011843                       0.134083           18.574560  \n",
       "35011977                       0.114731           18.418694  \n",
       "35011978                       0.134298           18.576164  \n",
       "35011979                       0.084972           18.118423  \n",
       "35011888                       0.015333           16.406120  \n",
       "35011807                       0.009762           15.954628  \n",
       "35011786                       0.022817           16.803595  \n",
       "35011790                       0.000751           13.389692  \n",
       "35011968                       0.020397           16.691465  \n",
       "35011791                       0.000510           13.002496  \n",
       "35011891                       0.002257           14.490099  \n",
       "35011898                       0.000481           12.944606  \n",
       "35011969                       0.000976           13.651484  \n",
       "35011834                       0.002488           14.587669  "
      ]
     },
     "execution_count": 27,
     "metadata": {},
     "output_type": "execute_result"
    }
   ],
   "source": [
    "# verify scores\n",
    "merged_candidates[merged_candidates['sess_id'] == 150001].sort_values(by=['sasrec_scores_2'], ascending=False)[['sess_locale', 'product', 'normalized_sasrec_scores_2', 'sasrec_scores_2', 'normalized_sasrec_feat_scores', 'sasrec_feat_scores']].iloc[:15]"
   ]
  }
 ],
 "metadata": {
  "kernelspec": {
   "display_name": "torch12",
   "language": "python",
   "name": "python3"
  },
  "language_info": {
   "codemirror_mode": {
    "name": "ipython",
    "version": 3
   },
   "file_extension": ".py",
   "mimetype": "text/x-python",
   "name": "python",
   "nbconvert_exporter": "python",
   "pygments_lexer": "ipython3",
   "version": "3.9.16"
  }
 },
 "nbformat": 4,
 "nbformat_minor": 2
}
