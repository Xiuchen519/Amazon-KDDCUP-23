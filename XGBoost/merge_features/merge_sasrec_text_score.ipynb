{
 "cells": [
  {
   "attachments": {},
   "cell_type": "markdown",
   "metadata": {},
   "source": [
    "use loc[i, field] instead of iloc[i, field], iloc is very slow."
   ]
  },
  {
   "cell_type": "code",
   "execution_count": 2,
   "metadata": {},
   "outputs": [],
   "source": [
    "import sys\n",
    "sys.path = ['/root/autodl-tmp/xiaolong/WorkSpace/Amazon-KDDCUP-23/RecStudio/'] + sys.path\n",
    "import os\n",
    "import random\n",
    "import numpy as np\n",
    "import pandas as pd\n",
    "import cudf, itertools\n",
    "import scipy.sparse as ssp\n",
    "from functools import lru_cache, partial\n",
    "from tqdm import tqdm, trange\n",
    "from collections import Counter, defaultdict\n",
    "import torch\n",
    "import pickle\n"
   ]
  },
  {
   "cell_type": "code",
   "execution_count": 3,
   "metadata": {},
   "outputs": [],
   "source": [
    "merged_candidates_feature_path = '/root/autodl-tmp/xiaolong/WorkSpace/Amazon-KDDCUP-23/XGBoost/candidates/merged_candidates_feature.parquet'\n",
    "valid_sessions_path = '/root/autodl-tmp/xiaolong/WorkSpace/Amazon-KDDCUP-23/data_for_recstudio/task1_data/task13_4_task1_valid_sessions.csv'\n",
    "test_sessions_path = '/root/autodl-tmp/xiaolong/WorkSpace/Amazon-KDDCUP-23/raw_data/sessions_test_task1.csv'"
   ]
  },
  {
   "cell_type": "code",
   "execution_count": 4,
   "metadata": {},
   "outputs": [],
   "source": [
    "@lru_cache(maxsize=1)\n",
    "def read_merged_candidates_feature():\n",
    "    return pd.read_parquet(merged_candidates_feature_path, engine='pyarrow')\n",
    "\n",
    "@lru_cache(maxsize=1)\n",
    "def read_valid_sessions():\n",
    "    return pd.read_csv(valid_sessions_path)\n",
    "\n",
    "@lru_cache(maxsize=1)\n",
    "def read_test_sessions():\n",
    "    return pd.read_csv(test_sessions_path)"
   ]
  },
  {
   "cell_type": "code",
   "execution_count": 5,
   "metadata": {},
   "outputs": [],
   "source": [
    "def cast_dtype(df : pd.DataFrame, columns=None):\n",
    "    if columns is None:\n",
    "        columns = df.columns\n",
    "    for k in columns:\n",
    "        dt = type(df[k].iloc[0])\n",
    "        if 'float' in str(dt):\n",
    "            df[k] = df[k].astype('float32')\n",
    "        elif 'int' in str(dt):\n",
    "            df[k] = df[k].astype('int32')\n",
    "        elif dt == list:\n",
    "            dt_ = type(df.iloc[0][k][0])\n",
    "            if 'float' in str(dt_):\n",
    "                df[k] = df[k].apply(lambda x : np.array(x, dtype=np.float32))\n",
    "            elif 'int' in str(dt_):\n",
    "                df[k] = df[k].apply(lambda x : np.array(x, dtype=np.int32))"
   ]
  },
  {
   "cell_type": "code",
   "execution_count": 6,
   "metadata": {},
   "outputs": [],
   "source": [
    "def _load_cache(path):\n",
    "    with open(path, 'rb') as f:\n",
    "        download_obj = pickle.load(f)\n",
    "    return download_obj"
   ]
  },
  {
   "cell_type": "code",
   "execution_count": 7,
   "metadata": {},
   "outputs": [],
   "source": [
    "def get_scores(merged_candidates_df, query_embeddings, product_embeddings):\n",
    "    batch_size = 5012\n",
    "    num_iter = (len(merged_candidates_df) - 1) // batch_size + 1\n",
    "    score_list = []\n",
    "    with torch.no_grad():\n",
    "        for i in tqdm(range(num_iter)):\n",
    "            st, ed = i * batch_size, (i + 1) * batch_size \n",
    "            batch_sess = merged_candidates_df.iloc[st : ed]\n",
    "            batch_sess_id = torch.tensor(batch_sess['sess_id'].tolist(), dtype=torch.long, device=query_embeddings.device)\n",
    "            batch_product_id = torch.tensor(batch_sess['dataset_id'].tolist(), dtype=torch.long, device=product_embeddings.device)\n",
    "            query_emb = query_embeddings[batch_sess_id].to('cuda:1')\n",
    "            product_emb = product_embeddings[batch_product_id].to('cuda:1')\n",
    "            batch_score = (query_emb * product_emb).sum(dim=-1) \n",
    "            score_list.append(batch_score.cpu())\n",
    "        score_list = torch.cat(score_list, dim=0).cpu().tolist()\n",
    "        return score_list "
   ]
  },
  {
   "cell_type": "code",
   "execution_count": 8,
   "metadata": {},
   "outputs": [],
   "source": [
    "def normalize_scores(score_df, score_name, normalized_score_name):\n",
    "    # score_df_g = cudf.from_pandas(score_df)\n",
    "    score_df['exp_score'] = np.exp(score_df[score_name].to_numpy())\n",
    "    scores_sum = score_df[['sess_id', 'exp_score']].groupby('sess_id').sum()\n",
    "    scores_sum.reset_index(inplace=True)\n",
    "    scores_sum = scores_sum.sort_values(by=['sess_id'], ascending=True)\n",
    "    scores_sum.reset_index(drop=True, inplace=True)\n",
    "    scores_sum.rename(columns={'exp_score' : 'score_sum'}, inplace=True)\n",
    "\n",
    "    merged_score_df = score_df.merge(scores_sum, how='left', left_on=['sess_id'], right_on=['sess_id'])\n",
    "    merged_score_df = merged_score_df.sort_values(by=['sess_id', 'product'])\n",
    "    merged_score_df.reset_index(drop=True, inplace=True)\n",
    "    \n",
    "    # merged_score_df = merged_score_df_g.to_pandas(merged_score_df_g)\n",
    "    score_df[normalized_score_name] = merged_score_df['exp_score'] / merged_score_df['score_sum']\n",
    "    score_df['exp_score'] = merged_score_df['exp_score']\n",
    "    score_df['score_sum'] = merged_score_df['score_sum']\n",
    "\n",
    "    # del scores_sum_g\n",
    "    # del merged_score_df_g "
   ]
  },
  {
   "attachments": {},
   "cell_type": "markdown",
   "metadata": {},
   "source": [
    "# Merge valid score"
   ]
  },
  {
   "cell_type": "code",
   "execution_count": 9,
   "metadata": {},
   "outputs": [],
   "source": [
    "FIELD_NAME = 'sasrec_text_scores'"
   ]
  },
  {
   "cell_type": "code",
   "execution_count": 10,
   "metadata": {},
   "outputs": [],
   "source": [
    "DE_product_embeddings_path = '/root/autodl-tmp/xiaolong/WorkSpace/Amazon-KDDCUP-23/candidates/query_embeddings/SASRec_Next_Text/kdd_cup_2023_DE/product_embeddings_2023-05-27-21-38-21.pt'\n",
    "DE_valid_embeddings_path = '/root/autodl-tmp/xiaolong/WorkSpace/Amazon-KDDCUP-23/candidates/query_embeddings/SASRec_Next_Text/kdd_cup_2023_DE/valid_embeddings_2023-05-27-21-38-29.pt'\n",
    "JP_product_embeddings_path = '/root/autodl-tmp/xiaolong/WorkSpace/Amazon-KDDCUP-23/candidates/query_embeddings/SASRec_Next_Text/kdd_cup_2023_JP/product_embeddings_2023-05-27-21-39-27.pt'\n",
    "JP_valid_embeddings_path = '/root/autodl-tmp/xiaolong/WorkSpace/Amazon-KDDCUP-23/candidates/query_embeddings/SASRec_Next_Text/kdd_cup_2023_JP/valid_embeddings_2023-05-27-21-39-35.pt'\n",
    "UK_product_embeddings_path = '/root/autodl-tmp/xiaolong/WorkSpace/Amazon-KDDCUP-23/candidates/query_embeddings/SASRec_Next_Text/kdd_cup_2023_UK/product_embeddings_2023-05-27-21-40-32.pt'\n",
    "UK_valid_embeddings_path = '/root/autodl-tmp/xiaolong/WorkSpace/Amazon-KDDCUP-23/candidates/query_embeddings/SASRec_Next_Text/kdd_cup_2023_UK/valid_embeddings_2023-05-27-21-40-40.pt'"
   ]
  },
  {
   "cell_type": "code",
   "execution_count": 11,
   "metadata": {},
   "outputs": [],
   "source": [
    "DE_dataset_cache = '/root/autodl-tmp/xiaolong/WorkSpace/Amazon-KDDCUP-23/.recstudio/cache/c76eddf0a07106ffcce7ce8010856a3b'\n",
    "JP_dataset_cache = '/root/autodl-tmp/xiaolong/WorkSpace/Amazon-KDDCUP-23/.recstudio/cache/81a71d0a18766af84b3beab69bf53e69'\n",
    "UK_dataset_cache = '/root/autodl-tmp/xiaolong/WorkSpace/Amazon-KDDCUP-23/.recstudio/cache/250dbc09c30162452e00486051e47756'"
   ]
  },
  {
   "cell_type": "code",
   "execution_count": 12,
   "metadata": {},
   "outputs": [],
   "source": [
    "DE_train_dataset, DE_valid_dataset = _load_cache(DE_dataset_cache)\n",
    "JP_train_dataset, JP_valid_dataset = _load_cache(JP_dataset_cache)\n",
    "UK_train_dataset, UK_valid_dataset = _load_cache(UK_dataset_cache)\n",
    "locale_map = {\n",
    "    'DE' : DE_train_dataset.field2token2idx['product_id'], \n",
    "    'JP' : JP_train_dataset.field2token2idx['product_id'], \n",
    "    'UK' : UK_train_dataset.field2token2idx['product_id']\n",
    "    }"
   ]
  },
  {
   "cell_type": "code",
   "execution_count": 13,
   "metadata": {},
   "outputs": [
    {
     "name": "stderr",
     "output_type": "stream",
     "text": [
      "\n",
      "KeyboardInterrupt\n",
      "\n"
     ]
    }
   ],
   "source": [
    "merged_candidates = read_merged_candidates_feature()\n",
    "valid_sessions = read_valid_sessions()\n",
    "EMBED_DIM = 128\n",
    "merged_candidates.sort_values(by=['sess_id', 'product'], inplace=True)\n",
    "merged_candidates.reset_index(drop=True, inplace=True)"
   ]
  },
  {
   "cell_type": "code",
   "execution_count": 13,
   "metadata": {},
   "outputs": [],
   "source": [
    "# sess embeddings \n",
    "valid_DE_query_emb = torch.load(DE_valid_embeddings_path, map_location='cpu')\n",
    "valid_JP_query_emb = torch.load(JP_valid_embeddings_path, map_location='cpu')\n",
    "valid_UK_query_emb = torch.load(UK_valid_embeddings_path, map_location='cpu')\n",
    "valid_query_embeddings = torch.empty(len(valid_sessions), EMBED_DIM)\n",
    "valid_query_embeddings[(valid_sessions[valid_sessions['locale'] == 'DE'].index).tolist()] = valid_DE_query_emb\n",
    "valid_query_embeddings[(valid_sessions[valid_sessions['locale'] == 'JP'].index).tolist()] = valid_JP_query_emb\n",
    "valid_query_embeddings[(valid_sessions[valid_sessions['locale'] == 'UK'].index).tolist()] = valid_UK_query_emb"
   ]
  },
  {
   "cell_type": "code",
   "execution_count": 14,
   "metadata": {},
   "outputs": [],
   "source": [
    "# product_embeddings \n",
    "DE_product_emb = torch.load(DE_product_embeddings_path, map_location='cpu')\n",
    "JP_product_emb = torch.load(JP_product_embeddings_path, map_location='cpu')\n",
    "UK_product_emb = torch.load(UK_product_embeddings_path, map_location='cpu')\n",
    "product_embeddings = torch.cat([DE_product_emb, JP_product_emb, UK_product_emb], dim=0)"
   ]
  },
  {
   "cell_type": "code",
   "execution_count": 15,
   "metadata": {},
   "outputs": [],
   "source": [
    "merged_candidates_ = merged_candidates[['sess_id', 'sess_locale', 'product']].copy()"
   ]
  },
  {
   "cell_type": "code",
   "execution_count": 16,
   "metadata": {},
   "outputs": [],
   "source": [
    "DE_product_list, DE_id_list = list(zip(*locale_map['DE'].items()))\n",
    "JP_product_list, JP_id_list = list(zip(*locale_map['JP'].items()))\n",
    "UK_product_list, UK_id_list = list(zip(*locale_map['UK'].items()))\n",
    "product_list = list(DE_product_list) + list(JP_product_list) + list(UK_product_list)\n",
    "id_list = list(DE_id_list) + list(JP_id_list) + list(UK_id_list)\n",
    "locale_list = ['DE'] * len(DE_id_list) + ['JP'] * len(JP_id_list) + ['UK'] * len(UK_id_list)\n",
    "product_id_df = pd.DataFrame({'locale' : locale_list, 'product' : product_list, 'dataset_id' : id_list})"
   ]
  },
  {
   "cell_type": "code",
   "execution_count": 17,
   "metadata": {},
   "outputs": [],
   "source": [
    "# merged_candidates_g = cudf.from_pandas(merged_candidates_)\n",
    "# product_id_df_g = cudf.from_pandas(product_id_df)"
   ]
  },
  {
   "cell_type": "code",
   "execution_count": 18,
   "metadata": {},
   "outputs": [],
   "source": [
    "# merged_candidates_score_g = merged_candidates_g.merge(product_id_df_g, how='left', left_on=['sess_locale', 'product'], right_on=['locale', 'product'])\n",
    "# merged_candidates_score_g['dataset_id'] = merged_candidates_score_g['dataset_id'].fillna(0)\n",
    "# merged_candidates_score_g.drop(columns=['locale'], inplace=True)\n",
    "# merged_candidates_score_g = merged_candidates_score_g.sort_values(by=['sess_id', 'product'])\n",
    "# merged_candidates_score_g.reset_index(drop=True, inplace=True)\n",
    "# merged_candidates_score = merged_candidates_score_g.to_pandas()"
   ]
  },
  {
   "cell_type": "code",
   "execution_count": 17,
   "metadata": {},
   "outputs": [],
   "source": [
    "merged_candidates_score = merged_candidates_.merge(product_id_df, how='left', left_on=['sess_locale', 'product'], right_on=['locale', 'product'])\n",
    "merged_candidates_score['dataset_id'] = merged_candidates_score['dataset_id'].fillna(0)\n",
    "merged_candidates_score.drop(columns=['locale'], inplace=True)\n",
    "merged_candidates_score = merged_candidates_score.sort_values(by=['sess_id', 'product'])\n",
    "merged_candidates_score.reset_index(drop=True, inplace=True)\n",
    "assert len(merged_candidates_score) == len(merged_candidates)"
   ]
  },
  {
   "cell_type": "code",
   "execution_count": 19,
   "metadata": {},
   "outputs": [],
   "source": [
    "# del merged_candidates_g\n",
    "# del product_id_df_g\n",
    "# del merged_candidates_score_g"
   ]
  },
  {
   "cell_type": "code",
   "execution_count": 18,
   "metadata": {},
   "outputs": [
    {
     "name": "stderr",
     "output_type": "stream",
     "text": [
      "/tmp/ipykernel_22639/2978421209.py:3: SettingWithCopyWarning: \n",
      "A value is trying to be set on a copy of a slice from a DataFrame\n",
      "\n",
      "See the caveats in the documentation: https://pandas.pydata.org/pandas-docs/stable/user_guide/indexing.html#returning-a-view-versus-a-copy\n",
      "  merged_candidates_score['dataset_id'][merged_candidates_score['sess_locale'] == locale] = \\\n"
     ]
    }
   ],
   "source": [
    "locale_offset = {'DE' : 0, 'JP' : len(DE_product_list), 'UK' : len(DE_product_list) + len(JP_product_list)}\n",
    "for locale in ['DE', 'JP', 'UK']:\n",
    "    merged_candidates_score['dataset_id'][merged_candidates_score['sess_locale'] == locale] = \\\n",
    "        merged_candidates_score['dataset_id'][merged_candidates_score['sess_locale'] == locale] + locale_offset[locale]"
   ]
  },
  {
   "cell_type": "code",
   "execution_count": 23,
   "metadata": {},
   "outputs": [
    {
     "name": "stderr",
     "output_type": "stream",
     "text": [
      "  0%|          | 0/15477 [00:00<?, ?it/s]/tmp/ipykernel_22639/845800388.py:10: DeprecationWarning: an integer is required (got type float).  Implicit conversion to integers using __int__ is deprecated, and may be removed in a future version of Python.\n",
      "  batch_product_id = torch.tensor(batch_sess['dataset_id'].tolist(), dtype=torch.long, device=product_embeddings.device)\n",
      "100%|██████████| 15477/15477 [07:34<00:00, 34.06it/s]\n"
     ]
    }
   ],
   "source": [
    "merged_candidates_score[FIELD_NAME] = get_scores(merged_candidates_score, valid_query_embeddings, product_embeddings)"
   ]
  },
  {
   "cell_type": "code",
   "execution_count": 24,
   "metadata": {},
   "outputs": [],
   "source": [
    "normalize_scores(merged_candidates_score, FIELD_NAME, 'normalized_'+FIELD_NAME)"
   ]
  },
  {
   "cell_type": "code",
   "execution_count": 25,
   "metadata": {},
   "outputs": [],
   "source": [
    "merged_candidates[FIELD_NAME] = merged_candidates_score[FIELD_NAME]\n",
    "merged_candidates['normalized_'+FIELD_NAME] = merged_candidates_score['normalized_'+FIELD_NAME]"
   ]
  },
  {
   "cell_type": "code",
   "execution_count": null,
   "metadata": {},
   "outputs": [],
   "source": [
    "cast_dtype(merged_candidates, [FIELD_NAME, 'normalized_'+FIELD_NAME])\n",
    "merged_candidates.to_parquet(merged_candidates_feature_path, engine='pyarrow')"
   ]
  },
  {
   "cell_type": "code",
   "execution_count": 26,
   "metadata": {},
   "outputs": [
    {
     "data": {
      "text/html": [
       "<div>\n",
       "<style scoped>\n",
       "    .dataframe tbody tr th:only-of-type {\n",
       "        vertical-align: middle;\n",
       "    }\n",
       "\n",
       "    .dataframe tbody tr th {\n",
       "        vertical-align: top;\n",
       "    }\n",
       "\n",
       "    .dataframe thead th {\n",
       "        text-align: right;\n",
       "    }\n",
       "</style>\n",
       "<table border=\"1\" class=\"dataframe\">\n",
       "  <thead>\n",
       "    <tr style=\"text-align: right;\">\n",
       "      <th></th>\n",
       "      <th>sess_locale</th>\n",
       "      <th>product</th>\n",
       "      <th>normalized_sasrec_scores_2</th>\n",
       "      <th>sasrec_scores_2</th>\n",
       "      <th>normalized_sasrec_text_scores</th>\n",
       "      <th>sasrec_text_scores</th>\n",
       "    </tr>\n",
       "  </thead>\n",
       "  <tbody>\n",
       "    <tr>\n",
       "      <th>32177700</th>\n",
       "      <td>DE</td>\n",
       "      <td>B09DG3XQ9S</td>\n",
       "      <td>0.946980</td>\n",
       "      <td>16.056427</td>\n",
       "      <td>0.682614</td>\n",
       "      <td>18.309685</td>\n",
       "    </tr>\n",
       "    <tr>\n",
       "      <th>32177666</th>\n",
       "      <td>DE</td>\n",
       "      <td>B096V5FDL6</td>\n",
       "      <td>0.000684</td>\n",
       "      <td>8.823219</td>\n",
       "      <td>0.034322</td>\n",
       "      <td>15.319540</td>\n",
       "    </tr>\n",
       "    <tr>\n",
       "      <th>32177826</th>\n",
       "      <td>DE</td>\n",
       "      <td>B0B5XP78LK</td>\n",
       "      <td>0.000819</td>\n",
       "      <td>9.003138</td>\n",
       "      <td>0.027916</td>\n",
       "      <td>15.112941</td>\n",
       "    </tr>\n",
       "    <tr>\n",
       "      <th>32177870</th>\n",
       "      <td>DE</td>\n",
       "      <td>B0BFPP8SS2</td>\n",
       "      <td>0.000324</td>\n",
       "      <td>8.075928</td>\n",
       "      <td>0.015638</td>\n",
       "      <td>14.533487</td>\n",
       "    </tr>\n",
       "    <tr>\n",
       "      <th>32177839</th>\n",
       "      <td>DE</td>\n",
       "      <td>B0B933SL1G</td>\n",
       "      <td>0.005046</td>\n",
       "      <td>10.821793</td>\n",
       "      <td>0.014762</td>\n",
       "      <td>14.475786</td>\n",
       "    </tr>\n",
       "    <tr>\n",
       "      <th>32177769</th>\n",
       "      <td>DE</td>\n",
       "      <td>B09WHLPMM7</td>\n",
       "      <td>0.000415</td>\n",
       "      <td>8.323388</td>\n",
       "      <td>0.013418</td>\n",
       "      <td>14.380346</td>\n",
       "    </tr>\n",
       "    <tr>\n",
       "      <th>32177823</th>\n",
       "      <td>DE</td>\n",
       "      <td>B0B5XFBHDY</td>\n",
       "      <td>0.000772</td>\n",
       "      <td>8.944536</td>\n",
       "      <td>0.011658</td>\n",
       "      <td>14.239765</td>\n",
       "    </tr>\n",
       "    <tr>\n",
       "      <th>32177860</th>\n",
       "      <td>DE</td>\n",
       "      <td>B0BDHTC2S2</td>\n",
       "      <td>0.000603</td>\n",
       "      <td>8.696861</td>\n",
       "      <td>0.011643</td>\n",
       "      <td>14.238474</td>\n",
       "    </tr>\n",
       "    <tr>\n",
       "      <th>32177751</th>\n",
       "      <td>DE</td>\n",
       "      <td>B09QY7CJVZ</td>\n",
       "      <td>0.000109</td>\n",
       "      <td>6.989179</td>\n",
       "      <td>0.010195</td>\n",
       "      <td>14.105615</td>\n",
       "    </tr>\n",
       "    <tr>\n",
       "      <th>32177868</th>\n",
       "      <td>DE</td>\n",
       "      <td>B0BFPLYK2W</td>\n",
       "      <td>0.000081</td>\n",
       "      <td>6.695210</td>\n",
       "      <td>0.007572</td>\n",
       "      <td>13.808187</td>\n",
       "    </tr>\n",
       "    <tr>\n",
       "      <th>32177668</th>\n",
       "      <td>DE</td>\n",
       "      <td>B096YPT73M</td>\n",
       "      <td>0.000071</td>\n",
       "      <td>6.563185</td>\n",
       "      <td>0.007202</td>\n",
       "      <td>13.758051</td>\n",
       "    </tr>\n",
       "    <tr>\n",
       "      <th>32177784</th>\n",
       "      <td>DE</td>\n",
       "      <td>B09Z5XBLM7</td>\n",
       "      <td>0.000384</td>\n",
       "      <td>8.244928</td>\n",
       "      <td>0.005798</td>\n",
       "      <td>13.541336</td>\n",
       "    </tr>\n",
       "    <tr>\n",
       "      <th>32177862</th>\n",
       "      <td>DE</td>\n",
       "      <td>B0BDJ9PJXQ</td>\n",
       "      <td>0.001853</td>\n",
       "      <td>9.819963</td>\n",
       "      <td>0.005288</td>\n",
       "      <td>13.449219</td>\n",
       "    </tr>\n",
       "    <tr>\n",
       "      <th>32177785</th>\n",
       "      <td>DE</td>\n",
       "      <td>B09Z6D19ZD</td>\n",
       "      <td>0.000369</td>\n",
       "      <td>8.205532</td>\n",
       "      <td>0.005085</td>\n",
       "      <td>13.410015</td>\n",
       "    </tr>\n",
       "    <tr>\n",
       "      <th>32177822</th>\n",
       "      <td>DE</td>\n",
       "      <td>B0B5XDTQ8Z</td>\n",
       "      <td>0.000792</td>\n",
       "      <td>8.969559</td>\n",
       "      <td>0.004818</td>\n",
       "      <td>13.356080</td>\n",
       "    </tr>\n",
       "  </tbody>\n",
       "</table>\n",
       "</div>"
      ],
      "text/plain": [
       "         sess_locale     product  normalized_sasrec_scores_2  sasrec_scores_2  \\\n",
       "32177700          DE  B09DG3XQ9S                    0.946980        16.056427   \n",
       "32177666          DE  B096V5FDL6                    0.000684         8.823219   \n",
       "32177826          DE  B0B5XP78LK                    0.000819         9.003138   \n",
       "32177870          DE  B0BFPP8SS2                    0.000324         8.075928   \n",
       "32177839          DE  B0B933SL1G                    0.005046        10.821793   \n",
       "32177769          DE  B09WHLPMM7                    0.000415         8.323388   \n",
       "32177823          DE  B0B5XFBHDY                    0.000772         8.944536   \n",
       "32177860          DE  B0BDHTC2S2                    0.000603         8.696861   \n",
       "32177751          DE  B09QY7CJVZ                    0.000109         6.989179   \n",
       "32177868          DE  B0BFPLYK2W                    0.000081         6.695210   \n",
       "32177668          DE  B096YPT73M                    0.000071         6.563185   \n",
       "32177784          DE  B09Z5XBLM7                    0.000384         8.244928   \n",
       "32177862          DE  B0BDJ9PJXQ                    0.001853         9.819963   \n",
       "32177785          DE  B09Z6D19ZD                    0.000369         8.205532   \n",
       "32177822          DE  B0B5XDTQ8Z                    0.000792         8.969559   \n",
       "\n",
       "          normalized_sasrec_text_scores  sasrec_text_scores  \n",
       "32177700                       0.682614           18.309685  \n",
       "32177666                       0.034322           15.319540  \n",
       "32177826                       0.027916           15.112941  \n",
       "32177870                       0.015638           14.533487  \n",
       "32177839                       0.014762           14.475786  \n",
       "32177769                       0.013418           14.380346  \n",
       "32177823                       0.011658           14.239765  \n",
       "32177860                       0.011643           14.238474  \n",
       "32177751                       0.010195           14.105615  \n",
       "32177868                       0.007572           13.808187  \n",
       "32177668                       0.007202           13.758051  \n",
       "32177784                       0.005798           13.541336  \n",
       "32177862                       0.005288           13.449219  \n",
       "32177785                       0.005085           13.410015  \n",
       "32177822                       0.004818           13.356080  "
      ]
     },
     "execution_count": 26,
     "metadata": {},
     "output_type": "execute_result"
    }
   ],
   "source": [
    "# verify scores\n",
    "merged_candidates[merged_candidates['sess_id'] == 150051].sort_values(by=[FIELD_NAME], ascending=False)[['sess_locale', 'product', 'normalized_sasrec_scores_2', 'sasrec_scores_2', 'normalized_'+FIELD_NAME, FIELD_NAME]].iloc[:15]"
   ]
  },
  {
   "cell_type": "code",
   "execution_count": null,
   "metadata": {},
   "outputs": [],
   "source": []
  }
 ],
 "metadata": {
  "kernelspec": {
   "display_name": "torch12",
   "language": "python",
   "name": "python3"
  },
  "language_info": {
   "codemirror_mode": {
    "name": "ipython",
    "version": 3
   },
   "file_extension": ".py",
   "mimetype": "text/x-python",
   "name": "python",
   "nbconvert_exporter": "python",
   "pygments_lexer": "ipython3",
   "version": "3.9.15"
  },
  "orig_nbformat": 4
 },
 "nbformat": 4,
 "nbformat_minor": 2
}
