{
 "cells": [
  {
   "attachments": {},
   "cell_type": "markdown",
   "metadata": {},
   "source": [
    "use loc[i, field] instead of iloc[i, field], iloc is very slow."
   ]
  },
  {
   "cell_type": "code",
   "execution_count": 1,
   "metadata": {
    "execution": {
     "iopub.execute_input": "2023-06-06T11:47:56.924712Z",
     "iopub.status.busy": "2023-06-06T11:47:56.924290Z",
     "iopub.status.idle": "2023-06-06T11:48:01.758524Z",
     "shell.execute_reply": "2023-06-06T11:48:01.757391Z"
    }
   },
   "outputs": [],
   "source": [
    "import sys\n",
    "sys.path = ['/root/autodl-tmp/xiaolong/WorkSpace/Amazon-KDDCUP-23/RecStudio/'] + sys.path\n",
    "import random\n",
    "import numpy as np\n",
    "import pandas as pd\n",
    "import cudf, itertools\n",
    "import scipy.sparse as ssp\n",
    "from functools import lru_cache, partial\n",
    "from tqdm import tqdm, trange\n",
    "from collections import Counter, defaultdict\n",
    "import torch\n",
    "import pickle"
   ]
  },
  {
   "cell_type": "code",
   "execution_count": 2,
   "metadata": {
    "execution": {
     "iopub.execute_input": "2023-06-06T11:48:01.770974Z",
     "iopub.status.busy": "2023-06-06T11:48:01.769462Z",
     "iopub.status.idle": "2023-06-06T11:48:01.783503Z",
     "shell.execute_reply": "2023-06-06T11:48:01.782230Z"
    }
   },
   "outputs": [],
   "source": [
    "def cast_dtype(df : pd.DataFrame, columns=None):\n",
    "    if columns is None:\n",
    "        columns = df.columns\n",
    "    for k in columns:\n",
    "        dt = type(df[k].iloc[0])\n",
    "        if 'float' in str(dt):\n",
    "            df[k] = df[k].astype('float32')\n",
    "        elif 'int' in str(dt):\n",
    "            df[k] = df[k].astype('int32')\n",
    "        elif dt == list:\n",
    "            dt_ = type(df.iloc[0][k][0])\n",
    "            if 'float' in str(dt_):\n",
    "                df[k] = df[k].apply(lambda x : np.array(x, dtype=np.float32))\n",
    "            elif 'int' in str(dt_):\n",
    "                df[k] = df[k].apply(lambda x : np.array(x, dtype=np.int32))"
   ]
  },
  {
   "cell_type": "code",
   "execution_count": 3,
   "metadata": {
    "execution": {
     "iopub.execute_input": "2023-06-06T11:48:01.800840Z",
     "iopub.status.busy": "2023-06-06T11:48:01.800299Z",
     "iopub.status.idle": "2023-06-06T11:48:01.806949Z",
     "shell.execute_reply": "2023-06-06T11:48:01.805859Z"
    }
   },
   "outputs": [],
   "source": [
    "def _load_cache(path):\n",
    "    with open(path, 'rb') as f:\n",
    "        download_obj = pickle.load(f)\n",
    "    return download_obj"
   ]
  },
  {
   "cell_type": "code",
   "execution_count": 4,
   "metadata": {
    "execution": {
     "iopub.execute_input": "2023-06-06T11:48:01.816304Z",
     "iopub.status.busy": "2023-06-06T11:48:01.815484Z",
     "iopub.status.idle": "2023-06-06T11:48:01.829047Z",
     "shell.execute_reply": "2023-06-06T11:48:01.827867Z"
    }
   },
   "outputs": [],
   "source": [
    "def get_scores(merged_candidates_df, query_embeddings, product_embeddings):\n",
    "    batch_size = 10000\n",
    "    num_iter = (len(merged_candidates_df) - 1) // batch_size + 1\n",
    "    score_list = []\n",
    "    with torch.no_grad():\n",
    "        for i in tqdm(range(num_iter)):\n",
    "            st, ed = i * batch_size, (i + 1) * batch_size \n",
    "            batch_sess = merged_candidates_df.iloc[st : ed]\n",
    "            batch_sess_id = torch.tensor(batch_sess['sess_id'].tolist(), dtype=torch.long, device=query_embeddings.device)\n",
    "            batch_product_id = torch.tensor(batch_sess['dataset_id'].tolist(), dtype=torch.long, device=product_embeddings.device)\n",
    "            query_emb = query_embeddings[batch_sess_id]\n",
    "            product_emb = product_embeddings[batch_product_id]\n",
    "            batch_score = (query_emb * product_emb).sum(dim=-1) \n",
    "            score_list.append(batch_score.cpu())\n",
    "        score_list = torch.cat(score_list, dim=0).cpu().tolist()\n",
    "        return score_list "
   ]
  },
  {
   "cell_type": "code",
   "execution_count": 5,
   "metadata": {
    "execution": {
     "iopub.execute_input": "2023-06-06T11:48:01.835952Z",
     "iopub.status.busy": "2023-06-06T11:48:01.835391Z",
     "iopub.status.idle": "2023-06-06T11:48:01.844037Z",
     "shell.execute_reply": "2023-06-06T11:48:01.843465Z"
    }
   },
   "outputs": [],
   "source": [
    "def normalize_scores(score_df, score_name, normalized_score_name):\n",
    "    # score_df_g = cudf.from_pandas(score_df)\n",
    "    score_df['exp_score'] = np.exp(score_df[score_name].to_numpy())\n",
    "    scores_sum = score_df[['sess_id', 'exp_score']].groupby('sess_id').sum()\n",
    "    scores_sum.reset_index(inplace=True)\n",
    "    scores_sum = scores_sum.sort_values(by=['sess_id'], ascending=True)\n",
    "    scores_sum.reset_index(drop=True, inplace=True)\n",
    "    scores_sum.rename(columns={'exp_score' : 'score_sum'}, inplace=True)\n",
    "\n",
    "    merged_score_df = score_df.merge(scores_sum, how='left', left_on=['sess_id'], right_on=['sess_id'])\n",
    "    merged_score_df = merged_score_df.sort_values(by=['sess_id', 'product'])\n",
    "    merged_score_df.reset_index(drop=True, inplace=True)\n",
    "    \n",
    "    # merged_score_df = merged_score_df_g.to_pandas(merged_score_df_g)\n",
    "    score_df[normalized_score_name] = merged_score_df['exp_score'] / merged_score_df['score_sum']\n",
    "    score_df['exp_score'] = merged_score_df['exp_score']\n",
    "    score_df['score_sum'] = merged_score_df['score_sum']\n",
    "\n",
    "    # del scores_sum_g\n",
    "    # del merged_score_df_g "
   ]
  },
  {
   "attachments": {},
   "cell_type": "markdown",
   "metadata": {},
   "source": [
    "# Merge valid score"
   ]
  },
  {
   "cell_type": "code",
   "execution_count": 6,
   "metadata": {
    "execution": {
     "iopub.execute_input": "2023-06-06T11:48:01.847893Z",
     "iopub.status.busy": "2023-06-06T11:48:01.847577Z",
     "iopub.status.idle": "2023-06-06T11:48:01.851028Z",
     "shell.execute_reply": "2023-06-06T11:48:01.850499Z"
    }
   },
   "outputs": [],
   "source": [
    "merged_candidates_feature_path = '/root/autodl-tmp/xiaolong/WorkSpace/Amazon-KDDCUP-23/XGBoost/candidates_phase2/merged_candidates_150_feature.parquet'\n",
    "valid_sessions_path = '/root/autodl-tmp/xiaolong/WorkSpace/Amazon-KDDCUP-23/data_for_recstudio/task1_data/task13_4_task1_valid_sessions_phase2.csv'\n",
    "test_sessions_path = '/root/autodl-tmp/xiaolong/WorkSpace/Amazon-KDDCUP-23/raw_data/sessions_test_task1_phase2.csv'"
   ]
  },
  {
   "cell_type": "code",
   "execution_count": 7,
   "metadata": {
    "execution": {
     "iopub.execute_input": "2023-06-06T11:48:01.854657Z",
     "iopub.status.busy": "2023-06-06T11:48:01.854091Z",
     "iopub.status.idle": "2023-06-06T11:48:01.859305Z",
     "shell.execute_reply": "2023-06-06T11:48:01.858703Z"
    }
   },
   "outputs": [],
   "source": [
    "@lru_cache(maxsize=1)\n",
    "def read_merged_candidates_feature():\n",
    "    return pd.read_parquet(merged_candidates_feature_path, engine='pyarrow')\n",
    "\n",
    "@lru_cache(maxsize=1)\n",
    "def read_valid_sessions():\n",
    "    return pd.read_csv(valid_sessions_path)\n",
    "\n",
    "@lru_cache(maxsize=1)\n",
    "def read_test_sessions():\n",
    "    return pd.read_csv(test_sessions_path)"
   ]
  },
  {
   "cell_type": "code",
   "execution_count": 10,
   "metadata": {
    "execution": {
     "iopub.execute_input": "2023-06-06T11:48:01.862397Z",
     "iopub.status.busy": "2023-06-06T11:48:01.862060Z",
     "iopub.status.idle": "2023-06-06T11:48:01.865652Z",
     "shell.execute_reply": "2023-06-06T11:48:01.865028Z"
    }
   },
   "outputs": [],
   "source": [
    "FIELD_NAME = 'title_bert_scores'"
   ]
  },
  {
   "cell_type": "code",
   "execution_count": 9,
   "metadata": {
    "execution": {
     "iopub.execute_input": "2023-06-06T11:48:01.868705Z",
     "iopub.status.busy": "2023-06-06T11:48:01.868421Z",
     "iopub.status.idle": "2023-06-06T11:48:01.873275Z",
     "shell.execute_reply": "2023-06-06T11:48:01.872357Z"
    }
   },
   "outputs": [],
   "source": [
    "DE_product_embeddings_path = '/root/autodl-tmp/xiaolong/WorkSpace/Amazon-KDDCUP-23/text_method/phase2_task1_bert_title_results_DE/results/item_reps/reordered_item.npy'\n",
    "DE_valid_embeddings_path = '/root/autodl-tmp/xiaolong/WorkSpace/Amazon-KDDCUP-23/text_method/phase2_task1_bert_title_results_DE/valid_results/valid_query_reps/query.npy'\n",
    "JP_product_embeddings_path = '/root/autodl-tmp/xiaolong/WorkSpace/Amazon-KDDCUP-23/text_method/phase2_task1_bert_title_results_JP/results/item_reps/reordered_item.npy'\n",
    "JP_valid_embeddings_path = '/root/autodl-tmp/xiaolong/WorkSpace/Amazon-KDDCUP-23/text_method/phase2_task1_bert_title_results_JP/valid_results/valid_query_reps/query.npy'\n",
    "UK_product_embeddings_path = '/root/autodl-tmp/xiaolong/WorkSpace/Amazon-KDDCUP-23/text_method/phase2_task1_roberta_title_results_UK/results/item_reps/reordered_item.npy'\n",
    "UK_valid_embeddings_path = '/root/autodl-tmp/xiaolong/WorkSpace/Amazon-KDDCUP-23/text_method/phase2_task1_roberta_title_results_UK/valid_results/valid_query_reps/query.npy'"
   ]
  },
  {
   "cell_type": "code",
   "execution_count": 10,
   "metadata": {
    "execution": {
     "iopub.execute_input": "2023-06-06T11:48:01.884355Z",
     "iopub.status.busy": "2023-06-06T11:48:01.883755Z",
     "iopub.status.idle": "2023-06-06T11:48:01.888264Z",
     "shell.execute_reply": "2023-06-06T11:48:01.887667Z"
    }
   },
   "outputs": [],
   "source": [
    "DE_dataset_cache = '/root/autodl-tmp/xiaolong/WorkSpace/Amazon-KDDCUP-23/.recstudio/cache/87c62409540df6ccca9d90ab244af0e5'\n",
    "JP_dataset_cache = '/root/autodl-tmp/xiaolong/WorkSpace/Amazon-KDDCUP-23/.recstudio/cache/d296613e4d5aa97bebf6c4b114f02d89'\n",
    "UK_dataset_cache = '/root/autodl-tmp/xiaolong/WorkSpace/Amazon-KDDCUP-23/.recstudio/cache/d3540d1aadb28b19da92e77c7cf0f7e2'"
   ]
  },
  {
   "cell_type": "code",
   "execution_count": 11,
   "metadata": {
    "execution": {
     "iopub.execute_input": "2023-06-06T11:48:01.892285Z",
     "iopub.status.busy": "2023-06-06T11:48:01.891987Z",
     "iopub.status.idle": "2023-06-06T11:48:09.682149Z",
     "shell.execute_reply": "2023-06-06T11:48:09.680963Z"
    }
   },
   "outputs": [],
   "source": [
    "DE_train_dataset, DE_valid_dataset = _load_cache(DE_dataset_cache)\n",
    "JP_train_dataset, JP_valid_dataset = _load_cache(JP_dataset_cache)\n",
    "UK_train_dataset, UK_valid_dataset = _load_cache(UK_dataset_cache)\n",
    "locale_map = {\n",
    "    'DE' : DE_train_dataset.field2token2idx['product_id'], \n",
    "    'JP' : JP_train_dataset.field2token2idx['product_id'], \n",
    "    'UK' : UK_train_dataset.field2token2idx['product_id']\n",
    "    }"
   ]
  },
  {
   "cell_type": "code",
   "execution_count": 8,
   "metadata": {
    "execution": {
     "iopub.execute_input": "2023-06-06T11:48:09.689058Z",
     "iopub.status.busy": "2023-06-06T11:48:09.687877Z",
     "iopub.status.idle": "2023-06-06T11:51:42.670043Z",
     "shell.execute_reply": "2023-06-06T11:51:42.667358Z"
    }
   },
   "outputs": [],
   "source": [
    "merged_candidates = read_merged_candidates_feature()\n",
    "valid_sessions = read_valid_sessions()\n",
    "EMBED_DIM = 768\n",
    "merged_candidates.sort_values(by=['sess_id', 'product'], inplace=True)\n",
    "merged_candidates.reset_index(drop=True, inplace=True)"
   ]
  },
  {
   "cell_type": "code",
   "execution_count": 13,
   "metadata": {
    "execution": {
     "iopub.execute_input": "2023-06-06T11:51:42.693005Z",
     "iopub.status.busy": "2023-06-06T11:51:42.692473Z",
     "iopub.status.idle": "2023-06-06T11:51:44.239170Z",
     "shell.execute_reply": "2023-06-06T11:51:44.238513Z"
    }
   },
   "outputs": [],
   "source": [
    "# sess embeddings \n",
    "valid_DE_query_emb = torch.from_numpy(np.load(DE_valid_embeddings_path)) \n",
    "valid_JP_query_emb = torch.from_numpy(np.load(JP_valid_embeddings_path))\n",
    "valid_UK_query_emb = torch.from_numpy(np.load(UK_valid_embeddings_path))\n",
    "valid_query_embeddings = torch.empty(len(valid_sessions), EMBED_DIM)\n",
    "valid_query_embeddings[(valid_sessions[valid_sessions['locale'] == 'DE'].index).tolist()] = valid_DE_query_emb\n",
    "valid_query_embeddings[(valid_sessions[valid_sessions['locale'] == 'JP'].index).tolist()] = valid_JP_query_emb\n",
    "valid_query_embeddings[(valid_sessions[valid_sessions['locale'] == 'UK'].index).tolist()] = valid_UK_query_emb"
   ]
  },
  {
   "cell_type": "code",
   "execution_count": 14,
   "metadata": {
    "execution": {
     "iopub.execute_input": "2023-06-06T11:51:44.245592Z",
     "iopub.status.busy": "2023-06-06T11:51:44.243370Z",
     "iopub.status.idle": "2023-06-06T11:51:44.289536Z",
     "shell.execute_reply": "2023-06-06T11:51:44.288644Z"
    }
   },
   "outputs": [
    {
     "data": {
      "text/plain": [
       "(tensor([[-0.3068, -0.1536, -0.1808,  ...,  0.0290,  0.2173, -0.3839],\n",
       "         [ 0.1686,  0.2973,  0.0846,  ..., -0.0785,  0.1833, -0.0888],\n",
       "         [-0.0688,  0.2372, -0.1395,  ...,  0.0942,  0.2405, -0.2518],\n",
       "         ...,\n",
       "         [ 0.0506,  0.2156, -0.2450,  ..., -0.2550,  0.5810,  0.1119],\n",
       "         [ 0.2178,  0.2354, -0.1033,  ...,  0.0651,  0.3374,  0.0170],\n",
       "         [ 0.2207,  0.3106, -0.1534,  ..., -0.0553,  0.4170,  0.1376]]),\n",
       " torch.Size([261816, 768]))"
      ]
     },
     "execution_count": 14,
     "metadata": {},
     "output_type": "execute_result"
    }
   ],
   "source": [
    "valid_query_embeddings, valid_query_embeddings.shape"
   ]
  },
  {
   "cell_type": "code",
   "execution_count": 15,
   "metadata": {
    "execution": {
     "iopub.execute_input": "2023-06-06T11:51:44.397775Z",
     "iopub.status.busy": "2023-06-06T11:51:44.397259Z",
     "iopub.status.idle": "2023-06-06T11:51:55.659653Z",
     "shell.execute_reply": "2023-06-06T11:51:55.658923Z"
    }
   },
   "outputs": [],
   "source": [
    "# product_embeddings, the embeddings include padding embedding\n",
    "DE_product_emb = torch.from_numpy(np.load(DE_product_embeddings_path)).type(torch.float)\n",
    "JP_product_emb = torch.from_numpy(np.load(JP_product_embeddings_path)).type(torch.float)\n",
    "UK_product_emb = torch.from_numpy(np.load(UK_product_embeddings_path)).type(torch.float)\n",
    "product_embeddings = torch.cat([DE_product_emb, JP_product_emb, UK_product_emb], dim=0)"
   ]
  },
  {
   "cell_type": "code",
   "execution_count": 16,
   "metadata": {
    "execution": {
     "iopub.execute_input": "2023-06-06T11:51:55.664479Z",
     "iopub.status.busy": "2023-06-06T11:51:55.663967Z",
     "iopub.status.idle": "2023-06-06T11:51:55.671374Z",
     "shell.execute_reply": "2023-06-06T11:51:55.670866Z"
    }
   },
   "outputs": [
    {
     "data": {
      "text/plain": [
       "tensor([[ 0.0000,  0.0000,  0.0000,  ...,  0.0000,  0.0000,  0.0000],\n",
       "        [-0.1786,  0.1092,  0.1171,  ...,  0.1083, -0.2798,  0.0563],\n",
       "        [ 0.1745, -0.1096,  0.2095,  ..., -0.2003,  0.0631, -0.1278],\n",
       "        ...,\n",
       "        [ 0.3762,  0.6142, -0.1706,  ...,  0.3378,  0.2007, -0.5260],\n",
       "        [-0.2694, -0.1877,  0.5673,  ...,  0.1234, -0.2152, -0.2062],\n",
       "        [-0.1591,  0.6152,  0.1678,  ...,  0.2960, -0.5903, -0.2701]])"
      ]
     },
     "execution_count": 16,
     "metadata": {},
     "output_type": "execute_result"
    }
   ],
   "source": [
    "DE_product_emb"
   ]
  },
  {
   "cell_type": "code",
   "execution_count": 17,
   "metadata": {
    "execution": {
     "iopub.execute_input": "2023-06-06T11:51:55.675268Z",
     "iopub.status.busy": "2023-06-06T11:51:55.674834Z",
     "iopub.status.idle": "2023-06-06T11:52:06.811686Z",
     "shell.execute_reply": "2023-06-06T11:52:06.810541Z"
    }
   },
   "outputs": [],
   "source": [
    "merged_candidates_ = merged_candidates[['sess_id', 'sess_locale', 'product']].copy()"
   ]
  },
  {
   "cell_type": "code",
   "execution_count": 18,
   "metadata": {
    "execution": {
     "iopub.execute_input": "2023-06-06T11:52:06.818866Z",
     "iopub.status.busy": "2023-06-06T11:52:06.818135Z",
     "iopub.status.idle": "2023-06-06T11:52:10.574102Z",
     "shell.execute_reply": "2023-06-06T11:52:10.572917Z"
    }
   },
   "outputs": [],
   "source": [
    "DE_product_list, DE_id_list = list(zip(*locale_map['DE'].items()))\n",
    "JP_product_list, JP_id_list = list(zip(*locale_map['JP'].items()))\n",
    "UK_product_list, UK_id_list = list(zip(*locale_map['UK'].items()))\n",
    "product_list = list(DE_product_list) + list(JP_product_list) + list(UK_product_list)\n",
    "id_list = list(DE_id_list) + list(JP_id_list) + list(UK_id_list)\n",
    "locale_list = ['DE'] * len(DE_id_list) + ['JP'] * len(JP_id_list) + ['UK'] * len(UK_id_list)\n",
    "product_id_df = pd.DataFrame({'locale' : locale_list, 'product' : product_list, 'dataset_id' : id_list})"
   ]
  },
  {
   "cell_type": "code",
   "execution_count": 19,
   "metadata": {
    "execution": {
     "iopub.execute_input": "2023-06-06T11:52:10.581258Z",
     "iopub.status.busy": "2023-06-06T11:52:10.580776Z",
     "iopub.status.idle": "2023-06-06T11:52:10.589870Z",
     "shell.execute_reply": "2023-06-06T11:52:10.588807Z"
    }
   },
   "outputs": [],
   "source": [
    "# merged_candidates_g = cudf.from_pandas(merged_candidates_)\n",
    "# product_id_df_g = cudf.from_pandas(product_id_df)"
   ]
  },
  {
   "cell_type": "code",
   "execution_count": 20,
   "metadata": {
    "execution": {
     "iopub.execute_input": "2023-06-06T11:52:10.603988Z",
     "iopub.status.busy": "2023-06-06T11:52:10.603229Z",
     "iopub.status.idle": "2023-06-06T11:52:10.616570Z",
     "shell.execute_reply": "2023-06-06T11:52:10.615338Z"
    }
   },
   "outputs": [],
   "source": [
    "# merged_candidates_score_g = merged_candidates_g.merge(product_id_df_g, how='left', left_on=['sess_locale', 'product'], right_on=['locale', 'product'])\n",
    "# merged_candidates_score_g['dataset_id'] = merged_candidates_score_g['dataset_id'].fillna(0)\n",
    "# merged_candidates_score_g.drop(columns=['locale'], inplace=True)\n",
    "# merged_candidates_score_g = merged_candidates_score_g.sort_values(by=['sess_id', 'product'])\n",
    "# merged_candidates_score_g.reset_index(drop=True, inplace=True)\n",
    "# merged_candidates_score = merged_candidates_score_g.to_pandas()"
   ]
  },
  {
   "cell_type": "code",
   "execution_count": 21,
   "metadata": {
    "execution": {
     "iopub.execute_input": "2023-06-06T11:52:10.621839Z",
     "iopub.status.busy": "2023-06-06T11:52:10.621384Z",
     "iopub.status.idle": "2023-06-06T11:55:50.544639Z",
     "shell.execute_reply": "2023-06-06T11:55:50.543283Z"
    }
   },
   "outputs": [],
   "source": [
    "merged_candidates_score = merged_candidates_.merge(product_id_df, how='left', left_on=['sess_locale', 'product'], right_on=['locale', 'product'])\n",
    "merged_candidates_score['dataset_id'] = merged_candidates_score['dataset_id'].fillna(0)\n",
    "merged_candidates_score.drop(columns=['locale'], inplace=True)\n",
    "merged_candidates_score = merged_candidates_score.sort_values(by=['sess_id', 'product'])\n",
    "merged_candidates_score.reset_index(drop=True, inplace=True)\n",
    "assert len(merged_candidates_score) == len(merged_candidates)"
   ]
  },
  {
   "cell_type": "code",
   "execution_count": 22,
   "metadata": {
    "execution": {
     "iopub.execute_input": "2023-06-06T11:55:50.550221Z",
     "iopub.status.busy": "2023-06-06T11:55:50.549567Z",
     "iopub.status.idle": "2023-06-06T11:55:50.566528Z",
     "shell.execute_reply": "2023-06-06T11:55:50.565424Z"
    }
   },
   "outputs": [],
   "source": [
    "# del merged_candidates_g\n",
    "# del product_id_df_g\n",
    "# del merged_candidates_score_g"
   ]
  },
  {
   "cell_type": "code",
   "execution_count": 23,
   "metadata": {
    "execution": {
     "iopub.execute_input": "2023-06-06T11:55:50.572902Z",
     "iopub.status.busy": "2023-06-06T11:55:50.572388Z",
     "iopub.status.idle": "2023-06-06T11:57:06.608647Z",
     "shell.execute_reply": "2023-06-06T11:57:06.601408Z"
    }
   },
   "outputs": [
    {
     "name": "stderr",
     "output_type": "stream",
     "text": [
      "/tmp/ipykernel_83434/2978421209.py:3: SettingWithCopyWarning: \n",
      "A value is trying to be set on a copy of a slice from a DataFrame\n",
      "\n",
      "See the caveats in the documentation: https://pandas.pydata.org/pandas-docs/stable/user_guide/indexing.html#returning-a-view-versus-a-copy\n",
      "  merged_candidates_score['dataset_id'][merged_candidates_score['sess_locale'] == locale] = \\\n"
     ]
    }
   ],
   "source": [
    "locale_offset = {'DE' : 0, 'JP' : len(DE_product_list), 'UK' : len(DE_product_list) + len(JP_product_list)}\n",
    "for locale in ['DE', 'JP', 'UK']:\n",
    "    merged_candidates_score['dataset_id'][merged_candidates_score['sess_locale'] == locale] = \\\n",
    "        merged_candidates_score['dataset_id'][merged_candidates_score['sess_locale'] == locale] + locale_offset[locale]"
   ]
  },
  {
   "cell_type": "code",
   "execution_count": 24,
   "metadata": {
    "execution": {
     "iopub.execute_input": "2023-06-06T11:57:06.616987Z",
     "iopub.status.busy": "2023-06-06T11:57:06.614420Z",
     "iopub.status.idle": "2023-06-06T11:57:16.761509Z",
     "shell.execute_reply": "2023-06-06T11:57:16.760246Z"
    }
   },
   "outputs": [],
   "source": [
    "valid_query_embeddings = valid_query_embeddings.to('cuda:7')\n",
    "product_embeddings = product_embeddings.to('cuda:7')"
   ]
  },
  {
   "cell_type": "code",
   "execution_count": 25,
   "metadata": {
    "execution": {
     "iopub.execute_input": "2023-06-06T11:57:16.768196Z",
     "iopub.status.busy": "2023-06-06T11:57:16.767552Z",
     "iopub.status.idle": "2023-06-06T11:57:16.801942Z",
     "shell.execute_reply": "2023-06-06T11:57:16.800903Z"
    }
   },
   "outputs": [],
   "source": [
    "# using cosine scores \n",
    "normalized_valid_query_embeddings = torch.nn.functional.normalize(valid_query_embeddings, p=2, dim=-1)\n",
    "normalized_product_embeddings = torch.nn.functional.normalize(product_embeddings, p=2, dim=-1)\n",
    "normalized_product_embeddings = normalized_product_embeddings.type(torch.float)"
   ]
  },
  {
   "cell_type": "code",
   "execution_count": 26,
   "metadata": {
    "execution": {
     "iopub.execute_input": "2023-06-06T11:57:16.809220Z",
     "iopub.status.busy": "2023-06-06T11:57:16.808528Z",
     "iopub.status.idle": "2023-06-06T11:59:44.159721Z",
     "shell.execute_reply": "2023-06-06T11:59:44.158484Z"
    }
   },
   "outputs": [
    {
     "name": "stderr",
     "output_type": "stream",
     "text": [
      "  0%|                                                                                                                                                   | 0/7885 [00:00<?, ?it/s]/tmp/ipykernel_83434/2884036331.py:10: DeprecationWarning: an integer is required (got type float).  Implicit conversion to integers using __int__ is deprecated, and may be removed in a future version of Python.\n",
      "  batch_product_id = torch.tensor(batch_sess['dataset_id'].tolist(), dtype=torch.long, device=product_embeddings.device)\n",
      "100%|████████████████████████████████████████████████████████████████████████████████████████████████████████████████████████████████████████| 7885/7885 [02:01<00:00, 65.11it/s]\n"
     ]
    }
   ],
   "source": [
    "# cosine scores\n",
    "merged_candidates_score['cos_'+FIELD_NAME] = get_scores(merged_candidates_score, normalized_valid_query_embeddings, normalized_product_embeddings)"
   ]
  },
  {
   "cell_type": "code",
   "execution_count": 27,
   "metadata": {
    "execution": {
     "iopub.execute_input": "2023-06-06T11:59:44.168891Z",
     "iopub.status.busy": "2023-06-06T11:59:44.168309Z",
     "iopub.status.idle": "2023-06-06T12:02:21.390955Z",
     "shell.execute_reply": "2023-06-06T12:02:21.389485Z"
    }
   },
   "outputs": [
    {
     "name": "stderr",
     "output_type": "stream",
     "text": [
      "  0%|                                                                                                                                                   | 0/7885 [00:00<?, ?it/s]/tmp/ipykernel_83434/2884036331.py:10: DeprecationWarning: an integer is required (got type float).  Implicit conversion to integers using __int__ is deprecated, and may be removed in a future version of Python.\n",
      "  batch_product_id = torch.tensor(batch_sess['dataset_id'].tolist(), dtype=torch.long, device=product_embeddings.device)\n",
      "100%|████████████████████████████████████████████████████████████████████████████████████████████████████████████████████████████████████████| 7885/7885 [02:14<00:00, 58.45it/s]\n"
     ]
    }
   ],
   "source": [
    "merged_candidates_score[FIELD_NAME] = get_scores(merged_candidates_score, valid_query_embeddings, product_embeddings)"
   ]
  },
  {
   "cell_type": "code",
   "execution_count": 28,
   "metadata": {
    "execution": {
     "iopub.execute_input": "2023-06-06T12:02:21.399340Z",
     "iopub.status.busy": "2023-06-06T12:02:21.398530Z",
     "iopub.status.idle": "2023-06-06T12:05:13.734814Z",
     "shell.execute_reply": "2023-06-06T12:05:13.733248Z"
    }
   },
   "outputs": [],
   "source": [
    "normalize_scores(merged_candidates_score, FIELD_NAME, 'normalized_'+FIELD_NAME)"
   ]
  },
  {
   "cell_type": "code",
   "execution_count": 29,
   "metadata": {
    "execution": {
     "iopub.execute_input": "2023-06-06T12:05:13.741783Z",
     "iopub.status.busy": "2023-06-06T12:05:13.741231Z",
     "iopub.status.idle": "2023-06-06T12:05:14.380166Z",
     "shell.execute_reply": "2023-06-06T12:05:14.378920Z"
    }
   },
   "outputs": [],
   "source": [
    "merged_candidates['cos_'+FIELD_NAME] = merged_candidates_score['cos_'+FIELD_NAME]"
   ]
  },
  {
   "cell_type": "code",
   "execution_count": 30,
   "metadata": {
    "execution": {
     "iopub.execute_input": "2023-06-06T12:05:14.387145Z",
     "iopub.status.busy": "2023-06-06T12:05:14.386607Z",
     "iopub.status.idle": "2023-06-06T12:05:15.812044Z",
     "shell.execute_reply": "2023-06-06T12:05:15.810909Z"
    }
   },
   "outputs": [],
   "source": [
    "merged_candidates[FIELD_NAME] = merged_candidates_score[FIELD_NAME]\n",
    "merged_candidates['normalized_'+FIELD_NAME] = merged_candidates_score['normalized_'+FIELD_NAME]"
   ]
  },
  {
   "cell_type": "code",
   "execution_count": 31,
   "metadata": {
    "execution": {
     "iopub.execute_input": "2023-06-06T12:05:15.819733Z",
     "iopub.status.busy": "2023-06-06T12:05:15.819202Z",
     "iopub.status.idle": "2023-06-06T12:05:16.502302Z",
     "shell.execute_reply": "2023-06-06T12:05:16.501274Z"
    }
   },
   "outputs": [],
   "source": [
    "cast_dtype(merged_candidates, ['cos_'+FIELD_NAME])"
   ]
  },
  {
   "cell_type": "code",
   "execution_count": 32,
   "metadata": {
    "execution": {
     "iopub.execute_input": "2023-06-06T12:05:16.513777Z",
     "iopub.status.busy": "2023-06-06T12:05:16.513303Z",
     "iopub.status.idle": "2023-06-06T12:07:26.907197Z",
     "shell.execute_reply": "2023-06-06T12:07:26.905992Z"
    }
   },
   "outputs": [],
   "source": [
    "cast_dtype(merged_candidates, [FIELD_NAME, 'normalized_'+FIELD_NAME])\n",
    "merged_candidates.to_parquet(merged_candidates_feature_path, engine='pyarrow')"
   ]
  },
  {
   "cell_type": "code",
   "execution_count": 15,
   "metadata": {
    "execution": {
     "iopub.execute_input": "2023-06-06T12:07:26.913887Z",
     "iopub.status.busy": "2023-06-06T12:07:26.913474Z",
     "iopub.status.idle": "2023-06-06T12:08:11.612330Z",
     "shell.execute_reply": "2023-06-06T12:08:11.610922Z"
    }
   },
   "outputs": [
    {
     "data": {
      "text/html": [
       "<div>\n",
       "<style scoped>\n",
       "    .dataframe tbody tr th:only-of-type {\n",
       "        vertical-align: middle;\n",
       "    }\n",
       "\n",
       "    .dataframe tbody tr th {\n",
       "        vertical-align: top;\n",
       "    }\n",
       "\n",
       "    .dataframe thead th {\n",
       "        text-align: right;\n",
       "    }\n",
       "</style>\n",
       "<table border=\"1\" class=\"dataframe\">\n",
       "  <thead>\n",
       "    <tr style=\"text-align: right;\">\n",
       "      <th></th>\n",
       "      <th>sess_locale</th>\n",
       "      <th>product</th>\n",
       "      <th>normalized_sasrec_scores_2</th>\n",
       "      <th>sasrec_scores_2</th>\n",
       "      <th>normalized_title_bert_scores</th>\n",
       "      <th>title_bert_scores</th>\n",
       "      <th>cos_title_bert_scores</th>\n",
       "    </tr>\n",
       "  </thead>\n",
       "  <tbody>\n",
       "    <tr>\n",
       "      <th>75328033</th>\n",
       "      <td>UK</td>\n",
       "      <td>B07V2CGB91</td>\n",
       "      <td>0.494195</td>\n",
       "      <td>18.951687</td>\n",
       "      <td>0.390746</td>\n",
       "      <td>463.745636</td>\n",
       "      <td>0.987632</td>\n",
       "    </tr>\n",
       "    <tr>\n",
       "      <th>75328030</th>\n",
       "      <td>UK</td>\n",
       "      <td>B07T4NKNR6</td>\n",
       "      <td>0.058709</td>\n",
       "      <td>16.821350</td>\n",
       "      <td>0.003202</td>\n",
       "      <td>458.941315</td>\n",
       "      <td>0.979913</td>\n",
       "    </tr>\n",
       "    <tr>\n",
       "      <th>75327988</th>\n",
       "      <td>UK</td>\n",
       "      <td>B078WTHG9R</td>\n",
       "      <td>0.035952</td>\n",
       "      <td>16.330944</td>\n",
       "      <td>0.063096</td>\n",
       "      <td>461.922241</td>\n",
       "      <td>0.982737</td>\n",
       "    </tr>\n",
       "    <tr>\n",
       "      <th>75328038</th>\n",
       "      <td>UK</td>\n",
       "      <td>B07VJJWMFD</td>\n",
       "      <td>0.026003</td>\n",
       "      <td>16.006985</td>\n",
       "      <td>0.000070</td>\n",
       "      <td>455.112732</td>\n",
       "      <td>0.969780</td>\n",
       "    </tr>\n",
       "    <tr>\n",
       "      <th>75328077</th>\n",
       "      <td>UK</td>\n",
       "      <td>B08HN8TT4G</td>\n",
       "      <td>0.023920</td>\n",
       "      <td>15.923451</td>\n",
       "      <td>0.000120</td>\n",
       "      <td>455.654083</td>\n",
       "      <td>0.968337</td>\n",
       "    </tr>\n",
       "    <tr>\n",
       "      <th>75328180</th>\n",
       "      <td>UK</td>\n",
       "      <td>B09Y829WWJ</td>\n",
       "      <td>0.022351</td>\n",
       "      <td>15.855639</td>\n",
       "      <td>0.001254</td>\n",
       "      <td>458.004059</td>\n",
       "      <td>0.975785</td>\n",
       "    </tr>\n",
       "    <tr>\n",
       "      <th>75328089</th>\n",
       "      <td>UK</td>\n",
       "      <td>B08RRWFCKQ</td>\n",
       "      <td>0.020468</td>\n",
       "      <td>15.767605</td>\n",
       "      <td>0.000072</td>\n",
       "      <td>455.147461</td>\n",
       "      <td>0.970064</td>\n",
       "    </tr>\n",
       "    <tr>\n",
       "      <th>75328052</th>\n",
       "      <td>UK</td>\n",
       "      <td>B07ZCPDM3B</td>\n",
       "      <td>0.019874</td>\n",
       "      <td>15.738167</td>\n",
       "      <td>0.002296</td>\n",
       "      <td>458.608643</td>\n",
       "      <td>0.979744</td>\n",
       "    </tr>\n",
       "    <tr>\n",
       "      <th>75328101</th>\n",
       "      <td>UK</td>\n",
       "      <td>B094Y16J1M</td>\n",
       "      <td>0.016922</td>\n",
       "      <td>15.577348</td>\n",
       "      <td>0.000205</td>\n",
       "      <td>456.190613</td>\n",
       "      <td>0.971835</td>\n",
       "    </tr>\n",
       "    <tr>\n",
       "      <th>75328130</th>\n",
       "      <td>UK</td>\n",
       "      <td>B09G62Q4LG</td>\n",
       "      <td>0.016818</td>\n",
       "      <td>15.571203</td>\n",
       "      <td>0.001183</td>\n",
       "      <td>457.945801</td>\n",
       "      <td>0.975734</td>\n",
       "    </tr>\n",
       "    <tr>\n",
       "      <th>75328146</th>\n",
       "      <td>UK</td>\n",
       "      <td>B09LYNY4KH</td>\n",
       "      <td>0.015864</td>\n",
       "      <td>15.512825</td>\n",
       "      <td>0.003706</td>\n",
       "      <td>459.087433</td>\n",
       "      <td>0.979844</td>\n",
       "    </tr>\n",
       "    <tr>\n",
       "      <th>75327980</th>\n",
       "      <td>UK</td>\n",
       "      <td>B0763KNL25</td>\n",
       "      <td>0.014814</td>\n",
       "      <td>15.444349</td>\n",
       "      <td>0.014034</td>\n",
       "      <td>460.419067</td>\n",
       "      <td>0.979187</td>\n",
       "    </tr>\n",
       "    <tr>\n",
       "      <th>75328228</th>\n",
       "      <td>UK</td>\n",
       "      <td>B0B9HRJ3M6</td>\n",
       "      <td>0.014005</td>\n",
       "      <td>15.388151</td>\n",
       "      <td>0.000280</td>\n",
       "      <td>456.504059</td>\n",
       "      <td>0.971128</td>\n",
       "    </tr>\n",
       "    <tr>\n",
       "      <th>75328081</th>\n",
       "      <td>UK</td>\n",
       "      <td>B08KT2LL8F</td>\n",
       "      <td>0.012775</td>\n",
       "      <td>15.296227</td>\n",
       "      <td>0.000005</td>\n",
       "      <td>452.487274</td>\n",
       "      <td>0.967350</td>\n",
       "    </tr>\n",
       "    <tr>\n",
       "      <th>75328020</th>\n",
       "      <td>UK</td>\n",
       "      <td>B07R8ZM6JB</td>\n",
       "      <td>0.009272</td>\n",
       "      <td>14.975756</td>\n",
       "      <td>0.001636</td>\n",
       "      <td>458.269897</td>\n",
       "      <td>0.974170</td>\n",
       "    </tr>\n",
       "    <tr>\n",
       "      <th>75327968</th>\n",
       "      <td>UK</td>\n",
       "      <td>B01HB9917U</td>\n",
       "      <td>0.008177</td>\n",
       "      <td>14.850084</td>\n",
       "      <td>0.000420</td>\n",
       "      <td>456.911194</td>\n",
       "      <td>0.973949</td>\n",
       "    </tr>\n",
       "    <tr>\n",
       "      <th>75328123</th>\n",
       "      <td>UK</td>\n",
       "      <td>B09CQ7FS4V</td>\n",
       "      <td>0.008113</td>\n",
       "      <td>14.842245</td>\n",
       "      <td>0.000189</td>\n",
       "      <td>456.110474</td>\n",
       "      <td>0.972899</td>\n",
       "    </tr>\n",
       "    <tr>\n",
       "      <th>75328097</th>\n",
       "      <td>UK</td>\n",
       "      <td>B08ZYSR3Q5</td>\n",
       "      <td>0.007871</td>\n",
       "      <td>14.811913</td>\n",
       "      <td>0.000091</td>\n",
       "      <td>455.380951</td>\n",
       "      <td>0.968284</td>\n",
       "    </tr>\n",
       "    <tr>\n",
       "      <th>75328099</th>\n",
       "      <td>UK</td>\n",
       "      <td>B093GWKKLY</td>\n",
       "      <td>0.007195</td>\n",
       "      <td>14.722116</td>\n",
       "      <td>0.000992</td>\n",
       "      <td>457.769684</td>\n",
       "      <td>0.974740</td>\n",
       "    </tr>\n",
       "    <tr>\n",
       "      <th>75328058</th>\n",
       "      <td>UK</td>\n",
       "      <td>B083XYGXLX</td>\n",
       "      <td>0.007083</td>\n",
       "      <td>14.706423</td>\n",
       "      <td>0.000014</td>\n",
       "      <td>453.478729</td>\n",
       "      <td>0.968428</td>\n",
       "    </tr>\n",
       "    <tr>\n",
       "      <th>75328009</th>\n",
       "      <td>UK</td>\n",
       "      <td>B07NGQ8M5R</td>\n",
       "      <td>0.007063</td>\n",
       "      <td>14.703598</td>\n",
       "      <td>0.000149</td>\n",
       "      <td>455.871368</td>\n",
       "      <td>0.969402</td>\n",
       "    </tr>\n",
       "    <tr>\n",
       "      <th>75328150</th>\n",
       "      <td>UK</td>\n",
       "      <td>B09LYQMQ7F</td>\n",
       "      <td>0.006599</td>\n",
       "      <td>14.635696</td>\n",
       "      <td>0.002752</td>\n",
       "      <td>458.789734</td>\n",
       "      <td>0.978817</td>\n",
       "    </tr>\n",
       "    <tr>\n",
       "      <th>75328111</th>\n",
       "      <td>UK</td>\n",
       "      <td>B096ZWGK31</td>\n",
       "      <td>0.006021</td>\n",
       "      <td>14.543966</td>\n",
       "      <td>0.000041</td>\n",
       "      <td>454.580963</td>\n",
       "      <td>0.970280</td>\n",
       "    </tr>\n",
       "    <tr>\n",
       "      <th>75328147</th>\n",
       "      <td>UK</td>\n",
       "      <td>B09LYPCQSX</td>\n",
       "      <td>0.005928</td>\n",
       "      <td>14.528384</td>\n",
       "      <td>0.002383</td>\n",
       "      <td>458.646057</td>\n",
       "      <td>0.978782</td>\n",
       "    </tr>\n",
       "    <tr>\n",
       "      <th>75328167</th>\n",
       "      <td>UK</td>\n",
       "      <td>B09SJ23JFD</td>\n",
       "      <td>0.005770</td>\n",
       "      <td>14.501469</td>\n",
       "      <td>0.000029</td>\n",
       "      <td>454.246124</td>\n",
       "      <td>0.966829</td>\n",
       "    </tr>\n",
       "  </tbody>\n",
       "</table>\n",
       "</div>"
      ],
      "text/plain": [
       "         sess_locale     product  normalized_sasrec_scores_2  sasrec_scores_2  \\\n",
       "75328033          UK  B07V2CGB91                    0.494195        18.951687   \n",
       "75328030          UK  B07T4NKNR6                    0.058709        16.821350   \n",
       "75327988          UK  B078WTHG9R                    0.035952        16.330944   \n",
       "75328038          UK  B07VJJWMFD                    0.026003        16.006985   \n",
       "75328077          UK  B08HN8TT4G                    0.023920        15.923451   \n",
       "75328180          UK  B09Y829WWJ                    0.022351        15.855639   \n",
       "75328089          UK  B08RRWFCKQ                    0.020468        15.767605   \n",
       "75328052          UK  B07ZCPDM3B                    0.019874        15.738167   \n",
       "75328101          UK  B094Y16J1M                    0.016922        15.577348   \n",
       "75328130          UK  B09G62Q4LG                    0.016818        15.571203   \n",
       "75328146          UK  B09LYNY4KH                    0.015864        15.512825   \n",
       "75327980          UK  B0763KNL25                    0.014814        15.444349   \n",
       "75328228          UK  B0B9HRJ3M6                    0.014005        15.388151   \n",
       "75328081          UK  B08KT2LL8F                    0.012775        15.296227   \n",
       "75328020          UK  B07R8ZM6JB                    0.009272        14.975756   \n",
       "75327968          UK  B01HB9917U                    0.008177        14.850084   \n",
       "75328123          UK  B09CQ7FS4V                    0.008113        14.842245   \n",
       "75328097          UK  B08ZYSR3Q5                    0.007871        14.811913   \n",
       "75328099          UK  B093GWKKLY                    0.007195        14.722116   \n",
       "75328058          UK  B083XYGXLX                    0.007083        14.706423   \n",
       "75328009          UK  B07NGQ8M5R                    0.007063        14.703598   \n",
       "75328150          UK  B09LYQMQ7F                    0.006599        14.635696   \n",
       "75328111          UK  B096ZWGK31                    0.006021        14.543966   \n",
       "75328147          UK  B09LYPCQSX                    0.005928        14.528384   \n",
       "75328167          UK  B09SJ23JFD                    0.005770        14.501469   \n",
       "\n",
       "          normalized_title_bert_scores  title_bert_scores  \\\n",
       "75328033                      0.390746         463.745636   \n",
       "75328030                      0.003202         458.941315   \n",
       "75327988                      0.063096         461.922241   \n",
       "75328038                      0.000070         455.112732   \n",
       "75328077                      0.000120         455.654083   \n",
       "75328180                      0.001254         458.004059   \n",
       "75328089                      0.000072         455.147461   \n",
       "75328052                      0.002296         458.608643   \n",
       "75328101                      0.000205         456.190613   \n",
       "75328130                      0.001183         457.945801   \n",
       "75328146                      0.003706         459.087433   \n",
       "75327980                      0.014034         460.419067   \n",
       "75328228                      0.000280         456.504059   \n",
       "75328081                      0.000005         452.487274   \n",
       "75328020                      0.001636         458.269897   \n",
       "75327968                      0.000420         456.911194   \n",
       "75328123                      0.000189         456.110474   \n",
       "75328097                      0.000091         455.380951   \n",
       "75328099                      0.000992         457.769684   \n",
       "75328058                      0.000014         453.478729   \n",
       "75328009                      0.000149         455.871368   \n",
       "75328150                      0.002752         458.789734   \n",
       "75328111                      0.000041         454.580963   \n",
       "75328147                      0.002383         458.646057   \n",
       "75328167                      0.000029         454.246124   \n",
       "\n",
       "          cos_title_bert_scores  \n",
       "75328033               0.987632  \n",
       "75328030               0.979913  \n",
       "75327988               0.982737  \n",
       "75328038               0.969780  \n",
       "75328077               0.968337  \n",
       "75328180               0.975785  \n",
       "75328089               0.970064  \n",
       "75328052               0.979744  \n",
       "75328101               0.971835  \n",
       "75328130               0.975734  \n",
       "75328146               0.979844  \n",
       "75327980               0.979187  \n",
       "75328228               0.971128  \n",
       "75328081               0.967350  \n",
       "75328020               0.974170  \n",
       "75327968               0.973949  \n",
       "75328123               0.972899  \n",
       "75328097               0.968284  \n",
       "75328099               0.974740  \n",
       "75328058               0.968428  \n",
       "75328009               0.969402  \n",
       "75328150               0.978817  \n",
       "75328111               0.970280  \n",
       "75328147               0.978782  \n",
       "75328167               0.966829  "
      ]
     },
     "execution_count": 15,
     "metadata": {},
     "output_type": "execute_result"
    }
   ],
   "source": [
    "# verify gru4rec scores\n",
    "merged_candidates[merged_candidates['sess_id'] == 250110].sort_values(by=['sasrec_scores_2'], ascending=False)[['sess_locale', 'product', 'normalized_sasrec_scores_2', 'sasrec_scores_2', 'normalized_'+FIELD_NAME, FIELD_NAME, 'cos_'+FIELD_NAME]].iloc[:25]"
   ]
  },
  {
   "cell_type": "code",
   "execution_count": 34,
   "metadata": {
    "execution": {
     "iopub.execute_input": "2023-06-06T12:08:11.620640Z",
     "iopub.status.busy": "2023-06-06T12:08:11.620002Z",
     "iopub.status.idle": "2023-06-06T12:08:59.841554Z",
     "shell.execute_reply": "2023-06-06T12:08:59.840226Z"
    }
   },
   "outputs": [
    {
     "data": {
      "text/html": [
       "<div>\n",
       "<style scoped>\n",
       "    .dataframe tbody tr th:only-of-type {\n",
       "        vertical-align: middle;\n",
       "    }\n",
       "\n",
       "    .dataframe tbody tr th {\n",
       "        vertical-align: top;\n",
       "    }\n",
       "\n",
       "    .dataframe thead th {\n",
       "        text-align: right;\n",
       "    }\n",
       "</style>\n",
       "<table border=\"1\" class=\"dataframe\">\n",
       "  <thead>\n",
       "    <tr style=\"text-align: right;\">\n",
       "      <th></th>\n",
       "      <th>sess_id</th>\n",
       "      <th>sess_locale</th>\n",
       "      <th>product</th>\n",
       "      <th>target</th>\n",
       "      <th>sess_avg_price</th>\n",
       "      <th>product_price</th>\n",
       "      <th>sasrec_scores_3</th>\n",
       "      <th>normalized_sasrec_scores_3</th>\n",
       "      <th>sasrec_scores_2</th>\n",
       "      <th>normalized_sasrec_scores_2</th>\n",
       "      <th>...</th>\n",
       "      <th>w2v_l2_score</th>\n",
       "      <th>w2v_l3_score</th>\n",
       "      <th>normalized_w2v_l1_score</th>\n",
       "      <th>normalized_w2v_l2_score</th>\n",
       "      <th>normalized_w2v_l3_score</th>\n",
       "      <th>next_freq</th>\n",
       "      <th>next_freq_</th>\n",
       "      <th>cos_title_bert_scores</th>\n",
       "      <th>title_bert_scores</th>\n",
       "      <th>normalized_title_bert_scores</th>\n",
       "    </tr>\n",
       "  </thead>\n",
       "  <tbody>\n",
       "    <tr>\n",
       "      <th>0</th>\n",
       "      <td>0</td>\n",
       "      <td>DE</td>\n",
       "      <td>355165591X</td>\n",
       "      <td>0.0</td>\n",
       "      <td>43.256542</td>\n",
       "      <td>8.990000</td>\n",
       "      <td>2.230508</td>\n",
       "      <td>7.658405e-09</td>\n",
       "      <td>0.512931</td>\n",
       "      <td>1.377575e-09</td>\n",
       "      <td>...</td>\n",
       "      <td>23.846624</td>\n",
       "      <td>22.635153</td>\n",
       "      <td>7.111217e-16</td>\n",
       "      <td>1.469563e-07</td>\n",
       "      <td>8.380214e-08</td>\n",
       "      <td>7.0</td>\n",
       "      <td>9.0</td>\n",
       "      <td>0.922899</td>\n",
       "      <td>371.254242</td>\n",
       "      <td>3.539007e-08</td>\n",
       "    </tr>\n",
       "    <tr>\n",
       "      <th>1</th>\n",
       "      <td>0</td>\n",
       "      <td>DE</td>\n",
       "      <td>3833237058</td>\n",
       "      <td>0.0</td>\n",
       "      <td>43.256542</td>\n",
       "      <td>22.000000</td>\n",
       "      <td>9.605231</td>\n",
       "      <td>1.221631e-05</td>\n",
       "      <td>9.325538</td>\n",
       "      <td>9.255110e-06</td>\n",
       "      <td>...</td>\n",
       "      <td>24.611195</td>\n",
       "      <td>25.308212</td>\n",
       "      <td>8.036434e-13</td>\n",
       "      <td>3.156726e-07</td>\n",
       "      <td>1.213808e-06</td>\n",
       "      <td>18.0</td>\n",
       "      <td>26.0</td>\n",
       "      <td>0.945082</td>\n",
       "      <td>381.494324</td>\n",
       "      <td>9.910427e-04</td>\n",
       "    </tr>\n",
       "    <tr>\n",
       "      <th>2</th>\n",
       "      <td>0</td>\n",
       "      <td>DE</td>\n",
       "      <td>B00CIXSI6U</td>\n",
       "      <td>0.0</td>\n",
       "      <td>43.256542</td>\n",
       "      <td>6.470000</td>\n",
       "      <td>0.714114</td>\n",
       "      <td>1.681035e-09</td>\n",
       "      <td>-0.115904</td>\n",
       "      <td>7.345399e-10</td>\n",
       "      <td>...</td>\n",
       "      <td>20.370945</td>\n",
       "      <td>19.463253</td>\n",
       "      <td>3.116658e-18</td>\n",
       "      <td>4.546946e-09</td>\n",
       "      <td>3.513310e-09</td>\n",
       "      <td>1.0</td>\n",
       "      <td>1.0</td>\n",
       "      <td>0.919212</td>\n",
       "      <td>369.278351</td>\n",
       "      <td>4.906398e-09</td>\n",
       "    </tr>\n",
       "    <tr>\n",
       "      <th>3</th>\n",
       "      <td>0</td>\n",
       "      <td>DE</td>\n",
       "      <td>B00NVDOWUW</td>\n",
       "      <td>0.0</td>\n",
       "      <td>43.256542</td>\n",
       "      <td>11.990000</td>\n",
       "      <td>8.750996</td>\n",
       "      <td>5.199363e-06</td>\n",
       "      <td>8.507557</td>\n",
       "      <td>4.084482e-06</td>\n",
       "      <td>...</td>\n",
       "      <td>22.638163</td>\n",
       "      <td>20.257607</td>\n",
       "      <td>1.129502e-15</td>\n",
       "      <td>4.388943e-08</td>\n",
       "      <td>7.774991e-09</td>\n",
       "      <td>40.0</td>\n",
       "      <td>43.0</td>\n",
       "      <td>0.949996</td>\n",
       "      <td>380.893890</td>\n",
       "      <td>5.436601e-04</td>\n",
       "    </tr>\n",
       "    <tr>\n",
       "      <th>4</th>\n",
       "      <td>0</td>\n",
       "      <td>DE</td>\n",
       "      <td>B00NVDP3ZU</td>\n",
       "      <td>0.0</td>\n",
       "      <td>43.256542</td>\n",
       "      <td>22.990000</td>\n",
       "      <td>8.056712</td>\n",
       "      <td>2.596729e-06</td>\n",
       "      <td>5.898870</td>\n",
       "      <td>3.007453e-07</td>\n",
       "      <td>...</td>\n",
       "      <td>25.067163</td>\n",
       "      <td>20.753508</td>\n",
       "      <td>2.234024e-12</td>\n",
       "      <td>4.980370e-07</td>\n",
       "      <td>1.276636e-08</td>\n",
       "      <td>50.0</td>\n",
       "      <td>79.0</td>\n",
       "      <td>0.947742</td>\n",
       "      <td>379.729675</td>\n",
       "      <td>1.697131e-04</td>\n",
       "    </tr>\n",
       "    <tr>\n",
       "      <th>...</th>\n",
       "      <td>...</td>\n",
       "      <td>...</td>\n",
       "      <td>...</td>\n",
       "      <td>...</td>\n",
       "      <td>...</td>\n",
       "      <td>...</td>\n",
       "      <td>...</td>\n",
       "      <td>...</td>\n",
       "      <td>...</td>\n",
       "      <td>...</td>\n",
       "      <td>...</td>\n",
       "      <td>...</td>\n",
       "      <td>...</td>\n",
       "      <td>...</td>\n",
       "      <td>...</td>\n",
       "      <td>...</td>\n",
       "      <td>...</td>\n",
       "      <td>...</td>\n",
       "      <td>...</td>\n",
       "      <td>...</td>\n",
       "      <td>...</td>\n",
       "    </tr>\n",
       "    <tr>\n",
       "      <th>78842194</th>\n",
       "      <td>261815</td>\n",
       "      <td>UK</td>\n",
       "      <td>B0BCX524Y6</td>\n",
       "      <td>0.0</td>\n",
       "      <td>9.383333</td>\n",
       "      <td>16.990000</td>\n",
       "      <td>6.813615</td>\n",
       "      <td>1.076201e-03</td>\n",
       "      <td>7.203015</td>\n",
       "      <td>4.597607e-04</td>\n",
       "      <td>...</td>\n",
       "      <td>25.790541</td>\n",
       "      <td>25.963753</td>\n",
       "      <td>1.723611e-07</td>\n",
       "      <td>1.723611e-07</td>\n",
       "      <td>3.863373e-07</td>\n",
       "      <td>5.0</td>\n",
       "      <td>5.0</td>\n",
       "      <td>0.971653</td>\n",
       "      <td>439.007324</td>\n",
       "      <td>1.447198e-04</td>\n",
       "    </tr>\n",
       "    <tr>\n",
       "      <th>78842195</th>\n",
       "      <td>261815</td>\n",
       "      <td>UK</td>\n",
       "      <td>B0BCX6QB4L</td>\n",
       "      <td>0.0</td>\n",
       "      <td>9.383333</td>\n",
       "      <td>10.990000</td>\n",
       "      <td>9.030836</td>\n",
       "      <td>9.881445e-03</td>\n",
       "      <td>10.123234</td>\n",
       "      <td>8.526421e-03</td>\n",
       "      <td>...</td>\n",
       "      <td>37.195541</td>\n",
       "      <td>37.079201</td>\n",
       "      <td>1.547277e-02</td>\n",
       "      <td>1.547277e-02</td>\n",
       "      <td>2.596238e-02</td>\n",
       "      <td>18.0</td>\n",
       "      <td>21.0</td>\n",
       "      <td>0.971653</td>\n",
       "      <td>439.007324</td>\n",
       "      <td>1.447198e-04</td>\n",
       "    </tr>\n",
       "    <tr>\n",
       "      <th>78842196</th>\n",
       "      <td>261815</td>\n",
       "      <td>UK</td>\n",
       "      <td>B0BFPJYXQL</td>\n",
       "      <td>0.0</td>\n",
       "      <td>9.383333</td>\n",
       "      <td>10.560000</td>\n",
       "      <td>0.796892</td>\n",
       "      <td>2.623396e-06</td>\n",
       "      <td>1.711608</td>\n",
       "      <td>1.895152e-06</td>\n",
       "      <td>...</td>\n",
       "      <td>18.659113</td>\n",
       "      <td>17.611990</td>\n",
       "      <td>1.378160e-10</td>\n",
       "      <td>1.378160e-10</td>\n",
       "      <td>9.116796e-11</td>\n",
       "      <td>0.0</td>\n",
       "      <td>0.0</td>\n",
       "      <td>0.955145</td>\n",
       "      <td>432.761322</td>\n",
       "      <td>2.804940e-07</td>\n",
       "    </tr>\n",
       "    <tr>\n",
       "      <th>78842197</th>\n",
       "      <td>261815</td>\n",
       "      <td>UK</td>\n",
       "      <td>B0BH3X67S3</td>\n",
       "      <td>0.0</td>\n",
       "      <td>9.383333</td>\n",
       "      <td>6.830000</td>\n",
       "      <td>4.250781</td>\n",
       "      <td>8.296004e-05</td>\n",
       "      <td>6.447586</td>\n",
       "      <td>2.159998e-04</td>\n",
       "      <td>...</td>\n",
       "      <td>28.308519</td>\n",
       "      <td>26.345455</td>\n",
       "      <td>2.137881e-06</td>\n",
       "      <td>2.137881e-06</td>\n",
       "      <td>5.658977e-07</td>\n",
       "      <td>7.0</td>\n",
       "      <td>12.0</td>\n",
       "      <td>0.956763</td>\n",
       "      <td>434.462494</td>\n",
       "      <td>1.537210e-06</td>\n",
       "    </tr>\n",
       "    <tr>\n",
       "      <th>78842198</th>\n",
       "      <td>261815</td>\n",
       "      <td>UK</td>\n",
       "      <td>B0BH5MJGGB</td>\n",
       "      <td>0.0</td>\n",
       "      <td>9.383333</td>\n",
       "      <td>22.097065</td>\n",
       "      <td>-0.310635</td>\n",
       "      <td>8.667048e-07</td>\n",
       "      <td>1.264672</td>\n",
       "      <td>1.212111e-06</td>\n",
       "      <td>...</td>\n",
       "      <td>23.609287</td>\n",
       "      <td>20.474121</td>\n",
       "      <td>1.945956e-08</td>\n",
       "      <td>1.945956e-08</td>\n",
       "      <td>1.595328e-09</td>\n",
       "      <td>10.0</td>\n",
       "      <td>11.0</td>\n",
       "      <td>0.952495</td>\n",
       "      <td>432.180420</td>\n",
       "      <td>1.569065e-07</td>\n",
       "    </tr>\n",
       "  </tbody>\n",
       "</table>\n",
       "<p>78842199 rows × 57 columns</p>\n",
       "</div>"
      ],
      "text/plain": [
       "          sess_id sess_locale     product  target  sess_avg_price  \\\n",
       "0               0          DE  355165591X     0.0       43.256542   \n",
       "1               0          DE  3833237058     0.0       43.256542   \n",
       "2               0          DE  B00CIXSI6U     0.0       43.256542   \n",
       "3               0          DE  B00NVDOWUW     0.0       43.256542   \n",
       "4               0          DE  B00NVDP3ZU     0.0       43.256542   \n",
       "...           ...         ...         ...     ...             ...   \n",
       "78842194   261815          UK  B0BCX524Y6     0.0        9.383333   \n",
       "78842195   261815          UK  B0BCX6QB4L     0.0        9.383333   \n",
       "78842196   261815          UK  B0BFPJYXQL     0.0        9.383333   \n",
       "78842197   261815          UK  B0BH3X67S3     0.0        9.383333   \n",
       "78842198   261815          UK  B0BH5MJGGB     0.0        9.383333   \n",
       "\n",
       "          product_price  sasrec_scores_3  normalized_sasrec_scores_3  \\\n",
       "0              8.990000         2.230508                7.658405e-09   \n",
       "1             22.000000         9.605231                1.221631e-05   \n",
       "2              6.470000         0.714114                1.681035e-09   \n",
       "3             11.990000         8.750996                5.199363e-06   \n",
       "4             22.990000         8.056712                2.596729e-06   \n",
       "...                 ...              ...                         ...   \n",
       "78842194      16.990000         6.813615                1.076201e-03   \n",
       "78842195      10.990000         9.030836                9.881445e-03   \n",
       "78842196      10.560000         0.796892                2.623396e-06   \n",
       "78842197       6.830000         4.250781                8.296004e-05   \n",
       "78842198      22.097065        -0.310635                8.667048e-07   \n",
       "\n",
       "          sasrec_scores_2  normalized_sasrec_scores_2  ...  w2v_l2_score  \\\n",
       "0                0.512931                1.377575e-09  ...     23.846624   \n",
       "1                9.325538                9.255110e-06  ...     24.611195   \n",
       "2               -0.115904                7.345399e-10  ...     20.370945   \n",
       "3                8.507557                4.084482e-06  ...     22.638163   \n",
       "4                5.898870                3.007453e-07  ...     25.067163   \n",
       "...                   ...                         ...  ...           ...   \n",
       "78842194         7.203015                4.597607e-04  ...     25.790541   \n",
       "78842195        10.123234                8.526421e-03  ...     37.195541   \n",
       "78842196         1.711608                1.895152e-06  ...     18.659113   \n",
       "78842197         6.447586                2.159998e-04  ...     28.308519   \n",
       "78842198         1.264672                1.212111e-06  ...     23.609287   \n",
       "\n",
       "          w2v_l3_score  normalized_w2v_l1_score  normalized_w2v_l2_score  \\\n",
       "0            22.635153             7.111217e-16             1.469563e-07   \n",
       "1            25.308212             8.036434e-13             3.156726e-07   \n",
       "2            19.463253             3.116658e-18             4.546946e-09   \n",
       "3            20.257607             1.129502e-15             4.388943e-08   \n",
       "4            20.753508             2.234024e-12             4.980370e-07   \n",
       "...                ...                      ...                      ...   \n",
       "78842194     25.963753             1.723611e-07             1.723611e-07   \n",
       "78842195     37.079201             1.547277e-02             1.547277e-02   \n",
       "78842196     17.611990             1.378160e-10             1.378160e-10   \n",
       "78842197     26.345455             2.137881e-06             2.137881e-06   \n",
       "78842198     20.474121             1.945956e-08             1.945956e-08   \n",
       "\n",
       "          normalized_w2v_l3_score  next_freq  next_freq_  \\\n",
       "0                    8.380214e-08        7.0         9.0   \n",
       "1                    1.213808e-06       18.0        26.0   \n",
       "2                    3.513310e-09        1.0         1.0   \n",
       "3                    7.774991e-09       40.0        43.0   \n",
       "4                    1.276636e-08       50.0        79.0   \n",
       "...                           ...        ...         ...   \n",
       "78842194             3.863373e-07        5.0         5.0   \n",
       "78842195             2.596238e-02       18.0        21.0   \n",
       "78842196             9.116796e-11        0.0         0.0   \n",
       "78842197             5.658977e-07        7.0        12.0   \n",
       "78842198             1.595328e-09       10.0        11.0   \n",
       "\n",
       "          cos_title_bert_scores  title_bert_scores  \\\n",
       "0                      0.922899         371.254242   \n",
       "1                      0.945082         381.494324   \n",
       "2                      0.919212         369.278351   \n",
       "3                      0.949996         380.893890   \n",
       "4                      0.947742         379.729675   \n",
       "...                         ...                ...   \n",
       "78842194               0.971653         439.007324   \n",
       "78842195               0.971653         439.007324   \n",
       "78842196               0.955145         432.761322   \n",
       "78842197               0.956763         434.462494   \n",
       "78842198               0.952495         432.180420   \n",
       "\n",
       "          normalized_title_bert_scores  \n",
       "0                         3.539007e-08  \n",
       "1                         9.910427e-04  \n",
       "2                         4.906398e-09  \n",
       "3                         5.436601e-04  \n",
       "4                         1.697131e-04  \n",
       "...                                ...  \n",
       "78842194                  1.447198e-04  \n",
       "78842195                  1.447198e-04  \n",
       "78842196                  2.804940e-07  \n",
       "78842197                  1.537210e-06  \n",
       "78842198                  1.569065e-07  \n",
       "\n",
       "[78842199 rows x 57 columns]"
      ]
     },
     "execution_count": 34,
     "metadata": {},
     "output_type": "execute_result"
    }
   ],
   "source": [
    "merged_candidates"
   ]
  }
 ],
 "metadata": {
  "kernelspec": {
   "display_name": "torch12",
   "language": "python",
   "name": "python3"
  },
  "language_info": {
   "codemirror_mode": {
    "name": "ipython",
    "version": 3
   },
   "file_extension": ".py",
   "mimetype": "text/x-python",
   "name": "python",
   "nbconvert_exporter": "python",
   "pygments_lexer": "ipython3",
   "version": "3.9.15"
  }
 },
 "nbformat": 4,
 "nbformat_minor": 2
}
