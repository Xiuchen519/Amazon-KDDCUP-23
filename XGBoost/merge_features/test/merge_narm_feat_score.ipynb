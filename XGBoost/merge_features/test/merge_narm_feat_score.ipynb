{
 "cells": [
  {
   "attachments": {},
   "cell_type": "markdown",
   "metadata": {},
   "source": [
    "use loc[i, field] instead of iloc[i, field], iloc is very slow."
   ]
  },
  {
   "cell_type": "code",
   "execution_count": 1,
   "metadata": {},
   "outputs": [],
   "source": [
    "import sys\n",
    "sys.path = ['/root/autodl-tmp/xiaolong/WorkSpace/Amazon-KDDCUP-23/RecStudio/'] + sys.path\n",
    "import os\n",
    "os.environ[\"CUDA_VISIBLE_DEVICES\"] = \"4\"\n",
    "import random\n",
    "import numpy as np\n",
    "import pandas as pd\n",
    "# import cudf, itertools\n",
    "import scipy.sparse as ssp\n",
    "from functools import lru_cache, partial\n",
    "from tqdm import tqdm, trange\n",
    "from collections import Counter, defaultdict\n",
    "import torch\n",
    "import pickle\n"
   ]
  },
  {
   "cell_type": "code",
   "execution_count": 2,
   "metadata": {},
   "outputs": [],
   "source": [
    "def cast_dtype(df : pd.DataFrame, columns=None):\n",
    "    if columns is None:\n",
    "        columns = df.columns\n",
    "    for k in columns:\n",
    "        dt = type(df[k].iloc[0])\n",
    "        if 'float' in str(dt):\n",
    "            df[k] = df[k].astype('float32')\n",
    "        elif 'int' in str(dt):\n",
    "            df[k] = df[k].astype('int32')\n",
    "        elif dt == list:\n",
    "            dt_ = type(df.iloc[0][k][0])\n",
    "            if 'float' in str(dt_):\n",
    "                df[k] = df[k].apply(lambda x : np.array(x, dtype=np.float32))\n",
    "            elif 'int' in str(dt_):\n",
    "                df[k] = df[k].apply(lambda x : np.array(x, dtype=np.int32))"
   ]
  },
  {
   "cell_type": "code",
   "execution_count": 3,
   "metadata": {},
   "outputs": [],
   "source": [
    "def _load_cache(path):\n",
    "    with open(path, 'rb') as f:\n",
    "        download_obj = pickle.load(f)\n",
    "    return download_obj"
   ]
  },
  {
   "cell_type": "code",
   "execution_count": 4,
   "metadata": {},
   "outputs": [],
   "source": [
    "def get_scores(merged_candidates_df, query_embeddings, product_embeddings):\n",
    "    batch_size = 1024\n",
    "    num_iter = (len(merged_candidates_df) - 1) // batch_size + 1\n",
    "    score_list = []\n",
    "    with torch.no_grad():\n",
    "        for i in tqdm(range(num_iter)):\n",
    "            st, ed = i * batch_size, (i + 1) * batch_size \n",
    "            batch_sess = merged_candidates_df.iloc[st : ed]\n",
    "            batch_sess_id = torch.tensor(batch_sess['sess_id'].tolist(), dtype=torch.long, device=query_embeddings.device)\n",
    "            batch_product_id = torch.tensor(batch_sess['dataset_id'].tolist(), dtype=torch.long, device=product_embeddings.device)\n",
    "            query_emb = query_embeddings[batch_sess_id]\n",
    "            product_emb = product_embeddings[batch_product_id]\n",
    "            batch_score = (query_emb * product_emb).sum(dim=-1) \n",
    "            score_list.append(batch_score.cpu())\n",
    "        score_list = torch.cat(score_list, dim=0).cpu().tolist()\n",
    "        return score_list "
   ]
  },
  {
   "cell_type": "code",
   "execution_count": 5,
   "metadata": {},
   "outputs": [],
   "source": [
    "def normalize_scores(score_df, score_name, normalized_score_name):\n",
    "    # score_df_g = cudf.from_pandas(score_df)\n",
    "    score_df['exp_score'] = np.exp(score_df[score_name].to_numpy())\n",
    "    scores_sum = score_df[['sess_id', 'exp_score']].groupby('sess_id').sum()\n",
    "    scores_sum.reset_index(inplace=True)\n",
    "    scores_sum = scores_sum.sort_values(by=['sess_id'], ascending=True)\n",
    "    scores_sum.reset_index(drop=True, inplace=True)\n",
    "    scores_sum.rename(columns={'exp_score' : 'score_sum'}, inplace=True)\n",
    "\n",
    "    merged_score_df = score_df.merge(scores_sum, how='left', left_on=['sess_id'], right_on=['sess_id'])\n",
    "    merged_score_df = merged_score_df.sort_values(by=['sess_id', 'product'])\n",
    "    merged_score_df.reset_index(drop=True, inplace=True)\n",
    "    \n",
    "    # merged_score_df = merged_score_df_g.to_pandas(merged_score_df_g)\n",
    "    score_df[normalized_score_name] = merged_score_df['exp_score'] / merged_score_df['score_sum']\n",
    "    score_df['exp_score'] = merged_score_df['exp_score']\n",
    "    score_df['score_sum'] = merged_score_df['score_sum']\n",
    "\n",
    "    # del scores_sum_g\n",
    "    # del merged_score_df_g "
   ]
  },
  {
   "attachments": {},
   "cell_type": "markdown",
   "metadata": {},
   "source": [
    "# Merge test score"
   ]
  },
  {
   "cell_type": "code",
   "execution_count": 6,
   "metadata": {},
   "outputs": [],
   "source": [
    "FIELD_NAME = 'narm_feat_scores'"
   ]
  },
  {
   "cell_type": "code",
   "execution_count": 7,
   "metadata": {},
   "outputs": [],
   "source": [
    "merged_candidates_feature_test_path = '/root/autodl-tmp/xiaolong/WorkSpace/Amazon-KDDCUP-23/XGBoost/candidates_phase2/merged_candidates_150_test_feature.parquet'\n",
    "test_sessions_path = '/root/autodl-tmp/xiaolong/WorkSpace/Amazon-KDDCUP-23/raw_data/sessions_test_task1_phase2.csv'"
   ]
  },
  {
   "cell_type": "code",
   "execution_count": 24,
   "metadata": {},
   "outputs": [],
   "source": [
    "DE_product_embeddings_path = '/root/autodl-tmp/xiaolong/WorkSpace/Amazon-KDDCUP-23/candidates_phase2/query_embeddings/NARM_Feat/kdd_cup_2023_DE/product_embeddings_2023-06-03-21-55-48.pt'\n",
    "DE_test_embeddings_path = '/root/autodl-tmp/xiaolong/WorkSpace/Amazon-KDDCUP-23/candidates_phase2/query_embeddings/NARM_Feat/kdd_cup_2023_DE/predict_embeddings_2023-06-03-21-56-34.pt'\n",
    "JP_product_embeddings_path = '/root/autodl-tmp/xiaolong/WorkSpace/Amazon-KDDCUP-23/candidates_phase2/query_embeddings/NARM_Feat/kdd_cup_2023_JP/product_embeddings_2023-06-03-21-57-16.pt'\n",
    "JP_test_embeddings_path = '/root/autodl-tmp/xiaolong/WorkSpace/Amazon-KDDCUP-23/candidates_phase2/query_embeddings/NARM_Feat/kdd_cup_2023_JP/predict_embeddings_2023-06-03-21-57-56.pt'\n",
    "UK_product_embeddings_path = '/root/autodl-tmp/xiaolong/WorkSpace/Amazon-KDDCUP-23/candidates_phase2/query_embeddings/NARM_Feat/kdd_cup_2023_UK/product_embeddings_2023-06-03-21-58-29.pt'\n",
    "UK_test_embeddings_path = '/root/autodl-tmp/xiaolong/WorkSpace/Amazon-KDDCUP-23/candidates_phase2/query_embeddings/NARM_Feat/kdd_cup_2023_UK/predict_embeddings_2023-06-03-21-59-05.pt'"
   ]
  },
  {
   "cell_type": "code",
   "execution_count": 9,
   "metadata": {},
   "outputs": [],
   "source": [
    "@lru_cache(maxsize=1)\n",
    "def read_merged_candidates_feature_test():\n",
    "    return pd.read_parquet(merged_candidates_feature_test_path, engine='pyarrow')\n",
    "\n",
    "@lru_cache(maxsize=1)\n",
    "def read_test_sessions():\n",
    "    return pd.read_csv(test_sessions_path)"
   ]
  },
  {
   "cell_type": "code",
   "execution_count": 10,
   "metadata": {},
   "outputs": [],
   "source": [
    "merged_candidates = read_merged_candidates_feature_test()\n",
    "test_sessions = read_test_sessions()\n",
    "EMBED_DIM = 128\n",
    "merged_candidates.sort_values(by=['sess_id', 'product'], inplace=True)\n",
    "merged_candidates.reset_index(drop=True, inplace=True)"
   ]
  },
  {
   "cell_type": "code",
   "execution_count": 25,
   "metadata": {},
   "outputs": [],
   "source": [
    "# sess embeddings \n",
    "test_DE_query_emb = torch.load(DE_test_embeddings_path, map_location='cpu')\n",
    "test_JP_query_emb = torch.load(JP_test_embeddings_path, map_location='cpu')\n",
    "test_UK_query_emb = torch.load(UK_test_embeddings_path, map_location='cpu')\n",
    "test_query_embeddings = torch.cat(\n",
    "    [test_DE_query_emb[test_sessions['locale'] == 'DE'], test_JP_query_emb[test_sessions['locale'] == 'JP'], test_UK_query_emb[test_sessions['locale'] == 'UK']],\n",
    "    dim=0)"
   ]
  },
  {
   "cell_type": "code",
   "execution_count": 13,
   "metadata": {},
   "outputs": [],
   "source": [
    "# product embeddings \n",
    "DE_product_emb = torch.load(DE_product_embeddings_path, map_location='cpu')\n",
    "JP_product_emb = torch.load(JP_product_embeddings_path, map_location='cpu')\n",
    "UK_product_emb = torch.load(UK_product_embeddings_path, map_location='cpu')\n",
    "product_embeddings = torch.cat([DE_product_emb, JP_product_emb, UK_product_emb], dim=0)"
   ]
  },
  {
   "cell_type": "code",
   "execution_count": 14,
   "metadata": {},
   "outputs": [],
   "source": [
    "DE_dataset_cache = '/root/autodl-tmp/xiaolong/WorkSpace/Amazon-KDDCUP-23/.recstudio/cache/b5aeac4e5b9ff0518bbcb59a28086594'\n",
    "JP_dataset_cache = '/root/autodl-tmp/xiaolong/WorkSpace/Amazon-KDDCUP-23/.recstudio/cache/2536617955df215e0047f5b220d1c012'\n",
    "UK_dataset_cache = '/root/autodl-tmp/xiaolong/WorkSpace/Amazon-KDDCUP-23/.recstudio/cache/8d133ea55ad67bd3efd625dfeff0fb1d'\n",
    "DE_train_dataset, DE_valid_dataset = _load_cache(DE_dataset_cache)\n",
    "JP_train_dataset, JP_valid_dataset = _load_cache(JP_dataset_cache)\n",
    "UK_train_dataset, UK_valid_dataset = _load_cache(UK_dataset_cache)\n",
    "locale_map = {\n",
    "    'DE' : DE_train_dataset.field2token2idx['product_id'], \n",
    "    'JP' : JP_train_dataset.field2token2idx['product_id'], \n",
    "    'UK' : UK_train_dataset.field2token2idx['product_id']\n",
    "    }"
   ]
  },
  {
   "cell_type": "code",
   "execution_count": 15,
   "metadata": {},
   "outputs": [],
   "source": [
    "DE_product_list, DE_id_list = list(zip(*locale_map['DE'].items()))\n",
    "JP_product_list, JP_id_list = list(zip(*locale_map['JP'].items()))\n",
    "UK_product_list, UK_id_list = list(zip(*locale_map['UK'].items()))\n",
    "product_list = list(DE_product_list) + list(JP_product_list) + list(UK_product_list)\n",
    "id_list = list(DE_id_list) + list(JP_id_list) + list(UK_id_list)\n",
    "locale_list = ['DE'] * len(DE_id_list) + ['JP'] * len(JP_id_list) + ['UK'] * len(UK_id_list)\n",
    "product_id_df = pd.DataFrame({'locale' : locale_list, 'product' : product_list, 'dataset_id' : id_list})"
   ]
  },
  {
   "cell_type": "code",
   "execution_count": 16,
   "metadata": {},
   "outputs": [],
   "source": [
    "merged_candidates_ = merged_candidates[['sess_id', 'sess_locale', 'product']].copy()"
   ]
  },
  {
   "cell_type": "code",
   "execution_count": 17,
   "metadata": {},
   "outputs": [],
   "source": [
    "# merged_candidates_g = cudf.from_pandas(merged_candidates_)\n",
    "# product_id_df_g = cudf.from_pandas(product_id_df)"
   ]
  },
  {
   "cell_type": "code",
   "execution_count": 18,
   "metadata": {},
   "outputs": [],
   "source": [
    "# merged_candidates_score_g = merged_candidates_g.merge(product_id_df_g, how='left', left_on=['sess_locale', 'product'], right_on=['locale', 'product'])\n",
    "# merged_candidates_score_g['dataset_id'] = merged_candidates_score_g['dataset_id'].fillna(0)\n",
    "# merged_candidates_score_g.drop(columns=['locale'], inplace=True)\n",
    "# merged_candidates_score_g = merged_candidates_score_g.sort_values(by=['sess_id', 'product'])\n",
    "# merged_candidates_score_g.reset_index(drop=True, inplace=True)\n",
    "# merged_candidates_score = merged_candidates_score_g.to_pandas()"
   ]
  },
  {
   "cell_type": "code",
   "execution_count": 19,
   "metadata": {},
   "outputs": [],
   "source": [
    "merged_candidates_score = merged_candidates_.merge(product_id_df, how='left', left_on=['sess_locale', 'product'], right_on=['locale', 'product'])\n",
    "merged_candidates_score['dataset_id'] = merged_candidates_score['dataset_id'].fillna(0)\n",
    "merged_candidates_score.drop(columns=['locale'], inplace=True)\n",
    "merged_candidates_score = merged_candidates_score.sort_values(by=['sess_id', 'product'])\n",
    "merged_candidates_score.reset_index(drop=True, inplace=True)\n",
    "assert len(merged_candidates_score) == len(merged_candidates)"
   ]
  },
  {
   "cell_type": "code",
   "execution_count": 20,
   "metadata": {},
   "outputs": [],
   "source": [
    "# del merged_candidates_g\n",
    "# del product_id_df_g\n",
    "# del merged_candidates_score_g"
   ]
  },
  {
   "cell_type": "code",
   "execution_count": 21,
   "metadata": {},
   "outputs": [
    {
     "name": "stderr",
     "output_type": "stream",
     "text": [
      "/tmp/ipykernel_588299/2978421209.py:3: SettingWithCopyWarning: \n",
      "A value is trying to be set on a copy of a slice from a DataFrame\n",
      "\n",
      "See the caveats in the documentation: https://pandas.pydata.org/pandas-docs/stable/user_guide/indexing.html#returning-a-view-versus-a-copy\n",
      "  merged_candidates_score['dataset_id'][merged_candidates_score['sess_locale'] == locale] = \\\n"
     ]
    }
   ],
   "source": [
    "locale_offset = {'DE' : 0, 'JP' : len(DE_product_list), 'UK' : len(DE_product_list) + len(JP_product_list)}\n",
    "for locale in ['DE', 'JP', 'UK']:\n",
    "    merged_candidates_score['dataset_id'][merged_candidates_score['sess_locale'] == locale] = \\\n",
    "        merged_candidates_score['dataset_id'][merged_candidates_score['sess_locale'] == locale] + locale_offset[locale]"
   ]
  },
  {
   "cell_type": "code",
   "execution_count": 26,
   "metadata": {},
   "outputs": [],
   "source": [
    "test_query_embeddings = test_query_embeddings.to('cuda:0')\n",
    "product_embeddings = product_embeddings.to('cuda:0')"
   ]
  },
  {
   "cell_type": "code",
   "execution_count": 27,
   "metadata": {},
   "outputs": [
    {
     "name": "stderr",
     "output_type": "stream",
     "text": [
      "  0%|          | 0/94294 [00:00<?, ?it/s]/tmp/ipykernel_588299/2438919930.py:10: DeprecationWarning: an integer is required (got type float).  Implicit conversion to integers using __int__ is deprecated, and may be removed in a future version of Python.\n",
      "  batch_product_id = torch.tensor(batch_sess['dataset_id'].tolist(), dtype=torch.long, device=product_embeddings.device)\n",
      "100%|██████████| 94294/94294 [03:00<00:00, 523.03it/s]\n"
     ]
    }
   ],
   "source": [
    "merged_candidates_score[FIELD_NAME] = get_scores(merged_candidates_score, test_query_embeddings, product_embeddings)"
   ]
  },
  {
   "cell_type": "code",
   "execution_count": 28,
   "metadata": {},
   "outputs": [],
   "source": [
    "normalize_scores(merged_candidates_score, FIELD_NAME, 'normalized_'+FIELD_NAME)"
   ]
  },
  {
   "cell_type": "code",
   "execution_count": 29,
   "metadata": {},
   "outputs": [],
   "source": [
    "merged_candidates[FIELD_NAME] = merged_candidates_score[FIELD_NAME]\n",
    "merged_candidates['normalized_'+FIELD_NAME] = merged_candidates_score['normalized_'+FIELD_NAME]"
   ]
  },
  {
   "cell_type": "code",
   "execution_count": 60,
   "metadata": {},
   "outputs": [],
   "source": [
    "cast_dtype(merged_candidates, [FIELD_NAME, 'normalized_'+FIELD_NAME])\n",
    "merged_candidates.to_parquet(merged_candidates_feature_test_path, engine='pyarrow')"
   ]
  },
  {
   "cell_type": "code",
   "execution_count": 33,
   "metadata": {},
   "outputs": [
    {
     "data": {
      "text/html": [
       "<div>\n",
       "<style scoped>\n",
       "    .dataframe tbody tr th:only-of-type {\n",
       "        vertical-align: middle;\n",
       "    }\n",
       "\n",
       "    .dataframe tbody tr th {\n",
       "        vertical-align: top;\n",
       "    }\n",
       "\n",
       "    .dataframe thead th {\n",
       "        text-align: right;\n",
       "    }\n",
       "</style>\n",
       "<table border=\"1\" class=\"dataframe\">\n",
       "  <thead>\n",
       "    <tr style=\"text-align: right;\">\n",
       "      <th></th>\n",
       "      <th>sess_locale</th>\n",
       "      <th>product</th>\n",
       "      <th>normalized_sasrec_scores_2</th>\n",
       "      <th>sasrec_scores_2</th>\n",
       "      <th>normalized_narm_scores</th>\n",
       "      <th>narm_scores</th>\n",
       "    </tr>\n",
       "  </thead>\n",
       "  <tbody>\n",
       "    <tr>\n",
       "      <th>76100445</th>\n",
       "      <td>UK</td>\n",
       "      <td>B08PKLFM9T</td>\n",
       "      <td>0.076618</td>\n",
       "      <td>10.966581</td>\n",
       "      <td>0.046232</td>\n",
       "      <td>13.069794</td>\n",
       "    </tr>\n",
       "    <tr>\n",
       "      <th>76100587</th>\n",
       "      <td>UK</td>\n",
       "      <td>B0B1DD9QYC</td>\n",
       "      <td>0.054272</td>\n",
       "      <td>10.621758</td>\n",
       "      <td>0.030429</td>\n",
       "      <td>12.651532</td>\n",
       "    </tr>\n",
       "    <tr>\n",
       "      <th>76100437</th>\n",
       "      <td>UK</td>\n",
       "      <td>B08KRNJ14G</td>\n",
       "      <td>0.040197</td>\n",
       "      <td>10.321547</td>\n",
       "      <td>0.014734</td>\n",
       "      <td>11.926312</td>\n",
       "    </tr>\n",
       "    <tr>\n",
       "      <th>76100624</th>\n",
       "      <td>UK</td>\n",
       "      <td>B0B7MRLJH1</td>\n",
       "      <td>0.032691</td>\n",
       "      <td>10.114833</td>\n",
       "      <td>0.022032</td>\n",
       "      <td>12.328626</td>\n",
       "    </tr>\n",
       "    <tr>\n",
       "      <th>76100379</th>\n",
       "      <td>UK</td>\n",
       "      <td>B07L3CHH63</td>\n",
       "      <td>0.032596</td>\n",
       "      <td>10.111935</td>\n",
       "      <td>0.032247</td>\n",
       "      <td>12.709558</td>\n",
       "    </tr>\n",
       "    <tr>\n",
       "      <th>76100447</th>\n",
       "      <td>UK</td>\n",
       "      <td>B08PVH9GZG</td>\n",
       "      <td>0.027505</td>\n",
       "      <td>9.942128</td>\n",
       "      <td>0.006879</td>\n",
       "      <td>11.164602</td>\n",
       "    </tr>\n",
       "    <tr>\n",
       "      <th>76100518</th>\n",
       "      <td>UK</td>\n",
       "      <td>B09N75PFSD</td>\n",
       "      <td>0.022642</td>\n",
       "      <td>9.747556</td>\n",
       "      <td>0.035685</td>\n",
       "      <td>12.810847</td>\n",
       "    </tr>\n",
       "    <tr>\n",
       "      <th>76100543</th>\n",
       "      <td>UK</td>\n",
       "      <td>B09TPDVRT9</td>\n",
       "      <td>0.021482</td>\n",
       "      <td>9.694937</td>\n",
       "      <td>0.010047</td>\n",
       "      <td>11.543421</td>\n",
       "    </tr>\n",
       "    <tr>\n",
       "      <th>76100389</th>\n",
       "      <td>UK</td>\n",
       "      <td>B07RL1JQ5W</td>\n",
       "      <td>0.020788</td>\n",
       "      <td>9.662111</td>\n",
       "      <td>0.036073</td>\n",
       "      <td>12.821655</td>\n",
       "    </tr>\n",
       "    <tr>\n",
       "      <th>76100594</th>\n",
       "      <td>UK</td>\n",
       "      <td>B0B3GPL5JD</td>\n",
       "      <td>0.020658</td>\n",
       "      <td>9.655845</td>\n",
       "      <td>0.031890</td>\n",
       "      <td>12.698408</td>\n",
       "    </tr>\n",
       "    <tr>\n",
       "      <th>76100463</th>\n",
       "      <td>UK</td>\n",
       "      <td>B0922LLG36</td>\n",
       "      <td>0.020472</td>\n",
       "      <td>9.646781</td>\n",
       "      <td>0.011479</td>\n",
       "      <td>11.676680</td>\n",
       "    </tr>\n",
       "    <tr>\n",
       "      <th>76100433</th>\n",
       "      <td>UK</td>\n",
       "      <td>B08F2NDB39</td>\n",
       "      <td>0.018701</td>\n",
       "      <td>9.556343</td>\n",
       "      <td>0.009310</td>\n",
       "      <td>11.467235</td>\n",
       "    </tr>\n",
       "    <tr>\n",
       "      <th>76100651</th>\n",
       "      <td>UK</td>\n",
       "      <td>B0BBZLWYF1</td>\n",
       "      <td>0.018174</td>\n",
       "      <td>9.527711</td>\n",
       "      <td>0.016373</td>\n",
       "      <td>12.031759</td>\n",
       "    </tr>\n",
       "    <tr>\n",
       "      <th>76100368</th>\n",
       "      <td>UK</td>\n",
       "      <td>B078NPDRHL</td>\n",
       "      <td>0.017962</td>\n",
       "      <td>9.516025</td>\n",
       "      <td>0.010431</td>\n",
       "      <td>11.580867</td>\n",
       "    </tr>\n",
       "    <tr>\n",
       "      <th>76100631</th>\n",
       "      <td>UK</td>\n",
       "      <td>B0B824Y78X</td>\n",
       "      <td>0.017332</td>\n",
       "      <td>9.480306</td>\n",
       "      <td>0.063623</td>\n",
       "      <td>13.389094</td>\n",
       "    </tr>\n",
       "  </tbody>\n",
       "</table>\n",
       "</div>"
      ],
      "text/plain": [
       "         sess_locale     product  normalized_sasrec_scores_2  sasrec_scores_2  \\\n",
       "76100445          UK  B08PKLFM9T                    0.076618        10.966581   \n",
       "76100587          UK  B0B1DD9QYC                    0.054272        10.621758   \n",
       "76100437          UK  B08KRNJ14G                    0.040197        10.321547   \n",
       "76100624          UK  B0B7MRLJH1                    0.032691        10.114833   \n",
       "76100379          UK  B07L3CHH63                    0.032596        10.111935   \n",
       "76100447          UK  B08PVH9GZG                    0.027505         9.942128   \n",
       "76100518          UK  B09N75PFSD                    0.022642         9.747556   \n",
       "76100543          UK  B09TPDVRT9                    0.021482         9.694937   \n",
       "76100389          UK  B07RL1JQ5W                    0.020788         9.662111   \n",
       "76100594          UK  B0B3GPL5JD                    0.020658         9.655845   \n",
       "76100463          UK  B0922LLG36                    0.020472         9.646781   \n",
       "76100433          UK  B08F2NDB39                    0.018701         9.556343   \n",
       "76100651          UK  B0BBZLWYF1                    0.018174         9.527711   \n",
       "76100368          UK  B078NPDRHL                    0.017962         9.516025   \n",
       "76100631          UK  B0B824Y78X                    0.017332         9.480306   \n",
       "\n",
       "          normalized_narm_scores  narm_scores  \n",
       "76100445                0.046232    13.069794  \n",
       "76100587                0.030429    12.651532  \n",
       "76100437                0.014734    11.926312  \n",
       "76100624                0.022032    12.328626  \n",
       "76100379                0.032247    12.709558  \n",
       "76100447                0.006879    11.164602  \n",
       "76100518                0.035685    12.810847  \n",
       "76100543                0.010047    11.543421  \n",
       "76100389                0.036073    12.821655  \n",
       "76100594                0.031890    12.698408  \n",
       "76100463                0.011479    11.676680  \n",
       "76100433                0.009310    11.467235  \n",
       "76100651                0.016373    12.031759  \n",
       "76100368                0.010431    11.580867  \n",
       "76100631                0.063623    13.389094  "
      ]
     },
     "execution_count": 33,
     "metadata": {},
     "output_type": "execute_result"
    }
   ],
   "source": [
    "merged_candidates[(merged_candidates['sess_id'] == 250015)].sort_values(by='normalized_sasrec_scores_2', ascending=False)[\n",
    "    ['sess_locale', 'product', 'normalized_sasrec_scores_2', 'sasrec_scores_2', 'normalized_narm_scores', 'narm_scores']\n",
    "][:15]"
   ]
  }
 ],
 "metadata": {
  "kernelspec": {
   "display_name": "torch12",
   "language": "python",
   "name": "python3"
  },
  "language_info": {
   "codemirror_mode": {
    "name": "ipython",
    "version": 3
   },
   "file_extension": ".py",
   "mimetype": "text/x-python",
   "name": "python",
   "nbconvert_exporter": "python",
   "pygments_lexer": "ipython3",
   "version": "3.9.15"
  },
  "orig_nbformat": 4
 },
 "nbformat": 4,
 "nbformat_minor": 2
}
