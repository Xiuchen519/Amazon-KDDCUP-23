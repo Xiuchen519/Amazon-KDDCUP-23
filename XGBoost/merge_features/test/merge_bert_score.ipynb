{
 "cells": [
  {
   "attachments": {},
   "cell_type": "markdown",
   "metadata": {},
   "source": [
    "use loc[i, field] instead of iloc[i, field], iloc is very slow."
   ]
  },
  {
   "cell_type": "code",
   "execution_count": 1,
   "metadata": {},
   "outputs": [
    {
     "name": "stderr",
     "output_type": "stream",
     "text": [
      "/root/autodl-tmp/xiaolong/anaconda3/envs/pytorch_gpu/lib/python3.9/site-packages/tqdm/auto.py:22: TqdmWarning: IProgress not found. Please update jupyter and ipywidgets. See https://ipywidgets.readthedocs.io/en/stable/user_install.html\n",
      "  from .autonotebook import tqdm as notebook_tqdm\n"
     ]
    }
   ],
   "source": [
    "import sys\n",
    "sys.path = ['/root/autodl-tmp/xiaolong/WorkSpace/Amazon-KDDCUP-23/RecStudio/'] + sys.path\n",
    "import os\n",
    "import random\n",
    "import numpy as np\n",
    "import pandas as pd\n",
    "import cudf, itertools\n",
    "import scipy.sparse as ssp\n",
    "from functools import lru_cache, partial\n",
    "from tqdm import tqdm, trange\n",
    "from collections import Counter, defaultdict\n",
    "import torch\n",
    "import pickle\n"
   ]
  },
  {
   "cell_type": "code",
   "execution_count": 2,
   "metadata": {},
   "outputs": [],
   "source": [
    "def cast_dtype(df : pd.DataFrame, columns=None):\n",
    "    if columns is None:\n",
    "        columns = df.columns\n",
    "    for k in columns:\n",
    "        dt = type(df[k].iloc[0])\n",
    "        if 'float' in str(dt):\n",
    "            df[k] = df[k].astype('float32')\n",
    "        elif 'int' in str(dt):\n",
    "            df[k] = df[k].astype('int32')\n",
    "        elif dt == list:\n",
    "            dt_ = type(df.iloc[0][k][0])\n",
    "            if 'float' in str(dt_):\n",
    "                df[k] = df[k].apply(lambda x : np.array(x, dtype=np.float32))\n",
    "            elif 'int' in str(dt_):\n",
    "                df[k] = df[k].apply(lambda x : np.array(x, dtype=np.int32))"
   ]
  },
  {
   "cell_type": "code",
   "execution_count": 3,
   "metadata": {},
   "outputs": [],
   "source": [
    "def _load_cache(path):\n",
    "    with open(path, 'rb') as f:\n",
    "        download_obj = pickle.load(f)\n",
    "    return download_obj"
   ]
  },
  {
   "cell_type": "code",
   "execution_count": 28,
   "metadata": {},
   "outputs": [],
   "source": [
    "def get_scores(merged_candidates_df, query_embeddings, product_embeddings):\n",
    "    batch_size = 5096\n",
    "    num_iter = (len(merged_candidates_df) - 1) // batch_size + 1\n",
    "    score_list = []\n",
    "    with torch.no_grad():\n",
    "        for i in tqdm(range(num_iter)):\n",
    "            st, ed = i * batch_size, (i + 1) * batch_size \n",
    "            batch_sess = merged_candidates_df.iloc[st : ed]\n",
    "            batch_sess_id = torch.tensor(batch_sess['sess_id'].tolist(), dtype=torch.long, device=query_embeddings.device)\n",
    "            batch_product_id = torch.tensor(batch_sess['dataset_id'].tolist(), dtype=torch.long, device=product_embeddings.device)\n",
    "            query_emb = query_embeddings[batch_sess_id].to('cuda:3')\n",
    "            product_emb = product_embeddings[batch_product_id].to('cuda:3')\n",
    "            batch_score = (query_emb * product_emb).sum(dim=-1) \n",
    "            score_list.append(batch_score.cpu())\n",
    "        score_list = torch.cat(score_list, dim=0).cpu().tolist()\n",
    "        return score_list "
   ]
  },
  {
   "cell_type": "code",
   "execution_count": 5,
   "metadata": {},
   "outputs": [],
   "source": [
    "def normalize_scores(score_df, score_name, normalized_score_name):\n",
    "    # score_df_g = cudf.from_pandas(score_df)\n",
    "    score_df['exp_score'] = np.exp(score_df[score_name].to_numpy())\n",
    "    scores_sum = score_df[['sess_id', 'exp_score']].groupby('sess_id').sum()\n",
    "    scores_sum.reset_index(inplace=True)\n",
    "    scores_sum = scores_sum.sort_values(by=['sess_id'], ascending=True)\n",
    "    scores_sum.reset_index(drop=True, inplace=True)\n",
    "    scores_sum.rename(columns={'exp_score' : 'score_sum'}, inplace=True)\n",
    "\n",
    "    merged_score_df = score_df.merge(scores_sum, how='left', left_on=['sess_id'], right_on=['sess_id'])\n",
    "    merged_score_df = merged_score_df.sort_values(by=['sess_id', 'product'])\n",
    "    merged_score_df.reset_index(drop=True, inplace=True)\n",
    "    \n",
    "    # merged_score_df = merged_score_df_g.to_pandas(merged_score_df_g)\n",
    "    score_df[normalized_score_name] = merged_score_df['exp_score'] / merged_score_df['score_sum']\n",
    "    score_df['exp_score'] = merged_score_df['exp_score']\n",
    "    score_df['score_sum'] = merged_score_df['score_sum']\n",
    "\n",
    "    # del scores_sum_g\n",
    "    # del merged_score_df_g "
   ]
  },
  {
   "attachments": {},
   "cell_type": "markdown",
   "metadata": {},
   "source": [
    "# Merge test score"
   ]
  },
  {
   "cell_type": "code",
   "execution_count": 6,
   "metadata": {},
   "outputs": [],
   "source": [
    "merged_candidates_feature_test_path = '/root/autodl-tmp/xiaolong/WorkSpace/Amazon-KDDCUP-23/XGBoost/candidates/merged_candidates_test_feature.parquet'\n",
    "valid_sessions_path = '/root/autodl-tmp/xiaolong/WorkSpace/Amazon-KDDCUP-23/data_for_recstudio/task1_data/task13_4_task1_valid_sessions.csv'\n",
    "test_sessions_path = '/root/autodl-tmp/xiaolong/WorkSpace/Amazon-KDDCUP-23/raw_data/sessions_test_task1.csv'"
   ]
  },
  {
   "cell_type": "code",
   "execution_count": 7,
   "metadata": {},
   "outputs": [],
   "source": [
    "@lru_cache(maxsize=1)\n",
    "def read_merged_candidates_feature_test():\n",
    "    return pd.read_parquet(merged_candidates_feature_test_path, engine='pyarrow')\n",
    "\n",
    "@lru_cache(maxsize=1)\n",
    "def read_valid_sessions():\n",
    "    return pd.read_csv(valid_sessions_path)\n",
    "\n",
    "@lru_cache(maxsize=1)\n",
    "def read_test_sessions():\n",
    "    return pd.read_csv(test_sessions_path)"
   ]
  },
  {
   "cell_type": "code",
   "execution_count": 8,
   "metadata": {},
   "outputs": [],
   "source": [
    "FIELD_NAME = 'bert_scores'"
   ]
  },
  {
   "cell_type": "code",
   "execution_count": 9,
   "metadata": {},
   "outputs": [],
   "source": [
    "DE_product_embeddings_path = '/root/autodl-tmp/xiaolong/WorkSpace/Amazon-KDDCUP-23/text_method/phase2_task1_bert_results_DE/results/item_reps/reordered_item.npy'\n",
    "DE_test_embeddings_path = '/root/autodl-tmp/xiaolong/WorkSpace/Amazon-KDDCUP-23/text_method/phase2_task1_bert_results_DE/test_results/test_query_reps/query.npy'\n",
    "JP_product_embeddings_path = '/root/autodl-tmp/xiaolong/WorkSpace/Amazon-KDDCUP-23/text_method/phase2_task1_bert_results_JP/results/item_reps/reordered_item.npy'\n",
    "JP_test_embeddings_path = '/root/autodl-tmp/xiaolong/WorkSpace/Amazon-KDDCUP-23/text_method/phase2_task1_bert_results_JP/test_results/test_query_reps/query.npy'\n",
    "UK_product_embeddings_path = '/root/autodl-tmp/xiaolong/WorkSpace/Amazon-KDDCUP-23/text_method/phase2_task1_roberta_results_UK/results/item_reps/reordered_item.npy'\n",
    "UK_test_embeddings_path = '/root/autodl-tmp/xiaolong/WorkSpace/Amazon-KDDCUP-23/text_method/phase2_task1_roberta_results_UK/test_results/test_query_reps/query.npy'"
   ]
  },
  {
   "cell_type": "code",
   "execution_count": 10,
   "metadata": {},
   "outputs": [],
   "source": [
    "DE_dataset_cache = '/root/autodl-tmp/xiaolong/WorkSpace/Amazon-KDDCUP-23/.recstudio/cache/cf49a486c59e9dd4de37544db3d11d4f'\n",
    "JP_dataset_cache = '/root/autodl-tmp/xiaolong/WorkSpace/Amazon-KDDCUP-23/.recstudio/cache/0a61def413f0594014cbda0db39a5d35'\n",
    "UK_dataset_cache = '/root/autodl-tmp/xiaolong/WorkSpace/Amazon-KDDCUP-23/.recstudio/cache/40106b429c6e63c60ee3825fd22bbf5d'"
   ]
  },
  {
   "cell_type": "code",
   "execution_count": 11,
   "metadata": {},
   "outputs": [],
   "source": [
    "DE_train_dataset, DE_valid_dataset = _load_cache(DE_dataset_cache)\n",
    "JP_train_dataset, JP_valid_dataset = _load_cache(JP_dataset_cache)\n",
    "UK_train_dataset, UK_valid_dataset = _load_cache(UK_dataset_cache)\n",
    "locale_map = {\n",
    "    'DE' : DE_train_dataset.field2token2idx['product_id'], \n",
    "    'JP' : JP_train_dataset.field2token2idx['product_id'], \n",
    "    'UK' : UK_train_dataset.field2token2idx['product_id']\n",
    "    }"
   ]
  },
  {
   "cell_type": "code",
   "execution_count": 12,
   "metadata": {},
   "outputs": [],
   "source": [
    "merged_candidates = read_merged_candidates_feature_test()\n",
    "test_sessions = read_test_sessions()\n",
    "EMBED_DIM = 768\n",
    "merged_candidates.sort_values(by=['sess_id', 'product'], inplace=True)\n",
    "merged_candidates.reset_index(drop=True, inplace=True)"
   ]
  },
  {
   "cell_type": "code",
   "execution_count": 14,
   "metadata": {},
   "outputs": [],
   "source": [
    "# sess embeddings \n",
    "test_DE_query_emb = torch.from_numpy(np.load(DE_test_embeddings_path)) \n",
    "test_JP_query_emb = torch.from_numpy(np.load(JP_test_embeddings_path))\n",
    "test_UK_query_emb = torch.from_numpy(np.load(UK_test_embeddings_path))\n",
    "test_query_embeddings = torch.empty(len(test_sessions), EMBED_DIM)\n",
    "test_query_embeddings[(test_sessions[test_sessions['locale'] == 'DE'].index).tolist()] = test_DE_query_emb\n",
    "test_query_embeddings[(test_sessions[test_sessions['locale'] == 'JP'].index).tolist()] = test_JP_query_emb\n",
    "test_query_embeddings[(test_sessions[test_sessions['locale'] == 'UK'].index).tolist()] = test_UK_query_emb"
   ]
  },
  {
   "cell_type": "code",
   "execution_count": 15,
   "metadata": {},
   "outputs": [
    {
     "data": {
      "text/plain": [
       "(tensor([[ 0.1136, -0.2501, -0.0704,  ...,  0.1847,  0.0717, -0.3017],\n",
       "         [-0.3964,  0.0939, -0.1283,  ...,  0.1563, -0.1644, -0.0321],\n",
       "         [-0.0323,  0.3606, -0.0128,  ..., -0.0118,  0.1365, -0.2942],\n",
       "         ...,\n",
       "         [ 0.0118,  0.5020, -0.0754,  ..., -0.4015,  0.0860,  0.0765],\n",
       "         [ 0.0480,  0.0737, -0.1268,  ..., -0.1232,  0.1216,  0.1034],\n",
       "         [ 0.2913,  0.2383, -0.2621,  ..., -0.2491,  0.0703,  0.0205]]),\n",
       " torch.Size([316972, 768]))"
      ]
     },
     "execution_count": 15,
     "metadata": {},
     "output_type": "execute_result"
    }
   ],
   "source": [
    "test_query_embeddings, test_query_embeddings.shape"
   ]
  },
  {
   "cell_type": "code",
   "execution_count": 16,
   "metadata": {},
   "outputs": [],
   "source": [
    "# product_embeddings, the embeddings include padding embedding\n",
    "DE_product_emb = torch.from_numpy(np.load(DE_product_embeddings_path))\n",
    "JP_product_emb = torch.from_numpy(np.load(JP_product_embeddings_path))\n",
    "UK_product_emb = torch.from_numpy(np.load(UK_product_embeddings_path))\n",
    "product_embeddings = torch.cat([DE_product_emb, JP_product_emb, UK_product_emb], dim=0)"
   ]
  },
  {
   "cell_type": "code",
   "execution_count": 17,
   "metadata": {},
   "outputs": [
    {
     "data": {
      "text/plain": [
       "tensor([[ 0.0000,  0.0000,  0.0000,  ...,  0.0000,  0.0000,  0.0000],\n",
       "        [-0.2777,  0.4617,  0.1657,  ...,  0.0505,  0.0628, -0.7108],\n",
       "        [-0.0915,  0.2569, -0.1503,  ..., -0.0563,  0.1256, -0.4411],\n",
       "        ...,\n",
       "        [ 0.2559,  0.1071, -0.1689,  ..., -0.0935, -0.0517, -0.4844],\n",
       "        [-0.1851,  0.6337,  0.0548,  ...,  0.1978, -0.4778, -0.8956],\n",
       "        [-0.1200,  0.1002, -0.4467,  ...,  0.1571, -0.4825, -0.3066]],\n",
       "       dtype=torch.float64)"
      ]
     },
     "execution_count": 17,
     "metadata": {},
     "output_type": "execute_result"
    }
   ],
   "source": [
    "DE_product_emb"
   ]
  },
  {
   "cell_type": "code",
   "execution_count": 18,
   "metadata": {},
   "outputs": [],
   "source": [
    "merged_candidates_ = merged_candidates[['sess_id', 'sess_locale', 'product']].copy()"
   ]
  },
  {
   "cell_type": "code",
   "execution_count": 19,
   "metadata": {},
   "outputs": [],
   "source": [
    "DE_product_list, DE_id_list = list(zip(*locale_map['DE'].items()))\n",
    "JP_product_list, JP_id_list = list(zip(*locale_map['JP'].items()))\n",
    "UK_product_list, UK_id_list = list(zip(*locale_map['UK'].items()))\n",
    "product_list = list(DE_product_list) + list(JP_product_list) + list(UK_product_list)\n",
    "id_list = list(DE_id_list) + list(JP_id_list) + list(UK_id_list)\n",
    "locale_list = ['DE'] * len(DE_id_list) + ['JP'] * len(JP_id_list) + ['UK'] * len(UK_id_list)\n",
    "product_id_df = pd.DataFrame({'locale' : locale_list, 'product' : product_list, 'dataset_id' : id_list})"
   ]
  },
  {
   "cell_type": "code",
   "execution_count": 17,
   "metadata": {},
   "outputs": [],
   "source": [
    "# merged_candidates_g = cudf.from_pandas(merged_candidates_)\n",
    "# product_id_df_g = cudf.from_pandas(product_id_df)"
   ]
  },
  {
   "cell_type": "code",
   "execution_count": 18,
   "metadata": {},
   "outputs": [],
   "source": [
    "# merged_candidates_score_g = merged_candidates_g.merge(product_id_df_g, how='left', left_on=['sess_locale', 'product'], right_on=['locale', 'product'])\n",
    "# merged_candidates_score_g['dataset_id'] = merged_candidates_score_g['dataset_id'].fillna(0)\n",
    "# merged_candidates_score_g.drop(columns=['locale'], inplace=True)\n",
    "# merged_candidates_score_g = merged_candidates_score_g.sort_values(by=['sess_id', 'product'])\n",
    "# merged_candidates_score_g.reset_index(drop=True, inplace=True)\n",
    "# merged_candidates_score = merged_candidates_score_g.to_pandas()"
   ]
  },
  {
   "cell_type": "code",
   "execution_count": 20,
   "metadata": {},
   "outputs": [],
   "source": [
    "merged_candidates_score = merged_candidates_.merge(product_id_df, how='left', left_on=['sess_locale', 'product'], right_on=['locale', 'product'])\n",
    "merged_candidates_score['dataset_id'] = merged_candidates_score['dataset_id'].fillna(0)\n",
    "merged_candidates_score.drop(columns=['locale'], inplace=True)\n",
    "merged_candidates_score = merged_candidates_score.sort_values(by=['sess_id', 'product'])\n",
    "merged_candidates_score.reset_index(drop=True, inplace=True)\n",
    "assert len(merged_candidates_score) == len(merged_candidates)"
   ]
  },
  {
   "cell_type": "code",
   "execution_count": 19,
   "metadata": {},
   "outputs": [],
   "source": [
    "# del merged_candidates_g\n",
    "# del product_id_df_g\n",
    "# del merged_candidates_score_g"
   ]
  },
  {
   "cell_type": "code",
   "execution_count": 21,
   "metadata": {},
   "outputs": [
    {
     "name": "stderr",
     "output_type": "stream",
     "text": [
      "/tmp/ipykernel_479727/2978421209.py:3: SettingWithCopyWarning: \n",
      "A value is trying to be set on a copy of a slice from a DataFrame\n",
      "\n",
      "See the caveats in the documentation: https://pandas.pydata.org/pandas-docs/stable/user_guide/indexing.html#returning-a-view-versus-a-copy\n",
      "  merged_candidates_score['dataset_id'][merged_candidates_score['sess_locale'] == locale] = \\\n"
     ]
    }
   ],
   "source": [
    "locale_offset = {'DE' : 0, 'JP' : len(DE_product_list), 'UK' : len(DE_product_list) + len(JP_product_list)}\n",
    "for locale in ['DE', 'JP', 'UK']:\n",
    "    merged_candidates_score['dataset_id'][merged_candidates_score['sess_locale'] == locale] = \\\n",
    "        merged_candidates_score['dataset_id'][merged_candidates_score['sess_locale'] == locale] + locale_offset[locale]"
   ]
  },
  {
   "cell_type": "code",
   "execution_count": 22,
   "metadata": {},
   "outputs": [],
   "source": [
    "# using cosine scores \n",
    "normalized_test_query_embeddings = torch.nn.functional.normalize(test_query_embeddings, p=2, dim=-1)\n",
    "normalized_product_embeddings = torch.nn.functional.normalize(product_embeddings, p=2, dim=-1)\n",
    "normalized_product_embeddings = normalized_product_embeddings.type(torch.float)"
   ]
  },
  {
   "cell_type": "code",
   "execution_count": 23,
   "metadata": {},
   "outputs": [
    {
     "name": "stderr",
     "output_type": "stream",
     "text": [
      "  0%|          | 0/32208 [00:00<?, ?it/s]/tmp/ipykernel_479727/622120297.py:10: DeprecationWarning: an integer is required (got type float).  Implicit conversion to integers using __int__ is deprecated, and may be removed in a future version of Python.\n",
      "  batch_product_id = torch.tensor(batch_sess['dataset_id'].tolist(), dtype=torch.long, device=product_embeddings.device)\n",
      "100%|██████████| 32208/32208 [12:25<00:00, 43.23it/s]\n"
     ]
    }
   ],
   "source": [
    "merged_candidates_score['cos_'+FIELD_NAME] = get_scores(merged_candidates_score, normalized_test_query_embeddings, normalized_product_embeddings)"
   ]
  },
  {
   "cell_type": "code",
   "execution_count": 29,
   "metadata": {},
   "outputs": [
    {
     "name": "stderr",
     "output_type": "stream",
     "text": [
      "  0%|          | 0/12944 [00:00<?, ?it/s]/tmp/ipykernel_479727/1592792540.py:10: DeprecationWarning: an integer is required (got type float).  Implicit conversion to integers using __int__ is deprecated, and may be removed in a future version of Python.\n",
      "  batch_product_id = torch.tensor(batch_sess['dataset_id'].tolist(), dtype=torch.long, device=product_embeddings.device)\n",
      "100%|██████████| 12944/12944 [08:12<00:00, 26.26it/s]\n"
     ]
    }
   ],
   "source": [
    "merged_candidates_score[FIELD_NAME] = get_scores(merged_candidates_score, test_query_embeddings, product_embeddings)"
   ]
  },
  {
   "cell_type": "code",
   "execution_count": 36,
   "metadata": {},
   "outputs": [],
   "source": [
    "# del test_query_embeddings\n",
    "# del product_embeddings"
   ]
  },
  {
   "cell_type": "code",
   "execution_count": 30,
   "metadata": {},
   "outputs": [],
   "source": [
    "normalize_scores(merged_candidates_score, FIELD_NAME, 'normalized_'+FIELD_NAME)"
   ]
  },
  {
   "cell_type": "code",
   "execution_count": 31,
   "metadata": {},
   "outputs": [],
   "source": [
    "merged_candidates['cos_'+FIELD_NAME] = merged_candidates_score['cos_'+FIELD_NAME]"
   ]
  },
  {
   "cell_type": "code",
   "execution_count": 32,
   "metadata": {},
   "outputs": [],
   "source": [
    "merged_candidates[FIELD_NAME] = merged_candidates_score[FIELD_NAME]\n",
    "merged_candidates['normalized_'+FIELD_NAME] = merged_candidates_score['normalized_'+FIELD_NAME]"
   ]
  },
  {
   "cell_type": "code",
   "execution_count": 37,
   "metadata": {},
   "outputs": [],
   "source": [
    "cast_dtype(merged_candidates, ['cos_'+FIELD_NAME])"
   ]
  },
  {
   "cell_type": "code",
   "execution_count": 38,
   "metadata": {},
   "outputs": [],
   "source": [
    "cast_dtype(merged_candidates, [FIELD_NAME, 'normalized_'+FIELD_NAME])\n",
    "merged_candidates.to_parquet(merged_candidates_feature_test_path, engine='pyarrow')"
   ]
  },
  {
   "cell_type": "code",
   "execution_count": 39,
   "metadata": {},
   "outputs": [
    {
     "data": {
      "text/html": [
       "<div>\n",
       "<style scoped>\n",
       "    .dataframe tbody tr th:only-of-type {\n",
       "        vertical-align: middle;\n",
       "    }\n",
       "\n",
       "    .dataframe tbody tr th {\n",
       "        vertical-align: top;\n",
       "    }\n",
       "\n",
       "    .dataframe thead th {\n",
       "        text-align: right;\n",
       "    }\n",
       "</style>\n",
       "<table border=\"1\" class=\"dataframe\">\n",
       "  <thead>\n",
       "    <tr style=\"text-align: right;\">\n",
       "      <th></th>\n",
       "      <th>sess_locale</th>\n",
       "      <th>product</th>\n",
       "      <th>normalized_sasrec_scores_2</th>\n",
       "      <th>sasrec_scores_2</th>\n",
       "      <th>normalized_bert_scores</th>\n",
       "      <th>bert_scores</th>\n",
       "      <th>cos_bert_scores</th>\n",
       "    </tr>\n",
       "  </thead>\n",
       "  <tbody>\n",
       "    <tr>\n",
       "      <th>30884501</th>\n",
       "      <td>JP</td>\n",
       "      <td>B0BJZS5B42</td>\n",
       "      <td>0.716118</td>\n",
       "      <td>18.968115</td>\n",
       "      <td>0.413212</td>\n",
       "      <td>195.087006</td>\n",
       "      <td>0.971294</td>\n",
       "    </tr>\n",
       "    <tr>\n",
       "      <th>30884514</th>\n",
       "      <td>JP</td>\n",
       "      <td>B0BK47NWVN</td>\n",
       "      <td>0.043007</td>\n",
       "      <td>16.155632</td>\n",
       "      <td>0.014274</td>\n",
       "      <td>191.721512</td>\n",
       "      <td>0.956311</td>\n",
       "    </tr>\n",
       "    <tr>\n",
       "      <th>30884483</th>\n",
       "      <td>JP</td>\n",
       "      <td>B0BJTZJYH8</td>\n",
       "      <td>0.030360</td>\n",
       "      <td>15.807399</td>\n",
       "      <td>0.006481</td>\n",
       "      <td>190.931931</td>\n",
       "      <td>0.945648</td>\n",
       "    </tr>\n",
       "    <tr>\n",
       "      <th>30884497</th>\n",
       "      <td>JP</td>\n",
       "      <td>B0BJZHPF38</td>\n",
       "      <td>0.025241</td>\n",
       "      <td>15.622758</td>\n",
       "      <td>0.013779</td>\n",
       "      <td>191.686203</td>\n",
       "      <td>0.947576</td>\n",
       "    </tr>\n",
       "    <tr>\n",
       "      <th>30884469</th>\n",
       "      <td>JP</td>\n",
       "      <td>B0BHZSGTW8</td>\n",
       "      <td>0.024278</td>\n",
       "      <td>15.583858</td>\n",
       "      <td>0.002119</td>\n",
       "      <td>189.814194</td>\n",
       "      <td>0.941958</td>\n",
       "    </tr>\n",
       "    <tr>\n",
       "      <th>30884495</th>\n",
       "      <td>JP</td>\n",
       "      <td>B0BJZCNTL1</td>\n",
       "      <td>0.024229</td>\n",
       "      <td>15.581818</td>\n",
       "      <td>0.000420</td>\n",
       "      <td>188.194519</td>\n",
       "      <td>0.942032</td>\n",
       "    </tr>\n",
       "    <tr>\n",
       "      <th>30884470</th>\n",
       "      <td>JP</td>\n",
       "      <td>B0BJ1D2MPG</td>\n",
       "      <td>0.023013</td>\n",
       "      <td>15.530336</td>\n",
       "      <td>0.000573</td>\n",
       "      <td>188.506165</td>\n",
       "      <td>0.922307</td>\n",
       "    </tr>\n",
       "    <tr>\n",
       "      <th>30884518</th>\n",
       "      <td>JP</td>\n",
       "      <td>B0BK84MT6J</td>\n",
       "      <td>0.012322</td>\n",
       "      <td>14.905678</td>\n",
       "      <td>0.001645</td>\n",
       "      <td>189.560852</td>\n",
       "      <td>0.942559</td>\n",
       "    </tr>\n",
       "    <tr>\n",
       "      <th>30884490</th>\n",
       "      <td>JP</td>\n",
       "      <td>B0BJZ6RTZR</td>\n",
       "      <td>0.010649</td>\n",
       "      <td>14.759717</td>\n",
       "      <td>0.000454</td>\n",
       "      <td>188.273148</td>\n",
       "      <td>0.943321</td>\n",
       "    </tr>\n",
       "    <tr>\n",
       "      <th>30884486</th>\n",
       "      <td>JP</td>\n",
       "      <td>B0BJYXFN22</td>\n",
       "      <td>0.007853</td>\n",
       "      <td>14.455154</td>\n",
       "      <td>0.051756</td>\n",
       "      <td>193.009583</td>\n",
       "      <td>0.953613</td>\n",
       "    </tr>\n",
       "    <tr>\n",
       "      <th>30884458</th>\n",
       "      <td>JP</td>\n",
       "      <td>B0BHVKDXX2</td>\n",
       "      <td>0.007216</td>\n",
       "      <td>14.370567</td>\n",
       "      <td>0.000436</td>\n",
       "      <td>188.232422</td>\n",
       "      <td>0.922856</td>\n",
       "    </tr>\n",
       "    <tr>\n",
       "      <th>30884426</th>\n",
       "      <td>JP</td>\n",
       "      <td>B0BDFHXHRX</td>\n",
       "      <td>0.006865</td>\n",
       "      <td>14.320771</td>\n",
       "      <td>0.001301</td>\n",
       "      <td>189.326355</td>\n",
       "      <td>0.939232</td>\n",
       "    </tr>\n",
       "    <tr>\n",
       "      <th>30884525</th>\n",
       "      <td>JP</td>\n",
       "      <td>B0BKLQKPX8</td>\n",
       "      <td>0.005806</td>\n",
       "      <td>14.153149</td>\n",
       "      <td>0.003093</td>\n",
       "      <td>190.192154</td>\n",
       "      <td>0.948093</td>\n",
       "    </tr>\n",
       "    <tr>\n",
       "      <th>30884405</th>\n",
       "      <td>JP</td>\n",
       "      <td>B09JG78KTF</td>\n",
       "      <td>0.005506</td>\n",
       "      <td>14.100100</td>\n",
       "      <td>0.009787</td>\n",
       "      <td>191.344070</td>\n",
       "      <td>0.953831</td>\n",
       "    </tr>\n",
       "    <tr>\n",
       "      <th>30884459</th>\n",
       "      <td>JP</td>\n",
       "      <td>B0BHVS2MTJ</td>\n",
       "      <td>0.005501</td>\n",
       "      <td>14.099203</td>\n",
       "      <td>0.000428</td>\n",
       "      <td>188.215378</td>\n",
       "      <td>0.936260</td>\n",
       "    </tr>\n",
       "    <tr>\n",
       "      <th>30884450</th>\n",
       "      <td>JP</td>\n",
       "      <td>B0BHR5B1H7</td>\n",
       "      <td>0.005313</td>\n",
       "      <td>14.064436</td>\n",
       "      <td>0.000222</td>\n",
       "      <td>187.559647</td>\n",
       "      <td>0.931748</td>\n",
       "    </tr>\n",
       "    <tr>\n",
       "      <th>30884515</th>\n",
       "      <td>JP</td>\n",
       "      <td>B0BK48T1BF</td>\n",
       "      <td>0.004851</td>\n",
       "      <td>13.973523</td>\n",
       "      <td>0.001069</td>\n",
       "      <td>189.129639</td>\n",
       "      <td>0.939787</td>\n",
       "    </tr>\n",
       "    <tr>\n",
       "      <th>30884400</th>\n",
       "      <td>JP</td>\n",
       "      <td>B09CCNL1LN</td>\n",
       "      <td>0.002876</td>\n",
       "      <td>13.450719</td>\n",
       "      <td>0.000197</td>\n",
       "      <td>187.439407</td>\n",
       "      <td>0.935529</td>\n",
       "    </tr>\n",
       "    <tr>\n",
       "      <th>30884502</th>\n",
       "      <td>JP</td>\n",
       "      <td>B0BJZTKY5Z</td>\n",
       "      <td>0.002776</td>\n",
       "      <td>13.415237</td>\n",
       "      <td>0.000268</td>\n",
       "      <td>187.745651</td>\n",
       "      <td>0.932915</td>\n",
       "    </tr>\n",
       "    <tr>\n",
       "      <th>30884489</th>\n",
       "      <td>JP</td>\n",
       "      <td>B0BJZ3X63R</td>\n",
       "      <td>0.002506</td>\n",
       "      <td>13.312929</td>\n",
       "      <td>0.008526</td>\n",
       "      <td>191.206192</td>\n",
       "      <td>0.947874</td>\n",
       "    </tr>\n",
       "    <tr>\n",
       "      <th>30884499</th>\n",
       "      <td>JP</td>\n",
       "      <td>B0BJZNF9H1</td>\n",
       "      <td>0.002401</td>\n",
       "      <td>13.270060</td>\n",
       "      <td>0.000674</td>\n",
       "      <td>188.668015</td>\n",
       "      <td>0.929444</td>\n",
       "    </tr>\n",
       "    <tr>\n",
       "      <th>30884474</th>\n",
       "      <td>JP</td>\n",
       "      <td>B0BJ2BFH9M</td>\n",
       "      <td>0.002390</td>\n",
       "      <td>13.265759</td>\n",
       "      <td>0.000005</td>\n",
       "      <td>183.792480</td>\n",
       "      <td>0.916314</td>\n",
       "    </tr>\n",
       "    <tr>\n",
       "      <th>30884500</th>\n",
       "      <td>JP</td>\n",
       "      <td>B0BJZS1RX9</td>\n",
       "      <td>0.002266</td>\n",
       "      <td>13.212304</td>\n",
       "      <td>0.000157</td>\n",
       "      <td>187.213455</td>\n",
       "      <td>0.929800</td>\n",
       "    </tr>\n",
       "    <tr>\n",
       "      <th>30884487</th>\n",
       "      <td>JP</td>\n",
       "      <td>B0BJYYH37M</td>\n",
       "      <td>0.002057</td>\n",
       "      <td>13.115742</td>\n",
       "      <td>0.000211</td>\n",
       "      <td>187.508118</td>\n",
       "      <td>0.940855</td>\n",
       "    </tr>\n",
       "    <tr>\n",
       "      <th>30884496</th>\n",
       "      <td>JP</td>\n",
       "      <td>B0BJZDKGN2</td>\n",
       "      <td>0.001840</td>\n",
       "      <td>13.003955</td>\n",
       "      <td>0.000090</td>\n",
       "      <td>186.651611</td>\n",
       "      <td>0.938789</td>\n",
       "    </tr>\n",
       "  </tbody>\n",
       "</table>\n",
       "</div>"
      ],
      "text/plain": [
       "         sess_locale     product  normalized_sasrec_scores_2  sasrec_scores_2  \\\n",
       "30884501          JP  B0BJZS5B42                    0.716118        18.968115   \n",
       "30884514          JP  B0BK47NWVN                    0.043007        16.155632   \n",
       "30884483          JP  B0BJTZJYH8                    0.030360        15.807399   \n",
       "30884497          JP  B0BJZHPF38                    0.025241        15.622758   \n",
       "30884469          JP  B0BHZSGTW8                    0.024278        15.583858   \n",
       "30884495          JP  B0BJZCNTL1                    0.024229        15.581818   \n",
       "30884470          JP  B0BJ1D2MPG                    0.023013        15.530336   \n",
       "30884518          JP  B0BK84MT6J                    0.012322        14.905678   \n",
       "30884490          JP  B0BJZ6RTZR                    0.010649        14.759717   \n",
       "30884486          JP  B0BJYXFN22                    0.007853        14.455154   \n",
       "30884458          JP  B0BHVKDXX2                    0.007216        14.370567   \n",
       "30884426          JP  B0BDFHXHRX                    0.006865        14.320771   \n",
       "30884525          JP  B0BKLQKPX8                    0.005806        14.153149   \n",
       "30884405          JP  B09JG78KTF                    0.005506        14.100100   \n",
       "30884459          JP  B0BHVS2MTJ                    0.005501        14.099203   \n",
       "30884450          JP  B0BHR5B1H7                    0.005313        14.064436   \n",
       "30884515          JP  B0BK48T1BF                    0.004851        13.973523   \n",
       "30884400          JP  B09CCNL1LN                    0.002876        13.450719   \n",
       "30884502          JP  B0BJZTKY5Z                    0.002776        13.415237   \n",
       "30884489          JP  B0BJZ3X63R                    0.002506        13.312929   \n",
       "30884499          JP  B0BJZNF9H1                    0.002401        13.270060   \n",
       "30884474          JP  B0BJ2BFH9M                    0.002390        13.265759   \n",
       "30884500          JP  B0BJZS1RX9                    0.002266        13.212304   \n",
       "30884487          JP  B0BJYYH37M                    0.002057        13.115742   \n",
       "30884496          JP  B0BJZDKGN2                    0.001840        13.003955   \n",
       "\n",
       "          normalized_bert_scores  bert_scores  cos_bert_scores  \n",
       "30884501                0.413212   195.087006         0.971294  \n",
       "30884514                0.014274   191.721512         0.956311  \n",
       "30884483                0.006481   190.931931         0.945648  \n",
       "30884497                0.013779   191.686203         0.947576  \n",
       "30884469                0.002119   189.814194         0.941958  \n",
       "30884495                0.000420   188.194519         0.942032  \n",
       "30884470                0.000573   188.506165         0.922307  \n",
       "30884518                0.001645   189.560852         0.942559  \n",
       "30884490                0.000454   188.273148         0.943321  \n",
       "30884486                0.051756   193.009583         0.953613  \n",
       "30884458                0.000436   188.232422         0.922856  \n",
       "30884426                0.001301   189.326355         0.939232  \n",
       "30884525                0.003093   190.192154         0.948093  \n",
       "30884405                0.009787   191.344070         0.953831  \n",
       "30884459                0.000428   188.215378         0.936260  \n",
       "30884450                0.000222   187.559647         0.931748  \n",
       "30884515                0.001069   189.129639         0.939787  \n",
       "30884400                0.000197   187.439407         0.935529  \n",
       "30884502                0.000268   187.745651         0.932915  \n",
       "30884489                0.008526   191.206192         0.947874  \n",
       "30884499                0.000674   188.668015         0.929444  \n",
       "30884474                0.000005   183.792480         0.916314  \n",
       "30884500                0.000157   187.213455         0.929800  \n",
       "30884487                0.000211   187.508118         0.940855  \n",
       "30884496                0.000090   186.651611         0.938789  "
      ]
     },
     "execution_count": 39,
     "metadata": {},
     "output_type": "execute_result"
    }
   ],
   "source": [
    "# verify gru4rec scores\n",
    "merged_candidates[merged_candidates['sess_id'] == 150021].sort_values(by=['normalized_sasrec_scores_2'], ascending=False)[['sess_locale', 'product', 'normalized_sasrec_scores_2', 'sasrec_scores_2', 'normalized_bert_scores', 'bert_scores', 'cos_bert_scores']].iloc[:25]"
   ]
  }
 ],
 "metadata": {
  "kernelspec": {
   "display_name": "torch12",
   "language": "python",
   "name": "python3"
  },
  "language_info": {
   "codemirror_mode": {
    "name": "ipython",
    "version": 3
   },
   "file_extension": ".py",
   "mimetype": "text/x-python",
   "name": "python",
   "nbconvert_exporter": "python",
   "pygments_lexer": "ipython3",
   "version": "3.9.15"
  },
  "orig_nbformat": 4
 },
 "nbformat": 4,
 "nbformat_minor": 2
}
