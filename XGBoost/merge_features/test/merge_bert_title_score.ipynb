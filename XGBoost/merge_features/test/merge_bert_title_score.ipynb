{
 "cells": [
  {
   "attachments": {},
   "cell_type": "markdown",
   "metadata": {},
   "source": [
    "use loc[i, field] instead of iloc[i, field], iloc is very slow."
   ]
  },
  {
   "cell_type": "code",
   "execution_count": 1,
   "metadata": {},
   "outputs": [],
   "source": [
    "import sys\n",
    "sys.path = ['/root/autodl-tmp/xiaolong/WorkSpace/Amazon-KDDCUP-23/RecStudio/'] + sys.path\n",
    "import os\n",
    "import random\n",
    "import numpy as np\n",
    "import pandas as pd\n",
    "import cudf, itertools\n",
    "import scipy.sparse as ssp\n",
    "from functools import lru_cache, partial\n",
    "from tqdm import tqdm, trange\n",
    "from collections import Counter, defaultdict\n",
    "import torch\n",
    "import pickle\n"
   ]
  },
  {
   "cell_type": "code",
   "execution_count": 2,
   "metadata": {},
   "outputs": [],
   "source": [
    "def cast_dtype(df : pd.DataFrame, columns=None):\n",
    "    if columns is None:\n",
    "        columns = df.columns\n",
    "    for k in columns:\n",
    "        dt = type(df[k].iloc[0])\n",
    "        if 'float' in str(dt):\n",
    "            df[k] = df[k].astype('float32')\n",
    "        elif 'int' in str(dt):\n",
    "            df[k] = df[k].astype('int32')\n",
    "        elif dt == list:\n",
    "            dt_ = type(df.iloc[0][k][0])\n",
    "            if 'float' in str(dt_):\n",
    "                df[k] = df[k].apply(lambda x : np.array(x, dtype=np.float32))\n",
    "            elif 'int' in str(dt_):\n",
    "                df[k] = df[k].apply(lambda x : np.array(x, dtype=np.int32))"
   ]
  },
  {
   "cell_type": "code",
   "execution_count": 3,
   "metadata": {},
   "outputs": [],
   "source": [
    "def _load_cache(path):\n",
    "    with open(path, 'rb') as f:\n",
    "        download_obj = pickle.load(f)\n",
    "    return download_obj"
   ]
  },
  {
   "cell_type": "code",
   "execution_count": 4,
   "metadata": {},
   "outputs": [],
   "source": [
    "def get_scores(merged_candidates_df, query_embeddings, product_embeddings):\n",
    "    batch_size = 5096\n",
    "    num_iter = (len(merged_candidates_df) - 1) // batch_size + 1\n",
    "    score_list = []\n",
    "    with torch.no_grad():\n",
    "        for i in tqdm(range(num_iter)):\n",
    "            st, ed = i * batch_size, (i + 1) * batch_size \n",
    "            batch_sess = merged_candidates_df.iloc[st : ed]\n",
    "            batch_sess_id = torch.tensor(batch_sess['sess_id'].tolist(), dtype=torch.long, device=query_embeddings.device)\n",
    "            batch_product_id = torch.tensor(batch_sess['dataset_id'].tolist(), dtype=torch.long, device=product_embeddings.device)\n",
    "            query_emb = query_embeddings[batch_sess_id]\n",
    "            product_emb = product_embeddings[batch_product_id]\n",
    "            batch_score = (query_emb * product_emb).sum(dim=-1) \n",
    "            score_list.append(batch_score.cpu())\n",
    "        score_list = torch.cat(score_list, dim=0).cpu().tolist()\n",
    "        return score_list "
   ]
  },
  {
   "cell_type": "code",
   "execution_count": 5,
   "metadata": {},
   "outputs": [],
   "source": [
    "def normalize_scores(score_df, score_name, normalized_score_name):\n",
    "    # score_df_g = cudf.from_pandas(score_df)\n",
    "    score_df['exp_score'] = np.exp(score_df[score_name].to_numpy())\n",
    "    scores_sum = score_df[['sess_id', 'exp_score']].groupby('sess_id').sum()\n",
    "    scores_sum.reset_index(inplace=True)\n",
    "    scores_sum = scores_sum.sort_values(by=['sess_id'], ascending=True)\n",
    "    scores_sum.reset_index(drop=True, inplace=True)\n",
    "    scores_sum.rename(columns={'exp_score' : 'score_sum'}, inplace=True)\n",
    "\n",
    "    merged_score_df = score_df.merge(scores_sum, how='left', left_on=['sess_id'], right_on=['sess_id'])\n",
    "    merged_score_df = merged_score_df.sort_values(by=['sess_id', 'product'])\n",
    "    merged_score_df.reset_index(drop=True, inplace=True)\n",
    "    \n",
    "    # merged_score_df = merged_score_df_g.to_pandas(merged_score_df_g)\n",
    "    score_df[normalized_score_name] = merged_score_df['exp_score'] / merged_score_df['score_sum']\n",
    "    score_df['exp_score'] = merged_score_df['exp_score']\n",
    "    score_df['score_sum'] = merged_score_df['score_sum']\n",
    "\n",
    "    # del scores_sum_g\n",
    "    # del merged_score_df_g "
   ]
  },
  {
   "attachments": {},
   "cell_type": "markdown",
   "metadata": {},
   "source": [
    "# Merge test score"
   ]
  },
  {
   "cell_type": "code",
   "execution_count": 6,
   "metadata": {},
   "outputs": [],
   "source": [
    "merged_candidates_feature_test_path = '/root/autodl-tmp/xiaolong/WorkSpace/Amazon-KDDCUP-23/XGBoost/candidates_phase2/merged_candidates_150_test_feature.parquet'\n",
    "valid_sessions_path = '/root/autodl-tmp/xiaolong/WorkSpace/Amazon-KDDCUP-23/data_for_recstudio/task1_data/task13_4_task1_valid_sessions_phase2.csv'\n",
    "test_sessions_path = '/root/autodl-tmp/xiaolong/WorkSpace/Amazon-KDDCUP-23/raw_data/sessions_test_task1_phase2.csv'"
   ]
  },
  {
   "cell_type": "code",
   "execution_count": 7,
   "metadata": {},
   "outputs": [],
   "source": [
    "@lru_cache(maxsize=1)\n",
    "def read_merged_candidates_feature_test():\n",
    "    return pd.read_parquet(merged_candidates_feature_test_path, engine='pyarrow')\n",
    "\n",
    "@lru_cache(maxsize=1)\n",
    "def read_valid_sessions():\n",
    "    return pd.read_csv(valid_sessions_path)\n",
    "\n",
    "@lru_cache(maxsize=1)\n",
    "def read_test_sessions():\n",
    "    return pd.read_csv(test_sessions_path)"
   ]
  },
  {
   "cell_type": "code",
   "execution_count": 8,
   "metadata": {},
   "outputs": [],
   "source": [
    "FIELD_NAME = 'title_bert_scores'"
   ]
  },
  {
   "cell_type": "code",
   "execution_count": 9,
   "metadata": {},
   "outputs": [],
   "source": [
    "DE_product_embeddings_path = '/root/autodl-tmp/xiaolong/WorkSpace/Amazon-KDDCUP-23/text_method/phase2_task1_bert_title_results_DE/results/item_reps/reordered_item.npy'\n",
    "DE_test_embeddings_path = '/root/autodl-tmp/xiaolong/WorkSpace/Amazon-KDDCUP-23/text_method/phase2_task1_bert_title_results_DE/test_results/test_query_reps/query.npy'\n",
    "JP_product_embeddings_path = '/root/autodl-tmp/xiaolong/WorkSpace/Amazon-KDDCUP-23/text_method/phase2_task1_bert_title_results_JP/results/item_reps/reordered_item.npy'\n",
    "JP_test_embeddings_path = '/root/autodl-tmp/xiaolong/WorkSpace/Amazon-KDDCUP-23/text_method/phase2_task1_bert_title_results_JP/test_results/test_query_reps/query.npy'\n",
    "UK_product_embeddings_path = '/root/autodl-tmp/xiaolong/WorkSpace/Amazon-KDDCUP-23/text_method/phase2_task1_roberta_title_results_UK/results/item_reps/reordered_item.npy'\n",
    "UK_test_embeddings_path = '/root/autodl-tmp/xiaolong/WorkSpace/Amazon-KDDCUP-23/text_method/phase2_task1_roberta_title_results_UK/test_results/test_query_reps/query.npy'"
   ]
  },
  {
   "cell_type": "code",
   "execution_count": 10,
   "metadata": {},
   "outputs": [],
   "source": [
    "DE_dataset_cache = '/root/autodl-tmp/xiaolong/WorkSpace/Amazon-KDDCUP-23/.recstudio/cache/87c62409540df6ccca9d90ab244af0e5'\n",
    "JP_dataset_cache = '/root/autodl-tmp/xiaolong/WorkSpace/Amazon-KDDCUP-23/.recstudio/cache/d296613e4d5aa97bebf6c4b114f02d89'\n",
    "UK_dataset_cache = '/root/autodl-tmp/xiaolong/WorkSpace/Amazon-KDDCUP-23/.recstudio/cache/d3540d1aadb28b19da92e77c7cf0f7e2'"
   ]
  },
  {
   "cell_type": "code",
   "execution_count": 11,
   "metadata": {},
   "outputs": [],
   "source": [
    "DE_train_dataset, DE_valid_dataset = _load_cache(DE_dataset_cache)\n",
    "JP_train_dataset, JP_valid_dataset = _load_cache(JP_dataset_cache)\n",
    "UK_train_dataset, UK_valid_dataset = _load_cache(UK_dataset_cache)\n",
    "locale_map = {\n",
    "    'DE' : DE_train_dataset.field2token2idx['product_id'], \n",
    "    'JP' : JP_train_dataset.field2token2idx['product_id'], \n",
    "    'UK' : UK_train_dataset.field2token2idx['product_id']\n",
    "    }"
   ]
  },
  {
   "cell_type": "code",
   "execution_count": 12,
   "metadata": {},
   "outputs": [],
   "source": [
    "merged_candidates = read_merged_candidates_feature_test()\n",
    "test_sessions = read_test_sessions()\n",
    "EMBED_DIM = 768\n",
    "merged_candidates.sort_values(by=['sess_id', 'product'], inplace=True)\n",
    "merged_candidates.reset_index(drop=True, inplace=True)"
   ]
  },
  {
   "cell_type": "code",
   "execution_count": 14,
   "metadata": {},
   "outputs": [],
   "source": [
    "# sess embeddings \n",
    "test_DE_query_emb = torch.from_numpy(np.load(DE_test_embeddings_path)) \n",
    "test_JP_query_emb = torch.from_numpy(np.load(JP_test_embeddings_path))\n",
    "test_UK_query_emb = torch.from_numpy(np.load(UK_test_embeddings_path))\n",
    "test_query_embeddings = torch.empty(len(test_sessions), EMBED_DIM)\n",
    "test_query_embeddings[(test_sessions[test_sessions['locale'] == 'DE'].index).tolist()] = test_DE_query_emb\n",
    "test_query_embeddings[(test_sessions[test_sessions['locale'] == 'JP'].index).tolist()] = test_JP_query_emb\n",
    "test_query_embeddings[(test_sessions[test_sessions['locale'] == 'UK'].index).tolist()] = test_UK_query_emb"
   ]
  },
  {
   "cell_type": "code",
   "execution_count": 15,
   "metadata": {},
   "outputs": [
    {
     "data": {
      "text/plain": [
       "(tensor([[ 0.1136, -0.2501, -0.0704,  ...,  0.1847,  0.0717, -0.3017],\n",
       "         [-0.3964,  0.0939, -0.1283,  ...,  0.1563, -0.1644, -0.0321],\n",
       "         [-0.0323,  0.3606, -0.0128,  ..., -0.0118,  0.1365, -0.2942],\n",
       "         ...,\n",
       "         [ 0.0118,  0.5020, -0.0754,  ..., -0.4015,  0.0860,  0.0765],\n",
       "         [ 0.0480,  0.0737, -0.1268,  ..., -0.1232,  0.1216,  0.1034],\n",
       "         [ 0.2913,  0.2383, -0.2621,  ..., -0.2491,  0.0703,  0.0205]]),\n",
       " torch.Size([316972, 768]))"
      ]
     },
     "execution_count": 15,
     "metadata": {},
     "output_type": "execute_result"
    }
   ],
   "source": [
    "test_query_embeddings, test_query_embeddings.shape"
   ]
  },
  {
   "cell_type": "code",
   "execution_count": 16,
   "metadata": {},
   "outputs": [],
   "source": [
    "# product_embeddings, the embeddings include padding embedding\n",
    "DE_product_emb = torch.from_numpy(np.load(DE_product_embeddings_path))\n",
    "JP_product_emb = torch.from_numpy(np.load(JP_product_embeddings_path))\n",
    "UK_product_emb = torch.from_numpy(np.load(UK_product_embeddings_path))\n",
    "product_embeddings = torch.cat([DE_product_emb, JP_product_emb, UK_product_emb], dim=0)"
   ]
  },
  {
   "cell_type": "code",
   "execution_count": 17,
   "metadata": {},
   "outputs": [
    {
     "data": {
      "text/plain": [
       "tensor([[ 0.0000,  0.0000,  0.0000,  ...,  0.0000,  0.0000,  0.0000],\n",
       "        [-0.2777,  0.4617,  0.1657,  ...,  0.0505,  0.0628, -0.7108],\n",
       "        [-0.0915,  0.2569, -0.1503,  ..., -0.0563,  0.1256, -0.4411],\n",
       "        ...,\n",
       "        [ 0.2559,  0.1071, -0.1689,  ..., -0.0935, -0.0517, -0.4844],\n",
       "        [-0.1851,  0.6337,  0.0548,  ...,  0.1978, -0.4778, -0.8956],\n",
       "        [-0.1200,  0.1002, -0.4467,  ...,  0.1571, -0.4825, -0.3066]],\n",
       "       dtype=torch.float64)"
      ]
     },
     "execution_count": 17,
     "metadata": {},
     "output_type": "execute_result"
    }
   ],
   "source": [
    "DE_product_emb"
   ]
  },
  {
   "cell_type": "code",
   "execution_count": 18,
   "metadata": {},
   "outputs": [],
   "source": [
    "merged_candidates_ = merged_candidates[['sess_id', 'sess_locale', 'product']].copy()"
   ]
  },
  {
   "cell_type": "code",
   "execution_count": 19,
   "metadata": {},
   "outputs": [],
   "source": [
    "DE_product_list, DE_id_list = list(zip(*locale_map['DE'].items()))\n",
    "JP_product_list, JP_id_list = list(zip(*locale_map['JP'].items()))\n",
    "UK_product_list, UK_id_list = list(zip(*locale_map['UK'].items()))\n",
    "product_list = list(DE_product_list) + list(JP_product_list) + list(UK_product_list)\n",
    "id_list = list(DE_id_list) + list(JP_id_list) + list(UK_id_list)\n",
    "locale_list = ['DE'] * len(DE_id_list) + ['JP'] * len(JP_id_list) + ['UK'] * len(UK_id_list)\n",
    "product_id_df = pd.DataFrame({'locale' : locale_list, 'product' : product_list, 'dataset_id' : id_list})"
   ]
  },
  {
   "cell_type": "code",
   "execution_count": 17,
   "metadata": {},
   "outputs": [],
   "source": [
    "# merged_candidates_g = cudf.from_pandas(merged_candidates_)\n",
    "# product_id_df_g = cudf.from_pandas(product_id_df)"
   ]
  },
  {
   "cell_type": "code",
   "execution_count": 18,
   "metadata": {},
   "outputs": [],
   "source": [
    "# merged_candidates_score_g = merged_candidates_g.merge(product_id_df_g, how='left', left_on=['sess_locale', 'product'], right_on=['locale', 'product'])\n",
    "# merged_candidates_score_g['dataset_id'] = merged_candidates_score_g['dataset_id'].fillna(0)\n",
    "# merged_candidates_score_g.drop(columns=['locale'], inplace=True)\n",
    "# merged_candidates_score_g = merged_candidates_score_g.sort_values(by=['sess_id', 'product'])\n",
    "# merged_candidates_score_g.reset_index(drop=True, inplace=True)\n",
    "# merged_candidates_score = merged_candidates_score_g.to_pandas()"
   ]
  },
  {
   "cell_type": "code",
   "execution_count": 20,
   "metadata": {},
   "outputs": [],
   "source": [
    "merged_candidates_score = merged_candidates_.merge(product_id_df, how='left', left_on=['sess_locale', 'product'], right_on=['locale', 'product'])\n",
    "merged_candidates_score['dataset_id'] = merged_candidates_score['dataset_id'].fillna(0)\n",
    "merged_candidates_score.drop(columns=['locale'], inplace=True)\n",
    "merged_candidates_score = merged_candidates_score.sort_values(by=['sess_id', 'product'])\n",
    "merged_candidates_score.reset_index(drop=True, inplace=True)\n",
    "assert len(merged_candidates_score) == len(merged_candidates)"
   ]
  },
  {
   "cell_type": "code",
   "execution_count": 19,
   "metadata": {},
   "outputs": [],
   "source": [
    "# del merged_candidates_g\n",
    "# del product_id_df_g\n",
    "# del merged_candidates_score_g"
   ]
  },
  {
   "cell_type": "code",
   "execution_count": 21,
   "metadata": {},
   "outputs": [
    {
     "name": "stderr",
     "output_type": "stream",
     "text": [
      "/tmp/ipykernel_479727/2978421209.py:3: SettingWithCopyWarning: \n",
      "A value is trying to be set on a copy of a slice from a DataFrame\n",
      "\n",
      "See the caveats in the documentation: https://pandas.pydata.org/pandas-docs/stable/user_guide/indexing.html#returning-a-view-versus-a-copy\n",
      "  merged_candidates_score['dataset_id'][merged_candidates_score['sess_locale'] == locale] = \\\n"
     ]
    }
   ],
   "source": [
    "locale_offset = {'DE' : 0, 'JP' : len(DE_product_list), 'UK' : len(DE_product_list) + len(JP_product_list)}\n",
    "for locale in ['DE', 'JP', 'UK']:\n",
    "    merged_candidates_score['dataset_id'][merged_candidates_score['sess_locale'] == locale] = \\\n",
    "        merged_candidates_score['dataset_id'][merged_candidates_score['sess_locale'] == locale] + locale_offset[locale]"
   ]
  },
  {
   "cell_type": "code",
   "execution_count": null,
   "metadata": {},
   "outputs": [],
   "source": [
    "valid_query_embeddings = test_query_embeddings.to('cuda:7')\n",
    "product_embeddings = product_embeddings.to('cuda:7')"
   ]
  },
  {
   "cell_type": "code",
   "execution_count": 22,
   "metadata": {},
   "outputs": [],
   "source": [
    "# using cosine scores \n",
    "normalized_test_query_embeddings = torch.nn.functional.normalize(test_query_embeddings, p=2, dim=-1)\n",
    "normalized_product_embeddings = torch.nn.functional.normalize(product_embeddings, p=2, dim=-1)\n",
    "normalized_product_embeddings = normalized_product_embeddings.type(torch.float)"
   ]
  },
  {
   "cell_type": "code",
   "execution_count": 23,
   "metadata": {},
   "outputs": [
    {
     "name": "stderr",
     "output_type": "stream",
     "text": [
      "  0%|          | 0/32208 [00:00<?, ?it/s]/tmp/ipykernel_479727/622120297.py:10: DeprecationWarning: an integer is required (got type float).  Implicit conversion to integers using __int__ is deprecated, and may be removed in a future version of Python.\n",
      "  batch_product_id = torch.tensor(batch_sess['dataset_id'].tolist(), dtype=torch.long, device=product_embeddings.device)\n",
      "100%|██████████| 32208/32208 [12:25<00:00, 43.23it/s]\n"
     ]
    }
   ],
   "source": [
    "merged_candidates_score['cos_'+FIELD_NAME] = get_scores(merged_candidates_score, normalized_test_query_embeddings, normalized_product_embeddings)"
   ]
  },
  {
   "cell_type": "code",
   "execution_count": 29,
   "metadata": {},
   "outputs": [
    {
     "name": "stderr",
     "output_type": "stream",
     "text": [
      "  0%|          | 0/12944 [00:00<?, ?it/s]/tmp/ipykernel_479727/1592792540.py:10: DeprecationWarning: an integer is required (got type float).  Implicit conversion to integers using __int__ is deprecated, and may be removed in a future version of Python.\n",
      "  batch_product_id = torch.tensor(batch_sess['dataset_id'].tolist(), dtype=torch.long, device=product_embeddings.device)\n",
      "100%|██████████| 12944/12944 [08:12<00:00, 26.26it/s]\n"
     ]
    }
   ],
   "source": [
    "merged_candidates_score[FIELD_NAME] = get_scores(merged_candidates_score, test_query_embeddings, product_embeddings)"
   ]
  },
  {
   "cell_type": "code",
   "execution_count": 36,
   "metadata": {},
   "outputs": [],
   "source": [
    "# del test_query_embeddings\n",
    "# del product_embeddings"
   ]
  },
  {
   "cell_type": "code",
   "execution_count": 30,
   "metadata": {},
   "outputs": [],
   "source": [
    "normalize_scores(merged_candidates_score, FIELD_NAME, 'normalized_'+FIELD_NAME)"
   ]
  },
  {
   "cell_type": "code",
   "execution_count": 31,
   "metadata": {},
   "outputs": [],
   "source": [
    "merged_candidates['cos_'+FIELD_NAME] = merged_candidates_score['cos_'+FIELD_NAME]"
   ]
  },
  {
   "cell_type": "code",
   "execution_count": 32,
   "metadata": {},
   "outputs": [],
   "source": [
    "merged_candidates[FIELD_NAME] = merged_candidates_score[FIELD_NAME]\n",
    "merged_candidates['normalized_'+FIELD_NAME] = merged_candidates_score['normalized_'+FIELD_NAME]"
   ]
  },
  {
   "cell_type": "code",
   "execution_count": 37,
   "metadata": {},
   "outputs": [],
   "source": [
    "cast_dtype(merged_candidates, ['cos_'+FIELD_NAME])"
   ]
  },
  {
   "cell_type": "code",
   "execution_count": 38,
   "metadata": {},
   "outputs": [],
   "source": [
    "cast_dtype(merged_candidates, [FIELD_NAME, 'normalized_'+FIELD_NAME])\n",
    "merged_candidates.to_parquet(merged_candidates_feature_test_path, engine='pyarrow')"
   ]
  },
  {
   "cell_type": "code",
   "execution_count": 30,
   "metadata": {},
   "outputs": [
    {
     "data": {
      "text/html": [
       "<div>\n",
       "<style scoped>\n",
       "    .dataframe tbody tr th:only-of-type {\n",
       "        vertical-align: middle;\n",
       "    }\n",
       "\n",
       "    .dataframe tbody tr th {\n",
       "        vertical-align: top;\n",
       "    }\n",
       "\n",
       "    .dataframe thead th {\n",
       "        text-align: right;\n",
       "    }\n",
       "</style>\n",
       "<table border=\"1\" class=\"dataframe\">\n",
       "  <thead>\n",
       "    <tr style=\"text-align: right;\">\n",
       "      <th></th>\n",
       "      <th>sess_locale</th>\n",
       "      <th>product</th>\n",
       "      <th>normalized_sasrec_scores_2</th>\n",
       "      <th>sasrec_scores_2</th>\n",
       "      <th>normalized_title_bert_scores</th>\n",
       "      <th>title_bert_scores</th>\n",
       "      <th>cos_title_bert_scores</th>\n",
       "    </tr>\n",
       "  </thead>\n",
       "  <tbody>\n",
       "    <tr>\n",
       "      <th>16280933</th>\n",
       "      <td>DE</td>\n",
       "      <td>B01NAQD0KD</td>\n",
       "      <td>0.192159</td>\n",
       "      <td>16.101398</td>\n",
       "      <td>0.179538</td>\n",
       "      <td>388.531311</td>\n",
       "      <td>0.970479</td>\n",
       "    </tr>\n",
       "    <tr>\n",
       "      <th>16280917</th>\n",
       "      <td>DE</td>\n",
       "      <td>B00IVEPHQ4</td>\n",
       "      <td>0.171488</td>\n",
       "      <td>15.987590</td>\n",
       "      <td>0.005924</td>\n",
       "      <td>385.119873</td>\n",
       "      <td>0.962715</td>\n",
       "    </tr>\n",
       "    <tr>\n",
       "      <th>16280961</th>\n",
       "      <td>DE</td>\n",
       "      <td>B07RMTZKXY</td>\n",
       "      <td>0.138671</td>\n",
       "      <td>15.775178</td>\n",
       "      <td>0.002676</td>\n",
       "      <td>384.325226</td>\n",
       "      <td>0.964076</td>\n",
       "    </tr>\n",
       "    <tr>\n",
       "      <th>16280915</th>\n",
       "      <td>DE</td>\n",
       "      <td>B00E3862DE</td>\n",
       "      <td>0.116764</td>\n",
       "      <td>15.603232</td>\n",
       "      <td>0.021343</td>\n",
       "      <td>386.401642</td>\n",
       "      <td>0.962342</td>\n",
       "    </tr>\n",
       "    <tr>\n",
       "      <th>16280955</th>\n",
       "      <td>DE</td>\n",
       "      <td>B07M8J529S</td>\n",
       "      <td>0.045633</td>\n",
       "      <td>14.663700</td>\n",
       "      <td>0.000003</td>\n",
       "      <td>377.373230</td>\n",
       "      <td>0.943159</td>\n",
       "    </tr>\n",
       "    <tr>\n",
       "      <th>16280966</th>\n",
       "      <td>DE</td>\n",
       "      <td>B07Y53N2GW</td>\n",
       "      <td>0.044587</td>\n",
       "      <td>14.640528</td>\n",
       "      <td>0.062468</td>\n",
       "      <td>387.475555</td>\n",
       "      <td>0.968654</td>\n",
       "    </tr>\n",
       "    <tr>\n",
       "      <th>16281051</th>\n",
       "      <td>DE</td>\n",
       "      <td>B09FRW5J7B</td>\n",
       "      <td>0.036596</td>\n",
       "      <td>14.443015</td>\n",
       "      <td>0.024402</td>\n",
       "      <td>386.535583</td>\n",
       "      <td>0.968574</td>\n",
       "    </tr>\n",
       "    <tr>\n",
       "      <th>16281174</th>\n",
       "      <td>DE</td>\n",
       "      <td>B0BDRZ8TMB</td>\n",
       "      <td>0.031278</td>\n",
       "      <td>14.285977</td>\n",
       "      <td>0.001663</td>\n",
       "      <td>383.849487</td>\n",
       "      <td>0.963565</td>\n",
       "    </tr>\n",
       "    <tr>\n",
       "      <th>16281152</th>\n",
       "      <td>DE</td>\n",
       "      <td>B0B63375WT</td>\n",
       "      <td>0.024604</td>\n",
       "      <td>14.046004</td>\n",
       "      <td>0.018637</td>\n",
       "      <td>386.266083</td>\n",
       "      <td>0.966392</td>\n",
       "    </tr>\n",
       "    <tr>\n",
       "      <th>16281000</th>\n",
       "      <td>DE</td>\n",
       "      <td>B08JYFQ9ZH</td>\n",
       "      <td>0.022332</td>\n",
       "      <td>13.949091</td>\n",
       "      <td>0.002435</td>\n",
       "      <td>384.230988</td>\n",
       "      <td>0.965461</td>\n",
       "    </tr>\n",
       "    <tr>\n",
       "      <th>16281005</th>\n",
       "      <td>DE</td>\n",
       "      <td>B08NP97945</td>\n",
       "      <td>0.019285</td>\n",
       "      <td>13.802407</td>\n",
       "      <td>0.016063</td>\n",
       "      <td>386.117432</td>\n",
       "      <td>0.965513</td>\n",
       "    </tr>\n",
       "    <tr>\n",
       "      <th>16281094</th>\n",
       "      <td>DE</td>\n",
       "      <td>B09QWYXTCY</td>\n",
       "      <td>0.012261</td>\n",
       "      <td>13.349529</td>\n",
       "      <td>0.015810</td>\n",
       "      <td>386.101593</td>\n",
       "      <td>0.968406</td>\n",
       "    </tr>\n",
       "    <tr>\n",
       "      <th>16281147</th>\n",
       "      <td>DE</td>\n",
       "      <td>B0B4KJY5G3</td>\n",
       "      <td>0.011911</td>\n",
       "      <td>13.320508</td>\n",
       "      <td>0.011696</td>\n",
       "      <td>385.800140</td>\n",
       "      <td>0.973791</td>\n",
       "    </tr>\n",
       "    <tr>\n",
       "      <th>16281055</th>\n",
       "      <td>DE</td>\n",
       "      <td>B09GJYV49R</td>\n",
       "      <td>0.009737</td>\n",
       "      <td>13.118959</td>\n",
       "      <td>0.009579</td>\n",
       "      <td>385.600494</td>\n",
       "      <td>0.968270</td>\n",
       "    </tr>\n",
       "    <tr>\n",
       "      <th>16281018</th>\n",
       "      <td>DE</td>\n",
       "      <td>B08XLVBMB7</td>\n",
       "      <td>0.009135</td>\n",
       "      <td>13.055160</td>\n",
       "      <td>0.010074</td>\n",
       "      <td>385.650909</td>\n",
       "      <td>0.964488</td>\n",
       "    </tr>\n",
       "    <tr>\n",
       "      <th>16281158</th>\n",
       "      <td>DE</td>\n",
       "      <td>B0B7RJGS8H</td>\n",
       "      <td>0.009112</td>\n",
       "      <td>13.052632</td>\n",
       "      <td>0.029357</td>\n",
       "      <td>386.720428</td>\n",
       "      <td>0.973263</td>\n",
       "    </tr>\n",
       "    <tr>\n",
       "      <th>16281175</th>\n",
       "      <td>DE</td>\n",
       "      <td>B0BFFD6KMN</td>\n",
       "      <td>0.008362</td>\n",
       "      <td>12.966763</td>\n",
       "      <td>0.025412</td>\n",
       "      <td>386.576141</td>\n",
       "      <td>0.969999</td>\n",
       "    </tr>\n",
       "    <tr>\n",
       "      <th>16280958</th>\n",
       "      <td>DE</td>\n",
       "      <td>B07PSNN9X1</td>\n",
       "      <td>0.007217</td>\n",
       "      <td>12.819510</td>\n",
       "      <td>0.002630</td>\n",
       "      <td>384.307831</td>\n",
       "      <td>0.955808</td>\n",
       "    </tr>\n",
       "    <tr>\n",
       "      <th>16281156</th>\n",
       "      <td>DE</td>\n",
       "      <td>B0B7LMM4J9</td>\n",
       "      <td>0.006878</td>\n",
       "      <td>12.771406</td>\n",
       "      <td>0.001145</td>\n",
       "      <td>383.476227</td>\n",
       "      <td>0.958023</td>\n",
       "    </tr>\n",
       "    <tr>\n",
       "      <th>16281176</th>\n",
       "      <td>DE</td>\n",
       "      <td>B0BFL842WL</td>\n",
       "      <td>0.005298</td>\n",
       "      <td>12.510355</td>\n",
       "      <td>0.009836</td>\n",
       "      <td>385.626923</td>\n",
       "      <td>0.965492</td>\n",
       "    </tr>\n",
       "    <tr>\n",
       "      <th>16281155</th>\n",
       "      <td>DE</td>\n",
       "      <td>B0B7DM3SSC</td>\n",
       "      <td>0.005119</td>\n",
       "      <td>12.476114</td>\n",
       "      <td>0.002872</td>\n",
       "      <td>384.395874</td>\n",
       "      <td>0.964664</td>\n",
       "    </tr>\n",
       "    <tr>\n",
       "      <th>16281078</th>\n",
       "      <td>DE</td>\n",
       "      <td>B09MS5S5GV</td>\n",
       "      <td>0.004456</td>\n",
       "      <td>12.337255</td>\n",
       "      <td>0.033103</td>\n",
       "      <td>386.840546</td>\n",
       "      <td>0.969986</td>\n",
       "    </tr>\n",
       "    <tr>\n",
       "      <th>16280972</th>\n",
       "      <td>DE</td>\n",
       "      <td>B07ZZZ7BLP</td>\n",
       "      <td>0.004024</td>\n",
       "      <td>12.235403</td>\n",
       "      <td>0.002861</td>\n",
       "      <td>384.392242</td>\n",
       "      <td>0.965906</td>\n",
       "    </tr>\n",
       "    <tr>\n",
       "      <th>16281164</th>\n",
       "      <td>DE</td>\n",
       "      <td>B0B9MSMS6X</td>\n",
       "      <td>0.003160</td>\n",
       "      <td>11.993524</td>\n",
       "      <td>0.010921</td>\n",
       "      <td>385.731628</td>\n",
       "      <td>0.966376</td>\n",
       "    </tr>\n",
       "    <tr>\n",
       "      <th>16281066</th>\n",
       "      <td>DE</td>\n",
       "      <td>B09J1959QY</td>\n",
       "      <td>0.003085</td>\n",
       "      <td>11.969552</td>\n",
       "      <td>0.018991</td>\n",
       "      <td>386.284912</td>\n",
       "      <td>0.975486</td>\n",
       "    </tr>\n",
       "  </tbody>\n",
       "</table>\n",
       "</div>"
      ],
      "text/plain": [
       "         sess_locale     product  normalized_sasrec_scores_2  sasrec_scores_2  \\\n",
       "16280933          DE  B01NAQD0KD                    0.192159        16.101398   \n",
       "16280917          DE  B00IVEPHQ4                    0.171488        15.987590   \n",
       "16280961          DE  B07RMTZKXY                    0.138671        15.775178   \n",
       "16280915          DE  B00E3862DE                    0.116764        15.603232   \n",
       "16280955          DE  B07M8J529S                    0.045633        14.663700   \n",
       "16280966          DE  B07Y53N2GW                    0.044587        14.640528   \n",
       "16281051          DE  B09FRW5J7B                    0.036596        14.443015   \n",
       "16281174          DE  B0BDRZ8TMB                    0.031278        14.285977   \n",
       "16281152          DE  B0B63375WT                    0.024604        14.046004   \n",
       "16281000          DE  B08JYFQ9ZH                    0.022332        13.949091   \n",
       "16281005          DE  B08NP97945                    0.019285        13.802407   \n",
       "16281094          DE  B09QWYXTCY                    0.012261        13.349529   \n",
       "16281147          DE  B0B4KJY5G3                    0.011911        13.320508   \n",
       "16281055          DE  B09GJYV49R                    0.009737        13.118959   \n",
       "16281018          DE  B08XLVBMB7                    0.009135        13.055160   \n",
       "16281158          DE  B0B7RJGS8H                    0.009112        13.052632   \n",
       "16281175          DE  B0BFFD6KMN                    0.008362        12.966763   \n",
       "16280958          DE  B07PSNN9X1                    0.007217        12.819510   \n",
       "16281156          DE  B0B7LMM4J9                    0.006878        12.771406   \n",
       "16281176          DE  B0BFL842WL                    0.005298        12.510355   \n",
       "16281155          DE  B0B7DM3SSC                    0.005119        12.476114   \n",
       "16281078          DE  B09MS5S5GV                    0.004456        12.337255   \n",
       "16280972          DE  B07ZZZ7BLP                    0.004024        12.235403   \n",
       "16281164          DE  B0B9MSMS6X                    0.003160        11.993524   \n",
       "16281066          DE  B09J1959QY                    0.003085        11.969552   \n",
       "\n",
       "          normalized_title_bert_scores  title_bert_scores  \\\n",
       "16280933                      0.179538         388.531311   \n",
       "16280917                      0.005924         385.119873   \n",
       "16280961                      0.002676         384.325226   \n",
       "16280915                      0.021343         386.401642   \n",
       "16280955                      0.000003         377.373230   \n",
       "16280966                      0.062468         387.475555   \n",
       "16281051                      0.024402         386.535583   \n",
       "16281174                      0.001663         383.849487   \n",
       "16281152                      0.018637         386.266083   \n",
       "16281000                      0.002435         384.230988   \n",
       "16281005                      0.016063         386.117432   \n",
       "16281094                      0.015810         386.101593   \n",
       "16281147                      0.011696         385.800140   \n",
       "16281055                      0.009579         385.600494   \n",
       "16281018                      0.010074         385.650909   \n",
       "16281158                      0.029357         386.720428   \n",
       "16281175                      0.025412         386.576141   \n",
       "16280958                      0.002630         384.307831   \n",
       "16281156                      0.001145         383.476227   \n",
       "16281176                      0.009836         385.626923   \n",
       "16281155                      0.002872         384.395874   \n",
       "16281078                      0.033103         386.840546   \n",
       "16280972                      0.002861         384.392242   \n",
       "16281164                      0.010921         385.731628   \n",
       "16281066                      0.018991         386.284912   \n",
       "\n",
       "          cos_title_bert_scores  \n",
       "16280933               0.970479  \n",
       "16280917               0.962715  \n",
       "16280961               0.964076  \n",
       "16280915               0.962342  \n",
       "16280955               0.943159  \n",
       "16280966               0.968654  \n",
       "16281051               0.968574  \n",
       "16281174               0.963565  \n",
       "16281152               0.966392  \n",
       "16281000               0.965461  \n",
       "16281005               0.965513  \n",
       "16281094               0.968406  \n",
       "16281147               0.973791  \n",
       "16281055               0.968270  \n",
       "16281018               0.964488  \n",
       "16281158               0.973263  \n",
       "16281175               0.969999  \n",
       "16280958               0.955808  \n",
       "16281156               0.958023  \n",
       "16281176               0.965492  \n",
       "16281155               0.964664  \n",
       "16281078               0.969986  \n",
       "16280972               0.965906  \n",
       "16281164               0.966376  \n",
       "16281066               0.975486  "
      ]
     },
     "execution_count": 30,
     "metadata": {},
     "output_type": "execute_result"
    }
   ],
   "source": [
    "# verify scores\n",
    "merged_candidates[merged_candidates['sess_id'] == 54216].sort_values(by=['normalized_sasrec_scores_2'], ascending=False)[['sess_locale', 'product', 'normalized_sasrec_scores_2', 'sasrec_scores_2', 'normalized_'+FIELD_NAME, FIELD_NAME, 'cos_'+FIELD_NAME]].iloc[:25]"
   ]
  }
 ],
 "metadata": {
  "kernelspec": {
   "display_name": "torch12",
   "language": "python",
   "name": "python3"
  },
  "language_info": {
   "codemirror_mode": {
    "name": "ipython",
    "version": 3
   },
   "file_extension": ".py",
   "mimetype": "text/x-python",
   "name": "python",
   "nbconvert_exporter": "python",
   "pygments_lexer": "ipython3",
   "version": "3.9.15"
  },
  "orig_nbformat": 4
 },
 "nbformat": 4,
 "nbformat_minor": 2
}
