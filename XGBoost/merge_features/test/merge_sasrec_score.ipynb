{
 "cells": [
  {
   "attachments": {},
   "cell_type": "markdown",
   "metadata": {},
   "source": [
    "use loc[i, field] instead of iloc[i, field], iloc is very slow."
   ]
  },
  {
   "cell_type": "code",
   "execution_count": 1,
   "metadata": {
    "execution": {
     "iopub.execute_input": "2023-06-01T12:58:24.767014Z",
     "iopub.status.busy": "2023-06-01T12:58:24.766030Z",
     "iopub.status.idle": "2023-06-01T12:58:27.723478Z",
     "shell.execute_reply": "2023-06-01T12:58:27.722529Z"
    }
   },
   "outputs": [],
   "source": [
    "import sys\n",
    "sys.path = ['/root/autodl-tmp/xiaolong/WorkSpace/Amazon-KDDCUP-23/RecStudio/'] + sys.path\n",
    "import random\n",
    "import numpy as np\n",
    "import pandas as pd\n",
    "import cudf, itertools\n",
    "import scipy.sparse as ssp\n",
    "from functools import lru_cache, partial\n",
    "from tqdm import tqdm, trange\n",
    "from collections import Counter, defaultdict\n",
    "import torch\n",
    "import pickle"
   ]
  },
  {
   "cell_type": "code",
   "execution_count": 2,
   "metadata": {
    "execution": {
     "iopub.execute_input": "2023-06-01T12:58:27.730442Z",
     "iopub.status.busy": "2023-06-01T12:58:27.729906Z",
     "iopub.status.idle": "2023-06-01T12:58:27.737723Z",
     "shell.execute_reply": "2023-06-01T12:58:27.736620Z"
    }
   },
   "outputs": [],
   "source": [
    "def cast_dtype(df : pd.DataFrame):\n",
    "    for k in df.columns:\n",
    "        dt = type(df[k].iloc[0])\n",
    "        if 'float' in str(dt):\n",
    "            df[k] = df[k].astype('float32')\n",
    "        elif 'int' in str(dt):\n",
    "            df[k] = df[k].astype('int32')\n",
    "        elif dt == list:\n",
    "            dt_ = type(df.iloc[0][k][0])\n",
    "            if 'float' in str(dt_):\n",
    "                df[k] = df[k].apply(lambda x : np.array(x, dtype=np.float32))\n",
    "            elif 'int' in str(dt_):\n",
    "                df[k] = df[k].apply(lambda x : np.array(x, dtype=np.int32))"
   ]
  },
  {
   "cell_type": "code",
   "execution_count": 3,
   "metadata": {
    "execution": {
     "iopub.execute_input": "2023-06-01T12:58:27.745225Z",
     "iopub.status.busy": "2023-06-01T12:58:27.744818Z",
     "iopub.status.idle": "2023-06-01T12:58:27.750489Z",
     "shell.execute_reply": "2023-06-01T12:58:27.749368Z"
    }
   },
   "outputs": [],
   "source": [
    "def _load_cache(path):\n",
    "    with open(path, 'rb') as f:\n",
    "        download_obj = pickle.load(f)\n",
    "    return download_obj"
   ]
  },
  {
   "cell_type": "code",
   "execution_count": 4,
   "metadata": {
    "execution": {
     "iopub.execute_input": "2023-06-01T12:58:27.758365Z",
     "iopub.status.busy": "2023-06-01T12:58:27.757701Z",
     "iopub.status.idle": "2023-06-01T12:58:27.770022Z",
     "shell.execute_reply": "2023-06-01T12:58:27.768949Z"
    }
   },
   "outputs": [],
   "source": [
    "def get_scores(merged_candidates_df, query_embeddings, product_embeddings):\n",
    "    batch_size = 2048\n",
    "    num_iter = (len(merged_candidates_df) - 1) // batch_size + 1\n",
    "    score_list = []\n",
    "    with torch.no_grad():\n",
    "        for i in tqdm(range(num_iter)):\n",
    "            st, ed = i * batch_size, (i + 1) * batch_size \n",
    "            batch_sess = merged_candidates_df.iloc[st : ed]\n",
    "            batch_sess_id = torch.tensor(batch_sess['sess_id'].tolist(), dtype=torch.long, device=query_embeddings.device)\n",
    "            batch_product_id = torch.tensor(batch_sess['dataset_id'].tolist(), dtype=torch.long, device=product_embeddings.device)\n",
    "            query_emb = query_embeddings[batch_sess_id].to('cuda:1')\n",
    "            product_emb = product_embeddings[batch_product_id].to('cuda:1')\n",
    "            batch_score = (query_emb * product_emb).sum(dim=-1) \n",
    "            score_list.append(batch_score.cpu())\n",
    "        score_list = torch.cat(score_list, dim=0).cpu().tolist()\n",
    "        return score_list "
   ]
  },
  {
   "cell_type": "code",
   "execution_count": 5,
   "metadata": {
    "execution": {
     "iopub.execute_input": "2023-06-01T12:58:27.775565Z",
     "iopub.status.busy": "2023-06-01T12:58:27.775073Z",
     "iopub.status.idle": "2023-06-01T12:58:27.788017Z",
     "shell.execute_reply": "2023-06-01T12:58:27.786959Z"
    }
   },
   "outputs": [],
   "source": [
    "def normalize_scores(score_df, score_name, normalized_score_name):\n",
    "    # score_df_g = cudf.from_pandas(score_df)\n",
    "    score_df['exp_score'] = np.exp(score_df[score_name].to_numpy())\n",
    "    scores_sum = score_df[['sess_id', 'exp_score']].groupby('sess_id').sum()\n",
    "    scores_sum.reset_index(inplace=True)\n",
    "    scores_sum = scores_sum.sort_values(by=['sess_id'], ascending=True)\n",
    "    scores_sum.reset_index(drop=True, inplace=True)\n",
    "    scores_sum.rename(columns={'exp_score' : 'score_sum'}, inplace=True)\n",
    "\n",
    "    merged_score_df = score_df.merge(scores_sum, how='left', left_on=['sess_id'], right_on=['sess_id'])\n",
    "    merged_score_df = merged_score_df.sort_values(by=['sess_id', 'product'])\n",
    "    merged_score_df.reset_index(drop=True, inplace=True)\n",
    "    \n",
    "    # merged_score_df = merged_score_df_g.to_pandas(merged_score_df_g)\n",
    "    score_df[normalized_score_name] = merged_score_df['exp_score'] / merged_score_df['score_sum']\n",
    "    score_df['exp_score'] = merged_score_df['exp_score']\n",
    "    score_df['score_sum'] = merged_score_df['score_sum']\n",
    "\n",
    "    # del scores_sum_g\n",
    "    # del merged_score_df_g "
   ]
  },
  {
   "attachments": {},
   "cell_type": "markdown",
   "metadata": {},
   "source": [
    "# Merge test score"
   ]
  },
  {
   "cell_type": "code",
   "execution_count": 6,
   "metadata": {
    "execution": {
     "iopub.execute_input": "2023-06-01T12:58:27.794932Z",
     "iopub.status.busy": "2023-06-01T12:58:27.794460Z",
     "iopub.status.idle": "2023-06-01T12:58:27.799585Z",
     "shell.execute_reply": "2023-06-01T12:58:27.798422Z"
    }
   },
   "outputs": [],
   "source": [
    "FIELD_NAME = 'sasrec_scores_2'"
   ]
  },
  {
   "cell_type": "code",
   "execution_count": 7,
   "metadata": {
    "execution": {
     "iopub.execute_input": "2023-06-01T12:58:27.806319Z",
     "iopub.status.busy": "2023-06-01T12:58:27.805510Z",
     "iopub.status.idle": "2023-06-01T12:58:27.811786Z",
     "shell.execute_reply": "2023-06-01T12:58:27.810855Z"
    }
   },
   "outputs": [],
   "source": [
    "merged_candidates_feature_test_path = '/root/autodl-tmp/xiaolong/WorkSpace/Amazon-KDDCUP-23/XGBoost/candidates_phase2/merged_candidates_150_test_feature.parquet'\n",
    "test_sessions_path = '/root/autodl-tmp/xiaolong/WorkSpace/Amazon-KDDCUP-23/raw_data/sessions_test_task1_phase2.csv'"
   ]
  },
  {
   "cell_type": "code",
   "execution_count": 8,
   "metadata": {
    "execution": {
     "iopub.execute_input": "2023-06-01T12:58:27.816608Z",
     "iopub.status.busy": "2023-06-01T12:58:27.816225Z",
     "iopub.status.idle": "2023-06-01T12:58:27.822583Z",
     "shell.execute_reply": "2023-06-01T12:58:27.821410Z"
    }
   },
   "outputs": [],
   "source": [
    "DE_product_embeddings_path = '/root/autodl-tmp/xiaolong/WorkSpace/Amazon-KDDCUP-23/candidates_phase2/query_embeddings/SASRec_Next/kdd_cup_2023_DE/product_embeddings_2023-06-01-20-19-21.pt'\n",
    "DE_test_embeddings_path = '/root/autodl-tmp/xiaolong/WorkSpace/Amazon-KDDCUP-23/candidates_phase2/query_embeddings/SASRec_Next/kdd_cup_2023_DE/predict_embeddings_2023-06-01-20-20-08.pt'\n",
    "JP_product_embeddings_path = '/root/autodl-tmp/xiaolong/WorkSpace/Amazon-KDDCUP-23/candidates_phase2/query_embeddings/SASRec_Next/kdd_cup_2023_JP/product_embeddings_2023-06-01-20-20-26.pt'\n",
    "JP_test_embeddings_path = '/root/autodl-tmp/xiaolong/WorkSpace/Amazon-KDDCUP-23/candidates_phase2/query_embeddings/SASRec_Next/kdd_cup_2023_JP/predict_embeddings_2023-06-01-20-21-11.pt'\n",
    "UK_product_embeddings_path = '/root/autodl-tmp/xiaolong/WorkSpace/Amazon-KDDCUP-23/candidates_phase2/query_embeddings/SASRec_Next/kdd_cup_2023_UK/product_embeddings_2023-06-01-20-21-27.pt'\n",
    "UK_test_embeddings_path = '/root/autodl-tmp/xiaolong/WorkSpace/Amazon-KDDCUP-23/candidates_phase2/query_embeddings/SASRec_Next/kdd_cup_2023_UK/predict_embeddings_2023-06-01-20-22-17.pt'"
   ]
  },
  {
   "cell_type": "code",
   "execution_count": 9,
   "metadata": {
    "execution": {
     "iopub.execute_input": "2023-06-01T12:58:27.827973Z",
     "iopub.status.busy": "2023-06-01T12:58:27.827277Z",
     "iopub.status.idle": "2023-06-01T12:58:27.834414Z",
     "shell.execute_reply": "2023-06-01T12:58:27.833595Z"
    }
   },
   "outputs": [],
   "source": [
    "@lru_cache(maxsize=1)\n",
    "def read_merged_candidates_feature_test():\n",
    "    return pd.read_parquet(merged_candidates_feature_test_path, engine='pyarrow')\n",
    "\n",
    "@lru_cache(maxsize=1)\n",
    "def read_test_sessions():\n",
    "    return pd.read_csv(test_sessions_path)"
   ]
  },
  {
   "cell_type": "code",
   "execution_count": 10,
   "metadata": {
    "execution": {
     "iopub.execute_input": "2023-06-01T12:58:27.840635Z",
     "iopub.status.busy": "2023-06-01T12:58:27.839877Z",
     "iopub.status.idle": "2023-06-01T13:01:33.294081Z",
     "shell.execute_reply": "2023-06-01T13:01:33.291669Z"
    }
   },
   "outputs": [],
   "source": [
    "merged_candidates = read_merged_candidates_feature_test()\n",
    "test_sessions = read_test_sessions()\n",
    "EMBED_DIM = 128\n",
    "merged_candidates.sort_values(by=['sess_id', 'product'], inplace=True)\n",
    "merged_candidates.reset_index(drop=True, inplace=True)"
   ]
  },
  {
   "cell_type": "code",
   "execution_count": 11,
   "metadata": {
    "execution": {
     "iopub.execute_input": "2023-06-01T13:01:33.302530Z",
     "iopub.status.busy": "2023-06-01T13:01:33.301668Z",
     "iopub.status.idle": "2023-06-01T13:01:39.388847Z",
     "shell.execute_reply": "2023-06-01T13:01:39.386382Z"
    }
   },
   "outputs": [],
   "source": [
    "# sess embeddings \n",
    "test_DE_query_emb = torch.load(DE_test_embeddings_path, map_location='cpu')\n",
    "test_JP_query_emb = torch.load(JP_test_embeddings_path, map_location='cpu')\n",
    "test_UK_query_emb = torch.load(UK_test_embeddings_path, map_location='cpu')\n",
    "test_query_embeddings = torch.cat(\n",
    "    [test_DE_query_emb[test_sessions['locale'] == 'DE'], test_JP_query_emb[test_sessions['locale'] == 'JP'], test_UK_query_emb[test_sessions['locale'] == 'UK']],\n",
    "    dim=0)"
   ]
  },
  {
   "cell_type": "code",
   "execution_count": 12,
   "metadata": {
    "execution": {
     "iopub.execute_input": "2023-06-01T13:01:39.403565Z",
     "iopub.status.busy": "2023-06-01T13:01:39.403085Z",
     "iopub.status.idle": "2023-06-01T13:01:40.302968Z",
     "shell.execute_reply": "2023-06-01T13:01:40.301820Z"
    }
   },
   "outputs": [],
   "source": [
    "# product embeddings \n",
    "DE_product_emb = torch.load(DE_product_embeddings_path, map_location='cpu')\n",
    "JP_product_emb = torch.load(JP_product_embeddings_path, map_location='cpu')\n",
    "UK_product_emb = torch.load(UK_product_embeddings_path, map_location='cpu')\n",
    "product_embeddings = torch.cat([DE_product_emb, JP_product_emb, UK_product_emb], dim=0)"
   ]
  },
  {
   "cell_type": "code",
   "execution_count": 13,
   "metadata": {
    "execution": {
     "iopub.execute_input": "2023-06-01T13:01:40.309108Z",
     "iopub.status.busy": "2023-06-01T13:01:40.308206Z",
     "iopub.status.idle": "2023-06-01T13:02:00.270854Z",
     "shell.execute_reply": "2023-06-01T13:02:00.269736Z"
    }
   },
   "outputs": [],
   "source": [
    "DE_dataset_cache = '/root/autodl-tmp/xiaolong/WorkSpace/Amazon-KDDCUP-23/.recstudio/cache/b5aeac4e5b9ff0518bbcb59a28086594'\n",
    "JP_dataset_cache = '/root/autodl-tmp/xiaolong/WorkSpace/Amazon-KDDCUP-23/.recstudio/cache/2536617955df215e0047f5b220d1c012'\n",
    "UK_dataset_cache = '/root/autodl-tmp/xiaolong/WorkSpace/Amazon-KDDCUP-23/.recstudio/cache/8d133ea55ad67bd3efd625dfeff0fb1d'\n",
    "DE_train_dataset, DE_valid_dataset = _load_cache(DE_dataset_cache)\n",
    "JP_train_dataset, JP_valid_dataset = _load_cache(JP_dataset_cache)\n",
    "UK_train_dataset, UK_valid_dataset = _load_cache(UK_dataset_cache)\n",
    "locale_map = {\n",
    "    'DE' : DE_train_dataset.field2token2idx['product_id'], \n",
    "    'JP' : JP_train_dataset.field2token2idx['product_id'], \n",
    "    'UK' : UK_train_dataset.field2token2idx['product_id']\n",
    "    }"
   ]
  },
  {
   "cell_type": "code",
   "execution_count": 14,
   "metadata": {
    "execution": {
     "iopub.execute_input": "2023-06-01T13:02:00.280307Z",
     "iopub.status.busy": "2023-06-01T13:02:00.278370Z",
     "iopub.status.idle": "2023-06-01T13:02:03.546280Z",
     "shell.execute_reply": "2023-06-01T13:02:03.545619Z"
    }
   },
   "outputs": [],
   "source": [
    "DE_product_list, DE_id_list = list(zip(*locale_map['DE'].items()))\n",
    "JP_product_list, JP_id_list = list(zip(*locale_map['JP'].items()))\n",
    "UK_product_list, UK_id_list = list(zip(*locale_map['UK'].items()))\n",
    "product_list = list(DE_product_list) + list(JP_product_list) + list(UK_product_list)\n",
    "id_list = list(DE_id_list) + list(JP_id_list) + list(UK_id_list)\n",
    "locale_list = ['DE'] * len(DE_id_list) + ['JP'] * len(JP_id_list) + ['UK'] * len(UK_id_list)\n",
    "product_id_df = pd.DataFrame({'locale' : locale_list, 'product' : product_list, 'dataset_id' : id_list})"
   ]
  },
  {
   "cell_type": "code",
   "execution_count": 15,
   "metadata": {
    "execution": {
     "iopub.execute_input": "2023-06-01T13:02:03.553744Z",
     "iopub.status.busy": "2023-06-01T13:02:03.553265Z",
     "iopub.status.idle": "2023-06-01T13:02:12.778430Z",
     "shell.execute_reply": "2023-06-01T13:02:12.777214Z"
    }
   },
   "outputs": [],
   "source": [
    "merged_candidates_sasrec = merged_candidates[['sess_id', 'sess_locale', 'product']].copy()"
   ]
  },
  {
   "cell_type": "code",
   "execution_count": 16,
   "metadata": {
    "execution": {
     "iopub.execute_input": "2023-06-01T13:02:12.784429Z",
     "iopub.status.busy": "2023-06-01T13:02:12.783834Z",
     "iopub.status.idle": "2023-06-01T13:02:12.788885Z",
     "shell.execute_reply": "2023-06-01T13:02:12.787825Z"
    }
   },
   "outputs": [],
   "source": [
    "# merged_candidates_sasrec_g = cudf.from_pandas(merged_candidates_sasrec)\n",
    "# product_id_df_g = cudf.from_pandas(product_id_df)"
   ]
  },
  {
   "cell_type": "code",
   "execution_count": 17,
   "metadata": {
    "execution": {
     "iopub.execute_input": "2023-06-01T13:02:12.793628Z",
     "iopub.status.busy": "2023-06-01T13:02:12.793144Z",
     "iopub.status.idle": "2023-06-01T13:02:12.797681Z",
     "shell.execute_reply": "2023-06-01T13:02:12.796921Z"
    }
   },
   "outputs": [],
   "source": [
    "# merged_candidates_sasrec_score_g = merged_candidates_sasrec_g.merge(product_id_df_g, how='left', left_on=['sess_locale', 'product'], right_on=['locale', 'product'])\n",
    "# merged_candidates_sasrec_score_g['dataset_id'] = merged_candidates_sasrec_score_g['dataset_id'].fillna(0)\n",
    "# merged_candidates_sasrec_score_g.drop(columns=['locale'], inplace=True)\n",
    "# merged_candidates_sasrec_score_g = merged_candidates_sasrec_score_g.sort_values(by=['sess_id', 'product'])\n",
    "# merged_candidates_sasrec_score_g.reset_index(drop=True, inplace=True)\n",
    "# merged_candidates_sasrec_score = merged_candidates_sasrec_score_g.to_pandas()"
   ]
  },
  {
   "cell_type": "code",
   "execution_count": 18,
   "metadata": {
    "execution": {
     "iopub.execute_input": "2023-06-01T13:02:12.802828Z",
     "iopub.status.busy": "2023-06-01T13:02:12.802010Z",
     "iopub.status.idle": "2023-06-01T13:05:42.522036Z",
     "shell.execute_reply": "2023-06-01T13:05:42.520836Z"
    }
   },
   "outputs": [],
   "source": [
    "merged_candidates_sasrec_score = merged_candidates_sasrec.merge(product_id_df, how='left', left_on=['sess_locale', 'product'], right_on=['locale', 'product'])\n",
    "merged_candidates_sasrec_score['dataset_id'] = merged_candidates_sasrec_score['dataset_id'].fillna(0)\n",
    "merged_candidates_sasrec_score.drop(columns=['locale'], inplace=True)\n",
    "merged_candidates_sasrec_score = merged_candidates_sasrec_score.sort_values(by=['sess_id', 'product'])\n",
    "merged_candidates_sasrec_score.reset_index(drop=True, inplace=True)"
   ]
  },
  {
   "cell_type": "code",
   "execution_count": 19,
   "metadata": {
    "execution": {
     "iopub.execute_input": "2023-06-01T13:05:42.528469Z",
     "iopub.status.busy": "2023-06-01T13:05:42.527773Z",
     "iopub.status.idle": "2023-06-01T13:05:42.534000Z",
     "shell.execute_reply": "2023-06-01T13:05:42.532796Z"
    }
   },
   "outputs": [],
   "source": [
    "# del merged_candidates_sasrec_score_g\n",
    "# del product_id_df_g\n",
    "# del merged_candidates_sasrec_g"
   ]
  },
  {
   "cell_type": "code",
   "execution_count": 20,
   "metadata": {
    "execution": {
     "iopub.execute_input": "2023-06-01T13:05:42.539281Z",
     "iopub.status.busy": "2023-06-01T13:05:42.538591Z",
     "iopub.status.idle": "2023-06-01T13:07:00.273694Z",
     "shell.execute_reply": "2023-06-01T13:07:00.272586Z"
    }
   },
   "outputs": [
    {
     "name": "stderr",
     "output_type": "stream",
     "text": [
      "/tmp/ipykernel_912517/2146751149.py:3: SettingWithCopyWarning: \n",
      "A value is trying to be set on a copy of a slice from a DataFrame\n",
      "\n",
      "See the caveats in the documentation: https://pandas.pydata.org/pandas-docs/stable/user_guide/indexing.html#returning-a-view-versus-a-copy\n",
      "  merged_candidates_sasrec_score['dataset_id'][merged_candidates_sasrec_score['sess_locale'] == locale] = \\\n"
     ]
    }
   ],
   "source": [
    "locale_offset = {'DE' : 0, 'JP' : len(DE_product_list), 'UK' : len(DE_product_list) + len(JP_product_list)}\n",
    "for locale in ['DE', 'JP', 'UK']:\n",
    "    merged_candidates_sasrec_score['dataset_id'][merged_candidates_sasrec_score['sess_locale'] == locale] = \\\n",
    "        merged_candidates_sasrec_score['dataset_id'][merged_candidates_sasrec_score['sess_locale'] == locale] + locale_offset[locale]"
   ]
  },
  {
   "cell_type": "code",
   "execution_count": 21,
   "metadata": {
    "execution": {
     "iopub.execute_input": "2023-06-01T13:07:00.278872Z",
     "iopub.status.busy": "2023-06-01T13:07:00.278382Z",
     "iopub.status.idle": "2023-06-01T13:21:00.680137Z",
     "shell.execute_reply": "2023-06-01T13:21:00.678888Z"
    }
   },
   "outputs": [
    {
     "name": "stderr",
     "output_type": "stream",
     "text": [
      "  0%|                                                                                              | 0/47147 [00:00<?, ?it/s]/tmp/ipykernel_912517/150055658.py:10: DeprecationWarning: an integer is required (got type float).  Implicit conversion to integers using __int__ is deprecated, and may be removed in a future version of Python.\n",
      "  batch_product_id = torch.tensor(batch_sess['dataset_id'].tolist(), dtype=torch.long, device=product_embeddings.device)\n",
      "100%|██████████████████████████████████████████████████████████████████████████████████| 47147/47147 [13:41<00:00, 57.38it/s]\n"
     ]
    }
   ],
   "source": [
    "merged_candidates_sasrec_score[FIELD_NAME] = get_scores(merged_candidates_sasrec_score, test_query_embeddings, product_embeddings)"
   ]
  },
  {
   "cell_type": "code",
   "execution_count": 22,
   "metadata": {
    "execution": {
     "iopub.execute_input": "2023-06-01T13:21:00.685999Z",
     "iopub.status.busy": "2023-06-01T13:21:00.685550Z",
     "iopub.status.idle": "2023-06-01T13:23:28.099135Z",
     "shell.execute_reply": "2023-06-01T13:23:28.097947Z"
    }
   },
   "outputs": [],
   "source": [
    "normalize_scores(merged_candidates_sasrec_score, FIELD_NAME, 'normalized_'+FIELD_NAME)"
   ]
  },
  {
   "cell_type": "code",
   "execution_count": 23,
   "metadata": {
    "execution": {
     "iopub.execute_input": "2023-06-01T13:23:28.104255Z",
     "iopub.status.busy": "2023-06-01T13:23:28.103828Z",
     "iopub.status.idle": "2023-06-01T13:23:29.543466Z",
     "shell.execute_reply": "2023-06-01T13:23:29.542663Z"
    }
   },
   "outputs": [],
   "source": [
    "merged_candidates[FIELD_NAME] = merged_candidates_sasrec_score[FIELD_NAME]\n",
    "merged_candidates['normalized_'+FIELD_NAME] = merged_candidates_sasrec_score['normalized_'+FIELD_NAME]"
   ]
  },
  {
   "cell_type": "code",
   "execution_count": 24,
   "metadata": {
    "execution": {
     "iopub.execute_input": "2023-06-01T13:23:29.548335Z",
     "iopub.status.busy": "2023-06-01T13:23:29.547908Z",
     "iopub.status.idle": "2023-06-01T13:24:05.535370Z",
     "shell.execute_reply": "2023-06-01T13:24:05.534313Z"
    }
   },
   "outputs": [],
   "source": [
    "cast_dtype(merged_candidates)\n",
    "merged_candidates.to_parquet(merged_candidates_feature_test_path, engine='pyarrow')"
   ]
  },
  {
   "cell_type": "code",
   "execution_count": 25,
   "metadata": {
    "execution": {
     "iopub.execute_input": "2023-06-01T13:24:05.540689Z",
     "iopub.status.busy": "2023-06-01T13:24:05.540174Z",
     "iopub.status.idle": "2023-06-01T13:24:05.571177Z",
     "shell.execute_reply": "2023-06-01T13:24:05.570246Z"
    }
   },
   "outputs": [
    {
     "data": {
      "text/html": [
       "<div>\n",
       "<style scoped>\n",
       "    .dataframe tbody tr th:only-of-type {\n",
       "        vertical-align: middle;\n",
       "    }\n",
       "\n",
       "    .dataframe tbody tr th {\n",
       "        vertical-align: top;\n",
       "    }\n",
       "\n",
       "    .dataframe thead th {\n",
       "        text-align: right;\n",
       "    }\n",
       "</style>\n",
       "<table border=\"1\" class=\"dataframe\">\n",
       "  <thead>\n",
       "    <tr style=\"text-align: right;\">\n",
       "      <th></th>\n",
       "      <th>sess_id</th>\n",
       "      <th>sess_locale</th>\n",
       "      <th>product</th>\n",
       "      <th>product_freq</th>\n",
       "      <th>sasrec_scores_2</th>\n",
       "      <th>normalized_sasrec_scores_2</th>\n",
       "    </tr>\n",
       "  </thead>\n",
       "  <tbody>\n",
       "    <tr>\n",
       "      <th>0</th>\n",
       "      <td>0</td>\n",
       "      <td>DE</td>\n",
       "      <td>B000Q87D0Q</td>\n",
       "      <td>11.0</td>\n",
       "      <td>0.000000</td>\n",
       "      <td>3.282997e-10</td>\n",
       "    </tr>\n",
       "    <tr>\n",
       "      <th>1</th>\n",
       "      <td>0</td>\n",
       "      <td>DE</td>\n",
       "      <td>B000QB30DW</td>\n",
       "      <td>114.0</td>\n",
       "      <td>0.501346</td>\n",
       "      <td>5.420036e-10</td>\n",
       "    </tr>\n",
       "    <tr>\n",
       "      <th>2</th>\n",
       "      <td>0</td>\n",
       "      <td>DE</td>\n",
       "      <td>B004BIG55Q</td>\n",
       "      <td>1015.0</td>\n",
       "      <td>6.917523</td>\n",
       "      <td>3.315223e-07</td>\n",
       "    </tr>\n",
       "    <tr>\n",
       "      <th>3</th>\n",
       "      <td>0</td>\n",
       "      <td>DE</td>\n",
       "      <td>B0053FTNQY</td>\n",
       "      <td>25.0</td>\n",
       "      <td>-0.100895</td>\n",
       "      <td>2.967921e-10</td>\n",
       "    </tr>\n",
       "    <tr>\n",
       "      <th>4</th>\n",
       "      <td>0</td>\n",
       "      <td>DE</td>\n",
       "      <td>B007QWII1S</td>\n",
       "      <td>44.0</td>\n",
       "      <td>3.768980</td>\n",
       "      <td>1.422714e-08</td>\n",
       "    </tr>\n",
       "    <tr>\n",
       "      <th>...</th>\n",
       "      <td>...</td>\n",
       "      <td>...</td>\n",
       "      <td>...</td>\n",
       "      <td>...</td>\n",
       "      <td>...</td>\n",
       "      <td>...</td>\n",
       "    </tr>\n",
       "    <tr>\n",
       "      <th>96556030</th>\n",
       "      <td>316971</td>\n",
       "      <td>UK</td>\n",
       "      <td>B0B82N3CQQ</td>\n",
       "      <td>3.0</td>\n",
       "      <td>-1.076433</td>\n",
       "      <td>6.007382e-08</td>\n",
       "    </tr>\n",
       "    <tr>\n",
       "      <th>96556031</th>\n",
       "      <td>316971</td>\n",
       "      <td>UK</td>\n",
       "      <td>B0BB9NW3F3</td>\n",
       "      <td>5.0</td>\n",
       "      <td>0.000000</td>\n",
       "      <td>1.762683e-07</td>\n",
       "    </tr>\n",
       "    <tr>\n",
       "      <th>96556032</th>\n",
       "      <td>316971</td>\n",
       "      <td>UK</td>\n",
       "      <td>B0BDMVKTQ3</td>\n",
       "      <td>41.0</td>\n",
       "      <td>-1.079334</td>\n",
       "      <td>5.989980e-08</td>\n",
       "    </tr>\n",
       "    <tr>\n",
       "      <th>96556033</th>\n",
       "      <td>316971</td>\n",
       "      <td>UK</td>\n",
       "      <td>B0BHW1D5VP</td>\n",
       "      <td>14.0</td>\n",
       "      <td>6.722834</td>\n",
       "      <td>1.465088e-04</td>\n",
       "    </tr>\n",
       "    <tr>\n",
       "      <th>96556034</th>\n",
       "      <td>316971</td>\n",
       "      <td>UK</td>\n",
       "      <td>B0BJCZ63CJ</td>\n",
       "      <td>24.0</td>\n",
       "      <td>5.107227</td>\n",
       "      <td>2.912156e-05</td>\n",
       "    </tr>\n",
       "  </tbody>\n",
       "</table>\n",
       "<p>96556035 rows × 6 columns</p>\n",
       "</div>"
      ],
      "text/plain": [
       "          sess_id sess_locale     product  product_freq  sasrec_scores_2  \\\n",
       "0               0          DE  B000Q87D0Q          11.0         0.000000   \n",
       "1               0          DE  B000QB30DW         114.0         0.501346   \n",
       "2               0          DE  B004BIG55Q        1015.0         6.917523   \n",
       "3               0          DE  B0053FTNQY          25.0        -0.100895   \n",
       "4               0          DE  B007QWII1S          44.0         3.768980   \n",
       "...           ...         ...         ...           ...              ...   \n",
       "96556030   316971          UK  B0B82N3CQQ           3.0        -1.076433   \n",
       "96556031   316971          UK  B0BB9NW3F3           5.0         0.000000   \n",
       "96556032   316971          UK  B0BDMVKTQ3          41.0        -1.079334   \n",
       "96556033   316971          UK  B0BHW1D5VP          14.0         6.722834   \n",
       "96556034   316971          UK  B0BJCZ63CJ          24.0         5.107227   \n",
       "\n",
       "          normalized_sasrec_scores_2  \n",
       "0                       3.282997e-10  \n",
       "1                       5.420036e-10  \n",
       "2                       3.315223e-07  \n",
       "3                       2.967921e-10  \n",
       "4                       1.422714e-08  \n",
       "...                              ...  \n",
       "96556030                6.007382e-08  \n",
       "96556031                1.762683e-07  \n",
       "96556032                5.989980e-08  \n",
       "96556033                1.465088e-04  \n",
       "96556034                2.912156e-05  \n",
       "\n",
       "[96556035 rows x 6 columns]"
      ]
     },
     "execution_count": 25,
     "metadata": {},
     "output_type": "execute_result"
    }
   ],
   "source": [
    "merged_candidates"
   ]
  },
  {
   "cell_type": "code",
   "execution_count": 26,
   "metadata": {
    "execution": {
     "iopub.execute_input": "2023-06-01T13:24:05.577196Z",
     "iopub.status.busy": "2023-06-01T13:24:05.576307Z",
     "iopub.status.idle": "2023-06-01T13:24:08.538459Z",
     "shell.execute_reply": "2023-06-01T13:24:08.537665Z"
    }
   },
   "outputs": [
    {
     "data": {
      "text/html": [
       "<div>\n",
       "<style scoped>\n",
       "    .dataframe tbody tr th:only-of-type {\n",
       "        vertical-align: middle;\n",
       "    }\n",
       "\n",
       "    .dataframe tbody tr th {\n",
       "        vertical-align: top;\n",
       "    }\n",
       "\n",
       "    .dataframe thead th {\n",
       "        text-align: right;\n",
       "    }\n",
       "</style>\n",
       "<table border=\"1\" class=\"dataframe\">\n",
       "  <thead>\n",
       "    <tr style=\"text-align: right;\">\n",
       "      <th></th>\n",
       "      <th>sess_locale</th>\n",
       "      <th>product</th>\n",
       "      <th>normalized_sasrec_scores_2</th>\n",
       "      <th>sasrec_scores_2</th>\n",
       "    </tr>\n",
       "  </thead>\n",
       "  <tbody>\n",
       "    <tr>\n",
       "      <th>60824953</th>\n",
       "      <td>JP</td>\n",
       "      <td>B008GPPS12</td>\n",
       "      <td>0.221312</td>\n",
       "      <td>13.781879</td>\n",
       "    </tr>\n",
       "    <tr>\n",
       "      <th>60825007</th>\n",
       "      <td>JP</td>\n",
       "      <td>B071HV9QLJ</td>\n",
       "      <td>0.129812</td>\n",
       "      <td>13.248391</td>\n",
       "    </tr>\n",
       "    <tr>\n",
       "      <th>60825002</th>\n",
       "      <td>JP</td>\n",
       "      <td>B01NAYBLBL</td>\n",
       "      <td>0.095245</td>\n",
       "      <td>12.938761</td>\n",
       "    </tr>\n",
       "    <tr>\n",
       "      <th>60824967</th>\n",
       "      <td>JP</td>\n",
       "      <td>B00KFZ4WY0</td>\n",
       "      <td>0.044636</td>\n",
       "      <td>12.180840</td>\n",
       "    </tr>\n",
       "    <tr>\n",
       "      <th>60825032</th>\n",
       "      <td>JP</td>\n",
       "      <td>B07KR444BZ</td>\n",
       "      <td>0.043491</td>\n",
       "      <td>12.154864</td>\n",
       "    </tr>\n",
       "    <tr>\n",
       "      <th>60825045</th>\n",
       "      <td>JP</td>\n",
       "      <td>B07VKMZK6X</td>\n",
       "      <td>0.042447</td>\n",
       "      <td>12.130558</td>\n",
       "    </tr>\n",
       "    <tr>\n",
       "      <th>60825118</th>\n",
       "      <td>JP</td>\n",
       "      <td>B08R45K27G</td>\n",
       "      <td>0.039357</td>\n",
       "      <td>12.054978</td>\n",
       "    </tr>\n",
       "    <tr>\n",
       "      <th>60824993</th>\n",
       "      <td>JP</td>\n",
       "      <td>B01KV6KMRI</td>\n",
       "      <td>0.026255</td>\n",
       "      <td>11.650150</td>\n",
       "    </tr>\n",
       "    <tr>\n",
       "      <th>60824935</th>\n",
       "      <td>JP</td>\n",
       "      <td>B003J360MW</td>\n",
       "      <td>0.024563</td>\n",
       "      <td>11.583545</td>\n",
       "    </tr>\n",
       "    <tr>\n",
       "      <th>60825149</th>\n",
       "      <td>JP</td>\n",
       "      <td>B099RCJMF3</td>\n",
       "      <td>0.024308</td>\n",
       "      <td>11.573107</td>\n",
       "    </tr>\n",
       "    <tr>\n",
       "      <th>60825130</th>\n",
       "      <td>JP</td>\n",
       "      <td>B08XCGLVPZ</td>\n",
       "      <td>0.023549</td>\n",
       "      <td>11.541409</td>\n",
       "    </tr>\n",
       "    <tr>\n",
       "      <th>60825028</th>\n",
       "      <td>JP</td>\n",
       "      <td>B07JHZGQF9</td>\n",
       "      <td>0.018881</td>\n",
       "      <td>11.320468</td>\n",
       "    </tr>\n",
       "    <tr>\n",
       "      <th>60825003</th>\n",
       "      <td>JP</td>\n",
       "      <td>B06WWF2H4B</td>\n",
       "      <td>0.015891</td>\n",
       "      <td>11.148049</td>\n",
       "    </tr>\n",
       "    <tr>\n",
       "      <th>60824994</th>\n",
       "      <td>JP</td>\n",
       "      <td>B01KV6KN0O</td>\n",
       "      <td>0.015332</td>\n",
       "      <td>11.112241</td>\n",
       "    </tr>\n",
       "    <tr>\n",
       "      <th>60824941</th>\n",
       "      <td>JP</td>\n",
       "      <td>B004XLKU1G</td>\n",
       "      <td>0.013642</td>\n",
       "      <td>10.995489</td>\n",
       "    </tr>\n",
       "    <tr>\n",
       "      <th>60824936</th>\n",
       "      <td>JP</td>\n",
       "      <td>B003J360O0</td>\n",
       "      <td>0.010728</td>\n",
       "      <td>10.755195</td>\n",
       "    </tr>\n",
       "    <tr>\n",
       "      <th>60825097</th>\n",
       "      <td>JP</td>\n",
       "      <td>B08HRSQGGP</td>\n",
       "      <td>0.010711</td>\n",
       "      <td>10.753592</td>\n",
       "    </tr>\n",
       "    <tr>\n",
       "      <th>60825216</th>\n",
       "      <td>JP</td>\n",
       "      <td>B0B82P4HXR</td>\n",
       "      <td>0.010274</td>\n",
       "      <td>10.711958</td>\n",
       "    </tr>\n",
       "    <tr>\n",
       "      <th>60824989</th>\n",
       "      <td>JP</td>\n",
       "      <td>B0197RD0EY</td>\n",
       "      <td>0.008700</td>\n",
       "      <td>10.545606</td>\n",
       "    </tr>\n",
       "    <tr>\n",
       "      <th>60825014</th>\n",
       "      <td>JP</td>\n",
       "      <td>B0751KJ45D</td>\n",
       "      <td>0.008667</td>\n",
       "      <td>10.541870</td>\n",
       "    </tr>\n",
       "  </tbody>\n",
       "</table>\n",
       "</div>"
      ],
      "text/plain": [
       "         sess_locale     product  normalized_sasrec_scores_2  sasrec_scores_2\n",
       "60824953          JP  B008GPPS12                    0.221312        13.781879\n",
       "60825007          JP  B071HV9QLJ                    0.129812        13.248391\n",
       "60825002          JP  B01NAYBLBL                    0.095245        12.938761\n",
       "60824967          JP  B00KFZ4WY0                    0.044636        12.180840\n",
       "60825032          JP  B07KR444BZ                    0.043491        12.154864\n",
       "60825045          JP  B07VKMZK6X                    0.042447        12.130558\n",
       "60825118          JP  B08R45K27G                    0.039357        12.054978\n",
       "60824993          JP  B01KV6KMRI                    0.026255        11.650150\n",
       "60824935          JP  B003J360MW                    0.024563        11.583545\n",
       "60825149          JP  B099RCJMF3                    0.024308        11.573107\n",
       "60825130          JP  B08XCGLVPZ                    0.023549        11.541409\n",
       "60825028          JP  B07JHZGQF9                    0.018881        11.320468\n",
       "60825003          JP  B06WWF2H4B                    0.015891        11.148049\n",
       "60824994          JP  B01KV6KN0O                    0.015332        11.112241\n",
       "60824941          JP  B004XLKU1G                    0.013642        10.995489\n",
       "60824936          JP  B003J360O0                    0.010728        10.755195\n",
       "60825097          JP  B08HRSQGGP                    0.010711        10.753592\n",
       "60825216          JP  B0B82P4HXR                    0.010274        10.711958\n",
       "60824989          JP  B0197RD0EY                    0.008700        10.545606\n",
       "60825014          JP  B0751KJ45D                    0.008667        10.541870"
      ]
     },
     "execution_count": 26,
     "metadata": {},
     "output_type": "execute_result"
    }
   ],
   "source": [
    "merged_candidates[(merged_candidates['sess_id'] == 200000)].sort_values(by='normalized_sasrec_scores_2', ascending=False)[['sess_locale', 'product', 'normalized_sasrec_scores_2', 'sasrec_scores_2']][:20]"
   ]
  },
  {
   "cell_type": "code",
   "execution_count": null,
   "metadata": {},
   "outputs": [],
   "source": []
  }
 ],
 "metadata": {
  "kernelspec": {
   "display_name": "torch12",
   "language": "python",
   "name": "python3"
  },
  "language_info": {
   "codemirror_mode": {
    "name": "ipython",
    "version": 3
   },
   "file_extension": ".py",
   "mimetype": "text/x-python",
   "name": "python",
   "nbconvert_exporter": "python",
   "pygments_lexer": "ipython3",
   "version": "3.9.15"
  }
 },
 "nbformat": 4,
 "nbformat_minor": 2
}
