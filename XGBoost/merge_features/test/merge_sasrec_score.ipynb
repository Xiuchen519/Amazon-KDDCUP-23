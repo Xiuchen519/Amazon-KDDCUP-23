{
 "cells": [
  {
   "attachments": {},
   "cell_type": "markdown",
   "metadata": {},
   "source": [
    "use loc[i, field] instead of iloc[i, field], iloc is very slow."
   ]
  },
  {
   "cell_type": "code",
   "execution_count": 1,
   "metadata": {},
   "outputs": [
    {
     "name": "stderr",
     "output_type": "stream",
     "text": [
      "/root/autodl-tmp/xiaolong/.conda/envs/torch12/lib/python3.9/site-packages/tqdm/auto.py:22: TqdmWarning: IProgress not found. Please update jupyter and ipywidgets. See https://ipywidgets.readthedocs.io/en/stable/user_install.html\n",
      "  from .autonotebook import tqdm as notebook_tqdm\n"
     ]
    }
   ],
   "source": [
    "import sys\n",
    "sys.path = ['/root/autodl-tmp/xiaolong/WorkSpace/Amazon-KDDCUP-23/RecStudio/'] + sys.path\n",
    "import os\n",
    "os.environ[\"CUDA_VISIBLE_DEVICES\"] = \"0\"\n",
    "import random\n",
    "import numpy as np\n",
    "import pandas as pd\n",
    "import cudf, itertools\n",
    "import scipy.sparse as ssp\n",
    "from functools import lru_cache, partial\n",
    "from tqdm import tqdm, trange\n",
    "from collections import Counter, defaultdict\n",
    "import torch\n",
    "import pickle"
   ]
  },
  {
   "cell_type": "code",
   "execution_count": 2,
   "metadata": {},
   "outputs": [],
   "source": [
    "def cast_dtype(df : pd.DataFrame):\n",
    "    for k in df.columns:\n",
    "        dt = type(df[k].iloc[0])\n",
    "        if 'float' in str(dt):\n",
    "            df[k] = df[k].astype('float32')\n",
    "        elif 'int' in str(dt):\n",
    "            df[k] = df[k].astype('int32')\n",
    "        elif dt == list:\n",
    "            dt_ = type(df.iloc[0][k][0])\n",
    "            if 'float' in str(dt_):\n",
    "                df[k] = df[k].apply(lambda x : np.array(x, dtype=np.float32))\n",
    "            elif 'int' in str(dt_):\n",
    "                df[k] = df[k].apply(lambda x : np.array(x, dtype=np.int32))"
   ]
  },
  {
   "cell_type": "code",
   "execution_count": 3,
   "metadata": {},
   "outputs": [],
   "source": [
    "def _load_cache(path):\n",
    "    with open(path, 'rb') as f:\n",
    "        download_obj = pickle.load(f)\n",
    "    return download_obj"
   ]
  },
  {
   "cell_type": "code",
   "execution_count": 26,
   "metadata": {},
   "outputs": [],
   "source": [
    "def get_scores(merged_candidates_df, query_embeddings, product_embeddings):\n",
    "    batch_size = 2048\n",
    "    num_iter = (len(merged_candidates_df) - 1) // batch_size + 1\n",
    "    score_list = []\n",
    "    with torch.no_grad():\n",
    "        for i in tqdm(range(num_iter)):\n",
    "            st, ed = i * batch_size, (i + 1) * batch_size \n",
    "            batch_sess = merged_candidates_df.iloc[st : ed]\n",
    "            batch_sess_id = torch.tensor(batch_sess['sess_id'].tolist(), dtype=torch.long, device=query_embeddings.device)\n",
    "            batch_product_id = torch.tensor(batch_sess['dataset_id'].tolist(), dtype=torch.long, device=product_embeddings.device)\n",
    "            query_emb = query_embeddings[batch_sess_id]\n",
    "            product_emb = product_embeddings[batch_product_id]\n",
    "            batch_score = (query_emb * product_emb).sum(dim=-1) \n",
    "            score_list.append(batch_score.cpu())\n",
    "        score_list = torch.cat(score_list, dim=0).cpu().tolist()\n",
    "        return score_list "
   ]
  },
  {
   "cell_type": "code",
   "execution_count": 5,
   "metadata": {},
   "outputs": [],
   "source": [
    "def normalize_scores(score_df, score_name, normalized_score_name):\n",
    "    # score_df_g = cudf.from_pandas(score_df)\n",
    "    score_df['exp_score'] = np.exp(score_df[score_name].to_numpy())\n",
    "    scores_sum = score_df[['sess_id', 'exp_score']].groupby('sess_id').sum()\n",
    "    scores_sum.reset_index(inplace=True)\n",
    "    scores_sum = scores_sum.sort_values(by=['sess_id'], ascending=True)\n",
    "    scores_sum.reset_index(drop=True, inplace=True)\n",
    "    scores_sum.rename(columns={'exp_score' : 'score_sum'}, inplace=True)\n",
    "\n",
    "    merged_score_df = score_df.merge(scores_sum, how='left', left_on=['sess_id'], right_on=['sess_id'])\n",
    "    merged_score_df = merged_score_df.sort_values(by=['sess_id', 'product'])\n",
    "    merged_score_df.reset_index(drop=True, inplace=True)\n",
    "    \n",
    "    # merged_score_df = merged_score_df_g.to_pandas(merged_score_df_g)\n",
    "    score_df[normalized_score_name] = merged_score_df['exp_score'] / merged_score_df['score_sum']\n",
    "    score_df['exp_score'] = merged_score_df['exp_score']\n",
    "    score_df['score_sum'] = merged_score_df['score_sum']\n",
    "\n",
    "    # del scores_sum_g\n",
    "    # del merged_score_df_g "
   ]
  },
  {
   "attachments": {},
   "cell_type": "markdown",
   "metadata": {},
   "source": [
    "# Merge test score"
   ]
  },
  {
   "cell_type": "code",
   "execution_count": 45,
   "metadata": {},
   "outputs": [],
   "source": [
    "FIELD_NAME = 'sasrec_scores_2'"
   ]
  },
  {
   "cell_type": "code",
   "execution_count": 46,
   "metadata": {},
   "outputs": [],
   "source": [
    "merged_candidates_feature_test_path = '/root/autodl-tmp/xiaolong/WorkSpace/Amazon-KDDCUP-23/XGBoost/candidates/merged_candidates_test_feature.parquet'\n",
    "test_sessions_path = '/root/autodl-tmp/xiaolong/WorkSpace/Amazon-KDDCUP-23/raw_data/sessions_test_task1.csv'"
   ]
  },
  {
   "cell_type": "code",
   "execution_count": 47,
   "metadata": {},
   "outputs": [],
   "source": [
    "DE_product_embeddings_path = '/root/autodl-tmp/xiaolong/WorkSpace/Amazon-KDDCUP-23/candidates/query_embeddings/SASRec_Next/kdd_cup_2023_DE/product_embeddings_2023-05-24-15-30-10.pt'\n",
    "DE_test_embeddings_path = '/root/autodl-tmp/xiaolong/WorkSpace/Amazon-KDDCUP-23/candidates/query_embeddings/SASRec_Next/kdd_cup_2023_DE/predict_embeddings_2023-05-24-15-30-48.pt'\n",
    "JP_product_embeddings_path = '/root/autodl-tmp/xiaolong/WorkSpace/Amazon-KDDCUP-23/candidates/query_embeddings/SASRec_Next/kdd_cup_2023_JP/product_embeddings_2023-05-24-15-31-02.pt'\n",
    "JP_test_embeddings_path = '/root/autodl-tmp/xiaolong/WorkSpace/Amazon-KDDCUP-23/candidates/query_embeddings/SASRec_Next/kdd_cup_2023_JP/predict_embeddings_2023-05-24-15-31-42.pt'\n",
    "UK_product_embeddings_path = '/root/autodl-tmp/xiaolong/WorkSpace/Amazon-KDDCUP-23/candidates/query_embeddings/SASRec_Next/kdd_cup_2023_UK/product_embeddings_2023-05-24-15-31-54.pt'\n",
    "UK_test_embeddings_path = '/root/autodl-tmp/xiaolong/WorkSpace/Amazon-KDDCUP-23/candidates/query_embeddings/SASRec_Next/kdd_cup_2023_UK/predict_embeddings_2023-05-24-15-32-33.pt'"
   ]
  },
  {
   "cell_type": "code",
   "execution_count": 48,
   "metadata": {},
   "outputs": [],
   "source": [
    "@lru_cache(maxsize=1)\n",
    "def read_merged_candidates_feature_test():\n",
    "    return pd.read_parquet(merged_candidates_feature_test_path, engine='pyarrow')\n",
    "\n",
    "@lru_cache(maxsize=1)\n",
    "def read_test_sessions():\n",
    "    return pd.read_csv(test_sessions_path)"
   ]
  },
  {
   "cell_type": "code",
   "execution_count": 49,
   "metadata": {},
   "outputs": [],
   "source": [
    "merged_candidates = read_merged_candidates_feature_test()\n",
    "test_sessions = read_test_sessions()\n",
    "EMBED_DIM = 128\n",
    "merged_candidates.sort_values(by=['sess_id', 'product'], inplace=True)\n",
    "merged_candidates.reset_index(drop=True, inplace=True)"
   ]
  },
  {
   "cell_type": "code",
   "execution_count": 50,
   "metadata": {},
   "outputs": [],
   "source": [
    "# sess embeddings \n",
    "test_DE_query_emb = torch.load(DE_test_embeddings_path, map_location='cpu')\n",
    "test_JP_query_emb = torch.load(JP_test_embeddings_path, map_location='cpu')\n",
    "test_UK_query_emb = torch.load(UK_test_embeddings_path, map_location='cpu')\n",
    "test_query_embeddings = torch.cat(\n",
    "    [test_DE_query_emb[test_sessions['locale'] == 'DE'], test_JP_query_emb[test_sessions['locale'] == 'JP'], test_UK_query_emb[test_sessions['locale'] == 'UK']],\n",
    "    dim=0)"
   ]
  },
  {
   "cell_type": "code",
   "execution_count": 51,
   "metadata": {},
   "outputs": [],
   "source": [
    "# product embeddings \n",
    "DE_product_emb = torch.load(DE_product_embeddings_path, map_location='cpu')\n",
    "JP_product_emb = torch.load(JP_product_embeddings_path, map_location='cpu')\n",
    "UK_product_emb = torch.load(UK_product_embeddings_path, map_location='cpu')\n",
    "product_embeddings = torch.cat([DE_product_emb, JP_product_emb, UK_product_emb], dim=0)"
   ]
  },
  {
   "cell_type": "code",
   "execution_count": 52,
   "metadata": {},
   "outputs": [],
   "source": [
    "DE_dataset_cache = '/root/autodl-tmp/xiaolong/WorkSpace/Amazon-KDDCUP-23/.recstudio/cache/c76eddf0a07106ffcce7ce8010856a3b'\n",
    "JP_dataset_cache = '/root/autodl-tmp/xiaolong/WorkSpace/Amazon-KDDCUP-23/.recstudio/cache/81a71d0a18766af84b3beab69bf53e69'\n",
    "UK_dataset_cache = '/root/autodl-tmp/xiaolong/WorkSpace/Amazon-KDDCUP-23/.recstudio/cache/250dbc09c30162452e00486051e47756'\n",
    "DE_train_dataset, DE_valid_dataset = _load_cache(DE_dataset_cache)\n",
    "JP_train_dataset, JP_valid_dataset = _load_cache(JP_dataset_cache)\n",
    "UK_train_dataset, UK_valid_dataset = _load_cache(UK_dataset_cache)\n",
    "locale_map = {\n",
    "    'DE' : DE_train_dataset.field2token2idx['product_id'], \n",
    "    'JP' : JP_train_dataset.field2token2idx['product_id'], \n",
    "    'UK' : UK_train_dataset.field2token2idx['product_id']\n",
    "    }"
   ]
  },
  {
   "cell_type": "code",
   "execution_count": 53,
   "metadata": {},
   "outputs": [],
   "source": [
    "DE_product_list, DE_id_list = list(zip(*locale_map['DE'].items()))\n",
    "JP_product_list, JP_id_list = list(zip(*locale_map['JP'].items()))\n",
    "UK_product_list, UK_id_list = list(zip(*locale_map['UK'].items()))\n",
    "product_list = list(DE_product_list) + list(JP_product_list) + list(UK_product_list)\n",
    "id_list = list(DE_id_list) + list(JP_id_list) + list(UK_id_list)\n",
    "locale_list = ['DE'] * len(DE_id_list) + ['JP'] * len(JP_id_list) + ['UK'] * len(UK_id_list)\n",
    "product_id_df = pd.DataFrame({'locale' : locale_list, 'product' : product_list, 'dataset_id' : id_list})"
   ]
  },
  {
   "cell_type": "code",
   "execution_count": 54,
   "metadata": {},
   "outputs": [],
   "source": [
    "merged_candidates_sasrec = merged_candidates[['sess_id', 'sess_locale', 'product']].copy()"
   ]
  },
  {
   "cell_type": "code",
   "execution_count": 17,
   "metadata": {},
   "outputs": [],
   "source": [
    "# merged_candidates_sasrec_g = cudf.from_pandas(merged_candidates_sasrec)\n",
    "# product_id_df_g = cudf.from_pandas(product_id_df)"
   ]
  },
  {
   "cell_type": "code",
   "execution_count": 18,
   "metadata": {},
   "outputs": [],
   "source": [
    "# merged_candidates_sasrec_score_g = merged_candidates_sasrec_g.merge(product_id_df_g, how='left', left_on=['sess_locale', 'product'], right_on=['locale', 'product'])\n",
    "# merged_candidates_sasrec_score_g['dataset_id'] = merged_candidates_sasrec_score_g['dataset_id'].fillna(0)\n",
    "# merged_candidates_sasrec_score_g.drop(columns=['locale'], inplace=True)\n",
    "# merged_candidates_sasrec_score_g = merged_candidates_sasrec_score_g.sort_values(by=['sess_id', 'product'])\n",
    "# merged_candidates_sasrec_score_g.reset_index(drop=True, inplace=True)\n",
    "# merged_candidates_sasrec_score = merged_candidates_sasrec_score_g.to_pandas()"
   ]
  },
  {
   "cell_type": "code",
   "execution_count": 55,
   "metadata": {},
   "outputs": [],
   "source": [
    "merged_candidates_sasrec_score = merged_candidates_sasrec.merge(product_id_df, how='left', left_on=['sess_locale', 'product'], right_on=['locale', 'product'])\n",
    "merged_candidates_sasrec_score['dataset_id'] = merged_candidates_sasrec_score['dataset_id'].fillna(0)\n",
    "merged_candidates_sasrec_score.drop(columns=['locale'], inplace=True)\n",
    "merged_candidates_sasrec_score = merged_candidates_sasrec_score.sort_values(by=['sess_id', 'product'])\n",
    "merged_candidates_sasrec_score.reset_index(drop=True, inplace=True)"
   ]
  },
  {
   "cell_type": "code",
   "execution_count": 19,
   "metadata": {},
   "outputs": [],
   "source": [
    "# del merged_candidates_sasrec_score_g\n",
    "# del product_id_df_g\n",
    "# del merged_candidates_sasrec_g"
   ]
  },
  {
   "cell_type": "code",
   "execution_count": 56,
   "metadata": {},
   "outputs": [
    {
     "name": "stderr",
     "output_type": "stream",
     "text": [
      "/tmp/ipykernel_317463/2146751149.py:3: SettingWithCopyWarning: \n",
      "A value is trying to be set on a copy of a slice from a DataFrame\n",
      "\n",
      "See the caveats in the documentation: https://pandas.pydata.org/pandas-docs/stable/user_guide/indexing.html#returning-a-view-versus-a-copy\n",
      "  merged_candidates_sasrec_score['dataset_id'][merged_candidates_sasrec_score['sess_locale'] == locale] = \\\n"
     ]
    }
   ],
   "source": [
    "locale_offset = {'DE' : 0, 'JP' : len(DE_product_list), 'UK' : len(DE_product_list) + len(JP_product_list)}\n",
    "for locale in ['DE', 'JP', 'UK']:\n",
    "    merged_candidates_sasrec_score['dataset_id'][merged_candidates_sasrec_score['sess_locale'] == locale] = \\\n",
    "        merged_candidates_sasrec_score['dataset_id'][merged_candidates_sasrec_score['sess_locale'] == locale] + locale_offset[locale]"
   ]
  },
  {
   "cell_type": "code",
   "execution_count": 57,
   "metadata": {},
   "outputs": [
    {
     "name": "stderr",
     "output_type": "stream",
     "text": [
      "  0%|          | 0/32441 [00:00<?, ?it/s]/tmp/ipykernel_317463/150055658.py:10: DeprecationWarning: an integer is required (got type float).  Implicit conversion to integers using __int__ is deprecated, and may be removed in a future version of Python.\n",
      "  batch_product_id = torch.tensor(batch_sess['dataset_id'].tolist(), dtype=torch.long, device=product_embeddings.device)\n",
      "100%|██████████| 32441/32441 [02:47<00:00, 193.79it/s]\n"
     ]
    }
   ],
   "source": [
    "merged_candidates_sasrec_score[FIELD_NAME] = get_scores(merged_candidates_sasrec_score, test_query_embeddings, product_embeddings)"
   ]
  },
  {
   "cell_type": "code",
   "execution_count": 58,
   "metadata": {},
   "outputs": [],
   "source": [
    "normalize_scores(merged_candidates_sasrec_score, FIELD_NAME, 'normalized_'+FIELD_NAME)"
   ]
  },
  {
   "cell_type": "code",
   "execution_count": 59,
   "metadata": {},
   "outputs": [],
   "source": [
    "merged_candidates[FIELD_NAME] = merged_candidates_sasrec_score[FIELD_NAME]\n",
    "merged_candidates['normalized_'+FIELD_NAME] = merged_candidates_sasrec_score['normalized_'+FIELD_NAME]"
   ]
  },
  {
   "cell_type": "code",
   "execution_count": 56,
   "metadata": {},
   "outputs": [],
   "source": [
    "cast_dtype(merged_candidates)\n",
    "merged_candidates.to_parquet(merged_candidates_feature_test_path, engine='pyarrow')"
   ]
  },
  {
   "cell_type": "code",
   "execution_count": 60,
   "metadata": {},
   "outputs": [
    {
     "data": {
      "text/html": [
       "<div>\n",
       "<style scoped>\n",
       "    .dataframe tbody tr th:only-of-type {\n",
       "        vertical-align: middle;\n",
       "    }\n",
       "\n",
       "    .dataframe tbody tr th {\n",
       "        vertical-align: top;\n",
       "    }\n",
       "\n",
       "    .dataframe thead th {\n",
       "        text-align: right;\n",
       "    }\n",
       "</style>\n",
       "<table border=\"1\" class=\"dataframe\">\n",
       "  <thead>\n",
       "    <tr style=\"text-align: right;\">\n",
       "      <th></th>\n",
       "      <th>sess_id</th>\n",
       "      <th>sess_locale</th>\n",
       "      <th>product</th>\n",
       "      <th>sess_avg_price</th>\n",
       "      <th>product_price</th>\n",
       "      <th>product_freq</th>\n",
       "      <th>sasrec_scores_2</th>\n",
       "      <th>normalized_sasrec_scores_2</th>\n",
       "    </tr>\n",
       "  </thead>\n",
       "  <tbody>\n",
       "    <tr>\n",
       "      <th>0</th>\n",
       "      <td>0</td>\n",
       "      <td>DE</td>\n",
       "      <td>B000JG2RAG</td>\n",
       "      <td>25.195269</td>\n",
       "      <td>23.190001</td>\n",
       "      <td>24.0</td>\n",
       "      <td>7.665308</td>\n",
       "      <td>6.342882e-06</td>\n",
       "    </tr>\n",
       "    <tr>\n",
       "      <th>1</th>\n",
       "      <td>0</td>\n",
       "      <td>DE</td>\n",
       "      <td>B000RYSOUW</td>\n",
       "      <td>25.195269</td>\n",
       "      <td>6.900000</td>\n",
       "      <td>5.0</td>\n",
       "      <td>-2.951060</td>\n",
       "      <td>1.554736e-10</td>\n",
       "    </tr>\n",
       "    <tr>\n",
       "      <th>2</th>\n",
       "      <td>0</td>\n",
       "      <td>DE</td>\n",
       "      <td>B000UGZVQM</td>\n",
       "      <td>25.195269</td>\n",
       "      <td>21.990000</td>\n",
       "      <td>4.0</td>\n",
       "      <td>3.977920</td>\n",
       "      <td>1.588087e-07</td>\n",
       "    </tr>\n",
       "    <tr>\n",
       "      <th>3</th>\n",
       "      <td>0</td>\n",
       "      <td>DE</td>\n",
       "      <td>B000Z6JN7K</td>\n",
       "      <td>25.195269</td>\n",
       "      <td>13.170000</td>\n",
       "      <td>7.0</td>\n",
       "      <td>6.600063</td>\n",
       "      <td>2.186032e-06</td>\n",
       "    </tr>\n",
       "    <tr>\n",
       "      <th>4</th>\n",
       "      <td>0</td>\n",
       "      <td>DE</td>\n",
       "      <td>B003CYK6FU</td>\n",
       "      <td>25.195269</td>\n",
       "      <td>11.990000</td>\n",
       "      <td>4.0</td>\n",
       "      <td>3.741957</td>\n",
       "      <td>1.254287e-07</td>\n",
       "    </tr>\n",
       "    <tr>\n",
       "      <th>...</th>\n",
       "      <td>...</td>\n",
       "      <td>...</td>\n",
       "      <td>...</td>\n",
       "      <td>...</td>\n",
       "      <td>...</td>\n",
       "      <td>...</td>\n",
       "      <td>...</td>\n",
       "      <td>...</td>\n",
       "    </tr>\n",
       "    <tr>\n",
       "      <th>66438766</th>\n",
       "      <td>316970</td>\n",
       "      <td>UK</td>\n",
       "      <td>B0BJJMGPJ7</td>\n",
       "      <td>16.950001</td>\n",
       "      <td>7.990000</td>\n",
       "      <td>27.0</td>\n",
       "      <td>8.033210</td>\n",
       "      <td>3.860075e-06</td>\n",
       "    </tr>\n",
       "    <tr>\n",
       "      <th>66438767</th>\n",
       "      <td>316970</td>\n",
       "      <td>UK</td>\n",
       "      <td>B0BJTQQWLG</td>\n",
       "      <td>16.950001</td>\n",
       "      <td>9.880000</td>\n",
       "      <td>6.0</td>\n",
       "      <td>5.604142</td>\n",
       "      <td>3.401458e-07</td>\n",
       "    </tr>\n",
       "    <tr>\n",
       "      <th>66438768</th>\n",
       "      <td>316970</td>\n",
       "      <td>UK</td>\n",
       "      <td>B0BJV3RL4H</td>\n",
       "      <td>16.950001</td>\n",
       "      <td>22.097065</td>\n",
       "      <td>7.0</td>\n",
       "      <td>9.146974</td>\n",
       "      <td>1.175702e-05</td>\n",
       "    </tr>\n",
       "    <tr>\n",
       "      <th>66438769</th>\n",
       "      <td>316970</td>\n",
       "      <td>UK</td>\n",
       "      <td>B0BK7SPC84</td>\n",
       "      <td>16.950001</td>\n",
       "      <td>5.960000</td>\n",
       "      <td>0.0</td>\n",
       "      <td>-10.383047</td>\n",
       "      <td>3.877189e-14</td>\n",
       "    </tr>\n",
       "    <tr>\n",
       "      <th>66438770</th>\n",
       "      <td>316970</td>\n",
       "      <td>UK</td>\n",
       "      <td>B0BKFXSM6Q</td>\n",
       "      <td>16.950001</td>\n",
       "      <td>9.880000</td>\n",
       "      <td>145.0</td>\n",
       "      <td>11.845137</td>\n",
       "      <td>1.746202e-04</td>\n",
       "    </tr>\n",
       "  </tbody>\n",
       "</table>\n",
       "<p>66438771 rows × 8 columns</p>\n",
       "</div>"
      ],
      "text/plain": [
       "          sess_id sess_locale     product  sess_avg_price  product_price  \\\n",
       "0               0          DE  B000JG2RAG       25.195269      23.190001   \n",
       "1               0          DE  B000RYSOUW       25.195269       6.900000   \n",
       "2               0          DE  B000UGZVQM       25.195269      21.990000   \n",
       "3               0          DE  B000Z6JN7K       25.195269      13.170000   \n",
       "4               0          DE  B003CYK6FU       25.195269      11.990000   \n",
       "...           ...         ...         ...             ...            ...   \n",
       "66438766   316970          UK  B0BJJMGPJ7       16.950001       7.990000   \n",
       "66438767   316970          UK  B0BJTQQWLG       16.950001       9.880000   \n",
       "66438768   316970          UK  B0BJV3RL4H       16.950001      22.097065   \n",
       "66438769   316970          UK  B0BK7SPC84       16.950001       5.960000   \n",
       "66438770   316970          UK  B0BKFXSM6Q       16.950001       9.880000   \n",
       "\n",
       "          product_freq  sasrec_scores_2  normalized_sasrec_scores_2  \n",
       "0                 24.0         7.665308                6.342882e-06  \n",
       "1                  5.0        -2.951060                1.554736e-10  \n",
       "2                  4.0         3.977920                1.588087e-07  \n",
       "3                  7.0         6.600063                2.186032e-06  \n",
       "4                  4.0         3.741957                1.254287e-07  \n",
       "...                ...              ...                         ...  \n",
       "66438766          27.0         8.033210                3.860075e-06  \n",
       "66438767           6.0         5.604142                3.401458e-07  \n",
       "66438768           7.0         9.146974                1.175702e-05  \n",
       "66438769           0.0       -10.383047                3.877189e-14  \n",
       "66438770         145.0        11.845137                1.746202e-04  \n",
       "\n",
       "[66438771 rows x 8 columns]"
      ]
     },
     "execution_count": 60,
     "metadata": {},
     "output_type": "execute_result"
    }
   ],
   "source": [
    "merged_candidates"
   ]
  },
  {
   "cell_type": "code",
   "execution_count": 61,
   "metadata": {},
   "outputs": [
    {
     "data": {
      "text/html": [
       "<div>\n",
       "<style scoped>\n",
       "    .dataframe tbody tr th:only-of-type {\n",
       "        vertical-align: middle;\n",
       "    }\n",
       "\n",
       "    .dataframe tbody tr th {\n",
       "        vertical-align: top;\n",
       "    }\n",
       "\n",
       "    .dataframe thead th {\n",
       "        text-align: right;\n",
       "    }\n",
       "</style>\n",
       "<table border=\"1\" class=\"dataframe\">\n",
       "  <thead>\n",
       "    <tr style=\"text-align: right;\">\n",
       "      <th></th>\n",
       "      <th>sess_locale</th>\n",
       "      <th>product</th>\n",
       "      <th>normalized_sasrec_scores_2</th>\n",
       "      <th>sasrec_scores_2</th>\n",
       "    </tr>\n",
       "  </thead>\n",
       "  <tbody>\n",
       "    <tr>\n",
       "      <th>41680103</th>\n",
       "      <td>JP</td>\n",
       "      <td>B07WVXGFCJ</td>\n",
       "      <td>0.210410</td>\n",
       "      <td>19.104816</td>\n",
       "    </tr>\n",
       "    <tr>\n",
       "      <th>41680231</th>\n",
       "      <td>JP</td>\n",
       "      <td>B09Y32HQS5</td>\n",
       "      <td>0.122188</td>\n",
       "      <td>18.561321</td>\n",
       "    </tr>\n",
       "    <tr>\n",
       "      <th>41680293</th>\n",
       "      <td>JP</td>\n",
       "      <td>B0BFQGJRBY</td>\n",
       "      <td>0.104701</td>\n",
       "      <td>18.406866</td>\n",
       "    </tr>\n",
       "    <tr>\n",
       "      <th>41680203</th>\n",
       "      <td>JP</td>\n",
       "      <td>B09NXS2J43</td>\n",
       "      <td>0.079784</td>\n",
       "      <td>18.135077</td>\n",
       "    </tr>\n",
       "    <tr>\n",
       "      <th>41680216</th>\n",
       "      <td>JP</td>\n",
       "      <td>B09TVFSQ7F</td>\n",
       "      <td>0.066238</td>\n",
       "      <td>17.949009</td>\n",
       "    </tr>\n",
       "    <tr>\n",
       "      <th>41680277</th>\n",
       "      <td>JP</td>\n",
       "      <td>B0BBH5S35X</td>\n",
       "      <td>0.037233</td>\n",
       "      <td>17.372955</td>\n",
       "    </tr>\n",
       "    <tr>\n",
       "      <th>41680089</th>\n",
       "      <td>JP</td>\n",
       "      <td>B07H27J698</td>\n",
       "      <td>0.035418</td>\n",
       "      <td>17.322983</td>\n",
       "    </tr>\n",
       "    <tr>\n",
       "      <th>41680237</th>\n",
       "      <td>JP</td>\n",
       "      <td>B0B24Z6MCB</td>\n",
       "      <td>0.033055</td>\n",
       "      <td>17.253918</td>\n",
       "    </tr>\n",
       "    <tr>\n",
       "      <th>41680235</th>\n",
       "      <td>JP</td>\n",
       "      <td>B09Z2KGR1Y</td>\n",
       "      <td>0.031099</td>\n",
       "      <td>17.192924</td>\n",
       "    </tr>\n",
       "    <tr>\n",
       "      <th>41680101</th>\n",
       "      <td>JP</td>\n",
       "      <td>B07SDHFX36</td>\n",
       "      <td>0.030940</td>\n",
       "      <td>17.187799</td>\n",
       "    </tr>\n",
       "    <tr>\n",
       "      <th>41680206</th>\n",
       "      <td>JP</td>\n",
       "      <td>B09PYN84F2</td>\n",
       "      <td>0.024642</td>\n",
       "      <td>16.960230</td>\n",
       "    </tr>\n",
       "    <tr>\n",
       "      <th>41680291</th>\n",
       "      <td>JP</td>\n",
       "      <td>B0BFHXLSDQ</td>\n",
       "      <td>0.020066</td>\n",
       "      <td>16.754784</td>\n",
       "    </tr>\n",
       "    <tr>\n",
       "      <th>41680280</th>\n",
       "      <td>JP</td>\n",
       "      <td>B0BCFBN1L4</td>\n",
       "      <td>0.015150</td>\n",
       "      <td>16.473787</td>\n",
       "    </tr>\n",
       "    <tr>\n",
       "      <th>41680104</th>\n",
       "      <td>JP</td>\n",
       "      <td>B07X282GL6</td>\n",
       "      <td>0.012709</td>\n",
       "      <td>16.298084</td>\n",
       "    </tr>\n",
       "    <tr>\n",
       "      <th>41680223</th>\n",
       "      <td>JP</td>\n",
       "      <td>B09WQZJ53Q</td>\n",
       "      <td>0.009930</td>\n",
       "      <td>16.051363</td>\n",
       "    </tr>\n",
       "    <tr>\n",
       "      <th>41680230</th>\n",
       "      <td>JP</td>\n",
       "      <td>B09XRCZGYD</td>\n",
       "      <td>0.009927</td>\n",
       "      <td>16.051052</td>\n",
       "    </tr>\n",
       "    <tr>\n",
       "      <th>41680190</th>\n",
       "      <td>JP</td>\n",
       "      <td>B09H6M26FW</td>\n",
       "      <td>0.008688</td>\n",
       "      <td>15.917655</td>\n",
       "    </tr>\n",
       "    <tr>\n",
       "      <th>41680248</th>\n",
       "      <td>JP</td>\n",
       "      <td>B0B3R6FM15</td>\n",
       "      <td>0.008365</td>\n",
       "      <td>15.879869</td>\n",
       "    </tr>\n",
       "    <tr>\n",
       "      <th>41680162</th>\n",
       "      <td>JP</td>\n",
       "      <td>B08QVJ2BDF</td>\n",
       "      <td>0.008076</td>\n",
       "      <td>15.844680</td>\n",
       "    </tr>\n",
       "    <tr>\n",
       "      <th>41680177</th>\n",
       "      <td>JP</td>\n",
       "      <td>B097BL622M</td>\n",
       "      <td>0.007157</td>\n",
       "      <td>15.723902</td>\n",
       "    </tr>\n",
       "  </tbody>\n",
       "</table>\n",
       "</div>"
      ],
      "text/plain": [
       "         sess_locale     product  normalized_sasrec_scores_2  sasrec_scores_2\n",
       "41680103          JP  B07WVXGFCJ                    0.210410        19.104816\n",
       "41680231          JP  B09Y32HQS5                    0.122188        18.561321\n",
       "41680293          JP  B0BFQGJRBY                    0.104701        18.406866\n",
       "41680203          JP  B09NXS2J43                    0.079784        18.135077\n",
       "41680216          JP  B09TVFSQ7F                    0.066238        17.949009\n",
       "41680277          JP  B0BBH5S35X                    0.037233        17.372955\n",
       "41680089          JP  B07H27J698                    0.035418        17.322983\n",
       "41680237          JP  B0B24Z6MCB                    0.033055        17.253918\n",
       "41680235          JP  B09Z2KGR1Y                    0.031099        17.192924\n",
       "41680101          JP  B07SDHFX36                    0.030940        17.187799\n",
       "41680206          JP  B09PYN84F2                    0.024642        16.960230\n",
       "41680291          JP  B0BFHXLSDQ                    0.020066        16.754784\n",
       "41680280          JP  B0BCFBN1L4                    0.015150        16.473787\n",
       "41680104          JP  B07X282GL6                    0.012709        16.298084\n",
       "41680223          JP  B09WQZJ53Q                    0.009930        16.051363\n",
       "41680230          JP  B09XRCZGYD                    0.009927        16.051052\n",
       "41680190          JP  B09H6M26FW                    0.008688        15.917655\n",
       "41680248          JP  B0B3R6FM15                    0.008365        15.879869\n",
       "41680162          JP  B08QVJ2BDF                    0.008076        15.844680\n",
       "41680177          JP  B097BL622M                    0.007157        15.723902"
      ]
     },
     "execution_count": 61,
     "metadata": {},
     "output_type": "execute_result"
    }
   ],
   "source": [
    "merged_candidates[(merged_candidates['sess_id'] == 200000)].sort_values(by='normalized_sasrec_scores_2', ascending=False)[['sess_locale', 'product', 'normalized_sasrec_scores_2', 'sasrec_scores_2']][:20]"
   ]
  },
  {
   "cell_type": "code",
   "execution_count": null,
   "metadata": {},
   "outputs": [],
   "source": []
  }
 ],
 "metadata": {
  "kernelspec": {
   "display_name": "torch12",
   "language": "python",
   "name": "python3"
  },
  "language_info": {
   "codemirror_mode": {
    "name": "ipython",
    "version": 3
   },
   "file_extension": ".py",
   "mimetype": "text/x-python",
   "name": "python",
   "nbconvert_exporter": "python",
   "pygments_lexer": "ipython3",
   "version": "3.9.15"
  },
  "orig_nbformat": 4
 },
 "nbformat": 4,
 "nbformat_minor": 2
}
