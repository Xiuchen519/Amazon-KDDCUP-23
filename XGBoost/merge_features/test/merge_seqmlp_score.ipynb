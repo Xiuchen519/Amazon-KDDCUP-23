{
 "cells": [
  {
   "attachments": {},
   "cell_type": "markdown",
   "metadata": {},
   "source": [
    "use loc[i, field] instead of iloc[i, field], iloc is very slow."
   ]
  },
  {
   "cell_type": "code",
   "execution_count": 1,
   "metadata": {},
   "outputs": [
    {
     "name": "stderr",
     "output_type": "stream",
     "text": [
      "/root/autodl-tmp/xiaolong/.conda/envs/torch12/lib/python3.9/site-packages/tqdm/auto.py:22: TqdmWarning: IProgress not found. Please update jupyter and ipywidgets. See https://ipywidgets.readthedocs.io/en/stable/user_install.html\n",
      "  from .autonotebook import tqdm as notebook_tqdm\n"
     ]
    }
   ],
   "source": [
    "import sys\n",
    "sys.path = ['/root/autodl-tmp/xiaolong/WorkSpace/Amazon-KDDCUP-23/RecStudio/'] + sys.path\n",
    "import os\n",
    "os.environ[\"CUDA_VISIBLE_DEVICES\"] = \"0\"\n",
    "import random\n",
    "import numpy as np\n",
    "import pandas as pd\n",
    "import cudf, itertools\n",
    "import scipy.sparse as ssp\n",
    "from functools import lru_cache, partial\n",
    "from tqdm import tqdm, trange\n",
    "from collections import Counter, defaultdict\n",
    "import torch\n",
    "import pickle"
   ]
  },
  {
   "cell_type": "code",
   "execution_count": 2,
   "metadata": {},
   "outputs": [],
   "source": [
    "def cast_dtype(df : pd.DataFrame, columns=None):\n",
    "    if columns is None:\n",
    "        columns = df.columns\n",
    "    for k in columns:\n",
    "        dt = type(df[k].iloc[0])\n",
    "        if 'float' in str(dt):\n",
    "            df[k] = df[k].astype('float32')\n",
    "        elif 'int' in str(dt):\n",
    "            df[k] = df[k].astype('int32')\n",
    "        elif dt == list:\n",
    "            dt_ = type(df.iloc[0][k][0])\n",
    "            if 'float' in str(dt_):\n",
    "                df[k] = df[k].apply(lambda x : np.array(x, dtype=np.float32))\n",
    "            elif 'int' in str(dt_):\n",
    "                df[k] = df[k].apply(lambda x : np.array(x, dtype=np.int32))"
   ]
  },
  {
   "cell_type": "code",
   "execution_count": 3,
   "metadata": {},
   "outputs": [],
   "source": [
    "def _load_cache(path):\n",
    "    with open(path, 'rb') as f:\n",
    "        download_obj = pickle.load(f)\n",
    "    return download_obj"
   ]
  },
  {
   "cell_type": "code",
   "execution_count": 4,
   "metadata": {},
   "outputs": [],
   "source": [
    "def get_scores(merged_candidates_df, query_embeddings, product_embeddings):\n",
    "    batch_size = 2048\n",
    "    num_iter = (len(merged_candidates_df) - 1) // batch_size + 1\n",
    "    score_list = []\n",
    "    with torch.no_grad():\n",
    "        for i in tqdm(range(num_iter)):\n",
    "            st, ed = i * batch_size, (i + 1) * batch_size \n",
    "            batch_sess = merged_candidates_df.iloc[st : ed]\n",
    "            batch_sess_id = torch.tensor(batch_sess['sess_id'].tolist(), dtype=torch.long, device=query_embeddings.device)\n",
    "            batch_product_id = torch.tensor(batch_sess['dataset_id'].tolist(), dtype=torch.long, device=product_embeddings.device)\n",
    "            query_emb = query_embeddings[batch_sess_id]\n",
    "            product_emb = product_embeddings[batch_product_id]\n",
    "            batch_score = (query_emb * product_emb).sum(dim=-1) \n",
    "            score_list.append(batch_score.cpu())\n",
    "        score_list = torch.cat(score_list, dim=0).cpu().tolist()\n",
    "        return score_list "
   ]
  },
  {
   "cell_type": "code",
   "execution_count": 5,
   "metadata": {},
   "outputs": [],
   "source": [
    "def normalize_scores(score_df, score_name, normalized_score_name):\n",
    "    # score_df_g = cudf.from_pandas(score_df)\n",
    "    score_df['exp_score'] = np.exp(score_df[score_name].to_numpy())\n",
    "    scores_sum = score_df[['sess_id', 'exp_score']].groupby('sess_id').sum()\n",
    "    scores_sum.reset_index(inplace=True)\n",
    "    scores_sum = scores_sum.sort_values(by=['sess_id'], ascending=True)\n",
    "    scores_sum.reset_index(drop=True, inplace=True)\n",
    "    scores_sum.rename(columns={'exp_score' : 'score_sum'}, inplace=True)\n",
    "\n",
    "    merged_score_df = score_df.merge(scores_sum, how='left', left_on=['sess_id'], right_on=['sess_id'])\n",
    "    merged_score_df = merged_score_df.sort_values(by=['sess_id', 'product'])\n",
    "    merged_score_df.reset_index(drop=True, inplace=True)\n",
    "    \n",
    "    # merged_score_df = merged_score_df_g.to_pandas(merged_score_df_g)\n",
    "    score_df[normalized_score_name] = merged_score_df['exp_score'] / merged_score_df['score_sum']\n",
    "    score_df['exp_score'] = merged_score_df['exp_score']\n",
    "    score_df['score_sum'] = merged_score_df['score_sum']\n",
    "\n",
    "    # del scores_sum_g\n",
    "    # del merged_score_df_g "
   ]
  },
  {
   "attachments": {},
   "cell_type": "markdown",
   "metadata": {},
   "source": [
    "# Merge test score"
   ]
  },
  {
   "cell_type": "code",
   "execution_count": 6,
   "metadata": {},
   "outputs": [],
   "source": [
    "merged_candidates_feature_test_path = '/root/autodl-tmp/xiaolong/WorkSpace/Amazon-KDDCUP-23/XGBoost/candidates/merged_candidates_test_feature.parquet'\n",
    "test_sessions_path = '/root/autodl-tmp/xiaolong/WorkSpace/Amazon-KDDCUP-23/raw_data/sessions_test_task1.csv'"
   ]
  },
  {
   "cell_type": "code",
   "execution_count": 7,
   "metadata": {},
   "outputs": [],
   "source": [
    "DE_product_embeddings_path = '/root/autodl-tmp/xiaolong/WorkSpace/Amazon-KDDCUP-23/candidates/query_embeddings/SeqMLP/kdd_cup_2023_DE/product_embeddings_2023-05-24-17-28-00.pt'\n",
    "DE_test_embeddings_path = '/root/autodl-tmp/xiaolong/WorkSpace/Amazon-KDDCUP-23/candidates/query_embeddings/SeqMLP/kdd_cup_2023_DE/predict_embeddings_2023-05-24-17-28-41.pt'\n",
    "JP_product_embeddings_path = '/root/autodl-tmp/xiaolong/WorkSpace/Amazon-KDDCUP-23/candidates/query_embeddings/SeqMLP/kdd_cup_2023_JP/product_embeddings_2023-05-24-17-28-57.pt'\n",
    "JP_test_embeddings_path = '/root/autodl-tmp/xiaolong/WorkSpace/Amazon-KDDCUP-23/candidates/query_embeddings/SeqMLP/kdd_cup_2023_JP/predict_embeddings_2023-05-24-17-29-40.pt'\n",
    "UK_product_embeddings_path = '/root/autodl-tmp/xiaolong/WorkSpace/Amazon-KDDCUP-23/candidates/query_embeddings/SeqMLP/kdd_cup_2023_UK/product_embeddings_2023-05-24-17-29-53.pt'\n",
    "UK_test_embeddings_path = '/root/autodl-tmp/xiaolong/WorkSpace/Amazon-KDDCUP-23/candidates/query_embeddings/SeqMLP/kdd_cup_2023_UK/predict_embeddings_2023-05-24-17-30-34.pt'"
   ]
  },
  {
   "cell_type": "code",
   "execution_count": 8,
   "metadata": {},
   "outputs": [],
   "source": [
    "@lru_cache(maxsize=1)\n",
    "def read_merged_candidates_feature_test():\n",
    "    return pd.read_parquet(merged_candidates_feature_test_path, engine='pyarrow')\n",
    "\n",
    "@lru_cache(maxsize=1)\n",
    "def read_test_sessions():\n",
    "    return pd.read_csv(test_sessions_path)"
   ]
  },
  {
   "cell_type": "code",
   "execution_count": 9,
   "metadata": {},
   "outputs": [],
   "source": [
    "merged_candidates = read_merged_candidates_feature_test()\n",
    "test_sessions = read_test_sessions()\n",
    "EMBED_DIM = 256\n",
    "merged_candidates.sort_values(by=['sess_id', 'product'], inplace=True)\n",
    "merged_candidates.reset_index(drop=True, inplace=True)"
   ]
  },
  {
   "cell_type": "code",
   "execution_count": 10,
   "metadata": {},
   "outputs": [],
   "source": [
    "# sess embeddings \n",
    "test_DE_query_emb = torch.load(DE_test_embeddings_path, map_location='cpu')\n",
    "test_JP_query_emb = torch.load(JP_test_embeddings_path, map_location='cpu')\n",
    "test_UK_query_emb = torch.load(UK_test_embeddings_path, map_location='cpu')\n",
    "test_query_embeddings = torch.cat(\n",
    "    [test_DE_query_emb[test_sessions['locale'] == 'DE'], test_JP_query_emb[test_sessions['locale'] == 'JP'], test_UK_query_emb[test_sessions['locale'] == 'UK']],\n",
    "    dim=0)"
   ]
  },
  {
   "cell_type": "code",
   "execution_count": 12,
   "metadata": {},
   "outputs": [],
   "source": [
    "# product embeddings \n",
    "DE_product_emb = torch.load(DE_product_embeddings_path, map_location='cpu')\n",
    "JP_product_emb = torch.load(JP_product_embeddings_path, map_location='cpu')\n",
    "UK_product_emb = torch.load(UK_product_embeddings_path, map_location='cpu')\n",
    "product_embeddings = torch.cat([DE_product_emb, JP_product_emb, UK_product_emb], dim=0)"
   ]
  },
  {
   "cell_type": "code",
   "execution_count": 13,
   "metadata": {},
   "outputs": [],
   "source": [
    "DE_dataset_cache = '/root/autodl-tmp/xiaolong/WorkSpace/Amazon-KDDCUP-23/.recstudio/cache/c76eddf0a07106ffcce7ce8010856a3b'\n",
    "JP_dataset_cache = '/root/autodl-tmp/xiaolong/WorkSpace/Amazon-KDDCUP-23/.recstudio/cache/81a71d0a18766af84b3beab69bf53e69'\n",
    "UK_dataset_cache = '/root/autodl-tmp/xiaolong/WorkSpace/Amazon-KDDCUP-23/.recstudio/cache/250dbc09c30162452e00486051e47756'\n",
    "DE_train_dataset, DE_valid_dataset = _load_cache(DE_dataset_cache)\n",
    "JP_train_dataset, JP_valid_dataset = _load_cache(JP_dataset_cache)\n",
    "UK_train_dataset, UK_valid_dataset = _load_cache(UK_dataset_cache)\n",
    "locale_map = {\n",
    "    'DE' : DE_train_dataset.field2token2idx['product_id'], \n",
    "    'JP' : JP_train_dataset.field2token2idx['product_id'], \n",
    "    'UK' : UK_train_dataset.field2token2idx['product_id']\n",
    "    }"
   ]
  },
  {
   "cell_type": "code",
   "execution_count": 14,
   "metadata": {},
   "outputs": [],
   "source": [
    "DE_product_list, DE_id_list = list(zip(*locale_map['DE'].items()))\n",
    "JP_product_list, JP_id_list = list(zip(*locale_map['JP'].items()))\n",
    "UK_product_list, UK_id_list = list(zip(*locale_map['UK'].items()))\n",
    "product_list = list(DE_product_list) + list(JP_product_list) + list(UK_product_list)\n",
    "id_list = list(DE_id_list) + list(JP_id_list) + list(UK_id_list)\n",
    "locale_list = ['DE'] * len(DE_id_list) + ['JP'] * len(JP_id_list) + ['UK'] * len(UK_id_list)\n",
    "product_id_df = pd.DataFrame({'locale' : locale_list, 'product' : product_list, 'dataset_id' : id_list})"
   ]
  },
  {
   "cell_type": "code",
   "execution_count": 15,
   "metadata": {},
   "outputs": [],
   "source": [
    "merged_candidates_seqmlp = merged_candidates[['sess_id', 'sess_locale', 'product']].copy()"
   ]
  },
  {
   "cell_type": "code",
   "execution_count": 16,
   "metadata": {},
   "outputs": [],
   "source": [
    "# merged_candidates_seqmlp_g = cudf.from_pandas(merged_candidates_seqmlp)\n",
    "# product_id_df_g = cudf.from_pandas(product_id_df)"
   ]
  },
  {
   "cell_type": "code",
   "execution_count": 17,
   "metadata": {},
   "outputs": [],
   "source": [
    "# merged_candidates_seqmlp_score_g = merged_candidates_seqmlp_g.merge(product_id_df_g, how='left', left_on=['sess_locale', 'product'], right_on=['locale', 'product'])\n",
    "# merged_candidates_seqmlp_score_g['dataset_id'] = merged_candidates_seqmlp_score_g['dataset_id'].fillna(0)\n",
    "# merged_candidates_seqmlp_score_g.drop(columns=['locale'], inplace=True)\n",
    "# merged_candidates_seqmlp_score_g = merged_candidates_seqmlp_score_g.sort_values(by=['sess_id', 'product'])\n",
    "# merged_candidates_seqmlp_score_g.reset_index(drop=True, inplace=True)\n",
    "# merged_candidates_seqmlp_score = merged_candidates_seqmlp_score_g.to_pandas()"
   ]
  },
  {
   "cell_type": "code",
   "execution_count": null,
   "metadata": {},
   "outputs": [],
   "source": [
    "merged_candidates_seqmlp_score = merged_candidates_seqmlp.merge(product_id_df, how='left', left_on=['sess_locale', 'product'], right_on=['locale', 'product'])\n",
    "merged_candidates_seqmlp_score['dataset_id'] = merged_candidates_seqmlp_score['dataset_id'].fillna(0)\n",
    "merged_candidates_seqmlp_score.drop(columns=['locale'], inplace=True)\n",
    "merged_candidates_seqmlp_score = merged_candidates_seqmlp_score.sort_values(by=['sess_id', 'product'])\n",
    "merged_candidates_seqmlp_score.reset_index(drop=True, inplace=True)\n",
    "assert len(merged_candidates_seqmlp_score) == len(merged_candidates)"
   ]
  },
  {
   "cell_type": "code",
   "execution_count": 18,
   "metadata": {},
   "outputs": [],
   "source": [
    "# del merged_candidates_seqmlp_score_g\n",
    "# del product_id_df_g\n",
    "# del merged_candidates_seqmlp_g"
   ]
  },
  {
   "cell_type": "code",
   "execution_count": 19,
   "metadata": {},
   "outputs": [
    {
     "name": "stderr",
     "output_type": "stream",
     "text": [
      "/tmp/ipykernel_450910/1863069582.py:3: SettingWithCopyWarning: \n",
      "A value is trying to be set on a copy of a slice from a DataFrame\n",
      "\n",
      "See the caveats in the documentation: https://pandas.pydata.org/pandas-docs/stable/user_guide/indexing.html#returning-a-view-versus-a-copy\n",
      "  merged_candidates_seqmlp_score['dataset_id'][merged_candidates_seqmlp_score['sess_locale'] == locale] = \\\n"
     ]
    }
   ],
   "source": [
    "locale_offset = {'DE' : 0, 'JP' : len(DE_product_list), 'UK' : len(DE_product_list) + len(JP_product_list)}\n",
    "for locale in ['DE', 'JP', 'UK']:\n",
    "    merged_candidates_seqmlp_score['dataset_id'][merged_candidates_seqmlp_score['sess_locale'] == locale] = \\\n",
    "        merged_candidates_seqmlp_score['dataset_id'][merged_candidates_seqmlp_score['sess_locale'] == locale] + locale_offset[locale]"
   ]
  },
  {
   "cell_type": "code",
   "execution_count": 20,
   "metadata": {},
   "outputs": [
    {
     "name": "stderr",
     "output_type": "stream",
     "text": [
      "100%|██████████| 33901/33901 [01:08<00:00, 498.50it/s]\n"
     ]
    }
   ],
   "source": [
    "merged_candidates_seqmlp_score['seqmlp_scores'] = get_scores(merged_candidates_seqmlp_score, test_query_embeddings, product_embeddings)"
   ]
  },
  {
   "cell_type": "code",
   "execution_count": 21,
   "metadata": {},
   "outputs": [],
   "source": [
    "normalize_scores(merged_candidates_seqmlp_score, 'seqmlp_scores', 'normalized_seqmlp_scores')"
   ]
  },
  {
   "cell_type": "code",
   "execution_count": 22,
   "metadata": {},
   "outputs": [],
   "source": [
    "merged_candidates['seqmlp_scores'] = merged_candidates_seqmlp_score['seqmlp_scores']\n",
    "merged_candidates['normalized_seqmlp_scores'] = merged_candidates_seqmlp_score['normalized_seqmlp_scores']"
   ]
  },
  {
   "cell_type": "code",
   "execution_count": 56,
   "metadata": {},
   "outputs": [],
   "source": [
    "cast_dtype(merged_candidates, ['seqmlp_scores', 'normalized_seqmlp_scores'])\n",
    "merged_candidates.to_parquet(merged_candidates_feature_test_path, engine='pyarrow')"
   ]
  },
  {
   "cell_type": "code",
   "execution_count": 25,
   "metadata": {},
   "outputs": [
    {
     "data": {
      "text/html": [
       "<div>\n",
       "<style scoped>\n",
       "    .dataframe tbody tr th:only-of-type {\n",
       "        vertical-align: middle;\n",
       "    }\n",
       "\n",
       "    .dataframe tbody tr th {\n",
       "        vertical-align: top;\n",
       "    }\n",
       "\n",
       "    .dataframe thead th {\n",
       "        text-align: right;\n",
       "    }\n",
       "</style>\n",
       "<table border=\"1\" class=\"dataframe\">\n",
       "  <thead>\n",
       "    <tr style=\"text-align: right;\">\n",
       "      <th></th>\n",
       "      <th>sess_locale</th>\n",
       "      <th>product</th>\n",
       "      <th>sasrec_normalized_scores_3</th>\n",
       "      <th>sasrec_scores_3</th>\n",
       "      <th>seqmlp_normalized_scores</th>\n",
       "      <th>seqmlp_scores</th>\n",
       "    </tr>\n",
       "  </thead>\n",
       "  <tbody>\n",
       "    <tr>\n",
       "      <th>50247381</th>\n",
       "      <td>UK</td>\n",
       "      <td>B093LPWTD8</td>\n",
       "      <td>0.084951</td>\n",
       "      <td>10.352390</td>\n",
       "      <td>0.091373</td>\n",
       "      <td>10.937450</td>\n",
       "    </tr>\n",
       "    <tr>\n",
       "      <th>50247327</th>\n",
       "      <td>UK</td>\n",
       "      <td>B073JJ9HP2</td>\n",
       "      <td>0.072020</td>\n",
       "      <td>10.187253</td>\n",
       "      <td>0.066935</td>\n",
       "      <td>10.626210</td>\n",
       "    </tr>\n",
       "    <tr>\n",
       "      <th>50247391</th>\n",
       "      <td>UK</td>\n",
       "      <td>B094R47H8Q</td>\n",
       "      <td>0.069588</td>\n",
       "      <td>10.152899</td>\n",
       "      <td>0.039884</td>\n",
       "      <td>10.108466</td>\n",
       "    </tr>\n",
       "    <tr>\n",
       "      <th>50247286</th>\n",
       "      <td>UK</td>\n",
       "      <td>B009WU0LWG</td>\n",
       "      <td>0.060782</td>\n",
       "      <td>10.017603</td>\n",
       "      <td>0.033926</td>\n",
       "      <td>9.946680</td>\n",
       "    </tr>\n",
       "    <tr>\n",
       "      <th>50247376</th>\n",
       "      <td>UK</td>\n",
       "      <td>B093C9B1HK</td>\n",
       "      <td>0.051335</td>\n",
       "      <td>9.848681</td>\n",
       "      <td>0.074143</td>\n",
       "      <td>10.728494</td>\n",
       "    </tr>\n",
       "    <tr>\n",
       "      <th>50247387</th>\n",
       "      <td>UK</td>\n",
       "      <td>B093LVB4P7</td>\n",
       "      <td>0.043121</td>\n",
       "      <td>9.674311</td>\n",
       "      <td>0.051726</td>\n",
       "      <td>10.368446</td>\n",
       "    </tr>\n",
       "    <tr>\n",
       "      <th>50247272</th>\n",
       "      <td>UK</td>\n",
       "      <td>B005EJFL42</td>\n",
       "      <td>0.029520</td>\n",
       "      <td>9.295372</td>\n",
       "      <td>0.026107</td>\n",
       "      <td>9.684687</td>\n",
       "    </tr>\n",
       "    <tr>\n",
       "      <th>50247273</th>\n",
       "      <td>UK</td>\n",
       "      <td>B005EJFLEM</td>\n",
       "      <td>0.028960</td>\n",
       "      <td>9.276229</td>\n",
       "      <td>0.04013</td>\n",
       "      <td>10.114613</td>\n",
       "    </tr>\n",
       "    <tr>\n",
       "      <th>50247375</th>\n",
       "      <td>UK</td>\n",
       "      <td>B093C88F2R</td>\n",
       "      <td>0.027596</td>\n",
       "      <td>9.227978</td>\n",
       "      <td>0.041181</td>\n",
       "      <td>10.140461</td>\n",
       "    </tr>\n",
       "    <tr>\n",
       "      <th>50247377</th>\n",
       "      <td>UK</td>\n",
       "      <td>B093CBBKG8</td>\n",
       "      <td>0.026901</td>\n",
       "      <td>9.202470</td>\n",
       "      <td>0.046459</td>\n",
       "      <td>10.261065</td>\n",
       "    </tr>\n",
       "    <tr>\n",
       "      <th>50247390</th>\n",
       "      <td>UK</td>\n",
       "      <td>B093Q6C65K</td>\n",
       "      <td>0.026556</td>\n",
       "      <td>9.189559</td>\n",
       "      <td>0.018563</td>\n",
       "      <td>9.343651</td>\n",
       "    </tr>\n",
       "    <tr>\n",
       "      <th>50247340</th>\n",
       "      <td>UK</td>\n",
       "      <td>B07KWYGTC6</td>\n",
       "      <td>0.020858</td>\n",
       "      <td>8.948066</td>\n",
       "      <td>0.011849</td>\n",
       "      <td>8.894744</td>\n",
       "    </tr>\n",
       "    <tr>\n",
       "      <th>50247394</th>\n",
       "      <td>UK</td>\n",
       "      <td>B094R69RXL</td>\n",
       "      <td>0.018910</td>\n",
       "      <td>8.850010</td>\n",
       "      <td>0.007093</td>\n",
       "      <td>8.381536</td>\n",
       "    </tr>\n",
       "    <tr>\n",
       "      <th>50247312</th>\n",
       "      <td>UK</td>\n",
       "      <td>B0132XX152</td>\n",
       "      <td>0.017915</td>\n",
       "      <td>8.795970</td>\n",
       "      <td>0.023441</td>\n",
       "      <td>9.576990</td>\n",
       "    </tr>\n",
       "    <tr>\n",
       "      <th>50247395</th>\n",
       "      <td>UK</td>\n",
       "      <td>B094R6BDN6</td>\n",
       "      <td>0.017756</td>\n",
       "      <td>8.787037</td>\n",
       "      <td>0.004722</td>\n",
       "      <td>7.974778</td>\n",
       "    </tr>\n",
       "    <tr>\n",
       "      <th>50247338</th>\n",
       "      <td>UK</td>\n",
       "      <td>B07J65L3R2</td>\n",
       "      <td>0.015595</td>\n",
       "      <td>8.657243</td>\n",
       "      <td>0.021477</td>\n",
       "      <td>9.489491</td>\n",
       "    </tr>\n",
       "    <tr>\n",
       "      <th>50247359</th>\n",
       "      <td>UK</td>\n",
       "      <td>B07WXVSXLS</td>\n",
       "      <td>0.015440</td>\n",
       "      <td>8.647271</td>\n",
       "      <td>0.018026</td>\n",
       "      <td>9.314334</td>\n",
       "    </tr>\n",
       "    <tr>\n",
       "      <th>50247258</th>\n",
       "      <td>UK</td>\n",
       "      <td>B002BX3FUQ</td>\n",
       "      <td>0.012007</td>\n",
       "      <td>8.395786</td>\n",
       "      <td>0.004148</td>\n",
       "      <td>7.845171</td>\n",
       "    </tr>\n",
       "    <tr>\n",
       "      <th>50247274</th>\n",
       "      <td>UK</td>\n",
       "      <td>B005EJFLJC</td>\n",
       "      <td>0.011276</td>\n",
       "      <td>8.332995</td>\n",
       "      <td>0.023867</td>\n",
       "      <td>9.594979</td>\n",
       "    </tr>\n",
       "    <tr>\n",
       "      <th>50247341</th>\n",
       "      <td>UK</td>\n",
       "      <td>B07KX2N355</td>\n",
       "      <td>0.011238</td>\n",
       "      <td>8.329647</td>\n",
       "      <td>0.010999</td>\n",
       "      <td>8.820341</td>\n",
       "    </tr>\n",
       "  </tbody>\n",
       "</table>\n",
       "</div>"
      ],
      "text/plain": [
       "         sess_locale     product  sasrec_normalized_scores_3  sasrec_scores_3  \\\n",
       "50247381          UK  B093LPWTD8                    0.084951        10.352390   \n",
       "50247327          UK  B073JJ9HP2                    0.072020        10.187253   \n",
       "50247391          UK  B094R47H8Q                    0.069588        10.152899   \n",
       "50247286          UK  B009WU0LWG                    0.060782        10.017603   \n",
       "50247376          UK  B093C9B1HK                    0.051335         9.848681   \n",
       "50247387          UK  B093LVB4P7                    0.043121         9.674311   \n",
       "50247272          UK  B005EJFL42                    0.029520         9.295372   \n",
       "50247273          UK  B005EJFLEM                    0.028960         9.276229   \n",
       "50247375          UK  B093C88F2R                    0.027596         9.227978   \n",
       "50247377          UK  B093CBBKG8                    0.026901         9.202470   \n",
       "50247390          UK  B093Q6C65K                    0.026556         9.189559   \n",
       "50247340          UK  B07KWYGTC6                    0.020858         8.948066   \n",
       "50247394          UK  B094R69RXL                    0.018910         8.850010   \n",
       "50247312          UK  B0132XX152                    0.017915         8.795970   \n",
       "50247395          UK  B094R6BDN6                    0.017756         8.787037   \n",
       "50247338          UK  B07J65L3R2                    0.015595         8.657243   \n",
       "50247359          UK  B07WXVSXLS                    0.015440         8.647271   \n",
       "50247258          UK  B002BX3FUQ                    0.012007         8.395786   \n",
       "50247274          UK  B005EJFLJC                    0.011276         8.332995   \n",
       "50247341          UK  B07KX2N355                    0.011238         8.329647   \n",
       "\n",
       "          seqmlp_normalized_scores  seqmlp_scores  \n",
       "50247381                  0.091373      10.937450  \n",
       "50247327                  0.066935      10.626210  \n",
       "50247391                  0.039884      10.108466  \n",
       "50247286                  0.033926       9.946680  \n",
       "50247376                  0.074143      10.728494  \n",
       "50247387                  0.051726      10.368446  \n",
       "50247272                  0.026107       9.684687  \n",
       "50247273                   0.04013      10.114613  \n",
       "50247375                  0.041181      10.140461  \n",
       "50247377                  0.046459      10.261065  \n",
       "50247390                  0.018563       9.343651  \n",
       "50247340                  0.011849       8.894744  \n",
       "50247394                  0.007093       8.381536  \n",
       "50247312                  0.023441       9.576990  \n",
       "50247395                  0.004722       7.974778  \n",
       "50247338                  0.021477       9.489491  \n",
       "50247359                  0.018026       9.314334  \n",
       "50247258                  0.004148       7.845171  \n",
       "50247274                  0.023867       9.594979  \n",
       "50247341                  0.010999       8.820341  "
      ]
     },
     "execution_count": 25,
     "metadata": {},
     "output_type": "execute_result"
    }
   ],
   "source": [
    "merged_candidates[(merged_candidates['sess_id'] == 230000)].sort_values(by='normalized_sasrec_scores_2', ascending=False)[['sess_locale', 'product', 'normalized_sasrec_scores_2', 'sasrec_scores_2', 'normalized_seqmlp_scores', 'seqmlp_scores']][:20]"
   ]
  }
 ],
 "metadata": {
  "kernelspec": {
   "display_name": "torch12",
   "language": "python",
   "name": "python3"
  },
  "language_info": {
   "codemirror_mode": {
    "name": "ipython",
    "version": 3
   },
   "file_extension": ".py",
   "mimetype": "text/x-python",
   "name": "python",
   "nbconvert_exporter": "python",
   "pygments_lexer": "ipython3",
   "version": "3.9.16"
  },
  "orig_nbformat": 4
 },
 "nbformat": 4,
 "nbformat_minor": 2
}
