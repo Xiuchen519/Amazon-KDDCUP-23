{
 "cells": [
  {
   "cell_type": "code",
   "execution_count": 13,
   "metadata": {},
   "outputs": [],
   "source": [
    "import sys\n",
    "sys.path.append('/root/autodl-tmp/xiaolong/WorkSpace/Amazon-KDDCUP-23/')\n",
    "import pandas as pd \n",
    "import numpy as np \n",
    "import datasets\n",
    "from datasets import Dataset as TFDataset \n",
    "import pickle\n",
    "from bm25.rank_bm25 import BM25Okapi\n",
    "import random\n",
    "# import cudf, itertools\n",
    "import scipy.sparse as ssp\n",
    "from functools import lru_cache, partial\n",
    "from tqdm import tqdm, trange\n",
    "from collections import Counter, defaultdict\n",
    "from transformers import PreTrainedTokenizer, AutoTokenizer\n",
    "import multiprocessing"
   ]
  },
  {
   "cell_type": "code",
   "execution_count": 14,
   "metadata": {},
   "outputs": [],
   "source": [
    "def min_max_normalization(score_df, score_name, use_zero=True):\n",
    "    # score_df_g = cudf.from_pandas(score_df)\n",
    "    if not use_zero:\n",
    "        score_df_ = score_df[score_df[score_name] != 0]\n",
    "    else:\n",
    "        score_df_ = score_df\n",
    "    scores_min = score_df_[['sess_id', score_name]].groupby('sess_id')[score_name].min().to_numpy()\n",
    "    scores_max = score_df_[['sess_id', score_name]].groupby('sess_id')[score_name].max().to_numpy()\n",
    "\n",
    "    score_df['scores_min'] = scores_min[score_df['sess_id']]\n",
    "    score_df['scores_max'] = scores_max[score_df['sess_id']]\n",
    "\n",
    "    # merged_score_df = merged_score_df_g.to_pandas(merged_score_df_g)\n",
    "    score_df['min_max_'+score_name] = (score_df[score_name] - score_df['scores_min']) / (score_df['scores_max'] - score_df['scores_min'])\n",
    "    score_df.drop(columns=['scores_min', 'scores_max'], inplace=True)\n",
    "\n",
    "    if not use_zero:\n",
    "        score_df['min_max_'+score_name][score_df[score_name] == 0] = 0.0\n",
    "\n",
    "\n",
    "    # del scores_sum_g\n",
    "    # del merged_score_df_g "
   ]
  },
  {
   "cell_type": "code",
   "execution_count": 15,
   "metadata": {},
   "outputs": [],
   "source": [
    "def cast_dtype(df : pd.DataFrame, columns=None):\n",
    "    if columns is None:\n",
    "        columns = df.columns\n",
    "    for k in columns:\n",
    "        dt = type(df[k].iloc[0])\n",
    "        if 'float' in str(dt):\n",
    "            df[k] = df[k].astype('float32')\n",
    "        elif 'int' in str(dt):\n",
    "            df[k] = df[k].astype('int32')\n",
    "        elif dt == list:\n",
    "            dt_ = type(df.iloc[0][k][0])\n",
    "            if 'float' in str(dt_):\n",
    "                df[k] = df[k].apply(lambda x : np.array(x, dtype=np.float32))\n",
    "            elif 'int' in str(dt_):\n",
    "                df[k] = df[k].apply(lambda x : np.array(x, dtype=np.int32))"
   ]
  },
  {
   "attachments": {},
   "cell_type": "markdown",
   "metadata": {},
   "source": [
    "# Merge test scores"
   ]
  },
  {
   "cell_type": "code",
   "execution_count": 16,
   "metadata": {},
   "outputs": [],
   "source": [
    "merged_candidates_feature_test_path = '/root/autodl-tmp/xiaolong/WorkSpace/Amazon-KDDCUP-23/XGBoost/candidates_phase2/merged_candidates_150_test_feature.parquet'\n",
    "product_data_path = '/root/autodl-tmp/xiaolong/WorkSpace/Amazon-KDDCUP-23/raw_data/products_train.csv'"
   ]
  },
  {
   "cell_type": "code",
   "execution_count": 17,
   "metadata": {},
   "outputs": [],
   "source": [
    "@lru_cache(maxsize=1)\n",
    "def read_merged_candidates_feature_test():\n",
    "    return pd.read_parquet(merged_candidates_feature_test_path, engine='pyarrow')\n",
    "\n",
    "@lru_cache(maxsize=1)\n",
    "def read_product_data():\n",
    "    return pd.read_csv(product_data_path)\n"
   ]
  },
  {
   "cell_type": "code",
   "execution_count": 19,
   "metadata": {},
   "outputs": [],
   "source": [
    "merged_candidates_feature_test = read_merged_candidates_feature_test()"
   ]
  },
  {
   "cell_type": "code",
   "execution_count": 21,
   "metadata": {},
   "outputs": [],
   "source": [
    "min_max_score_list = ['title_BM25_scores', 'desc_BM25_scores', 'feat_BM25_scores', 'title_bert_scores', 'text_bert_scores']\n",
    "# min_max_score_list = ['feat_BM25_scores']"
   ]
  },
  {
   "cell_type": "code",
   "execution_count": 22,
   "metadata": {},
   "outputs": [
    {
     "name": "stderr",
     "output_type": "stream",
     "text": [
      "/tmp/ipykernel_377317/1800093031.py:10: SettingWithCopyWarning: \n",
      "A value is trying to be set on a copy of a slice from a DataFrame.\n",
      "Try using .loc[row_indexer,col_indexer] = value instead\n",
      "\n",
      "See the caveats in the documentation: https://pandas.pydata.org/pandas-docs/stable/user_guide/indexing.html#returning-a-view-versus-a-copy\n",
      "  score_df['scores_min'] = scores_min[score_df['sess_id']]\n",
      "/tmp/ipykernel_377317/1800093031.py:11: SettingWithCopyWarning: \n",
      "A value is trying to be set on a copy of a slice from a DataFrame.\n",
      "Try using .loc[row_indexer,col_indexer] = value instead\n",
      "\n",
      "See the caveats in the documentation: https://pandas.pydata.org/pandas-docs/stable/user_guide/indexing.html#returning-a-view-versus-a-copy\n",
      "  score_df['scores_max'] = scores_max[score_df['sess_id']]\n",
      "/tmp/ipykernel_377317/1800093031.py:14: SettingWithCopyWarning: \n",
      "A value is trying to be set on a copy of a slice from a DataFrame.\n",
      "Try using .loc[row_indexer,col_indexer] = value instead\n",
      "\n",
      "See the caveats in the documentation: https://pandas.pydata.org/pandas-docs/stable/user_guide/indexing.html#returning-a-view-versus-a-copy\n",
      "  score_df['min_max_'+score_name] = (score_df[score_name] - score_df['scores_min']) / (score_df['scores_max'] - score_df['scores_min'])\n",
      "/tmp/ipykernel_377317/1800093031.py:15: SettingWithCopyWarning: \n",
      "A value is trying to be set on a copy of a slice from a DataFrame\n",
      "\n",
      "See the caveats in the documentation: https://pandas.pydata.org/pandas-docs/stable/user_guide/indexing.html#returning-a-view-versus-a-copy\n",
      "  score_df.drop(columns=['scores_min', 'scores_max'], inplace=True)\n",
      "/tmp/ipykernel_377317/1800093031.py:10: SettingWithCopyWarning: \n",
      "A value is trying to be set on a copy of a slice from a DataFrame.\n",
      "Try using .loc[row_indexer,col_indexer] = value instead\n",
      "\n",
      "See the caveats in the documentation: https://pandas.pydata.org/pandas-docs/stable/user_guide/indexing.html#returning-a-view-versus-a-copy\n",
      "  score_df['scores_min'] = scores_min[score_df['sess_id']]\n",
      "/tmp/ipykernel_377317/1800093031.py:11: SettingWithCopyWarning: \n",
      "A value is trying to be set on a copy of a slice from a DataFrame.\n",
      "Try using .loc[row_indexer,col_indexer] = value instead\n",
      "\n",
      "See the caveats in the documentation: https://pandas.pydata.org/pandas-docs/stable/user_guide/indexing.html#returning-a-view-versus-a-copy\n",
      "  score_df['scores_max'] = scores_max[score_df['sess_id']]\n",
      "/tmp/ipykernel_377317/1800093031.py:14: SettingWithCopyWarning: \n",
      "A value is trying to be set on a copy of a slice from a DataFrame.\n",
      "Try using .loc[row_indexer,col_indexer] = value instead\n",
      "\n",
      "See the caveats in the documentation: https://pandas.pydata.org/pandas-docs/stable/user_guide/indexing.html#returning-a-view-versus-a-copy\n",
      "  score_df['min_max_'+score_name] = (score_df[score_name] - score_df['scores_min']) / (score_df['scores_max'] - score_df['scores_min'])\n",
      "/tmp/ipykernel_377317/1800093031.py:15: SettingWithCopyWarning: \n",
      "A value is trying to be set on a copy of a slice from a DataFrame\n",
      "\n",
      "See the caveats in the documentation: https://pandas.pydata.org/pandas-docs/stable/user_guide/indexing.html#returning-a-view-versus-a-copy\n",
      "  score_df.drop(columns=['scores_min', 'scores_max'], inplace=True)\n",
      "/tmp/ipykernel_377317/1800093031.py:10: SettingWithCopyWarning: \n",
      "A value is trying to be set on a copy of a slice from a DataFrame.\n",
      "Try using .loc[row_indexer,col_indexer] = value instead\n",
      "\n",
      "See the caveats in the documentation: https://pandas.pydata.org/pandas-docs/stable/user_guide/indexing.html#returning-a-view-versus-a-copy\n",
      "  score_df['scores_min'] = scores_min[score_df['sess_id']]\n",
      "/tmp/ipykernel_377317/1800093031.py:11: SettingWithCopyWarning: \n",
      "A value is trying to be set on a copy of a slice from a DataFrame.\n",
      "Try using .loc[row_indexer,col_indexer] = value instead\n",
      "\n",
      "See the caveats in the documentation: https://pandas.pydata.org/pandas-docs/stable/user_guide/indexing.html#returning-a-view-versus-a-copy\n",
      "  score_df['scores_max'] = scores_max[score_df['sess_id']]\n",
      "/tmp/ipykernel_377317/1800093031.py:14: SettingWithCopyWarning: \n",
      "A value is trying to be set on a copy of a slice from a DataFrame.\n",
      "Try using .loc[row_indexer,col_indexer] = value instead\n",
      "\n",
      "See the caveats in the documentation: https://pandas.pydata.org/pandas-docs/stable/user_guide/indexing.html#returning-a-view-versus-a-copy\n",
      "  score_df['min_max_'+score_name] = (score_df[score_name] - score_df['scores_min']) / (score_df['scores_max'] - score_df['scores_min'])\n",
      "/tmp/ipykernel_377317/1800093031.py:15: SettingWithCopyWarning: \n",
      "A value is trying to be set on a copy of a slice from a DataFrame\n",
      "\n",
      "See the caveats in the documentation: https://pandas.pydata.org/pandas-docs/stable/user_guide/indexing.html#returning-a-view-versus-a-copy\n",
      "  score_df.drop(columns=['scores_min', 'scores_max'], inplace=True)\n"
     ]
    }
   ],
   "source": [
    "for score_name in min_max_score_list:\n",
    "    score_df = merged_candidates_feature_test[['sess_id', score_name]]\n",
    "    min_max_normalization(score_df, score_name, use_zero=True)\n",
    "    merged_candidates_feature_test['min_max_'+score_name] = score_df['min_max_'+score_name]"
   ]
  },
  {
   "cell_type": "code",
   "execution_count": 24,
   "metadata": {},
   "outputs": [],
   "source": [
    "score_name_list = ['min_max_'+score_name for score_name in min_max_score_list]\n",
    "cast_dtype(merged_candidates_feature_test, score_name_list)\n",
    "merged_candidates_feature_test.to_parquet(merged_candidates_feature_test_path, engine='pyarrow')"
   ]
  },
  {
   "cell_type": "code",
   "execution_count": 27,
   "metadata": {},
   "outputs": [
    {
     "data": {
      "text/plain": [
       "(0           0.000000\n",
       " 1           0.000000\n",
       " 2           0.087639\n",
       " 3           0.015446\n",
       " 4           0.487077\n",
       "               ...   \n",
       " 96556030    0.000000\n",
       " 96556031    0.000000\n",
       " 96556032    0.000000\n",
       " 96556033    0.115995\n",
       " 96556034    0.000000\n",
       " Name: min_max_feat_BM25_scores, Length: 96556035, dtype: float32,\n",
       " 0            0.000000\n",
       " 1            0.000000\n",
       " 2            9.070796\n",
       " 3            1.598722\n",
       " 4           50.413322\n",
       "               ...    \n",
       " 96556030     0.000000\n",
       " 96556031     0.000000\n",
       " 96556032     0.000000\n",
       " 96556033    19.868626\n",
       " 96556034     0.000000\n",
       " Name: feat_BM25_scores, Length: 96556035, dtype: float32)"
      ]
     },
     "execution_count": 27,
     "metadata": {},
     "output_type": "execute_result"
    }
   ],
   "source": [
    "merged_candidates_feature_test['min_max_feat_BM25_scores'], merged_candidates_feature_test['feat_BM25_scores']"
   ]
  },
  {
   "cell_type": "code",
   "execution_count": 28,
   "metadata": {},
   "outputs": [
    {
     "data": {
      "text/plain": [
       "0           0.000000\n",
       "1           0.000000\n",
       "2           0.000000\n",
       "3           0.000000\n",
       "4           0.309716\n",
       "              ...   \n",
       "96556030    0.372690\n",
       "96556031    0.000000\n",
       "96556032    0.000000\n",
       "96556033    0.265195\n",
       "96556034    0.345440\n",
       "Name: min_max_title_BM25_scores, Length: 96556035, dtype: float32"
      ]
     },
     "execution_count": 28,
     "metadata": {},
     "output_type": "execute_result"
    }
   ],
   "source": [
    "merged_candidates_feature_test['min_max_title_BM25_scores']"
   ]
  },
  {
   "cell_type": "code",
   "execution_count": 29,
   "metadata": {},
   "outputs": [
    {
     "data": {
      "text/plain": [
       "0            0.000000\n",
       "1            3.694895\n",
       "2           22.245871\n",
       "3           18.249533\n",
       "4           73.129723\n",
       "              ...    \n",
       "96556030    70.941124\n",
       "96556031     0.000000\n",
       "96556032     0.000000\n",
       "96556033    31.416847\n",
       "96556034     0.000000\n",
       "Name: desc_BM25_scores, Length: 96556035, dtype: float32"
      ]
     },
     "execution_count": 29,
     "metadata": {},
     "output_type": "execute_result"
    }
   ],
   "source": [
    "merged_candidates_feature_test['desc_BM25_scores']"
   ]
  },
  {
   "cell_type": "code",
   "execution_count": 30,
   "metadata": {},
   "outputs": [
    {
     "data": {
      "text/plain": [
       "0           0.000000\n",
       "1           0.010312\n",
       "2           0.062083\n",
       "3           0.050930\n",
       "4           0.204088\n",
       "              ...   \n",
       "96556030    0.114051\n",
       "96556031    0.000000\n",
       "96556032    0.000000\n",
       "96556033    0.050508\n",
       "96556034    0.000000\n",
       "Name: min_max_desc_BM25_scores, Length: 96556035, dtype: float32"
      ]
     },
     "execution_count": 30,
     "metadata": {},
     "output_type": "execute_result"
    }
   ],
   "source": [
    "merged_candidates_feature_test['min_max_desc_BM25_scores']"
   ]
  },
  {
   "cell_type": "code",
   "execution_count": 31,
   "metadata": {},
   "outputs": [
    {
     "data": {
      "text/plain": [
       "0             0.000000\n",
       "1           382.443390\n",
       "2           376.119781\n",
       "3           366.794250\n",
       "4           377.558044\n",
       "               ...    \n",
       "96556030    421.320526\n",
       "96556031      0.000000\n",
       "96556032    410.857330\n",
       "96556033    418.673431\n",
       "96556034    421.208649\n",
       "Name: text_bert_scores, Length: 96556035, dtype: float32"
      ]
     },
     "execution_count": 31,
     "metadata": {},
     "output_type": "execute_result"
    }
   ],
   "source": [
    "merged_candidates_feature_test['text_bert_scores'] "
   ]
  },
  {
   "cell_type": "code",
   "execution_count": 32,
   "metadata": {},
   "outputs": [
    {
     "data": {
      "text/plain": [
       "0           0.000000\n",
       "1           0.826050\n",
       "2           0.683499\n",
       "3           0.473276\n",
       "4           0.715921\n",
       "              ...   \n",
       "96556030    0.771414\n",
       "96556031    0.000000\n",
       "96556032    0.211611\n",
       "96556033    0.629789\n",
       "96556034    0.765429\n",
       "Name: min_max_text_bert_scores, Length: 96556035, dtype: float32"
      ]
     },
     "execution_count": 32,
     "metadata": {},
     "output_type": "execute_result"
    }
   ],
   "source": [
    "merged_candidates_feature_test['min_max_text_bert_scores'] "
   ]
  },
  {
   "cell_type": "code",
   "execution_count": 26,
   "metadata": {},
   "outputs": [],
   "source": [
    "merged_candidates_min_max_BM25_Bert_test = merged_candidates_feature_test[['sess_id', 'product',\n",
    "                                                                           'min_max_title_BM25_scores', 'min_max_desc_BM25_scores', 'min_max_feat_BM25_scores', \n",
    "                                                                           'min_max_title_bert_scores', 'min_max_text_bert_scores']]"
   ]
  },
  {
   "cell_type": "code",
   "execution_count": 33,
   "metadata": {},
   "outputs": [
    {
     "data": {
      "text/html": [
       "<div>\n",
       "<style scoped>\n",
       "    .dataframe tbody tr th:only-of-type {\n",
       "        vertical-align: middle;\n",
       "    }\n",
       "\n",
       "    .dataframe tbody tr th {\n",
       "        vertical-align: top;\n",
       "    }\n",
       "\n",
       "    .dataframe thead th {\n",
       "        text-align: right;\n",
       "    }\n",
       "</style>\n",
       "<table border=\"1\" class=\"dataframe\">\n",
       "  <thead>\n",
       "    <tr style=\"text-align: right;\">\n",
       "      <th></th>\n",
       "      <th>sess_id</th>\n",
       "      <th>product</th>\n",
       "      <th>min_max_title_BM25_scores</th>\n",
       "      <th>min_max_desc_BM25_scores</th>\n",
       "      <th>min_max_feat_BM25_scores</th>\n",
       "      <th>min_max_title_bert_scores</th>\n",
       "      <th>min_max_text_bert_scores</th>\n",
       "    </tr>\n",
       "  </thead>\n",
       "  <tbody>\n",
       "    <tr>\n",
       "      <th>0</th>\n",
       "      <td>0</td>\n",
       "      <td>B000Q87D0Q</td>\n",
       "      <td>0.000000</td>\n",
       "      <td>0.000000</td>\n",
       "      <td>0.000000</td>\n",
       "      <td>0.000000</td>\n",
       "      <td>0.000000</td>\n",
       "    </tr>\n",
       "    <tr>\n",
       "      <th>1</th>\n",
       "      <td>0</td>\n",
       "      <td>B000QB30DW</td>\n",
       "      <td>0.000000</td>\n",
       "      <td>0.010312</td>\n",
       "      <td>0.000000</td>\n",
       "      <td>0.726431</td>\n",
       "      <td>0.826050</td>\n",
       "    </tr>\n",
       "    <tr>\n",
       "      <th>2</th>\n",
       "      <td>0</td>\n",
       "      <td>B004BIG55Q</td>\n",
       "      <td>0.000000</td>\n",
       "      <td>0.062083</td>\n",
       "      <td>0.087639</td>\n",
       "      <td>0.531170</td>\n",
       "      <td>0.683499</td>\n",
       "    </tr>\n",
       "    <tr>\n",
       "      <th>3</th>\n",
       "      <td>0</td>\n",
       "      <td>B0053FTNQY</td>\n",
       "      <td>0.000000</td>\n",
       "      <td>0.050930</td>\n",
       "      <td>0.015446</td>\n",
       "      <td>0.350456</td>\n",
       "      <td>0.473276</td>\n",
       "    </tr>\n",
       "    <tr>\n",
       "      <th>4</th>\n",
       "      <td>0</td>\n",
       "      <td>B007QWII1S</td>\n",
       "      <td>0.309716</td>\n",
       "      <td>0.204088</td>\n",
       "      <td>0.487077</td>\n",
       "      <td>0.676267</td>\n",
       "      <td>0.715921</td>\n",
       "    </tr>\n",
       "    <tr>\n",
       "      <th>...</th>\n",
       "      <td>...</td>\n",
       "      <td>...</td>\n",
       "      <td>...</td>\n",
       "      <td>...</td>\n",
       "      <td>...</td>\n",
       "      <td>...</td>\n",
       "      <td>...</td>\n",
       "    </tr>\n",
       "    <tr>\n",
       "      <th>96556030</th>\n",
       "      <td>316971</td>\n",
       "      <td>B0B82N3CQQ</td>\n",
       "      <td>0.372690</td>\n",
       "      <td>0.114051</td>\n",
       "      <td>0.000000</td>\n",
       "      <td>0.694524</td>\n",
       "      <td>0.771414</td>\n",
       "    </tr>\n",
       "    <tr>\n",
       "      <th>96556031</th>\n",
       "      <td>316971</td>\n",
       "      <td>B0BB9NW3F3</td>\n",
       "      <td>0.000000</td>\n",
       "      <td>0.000000</td>\n",
       "      <td>0.000000</td>\n",
       "      <td>0.000000</td>\n",
       "      <td>0.000000</td>\n",
       "    </tr>\n",
       "    <tr>\n",
       "      <th>96556032</th>\n",
       "      <td>316971</td>\n",
       "      <td>B0BDMVKTQ3</td>\n",
       "      <td>0.000000</td>\n",
       "      <td>0.000000</td>\n",
       "      <td>0.000000</td>\n",
       "      <td>0.175180</td>\n",
       "      <td>0.211611</td>\n",
       "    </tr>\n",
       "    <tr>\n",
       "      <th>96556033</th>\n",
       "      <td>316971</td>\n",
       "      <td>B0BHW1D5VP</td>\n",
       "      <td>0.265195</td>\n",
       "      <td>0.050508</td>\n",
       "      <td>0.115995</td>\n",
       "      <td>0.610117</td>\n",
       "      <td>0.629789</td>\n",
       "    </tr>\n",
       "    <tr>\n",
       "      <th>96556034</th>\n",
       "      <td>316971</td>\n",
       "      <td>B0BJCZ63CJ</td>\n",
       "      <td>0.345440</td>\n",
       "      <td>0.000000</td>\n",
       "      <td>0.000000</td>\n",
       "      <td>0.676722</td>\n",
       "      <td>0.765429</td>\n",
       "    </tr>\n",
       "  </tbody>\n",
       "</table>\n",
       "<p>96556035 rows × 7 columns</p>\n",
       "</div>"
      ],
      "text/plain": [
       "          sess_id     product  min_max_title_BM25_scores  \\\n",
       "0               0  B000Q87D0Q                   0.000000   \n",
       "1               0  B000QB30DW                   0.000000   \n",
       "2               0  B004BIG55Q                   0.000000   \n",
       "3               0  B0053FTNQY                   0.000000   \n",
       "4               0  B007QWII1S                   0.309716   \n",
       "...           ...         ...                        ...   \n",
       "96556030   316971  B0B82N3CQQ                   0.372690   \n",
       "96556031   316971  B0BB9NW3F3                   0.000000   \n",
       "96556032   316971  B0BDMVKTQ3                   0.000000   \n",
       "96556033   316971  B0BHW1D5VP                   0.265195   \n",
       "96556034   316971  B0BJCZ63CJ                   0.345440   \n",
       "\n",
       "          min_max_desc_BM25_scores  min_max_feat_BM25_scores  \\\n",
       "0                         0.000000                  0.000000   \n",
       "1                         0.010312                  0.000000   \n",
       "2                         0.062083                  0.087639   \n",
       "3                         0.050930                  0.015446   \n",
       "4                         0.204088                  0.487077   \n",
       "...                            ...                       ...   \n",
       "96556030                  0.114051                  0.000000   \n",
       "96556031                  0.000000                  0.000000   \n",
       "96556032                  0.000000                  0.000000   \n",
       "96556033                  0.050508                  0.115995   \n",
       "96556034                  0.000000                  0.000000   \n",
       "\n",
       "          min_max_title_bert_scores  min_max_text_bert_scores  \n",
       "0                          0.000000                  0.000000  \n",
       "1                          0.726431                  0.826050  \n",
       "2                          0.531170                  0.683499  \n",
       "3                          0.350456                  0.473276  \n",
       "4                          0.676267                  0.715921  \n",
       "...                             ...                       ...  \n",
       "96556030                   0.694524                  0.771414  \n",
       "96556031                   0.000000                  0.000000  \n",
       "96556032                   0.175180                  0.211611  \n",
       "96556033                   0.610117                  0.629789  \n",
       "96556034                   0.676722                  0.765429  \n",
       "\n",
       "[96556035 rows x 7 columns]"
      ]
     },
     "execution_count": 33,
     "metadata": {},
     "output_type": "execute_result"
    }
   ],
   "source": [
    "merged_candidates_min_max_BM25_Bert_test"
   ]
  },
  {
   "cell_type": "code",
   "execution_count": null,
   "metadata": {},
   "outputs": [],
   "source": [
    "merged_candidates_min_max_BM25_Bert_test.to_parquet('/root/autodl-tmp/xiaolong/WorkSpace/Amazon-KDDCUP-23/XGBoost/transpose/cxl_merged_candidates_min_max_BM25_Bert_scores_test.parquet')"
   ]
  }
 ],
 "metadata": {
  "kernelspec": {
   "display_name": "pytorch_gpu",
   "language": "python",
   "name": "python3"
  },
  "language_info": {
   "codemirror_mode": {
    "name": "ipython",
    "version": 3
   },
   "file_extension": ".py",
   "mimetype": "text/x-python",
   "name": "python",
   "nbconvert_exporter": "python",
   "pygments_lexer": "ipython3",
   "version": "3.9.15"
  },
  "orig_nbformat": 4
 },
 "nbformat": 4,
 "nbformat_minor": 2
}
