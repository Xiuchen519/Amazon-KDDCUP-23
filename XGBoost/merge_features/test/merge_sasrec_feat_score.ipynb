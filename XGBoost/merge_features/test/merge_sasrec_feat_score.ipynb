{
 "cells": [
  {
   "attachments": {},
   "cell_type": "markdown",
   "metadata": {},
   "source": [
    "use loc[i, field] instead of iloc[i, field], iloc is very slow."
   ]
  },
  {
   "cell_type": "code",
   "execution_count": 1,
   "metadata": {
    "execution": {
     "iopub.execute_input": "2023-05-22T08:56:36.051874Z",
     "iopub.status.busy": "2023-05-22T08:56:36.051594Z",
     "iopub.status.idle": "2023-05-22T08:56:52.031135Z",
     "shell.execute_reply": "2023-05-22T08:56:52.030152Z"
    }
   },
   "outputs": [
    {
     "name": "stderr",
     "output_type": "stream",
     "text": [
      "/root/autodl-tmp/xiaolong/.conda/envs/torch12/lib/python3.9/site-packages/tqdm/auto.py:22: TqdmWarning: IProgress not found. Please update jupyter and ipywidgets. See https://ipywidgets.readthedocs.io/en/stable/user_install.html\n",
      "  from .autonotebook import tqdm as notebook_tqdm\n"
     ]
    }
   ],
   "source": [
    "import sys\n",
    "sys.path = ['/root/autodl-tmp/xiaolong/WorkSpace/Amazon-KDDCUP-23/RecStudio/'] + sys.path\n",
    "import os\n",
    "os.environ[\"CUDA_VISIBLE_DEVICES\"] = \"0\"\n",
    "import random\n",
    "import numpy as np\n",
    "import pandas as pd\n",
    "import cudf, itertools\n",
    "import scipy.sparse as ssp\n",
    "from functools import lru_cache, partial\n",
    "from tqdm import tqdm, trange\n",
    "from collections import Counter, defaultdict\n",
    "import torch\n",
    "import pickle\n"
   ]
  },
  {
   "cell_type": "code",
   "execution_count": 2,
   "metadata": {
    "execution": {
     "iopub.execute_input": "2023-05-22T08:56:52.087862Z",
     "iopub.status.busy": "2023-05-22T08:56:52.087356Z",
     "iopub.status.idle": "2023-05-22T08:56:52.092669Z",
     "shell.execute_reply": "2023-05-22T08:56:52.091362Z"
    }
   },
   "outputs": [],
   "source": [
    "merged_candidates_feature_path = '/root/autodl-tmp/xiaolong/WorkSpace/Amazon-KDDCUP-23/XGBoost/candidates/merged_candidates_2_feature.parquet'\n",
    "valid_sessions_path = '/root/autodl-tmp/xiaolong/WorkSpace/Amazon-KDDCUP-23/data_for_recstudio/task1_data/task13_4_task1_valid_sessions.csv'\n",
    "test_sessions_path = '/root/autodl-tmp/xiaolong/WorkSpace/Amazon-KDDCUP-23/raw_data/sessions_test_task1.csv'"
   ]
  },
  {
   "cell_type": "code",
   "execution_count": 3,
   "metadata": {
    "execution": {
     "iopub.execute_input": "2023-05-22T08:56:52.101563Z",
     "iopub.status.busy": "2023-05-22T08:56:52.101190Z",
     "iopub.status.idle": "2023-05-22T08:56:52.107005Z",
     "shell.execute_reply": "2023-05-22T08:56:52.106093Z"
    }
   },
   "outputs": [],
   "source": [
    "@lru_cache(maxsize=1)\n",
    "def read_merged_candidates_feature():\n",
    "    return pd.read_parquet(merged_candidates_feature_path, engine='pyarrow')\n",
    "\n",
    "@lru_cache(maxsize=1)\n",
    "def read_valid_sessions():\n",
    "    return pd.read_csv(valid_sessions_path)\n",
    "\n",
    "@lru_cache(maxsize=1)\n",
    "def read_test_sessions():\n",
    "    return pd.read_csv(test_sessions_path)"
   ]
  },
  {
   "cell_type": "code",
   "execution_count": 4,
   "metadata": {
    "execution": {
     "iopub.execute_input": "2023-05-22T08:56:52.110922Z",
     "iopub.status.busy": "2023-05-22T08:56:52.110619Z",
     "iopub.status.idle": "2023-05-22T08:56:52.118506Z",
     "shell.execute_reply": "2023-05-22T08:56:52.117526Z"
    }
   },
   "outputs": [],
   "source": [
    "def cast_dtype(df : pd.DataFrame, columns=None):\n",
    "    if columns is None:\n",
    "        columns = df.columns\n",
    "    for k in columns:\n",
    "        dt = type(df[k].iloc[0])\n",
    "        if 'float' in str(dt):\n",
    "            df[k] = df[k].astype('float32')\n",
    "        elif 'int' in str(dt):\n",
    "            df[k] = df[k].astype('int32')\n",
    "        elif dt == list:\n",
    "            dt_ = type(df.iloc[0][k][0])\n",
    "            if 'float' in str(dt_):\n",
    "                df[k] = df[k].apply(lambda x : np.array(x, dtype=np.float32))\n",
    "            elif 'int' in str(dt_):\n",
    "                df[k] = df[k].apply(lambda x : np.array(x, dtype=np.int32))"
   ]
  },
  {
   "cell_type": "code",
   "execution_count": 5,
   "metadata": {
    "execution": {
     "iopub.execute_input": "2023-05-22T08:56:52.122488Z",
     "iopub.status.busy": "2023-05-22T08:56:52.122094Z",
     "iopub.status.idle": "2023-05-22T08:56:52.126489Z",
     "shell.execute_reply": "2023-05-22T08:56:52.125822Z"
    }
   },
   "outputs": [],
   "source": [
    "def _load_cache(path):\n",
    "    with open(path, 'rb') as f:\n",
    "        download_obj = pickle.load(f)\n",
    "    return download_obj"
   ]
  },
  {
   "cell_type": "code",
   "execution_count": 6,
   "metadata": {
    "execution": {
     "iopub.execute_input": "2023-05-22T08:56:52.130482Z",
     "iopub.status.busy": "2023-05-22T08:56:52.130221Z",
     "iopub.status.idle": "2023-05-22T08:56:52.136435Z",
     "shell.execute_reply": "2023-05-22T08:56:52.135436Z"
    }
   },
   "outputs": [],
   "source": [
    "def get_scores(merged_candidates_df, query_embeddings, product_embeddings):\n",
    "    batch_size = 2048\n",
    "    num_iter = (len(merged_candidates_df) - 1) // batch_size + 1\n",
    "    score_list = []\n",
    "    with torch.no_grad():\n",
    "        for i in tqdm(range(num_iter)):\n",
    "            st, ed = i * batch_size, (i + 1) * batch_size \n",
    "            batch_sess = merged_candidates_df.iloc[st : ed]\n",
    "            batch_sess_id = torch.tensor(batch_sess['sess_id'].tolist(), dtype=torch.long, device=query_embeddings.device)\n",
    "            batch_product_id = torch.tensor(batch_sess['dataset_id'].tolist(), dtype=torch.long, device=product_embeddings.device)\n",
    "            query_emb = query_embeddings[batch_sess_id]\n",
    "            product_emb = product_embeddings[batch_product_id]\n",
    "            batch_score = (query_emb * product_emb).sum(dim=-1) \n",
    "            score_list.append(batch_score.cpu())\n",
    "        score_list = torch.cat(score_list, dim=0).cpu().tolist()\n",
    "        return score_list "
   ]
  },
  {
   "cell_type": "code",
   "execution_count": 7,
   "metadata": {
    "execution": {
     "iopub.execute_input": "2023-05-22T08:56:52.139843Z",
     "iopub.status.busy": "2023-05-22T08:56:52.139535Z",
     "iopub.status.idle": "2023-05-22T08:56:52.146243Z",
     "shell.execute_reply": "2023-05-22T08:56:52.145277Z"
    }
   },
   "outputs": [],
   "source": [
    "def normalize_scores(score_df, score_name, normalized_score_name):\n",
    "    # score_df_g = cudf.from_pandas(score_df)\n",
    "    score_df['exp_score'] = np.exp(score_df[score_name].to_numpy())\n",
    "    scores_sum = score_df[['sess_id', 'exp_score']].groupby('sess_id').sum()\n",
    "    scores_sum.reset_index(inplace=True)\n",
    "    scores_sum = scores_sum.sort_values(by=['sess_id'], ascending=True)\n",
    "    scores_sum.reset_index(drop=True, inplace=True)\n",
    "    scores_sum.rename(columns={'exp_score' : 'score_sum'}, inplace=True)\n",
    "\n",
    "    merged_score_df = score_df.merge(scores_sum, how='left', left_on=['sess_id'], right_on=['sess_id'])\n",
    "    merged_score_df = merged_score_df.sort_values(by=['sess_id', 'product'])\n",
    "    merged_score_df.reset_index(drop=True, inplace=True)\n",
    "    \n",
    "    # merged_score_df = merged_score_df_g.to_pandas(merged_score_df_g)\n",
    "    score_df[normalized_score_name] = merged_score_df['exp_score'] / merged_score_df['score_sum']\n",
    "    score_df['exp_score'] = merged_score_df['exp_score']\n",
    "    score_df['score_sum'] = merged_score_df['score_sum']\n",
    "\n",
    "    # del scores_sum_g\n",
    "    # del merged_score_df_g "
   ]
  },
  {
   "attachments": {},
   "cell_type": "markdown",
   "metadata": {},
   "source": [
    "# Merge test score"
   ]
  },
  {
   "cell_type": "code",
   "execution_count": 28,
   "metadata": {
    "execution": {
     "iopub.execute_input": "2023-05-22T09:14:22.066051Z",
     "iopub.status.busy": "2023-05-22T09:14:22.065156Z",
     "iopub.status.idle": "2023-05-22T09:14:22.069221Z",
     "shell.execute_reply": "2023-05-22T09:14:22.068564Z"
    }
   },
   "outputs": [],
   "source": [
    "FIELD_NAME = 'sasrec_feat_scores'"
   ]
  },
  {
   "cell_type": "code",
   "execution_count": 29,
   "metadata": {
    "execution": {
     "iopub.execute_input": "2023-05-22T09:14:22.071780Z",
     "iopub.status.busy": "2023-05-22T09:14:22.071540Z",
     "iopub.status.idle": "2023-05-22T09:14:22.075340Z",
     "shell.execute_reply": "2023-05-22T09:14:22.074653Z"
    }
   },
   "outputs": [],
   "source": [
    "merged_candidates_feature_test_path = '/root/autodl-tmp/xiaolong/WorkSpace/Amazon-KDDCUP-23/XGBoost/candidates/merged_candidates_test_2_feature.parquet'\n",
    "test_sessions_path = '/root/autodl-tmp/xiaolong/WorkSpace/Amazon-KDDCUP-23/raw_data/sessions_test_task1.csv'"
   ]
  },
  {
   "cell_type": "code",
   "execution_count": 30,
   "metadata": {
    "execution": {
     "iopub.execute_input": "2023-05-22T09:14:22.078145Z",
     "iopub.status.busy": "2023-05-22T09:14:22.077896Z",
     "iopub.status.idle": "2023-05-22T09:14:22.081899Z",
     "shell.execute_reply": "2023-05-22T09:14:22.081142Z"
    }
   },
   "outputs": [],
   "source": [
    "DE_product_embeddings_path = '/root/autodl-tmp/xiaolong/WorkSpace/Amazon-KDDCUP-23/candidates/query_embeddings/SASRec_Next_Feat/kdd_cup_2023_DE/product_embeddings_2023-05-22-14-49-09.pt'\n",
    "DE_test_embeddings_path = '/root/autodl-tmp/xiaolong/WorkSpace/Amazon-KDDCUP-23/candidates/query_embeddings/SASRec_Next_Feat/kdd_cup_2023_DE/predict_embeddings_2023-05-22-14-53-43.pt'\n",
    "JP_product_embeddings_path = '/root/autodl-tmp/xiaolong/WorkSpace/Amazon-KDDCUP-23/candidates/query_embeddings/SASRec_Next_Feat/kdd_cup_2023_JP/product_embeddings_2023-05-22-14-56-18.pt'\n",
    "JP_test_embeddings_path = '/root/autodl-tmp/xiaolong/WorkSpace/Amazon-KDDCUP-23/candidates/query_embeddings/SASRec_Next_Feat/kdd_cup_2023_JP/predict_embeddings_2023-05-22-14-59-19.pt'\n",
    "UK_product_embeddings_path = '/root/autodl-tmp/xiaolong/WorkSpace/Amazon-KDDCUP-23/candidates/query_embeddings/SASRec_Next_Feat/kdd_cup_2023_UK/product_embeddings_2023-05-22-15-00-18.pt'\n",
    "UK_test_embeddings_path = '/root/autodl-tmp/xiaolong/WorkSpace/Amazon-KDDCUP-23/candidates/query_embeddings/SASRec_Next_Feat/kdd_cup_2023_UK/predict_embeddings_2023-05-22-15-04-21.pt'"
   ]
  },
  {
   "cell_type": "code",
   "execution_count": 31,
   "metadata": {
    "execution": {
     "iopub.execute_input": "2023-05-22T09:14:22.084936Z",
     "iopub.status.busy": "2023-05-22T09:14:22.084382Z",
     "iopub.status.idle": "2023-05-22T09:14:22.091379Z",
     "shell.execute_reply": "2023-05-22T09:14:22.090689Z"
    }
   },
   "outputs": [],
   "source": [
    "@lru_cache(maxsize=1)\n",
    "def read_merged_candidates_feature_test():\n",
    "    return pd.read_parquet(merged_candidates_feature_test_path, engine='pyarrow')\n",
    "\n",
    "@lru_cache(maxsize=1)\n",
    "def read_test_sessions():\n",
    "    return pd.read_csv(test_sessions_path)"
   ]
  },
  {
   "cell_type": "code",
   "execution_count": 32,
   "metadata": {
    "execution": {
     "iopub.execute_input": "2023-05-22T09:14:22.094693Z",
     "iopub.status.busy": "2023-05-22T09:14:22.093963Z",
     "iopub.status.idle": "2023-05-22T09:16:53.562548Z",
     "shell.execute_reply": "2023-05-22T09:16:53.557654Z"
    }
   },
   "outputs": [],
   "source": [
    "merged_candidates = read_merged_candidates_feature_test()\n",
    "test_sessions = read_test_sessions()\n",
    "EMBED_DIM = 128\n",
    "merged_candidates.sort_values(by=['sess_id', 'product'], inplace=True)\n",
    "merged_candidates.reset_index(drop=True, inplace=True)"
   ]
  },
  {
   "cell_type": "code",
   "execution_count": 33,
   "metadata": {
    "execution": {
     "iopub.execute_input": "2023-05-22T09:16:53.567612Z",
     "iopub.status.busy": "2023-05-22T09:16:53.567279Z",
     "iopub.status.idle": "2023-05-22T09:16:57.434836Z",
     "shell.execute_reply": "2023-05-22T09:16:57.433867Z"
    }
   },
   "outputs": [],
   "source": [
    "# sess embeddings \n",
    "test_DE_query_emb = torch.load(DE_test_embeddings_path, map_location='cpu')\n",
    "test_JP_query_emb = torch.load(JP_test_embeddings_path, map_location='cpu')\n",
    "test_UK_query_emb = torch.load(UK_test_embeddings_path, map_location='cpu')\n",
    "test_query_embeddings = torch.cat(\n",
    "    [test_DE_query_emb[test_sessions['locale'] == 'DE'], test_JP_query_emb[test_sessions['locale'] == 'JP'], test_UK_query_emb[test_sessions['locale'] == 'UK']],\n",
    "    dim=0)"
   ]
  },
  {
   "cell_type": "code",
   "execution_count": 34,
   "metadata": {
    "execution": {
     "iopub.execute_input": "2023-05-22T09:16:57.438514Z",
     "iopub.status.busy": "2023-05-22T09:16:57.438231Z",
     "iopub.status.idle": "2023-05-22T09:16:58.339499Z",
     "shell.execute_reply": "2023-05-22T09:16:58.337737Z"
    }
   },
   "outputs": [],
   "source": [
    "# product embeddings \n",
    "DE_product_emb = torch.load(DE_product_embeddings_path, map_location='cpu')\n",
    "JP_product_emb = torch.load(JP_product_embeddings_path, map_location='cpu')\n",
    "UK_product_emb = torch.load(UK_product_embeddings_path, map_location='cpu')\n",
    "product_embeddings = torch.cat([DE_product_emb, JP_product_emb, UK_product_emb], dim=0)"
   ]
  },
  {
   "cell_type": "code",
   "execution_count": 35,
   "metadata": {
    "execution": {
     "iopub.execute_input": "2023-05-22T09:16:58.346656Z",
     "iopub.status.busy": "2023-05-22T09:16:58.345396Z",
     "iopub.status.idle": "2023-05-22T09:17:24.102475Z",
     "shell.execute_reply": "2023-05-22T09:17:24.101361Z"
    }
   },
   "outputs": [],
   "source": [
    "DE_dataset_cache = '/root/autodl-tmp/xiaolong/WorkSpace/Amazon-KDDCUP-23/.recstudio/cache/c76eddf0a07106ffcce7ce8010856a3b'\n",
    "JP_dataset_cache = '/root/autodl-tmp/xiaolong/WorkSpace/Amazon-KDDCUP-23/.recstudio/cache/81a71d0a18766af84b3beab69bf53e69'\n",
    "UK_dataset_cache = '/root/autodl-tmp/xiaolong/WorkSpace/Amazon-KDDCUP-23/.recstudio/cache/250dbc09c30162452e00486051e47756'\n",
    "DE_train_dataset, DE_valid_dataset = _load_cache(DE_dataset_cache)\n",
    "JP_train_dataset, JP_valid_dataset = _load_cache(JP_dataset_cache)\n",
    "UK_train_dataset, UK_valid_dataset = _load_cache(UK_dataset_cache)\n",
    "locale_map = {\n",
    "    'DE' : DE_train_dataset.field2token2idx['product_id'], \n",
    "    'JP' : JP_train_dataset.field2token2idx['product_id'], \n",
    "    'UK' : UK_train_dataset.field2token2idx['product_id']\n",
    "    }"
   ]
  },
  {
   "cell_type": "code",
   "execution_count": 36,
   "metadata": {
    "execution": {
     "iopub.execute_input": "2023-05-22T09:17:24.106393Z",
     "iopub.status.busy": "2023-05-22T09:17:24.106032Z",
     "iopub.status.idle": "2023-05-22T09:17:28.431844Z",
     "shell.execute_reply": "2023-05-22T09:17:28.430758Z"
    }
   },
   "outputs": [],
   "source": [
    "DE_product_list, DE_id_list = list(zip(*locale_map['DE'].items()))\n",
    "JP_product_list, JP_id_list = list(zip(*locale_map['JP'].items()))\n",
    "UK_product_list, UK_id_list = list(zip(*locale_map['UK'].items()))\n",
    "product_list = list(DE_product_list) + list(JP_product_list) + list(UK_product_list)\n",
    "id_list = list(DE_id_list) + list(JP_id_list) + list(UK_id_list)\n",
    "locale_list = ['DE'] * len(DE_id_list) + ['JP'] * len(JP_id_list) + ['UK'] * len(UK_id_list)\n",
    "product_id_df = pd.DataFrame({'locale' : locale_list, 'product' : product_list, 'dataset_id' : id_list})"
   ]
  },
  {
   "cell_type": "code",
   "execution_count": 37,
   "metadata": {
    "execution": {
     "iopub.execute_input": "2023-05-22T09:17:28.436492Z",
     "iopub.status.busy": "2023-05-22T09:17:28.435475Z",
     "iopub.status.idle": "2023-05-22T09:17:44.375803Z",
     "shell.execute_reply": "2023-05-22T09:17:44.374253Z"
    }
   },
   "outputs": [],
   "source": [
    "merged_candidates_ = merged_candidates[['sess_id', 'sess_locale', 'product']].copy()"
   ]
  },
  {
   "cell_type": "code",
   "execution_count": 38,
   "metadata": {
    "execution": {
     "iopub.execute_input": "2023-05-22T09:17:44.448490Z",
     "iopub.status.busy": "2023-05-22T09:17:44.447988Z",
     "iopub.status.idle": "2023-05-22T09:17:59.411892Z",
     "shell.execute_reply": "2023-05-22T09:17:59.409755Z"
    }
   },
   "outputs": [],
   "source": [
    "# merged_candidates_g = cudf.from_pandas(merged_candidates_)\n",
    "# product_id_df_g = cudf.from_pandas(product_id_df)"
   ]
  },
  {
   "cell_type": "code",
   "execution_count": 39,
   "metadata": {
    "execution": {
     "iopub.execute_input": "2023-05-22T09:17:59.421168Z",
     "iopub.status.busy": "2023-05-22T09:17:59.420803Z",
     "iopub.status.idle": "2023-05-22T09:18:50.637834Z",
     "shell.execute_reply": "2023-05-22T09:18:50.632330Z"
    }
   },
   "outputs": [],
   "source": [
    "# merged_candidates_score_g = merged_candidates_g.merge(product_id_df_g, how='left', left_on=['sess_locale', 'product'], right_on=['locale', 'product'])\n",
    "# merged_candidates_score_g['dataset_id'] = merged_candidates_score_g['dataset_id'].fillna(0)\n",
    "# merged_candidates_score_g.drop(columns=['locale'], inplace=True)\n",
    "# merged_candidates_score_g = merged_candidates_score_g.sort_values(by=['sess_id', 'product'])\n",
    "# merged_candidates_score_g.reset_index(drop=True, inplace=True)\n",
    "# merged_candidates_score = merged_candidates_score_g.to_pandas()"
   ]
  },
  {
   "cell_type": "code",
   "execution_count": null,
   "metadata": {},
   "outputs": [],
   "source": [
    "merged_candidates_score = merged_candidates_.merge(product_id_df, how='left', left_on=['sess_locale', 'product'], right_on=['locale', 'product'])\n",
    "merged_candidates_score['dataset_id'] = merged_candidates_score['dataset_id'].fillna(0)\n",
    "merged_candidates_score.drop(columns=['locale'], inplace=True)\n",
    "merged_candidates_score = merged_candidates_score.sort_values(by=['sess_id', 'product'])\n",
    "merged_candidates_score.reset_index(drop=True, inplace=True)"
   ]
  },
  {
   "cell_type": "code",
   "execution_count": 40,
   "metadata": {
    "execution": {
     "iopub.execute_input": "2023-05-22T09:18:50.643061Z",
     "iopub.status.busy": "2023-05-22T09:18:50.642035Z",
     "iopub.status.idle": "2023-05-22T09:18:50.876853Z",
     "shell.execute_reply": "2023-05-22T09:18:50.875913Z"
    }
   },
   "outputs": [],
   "source": [
    "# del merged_candidates_g\n",
    "# del product_id_df_g\n",
    "# del merged_candidates_score_g"
   ]
  },
  {
   "cell_type": "code",
   "execution_count": 41,
   "metadata": {
    "execution": {
     "iopub.execute_input": "2023-05-22T09:18:50.880189Z",
     "iopub.status.busy": "2023-05-22T09:18:50.879716Z",
     "iopub.status.idle": "2023-05-22T09:19:44.864417Z",
     "shell.execute_reply": "2023-05-22T09:19:44.860729Z"
    }
   },
   "outputs": [
    {
     "name": "stderr",
     "output_type": "stream",
     "text": [
      "/tmp/ipykernel_839857/2978421209.py:3: SettingWithCopyWarning: \n",
      "A value is trying to be set on a copy of a slice from a DataFrame\n",
      "\n",
      "See the caveats in the documentation: https://pandas.pydata.org/pandas-docs/stable/user_guide/indexing.html#returning-a-view-versus-a-copy\n",
      "  merged_candidates_score['dataset_id'][merged_candidates_score['sess_locale'] == locale] = \\\n"
     ]
    }
   ],
   "source": [
    "locale_offset = {'DE' : 0, 'JP' : len(DE_product_list), 'UK' : len(DE_product_list) + len(JP_product_list)}\n",
    "for locale in ['DE', 'JP', 'UK']:\n",
    "    merged_candidates_score['dataset_id'][merged_candidates_score['sess_locale'] == locale] = \\\n",
    "        merged_candidates_score['dataset_id'][merged_candidates_score['sess_locale'] == locale] + locale_offset[locale]"
   ]
  },
  {
   "cell_type": "code",
   "execution_count": 42,
   "metadata": {
    "execution": {
     "iopub.execute_input": "2023-05-22T09:19:44.873897Z",
     "iopub.status.busy": "2023-05-22T09:19:44.873172Z",
     "iopub.status.idle": "2023-05-22T09:21:36.252547Z",
     "shell.execute_reply": "2023-05-22T09:21:36.251362Z"
    }
   },
   "outputs": [
    {
     "name": "stderr",
     "output_type": "stream",
     "text": [
      "100%|██████████████████████████████████████████████████████████████████████████████████████████████| 33901/33901 [01:34<00:00, 357.29it/s]\n"
     ]
    }
   ],
   "source": [
    "merged_candidates_score[FIELD_NAME] = get_scores(merged_candidates_score, test_query_embeddings, product_embeddings)"
   ]
  },
  {
   "cell_type": "code",
   "execution_count": 43,
   "metadata": {
    "execution": {
     "iopub.execute_input": "2023-05-22T09:21:36.257905Z",
     "iopub.status.busy": "2023-05-22T09:21:36.257039Z",
     "iopub.status.idle": "2023-05-22T09:24:01.920577Z",
     "shell.execute_reply": "2023-05-22T09:24:01.914865Z"
    }
   },
   "outputs": [],
   "source": [
    "normalize_scores(merged_candidates_score, FIELD_NAME, 'normalized_'+FIELD_NAME)"
   ]
  },
  {
   "cell_type": "code",
   "execution_count": 44,
   "metadata": {
    "execution": {
     "iopub.execute_input": "2023-05-22T09:24:01.933696Z",
     "iopub.status.busy": "2023-05-22T09:24:01.933320Z",
     "iopub.status.idle": "2023-05-22T09:24:03.292952Z",
     "shell.execute_reply": "2023-05-22T09:24:03.291654Z"
    }
   },
   "outputs": [],
   "source": [
    "merged_candidates[FIELD_NAME] = merged_candidates_score[FIELD_NAME]\n",
    "merged_candidates['normalized_'+FIELD_NAME] = merged_candidates_score['normalized_'+FIELD_NAME]"
   ]
  },
  {
   "cell_type": "code",
   "execution_count": 45,
   "metadata": {
    "execution": {
     "iopub.execute_input": "2023-05-22T09:24:03.296645Z",
     "iopub.status.busy": "2023-05-22T09:24:03.296322Z",
     "iopub.status.idle": "2023-05-22T09:25:27.477023Z",
     "shell.execute_reply": "2023-05-22T09:25:27.475497Z"
    }
   },
   "outputs": [],
   "source": [
    "cast_dtype(merged_candidates, [FIELD_NAME, 'normalized_'+FIELD_NAME])\n",
    "merged_candidates.to_parquet(merged_candidates_feature_test_path, engine='pyarrow')"
   ]
  },
  {
   "cell_type": "code",
   "execution_count": 46,
   "metadata": {
    "execution": {
     "iopub.execute_input": "2023-05-22T09:25:27.481280Z",
     "iopub.status.busy": "2023-05-22T09:25:27.480932Z",
     "iopub.status.idle": "2023-05-22T09:25:53.204432Z",
     "shell.execute_reply": "2023-05-22T09:25:53.203262Z"
    }
   },
   "outputs": [
    {
     "data": {
      "text/html": [
       "<div>\n",
       "<style scoped>\n",
       "    .dataframe tbody tr th:only-of-type {\n",
       "        vertical-align: middle;\n",
       "    }\n",
       "\n",
       "    .dataframe tbody tr th {\n",
       "        vertical-align: top;\n",
       "    }\n",
       "\n",
       "    .dataframe thead th {\n",
       "        text-align: right;\n",
       "    }\n",
       "</style>\n",
       "<table border=\"1\" class=\"dataframe\">\n",
       "  <thead>\n",
       "    <tr style=\"text-align: right;\">\n",
       "      <th></th>\n",
       "      <th>sess_locale</th>\n",
       "      <th>product</th>\n",
       "      <th>sasrec_normalized_scores_3</th>\n",
       "      <th>sasrec_scores_3</th>\n",
       "      <th>normalized_sasrec_feat_scores</th>\n",
       "      <th>sasrec_feat_scores</th>\n",
       "    </tr>\n",
       "  </thead>\n",
       "  <tbody>\n",
       "    <tr>\n",
       "      <th>21586793</th>\n",
       "      <td>DE</td>\n",
       "      <td>B07TRQH45S</td>\n",
       "      <td>0.147121</td>\n",
       "      <td>13.966843</td>\n",
       "      <td>0.184962</td>\n",
       "      <td>14.379711</td>\n",
       "    </tr>\n",
       "    <tr>\n",
       "      <th>21586937</th>\n",
       "      <td>DE</td>\n",
       "      <td>B0B6WNV91T</td>\n",
       "      <td>0.101698</td>\n",
       "      <td>13.597599</td>\n",
       "      <td>0.103222</td>\n",
       "      <td>13.796440</td>\n",
       "    </tr>\n",
       "    <tr>\n",
       "      <th>21586840</th>\n",
       "      <td>DE</td>\n",
       "      <td>B092CMLDHW</td>\n",
       "      <td>0.085103</td>\n",
       "      <td>13.419450</td>\n",
       "      <td>0.049990</td>\n",
       "      <td>13.071379</td>\n",
       "    </tr>\n",
       "    <tr>\n",
       "      <th>21586866</th>\n",
       "      <td>DE</td>\n",
       "      <td>B09F2J37V4</td>\n",
       "      <td>0.073178</td>\n",
       "      <td>13.268482</td>\n",
       "      <td>0.070295</td>\n",
       "      <td>13.412264</td>\n",
       "    </tr>\n",
       "    <tr>\n",
       "      <th>21586762</th>\n",
       "      <td>DE</td>\n",
       "      <td>B01N4ND1T2</td>\n",
       "      <td>0.060054</td>\n",
       "      <td>13.070827</td>\n",
       "      <td>0.104813</td>\n",
       "      <td>13.811741</td>\n",
       "    </tr>\n",
       "    <tr>\n",
       "      <th>21586887</th>\n",
       "      <td>DE</td>\n",
       "      <td>B09NQ7T1D2</td>\n",
       "      <td>0.034626</td>\n",
       "      <td>12.520185</td>\n",
       "      <td>0.055420</td>\n",
       "      <td>13.174492</td>\n",
       "    </tr>\n",
       "    <tr>\n",
       "      <th>21586821</th>\n",
       "      <td>DE</td>\n",
       "      <td>B08F44MNK9</td>\n",
       "      <td>0.033857</td>\n",
       "      <td>12.497720</td>\n",
       "      <td>0.030776</td>\n",
       "      <td>12.586285</td>\n",
       "    </tr>\n",
       "    <tr>\n",
       "      <th>21586870</th>\n",
       "      <td>DE</td>\n",
       "      <td>B09F66MWVX</td>\n",
       "      <td>0.032527</td>\n",
       "      <td>12.457649</td>\n",
       "      <td>0.031582</td>\n",
       "      <td>12.612159</td>\n",
       "    </tr>\n",
       "    <tr>\n",
       "      <th>21586934</th>\n",
       "      <td>DE</td>\n",
       "      <td>B0B62K5H9P</td>\n",
       "      <td>0.022110</td>\n",
       "      <td>12.071623</td>\n",
       "      <td>0.007515</td>\n",
       "      <td>11.176504</td>\n",
       "    </tr>\n",
       "    <tr>\n",
       "      <th>21586932</th>\n",
       "      <td>DE</td>\n",
       "      <td>B0B5YWF8DX</td>\n",
       "      <td>0.019025</td>\n",
       "      <td>11.921362</td>\n",
       "      <td>0.019065</td>\n",
       "      <td>12.107419</td>\n",
       "    </tr>\n",
       "    <tr>\n",
       "      <th>21586824</th>\n",
       "      <td>DE</td>\n",
       "      <td>B08H1YNK3P</td>\n",
       "      <td>0.017053</td>\n",
       "      <td>11.811898</td>\n",
       "      <td>0.031233</td>\n",
       "      <td>12.601025</td>\n",
       "    </tr>\n",
       "    <tr>\n",
       "      <th>21586757</th>\n",
       "      <td>DE</td>\n",
       "      <td>B01MS7YUA7</td>\n",
       "      <td>0.016938</td>\n",
       "      <td>11.805135</td>\n",
       "      <td>0.030728</td>\n",
       "      <td>12.584743</td>\n",
       "    </tr>\n",
       "    <tr>\n",
       "      <th>21586792</th>\n",
       "      <td>DE</td>\n",
       "      <td>B07TF6R7X8</td>\n",
       "      <td>0.016270</td>\n",
       "      <td>11.764893</td>\n",
       "      <td>0.015545</td>\n",
       "      <td>11.903269</td>\n",
       "    </tr>\n",
       "    <tr>\n",
       "      <th>21586846</th>\n",
       "      <td>DE</td>\n",
       "      <td>B0953JXVQ2</td>\n",
       "      <td>0.015588</td>\n",
       "      <td>11.722057</td>\n",
       "      <td>0.013833</td>\n",
       "      <td>11.786585</td>\n",
       "    </tr>\n",
       "    <tr>\n",
       "      <th>21586861</th>\n",
       "      <td>DE</td>\n",
       "      <td>B09BHY8MKG</td>\n",
       "      <td>0.014962</td>\n",
       "      <td>11.681080</td>\n",
       "      <td>0.018286</td>\n",
       "      <td>12.065714</td>\n",
       "    </tr>\n",
       "  </tbody>\n",
       "</table>\n",
       "</div>"
      ],
      "text/plain": [
       "         sess_locale     product  sasrec_normalized_scores_3  sasrec_scores_3  \\\n",
       "21586793          DE  B07TRQH45S                    0.147121        13.966843   \n",
       "21586937          DE  B0B6WNV91T                    0.101698        13.597599   \n",
       "21586840          DE  B092CMLDHW                    0.085103        13.419450   \n",
       "21586866          DE  B09F2J37V4                    0.073178        13.268482   \n",
       "21586762          DE  B01N4ND1T2                    0.060054        13.070827   \n",
       "21586887          DE  B09NQ7T1D2                    0.034626        12.520185   \n",
       "21586821          DE  B08F44MNK9                    0.033857        12.497720   \n",
       "21586870          DE  B09F66MWVX                    0.032527        12.457649   \n",
       "21586934          DE  B0B62K5H9P                    0.022110        12.071623   \n",
       "21586932          DE  B0B5YWF8DX                    0.019025        11.921362   \n",
       "21586824          DE  B08H1YNK3P                    0.017053        11.811898   \n",
       "21586757          DE  B01MS7YUA7                    0.016938        11.805135   \n",
       "21586792          DE  B07TF6R7X8                    0.016270        11.764893   \n",
       "21586846          DE  B0953JXVQ2                    0.015588        11.722057   \n",
       "21586861          DE  B09BHY8MKG                    0.014962        11.681080   \n",
       "\n",
       "          normalized_sasrec_feat_scores  sasrec_feat_scores  \n",
       "21586793                       0.184962           14.379711  \n",
       "21586937                       0.103222           13.796440  \n",
       "21586840                       0.049990           13.071379  \n",
       "21586866                       0.070295           13.412264  \n",
       "21586762                       0.104813           13.811741  \n",
       "21586887                       0.055420           13.174492  \n",
       "21586821                       0.030776           12.586285  \n",
       "21586870                       0.031582           12.612159  \n",
       "21586934                       0.007515           11.176504  \n",
       "21586932                       0.019065           12.107419  \n",
       "21586824                       0.031233           12.601025  \n",
       "21586757                       0.030728           12.584743  \n",
       "21586792                       0.015545           11.903269  \n",
       "21586846                       0.013833           11.786585  \n",
       "21586861                       0.018286           12.065714  "
      ]
     },
     "execution_count": 46,
     "metadata": {},
     "output_type": "execute_result"
    }
   ],
   "source": [
    "merged_candidates[(merged_candidates['sess_id'] == 100005)].sort_values(by='normalized_sasrec_scores_2', ascending=False)[\n",
    "    ['sess_locale', 'product', 'normalized_sasrec_scores_2', 'sasrec_scores_2', 'normalized_sasrec_feat_scores', 'sasrec_feat_scores']\n",
    "][:15]"
   ]
  }
 ],
 "metadata": {
  "kernelspec": {
   "display_name": "torch12",
   "language": "python",
   "name": "python3"
  },
  "language_info": {
   "codemirror_mode": {
    "name": "ipython",
    "version": 3
   },
   "file_extension": ".py",
   "mimetype": "text/x-python",
   "name": "python",
   "nbconvert_exporter": "python",
   "pygments_lexer": "ipython3",
   "version": "3.9.16"
  }
 },
 "nbformat": 4,
 "nbformat_minor": 2
}
