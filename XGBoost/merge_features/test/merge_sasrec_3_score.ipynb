{
 "cells": [
  {
   "attachments": {},
   "cell_type": "markdown",
   "metadata": {},
   "source": [
    "use loc[i, field] instead of iloc[i, field], iloc is very slow."
   ]
  },
  {
   "cell_type": "code",
   "execution_count": 1,
   "metadata": {
    "execution": {
     "iopub.execute_input": "2023-05-24T09:05:02.045546Z",
     "iopub.status.busy": "2023-05-24T09:05:02.044721Z",
     "iopub.status.idle": "2023-05-24T09:05:04.631203Z",
     "shell.execute_reply": "2023-05-24T09:05:04.630281Z"
    }
   },
   "outputs": [
    {
     "name": "stderr",
     "output_type": "stream",
     "text": [
      "/root/autodl-tmp/xiaolong/anaconda3/envs/pytorch_gpu/lib/python3.9/site-packages/tqdm/auto.py:22: TqdmWarning: IProgress not found. Please update jupyter and ipywidgets. See https://ipywidgets.readthedocs.io/en/stable/user_install.html\n",
      "  from .autonotebook import tqdm as notebook_tqdm\n"
     ]
    }
   ],
   "source": [
    "import sys\n",
    "sys.path = ['/root/autodl-tmp/xiaolong/WorkSpace/Amazon-KDDCUP-23/RecStudio/'] + sys.path\n",
    "import os\n",
    "os.environ[\"CUDA_VISIBLE_DEVICES\"] = \"0\"\n",
    "import random\n",
    "import numpy as np\n",
    "import pandas as pd\n",
    "import cudf, itertools\n",
    "import scipy.sparse as ssp\n",
    "from functools import lru_cache, partial\n",
    "from tqdm import tqdm, trange\n",
    "from collections import Counter, defaultdict\n",
    "import torch\n",
    "import pickle"
   ]
  },
  {
   "cell_type": "code",
   "execution_count": 2,
   "metadata": {
    "execution": {
     "iopub.execute_input": "2023-05-24T09:05:04.693951Z",
     "iopub.status.busy": "2023-05-24T09:05:04.692442Z",
     "iopub.status.idle": "2023-05-24T09:05:04.707890Z",
     "shell.execute_reply": "2023-05-24T09:05:04.706759Z"
    }
   },
   "outputs": [],
   "source": [
    "def cast_dtype(df : pd.DataFrame):\n",
    "    for k in df.columns:\n",
    "        dt = type(df[k].iloc[0])\n",
    "        if 'float' in str(dt):\n",
    "            df[k] = df[k].astype('float32')\n",
    "        elif 'int' in str(dt):\n",
    "            df[k] = df[k].astype('int32')\n",
    "        elif dt == list:\n",
    "            dt_ = type(df.iloc[0][k][0])\n",
    "            if 'float' in str(dt_):\n",
    "                df[k] = df[k].apply(lambda x : np.array(x, dtype=np.float32))\n",
    "            elif 'int' in str(dt_):\n",
    "                df[k] = df[k].apply(lambda x : np.array(x, dtype=np.int32))"
   ]
  },
  {
   "cell_type": "code",
   "execution_count": 3,
   "metadata": {
    "execution": {
     "iopub.execute_input": "2023-05-24T09:05:04.712174Z",
     "iopub.status.busy": "2023-05-24T09:05:04.711523Z",
     "iopub.status.idle": "2023-05-24T09:05:04.717320Z",
     "shell.execute_reply": "2023-05-24T09:05:04.716309Z"
    }
   },
   "outputs": [],
   "source": [
    "def _load_cache(path):\n",
    "    with open(path, 'rb') as f:\n",
    "        download_obj = pickle.load(f)\n",
    "    return download_obj"
   ]
  },
  {
   "cell_type": "code",
   "execution_count": 4,
   "metadata": {
    "execution": {
     "iopub.execute_input": "2023-05-24T09:05:04.722444Z",
     "iopub.status.busy": "2023-05-24T09:05:04.721754Z",
     "iopub.status.idle": "2023-05-24T09:05:04.733744Z",
     "shell.execute_reply": "2023-05-24T09:05:04.732719Z"
    }
   },
   "outputs": [],
   "source": [
    "def get_scores(merged_candidates_df, query_embeddings, product_embeddings):\n",
    "    batch_size = 2048\n",
    "    num_iter = (len(merged_candidates_df) - 1) // batch_size + 1\n",
    "    score_list = []\n",
    "    with torch.no_grad():\n",
    "        for i in tqdm(range(num_iter)):\n",
    "            st, ed = i * batch_size, (i + 1) * batch_size \n",
    "            batch_sess = merged_candidates_df.iloc[st : ed]\n",
    "            batch_sess_id = torch.tensor(batch_sess['sess_id'].tolist(), dtype=torch.long, device=query_embeddings.device)\n",
    "            batch_product_id = torch.tensor(batch_sess['dataset_id'].tolist(), dtype=torch.long, device=product_embeddings.device)\n",
    "            query_emb = query_embeddings[batch_sess_id]\n",
    "            product_emb = product_embeddings[batch_product_id]\n",
    "            batch_score = (query_emb * product_emb).sum(dim=-1) \n",
    "            score_list.append(batch_score.cpu())\n",
    "        score_list = torch.cat(score_list, dim=0).cpu().tolist()\n",
    "        return score_list "
   ]
  },
  {
   "cell_type": "code",
   "execution_count": 5,
   "metadata": {
    "execution": {
     "iopub.execute_input": "2023-05-24T09:05:04.739843Z",
     "iopub.status.busy": "2023-05-24T09:05:04.739216Z",
     "iopub.status.idle": "2023-05-24T09:05:04.749986Z",
     "shell.execute_reply": "2023-05-24T09:05:04.749320Z"
    }
   },
   "outputs": [],
   "source": [
    "def normalize_scores(score_df, score_name, normalized_score_name):\n",
    "    # score_df_g = cudf.from_pandas(score_df)\n",
    "    score_df['exp_score'] = np.exp(score_df[score_name].to_numpy())\n",
    "    scores_sum = score_df[['sess_id', 'exp_score']].groupby('sess_id').sum()\n",
    "    scores_sum.reset_index(inplace=True)\n",
    "    scores_sum = scores_sum.sort_values(by=['sess_id'], ascending=True)\n",
    "    scores_sum.reset_index(drop=True, inplace=True)\n",
    "    scores_sum.rename(columns={'exp_score' : 'score_sum'}, inplace=True)\n",
    "\n",
    "    merged_score_df = score_df.merge(scores_sum, how='left', left_on=['sess_id'], right_on=['sess_id'])\n",
    "    merged_score_df = merged_score_df.sort_values(by=['sess_id', 'product'])\n",
    "    merged_score_df.reset_index(drop=True, inplace=True)\n",
    "    \n",
    "    # merged_score_df = merged_score_df_g.to_pandas(merged_score_df_g)\n",
    "    score_df[normalized_score_name] = merged_score_df['exp_score'] / merged_score_df['score_sum']\n",
    "    score_df['exp_score'] = merged_score_df['exp_score']\n",
    "    score_df['score_sum'] = merged_score_df['score_sum']\n",
    "\n",
    "    # del scores_sum_g\n",
    "    # del merged_score_df_g "
   ]
  },
  {
   "attachments": {},
   "cell_type": "markdown",
   "metadata": {},
   "source": [
    "# Merge test score"
   ]
  },
  {
   "cell_type": "code",
   "execution_count": 6,
   "metadata": {
    "execution": {
     "iopub.execute_input": "2023-05-24T09:05:04.757675Z",
     "iopub.status.busy": "2023-05-24T09:05:04.756884Z",
     "iopub.status.idle": "2023-05-24T09:05:04.762156Z",
     "shell.execute_reply": "2023-05-24T09:05:04.761088Z"
    }
   },
   "outputs": [],
   "source": [
    "FIELD_NAME = 'sasrec_scores_3'"
   ]
  },
  {
   "cell_type": "code",
   "execution_count": 7,
   "metadata": {
    "execution": {
     "iopub.execute_input": "2023-05-24T09:05:04.767978Z",
     "iopub.status.busy": "2023-05-24T09:05:04.767173Z",
     "iopub.status.idle": "2023-05-24T09:05:04.773035Z",
     "shell.execute_reply": "2023-05-24T09:05:04.771955Z"
    }
   },
   "outputs": [],
   "source": [
    "merged_candidates_feature_test_path = '/root/autodl-tmp/xiaolong/WorkSpace/Amazon-KDDCUP-23/XGBoost/candidates/merged_candidates_test_feature.parquet'\n",
    "test_sessions_path = '/root/autodl-tmp/xiaolong/WorkSpace/Amazon-KDDCUP-23/raw_data/sessions_test_task1.csv'"
   ]
  },
  {
   "cell_type": "code",
   "execution_count": 8,
   "metadata": {
    "execution": {
     "iopub.execute_input": "2023-05-24T09:05:04.778698Z",
     "iopub.status.busy": "2023-05-24T09:05:04.777764Z",
     "iopub.status.idle": "2023-05-24T09:05:04.785611Z",
     "shell.execute_reply": "2023-05-24T09:05:04.784528Z"
    }
   },
   "outputs": [],
   "source": [
    "DE_product_embeddings_path = '/root/autodl-tmp/xiaolong/WorkSpace/Amazon-KDDCUP-23/candidates/query_embeddings/SASRec_Next/kdd_cup_2023_DE/product_embeddings_2023-05-24-15-32-44.pt'\n",
    "DE_test_embeddings_path = '/root/autodl-tmp/xiaolong/WorkSpace/Amazon-KDDCUP-23/candidates/query_embeddings/SASRec_Next/kdd_cup_2023_DE/predict_embeddings_2023-05-24-15-33-24.pt'\n",
    "JP_product_embeddings_path = '/root/autodl-tmp/xiaolong/WorkSpace/Amazon-KDDCUP-23/candidates/query_embeddings/SASRec_Next/kdd_cup_2023_JP/product_embeddings_2023-05-24-15-33-38.pt'\n",
    "JP_test_embeddings_path = '/root/autodl-tmp/xiaolong/WorkSpace/Amazon-KDDCUP-23/candidates/query_embeddings/SASRec_Next/kdd_cup_2023_JP/predict_embeddings_2023-05-24-15-34-19.pt'\n",
    "UK_product_embeddings_path = '/root/autodl-tmp/xiaolong/WorkSpace/Amazon-KDDCUP-23/candidates/query_embeddings/SASRec_Next/kdd_cup_2023_UK/product_embeddings_2023-05-24-15-34-30.pt'\n",
    "UK_test_embeddings_path = '/root/autodl-tmp/xiaolong/WorkSpace/Amazon-KDDCUP-23/candidates/query_embeddings/SASRec_Next/kdd_cup_2023_UK/predict_embeddings_2023-05-24-15-35-08.pt'"
   ]
  },
  {
   "cell_type": "code",
   "execution_count": 9,
   "metadata": {
    "execution": {
     "iopub.execute_input": "2023-05-24T09:05:04.791788Z",
     "iopub.status.busy": "2023-05-24T09:05:04.791111Z",
     "iopub.status.idle": "2023-05-24T09:05:04.797960Z",
     "shell.execute_reply": "2023-05-24T09:05:04.796949Z"
    }
   },
   "outputs": [],
   "source": [
    "@lru_cache(maxsize=1)\n",
    "def read_merged_candidates_feature_test():\n",
    "    return pd.read_parquet(merged_candidates_feature_test_path, engine='pyarrow')\n",
    "\n",
    "@lru_cache(maxsize=1)\n",
    "def read_test_sessions():\n",
    "    return pd.read_csv(test_sessions_path)"
   ]
  },
  {
   "cell_type": "code",
   "execution_count": 10,
   "metadata": {
    "execution": {
     "iopub.execute_input": "2023-05-24T09:05:04.805254Z",
     "iopub.status.busy": "2023-05-24T09:05:04.804334Z",
     "iopub.status.idle": "2023-05-24T09:06:22.652643Z",
     "shell.execute_reply": "2023-05-24T09:06:22.651465Z"
    }
   },
   "outputs": [],
   "source": [
    "merged_candidates = read_merged_candidates_feature_test()\n",
    "test_sessions = read_test_sessions()\n",
    "EMBED_DIM = 128\n",
    "merged_candidates.sort_values(by=['sess_id', 'product'], inplace=True)\n",
    "merged_candidates.reset_index(drop=True, inplace=True)"
   ]
  },
  {
   "cell_type": "code",
   "execution_count": 11,
   "metadata": {
    "execution": {
     "iopub.execute_input": "2023-05-24T09:06:22.659944Z",
     "iopub.status.busy": "2023-05-24T09:06:22.659506Z",
     "iopub.status.idle": "2023-05-24T09:06:27.012360Z",
     "shell.execute_reply": "2023-05-24T09:06:27.011610Z"
    }
   },
   "outputs": [],
   "source": [
    "# sess embeddings \n",
    "test_DE_query_emb = torch.load(DE_test_embeddings_path, map_location='cpu')\n",
    "test_JP_query_emb = torch.load(JP_test_embeddings_path, map_location='cpu')\n",
    "test_UK_query_emb = torch.load(UK_test_embeddings_path, map_location='cpu')\n",
    "test_query_embeddings = torch.cat(\n",
    "    [test_DE_query_emb[test_sessions['locale'] == 'DE'], test_JP_query_emb[test_sessions['locale'] == 'JP'], test_UK_query_emb[test_sessions['locale'] == 'UK']],\n",
    "    dim=0)"
   ]
  },
  {
   "cell_type": "code",
   "execution_count": 12,
   "metadata": {
    "execution": {
     "iopub.execute_input": "2023-05-24T09:06:27.017290Z",
     "iopub.status.busy": "2023-05-24T09:06:27.016889Z",
     "iopub.status.idle": "2023-05-24T09:06:27.025638Z",
     "shell.execute_reply": "2023-05-24T09:06:27.025063Z"
    }
   },
   "outputs": [
    {
     "data": {
      "text/plain": [
       "torch.Size([316972, 128])"
      ]
     },
     "execution_count": 12,
     "metadata": {},
     "output_type": "execute_result"
    }
   ],
   "source": [
    "test_query_embeddings.shape"
   ]
  },
  {
   "cell_type": "code",
   "execution_count": 13,
   "metadata": {
    "execution": {
     "iopub.execute_input": "2023-05-24T09:06:27.029013Z",
     "iopub.status.busy": "2023-05-24T09:06:27.028756Z",
     "iopub.status.idle": "2023-05-24T09:06:27.630999Z",
     "shell.execute_reply": "2023-05-24T09:06:27.630251Z"
    }
   },
   "outputs": [],
   "source": [
    "# product embeddings \n",
    "DE_product_emb = torch.load(DE_product_embeddings_path, map_location='cpu')\n",
    "JP_product_emb = torch.load(JP_product_embeddings_path, map_location='cpu')\n",
    "UK_product_emb = torch.load(UK_product_embeddings_path, map_location='cpu')\n",
    "product_embeddings = torch.cat([DE_product_emb, JP_product_emb, UK_product_emb], dim=0)"
   ]
  },
  {
   "cell_type": "code",
   "execution_count": 14,
   "metadata": {
    "execution": {
     "iopub.execute_input": "2023-05-24T09:06:27.638334Z",
     "iopub.status.busy": "2023-05-24T09:06:27.637927Z",
     "iopub.status.idle": "2023-05-24T09:06:43.157904Z",
     "shell.execute_reply": "2023-05-24T09:06:43.156734Z"
    }
   },
   "outputs": [],
   "source": [
    "DE_dataset_cache = '/root/autodl-tmp/xiaolong/WorkSpace/Amazon-KDDCUP-23/.recstudio/cache/c76eddf0a07106ffcce7ce8010856a3b'\n",
    "JP_dataset_cache = '/root/autodl-tmp/xiaolong/WorkSpace/Amazon-KDDCUP-23/.recstudio/cache/81a71d0a18766af84b3beab69bf53e69'\n",
    "UK_dataset_cache = '/root/autodl-tmp/xiaolong/WorkSpace/Amazon-KDDCUP-23/.recstudio/cache/250dbc09c30162452e00486051e47756'\n",
    "DE_train_dataset, DE_valid_dataset = _load_cache(DE_dataset_cache)\n",
    "JP_train_dataset, JP_valid_dataset = _load_cache(JP_dataset_cache)\n",
    "UK_train_dataset, UK_valid_dataset = _load_cache(UK_dataset_cache)\n",
    "locale_map = {\n",
    "    'DE' : DE_train_dataset.field2token2idx['product_id'], \n",
    "    'JP' : JP_train_dataset.field2token2idx['product_id'], \n",
    "    'UK' : UK_train_dataset.field2token2idx['product_id']\n",
    "    }"
   ]
  },
  {
   "cell_type": "code",
   "execution_count": 15,
   "metadata": {
    "execution": {
     "iopub.execute_input": "2023-05-24T09:06:43.165923Z",
     "iopub.status.busy": "2023-05-24T09:06:43.165083Z",
     "iopub.status.idle": "2023-05-24T09:06:46.110600Z",
     "shell.execute_reply": "2023-05-24T09:06:46.109565Z"
    }
   },
   "outputs": [],
   "source": [
    "DE_product_list, DE_id_list = list(zip(*locale_map['DE'].items()))\n",
    "JP_product_list, JP_id_list = list(zip(*locale_map['JP'].items()))\n",
    "UK_product_list, UK_id_list = list(zip(*locale_map['UK'].items()))\n",
    "product_list = list(DE_product_list) + list(JP_product_list) + list(UK_product_list)\n",
    "id_list = list(DE_id_list) + list(JP_id_list) + list(UK_id_list)\n",
    "locale_list = ['DE'] * len(DE_id_list) + ['JP'] * len(JP_id_list) + ['UK'] * len(UK_id_list)\n",
    "product_id_df = pd.DataFrame({'locale' : locale_list, 'product' : product_list, 'dataset_id' : id_list})"
   ]
  },
  {
   "cell_type": "code",
   "execution_count": 16,
   "metadata": {
    "execution": {
     "iopub.execute_input": "2023-05-24T09:06:46.117752Z",
     "iopub.status.busy": "2023-05-24T09:06:46.117442Z",
     "iopub.status.idle": "2023-05-24T09:06:52.713724Z",
     "shell.execute_reply": "2023-05-24T09:06:52.712414Z"
    }
   },
   "outputs": [],
   "source": [
    "merged_candidates_sasrec = merged_candidates[['sess_id', 'sess_locale', 'product']].copy()"
   ]
  },
  {
   "cell_type": "code",
   "execution_count": 17,
   "metadata": {
    "execution": {
     "iopub.execute_input": "2023-05-24T09:06:52.721363Z",
     "iopub.status.busy": "2023-05-24T09:06:52.720873Z",
     "iopub.status.idle": "2023-05-24T09:06:52.726011Z",
     "shell.execute_reply": "2023-05-24T09:06:52.725126Z"
    }
   },
   "outputs": [],
   "source": [
    "# merged_candidates_sasrec_g = cudf.from_pandas(merged_candidates_sasrec)\n",
    "# product_id_df_g = cudf.from_pandas(product_id_df)"
   ]
  },
  {
   "cell_type": "code",
   "execution_count": 18,
   "metadata": {
    "execution": {
     "iopub.execute_input": "2023-05-24T09:06:52.732796Z",
     "iopub.status.busy": "2023-05-24T09:06:52.732311Z",
     "iopub.status.idle": "2023-05-24T09:06:52.737204Z",
     "shell.execute_reply": "2023-05-24T09:06:52.736317Z"
    }
   },
   "outputs": [],
   "source": [
    "# merged_candidates_sasrec_score_g = merged_candidates_sasrec_g.merge(product_id_df_g, how='left', left_on=['sess_locale', 'product'], right_on=['locale', 'product'])\n",
    "# merged_candidates_sasrec_score_g['dataset_id'] = merged_candidates_sasrec_score_g['dataset_id'].fillna(0)\n",
    "# merged_candidates_sasrec_score_g.drop(columns=['locale'], inplace=True)\n",
    "# merged_candidates_sasrec_score_g = merged_candidates_sasrec_score_g.sort_values(by=['sess_id', 'product'])\n",
    "# merged_candidates_sasrec_score_g.reset_index(drop=True, inplace=True)\n",
    "# merged_candidates_sasrec_score = merged_candidates_sasrec_score_g.to_pandas()"
   ]
  },
  {
   "cell_type": "code",
   "execution_count": 19,
   "metadata": {
    "execution": {
     "iopub.execute_input": "2023-05-24T09:06:52.743930Z",
     "iopub.status.busy": "2023-05-24T09:06:52.743139Z",
     "iopub.status.idle": "2023-05-24T09:08:36.431939Z",
     "shell.execute_reply": "2023-05-24T09:08:36.430745Z"
    }
   },
   "outputs": [],
   "source": [
    "merged_candidates_sasrec_score = merged_candidates_sasrec.merge(product_id_df, how='left', left_on=['sess_locale', 'product'], right_on=['locale', 'product'])\n",
    "merged_candidates_sasrec_score['dataset_id'] = merged_candidates_sasrec_score['dataset_id'].fillna(0)\n",
    "merged_candidates_sasrec_score.drop(columns=['locale'], inplace=True)\n",
    "merged_candidates_sasrec_score = merged_candidates_sasrec_score.sort_values(by=['sess_id', 'product'])\n",
    "merged_candidates_sasrec_score.reset_index(drop=True, inplace=True)"
   ]
  },
  {
   "cell_type": "code",
   "execution_count": 20,
   "metadata": {
    "execution": {
     "iopub.execute_input": "2023-05-24T09:08:36.439405Z",
     "iopub.status.busy": "2023-05-24T09:08:36.438977Z",
     "iopub.status.idle": "2023-05-24T09:08:36.443998Z",
     "shell.execute_reply": "2023-05-24T09:08:36.442655Z"
    }
   },
   "outputs": [],
   "source": [
    "# del merged_candidates_sasrec_score_g\n",
    "# del product_id_df_g\n",
    "# del merged_candidates_sasrec_g"
   ]
  },
  {
   "cell_type": "code",
   "execution_count": 21,
   "metadata": {
    "execution": {
     "iopub.execute_input": "2023-05-24T09:08:36.451470Z",
     "iopub.status.busy": "2023-05-24T09:08:36.450390Z",
     "iopub.status.idle": "2023-05-24T09:09:14.857562Z",
     "shell.execute_reply": "2023-05-24T09:09:14.856396Z"
    }
   },
   "outputs": [
    {
     "name": "stderr",
     "output_type": "stream",
     "text": [
      "/tmp/ipykernel_701487/2146751149.py:3: SettingWithCopyWarning: \n",
      "A value is trying to be set on a copy of a slice from a DataFrame\n",
      "\n",
      "See the caveats in the documentation: https://pandas.pydata.org/pandas-docs/stable/user_guide/indexing.html#returning-a-view-versus-a-copy\n",
      "  merged_candidates_sasrec_score['dataset_id'][merged_candidates_sasrec_score['sess_locale'] == locale] = \\\n"
     ]
    }
   ],
   "source": [
    "locale_offset = {'DE' : 0, 'JP' : len(DE_product_list), 'UK' : len(DE_product_list) + len(JP_product_list)}\n",
    "for locale in ['DE', 'JP', 'UK']:\n",
    "    merged_candidates_sasrec_score['dataset_id'][merged_candidates_sasrec_score['sess_locale'] == locale] = \\\n",
    "        merged_candidates_sasrec_score['dataset_id'][merged_candidates_sasrec_score['sess_locale'] == locale] + locale_offset[locale]"
   ]
  },
  {
   "cell_type": "code",
   "execution_count": 22,
   "metadata": {
    "execution": {
     "iopub.execute_input": "2023-05-24T09:09:14.864853Z",
     "iopub.status.busy": "2023-05-24T09:09:14.864434Z",
     "iopub.status.idle": "2023-05-24T09:10:42.776654Z",
     "shell.execute_reply": "2023-05-24T09:10:42.775586Z"
    }
   },
   "outputs": [
    {
     "name": "stderr",
     "output_type": "stream",
     "text": [
      "  0%|                                                                                      | 0/32208 [00:00<?, ?it/s]/tmp/ipykernel_701487/150055658.py:10: DeprecationWarning: an integer is required (got type float).  Implicit conversion to integers using __int__ is deprecated, and may be removed in a future version of Python.\n",
      "  batch_product_id = torch.tensor(batch_sess['dataset_id'].tolist(), dtype=torch.long, device=product_embeddings.device)\n",
      "100%|█████████████████████████████████████████████████████████████████████████| 32208/32208 [01:15<00:00, 426.27it/s]\n"
     ]
    }
   ],
   "source": [
    "merged_candidates_sasrec_score[FIELD_NAME] = get_scores(merged_candidates_sasrec_score, test_query_embeddings, product_embeddings)"
   ]
  },
  {
   "cell_type": "code",
   "execution_count": 23,
   "metadata": {
    "execution": {
     "iopub.execute_input": "2023-05-24T09:10:42.786877Z",
     "iopub.status.busy": "2023-05-24T09:10:42.786451Z",
     "iopub.status.idle": "2023-05-24T09:12:06.410708Z",
     "shell.execute_reply": "2023-05-24T09:12:06.409514Z"
    }
   },
   "outputs": [],
   "source": [
    "normalize_scores(merged_candidates_sasrec_score, FIELD_NAME, 'normalized_'+FIELD_NAME)"
   ]
  },
  {
   "cell_type": "code",
   "execution_count": 24,
   "metadata": {
    "execution": {
     "iopub.execute_input": "2023-05-24T09:12:06.421957Z",
     "iopub.status.busy": "2023-05-24T09:12:06.421505Z",
     "iopub.status.idle": "2023-05-24T09:12:07.177943Z",
     "shell.execute_reply": "2023-05-24T09:12:07.177134Z"
    }
   },
   "outputs": [],
   "source": [
    "merged_candidates[FIELD_NAME] = merged_candidates_sasrec_score[FIELD_NAME]\n",
    "merged_candidates['normalized_'+FIELD_NAME] = merged_candidates_sasrec_score['normalized_'+FIELD_NAME]"
   ]
  },
  {
   "cell_type": "code",
   "execution_count": 25,
   "metadata": {
    "execution": {
     "iopub.execute_input": "2023-05-24T09:12:07.184631Z",
     "iopub.status.busy": "2023-05-24T09:12:07.184261Z",
     "iopub.status.idle": "2023-05-24T09:12:44.504925Z",
     "shell.execute_reply": "2023-05-24T09:12:44.503695Z"
    }
   },
   "outputs": [],
   "source": [
    "cast_dtype(merged_candidates)\n",
    "merged_candidates.to_parquet(merged_candidates_feature_test_path, engine='pyarrow')"
   ]
  },
  {
   "cell_type": "code",
   "execution_count": 26,
   "metadata": {
    "execution": {
     "iopub.execute_input": "2023-05-24T09:12:44.509438Z",
     "iopub.status.busy": "2023-05-24T09:12:44.509093Z",
     "iopub.status.idle": "2023-05-24T09:12:49.774983Z",
     "shell.execute_reply": "2023-05-24T09:12:49.774232Z"
    }
   },
   "outputs": [
    {
     "data": {
      "text/html": [
       "<div>\n",
       "<style scoped>\n",
       "    .dataframe tbody tr th:only-of-type {\n",
       "        vertical-align: middle;\n",
       "    }\n",
       "\n",
       "    .dataframe tbody tr th {\n",
       "        vertical-align: top;\n",
       "    }\n",
       "\n",
       "    .dataframe thead th {\n",
       "        text-align: right;\n",
       "    }\n",
       "</style>\n",
       "<table border=\"1\" class=\"dataframe\">\n",
       "  <thead>\n",
       "    <tr style=\"text-align: right;\">\n",
       "      <th></th>\n",
       "      <th>sess_locale</th>\n",
       "      <th>product</th>\n",
       "      <th>normalized_sasrec_scores_3</th>\n",
       "      <th>sasrec_scores_3</th>\n",
       "      <th>normalized_sasrec_scores_2</th>\n",
       "      <th>sasrec_scores_2</th>\n",
       "    </tr>\n",
       "  </thead>\n",
       "  <tbody>\n",
       "    <tr>\n",
       "      <th>26693675</th>\n",
       "      <td>JP</td>\n",
       "      <td>B00KA2NXV6</td>\n",
       "      <td>0.983671</td>\n",
       "      <td>24.475502</td>\n",
       "      <td>0.983495</td>\n",
       "      <td>24.171791</td>\n",
       "    </tr>\n",
       "    <tr>\n",
       "      <th>26693671</th>\n",
       "      <td>JP</td>\n",
       "      <td>B00KA2NUZK</td>\n",
       "      <td>0.008116</td>\n",
       "      <td>19.678032</td>\n",
       "      <td>0.007759</td>\n",
       "      <td>19.329535</td>\n",
       "    </tr>\n",
       "    <tr>\n",
       "      <th>26693672</th>\n",
       "      <td>JP</td>\n",
       "      <td>B00KA2NV18</td>\n",
       "      <td>0.002471</td>\n",
       "      <td>18.488832</td>\n",
       "      <td>0.002669</td>\n",
       "      <td>18.262215</td>\n",
       "    </tr>\n",
       "    <tr>\n",
       "      <th>26693676</th>\n",
       "      <td>JP</td>\n",
       "      <td>B00KA2NXVQ</td>\n",
       "      <td>0.001992</td>\n",
       "      <td>18.273121</td>\n",
       "      <td>0.002591</td>\n",
       "      <td>18.232815</td>\n",
       "    </tr>\n",
       "    <tr>\n",
       "      <th>26693677</th>\n",
       "      <td>JP</td>\n",
       "      <td>B00KA2NXWU</td>\n",
       "      <td>0.001281</td>\n",
       "      <td>17.832211</td>\n",
       "      <td>0.001283</td>\n",
       "      <td>17.530056</td>\n",
       "    </tr>\n",
       "    <tr>\n",
       "      <th>26693673</th>\n",
       "      <td>JP</td>\n",
       "      <td>B00KA2NV6I</td>\n",
       "      <td>0.000563</td>\n",
       "      <td>17.008858</td>\n",
       "      <td>0.000237</td>\n",
       "      <td>15.841306</td>\n",
       "    </tr>\n",
       "    <tr>\n",
       "      <th>26693849</th>\n",
       "      <td>JP</td>\n",
       "      <td>B0B932V21F</td>\n",
       "      <td>0.000412</td>\n",
       "      <td>16.697046</td>\n",
       "      <td>0.000453</td>\n",
       "      <td>16.488270</td>\n",
       "    </tr>\n",
       "    <tr>\n",
       "      <th>26693674</th>\n",
       "      <td>JP</td>\n",
       "      <td>B00KA2NV6S</td>\n",
       "      <td>0.000391</td>\n",
       "      <td>16.644346</td>\n",
       "      <td>0.000378</td>\n",
       "      <td>16.307117</td>\n",
       "    </tr>\n",
       "    <tr>\n",
       "      <th>26693710</th>\n",
       "      <td>JP</td>\n",
       "      <td>B01A9QHVWO</td>\n",
       "      <td>0.000180</td>\n",
       "      <td>15.867036</td>\n",
       "      <td>0.000117</td>\n",
       "      <td>15.136932</td>\n",
       "    </tr>\n",
       "    <tr>\n",
       "      <th>26693716</th>\n",
       "      <td>JP</td>\n",
       "      <td>B01A9QI21S</td>\n",
       "      <td>0.000124</td>\n",
       "      <td>15.494935</td>\n",
       "      <td>0.000119</td>\n",
       "      <td>15.156189</td>\n",
       "    </tr>\n",
       "    <tr>\n",
       "      <th>26693857</th>\n",
       "      <td>JP</td>\n",
       "      <td>B0B9348S62</td>\n",
       "      <td>0.000101</td>\n",
       "      <td>15.287796</td>\n",
       "      <td>0.000069</td>\n",
       "      <td>14.604463</td>\n",
       "    </tr>\n",
       "    <tr>\n",
       "      <th>26693712</th>\n",
       "      <td>JP</td>\n",
       "      <td>B01A9QHX54</td>\n",
       "      <td>0.000074</td>\n",
       "      <td>14.983061</td>\n",
       "      <td>0.000187</td>\n",
       "      <td>15.606630</td>\n",
       "    </tr>\n",
       "    <tr>\n",
       "      <th>26693744</th>\n",
       "      <td>JP</td>\n",
       "      <td>B072NDV6F8</td>\n",
       "      <td>0.000059</td>\n",
       "      <td>14.748627</td>\n",
       "      <td>0.000040</td>\n",
       "      <td>14.053963</td>\n",
       "    </tr>\n",
       "    <tr>\n",
       "      <th>26693667</th>\n",
       "      <td>JP</td>\n",
       "      <td>B00KA2NPI2</td>\n",
       "      <td>0.000033</td>\n",
       "      <td>14.183395</td>\n",
       "      <td>0.000025</td>\n",
       "      <td>13.573065</td>\n",
       "    </tr>\n",
       "    <tr>\n",
       "      <th>26693855</th>\n",
       "      <td>JP</td>\n",
       "      <td>B0B933ZRFX</td>\n",
       "      <td>0.000031</td>\n",
       "      <td>14.096439</td>\n",
       "      <td>0.000026</td>\n",
       "      <td>13.614964</td>\n",
       "    </tr>\n",
       "    <tr>\n",
       "      <th>26693687</th>\n",
       "      <td>JP</td>\n",
       "      <td>B00VRJHHDG</td>\n",
       "      <td>0.000027</td>\n",
       "      <td>13.987770</td>\n",
       "      <td>0.000008</td>\n",
       "      <td>12.510831</td>\n",
       "    </tr>\n",
       "    <tr>\n",
       "      <th>26693737</th>\n",
       "      <td>JP</td>\n",
       "      <td>B071GZJCTL</td>\n",
       "      <td>0.000025</td>\n",
       "      <td>13.884899</td>\n",
       "      <td>0.000037</td>\n",
       "      <td>13.981011</td>\n",
       "    </tr>\n",
       "    <tr>\n",
       "      <th>26693845</th>\n",
       "      <td>JP</td>\n",
       "      <td>B0B92YBV69</td>\n",
       "      <td>0.000025</td>\n",
       "      <td>13.882222</td>\n",
       "      <td>0.000030</td>\n",
       "      <td>13.786446</td>\n",
       "    </tr>\n",
       "    <tr>\n",
       "      <th>26693698</th>\n",
       "      <td>JP</td>\n",
       "      <td>B016PL75NC</td>\n",
       "      <td>0.000023</td>\n",
       "      <td>13.801836</td>\n",
       "      <td>0.000020</td>\n",
       "      <td>13.349774</td>\n",
       "    </tr>\n",
       "    <tr>\n",
       "      <th>26693732</th>\n",
       "      <td>JP</td>\n",
       "      <td>B01NCX3OMN</td>\n",
       "      <td>0.000017</td>\n",
       "      <td>13.519939</td>\n",
       "      <td>0.000005</td>\n",
       "      <td>11.887423</td>\n",
       "    </tr>\n",
       "  </tbody>\n",
       "</table>\n",
       "</div>"
      ],
      "text/plain": [
       "         sess_locale     product  normalized_sasrec_scores_3  sasrec_scores_3  \\\n",
       "26693675          JP  B00KA2NXV6                    0.983671        24.475502   \n",
       "26693671          JP  B00KA2NUZK                    0.008116        19.678032   \n",
       "26693672          JP  B00KA2NV18                    0.002471        18.488832   \n",
       "26693676          JP  B00KA2NXVQ                    0.001992        18.273121   \n",
       "26693677          JP  B00KA2NXWU                    0.001281        17.832211   \n",
       "26693673          JP  B00KA2NV6I                    0.000563        17.008858   \n",
       "26693849          JP  B0B932V21F                    0.000412        16.697046   \n",
       "26693674          JP  B00KA2NV6S                    0.000391        16.644346   \n",
       "26693710          JP  B01A9QHVWO                    0.000180        15.867036   \n",
       "26693716          JP  B01A9QI21S                    0.000124        15.494935   \n",
       "26693857          JP  B0B9348S62                    0.000101        15.287796   \n",
       "26693712          JP  B01A9QHX54                    0.000074        14.983061   \n",
       "26693744          JP  B072NDV6F8                    0.000059        14.748627   \n",
       "26693667          JP  B00KA2NPI2                    0.000033        14.183395   \n",
       "26693855          JP  B0B933ZRFX                    0.000031        14.096439   \n",
       "26693687          JP  B00VRJHHDG                    0.000027        13.987770   \n",
       "26693737          JP  B071GZJCTL                    0.000025        13.884899   \n",
       "26693845          JP  B0B92YBV69                    0.000025        13.882222   \n",
       "26693698          JP  B016PL75NC                    0.000023        13.801836   \n",
       "26693732          JP  B01NCX3OMN                    0.000017        13.519939   \n",
       "\n",
       "          normalized_sasrec_scores_2  sasrec_scores_2  \n",
       "26693675                    0.983495        24.171791  \n",
       "26693671                    0.007759        19.329535  \n",
       "26693672                    0.002669        18.262215  \n",
       "26693676                    0.002591        18.232815  \n",
       "26693677                    0.001283        17.530056  \n",
       "26693673                    0.000237        15.841306  \n",
       "26693849                    0.000453        16.488270  \n",
       "26693674                    0.000378        16.307117  \n",
       "26693710                    0.000117        15.136932  \n",
       "26693716                    0.000119        15.156189  \n",
       "26693857                    0.000069        14.604463  \n",
       "26693712                    0.000187        15.606630  \n",
       "26693744                    0.000040        14.053963  \n",
       "26693667                    0.000025        13.573065  \n",
       "26693855                    0.000026        13.614964  \n",
       "26693687                    0.000008        12.510831  \n",
       "26693737                    0.000037        13.981011  \n",
       "26693845                    0.000030        13.786446  \n",
       "26693698                    0.000020        13.349774  \n",
       "26693732                    0.000005        11.887423  "
      ]
     },
     "execution_count": 26,
     "metadata": {},
     "output_type": "execute_result"
    }
   ],
   "source": [
    "merged_candidates[(merged_candidates['sess_id'] == 130000)].sort_values(by='normalized_sasrec_scores_3', ascending=False)[['sess_locale', 'product', 'normalized_sasrec_scores_3', 'sasrec_scores_3', 'normalized_sasrec_scores_2', 'sasrec_scores_2']][:20]"
   ]
  }
 ],
 "metadata": {
  "kernelspec": {
   "display_name": "torch12",
   "language": "python",
   "name": "python3"
  },
  "language_info": {
   "codemirror_mode": {
    "name": "ipython",
    "version": 3
   },
   "file_extension": ".py",
   "mimetype": "text/x-python",
   "name": "python",
   "nbconvert_exporter": "python",
   "pygments_lexer": "ipython3",
   "version": "3.9.15"
  }
 },
 "nbformat": 4,
 "nbformat_minor": 2
}
