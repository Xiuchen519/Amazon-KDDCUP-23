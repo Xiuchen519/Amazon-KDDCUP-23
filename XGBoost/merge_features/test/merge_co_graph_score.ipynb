{
 "cells": [
  {
   "attachments": {},
   "cell_type": "markdown",
   "metadata": {},
   "source": [
    "# Necessary Common Functions\n",
    "\n",
    "Those functions should be ran before each part."
   ]
  },
  {
   "cell_type": "code",
   "execution_count": 1,
   "metadata": {},
   "outputs": [],
   "source": [
    "import os\n",
    "import random\n",
    "import numpy as np\n",
    "import pandas as pd\n",
    "import cudf, itertools\n",
    "import scipy.sparse as ssp\n",
    "from functools import lru_cache\n",
    "from tqdm import tqdm, trange\n",
    "from collections import Counter, defaultdict"
   ]
  },
  {
   "cell_type": "code",
   "execution_count": 2,
   "metadata": {},
   "outputs": [],
   "source": [
    "def get_sessions(df: pd.DataFrame, test=False, list_item=False) -> list:\n",
    "    \n",
    "    all_item = []\n",
    "    if 'next_item' in df and not test:\n",
    "        if list_item:\n",
    "            for i in trange(len(df)):\n",
    "                all_item.append(np.concatenate([np.array(df.loc[i, 'prev_items']), np.array(df.loc[i, 'next_item'])], axis=0))\n",
    "        else:\n",
    "            for i in trange(len(df)):\n",
    "                all_item.append(eval((df.loc[i, 'prev_items'][:-1]+f\" '{df.loc[i, 'next_item']}']\").replace(\" \", \",\")))\n",
    "    else:\n",
    "        if list_item:\n",
    "            all_item = df['prev_items']\n",
    "        else:\n",
    "            for i in trange(len(df)):\n",
    "                all_item.append(eval((df.loc[i, 'prev_items']).replace(\" \", \",\")))\n",
    "    return all_item"
   ]
  },
  {
   "cell_type": "code",
   "execution_count": 3,
   "metadata": {},
   "outputs": [],
   "source": [
    "def get_co_occurence_dict(sessions: list, bidirection: bool=True, weighted: bool=False, max_dis=None) -> dict:\n",
    "    res = {}\n",
    "    for sess in tqdm(sessions):\n",
    "        for i, id in enumerate(sess):\n",
    "            if id not in res:\n",
    "                res[id] = Counter()\n",
    "            \n",
    "            if max_dis == None:\n",
    "                e = len(sess)\n",
    "            else:\n",
    "                e = min(i + max_dis + 1, len(sess))\n",
    "\n",
    "            for j in range(i+1, e):\n",
    "                if not weighted:\n",
    "                    res[id][sess[j]] += 1\n",
    "                else:\n",
    "                    res[id][sess[j]] += 1 / (j-i)\n",
    "                if bidirection:\n",
    "                    if sess[j] not in res:\n",
    "                        res[sess[j]] = Counter()\n",
    "                    if not weighted:\n",
    "                        res[sess[j]][id] += 1\n",
    "                    else:\n",
    "                        res[sess[j]][id] += 1 / (j-i)\n",
    "    return res"
   ]
  },
  {
   "cell_type": "code",
   "execution_count": 4,
   "metadata": {},
   "outputs": [],
   "source": [
    "def sort_co_occurence_dict(co_occurence_dict: dict) -> dict:\n",
    "    res = {}\n",
    "    for k,v in co_occurence_dict.items():\n",
    "        res[k] = dict(sorted(v.items(), key=lambda item: -item[1]))\n",
    "    return res"
   ]
  },
  {
   "cell_type": "code",
   "execution_count": 26,
   "metadata": {},
   "outputs": [],
   "source": [
    "def cast_dtype(df : pd.DataFrame, columns=None):\n",
    "    if columns is None:\n",
    "        columns = df.columns\n",
    "    for k in columns:\n",
    "        dt = type(df[k].iloc[0])\n",
    "        if 'float' in str(dt):\n",
    "            df[k] = df[k].astype('float32')\n",
    "        elif 'int' in str(dt):\n",
    "            df[k] = df[k].astype('int32')\n",
    "        elif dt == list:\n",
    "            dt_ = type(df.iloc[0][k][0])\n",
    "            if 'float' in str(dt_):\n",
    "                df[k] = df[k].apply(lambda x : np.array(x, dtype=np.float32))\n",
    "            elif 'int' in str(dt_):\n",
    "                df[k] = df[k].apply(lambda x : np.array(x, dtype=np.int32))"
   ]
  },
  {
   "cell_type": "code",
   "execution_count": 6,
   "metadata": {},
   "outputs": [],
   "source": [
    "def get_session_last_item(session_df):\n",
    "    last_items = []\n",
    "    num_sessions = len(session_df)\n",
    "    for i in tqdm(range(num_sessions)):\n",
    "        sess = session_df.iloc[i]\n",
    "        sess_prev_items = sess['prev_items']\n",
    "        \n",
    "        product_list = sess_prev_items.strip('[]').split(' ')\n",
    "        last_item = product_list[-1].strip(\"'\\n\")\n",
    "\n",
    "        last_items.append(last_item)\n",
    "    return last_items "
   ]
  },
  {
   "cell_type": "code",
   "execution_count": 7,
   "metadata": {},
   "outputs": [],
   "source": [
    "def get_co_graph_counts(session_last_items, merged_candidates_df, co_graph_dict):\n",
    "    co_graph_count_list = []\n",
    "    for idx, row in tqdm(merged_candidates_df.iterrows(), total=merged_candidates_df.shape[0]):\n",
    "        sess_id = row['sess_id']\n",
    "        product = row['product']\n",
    "        last_item = session_last_items[sess_id]\n",
    "        co_graph_count = co_graph_dict[last_item][product]\n",
    "        co_graph_count_list.append(co_graph_count)\n",
    "    return co_graph_count_list"
   ]
  },
  {
   "cell_type": "code",
   "execution_count": 8,
   "metadata": {},
   "outputs": [],
   "source": [
    "def flatten_co_graph_dict(co_graph_dict):\n",
    "    product_list = []\n",
    "    neighbor_list = []\n",
    "    counts_list = []\n",
    "    for product in tqdm(co_graph_dict.keys(), total=len(co_graph_dict)):\n",
    "        for neigh in co_graph_dict[product].keys():\n",
    "            product_list.append(product)\n",
    "            neighbor_list.append(neigh)\n",
    "            counts_list.append(co_graph_dict[product][neigh])\n",
    "    return pd.DataFrame({'product_' : product_list, 'neighbor' : neighbor_list, 'counts' : counts_list})"
   ]
  },
  {
   "cell_type": "code",
   "execution_count": 9,
   "metadata": {},
   "outputs": [],
   "source": [
    "def normalize_co_graph_counts(merged_candidates_counts):\n",
    "    # normalize co graph counts \n",
    "    # merged_candidates_counts_g = cudf.from_pandas(merged_candidates_counts)\n",
    "    sessions_count_sum = merged_candidates_counts[['sess_id', 'counts']].groupby('sess_id').sum()\n",
    "    sessions_count_sum.sort_index(inplace=True)\n",
    "\n",
    "    # sessions_count_sum = sessions_count_sum.to_pandas()\n",
    "\n",
    "    candidates_count_sum = sessions_count_sum.loc[merged_candidates_counts['sess_id']].reset_index(drop=True)\n",
    "    merged_candidates_counts['counts_sum'] = candidates_count_sum['counts']\n",
    "    merged_candidates_counts['normalized_counts'] = merged_candidates_counts['counts'] / merged_candidates_counts['counts_sum']\n",
    "\n",
    "    # del merged_candidates_counts_g\n",
    "    # del sessions_count_sum_g\n",
    "    "
   ]
  },
  {
   "attachments": {},
   "cell_type": "markdown",
   "metadata": {},
   "source": [
    "# Merge Test co-graph counts "
   ]
  },
  {
   "cell_type": "code",
   "execution_count": 10,
   "metadata": {},
   "outputs": [],
   "source": [
    "merged_candidates_feature_test_path = '/root/autodl-tmp/xiaolong/WorkSpace/Amazon-KDDCUP-23/XGBoost/candidates/merged_candidates_test_feature.parquet'\n",
    "train_sessions_path = '/root/autodl-tmp/xiaolong/WorkSpace/Amazon-KDDCUP-23/data_for_recstudio/task1_data/task13_4_task1_train_sessions.csv'\n",
    "valid_sessions_path = '/root/autodl-tmp/xiaolong/WorkSpace/Amazon-KDDCUP-23/data_for_recstudio/task1_data/task13_4_task1_valid_sessions.csv'\n",
    "test_sessions_path = '/root/autodl-tmp/xiaolong/WorkSpace/Amazon-KDDCUP-23/raw_data/sessions_test_task1.csv'\n",
    "product_data_path = '/root/autodl-tmp/xiaolong/WorkSpace/Amazon-KDDCUP-23/raw_data/products_train.csv'"
   ]
  },
  {
   "cell_type": "code",
   "execution_count": 11,
   "metadata": {},
   "outputs": [],
   "source": [
    "@lru_cache(maxsize=1)\n",
    "def read_merged_candidates_feature_test():\n",
    "    return pd.read_parquet(merged_candidates_feature_test_path)\n",
    "\n",
    "@lru_cache(maxsize=1)\n",
    "def read_product_data():\n",
    "    return pd.read_csv(product_data_path)\n",
    "\n",
    "@lru_cache(maxsize=1)\n",
    "def read_train_data():\n",
    "    return pd.read_csv(train_sessions_path)\n",
    "\n",
    "@lru_cache(maxsize=1)\n",
    "def read_valid_data():\n",
    "    return pd.read_csv(valid_sessions_path)\n",
    "\n",
    "@lru_cache(maxsize=1)\n",
    "def read_test_data():\n",
    "    return pd.read_csv(test_sessions_path)"
   ]
  },
  {
   "cell_type": "code",
   "execution_count": 12,
   "metadata": {},
   "outputs": [],
   "source": [
    "merged_candidates_feature_test = read_merged_candidates_feature_test()"
   ]
  },
  {
   "cell_type": "code",
   "execution_count": 13,
   "metadata": {},
   "outputs": [],
   "source": [
    "merged_candidates = merged_candidates_feature_test[['sess_id', 'sess_locale', 'product']]"
   ]
  },
  {
   "cell_type": "code",
   "execution_count": 14,
   "metadata": {},
   "outputs": [],
   "source": [
    "train_sess_data = read_train_data()\n",
    "valid_sess_data = read_valid_data()\n",
    "test_sess_data = read_test_data()\n",
    "product = read_product_data()"
   ]
  },
  {
   "cell_type": "code",
   "execution_count": 15,
   "metadata": {},
   "outputs": [
    {
     "name": "stderr",
     "output_type": "stream",
     "text": [
      "100%|██████████| 3557898/3557898 [03:16<00:00, 18137.11it/s]\n",
      "100%|██████████| 361581/361581 [00:15<00:00, 23389.46it/s]\n"
     ]
    }
   ],
   "source": [
    "train_sess_item = get_sessions(train_sess_data, list_item=False)\n",
    "valid_sess_item = get_sessions(valid_sess_data, test=False, list_item=False)\n",
    "test_sess_item = get_sessions(test_sess_data, test=True, list_item=False)"
   ]
  },
  {
   "cell_type": "code",
   "execution_count": 16,
   "metadata": {},
   "outputs": [
    {
     "name": "stderr",
     "output_type": "stream",
     "text": [
      "100%|██████████| 361581/361581 [00:18<00:00, 19780.92it/s]\n"
     ]
    }
   ],
   "source": [
    "test_session_last_items = get_session_last_item(test_sess_data)"
   ]
  },
  {
   "cell_type": "code",
   "execution_count": 17,
   "metadata": {},
   "outputs": [
    {
     "name": "stderr",
     "output_type": "stream",
     "text": [
      "/tmp/ipykernel_13423/1241352254.py:2: SettingWithCopyWarning: \n",
      "A value is trying to be set on a copy of a slice from a DataFrame.\n",
      "Try using .loc[row_indexer,col_indexer] = value instead\n",
      "\n",
      "See the caveats in the documentation: https://pandas.pydata.org/pandas-docs/stable/user_guide/indexing.html#returning-a-view-versus-a-copy\n",
      "  merged_candidates['last_item'] = valid_session_last_items[merged_candidates['sess_id']]\n"
     ]
    }
   ],
   "source": [
    "test_session_last_items = np.array(test_session_last_items)\n",
    "merged_candidates['last_item'] = test_session_last_items[merged_candidates['sess_id']]"
   ]
  },
  {
   "attachments": {},
   "cell_type": "markdown",
   "metadata": {},
   "source": [
    "## bidirection"
   ]
  },
  {
   "cell_type": "code",
   "execution_count": 18,
   "metadata": {},
   "outputs": [
    {
     "name": "stderr",
     "output_type": "stream",
     "text": [
      "100%|██████████| 3919479/3919479 [02:24<00:00, 27146.95it/s]\n"
     ]
    }
   ],
   "source": [
    "co_occurence_dict_bi = get_co_occurence_dict(train_sess_item + valid_sess_item + test_sess_item, bidirection=True, weighted=False)"
   ]
  },
  {
   "cell_type": "code",
   "execution_count": 19,
   "metadata": {},
   "outputs": [
    {
     "name": "stderr",
     "output_type": "stream",
     "text": [
      "100%|██████████| 361581/361581 [00:18<00:00, 19573.18it/s]\n",
      "/tmp/ipykernel_13423/152729772.py:5: SettingWithCopyWarning: \n",
      "A value is trying to be set on a copy of a slice from a DataFrame.\n",
      "Try using .loc[row_indexer,col_indexer] = value instead\n",
      "\n",
      "See the caveats in the documentation: https://pandas.pydata.org/pandas-docs/stable/user_guide/indexing.html#returning-a-view-versus-a-copy\n",
      "  merged_candidates['last_item'] = valid_session_last_items[merged_candidates['sess_id']]\n"
     ]
    }
   ],
   "source": [
    "merged_candidates_feature_test = read_merged_candidates_feature_test()\n",
    "merged_candidates = merged_candidates_feature_test[['sess_id', 'sess_locale', 'product']]\n",
    "test_session_last_items = get_session_last_item(test_sess_data)\n",
    "test_session_last_items = np.array(test_session_last_items)\n",
    "merged_candidates['last_item'] = test_session_last_items[merged_candidates['sess_id']]"
   ]
  },
  {
   "cell_type": "code",
   "execution_count": 20,
   "metadata": {},
   "outputs": [
    {
     "name": "stderr",
     "output_type": "stream",
     "text": [
      "100%|██████████| 1401599/1401599 [00:37<00:00, 37872.54it/s] \n"
     ]
    }
   ],
   "source": [
    "co_occurence_dict_bi_df = flatten_co_graph_dict(co_occurence_dict_bi)"
   ]
  },
  {
   "cell_type": "code",
   "execution_count": null,
   "metadata": {},
   "outputs": [],
   "source": [
    "# merged_candidates_g = cudf.from_pandas(merged_candidates)\n",
    "# co_occurence_dict_bi_df_g = cudf.from_pandas(co_occurence_dict_bi_df)"
   ]
  },
  {
   "cell_type": "code",
   "execution_count": null,
   "metadata": {},
   "outputs": [],
   "source": [
    "# merged_candidates_bi_g = merged_candidates_g.merge(co_occurence_dict_bi_df_g, how='left', left_on=['last_item', 'product'], right_on=['product_', 'neighbor'])\n",
    "# merged_candidates_bi_g.drop(columns=['product_', 'neighbor'], inplace=True)\n",
    "# merged_candidates_bi_g = merged_candidates_bi_g.sort_values(by=['sess_id', 'product'])\n",
    "# merged_candidates_bi_g.reset_index(drop=True, inplace=True)\n",
    "# merged_candidates_bi_g['counts'] = merged_candidates_bi_g['counts'].fillna(0)\n",
    "# assert len(merged_candidates_bi_g['counts']) == len(merged_candidates)\n",
    "# merged_candidates_bi = merged_candidates_bi_g.to_pandas()"
   ]
  },
  {
   "cell_type": "code",
   "execution_count": 21,
   "metadata": {},
   "outputs": [],
   "source": [
    "merged_candidates_bi = merged_candidates.merge(co_occurence_dict_bi_df, how='left', left_on=['last_item', 'product'], right_on=['product_', 'neighbor'])\n",
    "merged_candidates_bi.drop(columns=['product_', 'neighbor'], inplace=True)\n",
    "merged_candidates_bi = merged_candidates_bi.sort_values(by=['sess_id', 'product'])\n",
    "merged_candidates_bi.reset_index(drop=True, inplace=True)\n",
    "merged_candidates_bi['counts'] = merged_candidates_bi['counts'].fillna(0)\n",
    "assert len(merged_candidates_bi['counts']) == len(merged_candidates)\n",
    "# merged_candidates_bi = merged_candidates_bi_g.to_pandas()"
   ]
  },
  {
   "cell_type": "code",
   "execution_count": null,
   "metadata": {},
   "outputs": [],
   "source": [
    "# del merged_candidates_g\n",
    "# del co_occurence_dict_bi_df_g\n",
    "# del merged_candidates_bi_g"
   ]
  },
  {
   "cell_type": "code",
   "execution_count": 22,
   "metadata": {},
   "outputs": [],
   "source": [
    "normalize_co_graph_counts(merged_candidates_bi)"
   ]
  },
  {
   "cell_type": "code",
   "execution_count": 23,
   "metadata": {},
   "outputs": [],
   "source": [
    "merged_candidates_feature_test['co_graph_counts_0'] = merged_candidates_bi['counts']\n",
    "merged_candidates_feature_test['normalized_co_graph_counts_0'] = merged_candidates_bi['normalized_counts']"
   ]
  },
  {
   "cell_type": "code",
   "execution_count": 25,
   "metadata": {},
   "outputs": [
    {
     "data": {
      "text/html": [
       "<div>\n",
       "<style scoped>\n",
       "    .dataframe tbody tr th:only-of-type {\n",
       "        vertical-align: middle;\n",
       "    }\n",
       "\n",
       "    .dataframe tbody tr th {\n",
       "        vertical-align: top;\n",
       "    }\n",
       "\n",
       "    .dataframe thead th {\n",
       "        text-align: right;\n",
       "    }\n",
       "</style>\n",
       "<table border=\"1\" class=\"dataframe\">\n",
       "  <thead>\n",
       "    <tr style=\"text-align: right;\">\n",
       "      <th></th>\n",
       "      <th>product</th>\n",
       "      <th>sasrec_scores_2</th>\n",
       "      <th>co_graph_counts_0</th>\n",
       "      <th>normalized_co_graph_counts_0</th>\n",
       "    </tr>\n",
       "  </thead>\n",
       "  <tbody>\n",
       "    <tr>\n",
       "      <th>4672245</th>\n",
       "      <td>B07D98ZNJX</td>\n",
       "      <td>25.679920</td>\n",
       "      <td>6.0</td>\n",
       "      <td>0.24</td>\n",
       "    </tr>\n",
       "    <tr>\n",
       "      <th>4672246</th>\n",
       "      <td>B07D997JWG</td>\n",
       "      <td>24.778963</td>\n",
       "      <td>5.0</td>\n",
       "      <td>0.20</td>\n",
       "    </tr>\n",
       "    <tr>\n",
       "      <th>4672174</th>\n",
       "      <td>B007SQ3HGS</td>\n",
       "      <td>19.812937</td>\n",
       "      <td>1.0</td>\n",
       "      <td>0.04</td>\n",
       "    </tr>\n",
       "    <tr>\n",
       "      <th>4672267</th>\n",
       "      <td>B07QJB4MFD</td>\n",
       "      <td>18.794708</td>\n",
       "      <td>2.0</td>\n",
       "      <td>0.08</td>\n",
       "    </tr>\n",
       "    <tr>\n",
       "      <th>4672300</th>\n",
       "      <td>B081N8XPQH</td>\n",
       "      <td>17.467945</td>\n",
       "      <td>0.0</td>\n",
       "      <td>0.00</td>\n",
       "    </tr>\n",
       "    <tr>\n",
       "      <th>4672394</th>\n",
       "      <td>B09Y5GC5R7</td>\n",
       "      <td>17.269825</td>\n",
       "      <td>1.0</td>\n",
       "      <td>0.04</td>\n",
       "    </tr>\n",
       "    <tr>\n",
       "      <th>4672340</th>\n",
       "      <td>B08SVPH33Z</td>\n",
       "      <td>16.826963</td>\n",
       "      <td>2.0</td>\n",
       "      <td>0.08</td>\n",
       "    </tr>\n",
       "    <tr>\n",
       "      <th>4672297</th>\n",
       "      <td>B081N7R51C</td>\n",
       "      <td>16.567038</td>\n",
       "      <td>1.0</td>\n",
       "      <td>0.04</td>\n",
       "    </tr>\n",
       "    <tr>\n",
       "      <th>4672284</th>\n",
       "      <td>B07V4PBMWT</td>\n",
       "      <td>15.528075</td>\n",
       "      <td>1.0</td>\n",
       "      <td>0.04</td>\n",
       "    </tr>\n",
       "    <tr>\n",
       "      <th>4672288</th>\n",
       "      <td>B07X9Q39H6</td>\n",
       "      <td>14.468607</td>\n",
       "      <td>1.0</td>\n",
       "      <td>0.04</td>\n",
       "    </tr>\n",
       "    <tr>\n",
       "      <th>4672283</th>\n",
       "      <td>B07V3P7Z9R</td>\n",
       "      <td>13.988759</td>\n",
       "      <td>1.0</td>\n",
       "      <td>0.04</td>\n",
       "    </tr>\n",
       "    <tr>\n",
       "      <th>4672289</th>\n",
       "      <td>B07XDM58K9</td>\n",
       "      <td>12.239704</td>\n",
       "      <td>0.0</td>\n",
       "      <td>0.00</td>\n",
       "    </tr>\n",
       "    <tr>\n",
       "      <th>4672407</th>\n",
       "      <td>B0BBYRS36N</td>\n",
       "      <td>12.101387</td>\n",
       "      <td>0.0</td>\n",
       "      <td>0.00</td>\n",
       "    </tr>\n",
       "    <tr>\n",
       "      <th>4672384</th>\n",
       "      <td>B09QJ5VG25</td>\n",
       "      <td>12.029809</td>\n",
       "      <td>0.0</td>\n",
       "      <td>0.00</td>\n",
       "    </tr>\n",
       "    <tr>\n",
       "      <th>4672358</th>\n",
       "      <td>B09BJ5D58T</td>\n",
       "      <td>12.006731</td>\n",
       "      <td>0.0</td>\n",
       "      <td>0.00</td>\n",
       "    </tr>\n",
       "    <tr>\n",
       "      <th>4672191</th>\n",
       "      <td>B00LM2Y2U4</td>\n",
       "      <td>11.797573</td>\n",
       "      <td>0.0</td>\n",
       "      <td>0.00</td>\n",
       "    </tr>\n",
       "    <tr>\n",
       "      <th>4672194</th>\n",
       "      <td>B00NV07P6S</td>\n",
       "      <td>11.675406</td>\n",
       "      <td>0.0</td>\n",
       "      <td>0.00</td>\n",
       "    </tr>\n",
       "    <tr>\n",
       "      <th>4672170</th>\n",
       "      <td>B006XJTNJ6</td>\n",
       "      <td>11.290570</td>\n",
       "      <td>0.0</td>\n",
       "      <td>0.00</td>\n",
       "    </tr>\n",
       "    <tr>\n",
       "      <th>4672369</th>\n",
       "      <td>B09GRNHC3F</td>\n",
       "      <td>10.218597</td>\n",
       "      <td>0.0</td>\n",
       "      <td>0.00</td>\n",
       "    </tr>\n",
       "    <tr>\n",
       "      <th>4672299</th>\n",
       "      <td>B081N8FXN9</td>\n",
       "      <td>10.171365</td>\n",
       "      <td>0.0</td>\n",
       "      <td>0.00</td>\n",
       "    </tr>\n",
       "    <tr>\n",
       "      <th>4672168</th>\n",
       "      <td>B006XJTMBA</td>\n",
       "      <td>10.068512</td>\n",
       "      <td>0.0</td>\n",
       "      <td>0.00</td>\n",
       "    </tr>\n",
       "    <tr>\n",
       "      <th>4672216</th>\n",
       "      <td>B01LAJK8JW</td>\n",
       "      <td>10.026747</td>\n",
       "      <td>1.0</td>\n",
       "      <td>0.04</td>\n",
       "    </tr>\n",
       "    <tr>\n",
       "      <th>4672298</th>\n",
       "      <td>B081N8FCXN</td>\n",
       "      <td>9.990796</td>\n",
       "      <td>0.0</td>\n",
       "      <td>0.00</td>\n",
       "    </tr>\n",
       "    <tr>\n",
       "      <th>4672383</th>\n",
       "      <td>B09QJ59B7Y</td>\n",
       "      <td>9.869802</td>\n",
       "      <td>0.0</td>\n",
       "      <td>0.00</td>\n",
       "    </tr>\n",
       "    <tr>\n",
       "      <th>4672152</th>\n",
       "      <td>B000IGVTAQ</td>\n",
       "      <td>9.823719</td>\n",
       "      <td>0.0</td>\n",
       "      <td>0.00</td>\n",
       "    </tr>\n",
       "  </tbody>\n",
       "</table>\n",
       "</div>"
      ],
      "text/plain": [
       "            product  sasrec_scores_2  co_graph_counts_0  \\\n",
       "4672245  B07D98ZNJX        25.679920                6.0   \n",
       "4672246  B07D997JWG        24.778963                5.0   \n",
       "4672174  B007SQ3HGS        19.812937                1.0   \n",
       "4672267  B07QJB4MFD        18.794708                2.0   \n",
       "4672300  B081N8XPQH        17.467945                0.0   \n",
       "4672394  B09Y5GC5R7        17.269825                1.0   \n",
       "4672340  B08SVPH33Z        16.826963                2.0   \n",
       "4672297  B081N7R51C        16.567038                1.0   \n",
       "4672284  B07V4PBMWT        15.528075                1.0   \n",
       "4672288  B07X9Q39H6        14.468607                1.0   \n",
       "4672283  B07V3P7Z9R        13.988759                1.0   \n",
       "4672289  B07XDM58K9        12.239704                0.0   \n",
       "4672407  B0BBYRS36N        12.101387                0.0   \n",
       "4672384  B09QJ5VG25        12.029809                0.0   \n",
       "4672358  B09BJ5D58T        12.006731                0.0   \n",
       "4672191  B00LM2Y2U4        11.797573                0.0   \n",
       "4672194  B00NV07P6S        11.675406                0.0   \n",
       "4672170  B006XJTNJ6        11.290570                0.0   \n",
       "4672369  B09GRNHC3F        10.218597                0.0   \n",
       "4672299  B081N8FXN9        10.171365                0.0   \n",
       "4672168  B006XJTMBA        10.068512                0.0   \n",
       "4672216  B01LAJK8JW        10.026747                1.0   \n",
       "4672298  B081N8FCXN         9.990796                0.0   \n",
       "4672383  B09QJ59B7Y         9.869802                0.0   \n",
       "4672152  B000IGVTAQ         9.823719                0.0   \n",
       "\n",
       "         normalized_co_graph_counts_0  \n",
       "4672245                          0.24  \n",
       "4672246                          0.20  \n",
       "4672174                          0.04  \n",
       "4672267                          0.08  \n",
       "4672300                          0.00  \n",
       "4672394                          0.04  \n",
       "4672340                          0.08  \n",
       "4672297                          0.04  \n",
       "4672284                          0.04  \n",
       "4672288                          0.04  \n",
       "4672283                          0.04  \n",
       "4672289                          0.00  \n",
       "4672407                          0.00  \n",
       "4672384                          0.00  \n",
       "4672358                          0.00  \n",
       "4672191                          0.00  \n",
       "4672194                          0.00  \n",
       "4672170                          0.00  \n",
       "4672369                          0.00  \n",
       "4672299                          0.00  \n",
       "4672168                          0.00  \n",
       "4672216                          0.04  \n",
       "4672298                          0.00  \n",
       "4672383                          0.00  \n",
       "4672152                          0.00  "
      ]
     },
     "execution_count": 25,
     "metadata": {},
     "output_type": "execute_result"
    }
   ],
   "source": [
    "merged_candidates_feature_test.query('sess_id==20000').sort_values(by=['sasrec_scores_2'], ascending=False)[['product', 'sasrec_scores_2', 'co_graph_counts_0', 'normalized_co_graph_counts_0']][:25]"
   ]
  },
  {
   "cell_type": "code",
   "execution_count": 27,
   "metadata": {},
   "outputs": [],
   "source": [
    "cast_dtype(merged_candidates_feature_test, ['co_graph_counts_0', 'normalized_co_graph_counts_0'])\n",
    "merged_candidates_feature_test.to_parquet(merged_candidates_feature_test_path, engine='pyarrow')"
   ]
  },
  {
   "attachments": {},
   "cell_type": "markdown",
   "metadata": {},
   "source": [
    "## uni and weight"
   ]
  },
  {
   "cell_type": "code",
   "execution_count": 29,
   "metadata": {},
   "outputs": [
    {
     "name": "stderr",
     "output_type": "stream",
     "text": [
      "100%|██████████| 3919479/3919479 [01:51<00:00, 35200.63it/s]\n"
     ]
    }
   ],
   "source": [
    "co_occurence_dict_uni_weight = get_co_occurence_dict(train_sess_item + valid_sess_item + test_sess_item, bidirection=False, weighted=True)"
   ]
  },
  {
   "cell_type": "code",
   "execution_count": 30,
   "metadata": {},
   "outputs": [
    {
     "name": "stderr",
     "output_type": "stream",
     "text": [
      "100%|██████████| 1401599/1401599 [00:27<00:00, 50797.52it/s] \n"
     ]
    }
   ],
   "source": [
    "co_graph_uni_weight_df = flatten_co_graph_dict(co_occurence_dict_uni_weight)"
   ]
  },
  {
   "cell_type": "code",
   "execution_count": 22,
   "metadata": {},
   "outputs": [],
   "source": [
    "# merged_candidates_g = cudf.from_pandas(merged_candidates)\n",
    "# co_graph_uni_weight_df_g = cudf.from_pandas(co_graph_uni_weight_df)"
   ]
  },
  {
   "cell_type": "code",
   "execution_count": null,
   "metadata": {},
   "outputs": [],
   "source": [
    "merged_candidates_uni_weight = merged_candidates.merge(co_graph_uni_weight_df, how='left', left_on=['last_item', 'product'], right_on=['product_', 'neighbor'])\n",
    "merged_candidates_uni_weight.drop(columns=['product_', 'neighbor'], inplace=True)\n",
    "merged_candidates_uni_weight = merged_candidates_uni_weight.sort_values(by=['sess_id', 'product'])\n",
    "merged_candidates_uni_weight.reset_index(drop=True, inplace=True)\n",
    "merged_candidates_uni_weight['counts'] = merged_candidates_uni_weight['counts'].fillna(0)\n",
    "assert len(merged_candidates_uni_weight['counts']) == len(merged_candidates)\n",
    "# merged_candidates_uni_weight = merged_candidates_uni_weight_g.to_pandas()"
   ]
  },
  {
   "cell_type": "code",
   "execution_count": 25,
   "metadata": {},
   "outputs": [],
   "source": [
    "# del merged_candidates_g\n",
    "# del co_graph_uni_weight_df_g\n",
    "# del merged_candidates_uni_weight_g"
   ]
  },
  {
   "cell_type": "code",
   "execution_count": null,
   "metadata": {},
   "outputs": [],
   "source": [
    "normalize_co_graph_counts(merged_candidates_uni_weight)"
   ]
  },
  {
   "cell_type": "code",
   "execution_count": null,
   "metadata": {},
   "outputs": [],
   "source": [
    "merged_candidates_feature_test['co_graph_counts_1'] = merged_candidates_uni_weight['counts']\n",
    "merged_candidates_feature_test['normalized_co_graph_counts_1'] = merged_candidates_uni_weight['normalized_counts']"
   ]
  },
  {
   "cell_type": "code",
   "execution_count": null,
   "metadata": {},
   "outputs": [],
   "source": [
    "cast_dtype(merged_candidates_feature_test)\n",
    "merged_candidates_feature_test.to_parquet(merged_candidates_feature_test_path, engine='pyarrow')"
   ]
  },
  {
   "cell_type": "code",
   "execution_count": null,
   "metadata": {},
   "outputs": [
    {
     "data": {
      "text/html": [
       "<div>\n",
       "<style scoped>\n",
       "    .dataframe tbody tr th:only-of-type {\n",
       "        vertical-align: middle;\n",
       "    }\n",
       "\n",
       "    .dataframe tbody tr th {\n",
       "        vertical-align: top;\n",
       "    }\n",
       "\n",
       "    .dataframe thead th {\n",
       "        text-align: right;\n",
       "    }\n",
       "</style>\n",
       "<table border=\"1\" class=\"dataframe\">\n",
       "  <thead>\n",
       "    <tr style=\"text-align: right;\">\n",
       "      <th></th>\n",
       "      <th>sess_id</th>\n",
       "      <th>sess_locale</th>\n",
       "      <th>product</th>\n",
       "      <th>last_item</th>\n",
       "      <th>counts</th>\n",
       "      <th>counts_cum</th>\n",
       "      <th>normalized_counts</th>\n",
       "    </tr>\n",
       "  </thead>\n",
       "  <tbody>\n",
       "    <tr>\n",
       "      <th>0</th>\n",
       "      <td>0</td>\n",
       "      <td>UK</td>\n",
       "      <td>B000OPPVCS</td>\n",
       "      <td>B077XGDMD2</td>\n",
       "      <td>1</td>\n",
       "      <td>457</td>\n",
       "      <td>0.002188</td>\n",
       "    </tr>\n",
       "    <tr>\n",
       "      <th>1</th>\n",
       "      <td>0</td>\n",
       "      <td>UK</td>\n",
       "      <td>B000V599Y2</td>\n",
       "      <td>B077XGDMD2</td>\n",
       "      <td>0</td>\n",
       "      <td>457</td>\n",
       "      <td>0.000000</td>\n",
       "    </tr>\n",
       "    <tr>\n",
       "      <th>2</th>\n",
       "      <td>0</td>\n",
       "      <td>UK</td>\n",
       "      <td>B0018HH444</td>\n",
       "      <td>B077XGDMD2</td>\n",
       "      <td>1</td>\n",
       "      <td>457</td>\n",
       "      <td>0.002188</td>\n",
       "    </tr>\n",
       "    <tr>\n",
       "      <th>3</th>\n",
       "      <td>0</td>\n",
       "      <td>UK</td>\n",
       "      <td>B0079JI4DU</td>\n",
       "      <td>B077XGDMD2</td>\n",
       "      <td>1</td>\n",
       "      <td>457</td>\n",
       "      <td>0.002188</td>\n",
       "    </tr>\n",
       "    <tr>\n",
       "      <th>4</th>\n",
       "      <td>0</td>\n",
       "      <td>UK</td>\n",
       "      <td>B0079JI4EY</td>\n",
       "      <td>B077XGDMD2</td>\n",
       "      <td>1</td>\n",
       "      <td>457</td>\n",
       "      <td>0.002188</td>\n",
       "    </tr>\n",
       "    <tr>\n",
       "      <th>...</th>\n",
       "      <td>...</td>\n",
       "      <td>...</td>\n",
       "      <td>...</td>\n",
       "      <td>...</td>\n",
       "      <td>...</td>\n",
       "      <td>...</td>\n",
       "      <td>...</td>\n",
       "    </tr>\n",
       "    <tr>\n",
       "      <th>84407334</th>\n",
       "      <td>361580</td>\n",
       "      <td>DE</td>\n",
       "      <td>B0BB7XV97M</td>\n",
       "      <td>B08427PFR5</td>\n",
       "      <td>0</td>\n",
       "      <td>128</td>\n",
       "      <td>0.000000</td>\n",
       "    </tr>\n",
       "    <tr>\n",
       "      <th>84407335</th>\n",
       "      <td>361580</td>\n",
       "      <td>DE</td>\n",
       "      <td>B0BB7YSRBX</td>\n",
       "      <td>B08427PFR5</td>\n",
       "      <td>0</td>\n",
       "      <td>128</td>\n",
       "      <td>0.000000</td>\n",
       "    </tr>\n",
       "    <tr>\n",
       "      <th>84407336</th>\n",
       "      <td>361580</td>\n",
       "      <td>DE</td>\n",
       "      <td>B0BB7ZMGY8</td>\n",
       "      <td>B08427PFR5</td>\n",
       "      <td>0</td>\n",
       "      <td>128</td>\n",
       "      <td>0.000000</td>\n",
       "    </tr>\n",
       "    <tr>\n",
       "      <th>84407337</th>\n",
       "      <td>361580</td>\n",
       "      <td>DE</td>\n",
       "      <td>B0BD4CP7N3</td>\n",
       "      <td>B08427PFR5</td>\n",
       "      <td>0</td>\n",
       "      <td>128</td>\n",
       "      <td>0.000000</td>\n",
       "    </tr>\n",
       "    <tr>\n",
       "      <th>84407338</th>\n",
       "      <td>361580</td>\n",
       "      <td>DE</td>\n",
       "      <td>B0BFPJC4C2</td>\n",
       "      <td>B08427PFR5</td>\n",
       "      <td>1</td>\n",
       "      <td>128</td>\n",
       "      <td>0.007812</td>\n",
       "    </tr>\n",
       "  </tbody>\n",
       "</table>\n",
       "<p>84407339 rows × 7 columns</p>\n",
       "</div>"
      ],
      "text/plain": [
       "          sess_id sess_locale     product   last_item  counts  counts_cum  \\\n",
       "0               0          UK  B000OPPVCS  B077XGDMD2       1         457   \n",
       "1               0          UK  B000V599Y2  B077XGDMD2       0         457   \n",
       "2               0          UK  B0018HH444  B077XGDMD2       1         457   \n",
       "3               0          UK  B0079JI4DU  B077XGDMD2       1         457   \n",
       "4               0          UK  B0079JI4EY  B077XGDMD2       1         457   \n",
       "...           ...         ...         ...         ...     ...         ...   \n",
       "84407334   361580          DE  B0BB7XV97M  B08427PFR5       0         128   \n",
       "84407335   361580          DE  B0BB7YSRBX  B08427PFR5       0         128   \n",
       "84407336   361580          DE  B0BB7ZMGY8  B08427PFR5       0         128   \n",
       "84407337   361580          DE  B0BD4CP7N3  B08427PFR5       0         128   \n",
       "84407338   361580          DE  B0BFPJC4C2  B08427PFR5       1         128   \n",
       "\n",
       "          normalized_counts  \n",
       "0                  0.002188  \n",
       "1                  0.000000  \n",
       "2                  0.002188  \n",
       "3                  0.002188  \n",
       "4                  0.002188  \n",
       "...                     ...  \n",
       "84407334           0.000000  \n",
       "84407335           0.000000  \n",
       "84407336           0.000000  \n",
       "84407337           0.000000  \n",
       "84407338           0.007812  \n",
       "\n",
       "[84407339 rows x 7 columns]"
      ]
     },
     "execution_count": 27,
     "metadata": {},
     "output_type": "execute_result"
    }
   ],
   "source": [
    "merged_candidates_uni_weight"
   ]
  },
  {
   "cell_type": "code",
   "execution_count": null,
   "metadata": {},
   "outputs": [
    {
     "data": {
      "text/plain": [
       "457"
      ]
     },
     "execution_count": 31,
     "metadata": {},
     "output_type": "execute_result"
    }
   ],
   "source": [
    "merged_candidates_uni_weight.query(\"sess_id==0\")['counts'].sum()"
   ]
  },
  {
   "cell_type": "code",
   "execution_count": null,
   "metadata": {},
   "outputs": [
    {
     "data": {
      "text/plain": [
       "0.08971553610503283"
      ]
     },
     "execution_count": 32,
     "metadata": {},
     "output_type": "execute_result"
    }
   ],
   "source": [
    "merged_candidates_uni_weight.query(\"sess_id==0\")['normalized_counts'].max()"
   ]
  },
  {
   "cell_type": "code",
   "execution_count": 23,
   "metadata": {},
   "outputs": [
    {
     "data": {
      "text/html": [
       "<div>\n",
       "<style scoped>\n",
       "    .dataframe tbody tr th:only-of-type {\n",
       "        vertical-align: middle;\n",
       "    }\n",
       "\n",
       "    .dataframe tbody tr th {\n",
       "        vertical-align: top;\n",
       "    }\n",
       "\n",
       "    .dataframe thead th {\n",
       "        text-align: right;\n",
       "    }\n",
       "</style>\n",
       "<table border=\"1\" class=\"dataframe\">\n",
       "  <thead>\n",
       "    <tr style=\"text-align: right;\">\n",
       "      <th></th>\n",
       "      <th>product_</th>\n",
       "      <th>neighbor</th>\n",
       "      <th>counts</th>\n",
       "    </tr>\n",
       "  </thead>\n",
       "  <tbody>\n",
       "    <tr>\n",
       "      <th>0</th>\n",
       "      <td>B005ZJTUXE</td>\n",
       "      <td>B005ZJTUXE</td>\n",
       "      <td>7</td>\n",
       "    </tr>\n",
       "    <tr>\n",
       "      <th>1</th>\n",
       "      <td>B005ZJTUXE</td>\n",
       "      <td>B00P8VIBBG</td>\n",
       "      <td>11</td>\n",
       "    </tr>\n",
       "    <tr>\n",
       "      <th>2</th>\n",
       "      <td>B005ZJTUXE</td>\n",
       "      <td>B07TVSL9TW</td>\n",
       "      <td>7</td>\n",
       "    </tr>\n",
       "    <tr>\n",
       "      <th>3</th>\n",
       "      <td>B005ZJTUXE</td>\n",
       "      <td>B014J7P4KU</td>\n",
       "      <td>4</td>\n",
       "    </tr>\n",
       "    <tr>\n",
       "      <th>4</th>\n",
       "      <td>B005ZJTUXE</td>\n",
       "      <td>B07HJCRPTB</td>\n",
       "      <td>9</td>\n",
       "    </tr>\n",
       "    <tr>\n",
       "      <th>...</th>\n",
       "      <td>...</td>\n",
       "      <td>...</td>\n",
       "      <td>...</td>\n",
       "    </tr>\n",
       "    <tr>\n",
       "      <th>29994681</th>\n",
       "      <td>B09KXXFJS7</td>\n",
       "      <td>B09KXXGQX8</td>\n",
       "      <td>1</td>\n",
       "    </tr>\n",
       "    <tr>\n",
       "      <th>29994682</th>\n",
       "      <td>B09KXVZ7YQ</td>\n",
       "      <td>B09KXVDK5F</td>\n",
       "      <td>1</td>\n",
       "    </tr>\n",
       "    <tr>\n",
       "      <th>29994683</th>\n",
       "      <td>B09KXVZ7YQ</td>\n",
       "      <td>B09KXXGQX8</td>\n",
       "      <td>1</td>\n",
       "    </tr>\n",
       "    <tr>\n",
       "      <th>29994684</th>\n",
       "      <td>B09KXVDK5F</td>\n",
       "      <td>B09KXXGQX8</td>\n",
       "      <td>1</td>\n",
       "    </tr>\n",
       "    <tr>\n",
       "      <th>29994685</th>\n",
       "      <td>B00O3BWZJQ</td>\n",
       "      <td>B00O3CISFK</td>\n",
       "      <td>1</td>\n",
       "    </tr>\n",
       "  </tbody>\n",
       "</table>\n",
       "<p>29994686 rows × 3 columns</p>\n",
       "</div>"
      ],
      "text/plain": [
       "            product_    neighbor  counts\n",
       "0         B005ZJTUXE  B005ZJTUXE       7\n",
       "1         B005ZJTUXE  B00P8VIBBG      11\n",
       "2         B005ZJTUXE  B07TVSL9TW       7\n",
       "3         B005ZJTUXE  B014J7P4KU       4\n",
       "4         B005ZJTUXE  B07HJCRPTB       9\n",
       "...              ...         ...     ...\n",
       "29994681  B09KXXFJS7  B09KXXGQX8       1\n",
       "29994682  B09KXVZ7YQ  B09KXVDK5F       1\n",
       "29994683  B09KXVZ7YQ  B09KXXGQX8       1\n",
       "29994684  B09KXVDK5F  B09KXXGQX8       1\n",
       "29994685  B00O3BWZJQ  B00O3CISFK       1\n",
       "\n",
       "[29994686 rows x 3 columns]"
      ]
     },
     "execution_count": 23,
     "metadata": {},
     "output_type": "execute_result"
    }
   ],
   "source": [
    "co_graph_uni_weight_df"
   ]
  },
  {
   "cell_type": "code",
   "execution_count": null,
   "metadata": {},
   "outputs": [],
   "source": [
    "merged_candidates_feature_test.query('sess_id==20000').sort_values(by=['sasrec_scores_2'], ascending=False)[['product', 'sasrec_scores_2', 'co_graph_counts_1', 'normalized_co_graph_counts_1']][:25]"
   ]
  },
  {
   "attachments": {},
   "cell_type": "markdown",
   "metadata": {},
   "source": [
    "## uni and dis=1"
   ]
  },
  {
   "cell_type": "code",
   "execution_count": null,
   "metadata": {},
   "outputs": [],
   "source": [
    "co_occurence_dict_uni_dis1 = get_co_occurence_dict(train_sess_item + valid_sess_item + test_sess_item, bidirection=False, weighted=False, max_dis=1)"
   ]
  },
  {
   "cell_type": "code",
   "execution_count": 41,
   "metadata": {},
   "outputs": [
    {
     "name": "stderr",
     "output_type": "stream",
     "text": [
      "100%|██████████| 361581/361581 [00:09<00:00, 37824.30it/s]\n",
      "/tmp/ipykernel_569090/152729772.py:5: SettingWithCopyWarning: \n",
      "A value is trying to be set on a copy of a slice from a DataFrame.\n",
      "Try using .loc[row_indexer,col_indexer] = value instead\n",
      "\n",
      "See the caveats in the documentation: https://pandas.pydata.org/pandas-docs/stable/user_guide/indexing.html#returning-a-view-versus-a-copy\n",
      "  merged_candidates['last_item'] = valid_session_last_items[merged_candidates['sess_id']]\n"
     ]
    }
   ],
   "source": [
    "merged_candidates_feature_test = read_merged_candidates_feature_test()\n",
    "merged_candidates = merged_candidates_feature_test[['sess_id', 'sess_locale', 'product']]\n",
    "test_session_last_items = get_session_last_item(test_sess_data)\n",
    "test_session_last_items = np.array(test_session_last_items)\n",
    "merged_candidates['last_item'] = test_session_last_items[merged_candidates['sess_id']]"
   ]
  },
  {
   "cell_type": "code",
   "execution_count": 42,
   "metadata": {},
   "outputs": [
    {
     "data": {
      "text/html": [
       "<div>\n",
       "<style scoped>\n",
       "    .dataframe tbody tr th:only-of-type {\n",
       "        vertical-align: middle;\n",
       "    }\n",
       "\n",
       "    .dataframe tbody tr th {\n",
       "        vertical-align: top;\n",
       "    }\n",
       "\n",
       "    .dataframe thead th {\n",
       "        text-align: right;\n",
       "    }\n",
       "</style>\n",
       "<table border=\"1\" class=\"dataframe\">\n",
       "  <thead>\n",
       "    <tr style=\"text-align: right;\">\n",
       "      <th></th>\n",
       "      <th>sess_id</th>\n",
       "      <th>sess_locale</th>\n",
       "      <th>product</th>\n",
       "      <th>last_item</th>\n",
       "    </tr>\n",
       "  </thead>\n",
       "  <tbody>\n",
       "    <tr>\n",
       "      <th>0</th>\n",
       "      <td>0</td>\n",
       "      <td>UK</td>\n",
       "      <td>B000OPPVCS</td>\n",
       "      <td>B077XGDMD2</td>\n",
       "    </tr>\n",
       "    <tr>\n",
       "      <th>1</th>\n",
       "      <td>0</td>\n",
       "      <td>UK</td>\n",
       "      <td>B000V599Y2</td>\n",
       "      <td>B077XGDMD2</td>\n",
       "    </tr>\n",
       "    <tr>\n",
       "      <th>2</th>\n",
       "      <td>0</td>\n",
       "      <td>UK</td>\n",
       "      <td>B0018HH444</td>\n",
       "      <td>B077XGDMD2</td>\n",
       "    </tr>\n",
       "    <tr>\n",
       "      <th>3</th>\n",
       "      <td>0</td>\n",
       "      <td>UK</td>\n",
       "      <td>B0079JI4DU</td>\n",
       "      <td>B077XGDMD2</td>\n",
       "    </tr>\n",
       "    <tr>\n",
       "      <th>4</th>\n",
       "      <td>0</td>\n",
       "      <td>UK</td>\n",
       "      <td>B0079JI4EY</td>\n",
       "      <td>B077XGDMD2</td>\n",
       "    </tr>\n",
       "    <tr>\n",
       "      <th>...</th>\n",
       "      <td>...</td>\n",
       "      <td>...</td>\n",
       "      <td>...</td>\n",
       "      <td>...</td>\n",
       "    </tr>\n",
       "    <tr>\n",
       "      <th>84407334</th>\n",
       "      <td>361580</td>\n",
       "      <td>DE</td>\n",
       "      <td>B0BB7XV97M</td>\n",
       "      <td>B08427PFR5</td>\n",
       "    </tr>\n",
       "    <tr>\n",
       "      <th>84407335</th>\n",
       "      <td>361580</td>\n",
       "      <td>DE</td>\n",
       "      <td>B0BB7YSRBX</td>\n",
       "      <td>B08427PFR5</td>\n",
       "    </tr>\n",
       "    <tr>\n",
       "      <th>84407336</th>\n",
       "      <td>361580</td>\n",
       "      <td>DE</td>\n",
       "      <td>B0BB7ZMGY8</td>\n",
       "      <td>B08427PFR5</td>\n",
       "    </tr>\n",
       "    <tr>\n",
       "      <th>84407337</th>\n",
       "      <td>361580</td>\n",
       "      <td>DE</td>\n",
       "      <td>B0BD4CP7N3</td>\n",
       "      <td>B08427PFR5</td>\n",
       "    </tr>\n",
       "    <tr>\n",
       "      <th>84407338</th>\n",
       "      <td>361580</td>\n",
       "      <td>DE</td>\n",
       "      <td>B0BFPJC4C2</td>\n",
       "      <td>B08427PFR5</td>\n",
       "    </tr>\n",
       "  </tbody>\n",
       "</table>\n",
       "<p>84407339 rows × 4 columns</p>\n",
       "</div>"
      ],
      "text/plain": [
       "          sess_id sess_locale     product   last_item\n",
       "0               0          UK  B000OPPVCS  B077XGDMD2\n",
       "1               0          UK  B000V599Y2  B077XGDMD2\n",
       "2               0          UK  B0018HH444  B077XGDMD2\n",
       "3               0          UK  B0079JI4DU  B077XGDMD2\n",
       "4               0          UK  B0079JI4EY  B077XGDMD2\n",
       "...           ...         ...         ...         ...\n",
       "84407334   361580          DE  B0BB7XV97M  B08427PFR5\n",
       "84407335   361580          DE  B0BB7YSRBX  B08427PFR5\n",
       "84407336   361580          DE  B0BB7ZMGY8  B08427PFR5\n",
       "84407337   361580          DE  B0BD4CP7N3  B08427PFR5\n",
       "84407338   361580          DE  B0BFPJC4C2  B08427PFR5\n",
       "\n",
       "[84407339 rows x 4 columns]"
      ]
     },
     "execution_count": 42,
     "metadata": {},
     "output_type": "execute_result"
    }
   ],
   "source": [
    "merged_candidates"
   ]
  },
  {
   "cell_type": "code",
   "execution_count": 38,
   "metadata": {},
   "outputs": [
    {
     "name": "stderr",
     "output_type": "stream",
     "text": [
      "100%|██████████| 1401599/1401599 [00:14<00:00, 94514.80it/s] \n"
     ]
    }
   ],
   "source": [
    "co_occurence_dict_uni_dis1_df = flatten_co_graph_dict(co_occurence_dict_uni_dis1)"
   ]
  },
  {
   "cell_type": "code",
   "execution_count": 43,
   "metadata": {},
   "outputs": [],
   "source": [
    "# merged_candidates_g = cudf.from_pandas(merged_candidates)\n",
    "# co_occurence_dict_uni_dis1_df_g = cudf.from_pandas(co_occurence_dict_uni_dis1_df)"
   ]
  },
  {
   "cell_type": "code",
   "execution_count": 44,
   "metadata": {},
   "outputs": [],
   "source": [
    "# merged_candidates_uni_dis1_g = merged_candidates_g.merge(co_occurence_dict_uni_dis1_df_g, how='left', left_on=['last_item', 'product'], right_on=['product_', 'neighbor'])\n",
    "# merged_candidates_uni_dis1_g.drop(columns=['product_', 'neighbor'], inplace=True)\n",
    "# merged_candidates_uni_dis1_g = merged_candidates_uni_dis1_g.sort_values(by=['sess_id', 'product'])\n",
    "# merged_candidates_uni_dis1_g.reset_index(drop=True, inplace=True)\n",
    "# merged_candidates_uni_dis1_g['counts'] = merged_candidates_uni_dis1_g['counts'].fillna(0)\n",
    "# assert len(merged_candidates_uni_dis1_g['counts']) == len(merged_candidates)\n",
    "# merged_candidates_uni_dis1 = merged_candidates_uni_dis1_g.to_pandas()"
   ]
  },
  {
   "cell_type": "code",
   "execution_count": null,
   "metadata": {},
   "outputs": [],
   "source": [
    "merged_candidates_uni_dis1 = merged_candidates.merge(co_occurence_dict_uni_dis1_df, how='left', left_on=['last_item', 'product'], right_on=['product_', 'neighbor'])\n",
    "merged_candidates_uni_dis1.drop(columns=['product_', 'neighbor'], inplace=True)\n",
    "merged_candidates_uni_dis1 = merged_candidates_uni_dis1.sort_values(by=['sess_id', 'product'])\n",
    "merged_candidates_uni_dis1.reset_index(drop=True, inplace=True)\n",
    "merged_candidates_uni_dis1['counts'] = merged_candidates_uni_dis1['counts'].fillna(0)\n",
    "assert len(merged_candidates_uni_dis1['counts']) == len(merged_candidates)\n",
    "# merged_candidates_uni_dis1 = merged_candidates_uni_dis1_g.to_pandas()"
   ]
  },
  {
   "cell_type": "code",
   "execution_count": 45,
   "metadata": {},
   "outputs": [],
   "source": [
    "# del merged_candidates_g\n",
    "# del co_occurence_dict_uni_dis1_df_g\n",
    "# del merged_candidates_uni_dis1_g"
   ]
  },
  {
   "cell_type": "code",
   "execution_count": 46,
   "metadata": {},
   "outputs": [],
   "source": [
    "normalize_co_graph_counts(merged_candidates_uni_dis1)"
   ]
  },
  {
   "cell_type": "code",
   "execution_count": 53,
   "metadata": {},
   "outputs": [],
   "source": [
    "merged_candidates_feature_test['co_graph_counts_2'] = merged_candidates_uni_dis1['counts']\n",
    "merged_candidates_feature_test['normalized_co_graph_counts_2'] = merged_candidates_uni_dis1['normalized_counts']"
   ]
  },
  {
   "cell_type": "code",
   "execution_count": 55,
   "metadata": {},
   "outputs": [],
   "source": [
    "cast_dtype(merged_candidates_feature_test)\n",
    "merged_candidates_feature_test.to_parquet(merged_candidates_feature_test_path, engine='pyarrow')"
   ]
  },
  {
   "cell_type": "code",
   "execution_count": 48,
   "metadata": {},
   "outputs": [
    {
     "data": {
      "text/html": [
       "<div>\n",
       "<style scoped>\n",
       "    .dataframe tbody tr th:only-of-type {\n",
       "        vertical-align: middle;\n",
       "    }\n",
       "\n",
       "    .dataframe tbody tr th {\n",
       "        vertical-align: top;\n",
       "    }\n",
       "\n",
       "    .dataframe thead th {\n",
       "        text-align: right;\n",
       "    }\n",
       "</style>\n",
       "<table border=\"1\" class=\"dataframe\">\n",
       "  <thead>\n",
       "    <tr style=\"text-align: right;\">\n",
       "      <th></th>\n",
       "      <th>sess_id</th>\n",
       "      <th>sess_locale</th>\n",
       "      <th>product</th>\n",
       "      <th>last_item</th>\n",
       "      <th>counts</th>\n",
       "      <th>counts_cum</th>\n",
       "      <th>normalized_counts</th>\n",
       "    </tr>\n",
       "  </thead>\n",
       "  <tbody>\n",
       "    <tr>\n",
       "      <th>23692</th>\n",
       "      <td>99</td>\n",
       "      <td>UK</td>\n",
       "      <td>B0045XDSZM</td>\n",
       "      <td>B0BC6DL1FW</td>\n",
       "      <td>0.0</td>\n",
       "      <td>13.666667</td>\n",
       "      <td>0.0</td>\n",
       "    </tr>\n",
       "    <tr>\n",
       "      <th>23693</th>\n",
       "      <td>99</td>\n",
       "      <td>UK</td>\n",
       "      <td>B004605SE8</td>\n",
       "      <td>B0BC6DL1FW</td>\n",
       "      <td>0.0</td>\n",
       "      <td>13.666667</td>\n",
       "      <td>0.0</td>\n",
       "    </tr>\n",
       "    <tr>\n",
       "      <th>23694</th>\n",
       "      <td>99</td>\n",
       "      <td>UK</td>\n",
       "      <td>B0053Y8M1W</td>\n",
       "      <td>B0BC6DL1FW</td>\n",
       "      <td>0.0</td>\n",
       "      <td>13.666667</td>\n",
       "      <td>0.0</td>\n",
       "    </tr>\n",
       "    <tr>\n",
       "      <th>23695</th>\n",
       "      <td>99</td>\n",
       "      <td>UK</td>\n",
       "      <td>B007PS6O28</td>\n",
       "      <td>B0BC6DL1FW</td>\n",
       "      <td>0.0</td>\n",
       "      <td>13.666667</td>\n",
       "      <td>0.0</td>\n",
       "    </tr>\n",
       "    <tr>\n",
       "      <th>23696</th>\n",
       "      <td>99</td>\n",
       "      <td>UK</td>\n",
       "      <td>B0081Q3YN0</td>\n",
       "      <td>B0BC6DL1FW</td>\n",
       "      <td>0.0</td>\n",
       "      <td>13.666667</td>\n",
       "      <td>0.0</td>\n",
       "    </tr>\n",
       "    <tr>\n",
       "      <th>...</th>\n",
       "      <td>...</td>\n",
       "      <td>...</td>\n",
       "      <td>...</td>\n",
       "      <td>...</td>\n",
       "      <td>...</td>\n",
       "      <td>...</td>\n",
       "      <td>...</td>\n",
       "    </tr>\n",
       "    <tr>\n",
       "      <th>23906</th>\n",
       "      <td>99</td>\n",
       "      <td>UK</td>\n",
       "      <td>B0BF15FRZT</td>\n",
       "      <td>B0BC6DL1FW</td>\n",
       "      <td>0.0</td>\n",
       "      <td>13.666667</td>\n",
       "      <td>0.0</td>\n",
       "    </tr>\n",
       "    <tr>\n",
       "      <th>23907</th>\n",
       "      <td>99</td>\n",
       "      <td>UK</td>\n",
       "      <td>B0BF15JRSV</td>\n",
       "      <td>B0BC6DL1FW</td>\n",
       "      <td>0.0</td>\n",
       "      <td>13.666667</td>\n",
       "      <td>0.0</td>\n",
       "    </tr>\n",
       "    <tr>\n",
       "      <th>23908</th>\n",
       "      <td>99</td>\n",
       "      <td>UK</td>\n",
       "      <td>B0BF62M27B</td>\n",
       "      <td>B0BC6DL1FW</td>\n",
       "      <td>0.0</td>\n",
       "      <td>13.666667</td>\n",
       "      <td>0.0</td>\n",
       "    </tr>\n",
       "    <tr>\n",
       "      <th>23909</th>\n",
       "      <td>99</td>\n",
       "      <td>UK</td>\n",
       "      <td>B0BF75P7MZ</td>\n",
       "      <td>B0BC6DL1FW</td>\n",
       "      <td>0.0</td>\n",
       "      <td>13.666667</td>\n",
       "      <td>0.0</td>\n",
       "    </tr>\n",
       "    <tr>\n",
       "      <th>23910</th>\n",
       "      <td>99</td>\n",
       "      <td>UK</td>\n",
       "      <td>B0BFH6D9XB</td>\n",
       "      <td>B0BC6DL1FW</td>\n",
       "      <td>0.0</td>\n",
       "      <td>13.666667</td>\n",
       "      <td>0.0</td>\n",
       "    </tr>\n",
       "  </tbody>\n",
       "</table>\n",
       "<p>219 rows × 7 columns</p>\n",
       "</div>"
      ],
      "text/plain": [
       "       sess_id sess_locale     product   last_item  counts  counts_cum  \\\n",
       "23692       99          UK  B0045XDSZM  B0BC6DL1FW     0.0   13.666667   \n",
       "23693       99          UK  B004605SE8  B0BC6DL1FW     0.0   13.666667   \n",
       "23694       99          UK  B0053Y8M1W  B0BC6DL1FW     0.0   13.666667   \n",
       "23695       99          UK  B007PS6O28  B0BC6DL1FW     0.0   13.666667   \n",
       "23696       99          UK  B0081Q3YN0  B0BC6DL1FW     0.0   13.666667   \n",
       "...        ...         ...         ...         ...     ...         ...   \n",
       "23906       99          UK  B0BF15FRZT  B0BC6DL1FW     0.0   13.666667   \n",
       "23907       99          UK  B0BF15JRSV  B0BC6DL1FW     0.0   13.666667   \n",
       "23908       99          UK  B0BF62M27B  B0BC6DL1FW     0.0   13.666667   \n",
       "23909       99          UK  B0BF75P7MZ  B0BC6DL1FW     0.0   13.666667   \n",
       "23910       99          UK  B0BFH6D9XB  B0BC6DL1FW     0.0   13.666667   \n",
       "\n",
       "       normalized_counts  \n",
       "23692                0.0  \n",
       "23693                0.0  \n",
       "23694                0.0  \n",
       "23695                0.0  \n",
       "23696                0.0  \n",
       "...                  ...  \n",
       "23906                0.0  \n",
       "23907                0.0  \n",
       "23908                0.0  \n",
       "23909                0.0  \n",
       "23910                0.0  \n",
       "\n",
       "[219 rows x 7 columns]"
      ]
     },
     "execution_count": 48,
     "metadata": {},
     "output_type": "execute_result"
    }
   ],
   "source": [
    "merged_candidates_uni_dis1.query(\"sess_id==99\")"
   ]
  },
  {
   "cell_type": "code",
   "execution_count": 49,
   "metadata": {},
   "outputs": [
    {
     "data": {
      "text/plain": [
       "13.666666666666666"
      ]
     },
     "execution_count": 49,
     "metadata": {},
     "output_type": "execute_result"
    }
   ],
   "source": [
    "merged_candidates_uni_dis1.query(\"sess_id==99\")['counts'].sum()"
   ]
  },
  {
   "cell_type": "code",
   "execution_count": 52,
   "metadata": {},
   "outputs": [
    {
     "data": {
      "text/plain": [
       "(1.8333333333333333, 0.13414634146341464)"
      ]
     },
     "execution_count": 52,
     "metadata": {},
     "output_type": "execute_result"
    }
   ],
   "source": [
    "merged_candidates_uni_dis1.query(\"sess_id==99\")['counts'].max(), merged_candidates_uni_dis1.query(\"sess_id==99\")['normalized_counts'].max()"
   ]
  },
  {
   "cell_type": "code",
   "execution_count": null,
   "metadata": {},
   "outputs": [],
   "source": [
    "merged_candidates_feature_test.query('sess_id==20000').sort_values(by=['sasrec_scores_2'], ascending=False)[['product', 'sasrec_scores_2', 'co_graph_counts_2', 'normalized_co_graph_counts_2']][:25]"
   ]
  }
 ],
 "metadata": {
  "kernelspec": {
   "display_name": "huangxu",
   "language": "python",
   "name": "python3"
  },
  "language_info": {
   "codemirror_mode": {
    "name": "ipython",
    "version": 3
   },
   "file_extension": ".py",
   "mimetype": "text/x-python",
   "name": "python",
   "nbconvert_exporter": "python",
   "pygments_lexer": "ipython3",
   "version": "3.9.16"
  },
  "orig_nbformat": 4
 },
 "nbformat": 4,
 "nbformat_minor": 2
}
