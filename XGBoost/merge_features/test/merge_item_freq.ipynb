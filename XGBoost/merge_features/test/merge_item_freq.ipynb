{
 "cells": [
  {
   "cell_type": "code",
   "execution_count": 1,
   "metadata": {
    "execution": {
     "iopub.execute_input": "2023-06-01T12:49:43.184265Z",
     "iopub.status.busy": "2023-06-01T12:49:43.183200Z",
     "iopub.status.idle": "2023-06-01T12:49:45.461469Z",
     "shell.execute_reply": "2023-06-01T12:49:45.460205Z"
    }
   },
   "outputs": [],
   "source": [
    "import os\n",
    "import random\n",
    "import numpy as np\n",
    "import pandas as pd\n",
    "import cudf, itertools\n",
    "import scipy.sparse as ssp\n",
    "from functools import lru_cache\n",
    "from tqdm import tqdm, trange\n",
    "from collections import Counter, defaultdict"
   ]
  },
  {
   "cell_type": "code",
   "execution_count": 19,
   "metadata": {
    "execution": {
     "iopub.execute_input": "2023-06-01T12:49:45.470917Z",
     "iopub.status.busy": "2023-06-01T12:49:45.468838Z",
     "iopub.status.idle": "2023-06-01T12:49:45.485387Z",
     "shell.execute_reply": "2023-06-01T12:49:45.484097Z"
    }
   },
   "outputs": [],
   "source": [
    "def cast_dtype(df : pd.DataFrame, columns=None):\n",
    "    if columns is None:\n",
    "        columns = df.columns\n",
    "    for k in columns:\n",
    "        dt = type(df[k].iloc[0])\n",
    "        if 'float' in str(dt):\n",
    "            df[k] = df[k].astype('float32')\n",
    "        elif 'int' in str(dt):\n",
    "            df[k] = df[k].astype('int32')\n",
    "        elif dt == list:\n",
    "            dt_ = type(df.iloc[0][k][0])\n",
    "            if 'float' in str(dt_):\n",
    "                df[k] = df[k].apply(lambda x : np.array(x, dtype=np.float32))\n",
    "            elif 'int' in str(dt_):\n",
    "                df[k] = df[k].apply(lambda x : np.array(x, dtype=np.int32))"
   ]
  },
  {
   "cell_type": "code",
   "execution_count": 3,
   "metadata": {
    "execution": {
     "iopub.execute_input": "2023-06-01T12:49:45.492593Z",
     "iopub.status.busy": "2023-06-01T12:49:45.491873Z",
     "iopub.status.idle": "2023-06-01T12:49:45.502692Z",
     "shell.execute_reply": "2023-06-01T12:49:45.501147Z"
    }
   },
   "outputs": [],
   "source": [
    "def cal_item_freq(item_counter:Counter, session_df:pd.DataFrame, test=False):\n",
    "    for sess in tqdm(session_df.itertuples(), total=session_df.shape[0]):\n",
    "        prev_items = eval(sess.prev_items.replace(' ', ','))\n",
    "        for item in prev_items:\n",
    "            item_counter[item] += 1\n",
    "        if not test:\n",
    "            next_item = sess.next_item \n",
    "            item_counter[next_item] += 1 "
   ]
  },
  {
   "cell_type": "code",
   "execution_count": 4,
   "metadata": {},
   "outputs": [],
   "source": [
    "def cal_next_item_freq(item_counter:Counter, session_df:pd.DataFrame):\n",
    "    for sess in tqdm(session_df.itertuples(), total=session_df.shape[0]):\n",
    "        next_item = sess.next_item\n",
    "        item_counter[next_item] += 1 "
   ]
  },
  {
   "attachments": {},
   "cell_type": "markdown",
   "metadata": {},
   "source": [
    "# Merge test item frequency"
   ]
  },
  {
   "cell_type": "code",
   "execution_count": 5,
   "metadata": {
    "execution": {
     "iopub.execute_input": "2023-06-01T12:49:45.511277Z",
     "iopub.status.busy": "2023-06-01T12:49:45.510405Z",
     "iopub.status.idle": "2023-06-01T12:49:45.518386Z",
     "shell.execute_reply": "2023-06-01T12:49:45.517189Z"
    }
   },
   "outputs": [],
   "source": [
    "merged_candidates_feature_test_path = '/root/autodl-tmp/xiaolong/WorkSpace/Amazon-KDDCUP-23/XGBoost/candidates_phase2/merged_candidates_150_test_feature.parquet'\n",
    "valid_sessions_path = '/root/autodl-tmp/xiaolong/WorkSpace/Amazon-KDDCUP-23/data_for_recstudio/task1_data/task13_4_task1_valid_sessions_phase2.csv'\n",
    "train_sessions_path = '/root/autodl-tmp/xiaolong/WorkSpace/Amazon-KDDCUP-23/data_for_recstudio/task1_data/task13_4_task1_train_sessions_phase2.csv'\n",
    "test_sessions_path = '/root/autodl-tmp/xiaolong/WorkSpace/Amazon-KDDCUP-23/raw_data/sessions_test_task1_phase2.csv'"
   ]
  },
  {
   "cell_type": "code",
   "execution_count": 6,
   "metadata": {
    "execution": {
     "iopub.execute_input": "2023-06-01T12:49:45.525061Z",
     "iopub.status.busy": "2023-06-01T12:49:45.524188Z",
     "iopub.status.idle": "2023-06-01T12:49:45.535650Z",
     "shell.execute_reply": "2023-06-01T12:49:45.534722Z"
    }
   },
   "outputs": [],
   "source": [
    "@lru_cache(maxsize=1)\n",
    "def read_merged_candidates_feature_test():\n",
    "    return pd.read_parquet(merged_candidates_feature_test_path, engine='pyarrow')\n",
    "\n",
    "@lru_cache(maxsize=1)\n",
    "def read_valid_sessions():\n",
    "    return pd.read_csv(valid_sessions_path)\n",
    "\n",
    "@lru_cache(maxsize=1)\n",
    "def read_train_sessions():\n",
    "    return pd.read_csv(train_sessions_path)\n",
    "\n",
    "@lru_cache(maxsize=1)\n",
    "def read_test_sessions():\n",
    "    return pd.read_csv(test_sessions_path)"
   ]
  },
  {
   "cell_type": "code",
   "execution_count": 8,
   "metadata": {
    "execution": {
     "iopub.execute_input": "2023-06-01T12:49:45.542217Z",
     "iopub.status.busy": "2023-06-01T12:49:45.541778Z",
     "iopub.status.idle": "2023-06-01T12:50:28.461326Z",
     "shell.execute_reply": "2023-06-01T12:50:28.459069Z"
    }
   },
   "outputs": [],
   "source": [
    "merged_candidates_feature = read_merged_candidates_feature_test()\n",
    "valid_sessions_df = read_valid_sessions()\n",
    "train_sessions_df = read_train_sessions()\n",
    "test_sessions_df = read_test_sessions()"
   ]
  },
  {
   "cell_type": "code",
   "execution_count": 9,
   "metadata": {
    "execution": {
     "iopub.execute_input": "2023-06-01T12:50:28.469100Z",
     "iopub.status.busy": "2023-06-01T12:50:28.468624Z",
     "iopub.status.idle": "2023-06-01T12:54:38.078777Z",
     "shell.execute_reply": "2023-06-01T12:54:38.077579Z"
    }
   },
   "outputs": [
    {
     "name": "stderr",
     "output_type": "stream",
     "text": [
      "100%|██████████| 3966659/3966659 [01:56<00:00, 33989.45it/s]\n",
      "100%|██████████| 261816/261816 [00:00<00:00, 295398.96it/s]\n"
     ]
    }
   ],
   "source": [
    "# test sessions are included in train and valid sessions\n",
    "item_counter = Counter()\n",
    "cal_item_freq(item_counter, train_sessions_df, test=False)\n",
    "cal_next_item_freq(item_counter, valid_sessions_df)\n",
    "# cal_item_freq(item_counter, valid_sessions_df, test=True)\n",
    "# cal_item_freq(item_counter, valid_sessions_df, test=False)"
   ]
  },
  {
   "cell_type": "code",
   "execution_count": null,
   "metadata": {
    "execution": {
     "iopub.execute_input": "2023-06-01T12:54:38.089970Z",
     "iopub.status.busy": "2023-06-01T12:54:38.089453Z",
     "iopub.status.idle": "2023-06-01T12:55:01.204062Z",
     "shell.execute_reply": "2023-06-01T12:55:01.202938Z"
    }
   },
   "outputs": [],
   "source": [
    "# cal_item_freq(item_counter, test_sessions_df, test=True)"
   ]
  },
  {
   "cell_type": "code",
   "execution_count": 10,
   "metadata": {
    "execution": {
     "iopub.execute_input": "2023-06-01T12:55:01.212304Z",
     "iopub.status.busy": "2023-06-01T12:55:01.211894Z",
     "iopub.status.idle": "2023-06-01T12:55:03.425165Z",
     "shell.execute_reply": "2023-06-01T12:55:03.424296Z"
    }
   },
   "outputs": [],
   "source": [
    "products, counts = zip(*item_counter.items())\n",
    "item_freq_df = pd.DataFrame({'product' : products, 'product_freq' : counts})"
   ]
  },
  {
   "cell_type": "code",
   "execution_count": null,
   "metadata": {
    "execution": {
     "iopub.execute_input": "2023-06-01T12:55:03.432463Z",
     "iopub.status.busy": "2023-06-01T12:55:03.431937Z",
     "iopub.status.idle": "2023-06-01T12:55:03.436172Z",
     "shell.execute_reply": "2023-06-01T12:55:03.435360Z"
    }
   },
   "outputs": [],
   "source": [
    "# item_freq_df_g = cudf.from_pandas(item_freq_df)\n",
    "# merged_candidates_feature_g = cudf.from_pandas(merged_candidates_feature_test)"
   ]
  },
  {
   "cell_type": "code",
   "execution_count": null,
   "metadata": {
    "execution": {
     "iopub.execute_input": "2023-06-01T12:55:03.443177Z",
     "iopub.status.busy": "2023-06-01T12:55:03.442716Z",
     "iopub.status.idle": "2023-06-01T12:55:03.446757Z",
     "shell.execute_reply": "2023-06-01T12:55:03.445964Z"
    }
   },
   "outputs": [],
   "source": [
    "# merged_candidates_freq_g = merged_candidates_feature_g.merge(item_freq_df_g, how='left', left_on=['product'], right_on=['product'])\n",
    "# merged_candidates_freq_g = merged_candidates_freq_g.sort_values(by=['sess_id', 'product']).reset_index(drop=True)\n",
    "# merged_candidates_freq_g['product_freq'] = merged_candidates_freq_g['product_freq'].fillna(0)\n",
    "# cast_dtype(merged_candidates_freq_g)"
   ]
  },
  {
   "cell_type": "code",
   "execution_count": 11,
   "metadata": {},
   "outputs": [],
   "source": [
    "merged_candidates = merged_candidates_feature[['sess_id', 'sess_locale', 'product']]"
   ]
  },
  {
   "cell_type": "code",
   "execution_count": 12,
   "metadata": {
    "execution": {
     "iopub.execute_input": "2023-06-01T12:55:03.455375Z",
     "iopub.status.busy": "2023-06-01T12:55:03.454956Z",
     "iopub.status.idle": "2023-06-01T12:57:49.468000Z",
     "shell.execute_reply": "2023-06-01T12:57:49.466803Z"
    }
   },
   "outputs": [],
   "source": [
    "merged_candidates_freq = merged_candidates.merge(item_freq_df, how='left', left_on=['product'], right_on=['product'])\n",
    "merged_candidates_freq = merged_candidates_freq.sort_values(by=['sess_id', 'product']).reset_index(drop=True)\n",
    "merged_candidates_freq['product_freq'] = merged_candidates_freq['product_freq'].fillna(0)"
   ]
  },
  {
   "cell_type": "code",
   "execution_count": 14,
   "metadata": {},
   "outputs": [
    {
     "data": {
      "text/plain": [
       "0             11.0\n",
       "1            125.0\n",
       "2           1103.0\n",
       "3             25.0\n",
       "4             52.0\n",
       "             ...  \n",
       "96556030       4.0\n",
       "96556031       5.0\n",
       "96556032      45.0\n",
       "96556033      23.0\n",
       "96556034      24.0\n",
       "Name: product_freq, Length: 96556035, dtype: float64"
      ]
     },
     "execution_count": 14,
     "metadata": {},
     "output_type": "execute_result"
    }
   ],
   "source": [
    "merged_candidates_freq['product_freq']"
   ]
  },
  {
   "cell_type": "code",
   "execution_count": 13,
   "metadata": {},
   "outputs": [
    {
     "data": {
      "text/plain": [
       "0             11.0\n",
       "1            123.0\n",
       "2           1095.0\n",
       "3             25.0\n",
       "4             51.0\n",
       "             ...  \n",
       "96556030       4.0\n",
       "96556031       5.0\n",
       "96556032      44.0\n",
       "96556033      23.0\n",
       "96556034      24.0\n",
       "Name: product_freq, Length: 96556035, dtype: float32"
      ]
     },
     "execution_count": 13,
     "metadata": {},
     "output_type": "execute_result"
    }
   ],
   "source": [
    "merged_candidates_feature['product_freq']"
   ]
  },
  {
   "cell_type": "code",
   "execution_count": 15,
   "metadata": {},
   "outputs": [],
   "source": [
    "merged_candidates_feature['product_freq'] = merged_candidates_freq['product_freq']"
   ]
  },
  {
   "cell_type": "code",
   "execution_count": 20,
   "metadata": {
    "execution": {
     "iopub.execute_input": "2023-06-01T12:57:49.472784Z",
     "iopub.status.busy": "2023-06-01T12:57:49.472329Z",
     "iopub.status.idle": "2023-06-01T12:58:18.749055Z",
     "shell.execute_reply": "2023-06-01T12:58:18.747938Z"
    }
   },
   "outputs": [],
   "source": [
    "# merged_candidates_freq = merged_candidates_freq_g.to_pandas()\n",
    "cast_dtype(merged_candidates_feature, ['product_freq'])\n",
    "merged_candidates_feature.to_parquet(merged_candidates_feature_test_path, engine='pyarrow')"
   ]
  },
  {
   "cell_type": "code",
   "execution_count": 23,
   "metadata": {
    "execution": {
     "iopub.execute_input": "2023-06-01T12:58:18.754111Z",
     "iopub.status.busy": "2023-06-01T12:58:18.753674Z",
     "iopub.status.idle": "2023-06-01T12:58:18.758504Z",
     "shell.execute_reply": "2023-06-01T12:58:18.757645Z"
    }
   },
   "outputs": [],
   "source": [
    "# del item_freq_df_g\n",
    "# del merged_candidates_feature_g\n",
    "# del merged_candidates_freq_g"
   ]
  },
  {
   "cell_type": "code",
   "execution_count": 22,
   "metadata": {},
   "outputs": [
    {
     "data": {
      "text/plain": [
       "0             11.0\n",
       "1            125.0\n",
       "2           1103.0\n",
       "3             25.0\n",
       "4             52.0\n",
       "             ...  \n",
       "96556030       4.0\n",
       "96556031       5.0\n",
       "96556032      45.0\n",
       "96556033      23.0\n",
       "96556034      24.0\n",
       "Name: product_freq, Length: 96556035, dtype: float32"
      ]
     },
     "execution_count": 22,
     "metadata": {},
     "output_type": "execute_result"
    }
   ],
   "source": [
    "merged_candidates_feature['product_freq']"
   ]
  },
  {
   "cell_type": "code",
   "execution_count": 24,
   "metadata": {},
   "outputs": [
    {
     "data": {
      "text/html": [
       "<div>\n",
       "<style scoped>\n",
       "    .dataframe tbody tr th:only-of-type {\n",
       "        vertical-align: middle;\n",
       "    }\n",
       "\n",
       "    .dataframe tbody tr th {\n",
       "        vertical-align: top;\n",
       "    }\n",
       "\n",
       "    .dataframe thead th {\n",
       "        text-align: right;\n",
       "    }\n",
       "</style>\n",
       "<table border=\"1\" class=\"dataframe\">\n",
       "  <thead>\n",
       "    <tr style=\"text-align: right;\">\n",
       "      <th></th>\n",
       "      <th>sess_id</th>\n",
       "      <th>sess_locale</th>\n",
       "      <th>product</th>\n",
       "      <th>sasrec_scores_2</th>\n",
       "      <th>normalized_sasrec_scores_2</th>\n",
       "      <th>sasrec_scores_3</th>\n",
       "      <th>normalized_sasrec_scores_3</th>\n",
       "      <th>sess_avg_price</th>\n",
       "      <th>product_price</th>\n",
       "      <th>seqmlp_scores</th>\n",
       "      <th>...</th>\n",
       "      <th>co_graph_counts_1</th>\n",
       "      <th>normalized_co_graph_counts_1</th>\n",
       "      <th>co_graph_counts_2</th>\n",
       "      <th>normalized_co_graph_counts_2</th>\n",
       "      <th>cos_text_bert_scores</th>\n",
       "      <th>text_bert_scores</th>\n",
       "      <th>normalized_text_bert_scores</th>\n",
       "      <th>roberta_scores</th>\n",
       "      <th>normalized_roberta_scores</th>\n",
       "      <th>product_freq</th>\n",
       "    </tr>\n",
       "  </thead>\n",
       "  <tbody>\n",
       "    <tr>\n",
       "      <th>0</th>\n",
       "      <td>0</td>\n",
       "      <td>DE</td>\n",
       "      <td>B000Q87D0Q</td>\n",
       "      <td>0.000000</td>\n",
       "      <td>3.282997e-10</td>\n",
       "      <td>0.000000</td>\n",
       "      <td>6.689660e-10</td>\n",
       "      <td>67.527199</td>\n",
       "      <td>36.761604</td>\n",
       "      <td>0.000000</td>\n",
       "      <td>...</td>\n",
       "      <td>0.000000</td>\n",
       "      <td>0.000000</td>\n",
       "      <td>0.0</td>\n",
       "      <td>0.0</td>\n",
       "      <td>0.000000</td>\n",
       "      <td>0.000000</td>\n",
       "      <td>0.000000e+00</td>\n",
       "      <td>0.000000</td>\n",
       "      <td>0.000000e+00</td>\n",
       "      <td>11.0</td>\n",
       "    </tr>\n",
       "    <tr>\n",
       "      <th>1</th>\n",
       "      <td>0</td>\n",
       "      <td>DE</td>\n",
       "      <td>B000QB30DW</td>\n",
       "      <td>0.501346</td>\n",
       "      <td>5.420036e-10</td>\n",
       "      <td>-0.588501</td>\n",
       "      <td>3.713825e-10</td>\n",
       "      <td>67.527199</td>\n",
       "      <td>9.990000</td>\n",
       "      <td>7.260942</td>\n",
       "      <td>...</td>\n",
       "      <td>0.600000</td>\n",
       "      <td>0.000826</td>\n",
       "      <td>0.0</td>\n",
       "      <td>0.0</td>\n",
       "      <td>0.924509</td>\n",
       "      <td>382.443390</td>\n",
       "      <td>1.724279e-04</td>\n",
       "      <td>278.861938</td>\n",
       "      <td>1.579214e-06</td>\n",
       "      <td>123.0</td>\n",
       "    </tr>\n",
       "    <tr>\n",
       "      <th>2</th>\n",
       "      <td>0</td>\n",
       "      <td>DE</td>\n",
       "      <td>B004BIG55Q</td>\n",
       "      <td>6.917523</td>\n",
       "      <td>3.315223e-07</td>\n",
       "      <td>5.737720</td>\n",
       "      <td>2.076175e-07</td>\n",
       "      <td>67.527199</td>\n",
       "      <td>8.990000</td>\n",
       "      <td>2.454817</td>\n",
       "      <td>...</td>\n",
       "      <td>0.311111</td>\n",
       "      <td>0.000428</td>\n",
       "      <td>0.0</td>\n",
       "      <td>0.0</td>\n",
       "      <td>0.906834</td>\n",
       "      <td>376.119781</td>\n",
       "      <td>3.092420e-07</td>\n",
       "      <td>280.436859</td>\n",
       "      <td>7.628168e-06</td>\n",
       "      <td>1095.0</td>\n",
       "    </tr>\n",
       "    <tr>\n",
       "      <th>3</th>\n",
       "      <td>0</td>\n",
       "      <td>DE</td>\n",
       "      <td>B0053FTNQY</td>\n",
       "      <td>-0.100895</td>\n",
       "      <td>2.967921e-10</td>\n",
       "      <td>1.507319</td>\n",
       "      <td>3.020121e-09</td>\n",
       "      <td>67.527199</td>\n",
       "      <td>36.761604</td>\n",
       "      <td>3.837643</td>\n",
       "      <td>...</td>\n",
       "      <td>0.090909</td>\n",
       "      <td>0.000125</td>\n",
       "      <td>0.0</td>\n",
       "      <td>0.0</td>\n",
       "      <td>0.885923</td>\n",
       "      <td>366.794250</td>\n",
       "      <td>2.755989e-11</td>\n",
       "      <td>279.552673</td>\n",
       "      <td>3.150818e-06</td>\n",
       "      <td>25.0</td>\n",
       "    </tr>\n",
       "    <tr>\n",
       "      <th>4</th>\n",
       "      <td>0</td>\n",
       "      <td>DE</td>\n",
       "      <td>B007QWII1S</td>\n",
       "      <td>3.768980</td>\n",
       "      <td>1.422714e-08</td>\n",
       "      <td>4.594047</td>\n",
       "      <td>6.615662e-08</td>\n",
       "      <td>67.527199</td>\n",
       "      <td>54.950001</td>\n",
       "      <td>4.923371</td>\n",
       "      <td>...</td>\n",
       "      <td>0.000000</td>\n",
       "      <td>0.000000</td>\n",
       "      <td>0.0</td>\n",
       "      <td>0.0</td>\n",
       "      <td>0.904845</td>\n",
       "      <td>377.558044</td>\n",
       "      <td>1.302938e-06</td>\n",
       "      <td>286.498260</td>\n",
       "      <td>3.272302e-03</td>\n",
       "      <td>51.0</td>\n",
       "    </tr>\n",
       "    <tr>\n",
       "      <th>...</th>\n",
       "      <td>...</td>\n",
       "      <td>...</td>\n",
       "      <td>...</td>\n",
       "      <td>...</td>\n",
       "      <td>...</td>\n",
       "      <td>...</td>\n",
       "      <td>...</td>\n",
       "      <td>...</td>\n",
       "      <td>...</td>\n",
       "      <td>...</td>\n",
       "      <td>...</td>\n",
       "      <td>...</td>\n",
       "      <td>...</td>\n",
       "      <td>...</td>\n",
       "      <td>...</td>\n",
       "      <td>...</td>\n",
       "      <td>...</td>\n",
       "      <td>...</td>\n",
       "      <td>...</td>\n",
       "      <td>...</td>\n",
       "      <td>...</td>\n",
       "    </tr>\n",
       "    <tr>\n",
       "      <th>96556030</th>\n",
       "      <td>316971</td>\n",
       "      <td>UK</td>\n",
       "      <td>B0B82N3CQQ</td>\n",
       "      <td>-1.076433</td>\n",
       "      <td>6.007382e-08</td>\n",
       "      <td>-0.457645</td>\n",
       "      <td>1.105378e-07</td>\n",
       "      <td>19.459999</td>\n",
       "      <td>13.990000</td>\n",
       "      <td>6.433315</td>\n",
       "      <td>...</td>\n",
       "      <td>0.000000</td>\n",
       "      <td>0.000000</td>\n",
       "      <td>0.0</td>\n",
       "      <td>0.0</td>\n",
       "      <td>0.979710</td>\n",
       "      <td>421.320526</td>\n",
       "      <td>6.821542e-04</td>\n",
       "      <td>286.819031</td>\n",
       "      <td>3.196098e-03</td>\n",
       "      <td>4.0</td>\n",
       "    </tr>\n",
       "    <tr>\n",
       "      <th>96556031</th>\n",
       "      <td>316971</td>\n",
       "      <td>UK</td>\n",
       "      <td>B0BB9NW3F3</td>\n",
       "      <td>0.000000</td>\n",
       "      <td>1.762683e-07</td>\n",
       "      <td>0.000000</td>\n",
       "      <td>1.746882e-07</td>\n",
       "      <td>19.459999</td>\n",
       "      <td>22.097065</td>\n",
       "      <td>0.000000</td>\n",
       "      <td>...</td>\n",
       "      <td>0.000000</td>\n",
       "      <td>0.000000</td>\n",
       "      <td>0.0</td>\n",
       "      <td>0.0</td>\n",
       "      <td>0.000000</td>\n",
       "      <td>0.000000</td>\n",
       "      <td>0.000000e+00</td>\n",
       "      <td>0.000000</td>\n",
       "      <td>0.000000e+00</td>\n",
       "      <td>5.0</td>\n",
       "    </tr>\n",
       "    <tr>\n",
       "      <th>96556032</th>\n",
       "      <td>316971</td>\n",
       "      <td>UK</td>\n",
       "      <td>B0BDMVKTQ3</td>\n",
       "      <td>-1.079334</td>\n",
       "      <td>5.989980e-08</td>\n",
       "      <td>-1.901198</td>\n",
       "      <td>2.609658e-08</td>\n",
       "      <td>19.459999</td>\n",
       "      <td>41.990002</td>\n",
       "      <td>-1.094359</td>\n",
       "      <td>...</td>\n",
       "      <td>0.000000</td>\n",
       "      <td>0.000000</td>\n",
       "      <td>0.0</td>\n",
       "      <td>0.0</td>\n",
       "      <td>0.952480</td>\n",
       "      <td>410.857330</td>\n",
       "      <td>1.948851e-08</td>\n",
       "      <td>272.765411</td>\n",
       "      <td>2.518899e-09</td>\n",
       "      <td>44.0</td>\n",
       "    </tr>\n",
       "    <tr>\n",
       "      <th>96556033</th>\n",
       "      <td>316971</td>\n",
       "      <td>UK</td>\n",
       "      <td>B0BHW1D5VP</td>\n",
       "      <td>6.722834</td>\n",
       "      <td>1.465088e-04</td>\n",
       "      <td>6.111193</td>\n",
       "      <td>7.876277e-05</td>\n",
       "      <td>19.459999</td>\n",
       "      <td>26.990000</td>\n",
       "      <td>8.700006</td>\n",
       "      <td>...</td>\n",
       "      <td>0.000000</td>\n",
       "      <td>0.000000</td>\n",
       "      <td>0.0</td>\n",
       "      <td>0.0</td>\n",
       "      <td>0.973597</td>\n",
       "      <td>418.673431</td>\n",
       "      <td>4.833641e-05</td>\n",
       "      <td>285.864410</td>\n",
       "      <td>1.230364e-03</td>\n",
       "      <td>23.0</td>\n",
       "    </tr>\n",
       "    <tr>\n",
       "      <th>96556034</th>\n",
       "      <td>316971</td>\n",
       "      <td>UK</td>\n",
       "      <td>B0BJCZ63CJ</td>\n",
       "      <td>5.107227</td>\n",
       "      <td>2.912156e-05</td>\n",
       "      <td>5.341997</td>\n",
       "      <td>3.649752e-05</td>\n",
       "      <td>19.459999</td>\n",
       "      <td>22.097065</td>\n",
       "      <td>9.393884</td>\n",
       "      <td>...</td>\n",
       "      <td>0.000000</td>\n",
       "      <td>0.000000</td>\n",
       "      <td>0.0</td>\n",
       "      <td>0.0</td>\n",
       "      <td>0.978989</td>\n",
       "      <td>421.208649</td>\n",
       "      <td>6.099491e-04</td>\n",
       "      <td>286.597443</td>\n",
       "      <td>2.560859e-03</td>\n",
       "      <td>24.0</td>\n",
       "    </tr>\n",
       "  </tbody>\n",
       "</table>\n",
       "<p>96556035 rows × 35 columns</p>\n",
       "</div>"
      ],
      "text/plain": [
       "          sess_id sess_locale     product  sasrec_scores_2  \\\n",
       "0               0          DE  B000Q87D0Q         0.000000   \n",
       "1               0          DE  B000QB30DW         0.501346   \n",
       "2               0          DE  B004BIG55Q         6.917523   \n",
       "3               0          DE  B0053FTNQY        -0.100895   \n",
       "4               0          DE  B007QWII1S         3.768980   \n",
       "...           ...         ...         ...              ...   \n",
       "96556030   316971          UK  B0B82N3CQQ        -1.076433   \n",
       "96556031   316971          UK  B0BB9NW3F3         0.000000   \n",
       "96556032   316971          UK  B0BDMVKTQ3        -1.079334   \n",
       "96556033   316971          UK  B0BHW1D5VP         6.722834   \n",
       "96556034   316971          UK  B0BJCZ63CJ         5.107227   \n",
       "\n",
       "          normalized_sasrec_scores_2  sasrec_scores_3  \\\n",
       "0                       3.282997e-10         0.000000   \n",
       "1                       5.420036e-10        -0.588501   \n",
       "2                       3.315223e-07         5.737720   \n",
       "3                       2.967921e-10         1.507319   \n",
       "4                       1.422714e-08         4.594047   \n",
       "...                              ...              ...   \n",
       "96556030                6.007382e-08        -0.457645   \n",
       "96556031                1.762683e-07         0.000000   \n",
       "96556032                5.989980e-08        -1.901198   \n",
       "96556033                1.465088e-04         6.111193   \n",
       "96556034                2.912156e-05         5.341997   \n",
       "\n",
       "          normalized_sasrec_scores_3  sess_avg_price  product_price  \\\n",
       "0                       6.689660e-10       67.527199      36.761604   \n",
       "1                       3.713825e-10       67.527199       9.990000   \n",
       "2                       2.076175e-07       67.527199       8.990000   \n",
       "3                       3.020121e-09       67.527199      36.761604   \n",
       "4                       6.615662e-08       67.527199      54.950001   \n",
       "...                              ...             ...            ...   \n",
       "96556030                1.105378e-07       19.459999      13.990000   \n",
       "96556031                1.746882e-07       19.459999      22.097065   \n",
       "96556032                2.609658e-08       19.459999      41.990002   \n",
       "96556033                7.876277e-05       19.459999      26.990000   \n",
       "96556034                3.649752e-05       19.459999      22.097065   \n",
       "\n",
       "          seqmlp_scores  ...  co_graph_counts_1  normalized_co_graph_counts_1  \\\n",
       "0              0.000000  ...           0.000000                      0.000000   \n",
       "1              7.260942  ...           0.600000                      0.000826   \n",
       "2              2.454817  ...           0.311111                      0.000428   \n",
       "3              3.837643  ...           0.090909                      0.000125   \n",
       "4              4.923371  ...           0.000000                      0.000000   \n",
       "...                 ...  ...                ...                           ...   \n",
       "96556030       6.433315  ...           0.000000                      0.000000   \n",
       "96556031       0.000000  ...           0.000000                      0.000000   \n",
       "96556032      -1.094359  ...           0.000000                      0.000000   \n",
       "96556033       8.700006  ...           0.000000                      0.000000   \n",
       "96556034       9.393884  ...           0.000000                      0.000000   \n",
       "\n",
       "          co_graph_counts_2  normalized_co_graph_counts_2  \\\n",
       "0                       0.0                           0.0   \n",
       "1                       0.0                           0.0   \n",
       "2                       0.0                           0.0   \n",
       "3                       0.0                           0.0   \n",
       "4                       0.0                           0.0   \n",
       "...                     ...                           ...   \n",
       "96556030                0.0                           0.0   \n",
       "96556031                0.0                           0.0   \n",
       "96556032                0.0                           0.0   \n",
       "96556033                0.0                           0.0   \n",
       "96556034                0.0                           0.0   \n",
       "\n",
       "          cos_text_bert_scores  text_bert_scores  normalized_text_bert_scores  \\\n",
       "0                     0.000000          0.000000                 0.000000e+00   \n",
       "1                     0.924509        382.443390                 1.724279e-04   \n",
       "2                     0.906834        376.119781                 3.092420e-07   \n",
       "3                     0.885923        366.794250                 2.755989e-11   \n",
       "4                     0.904845        377.558044                 1.302938e-06   \n",
       "...                        ...               ...                          ...   \n",
       "96556030              0.979710        421.320526                 6.821542e-04   \n",
       "96556031              0.000000          0.000000                 0.000000e+00   \n",
       "96556032              0.952480        410.857330                 1.948851e-08   \n",
       "96556033              0.973597        418.673431                 4.833641e-05   \n",
       "96556034              0.978989        421.208649                 6.099491e-04   \n",
       "\n",
       "          roberta_scores  normalized_roberta_scores  product_freq  \n",
       "0               0.000000               0.000000e+00          11.0  \n",
       "1             278.861938               1.579214e-06         123.0  \n",
       "2             280.436859               7.628168e-06        1095.0  \n",
       "3             279.552673               3.150818e-06          25.0  \n",
       "4             286.498260               3.272302e-03          51.0  \n",
       "...                  ...                        ...           ...  \n",
       "96556030      286.819031               3.196098e-03           4.0  \n",
       "96556031        0.000000               0.000000e+00           5.0  \n",
       "96556032      272.765411               2.518899e-09          44.0  \n",
       "96556033      285.864410               1.230364e-03          23.0  \n",
       "96556034      286.597443               2.560859e-03          24.0  \n",
       "\n",
       "[96556035 rows x 35 columns]"
      ]
     },
     "execution_count": 24,
     "metadata": {},
     "output_type": "execute_result"
    }
   ],
   "source": [
    "merged_candidates_freq"
   ]
  },
  {
   "cell_type": "code",
   "execution_count": null,
   "metadata": {
    "execution": {
     "iopub.execute_input": "2023-06-01T12:58:18.762141Z",
     "iopub.status.busy": "2023-06-01T12:58:18.761769Z",
     "iopub.status.idle": "2023-06-01T12:58:18.883349Z",
     "shell.execute_reply": "2023-06-01T12:58:18.882426Z"
    }
   },
   "outputs": [
    {
     "data": {
      "text/html": [
       "<div>\n",
       "<style scoped>\n",
       "    .dataframe tbody tr th:only-of-type {\n",
       "        vertical-align: middle;\n",
       "    }\n",
       "\n",
       "    .dataframe tbody tr th {\n",
       "        vertical-align: top;\n",
       "    }\n",
       "\n",
       "    .dataframe thead th {\n",
       "        text-align: right;\n",
       "    }\n",
       "</style>\n",
       "<table border=\"1\" class=\"dataframe\">\n",
       "  <thead>\n",
       "    <tr style=\"text-align: right;\">\n",
       "      <th></th>\n",
       "      <th>sess_id</th>\n",
       "      <th>sess_locale</th>\n",
       "      <th>product</th>\n",
       "      <th>product_freq</th>\n",
       "    </tr>\n",
       "  </thead>\n",
       "  <tbody>\n",
       "    <tr>\n",
       "      <th>0</th>\n",
       "      <td>0</td>\n",
       "      <td>DE</td>\n",
       "      <td>B000Q87D0Q</td>\n",
       "      <td>11.0</td>\n",
       "    </tr>\n",
       "    <tr>\n",
       "      <th>1</th>\n",
       "      <td>0</td>\n",
       "      <td>DE</td>\n",
       "      <td>B000QB30DW</td>\n",
       "      <td>114.0</td>\n",
       "    </tr>\n",
       "    <tr>\n",
       "      <th>2</th>\n",
       "      <td>0</td>\n",
       "      <td>DE</td>\n",
       "      <td>B004BIG55Q</td>\n",
       "      <td>1015.0</td>\n",
       "    </tr>\n",
       "    <tr>\n",
       "      <th>3</th>\n",
       "      <td>0</td>\n",
       "      <td>DE</td>\n",
       "      <td>B0053FTNQY</td>\n",
       "      <td>25.0</td>\n",
       "    </tr>\n",
       "    <tr>\n",
       "      <th>4</th>\n",
       "      <td>0</td>\n",
       "      <td>DE</td>\n",
       "      <td>B007QWII1S</td>\n",
       "      <td>44.0</td>\n",
       "    </tr>\n",
       "    <tr>\n",
       "      <th>...</th>\n",
       "      <td>...</td>\n",
       "      <td>...</td>\n",
       "      <td>...</td>\n",
       "      <td>...</td>\n",
       "    </tr>\n",
       "    <tr>\n",
       "      <th>96556030</th>\n",
       "      <td>316971</td>\n",
       "      <td>UK</td>\n",
       "      <td>B0B82N3CQQ</td>\n",
       "      <td>3.0</td>\n",
       "    </tr>\n",
       "    <tr>\n",
       "      <th>96556031</th>\n",
       "      <td>316971</td>\n",
       "      <td>UK</td>\n",
       "      <td>B0BB9NW3F3</td>\n",
       "      <td>5.0</td>\n",
       "    </tr>\n",
       "    <tr>\n",
       "      <th>96556032</th>\n",
       "      <td>316971</td>\n",
       "      <td>UK</td>\n",
       "      <td>B0BDMVKTQ3</td>\n",
       "      <td>41.0</td>\n",
       "    </tr>\n",
       "    <tr>\n",
       "      <th>96556033</th>\n",
       "      <td>316971</td>\n",
       "      <td>UK</td>\n",
       "      <td>B0BHW1D5VP</td>\n",
       "      <td>14.0</td>\n",
       "    </tr>\n",
       "    <tr>\n",
       "      <th>96556034</th>\n",
       "      <td>316971</td>\n",
       "      <td>UK</td>\n",
       "      <td>B0BJCZ63CJ</td>\n",
       "      <td>24.0</td>\n",
       "    </tr>\n",
       "  </tbody>\n",
       "</table>\n",
       "<p>96556035 rows × 4 columns</p>\n",
       "</div>"
      ],
      "text/plain": [
       "          sess_id sess_locale     product  product_freq\n",
       "0               0          DE  B000Q87D0Q          11.0\n",
       "1               0          DE  B000QB30DW         114.0\n",
       "2               0          DE  B004BIG55Q        1015.0\n",
       "3               0          DE  B0053FTNQY          25.0\n",
       "4               0          DE  B007QWII1S          44.0\n",
       "...           ...         ...         ...           ...\n",
       "96556030   316971          UK  B0B82N3CQQ           3.0\n",
       "96556031   316971          UK  B0BB9NW3F3           5.0\n",
       "96556032   316971          UK  B0BDMVKTQ3          41.0\n",
       "96556033   316971          UK  B0BHW1D5VP          14.0\n",
       "96556034   316971          UK  B0BJCZ63CJ          24.0\n",
       "\n",
       "[96556035 rows x 4 columns]"
      ]
     },
     "execution_count": 15,
     "metadata": {},
     "output_type": "execute_result"
    }
   ],
   "source": [
    "merged_candidates_freq"
   ]
  },
  {
   "cell_type": "code",
   "execution_count": null,
   "metadata": {},
   "outputs": [],
   "source": []
  }
 ],
 "metadata": {
  "kernelspec": {
   "display_name": "torch12",
   "language": "python",
   "name": "python3"
  },
  "language_info": {
   "codemirror_mode": {
    "name": "ipython",
    "version": 3
   },
   "file_extension": ".py",
   "mimetype": "text/x-python",
   "name": "python",
   "nbconvert_exporter": "python",
   "pygments_lexer": "ipython3",
   "version": "3.9.15"
  }
 },
 "nbformat": 4,
 "nbformat_minor": 2
}
