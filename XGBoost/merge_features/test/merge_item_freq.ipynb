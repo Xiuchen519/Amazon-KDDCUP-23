{
 "cells": [
  {
   "cell_type": "code",
   "execution_count": 1,
   "metadata": {},
   "outputs": [],
   "source": [
    "import os\n",
    "import random\n",
    "import numpy as np\n",
    "import pandas as pd\n",
    "import cudf, itertools\n",
    "import scipy.sparse as ssp\n",
    "from functools import lru_cache\n",
    "from tqdm import tqdm, trange\n",
    "from collections import Counter, defaultdict"
   ]
  },
  {
   "cell_type": "code",
   "execution_count": 2,
   "metadata": {},
   "outputs": [],
   "source": [
    "merged_candidates_feature_path = '/root/autodl-tmp/xiaolong/WorkSpace/Amazon-KDDCUP-23/XGBoost/candidates/merged_candidates_2_feature.parquet'\n",
    "valid_sessions_path = '/root/autodl-tmp/xiaolong/WorkSpace/Amazon-KDDCUP-23/data_for_recstudio/task1_data/task13_4_task1_valid_sessions.csv'\n",
    "train_sessions_path = '/root/autodl-tmp/xiaolong/WorkSpace/Amazon-KDDCUP-23/data_for_recstudio/task1_data/task13_4_task1_train_sessions.csv'\n",
    "test_sessions_path = '/root/autodl-tmp/xiaolong/WorkSpace/Amazon-KDDCUP-23/raw_data/sessions_test_task1.csv'"
   ]
  },
  {
   "cell_type": "code",
   "execution_count": 3,
   "metadata": {},
   "outputs": [],
   "source": [
    "@lru_cache(maxsize=1)\n",
    "def read_merged_candidates_feature():\n",
    "    return pd.read_parquet(merged_candidates_feature_path, engine='pyarrow')\n",
    "\n",
    "@lru_cache(maxsize=1)\n",
    "def read_valid_sessions():\n",
    "    return pd.read_csv(valid_sessions_path)\n",
    "\n",
    "@lru_cache(maxsize=1)\n",
    "def read_train_sessions():\n",
    "    return pd.read_csv(train_sessions_path)"
   ]
  },
  {
   "cell_type": "code",
   "execution_count": 4,
   "metadata": {},
   "outputs": [],
   "source": [
    "def cast_dtype(df : pd.DataFrame):\n",
    "    for k in df.columns:\n",
    "        dt = type(df[k].iloc[0])\n",
    "        if 'float' in str(dt):\n",
    "            df[k] = df[k].astype('float32')\n",
    "        elif 'int' in str(dt):\n",
    "            df[k] = df[k].astype('int32')\n",
    "        elif dt == list:\n",
    "            dt_ = type(df.iloc[0][k][0])\n",
    "            if 'float' in str(dt_):\n",
    "                df[k] = df[k].apply(lambda x : np.array(x, dtype=np.float32))\n",
    "            elif 'int' in str(dt_):\n",
    "                df[k] = df[k].apply(lambda x : np.array(x, dtype=np.int32))"
   ]
  },
  {
   "cell_type": "code",
   "execution_count": 5,
   "metadata": {},
   "outputs": [],
   "source": [
    "def cal_item_freq(item_counter:Counter, session_df:pd.DataFrame, test=False):\n",
    "    for i in tqdm(range(session_df.shape[0])):\n",
    "        sess = session_df.iloc[i]\n",
    "        prev_items = eval(sess['prev_items'].replace(' ', ','))\n",
    "        for item in prev_items:\n",
    "            item_counter[item] += 1\n",
    "        if not test:\n",
    "            next_item = sess['next_item'] \n",
    "            item_counter[next_item] += 1 "
   ]
  },
  {
   "attachments": {},
   "cell_type": "markdown",
   "metadata": {},
   "source": [
    "# Merge test item frequency"
   ]
  },
  {
   "cell_type": "code",
   "execution_count": 6,
   "metadata": {},
   "outputs": [],
   "source": [
    "merged_candidates_feature_test_path = '/root/autodl-tmp/xiaolong/WorkSpace/Amazon-KDDCUP-23/XGBoost/candidates/merged_candidates_test_2_feature.parquet'\n",
    "valid_sessions_path = '/root/autodl-tmp/xiaolong/WorkSpace/Amazon-KDDCUP-23/data_for_recstudio/task1_data/task13_4_task1_valid_sessions.csv'\n",
    "train_sessions_path = '/root/autodl-tmp/xiaolong/WorkSpace/Amazon-KDDCUP-23/data_for_recstudio/task1_data/task13_4_task1_train_sessions.csv'\n",
    "test_sessions_path = '/root/autodl-tmp/xiaolong/WorkSpace/Amazon-KDDCUP-23/raw_data/sessions_test_task1.csv'"
   ]
  },
  {
   "cell_type": "code",
   "execution_count": 7,
   "metadata": {},
   "outputs": [],
   "source": [
    "@lru_cache(maxsize=1)\n",
    "def read_merged_candidates_feature_test():\n",
    "    return pd.read_parquet(merged_candidates_feature_test_path, engine='pyarrow')\n",
    "\n",
    "@lru_cache(maxsize=1)\n",
    "def read_valid_sessions():\n",
    "    return pd.read_csv(valid_sessions_path)\n",
    "\n",
    "@lru_cache(maxsize=1)\n",
    "def read_train_sessions():\n",
    "    return pd.read_csv(train_sessions_path)\n",
    "\n",
    "@lru_cache(maxsize=1)\n",
    "def read_test_sessions():\n",
    "    return pd.read_csv(test_sessions_path)"
   ]
  },
  {
   "cell_type": "code",
   "execution_count": 9,
   "metadata": {},
   "outputs": [],
   "source": [
    "merged_candidates_feature = read_merged_candidates_feature_test()\n",
    "valid_sessions_df = read_valid_sessions()\n",
    "train_sessions_df = read_train_sessions()\n",
    "test_sessions_df = read_test_sessions()"
   ]
  },
  {
   "cell_type": "code",
   "execution_count": 10,
   "metadata": {},
   "outputs": [
    {
     "name": "stderr",
     "output_type": "stream",
     "text": [
      "100%|██████████| 3557898/3557898 [03:51<00:00, 15346.24it/s]\n",
      "100%|██████████| 361581/361581 [00:27<00:00, 13360.37it/s]\n"
     ]
    }
   ],
   "source": [
    "# test sessions are included in train and valid sessions\n",
    "item_counter = Counter()\n",
    "cal_item_freq(item_counter, train_sessions_df, test=False)\n",
    "# cal_item_freq(item_counter, valid_sessions_df, test=True)\n",
    "cal_item_freq(item_counter, valid_sessions_df, test=False)\n"
   ]
  },
  {
   "cell_type": "code",
   "execution_count": 11,
   "metadata": {},
   "outputs": [],
   "source": [
    "products, counts = zip(*item_counter.items())\n",
    "item_freq_df = pd.DataFrame({'product' : products, 'product_freq' : counts})"
   ]
  },
  {
   "cell_type": "code",
   "execution_count": 30,
   "metadata": {},
   "outputs": [],
   "source": [
    "# item_freq_df_g = cudf.from_pandas(item_freq_df)\n",
    "# merged_candidates_feature_g = cudf.from_pandas(merged_candidates_feature_test)"
   ]
  },
  {
   "cell_type": "code",
   "execution_count": 32,
   "metadata": {},
   "outputs": [],
   "source": [
    "# merged_candidates_freq_g = merged_candidates_feature_g.merge(item_freq_df_g, how='left', left_on=['product'], right_on=['product'])\n",
    "# merged_candidates_freq_g = merged_candidates_freq_g.sort_values(by=['sess_id', 'product']).reset_index(drop=True)\n",
    "# merged_candidates_freq_g['product_freq'] = merged_candidates_freq_g['product_freq'].fillna(0)\n",
    "# cast_dtype(merged_candidates_freq_g)"
   ]
  },
  {
   "cell_type": "code",
   "execution_count": 12,
   "metadata": {},
   "outputs": [],
   "source": [
    "merged_candidates_freq = merged_candidates_feature.merge(item_freq_df, how='left', left_on=['product'], right_on=['product'])\n",
    "merged_candidates_freq = merged_candidates_freq.sort_values(by=['sess_id', 'product']).reset_index(drop=True)\n",
    "merged_candidates_freq['product_freq'] = merged_candidates_freq['product_freq'].fillna(0)"
   ]
  },
  {
   "cell_type": "code",
   "execution_count": null,
   "metadata": {},
   "outputs": [],
   "source": [
    "# merged_candidates_freq = merged_candidates_freq_g.to_pandas()\n",
    "cast_dtype(merged_candidates_freq)\n",
    "merged_candidates_freq.to_parquet(merged_candidates_feature_test_path, engine='pyarrow')"
   ]
  },
  {
   "cell_type": "code",
   "execution_count": null,
   "metadata": {},
   "outputs": [],
   "source": [
    "# del item_freq_df_g\n",
    "# del merged_candidates_feature_g\n",
    "# del merged_candidates_freq_g"
   ]
  },
  {
   "cell_type": "code",
   "execution_count": 13,
   "metadata": {},
   "outputs": [
    {
     "data": {
      "text/html": [
       "<div>\n",
       "<style scoped>\n",
       "    .dataframe tbody tr th:only-of-type {\n",
       "        vertical-align: middle;\n",
       "    }\n",
       "\n",
       "    .dataframe tbody tr th {\n",
       "        vertical-align: top;\n",
       "    }\n",
       "\n",
       "    .dataframe thead th {\n",
       "        text-align: right;\n",
       "    }\n",
       "</style>\n",
       "<table border=\"1\" class=\"dataframe\">\n",
       "  <thead>\n",
       "    <tr style=\"text-align: right;\">\n",
       "      <th></th>\n",
       "      <th>sess_id</th>\n",
       "      <th>sess_locale</th>\n",
       "      <th>product</th>\n",
       "      <th>sess_avg_price</th>\n",
       "      <th>product_price</th>\n",
       "      <th>product_freq</th>\n",
       "    </tr>\n",
       "  </thead>\n",
       "  <tbody>\n",
       "    <tr>\n",
       "      <th>0</th>\n",
       "      <td>0</td>\n",
       "      <td>DE</td>\n",
       "      <td>B000JG2RAG</td>\n",
       "      <td>25.195269</td>\n",
       "      <td>23.190001</td>\n",
       "      <td>24.0</td>\n",
       "    </tr>\n",
       "    <tr>\n",
       "      <th>1</th>\n",
       "      <td>0</td>\n",
       "      <td>DE</td>\n",
       "      <td>B000RYSOUW</td>\n",
       "      <td>25.195269</td>\n",
       "      <td>6.900000</td>\n",
       "      <td>5.0</td>\n",
       "    </tr>\n",
       "    <tr>\n",
       "      <th>2</th>\n",
       "      <td>0</td>\n",
       "      <td>DE</td>\n",
       "      <td>B000UGZVQM</td>\n",
       "      <td>25.195269</td>\n",
       "      <td>21.990000</td>\n",
       "      <td>4.0</td>\n",
       "    </tr>\n",
       "    <tr>\n",
       "      <th>3</th>\n",
       "      <td>0</td>\n",
       "      <td>DE</td>\n",
       "      <td>B000Z6JN7K</td>\n",
       "      <td>25.195269</td>\n",
       "      <td>13.170000</td>\n",
       "      <td>7.0</td>\n",
       "    </tr>\n",
       "    <tr>\n",
       "      <th>4</th>\n",
       "      <td>0</td>\n",
       "      <td>DE</td>\n",
       "      <td>B003CYK6FU</td>\n",
       "      <td>25.195269</td>\n",
       "      <td>11.990000</td>\n",
       "      <td>4.0</td>\n",
       "    </tr>\n",
       "    <tr>\n",
       "      <th>...</th>\n",
       "      <td>...</td>\n",
       "      <td>...</td>\n",
       "      <td>...</td>\n",
       "      <td>...</td>\n",
       "      <td>...</td>\n",
       "      <td>...</td>\n",
       "    </tr>\n",
       "    <tr>\n",
       "      <th>66438766</th>\n",
       "      <td>316970</td>\n",
       "      <td>UK</td>\n",
       "      <td>B0BJJMGPJ7</td>\n",
       "      <td>16.950001</td>\n",
       "      <td>7.990000</td>\n",
       "      <td>27.0</td>\n",
       "    </tr>\n",
       "    <tr>\n",
       "      <th>66438767</th>\n",
       "      <td>316970</td>\n",
       "      <td>UK</td>\n",
       "      <td>B0BJTQQWLG</td>\n",
       "      <td>16.950001</td>\n",
       "      <td>9.880000</td>\n",
       "      <td>6.0</td>\n",
       "    </tr>\n",
       "    <tr>\n",
       "      <th>66438768</th>\n",
       "      <td>316970</td>\n",
       "      <td>UK</td>\n",
       "      <td>B0BJV3RL4H</td>\n",
       "      <td>16.950001</td>\n",
       "      <td>22.097065</td>\n",
       "      <td>7.0</td>\n",
       "    </tr>\n",
       "    <tr>\n",
       "      <th>66438769</th>\n",
       "      <td>316970</td>\n",
       "      <td>UK</td>\n",
       "      <td>B0BK7SPC84</td>\n",
       "      <td>16.950001</td>\n",
       "      <td>5.960000</td>\n",
       "      <td>0.0</td>\n",
       "    </tr>\n",
       "    <tr>\n",
       "      <th>66438770</th>\n",
       "      <td>316970</td>\n",
       "      <td>UK</td>\n",
       "      <td>B0BKFXSM6Q</td>\n",
       "      <td>16.950001</td>\n",
       "      <td>9.880000</td>\n",
       "      <td>145.0</td>\n",
       "    </tr>\n",
       "  </tbody>\n",
       "</table>\n",
       "<p>66438771 rows × 6 columns</p>\n",
       "</div>"
      ],
      "text/plain": [
       "          sess_id sess_locale     product  sess_avg_price  product_price  \\\n",
       "0               0          DE  B000JG2RAG       25.195269      23.190001   \n",
       "1               0          DE  B000RYSOUW       25.195269       6.900000   \n",
       "2               0          DE  B000UGZVQM       25.195269      21.990000   \n",
       "3               0          DE  B000Z6JN7K       25.195269      13.170000   \n",
       "4               0          DE  B003CYK6FU       25.195269      11.990000   \n",
       "...           ...         ...         ...             ...            ...   \n",
       "66438766   316970          UK  B0BJJMGPJ7       16.950001       7.990000   \n",
       "66438767   316970          UK  B0BJTQQWLG       16.950001       9.880000   \n",
       "66438768   316970          UK  B0BJV3RL4H       16.950001      22.097065   \n",
       "66438769   316970          UK  B0BK7SPC84       16.950001       5.960000   \n",
       "66438770   316970          UK  B0BKFXSM6Q       16.950001       9.880000   \n",
       "\n",
       "          product_freq  \n",
       "0                 24.0  \n",
       "1                  5.0  \n",
       "2                  4.0  \n",
       "3                  7.0  \n",
       "4                  4.0  \n",
       "...                ...  \n",
       "66438766          27.0  \n",
       "66438767           6.0  \n",
       "66438768           7.0  \n",
       "66438769           0.0  \n",
       "66438770         145.0  \n",
       "\n",
       "[66438771 rows x 6 columns]"
      ]
     },
     "execution_count": 13,
     "metadata": {},
     "output_type": "execute_result"
    }
   ],
   "source": [
    "merged_candidates_freq"
   ]
  }
 ],
 "metadata": {
  "kernelspec": {
   "display_name": "torch12",
   "language": "python",
   "name": "python3"
  },
  "language_info": {
   "codemirror_mode": {
    "name": "ipython",
    "version": 3
   },
   "file_extension": ".py",
   "mimetype": "text/x-python",
   "name": "python",
   "nbconvert_exporter": "python",
   "pygments_lexer": "ipython3",
   "version": "3.9.16"
  },
  "orig_nbformat": 4
 },
 "nbformat": 4,
 "nbformat_minor": 2
}
