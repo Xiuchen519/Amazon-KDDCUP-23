{
 "cells": [
  {
   "cell_type": "code",
   "execution_count": 1,
   "metadata": {
    "execution": {
     "iopub.execute_input": "2023-06-01T12:49:43.184265Z",
     "iopub.status.busy": "2023-06-01T12:49:43.183200Z",
     "iopub.status.idle": "2023-06-01T12:49:45.461469Z",
     "shell.execute_reply": "2023-06-01T12:49:45.460205Z"
    }
   },
   "outputs": [],
   "source": [
    "import os\n",
    "import random\n",
    "import numpy as np\n",
    "import pandas as pd\n",
    "import cudf, itertools\n",
    "import scipy.sparse as ssp\n",
    "from functools import lru_cache\n",
    "from tqdm import tqdm, trange\n",
    "from collections import Counter, defaultdict"
   ]
  },
  {
   "cell_type": "code",
   "execution_count": 2,
   "metadata": {
    "execution": {
     "iopub.execute_input": "2023-06-01T12:49:45.470917Z",
     "iopub.status.busy": "2023-06-01T12:49:45.468838Z",
     "iopub.status.idle": "2023-06-01T12:49:45.485387Z",
     "shell.execute_reply": "2023-06-01T12:49:45.484097Z"
    }
   },
   "outputs": [],
   "source": [
    "def cast_dtype(df : pd.DataFrame, columns=None):\n",
    "    if columns is None:\n",
    "        columns = df.columns\n",
    "    for k in columns:\n",
    "        dt = type(df[k].iloc[0])\n",
    "        if 'float' in str(dt):\n",
    "            df[k] = df[k].astype('float32')\n",
    "        elif 'int' in str(dt):\n",
    "            df[k] = df[k].astype('int32')\n",
    "        elif dt == list:\n",
    "            dt_ = type(df.iloc[0][k][0])\n",
    "            if 'float' in str(dt_):\n",
    "                df[k] = df[k].apply(lambda x : np.array(x, dtype=np.float32))\n",
    "            elif 'int' in str(dt_):\n",
    "                df[k] = df[k].apply(lambda x : np.array(x, dtype=np.int32))"
   ]
  },
  {
   "cell_type": "code",
   "execution_count": 3,
   "metadata": {
    "execution": {
     "iopub.execute_input": "2023-06-01T12:49:45.492593Z",
     "iopub.status.busy": "2023-06-01T12:49:45.491873Z",
     "iopub.status.idle": "2023-06-01T12:49:45.502692Z",
     "shell.execute_reply": "2023-06-01T12:49:45.501147Z"
    }
   },
   "outputs": [],
   "source": [
    "def cal_next_item_freq(item_counter:Counter, session_df:pd.DataFrame):\n",
    "    for sess in tqdm(session_df.itertuples(), total=session_df.shape[0]):\n",
    "        next_item = sess.next_item\n",
    "        item_counter[next_item] += 1 "
   ]
  },
  {
   "attachments": {},
   "cell_type": "markdown",
   "metadata": {},
   "source": [
    "# Merge test item frequency"
   ]
  },
  {
   "cell_type": "code",
   "execution_count": 4,
   "metadata": {
    "execution": {
     "iopub.execute_input": "2023-06-01T12:49:45.511277Z",
     "iopub.status.busy": "2023-06-01T12:49:45.510405Z",
     "iopub.status.idle": "2023-06-01T12:49:45.518386Z",
     "shell.execute_reply": "2023-06-01T12:49:45.517189Z"
    }
   },
   "outputs": [],
   "source": [
    "merged_candidates_feature_test_path = '/root/autodl-tmp/xiaolong/WorkSpace/Amazon-KDDCUP-23/XGBoost/candidates_phase2/merged_candidates_150_test_feature.parquet'\n",
    "raw_train_sessions_path = '/root/autodl-tmp/xiaolong/WorkSpace/Amazon-KDDCUP-23/raw_data_split/task13_4_task1_raw_train_sessions_phase2.csv'\n",
    "raw_valid_sessions_path = '/root/autodl-tmp/xiaolong/WorkSpace/Amazon-KDDCUP-23/raw_data_split/task13_4_task1_raw_valid_sessions_phase2.csv'\n",
    "train_sessions_path = '/root/autodl-tmp/xiaolong/WorkSpace/Amazon-KDDCUP-23/data_for_recstudio/task1_data/task13_4_task1_train_sessions_phase2.csv'\n",
    "valid_sessions_path = '/root/autodl-tmp/xiaolong/WorkSpace/Amazon-KDDCUP-23/data_for_recstudio/task1_data/task13_4_task1_valid_sessions_phase2.csv'"
   ]
  },
  {
   "cell_type": "code",
   "execution_count": 5,
   "metadata": {
    "execution": {
     "iopub.execute_input": "2023-06-01T12:49:45.525061Z",
     "iopub.status.busy": "2023-06-01T12:49:45.524188Z",
     "iopub.status.idle": "2023-06-01T12:49:45.535650Z",
     "shell.execute_reply": "2023-06-01T12:49:45.534722Z"
    }
   },
   "outputs": [],
   "source": [
    "@lru_cache(maxsize=1)\n",
    "def read_merged_candidates_feature_test():\n",
    "    return pd.read_parquet(merged_candidates_feature_test_path, engine='pyarrow')\n",
    "\n",
    "@lru_cache(maxsize=1)\n",
    "def read_raw_valid_sessions():\n",
    "    return pd.read_csv(raw_valid_sessions_path)\n",
    "\n",
    "@lru_cache(maxsize=1)\n",
    "def read_raw_train_sessions():\n",
    "    return pd.read_csv(raw_train_sessions_path)\n",
    "\n",
    "@lru_cache(maxsize=1)\n",
    "def read_valid_sessions():\n",
    "    return pd.read_csv(valid_sessions_path)\n",
    "\n",
    "@lru_cache(maxsize=1)\n",
    "def read_train_sessions():\n",
    "    return pd.read_csv(train_sessions_path)"
   ]
  },
  {
   "cell_type": "code",
   "execution_count": 6,
   "metadata": {
    "execution": {
     "iopub.execute_input": "2023-06-01T12:49:45.542217Z",
     "iopub.status.busy": "2023-06-01T12:49:45.541778Z",
     "iopub.status.idle": "2023-06-01T12:50:28.461326Z",
     "shell.execute_reply": "2023-06-01T12:50:28.459069Z"
    }
   },
   "outputs": [],
   "source": [
    "merged_candidates_feature = read_merged_candidates_feature_test()"
   ]
  },
  {
   "cell_type": "code",
   "execution_count": 7,
   "metadata": {},
   "outputs": [],
   "source": [
    "# valid_sessions_df = read_raw_valid_sessions()\n",
    "# train_sessions_df = read_raw_train_sessions()"
   ]
  },
  {
   "cell_type": "code",
   "execution_count": 8,
   "metadata": {},
   "outputs": [],
   "source": [
    "valid_sessions_df = read_valid_sessions()\n",
    "train_sessions_df = read_train_sessions()"
   ]
  },
  {
   "cell_type": "code",
   "execution_count": 9,
   "metadata": {},
   "outputs": [
    {
     "data": {
      "text/plain": [
       "0            3.0\n",
       "1           28.0\n",
       "2           49.0\n",
       "3            5.0\n",
       "4            8.0\n",
       "            ... \n",
       "96556030     0.0\n",
       "96556031     1.0\n",
       "96556032     7.0\n",
       "96556033     2.0\n",
       "96556034     6.0\n",
       "Name: next_freq, Length: 96556035, dtype: float32"
      ]
     },
     "execution_count": 9,
     "metadata": {},
     "output_type": "execute_result"
    }
   ],
   "source": [
    "merged_candidates_feature['next_freq']"
   ]
  },
  {
   "cell_type": "code",
   "execution_count": 10,
   "metadata": {},
   "outputs": [
    {
     "data": {
      "text/plain": [
       "0            3.0\n",
       "1           37.0\n",
       "2           99.0\n",
       "3            6.0\n",
       "4           10.0\n",
       "            ... \n",
       "96556030     0.0\n",
       "96556031     1.0\n",
       "96556032     8.0\n",
       "96556033     4.0\n",
       "96556034     7.0\n",
       "Name: next_freq_, Length: 96556035, dtype: float32"
      ]
     },
     "execution_count": 10,
     "metadata": {},
     "output_type": "execute_result"
    }
   ],
   "source": [
    "merged_candidates_feature['next_freq_']"
   ]
  },
  {
   "cell_type": "code",
   "execution_count": null,
   "metadata": {
    "execution": {
     "iopub.execute_input": "2023-06-01T12:50:28.469100Z",
     "iopub.status.busy": "2023-06-01T12:50:28.468624Z",
     "iopub.status.idle": "2023-06-01T12:54:38.078777Z",
     "shell.execute_reply": "2023-06-01T12:54:38.077579Z"
    }
   },
   "outputs": [],
   "source": [
    "# test sessions are included in train and valid sessions\n",
    "# item_counter = Counter()\n",
    "# cal_next_item_freq(item_counter, train_sessions_df)\n",
    "# cal_next_item_freq(item_counter, valid_sessions_df)\n"
   ]
  },
  {
   "cell_type": "code",
   "execution_count": 11,
   "metadata": {},
   "outputs": [
    {
     "name": "stderr",
     "output_type": "stream",
     "text": [
      "100%|██████████| 3966659/3966659 [00:11<00:00, 334081.70it/s]\n",
      "100%|██████████| 261816/261816 [00:01<00:00, 253234.13it/s]\n"
     ]
    }
   ],
   "source": [
    "item_counter = Counter()\n",
    "cal_next_item_freq(item_counter, train_sessions_df)\n",
    "cal_next_item_freq(item_counter, valid_sessions_df)"
   ]
  },
  {
   "cell_type": "code",
   "execution_count": 12,
   "metadata": {},
   "outputs": [
    {
     "data": {
      "text/plain": [
       "[('B09QFPZ9B7', 229),\n",
       " ('B07QPV9Z7X', 217),\n",
       " ('B00NTCH52W', 213),\n",
       " ('B00CWNMV4G', 209),\n",
       " ('B07N8QY3YH', 188),\n",
       " ('B014I8SSD0', 185),\n",
       " ('B09QFPYX34', 180),\n",
       " ('B099DP3617', 173),\n",
       " ('B09QFJNDQX', 170),\n",
       " ('B019GNUT0C', 169),\n",
       " ('B0B2Q2VVGP', 165),\n",
       " ('B00HZV9WTM', 162),\n",
       " ('B01B8R6PF2', 162),\n",
       " ('B08GWS298V', 160),\n",
       " ('B07H27J698', 158),\n",
       " ('B08CN3G4N9', 155),\n",
       " ('B009ICDU2G', 153),\n",
       " ('B09QFN2DYJ', 152),\n",
       " ('B01N40PO2M', 152),\n",
       " ('B07CZ4DLCP', 150),\n",
       " ('B00MNV8E0C', 148),\n",
       " ('B07P95S37K', 146),\n",
       " ('B00NTCHCU2', 145),\n",
       " ('B0B1MPZWJG', 144),\n",
       " ('B08GYKNCCP', 144),\n",
       " ('B081FWVSG8', 142),\n",
       " ('B01MXLEVR7', 141),\n",
       " ('B078NPDRHL', 141),\n",
       " ('B015AOGP1S', 141),\n",
       " ('B0B2Q4ZRDW', 141),\n",
       " ('B09YCMWPF5', 140),\n",
       " ('B07QS4NMW6', 140),\n",
       " ('B07MLFBJG3', 140),\n",
       " ('B088FSHMQ3', 138),\n",
       " ('B01H1R0K68', 137),\n",
       " ('B09QFZ8KCB', 137),\n",
       " ('B082T6DHB6', 136),\n",
       " ('B09BTKNGN5', 136),\n",
       " ('B082T6P545', 135),\n",
       " ('B07H256MBK', 135),\n",
       " ('B09BQWLDXF', 135),\n",
       " ('B0931VRJT5', 134),\n",
       " ('B07PNL5STG', 133),\n",
       " ('B07TV22X9M', 132),\n",
       " ('B0875NB89J', 132),\n",
       " ('B01N75EALQ', 131),\n",
       " ('B07S829LBX', 130),\n",
       " ('B00CWNMXQW', 130),\n",
       " ('B08F2NDB39', 130),\n",
       " ('B09NRWHM96', 129)]"
      ]
     },
     "execution_count": 12,
     "metadata": {},
     "output_type": "execute_result"
    }
   ],
   "source": [
    "item_counter.most_common(50)"
   ]
  },
  {
   "cell_type": "code",
   "execution_count": 24,
   "metadata": {},
   "outputs": [
    {
     "data": {
      "text/plain": [
       "[('B014I8T0YQ', 88),\n",
       " ('B07QS4NMW6', 87),\n",
       " ('B01N75EALQ', 85),\n",
       " ('B09QFPZ9B7', 85),\n",
       " ('B003JKFEL8', 84),\n",
       " ('B00CWNMV4G', 84),\n",
       " ('B09YCMWPF5', 83),\n",
       " ('B07KXQX3S3', 83),\n",
       " ('B00MNV8E0C', 83),\n",
       " ('B014I8SSD0', 82),\n",
       " ('B09Z4RVLXN', 82),\n",
       " ('B017Q8ZVWK', 81),\n",
       " ('B08PY4KL8V', 80),\n",
       " ('B00NTCHCU2', 80),\n",
       " ('B014I8SIJY', 80),\n",
       " ('B08V4QCBNW', 79),\n",
       " ('B0B244R4KB', 78),\n",
       " ('B015OW3M1W', 78),\n",
       " ('B00NTCH52W', 78),\n",
       " ('B07232M876', 78),\n",
       " ('B082T6K8XX', 77),\n",
       " ('B07H256MBK', 77),\n",
       " ('B07QPV9Z7X', 76),\n",
       " ('B06XZH8SKF', 76),\n",
       " ('B07NWWLP5S', 75),\n",
       " ('B082T6DHB6', 75),\n",
       " ('B07RSCK4XS', 75),\n",
       " ('B093333693', 74),\n",
       " ('B07D9C8NP2', 74),\n",
       " ('B099K6PP31', 74),\n",
       " ('B0B23LW7NV', 73),\n",
       " ('B005FEGYCO', 72),\n",
       " ('B09YMV3TXX', 72),\n",
       " ('B095RTJH1M', 71),\n",
       " ('B00CWNMXQW', 71),\n",
       " ('B0B3CJHNZ5', 70),\n",
       " ('B09QFPYX34', 70),\n",
       " ('B082T6GVKJ', 70),\n",
       " ('B07XXZP2CK', 70),\n",
       " ('B00HZV9WTM', 69),\n",
       " ('B0B3CKH642', 69),\n",
       " ('B09BTKNGN5', 69),\n",
       " ('B078NPDRHL', 69),\n",
       " ('B07H27J698', 69),\n",
       " ('B07QQZD49D', 68),\n",
       " ('B09HYVGFZM', 68),\n",
       " ('B07D3M6892', 68),\n",
       " ('B00LH3DMUO', 68),\n",
       " ('B0000C73CQ', 67),\n",
       " ('B071S5NTDR', 67)]"
      ]
     },
     "execution_count": 24,
     "metadata": {},
     "output_type": "execute_result"
    }
   ],
   "source": [
    "item_counter.most_common(50)"
   ]
  },
  {
   "cell_type": "code",
   "execution_count": 13,
   "metadata": {
    "execution": {
     "iopub.execute_input": "2023-06-01T12:55:01.212304Z",
     "iopub.status.busy": "2023-06-01T12:55:01.211894Z",
     "iopub.status.idle": "2023-06-01T12:55:03.425165Z",
     "shell.execute_reply": "2023-06-01T12:55:03.424296Z"
    }
   },
   "outputs": [],
   "source": [
    "products, counts = zip(*item_counter.items())\n",
    "item_freq_df = pd.DataFrame({'product' : products, 'next_freq_' : counts})"
   ]
  },
  {
   "cell_type": "code",
   "execution_count": 12,
   "metadata": {
    "execution": {
     "iopub.execute_input": "2023-06-01T12:55:03.432463Z",
     "iopub.status.busy": "2023-06-01T12:55:03.431937Z",
     "iopub.status.idle": "2023-06-01T12:55:03.436172Z",
     "shell.execute_reply": "2023-06-01T12:55:03.435360Z"
    }
   },
   "outputs": [],
   "source": [
    "# item_freq_df_g = cudf.from_pandas(item_freq_df)\n",
    "# merged_candidates_feature_g = cudf.from_pandas(merged_candidates_feature_test)"
   ]
  },
  {
   "cell_type": "code",
   "execution_count": 13,
   "metadata": {
    "execution": {
     "iopub.execute_input": "2023-06-01T12:55:03.443177Z",
     "iopub.status.busy": "2023-06-01T12:55:03.442716Z",
     "iopub.status.idle": "2023-06-01T12:55:03.446757Z",
     "shell.execute_reply": "2023-06-01T12:55:03.445964Z"
    }
   },
   "outputs": [],
   "source": [
    "# merged_candidates_freq_g = merged_candidates_feature_g.merge(item_freq_df_g, how='left', left_on=['product'], right_on=['product'])\n",
    "# merged_candidates_freq_g = merged_candidates_freq_g.sort_values(by=['sess_id', 'product']).reset_index(drop=True)\n",
    "# merged_candidates_freq_g['product_freq'] = merged_candidates_freq_g['product_freq'].fillna(0)\n",
    "# cast_dtype(merged_candidates_freq_g)"
   ]
  },
  {
   "cell_type": "code",
   "execution_count": 14,
   "metadata": {},
   "outputs": [],
   "source": [
    "merged_candidates = merged_candidates_feature[['sess_id', 'product', 'sess_locale']]"
   ]
  },
  {
   "cell_type": "code",
   "execution_count": 15,
   "metadata": {
    "execution": {
     "iopub.execute_input": "2023-06-01T12:55:03.455375Z",
     "iopub.status.busy": "2023-06-01T12:55:03.454956Z",
     "iopub.status.idle": "2023-06-01T12:57:49.468000Z",
     "shell.execute_reply": "2023-06-01T12:57:49.466803Z"
    }
   },
   "outputs": [],
   "source": [
    "merged_candidates_next_freq = merged_candidates.merge(item_freq_df, how='left', left_on=['product'], right_on=['product'])\n",
    "merged_candidates_next_freq = merged_candidates_next_freq.sort_values(by=['sess_id', 'product']).reset_index(drop=True)\n",
    "merged_candidates_next_freq['next_freq_'] = merged_candidates_next_freq['next_freq_'].fillna(0)"
   ]
  },
  {
   "cell_type": "code",
   "execution_count": 16,
   "metadata": {},
   "outputs": [],
   "source": [
    "merged_candidates_feature['next_freq_'] = merged_candidates_next_freq['next_freq_']"
   ]
  },
  {
   "cell_type": "code",
   "execution_count": 55,
   "metadata": {
    "execution": {
     "iopub.execute_input": "2023-06-01T12:57:49.472784Z",
     "iopub.status.busy": "2023-06-01T12:57:49.472329Z",
     "iopub.status.idle": "2023-06-01T12:58:18.749055Z",
     "shell.execute_reply": "2023-06-01T12:58:18.747938Z"
    }
   },
   "outputs": [],
   "source": [
    "# merged_candidates_freq = merged_candidates_freq_g.to_pandas()\n",
    "cast_dtype(merged_candidates_feature, ['next_freq_'])\n",
    "merged_candidates_feature.to_parquet(merged_candidates_feature_test_path, engine='pyarrow')"
   ]
  },
  {
   "cell_type": "code",
   "execution_count": null,
   "metadata": {
    "execution": {
     "iopub.execute_input": "2023-06-01T12:58:18.754111Z",
     "iopub.status.busy": "2023-06-01T12:58:18.753674Z",
     "iopub.status.idle": "2023-06-01T12:58:18.758504Z",
     "shell.execute_reply": "2023-06-01T12:58:18.757645Z"
    }
   },
   "outputs": [],
   "source": [
    "# del item_freq_df_g\n",
    "# del merged_candidates_feature_g\n",
    "# del merged_candidates_freq_g"
   ]
  },
  {
   "cell_type": "code",
   "execution_count": 18,
   "metadata": {},
   "outputs": [
    {
     "data": {
      "text/plain": [
       "0             3.0\n",
       "1            39.0\n",
       "2           107.0\n",
       "3             6.0\n",
       "4            11.0\n",
       "            ...  \n",
       "96556030      0.0\n",
       "96556031      1.0\n",
       "96556032      9.0\n",
       "96556033      4.0\n",
       "96556034      7.0\n",
       "Name: next_freq_, Length: 96556035, dtype: float64"
      ]
     },
     "execution_count": 18,
     "metadata": {},
     "output_type": "execute_result"
    }
   ],
   "source": [
    "merged_candidates_next_freq['next_freq_']"
   ]
  },
  {
   "cell_type": "code",
   "execution_count": 56,
   "metadata": {},
   "outputs": [
    {
     "data": {
      "text/plain": [
       "0            3.0\n",
       "1           37.0\n",
       "2           99.0\n",
       "3            6.0\n",
       "4           10.0\n",
       "            ... \n",
       "96556030     0.0\n",
       "96556031     1.0\n",
       "96556032     8.0\n",
       "96556033     4.0\n",
       "96556034     7.0\n",
       "Name: next_freq_, Length: 96556035, dtype: float64"
      ]
     },
     "execution_count": 56,
     "metadata": {},
     "output_type": "execute_result"
    }
   ],
   "source": [
    "merged_candidates_next_freq['next_freq_']"
   ]
  },
  {
   "cell_type": "code",
   "execution_count": 57,
   "metadata": {},
   "outputs": [
    {
     "data": {
      "text/plain": [
       "0            3.0\n",
       "1           37.0\n",
       "2           99.0\n",
       "3            6.0\n",
       "4           10.0\n",
       "            ... \n",
       "96556030     0.0\n",
       "96556031     1.0\n",
       "96556032     8.0\n",
       "96556033     4.0\n",
       "96556034     7.0\n",
       "Name: next_freq_, Length: 96556035, dtype: float32"
      ]
     },
     "execution_count": 57,
     "metadata": {},
     "output_type": "execute_result"
    }
   ],
   "source": [
    "merged_candidates_feature['next_freq_']"
   ]
  },
  {
   "cell_type": "code",
   "execution_count": 51,
   "metadata": {},
   "outputs": [
    {
     "data": {
      "text/plain": [
       "0             3.0\n",
       "1            39.0\n",
       "2           107.0\n",
       "3             6.0\n",
       "4            11.0\n",
       "            ...  \n",
       "96556030      0.0\n",
       "96556031      1.0\n",
       "96556032      9.0\n",
       "96556033      4.0\n",
       "96556034      7.0\n",
       "Name: next_freq_, Length: 96556035, dtype: float32"
      ]
     },
     "execution_count": 51,
     "metadata": {},
     "output_type": "execute_result"
    }
   ],
   "source": [
    "merged_candidates_feature['next_freq_']"
   ]
  },
  {
   "cell_type": "code",
   "execution_count": 30,
   "metadata": {},
   "outputs": [
    {
     "data": {
      "text/plain": [
       "0            3.0\n",
       "1           28.0\n",
       "2           49.0\n",
       "3            5.0\n",
       "4            8.0\n",
       "            ... \n",
       "96556030     0.0\n",
       "96556031     1.0\n",
       "96556032     7.0\n",
       "96556033     2.0\n",
       "96556034     6.0\n",
       "Name: next_freq, Length: 96556035, dtype: float64"
      ]
     },
     "execution_count": 30,
     "metadata": {},
     "output_type": "execute_result"
    }
   ],
   "source": [
    "merged_candidates_feature['next_freq']"
   ]
  },
  {
   "cell_type": "code",
   "execution_count": 13,
   "metadata": {},
   "outputs": [
    {
     "data": {
      "text/plain": [
       "0            3.0\n",
       "1           30.0\n",
       "2           57.0\n",
       "3            5.0\n",
       "4            9.0\n",
       "            ... \n",
       "96556030     0.0\n",
       "96556031     1.0\n",
       "96556032     8.0\n",
       "96556033     2.0\n",
       "96556034     6.0\n",
       "Name: next_freq, Length: 96556035, dtype: float32"
      ]
     },
     "execution_count": 13,
     "metadata": {},
     "output_type": "execute_result"
    }
   ],
   "source": [
    "merged_candidates_feature['next_freq']"
   ]
  },
  {
   "cell_type": "code",
   "execution_count": 19,
   "metadata": {},
   "outputs": [
    {
     "data": {
      "text/plain": [
       "0             3.0\n",
       "1            39.0\n",
       "2           107.0\n",
       "3             6.0\n",
       "4            11.0\n",
       "            ...  \n",
       "96556030      0.0\n",
       "96556031      1.0\n",
       "96556032      9.0\n",
       "96556033      4.0\n",
       "96556034      7.0\n",
       "Name: next_freq_, Length: 96556035, dtype: float32"
      ]
     },
     "execution_count": 19,
     "metadata": {},
     "output_type": "execute_result"
    }
   ],
   "source": [
    "merged_candidates_feature['next_freq_']"
   ]
  },
  {
   "cell_type": "code",
   "execution_count": 20,
   "metadata": {},
   "outputs": [
    {
     "data": {
      "text/plain": [
       "0             11.0\n",
       "1            123.0\n",
       "2           1095.0\n",
       "3             25.0\n",
       "4             51.0\n",
       "             ...  \n",
       "96556030       4.0\n",
       "96556031       5.0\n",
       "96556032      44.0\n",
       "96556033      23.0\n",
       "96556034      24.0\n",
       "Name: product_freq, Length: 96556035, dtype: float32"
      ]
     },
     "execution_count": 20,
     "metadata": {},
     "output_type": "execute_result"
    }
   ],
   "source": [
    "merged_candidates_feature['product_freq']"
   ]
  },
  {
   "cell_type": "code",
   "execution_count": null,
   "metadata": {
    "execution": {
     "iopub.execute_input": "2023-06-01T12:58:18.762141Z",
     "iopub.status.busy": "2023-06-01T12:58:18.761769Z",
     "iopub.status.idle": "2023-06-01T12:58:18.883349Z",
     "shell.execute_reply": "2023-06-01T12:58:18.882426Z"
    }
   },
   "outputs": [
    {
     "data": {
      "text/html": [
       "<div>\n",
       "<style scoped>\n",
       "    .dataframe tbody tr th:only-of-type {\n",
       "        vertical-align: middle;\n",
       "    }\n",
       "\n",
       "    .dataframe tbody tr th {\n",
       "        vertical-align: top;\n",
       "    }\n",
       "\n",
       "    .dataframe thead th {\n",
       "        text-align: right;\n",
       "    }\n",
       "</style>\n",
       "<table border=\"1\" class=\"dataframe\">\n",
       "  <thead>\n",
       "    <tr style=\"text-align: right;\">\n",
       "      <th></th>\n",
       "      <th>sess_id</th>\n",
       "      <th>sess_locale</th>\n",
       "      <th>product</th>\n",
       "      <th>product_freq</th>\n",
       "    </tr>\n",
       "  </thead>\n",
       "  <tbody>\n",
       "    <tr>\n",
       "      <th>0</th>\n",
       "      <td>0</td>\n",
       "      <td>DE</td>\n",
       "      <td>B000Q87D0Q</td>\n",
       "      <td>11.0</td>\n",
       "    </tr>\n",
       "    <tr>\n",
       "      <th>1</th>\n",
       "      <td>0</td>\n",
       "      <td>DE</td>\n",
       "      <td>B000QB30DW</td>\n",
       "      <td>114.0</td>\n",
       "    </tr>\n",
       "    <tr>\n",
       "      <th>2</th>\n",
       "      <td>0</td>\n",
       "      <td>DE</td>\n",
       "      <td>B004BIG55Q</td>\n",
       "      <td>1015.0</td>\n",
       "    </tr>\n",
       "    <tr>\n",
       "      <th>3</th>\n",
       "      <td>0</td>\n",
       "      <td>DE</td>\n",
       "      <td>B0053FTNQY</td>\n",
       "      <td>25.0</td>\n",
       "    </tr>\n",
       "    <tr>\n",
       "      <th>4</th>\n",
       "      <td>0</td>\n",
       "      <td>DE</td>\n",
       "      <td>B007QWII1S</td>\n",
       "      <td>44.0</td>\n",
       "    </tr>\n",
       "    <tr>\n",
       "      <th>...</th>\n",
       "      <td>...</td>\n",
       "      <td>...</td>\n",
       "      <td>...</td>\n",
       "      <td>...</td>\n",
       "    </tr>\n",
       "    <tr>\n",
       "      <th>96556030</th>\n",
       "      <td>316971</td>\n",
       "      <td>UK</td>\n",
       "      <td>B0B82N3CQQ</td>\n",
       "      <td>3.0</td>\n",
       "    </tr>\n",
       "    <tr>\n",
       "      <th>96556031</th>\n",
       "      <td>316971</td>\n",
       "      <td>UK</td>\n",
       "      <td>B0BB9NW3F3</td>\n",
       "      <td>5.0</td>\n",
       "    </tr>\n",
       "    <tr>\n",
       "      <th>96556032</th>\n",
       "      <td>316971</td>\n",
       "      <td>UK</td>\n",
       "      <td>B0BDMVKTQ3</td>\n",
       "      <td>41.0</td>\n",
       "    </tr>\n",
       "    <tr>\n",
       "      <th>96556033</th>\n",
       "      <td>316971</td>\n",
       "      <td>UK</td>\n",
       "      <td>B0BHW1D5VP</td>\n",
       "      <td>14.0</td>\n",
       "    </tr>\n",
       "    <tr>\n",
       "      <th>96556034</th>\n",
       "      <td>316971</td>\n",
       "      <td>UK</td>\n",
       "      <td>B0BJCZ63CJ</td>\n",
       "      <td>24.0</td>\n",
       "    </tr>\n",
       "  </tbody>\n",
       "</table>\n",
       "<p>96556035 rows × 4 columns</p>\n",
       "</div>"
      ],
      "text/plain": [
       "          sess_id sess_locale     product  product_freq\n",
       "0               0          DE  B000Q87D0Q          11.0\n",
       "1               0          DE  B000QB30DW         114.0\n",
       "2               0          DE  B004BIG55Q        1015.0\n",
       "3               0          DE  B0053FTNQY          25.0\n",
       "4               0          DE  B007QWII1S          44.0\n",
       "...           ...         ...         ...           ...\n",
       "96556030   316971          UK  B0B82N3CQQ           3.0\n",
       "96556031   316971          UK  B0BB9NW3F3           5.0\n",
       "96556032   316971          UK  B0BDMVKTQ3          41.0\n",
       "96556033   316971          UK  B0BHW1D5VP          14.0\n",
       "96556034   316971          UK  B0BJCZ63CJ          24.0\n",
       "\n",
       "[96556035 rows x 4 columns]"
      ]
     },
     "execution_count": 15,
     "metadata": {},
     "output_type": "execute_result"
    }
   ],
   "source": [
    "merged_candidates_next_freq"
   ]
  },
  {
   "cell_type": "code",
   "execution_count": 32,
   "metadata": {},
   "outputs": [
    {
     "data": {
      "text/plain": [
       "0             11.0\n",
       "1            123.0\n",
       "2           1095.0\n",
       "3             25.0\n",
       "4             51.0\n",
       "             ...  \n",
       "96556030       4.0\n",
       "96556031       5.0\n",
       "96556032      44.0\n",
       "96556033      23.0\n",
       "96556034      24.0\n",
       "Name: product_freq, Length: 96556035, dtype: float32"
      ]
     },
     "execution_count": 32,
     "metadata": {},
     "output_type": "execute_result"
    }
   ],
   "source": [
    "merged_candidates_feature['product_freq']"
   ]
  },
  {
   "cell_type": "code",
   "execution_count": 33,
   "metadata": {},
   "outputs": [
    {
     "data": {
      "text/plain": [
       "0            3.0\n",
       "1           28.0\n",
       "2           49.0\n",
       "3            5.0\n",
       "4            8.0\n",
       "            ... \n",
       "96556030     0.0\n",
       "96556031     1.0\n",
       "96556032     7.0\n",
       "96556033     2.0\n",
       "96556034     6.0\n",
       "Name: next_freq, Length: 96556035, dtype: float32"
      ]
     },
     "execution_count": 33,
     "metadata": {},
     "output_type": "execute_result"
    }
   ],
   "source": [
    "merged_candidates_feature['next_freq']\n"
   ]
  }
 ],
 "metadata": {
  "kernelspec": {
   "display_name": "torch12",
   "language": "python",
   "name": "python3"
  },
  "language_info": {
   "codemirror_mode": {
    "name": "ipython",
    "version": 3
   },
   "file_extension": ".py",
   "mimetype": "text/x-python",
   "name": "python",
   "nbconvert_exporter": "python",
   "pygments_lexer": "ipython3",
   "version": "3.9.15"
  }
 },
 "nbformat": 4,
 "nbformat_minor": 2
}
