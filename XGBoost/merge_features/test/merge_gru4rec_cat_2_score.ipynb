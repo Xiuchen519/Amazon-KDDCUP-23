{
 "cells": [
  {
   "attachments": {},
   "cell_type": "markdown",
   "metadata": {},
   "source": [
    "use loc[i, field] instead of iloc[i, field], iloc is very slow."
   ]
  },
  {
   "cell_type": "code",
   "execution_count": 1,
   "metadata": {
    "execution": {
     "iopub.execute_input": "2023-06-07T18:14:35.731918Z",
     "iopub.status.busy": "2023-06-07T18:14:35.731412Z",
     "iopub.status.idle": "2023-06-07T18:14:41.258819Z",
     "shell.execute_reply": "2023-06-07T18:14:41.254147Z"
    }
   },
   "outputs": [],
   "source": [
    "import sys\n",
    "sys.path = ['/root/autodl-tmp/xiaolong/WorkSpace/Amazon-KDDCUP-23/RecStudio/'] + sys.path\n",
    "import os\n",
    "os.environ[\"CUDA_VISIBLE_DEVICES\"] = \"4\"\n",
    "import random\n",
    "import numpy as np\n",
    "import pandas as pd\n",
    "import cudf, itertools\n",
    "import scipy.sparse as ssp\n",
    "from functools import lru_cache, partial\n",
    "from tqdm import tqdm, trange\n",
    "from collections import Counter, defaultdict\n",
    "import torch\n",
    "import pickle"
   ]
  },
  {
   "cell_type": "code",
   "execution_count": 2,
   "metadata": {
    "execution": {
     "iopub.execute_input": "2023-06-07T18:14:41.267982Z",
     "iopub.status.busy": "2023-06-07T18:14:41.266055Z",
     "iopub.status.idle": "2023-06-07T18:14:41.280991Z",
     "shell.execute_reply": "2023-06-07T18:14:41.279735Z"
    }
   },
   "outputs": [],
   "source": [
    "def cast_dtype(df : pd.DataFrame, columns=None):\n",
    "    if columns is None:\n",
    "        columns = df.columns\n",
    "    for k in columns:\n",
    "        dt = type(df[k].iloc[0])\n",
    "        if 'float' in str(dt):\n",
    "            df[k] = df[k].astype('float32')\n",
    "        elif 'int' in str(dt):\n",
    "            df[k] = df[k].astype('int32')\n",
    "        elif dt == list:\n",
    "            dt_ = type(df.iloc[0][k][0])\n",
    "            if 'float' in str(dt_):\n",
    "                df[k] = df[k].apply(lambda x : np.array(x, dtype=np.float32))\n",
    "            elif 'int' in str(dt_):\n",
    "                df[k] = df[k].apply(lambda x : np.array(x, dtype=np.int32))"
   ]
  },
  {
   "cell_type": "code",
   "execution_count": 3,
   "metadata": {
    "execution": {
     "iopub.execute_input": "2023-06-07T18:14:41.298451Z",
     "iopub.status.busy": "2023-06-07T18:14:41.297977Z",
     "iopub.status.idle": "2023-06-07T18:14:41.312646Z",
     "shell.execute_reply": "2023-06-07T18:14:41.311392Z"
    }
   },
   "outputs": [],
   "source": [
    "def _load_cache(path):\n",
    "    with open(path, 'rb') as f:\n",
    "        download_obj = pickle.load(f)\n",
    "    return download_obj"
   ]
  },
  {
   "cell_type": "code",
   "execution_count": 4,
   "metadata": {
    "execution": {
     "iopub.execute_input": "2023-06-07T18:14:41.319118Z",
     "iopub.status.busy": "2023-06-07T18:14:41.318515Z",
     "iopub.status.idle": "2023-06-07T18:14:41.329429Z",
     "shell.execute_reply": "2023-06-07T18:14:41.328502Z"
    }
   },
   "outputs": [],
   "source": [
    "def get_scores(merged_candidates_df, query_embeddings, product_embeddings):\n",
    "    batch_size = 2048\n",
    "    num_iter = (len(merged_candidates_df) - 1) // batch_size + 1\n",
    "    score_list = []\n",
    "    with torch.no_grad():\n",
    "        for i in tqdm(range(num_iter)):\n",
    "            st, ed = i * batch_size, (i + 1) * batch_size \n",
    "            batch_sess = merged_candidates_df.iloc[st : ed]\n",
    "            batch_sess_id = torch.tensor(batch_sess['sess_id'].tolist(), dtype=torch.long, device=query_embeddings.device)\n",
    "            batch_product_id = torch.tensor(batch_sess['dataset_id'].tolist(), dtype=torch.long, device=product_embeddings.device)\n",
    "            query_emb = query_embeddings[batch_sess_id]\n",
    "            product_emb = product_embeddings[batch_product_id]\n",
    "            batch_score = (query_emb * product_emb).sum(dim=-1) \n",
    "            score_list.append(batch_score.cpu())\n",
    "        score_list = torch.cat(score_list, dim=0).cpu().tolist()\n",
    "        return score_list "
   ]
  },
  {
   "cell_type": "code",
   "execution_count": 5,
   "metadata": {
    "execution": {
     "iopub.execute_input": "2023-06-07T18:14:41.334227Z",
     "iopub.status.busy": "2023-06-07T18:14:41.333669Z",
     "iopub.status.idle": "2023-06-07T18:14:41.343882Z",
     "shell.execute_reply": "2023-06-07T18:14:41.342908Z"
    }
   },
   "outputs": [],
   "source": [
    "def normalize_scores(score_df, score_name, normalized_score_name):\n",
    "    # score_df_g = cudf.from_pandas(score_df)\n",
    "    score_df['exp_score'] = np.exp(score_df[score_name].to_numpy())\n",
    "    scores_sum = score_df[['sess_id', 'exp_score']].groupby('sess_id').sum()\n",
    "    scores_sum.reset_index(inplace=True)\n",
    "    scores_sum = scores_sum.sort_values(by=['sess_id'], ascending=True)\n",
    "    scores_sum.reset_index(drop=True, inplace=True)\n",
    "    scores_sum.rename(columns={'exp_score' : 'score_sum'}, inplace=True)\n",
    "\n",
    "    merged_score_df = score_df.merge(scores_sum, how='left', left_on=['sess_id'], right_on=['sess_id'])\n",
    "    merged_score_df = merged_score_df.sort_values(by=['sess_id', 'product'])\n",
    "    merged_score_df.reset_index(drop=True, inplace=True)\n",
    "    \n",
    "    # merged_score_df = merged_score_df_g.to_pandas(merged_score_df_g)\n",
    "    score_df[normalized_score_name] = merged_score_df['exp_score'] / merged_score_df['score_sum']\n",
    "    score_df['exp_score'] = merged_score_df['exp_score']\n",
    "    score_df['score_sum'] = merged_score_df['score_sum']\n",
    "\n",
    "    # del scores_sum_g\n",
    "    # del merged_score_df_g "
   ]
  },
  {
   "attachments": {},
   "cell_type": "markdown",
   "metadata": {},
   "source": [
    "# Merge test score"
   ]
  },
  {
   "cell_type": "code",
   "execution_count": 6,
   "metadata": {
    "execution": {
     "iopub.execute_input": "2023-06-07T18:14:41.349045Z",
     "iopub.status.busy": "2023-06-07T18:14:41.348400Z",
     "iopub.status.idle": "2023-06-07T18:14:41.354108Z",
     "shell.execute_reply": "2023-06-07T18:14:41.353098Z"
    }
   },
   "outputs": [],
   "source": [
    "FIELD_NAME = 'gru4rec_cat_scores_2'"
   ]
  },
  {
   "cell_type": "code",
   "execution_count": 7,
   "metadata": {
    "execution": {
     "iopub.execute_input": "2023-06-07T18:14:41.358864Z",
     "iopub.status.busy": "2023-06-07T18:14:41.358302Z",
     "iopub.status.idle": "2023-06-07T18:14:41.363576Z",
     "shell.execute_reply": "2023-06-07T18:14:41.362572Z"
    }
   },
   "outputs": [],
   "source": [
    "merged_candidates_feature_test_path = '/root/autodl-tmp/xiaolong/WorkSpace/Amazon-KDDCUP-23/XGBoost/candidates_phase2/merged_candidates_150_test_feature.parquet'\n",
    "test_sessions_path = '/root/autodl-tmp/xiaolong/WorkSpace/Amazon-KDDCUP-23/raw_data/sessions_test_task1_phase2.csv'"
   ]
  },
  {
   "cell_type": "code",
   "execution_count": 8,
   "metadata": {
    "execution": {
     "iopub.execute_input": "2023-06-07T18:14:41.368515Z",
     "iopub.status.busy": "2023-06-07T18:14:41.367656Z",
     "iopub.status.idle": "2023-06-07T18:14:41.374111Z",
     "shell.execute_reply": "2023-06-07T18:14:41.373259Z"
    }
   },
   "outputs": [],
   "source": [
    "DE_product_embeddings_path = '/root/autodl-tmp/xiaolong/WorkSpace/Amazon-KDDCUP-23/candidates_phase2/query_embeddings/GRU4Rec_Next_Feat/kdd_cup_2023_DE/product_embeddings_2023-06-08-01-16-49.pt'\n",
    "DE_test_embeddings_path = '/root/autodl-tmp/xiaolong/WorkSpace/Amazon-KDDCUP-23/candidates_phase2/query_embeddings/GRU4Rec_Next_Feat/kdd_cup_2023_DE/predict_embeddings_2023-06-08-01-18-05.pt'\n",
    "JP_product_embeddings_path = '/root/autodl-tmp/xiaolong/WorkSpace/Amazon-KDDCUP-23/candidates_phase2/query_embeddings/GRU4Rec_Next_Feat/kdd_cup_2023_JP/product_embeddings_2023-06-08-01-18-44.pt'\n",
    "JP_test_embeddings_path = '/root/autodl-tmp/xiaolong/WorkSpace/Amazon-KDDCUP-23/candidates_phase2/query_embeddings/GRU4Rec_Next_Feat/kdd_cup_2023_JP/predict_embeddings_2023-06-08-01-19-58.pt'\n",
    "UK_product_embeddings_path = '/root/autodl-tmp/xiaolong/WorkSpace/Amazon-KDDCUP-23/candidates_phase2/query_embeddings/GRU4Rec_Next_Feat/kdd_cup_2023_UK/product_embeddings_2023-06-08-01-20-33.pt'\n",
    "UK_test_embeddings_path = '/root/autodl-tmp/xiaolong/WorkSpace/Amazon-KDDCUP-23/candidates_phase2/query_embeddings/GRU4Rec_Next_Feat/kdd_cup_2023_UK/predict_embeddings_2023-06-08-01-21-51.pt'"
   ]
  },
  {
   "cell_type": "code",
   "execution_count": 9,
   "metadata": {
    "execution": {
     "iopub.execute_input": "2023-06-07T18:14:41.384804Z",
     "iopub.status.busy": "2023-06-07T18:14:41.384359Z",
     "iopub.status.idle": "2023-06-07T18:14:41.389691Z",
     "shell.execute_reply": "2023-06-07T18:14:41.388968Z"
    }
   },
   "outputs": [],
   "source": [
    "@lru_cache(maxsize=1)\n",
    "def read_merged_candidates_feature_test():\n",
    "    return pd.read_parquet(merged_candidates_feature_test_path, engine='pyarrow')\n",
    "\n",
    "@lru_cache(maxsize=1)\n",
    "def read_test_sessions():\n",
    "    return pd.read_csv(test_sessions_path)"
   ]
  },
  {
   "cell_type": "code",
   "execution_count": 10,
   "metadata": {
    "execution": {
     "iopub.execute_input": "2023-06-07T18:14:41.404601Z",
     "iopub.status.busy": "2023-06-07T18:14:41.403828Z",
     "iopub.status.idle": "2023-06-07T18:20:16.718291Z",
     "shell.execute_reply": "2023-06-07T18:20:16.699501Z"
    }
   },
   "outputs": [],
   "source": [
    "merged_candidates = read_merged_candidates_feature_test()\n",
    "test_sessions = read_test_sessions()\n",
    "EMBED_DIM = 128\n",
    "merged_candidates.sort_values(by=['sess_id', 'product'], inplace=True)\n",
    "merged_candidates.reset_index(drop=True, inplace=True)"
   ]
  },
  {
   "cell_type": "code",
   "execution_count": 11,
   "metadata": {
    "execution": {
     "iopub.execute_input": "2023-06-07T18:20:16.725837Z",
     "iopub.status.busy": "2023-06-07T18:20:16.725135Z",
     "iopub.status.idle": "2023-06-07T18:20:23.148750Z",
     "shell.execute_reply": "2023-06-07T18:20:23.146846Z"
    }
   },
   "outputs": [],
   "source": [
    "# sess embeddings \n",
    "test_DE_query_emb = torch.load(DE_test_embeddings_path, map_location='cpu')\n",
    "test_JP_query_emb = torch.load(JP_test_embeddings_path, map_location='cpu')\n",
    "test_UK_query_emb = torch.load(UK_test_embeddings_path, map_location='cpu')\n",
    "test_query_embeddings = torch.cat(\n",
    "    [test_DE_query_emb[test_sessions['locale'] == 'DE'], test_JP_query_emb[test_sessions['locale'] == 'JP'], test_UK_query_emb[test_sessions['locale'] == 'UK']],\n",
    "    dim=0)"
   ]
  },
  {
   "cell_type": "code",
   "execution_count": 12,
   "metadata": {
    "execution": {
     "iopub.execute_input": "2023-06-07T18:20:23.164630Z",
     "iopub.status.busy": "2023-06-07T18:20:23.163523Z",
     "iopub.status.idle": "2023-06-07T18:20:23.174300Z",
     "shell.execute_reply": "2023-06-07T18:20:23.173709Z"
    }
   },
   "outputs": [
    {
     "data": {
      "text/plain": [
       "torch.Size([316972, 128])"
      ]
     },
     "execution_count": 12,
     "metadata": {},
     "output_type": "execute_result"
    }
   ],
   "source": [
    "test_query_embeddings.shape"
   ]
  },
  {
   "cell_type": "code",
   "execution_count": 13,
   "metadata": {
    "execution": {
     "iopub.execute_input": "2023-06-07T18:20:23.306186Z",
     "iopub.status.busy": "2023-06-07T18:20:23.305740Z",
     "iopub.status.idle": "2023-06-07T18:20:24.381335Z",
     "shell.execute_reply": "2023-06-07T18:20:24.380463Z"
    }
   },
   "outputs": [],
   "source": [
    "# product embeddings \n",
    "DE_product_emb = torch.load(DE_product_embeddings_path, map_location='cpu')\n",
    "JP_product_emb = torch.load(JP_product_embeddings_path, map_location='cpu')\n",
    "UK_product_emb = torch.load(UK_product_embeddings_path, map_location='cpu')\n",
    "product_embeddings = torch.cat([DE_product_emb, JP_product_emb, UK_product_emb], dim=0)"
   ]
  },
  {
   "cell_type": "code",
   "execution_count": 14,
   "metadata": {
    "execution": {
     "iopub.execute_input": "2023-06-07T18:20:24.387126Z",
     "iopub.status.busy": "2023-06-07T18:20:24.386629Z",
     "iopub.status.idle": "2023-06-07T18:20:54.912461Z",
     "shell.execute_reply": "2023-06-07T18:20:54.910647Z"
    }
   },
   "outputs": [],
   "source": [
    "DE_dataset_cache = '/root/autodl-tmp/xiaolong/WorkSpace/Amazon-KDDCUP-23/.recstudio/cache/b5aeac4e5b9ff0518bbcb59a28086594'\n",
    "JP_dataset_cache = '/root/autodl-tmp/xiaolong/WorkSpace/Amazon-KDDCUP-23/.recstudio/cache/2536617955df215e0047f5b220d1c012'\n",
    "UK_dataset_cache = '/root/autodl-tmp/xiaolong/WorkSpace/Amazon-KDDCUP-23/.recstudio/cache/8d133ea55ad67bd3efd625dfeff0fb1d'\n",
    "DE_train_dataset, DE_valid_dataset = _load_cache(DE_dataset_cache)\n",
    "JP_train_dataset, JP_valid_dataset = _load_cache(JP_dataset_cache)\n",
    "UK_train_dataset, UK_valid_dataset = _load_cache(UK_dataset_cache)\n",
    "locale_map = {\n",
    "    'DE' : DE_train_dataset.field2token2idx['product_id'], \n",
    "    'JP' : JP_train_dataset.field2token2idx['product_id'], \n",
    "    'UK' : UK_train_dataset.field2token2idx['product_id']\n",
    "    }"
   ]
  },
  {
   "cell_type": "code",
   "execution_count": 15,
   "metadata": {
    "execution": {
     "iopub.execute_input": "2023-06-07T18:20:54.941585Z",
     "iopub.status.busy": "2023-06-07T18:20:54.938977Z",
     "iopub.status.idle": "2023-06-07T18:20:59.421688Z",
     "shell.execute_reply": "2023-06-07T18:20:59.420362Z"
    }
   },
   "outputs": [],
   "source": [
    "DE_product_list, DE_id_list = list(zip(*locale_map['DE'].items()))\n",
    "JP_product_list, JP_id_list = list(zip(*locale_map['JP'].items()))\n",
    "UK_product_list, UK_id_list = list(zip(*locale_map['UK'].items()))\n",
    "product_list = list(DE_product_list) + list(JP_product_list) + list(UK_product_list)\n",
    "id_list = list(DE_id_list) + list(JP_id_list) + list(UK_id_list)\n",
    "locale_list = ['DE'] * len(DE_id_list) + ['JP'] * len(JP_id_list) + ['UK'] * len(UK_id_list)\n",
    "product_id_df = pd.DataFrame({'locale' : locale_list, 'product' : product_list, 'dataset_id' : id_list})"
   ]
  },
  {
   "cell_type": "code",
   "execution_count": 16,
   "metadata": {
    "execution": {
     "iopub.execute_input": "2023-06-07T18:20:59.430872Z",
     "iopub.status.busy": "2023-06-07T18:20:59.428409Z",
     "iopub.status.idle": "2023-06-07T18:21:14.760315Z",
     "shell.execute_reply": "2023-06-07T18:21:14.759317Z"
    }
   },
   "outputs": [],
   "source": [
    "merged_candidates_sasrec = merged_candidates[['sess_id', 'sess_locale', 'product']].copy()"
   ]
  },
  {
   "cell_type": "code",
   "execution_count": 17,
   "metadata": {
    "execution": {
     "iopub.execute_input": "2023-06-07T18:21:14.768582Z",
     "iopub.status.busy": "2023-06-07T18:21:14.767437Z",
     "iopub.status.idle": "2023-06-07T18:21:14.773385Z",
     "shell.execute_reply": "2023-06-07T18:21:14.772089Z"
    }
   },
   "outputs": [],
   "source": [
    "# merged_candidates_sasrec_g = cudf.from_pandas(merged_candidates_sasrec)\n",
    "# product_id_df_g = cudf.from_pandas(product_id_df)"
   ]
  },
  {
   "cell_type": "code",
   "execution_count": 18,
   "metadata": {
    "execution": {
     "iopub.execute_input": "2023-06-07T18:21:14.779943Z",
     "iopub.status.busy": "2023-06-07T18:21:14.778290Z",
     "iopub.status.idle": "2023-06-07T18:21:14.786070Z",
     "shell.execute_reply": "2023-06-07T18:21:14.785322Z"
    }
   },
   "outputs": [],
   "source": [
    "# merged_candidates_sasrec_score_g = merged_candidates_sasrec_g.merge(product_id_df_g, how='left', left_on=['sess_locale', 'product'], right_on=['locale', 'product'])\n",
    "# merged_candidates_sasrec_score_g['dataset_id'] = merged_candidates_sasrec_score_g['dataset_id'].fillna(0)\n",
    "# merged_candidates_sasrec_score_g.drop(columns=['locale'], inplace=True)\n",
    "# merged_candidates_sasrec_score_g = merged_candidates_sasrec_score_g.sort_values(by=['sess_id', 'product'])\n",
    "# merged_candidates_sasrec_score_g.reset_index(drop=True, inplace=True)\n",
    "# merged_candidates_sasrec_score = merged_candidates_sasrec_score_g.to_pandas()"
   ]
  },
  {
   "cell_type": "code",
   "execution_count": 19,
   "metadata": {
    "execution": {
     "iopub.execute_input": "2023-06-07T18:21:14.790982Z",
     "iopub.status.busy": "2023-06-07T18:21:14.790344Z",
     "iopub.status.idle": "2023-06-07T18:27:11.258407Z",
     "shell.execute_reply": "2023-06-07T18:27:11.257046Z"
    }
   },
   "outputs": [],
   "source": [
    "merged_candidates_sasrec_score = merged_candidates_sasrec.merge(product_id_df, how='left', left_on=['sess_locale', 'product'], right_on=['locale', 'product'])\n",
    "merged_candidates_sasrec_score['dataset_id'] = merged_candidates_sasrec_score['dataset_id'].fillna(0)\n",
    "merged_candidates_sasrec_score.drop(columns=['locale'], inplace=True)\n",
    "merged_candidates_sasrec_score = merged_candidates_sasrec_score.sort_values(by=['sess_id', 'product'])\n",
    "merged_candidates_sasrec_score.reset_index(drop=True, inplace=True)"
   ]
  },
  {
   "cell_type": "code",
   "execution_count": 20,
   "metadata": {
    "execution": {
     "iopub.execute_input": "2023-06-07T18:27:11.277576Z",
     "iopub.status.busy": "2023-06-07T18:27:11.276385Z",
     "iopub.status.idle": "2023-06-07T18:27:11.282352Z",
     "shell.execute_reply": "2023-06-07T18:27:11.281476Z"
    }
   },
   "outputs": [],
   "source": [
    "# del merged_candidates_sasrec_score_g\n",
    "# del product_id_df_g\n",
    "# del merged_candidates_sasrec_g"
   ]
  },
  {
   "cell_type": "code",
   "execution_count": 21,
   "metadata": {
    "execution": {
     "iopub.execute_input": "2023-06-07T18:27:11.288115Z",
     "iopub.status.busy": "2023-06-07T18:27:11.287571Z",
     "iopub.status.idle": "2023-06-07T18:28:57.201799Z",
     "shell.execute_reply": "2023-06-07T18:28:57.200549Z"
    }
   },
   "outputs": [
    {
     "name": "stderr",
     "output_type": "stream",
     "text": [
      "/tmp/ipykernel_889032/2146751149.py:3: SettingWithCopyWarning: \n",
      "A value is trying to be set on a copy of a slice from a DataFrame\n",
      "\n",
      "See the caveats in the documentation: https://pandas.pydata.org/pandas-docs/stable/user_guide/indexing.html#returning-a-view-versus-a-copy\n",
      "  merged_candidates_sasrec_score['dataset_id'][merged_candidates_sasrec_score['sess_locale'] == locale] = \\\n"
     ]
    }
   ],
   "source": [
    "locale_offset = {'DE' : 0, 'JP' : len(DE_product_list), 'UK' : len(DE_product_list) + len(JP_product_list)}\n",
    "for locale in ['DE', 'JP', 'UK']:\n",
    "    merged_candidates_sasrec_score['dataset_id'][merged_candidates_sasrec_score['sess_locale'] == locale] = \\\n",
    "        merged_candidates_sasrec_score['dataset_id'][merged_candidates_sasrec_score['sess_locale'] == locale] + locale_offset[locale]"
   ]
  },
  {
   "cell_type": "code",
   "execution_count": 22,
   "metadata": {
    "execution": {
     "iopub.execute_input": "2023-06-07T18:28:57.209797Z",
     "iopub.status.busy": "2023-06-07T18:28:57.209084Z",
     "iopub.status.idle": "2023-06-07T18:29:01.580834Z",
     "shell.execute_reply": "2023-06-07T18:29:01.579722Z"
    }
   },
   "outputs": [],
   "source": [
    "test_query_embeddings = test_query_embeddings.to('cuda:0')\n",
    "product_embeddings = product_embeddings.to('cuda:0')"
   ]
  },
  {
   "cell_type": "code",
   "execution_count": 23,
   "metadata": {
    "execution": {
     "iopub.execute_input": "2023-06-07T18:29:01.595289Z",
     "iopub.status.busy": "2023-06-07T18:29:01.587193Z",
     "iopub.status.idle": "2023-06-07T18:32:57.627814Z",
     "shell.execute_reply": "2023-06-07T18:32:57.625235Z"
    }
   },
   "outputs": [
    {
     "name": "stderr",
     "output_type": "stream",
     "text": [
      "  0%|                                                                                                                                              | 0/47147 [00:00<?, ?it/s]/tmp/ipykernel_889032/150055658.py:10: DeprecationWarning: an integer is required (got type float).  Implicit conversion to integers using __int__ is deprecated, and may be removed in a future version of Python.\n",
      "  batch_product_id = torch.tensor(batch_sess['dataset_id'].tolist(), dtype=torch.long, device=product_embeddings.device)\n",
      "100%|█████████████████████████████████████████████████████████████████████████████████████████████████████████████████████████████████| 47147/47147 [03:22<00:00, 232.32it/s]\n"
     ]
    }
   ],
   "source": [
    "merged_candidates_sasrec_score[FIELD_NAME] = get_scores(merged_candidates_sasrec_score, test_query_embeddings, product_embeddings)"
   ]
  },
  {
   "cell_type": "code",
   "execution_count": 24,
   "metadata": {
    "execution": {
     "iopub.execute_input": "2023-06-07T18:32:57.634908Z",
     "iopub.status.busy": "2023-06-07T18:32:57.634160Z",
     "iopub.status.idle": "2023-06-07T18:37:17.284867Z",
     "shell.execute_reply": "2023-06-07T18:37:17.283100Z"
    }
   },
   "outputs": [],
   "source": [
    "normalize_scores(merged_candidates_sasrec_score, FIELD_NAME, 'normalized_'+FIELD_NAME)"
   ]
  },
  {
   "cell_type": "code",
   "execution_count": 25,
   "metadata": {
    "execution": {
     "iopub.execute_input": "2023-06-07T18:37:17.291601Z",
     "iopub.status.busy": "2023-06-07T18:37:17.290665Z",
     "iopub.status.idle": "2023-06-07T18:37:18.939923Z",
     "shell.execute_reply": "2023-06-07T18:37:18.938561Z"
    }
   },
   "outputs": [],
   "source": [
    "merged_candidates[FIELD_NAME] = merged_candidates_sasrec_score[FIELD_NAME]\n",
    "merged_candidates['normalized_'+FIELD_NAME] = merged_candidates_sasrec_score['normalized_'+FIELD_NAME]"
   ]
  },
  {
   "cell_type": "code",
   "execution_count": 26,
   "metadata": {
    "execution": {
     "iopub.execute_input": "2023-06-07T18:37:18.945794Z",
     "iopub.status.busy": "2023-06-07T18:37:18.945064Z",
     "iopub.status.idle": "2023-06-07T18:41:07.849414Z",
     "shell.execute_reply": "2023-06-07T18:41:07.847259Z"
    }
   },
   "outputs": [],
   "source": [
    "cast_dtype(merged_candidates, [FIELD_NAME, 'normalized_'+FIELD_NAME])\n",
    "merged_candidates.to_parquet(merged_candidates_feature_test_path, engine='pyarrow')"
   ]
  },
  {
   "cell_type": "code",
   "execution_count": 27,
   "metadata": {
    "execution": {
     "iopub.execute_input": "2023-06-07T18:41:07.860836Z",
     "iopub.status.busy": "2023-06-07T18:41:07.859394Z",
     "iopub.status.idle": "2023-06-07T18:42:28.113920Z",
     "shell.execute_reply": "2023-06-07T18:42:28.112298Z"
    }
   },
   "outputs": [
    {
     "data": {
      "text/html": [
       "<div>\n",
       "<style scoped>\n",
       "    .dataframe tbody tr th:only-of-type {\n",
       "        vertical-align: middle;\n",
       "    }\n",
       "\n",
       "    .dataframe tbody tr th {\n",
       "        vertical-align: top;\n",
       "    }\n",
       "\n",
       "    .dataframe thead th {\n",
       "        text-align: right;\n",
       "    }\n",
       "</style>\n",
       "<table border=\"1\" class=\"dataframe\">\n",
       "  <thead>\n",
       "    <tr style=\"text-align: right;\">\n",
       "      <th></th>\n",
       "      <th>sess_locale</th>\n",
       "      <th>product</th>\n",
       "      <th>normalized_gru4rec_cat_scores_2</th>\n",
       "      <th>gru4rec_cat_scores_2</th>\n",
       "      <th>normalized_sasrec_scores_2</th>\n",
       "      <th>sasrec_scores_2</th>\n",
       "    </tr>\n",
       "  </thead>\n",
       "  <tbody>\n",
       "    <tr>\n",
       "      <th>39242307</th>\n",
       "      <td>JP</td>\n",
       "      <td>B00KA2NXV6</td>\n",
       "      <td>0.967476</td>\n",
       "      <td>26.418749</td>\n",
       "      <td>0.982769</td>\n",
       "      <td>24.784025</td>\n",
       "    </tr>\n",
       "    <tr>\n",
       "      <th>39242303</th>\n",
       "      <td>JP</td>\n",
       "      <td>B00KA2NUZK</td>\n",
       "      <td>0.007840</td>\n",
       "      <td>21.603252</td>\n",
       "      <td>0.007975</td>\n",
       "      <td>19.969910</td>\n",
       "    </tr>\n",
       "    <tr>\n",
       "      <th>39242304</th>\n",
       "      <td>JP</td>\n",
       "      <td>B00KA2NV18</td>\n",
       "      <td>0.004018</td>\n",
       "      <td>20.934858</td>\n",
       "      <td>0.003294</td>\n",
       "      <td>19.085770</td>\n",
       "    </tr>\n",
       "    <tr>\n",
       "      <th>39242308</th>\n",
       "      <td>JP</td>\n",
       "      <td>B00KA2NXVQ</td>\n",
       "      <td>0.010125</td>\n",
       "      <td>21.859072</td>\n",
       "      <td>0.002761</td>\n",
       "      <td>18.909136</td>\n",
       "    </tr>\n",
       "    <tr>\n",
       "      <th>39242309</th>\n",
       "      <td>JP</td>\n",
       "      <td>B00KA2NXWU</td>\n",
       "      <td>0.005668</td>\n",
       "      <td>21.278811</td>\n",
       "      <td>0.000553</td>\n",
       "      <td>17.301985</td>\n",
       "    </tr>\n",
       "    <tr>\n",
       "      <th>39242305</th>\n",
       "      <td>JP</td>\n",
       "      <td>B00KA2NV6I</td>\n",
       "      <td>0.000308</td>\n",
       "      <td>18.364872</td>\n",
       "      <td>0.000663</td>\n",
       "      <td>17.482615</td>\n",
       "    </tr>\n",
       "    <tr>\n",
       "      <th>39242565</th>\n",
       "      <td>JP</td>\n",
       "      <td>B0B932V21F</td>\n",
       "      <td>0.001160</td>\n",
       "      <td>19.692461</td>\n",
       "      <td>0.000497</td>\n",
       "      <td>17.194429</td>\n",
       "    </tr>\n",
       "    <tr>\n",
       "      <th>39242306</th>\n",
       "      <td>JP</td>\n",
       "      <td>B00KA2NV6S</td>\n",
       "      <td>0.000207</td>\n",
       "      <td>17.970467</td>\n",
       "      <td>0.000562</td>\n",
       "      <td>17.316748</td>\n",
       "    </tr>\n",
       "    <tr>\n",
       "      <th>39242356</th>\n",
       "      <td>JP</td>\n",
       "      <td>B01A9QHVWO</td>\n",
       "      <td>0.000795</td>\n",
       "      <td>19.314430</td>\n",
       "      <td>0.000059</td>\n",
       "      <td>15.058409</td>\n",
       "    </tr>\n",
       "    <tr>\n",
       "      <th>39242572</th>\n",
       "      <td>JP</td>\n",
       "      <td>B0B9348S62</td>\n",
       "      <td>0.000457</td>\n",
       "      <td>18.760490</td>\n",
       "      <td>0.000159</td>\n",
       "      <td>16.053986</td>\n",
       "    </tr>\n",
       "    <tr>\n",
       "      <th>39242344</th>\n",
       "      <td>JP</td>\n",
       "      <td>B016PL7884</td>\n",
       "      <td>0.000005</td>\n",
       "      <td>14.282818</td>\n",
       "      <td>0.000034</td>\n",
       "      <td>14.517498</td>\n",
       "    </tr>\n",
       "    <tr>\n",
       "      <th>39242570</th>\n",
       "      <td>JP</td>\n",
       "      <td>B0B933ZRFX</td>\n",
       "      <td>0.000131</td>\n",
       "      <td>17.514366</td>\n",
       "      <td>0.000044</td>\n",
       "      <td>14.766131</td>\n",
       "    </tr>\n",
       "    <tr>\n",
       "      <th>39242358</th>\n",
       "      <td>JP</td>\n",
       "      <td>B01A9QHX54</td>\n",
       "      <td>0.000097</td>\n",
       "      <td>17.215843</td>\n",
       "      <td>0.000098</td>\n",
       "      <td>15.566653</td>\n",
       "    </tr>\n",
       "    <tr>\n",
       "      <th>39242362</th>\n",
       "      <td>JP</td>\n",
       "      <td>B01A9QI21S</td>\n",
       "      <td>0.000013</td>\n",
       "      <td>15.167109</td>\n",
       "      <td>0.000057</td>\n",
       "      <td>15.028335</td>\n",
       "    </tr>\n",
       "    <tr>\n",
       "      <th>39242557</th>\n",
       "      <td>JP</td>\n",
       "      <td>B0B92VDYMC</td>\n",
       "      <td>0.000160</td>\n",
       "      <td>17.710443</td>\n",
       "      <td>0.000053</td>\n",
       "      <td>14.957436</td>\n",
       "    </tr>\n",
       "    <tr>\n",
       "      <th>39242296</th>\n",
       "      <td>JP</td>\n",
       "      <td>B00KA2NPI2</td>\n",
       "      <td>0.000066</td>\n",
       "      <td>16.827980</td>\n",
       "      <td>0.000022</td>\n",
       "      <td>14.098162</td>\n",
       "    </tr>\n",
       "    <tr>\n",
       "      <th>39242416</th>\n",
       "      <td>JP</td>\n",
       "      <td>B072NDV6F8</td>\n",
       "      <td>0.000103</td>\n",
       "      <td>17.269588</td>\n",
       "      <td>0.000020</td>\n",
       "      <td>13.995854</td>\n",
       "    </tr>\n",
       "    <tr>\n",
       "      <th>39242351</th>\n",
       "      <td>JP</td>\n",
       "      <td>B0194E4PIK</td>\n",
       "      <td>0.000068</td>\n",
       "      <td>16.848927</td>\n",
       "      <td>0.000021</td>\n",
       "      <td>14.014360</td>\n",
       "    </tr>\n",
       "    <tr>\n",
       "      <th>39242569</th>\n",
       "      <td>JP</td>\n",
       "      <td>B0B933BH3T</td>\n",
       "      <td>0.000067</td>\n",
       "      <td>16.838562</td>\n",
       "      <td>0.000032</td>\n",
       "      <td>14.436996</td>\n",
       "    </tr>\n",
       "    <tr>\n",
       "      <th>39242560</th>\n",
       "      <td>JP</td>\n",
       "      <td>B0B92YBV69</td>\n",
       "      <td>0.000097</td>\n",
       "      <td>17.211134</td>\n",
       "      <td>0.000055</td>\n",
       "      <td>15.002069</td>\n",
       "    </tr>\n",
       "  </tbody>\n",
       "</table>\n",
       "</div>"
      ],
      "text/plain": [
       "         sess_locale     product  normalized_gru4rec_cat_scores_2  \\\n",
       "39242307          JP  B00KA2NXV6                         0.967476   \n",
       "39242303          JP  B00KA2NUZK                         0.007840   \n",
       "39242304          JP  B00KA2NV18                         0.004018   \n",
       "39242308          JP  B00KA2NXVQ                         0.010125   \n",
       "39242309          JP  B00KA2NXWU                         0.005668   \n",
       "39242305          JP  B00KA2NV6I                         0.000308   \n",
       "39242565          JP  B0B932V21F                         0.001160   \n",
       "39242306          JP  B00KA2NV6S                         0.000207   \n",
       "39242356          JP  B01A9QHVWO                         0.000795   \n",
       "39242572          JP  B0B9348S62                         0.000457   \n",
       "39242344          JP  B016PL7884                         0.000005   \n",
       "39242570          JP  B0B933ZRFX                         0.000131   \n",
       "39242358          JP  B01A9QHX54                         0.000097   \n",
       "39242362          JP  B01A9QI21S                         0.000013   \n",
       "39242557          JP  B0B92VDYMC                         0.000160   \n",
       "39242296          JP  B00KA2NPI2                         0.000066   \n",
       "39242416          JP  B072NDV6F8                         0.000103   \n",
       "39242351          JP  B0194E4PIK                         0.000068   \n",
       "39242569          JP  B0B933BH3T                         0.000067   \n",
       "39242560          JP  B0B92YBV69                         0.000097   \n",
       "\n",
       "          gru4rec_cat_scores_2  normalized_sasrec_scores_2  sasrec_scores_2  \n",
       "39242307             26.418749                    0.982769        24.784025  \n",
       "39242303             21.603252                    0.007975        19.969910  \n",
       "39242304             20.934858                    0.003294        19.085770  \n",
       "39242308             21.859072                    0.002761        18.909136  \n",
       "39242309             21.278811                    0.000553        17.301985  \n",
       "39242305             18.364872                    0.000663        17.482615  \n",
       "39242565             19.692461                    0.000497        17.194429  \n",
       "39242306             17.970467                    0.000562        17.316748  \n",
       "39242356             19.314430                    0.000059        15.058409  \n",
       "39242572             18.760490                    0.000159        16.053986  \n",
       "39242344             14.282818                    0.000034        14.517498  \n",
       "39242570             17.514366                    0.000044        14.766131  \n",
       "39242358             17.215843                    0.000098        15.566653  \n",
       "39242362             15.167109                    0.000057        15.028335  \n",
       "39242557             17.710443                    0.000053        14.957436  \n",
       "39242296             16.827980                    0.000022        14.098162  \n",
       "39242416             17.269588                    0.000020        13.995854  \n",
       "39242351             16.848927                    0.000021        14.014360  \n",
       "39242569             16.838562                    0.000032        14.436996  \n",
       "39242560             17.211134                    0.000055        15.002069  "
      ]
     },
     "execution_count": 27,
     "metadata": {},
     "output_type": "execute_result"
    }
   ],
   "source": [
    "merged_candidates[(merged_candidates['sess_id'] == 130000)].sort_values(by='normalized_sasrec_scores_3', ascending=False)[['sess_locale', 'product', 'normalized_'+FIELD_NAME, FIELD_NAME, 'normalized_sasrec_scores_2', 'sasrec_scores_2']][:20]"
   ]
  }
 ],
 "metadata": {
  "kernelspec": {
   "display_name": "torch12",
   "language": "python",
   "name": "python3"
  },
  "language_info": {
   "codemirror_mode": {
    "name": "ipython",
    "version": 3
   },
   "file_extension": ".py",
   "mimetype": "text/x-python",
   "name": "python",
   "nbconvert_exporter": "python",
   "pygments_lexer": "ipython3",
   "version": "3.9.15"
  }
 },
 "nbformat": 4,
 "nbformat_minor": 2
}
