{
 "cells": [
  {
   "attachments": {},
   "cell_type": "markdown",
   "metadata": {},
   "source": [
    "# Necessary Common Functions\n",
    "\n",
    "Those functions should be ran before each part."
   ]
  },
  {
   "cell_type": "code",
   "execution_count": 2,
   "metadata": {},
   "outputs": [
    {
     "name": "stderr",
     "output_type": "stream",
     "text": [
      "/root/autodl-tmp/xiaolong/.conda/envs/torch12/lib/python3.9/site-packages/tqdm/auto.py:22: TqdmWarning: IProgress not found. Please update jupyter and ipywidgets. See https://ipywidgets.readthedocs.io/en/stable/user_install.html\n",
      "  from .autonotebook import tqdm as notebook_tqdm\n"
     ]
    }
   ],
   "source": [
    "import os\n",
    "import random\n",
    "import numpy as np\n",
    "import pandas as pd\n",
    "import cudf, itertools\n",
    "import scipy.sparse as ssp\n",
    "from functools import lru_cache\n",
    "from tqdm import tqdm, trange\n",
    "from collections import Counter, defaultdict\n",
    "import numba \n",
    "from numba import jit\n",
    "import datasets\n",
    "from datasets import Dataset as TFDataset\n",
    "import multiprocessing"
   ]
  },
  {
   "cell_type": "code",
   "execution_count": 3,
   "metadata": {},
   "outputs": [],
   "source": [
    "def get_sessions(df: pd.DataFrame, test=False, list_item=False) -> list:\n",
    "    \n",
    "    all_item = []\n",
    "    if 'next_item' in df and not test:\n",
    "        if list_item:\n",
    "            for i in trange(len(df)):\n",
    "                all_item.append(np.concatenate([np.array(df.loc[i, 'prev_items']), np.array(df.loc[i, 'next_item'])], axis=0))\n",
    "        else:\n",
    "            for i in trange(len(df)):\n",
    "                all_item.append(eval((df.loc[i, 'prev_items'][:-1]+f\" '{df.loc[i, 'next_item']}']\").replace(\" \", \",\")))\n",
    "    else:\n",
    "        if list_item:\n",
    "            all_item = df['prev_items']\n",
    "        else:\n",
    "            for i in trange(len(df)):\n",
    "                all_item.append(eval((df.loc[i, 'prev_items']).replace(\" \", \",\")))\n",
    "    return all_item"
   ]
  },
  {
   "cell_type": "code",
   "execution_count": 4,
   "metadata": {},
   "outputs": [],
   "source": [
    "def get_co_occurence_dict(sessions: list, bidirection: bool=True, weighted: bool=False, max_dis=None) -> dict:\n",
    "    res = {}\n",
    "    for sess in tqdm(sessions):\n",
    "        for i, id in enumerate(sess):\n",
    "            if id not in res:\n",
    "                res[id] = Counter()\n",
    "            \n",
    "            if max_dis == None:\n",
    "                e = len(sess)\n",
    "            else:\n",
    "                e = min(i + max_dis + 1, len(sess))\n",
    "\n",
    "            for j in range(i+1, e):\n",
    "                if not weighted:\n",
    "                    res[id][sess[j]] += 1\n",
    "                else:\n",
    "                    res[id][sess[j]] += 1 / (j-i)\n",
    "                if bidirection:\n",
    "                    if sess[j] not in res:\n",
    "                        res[sess[j]] = Counter()\n",
    "                    if not weighted:\n",
    "                        res[sess[j]][id] += 1\n",
    "                    else:\n",
    "                        res[sess[j]][id] += 1 / (j-i)\n",
    "    return res"
   ]
  },
  {
   "cell_type": "code",
   "execution_count": 5,
   "metadata": {},
   "outputs": [],
   "source": [
    "def sort_co_occurence_dict(co_occurence_dict: dict) -> dict:\n",
    "    res = {}\n",
    "    for k,v in co_occurence_dict.items():\n",
    "        res[k] = dict(sorted(v.items(), key=lambda item: -item[1]))\n",
    "    return res"
   ]
  },
  {
   "cell_type": "code",
   "execution_count": 6,
   "metadata": {},
   "outputs": [],
   "source": [
    "def cast_dtype(df : pd.DataFrame, columns=None):\n",
    "    if columns is None:\n",
    "        columns = df.columns\n",
    "    for k in columns:\n",
    "        dt = type(df[k].iloc[0])\n",
    "        if 'float' in str(dt):\n",
    "            df[k] = df[k].astype('float32')\n",
    "        elif 'int' in str(dt):\n",
    "            df[k] = df[k].astype('int32')\n",
    "        elif dt == list:\n",
    "            dt_ = type(df.iloc[0][k][0])\n",
    "            if 'float' in str(dt_):\n",
    "                df[k] = df[k].apply(lambda x : np.array(x, dtype=np.float32))\n",
    "            elif 'int' in str(dt_):\n",
    "                df[k] = df[k].apply(lambda x : np.array(x, dtype=np.int32))"
   ]
  },
  {
   "cell_type": "code",
   "execution_count": 7,
   "metadata": {},
   "outputs": [],
   "source": [
    "def get_session_last_item(session_df):\n",
    "    last_items = []\n",
    "    num_sessions = len(session_df)\n",
    "    for i in tqdm(range(num_sessions)):\n",
    "        sess = session_df.iloc[i]\n",
    "        sess_prev_items = sess['prev_items']\n",
    "        \n",
    "        product_list = sess_prev_items.strip('[]').split(' ')\n",
    "        last_item = product_list[-1].strip(\"'\\n\")\n",
    "\n",
    "        last_items.append(last_item)\n",
    "    return last_items "
   ]
  },
  {
   "cell_type": "code",
   "execution_count": 8,
   "metadata": {},
   "outputs": [],
   "source": [
    "def get_co_graph_counts(session_last_items, merged_candidates_df, co_graph_dict):\n",
    "    co_graph_count_list = []\n",
    "    for idx, row in tqdm(merged_candidates_df.iterrows(), total=merged_candidates_df.shape[0]):\n",
    "        sess_id = row['sess_id']\n",
    "        product = row['product']\n",
    "        last_item = session_last_items[sess_id]\n",
    "        co_graph_count = co_graph_dict[last_item][product]\n",
    "        co_graph_count_list.append(co_graph_count)\n",
    "    return co_graph_count_list"
   ]
  },
  {
   "cell_type": "code",
   "execution_count": 9,
   "metadata": {},
   "outputs": [],
   "source": [
    "def flatten_co_graph_dict(co_graph_dict):\n",
    "    product_list = []\n",
    "    neighbor_list = []\n",
    "    counts_list = []\n",
    "    for product in tqdm(co_graph_dict.keys(), total=len(co_graph_dict)):\n",
    "        for neigh in co_graph_dict[product].keys():\n",
    "            product_list.append(product)\n",
    "            neighbor_list.append(neigh)\n",
    "            counts_list.append(co_graph_dict[product][neigh])\n",
    "    return pd.DataFrame({'product_' : product_list, 'neighbor' : neighbor_list, 'counts' : counts_list})"
   ]
  },
  {
   "cell_type": "code",
   "execution_count": 10,
   "metadata": {},
   "outputs": [],
   "source": [
    "def normalize_co_graph_counts(merged_candidates_counts):\n",
    "    # normalize co graph counts \n",
    "    # merged_candidates_counts_g = cudf.from_pandas(merged_candidates_counts)\n",
    "    sessions_count_sum = merged_candidates_counts[['sess_id', 'counts']].groupby('sess_id').sum()\n",
    "    sessions_count_sum.sort_index(inplace=True)\n",
    "\n",
    "    sessions_count_sum = sessions_count_sum.to_pandas()\n",
    "\n",
    "    candidates_count_sum = sessions_count_sum.loc[merged_candidates_counts['sess_id']].reset_index(drop=True)\n",
    "    merged_candidates_counts['counts_cum'] = candidates_count_sum['counts']\n",
    "    merged_candidates_counts['normalized_counts'] = merged_candidates_counts['counts'] / merged_candidates_counts['counts_cum']\n",
    "\n",
    "    # del merged_candidates_counts_g\n",
    "    # del sessions_count_sum_g\n",
    "    "
   ]
  },
  {
   "attachments": {},
   "cell_type": "markdown",
   "metadata": {},
   "source": [
    "# Merge test co-graph counts "
   ]
  },
  {
   "cell_type": "code",
   "execution_count": 73,
   "metadata": {},
   "outputs": [],
   "source": [
    "merged_candidates_feature_test_path = '/root/autodl-tmp/xiaolong/WorkSpace/Amazon-KDDCUP-23/XGBoost/candidates/merged_candidates_test_feature.parquet'\n",
    "train_sessions_path = '/root/autodl-tmp/xiaolong/WorkSpace/Amazon-KDDCUP-23/data_for_recstudio/task1_data/task13_4_task1_train_sessions.csv'\n",
    "valid_sessions_path = '/root/autodl-tmp/xiaolong/WorkSpace/Amazon-KDDCUP-23/data_for_recstudio/task1_data/task13_4_task1_valid_sessions.csv'\n",
    "test_sessions_path = '/root/autodl-tmp/xiaolong/WorkSpace/Amazon-KDDCUP-23/raw_data/sessions_test_task1.csv'\n",
    "product_data_path = '/root/autodl-tmp/xiaolong/WorkSpace/Amazon-KDDCUP-23/raw_data/products_train.csv'"
   ]
  },
  {
   "cell_type": "code",
   "execution_count": 74,
   "metadata": {},
   "outputs": [],
   "source": [
    "@lru_cache(maxsize=1)\n",
    "def read_merged_candidates_feature_test():\n",
    "    return pd.read_parquet(merged_candidates_feature_test_path)\n",
    "\n",
    "@lru_cache(maxsize=1)\n",
    "def read_product_data():\n",
    "    return pd.read_csv(product_data_path)\n",
    "\n",
    "@lru_cache(maxsize=1)\n",
    "def read_train_data():\n",
    "    return pd.read_csv(train_sessions_path)\n",
    "\n",
    "@lru_cache(maxsize=1)\n",
    "def read_valid_data():\n",
    "    return pd.read_csv(valid_sessions_path)\n",
    "\n",
    "@lru_cache(maxsize=1)\n",
    "def read_test_data():\n",
    "    return pd.read_csv(test_sessions_path)"
   ]
  },
  {
   "cell_type": "code",
   "execution_count": 75,
   "metadata": {},
   "outputs": [],
   "source": [
    "merged_candidates_feature_test = read_merged_candidates_feature_test()"
   ]
  },
  {
   "cell_type": "code",
   "execution_count": 77,
   "metadata": {},
   "outputs": [],
   "source": [
    "merged_candidates_test = merged_candidates_feature_test[['sess_id', 'sess_locale', 'product']]"
   ]
  },
  {
   "cell_type": "code",
   "execution_count": 78,
   "metadata": {},
   "outputs": [],
   "source": [
    "train_sess_data = read_train_data()\n",
    "valid_sess_data = read_valid_data()\n",
    "test_sess_data = read_test_data()\n",
    "product = read_product_data()"
   ]
  },
  {
   "cell_type": "code",
   "execution_count": 79,
   "metadata": {},
   "outputs": [
    {
     "name": "stderr",
     "output_type": "stream",
     "text": [
      "100%|██████████| 3557898/3557898 [05:40<00:00, 10442.37it/s]\n",
      "100%|██████████| 361581/361581 [00:30<00:00, 11792.96it/s]\n",
      "100%|██████████| 316971/316971 [00:17<00:00, 17814.50it/s]\n"
     ]
    }
   ],
   "source": [
    "train_sess_item = get_sessions(train_sess_data, list_item=False)\n",
    "valid_sess_item = get_sessions(valid_sess_data, list_item=False)\n",
    "test_sess_item = get_sessions(test_sess_data, test=True, list_item=False)"
   ]
  },
  {
   "attachments": {},
   "cell_type": "markdown",
   "metadata": {},
   "source": [
    "# bidirection"
   ]
  },
  {
   "cell_type": "code",
   "execution_count": 80,
   "metadata": {},
   "outputs": [
    {
     "name": "stderr",
     "output_type": "stream",
     "text": [
      "100%|██████████| 4236450/4236450 [03:57<00:00, 17837.07it/s]\n"
     ]
    }
   ],
   "source": [
    "# bidirection\n",
    "co_occurence_dict_bi = get_co_occurence_dict(train_sess_item + valid_sess_item + test_sess_item, bidirection=True, weighted=False)"
   ]
  },
  {
   "cell_type": "code",
   "execution_count": 81,
   "metadata": {},
   "outputs": [],
   "source": [
    "# only one arg, can't use another arg\n",
    "def get_bi_test_session_co_graph_candidates(sess_id):\n",
    "    sess = test_sess_item[sess_id]\n",
    "    prev_items = set()\n",
    "    cand_counter = Counter()\n",
    "    for item in sess:\n",
    "        if item in co_occurence_dict_bi and item not in prev_items:\n",
    "            cand_counter = cand_counter + co_occurence_dict_bi[item]\n",
    "            prev_items.add(item) # one time for every item\n",
    "    for item in sess:\n",
    "        if item in cand_counter:\n",
    "            cand_counter.pop(item) # remove history items \n",
    "    \n",
    "    return cand_counter"
   ]
  },
  {
   "cell_type": "code",
   "execution_count": 82,
   "metadata": {},
   "outputs": [],
   "source": [
    "test_co_graph_candidates = TFDataset.from_dict({'sess_id' : list(range(test_sess_data.shape[0]))})"
   ]
  },
  {
   "cell_type": "code",
   "execution_count": 84,
   "metadata": {},
   "outputs": [],
   "source": [
    "# about 1 mins\n",
    "sess_ids = list(range(len(test_sess_item)))\n",
    "pool = multiprocessing.Pool(10)\n",
    "bi_test_sessions_counter = pool.map(get_bi_test_session_co_graph_candidates, sess_ids)"
   ]
  },
  {
   "cell_type": "code",
   "execution_count": 85,
   "metadata": {},
   "outputs": [
    {
     "data": {
      "text/plain": [
       "(Dataset({\n",
       "     features: ['sess_id'],\n",
       "     num_rows: 316971\n",
       " }),\n",
       " 316971)"
      ]
     },
     "execution_count": 85,
     "metadata": {},
     "output_type": "execute_result"
    }
   ],
   "source": [
    "test_co_graph_candidates, len(bi_test_sessions_counter)"
   ]
  },
  {
   "cell_type": "code",
   "execution_count": 86,
   "metadata": {},
   "outputs": [
    {
     "name": "stderr",
     "output_type": "stream",
     "text": [
      "100%|██████████| 69428431/69428431 [04:22<00:00, 264832.67it/s]\n",
      "/tmp/ipykernel_579818/565594440.py:5: SettingWithCopyWarning: \n",
      "A value is trying to be set on a copy of a slice from a DataFrame.\n",
      "Try using .loc[row_indexer,col_indexer] = value instead\n",
      "\n",
      "See the caveats in the documentation: https://pandas.pydata.org/pandas-docs/stable/user_guide/indexing.html#returning-a-view-versus-a-copy\n",
      "  merged_candidates_test['all_items_co_graph_count_0'] = all_items_co_graph_count_list\n"
     ]
    }
   ],
   "source": [
    "all_items_co_graph_count_list = []\n",
    "for row in tqdm(merged_candidates_test.itertuples(), total=merged_candidates_test.shape[0]):\n",
    "    all_items_co_graph_count_list.append(bi_test_sessions_counter[row.sess_id][row.product])\n",
    "assert len(all_items_co_graph_count_list) == merged_candidates_test.shape[0]\n",
    "merged_candidates_test['all_items_co_graph_count_0'] = all_items_co_graph_count_list"
   ]
  },
  {
   "cell_type": "code",
   "execution_count": 87,
   "metadata": {},
   "outputs": [
    {
     "name": "stderr",
     "output_type": "stream",
     "text": [
      "/tmp/ipykernel_579818/3715222465.py:3: SettingWithCopyWarning: \n",
      "A value is trying to be set on a copy of a slice from a DataFrame.\n",
      "Try using .loc[row_indexer,col_indexer] = value instead\n",
      "\n",
      "See the caveats in the documentation: https://pandas.pydata.org/pandas-docs/stable/user_guide/indexing.html#returning-a-view-versus-a-copy\n",
      "  merged_candidates_test['normalized_all_items_co_graph_count_0'] = count_sum_array[merged_candidates_test['sess_id']]\n",
      "/tmp/ipykernel_579818/3715222465.py:4: SettingWithCopyWarning: \n",
      "A value is trying to be set on a copy of a slice from a DataFrame.\n",
      "Try using .loc[row_indexer,col_indexer] = value instead\n",
      "\n",
      "See the caveats in the documentation: https://pandas.pydata.org/pandas-docs/stable/user_guide/indexing.html#returning-a-view-versus-a-copy\n",
      "  merged_candidates_test['normalized_all_items_co_graph_count_0'] = merged_candidates_test['all_items_co_graph_count_0'] / merged_candidates_test['normalized_all_items_co_graph_count_0']\n"
     ]
    }
   ],
   "source": [
    "count_sum_array = merged_candidates_test.groupby(by='sess_id')['all_items_co_graph_count_0'].sum().to_numpy()\n",
    "assert len(count_sum_array[merged_candidates_test['sess_id']]) == merged_candidates_test.shape[0]\n",
    "merged_candidates_test['normalized_all_items_co_graph_count_0'] = count_sum_array[merged_candidates_test['sess_id']]\n",
    "merged_candidates_test['normalized_all_items_co_graph_count_0'] = merged_candidates_test['all_items_co_graph_count_0'] / merged_candidates_test['normalized_all_items_co_graph_count_0']"
   ]
  },
  {
   "cell_type": "code",
   "execution_count": 89,
   "metadata": {},
   "outputs": [],
   "source": [
    "merged_candidates_feature_test['normalized_all_items_co_graph_count_0'] = merged_candidates_test['normalized_all_items_co_graph_count_0']\n",
    "merged_candidates_feature_test['all_items_co_graph_count_0'] = merged_candidates_test['all_items_co_graph_count_0']"
   ]
  },
  {
   "attachments": {},
   "cell_type": "markdown",
   "metadata": {},
   "source": [
    "## uni and weighted"
   ]
  },
  {
   "cell_type": "code",
   "execution_count": 90,
   "metadata": {},
   "outputs": [
    {
     "name": "stderr",
     "output_type": "stream",
     "text": [
      "100%|██████████| 4236450/4236450 [02:33<00:00, 27510.34it/s]\n"
     ]
    }
   ],
   "source": [
    "# weight \n",
    "# co_occurence_dict_bi_weight = get_co_occurence_dict(train_sess_item + valid_sess_item + test_sess_item, bidirection=True, weighted=True)\n",
    "co_occurence_dict_uni_weight = get_co_occurence_dict(train_sess_item + valid_sess_item + test_sess_item, bidirection=False, weighted=True)"
   ]
  },
  {
   "cell_type": "code",
   "execution_count": 91,
   "metadata": {},
   "outputs": [],
   "source": [
    "# only one arg, can't use another arg\n",
    "def get_uni_wei_test_session_co_graph_candidates(sess_id):\n",
    "    sess = test_sess_item[sess_id]\n",
    "    prev_items = set()\n",
    "    cand_counter = Counter()\n",
    "    for item in sess:\n",
    "        if item in co_occurence_dict_uni_weight and item not in prev_items:\n",
    "            cand_counter = cand_counter + co_occurence_dict_uni_weight[item]\n",
    "            prev_items.add(item) # one time for every item\n",
    "    for item in sess:\n",
    "        if item in cand_counter:\n",
    "            cand_counter.pop(item) # remove history items \n",
    "    \n",
    "    return cand_counter"
   ]
  },
  {
   "cell_type": "code",
   "execution_count": 92,
   "metadata": {},
   "outputs": [],
   "source": [
    "test_co_graph_candidates = TFDataset.from_dict({'sess_id' : list(range(test_sess_data.shape[0]))})"
   ]
  },
  {
   "cell_type": "code",
   "execution_count": 93,
   "metadata": {},
   "outputs": [],
   "source": [
    "# about 1 mins\n",
    "sess_ids = list(range(len(test_sess_item)))\n",
    "pool = multiprocessing.Pool(10)\n",
    "uni_wei_test_sessions_counter = pool.map(get_uni_wei_test_session_co_graph_candidates, sess_ids)"
   ]
  },
  {
   "cell_type": "code",
   "execution_count": 94,
   "metadata": {},
   "outputs": [
    {
     "data": {
      "text/plain": [
       "(Dataset({\n",
       "     features: ['sess_id'],\n",
       "     num_rows: 316971\n",
       " }),\n",
       " 316971)"
      ]
     },
     "execution_count": 94,
     "metadata": {},
     "output_type": "execute_result"
    }
   ],
   "source": [
    "test_co_graph_candidates, len(uni_wei_test_sessions_counter)"
   ]
  },
  {
   "cell_type": "code",
   "execution_count": 95,
   "metadata": {},
   "outputs": [
    {
     "name": "stderr",
     "output_type": "stream",
     "text": [
      "100%|██████████| 69428431/69428431 [05:06<00:00, 226645.16it/s]\n",
      "/tmp/ipykernel_579818/4140053534.py:5: SettingWithCopyWarning: \n",
      "A value is trying to be set on a copy of a slice from a DataFrame.\n",
      "Try using .loc[row_indexer,col_indexer] = value instead\n",
      "\n",
      "See the caveats in the documentation: https://pandas.pydata.org/pandas-docs/stable/user_guide/indexing.html#returning-a-view-versus-a-copy\n",
      "  merged_candidates_test['all_items_co_graph_count_1'] = all_items_co_graph_count_list\n"
     ]
    }
   ],
   "source": [
    "all_items_co_graph_count_list = []\n",
    "for row in tqdm(merged_candidates_test.itertuples(), total=merged_candidates_test.shape[0]):\n",
    "    all_items_co_graph_count_list.append(uni_wei_test_sessions_counter[row.sess_id][row.product])\n",
    "assert len(all_items_co_graph_count_list) == merged_candidates_test.shape[0]\n",
    "merged_candidates_test['all_items_co_graph_count_1'] = all_items_co_graph_count_list"
   ]
  },
  {
   "cell_type": "code",
   "execution_count": 96,
   "metadata": {},
   "outputs": [
    {
     "name": "stderr",
     "output_type": "stream",
     "text": [
      "/tmp/ipykernel_579818/3162329703.py:3: SettingWithCopyWarning: \n",
      "A value is trying to be set on a copy of a slice from a DataFrame.\n",
      "Try using .loc[row_indexer,col_indexer] = value instead\n",
      "\n",
      "See the caveats in the documentation: https://pandas.pydata.org/pandas-docs/stable/user_guide/indexing.html#returning-a-view-versus-a-copy\n",
      "  merged_candidates_test['normalized_all_items_co_graph_count_1'] = count_sum_array[merged_candidates_test['sess_id']]\n",
      "/tmp/ipykernel_579818/3162329703.py:4: SettingWithCopyWarning: \n",
      "A value is trying to be set on a copy of a slice from a DataFrame.\n",
      "Try using .loc[row_indexer,col_indexer] = value instead\n",
      "\n",
      "See the caveats in the documentation: https://pandas.pydata.org/pandas-docs/stable/user_guide/indexing.html#returning-a-view-versus-a-copy\n",
      "  merged_candidates_test['normalized_all_items_co_graph_count_1'] = merged_candidates_test['all_items_co_graph_count_1'] / merged_candidates_test['normalized_all_items_co_graph_count_1']\n"
     ]
    }
   ],
   "source": [
    "count_sum_array = merged_candidates_test.groupby(by='sess_id')['all_items_co_graph_count_1'].sum().to_numpy()\n",
    "assert len(count_sum_array[merged_candidates_test['sess_id']]) == merged_candidates_test.shape[0]\n",
    "merged_candidates_test['normalized_all_items_co_graph_count_1'] = count_sum_array[merged_candidates_test['sess_id']]\n",
    "merged_candidates_test['normalized_all_items_co_graph_count_1'] = merged_candidates_test['all_items_co_graph_count_1'] / merged_candidates_test['normalized_all_items_co_graph_count_1']"
   ]
  },
  {
   "cell_type": "code",
   "execution_count": 97,
   "metadata": {},
   "outputs": [],
   "source": [
    "merged_candidates_feature_test['normalized_all_items_co_graph_count_1'] = merged_candidates_test['normalized_all_items_co_graph_count_1']\n",
    "merged_candidates_feature_test['all_items_co_graph_count_1'] = merged_candidates_test['all_items_co_graph_count_1']"
   ]
  },
  {
   "attachments": {},
   "cell_type": "markdown",
   "metadata": {},
   "source": [
    "## uni and dis=1"
   ]
  },
  {
   "cell_type": "code",
   "execution_count": 98,
   "metadata": {},
   "outputs": [
    {
     "name": "stderr",
     "output_type": "stream",
     "text": [
      "100%|██████████| 4236450/4236450 [01:34<00:00, 44821.91it/s] \n"
     ]
    }
   ],
   "source": [
    "# max dis = 1 \n",
    "# co_occurence_dict_bi_dis1 = get_co_occurence_dict(train_sess_item + valid_sess_item + test_sess_item, bidirection=True, weighted=False, max_dis=1)\n",
    "co_occurence_dict_uni_dis1 = get_co_occurence_dict(train_sess_item + valid_sess_item + test_sess_item, bidirection=False, weighted=False, max_dis=1)"
   ]
  },
  {
   "cell_type": "code",
   "execution_count": 99,
   "metadata": {},
   "outputs": [],
   "source": [
    "# only one arg, can't use another arg\n",
    "def get_uni_dis1_test_session_co_graph_candidates(sess_id):\n",
    "    sess = test_sess_item[sess_id]\n",
    "    prev_items = set()\n",
    "    cand_counter = Counter()\n",
    "    for item in sess:\n",
    "        if item in co_occurence_dict_uni_dis1 and item not in prev_items:\n",
    "            cand_counter = cand_counter + co_occurence_dict_uni_dis1[item]\n",
    "            prev_items.add(item) # one time for every item\n",
    "    for item in sess:\n",
    "        if item in cand_counter:\n",
    "            cand_counter.pop(item) # remove history items \n",
    "    \n",
    "    return cand_counter"
   ]
  },
  {
   "cell_type": "code",
   "execution_count": 100,
   "metadata": {},
   "outputs": [],
   "source": [
    "test_co_graph_candidates = TFDataset.from_dict({'sess_id' : list(range(test_sess_data.shape[0]))})"
   ]
  },
  {
   "cell_type": "code",
   "execution_count": 101,
   "metadata": {},
   "outputs": [],
   "source": [
    "# about 1 mins\n",
    "sess_ids = list(range(len(test_sess_item)))\n",
    "pool = multiprocessing.Pool(10)\n",
    "uni_dis1_test_sessions_counter = pool.map(get_uni_dis1_test_session_co_graph_candidates, sess_ids)"
   ]
  },
  {
   "cell_type": "code",
   "execution_count": 102,
   "metadata": {},
   "outputs": [
    {
     "data": {
      "text/plain": [
       "(Dataset({\n",
       "     features: ['sess_id'],\n",
       "     num_rows: 316971\n",
       " }),\n",
       " 316971)"
      ]
     },
     "execution_count": 102,
     "metadata": {},
     "output_type": "execute_result"
    }
   ],
   "source": [
    "test_co_graph_candidates, len(uni_dis1_test_sessions_counter)"
   ]
  },
  {
   "cell_type": "code",
   "execution_count": 103,
   "metadata": {},
   "outputs": [
    {
     "name": "stderr",
     "output_type": "stream",
     "text": [
      "100%|██████████| 69428431/69428431 [05:26<00:00, 212734.94it/s]\n",
      "/tmp/ipykernel_579818/1504731075.py:5: SettingWithCopyWarning: \n",
      "A value is trying to be set on a copy of a slice from a DataFrame.\n",
      "Try using .loc[row_indexer,col_indexer] = value instead\n",
      "\n",
      "See the caveats in the documentation: https://pandas.pydata.org/pandas-docs/stable/user_guide/indexing.html#returning-a-view-versus-a-copy\n",
      "  merged_candidates_test['all_items_co_graph_count_2'] = all_items_co_graph_count_list\n"
     ]
    }
   ],
   "source": [
    "all_items_co_graph_count_list = []\n",
    "for row in tqdm(merged_candidates_test.itertuples(), total=merged_candidates_test.shape[0]):\n",
    "    all_items_co_graph_count_list.append(uni_dis1_test_sessions_counter[row.sess_id][row.product])\n",
    "assert len(all_items_co_graph_count_list) == merged_candidates_test.shape[0]\n",
    "merged_candidates_test['all_items_co_graph_count_2'] = all_items_co_graph_count_list"
   ]
  },
  {
   "cell_type": "code",
   "execution_count": 104,
   "metadata": {},
   "outputs": [
    {
     "name": "stderr",
     "output_type": "stream",
     "text": [
      "/tmp/ipykernel_579818/2112424902.py:3: SettingWithCopyWarning: \n",
      "A value is trying to be set on a copy of a slice from a DataFrame.\n",
      "Try using .loc[row_indexer,col_indexer] = value instead\n",
      "\n",
      "See the caveats in the documentation: https://pandas.pydata.org/pandas-docs/stable/user_guide/indexing.html#returning-a-view-versus-a-copy\n",
      "  merged_candidates_test['normalized_all_items_co_graph_count_2'] = count_sum_array[merged_candidates_test['sess_id']]\n",
      "/tmp/ipykernel_579818/2112424902.py:4: SettingWithCopyWarning: \n",
      "A value is trying to be set on a copy of a slice from a DataFrame.\n",
      "Try using .loc[row_indexer,col_indexer] = value instead\n",
      "\n",
      "See the caveats in the documentation: https://pandas.pydata.org/pandas-docs/stable/user_guide/indexing.html#returning-a-view-versus-a-copy\n",
      "  merged_candidates_test['normalized_all_items_co_graph_count_2'] = merged_candidates_test['all_items_co_graph_count_2'] / merged_candidates_test['normalized_all_items_co_graph_count_2']\n"
     ]
    }
   ],
   "source": [
    "count_sum_array = merged_candidates_test.groupby(by='sess_id')['all_items_co_graph_count_2'].sum().to_numpy()\n",
    "assert len(count_sum_array[merged_candidates_test['sess_id']]) == merged_candidates_test.shape[0]\n",
    "merged_candidates_test['normalized_all_items_co_graph_count_2'] = count_sum_array[merged_candidates_test['sess_id']]\n",
    "merged_candidates_test['normalized_all_items_co_graph_count_2'] = merged_candidates_test['all_items_co_graph_count_2'] / merged_candidates_test['normalized_all_items_co_graph_count_2']"
   ]
  },
  {
   "cell_type": "code",
   "execution_count": 105,
   "metadata": {},
   "outputs": [],
   "source": [
    "merged_candidates_feature_test['normalized_all_items_co_graph_count_2'] = merged_candidates_test['normalized_all_items_co_graph_count_2']\n",
    "merged_candidates_feature_test['all_items_co_graph_count_2'] = merged_candidates_test['all_items_co_graph_count_2']"
   ]
  },
  {
   "cell_type": "code",
   "execution_count": 106,
   "metadata": {},
   "outputs": [],
   "source": [
    "cast_dtype(merged_candidates_feature_test, \n",
    "    ['all_items_co_graph_count_0', 'normalized_all_items_co_graph_count_0', 'all_items_co_graph_count_1', 'normalized_all_items_co_graph_count_1', 'all_items_co_graph_count_2', 'normalized_all_items_co_graph_count_2'])\n",
    "merged_candidates_feature_test.to_parquet(merged_candidates_feature_test_path, engine='pyarrow')"
   ]
  },
  {
   "cell_type": "code",
   "execution_count": 109,
   "metadata": {},
   "outputs": [
    {
     "data": {
      "text/html": [
       "<div>\n",
       "<style scoped>\n",
       "    .dataframe tbody tr th:only-of-type {\n",
       "        vertical-align: middle;\n",
       "    }\n",
       "\n",
       "    .dataframe tbody tr th {\n",
       "        vertical-align: top;\n",
       "    }\n",
       "\n",
       "    .dataframe thead th {\n",
       "        text-align: right;\n",
       "    }\n",
       "</style>\n",
       "<table border=\"1\" class=\"dataframe\">\n",
       "  <thead>\n",
       "    <tr style=\"text-align: right;\">\n",
       "      <th></th>\n",
       "      <th>sess_id</th>\n",
       "      <th>sess_locale</th>\n",
       "      <th>product</th>\n",
       "      <th>sasrec_scores_2</th>\n",
       "      <th>sasrec_normalized_scores_2</th>\n",
       "      <th>gru4rec_scores</th>\n",
       "      <th>gru4rec_normalized_scores</th>\n",
       "      <th>product_freq</th>\n",
       "      <th>sess_avg_price</th>\n",
       "      <th>product_price</th>\n",
       "      <th>...</th>\n",
       "      <th>sasrec_normalized_scores_3</th>\n",
       "      <th>normalized_all_items_co_graph_count_0</th>\n",
       "      <th>all_items_co_graph_count_0</th>\n",
       "      <th>seqmlp_scores</th>\n",
       "      <th>seqmlp_normalized_scores</th>\n",
       "      <th>desc_BM25_scores</th>\n",
       "      <th>normalized_all_items_co_graph_count_1</th>\n",
       "      <th>all_items_co_graph_count_1</th>\n",
       "      <th>normalized_all_items_co_graph_count_2</th>\n",
       "      <th>all_items_co_graph_count_2</th>\n",
       "    </tr>\n",
       "  </thead>\n",
       "  <tbody>\n",
       "    <tr>\n",
       "      <th>0</th>\n",
       "      <td>0</td>\n",
       "      <td>DE</td>\n",
       "      <td>4088833651</td>\n",
       "      <td>0.000000</td>\n",
       "      <td>2.975813e-09</td>\n",
       "      <td>0.000000</td>\n",
       "      <td>1.580065e-09</td>\n",
       "      <td>828</td>\n",
       "      <td>25.195269</td>\n",
       "      <td>36.761604</td>\n",
       "      <td>...</td>\n",
       "      <td>2.622550e-09</td>\n",
       "      <td>0.000000</td>\n",
       "      <td>0</td>\n",
       "      <td>0.000000</td>\n",
       "      <td>2.554478e-10</td>\n",
       "      <td>0.000000</td>\n",
       "      <td>0.000000</td>\n",
       "      <td>0.000000</td>\n",
       "      <td>0.000000</td>\n",
       "      <td>0</td>\n",
       "    </tr>\n",
       "    <tr>\n",
       "      <th>1</th>\n",
       "      <td>0</td>\n",
       "      <td>DE</td>\n",
       "      <td>B000H6W2GW</td>\n",
       "      <td>0.000000</td>\n",
       "      <td>2.975813e-09</td>\n",
       "      <td>0.000000</td>\n",
       "      <td>1.580065e-09</td>\n",
       "      <td>875</td>\n",
       "      <td>25.195269</td>\n",
       "      <td>36.761604</td>\n",
       "      <td>...</td>\n",
       "      <td>2.622550e-09</td>\n",
       "      <td>0.000000</td>\n",
       "      <td>0</td>\n",
       "      <td>0.000000</td>\n",
       "      <td>2.554478e-10</td>\n",
       "      <td>0.000000</td>\n",
       "      <td>0.000000</td>\n",
       "      <td>0.000000</td>\n",
       "      <td>0.000000</td>\n",
       "      <td>0</td>\n",
       "    </tr>\n",
       "    <tr>\n",
       "      <th>2</th>\n",
       "      <td>0</td>\n",
       "      <td>DE</td>\n",
       "      <td>B000JG2RAG</td>\n",
       "      <td>7.665308</td>\n",
       "      <td>6.347557e-06</td>\n",
       "      <td>8.104032</td>\n",
       "      <td>5.226502e-06</td>\n",
       "      <td>24</td>\n",
       "      <td>25.195269</td>\n",
       "      <td>23.190001</td>\n",
       "      <td>...</td>\n",
       "      <td>1.894552e-05</td>\n",
       "      <td>0.000000</td>\n",
       "      <td>0</td>\n",
       "      <td>8.786958</td>\n",
       "      <td>1.672744e-06</td>\n",
       "      <td>67.792648</td>\n",
       "      <td>0.000000</td>\n",
       "      <td>0.000000</td>\n",
       "      <td>0.000000</td>\n",
       "      <td>0</td>\n",
       "    </tr>\n",
       "    <tr>\n",
       "      <th>3</th>\n",
       "      <td>0</td>\n",
       "      <td>DE</td>\n",
       "      <td>B000RYSOUW</td>\n",
       "      <td>-2.951060</td>\n",
       "      <td>1.555882e-10</td>\n",
       "      <td>-2.857798</td>\n",
       "      <td>9.068785e-11</td>\n",
       "      <td>5</td>\n",
       "      <td>25.195269</td>\n",
       "      <td>6.900000</td>\n",
       "      <td>...</td>\n",
       "      <td>5.083796e-10</td>\n",
       "      <td>0.000000</td>\n",
       "      <td>0</td>\n",
       "      <td>-3.325048</td>\n",
       "      <td>9.188664e-12</td>\n",
       "      <td>170.360580</td>\n",
       "      <td>0.000000</td>\n",
       "      <td>0.000000</td>\n",
       "      <td>0.000000</td>\n",
       "      <td>0</td>\n",
       "    </tr>\n",
       "    <tr>\n",
       "      <th>4</th>\n",
       "      <td>0</td>\n",
       "      <td>DE</td>\n",
       "      <td>B000UGZVQM</td>\n",
       "      <td>3.977920</td>\n",
       "      <td>1.589257e-07</td>\n",
       "      <td>4.688567</td>\n",
       "      <td>1.717488e-07</td>\n",
       "      <td>4</td>\n",
       "      <td>25.195269</td>\n",
       "      <td>21.990000</td>\n",
       "      <td>...</td>\n",
       "      <td>3.784811e-07</td>\n",
       "      <td>0.000000</td>\n",
       "      <td>0</td>\n",
       "      <td>5.540127</td>\n",
       "      <td>6.506522e-08</td>\n",
       "      <td>71.169296</td>\n",
       "      <td>0.000000</td>\n",
       "      <td>0.000000</td>\n",
       "      <td>0.000000</td>\n",
       "      <td>0</td>\n",
       "    </tr>\n",
       "    <tr>\n",
       "      <th>...</th>\n",
       "      <td>...</td>\n",
       "      <td>...</td>\n",
       "      <td>...</td>\n",
       "      <td>...</td>\n",
       "      <td>...</td>\n",
       "      <td>...</td>\n",
       "      <td>...</td>\n",
       "      <td>...</td>\n",
       "      <td>...</td>\n",
       "      <td>...</td>\n",
       "      <td>...</td>\n",
       "      <td>...</td>\n",
       "      <td>...</td>\n",
       "      <td>...</td>\n",
       "      <td>...</td>\n",
       "      <td>...</td>\n",
       "      <td>...</td>\n",
       "      <td>...</td>\n",
       "      <td>...</td>\n",
       "      <td>...</td>\n",
       "      <td>...</td>\n",
       "    </tr>\n",
       "    <tr>\n",
       "      <th>69428426</th>\n",
       "      <td>316970</td>\n",
       "      <td>UK</td>\n",
       "      <td>B0BJCTH4NH</td>\n",
       "      <td>11.327528</td>\n",
       "      <td>1.041200e-04</td>\n",
       "      <td>10.629994</td>\n",
       "      <td>3.818184e-04</td>\n",
       "      <td>74</td>\n",
       "      <td>16.950001</td>\n",
       "      <td>5.800000</td>\n",
       "      <td>...</td>\n",
       "      <td>1.849500e-05</td>\n",
       "      <td>0.010237</td>\n",
       "      <td>16</td>\n",
       "      <td>11.838901</td>\n",
       "      <td>9.762144e-04</td>\n",
       "      <td>164.803131</td>\n",
       "      <td>0.002540</td>\n",
       "      <td>1.285714</td>\n",
       "      <td>0.003086</td>\n",
       "      <td>1</td>\n",
       "    </tr>\n",
       "    <tr>\n",
       "      <th>69428427</th>\n",
       "      <td>316970</td>\n",
       "      <td>UK</td>\n",
       "      <td>B0BJTQQWLG</td>\n",
       "      <td>5.604142</td>\n",
       "      <td>3.403292e-07</td>\n",
       "      <td>6.052083</td>\n",
       "      <td>3.923694e-06</td>\n",
       "      <td>6</td>\n",
       "      <td>16.950001</td>\n",
       "      <td>9.880000</td>\n",
       "      <td>...</td>\n",
       "      <td>5.044600e-07</td>\n",
       "      <td>0.000640</td>\n",
       "      <td>1</td>\n",
       "      <td>4.890683</td>\n",
       "      <td>9.375031e-07</td>\n",
       "      <td>303.665985</td>\n",
       "      <td>0.000494</td>\n",
       "      <td>0.250000</td>\n",
       "      <td>0.000000</td>\n",
       "      <td>0</td>\n",
       "    </tr>\n",
       "    <tr>\n",
       "      <th>69428428</th>\n",
       "      <td>316970</td>\n",
       "      <td>UK</td>\n",
       "      <td>B0BJV3RL4H</td>\n",
       "      <td>9.146974</td>\n",
       "      <td>1.176336e-05</td>\n",
       "      <td>7.667603</td>\n",
       "      <td>1.973815e-05</td>\n",
       "      <td>7</td>\n",
       "      <td>16.950001</td>\n",
       "      <td>22.097065</td>\n",
       "      <td>...</td>\n",
       "      <td>1.265775e-06</td>\n",
       "      <td>0.000640</td>\n",
       "      <td>1</td>\n",
       "      <td>10.187823</td>\n",
       "      <td>1.872800e-04</td>\n",
       "      <td>226.131516</td>\n",
       "      <td>0.001976</td>\n",
       "      <td>1.000000</td>\n",
       "      <td>0.003086</td>\n",
       "      <td>1</td>\n",
       "    </tr>\n",
       "    <tr>\n",
       "      <th>69428429</th>\n",
       "      <td>316970</td>\n",
       "      <td>UK</td>\n",
       "      <td>B0BK7SPC84</td>\n",
       "      <td>-10.383047</td>\n",
       "      <td>3.879279e-14</td>\n",
       "      <td>-6.356799</td>\n",
       "      <td>1.601719e-11</td>\n",
       "      <td>0</td>\n",
       "      <td>16.950001</td>\n",
       "      <td>5.960000</td>\n",
       "      <td>...</td>\n",
       "      <td>6.057512e-15</td>\n",
       "      <td>0.000000</td>\n",
       "      <td>0</td>\n",
       "      <td>-4.160688</td>\n",
       "      <td>1.099036e-10</td>\n",
       "      <td>312.603607</td>\n",
       "      <td>0.000000</td>\n",
       "      <td>0.000000</td>\n",
       "      <td>0.000000</td>\n",
       "      <td>0</td>\n",
       "    </tr>\n",
       "    <tr>\n",
       "      <th>69428430</th>\n",
       "      <td>316970</td>\n",
       "      <td>UK</td>\n",
       "      <td>B0BKFXSM6Q</td>\n",
       "      <td>11.845137</td>\n",
       "      <td>1.747144e-04</td>\n",
       "      <td>11.515342</td>\n",
       "      <td>9.254614e-04</td>\n",
       "      <td>145</td>\n",
       "      <td>16.950001</td>\n",
       "      <td>9.880000</td>\n",
       "      <td>...</td>\n",
       "      <td>5.863568e-05</td>\n",
       "      <td>0.015355</td>\n",
       "      <td>24</td>\n",
       "      <td>13.648940</td>\n",
       "      <td>5.965342e-03</td>\n",
       "      <td>210.080139</td>\n",
       "      <td>0.020150</td>\n",
       "      <td>10.200000</td>\n",
       "      <td>0.018519</td>\n",
       "      <td>6</td>\n",
       "    </tr>\n",
       "  </tbody>\n",
       "</table>\n",
       "<p>69428431 rows × 32 columns</p>\n",
       "</div>"
      ],
      "text/plain": [
       "          sess_id sess_locale     product  sasrec_scores_2  \\\n",
       "0               0          DE  4088833651         0.000000   \n",
       "1               0          DE  B000H6W2GW         0.000000   \n",
       "2               0          DE  B000JG2RAG         7.665308   \n",
       "3               0          DE  B000RYSOUW        -2.951060   \n",
       "4               0          DE  B000UGZVQM         3.977920   \n",
       "...           ...         ...         ...              ...   \n",
       "69428426   316970          UK  B0BJCTH4NH        11.327528   \n",
       "69428427   316970          UK  B0BJTQQWLG         5.604142   \n",
       "69428428   316970          UK  B0BJV3RL4H         9.146974   \n",
       "69428429   316970          UK  B0BK7SPC84       -10.383047   \n",
       "69428430   316970          UK  B0BKFXSM6Q        11.845137   \n",
       "\n",
       "          sasrec_normalized_scores_2  gru4rec_scores  \\\n",
       "0                       2.975813e-09        0.000000   \n",
       "1                       2.975813e-09        0.000000   \n",
       "2                       6.347557e-06        8.104032   \n",
       "3                       1.555882e-10       -2.857798   \n",
       "4                       1.589257e-07        4.688567   \n",
       "...                              ...             ...   \n",
       "69428426                1.041200e-04       10.629994   \n",
       "69428427                3.403292e-07        6.052083   \n",
       "69428428                1.176336e-05        7.667603   \n",
       "69428429                3.879279e-14       -6.356799   \n",
       "69428430                1.747144e-04       11.515342   \n",
       "\n",
       "          gru4rec_normalized_scores  product_freq  sess_avg_price  \\\n",
       "0                      1.580065e-09           828       25.195269   \n",
       "1                      1.580065e-09           875       25.195269   \n",
       "2                      5.226502e-06            24       25.195269   \n",
       "3                      9.068785e-11             5       25.195269   \n",
       "4                      1.717488e-07             4       25.195269   \n",
       "...                             ...           ...             ...   \n",
       "69428426               3.818184e-04            74       16.950001   \n",
       "69428427               3.923694e-06             6       16.950001   \n",
       "69428428               1.973815e-05             7       16.950001   \n",
       "69428429               1.601719e-11             0       16.950001   \n",
       "69428430               9.254614e-04           145       16.950001   \n",
       "\n",
       "          product_price  ...  sasrec_normalized_scores_3  \\\n",
       "0             36.761604  ...                2.622550e-09   \n",
       "1             36.761604  ...                2.622550e-09   \n",
       "2             23.190001  ...                1.894552e-05   \n",
       "3              6.900000  ...                5.083796e-10   \n",
       "4             21.990000  ...                3.784811e-07   \n",
       "...                 ...  ...                         ...   \n",
       "69428426       5.800000  ...                1.849500e-05   \n",
       "69428427       9.880000  ...                5.044600e-07   \n",
       "69428428      22.097065  ...                1.265775e-06   \n",
       "69428429       5.960000  ...                6.057512e-15   \n",
       "69428430       9.880000  ...                5.863568e-05   \n",
       "\n",
       "          normalized_all_items_co_graph_count_0  all_items_co_graph_count_0  \\\n",
       "0                                      0.000000                           0   \n",
       "1                                      0.000000                           0   \n",
       "2                                      0.000000                           0   \n",
       "3                                      0.000000                           0   \n",
       "4                                      0.000000                           0   \n",
       "...                                         ...                         ...   \n",
       "69428426                               0.010237                          16   \n",
       "69428427                               0.000640                           1   \n",
       "69428428                               0.000640                           1   \n",
       "69428429                               0.000000                           0   \n",
       "69428430                               0.015355                          24   \n",
       "\n",
       "          seqmlp_scores  seqmlp_normalized_scores  desc_BM25_scores  \\\n",
       "0              0.000000              2.554478e-10          0.000000   \n",
       "1              0.000000              2.554478e-10          0.000000   \n",
       "2              8.786958              1.672744e-06         67.792648   \n",
       "3             -3.325048              9.188664e-12        170.360580   \n",
       "4              5.540127              6.506522e-08         71.169296   \n",
       "...                 ...                       ...               ...   \n",
       "69428426      11.838901              9.762144e-04        164.803131   \n",
       "69428427       4.890683              9.375031e-07        303.665985   \n",
       "69428428      10.187823              1.872800e-04        226.131516   \n",
       "69428429      -4.160688              1.099036e-10        312.603607   \n",
       "69428430      13.648940              5.965342e-03        210.080139   \n",
       "\n",
       "          normalized_all_items_co_graph_count_1  all_items_co_graph_count_1  \\\n",
       "0                                      0.000000                    0.000000   \n",
       "1                                      0.000000                    0.000000   \n",
       "2                                      0.000000                    0.000000   \n",
       "3                                      0.000000                    0.000000   \n",
       "4                                      0.000000                    0.000000   \n",
       "...                                         ...                         ...   \n",
       "69428426                               0.002540                    1.285714   \n",
       "69428427                               0.000494                    0.250000   \n",
       "69428428                               0.001976                    1.000000   \n",
       "69428429                               0.000000                    0.000000   \n",
       "69428430                               0.020150                   10.200000   \n",
       "\n",
       "          normalized_all_items_co_graph_count_2  all_items_co_graph_count_2  \n",
       "0                                      0.000000                           0  \n",
       "1                                      0.000000                           0  \n",
       "2                                      0.000000                           0  \n",
       "3                                      0.000000                           0  \n",
       "4                                      0.000000                           0  \n",
       "...                                         ...                         ...  \n",
       "69428426                               0.003086                           1  \n",
       "69428427                               0.000000                           0  \n",
       "69428428                               0.003086                           1  \n",
       "69428429                               0.000000                           0  \n",
       "69428430                               0.018519                           6  \n",
       "\n",
       "[69428431 rows x 32 columns]"
      ]
     },
     "execution_count": 109,
     "metadata": {},
     "output_type": "execute_result"
    }
   ],
   "source": [
    "merged_candidates_feature_test"
   ]
  },
  {
   "cell_type": "code",
   "execution_count": 108,
   "metadata": {},
   "outputs": [
    {
     "data": {
      "text/html": [
       "<div>\n",
       "<style scoped>\n",
       "    .dataframe tbody tr th:only-of-type {\n",
       "        vertical-align: middle;\n",
       "    }\n",
       "\n",
       "    .dataframe tbody tr th {\n",
       "        vertical-align: top;\n",
       "    }\n",
       "\n",
       "    .dataframe thead th {\n",
       "        text-align: right;\n",
       "    }\n",
       "</style>\n",
       "<table border=\"1\" class=\"dataframe\">\n",
       "  <thead>\n",
       "    <tr style=\"text-align: right;\">\n",
       "      <th></th>\n",
       "      <th>sasrec_scores_3</th>\n",
       "      <th>sasrec_normalized_scores_3</th>\n",
       "      <th>all_items_co_graph_count_0</th>\n",
       "      <th>all_items_co_graph_count_1</th>\n",
       "      <th>all_items_co_graph_count_2</th>\n",
       "    </tr>\n",
       "  </thead>\n",
       "  <tbody>\n",
       "    <tr>\n",
       "      <th>65675691</th>\n",
       "      <td>18.784042</td>\n",
       "      <td>7.110926e-01</td>\n",
       "      <td>141</td>\n",
       "      <td>64.666664</td>\n",
       "      <td>41</td>\n",
       "    </tr>\n",
       "    <tr>\n",
       "      <th>65675602</th>\n",
       "      <td>17.250706</td>\n",
       "      <td>1.534640e-01</td>\n",
       "      <td>127</td>\n",
       "      <td>40.392857</td>\n",
       "      <td>27</td>\n",
       "    </tr>\n",
       "    <tr>\n",
       "      <th>65675649</th>\n",
       "      <td>16.779135</td>\n",
       "      <td>9.576479e-02</td>\n",
       "      <td>59</td>\n",
       "      <td>20.842857</td>\n",
       "      <td>7</td>\n",
       "    </tr>\n",
       "    <tr>\n",
       "      <th>65675546</th>\n",
       "      <td>15.148463</td>\n",
       "      <td>1.875056e-02</td>\n",
       "      <td>43</td>\n",
       "      <td>11.941667</td>\n",
       "      <td>6</td>\n",
       "    </tr>\n",
       "    <tr>\n",
       "      <th>65675714</th>\n",
       "      <td>14.737875</td>\n",
       "      <td>1.243649e-02</td>\n",
       "      <td>29</td>\n",
       "      <td>5.916667</td>\n",
       "      <td>3</td>\n",
       "    </tr>\n",
       "    <tr>\n",
       "      <th>...</th>\n",
       "      <td>...</td>\n",
       "      <td>...</td>\n",
       "      <td>...</td>\n",
       "      <td>...</td>\n",
       "      <td>...</td>\n",
       "    </tr>\n",
       "    <tr>\n",
       "      <th>65675666</th>\n",
       "      <td>-6.248106</td>\n",
       "      <td>9.563178e-12</td>\n",
       "      <td>0</td>\n",
       "      <td>0.000000</td>\n",
       "      <td>0</td>\n",
       "    </tr>\n",
       "    <tr>\n",
       "      <th>65675565</th>\n",
       "      <td>-6.320740</td>\n",
       "      <td>8.893195e-12</td>\n",
       "      <td>0</td>\n",
       "      <td>0.000000</td>\n",
       "      <td>0</td>\n",
       "    </tr>\n",
       "    <tr>\n",
       "      <th>65675554</th>\n",
       "      <td>-6.321655</td>\n",
       "      <td>8.885057e-12</td>\n",
       "      <td>0</td>\n",
       "      <td>0.000000</td>\n",
       "      <td>0</td>\n",
       "    </tr>\n",
       "    <tr>\n",
       "      <th>65675610</th>\n",
       "      <td>-8.322851</td>\n",
       "      <td>1.201025e-12</td>\n",
       "      <td>0</td>\n",
       "      <td>0.000000</td>\n",
       "      <td>0</td>\n",
       "    </tr>\n",
       "    <tr>\n",
       "      <th>65675764</th>\n",
       "      <td>-10.247570</td>\n",
       "      <td>1.752496e-13</td>\n",
       "      <td>0</td>\n",
       "      <td>0.000000</td>\n",
       "      <td>0</td>\n",
       "    </tr>\n",
       "  </tbody>\n",
       "</table>\n",
       "<p>267 rows × 5 columns</p>\n",
       "</div>"
      ],
      "text/plain": [
       "          sasrec_scores_3  sasrec_normalized_scores_3  \\\n",
       "65675691        18.784042                7.110926e-01   \n",
       "65675602        17.250706                1.534640e-01   \n",
       "65675649        16.779135                9.576479e-02   \n",
       "65675546        15.148463                1.875056e-02   \n",
       "65675714        14.737875                1.243649e-02   \n",
       "...                   ...                         ...   \n",
       "65675666        -6.248106                9.563178e-12   \n",
       "65675565        -6.320740                8.893195e-12   \n",
       "65675554        -6.321655                8.885057e-12   \n",
       "65675610        -8.322851                1.201025e-12   \n",
       "65675764       -10.247570                1.752496e-13   \n",
       "\n",
       "          all_items_co_graph_count_0  all_items_co_graph_count_1  \\\n",
       "65675691                         141                   64.666664   \n",
       "65675602                         127                   40.392857   \n",
       "65675649                          59                   20.842857   \n",
       "65675546                          43                   11.941667   \n",
       "65675714                          29                    5.916667   \n",
       "...                              ...                         ...   \n",
       "65675666                           0                    0.000000   \n",
       "65675565                           0                    0.000000   \n",
       "65675554                           0                    0.000000   \n",
       "65675610                           0                    0.000000   \n",
       "65675764                           0                    0.000000   \n",
       "\n",
       "          all_items_co_graph_count_2  \n",
       "65675691                          41  \n",
       "65675602                          27  \n",
       "65675649                           7  \n",
       "65675546                           6  \n",
       "65675714                           3  \n",
       "...                              ...  \n",
       "65675666                           0  \n",
       "65675565                           0  \n",
       "65675554                           0  \n",
       "65675610                           0  \n",
       "65675764                           0  \n",
       "\n",
       "[267 rows x 5 columns]"
      ]
     },
     "execution_count": 108,
     "metadata": {},
     "output_type": "execute_result"
    }
   ],
   "source": [
    "merged_candidates_feature_test.query('sess_id==300000').sort_values(by=['sasrec_scores_2'], ascending=False)[['sasrec_scores_2', 'all_items_co_graph_count_0', 'all_items_co_graph_count_1', 'all_items_co_graph_count_2']]"
   ]
  }
 ],
 "metadata": {
  "kernelspec": {
   "display_name": "huangxu",
   "language": "python",
   "name": "python3"
  },
  "language_info": {
   "codemirror_mode": {
    "name": "ipython",
    "version": 3
   },
   "file_extension": ".py",
   "mimetype": "text/x-python",
   "name": "python",
   "nbconvert_exporter": "python",
   "pygments_lexer": "ipython3",
   "version": "3.9.16"
  },
  "orig_nbformat": 4
 },
 "nbformat": 4,
 "nbformat_minor": 2
}
