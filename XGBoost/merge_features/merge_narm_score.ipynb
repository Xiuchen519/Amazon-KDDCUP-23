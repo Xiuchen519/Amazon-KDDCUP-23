{
 "cells": [
  {
   "attachments": {},
   "cell_type": "markdown",
   "metadata": {},
   "source": [
    "use loc[i, field] instead of iloc[i, field], iloc is very slow."
   ]
  },
  {
   "cell_type": "code",
   "execution_count": 1,
   "metadata": {},
   "outputs": [
    {
     "name": "stderr",
     "output_type": "stream",
     "text": [
      "/root/autodl-tmp/xiaolong/.conda/envs/torch12/lib/python3.9/site-packages/tqdm/auto.py:22: TqdmWarning: IProgress not found. Please update jupyter and ipywidgets. See https://ipywidgets.readthedocs.io/en/stable/user_install.html\n",
      "  from .autonotebook import tqdm as notebook_tqdm\n"
     ]
    }
   ],
   "source": [
    "import sys\n",
    "sys.path = ['/root/autodl-tmp/xiaolong/WorkSpace/Amazon-KDDCUP-23/RecStudio/'] + sys.path\n",
    "import os\n",
    "os.environ[\"CUDA_VISIBLE_DEVICES\"] = \"0\"\n",
    "import random\n",
    "import numpy as np\n",
    "import pandas as pd\n",
    "import cudf, itertools\n",
    "import scipy.sparse as ssp\n",
    "from functools import lru_cache, partial\n",
    "from tqdm import tqdm, trange\n",
    "from collections import Counter, defaultdict\n",
    "import torch\n",
    "import pickle\n"
   ]
  },
  {
   "cell_type": "code",
   "execution_count": 2,
   "metadata": {},
   "outputs": [],
   "source": [
    "merged_candidates_feature_path = '/root/autodl-tmp/xiaolong/WorkSpace/Amazon-KDDCUP-23/XGBoost/candidates/merged_candidates_2_feature.parquet'\n",
    "valid_sessions_path = '/root/autodl-tmp/xiaolong/WorkSpace/Amazon-KDDCUP-23/data_for_recstudio/task1_data/task13_4_task1_valid_sessions.csv'\n",
    "test_sessions_path = '/root/autodl-tmp/xiaolong/WorkSpace/Amazon-KDDCUP-23/raw_data/sessions_test_task1.csv'"
   ]
  },
  {
   "cell_type": "code",
   "execution_count": 3,
   "metadata": {},
   "outputs": [],
   "source": [
    "@lru_cache(maxsize=1)\n",
    "def read_merged_candidates_feature():\n",
    "    return pd.read_parquet(merged_candidates_feature_path, engine='pyarrow')\n",
    "\n",
    "@lru_cache(maxsize=1)\n",
    "def read_valid_sessions():\n",
    "    return pd.read_csv(valid_sessions_path)\n",
    "\n",
    "@lru_cache(maxsize=1)\n",
    "def read_test_sessions():\n",
    "    return pd.read_csv(test_sessions_path)"
   ]
  },
  {
   "cell_type": "code",
   "execution_count": 4,
   "metadata": {},
   "outputs": [],
   "source": [
    "def cast_dtype(df : pd.DataFrame, columns=None):\n",
    "    if columns is None:\n",
    "        columns = df.columns\n",
    "    for k in columns:\n",
    "        dt = type(df[k].iloc[0])\n",
    "        if 'float' in str(dt):\n",
    "            df[k] = df[k].astype('float32')\n",
    "        elif 'int' in str(dt):\n",
    "            df[k] = df[k].astype('int32')\n",
    "        elif dt == list:\n",
    "            dt_ = type(df.iloc[0][k][0])\n",
    "            if 'float' in str(dt_):\n",
    "                df[k] = df[k].apply(lambda x : np.array(x, dtype=np.float32))\n",
    "            elif 'int' in str(dt_):\n",
    "                df[k] = df[k].apply(lambda x : np.array(x, dtype=np.int32))"
   ]
  },
  {
   "cell_type": "code",
   "execution_count": 5,
   "metadata": {},
   "outputs": [],
   "source": [
    "def _load_cache(path):\n",
    "    with open(path, 'rb') as f:\n",
    "        download_obj = pickle.load(f)\n",
    "    return download_obj"
   ]
  },
  {
   "cell_type": "code",
   "execution_count": 6,
   "metadata": {},
   "outputs": [],
   "source": [
    "def get_scores(merged_candidates_df, query_embeddings, product_embeddings):\n",
    "    batch_size = 2048\n",
    "    num_iter = (len(merged_candidates_df) - 1) // batch_size + 1\n",
    "    score_list = []\n",
    "    with torch.no_grad():\n",
    "        for i in tqdm(range(num_iter)):\n",
    "            st, ed = i * batch_size, (i + 1) * batch_size \n",
    "            batch_sess = merged_candidates_df.iloc[st : ed]\n",
    "            batch_sess_id = torch.tensor(batch_sess['sess_id'].tolist(), dtype=torch.long, device=query_embeddings.device)\n",
    "            batch_product_id = torch.tensor(batch_sess['dataset_id'].tolist(), dtype=torch.long, device=product_embeddings.device)\n",
    "            query_emb = query_embeddings[batch_sess_id]\n",
    "            product_emb = product_embeddings[batch_product_id]\n",
    "            batch_score = (query_emb * product_emb).sum(dim=-1) \n",
    "            score_list.append(batch_score.cpu())\n",
    "        score_list = torch.cat(score_list, dim=0).cpu().tolist()\n",
    "        return score_list "
   ]
  },
  {
   "cell_type": "code",
   "execution_count": 34,
   "metadata": {},
   "outputs": [],
   "source": [
    "def normalize_scores(score_df, score_name, normalized_score_name):\n",
    "    # score_df_g = cudf.from_pandas(score_df)\n",
    "    score_df['exp_score'] = np.exp(score_df[score_name].to_numpy())\n",
    "    scores_sum = score_df[['sess_id', 'exp_score']].groupby('sess_id').sum()\n",
    "    scores_sum.reset_index(inplace=True)\n",
    "    scores_sum = scores_sum.sort_values(by=['sess_id'], ascending=True)\n",
    "    scores_sum.reset_index(drop=True, inplace=True)\n",
    "    scores_sum.rename(columns={'exp_score' : 'score_sum'}, inplace=True)\n",
    "\n",
    "    merged_score_df = score_df.merge(scores_sum, how='left', left_on=['sess_id'], right_on=['sess_id'])\n",
    "    merged_score_df = merged_score_df.sort_values(by=['sess_id', 'product'])\n",
    "    merged_score_df.reset_index(drop=True, inplace=True)\n",
    "    \n",
    "    # merged_score_df = merged_score_df_g.to_pandas(merged_score_df_g)\n",
    "    score_df[normalized_score_name] = merged_score_df['exp_score'] / merged_score_df['score_sum']\n",
    "    score_df['exp_score'] = merged_score_df['exp_score']\n",
    "    score_df['score_sum'] = merged_score_df['score_sum']\n",
    "\n",
    "    # del scores_sum_g\n",
    "    # del merged_score_df_g "
   ]
  },
  {
   "attachments": {},
   "cell_type": "markdown",
   "metadata": {},
   "source": [
    "# Merge valid score"
   ]
  },
  {
   "cell_type": "code",
   "execution_count": 8,
   "metadata": {},
   "outputs": [],
   "source": [
    "FIELD_NAME = 'narm_scores'"
   ]
  },
  {
   "cell_type": "code",
   "execution_count": 9,
   "metadata": {},
   "outputs": [],
   "source": [
    "DE_product_embeddings_path = '/root/autodl-tmp/xiaolong/WorkSpace/Amazon-KDDCUP-23/candidates/query_embeddings/NARM/kdd_cup_2023_DE/product_embeddings_2023-05-20-09-38-19.pt'\n",
    "DE_valid_embeddings_path = '/root/autodl-tmp/xiaolong/WorkSpace/Amazon-KDDCUP-23/candidates/query_embeddings/NARM/kdd_cup_2023_DE/valid_embeddings_2023-05-20-09-38-30.pt'\n",
    "JP_product_embeddings_path = '/root/autodl-tmp/xiaolong/WorkSpace/Amazon-KDDCUP-23/candidates/query_embeddings/NARM/kdd_cup_2023_JP/product_embeddings_2023-05-20-09-40-17.pt'\n",
    "JP_valid_embeddings_path = '/root/autodl-tmp/xiaolong/WorkSpace/Amazon-KDDCUP-23/candidates/query_embeddings/NARM/kdd_cup_2023_JP/valid_embeddings_2023-05-20-09-40-27.pt'\n",
    "UK_product_embeddings_path = '/root/autodl-tmp/xiaolong/WorkSpace/Amazon-KDDCUP-23/candidates/query_embeddings/NARM/kdd_cup_2023_UK/product_embeddings_2023-05-20-09-46-20.pt'\n",
    "UK_valid_embeddings_path = '/root/autodl-tmp/xiaolong/WorkSpace/Amazon-KDDCUP-23/candidates/query_embeddings/NARM/kdd_cup_2023_UK/valid_embeddings_2023-05-20-09-46-29.pt'"
   ]
  },
  {
   "cell_type": "code",
   "execution_count": 10,
   "metadata": {},
   "outputs": [],
   "source": [
    "DE_dataset_cache = '/root/autodl-tmp/xiaolong/WorkSpace/Amazon-KDDCUP-23/.recstudio/cache/c76eddf0a07106ffcce7ce8010856a3b'\n",
    "JP_dataset_cache = '/root/autodl-tmp/xiaolong/WorkSpace/Amazon-KDDCUP-23/.recstudio/cache/81a71d0a18766af84b3beab69bf53e69'\n",
    "UK_dataset_cache = '/root/autodl-tmp/xiaolong/WorkSpace/Amazon-KDDCUP-23/.recstudio/cache/250dbc09c30162452e00486051e47756'"
   ]
  },
  {
   "cell_type": "code",
   "execution_count": 11,
   "metadata": {},
   "outputs": [],
   "source": [
    "DE_train_dataset, DE_valid_dataset = _load_cache(DE_dataset_cache)\n",
    "JP_train_dataset, JP_valid_dataset = _load_cache(JP_dataset_cache)\n",
    "UK_train_dataset, UK_valid_dataset = _load_cache(UK_dataset_cache)\n",
    "locale_map = {\n",
    "    'DE' : DE_train_dataset.field2token2idx['product_id'], \n",
    "    'JP' : JP_train_dataset.field2token2idx['product_id'], \n",
    "    'UK' : UK_train_dataset.field2token2idx['product_id']\n",
    "    }"
   ]
  },
  {
   "cell_type": "code",
   "execution_count": 12,
   "metadata": {},
   "outputs": [],
   "source": [
    "merged_candidates = read_merged_candidates_feature()\n",
    "valid_sessions = read_valid_sessions()\n",
    "EMBED_DIM = 128\n",
    "merged_candidates.sort_values(by=['sess_id', 'product'], inplace=True)\n",
    "merged_candidates.reset_index(drop=True, inplace=True)"
   ]
  },
  {
   "cell_type": "code",
   "execution_count": 13,
   "metadata": {},
   "outputs": [],
   "source": [
    "# sess embeddings \n",
    "valid_DE_query_emb = torch.load(DE_valid_embeddings_path, map_location='cpu')\n",
    "valid_JP_query_emb = torch.load(JP_valid_embeddings_path, map_location='cpu')\n",
    "valid_UK_query_emb = torch.load(UK_valid_embeddings_path, map_location='cpu')\n",
    "valid_query_embeddings = torch.empty(len(valid_sessions), EMBED_DIM)\n",
    "valid_query_embeddings[(valid_sessions[valid_sessions['locale'] == 'DE'].index).tolist()] = valid_DE_query_emb\n",
    "valid_query_embeddings[(valid_sessions[valid_sessions['locale'] == 'JP'].index).tolist()] = valid_JP_query_emb\n",
    "valid_query_embeddings[(valid_sessions[valid_sessions['locale'] == 'UK'].index).tolist()] = valid_UK_query_emb"
   ]
  },
  {
   "cell_type": "code",
   "execution_count": 14,
   "metadata": {},
   "outputs": [],
   "source": [
    "# product_embeddings \n",
    "DE_product_emb = torch.load(DE_product_embeddings_path, map_location='cpu')\n",
    "JP_product_emb = torch.load(JP_product_embeddings_path, map_location='cpu')\n",
    "UK_product_emb = torch.load(UK_product_embeddings_path, map_location='cpu')\n",
    "product_embeddings = torch.cat([DE_product_emb, JP_product_emb, UK_product_emb], dim=0)"
   ]
  },
  {
   "cell_type": "code",
   "execution_count": 15,
   "metadata": {},
   "outputs": [],
   "source": [
    "merged_candidates_ = merged_candidates[['sess_id', 'sess_locale', 'product']].copy()"
   ]
  },
  {
   "cell_type": "code",
   "execution_count": 16,
   "metadata": {},
   "outputs": [],
   "source": [
    "DE_product_list, DE_id_list = list(zip(*locale_map['DE'].items()))\n",
    "JP_product_list, JP_id_list = list(zip(*locale_map['JP'].items()))\n",
    "UK_product_list, UK_id_list = list(zip(*locale_map['UK'].items()))\n",
    "product_list = list(DE_product_list) + list(JP_product_list) + list(UK_product_list)\n",
    "id_list = list(DE_id_list) + list(JP_id_list) + list(UK_id_list)\n",
    "locale_list = ['DE'] * len(DE_id_list) + ['JP'] * len(JP_id_list) + ['UK'] * len(UK_id_list)\n",
    "product_id_df = pd.DataFrame({'locale' : locale_list, 'product' : product_list, 'dataset_id' : id_list})"
   ]
  },
  {
   "cell_type": "code",
   "execution_count": 17,
   "metadata": {},
   "outputs": [],
   "source": [
    "# merged_candidates_g = cudf.from_pandas(merged_candidates_)\n",
    "# product_id_df_g = cudf.from_pandas(product_id_df)"
   ]
  },
  {
   "cell_type": "code",
   "execution_count": 18,
   "metadata": {},
   "outputs": [],
   "source": [
    "# merged_candidates_score_g = merged_candidates_g.merge(product_id_df_g, how='left', left_on=['sess_locale', 'product'], right_on=['locale', 'product'])\n",
    "# merged_candidates_score_g['dataset_id'] = merged_candidates_score_g['dataset_id'].fillna(0)\n",
    "# merged_candidates_score_g.drop(columns=['locale'], inplace=True)\n",
    "# merged_candidates_score_g = merged_candidates_score_g.sort_values(by=['sess_id', 'product'])\n",
    "# merged_candidates_score_g.reset_index(drop=True, inplace=True)\n",
    "# merged_candidates_score = merged_candidates_score_g.to_pandas()"
   ]
  },
  {
   "cell_type": "code",
   "execution_count": null,
   "metadata": {},
   "outputs": [],
   "source": [
    "merged_candidates_score = merged_candidates_.merge(product_id_df, how='left', left_on=['sess_locale', 'product'], right_on=['locale', 'product'])\n",
    "merged_candidates_score['dataset_id'] = merged_candidates_score['dataset_id'].fillna(0)\n",
    "merged_candidates_score.drop(columns=['locale'], inplace=True)\n",
    "merged_candidates_score = merged_candidates_score.sort_values(by=['sess_id', 'product'])\n",
    "merged_candidates_score.reset_index(drop=True, inplace=True)\n",
    "assert len(merged_candidates_score) == len(merged_candidates)"
   ]
  },
  {
   "cell_type": "code",
   "execution_count": 19,
   "metadata": {},
   "outputs": [],
   "source": [
    "# del merged_candidates_g\n",
    "# del product_id_df_g\n",
    "# del merged_candidates_score_g"
   ]
  },
  {
   "cell_type": "code",
   "execution_count": 20,
   "metadata": {},
   "outputs": [
    {
     "name": "stderr",
     "output_type": "stream",
     "text": [
      "/tmp/ipykernel_163935/2978421209.py:3: SettingWithCopyWarning: \n",
      "A value is trying to be set on a copy of a slice from a DataFrame\n",
      "\n",
      "See the caveats in the documentation: https://pandas.pydata.org/pandas-docs/stable/user_guide/indexing.html#returning-a-view-versus-a-copy\n",
      "  merged_candidates_score['dataset_id'][merged_candidates_score['sess_locale'] == locale] = \\\n"
     ]
    }
   ],
   "source": [
    "locale_offset = {'DE' : 0, 'JP' : len(DE_product_list), 'UK' : len(DE_product_list) + len(JP_product_list)}\n",
    "for locale in ['DE', 'JP', 'UK']:\n",
    "    merged_candidates_score['dataset_id'][merged_candidates_score['sess_locale'] == locale] = \\\n",
    "        merged_candidates_score['dataset_id'][merged_candidates_score['sess_locale'] == locale] + locale_offset[locale]"
   ]
  },
  {
   "cell_type": "code",
   "execution_count": 21,
   "metadata": {},
   "outputs": [],
   "source": [
    "valid_query_embeddings = valid_query_embeddings.to('cuda:0')\n",
    "product_embeddings = product_embeddings.to('cuda:0')"
   ]
  },
  {
   "cell_type": "code",
   "execution_count": 22,
   "metadata": {},
   "outputs": [
    {
     "name": "stderr",
     "output_type": "stream",
     "text": [
      "100%|██████████| 41215/41215 [00:46<00:00, 890.46it/s] \n"
     ]
    }
   ],
   "source": [
    "merged_candidates_score[FIELD_NAME] = get_scores(merged_candidates_score, valid_query_embeddings, product_embeddings)"
   ]
  },
  {
   "cell_type": "code",
   "execution_count": 26,
   "metadata": {},
   "outputs": [],
   "source": [
    "del valid_query_embeddings\n",
    "del product_embeddings"
   ]
  },
  {
   "cell_type": "code",
   "execution_count": 36,
   "metadata": {},
   "outputs": [],
   "source": [
    "normalize_scores(merged_candidates_score, FIELD_NAME, 'normalized_'+FIELD_NAME)"
   ]
  },
  {
   "cell_type": "code",
   "execution_count": 37,
   "metadata": {},
   "outputs": [],
   "source": [
    "merged_candidates[FIELD_NAME] = merged_candidates_score[FIELD_NAME]\n",
    "merged_candidates['normalized_'+FIELD_NAME] = merged_candidates_score['normalized_'+FIELD_NAME]"
   ]
  },
  {
   "cell_type": "code",
   "execution_count": 41,
   "metadata": {},
   "outputs": [],
   "source": [
    "cast_dtype(merged_candidates, [FIELD_NAME, 'normalized_'+FIELD_NAME])\n",
    "merged_candidates.to_parquet(merged_candidates_feature_path, engine='pyarrow')"
   ]
  },
  {
   "cell_type": "code",
   "execution_count": 40,
   "metadata": {},
   "outputs": [
    {
     "data": {
      "text/html": [
       "<div>\n",
       "<style scoped>\n",
       "    .dataframe tbody tr th:only-of-type {\n",
       "        vertical-align: middle;\n",
       "    }\n",
       "\n",
       "    .dataframe tbody tr th {\n",
       "        vertical-align: top;\n",
       "    }\n",
       "\n",
       "    .dataframe thead th {\n",
       "        text-align: right;\n",
       "    }\n",
       "</style>\n",
       "<table border=\"1\" class=\"dataframe\">\n",
       "  <thead>\n",
       "    <tr style=\"text-align: right;\">\n",
       "      <th></th>\n",
       "      <th>sess_locale</th>\n",
       "      <th>product</th>\n",
       "      <th>gru4rec_normalized_scores_2</th>\n",
       "      <th>gru4rec_scores_2</th>\n",
       "      <th>normalized_narm_scores</th>\n",
       "      <th>narm_scores</th>\n",
       "    </tr>\n",
       "  </thead>\n",
       "  <tbody>\n",
       "    <tr>\n",
       "      <th>35011902</th>\n",
       "      <td>DE</td>\n",
       "      <td>B08VN4VTMC</td>\n",
       "      <td>0.477046</td>\n",
       "      <td>19.960262</td>\n",
       "      <td>0.473138</td>\n",
       "      <td>16.958035</td>\n",
       "    </tr>\n",
       "    <tr>\n",
       "      <th>35011977</th>\n",
       "      <td>DE</td>\n",
       "      <td>B0BBRKH55W</td>\n",
       "      <td>0.129742</td>\n",
       "      <td>18.658195</td>\n",
       "      <td>0.142673</td>\n",
       "      <td>15.759200</td>\n",
       "    </tr>\n",
       "    <tr>\n",
       "      <th>35011978</th>\n",
       "      <td>DE</td>\n",
       "      <td>B0BBRPFP73</td>\n",
       "      <td>0.054098</td>\n",
       "      <td>17.783445</td>\n",
       "      <td>0.065759</td>\n",
       "      <td>14.984645</td>\n",
       "    </tr>\n",
       "    <tr>\n",
       "      <th>35011790</th>\n",
       "      <td>DE</td>\n",
       "      <td>B01MSZ7WK7</td>\n",
       "      <td>0.011652</td>\n",
       "      <td>16.248108</td>\n",
       "      <td>0.061134</td>\n",
       "      <td>14.911717</td>\n",
       "    </tr>\n",
       "    <tr>\n",
       "      <th>35011843</th>\n",
       "      <td>DE</td>\n",
       "      <td>B07TP1HY5B</td>\n",
       "      <td>0.013633</td>\n",
       "      <td>16.405170</td>\n",
       "      <td>0.034068</td>\n",
       "      <td>14.327007</td>\n",
       "    </tr>\n",
       "    <tr>\n",
       "      <th>35011888</th>\n",
       "      <td>DE</td>\n",
       "      <td>B08HHXDHRJ</td>\n",
       "      <td>0.020194</td>\n",
       "      <td>16.798056</td>\n",
       "      <td>0.032991</td>\n",
       "      <td>14.294895</td>\n",
       "    </tr>\n",
       "    <tr>\n",
       "      <th>35011979</th>\n",
       "      <td>DE</td>\n",
       "      <td>B0BBRR84KK</td>\n",
       "      <td>0.137245</td>\n",
       "      <td>18.714417</td>\n",
       "      <td>0.029283</td>\n",
       "      <td>14.175643</td>\n",
       "    </tr>\n",
       "    <tr>\n",
       "      <th>35011786</th>\n",
       "      <td>DE</td>\n",
       "      <td>B011KJ6WLU</td>\n",
       "      <td>0.058540</td>\n",
       "      <td>17.862368</td>\n",
       "      <td>0.028296</td>\n",
       "      <td>14.141378</td>\n",
       "    </tr>\n",
       "    <tr>\n",
       "      <th>35011803</th>\n",
       "      <td>DE</td>\n",
       "      <td>B077YL91SG</td>\n",
       "      <td>0.000176</td>\n",
       "      <td>12.057325</td>\n",
       "      <td>0.015924</td>\n",
       "      <td>13.566456</td>\n",
       "    </tr>\n",
       "    <tr>\n",
       "      <th>35011968</th>\n",
       "      <td>DE</td>\n",
       "      <td>B0B7NCTHWX</td>\n",
       "      <td>0.036256</td>\n",
       "      <td>17.383266</td>\n",
       "      <td>0.011662</td>\n",
       "      <td>13.254972</td>\n",
       "    </tr>\n",
       "    <tr>\n",
       "      <th>35011807</th>\n",
       "      <td>DE</td>\n",
       "      <td>B0793LCHRD</td>\n",
       "      <td>0.019142</td>\n",
       "      <td>16.744513</td>\n",
       "      <td>0.011586</td>\n",
       "      <td>13.248420</td>\n",
       "    </tr>\n",
       "    <tr>\n",
       "      <th>35011984</th>\n",
       "      <td>DE</td>\n",
       "      <td>B0BFHFH4D1</td>\n",
       "      <td>0.004654</td>\n",
       "      <td>15.330425</td>\n",
       "      <td>0.010110</td>\n",
       "      <td>13.112141</td>\n",
       "    </tr>\n",
       "    <tr>\n",
       "      <th>35011849</th>\n",
       "      <td>DE</td>\n",
       "      <td>B07WDYC7YB</td>\n",
       "      <td>0.001700</td>\n",
       "      <td>14.323244</td>\n",
       "      <td>0.007609</td>\n",
       "      <td>12.828024</td>\n",
       "    </tr>\n",
       "    <tr>\n",
       "      <th>35011791</th>\n",
       "      <td>DE</td>\n",
       "      <td>B01N5FJHSG</td>\n",
       "      <td>0.006841</td>\n",
       "      <td>15.715555</td>\n",
       "      <td>0.007571</td>\n",
       "      <td>12.822998</td>\n",
       "    </tr>\n",
       "    <tr>\n",
       "      <th>35011802</th>\n",
       "      <td>DE</td>\n",
       "      <td>B077T7QQ3F</td>\n",
       "      <td>0.000701</td>\n",
       "      <td>13.436836</td>\n",
       "      <td>0.006758</td>\n",
       "      <td>12.709424</td>\n",
       "    </tr>\n",
       "  </tbody>\n",
       "</table>\n",
       "</div>"
      ],
      "text/plain": [
       "         sess_locale     product  gru4rec_normalized_scores_2  \\\n",
       "35011902          DE  B08VN4VTMC                     0.477046   \n",
       "35011977          DE  B0BBRKH55W                     0.129742   \n",
       "35011978          DE  B0BBRPFP73                     0.054098   \n",
       "35011790          DE  B01MSZ7WK7                     0.011652   \n",
       "35011843          DE  B07TP1HY5B                     0.013633   \n",
       "35011888          DE  B08HHXDHRJ                     0.020194   \n",
       "35011979          DE  B0BBRR84KK                     0.137245   \n",
       "35011786          DE  B011KJ6WLU                     0.058540   \n",
       "35011803          DE  B077YL91SG                     0.000176   \n",
       "35011968          DE  B0B7NCTHWX                     0.036256   \n",
       "35011807          DE  B0793LCHRD                     0.019142   \n",
       "35011984          DE  B0BFHFH4D1                     0.004654   \n",
       "35011849          DE  B07WDYC7YB                     0.001700   \n",
       "35011791          DE  B01N5FJHSG                     0.006841   \n",
       "35011802          DE  B077T7QQ3F                     0.000701   \n",
       "\n",
       "          gru4rec_scores_2  normalized_narm_scores  narm_scores  \n",
       "35011902         19.960262                0.473138    16.958035  \n",
       "35011977         18.658195                0.142673    15.759200  \n",
       "35011978         17.783445                0.065759    14.984645  \n",
       "35011790         16.248108                0.061134    14.911717  \n",
       "35011843         16.405170                0.034068    14.327007  \n",
       "35011888         16.798056                0.032991    14.294895  \n",
       "35011979         18.714417                0.029283    14.175643  \n",
       "35011786         17.862368                0.028296    14.141378  \n",
       "35011803         12.057325                0.015924    13.566456  \n",
       "35011968         17.383266                0.011662    13.254972  \n",
       "35011807         16.744513                0.011586    13.248420  \n",
       "35011984         15.330425                0.010110    13.112141  \n",
       "35011849         14.323244                0.007609    12.828024  \n",
       "35011791         15.715555                0.007571    12.822998  \n",
       "35011802         13.436836                0.006758    12.709424  "
      ]
     },
     "execution_count": 40,
     "metadata": {},
     "output_type": "execute_result"
    }
   ],
   "source": [
    "# verify gru4rec scores\n",
    "merged_candidates[merged_candidates['sess_id'] == 150001].sort_values(by=['narm_scores'], ascending=False)[['sess_locale', 'product', 'normalized_sasrec_scores_2', 'sasrec_scores_2', 'normalized_narm_scores', 'narm_scores']].iloc[:15]"
   ]
  },
  {
   "attachments": {},
   "cell_type": "markdown",
   "metadata": {},
   "source": [
    "# Merge test score"
   ]
  },
  {
   "cell_type": "code",
   "execution_count": 42,
   "metadata": {},
   "outputs": [],
   "source": [
    "FIELD_NAME = 'narm_scores'"
   ]
  },
  {
   "cell_type": "code",
   "execution_count": 43,
   "metadata": {},
   "outputs": [],
   "source": [
    "merged_candidates_feature_test_path = '/root/autodl-tmp/xiaolong/WorkSpace/Amazon-KDDCUP-23/XGBoost/candidates/merged_candidates_test_2_feature.parquet'\n",
    "test_sessions_path = '/root/autodl-tmp/xiaolong/WorkSpace/Amazon-KDDCUP-23/raw_data/sessions_test_task1.csv'"
   ]
  },
  {
   "cell_type": "code",
   "execution_count": 44,
   "metadata": {},
   "outputs": [],
   "source": [
    "DE_product_embeddings_path = '/root/autodl-tmp/xiaolong/WorkSpace/Amazon-KDDCUP-23/candidates/query_embeddings/NARM/kdd_cup_2023_DE/product_embeddings_2023-05-20-09-38-19.pt'\n",
    "DE_test_embeddings_path = '/root/autodl-tmp/xiaolong/WorkSpace/Amazon-KDDCUP-23/candidates/query_embeddings/NARM/kdd_cup_2023_DE/predict_embeddings_2023-05-20-09-39-47.pt'\n",
    "JP_product_embeddings_path = '/root/autodl-tmp/xiaolong/WorkSpace/Amazon-KDDCUP-23/candidates/query_embeddings/NARM/kdd_cup_2023_JP/product_embeddings_2023-05-20-09-40-17.pt'\n",
    "JP_test_embeddings_path = '/root/autodl-tmp/xiaolong/WorkSpace/Amazon-KDDCUP-23/candidates/query_embeddings/NARM/kdd_cup_2023_JP/predict_embeddings_2023-05-20-09-41-36.pt'\n",
    "UK_product_embeddings_path = '/root/autodl-tmp/xiaolong/WorkSpace/Amazon-KDDCUP-23/candidates/query_embeddings/NARM/kdd_cup_2023_UK/product_embeddings_2023-05-20-09-46-20.pt'\n",
    "UK_test_embeddings_path = '/root/autodl-tmp/xiaolong/WorkSpace/Amazon-KDDCUP-23/candidates/query_embeddings/NARM/kdd_cup_2023_UK/predict_embeddings_2023-05-20-09-47-41.pt'"
   ]
  },
  {
   "cell_type": "code",
   "execution_count": 45,
   "metadata": {},
   "outputs": [],
   "source": [
    "@lru_cache(maxsize=1)\n",
    "def read_merged_candidates_feature_test():\n",
    "    return pd.read_parquet(merged_candidates_feature_test_path, engine='pyarrow')\n",
    "\n",
    "@lru_cache(maxsize=1)\n",
    "def read_test_sessions():\n",
    "    return pd.read_csv(test_sessions_path)"
   ]
  },
  {
   "cell_type": "code",
   "execution_count": 46,
   "metadata": {},
   "outputs": [],
   "source": [
    "merged_candidates = read_merged_candidates_feature_test()\n",
    "test_sessions = read_test_sessions()\n",
    "EMBED_DIM = 128\n",
    "merged_candidates.sort_values(by=['sess_id', 'product'], inplace=True)\n",
    "merged_candidates.reset_index(drop=True, inplace=True)"
   ]
  },
  {
   "cell_type": "code",
   "execution_count": 47,
   "metadata": {},
   "outputs": [],
   "source": [
    "# sess embeddings \n",
    "test_DE_query_emb = torch.load(DE_test_embeddings_path, map_location='cpu')\n",
    "test_JP_query_emb = torch.load(JP_test_embeddings_path, map_location='cpu')\n",
    "test_UK_query_emb = torch.load(UK_test_embeddings_path, map_location='cpu')\n",
    "test_query_embeddings = torch.cat(\n",
    "    [test_DE_query_emb[test_sessions['locale'] == 'DE'], test_JP_query_emb[test_sessions['locale'] == 'JP'], test_UK_query_emb[test_sessions['locale'] == 'UK']],\n",
    "    dim=0)"
   ]
  },
  {
   "cell_type": "code",
   "execution_count": 48,
   "metadata": {},
   "outputs": [],
   "source": [
    "# product embeddings \n",
    "DE_product_emb = torch.load(DE_product_embeddings_path, map_location='cpu')\n",
    "JP_product_emb = torch.load(JP_product_embeddings_path, map_location='cpu')\n",
    "UK_product_emb = torch.load(UK_product_embeddings_path, map_location='cpu')\n",
    "product_embeddings = torch.cat([DE_product_emb, JP_product_emb, UK_product_emb], dim=0)"
   ]
  },
  {
   "cell_type": "code",
   "execution_count": 49,
   "metadata": {},
   "outputs": [],
   "source": [
    "DE_dataset_cache = '/root/autodl-tmp/xiaolong/WorkSpace/Amazon-KDDCUP-23/.recstudio/cache/c76eddf0a07106ffcce7ce8010856a3b'\n",
    "JP_dataset_cache = '/root/autodl-tmp/xiaolong/WorkSpace/Amazon-KDDCUP-23/.recstudio/cache/81a71d0a18766af84b3beab69bf53e69'\n",
    "UK_dataset_cache = '/root/autodl-tmp/xiaolong/WorkSpace/Amazon-KDDCUP-23/.recstudio/cache/250dbc09c30162452e00486051e47756'\n",
    "DE_train_dataset, DE_valid_dataset = _load_cache(DE_dataset_cache)\n",
    "JP_train_dataset, JP_valid_dataset = _load_cache(JP_dataset_cache)\n",
    "UK_train_dataset, UK_valid_dataset = _load_cache(UK_dataset_cache)\n",
    "locale_map = {\n",
    "    'DE' : DE_train_dataset.field2token2idx['product_id'], \n",
    "    'JP' : JP_train_dataset.field2token2idx['product_id'], \n",
    "    'UK' : UK_train_dataset.field2token2idx['product_id']\n",
    "    }"
   ]
  },
  {
   "cell_type": "code",
   "execution_count": 50,
   "metadata": {},
   "outputs": [],
   "source": [
    "DE_product_list, DE_id_list = list(zip(*locale_map['DE'].items()))\n",
    "JP_product_list, JP_id_list = list(zip(*locale_map['JP'].items()))\n",
    "UK_product_list, UK_id_list = list(zip(*locale_map['UK'].items()))\n",
    "product_list = list(DE_product_list) + list(JP_product_list) + list(UK_product_list)\n",
    "id_list = list(DE_id_list) + list(JP_id_list) + list(UK_id_list)\n",
    "locale_list = ['DE'] * len(DE_id_list) + ['JP'] * len(JP_id_list) + ['UK'] * len(UK_id_list)\n",
    "product_id_df = pd.DataFrame({'locale' : locale_list, 'product' : product_list, 'dataset_id' : id_list})"
   ]
  },
  {
   "cell_type": "code",
   "execution_count": 51,
   "metadata": {},
   "outputs": [],
   "source": [
    "merged_candidates_ = merged_candidates[['sess_id', 'sess_locale', 'product']].copy()"
   ]
  },
  {
   "cell_type": "code",
   "execution_count": 52,
   "metadata": {},
   "outputs": [],
   "source": [
    "# merged_candidates_g = cudf.from_pandas(merged_candidates_)\n",
    "# product_id_df_g = cudf.from_pandas(product_id_df)"
   ]
  },
  {
   "cell_type": "code",
   "execution_count": 53,
   "metadata": {},
   "outputs": [],
   "source": [
    "# merged_candidates_score_g = merged_candidates_g.merge(product_id_df_g, how='left', left_on=['sess_locale', 'product'], right_on=['locale', 'product'])\n",
    "# merged_candidates_score_g['dataset_id'] = merged_candidates_score_g['dataset_id'].fillna(0)\n",
    "# merged_candidates_score_g.drop(columns=['locale'], inplace=True)\n",
    "# merged_candidates_score_g = merged_candidates_score_g.sort_values(by=['sess_id', 'product'])\n",
    "# merged_candidates_score_g.reset_index(drop=True, inplace=True)\n",
    "# merged_candidates_score = merged_candidates_score_g.to_pandas()"
   ]
  },
  {
   "cell_type": "code",
   "execution_count": null,
   "metadata": {},
   "outputs": [],
   "source": [
    "merged_candidates_score = merged_candidates_.merge(product_id_df, how='left', left_on=['sess_locale', 'product'], right_on=['locale', 'product'])\n",
    "merged_candidates_score['dataset_id'] = merged_candidates_score['dataset_id'].fillna(0)\n",
    "merged_candidates_score.drop(columns=['locale'], inplace=True)\n",
    "merged_candidates_score = merged_candidates_score.sort_values(by=['sess_id', 'product'])\n",
    "merged_candidates_score.reset_index(drop=True, inplace=True)\n",
    "assert len(merged_candidates_score) == len(merged_candidates)"
   ]
  },
  {
   "cell_type": "code",
   "execution_count": 54,
   "metadata": {},
   "outputs": [],
   "source": [
    "# del merged_candidates_g\n",
    "# del product_id_df_g\n",
    "# del merged_candidates_score_g"
   ]
  },
  {
   "cell_type": "code",
   "execution_count": 55,
   "metadata": {},
   "outputs": [
    {
     "name": "stderr",
     "output_type": "stream",
     "text": [
      "/tmp/ipykernel_163935/2978421209.py:3: SettingWithCopyWarning: \n",
      "A value is trying to be set on a copy of a slice from a DataFrame\n",
      "\n",
      "See the caveats in the documentation: https://pandas.pydata.org/pandas-docs/stable/user_guide/indexing.html#returning-a-view-versus-a-copy\n",
      "  merged_candidates_score['dataset_id'][merged_candidates_score['sess_locale'] == locale] = \\\n"
     ]
    }
   ],
   "source": [
    "locale_offset = {'DE' : 0, 'JP' : len(DE_product_list), 'UK' : len(DE_product_list) + len(JP_product_list)}\n",
    "for locale in ['DE', 'JP', 'UK']:\n",
    "    merged_candidates_score['dataset_id'][merged_candidates_score['sess_locale'] == locale] = \\\n",
    "        merged_candidates_score['dataset_id'][merged_candidates_score['sess_locale'] == locale] + locale_offset[locale]"
   ]
  },
  {
   "cell_type": "code",
   "execution_count": 56,
   "metadata": {},
   "outputs": [
    {
     "name": "stderr",
     "output_type": "stream",
     "text": [
      "100%|██████████| 33901/33901 [01:31<00:00, 371.64it/s]\n"
     ]
    }
   ],
   "source": [
    "merged_candidates_score[FIELD_NAME] = get_scores(merged_candidates_score, test_query_embeddings, product_embeddings)"
   ]
  },
  {
   "cell_type": "code",
   "execution_count": 57,
   "metadata": {},
   "outputs": [],
   "source": [
    "normalize_scores(merged_candidates_score, FIELD_NAME, 'normalized_'+FIELD_NAME)"
   ]
  },
  {
   "cell_type": "code",
   "execution_count": 58,
   "metadata": {},
   "outputs": [],
   "source": [
    "merged_candidates[FIELD_NAME] = merged_candidates_score[FIELD_NAME]\n",
    "merged_candidates['normalized_'+FIELD_NAME] = merged_candidates_score['normalized_'+FIELD_NAME]"
   ]
  },
  {
   "cell_type": "code",
   "execution_count": 60,
   "metadata": {},
   "outputs": [],
   "source": [
    "cast_dtype(merged_candidates, [FIELD_NAME, 'normalized_'+FIELD_NAME])\n",
    "merged_candidates.to_parquet(merged_candidates_feature_test_path, engine='pyarrow')"
   ]
  },
  {
   "cell_type": "code",
   "execution_count": 59,
   "metadata": {},
   "outputs": [
    {
     "data": {
      "text/html": [
       "<div>\n",
       "<style scoped>\n",
       "    .dataframe tbody tr th:only-of-type {\n",
       "        vertical-align: middle;\n",
       "    }\n",
       "\n",
       "    .dataframe tbody tr th {\n",
       "        vertical-align: top;\n",
       "    }\n",
       "\n",
       "    .dataframe thead th {\n",
       "        text-align: right;\n",
       "    }\n",
       "</style>\n",
       "<table border=\"1\" class=\"dataframe\">\n",
       "  <thead>\n",
       "    <tr style=\"text-align: right;\">\n",
       "      <th></th>\n",
       "      <th>sess_locale</th>\n",
       "      <th>product</th>\n",
       "      <th>gru4rec_normalized_scores_2</th>\n",
       "      <th>gru4rec_scores_2</th>\n",
       "      <th>normalized_narm_scores</th>\n",
       "      <th>narm_scores</th>\n",
       "    </tr>\n",
       "  </thead>\n",
       "  <tbody>\n",
       "    <tr>\n",
       "      <th>21586793</th>\n",
       "      <td>DE</td>\n",
       "      <td>B07TRQH45S</td>\n",
       "      <td>0.129736</td>\n",
       "      <td>12.857471</td>\n",
       "      <td>0.106933</td>\n",
       "      <td>12.473371</td>\n",
       "    </tr>\n",
       "    <tr>\n",
       "      <th>21586937</th>\n",
       "      <td>DE</td>\n",
       "      <td>B0B6WNV91T</td>\n",
       "      <td>0.124358</td>\n",
       "      <td>12.815129</td>\n",
       "      <td>0.105796</td>\n",
       "      <td>12.462686</td>\n",
       "    </tr>\n",
       "    <tr>\n",
       "      <th>21586762</th>\n",
       "      <td>DE</td>\n",
       "      <td>B01N4ND1T2</td>\n",
       "      <td>0.121831</td>\n",
       "      <td>12.794599</td>\n",
       "      <td>0.027377</td>\n",
       "      <td>11.110870</td>\n",
       "    </tr>\n",
       "    <tr>\n",
       "      <th>21586866</th>\n",
       "      <td>DE</td>\n",
       "      <td>B09F2J37V4</td>\n",
       "      <td>0.085040</td>\n",
       "      <td>12.435093</td>\n",
       "      <td>0.038476</td>\n",
       "      <td>11.451196</td>\n",
       "    </tr>\n",
       "    <tr>\n",
       "      <th>21586840</th>\n",
       "      <td>DE</td>\n",
       "      <td>B092CMLDHW</td>\n",
       "      <td>0.034603</td>\n",
       "      <td>11.535893</td>\n",
       "      <td>0.042144</td>\n",
       "      <td>11.542260</td>\n",
       "    </tr>\n",
       "    <tr>\n",
       "      <th>21586934</th>\n",
       "      <td>DE</td>\n",
       "      <td>B0B62K5H9P</td>\n",
       "      <td>0.030203</td>\n",
       "      <td>11.399909</td>\n",
       "      <td>0.044146</td>\n",
       "      <td>11.588679</td>\n",
       "    </tr>\n",
       "    <tr>\n",
       "      <th>21586943</th>\n",
       "      <td>DE</td>\n",
       "      <td>B0BD8911Y1</td>\n",
       "      <td>0.029017</td>\n",
       "      <td>11.359835</td>\n",
       "      <td>0.015760</td>\n",
       "      <td>10.558624</td>\n",
       "    </tr>\n",
       "    <tr>\n",
       "      <th>21586901</th>\n",
       "      <td>DE</td>\n",
       "      <td>B09SMK3R8H</td>\n",
       "      <td>0.024517</td>\n",
       "      <td>11.191334</td>\n",
       "      <td>0.035262</td>\n",
       "      <td>11.363962</td>\n",
       "    </tr>\n",
       "    <tr>\n",
       "      <th>21586761</th>\n",
       "      <td>DE</td>\n",
       "      <td>B01N4ND0F9</td>\n",
       "      <td>0.021267</td>\n",
       "      <td>11.049112</td>\n",
       "      <td>0.030130</td>\n",
       "      <td>11.206704</td>\n",
       "    </tr>\n",
       "    <tr>\n",
       "      <th>21586870</th>\n",
       "      <td>DE</td>\n",
       "      <td>B09F66MWVX</td>\n",
       "      <td>0.018534</td>\n",
       "      <td>10.911561</td>\n",
       "      <td>0.026572</td>\n",
       "      <td>11.081043</td>\n",
       "    </tr>\n",
       "    <tr>\n",
       "      <th>21586824</th>\n",
       "      <td>DE</td>\n",
       "      <td>B08H1YNK3P</td>\n",
       "      <td>0.015597</td>\n",
       "      <td>10.739016</td>\n",
       "      <td>0.033023</td>\n",
       "      <td>11.298387</td>\n",
       "    </tr>\n",
       "    <tr>\n",
       "      <th>21586887</th>\n",
       "      <td>DE</td>\n",
       "      <td>B09NQ7T1D2</td>\n",
       "      <td>0.015521</td>\n",
       "      <td>10.734191</td>\n",
       "      <td>0.035411</td>\n",
       "      <td>11.368205</td>\n",
       "    </tr>\n",
       "    <tr>\n",
       "      <th>21586757</th>\n",
       "      <td>DE</td>\n",
       "      <td>B01MS7YUA7</td>\n",
       "      <td>0.015002</td>\n",
       "      <td>10.700182</td>\n",
       "      <td>0.010092</td>\n",
       "      <td>10.112946</td>\n",
       "    </tr>\n",
       "    <tr>\n",
       "      <th>21586853</th>\n",
       "      <td>DE</td>\n",
       "      <td>B097C5M3G4</td>\n",
       "      <td>0.013765</td>\n",
       "      <td>10.614107</td>\n",
       "      <td>0.021356</td>\n",
       "      <td>10.862519</td>\n",
       "    </tr>\n",
       "    <tr>\n",
       "      <th>21586821</th>\n",
       "      <td>DE</td>\n",
       "      <td>B08F44MNK9</td>\n",
       "      <td>0.012153</td>\n",
       "      <td>10.489535</td>\n",
       "      <td>0.010109</td>\n",
       "      <td>10.114584</td>\n",
       "    </tr>\n",
       "  </tbody>\n",
       "</table>\n",
       "</div>"
      ],
      "text/plain": [
       "         sess_locale     product  gru4rec_normalized_scores_2  \\\n",
       "21586793          DE  B07TRQH45S                     0.129736   \n",
       "21586937          DE  B0B6WNV91T                     0.124358   \n",
       "21586762          DE  B01N4ND1T2                     0.121831   \n",
       "21586866          DE  B09F2J37V4                     0.085040   \n",
       "21586840          DE  B092CMLDHW                     0.034603   \n",
       "21586934          DE  B0B62K5H9P                     0.030203   \n",
       "21586943          DE  B0BD8911Y1                     0.029017   \n",
       "21586901          DE  B09SMK3R8H                     0.024517   \n",
       "21586761          DE  B01N4ND0F9                     0.021267   \n",
       "21586870          DE  B09F66MWVX                     0.018534   \n",
       "21586824          DE  B08H1YNK3P                     0.015597   \n",
       "21586887          DE  B09NQ7T1D2                     0.015521   \n",
       "21586757          DE  B01MS7YUA7                     0.015002   \n",
       "21586853          DE  B097C5M3G4                     0.013765   \n",
       "21586821          DE  B08F44MNK9                     0.012153   \n",
       "\n",
       "          gru4rec_scores_2  normalized_narm_scores  narm_scores  \n",
       "21586793         12.857471                0.106933    12.473371  \n",
       "21586937         12.815129                0.105796    12.462686  \n",
       "21586762         12.794599                0.027377    11.110870  \n",
       "21586866         12.435093                0.038476    11.451196  \n",
       "21586840         11.535893                0.042144    11.542260  \n",
       "21586934         11.399909                0.044146    11.588679  \n",
       "21586943         11.359835                0.015760    10.558624  \n",
       "21586901         11.191334                0.035262    11.363962  \n",
       "21586761         11.049112                0.030130    11.206704  \n",
       "21586870         10.911561                0.026572    11.081043  \n",
       "21586824         10.739016                0.033023    11.298387  \n",
       "21586887         10.734191                0.035411    11.368205  \n",
       "21586757         10.700182                0.010092    10.112946  \n",
       "21586853         10.614107                0.021356    10.862519  \n",
       "21586821         10.489535                0.010109    10.114584  "
      ]
     },
     "execution_count": 59,
     "metadata": {},
     "output_type": "execute_result"
    }
   ],
   "source": [
    "merged_candidates[(merged_candidates['sess_id'] == 100005)].sort_values(by='normalized_sasrec_scores_2', ascending=False)[\n",
    "    ['sess_locale', 'product', 'normalized_sasrec_scores_2', 'sasrec_scores_2', 'normalized_narm_scores', 'narm_scores']\n",
    "][:15]"
   ]
  }
 ],
 "metadata": {
  "kernelspec": {
   "display_name": "torch12",
   "language": "python",
   "name": "python3"
  },
  "language_info": {
   "codemirror_mode": {
    "name": "ipython",
    "version": 3
   },
   "file_extension": ".py",
   "mimetype": "text/x-python",
   "name": "python",
   "nbconvert_exporter": "python",
   "pygments_lexer": "ipython3",
   "version": "3.9.16"
  },
  "orig_nbformat": 4
 },
 "nbformat": 4,
 "nbformat_minor": 2
}
