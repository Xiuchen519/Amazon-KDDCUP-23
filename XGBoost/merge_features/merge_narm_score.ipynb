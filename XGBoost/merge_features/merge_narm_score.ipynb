{
 "cells": [
  {
   "attachments": {},
   "cell_type": "markdown",
   "metadata": {},
   "source": [
    "use loc[i, field] instead of iloc[i, field], iloc is very slow."
   ]
  },
  {
   "cell_type": "code",
   "execution_count": 1,
   "metadata": {
    "execution": {
     "iopub.execute_input": "2023-06-01T15:38:40.177713Z",
     "iopub.status.busy": "2023-06-01T15:38:40.177217Z",
     "iopub.status.idle": "2023-06-01T15:38:41.688495Z",
     "shell.execute_reply": "2023-06-01T15:38:41.687296Z"
    }
   },
   "outputs": [],
   "source": [
    "import sys\n",
    "sys.path = ['/root/autodl-tmp/xiaolong/WorkSpace/Amazon-KDDCUP-23/RecStudio/'] + sys.path\n",
    "import random\n",
    "import numpy as np\n",
    "import pandas as pd\n",
    "# import cudf, itertools\n",
    "import scipy.sparse as ssp\n",
    "from functools import lru_cache, partial\n",
    "from tqdm import tqdm, trange\n",
    "from collections import Counter, defaultdict\n",
    "import torch\n",
    "import pickle\n"
   ]
  },
  {
   "cell_type": "code",
   "execution_count": 2,
   "metadata": {
    "execution": {
     "iopub.execute_input": "2023-06-01T15:38:41.695103Z",
     "iopub.status.busy": "2023-06-01T15:38:41.694436Z",
     "iopub.status.idle": "2023-06-01T15:38:41.703732Z",
     "shell.execute_reply": "2023-06-01T15:38:41.703063Z"
    }
   },
   "outputs": [],
   "source": [
    "def cast_dtype(df : pd.DataFrame, columns=None):\n",
    "    if columns is None:\n",
    "        columns = df.columns\n",
    "    for k in columns:\n",
    "        dt = type(df[k].iloc[0])\n",
    "        if 'float' in str(dt):\n",
    "            df[k] = df[k].astype('float32')\n",
    "        elif 'int' in str(dt):\n",
    "            df[k] = df[k].astype('int32')\n",
    "        elif dt == list:\n",
    "            dt_ = type(df.iloc[0][k][0])\n",
    "            if 'float' in str(dt_):\n",
    "                df[k] = df[k].apply(lambda x : np.array(x, dtype=np.float32))\n",
    "            elif 'int' in str(dt_):\n",
    "                df[k] = df[k].apply(lambda x : np.array(x, dtype=np.int32))"
   ]
  },
  {
   "cell_type": "code",
   "execution_count": 3,
   "metadata": {
    "execution": {
     "iopub.execute_input": "2023-06-01T15:38:41.712699Z",
     "iopub.status.busy": "2023-06-01T15:38:41.711925Z",
     "iopub.status.idle": "2023-06-01T15:38:41.719914Z",
     "shell.execute_reply": "2023-06-01T15:38:41.718694Z"
    }
   },
   "outputs": [],
   "source": [
    "def _load_cache(path):\n",
    "    with open(path, 'rb') as f:\n",
    "        download_obj = pickle.load(f)\n",
    "    return download_obj"
   ]
  },
  {
   "cell_type": "code",
   "execution_count": 4,
   "metadata": {
    "execution": {
     "iopub.execute_input": "2023-06-01T15:38:41.727865Z",
     "iopub.status.busy": "2023-06-01T15:38:41.727233Z",
     "iopub.status.idle": "2023-06-01T15:38:41.739926Z",
     "shell.execute_reply": "2023-06-01T15:38:41.738906Z"
    }
   },
   "outputs": [],
   "source": [
    "def get_scores(merged_candidates_df, query_embeddings, product_embeddings):\n",
    "    batch_size = 2048\n",
    "    num_iter = (len(merged_candidates_df) - 1) // batch_size + 1\n",
    "    score_list = []\n",
    "    with torch.no_grad():\n",
    "        for i in tqdm(range(num_iter)):\n",
    "            st, ed = i * batch_size, (i + 1) * batch_size \n",
    "            batch_sess = merged_candidates_df.iloc[st : ed]\n",
    "            batch_sess_id = torch.tensor(batch_sess['sess_id'].tolist(), dtype=torch.long, device=query_embeddings.device)\n",
    "            batch_product_id = torch.tensor(batch_sess['dataset_id'].tolist(), dtype=torch.long, device=product_embeddings.device)\n",
    "            query_emb = query_embeddings[batch_sess_id].to('cuda:2')\n",
    "            product_emb = product_embeddings[batch_product_id].to('cuda:2')\n",
    "            batch_score = (query_emb * product_emb).sum(dim=-1) \n",
    "            score_list.append(batch_score.cpu())\n",
    "        score_list = torch.cat(score_list, dim=0).cpu().tolist()\n",
    "        return score_list "
   ]
  },
  {
   "cell_type": "code",
   "execution_count": 5,
   "metadata": {
    "execution": {
     "iopub.execute_input": "2023-06-01T15:38:41.747082Z",
     "iopub.status.busy": "2023-06-01T15:38:41.746574Z",
     "iopub.status.idle": "2023-06-01T15:38:41.756353Z",
     "shell.execute_reply": "2023-06-01T15:38:41.755377Z"
    }
   },
   "outputs": [],
   "source": [
    "def normalize_scores(score_df, score_name, normalized_score_name):\n",
    "    # score_df_g = cudf.from_pandas(score_df)\n",
    "    score_df['exp_score'] = np.exp(score_df[score_name].to_numpy())\n",
    "    scores_sum = score_df[['sess_id', 'exp_score']].groupby('sess_id').sum()\n",
    "    scores_sum.reset_index(inplace=True)\n",
    "    scores_sum = scores_sum.sort_values(by=['sess_id'], ascending=True)\n",
    "    scores_sum.reset_index(drop=True, inplace=True)\n",
    "    scores_sum.rename(columns={'exp_score' : 'score_sum'}, inplace=True)\n",
    "\n",
    "    merged_score_df = score_df.merge(scores_sum, how='left', left_on=['sess_id'], right_on=['sess_id'])\n",
    "    merged_score_df = merged_score_df.sort_values(by=['sess_id', 'product'])\n",
    "    merged_score_df.reset_index(drop=True, inplace=True)\n",
    "    \n",
    "    # merged_score_df = merged_score_df_g.to_pandas(merged_score_df_g)\n",
    "    score_df[normalized_score_name] = merged_score_df['exp_score'] / merged_score_df['score_sum']\n",
    "    score_df['exp_score'] = merged_score_df['exp_score']\n",
    "    score_df['score_sum'] = merged_score_df['score_sum']\n",
    "\n",
    "    # del scores_sum_g\n",
    "    # del merged_score_df_g "
   ]
  },
  {
   "attachments": {},
   "cell_type": "markdown",
   "metadata": {},
   "source": [
    "# Merge valid score"
   ]
  },
  {
   "cell_type": "code",
   "execution_count": 6,
   "metadata": {
    "execution": {
     "iopub.execute_input": "2023-06-01T15:38:41.762610Z",
     "iopub.status.busy": "2023-06-01T15:38:41.762118Z",
     "iopub.status.idle": "2023-06-01T15:38:41.766999Z",
     "shell.execute_reply": "2023-06-01T15:38:41.766029Z"
    }
   },
   "outputs": [],
   "source": [
    "merged_candidates_feature_path = '/root/autodl-tmp/xiaolong/WorkSpace/Amazon-KDDCUP-23/XGBoost/candidates_phase2/merged_candidates_150_feature.parquet'\n",
    "valid_sessions_path = '/root/autodl-tmp/xiaolong/WorkSpace/Amazon-KDDCUP-23/data_for_recstudio/task1_data/task13_4_task1_valid_sessions_phase2.csv'\n",
    "test_sessions_path = '/root/autodl-tmp/xiaolong/WorkSpace/Amazon-KDDCUP-23/raw_data/sessions_test_task1_phase2.csv'"
   ]
  },
  {
   "cell_type": "code",
   "execution_count": 7,
   "metadata": {
    "execution": {
     "iopub.execute_input": "2023-06-01T15:38:41.773924Z",
     "iopub.status.busy": "2023-06-01T15:38:41.773369Z",
     "iopub.status.idle": "2023-06-01T15:38:41.780194Z",
     "shell.execute_reply": "2023-06-01T15:38:41.779174Z"
    }
   },
   "outputs": [],
   "source": [
    "@lru_cache(maxsize=1)\n",
    "def read_merged_candidates_feature():\n",
    "    return pd.read_parquet(merged_candidates_feature_path, engine='pyarrow')\n",
    "\n",
    "@lru_cache(maxsize=1)\n",
    "def read_valid_sessions():\n",
    "    return pd.read_csv(valid_sessions_path)\n",
    "\n",
    "@lru_cache(maxsize=1)\n",
    "def read_test_sessions():\n",
    "    return pd.read_csv(test_sessions_path)"
   ]
  },
  {
   "cell_type": "code",
   "execution_count": 8,
   "metadata": {
    "execution": {
     "iopub.execute_input": "2023-06-01T15:38:41.787594Z",
     "iopub.status.busy": "2023-06-01T15:38:41.787031Z",
     "iopub.status.idle": "2023-06-01T15:38:41.791841Z",
     "shell.execute_reply": "2023-06-01T15:38:41.791031Z"
    }
   },
   "outputs": [],
   "source": [
    "FIELD_NAME = 'narm_scores'"
   ]
  },
  {
   "cell_type": "code",
   "execution_count": 9,
   "metadata": {
    "execution": {
     "iopub.execute_input": "2023-06-01T15:38:41.797378Z",
     "iopub.status.busy": "2023-06-01T15:38:41.796878Z",
     "iopub.status.idle": "2023-06-01T15:38:41.802637Z",
     "shell.execute_reply": "2023-06-01T15:38:41.801587Z"
    }
   },
   "outputs": [],
   "source": [
    "DE_product_embeddings_path = '/root/autodl-tmp/xiaolong/WorkSpace/Amazon-KDDCUP-23/candidates_phase2/query_embeddings/NARM/kdd_cup_2023_DE/product_embeddings_2023-05-31-22-40-01.pt'\n",
    "DE_valid_embeddings_path = '/root/autodl-tmp/xiaolong/WorkSpace/Amazon-KDDCUP-23/candidates_phase2/query_embeddings/NARM/kdd_cup_2023_DE/valid_embeddings_2023-05-31-22-40-09.pt'\n",
    "JP_product_embeddings_path = '/root/autodl-tmp/xiaolong/WorkSpace/Amazon-KDDCUP-23/candidates_phase2/query_embeddings/NARM/kdd_cup_2023_JP/product_embeddings_2023-05-31-22-41-57.pt'\n",
    "JP_valid_embeddings_path = '/root/autodl-tmp/xiaolong/WorkSpace/Amazon-KDDCUP-23/candidates_phase2/query_embeddings/NARM/kdd_cup_2023_JP/valid_embeddings_2023-05-31-22-42-04.pt'\n",
    "UK_product_embeddings_path = '/root/autodl-tmp/xiaolong/WorkSpace/Amazon-KDDCUP-23/candidates_phase2/query_embeddings/NARM/kdd_cup_2023_UK/product_embeddings_2023-05-31-22-43-33.pt'\n",
    "UK_valid_embeddings_path = '/root/autodl-tmp/xiaolong/WorkSpace/Amazon-KDDCUP-23/candidates_phase2/query_embeddings/NARM/kdd_cup_2023_UK/valid_embeddings_2023-05-31-22-43-38.pt'"
   ]
  },
  {
   "cell_type": "code",
   "execution_count": 10,
   "metadata": {
    "execution": {
     "iopub.execute_input": "2023-06-01T15:38:41.808411Z",
     "iopub.status.busy": "2023-06-01T15:38:41.807952Z",
     "iopub.status.idle": "2023-06-01T15:38:41.813375Z",
     "shell.execute_reply": "2023-06-01T15:38:41.812242Z"
    }
   },
   "outputs": [],
   "source": [
    "DE_dataset_cache = '/root/autodl-tmp/xiaolong/WorkSpace/Amazon-KDDCUP-23/.recstudio/cache/b5aeac4e5b9ff0518bbcb59a28086594'\n",
    "JP_dataset_cache = '/root/autodl-tmp/xiaolong/WorkSpace/Amazon-KDDCUP-23/.recstudio/cache/2536617955df215e0047f5b220d1c012'\n",
    "UK_dataset_cache = '/root/autodl-tmp/xiaolong/WorkSpace/Amazon-KDDCUP-23/.recstudio/cache/8d133ea55ad67bd3efd625dfeff0fb1d'"
   ]
  },
  {
   "cell_type": "code",
   "execution_count": 11,
   "metadata": {
    "execution": {
     "iopub.execute_input": "2023-06-01T15:38:41.817924Z",
     "iopub.status.busy": "2023-06-01T15:38:41.817520Z",
     "iopub.status.idle": "2023-06-01T15:39:03.459583Z",
     "shell.execute_reply": "2023-06-01T15:39:03.458328Z"
    }
   },
   "outputs": [],
   "source": [
    "DE_train_dataset, DE_valid_dataset = _load_cache(DE_dataset_cache)\n",
    "JP_train_dataset, JP_valid_dataset = _load_cache(JP_dataset_cache)\n",
    "UK_train_dataset, UK_valid_dataset = _load_cache(UK_dataset_cache)\n",
    "locale_map = {\n",
    "    'DE' : DE_train_dataset.field2token2idx['product_id'], \n",
    "    'JP' : JP_train_dataset.field2token2idx['product_id'], \n",
    "    'UK' : UK_train_dataset.field2token2idx['product_id']\n",
    "    }"
   ]
  },
  {
   "cell_type": "code",
   "execution_count": 12,
   "metadata": {
    "execution": {
     "iopub.execute_input": "2023-06-01T15:39:03.465337Z",
     "iopub.status.busy": "2023-06-01T15:39:03.464309Z",
     "iopub.status.idle": "2023-06-01T15:41:37.272291Z",
     "shell.execute_reply": "2023-06-01T15:41:37.270732Z"
    }
   },
   "outputs": [],
   "source": [
    "merged_candidates = read_merged_candidates_feature()\n",
    "valid_sessions = read_valid_sessions()\n",
    "EMBED_DIM = 128\n",
    "merged_candidates.sort_values(by=['sess_id', 'product'], inplace=True)\n",
    "merged_candidates.reset_index(drop=True, inplace=True)"
   ]
  },
  {
   "cell_type": "code",
   "execution_count": 13,
   "metadata": {
    "execution": {
     "iopub.execute_input": "2023-06-01T15:41:37.278117Z",
     "iopub.status.busy": "2023-06-01T15:41:37.277518Z",
     "iopub.status.idle": "2023-06-01T15:41:37.640845Z",
     "shell.execute_reply": "2023-06-01T15:41:37.639524Z"
    }
   },
   "outputs": [],
   "source": [
    "# sess embeddings \n",
    "valid_DE_query_emb = torch.load(DE_valid_embeddings_path, map_location='cpu')\n",
    "valid_JP_query_emb = torch.load(JP_valid_embeddings_path, map_location='cpu')\n",
    "valid_UK_query_emb = torch.load(UK_valid_embeddings_path, map_location='cpu')\n",
    "valid_query_embeddings = torch.empty(len(valid_sessions), EMBED_DIM)\n",
    "valid_query_embeddings[(valid_sessions[valid_sessions['locale'] == 'DE'].index).tolist()] = valid_DE_query_emb\n",
    "valid_query_embeddings[(valid_sessions[valid_sessions['locale'] == 'JP'].index).tolist()] = valid_JP_query_emb\n",
    "valid_query_embeddings[(valid_sessions[valid_sessions['locale'] == 'UK'].index).tolist()] = valid_UK_query_emb"
   ]
  },
  {
   "cell_type": "code",
   "execution_count": 14,
   "metadata": {
    "execution": {
     "iopub.execute_input": "2023-06-01T15:41:37.648062Z",
     "iopub.status.busy": "2023-06-01T15:41:37.647582Z",
     "iopub.status.idle": "2023-06-01T15:41:38.363518Z",
     "shell.execute_reply": "2023-06-01T15:41:38.362565Z"
    }
   },
   "outputs": [],
   "source": [
    "# product_embeddings \n",
    "DE_product_emb = torch.load(DE_product_embeddings_path, map_location='cpu')\n",
    "JP_product_emb = torch.load(JP_product_embeddings_path, map_location='cpu')\n",
    "UK_product_emb = torch.load(UK_product_embeddings_path, map_location='cpu')\n",
    "product_embeddings = torch.cat([DE_product_emb, JP_product_emb, UK_product_emb], dim=0)"
   ]
  },
  {
   "cell_type": "code",
   "execution_count": 15,
   "metadata": {
    "execution": {
     "iopub.execute_input": "2023-06-01T15:41:38.368899Z",
     "iopub.status.busy": "2023-06-01T15:41:38.368237Z",
     "iopub.status.idle": "2023-06-01T15:41:50.765876Z",
     "shell.execute_reply": "2023-06-01T15:41:50.764719Z"
    }
   },
   "outputs": [],
   "source": [
    "merged_candidates_ = merged_candidates[['sess_id', 'sess_locale', 'product']].copy()"
   ]
  },
  {
   "cell_type": "code",
   "execution_count": 16,
   "metadata": {
    "execution": {
     "iopub.execute_input": "2023-06-01T15:41:50.771060Z",
     "iopub.status.busy": "2023-06-01T15:41:50.770506Z",
     "iopub.status.idle": "2023-06-01T15:41:53.650586Z",
     "shell.execute_reply": "2023-06-01T15:41:53.649934Z"
    }
   },
   "outputs": [],
   "source": [
    "DE_product_list, DE_id_list = list(zip(*locale_map['DE'].items()))\n",
    "JP_product_list, JP_id_list = list(zip(*locale_map['JP'].items()))\n",
    "UK_product_list, UK_id_list = list(zip(*locale_map['UK'].items()))\n",
    "product_list = list(DE_product_list) + list(JP_product_list) + list(UK_product_list)\n",
    "id_list = list(DE_id_list) + list(JP_id_list) + list(UK_id_list)\n",
    "locale_list = ['DE'] * len(DE_id_list) + ['JP'] * len(JP_id_list) + ['UK'] * len(UK_id_list)\n",
    "product_id_df = pd.DataFrame({'locale' : locale_list, 'product' : product_list, 'dataset_id' : id_list})"
   ]
  },
  {
   "cell_type": "code",
   "execution_count": 17,
   "metadata": {
    "execution": {
     "iopub.execute_input": "2023-06-01T15:41:53.655317Z",
     "iopub.status.busy": "2023-06-01T15:41:53.654922Z",
     "iopub.status.idle": "2023-06-01T15:41:53.659142Z",
     "shell.execute_reply": "2023-06-01T15:41:53.658044Z"
    }
   },
   "outputs": [],
   "source": [
    "# merged_candidates_g = cudf.from_pandas(merged_candidates_)\n",
    "# product_id_df_g = cudf.from_pandas(product_id_df)"
   ]
  },
  {
   "cell_type": "code",
   "execution_count": 18,
   "metadata": {
    "execution": {
     "iopub.execute_input": "2023-06-01T15:41:53.663970Z",
     "iopub.status.busy": "2023-06-01T15:41:53.663555Z",
     "iopub.status.idle": "2023-06-01T15:41:53.667677Z",
     "shell.execute_reply": "2023-06-01T15:41:53.666881Z"
    }
   },
   "outputs": [],
   "source": [
    "# merged_candidates_score_g = merged_candidates_g.merge(product_id_df_g, how='left', left_on=['sess_locale', 'product'], right_on=['locale', 'product'])\n",
    "# merged_candidates_score_g['dataset_id'] = merged_candidates_score_g['dataset_id'].fillna(0)\n",
    "# merged_candidates_score_g.drop(columns=['locale'], inplace=True)\n",
    "# merged_candidates_score_g = merged_candidates_score_g.sort_values(by=['sess_id', 'product'])\n",
    "# merged_candidates_score_g.reset_index(drop=True, inplace=True)\n",
    "# merged_candidates_score = merged_candidates_score_g.to_pandas()"
   ]
  },
  {
   "cell_type": "code",
   "execution_count": 19,
   "metadata": {
    "execution": {
     "iopub.execute_input": "2023-06-01T15:41:53.674298Z",
     "iopub.status.busy": "2023-06-01T15:41:53.673775Z",
     "iopub.status.idle": "2023-06-01T15:45:23.033481Z",
     "shell.execute_reply": "2023-06-01T15:45:23.032432Z"
    }
   },
   "outputs": [],
   "source": [
    "merged_candidates_score = merged_candidates_.merge(product_id_df, how='left', left_on=['sess_locale', 'product'], right_on=['locale', 'product'])\n",
    "merged_candidates_score['dataset_id'] = merged_candidates_score['dataset_id'].fillna(0)\n",
    "merged_candidates_score.drop(columns=['locale'], inplace=True)\n",
    "merged_candidates_score = merged_candidates_score.sort_values(by=['sess_id', 'product'])\n",
    "merged_candidates_score.reset_index(drop=True, inplace=True)\n",
    "assert len(merged_candidates_score) == len(merged_candidates)"
   ]
  },
  {
   "cell_type": "code",
   "execution_count": 20,
   "metadata": {
    "execution": {
     "iopub.execute_input": "2023-06-01T15:45:23.046581Z",
     "iopub.status.busy": "2023-06-01T15:45:23.046036Z",
     "iopub.status.idle": "2023-06-01T15:45:23.051269Z",
     "shell.execute_reply": "2023-06-01T15:45:23.050105Z"
    }
   },
   "outputs": [],
   "source": [
    "# del merged_candidates_g\n",
    "# del product_id_df_g\n",
    "# del merged_candidates_score_g"
   ]
  },
  {
   "cell_type": "code",
   "execution_count": 21,
   "metadata": {
    "execution": {
     "iopub.execute_input": "2023-06-01T15:45:23.059761Z",
     "iopub.status.busy": "2023-06-01T15:45:23.058784Z",
     "iopub.status.idle": "2023-06-01T15:46:21.689984Z",
     "shell.execute_reply": "2023-06-01T15:46:21.688485Z"
    }
   },
   "outputs": [
    {
     "name": "stderr",
     "output_type": "stream",
     "text": [
      "/tmp/ipykernel_147445/2978421209.py:3: SettingWithCopyWarning: \n",
      "A value is trying to be set on a copy of a slice from a DataFrame\n",
      "\n",
      "See the caveats in the documentation: https://pandas.pydata.org/pandas-docs/stable/user_guide/indexing.html#returning-a-view-versus-a-copy\n",
      "  merged_candidates_score['dataset_id'][merged_candidates_score['sess_locale'] == locale] = \\\n"
     ]
    }
   ],
   "source": [
    "locale_offset = {'DE' : 0, 'JP' : len(DE_product_list), 'UK' : len(DE_product_list) + len(JP_product_list)}\n",
    "for locale in ['DE', 'JP', 'UK']:\n",
    "    merged_candidates_score['dataset_id'][merged_candidates_score['sess_locale'] == locale] = \\\n",
    "        merged_candidates_score['dataset_id'][merged_candidates_score['sess_locale'] == locale] + locale_offset[locale]"
   ]
  },
  {
   "cell_type": "code",
   "execution_count": 22,
   "metadata": {
    "execution": {
     "iopub.execute_input": "2023-06-01T15:46:21.696322Z",
     "iopub.status.busy": "2023-06-01T15:46:21.695741Z",
     "iopub.status.idle": "2023-06-01T15:54:36.883671Z",
     "shell.execute_reply": "2023-06-01T15:54:36.882608Z"
    }
   },
   "outputs": [
    {
     "name": "stderr",
     "output_type": "stream",
     "text": [
      "  0%|                                                                                                       | 0/76995 [00:00<?, ?it/s]/tmp/ipykernel_147445/3341618832.py:10: DeprecationWarning: an integer is required (got type float).  Implicit conversion to integers using __int__ is deprecated, and may be removed in a future version of Python.\n",
      "  batch_product_id = torch.tensor(batch_sess['dataset_id'].tolist(), dtype=torch.long, device=product_embeddings.device)\n",
      "100%|██████████████████████████████████████████████████████████████████████████████████████████| 76995/76995 [07:58<00:00, 160.89it/s]\n"
     ]
    }
   ],
   "source": [
    "merged_candidates_score[FIELD_NAME] = get_scores(merged_candidates_score, valid_query_embeddings, product_embeddings)"
   ]
  },
  {
   "cell_type": "code",
   "execution_count": 23,
   "metadata": {
    "execution": {
     "iopub.execute_input": "2023-06-01T15:54:36.891803Z",
     "iopub.status.busy": "2023-06-01T15:54:36.891334Z",
     "iopub.status.idle": "2023-06-01T15:54:37.003668Z",
     "shell.execute_reply": "2023-06-01T15:54:37.002658Z"
    }
   },
   "outputs": [],
   "source": [
    "del valid_query_embeddings\n",
    "del product_embeddings"
   ]
  },
  {
   "cell_type": "code",
   "execution_count": 24,
   "metadata": {
    "execution": {
     "iopub.execute_input": "2023-06-01T15:54:37.011843Z",
     "iopub.status.busy": "2023-06-01T15:54:37.011427Z",
     "iopub.status.idle": "2023-06-01T15:57:08.378947Z",
     "shell.execute_reply": "2023-06-01T15:57:08.377579Z"
    }
   },
   "outputs": [],
   "source": [
    "normalize_scores(merged_candidates_score, FIELD_NAME, 'normalized_'+FIELD_NAME)"
   ]
  },
  {
   "cell_type": "code",
   "execution_count": 25,
   "metadata": {
    "execution": {
     "iopub.execute_input": "2023-06-01T15:57:08.384902Z",
     "iopub.status.busy": "2023-06-01T15:57:08.384084Z",
     "iopub.status.idle": "2023-06-01T15:57:09.831646Z",
     "shell.execute_reply": "2023-06-01T15:57:09.790205Z"
    }
   },
   "outputs": [],
   "source": [
    "merged_candidates[FIELD_NAME] = merged_candidates_score[FIELD_NAME]\n",
    "merged_candidates['normalized_'+FIELD_NAME] = merged_candidates_score['normalized_'+FIELD_NAME]"
   ]
  },
  {
   "cell_type": "code",
   "execution_count": 26,
   "metadata": {
    "execution": {
     "iopub.execute_input": "2023-06-01T15:57:09.840826Z",
     "iopub.status.busy": "2023-06-01T15:57:09.839603Z",
     "iopub.status.idle": "2023-06-01T15:57:54.535293Z",
     "shell.execute_reply": "2023-06-01T15:57:54.534109Z"
    }
   },
   "outputs": [],
   "source": [
    "cast_dtype(merged_candidates, [FIELD_NAME, 'normalized_'+FIELD_NAME])\n",
    "merged_candidates.to_parquet(merged_candidates_feature_path, engine='pyarrow')"
   ]
  },
  {
   "cell_type": "code",
   "execution_count": 27,
   "metadata": {
    "execution": {
     "iopub.execute_input": "2023-06-01T15:57:54.540435Z",
     "iopub.status.busy": "2023-06-01T15:57:54.539843Z",
     "iopub.status.idle": "2023-06-01T15:58:02.196263Z",
     "shell.execute_reply": "2023-06-01T15:58:02.195474Z"
    }
   },
   "outputs": [
    {
     "data": {
      "text/html": [
       "<div>\n",
       "<style scoped>\n",
       "    .dataframe tbody tr th:only-of-type {\n",
       "        vertical-align: middle;\n",
       "    }\n",
       "\n",
       "    .dataframe tbody tr th {\n",
       "        vertical-align: top;\n",
       "    }\n",
       "\n",
       "    .dataframe thead th {\n",
       "        text-align: right;\n",
       "    }\n",
       "</style>\n",
       "<table border=\"1\" class=\"dataframe\">\n",
       "  <thead>\n",
       "    <tr style=\"text-align: right;\">\n",
       "      <th></th>\n",
       "      <th>sess_locale</th>\n",
       "      <th>product</th>\n",
       "      <th>normalized_sasrec_scores_2</th>\n",
       "      <th>sasrec_scores_2</th>\n",
       "      <th>normalized_narm_scores</th>\n",
       "      <th>narm_scores</th>\n",
       "    </tr>\n",
       "  </thead>\n",
       "  <tbody>\n",
       "    <tr>\n",
       "      <th>45142726</th>\n",
       "      <td>JP</td>\n",
       "      <td>B01G4IIOAO</td>\n",
       "      <td>0.235870</td>\n",
       "      <td>17.185946</td>\n",
       "      <td>0.236199</td>\n",
       "      <td>14.485804</td>\n",
       "    </tr>\n",
       "    <tr>\n",
       "      <th>45142762</th>\n",
       "      <td>JP</td>\n",
       "      <td>B075FTW3PD</td>\n",
       "      <td>0.146815</td>\n",
       "      <td>16.711842</td>\n",
       "      <td>0.220664</td>\n",
       "      <td>14.417770</td>\n",
       "    </tr>\n",
       "    <tr>\n",
       "      <th>45142698</th>\n",
       "      <td>JP</td>\n",
       "      <td>B00JX88YJE</td>\n",
       "      <td>0.311983</td>\n",
       "      <td>17.465614</td>\n",
       "      <td>0.150041</td>\n",
       "      <td>14.032038</td>\n",
       "    </tr>\n",
       "    <tr>\n",
       "      <th>45142729</th>\n",
       "      <td>JP</td>\n",
       "      <td>B01HM6XIVM</td>\n",
       "      <td>0.107268</td>\n",
       "      <td>16.397999</td>\n",
       "      <td>0.147572</td>\n",
       "      <td>14.015448</td>\n",
       "    </tr>\n",
       "    <tr>\n",
       "      <th>45142699</th>\n",
       "      <td>JP</td>\n",
       "      <td>B00JX88YJY</td>\n",
       "      <td>0.106716</td>\n",
       "      <td>16.392834</td>\n",
       "      <td>0.071341</td>\n",
       "      <td>13.288597</td>\n",
       "    </tr>\n",
       "    <tr>\n",
       "      <th>45142724</th>\n",
       "      <td>JP</td>\n",
       "      <td>B01G4III8W</td>\n",
       "      <td>0.008586</td>\n",
       "      <td>13.872841</td>\n",
       "      <td>0.023368</td>\n",
       "      <td>12.172482</td>\n",
       "    </tr>\n",
       "    <tr>\n",
       "      <th>45142702</th>\n",
       "      <td>JP</td>\n",
       "      <td>B00LSCAO1E</td>\n",
       "      <td>0.016529</td>\n",
       "      <td>14.527805</td>\n",
       "      <td>0.022265</td>\n",
       "      <td>12.124136</td>\n",
       "    </tr>\n",
       "    <tr>\n",
       "      <th>45142791</th>\n",
       "      <td>JP</td>\n",
       "      <td>B07G93RR4S</td>\n",
       "      <td>0.021031</td>\n",
       "      <td>14.768680</td>\n",
       "      <td>0.020268</td>\n",
       "      <td>12.030176</td>\n",
       "    </tr>\n",
       "    <tr>\n",
       "      <th>45142728</th>\n",
       "      <td>JP</td>\n",
       "      <td>B01GR9UTLM</td>\n",
       "      <td>0.017104</td>\n",
       "      <td>14.561987</td>\n",
       "      <td>0.018897</td>\n",
       "      <td>11.960112</td>\n",
       "    </tr>\n",
       "    <tr>\n",
       "      <th>45142779</th>\n",
       "      <td>JP</td>\n",
       "      <td>B07BFV9G1G</td>\n",
       "      <td>0.000741</td>\n",
       "      <td>11.422927</td>\n",
       "      <td>0.008590</td>\n",
       "      <td>11.171743</td>\n",
       "    </tr>\n",
       "    <tr>\n",
       "      <th>45142680</th>\n",
       "      <td>JP</td>\n",
       "      <td>B009GYL0LO</td>\n",
       "      <td>0.002587</td>\n",
       "      <td>12.673185</td>\n",
       "      <td>0.007932</td>\n",
       "      <td>11.092010</td>\n",
       "    </tr>\n",
       "    <tr>\n",
       "      <th>45142663</th>\n",
       "      <td>JP</td>\n",
       "      <td>B000WIDOL2</td>\n",
       "      <td>0.003376</td>\n",
       "      <td>12.939500</td>\n",
       "      <td>0.005729</td>\n",
       "      <td>10.766716</td>\n",
       "    </tr>\n",
       "    <tr>\n",
       "      <th>45142930</th>\n",
       "      <td>JP</td>\n",
       "      <td>B092M87ZPX</td>\n",
       "      <td>0.000260</td>\n",
       "      <td>10.374493</td>\n",
       "      <td>0.005207</td>\n",
       "      <td>10.671122</td>\n",
       "    </tr>\n",
       "    <tr>\n",
       "      <th>45142931</th>\n",
       "      <td>JP</td>\n",
       "      <td>B092MDQG3J</td>\n",
       "      <td>0.001423</td>\n",
       "      <td>12.075119</td>\n",
       "      <td>0.004085</td>\n",
       "      <td>10.428561</td>\n",
       "    </tr>\n",
       "    <tr>\n",
       "      <th>45142780</th>\n",
       "      <td>JP</td>\n",
       "      <td>B07CG5Z7VZ</td>\n",
       "      <td>0.001019</td>\n",
       "      <td>11.741604</td>\n",
       "      <td>0.003343</td>\n",
       "      <td>10.228096</td>\n",
       "    </tr>\n",
       "  </tbody>\n",
       "</table>\n",
       "</div>"
      ],
      "text/plain": [
       "         sess_locale     product  normalized_sasrec_scores_2  sasrec_scores_2  \\\n",
       "45142726          JP  B01G4IIOAO                    0.235870        17.185946   \n",
       "45142762          JP  B075FTW3PD                    0.146815        16.711842   \n",
       "45142698          JP  B00JX88YJE                    0.311983        17.465614   \n",
       "45142729          JP  B01HM6XIVM                    0.107268        16.397999   \n",
       "45142699          JP  B00JX88YJY                    0.106716        16.392834   \n",
       "45142724          JP  B01G4III8W                    0.008586        13.872841   \n",
       "45142702          JP  B00LSCAO1E                    0.016529        14.527805   \n",
       "45142791          JP  B07G93RR4S                    0.021031        14.768680   \n",
       "45142728          JP  B01GR9UTLM                    0.017104        14.561987   \n",
       "45142779          JP  B07BFV9G1G                    0.000741        11.422927   \n",
       "45142680          JP  B009GYL0LO                    0.002587        12.673185   \n",
       "45142663          JP  B000WIDOL2                    0.003376        12.939500   \n",
       "45142930          JP  B092M87ZPX                    0.000260        10.374493   \n",
       "45142931          JP  B092MDQG3J                    0.001423        12.075119   \n",
       "45142780          JP  B07CG5Z7VZ                    0.001019        11.741604   \n",
       "\n",
       "          normalized_narm_scores  narm_scores  \n",
       "45142726                0.236199    14.485804  \n",
       "45142762                0.220664    14.417770  \n",
       "45142698                0.150041    14.032038  \n",
       "45142729                0.147572    14.015448  \n",
       "45142699                0.071341    13.288597  \n",
       "45142724                0.023368    12.172482  \n",
       "45142702                0.022265    12.124136  \n",
       "45142791                0.020268    12.030176  \n",
       "45142728                0.018897    11.960112  \n",
       "45142779                0.008590    11.171743  \n",
       "45142680                0.007932    11.092010  \n",
       "45142663                0.005729    10.766716  \n",
       "45142930                0.005207    10.671122  \n",
       "45142931                0.004085    10.428561  \n",
       "45142780                0.003343    10.228096  "
      ]
     },
     "execution_count": 27,
     "metadata": {},
     "output_type": "execute_result"
    }
   ],
   "source": [
    "# verify gru4rec scores\n",
    "merged_candidates[merged_candidates['sess_id'] == 150001].sort_values(by=['narm_scores'], ascending=False)[['sess_locale', 'product', 'normalized_sasrec_scores_2', 'sasrec_scores_2', 'normalized_narm_scores', 'narm_scores']].iloc[:15]"
   ]
  }
 ],
 "metadata": {
  "kernelspec": {
   "display_name": "torch12",
   "language": "python",
   "name": "python3"
  },
  "language_info": {
   "codemirror_mode": {
    "name": "ipython",
    "version": 3
   },
   "file_extension": ".py",
   "mimetype": "text/x-python",
   "name": "python",
   "nbconvert_exporter": "python",
   "pygments_lexer": "ipython3",
   "version": "3.9.15"
  }
 },
 "nbformat": 4,
 "nbformat_minor": 2
}
