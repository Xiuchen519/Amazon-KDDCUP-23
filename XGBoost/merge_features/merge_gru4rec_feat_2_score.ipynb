{
 "cells": [
  {
   "attachments": {},
   "cell_type": "markdown",
   "metadata": {},
   "source": [
    "use loc[i, field] instead of iloc[i, field], iloc is very slow."
   ]
  },
  {
   "cell_type": "code",
   "execution_count": 1,
   "metadata": {
    "execution": {
     "iopub.execute_input": "2023-06-03T17:55:34.269073Z",
     "iopub.status.busy": "2023-06-03T17:55:34.268344Z",
     "iopub.status.idle": "2023-06-03T17:55:37.137428Z",
     "shell.execute_reply": "2023-06-03T17:55:37.136282Z"
    }
   },
   "outputs": [],
   "source": [
    "import sys\n",
    "sys.path = ['/root/autodl-tmp/xiaolong/WorkSpace/Amazon-KDDCUP-23/RecStudio/'] + sys.path\n",
    "import os\n",
    "os.environ[\"CUDA_VISIBLE_DEVICES\"] = \"3\"\n",
    "import random\n",
    "import numpy as np\n",
    "import pandas as pd\n",
    "import cudf, itertools\n",
    "import scipy.sparse as ssp\n",
    "from functools import lru_cache, partial\n",
    "from tqdm import tqdm, trange\n",
    "from collections import Counter, defaultdict\n",
    "import torch\n",
    "import pickle"
   ]
  },
  {
   "cell_type": "code",
   "execution_count": 2,
   "metadata": {
    "execution": {
     "iopub.execute_input": "2023-06-03T17:55:37.145104Z",
     "iopub.status.busy": "2023-06-03T17:55:37.144572Z",
     "iopub.status.idle": "2023-06-03T17:55:37.153410Z",
     "shell.execute_reply": "2023-06-03T17:55:37.152277Z"
    }
   },
   "outputs": [],
   "source": [
    "def cast_dtype(df : pd.DataFrame):\n",
    "    for k in df.columns:\n",
    "        dt = type(df[k].iloc[0])\n",
    "        if 'float' in str(dt):\n",
    "            df[k] = df[k].astype('float32')\n",
    "        elif 'int' in str(dt):\n",
    "            df[k] = df[k].astype('int32')\n",
    "        elif dt == list:\n",
    "            dt_ = type(df.iloc[0][k][0])\n",
    "            if 'float' in str(dt_):\n",
    "                df[k] = df[k].apply(lambda x : np.array(x, dtype=np.float32))\n",
    "            elif 'int' in str(dt_):\n",
    "                df[k] = df[k].apply(lambda x : np.array(x, dtype=np.int32))"
   ]
  },
  {
   "cell_type": "code",
   "execution_count": 3,
   "metadata": {
    "execution": {
     "iopub.execute_input": "2023-06-03T17:55:37.159787Z",
     "iopub.status.busy": "2023-06-03T17:55:37.159378Z",
     "iopub.status.idle": "2023-06-03T17:55:37.165481Z",
     "shell.execute_reply": "2023-06-03T17:55:37.164419Z"
    }
   },
   "outputs": [],
   "source": [
    "def _load_cache(path):\n",
    "    with open(path, 'rb') as f:\n",
    "        download_obj = pickle.load(f)\n",
    "    return download_obj"
   ]
  },
  {
   "cell_type": "code",
   "execution_count": 4,
   "metadata": {
    "execution": {
     "iopub.execute_input": "2023-06-03T17:55:37.172306Z",
     "iopub.status.busy": "2023-06-03T17:55:37.171233Z",
     "iopub.status.idle": "2023-06-03T17:55:37.183686Z",
     "shell.execute_reply": "2023-06-03T17:55:37.182480Z"
    }
   },
   "outputs": [],
   "source": [
    "def get_scores(merged_candidates_df, query_embeddings, product_embeddings):\n",
    "    batch_size = 2048\n",
    "    num_iter = (len(merged_candidates_df) - 1) // batch_size + 1\n",
    "    score_list = []\n",
    "    with torch.no_grad():\n",
    "        for i in tqdm(range(num_iter)):\n",
    "            st, ed = i * batch_size, (i + 1) * batch_size \n",
    "            batch_sess = merged_candidates_df.iloc[st : ed]\n",
    "            batch_sess_id = torch.tensor(batch_sess['sess_id'].tolist(), dtype=torch.long, device=query_embeddings.device)\n",
    "            batch_product_id = torch.tensor(batch_sess['dataset_id'].tolist(), dtype=torch.long, device=product_embeddings.device)\n",
    "            query_emb = query_embeddings[batch_sess_id]\n",
    "            product_emb = product_embeddings[batch_product_id]\n",
    "            batch_score = (query_emb * product_emb).sum(dim=-1) \n",
    "            score_list.append(batch_score.cpu())\n",
    "        score_list = torch.cat(score_list, dim=0).cpu().tolist()\n",
    "        return score_list "
   ]
  },
  {
   "cell_type": "code",
   "execution_count": 5,
   "metadata": {
    "execution": {
     "iopub.execute_input": "2023-06-03T17:55:37.190538Z",
     "iopub.status.busy": "2023-06-03T17:55:37.189520Z",
     "iopub.status.idle": "2023-06-03T17:55:37.202974Z",
     "shell.execute_reply": "2023-06-03T17:55:37.201813Z"
    }
   },
   "outputs": [],
   "source": [
    "def normalize_scores(score_df, score_name, normalized_score_name):\n",
    "    # score_df_g = cudf.from_pandas(score_df)\n",
    "    score_df['exp_score'] = np.exp(score_df[score_name].to_numpy())\n",
    "    scores_sum = score_df[['sess_id', 'exp_score']].groupby('sess_id').sum()\n",
    "    scores_sum.reset_index(inplace=True)\n",
    "    scores_sum = scores_sum.sort_values(by=['sess_id'], ascending=True)\n",
    "    scores_sum.reset_index(drop=True, inplace=True)\n",
    "    scores_sum.rename(columns={'exp_score' : 'score_sum'}, inplace=True)\n",
    "\n",
    "    merged_score_df = score_df.merge(scores_sum, how='left', left_on=['sess_id'], right_on=['sess_id'])\n",
    "    merged_score_df = merged_score_df.sort_values(by=['sess_id', 'product'])\n",
    "    merged_score_df.reset_index(drop=True, inplace=True)\n",
    "    \n",
    "    # merged_score_df = merged_score_df_g.to_pandas(merged_score_df_g)\n",
    "    score_df[normalized_score_name] = merged_score_df['exp_score'] / merged_score_df['score_sum']\n",
    "    score_df['exp_score'] = merged_score_df['exp_score']\n",
    "    score_df['score_sum'] = merged_score_df['score_sum']\n",
    "\n",
    "    # del scores_sum_g\n",
    "    # del merged_score_df_g "
   ]
  },
  {
   "attachments": {},
   "cell_type": "markdown",
   "metadata": {},
   "source": [
    "# Merge valid score"
   ]
  },
  {
   "cell_type": "code",
   "execution_count": 6,
   "metadata": {
    "execution": {
     "iopub.execute_input": "2023-06-03T17:55:37.206711Z",
     "iopub.status.busy": "2023-06-03T17:55:37.206118Z",
     "iopub.status.idle": "2023-06-03T17:55:37.211626Z",
     "shell.execute_reply": "2023-06-03T17:55:37.210486Z"
    }
   },
   "outputs": [],
   "source": [
    "FIELD_NAME = 'gru4rec_feat_scores_2'"
   ]
  },
  {
   "cell_type": "code",
   "execution_count": 7,
   "metadata": {
    "execution": {
     "iopub.execute_input": "2023-06-03T17:55:37.218476Z",
     "iopub.status.busy": "2023-06-03T17:55:37.217906Z",
     "iopub.status.idle": "2023-06-03T17:55:37.224116Z",
     "shell.execute_reply": "2023-06-03T17:55:37.222732Z"
    }
   },
   "outputs": [],
   "source": [
    "merged_candidates_feature_path = '/root/autodl-tmp/xiaolong/WorkSpace/Amazon-KDDCUP-23/XGBoost/candidates_phase2/merged_candidates_150_feature.parquet'\n",
    "valid_sessions_path = '/root/autodl-tmp/xiaolong/WorkSpace/Amazon-KDDCUP-23/data_for_recstudio/task1_data/task13_4_task1_valid_sessions_phase2.csv'\n",
    "test_sessions_path = '/root/autodl-tmp/xiaolong/WorkSpace/Amazon-KDDCUP-23/raw_data/sessions_test_task1_phase2.csv'"
   ]
  },
  {
   "cell_type": "code",
   "execution_count": 8,
   "metadata": {
    "execution": {
     "iopub.execute_input": "2023-06-03T17:55:37.230169Z",
     "iopub.status.busy": "2023-06-03T17:55:37.229056Z",
     "iopub.status.idle": "2023-06-03T17:55:37.239511Z",
     "shell.execute_reply": "2023-06-03T17:55:37.238026Z"
    }
   },
   "outputs": [],
   "source": [
    "@lru_cache(maxsize=1)\n",
    "def read_merged_candidates_feature():\n",
    "    return pd.read_parquet(merged_candidates_feature_path, engine='pyarrow')\n",
    "\n",
    "@lru_cache(maxsize=1)\n",
    "def read_valid_sessions():\n",
    "    return pd.read_csv(valid_sessions_path)\n",
    "\n",
    "@lru_cache(maxsize=1)\n",
    "def read_test_sessions():\n",
    "    return pd.read_csv(test_sessions_path)"
   ]
  },
  {
   "cell_type": "code",
   "execution_count": 9,
   "metadata": {
    "execution": {
     "iopub.execute_input": "2023-06-03T17:55:37.246693Z",
     "iopub.status.busy": "2023-06-03T17:55:37.245686Z",
     "iopub.status.idle": "2023-06-03T17:55:37.253560Z",
     "shell.execute_reply": "2023-06-03T17:55:37.252316Z"
    }
   },
   "outputs": [],
   "source": [
    "DE_product_embeddings_path = '/root/autodl-tmp/xiaolong/WorkSpace/Amazon-KDDCUP-23/candidates_phase2/query_embeddings/GRU4Rec_Next_Feat/kdd_cup_2023_DE/product_embeddings_2023-06-03-23-30-48.pt'\n",
    "DE_valid_embeddings_path = '/root/autodl-tmp/xiaolong/WorkSpace/Amazon-KDDCUP-23/candidates_phase2/query_embeddings/GRU4Rec_Next_Feat/kdd_cup_2023_DE/valid_embeddings_2023-06-03-23-30-56.pt'\n",
    "JP_product_embeddings_path = '/root/autodl-tmp/xiaolong/WorkSpace/Amazon-KDDCUP-23/candidates_phase2/query_embeddings/GRU4Rec_Next_Feat/kdd_cup_2023_JP/product_embeddings_2023-06-03-23-32-03.pt'\n",
    "JP_valid_embeddings_path = '/root/autodl-tmp/xiaolong/WorkSpace/Amazon-KDDCUP-23/candidates_phase2/query_embeddings/GRU4Rec_Next_Feat/kdd_cup_2023_JP/valid_embeddings_2023-06-03-23-32-11.pt'\n",
    "UK_product_embeddings_path = '/root/autodl-tmp/xiaolong/WorkSpace/Amazon-KDDCUP-23/candidates_phase2/query_embeddings/GRU4Rec_Next_Feat/kdd_cup_2023_UK/product_embeddings_2023-06-03-23-33-21.pt'\n",
    "UK_valid_embeddings_path = '/root/autodl-tmp/xiaolong/WorkSpace/Amazon-KDDCUP-23/candidates_phase2/query_embeddings/GRU4Rec_Next_Feat/kdd_cup_2023_UK/valid_embeddings_2023-06-03-23-33-30.pt'"
   ]
  },
  {
   "cell_type": "code",
   "execution_count": 10,
   "metadata": {
    "execution": {
     "iopub.execute_input": "2023-06-03T17:55:37.260555Z",
     "iopub.status.busy": "2023-06-03T17:55:37.259346Z",
     "iopub.status.idle": "2023-06-03T17:55:37.266622Z",
     "shell.execute_reply": "2023-06-03T17:55:37.265314Z"
    }
   },
   "outputs": [],
   "source": [
    "DE_dataset_cache = '/root/autodl-tmp/xiaolong/WorkSpace/Amazon-KDDCUP-23/.recstudio/cache/b5aeac4e5b9ff0518bbcb59a28086594'\n",
    "JP_dataset_cache = '/root/autodl-tmp/xiaolong/WorkSpace/Amazon-KDDCUP-23/.recstudio/cache/2536617955df215e0047f5b220d1c012'\n",
    "UK_dataset_cache = '/root/autodl-tmp/xiaolong/WorkSpace/Amazon-KDDCUP-23/.recstudio/cache/8d133ea55ad67bd3efd625dfeff0fb1d'"
   ]
  },
  {
   "cell_type": "code",
   "execution_count": 11,
   "metadata": {
    "execution": {
     "iopub.execute_input": "2023-06-03T17:55:37.274143Z",
     "iopub.status.busy": "2023-06-03T17:55:37.272999Z",
     "iopub.status.idle": "2023-06-03T17:55:56.383128Z",
     "shell.execute_reply": "2023-06-03T17:55:56.381172Z"
    }
   },
   "outputs": [],
   "source": [
    "DE_train_dataset, DE_valid_dataset = _load_cache(DE_dataset_cache)\n",
    "JP_train_dataset, JP_valid_dataset = _load_cache(JP_dataset_cache)\n",
    "UK_train_dataset, UK_valid_dataset = _load_cache(UK_dataset_cache)\n",
    "locale_map = {\n",
    "    'DE' : DE_train_dataset.field2token2idx['product_id'], \n",
    "    'JP' : JP_train_dataset.field2token2idx['product_id'], \n",
    "    'UK' : UK_train_dataset.field2token2idx['product_id']\n",
    "    }"
   ]
  },
  {
   "cell_type": "code",
   "execution_count": 12,
   "metadata": {
    "execution": {
     "iopub.execute_input": "2023-06-03T17:55:56.392530Z",
     "iopub.status.busy": "2023-06-03T17:55:56.390762Z",
     "iopub.status.idle": "2023-06-03T17:58:14.299104Z",
     "shell.execute_reply": "2023-06-03T17:58:14.297587Z"
    }
   },
   "outputs": [],
   "source": [
    "merged_candidates = read_merged_candidates_feature()\n",
    "valid_sessions = read_valid_sessions()\n",
    "EMBED_DIM = 128\n",
    "merged_candidates.sort_values(by=['sess_id', 'product'], inplace=True)\n",
    "merged_candidates.reset_index(drop=True, inplace=True)"
   ]
  },
  {
   "cell_type": "code",
   "execution_count": 13,
   "metadata": {
    "execution": {
     "iopub.execute_input": "2023-06-03T17:58:14.306674Z",
     "iopub.status.busy": "2023-06-03T17:58:14.306126Z",
     "iopub.status.idle": "2023-06-03T17:58:14.578917Z",
     "shell.execute_reply": "2023-06-03T17:58:14.577766Z"
    }
   },
   "outputs": [],
   "source": [
    "# sess embeddings \n",
    "valid_DE_query_emb = torch.load(DE_valid_embeddings_path, map_location='cpu')\n",
    "valid_JP_query_emb = torch.load(JP_valid_embeddings_path, map_location='cpu')\n",
    "valid_UK_query_emb = torch.load(UK_valid_embeddings_path, map_location='cpu')\n",
    "valid_query_embeddings = torch.empty(len(valid_sessions), EMBED_DIM)\n",
    "valid_query_embeddings[(valid_sessions[valid_sessions['locale'] == 'DE'].index).tolist()] = valid_DE_query_emb\n",
    "valid_query_embeddings[(valid_sessions[valid_sessions['locale'] == 'JP'].index).tolist()] = valid_JP_query_emb\n",
    "valid_query_embeddings[(valid_sessions[valid_sessions['locale'] == 'UK'].index).tolist()] = valid_UK_query_emb"
   ]
  },
  {
   "cell_type": "code",
   "execution_count": 14,
   "metadata": {
    "execution": {
     "iopub.execute_input": "2023-06-03T17:58:14.586502Z",
     "iopub.status.busy": "2023-06-03T17:58:14.585523Z",
     "iopub.status.idle": "2023-06-03T17:58:15.300648Z",
     "shell.execute_reply": "2023-06-03T17:58:15.299542Z"
    }
   },
   "outputs": [],
   "source": [
    "# product_embeddings \n",
    "DE_product_emb = torch.load(DE_product_embeddings_path, map_location='cpu')\n",
    "JP_product_emb = torch.load(JP_product_embeddings_path, map_location='cpu')\n",
    "UK_product_emb = torch.load(UK_product_embeddings_path, map_location='cpu')\n",
    "product_embeddings = torch.cat([DE_product_emb, JP_product_emb, UK_product_emb], dim=0)"
   ]
  },
  {
   "cell_type": "code",
   "execution_count": 15,
   "metadata": {
    "execution": {
     "iopub.execute_input": "2023-06-03T17:58:15.309015Z",
     "iopub.status.busy": "2023-06-03T17:58:15.307585Z",
     "iopub.status.idle": "2023-06-03T17:58:23.049152Z",
     "shell.execute_reply": "2023-06-03T17:58:23.048322Z"
    }
   },
   "outputs": [],
   "source": [
    "merged_candidates_sasrec = merged_candidates[['sess_id', 'sess_locale', 'product']].copy()"
   ]
  },
  {
   "cell_type": "code",
   "execution_count": 16,
   "metadata": {
    "execution": {
     "iopub.execute_input": "2023-06-03T17:58:23.055997Z",
     "iopub.status.busy": "2023-06-03T17:58:23.055643Z",
     "iopub.status.idle": "2023-06-03T17:58:26.149438Z",
     "shell.execute_reply": "2023-06-03T17:58:26.148593Z"
    }
   },
   "outputs": [],
   "source": [
    "DE_product_list, DE_id_list = list(zip(*locale_map['DE'].items()))\n",
    "JP_product_list, JP_id_list = list(zip(*locale_map['JP'].items()))\n",
    "UK_product_list, UK_id_list = list(zip(*locale_map['UK'].items()))\n",
    "product_list = list(DE_product_list) + list(JP_product_list) + list(UK_product_list)\n",
    "id_list = list(DE_id_list) + list(JP_id_list) + list(UK_id_list)\n",
    "locale_list = ['DE'] * len(DE_id_list) + ['JP'] * len(JP_id_list) + ['UK'] * len(UK_id_list)\n",
    "product_id_df = pd.DataFrame({'locale' : locale_list, 'product' : product_list, 'dataset_id' : id_list})"
   ]
  },
  {
   "cell_type": "code",
   "execution_count": 17,
   "metadata": {
    "execution": {
     "iopub.execute_input": "2023-06-03T17:58:26.156113Z",
     "iopub.status.busy": "2023-06-03T17:58:26.155805Z",
     "iopub.status.idle": "2023-06-03T17:58:26.159661Z",
     "shell.execute_reply": "2023-06-03T17:58:26.158789Z"
    }
   },
   "outputs": [],
   "source": [
    "# merged_candidates_sasrec_g = cudf.from_pandas(merged_candidates_sasrec)\n",
    "# product_id_df_g = cudf.from_pandas(product_id_df)"
   ]
  },
  {
   "cell_type": "code",
   "execution_count": 18,
   "metadata": {
    "execution": {
     "iopub.execute_input": "2023-06-03T17:58:26.166738Z",
     "iopub.status.busy": "2023-06-03T17:58:26.166044Z",
     "iopub.status.idle": "2023-06-03T17:58:26.170827Z",
     "shell.execute_reply": "2023-06-03T17:58:26.169808Z"
    }
   },
   "outputs": [],
   "source": [
    "# merged_candidates_sasrec_score_g = merged_candidates_sasrec_g.merge(product_id_df_g, how='left', left_on=['sess_locale', 'product'], right_on=['locale', 'product'])\n",
    "# merged_candidates_sasrec_score_g['dataset_id'] = merged_candidates_sasrec_score_g['dataset_id'].fillna(0)\n",
    "# merged_candidates_sasrec_score_g.drop(columns=['locale'], inplace=True)\n",
    "# merged_candidates_sasrec_score_g = merged_candidates_sasrec_score_g.sort_values(by=['sess_id', 'product'])\n",
    "# merged_candidates_sasrec_score_g.reset_index(drop=True, inplace=True)\n",
    "# merged_candidates_sasrec_score = merged_candidates_sasrec_score_g.to_pandas()\n",
    "# assert len(merged_candidates_sasrec_score) == len(merged_candidates)"
   ]
  },
  {
   "cell_type": "code",
   "execution_count": 19,
   "metadata": {
    "execution": {
     "iopub.execute_input": "2023-06-03T17:58:26.176750Z",
     "iopub.status.busy": "2023-06-03T17:58:26.175936Z",
     "iopub.status.idle": "2023-06-03T18:00:58.894494Z",
     "shell.execute_reply": "2023-06-03T18:00:58.893111Z"
    }
   },
   "outputs": [],
   "source": [
    "merged_candidates_sasrec_score = merged_candidates_sasrec.merge(product_id_df, how='left', left_on=['sess_locale', 'product'], right_on=['locale', 'product'])\n",
    "merged_candidates_sasrec_score['dataset_id'] = merged_candidates_sasrec_score['dataset_id'].fillna(0)\n",
    "merged_candidates_sasrec_score.drop(columns=['locale'], inplace=True)\n",
    "merged_candidates_sasrec_score = merged_candidates_sasrec_score.sort_values(by=['sess_id', 'product'])\n",
    "merged_candidates_sasrec_score.reset_index(drop=True, inplace=True)\n",
    "assert len(merged_candidates_sasrec_score) == len(merged_candidates)"
   ]
  },
  {
   "cell_type": "code",
   "execution_count": 20,
   "metadata": {
    "execution": {
     "iopub.execute_input": "2023-06-03T18:00:58.899877Z",
     "iopub.status.busy": "2023-06-03T18:00:58.899290Z",
     "iopub.status.idle": "2023-06-03T18:00:58.904662Z",
     "shell.execute_reply": "2023-06-03T18:00:58.903675Z"
    }
   },
   "outputs": [],
   "source": [
    "# del merged_candidates_sasrec_g\n",
    "# del product_id_df_g\n",
    "# del merged_candidates_sasrec_score_g"
   ]
  },
  {
   "cell_type": "code",
   "execution_count": 21,
   "metadata": {
    "execution": {
     "iopub.execute_input": "2023-06-03T18:00:58.908671Z",
     "iopub.status.busy": "2023-06-03T18:00:58.907880Z",
     "iopub.status.idle": "2023-06-03T18:01:49.189449Z",
     "shell.execute_reply": "2023-06-03T18:01:49.187982Z"
    }
   },
   "outputs": [
    {
     "name": "stderr",
     "output_type": "stream",
     "text": [
      "/tmp/ipykernel_227675/2146751149.py:3: SettingWithCopyWarning: \n",
      "A value is trying to be set on a copy of a slice from a DataFrame\n",
      "\n",
      "See the caveats in the documentation: https://pandas.pydata.org/pandas-docs/stable/user_guide/indexing.html#returning-a-view-versus-a-copy\n",
      "  merged_candidates_sasrec_score['dataset_id'][merged_candidates_sasrec_score['sess_locale'] == locale] = \\\n"
     ]
    }
   ],
   "source": [
    "locale_offset = {'DE' : 0, 'JP' : len(DE_product_list), 'UK' : len(DE_product_list) + len(JP_product_list)}\n",
    "for locale in ['DE', 'JP', 'UK']:\n",
    "    merged_candidates_sasrec_score['dataset_id'][merged_candidates_sasrec_score['sess_locale'] == locale] = \\\n",
    "        merged_candidates_sasrec_score['dataset_id'][merged_candidates_sasrec_score['sess_locale'] == locale] + locale_offset[locale]"
   ]
  },
  {
   "cell_type": "code",
   "execution_count": 22,
   "metadata": {
    "execution": {
     "iopub.execute_input": "2023-06-03T18:01:49.194955Z",
     "iopub.status.busy": "2023-06-03T18:01:49.194282Z",
     "iopub.status.idle": "2023-06-03T18:01:51.677591Z",
     "shell.execute_reply": "2023-06-03T18:01:51.676713Z"
    }
   },
   "outputs": [],
   "source": [
    "valid_query_embeddings = valid_query_embeddings.to('cuda:0')\n",
    "product_embeddings = product_embeddings.to('cuda:0')"
   ]
  },
  {
   "cell_type": "code",
   "execution_count": 23,
   "metadata": {
    "execution": {
     "iopub.execute_input": "2023-06-03T18:01:51.685525Z",
     "iopub.status.busy": "2023-06-03T18:01:51.685069Z",
     "iopub.status.idle": "2023-06-03T18:04:02.044348Z",
     "shell.execute_reply": "2023-06-03T18:04:02.043011Z"
    }
   },
   "outputs": [
    {
     "name": "stderr",
     "output_type": "stream",
     "text": [
      "  0%|                                                                                                                                                                       | 0/38498 [00:00<?, ?it/s]/tmp/ipykernel_227675/150055658.py:10: DeprecationWarning: an integer is required (got type float).  Implicit conversion to integers using __int__ is deprecated, and may be removed in a future version of Python.\n",
      "  batch_product_id = torch.tensor(batch_sess['dataset_id'].tolist(), dtype=torch.long, device=product_embeddings.device)\n",
      "100%|██████████████████████████████████████████████████████████████████████████████████████████████████████████████████████████████████████████████████████████| 38498/38498 [01:55<00:00, 334.07it/s]\n"
     ]
    }
   ],
   "source": [
    "merged_candidates_sasrec_score[FIELD_NAME] = get_scores(merged_candidates_sasrec_score, valid_query_embeddings, product_embeddings)"
   ]
  },
  {
   "cell_type": "code",
   "execution_count": 24,
   "metadata": {
    "execution": {
     "iopub.execute_input": "2023-06-03T18:04:02.054119Z",
     "iopub.status.busy": "2023-06-03T18:04:02.053689Z",
     "iopub.status.idle": "2023-06-03T18:05:56.678146Z",
     "shell.execute_reply": "2023-06-03T18:05:56.676668Z"
    }
   },
   "outputs": [],
   "source": [
    "normalize_scores(merged_candidates_sasrec_score, FIELD_NAME, 'normalized_'+FIELD_NAME)"
   ]
  },
  {
   "cell_type": "code",
   "execution_count": 25,
   "metadata": {
    "execution": {
     "iopub.execute_input": "2023-06-03T18:05:56.688170Z",
     "iopub.status.busy": "2023-06-03T18:05:56.687604Z",
     "iopub.status.idle": "2023-06-03T18:05:57.628536Z",
     "shell.execute_reply": "2023-06-03T18:05:57.627844Z"
    }
   },
   "outputs": [],
   "source": [
    "merged_candidates[FIELD_NAME] = merged_candidates_sasrec_score[FIELD_NAME]\n",
    "merged_candidates['normalized_'+FIELD_NAME] = merged_candidates_sasrec_score['normalized_'+FIELD_NAME]"
   ]
  },
  {
   "cell_type": "code",
   "execution_count": 26,
   "metadata": {
    "execution": {
     "iopub.execute_input": "2023-06-03T18:05:57.635376Z",
     "iopub.status.busy": "2023-06-03T18:05:57.634976Z",
     "iopub.status.idle": "2023-06-03T18:10:41.403757Z",
     "shell.execute_reply": "2023-06-03T18:10:41.402529Z"
    }
   },
   "outputs": [],
   "source": [
    "cast_dtype(merged_candidates)\n",
    "merged_candidates.to_parquet(merged_candidates_feature_path, engine='pyarrow')"
   ]
  },
  {
   "cell_type": "code",
   "execution_count": 27,
   "metadata": {
    "execution": {
     "iopub.execute_input": "2023-06-03T18:10:41.410949Z",
     "iopub.status.busy": "2023-06-03T18:10:41.410522Z",
     "iopub.status.idle": "2023-06-03T18:10:41.439576Z",
     "shell.execute_reply": "2023-06-03T18:10:41.439037Z"
    }
   },
   "outputs": [
    {
     "data": {
      "text/html": [
       "<div>\n",
       "<style scoped>\n",
       "    .dataframe tbody tr th:only-of-type {\n",
       "        vertical-align: middle;\n",
       "    }\n",
       "\n",
       "    .dataframe tbody tr th {\n",
       "        vertical-align: top;\n",
       "    }\n",
       "\n",
       "    .dataframe thead th {\n",
       "        text-align: right;\n",
       "    }\n",
       "</style>\n",
       "<table border=\"1\" class=\"dataframe\">\n",
       "  <thead>\n",
       "    <tr style=\"text-align: right;\">\n",
       "      <th></th>\n",
       "      <th>sess_id</th>\n",
       "      <th>sess_locale</th>\n",
       "      <th>product</th>\n",
       "      <th>dataset_id</th>\n",
       "      <th>gru4rec_feat_scores_2</th>\n",
       "      <th>exp_score</th>\n",
       "      <th>normalized_gru4rec_feat_scores_2</th>\n",
       "      <th>score_sum</th>\n",
       "    </tr>\n",
       "  </thead>\n",
       "  <tbody>\n",
       "    <tr>\n",
       "      <th>0</th>\n",
       "      <td>0</td>\n",
       "      <td>DE</td>\n",
       "      <td>355165591X</td>\n",
       "      <td>16294.0</td>\n",
       "      <td>6.238983</td>\n",
       "      <td>5.123373e+02</td>\n",
       "      <td>2.858669e-12</td>\n",
       "      <td>1.792223e+14</td>\n",
       "    </tr>\n",
       "    <tr>\n",
       "      <th>1</th>\n",
       "      <td>0</td>\n",
       "      <td>DE</td>\n",
       "      <td>3833237058</td>\n",
       "      <td>32078.0</td>\n",
       "      <td>13.559689</td>\n",
       "      <td>7.742798e+05</td>\n",
       "      <td>4.320219e-09</td>\n",
       "      <td>1.792223e+14</td>\n",
       "    </tr>\n",
       "    <tr>\n",
       "      <th>2</th>\n",
       "      <td>0</td>\n",
       "      <td>DE</td>\n",
       "      <td>B00CIXSI6U</td>\n",
       "      <td>284040.0</td>\n",
       "      <td>8.215778</td>\n",
       "      <td>3.698854e+03</td>\n",
       "      <td>2.063835e-11</td>\n",
       "      <td>1.792223e+14</td>\n",
       "    </tr>\n",
       "    <tr>\n",
       "      <th>3</th>\n",
       "      <td>0</td>\n",
       "      <td>DE</td>\n",
       "      <td>B00NVDOWUW</td>\n",
       "      <td>1746.0</td>\n",
       "      <td>10.070776</td>\n",
       "      <td>2.364190e+04</td>\n",
       "      <td>1.319138e-10</td>\n",
       "      <td>1.792223e+14</td>\n",
       "    </tr>\n",
       "    <tr>\n",
       "      <th>4</th>\n",
       "      <td>0</td>\n",
       "      <td>DE</td>\n",
       "      <td>B00NVDP3ZU</td>\n",
       "      <td>106496.0</td>\n",
       "      <td>16.270103</td>\n",
       "      <td>1.164169e+07</td>\n",
       "      <td>6.495671e-08</td>\n",
       "      <td>1.792223e+14</td>\n",
       "    </tr>\n",
       "    <tr>\n",
       "      <th>...</th>\n",
       "      <td>...</td>\n",
       "      <td>...</td>\n",
       "      <td>...</td>\n",
       "      <td>...</td>\n",
       "      <td>...</td>\n",
       "      <td>...</td>\n",
       "      <td>...</td>\n",
       "      <td>...</td>\n",
       "    </tr>\n",
       "    <tr>\n",
       "      <th>78842194</th>\n",
       "      <td>261815</td>\n",
       "      <td>UK</td>\n",
       "      <td>B0BCX524Y6</td>\n",
       "      <td>1162096.0</td>\n",
       "      <td>9.691351</td>\n",
       "      <td>1.617708e+04</td>\n",
       "      <td>3.847656e-04</td>\n",
       "      <td>4.204399e+07</td>\n",
       "    </tr>\n",
       "    <tr>\n",
       "      <th>78842195</th>\n",
       "      <td>261815</td>\n",
       "      <td>UK</td>\n",
       "      <td>B0BCX6QB4L</td>\n",
       "      <td>1026202.0</td>\n",
       "      <td>12.838280</td>\n",
       "      <td>3.763518e+05</td>\n",
       "      <td>8.951382e-03</td>\n",
       "      <td>4.204399e+07</td>\n",
       "    </tr>\n",
       "    <tr>\n",
       "      <th>78842196</th>\n",
       "      <td>261815</td>\n",
       "      <td>UK</td>\n",
       "      <td>B0BFPJYXQL</td>\n",
       "      <td>1055763.0</td>\n",
       "      <td>7.261014</td>\n",
       "      <td>1.423700e+03</td>\n",
       "      <td>3.386215e-05</td>\n",
       "      <td>4.204399e+07</td>\n",
       "    </tr>\n",
       "    <tr>\n",
       "      <th>78842197</th>\n",
       "      <td>261815</td>\n",
       "      <td>UK</td>\n",
       "      <td>B0BH3X67S3</td>\n",
       "      <td>966272.0</td>\n",
       "      <td>9.661869</td>\n",
       "      <td>1.570711e+04</td>\n",
       "      <td>3.735876e-04</td>\n",
       "      <td>4.204399e+07</td>\n",
       "    </tr>\n",
       "    <tr>\n",
       "      <th>78842198</th>\n",
       "      <td>261815</td>\n",
       "      <td>UK</td>\n",
       "      <td>B0BH5MJGGB</td>\n",
       "      <td>1002940.0</td>\n",
       "      <td>4.411492</td>\n",
       "      <td>8.239229e+01</td>\n",
       "      <td>1.959668e-06</td>\n",
       "      <td>4.204399e+07</td>\n",
       "    </tr>\n",
       "  </tbody>\n",
       "</table>\n",
       "<p>78842199 rows × 8 columns</p>\n",
       "</div>"
      ],
      "text/plain": [
       "          sess_id sess_locale     product  dataset_id  gru4rec_feat_scores_2  \\\n",
       "0               0          DE  355165591X     16294.0               6.238983   \n",
       "1               0          DE  3833237058     32078.0              13.559689   \n",
       "2               0          DE  B00CIXSI6U    284040.0               8.215778   \n",
       "3               0          DE  B00NVDOWUW      1746.0              10.070776   \n",
       "4               0          DE  B00NVDP3ZU    106496.0              16.270103   \n",
       "...           ...         ...         ...         ...                    ...   \n",
       "78842194   261815          UK  B0BCX524Y6   1162096.0               9.691351   \n",
       "78842195   261815          UK  B0BCX6QB4L   1026202.0              12.838280   \n",
       "78842196   261815          UK  B0BFPJYXQL   1055763.0               7.261014   \n",
       "78842197   261815          UK  B0BH3X67S3    966272.0               9.661869   \n",
       "78842198   261815          UK  B0BH5MJGGB   1002940.0               4.411492   \n",
       "\n",
       "             exp_score  normalized_gru4rec_feat_scores_2     score_sum  \n",
       "0         5.123373e+02                      2.858669e-12  1.792223e+14  \n",
       "1         7.742798e+05                      4.320219e-09  1.792223e+14  \n",
       "2         3.698854e+03                      2.063835e-11  1.792223e+14  \n",
       "3         2.364190e+04                      1.319138e-10  1.792223e+14  \n",
       "4         1.164169e+07                      6.495671e-08  1.792223e+14  \n",
       "...                ...                               ...           ...  \n",
       "78842194  1.617708e+04                      3.847656e-04  4.204399e+07  \n",
       "78842195  3.763518e+05                      8.951382e-03  4.204399e+07  \n",
       "78842196  1.423700e+03                      3.386215e-05  4.204399e+07  \n",
       "78842197  1.570711e+04                      3.735876e-04  4.204399e+07  \n",
       "78842198  8.239229e+01                      1.959668e-06  4.204399e+07  \n",
       "\n",
       "[78842199 rows x 8 columns]"
      ]
     },
     "execution_count": 27,
     "metadata": {},
     "output_type": "execute_result"
    }
   ],
   "source": [
    "merged_candidates_sasrec_score"
   ]
  },
  {
   "cell_type": "code",
   "execution_count": 28,
   "metadata": {
    "execution": {
     "iopub.execute_input": "2023-06-03T18:10:41.449082Z",
     "iopub.status.busy": "2023-06-03T18:10:41.448682Z",
     "iopub.status.idle": "2023-06-03T18:11:09.133247Z",
     "shell.execute_reply": "2023-06-03T18:11:09.132076Z"
    }
   },
   "outputs": [
    {
     "data": {
      "text/html": [
       "<div>\n",
       "<style scoped>\n",
       "    .dataframe tbody tr th:only-of-type {\n",
       "        vertical-align: middle;\n",
       "    }\n",
       "\n",
       "    .dataframe tbody tr th {\n",
       "        vertical-align: top;\n",
       "    }\n",
       "\n",
       "    .dataframe thead th {\n",
       "        text-align: right;\n",
       "    }\n",
       "</style>\n",
       "<table border=\"1\" class=\"dataframe\">\n",
       "  <thead>\n",
       "    <tr style=\"text-align: right;\">\n",
       "      <th></th>\n",
       "      <th>sess_id</th>\n",
       "      <th>sess_locale</th>\n",
       "      <th>product</th>\n",
       "      <th>sasrec_scores_2</th>\n",
       "      <th>normalized_gru4rec_feat_scores_2</th>\n",
       "      <th>gru4rec_feat_scores_2</th>\n",
       "      <th>normalized_sasrec_scores_3</th>\n",
       "    </tr>\n",
       "  </thead>\n",
       "  <tbody>\n",
       "    <tr>\n",
       "      <th>596023</th>\n",
       "      <td>2000</td>\n",
       "      <td>DE</td>\n",
       "      <td>B09D3N56DD</td>\n",
       "      <td>16.126688</td>\n",
       "      <td>0.377798</td>\n",
       "      <td>18.351198</td>\n",
       "      <td>0.429727</td>\n",
       "    </tr>\n",
       "    <tr>\n",
       "      <th>596028</th>\n",
       "      <td>2000</td>\n",
       "      <td>DE</td>\n",
       "      <td>B09D3P5LYN</td>\n",
       "      <td>14.356667</td>\n",
       "      <td>0.019606</td>\n",
       "      <td>15.392672</td>\n",
       "      <td>0.104548</td>\n",
       "    </tr>\n",
       "    <tr>\n",
       "      <th>596064</th>\n",
       "      <td>2000</td>\n",
       "      <td>DE</td>\n",
       "      <td>B09X7BK27V</td>\n",
       "      <td>13.219624</td>\n",
       "      <td>0.060374</td>\n",
       "      <td>16.517393</td>\n",
       "      <td>0.038561</td>\n",
       "    </tr>\n",
       "    <tr>\n",
       "      <th>596020</th>\n",
       "      <td>2000</td>\n",
       "      <td>DE</td>\n",
       "      <td>B09D3LP52K</td>\n",
       "      <td>12.823625</td>\n",
       "      <td>0.022163</td>\n",
       "      <td>15.515283</td>\n",
       "      <td>0.035548</td>\n",
       "    </tr>\n",
       "    <tr>\n",
       "      <th>595970</th>\n",
       "      <td>2000</td>\n",
       "      <td>DE</td>\n",
       "      <td>B08GYKNCCP</td>\n",
       "      <td>13.141228</td>\n",
       "      <td>0.071795</td>\n",
       "      <td>16.690653</td>\n",
       "      <td>0.035340</td>\n",
       "    </tr>\n",
       "    <tr>\n",
       "      <th>596026</th>\n",
       "      <td>2000</td>\n",
       "      <td>DE</td>\n",
       "      <td>B09D3NPHLP</td>\n",
       "      <td>13.011024</td>\n",
       "      <td>0.040851</td>\n",
       "      <td>16.126768</td>\n",
       "      <td>0.026086</td>\n",
       "    </tr>\n",
       "    <tr>\n",
       "      <th>596072</th>\n",
       "      <td>2000</td>\n",
       "      <td>DE</td>\n",
       "      <td>B09X7CRKRZ</td>\n",
       "      <td>12.562859</td>\n",
       "      <td>0.027223</td>\n",
       "      <td>15.720893</td>\n",
       "      <td>0.019405</td>\n",
       "    </tr>\n",
       "    <tr>\n",
       "      <th>595994</th>\n",
       "      <td>2000</td>\n",
       "      <td>DE</td>\n",
       "      <td>B08TJRVWV1</td>\n",
       "      <td>11.837065</td>\n",
       "      <td>0.004905</td>\n",
       "      <td>14.007093</td>\n",
       "      <td>0.018766</td>\n",
       "    </tr>\n",
       "    <tr>\n",
       "      <th>596068</th>\n",
       "      <td>2000</td>\n",
       "      <td>DE</td>\n",
       "      <td>B09X7C7LL1</td>\n",
       "      <td>12.590157</td>\n",
       "      <td>0.023576</td>\n",
       "      <td>15.577086</td>\n",
       "      <td>0.017070</td>\n",
       "    </tr>\n",
       "    <tr>\n",
       "      <th>596024</th>\n",
       "      <td>2000</td>\n",
       "      <td>DE</td>\n",
       "      <td>B09D3N8XBH</td>\n",
       "      <td>12.032446</td>\n",
       "      <td>0.012965</td>\n",
       "      <td>14.979074</td>\n",
       "      <td>0.015340</td>\n",
       "    </tr>\n",
       "    <tr>\n",
       "      <th>595963</th>\n",
       "      <td>2000</td>\n",
       "      <td>DE</td>\n",
       "      <td>B08GY8NHF2</td>\n",
       "      <td>12.015793</td>\n",
       "      <td>0.019522</td>\n",
       "      <td>15.388364</td>\n",
       "      <td>0.013664</td>\n",
       "    </tr>\n",
       "    <tr>\n",
       "      <th>596070</th>\n",
       "      <td>2000</td>\n",
       "      <td>DE</td>\n",
       "      <td>B09X7CFLDF</td>\n",
       "      <td>11.783438</td>\n",
       "      <td>0.014268</td>\n",
       "      <td>15.074863</td>\n",
       "      <td>0.013085</td>\n",
       "    </tr>\n",
       "    <tr>\n",
       "      <th>596077</th>\n",
       "      <td>2000</td>\n",
       "      <td>DE</td>\n",
       "      <td>B09X7DNF6G</td>\n",
       "      <td>12.305527</td>\n",
       "      <td>0.003365</td>\n",
       "      <td>13.630405</td>\n",
       "      <td>0.011876</td>\n",
       "    </tr>\n",
       "    <tr>\n",
       "      <th>595996</th>\n",
       "      <td>2000</td>\n",
       "      <td>DE</td>\n",
       "      <td>B08TJTBSGP</td>\n",
       "      <td>12.735060</td>\n",
       "      <td>0.017584</td>\n",
       "      <td>15.283829</td>\n",
       "      <td>0.011538</td>\n",
       "    </tr>\n",
       "    <tr>\n",
       "      <th>595972</th>\n",
       "      <td>2000</td>\n",
       "      <td>DE</td>\n",
       "      <td>B08HCPTMJG</td>\n",
       "      <td>11.393892</td>\n",
       "      <td>0.010450</td>\n",
       "      <td>14.763412</td>\n",
       "      <td>0.009787</td>\n",
       "    </tr>\n",
       "    <tr>\n",
       "      <th>595934</th>\n",
       "      <td>2000</td>\n",
       "      <td>DE</td>\n",
       "      <td>B07ZG8W8B4</td>\n",
       "      <td>11.409872</td>\n",
       "      <td>0.014364</td>\n",
       "      <td>15.081561</td>\n",
       "      <td>0.009147</td>\n",
       "    </tr>\n",
       "    <tr>\n",
       "      <th>595912</th>\n",
       "      <td>2000</td>\n",
       "      <td>DE</td>\n",
       "      <td>B07N7D2WBF</td>\n",
       "      <td>11.450582</td>\n",
       "      <td>0.030386</td>\n",
       "      <td>15.830807</td>\n",
       "      <td>0.008587</td>\n",
       "    </tr>\n",
       "    <tr>\n",
       "      <th>596065</th>\n",
       "      <td>2000</td>\n",
       "      <td>DE</td>\n",
       "      <td>B09X7BQB4J</td>\n",
       "      <td>11.331858</td>\n",
       "      <td>0.005284</td>\n",
       "      <td>14.081465</td>\n",
       "      <td>0.008422</td>\n",
       "    </tr>\n",
       "    <tr>\n",
       "      <th>596016</th>\n",
       "      <td>2000</td>\n",
       "      <td>DE</td>\n",
       "      <td>B09B9D5JWV</td>\n",
       "      <td>11.751057</td>\n",
       "      <td>0.003429</td>\n",
       "      <td>13.649025</td>\n",
       "      <td>0.006684</td>\n",
       "    </tr>\n",
       "    <tr>\n",
       "      <th>595998</th>\n",
       "      <td>2000</td>\n",
       "      <td>DE</td>\n",
       "      <td>B08TJZDJ4D</td>\n",
       "      <td>10.855064</td>\n",
       "      <td>0.001822</td>\n",
       "      <td>13.016965</td>\n",
       "      <td>0.006325</td>\n",
       "    </tr>\n",
       "  </tbody>\n",
       "</table>\n",
       "</div>"
      ],
      "text/plain": [
       "        sess_id sess_locale     product  sasrec_scores_2  \\\n",
       "596023     2000          DE  B09D3N56DD        16.126688   \n",
       "596028     2000          DE  B09D3P5LYN        14.356667   \n",
       "596064     2000          DE  B09X7BK27V        13.219624   \n",
       "596020     2000          DE  B09D3LP52K        12.823625   \n",
       "595970     2000          DE  B08GYKNCCP        13.141228   \n",
       "596026     2000          DE  B09D3NPHLP        13.011024   \n",
       "596072     2000          DE  B09X7CRKRZ        12.562859   \n",
       "595994     2000          DE  B08TJRVWV1        11.837065   \n",
       "596068     2000          DE  B09X7C7LL1        12.590157   \n",
       "596024     2000          DE  B09D3N8XBH        12.032446   \n",
       "595963     2000          DE  B08GY8NHF2        12.015793   \n",
       "596070     2000          DE  B09X7CFLDF        11.783438   \n",
       "596077     2000          DE  B09X7DNF6G        12.305527   \n",
       "595996     2000          DE  B08TJTBSGP        12.735060   \n",
       "595972     2000          DE  B08HCPTMJG        11.393892   \n",
       "595934     2000          DE  B07ZG8W8B4        11.409872   \n",
       "595912     2000          DE  B07N7D2WBF        11.450582   \n",
       "596065     2000          DE  B09X7BQB4J        11.331858   \n",
       "596016     2000          DE  B09B9D5JWV        11.751057   \n",
       "595998     2000          DE  B08TJZDJ4D        10.855064   \n",
       "\n",
       "        normalized_gru4rec_feat_scores_2  gru4rec_feat_scores_2  \\\n",
       "596023                          0.377798              18.351198   \n",
       "596028                          0.019606              15.392672   \n",
       "596064                          0.060374              16.517393   \n",
       "596020                          0.022163              15.515283   \n",
       "595970                          0.071795              16.690653   \n",
       "596026                          0.040851              16.126768   \n",
       "596072                          0.027223              15.720893   \n",
       "595994                          0.004905              14.007093   \n",
       "596068                          0.023576              15.577086   \n",
       "596024                          0.012965              14.979074   \n",
       "595963                          0.019522              15.388364   \n",
       "596070                          0.014268              15.074863   \n",
       "596077                          0.003365              13.630405   \n",
       "595996                          0.017584              15.283829   \n",
       "595972                          0.010450              14.763412   \n",
       "595934                          0.014364              15.081561   \n",
       "595912                          0.030386              15.830807   \n",
       "596065                          0.005284              14.081465   \n",
       "596016                          0.003429              13.649025   \n",
       "595998                          0.001822              13.016965   \n",
       "\n",
       "        normalized_sasrec_scores_3  \n",
       "596023                    0.429727  \n",
       "596028                    0.104548  \n",
       "596064                    0.038561  \n",
       "596020                    0.035548  \n",
       "595970                    0.035340  \n",
       "596026                    0.026086  \n",
       "596072                    0.019405  \n",
       "595994                    0.018766  \n",
       "596068                    0.017070  \n",
       "596024                    0.015340  \n",
       "595963                    0.013664  \n",
       "596070                    0.013085  \n",
       "596077                    0.011876  \n",
       "595996                    0.011538  \n",
       "595972                    0.009787  \n",
       "595934                    0.009147  \n",
       "595912                    0.008587  \n",
       "596065                    0.008422  \n",
       "596016                    0.006684  \n",
       "595998                    0.006325  "
      ]
     },
     "execution_count": 28,
     "metadata": {},
     "output_type": "execute_result"
    }
   ],
   "source": [
    "# # verify sasrec scores\n",
    "merged_candidates[merged_candidates['sess_id'] == 2000].sort_values(by=['sasrec_scores_3'], ascending=False)[['sess_id', 'sess_locale', 'product', 'sasrec_scores_2', 'normalized_'+FIELD_NAME, FIELD_NAME, 'normalized_sasrec_scores_3']].iloc[:20]"
   ]
  }
 ],
 "metadata": {
  "kernelspec": {
   "display_name": "torch12",
   "language": "python",
   "name": "python3"
  },
  "language_info": {
   "codemirror_mode": {
    "name": "ipython",
    "version": 3
   },
   "file_extension": ".py",
   "mimetype": "text/x-python",
   "name": "python",
   "nbconvert_exporter": "python",
   "pygments_lexer": "ipython3",
   "version": "3.9.15"
  }
 },
 "nbformat": 4,
 "nbformat_minor": 2
}
