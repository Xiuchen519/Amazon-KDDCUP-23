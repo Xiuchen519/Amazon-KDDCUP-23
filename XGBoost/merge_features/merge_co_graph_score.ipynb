{
 "cells": [
  {
   "attachments": {},
   "cell_type": "markdown",
   "metadata": {},
   "source": [
    "# Necessary Common Functions\n",
    "\n",
    "Those functions should be ran before each part."
   ]
  },
  {
   "cell_type": "code",
   "execution_count": 1,
   "metadata": {
    "execution": {
     "iopub.execute_input": "2023-06-03T06:06:37.044408Z",
     "iopub.status.busy": "2023-06-03T06:06:37.043955Z",
     "iopub.status.idle": "2023-06-03T06:06:39.003687Z",
     "shell.execute_reply": "2023-06-03T06:06:39.002294Z"
    }
   },
   "outputs": [],
   "source": [
    "import os\n",
    "import random\n",
    "import numpy as np\n",
    "import pandas as pd\n",
    "import cudf, itertools\n",
    "import scipy.sparse as ssp\n",
    "from functools import lru_cache\n",
    "from tqdm import tqdm, trange\n",
    "from collections import Counter, defaultdict"
   ]
  },
  {
   "cell_type": "code",
   "execution_count": 2,
   "metadata": {
    "execution": {
     "iopub.execute_input": "2023-06-03T06:06:39.010147Z",
     "iopub.status.busy": "2023-06-03T06:06:39.009240Z",
     "iopub.status.idle": "2023-06-03T06:06:39.022406Z",
     "shell.execute_reply": "2023-06-03T06:06:39.021624Z"
    }
   },
   "outputs": [],
   "source": [
    "def get_sessions(df: pd.DataFrame, test=False, list_item=False) -> list:\n",
    "    \n",
    "    all_item = []\n",
    "    if 'next_item' in df and not test:\n",
    "        if list_item:\n",
    "            for i in trange(len(df)):\n",
    "                all_item.append(np.concatenate([np.array(df.loc[i, 'prev_items']), np.array(df.loc[i, 'next_item'])], axis=0))\n",
    "        else:\n",
    "            for i in trange(len(df)):\n",
    "                all_item.append(eval((df.loc[i, 'prev_items'][:-1]+f\" '{df.loc[i, 'next_item']}']\").replace(\" \", \",\")))\n",
    "    else:\n",
    "        if list_item:\n",
    "            all_item = df['prev_items']\n",
    "        else:\n",
    "            for i in trange(len(df)):\n",
    "                all_item.append(eval((df.loc[i, 'prev_items']).replace(\" \", \",\")))\n",
    "    return all_item"
   ]
  },
  {
   "cell_type": "code",
   "execution_count": 3,
   "metadata": {
    "execution": {
     "iopub.execute_input": "2023-06-03T06:06:39.027228Z",
     "iopub.status.busy": "2023-06-03T06:06:39.026783Z",
     "iopub.status.idle": "2023-06-03T06:06:39.036453Z",
     "shell.execute_reply": "2023-06-03T06:06:39.035544Z"
    }
   },
   "outputs": [],
   "source": [
    "def get_co_occurence_dict(sessions: list, bidirection: bool=True, weighted: bool=False, max_dis=None) -> dict:\n",
    "    res = {}\n",
    "    for sess in tqdm(sessions):\n",
    "        for i, id in enumerate(sess):\n",
    "            if id not in res:\n",
    "                res[id] = Counter()\n",
    "            \n",
    "            if max_dis == None:\n",
    "                e = len(sess)\n",
    "            else:\n",
    "                e = min(i + max_dis + 1, len(sess))\n",
    "\n",
    "            for j in range(i+1, e):\n",
    "                if not weighted:\n",
    "                    res[id][sess[j]] += 1\n",
    "                else:\n",
    "                    res[id][sess[j]] += 1 / (j-i)\n",
    "                if bidirection:\n",
    "                    if sess[j] not in res:\n",
    "                        res[sess[j]] = Counter()\n",
    "                    if not weighted:\n",
    "                        res[sess[j]][id] += 1\n",
    "                    else:\n",
    "                        res[sess[j]][id] += 1 / (j-i)\n",
    "    return res"
   ]
  },
  {
   "cell_type": "code",
   "execution_count": 4,
   "metadata": {
    "execution": {
     "iopub.execute_input": "2023-06-03T06:06:39.039733Z",
     "iopub.status.busy": "2023-06-03T06:06:39.039316Z",
     "iopub.status.idle": "2023-06-03T06:06:39.046402Z",
     "shell.execute_reply": "2023-06-03T06:06:39.045200Z"
    }
   },
   "outputs": [],
   "source": [
    "def sort_co_occurence_dict(co_occurence_dict: dict) -> dict:\n",
    "    res = {}\n",
    "    for k,v in co_occurence_dict.items():\n",
    "        res[k] = dict(sorted(v.items(), key=lambda item: -item[1]))\n",
    "    return res"
   ]
  },
  {
   "cell_type": "code",
   "execution_count": 5,
   "metadata": {
    "execution": {
     "iopub.execute_input": "2023-06-03T06:06:39.053507Z",
     "iopub.status.busy": "2023-06-03T06:06:39.053179Z",
     "iopub.status.idle": "2023-06-03T06:06:39.062101Z",
     "shell.execute_reply": "2023-06-03T06:06:39.060997Z"
    }
   },
   "outputs": [],
   "source": [
    "def cast_dtype(df : pd.DataFrame, columns=None):\n",
    "    if columns is None:\n",
    "        columns = df.columns\n",
    "    for k in columns:\n",
    "        dt = type(df[k].iloc[0])\n",
    "        if 'float' in str(dt):\n",
    "            df[k] = df[k].astype('float32')\n",
    "        elif 'int' in str(dt):\n",
    "            df[k] = df[k].astype('int32')\n",
    "        elif dt == list:\n",
    "            dt_ = type(df.iloc[0][k][0])\n",
    "            if 'float' in str(dt_):\n",
    "                df[k] = df[k].apply(lambda x : np.array(x, dtype=np.float32))\n",
    "            elif 'int' in str(dt_):\n",
    "                df[k] = df[k].apply(lambda x : np.array(x, dtype=np.int32))"
   ]
  },
  {
   "cell_type": "code",
   "execution_count": 6,
   "metadata": {
    "execution": {
     "iopub.execute_input": "2023-06-03T06:06:39.069096Z",
     "iopub.status.busy": "2023-06-03T06:06:39.068729Z",
     "iopub.status.idle": "2023-06-03T06:06:39.075636Z",
     "shell.execute_reply": "2023-06-03T06:06:39.074570Z"
    }
   },
   "outputs": [],
   "source": [
    "def get_session_last_item(session_df):\n",
    "    last_items = []\n",
    "    num_sessions = len(session_df)\n",
    "    for i in tqdm(range(num_sessions)):\n",
    "        sess = session_df.iloc[i]\n",
    "        sess_prev_items = sess['prev_items']\n",
    "        \n",
    "        product_list = sess_prev_items.strip('[]').split(' ')\n",
    "        last_item = product_list[-1].strip(\"'\\n\")\n",
    "\n",
    "        last_items.append(last_item)\n",
    "    return last_items "
   ]
  },
  {
   "cell_type": "code",
   "execution_count": 7,
   "metadata": {
    "execution": {
     "iopub.execute_input": "2023-06-03T06:06:39.080894Z",
     "iopub.status.busy": "2023-06-03T06:06:39.080408Z",
     "iopub.status.idle": "2023-06-03T06:06:39.090228Z",
     "shell.execute_reply": "2023-06-03T06:06:39.088907Z"
    }
   },
   "outputs": [],
   "source": [
    "def get_co_graph_counts(session_last_items, merged_candidates_df, co_graph_dict):\n",
    "    co_graph_count_list = []\n",
    "    for idx, row in tqdm(merged_candidates_df.iterrows(), total=merged_candidates_df.shape[0]):\n",
    "        sess_id = row['sess_id']\n",
    "        product = row['product']\n",
    "        last_item = session_last_items[sess_id]\n",
    "        co_graph_count = co_graph_dict[last_item][product]\n",
    "        co_graph_count_list.append(co_graph_count)\n",
    "    return co_graph_count_list"
   ]
  },
  {
   "cell_type": "code",
   "execution_count": 8,
   "metadata": {
    "execution": {
     "iopub.execute_input": "2023-06-03T06:06:39.096151Z",
     "iopub.status.busy": "2023-06-03T06:06:39.095610Z",
     "iopub.status.idle": "2023-06-03T06:06:39.102445Z",
     "shell.execute_reply": "2023-06-03T06:06:39.101565Z"
    }
   },
   "outputs": [],
   "source": [
    "def flatten_co_graph_dict(co_graph_dict):\n",
    "    product_list = []\n",
    "    neighbor_list = []\n",
    "    counts_list = []\n",
    "    for product in tqdm(co_graph_dict.keys(), total=len(co_graph_dict)):\n",
    "        for neigh in co_graph_dict[product].keys():\n",
    "            product_list.append(product)\n",
    "            neighbor_list.append(neigh)\n",
    "            counts_list.append(co_graph_dict[product][neigh])\n",
    "    return pd.DataFrame({'product_' : product_list, 'neighbor' : neighbor_list, 'counts' : counts_list})"
   ]
  },
  {
   "cell_type": "code",
   "execution_count": 9,
   "metadata": {
    "execution": {
     "iopub.execute_input": "2023-06-03T06:06:39.109263Z",
     "iopub.status.busy": "2023-06-03T06:06:39.108840Z",
     "iopub.status.idle": "2023-06-03T06:06:39.116733Z",
     "shell.execute_reply": "2023-06-03T06:06:39.115762Z"
    }
   },
   "outputs": [],
   "source": [
    "def normalize_co_graph_counts(merged_candidates_counts):\n",
    "    # normalize co graph counts \n",
    "    # merged_candidates_counts_g = cudf.from_pandas(merged_candidates_counts)\n",
    "    sessions_count_sum = merged_candidates_counts[['sess_id', 'counts']].groupby('sess_id').sum()\n",
    "    sessions_count_sum.sort_index(inplace=True)\n",
    "\n",
    "    # sessions_count_sum = sessions_count_sum.to_pandas()\n",
    "\n",
    "    candidates_count_sum = sessions_count_sum.loc[merged_candidates_counts['sess_id']].reset_index(drop=True)\n",
    "    merged_candidates_counts['counts_sum'] = candidates_count_sum['counts']\n",
    "    merged_candidates_counts['normalized_counts'] = merged_candidates_counts['counts'] / merged_candidates_counts['counts_sum']\n",
    "\n",
    "    # del merged_candidates_counts_g\n",
    "    # del sessions_count_sum_g\n",
    "    "
   ]
  },
  {
   "attachments": {},
   "cell_type": "markdown",
   "metadata": {},
   "source": [
    "# Merge valid co-graph counts "
   ]
  },
  {
   "cell_type": "code",
   "execution_count": 10,
   "metadata": {
    "execution": {
     "iopub.execute_input": "2023-06-03T06:06:39.122184Z",
     "iopub.status.busy": "2023-06-03T06:06:39.121584Z",
     "iopub.status.idle": "2023-06-03T06:06:39.127235Z",
     "shell.execute_reply": "2023-06-03T06:06:39.126090Z"
    }
   },
   "outputs": [],
   "source": [
    "merged_candidates_feature_path = '/root/autodl-tmp/xiaolong/WorkSpace/Amazon-KDDCUP-23/XGBoost/candidates_phase2/merged_candidates_150_feature.parquet'\n",
    "train_sessions_path = '/root/autodl-tmp/xiaolong/WorkSpace/Amazon-KDDCUP-23/data_for_recstudio/task1_data/task13_4_task1_train_sessions_phase2.csv'\n",
    "valid_sessions_path = '/root/autodl-tmp/xiaolong/WorkSpace/Amazon-KDDCUP-23/data_for_recstudio/task1_data/task13_4_task1_valid_sessions_phase2.csv'\n",
    "test_sessions_path = '/root/autodl-tmp/xiaolong/WorkSpace/Amazon-KDDCUP-23/raw_data/sessions_test_task1_phase2.csv'\n",
    "product_data_path = '/root/autodl-tmp/xiaolong/WorkSpace/Amazon-KDDCUP-23/raw_data/products_train.csv'"
   ]
  },
  {
   "cell_type": "code",
   "execution_count": 11,
   "metadata": {
    "execution": {
     "iopub.execute_input": "2023-06-03T06:06:39.133484Z",
     "iopub.status.busy": "2023-06-03T06:06:39.132583Z",
     "iopub.status.idle": "2023-06-03T06:06:39.143845Z",
     "shell.execute_reply": "2023-06-03T06:06:39.142889Z"
    }
   },
   "outputs": [],
   "source": [
    "@lru_cache(maxsize=1)\n",
    "def read_merged_candidates_feature():\n",
    "    return pd.read_parquet(merged_candidates_feature_path)\n",
    "\n",
    "@lru_cache(maxsize=1)\n",
    "def read_product_data():\n",
    "    return pd.read_csv(product_data_path)\n",
    "\n",
    "@lru_cache(maxsize=1)\n",
    "def read_train_data():\n",
    "    return pd.read_csv(train_sessions_path)\n",
    "\n",
    "@lru_cache(maxsize=1)\n",
    "def read_valid_data():\n",
    "    return pd.read_csv(valid_sessions_path)\n",
    "\n",
    "@lru_cache(maxsize=1)\n",
    "def read_test_data():\n",
    "    return pd.read_csv(test_sessions_path)"
   ]
  },
  {
   "cell_type": "code",
   "execution_count": 12,
   "metadata": {
    "execution": {
     "iopub.execute_input": "2023-06-03T06:06:39.151332Z",
     "iopub.status.busy": "2023-06-03T06:06:39.150712Z",
     "iopub.status.idle": "2023-06-03T06:07:13.426261Z",
     "shell.execute_reply": "2023-06-03T06:07:13.292475Z"
    }
   },
   "outputs": [],
   "source": [
    "merged_candidates_feature = read_merged_candidates_feature()"
   ]
  },
  {
   "cell_type": "code",
   "execution_count": 13,
   "metadata": {
    "execution": {
     "iopub.execute_input": "2023-06-03T06:07:13.441504Z",
     "iopub.status.busy": "2023-06-03T06:07:13.440714Z",
     "iopub.status.idle": "2023-06-03T06:07:16.403301Z",
     "shell.execute_reply": "2023-06-03T06:07:16.402527Z"
    }
   },
   "outputs": [],
   "source": [
    "merged_candidates = merged_candidates_feature[['sess_id', 'sess_locale', 'product']]"
   ]
  },
  {
   "cell_type": "code",
   "execution_count": 14,
   "metadata": {
    "execution": {
     "iopub.execute_input": "2023-06-03T06:07:16.408055Z",
     "iopub.status.busy": "2023-06-03T06:07:16.407738Z",
     "iopub.status.idle": "2023-06-03T06:07:37.131857Z",
     "shell.execute_reply": "2023-06-03T06:07:37.131126Z"
    }
   },
   "outputs": [],
   "source": [
    "train_sess_data = read_train_data()\n",
    "valid_sess_data = read_valid_data()\n",
    "test_sess_data = read_test_data()\n",
    "product = read_product_data()"
   ]
  },
  {
   "cell_type": "code",
   "execution_count": 15,
   "metadata": {
    "execution": {
     "iopub.execute_input": "2023-06-03T06:07:37.136242Z",
     "iopub.status.busy": "2023-06-03T06:07:37.135819Z",
     "iopub.status.idle": "2023-06-03T06:10:30.231489Z",
     "shell.execute_reply": "2023-06-03T06:10:30.230680Z"
    }
   },
   "outputs": [
    {
     "name": "stderr",
     "output_type": "stream",
     "text": [
      "100%|████████████████████████████████████████████████████████████████████████████████████████████████████████████████████████████████| 3966659/3966659 [02:44<00:00, 24108.38it/s]\n",
      "100%|██████████████████████████████████████████████████████████████████████████████████████████████████████████████████████████████████| 261816/261816 [00:08<00:00, 30671.89it/s]\n"
     ]
    }
   ],
   "source": [
    "train_sess_item = get_sessions(train_sess_data, list_item=False)\n",
    "valid_sess_item = get_sessions(valid_sess_data, test=True, list_item=False)"
   ]
  },
  {
   "cell_type": "code",
   "execution_count": 16,
   "metadata": {
    "execution": {
     "iopub.execute_input": "2023-06-03T06:10:30.240000Z",
     "iopub.status.busy": "2023-06-03T06:10:30.239595Z",
     "iopub.status.idle": "2023-06-03T06:10:41.882513Z",
     "shell.execute_reply": "2023-06-03T06:10:41.881438Z"
    }
   },
   "outputs": [
    {
     "name": "stderr",
     "output_type": "stream",
     "text": [
      "100%|██████████████████████████████████████████████████████████████████████████████████████████████████████████████████████████████████| 261816/261816 [00:11<00:00, 22503.70it/s]\n"
     ]
    }
   ],
   "source": [
    "valid_session_last_items = get_session_last_item(valid_sess_data)"
   ]
  },
  {
   "cell_type": "code",
   "execution_count": 17,
   "metadata": {
    "execution": {
     "iopub.execute_input": "2023-06-03T06:10:41.890641Z",
     "iopub.status.busy": "2023-06-03T06:10:41.890188Z",
     "iopub.status.idle": "2023-06-03T06:10:54.718069Z",
     "shell.execute_reply": "2023-06-03T06:10:54.716995Z"
    }
   },
   "outputs": [
    {
     "name": "stderr",
     "output_type": "stream",
     "text": [
      "/tmp/ipykernel_192353/1241352254.py:2: SettingWithCopyWarning: \n",
      "A value is trying to be set on a copy of a slice from a DataFrame.\n",
      "Try using .loc[row_indexer,col_indexer] = value instead\n",
      "\n",
      "See the caveats in the documentation: https://pandas.pydata.org/pandas-docs/stable/user_guide/indexing.html#returning-a-view-versus-a-copy\n",
      "  merged_candidates['last_item'] = valid_session_last_items[merged_candidates['sess_id']]\n"
     ]
    }
   ],
   "source": [
    "valid_session_last_items = np.array(valid_session_last_items)\n",
    "merged_candidates['last_item'] = valid_session_last_items[merged_candidates['sess_id']]"
   ]
  },
  {
   "attachments": {},
   "cell_type": "markdown",
   "metadata": {},
   "source": [
    "## bidirection"
   ]
  },
  {
   "cell_type": "code",
   "execution_count": 18,
   "metadata": {
    "execution": {
     "iopub.execute_input": "2023-06-03T06:10:54.726465Z",
     "iopub.status.busy": "2023-06-03T06:10:54.726007Z",
     "iopub.status.idle": "2023-06-03T06:12:33.812170Z",
     "shell.execute_reply": "2023-06-03T06:12:33.811037Z"
    }
   },
   "outputs": [
    {
     "name": "stderr",
     "output_type": "stream",
     "text": [
      "100%|████████████████████████████████████████████████████████████████████████████████████████████████████████████████████████████████| 3966659/3966659 [01:39<00:00, 40037.31it/s]\n"
     ]
    }
   ],
   "source": [
    "# valid is included in train \n",
    "co_occurence_dict_bi = get_co_occurence_dict(train_sess_item, bidirection=True, weighted=False)"
   ]
  },
  {
   "cell_type": "code",
   "execution_count": 19,
   "metadata": {
    "execution": {
     "iopub.execute_input": "2023-06-03T06:12:33.817693Z",
     "iopub.status.busy": "2023-06-03T06:12:33.817209Z",
     "iopub.status.idle": "2023-06-03T06:13:08.198621Z",
     "shell.execute_reply": "2023-06-03T06:13:08.197480Z"
    }
   },
   "outputs": [
    {
     "name": "stderr",
     "output_type": "stream",
     "text": [
      "100%|██████████████████████████████████████████████████████████████████████████████████████████████████████████████████████████████████| 261816/261816 [00:11<00:00, 22296.58it/s]\n",
      "/tmp/ipykernel_192353/152729772.py:5: SettingWithCopyWarning: \n",
      "A value is trying to be set on a copy of a slice from a DataFrame.\n",
      "Try using .loc[row_indexer,col_indexer] = value instead\n",
      "\n",
      "See the caveats in the documentation: https://pandas.pydata.org/pandas-docs/stable/user_guide/indexing.html#returning-a-view-versus-a-copy\n",
      "  merged_candidates['last_item'] = valid_session_last_items[merged_candidates['sess_id']]\n"
     ]
    }
   ],
   "source": [
    "merged_candidates_feature = read_merged_candidates_feature()\n",
    "merged_candidates = merged_candidates_feature[['sess_id', 'sess_locale', 'product']]\n",
    "valid_session_last_items = get_session_last_item(valid_sess_data)\n",
    "valid_session_last_items = np.array(valid_session_last_items)\n",
    "merged_candidates['last_item'] = valid_session_last_items[merged_candidates['sess_id']]"
   ]
  },
  {
   "cell_type": "code",
   "execution_count": 20,
   "metadata": {
    "execution": {
     "iopub.execute_input": "2023-06-03T06:13:08.211615Z",
     "iopub.status.busy": "2023-06-03T06:13:08.210591Z",
     "iopub.status.idle": "2023-06-03T06:14:00.942594Z",
     "shell.execute_reply": "2023-06-03T06:14:00.941299Z"
    }
   },
   "outputs": [
    {
     "name": "stderr",
     "output_type": "stream",
     "text": [
      "100%|████████████████████████████████████████████████████████████████████████████████████████████████████████████████████████████████| 1338342/1338342 [00:26<00:00, 50758.70it/s]\n"
     ]
    }
   ],
   "source": [
    "co_occurence_dict_bi_df = flatten_co_graph_dict(co_occurence_dict_bi)"
   ]
  },
  {
   "cell_type": "code",
   "execution_count": 21,
   "metadata": {
    "execution": {
     "iopub.execute_input": "2023-06-03T06:14:00.947790Z",
     "iopub.status.busy": "2023-06-03T06:14:00.947355Z",
     "iopub.status.idle": "2023-06-03T06:14:00.952191Z",
     "shell.execute_reply": "2023-06-03T06:14:00.951285Z"
    }
   },
   "outputs": [],
   "source": [
    "# merged_candidates_g = cudf.from_pandas(merged_candidates)\n",
    "# co_occurence_dict_bi_df_g = cudf.from_pandas(co_occurence_dict_bi_df)"
   ]
  },
  {
   "cell_type": "code",
   "execution_count": 22,
   "metadata": {
    "execution": {
     "iopub.execute_input": "2023-06-03T06:14:00.956564Z",
     "iopub.status.busy": "2023-06-03T06:14:00.956178Z",
     "iopub.status.idle": "2023-06-03T06:14:00.960726Z",
     "shell.execute_reply": "2023-06-03T06:14:00.959847Z"
    }
   },
   "outputs": [],
   "source": [
    "# merged_candidates_bi_g = merged_candidates_g.merge(co_occurence_dict_bi_df_g, how='left', left_on=['last_item', 'product'], right_on=['product_', 'neighbor'])\n",
    "# merged_candidates_bi_g.drop(columns=['product_', 'neighbor'], inplace=True)\n",
    "# merged_candidates_bi_g = merged_candidates_bi_g.sort_values(by=['sess_id', 'product'])\n",
    "# merged_candidates_bi_g.reset_index(drop=True, inplace=True)\n",
    "# merged_candidates_bi_g['counts'] = merged_candidates_bi_g['counts'].fillna(0)\n",
    "# assert len(merged_candidates_bi_g['counts']) == len(merged_candidates)\n",
    "# merged_candidates_bi = merged_candidates_bi_g.to_pandas()"
   ]
  },
  {
   "cell_type": "code",
   "execution_count": 23,
   "metadata": {
    "execution": {
     "iopub.execute_input": "2023-06-03T06:14:00.965525Z",
     "iopub.status.busy": "2023-06-03T06:14:00.964953Z",
     "iopub.status.idle": "2023-06-03T06:17:41.718632Z",
     "shell.execute_reply": "2023-06-03T06:17:41.717407Z"
    }
   },
   "outputs": [],
   "source": [
    "merged_candidates_bi = merged_candidates.merge(co_occurence_dict_bi_df, how='left', left_on=['last_item', 'product'], right_on=['product_', 'neighbor'])\n",
    "merged_candidates_bi.drop(columns=['product_', 'neighbor'], inplace=True)\n",
    "merged_candidates_bi = merged_candidates_bi.sort_values(by=['sess_id', 'product'])\n",
    "merged_candidates_bi.reset_index(drop=True, inplace=True)\n",
    "merged_candidates_bi['counts'] = merged_candidates_bi['counts'].fillna(0)\n",
    "assert len(merged_candidates_bi['counts']) == len(merged_candidates)\n",
    "# merged_candidates_bi = merged_candidates_bi_g.to_pandas()"
   ]
  },
  {
   "cell_type": "code",
   "execution_count": 24,
   "metadata": {
    "execution": {
     "iopub.execute_input": "2023-06-03T06:17:41.726117Z",
     "iopub.status.busy": "2023-06-03T06:17:41.725641Z",
     "iopub.status.idle": "2023-06-03T06:17:41.730557Z",
     "shell.execute_reply": "2023-06-03T06:17:41.729564Z"
    }
   },
   "outputs": [],
   "source": [
    "# del merged_candidates_g\n",
    "# del co_occurence_dict_bi_df_g\n",
    "# del merged_candidates_bi_g"
   ]
  },
  {
   "cell_type": "code",
   "execution_count": 25,
   "metadata": {
    "execution": {
     "iopub.execute_input": "2023-06-03T06:17:41.737677Z",
     "iopub.status.busy": "2023-06-03T06:17:41.737256Z",
     "iopub.status.idle": "2023-06-03T06:18:03.179402Z",
     "shell.execute_reply": "2023-06-03T06:18:03.178429Z"
    }
   },
   "outputs": [],
   "source": [
    "normalize_co_graph_counts(merged_candidates_bi)"
   ]
  },
  {
   "cell_type": "code",
   "execution_count": 26,
   "metadata": {
    "execution": {
     "iopub.execute_input": "2023-06-03T06:18:03.185322Z",
     "iopub.status.busy": "2023-06-03T06:18:03.184919Z",
     "iopub.status.idle": "2023-06-03T06:18:27.997603Z",
     "shell.execute_reply": "2023-06-03T06:18:27.996412Z"
    }
   },
   "outputs": [],
   "source": [
    "merged_candidates_feature['co_graph_counts_0'] = merged_candidates_bi['counts']\n",
    "merged_candidates_feature['normalized_co_graph_counts_0'] = merged_candidates_bi['normalized_counts']"
   ]
  },
  {
   "cell_type": "code",
   "execution_count": 27,
   "metadata": {
    "execution": {
     "iopub.execute_input": "2023-06-03T06:18:28.002887Z",
     "iopub.status.busy": "2023-06-03T06:18:28.002486Z",
     "iopub.status.idle": "2023-06-03T06:18:31.819340Z",
     "shell.execute_reply": "2023-06-03T06:18:31.818492Z"
    }
   },
   "outputs": [
    {
     "data": {
      "text/html": [
       "<div>\n",
       "<style scoped>\n",
       "    .dataframe tbody tr th:only-of-type {\n",
       "        vertical-align: middle;\n",
       "    }\n",
       "\n",
       "    .dataframe tbody tr th {\n",
       "        vertical-align: top;\n",
       "    }\n",
       "\n",
       "    .dataframe thead th {\n",
       "        text-align: right;\n",
       "    }\n",
       "</style>\n",
       "<table border=\"1\" class=\"dataframe\">\n",
       "  <thead>\n",
       "    <tr style=\"text-align: right;\">\n",
       "      <th></th>\n",
       "      <th>product</th>\n",
       "      <th>sasrec_scores_2</th>\n",
       "      <th>co_graph_counts_0</th>\n",
       "      <th>normalized_co_graph_counts_0</th>\n",
       "    </tr>\n",
       "  </thead>\n",
       "  <tbody>\n",
       "    <tr>\n",
       "      <th>5968515</th>\n",
       "      <td>B08737HD3S</td>\n",
       "      <td>23.872364</td>\n",
       "      <td>0.0</td>\n",
       "      <td>NaN</td>\n",
       "    </tr>\n",
       "    <tr>\n",
       "      <th>5968602</th>\n",
       "      <td>B09CDPZF8C</td>\n",
       "      <td>23.619312</td>\n",
       "      <td>0.0</td>\n",
       "      <td>NaN</td>\n",
       "    </tr>\n",
       "    <tr>\n",
       "      <th>5968527</th>\n",
       "      <td>B08DRBQ7P2</td>\n",
       "      <td>23.481756</td>\n",
       "      <td>0.0</td>\n",
       "      <td>NaN</td>\n",
       "    </tr>\n",
       "    <tr>\n",
       "      <th>5968581</th>\n",
       "      <td>B097D4NTBN</td>\n",
       "      <td>23.157970</td>\n",
       "      <td>0.0</td>\n",
       "      <td>NaN</td>\n",
       "    </tr>\n",
       "    <tr>\n",
       "      <th>5968595</th>\n",
       "      <td>B09BN9P5Y2</td>\n",
       "      <td>22.849251</td>\n",
       "      <td>0.0</td>\n",
       "      <td>NaN</td>\n",
       "    </tr>\n",
       "    <tr>\n",
       "      <th>5968431</th>\n",
       "      <td>B01BZOKLOY</td>\n",
       "      <td>22.255867</td>\n",
       "      <td>0.0</td>\n",
       "      <td>NaN</td>\n",
       "    </tr>\n",
       "    <tr>\n",
       "      <th>5968682</th>\n",
       "      <td>B0BHDJNL3K</td>\n",
       "      <td>22.105152</td>\n",
       "      <td>0.0</td>\n",
       "      <td>NaN</td>\n",
       "    </tr>\n",
       "    <tr>\n",
       "      <th>5968583</th>\n",
       "      <td>B0988TCBT6</td>\n",
       "      <td>21.597450</td>\n",
       "      <td>0.0</td>\n",
       "      <td>NaN</td>\n",
       "    </tr>\n",
       "    <tr>\n",
       "      <th>5968482</th>\n",
       "      <td>B07W3T98LC</td>\n",
       "      <td>21.548342</td>\n",
       "      <td>0.0</td>\n",
       "      <td>NaN</td>\n",
       "    </tr>\n",
       "    <tr>\n",
       "      <th>5968523</th>\n",
       "      <td>B08BNL9HXF</td>\n",
       "      <td>21.398357</td>\n",
       "      <td>0.0</td>\n",
       "      <td>NaN</td>\n",
       "    </tr>\n",
       "    <tr>\n",
       "      <th>5968589</th>\n",
       "      <td>B09B6X453W</td>\n",
       "      <td>21.386684</td>\n",
       "      <td>0.0</td>\n",
       "      <td>NaN</td>\n",
       "    </tr>\n",
       "    <tr>\n",
       "      <th>5968600</th>\n",
       "      <td>B09C1JTTKQ</td>\n",
       "      <td>21.358204</td>\n",
       "      <td>0.0</td>\n",
       "      <td>NaN</td>\n",
       "    </tr>\n",
       "    <tr>\n",
       "      <th>5968532</th>\n",
       "      <td>B08HMT8773</td>\n",
       "      <td>21.356709</td>\n",
       "      <td>0.0</td>\n",
       "      <td>NaN</td>\n",
       "    </tr>\n",
       "    <tr>\n",
       "      <th>5968516</th>\n",
       "      <td>B087DYPFBZ</td>\n",
       "      <td>20.701958</td>\n",
       "      <td>0.0</td>\n",
       "      <td>NaN</td>\n",
       "    </tr>\n",
       "    <tr>\n",
       "      <th>5968641</th>\n",
       "      <td>B09SFSBQR8</td>\n",
       "      <td>20.688448</td>\n",
       "      <td>0.0</td>\n",
       "      <td>NaN</td>\n",
       "    </tr>\n",
       "    <tr>\n",
       "      <th>5968473</th>\n",
       "      <td>B07PQRWQD9</td>\n",
       "      <td>20.617352</td>\n",
       "      <td>0.0</td>\n",
       "      <td>NaN</td>\n",
       "    </tr>\n",
       "    <tr>\n",
       "      <th>5968618</th>\n",
       "      <td>B09HX6MN31</td>\n",
       "      <td>20.436672</td>\n",
       "      <td>0.0</td>\n",
       "      <td>NaN</td>\n",
       "    </tr>\n",
       "    <tr>\n",
       "      <th>5968472</th>\n",
       "      <td>B07PNHGL87</td>\n",
       "      <td>20.339344</td>\n",
       "      <td>0.0</td>\n",
       "      <td>NaN</td>\n",
       "    </tr>\n",
       "    <tr>\n",
       "      <th>5968484</th>\n",
       "      <td>B07W8NFPT3</td>\n",
       "      <td>20.292400</td>\n",
       "      <td>0.0</td>\n",
       "      <td>NaN</td>\n",
       "    </tr>\n",
       "    <tr>\n",
       "      <th>5968678</th>\n",
       "      <td>B0BFZP3J3G</td>\n",
       "      <td>20.274029</td>\n",
       "      <td>0.0</td>\n",
       "      <td>NaN</td>\n",
       "    </tr>\n",
       "    <tr>\n",
       "      <th>5968645</th>\n",
       "      <td>B09VKY5GJ3</td>\n",
       "      <td>20.246542</td>\n",
       "      <td>0.0</td>\n",
       "      <td>NaN</td>\n",
       "    </tr>\n",
       "    <tr>\n",
       "      <th>5968557</th>\n",
       "      <td>B08Y56SV7S</td>\n",
       "      <td>20.193775</td>\n",
       "      <td>0.0</td>\n",
       "      <td>NaN</td>\n",
       "    </tr>\n",
       "    <tr>\n",
       "      <th>5968471</th>\n",
       "      <td>B07PMK1XZ4</td>\n",
       "      <td>19.929316</td>\n",
       "      <td>0.0</td>\n",
       "      <td>NaN</td>\n",
       "    </tr>\n",
       "    <tr>\n",
       "      <th>5968638</th>\n",
       "      <td>B09QXGFXQ1</td>\n",
       "      <td>19.864658</td>\n",
       "      <td>0.0</td>\n",
       "      <td>NaN</td>\n",
       "    </tr>\n",
       "    <tr>\n",
       "      <th>5968430</th>\n",
       "      <td>B01BZOKLOO</td>\n",
       "      <td>19.723108</td>\n",
       "      <td>0.0</td>\n",
       "      <td>NaN</td>\n",
       "    </tr>\n",
       "  </tbody>\n",
       "</table>\n",
       "</div>"
      ],
      "text/plain": [
       "            product  sasrec_scores_2  co_graph_counts_0  \\\n",
       "5968515  B08737HD3S        23.872364                0.0   \n",
       "5968602  B09CDPZF8C        23.619312                0.0   \n",
       "5968527  B08DRBQ7P2        23.481756                0.0   \n",
       "5968581  B097D4NTBN        23.157970                0.0   \n",
       "5968595  B09BN9P5Y2        22.849251                0.0   \n",
       "5968431  B01BZOKLOY        22.255867                0.0   \n",
       "5968682  B0BHDJNL3K        22.105152                0.0   \n",
       "5968583  B0988TCBT6        21.597450                0.0   \n",
       "5968482  B07W3T98LC        21.548342                0.0   \n",
       "5968523  B08BNL9HXF        21.398357                0.0   \n",
       "5968589  B09B6X453W        21.386684                0.0   \n",
       "5968600  B09C1JTTKQ        21.358204                0.0   \n",
       "5968532  B08HMT8773        21.356709                0.0   \n",
       "5968516  B087DYPFBZ        20.701958                0.0   \n",
       "5968641  B09SFSBQR8        20.688448                0.0   \n",
       "5968473  B07PQRWQD9        20.617352                0.0   \n",
       "5968618  B09HX6MN31        20.436672                0.0   \n",
       "5968472  B07PNHGL87        20.339344                0.0   \n",
       "5968484  B07W8NFPT3        20.292400                0.0   \n",
       "5968678  B0BFZP3J3G        20.274029                0.0   \n",
       "5968645  B09VKY5GJ3        20.246542                0.0   \n",
       "5968557  B08Y56SV7S        20.193775                0.0   \n",
       "5968471  B07PMK1XZ4        19.929316                0.0   \n",
       "5968638  B09QXGFXQ1        19.864658                0.0   \n",
       "5968430  B01BZOKLOO        19.723108                0.0   \n",
       "\n",
       "         normalized_co_graph_counts_0  \n",
       "5968515                           NaN  \n",
       "5968602                           NaN  \n",
       "5968527                           NaN  \n",
       "5968581                           NaN  \n",
       "5968595                           NaN  \n",
       "5968431                           NaN  \n",
       "5968682                           NaN  \n",
       "5968583                           NaN  \n",
       "5968482                           NaN  \n",
       "5968523                           NaN  \n",
       "5968589                           NaN  \n",
       "5968600                           NaN  \n",
       "5968532                           NaN  \n",
       "5968516                           NaN  \n",
       "5968641                           NaN  \n",
       "5968473                           NaN  \n",
       "5968618                           NaN  \n",
       "5968472                           NaN  \n",
       "5968484                           NaN  \n",
       "5968678                           NaN  \n",
       "5968645                           NaN  \n",
       "5968557                           NaN  \n",
       "5968471                           NaN  \n",
       "5968638                           NaN  \n",
       "5968430                           NaN  "
      ]
     },
     "execution_count": 27,
     "metadata": {},
     "output_type": "execute_result"
    }
   ],
   "source": [
    "merged_candidates_feature.query('sess_id==20010').sort_values(by=['sasrec_scores_2'], ascending=False)[['product', 'sasrec_scores_2', 'co_graph_counts_0', 'normalized_co_graph_counts_0']][:25]"
   ]
  },
  {
   "cell_type": "code",
   "execution_count": 28,
   "metadata": {
    "execution": {
     "iopub.execute_input": "2023-06-03T06:18:31.830980Z",
     "iopub.status.busy": "2023-06-03T06:18:31.830521Z",
     "iopub.status.idle": "2023-06-03T06:19:44.558094Z",
     "shell.execute_reply": "2023-06-03T06:19:44.556898Z"
    }
   },
   "outputs": [],
   "source": [
    "cast_dtype(merged_candidates_feature, ['co_graph_counts_0', 'normalized_co_graph_counts_0'])\n",
    "merged_candidates_feature.to_parquet(merged_candidates_feature_path, engine='pyarrow')"
   ]
  },
  {
   "cell_type": "code",
   "execution_count": 29,
   "metadata": {
    "execution": {
     "iopub.execute_input": "2023-06-03T06:19:44.565137Z",
     "iopub.status.busy": "2023-06-03T06:19:44.564707Z",
     "iopub.status.idle": "2023-06-03T06:19:44.572371Z",
     "shell.execute_reply": "2023-06-03T06:19:44.571618Z"
    }
   },
   "outputs": [
    {
     "data": {
      "text/plain": [
       "Index(['sess_id', 'sess_locale', 'product', 'target', 'sess_avg_price',\n",
       "       'product_price', 'sasrec_scores_3', 'normalized_sasrec_scores_3',\n",
       "       'sasrec_scores_2', 'normalized_sasrec_scores_2', 'seqmlp_scores',\n",
       "       'normalized_seqmlp_scores', 'narm_scores', 'normalized_narm_scores',\n",
       "       'gru4rec_scores_2', 'normalized_gru4rec_scores_2', 'title_BM25_scores',\n",
       "       'desc_BM25_scores', 'normalized_all_items_co_graph_count_0',\n",
       "       'all_items_co_graph_count_0', 'normalized_all_items_co_graph_count_1',\n",
       "       'all_items_co_graph_count_1', 'normalized_all_items_co_graph_count_2',\n",
       "       'all_items_co_graph_count_2', 'co_graph_counts_0',\n",
       "       'normalized_co_graph_counts_0', 'co_graph_counts_1',\n",
       "       'normalized_co_graph_counts_1', 'co_graph_counts_2',\n",
       "       'normalized_co_graph_counts_2', 'cos_text_bert_scores',\n",
       "       'text_bert_scores', 'normalized_text_bert_scores', 'roberta_scores',\n",
       "       'normalized_roberta_scores', 'product_freq'],\n",
       "      dtype='object')"
      ]
     },
     "execution_count": 29,
     "metadata": {},
     "output_type": "execute_result"
    }
   ],
   "source": [
    "merged_candidates_feature.columns"
   ]
  },
  {
   "attachments": {},
   "cell_type": "markdown",
   "metadata": {},
   "source": [
    "## uni and weight"
   ]
  },
  {
   "cell_type": "code",
   "execution_count": 30,
   "metadata": {
    "execution": {
     "iopub.execute_input": "2023-06-03T06:19:44.581508Z",
     "iopub.status.busy": "2023-06-03T06:19:44.581109Z",
     "iopub.status.idle": "2023-06-03T06:21:01.314406Z",
     "shell.execute_reply": "2023-06-03T06:21:01.313325Z"
    }
   },
   "outputs": [
    {
     "name": "stderr",
     "output_type": "stream",
     "text": [
      "100%|████████████████████████████████████████████████████████████████████████████████████████████████████████████████████████████████| 3966659/3966659 [01:16<00:00, 51701.19it/s]\n"
     ]
    }
   ],
   "source": [
    "co_occurence_dict_uni_weight = get_co_occurence_dict(train_sess_item, bidirection=False, weighted=True)"
   ]
  },
  {
   "cell_type": "code",
   "execution_count": 31,
   "metadata": {
    "execution": {
     "iopub.execute_input": "2023-06-03T06:21:01.323893Z",
     "iopub.status.busy": "2023-06-03T06:21:01.323427Z",
     "iopub.status.idle": "2023-06-03T06:21:42.690039Z",
     "shell.execute_reply": "2023-06-03T06:21:42.689077Z"
    }
   },
   "outputs": [
    {
     "name": "stderr",
     "output_type": "stream",
     "text": [
      "100%|████████████████████████████████████████████████████████████████████████████████████████████████████████████████████████████████| 1338342/1338342 [00:19<00:00, 67054.00it/s]\n"
     ]
    }
   ],
   "source": [
    "co_graph_uni_weight_df = flatten_co_graph_dict(co_occurence_dict_uni_weight)"
   ]
  },
  {
   "cell_type": "code",
   "execution_count": 32,
   "metadata": {
    "execution": {
     "iopub.execute_input": "2023-06-03T06:21:42.697184Z",
     "iopub.status.busy": "2023-06-03T06:21:42.696729Z",
     "iopub.status.idle": "2023-06-03T06:21:42.701694Z",
     "shell.execute_reply": "2023-06-03T06:21:42.700586Z"
    }
   },
   "outputs": [],
   "source": [
    "# merged_candidates_g = cudf.from_pandas(merged_candidates)\n",
    "# co_graph_uni_weight_df_g = cudf.from_pandas(co_graph_uni_weight_df)"
   ]
  },
  {
   "cell_type": "code",
   "execution_count": 33,
   "metadata": {
    "execution": {
     "iopub.execute_input": "2023-06-03T06:21:42.705942Z",
     "iopub.status.busy": "2023-06-03T06:21:42.705545Z",
     "iopub.status.idle": "2023-06-03T06:25:32.539163Z",
     "shell.execute_reply": "2023-06-03T06:25:32.537710Z"
    }
   },
   "outputs": [],
   "source": [
    "merged_candidates_uni_weight = merged_candidates.merge(co_graph_uni_weight_df, how='left', left_on=['last_item', 'product'], right_on=['product_', 'neighbor'])\n",
    "merged_candidates_uni_weight.drop(columns=['product_', 'neighbor'], inplace=True)\n",
    "merged_candidates_uni_weight = merged_candidates_uni_weight.sort_values(by=['sess_id', 'product'])\n",
    "merged_candidates_uni_weight.reset_index(drop=True, inplace=True)\n",
    "merged_candidates_uni_weight['counts'] = merged_candidates_uni_weight['counts'].fillna(0)\n",
    "assert len(merged_candidates_uni_weight['counts']) == len(merged_candidates)\n",
    "# merged_candidates_uni_weight = merged_candidates_uni_weight_g.to_pandas()"
   ]
  },
  {
   "cell_type": "code",
   "execution_count": 34,
   "metadata": {
    "execution": {
     "iopub.execute_input": "2023-06-03T06:25:32.546775Z",
     "iopub.status.busy": "2023-06-03T06:25:32.546365Z",
     "iopub.status.idle": "2023-06-03T06:25:32.555973Z",
     "shell.execute_reply": "2023-06-03T06:25:32.555296Z"
    }
   },
   "outputs": [],
   "source": [
    "# del merged_candidates_g\n",
    "# del co_graph_uni_weight_df_g\n",
    "# del merged_candidates_uni_weight_g"
   ]
  },
  {
   "cell_type": "code",
   "execution_count": 35,
   "metadata": {
    "execution": {
     "iopub.execute_input": "2023-06-03T06:25:32.561143Z",
     "iopub.status.busy": "2023-06-03T06:25:32.560840Z",
     "iopub.status.idle": "2023-06-03T06:25:56.699593Z",
     "shell.execute_reply": "2023-06-03T06:25:56.698279Z"
    }
   },
   "outputs": [],
   "source": [
    "normalize_co_graph_counts(merged_candidates_uni_weight)"
   ]
  },
  {
   "cell_type": "code",
   "execution_count": 36,
   "metadata": {
    "execution": {
     "iopub.execute_input": "2023-06-03T06:25:56.704926Z",
     "iopub.status.busy": "2023-06-03T06:25:56.704502Z",
     "iopub.status.idle": "2023-06-03T06:26:18.053280Z",
     "shell.execute_reply": "2023-06-03T06:26:18.052201Z"
    }
   },
   "outputs": [],
   "source": [
    "merged_candidates_feature['co_graph_counts_1'] = merged_candidates_uni_weight['counts']\n",
    "merged_candidates_feature['normalized_co_graph_counts_1'] = merged_candidates_uni_weight['normalized_counts']"
   ]
  },
  {
   "cell_type": "code",
   "execution_count": 37,
   "metadata": {
    "execution": {
     "iopub.execute_input": "2023-06-03T06:26:18.057685Z",
     "iopub.status.busy": "2023-06-03T06:26:18.057238Z",
     "iopub.status.idle": "2023-06-03T06:29:30.819709Z",
     "shell.execute_reply": "2023-06-03T06:29:30.818592Z"
    }
   },
   "outputs": [],
   "source": [
    "cast_dtype(merged_candidates_feature)\n",
    "merged_candidates_feature.to_parquet(merged_candidates_feature_path, engine='pyarrow')"
   ]
  },
  {
   "cell_type": "code",
   "execution_count": 38,
   "metadata": {
    "execution": {
     "iopub.execute_input": "2023-06-03T06:29:30.826233Z",
     "iopub.status.busy": "2023-06-03T06:29:30.825759Z",
     "iopub.status.idle": "2023-06-03T06:29:30.856456Z",
     "shell.execute_reply": "2023-06-03T06:29:30.855686Z"
    }
   },
   "outputs": [
    {
     "data": {
      "text/html": [
       "<div>\n",
       "<style scoped>\n",
       "    .dataframe tbody tr th:only-of-type {\n",
       "        vertical-align: middle;\n",
       "    }\n",
       "\n",
       "    .dataframe tbody tr th {\n",
       "        vertical-align: top;\n",
       "    }\n",
       "\n",
       "    .dataframe thead th {\n",
       "        text-align: right;\n",
       "    }\n",
       "</style>\n",
       "<table border=\"1\" class=\"dataframe\">\n",
       "  <thead>\n",
       "    <tr style=\"text-align: right;\">\n",
       "      <th></th>\n",
       "      <th>sess_id</th>\n",
       "      <th>sess_locale</th>\n",
       "      <th>product</th>\n",
       "      <th>last_item</th>\n",
       "      <th>counts</th>\n",
       "      <th>counts_sum</th>\n",
       "      <th>normalized_counts</th>\n",
       "    </tr>\n",
       "  </thead>\n",
       "  <tbody>\n",
       "    <tr>\n",
       "      <th>0</th>\n",
       "      <td>0</td>\n",
       "      <td>DE</td>\n",
       "      <td>355165591X</td>\n",
       "      <td>B09Y94D1D3</td>\n",
       "      <td>0.000000</td>\n",
       "      <td>148.912915</td>\n",
       "      <td>0.000000</td>\n",
       "    </tr>\n",
       "    <tr>\n",
       "      <th>1</th>\n",
       "      <td>0</td>\n",
       "      <td>DE</td>\n",
       "      <td>3833237058</td>\n",
       "      <td>B09Y94D1D3</td>\n",
       "      <td>0.090909</td>\n",
       "      <td>148.912915</td>\n",
       "      <td>0.000610</td>\n",
       "    </tr>\n",
       "    <tr>\n",
       "      <th>2</th>\n",
       "      <td>0</td>\n",
       "      <td>DE</td>\n",
       "      <td>B00CIXSI6U</td>\n",
       "      <td>B09Y94D1D3</td>\n",
       "      <td>0.000000</td>\n",
       "      <td>148.912915</td>\n",
       "      <td>0.000000</td>\n",
       "    </tr>\n",
       "    <tr>\n",
       "      <th>3</th>\n",
       "      <td>0</td>\n",
       "      <td>DE</td>\n",
       "      <td>B00NVDOWUW</td>\n",
       "      <td>B09Y94D1D3</td>\n",
       "      <td>0.000000</td>\n",
       "      <td>148.912915</td>\n",
       "      <td>0.000000</td>\n",
       "    </tr>\n",
       "    <tr>\n",
       "      <th>4</th>\n",
       "      <td>0</td>\n",
       "      <td>DE</td>\n",
       "      <td>B00NVDP3ZU</td>\n",
       "      <td>B09Y94D1D3</td>\n",
       "      <td>0.000000</td>\n",
       "      <td>148.912915</td>\n",
       "      <td>0.000000</td>\n",
       "    </tr>\n",
       "    <tr>\n",
       "      <th>...</th>\n",
       "      <td>...</td>\n",
       "      <td>...</td>\n",
       "      <td>...</td>\n",
       "      <td>...</td>\n",
       "      <td>...</td>\n",
       "      <td>...</td>\n",
       "      <td>...</td>\n",
       "    </tr>\n",
       "    <tr>\n",
       "      <th>78842194</th>\n",
       "      <td>261815</td>\n",
       "      <td>UK</td>\n",
       "      <td>B0BCX524Y6</td>\n",
       "      <td>B0080ZSQKS</td>\n",
       "      <td>0.000000</td>\n",
       "      <td>364.690102</td>\n",
       "      <td>0.000000</td>\n",
       "    </tr>\n",
       "    <tr>\n",
       "      <th>78842195</th>\n",
       "      <td>261815</td>\n",
       "      <td>UK</td>\n",
       "      <td>B0BCX6QB4L</td>\n",
       "      <td>B0080ZSQKS</td>\n",
       "      <td>4.750000</td>\n",
       "      <td>364.690102</td>\n",
       "      <td>0.013025</td>\n",
       "    </tr>\n",
       "    <tr>\n",
       "      <th>78842196</th>\n",
       "      <td>261815</td>\n",
       "      <td>UK</td>\n",
       "      <td>B0BFPJYXQL</td>\n",
       "      <td>B0080ZSQKS</td>\n",
       "      <td>0.000000</td>\n",
       "      <td>364.690102</td>\n",
       "      <td>0.000000</td>\n",
       "    </tr>\n",
       "    <tr>\n",
       "      <th>78842197</th>\n",
       "      <td>261815</td>\n",
       "      <td>UK</td>\n",
       "      <td>B0BH3X67S3</td>\n",
       "      <td>B0080ZSQKS</td>\n",
       "      <td>0.000000</td>\n",
       "      <td>364.690102</td>\n",
       "      <td>0.000000</td>\n",
       "    </tr>\n",
       "    <tr>\n",
       "      <th>78842198</th>\n",
       "      <td>261815</td>\n",
       "      <td>UK</td>\n",
       "      <td>B0BH5MJGGB</td>\n",
       "      <td>B0080ZSQKS</td>\n",
       "      <td>0.000000</td>\n",
       "      <td>364.690102</td>\n",
       "      <td>0.000000</td>\n",
       "    </tr>\n",
       "  </tbody>\n",
       "</table>\n",
       "<p>78842199 rows × 7 columns</p>\n",
       "</div>"
      ],
      "text/plain": [
       "          sess_id sess_locale     product   last_item    counts  counts_sum  \\\n",
       "0               0          DE  355165591X  B09Y94D1D3  0.000000  148.912915   \n",
       "1               0          DE  3833237058  B09Y94D1D3  0.090909  148.912915   \n",
       "2               0          DE  B00CIXSI6U  B09Y94D1D3  0.000000  148.912915   \n",
       "3               0          DE  B00NVDOWUW  B09Y94D1D3  0.000000  148.912915   \n",
       "4               0          DE  B00NVDP3ZU  B09Y94D1D3  0.000000  148.912915   \n",
       "...           ...         ...         ...         ...       ...         ...   \n",
       "78842194   261815          UK  B0BCX524Y6  B0080ZSQKS  0.000000  364.690102   \n",
       "78842195   261815          UK  B0BCX6QB4L  B0080ZSQKS  4.750000  364.690102   \n",
       "78842196   261815          UK  B0BFPJYXQL  B0080ZSQKS  0.000000  364.690102   \n",
       "78842197   261815          UK  B0BH3X67S3  B0080ZSQKS  0.000000  364.690102   \n",
       "78842198   261815          UK  B0BH5MJGGB  B0080ZSQKS  0.000000  364.690102   \n",
       "\n",
       "          normalized_counts  \n",
       "0                  0.000000  \n",
       "1                  0.000610  \n",
       "2                  0.000000  \n",
       "3                  0.000000  \n",
       "4                  0.000000  \n",
       "...                     ...  \n",
       "78842194           0.000000  \n",
       "78842195           0.013025  \n",
       "78842196           0.000000  \n",
       "78842197           0.000000  \n",
       "78842198           0.000000  \n",
       "\n",
       "[78842199 rows x 7 columns]"
      ]
     },
     "execution_count": 38,
     "metadata": {},
     "output_type": "execute_result"
    }
   ],
   "source": [
    "merged_candidates_uni_weight"
   ]
  },
  {
   "cell_type": "code",
   "execution_count": 39,
   "metadata": {
    "execution": {
     "iopub.execute_input": "2023-06-03T06:29:30.859944Z",
     "iopub.status.busy": "2023-06-03T06:29:30.859546Z",
     "iopub.status.idle": "2023-06-03T06:29:35.947313Z",
     "shell.execute_reply": "2023-06-03T06:29:35.942777Z"
    }
   },
   "outputs": [
    {
     "data": {
      "text/plain": [
       "148.91291506481136"
      ]
     },
     "execution_count": 39,
     "metadata": {},
     "output_type": "execute_result"
    }
   ],
   "source": [
    "merged_candidates_uni_weight.query(\"sess_id==0\")['counts'].sum()"
   ]
  },
  {
   "cell_type": "code",
   "execution_count": 40,
   "metadata": {
    "execution": {
     "iopub.execute_input": "2023-06-03T06:29:35.953419Z",
     "iopub.status.busy": "2023-06-03T06:29:35.953040Z",
     "iopub.status.idle": "2023-06-03T06:29:37.069752Z",
     "shell.execute_reply": "2023-06-03T06:29:37.068914Z"
    }
   },
   "outputs": [
    {
     "data": {
      "text/plain": [
       "0.5435423526243408"
      ]
     },
     "execution_count": 40,
     "metadata": {},
     "output_type": "execute_result"
    }
   ],
   "source": [
    "merged_candidates_uni_weight.query(\"sess_id==0\")['normalized_counts'].max()"
   ]
  },
  {
   "cell_type": "code",
   "execution_count": 41,
   "metadata": {
    "execution": {
     "iopub.execute_input": "2023-06-03T06:29:37.073637Z",
     "iopub.status.busy": "2023-06-03T06:29:37.073204Z",
     "iopub.status.idle": "2023-06-03T06:29:37.089511Z",
     "shell.execute_reply": "2023-06-03T06:29:37.088727Z"
    }
   },
   "outputs": [
    {
     "data": {
      "text/html": [
       "<div>\n",
       "<style scoped>\n",
       "    .dataframe tbody tr th:only-of-type {\n",
       "        vertical-align: middle;\n",
       "    }\n",
       "\n",
       "    .dataframe tbody tr th {\n",
       "        vertical-align: top;\n",
       "    }\n",
       "\n",
       "    .dataframe thead th {\n",
       "        text-align: right;\n",
       "    }\n",
       "</style>\n",
       "<table border=\"1\" class=\"dataframe\">\n",
       "  <thead>\n",
       "    <tr style=\"text-align: right;\">\n",
       "      <th></th>\n",
       "      <th>product_</th>\n",
       "      <th>neighbor</th>\n",
       "      <th>counts</th>\n",
       "    </tr>\n",
       "  </thead>\n",
       "  <tbody>\n",
       "    <tr>\n",
       "      <th>0</th>\n",
       "      <td>3949568239</td>\n",
       "      <td>B09CLBRV16</td>\n",
       "      <td>1.000000</td>\n",
       "    </tr>\n",
       "    <tr>\n",
       "      <th>1</th>\n",
       "      <td>3949568239</td>\n",
       "      <td>B0B7237CF5</td>\n",
       "      <td>1.000000</td>\n",
       "    </tr>\n",
       "    <tr>\n",
       "      <th>2</th>\n",
       "      <td>3949568239</td>\n",
       "      <td>B09FJRKC4S</td>\n",
       "      <td>0.333333</td>\n",
       "    </tr>\n",
       "    <tr>\n",
       "      <th>3</th>\n",
       "      <td>3949568239</td>\n",
       "      <td>B0B723DDTK</td>\n",
       "      <td>0.250000</td>\n",
       "    </tr>\n",
       "    <tr>\n",
       "      <th>4</th>\n",
       "      <td>3949568239</td>\n",
       "      <td>B0B726DZT4</td>\n",
       "      <td>0.200000</td>\n",
       "    </tr>\n",
       "    <tr>\n",
       "      <th>...</th>\n",
       "      <td>...</td>\n",
       "      <td>...</td>\n",
       "      <td>...</td>\n",
       "    </tr>\n",
       "    <tr>\n",
       "      <th>29794358</th>\n",
       "      <td>B00KII42DK</td>\n",
       "      <td>B07L1VJLLC</td>\n",
       "      <td>1.000000</td>\n",
       "    </tr>\n",
       "    <tr>\n",
       "      <th>29794359</th>\n",
       "      <td>B08TMPJ5JT</td>\n",
       "      <td>B07MVBKVDB</td>\n",
       "      <td>1.000000</td>\n",
       "    </tr>\n",
       "    <tr>\n",
       "      <th>29794360</th>\n",
       "      <td>B08TMPJ5JT</td>\n",
       "      <td>B00BG4R7F0</td>\n",
       "      <td>0.500000</td>\n",
       "    </tr>\n",
       "    <tr>\n",
       "      <th>29794361</th>\n",
       "      <td>B08TMPJ5JT</td>\n",
       "      <td>B08TRBGSGP</td>\n",
       "      <td>0.333333</td>\n",
       "    </tr>\n",
       "    <tr>\n",
       "      <th>29794362</th>\n",
       "      <td>B077W967ZN</td>\n",
       "      <td>B077W967ZN</td>\n",
       "      <td>1.000000</td>\n",
       "    </tr>\n",
       "  </tbody>\n",
       "</table>\n",
       "<p>29794363 rows × 3 columns</p>\n",
       "</div>"
      ],
      "text/plain": [
       "            product_    neighbor    counts\n",
       "0         3949568239  B09CLBRV16  1.000000\n",
       "1         3949568239  B0B7237CF5  1.000000\n",
       "2         3949568239  B09FJRKC4S  0.333333\n",
       "3         3949568239  B0B723DDTK  0.250000\n",
       "4         3949568239  B0B726DZT4  0.200000\n",
       "...              ...         ...       ...\n",
       "29794358  B00KII42DK  B07L1VJLLC  1.000000\n",
       "29794359  B08TMPJ5JT  B07MVBKVDB  1.000000\n",
       "29794360  B08TMPJ5JT  B00BG4R7F0  0.500000\n",
       "29794361  B08TMPJ5JT  B08TRBGSGP  0.333333\n",
       "29794362  B077W967ZN  B077W967ZN  1.000000\n",
       "\n",
       "[29794363 rows x 3 columns]"
      ]
     },
     "execution_count": 41,
     "metadata": {},
     "output_type": "execute_result"
    }
   ],
   "source": [
    "co_graph_uni_weight_df"
   ]
  },
  {
   "cell_type": "code",
   "execution_count": 42,
   "metadata": {
    "execution": {
     "iopub.execute_input": "2023-06-03T06:29:37.093325Z",
     "iopub.status.busy": "2023-06-03T06:29:37.092653Z",
     "iopub.status.idle": "2023-06-03T06:29:57.295311Z",
     "shell.execute_reply": "2023-06-03T06:29:57.294121Z"
    }
   },
   "outputs": [
    {
     "data": {
      "text/html": [
       "<div>\n",
       "<style scoped>\n",
       "    .dataframe tbody tr th:only-of-type {\n",
       "        vertical-align: middle;\n",
       "    }\n",
       "\n",
       "    .dataframe tbody tr th {\n",
       "        vertical-align: top;\n",
       "    }\n",
       "\n",
       "    .dataframe thead th {\n",
       "        text-align: right;\n",
       "    }\n",
       "</style>\n",
       "<table border=\"1\" class=\"dataframe\">\n",
       "  <thead>\n",
       "    <tr style=\"text-align: right;\">\n",
       "      <th></th>\n",
       "      <th>product</th>\n",
       "      <th>sasrec_scores_2</th>\n",
       "      <th>co_graph_counts_1</th>\n",
       "      <th>normalized_co_graph_counts_1</th>\n",
       "    </tr>\n",
       "  </thead>\n",
       "  <tbody>\n",
       "    <tr>\n",
       "      <th>5965883</th>\n",
       "      <td>B09ZKF77CC</td>\n",
       "      <td>13.667938</td>\n",
       "      <td>0.250000</td>\n",
       "      <td>0.003841</td>\n",
       "    </tr>\n",
       "    <tr>\n",
       "      <th>5965840</th>\n",
       "      <td>B09G2YWKP3</td>\n",
       "      <td>13.521121</td>\n",
       "      <td>0.500000</td>\n",
       "      <td>0.007681</td>\n",
       "    </tr>\n",
       "    <tr>\n",
       "      <th>5965875</th>\n",
       "      <td>B09Z2XHMS3</td>\n",
       "      <td>13.468659</td>\n",
       "      <td>1.533333</td>\n",
       "      <td>0.023556</td>\n",
       "    </tr>\n",
       "    <tr>\n",
       "      <th>5965830</th>\n",
       "      <td>B09D415MK8</td>\n",
       "      <td>13.464596</td>\n",
       "      <td>0.000000</td>\n",
       "      <td>0.000000</td>\n",
       "    </tr>\n",
       "    <tr>\n",
       "      <th>5965831</th>\n",
       "      <td>B09D443ZZ7</td>\n",
       "      <td>13.088786</td>\n",
       "      <td>2.000000</td>\n",
       "      <td>0.030725</td>\n",
       "    </tr>\n",
       "    <tr>\n",
       "      <th>5965876</th>\n",
       "      <td>B09Z2XVBJQ</td>\n",
       "      <td>12.996532</td>\n",
       "      <td>0.750000</td>\n",
       "      <td>0.011522</td>\n",
       "    </tr>\n",
       "    <tr>\n",
       "      <th>5965880</th>\n",
       "      <td>B09ZK5K3JQ</td>\n",
       "      <td>12.818775</td>\n",
       "      <td>1.500000</td>\n",
       "      <td>0.023044</td>\n",
       "    </tr>\n",
       "    <tr>\n",
       "      <th>5965820</th>\n",
       "      <td>B09489RCTT</td>\n",
       "      <td>12.725793</td>\n",
       "      <td>0.000000</td>\n",
       "      <td>0.000000</td>\n",
       "    </tr>\n",
       "    <tr>\n",
       "      <th>5965747</th>\n",
       "      <td>B07PBN67YJ</td>\n",
       "      <td>12.459669</td>\n",
       "      <td>0.000000</td>\n",
       "      <td>0.000000</td>\n",
       "    </tr>\n",
       "    <tr>\n",
       "      <th>5965827</th>\n",
       "      <td>B099ZR7QL5</td>\n",
       "      <td>12.331591</td>\n",
       "      <td>1.236111</td>\n",
       "      <td>0.018990</td>\n",
       "    </tr>\n",
       "    <tr>\n",
       "      <th>5965662</th>\n",
       "      <td>B00DORAD6W</td>\n",
       "      <td>12.283764</td>\n",
       "      <td>1.333333</td>\n",
       "      <td>0.020483</td>\n",
       "    </tr>\n",
       "    <tr>\n",
       "      <th>5965716</th>\n",
       "      <td>B074KC4PD3</td>\n",
       "      <td>12.188356</td>\n",
       "      <td>0.000000</td>\n",
       "      <td>0.000000</td>\n",
       "    </tr>\n",
       "    <tr>\n",
       "      <th>5965878</th>\n",
       "      <td>B09Z2XY8ZG</td>\n",
       "      <td>12.138655</td>\n",
       "      <td>0.000000</td>\n",
       "      <td>0.000000</td>\n",
       "    </tr>\n",
       "    <tr>\n",
       "      <th>5965644</th>\n",
       "      <td>B0039ZMPTM</td>\n",
       "      <td>12.076642</td>\n",
       "      <td>0.833333</td>\n",
       "      <td>0.012802</td>\n",
       "    </tr>\n",
       "    <tr>\n",
       "      <th>5965839</th>\n",
       "      <td>B09G2XC238</td>\n",
       "      <td>12.065323</td>\n",
       "      <td>0.000000</td>\n",
       "      <td>0.000000</td>\n",
       "    </tr>\n",
       "    <tr>\n",
       "      <th>5965877</th>\n",
       "      <td>B09Z2XWX64</td>\n",
       "      <td>12.029195</td>\n",
       "      <td>1.000000</td>\n",
       "      <td>0.015363</td>\n",
       "    </tr>\n",
       "    <tr>\n",
       "      <th>5965744</th>\n",
       "      <td>B07P8G9LT6</td>\n",
       "      <td>11.960063</td>\n",
       "      <td>1.000000</td>\n",
       "      <td>0.015363</td>\n",
       "    </tr>\n",
       "    <tr>\n",
       "      <th>5965709</th>\n",
       "      <td>B06XRZRPCY</td>\n",
       "      <td>11.935661</td>\n",
       "      <td>0.090909</td>\n",
       "      <td>0.001397</td>\n",
       "    </tr>\n",
       "    <tr>\n",
       "      <th>5965692</th>\n",
       "      <td>B018M18FJQ</td>\n",
       "      <td>11.920627</td>\n",
       "      <td>0.500000</td>\n",
       "      <td>0.007681</td>\n",
       "    </tr>\n",
       "    <tr>\n",
       "      <th>5965816</th>\n",
       "      <td>B0919S887Q</td>\n",
       "      <td>11.886253</td>\n",
       "      <td>0.000000</td>\n",
       "      <td>0.000000</td>\n",
       "    </tr>\n",
       "    <tr>\n",
       "      <th>5965814</th>\n",
       "      <td>B08ZYVPDK7</td>\n",
       "      <td>11.874740</td>\n",
       "      <td>0.000000</td>\n",
       "      <td>0.000000</td>\n",
       "    </tr>\n",
       "    <tr>\n",
       "      <th>5965798</th>\n",
       "      <td>B08GMD6TMC</td>\n",
       "      <td>11.747354</td>\n",
       "      <td>1.833333</td>\n",
       "      <td>0.028165</td>\n",
       "    </tr>\n",
       "    <tr>\n",
       "      <th>5965832</th>\n",
       "      <td>B09D44CBV4</td>\n",
       "      <td>11.739874</td>\n",
       "      <td>0.333333</td>\n",
       "      <td>0.005121</td>\n",
       "    </tr>\n",
       "    <tr>\n",
       "      <th>5965652</th>\n",
       "      <td>B005XU00YI</td>\n",
       "      <td>11.688389</td>\n",
       "      <td>1.000000</td>\n",
       "      <td>0.015363</td>\n",
       "    </tr>\n",
       "    <tr>\n",
       "      <th>5965695</th>\n",
       "      <td>B018M38QGG</td>\n",
       "      <td>11.649590</td>\n",
       "      <td>1.000000</td>\n",
       "      <td>0.015363</td>\n",
       "    </tr>\n",
       "  </tbody>\n",
       "</table>\n",
       "</div>"
      ],
      "text/plain": [
       "            product  sasrec_scores_2  co_graph_counts_1  \\\n",
       "5965883  B09ZKF77CC        13.667938           0.250000   \n",
       "5965840  B09G2YWKP3        13.521121           0.500000   \n",
       "5965875  B09Z2XHMS3        13.468659           1.533333   \n",
       "5965830  B09D415MK8        13.464596           0.000000   \n",
       "5965831  B09D443ZZ7        13.088786           2.000000   \n",
       "5965876  B09Z2XVBJQ        12.996532           0.750000   \n",
       "5965880  B09ZK5K3JQ        12.818775           1.500000   \n",
       "5965820  B09489RCTT        12.725793           0.000000   \n",
       "5965747  B07PBN67YJ        12.459669           0.000000   \n",
       "5965827  B099ZR7QL5        12.331591           1.236111   \n",
       "5965662  B00DORAD6W        12.283764           1.333333   \n",
       "5965716  B074KC4PD3        12.188356           0.000000   \n",
       "5965878  B09Z2XY8ZG        12.138655           0.000000   \n",
       "5965644  B0039ZMPTM        12.076642           0.833333   \n",
       "5965839  B09G2XC238        12.065323           0.000000   \n",
       "5965877  B09Z2XWX64        12.029195           1.000000   \n",
       "5965744  B07P8G9LT6        11.960063           1.000000   \n",
       "5965709  B06XRZRPCY        11.935661           0.090909   \n",
       "5965692  B018M18FJQ        11.920627           0.500000   \n",
       "5965816  B0919S887Q        11.886253           0.000000   \n",
       "5965814  B08ZYVPDK7        11.874740           0.000000   \n",
       "5965798  B08GMD6TMC        11.747354           1.833333   \n",
       "5965832  B09D44CBV4        11.739874           0.333333   \n",
       "5965652  B005XU00YI        11.688389           1.000000   \n",
       "5965695  B018M38QGG        11.649590           1.000000   \n",
       "\n",
       "         normalized_co_graph_counts_1  \n",
       "5965883                      0.003841  \n",
       "5965840                      0.007681  \n",
       "5965875                      0.023556  \n",
       "5965830                      0.000000  \n",
       "5965831                      0.030725  \n",
       "5965876                      0.011522  \n",
       "5965880                      0.023044  \n",
       "5965820                      0.000000  \n",
       "5965747                      0.000000  \n",
       "5965827                      0.018990  \n",
       "5965662                      0.020483  \n",
       "5965716                      0.000000  \n",
       "5965878                      0.000000  \n",
       "5965644                      0.012802  \n",
       "5965839                      0.000000  \n",
       "5965877                      0.015363  \n",
       "5965744                      0.015363  \n",
       "5965709                      0.001397  \n",
       "5965692                      0.007681  \n",
       "5965816                      0.000000  \n",
       "5965814                      0.000000  \n",
       "5965798                      0.028165  \n",
       "5965832                      0.005121  \n",
       "5965652                      0.015363  \n",
       "5965695                      0.015363  "
      ]
     },
     "execution_count": 42,
     "metadata": {},
     "output_type": "execute_result"
    }
   ],
   "source": [
    "merged_candidates_feature.query('sess_id==20000').sort_values(by=['sasrec_scores_2'], ascending=False)[['product', 'sasrec_scores_2', 'co_graph_counts_1', 'normalized_co_graph_counts_1']][:25]"
   ]
  },
  {
   "attachments": {},
   "cell_type": "markdown",
   "metadata": {},
   "source": [
    "## uni and dis=1"
   ]
  },
  {
   "cell_type": "code",
   "execution_count": 43,
   "metadata": {
    "execution": {
     "iopub.execute_input": "2023-06-03T06:29:57.299133Z",
     "iopub.status.busy": "2023-06-03T06:29:57.298739Z",
     "iopub.status.idle": "2023-06-03T06:30:48.682615Z",
     "shell.execute_reply": "2023-06-03T06:30:48.681932Z"
    }
   },
   "outputs": [
    {
     "name": "stderr",
     "output_type": "stream",
     "text": [
      "100%|████████████████████████████████████████████████████████████████████████████████████████████████████████████████████████████████| 3966659/3966659 [00:51<00:00, 77206.81it/s]\n"
     ]
    }
   ],
   "source": [
    "co_occurence_dict_uni_dis1 = get_co_occurence_dict(train_sess_item, bidirection=False, weighted=False, max_dis=1)"
   ]
  },
  {
   "cell_type": "code",
   "execution_count": 44,
   "metadata": {
    "execution": {
     "iopub.execute_input": "2023-06-03T06:30:48.689526Z",
     "iopub.status.busy": "2023-06-03T06:30:48.689198Z",
     "iopub.status.idle": "2023-06-03T06:31:20.522623Z",
     "shell.execute_reply": "2023-06-03T06:31:20.521827Z"
    }
   },
   "outputs": [
    {
     "name": "stderr",
     "output_type": "stream",
     "text": [
      "100%|██████████████████████████████████████████████████████████████████████████████████████████████████████████████████████████████████| 261816/261816 [00:12<00:00, 21741.07it/s]\n",
      "/tmp/ipykernel_192353/152729772.py:5: SettingWithCopyWarning: \n",
      "A value is trying to be set on a copy of a slice from a DataFrame.\n",
      "Try using .loc[row_indexer,col_indexer] = value instead\n",
      "\n",
      "See the caveats in the documentation: https://pandas.pydata.org/pandas-docs/stable/user_guide/indexing.html#returning-a-view-versus-a-copy\n",
      "  merged_candidates['last_item'] = valid_session_last_items[merged_candidates['sess_id']]\n"
     ]
    }
   ],
   "source": [
    "merged_candidates_feature = read_merged_candidates_feature()\n",
    "merged_candidates = merged_candidates_feature[['sess_id', 'sess_locale', 'product']]\n",
    "valid_session_last_items = get_session_last_item(valid_sess_data)\n",
    "valid_session_last_items = np.array(valid_session_last_items)\n",
    "merged_candidates['last_item'] = valid_session_last_items[merged_candidates['sess_id']]"
   ]
  },
  {
   "cell_type": "code",
   "execution_count": 45,
   "metadata": {
    "execution": {
     "iopub.execute_input": "2023-06-03T06:31:20.528834Z",
     "iopub.status.busy": "2023-06-03T06:31:20.528363Z",
     "iopub.status.idle": "2023-06-03T06:31:20.545352Z",
     "shell.execute_reply": "2023-06-03T06:31:20.544285Z"
    }
   },
   "outputs": [
    {
     "data": {
      "text/html": [
       "<div>\n",
       "<style scoped>\n",
       "    .dataframe tbody tr th:only-of-type {\n",
       "        vertical-align: middle;\n",
       "    }\n",
       "\n",
       "    .dataframe tbody tr th {\n",
       "        vertical-align: top;\n",
       "    }\n",
       "\n",
       "    .dataframe thead th {\n",
       "        text-align: right;\n",
       "    }\n",
       "</style>\n",
       "<table border=\"1\" class=\"dataframe\">\n",
       "  <thead>\n",
       "    <tr style=\"text-align: right;\">\n",
       "      <th></th>\n",
       "      <th>sess_id</th>\n",
       "      <th>sess_locale</th>\n",
       "      <th>product</th>\n",
       "      <th>last_item</th>\n",
       "    </tr>\n",
       "  </thead>\n",
       "  <tbody>\n",
       "    <tr>\n",
       "      <th>0</th>\n",
       "      <td>0</td>\n",
       "      <td>DE</td>\n",
       "      <td>355165591X</td>\n",
       "      <td>B09Y94D1D3</td>\n",
       "    </tr>\n",
       "    <tr>\n",
       "      <th>1</th>\n",
       "      <td>0</td>\n",
       "      <td>DE</td>\n",
       "      <td>3833237058</td>\n",
       "      <td>B09Y94D1D3</td>\n",
       "    </tr>\n",
       "    <tr>\n",
       "      <th>2</th>\n",
       "      <td>0</td>\n",
       "      <td>DE</td>\n",
       "      <td>B00CIXSI6U</td>\n",
       "      <td>B09Y94D1D3</td>\n",
       "    </tr>\n",
       "    <tr>\n",
       "      <th>3</th>\n",
       "      <td>0</td>\n",
       "      <td>DE</td>\n",
       "      <td>B00NVDOWUW</td>\n",
       "      <td>B09Y94D1D3</td>\n",
       "    </tr>\n",
       "    <tr>\n",
       "      <th>4</th>\n",
       "      <td>0</td>\n",
       "      <td>DE</td>\n",
       "      <td>B00NVDP3ZU</td>\n",
       "      <td>B09Y94D1D3</td>\n",
       "    </tr>\n",
       "    <tr>\n",
       "      <th>...</th>\n",
       "      <td>...</td>\n",
       "      <td>...</td>\n",
       "      <td>...</td>\n",
       "      <td>...</td>\n",
       "    </tr>\n",
       "    <tr>\n",
       "      <th>78842194</th>\n",
       "      <td>261815</td>\n",
       "      <td>UK</td>\n",
       "      <td>B0BCX524Y6</td>\n",
       "      <td>B0080ZSQKS</td>\n",
       "    </tr>\n",
       "    <tr>\n",
       "      <th>78842195</th>\n",
       "      <td>261815</td>\n",
       "      <td>UK</td>\n",
       "      <td>B0BCX6QB4L</td>\n",
       "      <td>B0080ZSQKS</td>\n",
       "    </tr>\n",
       "    <tr>\n",
       "      <th>78842196</th>\n",
       "      <td>261815</td>\n",
       "      <td>UK</td>\n",
       "      <td>B0BFPJYXQL</td>\n",
       "      <td>B0080ZSQKS</td>\n",
       "    </tr>\n",
       "    <tr>\n",
       "      <th>78842197</th>\n",
       "      <td>261815</td>\n",
       "      <td>UK</td>\n",
       "      <td>B0BH3X67S3</td>\n",
       "      <td>B0080ZSQKS</td>\n",
       "    </tr>\n",
       "    <tr>\n",
       "      <th>78842198</th>\n",
       "      <td>261815</td>\n",
       "      <td>UK</td>\n",
       "      <td>B0BH5MJGGB</td>\n",
       "      <td>B0080ZSQKS</td>\n",
       "    </tr>\n",
       "  </tbody>\n",
       "</table>\n",
       "<p>78842199 rows × 4 columns</p>\n",
       "</div>"
      ],
      "text/plain": [
       "          sess_id sess_locale     product   last_item\n",
       "0               0          DE  355165591X  B09Y94D1D3\n",
       "1               0          DE  3833237058  B09Y94D1D3\n",
       "2               0          DE  B00CIXSI6U  B09Y94D1D3\n",
       "3               0          DE  B00NVDOWUW  B09Y94D1D3\n",
       "4               0          DE  B00NVDP3ZU  B09Y94D1D3\n",
       "...           ...         ...         ...         ...\n",
       "78842194   261815          UK  B0BCX524Y6  B0080ZSQKS\n",
       "78842195   261815          UK  B0BCX6QB4L  B0080ZSQKS\n",
       "78842196   261815          UK  B0BFPJYXQL  B0080ZSQKS\n",
       "78842197   261815          UK  B0BH3X67S3  B0080ZSQKS\n",
       "78842198   261815          UK  B0BH5MJGGB  B0080ZSQKS\n",
       "\n",
       "[78842199 rows x 4 columns]"
      ]
     },
     "execution_count": 45,
     "metadata": {},
     "output_type": "execute_result"
    }
   ],
   "source": [
    "merged_candidates"
   ]
  },
  {
   "cell_type": "code",
   "execution_count": 46,
   "metadata": {
    "execution": {
     "iopub.execute_input": "2023-06-03T06:31:20.555562Z",
     "iopub.status.busy": "2023-06-03T06:31:20.555180Z",
     "iopub.status.idle": "2023-06-03T06:31:33.190933Z",
     "shell.execute_reply": "2023-06-03T06:31:33.190056Z"
    }
   },
   "outputs": [
    {
     "name": "stderr",
     "output_type": "stream",
     "text": [
      "100%|███████████████████████████████████████████████████████████████████████████████████████████████████████████████████████████████| 1338342/1338342 [00:06<00:00, 193688.69it/s]\n"
     ]
    }
   ],
   "source": [
    "co_occurence_dict_uni_dis1_df = flatten_co_graph_dict(co_occurence_dict_uni_dis1)"
   ]
  },
  {
   "cell_type": "code",
   "execution_count": 47,
   "metadata": {
    "execution": {
     "iopub.execute_input": "2023-06-03T06:31:33.196270Z",
     "iopub.status.busy": "2023-06-03T06:31:33.195803Z",
     "iopub.status.idle": "2023-06-03T06:31:33.200429Z",
     "shell.execute_reply": "2023-06-03T06:31:33.199412Z"
    }
   },
   "outputs": [],
   "source": [
    "# merged_candidates_g = cudf.from_pandas(merged_candidates)\n",
    "# co_occurence_dict_uni_dis1_df_g = cudf.from_pandas(co_occurence_dict_uni_dis1_df)"
   ]
  },
  {
   "cell_type": "code",
   "execution_count": 48,
   "metadata": {
    "execution": {
     "iopub.execute_input": "2023-06-03T06:31:33.205569Z",
     "iopub.status.busy": "2023-06-03T06:31:33.204973Z",
     "iopub.status.idle": "2023-06-03T06:31:33.208959Z",
     "shell.execute_reply": "2023-06-03T06:31:33.208386Z"
    }
   },
   "outputs": [],
   "source": [
    "# merged_candidates_uni_dis1_g = merged_candidates_g.merge(co_occurence_dict_uni_dis1_df_g, how='left', left_on=['last_item', 'product'], right_on=['product_', 'neighbor'])\n",
    "# merged_candidates_uni_dis1_g.drop(columns=['product_', 'neighbor'], inplace=True)\n",
    "# merged_candidates_uni_dis1_g = merged_candidates_uni_dis1_g.sort_values(by=['sess_id', 'product'])\n",
    "# merged_candidates_uni_dis1_g.reset_index(drop=True, inplace=True)\n",
    "# merged_candidates_uni_dis1_g['counts'] = merged_candidates_uni_dis1_g['counts'].fillna(0)\n",
    "# assert len(merged_candidates_uni_dis1_g['counts']) == len(merged_candidates)\n",
    "# merged_candidates_uni_dis1 = merged_candidates_uni_dis1_g.to_pandas()"
   ]
  },
  {
   "cell_type": "code",
   "execution_count": 49,
   "metadata": {
    "execution": {
     "iopub.execute_input": "2023-06-03T06:31:33.213589Z",
     "iopub.status.busy": "2023-06-03T06:31:33.212825Z",
     "iopub.status.idle": "2023-06-03T06:35:04.413737Z",
     "shell.execute_reply": "2023-06-03T06:35:04.412355Z"
    }
   },
   "outputs": [],
   "source": [
    "merged_candidates_uni_dis1 = merged_candidates.merge(co_occurence_dict_uni_dis1_df, how='left', left_on=['last_item', 'product'], right_on=['product_', 'neighbor'])\n",
    "merged_candidates_uni_dis1.drop(columns=['product_', 'neighbor'], inplace=True)\n",
    "merged_candidates_uni_dis1 = merged_candidates_uni_dis1.sort_values(by=['sess_id', 'product'])\n",
    "merged_candidates_uni_dis1.reset_index(drop=True, inplace=True)\n",
    "merged_candidates_uni_dis1['counts'] = merged_candidates_uni_dis1['counts'].fillna(0)\n",
    "assert len(merged_candidates_uni_dis1['counts']) == len(merged_candidates)\n",
    "# merged_candidates_uni_dis1 = merged_candidates_uni_dis1_g.to_pandas()"
   ]
  },
  {
   "cell_type": "code",
   "execution_count": 50,
   "metadata": {
    "execution": {
     "iopub.execute_input": "2023-06-03T06:35:04.419661Z",
     "iopub.status.busy": "2023-06-03T06:35:04.419000Z",
     "iopub.status.idle": "2023-06-03T06:35:04.424944Z",
     "shell.execute_reply": "2023-06-03T06:35:04.423910Z"
    }
   },
   "outputs": [],
   "source": [
    "# del merged_candidates_g\n",
    "# del co_occurence_dict_uni_dis1_df_g\n",
    "# del merged_candidates_uni_dis1_g"
   ]
  },
  {
   "cell_type": "code",
   "execution_count": 51,
   "metadata": {
    "execution": {
     "iopub.execute_input": "2023-06-03T06:35:04.428592Z",
     "iopub.status.busy": "2023-06-03T06:35:04.428175Z",
     "iopub.status.idle": "2023-06-03T06:35:25.482019Z",
     "shell.execute_reply": "2023-06-03T06:35:25.479843Z"
    }
   },
   "outputs": [],
   "source": [
    "normalize_co_graph_counts(merged_candidates_uni_dis1)"
   ]
  },
  {
   "cell_type": "code",
   "execution_count": 52,
   "metadata": {
    "execution": {
     "iopub.execute_input": "2023-06-03T06:35:25.488977Z",
     "iopub.status.busy": "2023-06-03T06:35:25.488426Z",
     "iopub.status.idle": "2023-06-03T06:35:53.435860Z",
     "shell.execute_reply": "2023-06-03T06:35:53.434435Z"
    }
   },
   "outputs": [],
   "source": [
    "merged_candidates_feature['co_graph_counts_2'] = merged_candidates_uni_dis1['counts']\n",
    "merged_candidates_feature['normalized_co_graph_counts_2'] = merged_candidates_uni_dis1['normalized_counts']"
   ]
  },
  {
   "cell_type": "code",
   "execution_count": 53,
   "metadata": {
    "execution": {
     "iopub.execute_input": "2023-06-03T06:35:53.442273Z",
     "iopub.status.busy": "2023-06-03T06:35:53.441737Z",
     "iopub.status.idle": "2023-06-03T06:39:30.717397Z",
     "shell.execute_reply": "2023-06-03T06:39:30.716387Z"
    }
   },
   "outputs": [],
   "source": [
    "cast_dtype(merged_candidates_feature)\n",
    "merged_candidates_feature.to_parquet(merged_candidates_feature_path, engine='pyarrow')"
   ]
  },
  {
   "cell_type": "code",
   "execution_count": 54,
   "metadata": {
    "execution": {
     "iopub.execute_input": "2023-06-03T06:39:30.722663Z",
     "iopub.status.busy": "2023-06-03T06:39:30.722232Z",
     "iopub.status.idle": "2023-06-03T06:39:36.343524Z",
     "shell.execute_reply": "2023-06-03T06:39:36.342714Z"
    }
   },
   "outputs": [
    {
     "data": {
      "text/html": [
       "<div>\n",
       "<style scoped>\n",
       "    .dataframe tbody tr th:only-of-type {\n",
       "        vertical-align: middle;\n",
       "    }\n",
       "\n",
       "    .dataframe tbody tr th {\n",
       "        vertical-align: top;\n",
       "    }\n",
       "\n",
       "    .dataframe thead th {\n",
       "        text-align: right;\n",
       "    }\n",
       "</style>\n",
       "<table border=\"1\" class=\"dataframe\">\n",
       "  <thead>\n",
       "    <tr style=\"text-align: right;\">\n",
       "      <th></th>\n",
       "      <th>sess_id</th>\n",
       "      <th>sess_locale</th>\n",
       "      <th>product</th>\n",
       "      <th>last_item</th>\n",
       "      <th>counts</th>\n",
       "      <th>counts_sum</th>\n",
       "      <th>normalized_counts</th>\n",
       "    </tr>\n",
       "  </thead>\n",
       "  <tbody>\n",
       "    <tr>\n",
       "      <th>29127</th>\n",
       "      <td>99</td>\n",
       "      <td>DE</td>\n",
       "      <td>1782326952</td>\n",
       "      <td>B07RVHG3WD</td>\n",
       "      <td>0.0</td>\n",
       "      <td>40.0</td>\n",
       "      <td>0.0</td>\n",
       "    </tr>\n",
       "    <tr>\n",
       "      <th>29128</th>\n",
       "      <td>99</td>\n",
       "      <td>DE</td>\n",
       "      <td>1789416205</td>\n",
       "      <td>B07RVHG3WD</td>\n",
       "      <td>0.0</td>\n",
       "      <td>40.0</td>\n",
       "      <td>0.0</td>\n",
       "    </tr>\n",
       "    <tr>\n",
       "      <th>29129</th>\n",
       "      <td>99</td>\n",
       "      <td>DE</td>\n",
       "      <td>3401416049</td>\n",
       "      <td>B07RVHG3WD</td>\n",
       "      <td>0.0</td>\n",
       "      <td>40.0</td>\n",
       "      <td>0.0</td>\n",
       "    </tr>\n",
       "    <tr>\n",
       "      <th>29130</th>\n",
       "      <td>99</td>\n",
       "      <td>DE</td>\n",
       "      <td>3438040700</td>\n",
       "      <td>B07RVHG3WD</td>\n",
       "      <td>0.0</td>\n",
       "      <td>40.0</td>\n",
       "      <td>0.0</td>\n",
       "    </tr>\n",
       "    <tr>\n",
       "      <th>29131</th>\n",
       "      <td>99</td>\n",
       "      <td>DE</td>\n",
       "      <td>3466310954</td>\n",
       "      <td>B07RVHG3WD</td>\n",
       "      <td>0.0</td>\n",
       "      <td>40.0</td>\n",
       "      <td>0.0</td>\n",
       "    </tr>\n",
       "    <tr>\n",
       "      <th>...</th>\n",
       "      <td>...</td>\n",
       "      <td>...</td>\n",
       "      <td>...</td>\n",
       "      <td>...</td>\n",
       "      <td>...</td>\n",
       "      <td>...</td>\n",
       "      <td>...</td>\n",
       "    </tr>\n",
       "    <tr>\n",
       "      <th>29532</th>\n",
       "      <td>99</td>\n",
       "      <td>DE</td>\n",
       "      <td>B0BD4T1SGD</td>\n",
       "      <td>B07RVHG3WD</td>\n",
       "      <td>0.0</td>\n",
       "      <td>40.0</td>\n",
       "      <td>0.0</td>\n",
       "    </tr>\n",
       "    <tr>\n",
       "      <th>29533</th>\n",
       "      <td>99</td>\n",
       "      <td>DE</td>\n",
       "      <td>B0BFJ4S4LB</td>\n",
       "      <td>B07RVHG3WD</td>\n",
       "      <td>0.0</td>\n",
       "      <td>40.0</td>\n",
       "      <td>0.0</td>\n",
       "    </tr>\n",
       "    <tr>\n",
       "      <th>29534</th>\n",
       "      <td>99</td>\n",
       "      <td>DE</td>\n",
       "      <td>B0BJC4SQ9M</td>\n",
       "      <td>B07RVHG3WD</td>\n",
       "      <td>0.0</td>\n",
       "      <td>40.0</td>\n",
       "      <td>0.0</td>\n",
       "    </tr>\n",
       "    <tr>\n",
       "      <th>29535</th>\n",
       "      <td>99</td>\n",
       "      <td>DE</td>\n",
       "      <td>B0BJH5CSCJ</td>\n",
       "      <td>B07RVHG3WD</td>\n",
       "      <td>0.0</td>\n",
       "      <td>40.0</td>\n",
       "      <td>0.0</td>\n",
       "    </tr>\n",
       "    <tr>\n",
       "      <th>29536</th>\n",
       "      <td>99</td>\n",
       "      <td>DE</td>\n",
       "      <td>B0BL7CQJRJ</td>\n",
       "      <td>B07RVHG3WD</td>\n",
       "      <td>0.0</td>\n",
       "      <td>40.0</td>\n",
       "      <td>0.0</td>\n",
       "    </tr>\n",
       "  </tbody>\n",
       "</table>\n",
       "<p>410 rows × 7 columns</p>\n",
       "</div>"
      ],
      "text/plain": [
       "       sess_id sess_locale     product   last_item  counts  counts_sum  \\\n",
       "29127       99          DE  1782326952  B07RVHG3WD     0.0        40.0   \n",
       "29128       99          DE  1789416205  B07RVHG3WD     0.0        40.0   \n",
       "29129       99          DE  3401416049  B07RVHG3WD     0.0        40.0   \n",
       "29130       99          DE  3438040700  B07RVHG3WD     0.0        40.0   \n",
       "29131       99          DE  3466310954  B07RVHG3WD     0.0        40.0   \n",
       "...        ...         ...         ...         ...     ...         ...   \n",
       "29532       99          DE  B0BD4T1SGD  B07RVHG3WD     0.0        40.0   \n",
       "29533       99          DE  B0BFJ4S4LB  B07RVHG3WD     0.0        40.0   \n",
       "29534       99          DE  B0BJC4SQ9M  B07RVHG3WD     0.0        40.0   \n",
       "29535       99          DE  B0BJH5CSCJ  B07RVHG3WD     0.0        40.0   \n",
       "29536       99          DE  B0BL7CQJRJ  B07RVHG3WD     0.0        40.0   \n",
       "\n",
       "       normalized_counts  \n",
       "29127                0.0  \n",
       "29128                0.0  \n",
       "29129                0.0  \n",
       "29130                0.0  \n",
       "29131                0.0  \n",
       "...                  ...  \n",
       "29532                0.0  \n",
       "29533                0.0  \n",
       "29534                0.0  \n",
       "29535                0.0  \n",
       "29536                0.0  \n",
       "\n",
       "[410 rows x 7 columns]"
      ]
     },
     "execution_count": 54,
     "metadata": {},
     "output_type": "execute_result"
    }
   ],
   "source": [
    "merged_candidates_uni_dis1.query(\"sess_id==99\")"
   ]
  },
  {
   "cell_type": "code",
   "execution_count": 55,
   "metadata": {
    "execution": {
     "iopub.execute_input": "2023-06-03T06:39:36.351038Z",
     "iopub.status.busy": "2023-06-03T06:39:36.350685Z",
     "iopub.status.idle": "2023-06-03T06:39:37.511101Z",
     "shell.execute_reply": "2023-06-03T06:39:37.510239Z"
    }
   },
   "outputs": [
    {
     "data": {
      "text/plain": [
       "40.0"
      ]
     },
     "execution_count": 55,
     "metadata": {},
     "output_type": "execute_result"
    }
   ],
   "source": [
    "merged_candidates_uni_dis1.query(\"sess_id==99\")['counts'].sum()"
   ]
  },
  {
   "cell_type": "code",
   "execution_count": 56,
   "metadata": {
    "execution": {
     "iopub.execute_input": "2023-06-03T06:39:37.515463Z",
     "iopub.status.busy": "2023-06-03T06:39:37.514909Z",
     "iopub.status.idle": "2023-06-03T06:39:39.841969Z",
     "shell.execute_reply": "2023-06-03T06:39:39.841041Z"
    }
   },
   "outputs": [
    {
     "data": {
      "text/plain": [
       "(3.0, 0.075)"
      ]
     },
     "execution_count": 56,
     "metadata": {},
     "output_type": "execute_result"
    }
   ],
   "source": [
    "merged_candidates_uni_dis1.query(\"sess_id==99\")['counts'].max(), merged_candidates_uni_dis1.query(\"sess_id==99\")['normalized_counts'].max()"
   ]
  },
  {
   "cell_type": "code",
   "execution_count": 57,
   "metadata": {
    "execution": {
     "iopub.execute_input": "2023-06-03T06:39:39.846760Z",
     "iopub.status.busy": "2023-06-03T06:39:39.846307Z",
     "iopub.status.idle": "2023-06-03T06:39:41.058361Z",
     "shell.execute_reply": "2023-06-03T06:39:41.057517Z"
    }
   },
   "outputs": [
    {
     "data": {
      "text/plain": [
       "21.0"
      ]
     },
     "execution_count": 57,
     "metadata": {},
     "output_type": "execute_result"
    }
   ],
   "source": [
    "merged_candidates_uni_dis1.query('sess_id==200')['counts'].sum()"
   ]
  },
  {
   "cell_type": "code",
   "execution_count": 58,
   "metadata": {
    "execution": {
     "iopub.execute_input": "2023-06-03T06:39:41.062283Z",
     "iopub.status.busy": "2023-06-03T06:39:41.061868Z",
     "iopub.status.idle": "2023-06-03T06:39:43.424593Z",
     "shell.execute_reply": "2023-06-03T06:39:43.423850Z"
    }
   },
   "outputs": [
    {
     "data": {
      "text/plain": [
       "(9.0, 0.42857142857142855)"
      ]
     },
     "execution_count": 58,
     "metadata": {},
     "output_type": "execute_result"
    }
   ],
   "source": [
    "merged_candidates_uni_dis1.query('sess_id==200')['counts'].max(), merged_candidates_uni_dis1.query('sess_id==200')['normalized_counts'].max()"
   ]
  },
  {
   "cell_type": "code",
   "execution_count": 59,
   "metadata": {
    "execution": {
     "iopub.execute_input": "2023-06-03T06:39:43.429208Z",
     "iopub.status.busy": "2023-06-03T06:39:43.428611Z",
     "iopub.status.idle": "2023-06-03T06:40:27.708697Z",
     "shell.execute_reply": "2023-06-03T06:40:27.707985Z"
    }
   },
   "outputs": [
    {
     "data": {
      "text/html": [
       "<div>\n",
       "<style scoped>\n",
       "    .dataframe tbody tr th:only-of-type {\n",
       "        vertical-align: middle;\n",
       "    }\n",
       "\n",
       "    .dataframe tbody tr th {\n",
       "        vertical-align: top;\n",
       "    }\n",
       "\n",
       "    .dataframe thead th {\n",
       "        text-align: right;\n",
       "    }\n",
       "</style>\n",
       "<table border=\"1\" class=\"dataframe\">\n",
       "  <thead>\n",
       "    <tr style=\"text-align: right;\">\n",
       "      <th></th>\n",
       "      <th>sess_id</th>\n",
       "      <th>sess_locale</th>\n",
       "      <th>product</th>\n",
       "      <th>target</th>\n",
       "      <th>sess_avg_price</th>\n",
       "      <th>product_price</th>\n",
       "      <th>sasrec_scores_3</th>\n",
       "      <th>normalized_sasrec_scores_3</th>\n",
       "      <th>sasrec_scores_2</th>\n",
       "      <th>normalized_sasrec_scores_2</th>\n",
       "      <th>...</th>\n",
       "      <th>co_graph_counts_1</th>\n",
       "      <th>normalized_co_graph_counts_1</th>\n",
       "      <th>co_graph_counts_2</th>\n",
       "      <th>normalized_co_graph_counts_2</th>\n",
       "      <th>cos_text_bert_scores</th>\n",
       "      <th>text_bert_scores</th>\n",
       "      <th>normalized_text_bert_scores</th>\n",
       "      <th>roberta_scores</th>\n",
       "      <th>normalized_roberta_scores</th>\n",
       "      <th>product_freq</th>\n",
       "    </tr>\n",
       "  </thead>\n",
       "  <tbody>\n",
       "    <tr>\n",
       "      <th>0</th>\n",
       "      <td>0</td>\n",
       "      <td>DE</td>\n",
       "      <td>355165591X</td>\n",
       "      <td>0.0</td>\n",
       "      <td>43.256542</td>\n",
       "      <td>8.990000</td>\n",
       "      <td>2.230508</td>\n",
       "      <td>7.658405e-09</td>\n",
       "      <td>0.512931</td>\n",
       "      <td>1.377575e-09</td>\n",
       "      <td>...</td>\n",
       "      <td>0.000000</td>\n",
       "      <td>0.000000</td>\n",
       "      <td>0.0</td>\n",
       "      <td>0.000000</td>\n",
       "      <td>0.903757</td>\n",
       "      <td>378.286041</td>\n",
       "      <td>1.296655e-08</td>\n",
       "      <td>276.525787</td>\n",
       "      <td>7.975509e-07</td>\n",
       "      <td>48.0</td>\n",
       "    </tr>\n",
       "    <tr>\n",
       "      <th>1</th>\n",
       "      <td>0</td>\n",
       "      <td>DE</td>\n",
       "      <td>3833237058</td>\n",
       "      <td>0.0</td>\n",
       "      <td>43.256542</td>\n",
       "      <td>22.000000</td>\n",
       "      <td>9.605231</td>\n",
       "      <td>1.221631e-05</td>\n",
       "      <td>9.325538</td>\n",
       "      <td>9.255110e-06</td>\n",
       "      <td>...</td>\n",
       "      <td>0.090909</td>\n",
       "      <td>0.000610</td>\n",
       "      <td>0.0</td>\n",
       "      <td>0.000000</td>\n",
       "      <td>0.921604</td>\n",
       "      <td>387.624756</td>\n",
       "      <td>1.474268e-04</td>\n",
       "      <td>284.460052</td>\n",
       "      <td>2.226209e-03</td>\n",
       "      <td>80.0</td>\n",
       "    </tr>\n",
       "    <tr>\n",
       "      <th>2</th>\n",
       "      <td>0</td>\n",
       "      <td>DE</td>\n",
       "      <td>B00CIXSI6U</td>\n",
       "      <td>0.0</td>\n",
       "      <td>43.256542</td>\n",
       "      <td>6.470000</td>\n",
       "      <td>0.714114</td>\n",
       "      <td>1.681035e-09</td>\n",
       "      <td>-0.115904</td>\n",
       "      <td>7.345399e-10</td>\n",
       "      <td>...</td>\n",
       "      <td>0.000000</td>\n",
       "      <td>0.000000</td>\n",
       "      <td>0.0</td>\n",
       "      <td>0.000000</td>\n",
       "      <td>0.901061</td>\n",
       "      <td>374.802551</td>\n",
       "      <td>3.980740e-10</td>\n",
       "      <td>278.039612</td>\n",
       "      <td>3.624132e-06</td>\n",
       "      <td>7.0</td>\n",
       "    </tr>\n",
       "    <tr>\n",
       "      <th>3</th>\n",
       "      <td>0</td>\n",
       "      <td>DE</td>\n",
       "      <td>B00NVDOWUW</td>\n",
       "      <td>0.0</td>\n",
       "      <td>43.256542</td>\n",
       "      <td>11.990000</td>\n",
       "      <td>8.750996</td>\n",
       "      <td>5.199363e-06</td>\n",
       "      <td>8.507557</td>\n",
       "      <td>4.084482e-06</td>\n",
       "      <td>...</td>\n",
       "      <td>0.000000</td>\n",
       "      <td>0.000000</td>\n",
       "      <td>0.0</td>\n",
       "      <td>0.000000</td>\n",
       "      <td>0.927298</td>\n",
       "      <td>385.701782</td>\n",
       "      <td>2.154962e-05</td>\n",
       "      <td>285.239197</td>\n",
       "      <td>4.852260e-03</td>\n",
       "      <td>155.0</td>\n",
       "    </tr>\n",
       "    <tr>\n",
       "      <th>4</th>\n",
       "      <td>0</td>\n",
       "      <td>DE</td>\n",
       "      <td>B00NVDP3ZU</td>\n",
       "      <td>0.0</td>\n",
       "      <td>43.256542</td>\n",
       "      <td>22.990000</td>\n",
       "      <td>8.056712</td>\n",
       "      <td>2.596729e-06</td>\n",
       "      <td>5.898870</td>\n",
       "      <td>3.007453e-07</td>\n",
       "      <td>...</td>\n",
       "      <td>0.000000</td>\n",
       "      <td>0.000000</td>\n",
       "      <td>0.0</td>\n",
       "      <td>0.000000</td>\n",
       "      <td>0.930655</td>\n",
       "      <td>385.398499</td>\n",
       "      <td>1.591202e-05</td>\n",
       "      <td>284.763611</td>\n",
       "      <td>3.015780e-03</td>\n",
       "      <td>462.0</td>\n",
       "    </tr>\n",
       "    <tr>\n",
       "      <th>...</th>\n",
       "      <td>...</td>\n",
       "      <td>...</td>\n",
       "      <td>...</td>\n",
       "      <td>...</td>\n",
       "      <td>...</td>\n",
       "      <td>...</td>\n",
       "      <td>...</td>\n",
       "      <td>...</td>\n",
       "      <td>...</td>\n",
       "      <td>...</td>\n",
       "      <td>...</td>\n",
       "      <td>...</td>\n",
       "      <td>...</td>\n",
       "      <td>...</td>\n",
       "      <td>...</td>\n",
       "      <td>...</td>\n",
       "      <td>...</td>\n",
       "      <td>...</td>\n",
       "      <td>...</td>\n",
       "      <td>...</td>\n",
       "      <td>...</td>\n",
       "    </tr>\n",
       "    <tr>\n",
       "      <th>78842194</th>\n",
       "      <td>261815</td>\n",
       "      <td>UK</td>\n",
       "      <td>B0BCX524Y6</td>\n",
       "      <td>0.0</td>\n",
       "      <td>9.383333</td>\n",
       "      <td>16.990000</td>\n",
       "      <td>6.813615</td>\n",
       "      <td>1.076201e-03</td>\n",
       "      <td>7.203015</td>\n",
       "      <td>4.597607e-04</td>\n",
       "      <td>...</td>\n",
       "      <td>0.000000</td>\n",
       "      <td>0.000000</td>\n",
       "      <td>0.0</td>\n",
       "      <td>0.000000</td>\n",
       "      <td>0.972680</td>\n",
       "      <td>438.956238</td>\n",
       "      <td>1.636532e-04</td>\n",
       "      <td>281.902344</td>\n",
       "      <td>1.476179e-04</td>\n",
       "      <td>7.0</td>\n",
       "    </tr>\n",
       "    <tr>\n",
       "      <th>78842195</th>\n",
       "      <td>261815</td>\n",
       "      <td>UK</td>\n",
       "      <td>B0BCX6QB4L</td>\n",
       "      <td>0.0</td>\n",
       "      <td>9.383333</td>\n",
       "      <td>10.990000</td>\n",
       "      <td>9.030836</td>\n",
       "      <td>9.881445e-03</td>\n",
       "      <td>10.123234</td>\n",
       "      <td>8.526421e-03</td>\n",
       "      <td>...</td>\n",
       "      <td>4.750000</td>\n",
       "      <td>0.013025</td>\n",
       "      <td>2.0</td>\n",
       "      <td>0.009091</td>\n",
       "      <td>0.972680</td>\n",
       "      <td>438.956238</td>\n",
       "      <td>1.636532e-04</td>\n",
       "      <td>281.902344</td>\n",
       "      <td>1.476179e-04</td>\n",
       "      <td>51.0</td>\n",
       "    </tr>\n",
       "    <tr>\n",
       "      <th>78842196</th>\n",
       "      <td>261815</td>\n",
       "      <td>UK</td>\n",
       "      <td>B0BFPJYXQL</td>\n",
       "      <td>0.0</td>\n",
       "      <td>9.383333</td>\n",
       "      <td>10.560000</td>\n",
       "      <td>0.796892</td>\n",
       "      <td>2.623396e-06</td>\n",
       "      <td>1.711608</td>\n",
       "      <td>1.895152e-06</td>\n",
       "      <td>...</td>\n",
       "      <td>0.000000</td>\n",
       "      <td>0.000000</td>\n",
       "      <td>0.0</td>\n",
       "      <td>0.000000</td>\n",
       "      <td>0.953467</td>\n",
       "      <td>430.164368</td>\n",
       "      <td>2.486932e-08</td>\n",
       "      <td>283.306732</td>\n",
       "      <td>6.012531e-04</td>\n",
       "      <td>7.0</td>\n",
       "    </tr>\n",
       "    <tr>\n",
       "      <th>78842197</th>\n",
       "      <td>261815</td>\n",
       "      <td>UK</td>\n",
       "      <td>B0BH3X67S3</td>\n",
       "      <td>0.0</td>\n",
       "      <td>9.383333</td>\n",
       "      <td>6.830000</td>\n",
       "      <td>4.250781</td>\n",
       "      <td>8.296004e-05</td>\n",
       "      <td>6.447586</td>\n",
       "      <td>2.159998e-04</td>\n",
       "      <td>...</td>\n",
       "      <td>0.000000</td>\n",
       "      <td>0.000000</td>\n",
       "      <td>0.0</td>\n",
       "      <td>0.000000</td>\n",
       "      <td>0.961829</td>\n",
       "      <td>434.029083</td>\n",
       "      <td>1.186011e-06</td>\n",
       "      <td>273.954742</td>\n",
       "      <td>5.218429e-08</td>\n",
       "      <td>37.0</td>\n",
       "    </tr>\n",
       "    <tr>\n",
       "      <th>78842198</th>\n",
       "      <td>261815</td>\n",
       "      <td>UK</td>\n",
       "      <td>B0BH5MJGGB</td>\n",
       "      <td>0.0</td>\n",
       "      <td>9.383333</td>\n",
       "      <td>22.097065</td>\n",
       "      <td>-0.310635</td>\n",
       "      <td>8.667048e-07</td>\n",
       "      <td>1.264672</td>\n",
       "      <td>1.212111e-06</td>\n",
       "      <td>...</td>\n",
       "      <td>0.000000</td>\n",
       "      <td>0.000000</td>\n",
       "      <td>0.0</td>\n",
       "      <td>0.000000</td>\n",
       "      <td>0.957924</td>\n",
       "      <td>432.794434</td>\n",
       "      <td>3.450540e-07</td>\n",
       "      <td>278.165314</td>\n",
       "      <td>3.516962e-06</td>\n",
       "      <td>30.0</td>\n",
       "    </tr>\n",
       "  </tbody>\n",
       "</table>\n",
       "<p>78842199 rows × 36 columns</p>\n",
       "</div>"
      ],
      "text/plain": [
       "          sess_id sess_locale     product  target  sess_avg_price  \\\n",
       "0               0          DE  355165591X     0.0       43.256542   \n",
       "1               0          DE  3833237058     0.0       43.256542   \n",
       "2               0          DE  B00CIXSI6U     0.0       43.256542   \n",
       "3               0          DE  B00NVDOWUW     0.0       43.256542   \n",
       "4               0          DE  B00NVDP3ZU     0.0       43.256542   \n",
       "...           ...         ...         ...     ...             ...   \n",
       "78842194   261815          UK  B0BCX524Y6     0.0        9.383333   \n",
       "78842195   261815          UK  B0BCX6QB4L     0.0        9.383333   \n",
       "78842196   261815          UK  B0BFPJYXQL     0.0        9.383333   \n",
       "78842197   261815          UK  B0BH3X67S3     0.0        9.383333   \n",
       "78842198   261815          UK  B0BH5MJGGB     0.0        9.383333   \n",
       "\n",
       "          product_price  sasrec_scores_3  normalized_sasrec_scores_3  \\\n",
       "0              8.990000         2.230508                7.658405e-09   \n",
       "1             22.000000         9.605231                1.221631e-05   \n",
       "2              6.470000         0.714114                1.681035e-09   \n",
       "3             11.990000         8.750996                5.199363e-06   \n",
       "4             22.990000         8.056712                2.596729e-06   \n",
       "...                 ...              ...                         ...   \n",
       "78842194      16.990000         6.813615                1.076201e-03   \n",
       "78842195      10.990000         9.030836                9.881445e-03   \n",
       "78842196      10.560000         0.796892                2.623396e-06   \n",
       "78842197       6.830000         4.250781                8.296004e-05   \n",
       "78842198      22.097065        -0.310635                8.667048e-07   \n",
       "\n",
       "          sasrec_scores_2  normalized_sasrec_scores_2  ...  co_graph_counts_1  \\\n",
       "0                0.512931                1.377575e-09  ...           0.000000   \n",
       "1                9.325538                9.255110e-06  ...           0.090909   \n",
       "2               -0.115904                7.345399e-10  ...           0.000000   \n",
       "3                8.507557                4.084482e-06  ...           0.000000   \n",
       "4                5.898870                3.007453e-07  ...           0.000000   \n",
       "...                   ...                         ...  ...                ...   \n",
       "78842194         7.203015                4.597607e-04  ...           0.000000   \n",
       "78842195        10.123234                8.526421e-03  ...           4.750000   \n",
       "78842196         1.711608                1.895152e-06  ...           0.000000   \n",
       "78842197         6.447586                2.159998e-04  ...           0.000000   \n",
       "78842198         1.264672                1.212111e-06  ...           0.000000   \n",
       "\n",
       "          normalized_co_graph_counts_1  co_graph_counts_2  \\\n",
       "0                             0.000000                0.0   \n",
       "1                             0.000610                0.0   \n",
       "2                             0.000000                0.0   \n",
       "3                             0.000000                0.0   \n",
       "4                             0.000000                0.0   \n",
       "...                                ...                ...   \n",
       "78842194                      0.000000                0.0   \n",
       "78842195                      0.013025                2.0   \n",
       "78842196                      0.000000                0.0   \n",
       "78842197                      0.000000                0.0   \n",
       "78842198                      0.000000                0.0   \n",
       "\n",
       "          normalized_co_graph_counts_2  cos_text_bert_scores  \\\n",
       "0                             0.000000              0.903757   \n",
       "1                             0.000000              0.921604   \n",
       "2                             0.000000              0.901061   \n",
       "3                             0.000000              0.927298   \n",
       "4                             0.000000              0.930655   \n",
       "...                                ...                   ...   \n",
       "78842194                      0.000000              0.972680   \n",
       "78842195                      0.009091              0.972680   \n",
       "78842196                      0.000000              0.953467   \n",
       "78842197                      0.000000              0.961829   \n",
       "78842198                      0.000000              0.957924   \n",
       "\n",
       "          text_bert_scores  normalized_text_bert_scores  roberta_scores  \\\n",
       "0               378.286041                 1.296655e-08      276.525787   \n",
       "1               387.624756                 1.474268e-04      284.460052   \n",
       "2               374.802551                 3.980740e-10      278.039612   \n",
       "3               385.701782                 2.154962e-05      285.239197   \n",
       "4               385.398499                 1.591202e-05      284.763611   \n",
       "...                    ...                          ...             ...   \n",
       "78842194        438.956238                 1.636532e-04      281.902344   \n",
       "78842195        438.956238                 1.636532e-04      281.902344   \n",
       "78842196        430.164368                 2.486932e-08      283.306732   \n",
       "78842197        434.029083                 1.186011e-06      273.954742   \n",
       "78842198        432.794434                 3.450540e-07      278.165314   \n",
       "\n",
       "          normalized_roberta_scores  product_freq  \n",
       "0                      7.975509e-07          48.0  \n",
       "1                      2.226209e-03          80.0  \n",
       "2                      3.624132e-06           7.0  \n",
       "3                      4.852260e-03         155.0  \n",
       "4                      3.015780e-03         462.0  \n",
       "...                             ...           ...  \n",
       "78842194               1.476179e-04           7.0  \n",
       "78842195               1.476179e-04          51.0  \n",
       "78842196               6.012531e-04           7.0  \n",
       "78842197               5.218429e-08          37.0  \n",
       "78842198               3.516962e-06          30.0  \n",
       "\n",
       "[78842199 rows x 36 columns]"
      ]
     },
     "execution_count": 59,
     "metadata": {},
     "output_type": "execute_result"
    }
   ],
   "source": [
    "merged_candidates_feature"
   ]
  },
  {
   "cell_type": "code",
   "execution_count": 60,
   "metadata": {
    "execution": {
     "iopub.execute_input": "2023-06-03T06:40:27.716159Z",
     "iopub.status.busy": "2023-06-03T06:40:27.715646Z",
     "iopub.status.idle": "2023-06-03T06:40:50.455718Z",
     "shell.execute_reply": "2023-06-03T06:40:50.454673Z"
    }
   },
   "outputs": [
    {
     "data": {
      "text/html": [
       "<div>\n",
       "<style scoped>\n",
       "    .dataframe tbody tr th:only-of-type {\n",
       "        vertical-align: middle;\n",
       "    }\n",
       "\n",
       "    .dataframe tbody tr th {\n",
       "        vertical-align: top;\n",
       "    }\n",
       "\n",
       "    .dataframe thead th {\n",
       "        text-align: right;\n",
       "    }\n",
       "</style>\n",
       "<table border=\"1\" class=\"dataframe\">\n",
       "  <thead>\n",
       "    <tr style=\"text-align: right;\">\n",
       "      <th></th>\n",
       "      <th>product</th>\n",
       "      <th>sasrec_scores_2</th>\n",
       "      <th>co_graph_counts_2</th>\n",
       "      <th>normalized_co_graph_counts_2</th>\n",
       "    </tr>\n",
       "  </thead>\n",
       "  <tbody>\n",
       "    <tr>\n",
       "      <th>5968515</th>\n",
       "      <td>B08737HD3S</td>\n",
       "      <td>23.872364</td>\n",
       "      <td>0.0</td>\n",
       "      <td>NaN</td>\n",
       "    </tr>\n",
       "    <tr>\n",
       "      <th>5968602</th>\n",
       "      <td>B09CDPZF8C</td>\n",
       "      <td>23.619312</td>\n",
       "      <td>0.0</td>\n",
       "      <td>NaN</td>\n",
       "    </tr>\n",
       "    <tr>\n",
       "      <th>5968527</th>\n",
       "      <td>B08DRBQ7P2</td>\n",
       "      <td>23.481756</td>\n",
       "      <td>0.0</td>\n",
       "      <td>NaN</td>\n",
       "    </tr>\n",
       "    <tr>\n",
       "      <th>5968581</th>\n",
       "      <td>B097D4NTBN</td>\n",
       "      <td>23.157970</td>\n",
       "      <td>0.0</td>\n",
       "      <td>NaN</td>\n",
       "    </tr>\n",
       "    <tr>\n",
       "      <th>5968595</th>\n",
       "      <td>B09BN9P5Y2</td>\n",
       "      <td>22.849251</td>\n",
       "      <td>0.0</td>\n",
       "      <td>NaN</td>\n",
       "    </tr>\n",
       "    <tr>\n",
       "      <th>5968431</th>\n",
       "      <td>B01BZOKLOY</td>\n",
       "      <td>22.255867</td>\n",
       "      <td>0.0</td>\n",
       "      <td>NaN</td>\n",
       "    </tr>\n",
       "    <tr>\n",
       "      <th>5968682</th>\n",
       "      <td>B0BHDJNL3K</td>\n",
       "      <td>22.105152</td>\n",
       "      <td>0.0</td>\n",
       "      <td>NaN</td>\n",
       "    </tr>\n",
       "    <tr>\n",
       "      <th>5968583</th>\n",
       "      <td>B0988TCBT6</td>\n",
       "      <td>21.597450</td>\n",
       "      <td>0.0</td>\n",
       "      <td>NaN</td>\n",
       "    </tr>\n",
       "    <tr>\n",
       "      <th>5968482</th>\n",
       "      <td>B07W3T98LC</td>\n",
       "      <td>21.548342</td>\n",
       "      <td>0.0</td>\n",
       "      <td>NaN</td>\n",
       "    </tr>\n",
       "    <tr>\n",
       "      <th>5968523</th>\n",
       "      <td>B08BNL9HXF</td>\n",
       "      <td>21.398357</td>\n",
       "      <td>0.0</td>\n",
       "      <td>NaN</td>\n",
       "    </tr>\n",
       "    <tr>\n",
       "      <th>5968589</th>\n",
       "      <td>B09B6X453W</td>\n",
       "      <td>21.386684</td>\n",
       "      <td>0.0</td>\n",
       "      <td>NaN</td>\n",
       "    </tr>\n",
       "    <tr>\n",
       "      <th>5968600</th>\n",
       "      <td>B09C1JTTKQ</td>\n",
       "      <td>21.358204</td>\n",
       "      <td>0.0</td>\n",
       "      <td>NaN</td>\n",
       "    </tr>\n",
       "    <tr>\n",
       "      <th>5968532</th>\n",
       "      <td>B08HMT8773</td>\n",
       "      <td>21.356709</td>\n",
       "      <td>0.0</td>\n",
       "      <td>NaN</td>\n",
       "    </tr>\n",
       "    <tr>\n",
       "      <th>5968516</th>\n",
       "      <td>B087DYPFBZ</td>\n",
       "      <td>20.701958</td>\n",
       "      <td>0.0</td>\n",
       "      <td>NaN</td>\n",
       "    </tr>\n",
       "    <tr>\n",
       "      <th>5968641</th>\n",
       "      <td>B09SFSBQR8</td>\n",
       "      <td>20.688448</td>\n",
       "      <td>0.0</td>\n",
       "      <td>NaN</td>\n",
       "    </tr>\n",
       "    <tr>\n",
       "      <th>5968473</th>\n",
       "      <td>B07PQRWQD9</td>\n",
       "      <td>20.617352</td>\n",
       "      <td>0.0</td>\n",
       "      <td>NaN</td>\n",
       "    </tr>\n",
       "    <tr>\n",
       "      <th>5968618</th>\n",
       "      <td>B09HX6MN31</td>\n",
       "      <td>20.436672</td>\n",
       "      <td>0.0</td>\n",
       "      <td>NaN</td>\n",
       "    </tr>\n",
       "    <tr>\n",
       "      <th>5968472</th>\n",
       "      <td>B07PNHGL87</td>\n",
       "      <td>20.339344</td>\n",
       "      <td>0.0</td>\n",
       "      <td>NaN</td>\n",
       "    </tr>\n",
       "    <tr>\n",
       "      <th>5968484</th>\n",
       "      <td>B07W8NFPT3</td>\n",
       "      <td>20.292400</td>\n",
       "      <td>0.0</td>\n",
       "      <td>NaN</td>\n",
       "    </tr>\n",
       "    <tr>\n",
       "      <th>5968678</th>\n",
       "      <td>B0BFZP3J3G</td>\n",
       "      <td>20.274029</td>\n",
       "      <td>0.0</td>\n",
       "      <td>NaN</td>\n",
       "    </tr>\n",
       "    <tr>\n",
       "      <th>5968645</th>\n",
       "      <td>B09VKY5GJ3</td>\n",
       "      <td>20.246542</td>\n",
       "      <td>0.0</td>\n",
       "      <td>NaN</td>\n",
       "    </tr>\n",
       "    <tr>\n",
       "      <th>5968557</th>\n",
       "      <td>B08Y56SV7S</td>\n",
       "      <td>20.193775</td>\n",
       "      <td>0.0</td>\n",
       "      <td>NaN</td>\n",
       "    </tr>\n",
       "    <tr>\n",
       "      <th>5968471</th>\n",
       "      <td>B07PMK1XZ4</td>\n",
       "      <td>19.929316</td>\n",
       "      <td>0.0</td>\n",
       "      <td>NaN</td>\n",
       "    </tr>\n",
       "    <tr>\n",
       "      <th>5968638</th>\n",
       "      <td>B09QXGFXQ1</td>\n",
       "      <td>19.864658</td>\n",
       "      <td>0.0</td>\n",
       "      <td>NaN</td>\n",
       "    </tr>\n",
       "    <tr>\n",
       "      <th>5968430</th>\n",
       "      <td>B01BZOKLOO</td>\n",
       "      <td>19.723108</td>\n",
       "      <td>0.0</td>\n",
       "      <td>NaN</td>\n",
       "    </tr>\n",
       "  </tbody>\n",
       "</table>\n",
       "</div>"
      ],
      "text/plain": [
       "            product  sasrec_scores_2  co_graph_counts_2  \\\n",
       "5968515  B08737HD3S        23.872364                0.0   \n",
       "5968602  B09CDPZF8C        23.619312                0.0   \n",
       "5968527  B08DRBQ7P2        23.481756                0.0   \n",
       "5968581  B097D4NTBN        23.157970                0.0   \n",
       "5968595  B09BN9P5Y2        22.849251                0.0   \n",
       "5968431  B01BZOKLOY        22.255867                0.0   \n",
       "5968682  B0BHDJNL3K        22.105152                0.0   \n",
       "5968583  B0988TCBT6        21.597450                0.0   \n",
       "5968482  B07W3T98LC        21.548342                0.0   \n",
       "5968523  B08BNL9HXF        21.398357                0.0   \n",
       "5968589  B09B6X453W        21.386684                0.0   \n",
       "5968600  B09C1JTTKQ        21.358204                0.0   \n",
       "5968532  B08HMT8773        21.356709                0.0   \n",
       "5968516  B087DYPFBZ        20.701958                0.0   \n",
       "5968641  B09SFSBQR8        20.688448                0.0   \n",
       "5968473  B07PQRWQD9        20.617352                0.0   \n",
       "5968618  B09HX6MN31        20.436672                0.0   \n",
       "5968472  B07PNHGL87        20.339344                0.0   \n",
       "5968484  B07W8NFPT3        20.292400                0.0   \n",
       "5968678  B0BFZP3J3G        20.274029                0.0   \n",
       "5968645  B09VKY5GJ3        20.246542                0.0   \n",
       "5968557  B08Y56SV7S        20.193775                0.0   \n",
       "5968471  B07PMK1XZ4        19.929316                0.0   \n",
       "5968638  B09QXGFXQ1        19.864658                0.0   \n",
       "5968430  B01BZOKLOO        19.723108                0.0   \n",
       "\n",
       "         normalized_co_graph_counts_2  \n",
       "5968515                           NaN  \n",
       "5968602                           NaN  \n",
       "5968527                           NaN  \n",
       "5968581                           NaN  \n",
       "5968595                           NaN  \n",
       "5968431                           NaN  \n",
       "5968682                           NaN  \n",
       "5968583                           NaN  \n",
       "5968482                           NaN  \n",
       "5968523                           NaN  \n",
       "5968589                           NaN  \n",
       "5968600                           NaN  \n",
       "5968532                           NaN  \n",
       "5968516                           NaN  \n",
       "5968641                           NaN  \n",
       "5968473                           NaN  \n",
       "5968618                           NaN  \n",
       "5968472                           NaN  \n",
       "5968484                           NaN  \n",
       "5968678                           NaN  \n",
       "5968645                           NaN  \n",
       "5968557                           NaN  \n",
       "5968471                           NaN  \n",
       "5968638                           NaN  \n",
       "5968430                           NaN  "
      ]
     },
     "execution_count": 60,
     "metadata": {},
     "output_type": "execute_result"
    }
   ],
   "source": [
    "merged_candidates_feature.query('sess_id==20010').sort_values(by=['sasrec_scores_2'], ascending=False)[['product', 'sasrec_scores_2', 'co_graph_counts_2', 'normalized_co_graph_counts_2']][:25]"
   ]
  }
 ],
 "metadata": {
  "kernelspec": {
   "display_name": "huangxu",
   "language": "python",
   "name": "python3"
  },
  "language_info": {
   "codemirror_mode": {
    "name": "ipython",
    "version": 3
   },
   "file_extension": ".py",
   "mimetype": "text/x-python",
   "name": "python",
   "nbconvert_exporter": "python",
   "pygments_lexer": "ipython3",
   "version": "3.9.15"
  }
 },
 "nbformat": 4,
 "nbformat_minor": 2
}
