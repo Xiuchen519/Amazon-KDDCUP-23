{
 "cells": [
  {
   "attachments": {},
   "cell_type": "markdown",
   "metadata": {},
   "source": [
    "# Necessary Common Functions\n",
    "\n",
    "Those functions should be ran before each part."
   ]
  },
  {
   "cell_type": "code",
   "execution_count": 1,
   "metadata": {
    "execution": {
     "iopub.execute_input": "2023-06-03T05:07:41.638258Z",
     "iopub.status.busy": "2023-06-03T05:07:41.637485Z",
     "iopub.status.idle": "2023-06-03T05:07:43.933655Z",
     "shell.execute_reply": "2023-06-03T05:07:43.932790Z"
    }
   },
   "outputs": [],
   "source": [
    "import os\n",
    "import random\n",
    "import numpy as np\n",
    "import pandas as pd\n",
    "import cudf, itertools\n",
    "import scipy.sparse as ssp\n",
    "from functools import lru_cache\n",
    "from tqdm import tqdm, trange\n",
    "from collections import Counter, defaultdict\n",
    "import numba \n",
    "from numba import jit\n",
    "import datasets\n",
    "from datasets import Dataset as TFDataset\n",
    "import multiprocessing"
   ]
  },
  {
   "cell_type": "code",
   "execution_count": 2,
   "metadata": {
    "execution": {
     "iopub.execute_input": "2023-06-03T05:07:43.941126Z",
     "iopub.status.busy": "2023-06-03T05:07:43.940398Z",
     "iopub.status.idle": "2023-06-03T05:07:43.950186Z",
     "shell.execute_reply": "2023-06-03T05:07:43.949302Z"
    }
   },
   "outputs": [],
   "source": [
    "def get_sessions(df: pd.DataFrame, test=False, list_item=False) -> list:\n",
    "    \n",
    "    all_item = []\n",
    "    if 'next_item' in df and not test:\n",
    "        if list_item:\n",
    "            for i in trange(len(df)):\n",
    "                all_item.append(np.concatenate([np.array(df.loc[i, 'prev_items']), np.array(df.loc[i, 'next_item'])], axis=0))\n",
    "        else:\n",
    "            for i in trange(len(df)):\n",
    "                all_item.append(eval((df.loc[i, 'prev_items'][:-1]+f\" '{df.loc[i, 'next_item']}']\").replace(\" \", \",\")))\n",
    "    else:\n",
    "        if list_item:\n",
    "            all_item = df['prev_items']\n",
    "        else:\n",
    "            for i in trange(len(df)):\n",
    "                all_item.append(eval((df.loc[i, 'prev_items']).replace(\" \", \",\")))\n",
    "    return all_item"
   ]
  },
  {
   "cell_type": "code",
   "execution_count": 3,
   "metadata": {
    "execution": {
     "iopub.execute_input": "2023-06-03T05:07:43.956732Z",
     "iopub.status.busy": "2023-06-03T05:07:43.956406Z",
     "iopub.status.idle": "2023-06-03T05:07:43.965110Z",
     "shell.execute_reply": "2023-06-03T05:07:43.964312Z"
    }
   },
   "outputs": [],
   "source": [
    "def get_co_occurence_dict(sessions: list, bidirection: bool=True, weighted: bool=False, max_dis=None) -> dict:\n",
    "    res = {}\n",
    "    for sess in tqdm(sessions):\n",
    "        for i, id in enumerate(sess):\n",
    "            if id not in res:\n",
    "                res[id] = Counter()\n",
    "            \n",
    "            if max_dis == None:\n",
    "                e = len(sess)\n",
    "            else:\n",
    "                e = min(i + max_dis + 1, len(sess))\n",
    "\n",
    "            for j in range(i+1, e):\n",
    "                if not weighted:\n",
    "                    res[id][sess[j]] += 1\n",
    "                else:\n",
    "                    res[id][sess[j]] += 1 / (j-i)\n",
    "                if bidirection:\n",
    "                    if sess[j] not in res:\n",
    "                        res[sess[j]] = Counter()\n",
    "                    if not weighted:\n",
    "                        res[sess[j]][id] += 1\n",
    "                    else:\n",
    "                        res[sess[j]][id] += 1 / (j-i)\n",
    "    return res"
   ]
  },
  {
   "cell_type": "code",
   "execution_count": 4,
   "metadata": {
    "execution": {
     "iopub.execute_input": "2023-06-03T05:07:43.971830Z",
     "iopub.status.busy": "2023-06-03T05:07:43.971128Z",
     "iopub.status.idle": "2023-06-03T05:07:43.978015Z",
     "shell.execute_reply": "2023-06-03T05:07:43.976933Z"
    }
   },
   "outputs": [],
   "source": [
    "def sort_co_occurence_dict(co_occurence_dict: dict) -> dict:\n",
    "    res = {}\n",
    "    for k,v in co_occurence_dict.items():\n",
    "        res[k] = dict(sorted(v.items(), key=lambda item: -item[1]))\n",
    "    return res"
   ]
  },
  {
   "cell_type": "code",
   "execution_count": 5,
   "metadata": {
    "execution": {
     "iopub.execute_input": "2023-06-03T05:07:43.984689Z",
     "iopub.status.busy": "2023-06-03T05:07:43.984009Z",
     "iopub.status.idle": "2023-06-03T05:07:43.995854Z",
     "shell.execute_reply": "2023-06-03T05:07:43.994752Z"
    }
   },
   "outputs": [],
   "source": [
    "def cast_dtype(df : pd.DataFrame, columns=None):\n",
    "    if columns is None:\n",
    "        columns = df.columns\n",
    "    for k in columns:\n",
    "        dt = type(df[k].iloc[0])\n",
    "        if 'float' in str(dt):\n",
    "            df[k] = df[k].astype('float32')\n",
    "        elif 'int' in str(dt):\n",
    "            df[k] = df[k].astype('int32')\n",
    "        elif dt == list:\n",
    "            dt_ = type(df.iloc[0][k][0])\n",
    "            if 'float' in str(dt_):\n",
    "                df[k] = df[k].apply(lambda x : np.array(x, dtype=np.float32))\n",
    "            elif 'int' in str(dt_):\n",
    "                df[k] = df[k].apply(lambda x : np.array(x, dtype=np.int32))"
   ]
  },
  {
   "cell_type": "code",
   "execution_count": 6,
   "metadata": {
    "execution": {
     "iopub.execute_input": "2023-06-03T05:07:44.002994Z",
     "iopub.status.busy": "2023-06-03T05:07:44.002197Z",
     "iopub.status.idle": "2023-06-03T05:07:44.011715Z",
     "shell.execute_reply": "2023-06-03T05:07:44.010656Z"
    }
   },
   "outputs": [],
   "source": [
    "def get_session_last_item(session_df):\n",
    "    last_items = []\n",
    "    num_sessions = len(session_df)\n",
    "    for i in tqdm(range(num_sessions)):\n",
    "        sess = session_df.iloc[i]\n",
    "        sess_prev_items = sess['prev_items']\n",
    "        \n",
    "        product_list = sess_prev_items.strip('[]').split(' ')\n",
    "        last_item = product_list[-1].strip(\"'\\n\")\n",
    "\n",
    "        last_items.append(last_item)\n",
    "    return last_items "
   ]
  },
  {
   "cell_type": "code",
   "execution_count": 7,
   "metadata": {
    "execution": {
     "iopub.execute_input": "2023-06-03T05:07:44.018198Z",
     "iopub.status.busy": "2023-06-03T05:07:44.017482Z",
     "iopub.status.idle": "2023-06-03T05:07:44.026641Z",
     "shell.execute_reply": "2023-06-03T05:07:44.025377Z"
    }
   },
   "outputs": [],
   "source": [
    "def get_co_graph_counts(session_last_items, merged_candidates_df, co_graph_dict):\n",
    "    co_graph_count_list = []\n",
    "    for idx, row in tqdm(merged_candidates_df.iterrows(), total=merged_candidates_df.shape[0]):\n",
    "        sess_id = row['sess_id']\n",
    "        product = row['product']\n",
    "        last_item = session_last_items[sess_id]\n",
    "        co_graph_count = co_graph_dict[last_item][product]\n",
    "        co_graph_count_list.append(co_graph_count)\n",
    "    return co_graph_count_list"
   ]
  },
  {
   "cell_type": "code",
   "execution_count": 8,
   "metadata": {
    "execution": {
     "iopub.execute_input": "2023-06-03T05:07:44.033267Z",
     "iopub.status.busy": "2023-06-03T05:07:44.032403Z",
     "iopub.status.idle": "2023-06-03T05:07:44.042812Z",
     "shell.execute_reply": "2023-06-03T05:07:44.041760Z"
    }
   },
   "outputs": [],
   "source": [
    "def flatten_co_graph_dict(co_graph_dict):\n",
    "    product_list = []\n",
    "    neighbor_list = []\n",
    "    counts_list = []\n",
    "    for product in tqdm(co_graph_dict.keys(), total=len(co_graph_dict)):\n",
    "        for neigh in co_graph_dict[product].keys():\n",
    "            product_list.append(product)\n",
    "            neighbor_list.append(neigh)\n",
    "            counts_list.append(co_graph_dict[product][neigh])\n",
    "    return pd.DataFrame({'product_' : product_list, 'neighbor' : neighbor_list, 'counts' : counts_list})"
   ]
  },
  {
   "cell_type": "code",
   "execution_count": 9,
   "metadata": {
    "execution": {
     "iopub.execute_input": "2023-06-03T05:07:44.049413Z",
     "iopub.status.busy": "2023-06-03T05:07:44.048684Z",
     "iopub.status.idle": "2023-06-03T05:07:44.058761Z",
     "shell.execute_reply": "2023-06-03T05:07:44.057554Z"
    }
   },
   "outputs": [],
   "source": [
    "def normalize_co_graph_counts(merged_candidates_counts):\n",
    "    # normalize co graph counts \n",
    "    # merged_candidates_counts_g = cudf.from_pandas(merged_candidates_counts)\n",
    "    sessions_count_sum = merged_candidates_counts[['sess_id', 'counts']].groupby('sess_id').sum()\n",
    "    sessions_count_sum.sort_index(inplace=True)\n",
    "\n",
    "    sessions_count_sum = sessions_count_sum.to_pandas()\n",
    "\n",
    "    candidates_count_sum = sessions_count_sum.loc[merged_candidates_counts['sess_id']].reset_index(drop=True)\n",
    "    merged_candidates_counts['counts_cum'] = candidates_count_sum['counts']\n",
    "    merged_candidates_counts['normalized_counts'] = merged_candidates_counts['counts'] / merged_candidates_counts['counts_cum']\n",
    "\n",
    "    # del merged_candidates_counts_g\n",
    "    # del sessions_count_sum_g\n",
    "    "
   ]
  },
  {
   "attachments": {},
   "cell_type": "markdown",
   "metadata": {},
   "source": [
    "# Merge valid co-graph counts "
   ]
  },
  {
   "cell_type": "code",
   "execution_count": 10,
   "metadata": {
    "execution": {
     "iopub.execute_input": "2023-06-03T05:07:44.065472Z",
     "iopub.status.busy": "2023-06-03T05:07:44.064744Z",
     "iopub.status.idle": "2023-06-03T05:07:44.071204Z",
     "shell.execute_reply": "2023-06-03T05:07:44.070060Z"
    }
   },
   "outputs": [],
   "source": [
    "merged_candidates_feature_path = '/root/autodl-tmp/xiaolong/WorkSpace/Amazon-KDDCUP-23/XGBoost/candidates_phase2/merged_candidates_150_feature.parquet'\n",
    "train_sessions_path = '/root/autodl-tmp/xiaolong/WorkSpace/Amazon-KDDCUP-23/data_for_recstudio/task1_data/task13_4_task1_train_sessions_phase2.csv'\n",
    "valid_sessions_path = '/root/autodl-tmp/xiaolong/WorkSpace/Amazon-KDDCUP-23/data_for_recstudio/task1_data/task13_4_task1_valid_sessions_phase2.csv'\n",
    "test_sessions_path = '/root/autodl-tmp/xiaolong/WorkSpace/Amazon-KDDCUP-23/raw_data/sessions_test_task1_phase2.csv'\n",
    "product_data_path = '/root/autodl-tmp/xiaolong/WorkSpace/Amazon-KDDCUP-23/raw_data/products_train.csv'"
   ]
  },
  {
   "cell_type": "code",
   "execution_count": 11,
   "metadata": {
    "execution": {
     "iopub.execute_input": "2023-06-03T05:07:44.078475Z",
     "iopub.status.busy": "2023-06-03T05:07:44.077605Z",
     "iopub.status.idle": "2023-06-03T05:07:44.088589Z",
     "shell.execute_reply": "2023-06-03T05:07:44.087555Z"
    }
   },
   "outputs": [],
   "source": [
    "@lru_cache(maxsize=1)\n",
    "def read_merged_candidates_feature():\n",
    "    return pd.read_parquet(merged_candidates_feature_path)\n",
    "\n",
    "@lru_cache(maxsize=1)\n",
    "def read_product_data():\n",
    "    return pd.read_csv(product_data_path)\n",
    "\n",
    "@lru_cache(maxsize=1)\n",
    "def read_train_data():\n",
    "    return pd.read_csv(train_sessions_path)\n",
    "\n",
    "@lru_cache(maxsize=1)\n",
    "def read_valid_data():\n",
    "    return pd.read_csv(valid_sessions_path)\n",
    "\n",
    "@lru_cache(maxsize=1)\n",
    "def read_test_data():\n",
    "    return pd.read_csv(test_sessions_path)"
   ]
  },
  {
   "cell_type": "code",
   "execution_count": 12,
   "metadata": {
    "execution": {
     "iopub.execute_input": "2023-06-03T05:07:44.095118Z",
     "iopub.status.busy": "2023-06-03T05:07:44.094347Z",
     "iopub.status.idle": "2023-06-03T05:08:17.894246Z",
     "shell.execute_reply": "2023-06-03T05:08:17.868235Z"
    }
   },
   "outputs": [],
   "source": [
    "merged_candidates_feature = read_merged_candidates_feature()"
   ]
  },
  {
   "cell_type": "code",
   "execution_count": 13,
   "metadata": {
    "execution": {
     "iopub.execute_input": "2023-06-03T05:08:18.111885Z",
     "iopub.status.busy": "2023-06-03T05:08:18.105796Z",
     "iopub.status.idle": "2023-06-03T05:08:21.397350Z",
     "shell.execute_reply": "2023-06-03T05:08:21.365156Z"
    }
   },
   "outputs": [],
   "source": [
    "merged_candidates = merged_candidates_feature[['sess_id', 'sess_locale', 'product']]"
   ]
  },
  {
   "cell_type": "code",
   "execution_count": 14,
   "metadata": {
    "execution": {
     "iopub.execute_input": "2023-06-03T05:08:21.402649Z",
     "iopub.status.busy": "2023-06-03T05:08:21.401895Z",
     "iopub.status.idle": "2023-06-03T05:08:42.167057Z",
     "shell.execute_reply": "2023-06-03T05:08:42.166186Z"
    }
   },
   "outputs": [],
   "source": [
    "train_sess_data = read_train_data()\n",
    "valid_sess_data = read_valid_data()\n",
    "test_sess_data = read_test_data()\n",
    "product = read_product_data()"
   ]
  },
  {
   "cell_type": "code",
   "execution_count": 15,
   "metadata": {
    "execution": {
     "iopub.execute_input": "2023-06-03T05:08:42.175158Z",
     "iopub.status.busy": "2023-06-03T05:08:42.174712Z",
     "iopub.status.idle": "2023-06-03T05:11:25.901783Z",
     "shell.execute_reply": "2023-06-03T05:11:25.900745Z"
    }
   },
   "outputs": [
    {
     "name": "stderr",
     "output_type": "stream",
     "text": [
      "100%|████████████████████████████████████████████████████████████████████████████████████████████████████████████████████████████████| 3966659/3966659 [02:37<00:00, 25244.76it/s]\n",
      "100%|██████████████████████████████████████████████████████████████████████████████████████████████████████████████████████████████████| 261816/261816 [00:06<00:00, 39776.89it/s]\n"
     ]
    }
   ],
   "source": [
    "train_sess_item = get_sessions(train_sess_data, list_item=False)\n",
    "valid_sess_item = get_sessions(valid_sess_data, test=True, list_item=False)"
   ]
  },
  {
   "attachments": {},
   "cell_type": "markdown",
   "metadata": {},
   "source": [
    "## bidirection"
   ]
  },
  {
   "cell_type": "code",
   "execution_count": 16,
   "metadata": {
    "execution": {
     "iopub.execute_input": "2023-06-03T05:11:25.905838Z",
     "iopub.status.busy": "2023-06-03T05:11:25.905460Z",
     "iopub.status.idle": "2023-06-03T05:12:58.804774Z",
     "shell.execute_reply": "2023-06-03T05:12:58.803727Z"
    }
   },
   "outputs": [
    {
     "name": "stderr",
     "output_type": "stream",
     "text": [
      "100%|████████████████████████████████████████████████████████████████████████████████████████████████████████████████████████████████| 3966659/3966659 [01:32<00:00, 42702.38it/s]\n"
     ]
    }
   ],
   "source": [
    "# bidirection\n",
    "# valid is included in train \n",
    "co_occurence_dict_bi = get_co_occurence_dict(train_sess_item, bidirection=True, weighted=False)"
   ]
  },
  {
   "cell_type": "code",
   "execution_count": 17,
   "metadata": {
    "execution": {
     "iopub.execute_input": "2023-06-03T05:12:58.813005Z",
     "iopub.status.busy": "2023-06-03T05:12:58.812730Z",
     "iopub.status.idle": "2023-06-03T05:12:58.820582Z",
     "shell.execute_reply": "2023-06-03T05:12:58.819196Z"
    }
   },
   "outputs": [],
   "source": [
    "# only one arg, can't use another arg\n",
    "def get_bi_valid_session_co_graph_candidates(sess_id):\n",
    "    sess = valid_sess_item[sess_id]\n",
    "    prev_items = set()\n",
    "    cand_counter = Counter()\n",
    "    for item in sess:\n",
    "        if item in co_occurence_dict_bi and item not in prev_items:\n",
    "            cand_counter = cand_counter + co_occurence_dict_bi[item]\n",
    "            prev_items.add(item) # one time for every item\n",
    "    for item in sess:\n",
    "        if item in cand_counter:\n",
    "            cand_counter.pop(item) # remove history items \n",
    "\n",
    "    return cand_counter"
   ]
  },
  {
   "cell_type": "code",
   "execution_count": 18,
   "metadata": {
    "execution": {
     "iopub.execute_input": "2023-06-03T05:12:58.826743Z",
     "iopub.status.busy": "2023-06-03T05:12:58.826059Z",
     "iopub.status.idle": "2023-06-03T05:12:58.888334Z",
     "shell.execute_reply": "2023-06-03T05:12:58.887643Z"
    }
   },
   "outputs": [],
   "source": [
    "valid_co_graph_candidates = TFDataset.from_dict({'sess_id' : list(range(valid_sess_data.shape[0]))})"
   ]
  },
  {
   "cell_type": "code",
   "execution_count": 19,
   "metadata": {
    "execution": {
     "iopub.execute_input": "2023-06-03T05:12:58.894440Z",
     "iopub.status.busy": "2023-06-03T05:12:58.894161Z",
     "iopub.status.idle": "2023-06-03T05:13:55.758043Z",
     "shell.execute_reply": "2023-06-03T05:13:55.755369Z"
    }
   },
   "outputs": [],
   "source": [
    "# about 1 mins\n",
    "sess_ids = list(range(len(valid_sess_item)))\n",
    "pool = multiprocessing.Pool(10)\n",
    "bi_valid_sessions_counter = pool.map(get_bi_valid_session_co_graph_candidates, sess_ids)"
   ]
  },
  {
   "cell_type": "code",
   "execution_count": 20,
   "metadata": {
    "execution": {
     "iopub.execute_input": "2023-06-03T05:13:55.764660Z",
     "iopub.status.busy": "2023-06-03T05:13:55.763761Z",
     "iopub.status.idle": "2023-06-03T05:13:55.782547Z",
     "shell.execute_reply": "2023-06-03T05:13:55.781676Z"
    }
   },
   "outputs": [
    {
     "data": {
      "text/plain": [
       "(Dataset({\n",
       "     features: ['sess_id'],\n",
       "     num_rows: 261816\n",
       " }),\n",
       " 261816)"
      ]
     },
     "execution_count": 20,
     "metadata": {},
     "output_type": "execute_result"
    }
   ],
   "source": [
    "valid_co_graph_candidates, len(bi_valid_sessions_counter)"
   ]
  },
  {
   "cell_type": "code",
   "execution_count": 21,
   "metadata": {
    "execution": {
     "iopub.execute_input": "2023-06-03T05:13:55.786343Z",
     "iopub.status.busy": "2023-06-03T05:13:55.785874Z",
     "iopub.status.idle": "2023-06-03T05:16:30.268526Z",
     "shell.execute_reply": "2023-06-03T05:16:30.267706Z"
    }
   },
   "outputs": [
    {
     "name": "stderr",
     "output_type": "stream",
     "text": [
      "100%|█████████████████████████████████████████████████████████████████████████████████████████████████████████████████████████████| 78842199/78842199 [02:14<00:00, 584770.14it/s]\n",
      "/tmp/ipykernel_108423/4091948514.py:5: SettingWithCopyWarning: \n",
      "A value is trying to be set on a copy of a slice from a DataFrame.\n",
      "Try using .loc[row_indexer,col_indexer] = value instead\n",
      "\n",
      "See the caveats in the documentation: https://pandas.pydata.org/pandas-docs/stable/user_guide/indexing.html#returning-a-view-versus-a-copy\n",
      "  merged_candidates['all_items_co_graph_count_0'] = all_items_co_graph_count_list\n"
     ]
    }
   ],
   "source": [
    "all_items_co_graph_count_list = []\n",
    "for row in tqdm(merged_candidates.itertuples(), total=merged_candidates.shape[0]):\n",
    "    all_items_co_graph_count_list.append(bi_valid_sessions_counter[row.sess_id][row.product])\n",
    "assert len(all_items_co_graph_count_list) == merged_candidates.shape[0]\n",
    "merged_candidates['all_items_co_graph_count_0'] = all_items_co_graph_count_list"
   ]
  },
  {
   "cell_type": "code",
   "execution_count": 22,
   "metadata": {
    "execution": {
     "iopub.execute_input": "2023-06-03T05:16:30.273587Z",
     "iopub.status.busy": "2023-06-03T05:16:30.273249Z",
     "iopub.status.idle": "2023-06-03T05:16:35.782936Z",
     "shell.execute_reply": "2023-06-03T05:16:35.782272Z"
    }
   },
   "outputs": [
    {
     "name": "stderr",
     "output_type": "stream",
     "text": [
      "/tmp/ipykernel_108423/860000090.py:3: SettingWithCopyWarning: \n",
      "A value is trying to be set on a copy of a slice from a DataFrame.\n",
      "Try using .loc[row_indexer,col_indexer] = value instead\n",
      "\n",
      "See the caveats in the documentation: https://pandas.pydata.org/pandas-docs/stable/user_guide/indexing.html#returning-a-view-versus-a-copy\n",
      "  merged_candidates['normalized_all_items_co_graph_count_0'] = count_sum_array[merged_candidates['sess_id']]\n",
      "/tmp/ipykernel_108423/860000090.py:4: SettingWithCopyWarning: \n",
      "A value is trying to be set on a copy of a slice from a DataFrame.\n",
      "Try using .loc[row_indexer,col_indexer] = value instead\n",
      "\n",
      "See the caveats in the documentation: https://pandas.pydata.org/pandas-docs/stable/user_guide/indexing.html#returning-a-view-versus-a-copy\n",
      "  merged_candidates['normalized_all_items_co_graph_count_0'] = merged_candidates['all_items_co_graph_count_0'] / merged_candidates['normalized_all_items_co_graph_count_0']\n"
     ]
    }
   ],
   "source": [
    "count_sum_array = merged_candidates.groupby(by='sess_id')['all_items_co_graph_count_0'].sum().to_numpy()\n",
    "assert len(count_sum_array[merged_candidates['sess_id']]) == merged_candidates.shape[0]\n",
    "merged_candidates['normalized_all_items_co_graph_count_0'] = count_sum_array[merged_candidates['sess_id']]\n",
    "merged_candidates['normalized_all_items_co_graph_count_0'] = merged_candidates['all_items_co_graph_count_0'] / merged_candidates['normalized_all_items_co_graph_count_0']"
   ]
  },
  {
   "cell_type": "code",
   "execution_count": 23,
   "metadata": {
    "execution": {
     "iopub.execute_input": "2023-06-03T05:16:35.787393Z",
     "iopub.status.busy": "2023-06-03T05:16:35.787053Z",
     "iopub.status.idle": "2023-06-03T05:16:55.773330Z",
     "shell.execute_reply": "2023-06-03T05:16:55.772453Z"
    }
   },
   "outputs": [],
   "source": [
    "merged_candidates_feature['normalized_all_items_co_graph_count_0'] = merged_candidates['normalized_all_items_co_graph_count_0']\n",
    "merged_candidates_feature['all_items_co_graph_count_0'] = merged_candidates['all_items_co_graph_count_0']"
   ]
  },
  {
   "cell_type": "code",
   "execution_count": 24,
   "metadata": {
    "execution": {
     "iopub.execute_input": "2023-06-03T05:16:55.777514Z",
     "iopub.status.busy": "2023-06-03T05:16:55.777168Z",
     "iopub.status.idle": "2023-06-03T05:16:57.278992Z",
     "shell.execute_reply": "2023-06-03T05:16:57.278312Z"
    }
   },
   "outputs": [
    {
     "data": {
      "text/html": [
       "<div>\n",
       "<style scoped>\n",
       "    .dataframe tbody tr th:only-of-type {\n",
       "        vertical-align: middle;\n",
       "    }\n",
       "\n",
       "    .dataframe tbody tr th {\n",
       "        vertical-align: top;\n",
       "    }\n",
       "\n",
       "    .dataframe thead th {\n",
       "        text-align: right;\n",
       "    }\n",
       "</style>\n",
       "<table border=\"1\" class=\"dataframe\">\n",
       "  <thead>\n",
       "    <tr style=\"text-align: right;\">\n",
       "      <th></th>\n",
       "      <th>product</th>\n",
       "      <th>sasrec_scores_2</th>\n",
       "      <th>all_items_co_graph_count_0</th>\n",
       "      <th>normalized_all_items_co_graph_count_0</th>\n",
       "    </tr>\n",
       "  </thead>\n",
       "  <tbody>\n",
       "    <tr>\n",
       "      <th>5965883</th>\n",
       "      <td>B09ZKF77CC</td>\n",
       "      <td>13.667938</td>\n",
       "      <td>5</td>\n",
       "      <td>0.018116</td>\n",
       "    </tr>\n",
       "    <tr>\n",
       "      <th>5965840</th>\n",
       "      <td>B09G2YWKP3</td>\n",
       "      <td>13.521121</td>\n",
       "      <td>4</td>\n",
       "      <td>0.014493</td>\n",
       "    </tr>\n",
       "    <tr>\n",
       "      <th>5965875</th>\n",
       "      <td>B09Z2XHMS3</td>\n",
       "      <td>13.468659</td>\n",
       "      <td>4</td>\n",
       "      <td>0.014493</td>\n",
       "    </tr>\n",
       "    <tr>\n",
       "      <th>5965830</th>\n",
       "      <td>B09D415MK8</td>\n",
       "      <td>13.464596</td>\n",
       "      <td>2</td>\n",
       "      <td>0.007246</td>\n",
       "    </tr>\n",
       "    <tr>\n",
       "      <th>5965831</th>\n",
       "      <td>B09D443ZZ7</td>\n",
       "      <td>13.088786</td>\n",
       "      <td>3</td>\n",
       "      <td>0.010870</td>\n",
       "    </tr>\n",
       "    <tr>\n",
       "      <th>5965876</th>\n",
       "      <td>B09Z2XVBJQ</td>\n",
       "      <td>12.996532</td>\n",
       "      <td>3</td>\n",
       "      <td>0.010870</td>\n",
       "    </tr>\n",
       "    <tr>\n",
       "      <th>5965880</th>\n",
       "      <td>B09ZK5K3JQ</td>\n",
       "      <td>12.818775</td>\n",
       "      <td>6</td>\n",
       "      <td>0.021739</td>\n",
       "    </tr>\n",
       "    <tr>\n",
       "      <th>5965820</th>\n",
       "      <td>B09489RCTT</td>\n",
       "      <td>12.725793</td>\n",
       "      <td>4</td>\n",
       "      <td>0.014493</td>\n",
       "    </tr>\n",
       "    <tr>\n",
       "      <th>5965747</th>\n",
       "      <td>B07PBN67YJ</td>\n",
       "      <td>12.459669</td>\n",
       "      <td>1</td>\n",
       "      <td>0.003623</td>\n",
       "    </tr>\n",
       "    <tr>\n",
       "      <th>5965827</th>\n",
       "      <td>B099ZR7QL5</td>\n",
       "      <td>12.331591</td>\n",
       "      <td>3</td>\n",
       "      <td>0.010870</td>\n",
       "    </tr>\n",
       "    <tr>\n",
       "      <th>5965662</th>\n",
       "      <td>B00DORAD6W</td>\n",
       "      <td>12.283764</td>\n",
       "      <td>2</td>\n",
       "      <td>0.007246</td>\n",
       "    </tr>\n",
       "    <tr>\n",
       "      <th>5965716</th>\n",
       "      <td>B074KC4PD3</td>\n",
       "      <td>12.188356</td>\n",
       "      <td>0</td>\n",
       "      <td>0.000000</td>\n",
       "    </tr>\n",
       "    <tr>\n",
       "      <th>5965878</th>\n",
       "      <td>B09Z2XY8ZG</td>\n",
       "      <td>12.138655</td>\n",
       "      <td>0</td>\n",
       "      <td>0.000000</td>\n",
       "    </tr>\n",
       "    <tr>\n",
       "      <th>5965644</th>\n",
       "      <td>B0039ZMPTM</td>\n",
       "      <td>12.076642</td>\n",
       "      <td>2</td>\n",
       "      <td>0.007246</td>\n",
       "    </tr>\n",
       "    <tr>\n",
       "      <th>5965839</th>\n",
       "      <td>B09G2XC238</td>\n",
       "      <td>12.065323</td>\n",
       "      <td>1</td>\n",
       "      <td>0.003623</td>\n",
       "    </tr>\n",
       "    <tr>\n",
       "      <th>5965877</th>\n",
       "      <td>B09Z2XWX64</td>\n",
       "      <td>12.029195</td>\n",
       "      <td>1</td>\n",
       "      <td>0.003623</td>\n",
       "    </tr>\n",
       "    <tr>\n",
       "      <th>5965744</th>\n",
       "      <td>B07P8G9LT6</td>\n",
       "      <td>11.960063</td>\n",
       "      <td>2</td>\n",
       "      <td>0.007246</td>\n",
       "    </tr>\n",
       "    <tr>\n",
       "      <th>5965709</th>\n",
       "      <td>B06XRZRPCY</td>\n",
       "      <td>11.935661</td>\n",
       "      <td>1</td>\n",
       "      <td>0.003623</td>\n",
       "    </tr>\n",
       "    <tr>\n",
       "      <th>5965692</th>\n",
       "      <td>B018M18FJQ</td>\n",
       "      <td>11.920627</td>\n",
       "      <td>1</td>\n",
       "      <td>0.003623</td>\n",
       "    </tr>\n",
       "    <tr>\n",
       "      <th>5965816</th>\n",
       "      <td>B0919S887Q</td>\n",
       "      <td>11.886253</td>\n",
       "      <td>2</td>\n",
       "      <td>0.007246</td>\n",
       "    </tr>\n",
       "    <tr>\n",
       "      <th>5965814</th>\n",
       "      <td>B08ZYVPDK7</td>\n",
       "      <td>11.874740</td>\n",
       "      <td>2</td>\n",
       "      <td>0.007246</td>\n",
       "    </tr>\n",
       "    <tr>\n",
       "      <th>5965798</th>\n",
       "      <td>B08GMD6TMC</td>\n",
       "      <td>11.747354</td>\n",
       "      <td>3</td>\n",
       "      <td>0.010870</td>\n",
       "    </tr>\n",
       "    <tr>\n",
       "      <th>5965832</th>\n",
       "      <td>B09D44CBV4</td>\n",
       "      <td>11.739874</td>\n",
       "      <td>2</td>\n",
       "      <td>0.007246</td>\n",
       "    </tr>\n",
       "    <tr>\n",
       "      <th>5965652</th>\n",
       "      <td>B005XU00YI</td>\n",
       "      <td>11.688389</td>\n",
       "      <td>1</td>\n",
       "      <td>0.003623</td>\n",
       "    </tr>\n",
       "    <tr>\n",
       "      <th>5965695</th>\n",
       "      <td>B018M38QGG</td>\n",
       "      <td>11.649590</td>\n",
       "      <td>1</td>\n",
       "      <td>0.003623</td>\n",
       "    </tr>\n",
       "  </tbody>\n",
       "</table>\n",
       "</div>"
      ],
      "text/plain": [
       "            product  sasrec_scores_2  all_items_co_graph_count_0  \\\n",
       "5965883  B09ZKF77CC        13.667938                           5   \n",
       "5965840  B09G2YWKP3        13.521121                           4   \n",
       "5965875  B09Z2XHMS3        13.468659                           4   \n",
       "5965830  B09D415MK8        13.464596                           2   \n",
       "5965831  B09D443ZZ7        13.088786                           3   \n",
       "5965876  B09Z2XVBJQ        12.996532                           3   \n",
       "5965880  B09ZK5K3JQ        12.818775                           6   \n",
       "5965820  B09489RCTT        12.725793                           4   \n",
       "5965747  B07PBN67YJ        12.459669                           1   \n",
       "5965827  B099ZR7QL5        12.331591                           3   \n",
       "5965662  B00DORAD6W        12.283764                           2   \n",
       "5965716  B074KC4PD3        12.188356                           0   \n",
       "5965878  B09Z2XY8ZG        12.138655                           0   \n",
       "5965644  B0039ZMPTM        12.076642                           2   \n",
       "5965839  B09G2XC238        12.065323                           1   \n",
       "5965877  B09Z2XWX64        12.029195                           1   \n",
       "5965744  B07P8G9LT6        11.960063                           2   \n",
       "5965709  B06XRZRPCY        11.935661                           1   \n",
       "5965692  B018M18FJQ        11.920627                           1   \n",
       "5965816  B0919S887Q        11.886253                           2   \n",
       "5965814  B08ZYVPDK7        11.874740                           2   \n",
       "5965798  B08GMD6TMC        11.747354                           3   \n",
       "5965832  B09D44CBV4        11.739874                           2   \n",
       "5965652  B005XU00YI        11.688389                           1   \n",
       "5965695  B018M38QGG        11.649590                           1   \n",
       "\n",
       "         normalized_all_items_co_graph_count_0  \n",
       "5965883                               0.018116  \n",
       "5965840                               0.014493  \n",
       "5965875                               0.014493  \n",
       "5965830                               0.007246  \n",
       "5965831                               0.010870  \n",
       "5965876                               0.010870  \n",
       "5965880                               0.021739  \n",
       "5965820                               0.014493  \n",
       "5965747                               0.003623  \n",
       "5965827                               0.010870  \n",
       "5965662                               0.007246  \n",
       "5965716                               0.000000  \n",
       "5965878                               0.000000  \n",
       "5965644                               0.007246  \n",
       "5965839                               0.003623  \n",
       "5965877                               0.003623  \n",
       "5965744                               0.007246  \n",
       "5965709                               0.003623  \n",
       "5965692                               0.003623  \n",
       "5965816                               0.007246  \n",
       "5965814                               0.007246  \n",
       "5965798                               0.010870  \n",
       "5965832                               0.007246  \n",
       "5965652                               0.003623  \n",
       "5965695                               0.003623  "
      ]
     },
     "execution_count": 24,
     "metadata": {},
     "output_type": "execute_result"
    }
   ],
   "source": [
    "merged_candidates_feature.query('sess_id==20000').sort_values(by=['sasrec_scores_2'], ascending=False)[['product', 'sasrec_scores_2', 'all_items_co_graph_count_0', 'normalized_all_items_co_graph_count_0']][:25]"
   ]
  },
  {
   "attachments": {},
   "cell_type": "markdown",
   "metadata": {},
   "source": [
    "## uni and weighted"
   ]
  },
  {
   "cell_type": "code",
   "execution_count": 25,
   "metadata": {
    "execution": {
     "iopub.execute_input": "2023-06-03T05:16:57.284593Z",
     "iopub.status.busy": "2023-06-03T05:16:57.284143Z",
     "iopub.status.idle": "2023-06-03T05:18:13.656754Z",
     "shell.execute_reply": "2023-06-03T05:18:13.655783Z"
    }
   },
   "outputs": [
    {
     "name": "stderr",
     "output_type": "stream",
     "text": [
      "100%|████████████████████████████████████████████████████████████████████████████████████████████████████████████████████████████████| 3966659/3966659 [01:16<00:00, 51943.54it/s]\n"
     ]
    }
   ],
   "source": [
    "# weight \n",
    "# co_occurence_dict_bi_weight = get_co_occurence_dict(train_sess_item + valid_sess_item, bidirection=True, weighted=True)\n",
    "co_occurence_dict_uni_weight = get_co_occurence_dict(train_sess_item, bidirection=False, weighted=True)"
   ]
  },
  {
   "cell_type": "code",
   "execution_count": 26,
   "metadata": {
    "execution": {
     "iopub.execute_input": "2023-06-03T05:18:13.660769Z",
     "iopub.status.busy": "2023-06-03T05:18:13.660420Z",
     "iopub.status.idle": "2023-06-03T05:18:19.557391Z",
     "shell.execute_reply": "2023-06-03T05:18:19.556470Z"
    }
   },
   "outputs": [],
   "source": [
    "merged_candidates = merged_candidates_feature[['sess_id', 'sess_locale', 'product']]"
   ]
  },
  {
   "cell_type": "code",
   "execution_count": 27,
   "metadata": {
    "execution": {
     "iopub.execute_input": "2023-06-03T05:18:19.562593Z",
     "iopub.status.busy": "2023-06-03T05:18:19.562268Z",
     "iopub.status.idle": "2023-06-03T05:18:19.567627Z",
     "shell.execute_reply": "2023-06-03T05:18:19.567040Z"
    }
   },
   "outputs": [],
   "source": [
    "# only one arg, can't use another arg\n",
    "def get_uni_wei_valid_session_co_graph_candidates(sess_id):\n",
    "    sess = valid_sess_item[sess_id]\n",
    "    prev_items = set()\n",
    "    cand_counter = Counter()\n",
    "    for item in sess:\n",
    "        if item in co_occurence_dict_uni_weight and item not in prev_items:\n",
    "            cand_counter = cand_counter + co_occurence_dict_uni_weight[item]\n",
    "            prev_items.add(item) # one time for every item\n",
    "    for item in sess:\n",
    "        if item in cand_counter:\n",
    "            cand_counter.pop(item) # remove history items \n",
    "    \n",
    "    return cand_counter"
   ]
  },
  {
   "cell_type": "code",
   "execution_count": 28,
   "metadata": {
    "execution": {
     "iopub.execute_input": "2023-06-03T05:18:19.572387Z",
     "iopub.status.busy": "2023-06-03T05:18:19.572002Z",
     "iopub.status.idle": "2023-06-03T05:18:19.624208Z",
     "shell.execute_reply": "2023-06-03T05:18:19.623231Z"
    }
   },
   "outputs": [],
   "source": [
    "valid_co_graph_candidates = TFDataset.from_dict({'sess_id' : list(range(valid_sess_data.shape[0]))})"
   ]
  },
  {
   "cell_type": "code",
   "execution_count": 29,
   "metadata": {
    "execution": {
     "iopub.execute_input": "2023-06-03T05:18:19.628393Z",
     "iopub.status.busy": "2023-06-03T05:18:19.628053Z",
     "iopub.status.idle": "2023-06-03T05:19:25.208084Z",
     "shell.execute_reply": "2023-06-03T05:19:25.206945Z"
    }
   },
   "outputs": [],
   "source": [
    "# about 1 mins\n",
    "sess_ids = list(range(len(valid_sess_item)))\n",
    "pool = multiprocessing.Pool(10)\n",
    "uni_wei_valid_sessions_counter = pool.map(get_uni_wei_valid_session_co_graph_candidates, sess_ids)"
   ]
  },
  {
   "cell_type": "code",
   "execution_count": 30,
   "metadata": {
    "execution": {
     "iopub.execute_input": "2023-06-03T05:19:25.212687Z",
     "iopub.status.busy": "2023-06-03T05:19:25.212182Z",
     "iopub.status.idle": "2023-06-03T05:19:25.221226Z",
     "shell.execute_reply": "2023-06-03T05:19:25.220025Z"
    }
   },
   "outputs": [
    {
     "data": {
      "text/plain": [
       "(Dataset({\n",
       "     features: ['sess_id'],\n",
       "     num_rows: 261816\n",
       " }),\n",
       " 261816)"
      ]
     },
     "execution_count": 30,
     "metadata": {},
     "output_type": "execute_result"
    }
   ],
   "source": [
    "valid_co_graph_candidates, len(uni_wei_valid_sessions_counter)"
   ]
  },
  {
   "cell_type": "code",
   "execution_count": 31,
   "metadata": {
    "execution": {
     "iopub.execute_input": "2023-06-03T05:19:25.224737Z",
     "iopub.status.busy": "2023-06-03T05:19:25.224377Z",
     "iopub.status.idle": "2023-06-03T05:22:07.671243Z",
     "shell.execute_reply": "2023-06-03T05:22:07.669332Z"
    }
   },
   "outputs": [
    {
     "name": "stderr",
     "output_type": "stream",
     "text": [
      "100%|█████████████████████████████████████████████████████████████████████████████████████████████████████████████████████████████| 78842199/78842199 [02:20<00:00, 562557.10it/s]\n",
      "/tmp/ipykernel_108423/1702843849.py:5: SettingWithCopyWarning: \n",
      "A value is trying to be set on a copy of a slice from a DataFrame.\n",
      "Try using .loc[row_indexer,col_indexer] = value instead\n",
      "\n",
      "See the caveats in the documentation: https://pandas.pydata.org/pandas-docs/stable/user_guide/indexing.html#returning-a-view-versus-a-copy\n",
      "  merged_candidates['all_items_co_graph_count_1'] = all_items_co_graph_count_list\n"
     ]
    }
   ],
   "source": [
    "all_items_co_graph_count_list = []\n",
    "for row in tqdm(merged_candidates.itertuples(), total=merged_candidates.shape[0]):\n",
    "    all_items_co_graph_count_list.append(uni_wei_valid_sessions_counter[row.sess_id][row.product])\n",
    "assert len(all_items_co_graph_count_list) == merged_candidates.shape[0]\n",
    "merged_candidates['all_items_co_graph_count_1'] = all_items_co_graph_count_list"
   ]
  },
  {
   "cell_type": "code",
   "execution_count": 32,
   "metadata": {
    "execution": {
     "iopub.execute_input": "2023-06-03T05:22:07.677196Z",
     "iopub.status.busy": "2023-06-03T05:22:07.676342Z",
     "iopub.status.idle": "2023-06-03T05:22:12.793575Z",
     "shell.execute_reply": "2023-06-03T05:22:12.792470Z"
    }
   },
   "outputs": [
    {
     "name": "stderr",
     "output_type": "stream",
     "text": [
      "/tmp/ipykernel_108423/1383280374.py:3: SettingWithCopyWarning: \n",
      "A value is trying to be set on a copy of a slice from a DataFrame.\n",
      "Try using .loc[row_indexer,col_indexer] = value instead\n",
      "\n",
      "See the caveats in the documentation: https://pandas.pydata.org/pandas-docs/stable/user_guide/indexing.html#returning-a-view-versus-a-copy\n",
      "  merged_candidates['normalized_all_items_co_graph_count_1'] = count_sum_array[merged_candidates['sess_id']]\n",
      "/tmp/ipykernel_108423/1383280374.py:4: SettingWithCopyWarning: \n",
      "A value is trying to be set on a copy of a slice from a DataFrame.\n",
      "Try using .loc[row_indexer,col_indexer] = value instead\n",
      "\n",
      "See the caveats in the documentation: https://pandas.pydata.org/pandas-docs/stable/user_guide/indexing.html#returning-a-view-versus-a-copy\n",
      "  merged_candidates['normalized_all_items_co_graph_count_1'] = merged_candidates['all_items_co_graph_count_1'] / merged_candidates['normalized_all_items_co_graph_count_1']\n"
     ]
    }
   ],
   "source": [
    "count_sum_array = merged_candidates.groupby(by='sess_id')['all_items_co_graph_count_1'].sum().to_numpy()\n",
    "assert len(count_sum_array[merged_candidates['sess_id']]) == merged_candidates.shape[0]\n",
    "merged_candidates['normalized_all_items_co_graph_count_1'] = count_sum_array[merged_candidates['sess_id']]\n",
    "merged_candidates['normalized_all_items_co_graph_count_1'] = merged_candidates['all_items_co_graph_count_1'] / merged_candidates['normalized_all_items_co_graph_count_1']"
   ]
  },
  {
   "cell_type": "code",
   "execution_count": 33,
   "metadata": {
    "execution": {
     "iopub.execute_input": "2023-06-03T05:22:12.797347Z",
     "iopub.status.busy": "2023-06-03T05:22:12.796767Z",
     "iopub.status.idle": "2023-06-03T05:22:31.824597Z",
     "shell.execute_reply": "2023-06-03T05:22:31.823852Z"
    }
   },
   "outputs": [],
   "source": [
    "merged_candidates_feature['normalized_all_items_co_graph_count_1'] = merged_candidates['normalized_all_items_co_graph_count_1']\n",
    "merged_candidates_feature['all_items_co_graph_count_1'] = merged_candidates['all_items_co_graph_count_1']"
   ]
  },
  {
   "cell_type": "code",
   "execution_count": 34,
   "metadata": {
    "execution": {
     "iopub.execute_input": "2023-06-03T05:22:31.831663Z",
     "iopub.status.busy": "2023-06-03T05:22:31.831265Z",
     "iopub.status.idle": "2023-06-03T05:22:36.599961Z",
     "shell.execute_reply": "2023-06-03T05:22:36.598409Z"
    }
   },
   "outputs": [
    {
     "data": {
      "text/html": [
       "<div>\n",
       "<style scoped>\n",
       "    .dataframe tbody tr th:only-of-type {\n",
       "        vertical-align: middle;\n",
       "    }\n",
       "\n",
       "    .dataframe tbody tr th {\n",
       "        vertical-align: top;\n",
       "    }\n",
       "\n",
       "    .dataframe thead th {\n",
       "        text-align: right;\n",
       "    }\n",
       "</style>\n",
       "<table border=\"1\" class=\"dataframe\">\n",
       "  <thead>\n",
       "    <tr style=\"text-align: right;\">\n",
       "      <th></th>\n",
       "      <th>product</th>\n",
       "      <th>sasrec_scores_2</th>\n",
       "      <th>all_items_co_graph_count_1</th>\n",
       "      <th>normalized_all_items_co_graph_count_1</th>\n",
       "    </tr>\n",
       "  </thead>\n",
       "  <tbody>\n",
       "    <tr>\n",
       "      <th>2980058</th>\n",
       "      <td>B0B3S4QXZ3</td>\n",
       "      <td>19.587433</td>\n",
       "      <td>5.400000</td>\n",
       "      <td>0.087206</td>\n",
       "    </tr>\n",
       "    <tr>\n",
       "      <th>2979948</th>\n",
       "      <td>B09SHX12P1</td>\n",
       "      <td>19.370029</td>\n",
       "      <td>6.571429</td>\n",
       "      <td>0.106124</td>\n",
       "    </tr>\n",
       "    <tr>\n",
       "      <th>2980034</th>\n",
       "      <td>B09ZVBXFJ2</td>\n",
       "      <td>18.312700</td>\n",
       "      <td>1.333333</td>\n",
       "      <td>0.021532</td>\n",
       "    </tr>\n",
       "    <tr>\n",
       "      <th>2979943</th>\n",
       "      <td>B09SHW3QP6</td>\n",
       "      <td>18.290028</td>\n",
       "      <td>2.350000</td>\n",
       "      <td>0.037951</td>\n",
       "    </tr>\n",
       "    <tr>\n",
       "      <th>2980035</th>\n",
       "      <td>B09ZVDCM2G</td>\n",
       "      <td>17.967262</td>\n",
       "      <td>2.895833</td>\n",
       "      <td>0.046765</td>\n",
       "    </tr>\n",
       "    <tr>\n",
       "      <th>2979911</th>\n",
       "      <td>B09NBZ82SM</td>\n",
       "      <td>17.482162</td>\n",
       "      <td>0.000000</td>\n",
       "      <td>0.000000</td>\n",
       "    </tr>\n",
       "    <tr>\n",
       "      <th>2979949</th>\n",
       "      <td>B09SHXN9T2</td>\n",
       "      <td>17.331429</td>\n",
       "      <td>0.090909</td>\n",
       "      <td>0.001468</td>\n",
       "    </tr>\n",
       "    <tr>\n",
       "      <th>2979941</th>\n",
       "      <td>B09SHVZ4DJ</td>\n",
       "      <td>17.320957</td>\n",
       "      <td>1.833333</td>\n",
       "      <td>0.029607</td>\n",
       "    </tr>\n",
       "    <tr>\n",
       "      <th>2979958</th>\n",
       "      <td>B09TPYW9C1</td>\n",
       "      <td>17.199915</td>\n",
       "      <td>0.783333</td>\n",
       "      <td>0.012650</td>\n",
       "    </tr>\n",
       "    <tr>\n",
       "      <th>2980031</th>\n",
       "      <td>B09ZJ2ZN7F</td>\n",
       "      <td>17.195761</td>\n",
       "      <td>1.500000</td>\n",
       "      <td>0.024224</td>\n",
       "    </tr>\n",
       "    <tr>\n",
       "      <th>2979946</th>\n",
       "      <td>B09SHWKFP7</td>\n",
       "      <td>17.023266</td>\n",
       "      <td>0.791667</td>\n",
       "      <td>0.012785</td>\n",
       "    </tr>\n",
       "    <tr>\n",
       "      <th>2980036</th>\n",
       "      <td>B09ZVDHR7R</td>\n",
       "      <td>16.976372</td>\n",
       "      <td>1.142857</td>\n",
       "      <td>0.018456</td>\n",
       "    </tr>\n",
       "    <tr>\n",
       "      <th>2979947</th>\n",
       "      <td>B09SHWTRFL</td>\n",
       "      <td>16.846737</td>\n",
       "      <td>1.098413</td>\n",
       "      <td>0.017739</td>\n",
       "    </tr>\n",
       "    <tr>\n",
       "      <th>2979944</th>\n",
       "      <td>B09SHWCDBV</td>\n",
       "      <td>16.789387</td>\n",
       "      <td>1.493590</td>\n",
       "      <td>0.024120</td>\n",
       "    </tr>\n",
       "    <tr>\n",
       "      <th>2979997</th>\n",
       "      <td>B09XBYZ5BW</td>\n",
       "      <td>16.589630</td>\n",
       "      <td>1.500000</td>\n",
       "      <td>0.024224</td>\n",
       "    </tr>\n",
       "    <tr>\n",
       "      <th>2979971</th>\n",
       "      <td>B09WKHJZ1B</td>\n",
       "      <td>16.220821</td>\n",
       "      <td>0.333333</td>\n",
       "      <td>0.005383</td>\n",
       "    </tr>\n",
       "    <tr>\n",
       "      <th>2979921</th>\n",
       "      <td>B09NRTWT85</td>\n",
       "      <td>16.217606</td>\n",
       "      <td>0.250000</td>\n",
       "      <td>0.004037</td>\n",
       "    </tr>\n",
       "    <tr>\n",
       "      <th>2980059</th>\n",
       "      <td>B0B3S5BTXH</td>\n",
       "      <td>16.145174</td>\n",
       "      <td>1.000000</td>\n",
       "      <td>0.016149</td>\n",
       "    </tr>\n",
       "    <tr>\n",
       "      <th>2980050</th>\n",
       "      <td>B0B2PYXXM7</td>\n",
       "      <td>16.128662</td>\n",
       "      <td>0.000000</td>\n",
       "      <td>0.000000</td>\n",
       "    </tr>\n",
       "    <tr>\n",
       "      <th>2980051</th>\n",
       "      <td>B0B2PZR8DS</td>\n",
       "      <td>16.092289</td>\n",
       "      <td>0.750000</td>\n",
       "      <td>0.012112</td>\n",
       "    </tr>\n",
       "    <tr>\n",
       "      <th>2979931</th>\n",
       "      <td>B09QQQJJW5</td>\n",
       "      <td>16.074348</td>\n",
       "      <td>0.000000</td>\n",
       "      <td>0.000000</td>\n",
       "    </tr>\n",
       "    <tr>\n",
       "      <th>2980023</th>\n",
       "      <td>B09YHHB8JH</td>\n",
       "      <td>15.995992</td>\n",
       "      <td>0.000000</td>\n",
       "      <td>0.000000</td>\n",
       "    </tr>\n",
       "    <tr>\n",
       "      <th>2979849</th>\n",
       "      <td>B088H46YCL</td>\n",
       "      <td>15.579678</td>\n",
       "      <td>0.253968</td>\n",
       "      <td>0.004101</td>\n",
       "    </tr>\n",
       "    <tr>\n",
       "      <th>2979950</th>\n",
       "      <td>B09SHZRR51</td>\n",
       "      <td>15.517491</td>\n",
       "      <td>2.333333</td>\n",
       "      <td>0.037682</td>\n",
       "    </tr>\n",
       "    <tr>\n",
       "      <th>2979942</th>\n",
       "      <td>B09SHVZS4M</td>\n",
       "      <td>15.455589</td>\n",
       "      <td>0.000000</td>\n",
       "      <td>0.000000</td>\n",
       "    </tr>\n",
       "  </tbody>\n",
       "</table>\n",
       "</div>"
      ],
      "text/plain": [
       "            product  sasrec_scores_2  all_items_co_graph_count_1  \\\n",
       "2980058  B0B3S4QXZ3        19.587433                    5.400000   \n",
       "2979948  B09SHX12P1        19.370029                    6.571429   \n",
       "2980034  B09ZVBXFJ2        18.312700                    1.333333   \n",
       "2979943  B09SHW3QP6        18.290028                    2.350000   \n",
       "2980035  B09ZVDCM2G        17.967262                    2.895833   \n",
       "2979911  B09NBZ82SM        17.482162                    0.000000   \n",
       "2979949  B09SHXN9T2        17.331429                    0.090909   \n",
       "2979941  B09SHVZ4DJ        17.320957                    1.833333   \n",
       "2979958  B09TPYW9C1        17.199915                    0.783333   \n",
       "2980031  B09ZJ2ZN7F        17.195761                    1.500000   \n",
       "2979946  B09SHWKFP7        17.023266                    0.791667   \n",
       "2980036  B09ZVDHR7R        16.976372                    1.142857   \n",
       "2979947  B09SHWTRFL        16.846737                    1.098413   \n",
       "2979944  B09SHWCDBV        16.789387                    1.493590   \n",
       "2979997  B09XBYZ5BW        16.589630                    1.500000   \n",
       "2979971  B09WKHJZ1B        16.220821                    0.333333   \n",
       "2979921  B09NRTWT85        16.217606                    0.250000   \n",
       "2980059  B0B3S5BTXH        16.145174                    1.000000   \n",
       "2980050  B0B2PYXXM7        16.128662                    0.000000   \n",
       "2980051  B0B2PZR8DS        16.092289                    0.750000   \n",
       "2979931  B09QQQJJW5        16.074348                    0.000000   \n",
       "2980023  B09YHHB8JH        15.995992                    0.000000   \n",
       "2979849  B088H46YCL        15.579678                    0.253968   \n",
       "2979950  B09SHZRR51        15.517491                    2.333333   \n",
       "2979942  B09SHVZS4M        15.455589                    0.000000   \n",
       "\n",
       "         normalized_all_items_co_graph_count_1  \n",
       "2980058                               0.087206  \n",
       "2979948                               0.106124  \n",
       "2980034                               0.021532  \n",
       "2979943                               0.037951  \n",
       "2980035                               0.046765  \n",
       "2979911                               0.000000  \n",
       "2979949                               0.001468  \n",
       "2979941                               0.029607  \n",
       "2979958                               0.012650  \n",
       "2980031                               0.024224  \n",
       "2979946                               0.012785  \n",
       "2980036                               0.018456  \n",
       "2979947                               0.017739  \n",
       "2979944                               0.024120  \n",
       "2979997                               0.024224  \n",
       "2979971                               0.005383  \n",
       "2979921                               0.004037  \n",
       "2980059                               0.016149  \n",
       "2980050                               0.000000  \n",
       "2980051                               0.012112  \n",
       "2979931                               0.000000  \n",
       "2980023                               0.000000  \n",
       "2979849                               0.004101  \n",
       "2979950                               0.037682  \n",
       "2979942                               0.000000  "
      ]
     },
     "execution_count": 34,
     "metadata": {},
     "output_type": "execute_result"
    }
   ],
   "source": [
    "merged_candidates_feature.query('sess_id==10000').sort_values(by=['sasrec_scores_2'], ascending=False)[['product', 'sasrec_scores_2', 'all_items_co_graph_count_1', 'normalized_all_items_co_graph_count_1']][:25]"
   ]
  },
  {
   "attachments": {},
   "cell_type": "markdown",
   "metadata": {},
   "source": [
    "## uni and dis=1"
   ]
  },
  {
   "cell_type": "code",
   "execution_count": 35,
   "metadata": {
    "execution": {
     "iopub.execute_input": "2023-06-03T05:22:36.607722Z",
     "iopub.status.busy": "2023-06-03T05:22:36.606915Z",
     "iopub.status.idle": "2023-06-03T05:23:20.017078Z",
     "shell.execute_reply": "2023-06-03T05:23:20.015725Z"
    }
   },
   "outputs": [
    {
     "name": "stderr",
     "output_type": "stream",
     "text": [
      "100%|████████████████████████████████████████████████████████████████████████████████████████████████████████████████████████████████| 3966659/3966659 [00:43<00:00, 91402.45it/s]\n"
     ]
    }
   ],
   "source": [
    "# max dis = 1 \n",
    "# co_occurence_dict_bi_dis1 = get_co_occurence_dict(train_sess_item + valid_sess_item, bidirection=True, weighted=False, max_dis=1)\n",
    "co_occurence_dict_uni_dis1 = get_co_occurence_dict(train_sess_item, bidirection=False, weighted=False, max_dis=1)"
   ]
  },
  {
   "cell_type": "code",
   "execution_count": 36,
   "metadata": {
    "execution": {
     "iopub.execute_input": "2023-06-03T05:23:20.024133Z",
     "iopub.status.busy": "2023-06-03T05:23:20.023149Z",
     "iopub.status.idle": "2023-06-03T05:23:25.068249Z",
     "shell.execute_reply": "2023-06-03T05:23:25.067571Z"
    }
   },
   "outputs": [],
   "source": [
    "merged_candidates = merged_candidates_feature[['sess_id', 'sess_locale', 'product']]"
   ]
  },
  {
   "cell_type": "code",
   "execution_count": 37,
   "metadata": {
    "execution": {
     "iopub.execute_input": "2023-06-03T05:23:25.075096Z",
     "iopub.status.busy": "2023-06-03T05:23:25.074631Z",
     "iopub.status.idle": "2023-06-03T05:23:25.080949Z",
     "shell.execute_reply": "2023-06-03T05:23:25.080156Z"
    }
   },
   "outputs": [],
   "source": [
    "# only one arg, can't use another arg\n",
    "def get_uni_dis1_valid_session_co_graph_candidates(sess_id):\n",
    "    sess = valid_sess_item[sess_id]\n",
    "    prev_items = set()\n",
    "    cand_counter = Counter()\n",
    "    for item in sess:\n",
    "        if item in co_occurence_dict_uni_dis1 and item not in prev_items:\n",
    "            cand_counter = cand_counter + co_occurence_dict_uni_dis1[item]\n",
    "            prev_items.add(item) # one time for every item\n",
    "    for item in sess:\n",
    "        if item in cand_counter:\n",
    "            cand_counter.pop(item) # remove history items \n",
    "    \n",
    "    return cand_counter"
   ]
  },
  {
   "cell_type": "code",
   "execution_count": 38,
   "metadata": {
    "execution": {
     "iopub.execute_input": "2023-06-03T05:23:25.089189Z",
     "iopub.status.busy": "2023-06-03T05:23:25.088760Z",
     "iopub.status.idle": "2023-06-03T05:23:25.154091Z",
     "shell.execute_reply": "2023-06-03T05:23:25.153159Z"
    }
   },
   "outputs": [],
   "source": [
    "valid_co_graph_candidates = TFDataset.from_dict({'sess_id' : list(range(valid_sess_data.shape[0]))})"
   ]
  },
  {
   "cell_type": "code",
   "execution_count": 39,
   "metadata": {
    "execution": {
     "iopub.execute_input": "2023-06-03T05:23:25.158289Z",
     "iopub.status.busy": "2023-06-03T05:23:25.157865Z",
     "iopub.status.idle": "2023-06-03T05:23:53.319973Z",
     "shell.execute_reply": "2023-06-03T05:23:53.318439Z"
    }
   },
   "outputs": [],
   "source": [
    "# about 1 mins\n",
    "sess_ids = list(range(len(valid_sess_item)))\n",
    "pool = multiprocessing.Pool(10)\n",
    "uni_dis1_valid_sessions_counter = pool.map(get_uni_dis1_valid_session_co_graph_candidates, sess_ids)"
   ]
  },
  {
   "cell_type": "code",
   "execution_count": 40,
   "metadata": {
    "execution": {
     "iopub.execute_input": "2023-06-03T05:23:53.325631Z",
     "iopub.status.busy": "2023-06-03T05:23:53.324969Z",
     "iopub.status.idle": "2023-06-03T05:23:53.335543Z",
     "shell.execute_reply": "2023-06-03T05:23:53.334904Z"
    }
   },
   "outputs": [
    {
     "data": {
      "text/plain": [
       "(Dataset({\n",
       "     features: ['sess_id'],\n",
       "     num_rows: 261816\n",
       " }),\n",
       " 261816)"
      ]
     },
     "execution_count": 40,
     "metadata": {},
     "output_type": "execute_result"
    }
   ],
   "source": [
    "valid_co_graph_candidates, len(uni_dis1_valid_sessions_counter)"
   ]
  },
  {
   "cell_type": "code",
   "execution_count": 41,
   "metadata": {
    "execution": {
     "iopub.execute_input": "2023-06-03T05:23:53.342335Z",
     "iopub.status.busy": "2023-06-03T05:23:53.341919Z",
     "iopub.status.idle": "2023-06-03T05:26:40.132674Z",
     "shell.execute_reply": "2023-06-03T05:26:40.131745Z"
    }
   },
   "outputs": [
    {
     "name": "stderr",
     "output_type": "stream",
     "text": [
      "100%|█████████████████████████████████████████████████████████████████████████████████████████████████████████████████████████████| 78842199/78842199 [02:22<00:00, 553277.11it/s]\n",
      "/tmp/ipykernel_108423/3640618043.py:5: SettingWithCopyWarning: \n",
      "A value is trying to be set on a copy of a slice from a DataFrame.\n",
      "Try using .loc[row_indexer,col_indexer] = value instead\n",
      "\n",
      "See the caveats in the documentation: https://pandas.pydata.org/pandas-docs/stable/user_guide/indexing.html#returning-a-view-versus-a-copy\n",
      "  merged_candidates['all_items_co_graph_count_2'] = all_items_co_graph_count_list\n"
     ]
    }
   ],
   "source": [
    "all_items_co_graph_count_list = []\n",
    "for row in tqdm(merged_candidates.itertuples(), total=merged_candidates.shape[0]):\n",
    "    all_items_co_graph_count_list.append(uni_dis1_valid_sessions_counter[row.sess_id][row.product])\n",
    "assert len(all_items_co_graph_count_list) == merged_candidates.shape[0]\n",
    "merged_candidates['all_items_co_graph_count_2'] = all_items_co_graph_count_list"
   ]
  },
  {
   "cell_type": "code",
   "execution_count": 42,
   "metadata": {
    "execution": {
     "iopub.execute_input": "2023-06-03T05:26:40.177555Z",
     "iopub.status.busy": "2023-06-03T05:26:40.138828Z",
     "iopub.status.idle": "2023-06-03T05:26:45.550936Z",
     "shell.execute_reply": "2023-06-03T05:26:45.550082Z"
    }
   },
   "outputs": [
    {
     "name": "stderr",
     "output_type": "stream",
     "text": [
      "/tmp/ipykernel_108423/2314243688.py:3: SettingWithCopyWarning: \n",
      "A value is trying to be set on a copy of a slice from a DataFrame.\n",
      "Try using .loc[row_indexer,col_indexer] = value instead\n",
      "\n",
      "See the caveats in the documentation: https://pandas.pydata.org/pandas-docs/stable/user_guide/indexing.html#returning-a-view-versus-a-copy\n",
      "  merged_candidates['normalized_all_items_co_graph_count_2'] = count_sum_array[merged_candidates['sess_id']]\n",
      "/tmp/ipykernel_108423/2314243688.py:4: SettingWithCopyWarning: \n",
      "A value is trying to be set on a copy of a slice from a DataFrame.\n",
      "Try using .loc[row_indexer,col_indexer] = value instead\n",
      "\n",
      "See the caveats in the documentation: https://pandas.pydata.org/pandas-docs/stable/user_guide/indexing.html#returning-a-view-versus-a-copy\n",
      "  merged_candidates['normalized_all_items_co_graph_count_2'] = merged_candidates['all_items_co_graph_count_2'] / merged_candidates['normalized_all_items_co_graph_count_2']\n"
     ]
    }
   ],
   "source": [
    "count_sum_array = merged_candidates.groupby(by='sess_id')['all_items_co_graph_count_2'].sum().to_numpy()\n",
    "assert len(count_sum_array[merged_candidates['sess_id']]) == merged_candidates.shape[0]\n",
    "merged_candidates['normalized_all_items_co_graph_count_2'] = count_sum_array[merged_candidates['sess_id']]\n",
    "merged_candidates['normalized_all_items_co_graph_count_2'] = merged_candidates['all_items_co_graph_count_2'] / merged_candidates['normalized_all_items_co_graph_count_2']"
   ]
  },
  {
   "cell_type": "code",
   "execution_count": 43,
   "metadata": {
    "execution": {
     "iopub.execute_input": "2023-06-03T05:26:45.554524Z",
     "iopub.status.busy": "2023-06-03T05:26:45.554188Z",
     "iopub.status.idle": "2023-06-03T05:26:59.630382Z",
     "shell.execute_reply": "2023-06-03T05:26:59.628739Z"
    }
   },
   "outputs": [],
   "source": [
    "merged_candidates_feature['normalized_all_items_co_graph_count_2'] = merged_candidates['normalized_all_items_co_graph_count_2']\n",
    "merged_candidates_feature['all_items_co_graph_count_2'] = merged_candidates['all_items_co_graph_count_2']"
   ]
  },
  {
   "cell_type": "code",
   "execution_count": 44,
   "metadata": {
    "execution": {
     "iopub.execute_input": "2023-06-03T05:26:59.637264Z",
     "iopub.status.busy": "2023-06-03T05:26:59.636439Z",
     "iopub.status.idle": "2023-06-03T05:27:08.888594Z",
     "shell.execute_reply": "2023-06-03T05:27:08.887770Z"
    }
   },
   "outputs": [
    {
     "data": {
      "text/html": [
       "<div>\n",
       "<style scoped>\n",
       "    .dataframe tbody tr th:only-of-type {\n",
       "        vertical-align: middle;\n",
       "    }\n",
       "\n",
       "    .dataframe tbody tr th {\n",
       "        vertical-align: top;\n",
       "    }\n",
       "\n",
       "    .dataframe thead th {\n",
       "        text-align: right;\n",
       "    }\n",
       "</style>\n",
       "<table border=\"1\" class=\"dataframe\">\n",
       "  <thead>\n",
       "    <tr style=\"text-align: right;\">\n",
       "      <th></th>\n",
       "      <th>product</th>\n",
       "      <th>sasrec_scores_2</th>\n",
       "      <th>all_items_co_graph_count_2</th>\n",
       "      <th>normalized_all_items_co_graph_count_2</th>\n",
       "    </tr>\n",
       "  </thead>\n",
       "  <tbody>\n",
       "    <tr>\n",
       "      <th>45142626</th>\n",
       "      <td>B0B7B23YVQ</td>\n",
       "      <td>28.060143</td>\n",
       "      <td>39</td>\n",
       "      <td>0.520000</td>\n",
       "    </tr>\n",
       "    <tr>\n",
       "      <th>45142631</th>\n",
       "      <td>B0BBCMLDST</td>\n",
       "      <td>23.405308</td>\n",
       "      <td>8</td>\n",
       "      <td>0.106667</td>\n",
       "    </tr>\n",
       "    <tr>\n",
       "      <th>45142497</th>\n",
       "      <td>B01EDPMBSG</td>\n",
       "      <td>22.769426</td>\n",
       "      <td>7</td>\n",
       "      <td>0.093333</td>\n",
       "    </tr>\n",
       "    <tr>\n",
       "      <th>45142577</th>\n",
       "      <td>B09NTH72XH</td>\n",
       "      <td>20.928736</td>\n",
       "      <td>1</td>\n",
       "      <td>0.013333</td>\n",
       "    </tr>\n",
       "    <tr>\n",
       "      <th>45142620</th>\n",
       "      <td>B0B54ZNRP6</td>\n",
       "      <td>20.475601</td>\n",
       "      <td>4</td>\n",
       "      <td>0.053333</td>\n",
       "    </tr>\n",
       "    <tr>\n",
       "      <th>45142492</th>\n",
       "      <td>B013OKHAW8</td>\n",
       "      <td>18.864086</td>\n",
       "      <td>0</td>\n",
       "      <td>0.000000</td>\n",
       "    </tr>\n",
       "    <tr>\n",
       "      <th>45142551</th>\n",
       "      <td>B08D3LQW35</td>\n",
       "      <td>18.545700</td>\n",
       "      <td>0</td>\n",
       "      <td>0.000000</td>\n",
       "    </tr>\n",
       "    <tr>\n",
       "      <th>45142539</th>\n",
       "      <td>B07VNZVSLZ</td>\n",
       "      <td>18.489300</td>\n",
       "      <td>1</td>\n",
       "      <td>0.013333</td>\n",
       "    </tr>\n",
       "    <tr>\n",
       "      <th>45142526</th>\n",
       "      <td>B07PTH96MQ</td>\n",
       "      <td>18.476040</td>\n",
       "      <td>0</td>\n",
       "      <td>0.000000</td>\n",
       "    </tr>\n",
       "    <tr>\n",
       "      <th>45142489</th>\n",
       "      <td>B00NC4IGU2</td>\n",
       "      <td>18.374432</td>\n",
       "      <td>0</td>\n",
       "      <td>0.000000</td>\n",
       "    </tr>\n",
       "    <tr>\n",
       "      <th>45142582</th>\n",
       "      <td>B09PJDK45T</td>\n",
       "      <td>18.371792</td>\n",
       "      <td>0</td>\n",
       "      <td>0.000000</td>\n",
       "    </tr>\n",
       "    <tr>\n",
       "      <th>45142495</th>\n",
       "      <td>B01B72ILPK</td>\n",
       "      <td>18.136837</td>\n",
       "      <td>0</td>\n",
       "      <td>0.000000</td>\n",
       "    </tr>\n",
       "    <tr>\n",
       "      <th>45142578</th>\n",
       "      <td>B09P6M8F12</td>\n",
       "      <td>18.055817</td>\n",
       "      <td>0</td>\n",
       "      <td>0.000000</td>\n",
       "    </tr>\n",
       "    <tr>\n",
       "      <th>45142637</th>\n",
       "      <td>B0BBTRYQ7R</td>\n",
       "      <td>18.029490</td>\n",
       "      <td>0</td>\n",
       "      <td>0.000000</td>\n",
       "    </tr>\n",
       "    <tr>\n",
       "      <th>45142540</th>\n",
       "      <td>B07VSHP5T7</td>\n",
       "      <td>17.958929</td>\n",
       "      <td>0</td>\n",
       "      <td>0.000000</td>\n",
       "    </tr>\n",
       "    <tr>\n",
       "      <th>45142584</th>\n",
       "      <td>B09Q34Q5DM</td>\n",
       "      <td>17.929092</td>\n",
       "      <td>0</td>\n",
       "      <td>0.000000</td>\n",
       "    </tr>\n",
       "    <tr>\n",
       "      <th>45142641</th>\n",
       "      <td>B0BFHQSR4S</td>\n",
       "      <td>17.610203</td>\n",
       "      <td>1</td>\n",
       "      <td>0.013333</td>\n",
       "    </tr>\n",
       "    <tr>\n",
       "      <th>45142515</th>\n",
       "      <td>B07MGGSL9M</td>\n",
       "      <td>17.480473</td>\n",
       "      <td>0</td>\n",
       "      <td>0.000000</td>\n",
       "    </tr>\n",
       "    <tr>\n",
       "      <th>45142629</th>\n",
       "      <td>B0B7RNZZGQ</td>\n",
       "      <td>17.389351</td>\n",
       "      <td>0</td>\n",
       "      <td>0.000000</td>\n",
       "    </tr>\n",
       "    <tr>\n",
       "      <th>45142487</th>\n",
       "      <td>B00JBR8TH4</td>\n",
       "      <td>17.383636</td>\n",
       "      <td>0</td>\n",
       "      <td>0.000000</td>\n",
       "    </tr>\n",
       "    <tr>\n",
       "      <th>45142579</th>\n",
       "      <td>B09PCZCV25</td>\n",
       "      <td>17.085217</td>\n",
       "      <td>1</td>\n",
       "      <td>0.013333</td>\n",
       "    </tr>\n",
       "    <tr>\n",
       "      <th>45142594</th>\n",
       "      <td>B09XK6CP9R</td>\n",
       "      <td>17.078754</td>\n",
       "      <td>0</td>\n",
       "      <td>0.000000</td>\n",
       "    </tr>\n",
       "    <tr>\n",
       "      <th>45142517</th>\n",
       "      <td>B07MTG1J5B</td>\n",
       "      <td>17.051071</td>\n",
       "      <td>0</td>\n",
       "      <td>0.000000</td>\n",
       "    </tr>\n",
       "    <tr>\n",
       "      <th>45142633</th>\n",
       "      <td>B0BBF6YKKF</td>\n",
       "      <td>17.037821</td>\n",
       "      <td>3</td>\n",
       "      <td>0.040000</td>\n",
       "    </tr>\n",
       "    <tr>\n",
       "      <th>45142556</th>\n",
       "      <td>B08H12YBLR</td>\n",
       "      <td>16.902233</td>\n",
       "      <td>0</td>\n",
       "      <td>0.000000</td>\n",
       "    </tr>\n",
       "  </tbody>\n",
       "</table>\n",
       "</div>"
      ],
      "text/plain": [
       "             product  sasrec_scores_2  all_items_co_graph_count_2  \\\n",
       "45142626  B0B7B23YVQ        28.060143                          39   \n",
       "45142631  B0BBCMLDST        23.405308                           8   \n",
       "45142497  B01EDPMBSG        22.769426                           7   \n",
       "45142577  B09NTH72XH        20.928736                           1   \n",
       "45142620  B0B54ZNRP6        20.475601                           4   \n",
       "45142492  B013OKHAW8        18.864086                           0   \n",
       "45142551  B08D3LQW35        18.545700                           0   \n",
       "45142539  B07VNZVSLZ        18.489300                           1   \n",
       "45142526  B07PTH96MQ        18.476040                           0   \n",
       "45142489  B00NC4IGU2        18.374432                           0   \n",
       "45142582  B09PJDK45T        18.371792                           0   \n",
       "45142495  B01B72ILPK        18.136837                           0   \n",
       "45142578  B09P6M8F12        18.055817                           0   \n",
       "45142637  B0BBTRYQ7R        18.029490                           0   \n",
       "45142540  B07VSHP5T7        17.958929                           0   \n",
       "45142584  B09Q34Q5DM        17.929092                           0   \n",
       "45142641  B0BFHQSR4S        17.610203                           1   \n",
       "45142515  B07MGGSL9M        17.480473                           0   \n",
       "45142629  B0B7RNZZGQ        17.389351                           0   \n",
       "45142487  B00JBR8TH4        17.383636                           0   \n",
       "45142579  B09PCZCV25        17.085217                           1   \n",
       "45142594  B09XK6CP9R        17.078754                           0   \n",
       "45142517  B07MTG1J5B        17.051071                           0   \n",
       "45142633  B0BBF6YKKF        17.037821                           3   \n",
       "45142556  B08H12YBLR        16.902233                           0   \n",
       "\n",
       "          normalized_all_items_co_graph_count_2  \n",
       "45142626                               0.520000  \n",
       "45142631                               0.106667  \n",
       "45142497                               0.093333  \n",
       "45142577                               0.013333  \n",
       "45142620                               0.053333  \n",
       "45142492                               0.000000  \n",
       "45142551                               0.000000  \n",
       "45142539                               0.013333  \n",
       "45142526                               0.000000  \n",
       "45142489                               0.000000  \n",
       "45142582                               0.000000  \n",
       "45142495                               0.000000  \n",
       "45142578                               0.000000  \n",
       "45142637                               0.000000  \n",
       "45142540                               0.000000  \n",
       "45142584                               0.000000  \n",
       "45142641                               0.013333  \n",
       "45142515                               0.000000  \n",
       "45142629                               0.000000  \n",
       "45142487                               0.000000  \n",
       "45142579                               0.013333  \n",
       "45142594                               0.000000  \n",
       "45142517                               0.000000  \n",
       "45142633                               0.040000  \n",
       "45142556                               0.000000  "
      ]
     },
     "execution_count": 44,
     "metadata": {},
     "output_type": "execute_result"
    }
   ],
   "source": [
    "merged_candidates_feature.query('sess_id==150000').sort_values(by=['sasrec_scores_2'], ascending=False)[['product', 'sasrec_scores_2', 'all_items_co_graph_count_2', 'normalized_all_items_co_graph_count_2']][:25]"
   ]
  },
  {
   "cell_type": "code",
   "execution_count": 45,
   "metadata": {
    "execution": {
     "iopub.execute_input": "2023-06-03T05:27:08.896079Z",
     "iopub.status.busy": "2023-06-03T05:27:08.895640Z",
     "iopub.status.idle": "2023-06-03T05:28:29.733013Z",
     "shell.execute_reply": "2023-06-03T05:28:29.730994Z"
    }
   },
   "outputs": [],
   "source": [
    "cast_dtype(merged_candidates_feature, \n",
    "           ['all_items_co_graph_count_0', 'normalized_all_items_co_graph_count_0', 'all_items_co_graph_count_1', 'normalized_all_items_co_graph_count_1', 'all_items_co_graph_count_2', 'normalized_all_items_co_graph_count_2'])\n",
    "merged_candidates_feature.to_parquet(merged_candidates_feature_path, engine='pyarrow')"
   ]
  },
  {
   "cell_type": "code",
   "execution_count": 46,
   "metadata": {
    "execution": {
     "iopub.execute_input": "2023-06-03T05:28:29.739495Z",
     "iopub.status.busy": "2023-06-03T05:28:29.738874Z",
     "iopub.status.idle": "2023-06-03T05:29:12.303476Z",
     "shell.execute_reply": "2023-06-03T05:29:12.302231Z"
    }
   },
   "outputs": [
    {
     "data": {
      "text/html": [
       "<div>\n",
       "<style scoped>\n",
       "    .dataframe tbody tr th:only-of-type {\n",
       "        vertical-align: middle;\n",
       "    }\n",
       "\n",
       "    .dataframe tbody tr th {\n",
       "        vertical-align: top;\n",
       "    }\n",
       "\n",
       "    .dataframe thead th {\n",
       "        text-align: right;\n",
       "    }\n",
       "</style>\n",
       "<table border=\"1\" class=\"dataframe\">\n",
       "  <thead>\n",
       "    <tr style=\"text-align: right;\">\n",
       "      <th></th>\n",
       "      <th>sess_id</th>\n",
       "      <th>sess_locale</th>\n",
       "      <th>product</th>\n",
       "      <th>target</th>\n",
       "      <th>sess_avg_price</th>\n",
       "      <th>product_price</th>\n",
       "      <th>sasrec_scores_3</th>\n",
       "      <th>normalized_sasrec_scores_3</th>\n",
       "      <th>sasrec_scores_2</th>\n",
       "      <th>normalized_sasrec_scores_2</th>\n",
       "      <th>...</th>\n",
       "      <th>co_graph_counts_1</th>\n",
       "      <th>normalized_co_graph_counts_1</th>\n",
       "      <th>co_graph_counts_2</th>\n",
       "      <th>normalized_co_graph_counts_2</th>\n",
       "      <th>cos_text_bert_scores</th>\n",
       "      <th>text_bert_scores</th>\n",
       "      <th>normalized_text_bert_scores</th>\n",
       "      <th>roberta_scores</th>\n",
       "      <th>normalized_roberta_scores</th>\n",
       "      <th>product_freq</th>\n",
       "    </tr>\n",
       "  </thead>\n",
       "  <tbody>\n",
       "    <tr>\n",
       "      <th>0</th>\n",
       "      <td>0</td>\n",
       "      <td>DE</td>\n",
       "      <td>355165591X</td>\n",
       "      <td>0.0</td>\n",
       "      <td>43.256542</td>\n",
       "      <td>8.990000</td>\n",
       "      <td>2.230508</td>\n",
       "      <td>7.658405e-09</td>\n",
       "      <td>0.512931</td>\n",
       "      <td>1.377575e-09</td>\n",
       "      <td>...</td>\n",
       "      <td>0.000000</td>\n",
       "      <td>0.00000</td>\n",
       "      <td>0.0</td>\n",
       "      <td>0.000000</td>\n",
       "      <td>0.903757</td>\n",
       "      <td>378.286041</td>\n",
       "      <td>1.296655e-08</td>\n",
       "      <td>276.525787</td>\n",
       "      <td>7.975509e-07</td>\n",
       "      <td>48.0</td>\n",
       "    </tr>\n",
       "    <tr>\n",
       "      <th>1</th>\n",
       "      <td>0</td>\n",
       "      <td>DE</td>\n",
       "      <td>3833237058</td>\n",
       "      <td>0.0</td>\n",
       "      <td>43.256542</td>\n",
       "      <td>22.000000</td>\n",
       "      <td>9.605231</td>\n",
       "      <td>1.221631e-05</td>\n",
       "      <td>9.325538</td>\n",
       "      <td>9.255110e-06</td>\n",
       "      <td>...</td>\n",
       "      <td>0.090909</td>\n",
       "      <td>0.00083</td>\n",
       "      <td>0.0</td>\n",
       "      <td>0.000000</td>\n",
       "      <td>0.921604</td>\n",
       "      <td>387.624756</td>\n",
       "      <td>1.474268e-04</td>\n",
       "      <td>284.460052</td>\n",
       "      <td>2.226209e-03</td>\n",
       "      <td>80.0</td>\n",
       "    </tr>\n",
       "    <tr>\n",
       "      <th>2</th>\n",
       "      <td>0</td>\n",
       "      <td>DE</td>\n",
       "      <td>B00CIXSI6U</td>\n",
       "      <td>0.0</td>\n",
       "      <td>43.256542</td>\n",
       "      <td>6.470000</td>\n",
       "      <td>0.714114</td>\n",
       "      <td>1.681035e-09</td>\n",
       "      <td>-0.115904</td>\n",
       "      <td>7.345399e-10</td>\n",
       "      <td>...</td>\n",
       "      <td>0.000000</td>\n",
       "      <td>0.00000</td>\n",
       "      <td>0.0</td>\n",
       "      <td>0.000000</td>\n",
       "      <td>0.901061</td>\n",
       "      <td>374.802551</td>\n",
       "      <td>3.980740e-10</td>\n",
       "      <td>278.039612</td>\n",
       "      <td>3.624132e-06</td>\n",
       "      <td>7.0</td>\n",
       "    </tr>\n",
       "    <tr>\n",
       "      <th>3</th>\n",
       "      <td>0</td>\n",
       "      <td>DE</td>\n",
       "      <td>B00NVDOWUW</td>\n",
       "      <td>0.0</td>\n",
       "      <td>43.256542</td>\n",
       "      <td>11.990000</td>\n",
       "      <td>8.750996</td>\n",
       "      <td>5.199363e-06</td>\n",
       "      <td>8.507557</td>\n",
       "      <td>4.084482e-06</td>\n",
       "      <td>...</td>\n",
       "      <td>0.000000</td>\n",
       "      <td>0.00000</td>\n",
       "      <td>0.0</td>\n",
       "      <td>0.000000</td>\n",
       "      <td>0.927298</td>\n",
       "      <td>385.701782</td>\n",
       "      <td>2.154962e-05</td>\n",
       "      <td>285.239197</td>\n",
       "      <td>4.852260e-03</td>\n",
       "      <td>155.0</td>\n",
       "    </tr>\n",
       "    <tr>\n",
       "      <th>4</th>\n",
       "      <td>0</td>\n",
       "      <td>DE</td>\n",
       "      <td>B00NVDP3ZU</td>\n",
       "      <td>0.0</td>\n",
       "      <td>43.256542</td>\n",
       "      <td>22.990000</td>\n",
       "      <td>8.056712</td>\n",
       "      <td>2.596729e-06</td>\n",
       "      <td>5.898870</td>\n",
       "      <td>3.007453e-07</td>\n",
       "      <td>...</td>\n",
       "      <td>0.000000</td>\n",
       "      <td>0.00000</td>\n",
       "      <td>0.0</td>\n",
       "      <td>0.000000</td>\n",
       "      <td>0.930655</td>\n",
       "      <td>385.398499</td>\n",
       "      <td>1.591202e-05</td>\n",
       "      <td>284.763611</td>\n",
       "      <td>3.015780e-03</td>\n",
       "      <td>462.0</td>\n",
       "    </tr>\n",
       "    <tr>\n",
       "      <th>...</th>\n",
       "      <td>...</td>\n",
       "      <td>...</td>\n",
       "      <td>...</td>\n",
       "      <td>...</td>\n",
       "      <td>...</td>\n",
       "      <td>...</td>\n",
       "      <td>...</td>\n",
       "      <td>...</td>\n",
       "      <td>...</td>\n",
       "      <td>...</td>\n",
       "      <td>...</td>\n",
       "      <td>...</td>\n",
       "      <td>...</td>\n",
       "      <td>...</td>\n",
       "      <td>...</td>\n",
       "      <td>...</td>\n",
       "      <td>...</td>\n",
       "      <td>...</td>\n",
       "      <td>...</td>\n",
       "      <td>...</td>\n",
       "      <td>...</td>\n",
       "    </tr>\n",
       "    <tr>\n",
       "      <th>78842194</th>\n",
       "      <td>261815</td>\n",
       "      <td>UK</td>\n",
       "      <td>B0BCX524Y6</td>\n",
       "      <td>0.0</td>\n",
       "      <td>9.383333</td>\n",
       "      <td>16.990000</td>\n",
       "      <td>6.813615</td>\n",
       "      <td>1.076201e-03</td>\n",
       "      <td>7.203015</td>\n",
       "      <td>4.597607e-04</td>\n",
       "      <td>...</td>\n",
       "      <td>0.000000</td>\n",
       "      <td>0.00000</td>\n",
       "      <td>0.0</td>\n",
       "      <td>0.000000</td>\n",
       "      <td>0.972680</td>\n",
       "      <td>438.956238</td>\n",
       "      <td>1.636532e-04</td>\n",
       "      <td>281.902344</td>\n",
       "      <td>1.476179e-04</td>\n",
       "      <td>7.0</td>\n",
       "    </tr>\n",
       "    <tr>\n",
       "      <th>78842195</th>\n",
       "      <td>261815</td>\n",
       "      <td>UK</td>\n",
       "      <td>B0BCX6QB4L</td>\n",
       "      <td>0.0</td>\n",
       "      <td>9.383333</td>\n",
       "      <td>10.990000</td>\n",
       "      <td>9.030836</td>\n",
       "      <td>9.881445e-03</td>\n",
       "      <td>10.123234</td>\n",
       "      <td>8.526421e-03</td>\n",
       "      <td>...</td>\n",
       "      <td>4.250000</td>\n",
       "      <td>0.01369</td>\n",
       "      <td>2.0</td>\n",
       "      <td>0.010638</td>\n",
       "      <td>0.972680</td>\n",
       "      <td>438.956238</td>\n",
       "      <td>1.636532e-04</td>\n",
       "      <td>281.902344</td>\n",
       "      <td>1.476179e-04</td>\n",
       "      <td>51.0</td>\n",
       "    </tr>\n",
       "    <tr>\n",
       "      <th>78842196</th>\n",
       "      <td>261815</td>\n",
       "      <td>UK</td>\n",
       "      <td>B0BFPJYXQL</td>\n",
       "      <td>0.0</td>\n",
       "      <td>9.383333</td>\n",
       "      <td>10.560000</td>\n",
       "      <td>0.796892</td>\n",
       "      <td>2.623396e-06</td>\n",
       "      <td>1.711608</td>\n",
       "      <td>1.895152e-06</td>\n",
       "      <td>...</td>\n",
       "      <td>0.000000</td>\n",
       "      <td>0.00000</td>\n",
       "      <td>0.0</td>\n",
       "      <td>0.000000</td>\n",
       "      <td>0.953467</td>\n",
       "      <td>430.164368</td>\n",
       "      <td>2.486932e-08</td>\n",
       "      <td>283.306732</td>\n",
       "      <td>6.012531e-04</td>\n",
       "      <td>7.0</td>\n",
       "    </tr>\n",
       "    <tr>\n",
       "      <th>78842197</th>\n",
       "      <td>261815</td>\n",
       "      <td>UK</td>\n",
       "      <td>B0BH3X67S3</td>\n",
       "      <td>0.0</td>\n",
       "      <td>9.383333</td>\n",
       "      <td>6.830000</td>\n",
       "      <td>4.250781</td>\n",
       "      <td>8.296004e-05</td>\n",
       "      <td>6.447586</td>\n",
       "      <td>2.159998e-04</td>\n",
       "      <td>...</td>\n",
       "      <td>0.000000</td>\n",
       "      <td>0.00000</td>\n",
       "      <td>0.0</td>\n",
       "      <td>0.000000</td>\n",
       "      <td>0.961829</td>\n",
       "      <td>434.029083</td>\n",
       "      <td>1.186011e-06</td>\n",
       "      <td>273.954742</td>\n",
       "      <td>5.218429e-08</td>\n",
       "      <td>37.0</td>\n",
       "    </tr>\n",
       "    <tr>\n",
       "      <th>78842198</th>\n",
       "      <td>261815</td>\n",
       "      <td>UK</td>\n",
       "      <td>B0BH5MJGGB</td>\n",
       "      <td>0.0</td>\n",
       "      <td>9.383333</td>\n",
       "      <td>22.097065</td>\n",
       "      <td>-0.310635</td>\n",
       "      <td>8.667048e-07</td>\n",
       "      <td>1.264672</td>\n",
       "      <td>1.212111e-06</td>\n",
       "      <td>...</td>\n",
       "      <td>0.000000</td>\n",
       "      <td>0.00000</td>\n",
       "      <td>0.0</td>\n",
       "      <td>0.000000</td>\n",
       "      <td>0.957924</td>\n",
       "      <td>432.794434</td>\n",
       "      <td>3.450540e-07</td>\n",
       "      <td>278.165314</td>\n",
       "      <td>3.516962e-06</td>\n",
       "      <td>30.0</td>\n",
       "    </tr>\n",
       "  </tbody>\n",
       "</table>\n",
       "<p>78842199 rows × 36 columns</p>\n",
       "</div>"
      ],
      "text/plain": [
       "          sess_id sess_locale     product  target  sess_avg_price  \\\n",
       "0               0          DE  355165591X     0.0       43.256542   \n",
       "1               0          DE  3833237058     0.0       43.256542   \n",
       "2               0          DE  B00CIXSI6U     0.0       43.256542   \n",
       "3               0          DE  B00NVDOWUW     0.0       43.256542   \n",
       "4               0          DE  B00NVDP3ZU     0.0       43.256542   \n",
       "...           ...         ...         ...     ...             ...   \n",
       "78842194   261815          UK  B0BCX524Y6     0.0        9.383333   \n",
       "78842195   261815          UK  B0BCX6QB4L     0.0        9.383333   \n",
       "78842196   261815          UK  B0BFPJYXQL     0.0        9.383333   \n",
       "78842197   261815          UK  B0BH3X67S3     0.0        9.383333   \n",
       "78842198   261815          UK  B0BH5MJGGB     0.0        9.383333   \n",
       "\n",
       "          product_price  sasrec_scores_3  normalized_sasrec_scores_3  \\\n",
       "0              8.990000         2.230508                7.658405e-09   \n",
       "1             22.000000         9.605231                1.221631e-05   \n",
       "2              6.470000         0.714114                1.681035e-09   \n",
       "3             11.990000         8.750996                5.199363e-06   \n",
       "4             22.990000         8.056712                2.596729e-06   \n",
       "...                 ...              ...                         ...   \n",
       "78842194      16.990000         6.813615                1.076201e-03   \n",
       "78842195      10.990000         9.030836                9.881445e-03   \n",
       "78842196      10.560000         0.796892                2.623396e-06   \n",
       "78842197       6.830000         4.250781                8.296004e-05   \n",
       "78842198      22.097065        -0.310635                8.667048e-07   \n",
       "\n",
       "          sasrec_scores_2  normalized_sasrec_scores_2  ...  co_graph_counts_1  \\\n",
       "0                0.512931                1.377575e-09  ...           0.000000   \n",
       "1                9.325538                9.255110e-06  ...           0.090909   \n",
       "2               -0.115904                7.345399e-10  ...           0.000000   \n",
       "3                8.507557                4.084482e-06  ...           0.000000   \n",
       "4                5.898870                3.007453e-07  ...           0.000000   \n",
       "...                   ...                         ...  ...                ...   \n",
       "78842194         7.203015                4.597607e-04  ...           0.000000   \n",
       "78842195        10.123234                8.526421e-03  ...           4.250000   \n",
       "78842196         1.711608                1.895152e-06  ...           0.000000   \n",
       "78842197         6.447586                2.159998e-04  ...           0.000000   \n",
       "78842198         1.264672                1.212111e-06  ...           0.000000   \n",
       "\n",
       "          normalized_co_graph_counts_1  co_graph_counts_2  \\\n",
       "0                              0.00000                0.0   \n",
       "1                              0.00083                0.0   \n",
       "2                              0.00000                0.0   \n",
       "3                              0.00000                0.0   \n",
       "4                              0.00000                0.0   \n",
       "...                                ...                ...   \n",
       "78842194                       0.00000                0.0   \n",
       "78842195                       0.01369                2.0   \n",
       "78842196                       0.00000                0.0   \n",
       "78842197                       0.00000                0.0   \n",
       "78842198                       0.00000                0.0   \n",
       "\n",
       "          normalized_co_graph_counts_2  cos_text_bert_scores  \\\n",
       "0                             0.000000              0.903757   \n",
       "1                             0.000000              0.921604   \n",
       "2                             0.000000              0.901061   \n",
       "3                             0.000000              0.927298   \n",
       "4                             0.000000              0.930655   \n",
       "...                                ...                   ...   \n",
       "78842194                      0.000000              0.972680   \n",
       "78842195                      0.010638              0.972680   \n",
       "78842196                      0.000000              0.953467   \n",
       "78842197                      0.000000              0.961829   \n",
       "78842198                      0.000000              0.957924   \n",
       "\n",
       "          text_bert_scores  normalized_text_bert_scores  roberta_scores  \\\n",
       "0               378.286041                 1.296655e-08      276.525787   \n",
       "1               387.624756                 1.474268e-04      284.460052   \n",
       "2               374.802551                 3.980740e-10      278.039612   \n",
       "3               385.701782                 2.154962e-05      285.239197   \n",
       "4               385.398499                 1.591202e-05      284.763611   \n",
       "...                    ...                          ...             ...   \n",
       "78842194        438.956238                 1.636532e-04      281.902344   \n",
       "78842195        438.956238                 1.636532e-04      281.902344   \n",
       "78842196        430.164368                 2.486932e-08      283.306732   \n",
       "78842197        434.029083                 1.186011e-06      273.954742   \n",
       "78842198        432.794434                 3.450540e-07      278.165314   \n",
       "\n",
       "          normalized_roberta_scores  product_freq  \n",
       "0                      7.975509e-07          48.0  \n",
       "1                      2.226209e-03          80.0  \n",
       "2                      3.624132e-06           7.0  \n",
       "3                      4.852260e-03         155.0  \n",
       "4                      3.015780e-03         462.0  \n",
       "...                             ...           ...  \n",
       "78842194               1.476179e-04           7.0  \n",
       "78842195               1.476179e-04          51.0  \n",
       "78842196               6.012531e-04           7.0  \n",
       "78842197               5.218429e-08          37.0  \n",
       "78842198               3.516962e-06          30.0  \n",
       "\n",
       "[78842199 rows x 36 columns]"
      ]
     },
     "execution_count": 46,
     "metadata": {},
     "output_type": "execute_result"
    }
   ],
   "source": [
    "merged_candidates_feature"
   ]
  }
 ],
 "metadata": {
  "kernelspec": {
   "display_name": "huangxu",
   "language": "python",
   "name": "python3"
  },
  "language_info": {
   "codemirror_mode": {
    "name": "ipython",
    "version": 3
   },
   "file_extension": ".py",
   "mimetype": "text/x-python",
   "name": "python",
   "nbconvert_exporter": "python",
   "pygments_lexer": "ipython3",
   "version": "3.9.15"
  }
 },
 "nbformat": 4,
 "nbformat_minor": 2
}
