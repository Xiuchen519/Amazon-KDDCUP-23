{
 "cells": [
  {
   "attachments": {},
   "cell_type": "markdown",
   "metadata": {},
   "source": [
    "use loc[i, field] instead of iloc[i, field], iloc is very slow."
   ]
  },
  {
   "cell_type": "code",
   "execution_count": 1,
   "metadata": {
    "execution": {
     "iopub.execute_input": "2023-06-02T04:25:59.577831Z",
     "iopub.status.busy": "2023-06-02T04:25:59.576969Z",
     "iopub.status.idle": "2023-06-02T04:26:04.103433Z",
     "shell.execute_reply": "2023-06-02T04:26:04.102591Z"
    }
   },
   "outputs": [],
   "source": [
    "import sys\n",
    "sys.path = ['/root/autodl-tmp/xiaolong/WorkSpace/Amazon-KDDCUP-23/RecStudio/'] + sys.path\n",
    "import random\n",
    "import numpy as np\n",
    "import pandas as pd\n",
    "import cudf, itertools\n",
    "import scipy.sparse as ssp\n",
    "from functools import lru_cache, partial\n",
    "from tqdm import tqdm, trange\n",
    "from collections import Counter, defaultdict\n",
    "import torch\n",
    "import pickle"
   ]
  },
  {
   "cell_type": "code",
   "execution_count": 2,
   "metadata": {
    "execution": {
     "iopub.execute_input": "2023-06-02T04:26:04.111056Z",
     "iopub.status.busy": "2023-06-02T04:26:04.110414Z",
     "iopub.status.idle": "2023-06-02T04:26:04.118596Z",
     "shell.execute_reply": "2023-06-02T04:26:04.117699Z"
    }
   },
   "outputs": [],
   "source": [
    "def cast_dtype(df : pd.DataFrame, columns=None):\n",
    "    if columns is None:\n",
    "        columns = df.columns\n",
    "    for k in columns:\n",
    "        dt = type(df[k].iloc[0])\n",
    "        if 'float' in str(dt):\n",
    "            df[k] = df[k].astype('float32')\n",
    "        elif 'int' in str(dt):\n",
    "            df[k] = df[k].astype('int32')\n",
    "        elif dt == list:\n",
    "            dt_ = type(df.iloc[0][k][0])\n",
    "            if 'float' in str(dt_):\n",
    "                df[k] = df[k].apply(lambda x : np.array(x, dtype=np.float32))\n",
    "            elif 'int' in str(dt_):\n",
    "                df[k] = df[k].apply(lambda x : np.array(x, dtype=np.int32))"
   ]
  },
  {
   "cell_type": "code",
   "execution_count": 3,
   "metadata": {
    "execution": {
     "iopub.execute_input": "2023-06-02T04:26:04.138043Z",
     "iopub.status.busy": "2023-06-02T04:26:04.137325Z",
     "iopub.status.idle": "2023-06-02T04:26:04.144829Z",
     "shell.execute_reply": "2023-06-02T04:26:04.143651Z"
    }
   },
   "outputs": [],
   "source": [
    "def _load_cache(path):\n",
    "    with open(path, 'rb') as f:\n",
    "        download_obj = pickle.load(f)\n",
    "    return download_obj"
   ]
  },
  {
   "cell_type": "code",
   "execution_count": 4,
   "metadata": {
    "execution": {
     "iopub.execute_input": "2023-06-02T04:26:04.150607Z",
     "iopub.status.busy": "2023-06-02T04:26:04.149812Z",
     "iopub.status.idle": "2023-06-02T04:26:04.165656Z",
     "shell.execute_reply": "2023-06-02T04:26:04.164588Z"
    }
   },
   "outputs": [],
   "source": [
    "def get_scores(merged_candidates_df, query_embeddings, product_embeddings):\n",
    "    batch_size = 10000\n",
    "    num_iter = (len(merged_candidates_df) - 1) // batch_size + 1\n",
    "    score_list = []\n",
    "    with torch.no_grad():\n",
    "        for i in tqdm(range(num_iter)):\n",
    "            st, ed = i * batch_size, (i + 1) * batch_size \n",
    "            batch_sess = merged_candidates_df.iloc[st : ed]\n",
    "            batch_sess_id = torch.tensor(batch_sess['sess_id'].tolist(), dtype=torch.long, device=query_embeddings.device)\n",
    "            batch_product_id = torch.tensor(batch_sess['dataset_id'].tolist(), dtype=torch.long, device=product_embeddings.device)\n",
    "            query_emb = query_embeddings[batch_sess_id].to('cuda:7')\n",
    "            product_emb = product_embeddings[batch_product_id].to('cuda:7')\n",
    "            batch_score = (query_emb * product_emb).sum(dim=-1) \n",
    "            score_list.append(batch_score.cpu())\n",
    "        score_list = torch.cat(score_list, dim=0).cpu().tolist()\n",
    "        return score_list "
   ]
  },
  {
   "cell_type": "code",
   "execution_count": 5,
   "metadata": {
    "execution": {
     "iopub.execute_input": "2023-06-02T04:26:04.170318Z",
     "iopub.status.busy": "2023-06-02T04:26:04.169804Z",
     "iopub.status.idle": "2023-06-02T04:26:04.180081Z",
     "shell.execute_reply": "2023-06-02T04:26:04.178920Z"
    }
   },
   "outputs": [],
   "source": [
    "def normalize_scores(score_df, score_name, normalized_score_name):\n",
    "    # score_df_g = cudf.from_pandas(score_df)\n",
    "    score_df['exp_score'] = np.exp(score_df[score_name].to_numpy())\n",
    "    scores_sum = score_df[['sess_id', 'exp_score']].groupby('sess_id').sum()\n",
    "    scores_sum.reset_index(inplace=True)\n",
    "    scores_sum = scores_sum.sort_values(by=['sess_id'], ascending=True)\n",
    "    scores_sum.reset_index(drop=True, inplace=True)\n",
    "    scores_sum.rename(columns={'exp_score' : 'score_sum'}, inplace=True)\n",
    "\n",
    "    merged_score_df = score_df.merge(scores_sum, how='left', left_on=['sess_id'], right_on=['sess_id'])\n",
    "    merged_score_df = merged_score_df.sort_values(by=['sess_id', 'product'])\n",
    "    merged_score_df.reset_index(drop=True, inplace=True)\n",
    "    \n",
    "    # merged_score_df = merged_score_df_g.to_pandas(merged_score_df_g)\n",
    "    score_df[normalized_score_name] = merged_score_df['exp_score'] / merged_score_df['score_sum']\n",
    "    score_df['exp_score'] = merged_score_df['exp_score']\n",
    "    score_df['score_sum'] = merged_score_df['score_sum']\n",
    "\n",
    "    # del scores_sum_g\n",
    "    # del merged_score_df_g "
   ]
  },
  {
   "attachments": {},
   "cell_type": "markdown",
   "metadata": {},
   "source": [
    "# Merge valid score"
   ]
  },
  {
   "cell_type": "code",
   "execution_count": 6,
   "metadata": {
    "execution": {
     "iopub.execute_input": "2023-06-02T04:26:04.185162Z",
     "iopub.status.busy": "2023-06-02T04:26:04.184530Z",
     "iopub.status.idle": "2023-06-02T04:26:04.190041Z",
     "shell.execute_reply": "2023-06-02T04:26:04.189106Z"
    }
   },
   "outputs": [],
   "source": [
    "merged_candidates_feature_path = '/root/autodl-tmp/xiaolong/WorkSpace/Amazon-KDDCUP-23/XGBoost/candidates_phase2/merged_candidates_150_feature.parquet'\n",
    "valid_sessions_path = '/root/autodl-tmp/xiaolong/WorkSpace/Amazon-KDDCUP-23/data_for_recstudio/task1_data/task13_4_task1_valid_sessions_phase2.csv'\n",
    "test_sessions_path = '/root/autodl-tmp/xiaolong/WorkSpace/Amazon-KDDCUP-23/raw_data/sessions_test_task1_phase2.csv'"
   ]
  },
  {
   "cell_type": "code",
   "execution_count": 7,
   "metadata": {
    "execution": {
     "iopub.execute_input": "2023-06-02T04:26:04.194819Z",
     "iopub.status.busy": "2023-06-02T04:26:04.194267Z",
     "iopub.status.idle": "2023-06-02T04:26:04.200881Z",
     "shell.execute_reply": "2023-06-02T04:26:04.199943Z"
    }
   },
   "outputs": [],
   "source": [
    "@lru_cache(maxsize=1)\n",
    "def read_merged_candidates_feature():\n",
    "    return pd.read_parquet(merged_candidates_feature_path, engine='pyarrow')\n",
    "\n",
    "@lru_cache(maxsize=1)\n",
    "def read_valid_sessions():\n",
    "    return pd.read_csv(valid_sessions_path)\n",
    "\n",
    "@lru_cache(maxsize=1)\n",
    "def read_test_sessions():\n",
    "    return pd.read_csv(test_sessions_path)"
   ]
  },
  {
   "cell_type": "code",
   "execution_count": 8,
   "metadata": {
    "execution": {
     "iopub.execute_input": "2023-06-02T04:26:04.205890Z",
     "iopub.status.busy": "2023-06-02T04:26:04.205042Z",
     "iopub.status.idle": "2023-06-02T04:26:04.209658Z",
     "shell.execute_reply": "2023-06-02T04:26:04.208860Z"
    }
   },
   "outputs": [],
   "source": [
    "FIELD_NAME = 'text_bert_scores'"
   ]
  },
  {
   "cell_type": "code",
   "execution_count": 9,
   "metadata": {
    "execution": {
     "iopub.execute_input": "2023-06-02T04:26:04.213962Z",
     "iopub.status.busy": "2023-06-02T04:26:04.213530Z",
     "iopub.status.idle": "2023-06-02T04:26:04.219283Z",
     "shell.execute_reply": "2023-06-02T04:26:04.218475Z"
    }
   },
   "outputs": [],
   "source": [
    "DE_product_embeddings_path = '/root/autodl-tmp/xiaolong/WorkSpace/Amazon-KDDCUP-23/text_method/phase2_task1_bert_results_DE/results/item_reps/reordered_item.npy'\n",
    "DE_valid_embeddings_path = '/root/autodl-tmp/xiaolong/WorkSpace/Amazon-KDDCUP-23/text_method/phase2_task1_bert_results_DE/valid_results/valid_query_reps/query.npy'\n",
    "JP_product_embeddings_path = '/root/autodl-tmp/xiaolong/WorkSpace/Amazon-KDDCUP-23/text_method/phase2_task1_bert_results_JP/results/item_reps/reordered_item.npy'\n",
    "JP_valid_embeddings_path = '/root/autodl-tmp/xiaolong/WorkSpace/Amazon-KDDCUP-23/text_method/phase2_task1_bert_results_JP/valid_results/valid_query_reps/query.npy'\n",
    "UK_product_embeddings_path = '/root/autodl-tmp/xiaolong/WorkSpace/Amazon-KDDCUP-23/text_method/phase2_task1_roberta_results_UK/results/item_reps/reordered_item.npy'\n",
    "UK_valid_embeddings_path = '/root/autodl-tmp/xiaolong/WorkSpace/Amazon-KDDCUP-23/text_method/phase2_task1_roberta_results_UK/valid_results/valid_query_reps/query.npy'"
   ]
  },
  {
   "cell_type": "code",
   "execution_count": 10,
   "metadata": {
    "execution": {
     "iopub.execute_input": "2023-06-02T04:26:04.224542Z",
     "iopub.status.busy": "2023-06-02T04:26:04.224023Z",
     "iopub.status.idle": "2023-06-02T04:26:04.229121Z",
     "shell.execute_reply": "2023-06-02T04:26:04.228338Z"
    }
   },
   "outputs": [],
   "source": [
    "DE_dataset_cache = '/root/autodl-tmp/xiaolong/WorkSpace/Amazon-KDDCUP-23/.recstudio/cache/b5aeac4e5b9ff0518bbcb59a28086594'\n",
    "JP_dataset_cache = '/root/autodl-tmp/xiaolong/WorkSpace/Amazon-KDDCUP-23/.recstudio/cache/2536617955df215e0047f5b220d1c012'\n",
    "UK_dataset_cache = '/root/autodl-tmp/xiaolong/WorkSpace/Amazon-KDDCUP-23/.recstudio/cache/8d133ea55ad67bd3efd625dfeff0fb1d'"
   ]
  },
  {
   "cell_type": "code",
   "execution_count": 11,
   "metadata": {
    "execution": {
     "iopub.execute_input": "2023-06-02T04:26:04.234334Z",
     "iopub.status.busy": "2023-06-02T04:26:04.233734Z",
     "iopub.status.idle": "2023-06-02T04:26:31.034470Z",
     "shell.execute_reply": "2023-06-02T04:26:31.030451Z"
    }
   },
   "outputs": [],
   "source": [
    "DE_train_dataset, DE_valid_dataset = _load_cache(DE_dataset_cache)\n",
    "JP_train_dataset, JP_valid_dataset = _load_cache(JP_dataset_cache)\n",
    "UK_train_dataset, UK_valid_dataset = _load_cache(UK_dataset_cache)\n",
    "locale_map = {\n",
    "    'DE' : DE_train_dataset.field2token2idx['product_id'], \n",
    "    'JP' : JP_train_dataset.field2token2idx['product_id'], \n",
    "    'UK' : UK_train_dataset.field2token2idx['product_id']\n",
    "    }"
   ]
  },
  {
   "cell_type": "code",
   "execution_count": 12,
   "metadata": {
    "execution": {
     "iopub.execute_input": "2023-06-02T04:26:31.053441Z",
     "iopub.status.busy": "2023-06-02T04:26:31.046763Z",
     "iopub.status.idle": "2023-06-02T04:30:12.112807Z",
     "shell.execute_reply": "2023-06-02T04:30:12.110594Z"
    }
   },
   "outputs": [],
   "source": [
    "merged_candidates = read_merged_candidates_feature()\n",
    "valid_sessions = read_valid_sessions()\n",
    "EMBED_DIM = 768\n",
    "merged_candidates.sort_values(by=['sess_id', 'product'], inplace=True)\n",
    "merged_candidates.reset_index(drop=True, inplace=True)"
   ]
  },
  {
   "cell_type": "code",
   "execution_count": 13,
   "metadata": {
    "execution": {
     "iopub.execute_input": "2023-06-02T04:30:12.124872Z",
     "iopub.status.busy": "2023-06-02T04:30:12.124134Z",
     "iopub.status.idle": "2023-06-02T04:30:13.603380Z",
     "shell.execute_reply": "2023-06-02T04:30:13.590952Z"
    }
   },
   "outputs": [],
   "source": [
    "# sess embeddings \n",
    "valid_DE_query_emb = torch.from_numpy(np.load(DE_valid_embeddings_path)) \n",
    "valid_JP_query_emb = torch.from_numpy(np.load(JP_valid_embeddings_path))\n",
    "valid_UK_query_emb = torch.from_numpy(np.load(UK_valid_embeddings_path))\n",
    "valid_query_embeddings = torch.empty(len(valid_sessions), EMBED_DIM)\n",
    "valid_query_embeddings[(valid_sessions[valid_sessions['locale'] == 'DE'].index).tolist()] = valid_DE_query_emb\n",
    "valid_query_embeddings[(valid_sessions[valid_sessions['locale'] == 'JP'].index).tolist()] = valid_JP_query_emb\n",
    "valid_query_embeddings[(valid_sessions[valid_sessions['locale'] == 'UK'].index).tolist()] = valid_UK_query_emb"
   ]
  },
  {
   "cell_type": "code",
   "execution_count": 14,
   "metadata": {
    "execution": {
     "iopub.execute_input": "2023-06-02T04:30:13.610358Z",
     "iopub.status.busy": "2023-06-02T04:30:13.609755Z",
     "iopub.status.idle": "2023-06-02T04:30:13.638071Z",
     "shell.execute_reply": "2023-06-02T04:30:13.637201Z"
    }
   },
   "outputs": [
    {
     "data": {
      "text/plain": [
       "(tensor([[-0.1100,  0.3310,  0.0674,  ...,  0.1768,  0.2052, -0.3436],\n",
       "         [ 0.2061,  0.5285,  0.0776,  ..., -0.0646,  0.1119, -0.1762],\n",
       "         [-0.0226,  0.1935, -0.0137,  ...,  0.0779, -0.0126, -0.4134],\n",
       "         ...,\n",
       "         [-0.0344,  0.0680, -0.0033,  ..., -0.4798,  0.0155, -0.1162],\n",
       "         [ 0.0743,  0.1279, -0.0812,  ..., -0.2926,  0.0121,  0.0147],\n",
       "         [ 0.1461,  0.0491, -0.1343,  ..., -0.1492, -0.0622,  0.0735]]),\n",
       " torch.Size([261816, 768]))"
      ]
     },
     "execution_count": 14,
     "metadata": {},
     "output_type": "execute_result"
    }
   ],
   "source": [
    "valid_query_embeddings, valid_query_embeddings.shape"
   ]
  },
  {
   "cell_type": "code",
   "execution_count": 15,
   "metadata": {
    "execution": {
     "iopub.execute_input": "2023-06-02T04:30:13.794569Z",
     "iopub.status.busy": "2023-06-02T04:30:13.793707Z",
     "iopub.status.idle": "2023-06-02T04:30:26.937854Z",
     "shell.execute_reply": "2023-06-02T04:30:26.936603Z"
    }
   },
   "outputs": [],
   "source": [
    "# product_embeddings, the embeddings include padding embedding\n",
    "DE_product_emb = torch.from_numpy(np.load(DE_product_embeddings_path)).type(torch.float)\n",
    "JP_product_emb = torch.from_numpy(np.load(JP_product_embeddings_path)).type(torch.float)\n",
    "UK_product_emb = torch.from_numpy(np.load(UK_product_embeddings_path)).type(torch.float)\n",
    "product_embeddings = torch.cat([DE_product_emb, JP_product_emb, UK_product_emb], dim=0)"
   ]
  },
  {
   "cell_type": "code",
   "execution_count": 16,
   "metadata": {
    "execution": {
     "iopub.execute_input": "2023-06-02T04:30:26.943925Z",
     "iopub.status.busy": "2023-06-02T04:30:26.943498Z",
     "iopub.status.idle": "2023-06-02T04:30:26.958230Z",
     "shell.execute_reply": "2023-06-02T04:30:26.957237Z"
    }
   },
   "outputs": [
    {
     "data": {
      "text/plain": [
       "tensor([[ 0.0000,  0.0000,  0.0000,  ...,  0.0000,  0.0000,  0.0000],\n",
       "        [-0.2478,  0.4152,  0.3816,  ...,  0.4283, -0.3134, -0.0649],\n",
       "        [ 0.1436,  0.0728,  0.3197,  ...,  0.0514,  0.2001, -0.2141],\n",
       "        ...,\n",
       "        [ 0.0069,  0.4923, -0.1382,  ...,  0.2253,  0.4376, -0.3512],\n",
       "        [-0.3916, -0.1836,  0.3598,  ...,  0.0748, -0.3209, -0.1415],\n",
       "        [-0.2131,  0.5381, -0.2594,  ...,  0.3637, -0.2117, -0.1636]])"
      ]
     },
     "execution_count": 16,
     "metadata": {},
     "output_type": "execute_result"
    }
   ],
   "source": [
    "DE_product_emb"
   ]
  },
  {
   "cell_type": "code",
   "execution_count": 17,
   "metadata": {
    "execution": {
     "iopub.execute_input": "2023-06-02T04:30:26.964689Z",
     "iopub.status.busy": "2023-06-02T04:30:26.964165Z",
     "iopub.status.idle": "2023-06-02T04:30:39.650277Z",
     "shell.execute_reply": "2023-06-02T04:30:39.649317Z"
    }
   },
   "outputs": [],
   "source": [
    "merged_candidates_ = merged_candidates[['sess_id', 'sess_locale', 'product']].copy()"
   ]
  },
  {
   "cell_type": "code",
   "execution_count": 18,
   "metadata": {
    "execution": {
     "iopub.execute_input": "2023-06-02T04:30:39.655908Z",
     "iopub.status.busy": "2023-06-02T04:30:39.655332Z",
     "iopub.status.idle": "2023-06-02T04:30:44.205750Z",
     "shell.execute_reply": "2023-06-02T04:30:44.204784Z"
    }
   },
   "outputs": [],
   "source": [
    "DE_product_list, DE_id_list = list(zip(*locale_map['DE'].items()))\n",
    "JP_product_list, JP_id_list = list(zip(*locale_map['JP'].items()))\n",
    "UK_product_list, UK_id_list = list(zip(*locale_map['UK'].items()))\n",
    "product_list = list(DE_product_list) + list(JP_product_list) + list(UK_product_list)\n",
    "id_list = list(DE_id_list) + list(JP_id_list) + list(UK_id_list)\n",
    "locale_list = ['DE'] * len(DE_id_list) + ['JP'] * len(JP_id_list) + ['UK'] * len(UK_id_list)\n",
    "product_id_df = pd.DataFrame({'locale' : locale_list, 'product' : product_list, 'dataset_id' : id_list})"
   ]
  },
  {
   "cell_type": "code",
   "execution_count": 19,
   "metadata": {
    "execution": {
     "iopub.execute_input": "2023-06-02T04:30:44.211596Z",
     "iopub.status.busy": "2023-06-02T04:30:44.211014Z",
     "iopub.status.idle": "2023-06-02T04:30:44.215784Z",
     "shell.execute_reply": "2023-06-02T04:30:44.214778Z"
    }
   },
   "outputs": [],
   "source": [
    "# merged_candidates_g = cudf.from_pandas(merged_candidates_)\n",
    "# product_id_df_g = cudf.from_pandas(product_id_df)"
   ]
  },
  {
   "cell_type": "code",
   "execution_count": 20,
   "metadata": {
    "execution": {
     "iopub.execute_input": "2023-06-02T04:30:44.221107Z",
     "iopub.status.busy": "2023-06-02T04:30:44.220427Z",
     "iopub.status.idle": "2023-06-02T04:30:44.225571Z",
     "shell.execute_reply": "2023-06-02T04:30:44.224617Z"
    }
   },
   "outputs": [],
   "source": [
    "# merged_candidates_score_g = merged_candidates_g.merge(product_id_df_g, how='left', left_on=['sess_locale', 'product'], right_on=['locale', 'product'])\n",
    "# merged_candidates_score_g['dataset_id'] = merged_candidates_score_g['dataset_id'].fillna(0)\n",
    "# merged_candidates_score_g.drop(columns=['locale'], inplace=True)\n",
    "# merged_candidates_score_g = merged_candidates_score_g.sort_values(by=['sess_id', 'product'])\n",
    "# merged_candidates_score_g.reset_index(drop=True, inplace=True)\n",
    "# merged_candidates_score = merged_candidates_score_g.to_pandas()"
   ]
  },
  {
   "cell_type": "code",
   "execution_count": 21,
   "metadata": {
    "execution": {
     "iopub.execute_input": "2023-06-02T04:30:44.230615Z",
     "iopub.status.busy": "2023-06-02T04:30:44.230083Z",
     "iopub.status.idle": "2023-06-02T04:35:19.919312Z",
     "shell.execute_reply": "2023-06-02T04:35:19.917962Z"
    }
   },
   "outputs": [],
   "source": [
    "merged_candidates_score = merged_candidates_.merge(product_id_df, how='left', left_on=['sess_locale', 'product'], right_on=['locale', 'product'])\n",
    "merged_candidates_score['dataset_id'] = merged_candidates_score['dataset_id'].fillna(0)\n",
    "merged_candidates_score.drop(columns=['locale'], inplace=True)\n",
    "merged_candidates_score = merged_candidates_score.sort_values(by=['sess_id', 'product'])\n",
    "merged_candidates_score.reset_index(drop=True, inplace=True)\n",
    "assert len(merged_candidates_score) == len(merged_candidates)"
   ]
  },
  {
   "cell_type": "code",
   "execution_count": 22,
   "metadata": {
    "execution": {
     "iopub.execute_input": "2023-06-02T04:35:19.924538Z",
     "iopub.status.busy": "2023-06-02T04:35:19.924087Z",
     "iopub.status.idle": "2023-06-02T04:35:19.928406Z",
     "shell.execute_reply": "2023-06-02T04:35:19.927498Z"
    }
   },
   "outputs": [],
   "source": [
    "# del merged_candidates_g\n",
    "# del product_id_df_g\n",
    "# del merged_candidates_score_g"
   ]
  },
  {
   "cell_type": "code",
   "execution_count": 23,
   "metadata": {
    "execution": {
     "iopub.execute_input": "2023-06-02T04:35:19.932560Z",
     "iopub.status.busy": "2023-06-02T04:35:19.932187Z",
     "iopub.status.idle": "2023-06-02T04:36:38.649268Z",
     "shell.execute_reply": "2023-06-02T04:36:38.647709Z"
    }
   },
   "outputs": [
    {
     "name": "stderr",
     "output_type": "stream",
     "text": [
      "/tmp/ipykernel_165895/2978421209.py:3: SettingWithCopyWarning: \n",
      "A value is trying to be set on a copy of a slice from a DataFrame\n",
      "\n",
      "See the caveats in the documentation: https://pandas.pydata.org/pandas-docs/stable/user_guide/indexing.html#returning-a-view-versus-a-copy\n",
      "  merged_candidates_score['dataset_id'][merged_candidates_score['sess_locale'] == locale] = \\\n"
     ]
    }
   ],
   "source": [
    "locale_offset = {'DE' : 0, 'JP' : len(DE_product_list), 'UK' : len(DE_product_list) + len(JP_product_list)}\n",
    "for locale in ['DE', 'JP', 'UK']:\n",
    "    merged_candidates_score['dataset_id'][merged_candidates_score['sess_locale'] == locale] = \\\n",
    "        merged_candidates_score['dataset_id'][merged_candidates_score['sess_locale'] == locale] + locale_offset[locale]"
   ]
  },
  {
   "cell_type": "code",
   "execution_count": 24,
   "metadata": {
    "execution": {
     "iopub.execute_input": "2023-06-02T04:36:38.656810Z",
     "iopub.status.busy": "2023-06-02T04:36:38.656219Z",
     "iopub.status.idle": "2023-06-02T04:36:39.906989Z",
     "shell.execute_reply": "2023-06-02T04:36:39.905772Z"
    }
   },
   "outputs": [],
   "source": [
    "# using cosine scores \n",
    "normalized_valid_query_embeddings = torch.nn.functional.normalize(valid_query_embeddings, p=2, dim=-1)\n",
    "normalized_product_embeddings = torch.nn.functional.normalize(product_embeddings, p=2, dim=-1)\n",
    "normalized_product_embeddings = normalized_product_embeddings.type(torch.float)"
   ]
  },
  {
   "cell_type": "code",
   "execution_count": 25,
   "metadata": {
    "execution": {
     "iopub.execute_input": "2023-06-02T04:36:39.913537Z",
     "iopub.status.busy": "2023-06-02T04:36:39.913046Z",
     "iopub.status.idle": "2023-06-02T04:45:34.243187Z",
     "shell.execute_reply": "2023-06-02T04:45:34.241472Z"
    }
   },
   "outputs": [
    {
     "name": "stderr",
     "output_type": "stream",
     "text": [
      "  0%|                                                                                                                  | 0/7885 [00:00<?, ?it/s]/tmp/ipykernel_165895/3457709309.py:10: DeprecationWarning: an integer is required (got type float).  Implicit conversion to integers using __int__ is deprecated, and may be removed in a future version of Python.\n",
      "  batch_product_id = torch.tensor(batch_sess['dataset_id'].tolist(), dtype=torch.long, device=product_embeddings.device)\n",
      "100%|███████████████████████████████████████████████████████████████████████████████████████████████████████| 7885/7885 [08:32<00:00, 15.37it/s]\n"
     ]
    }
   ],
   "source": [
    "# cosine scores\n",
    "merged_candidates_score['cos_'+FIELD_NAME] = get_scores(merged_candidates_score, normalized_valid_query_embeddings, normalized_product_embeddings)"
   ]
  },
  {
   "cell_type": "code",
   "execution_count": 26,
   "metadata": {
    "execution": {
     "iopub.execute_input": "2023-06-02T04:45:34.251855Z",
     "iopub.status.busy": "2023-06-02T04:45:34.250988Z",
     "iopub.status.idle": "2023-06-02T04:55:21.486047Z",
     "shell.execute_reply": "2023-06-02T04:55:21.484426Z"
    }
   },
   "outputs": [
    {
     "name": "stderr",
     "output_type": "stream",
     "text": [
      "  0%|                                                                                                                                   | 0/7885 [00:00<?, ?it/s]/tmp/ipykernel_165895/3457709309.py:10: DeprecationWarning: an integer is required (got type float).  Implicit conversion to integers using __int__ is deprecated, and may be removed in a future version of Python.\n",
      "  batch_product_id = torch.tensor(batch_sess['dataset_id'].tolist(), dtype=torch.long, device=product_embeddings.device)\n",
      "100%|████████████████████████████████████████████████████████████████████████████████████████████████████████████████████████| 7885/7885 [09:17<00:00, 14.14it/s]\n"
     ]
    }
   ],
   "source": [
    "merged_candidates_score[FIELD_NAME] = get_scores(merged_candidates_score, valid_query_embeddings, product_embeddings)"
   ]
  },
  {
   "cell_type": "code",
   "execution_count": 27,
   "metadata": {
    "execution": {
     "iopub.execute_input": "2023-06-02T04:55:21.501090Z",
     "iopub.status.busy": "2023-06-02T04:55:21.500156Z",
     "iopub.status.idle": "2023-06-02T04:58:55.832781Z",
     "shell.execute_reply": "2023-06-02T04:58:55.829637Z"
    }
   },
   "outputs": [],
   "source": [
    "normalize_scores(merged_candidates_score, FIELD_NAME, 'normalized_'+FIELD_NAME)"
   ]
  },
  {
   "cell_type": "code",
   "execution_count": 28,
   "metadata": {
    "execution": {
     "iopub.execute_input": "2023-06-02T04:58:55.849782Z",
     "iopub.status.busy": "2023-06-02T04:58:55.848797Z",
     "iopub.status.idle": "2023-06-02T04:58:56.494026Z",
     "shell.execute_reply": "2023-06-02T04:58:56.492678Z"
    }
   },
   "outputs": [],
   "source": [
    "merged_candidates['cos_'+FIELD_NAME] = merged_candidates_score['cos_'+FIELD_NAME]"
   ]
  },
  {
   "cell_type": "code",
   "execution_count": 29,
   "metadata": {
    "execution": {
     "iopub.execute_input": "2023-06-02T04:58:56.506259Z",
     "iopub.status.busy": "2023-06-02T04:58:56.505742Z",
     "iopub.status.idle": "2023-06-02T04:58:57.768853Z",
     "shell.execute_reply": "2023-06-02T04:58:57.767445Z"
    }
   },
   "outputs": [],
   "source": [
    "merged_candidates[FIELD_NAME] = merged_candidates_score[FIELD_NAME]\n",
    "merged_candidates['normalized_'+FIELD_NAME] = merged_candidates_score['normalized_'+FIELD_NAME]"
   ]
  },
  {
   "cell_type": "code",
   "execution_count": 30,
   "metadata": {
    "execution": {
     "iopub.execute_input": "2023-06-02T04:58:57.775915Z",
     "iopub.status.busy": "2023-06-02T04:58:57.775202Z",
     "iopub.status.idle": "2023-06-02T04:58:58.560078Z",
     "shell.execute_reply": "2023-06-02T04:58:58.558972Z"
    }
   },
   "outputs": [],
   "source": [
    "cast_dtype(merged_candidates, ['cos_'+FIELD_NAME])"
   ]
  },
  {
   "cell_type": "code",
   "execution_count": 31,
   "metadata": {
    "execution": {
     "iopub.execute_input": "2023-06-02T04:58:58.566514Z",
     "iopub.status.busy": "2023-06-02T04:58:58.565514Z",
     "iopub.status.idle": "2023-06-02T05:00:54.997659Z",
     "shell.execute_reply": "2023-06-02T05:00:54.995104Z"
    }
   },
   "outputs": [],
   "source": [
    "cast_dtype(merged_candidates, [FIELD_NAME, 'normalized_'+FIELD_NAME])\n",
    "merged_candidates.to_parquet(merged_candidates_feature_path, engine='pyarrow')"
   ]
  },
  {
   "cell_type": "code",
   "execution_count": 32,
   "metadata": {
    "execution": {
     "iopub.execute_input": "2023-06-02T05:00:55.004795Z",
     "iopub.status.busy": "2023-06-02T05:00:55.004133Z",
     "iopub.status.idle": "2023-06-02T05:01:15.092252Z",
     "shell.execute_reply": "2023-06-02T05:01:15.090930Z"
    }
   },
   "outputs": [
    {
     "data": {
      "text/html": [
       "<div>\n",
       "<style scoped>\n",
       "    .dataframe tbody tr th:only-of-type {\n",
       "        vertical-align: middle;\n",
       "    }\n",
       "\n",
       "    .dataframe tbody tr th {\n",
       "        vertical-align: top;\n",
       "    }\n",
       "\n",
       "    .dataframe thead th {\n",
       "        text-align: right;\n",
       "    }\n",
       "</style>\n",
       "<table border=\"1\" class=\"dataframe\">\n",
       "  <thead>\n",
       "    <tr style=\"text-align: right;\">\n",
       "      <th></th>\n",
       "      <th>sess_locale</th>\n",
       "      <th>product</th>\n",
       "      <th>normalized_sasrec_scores_2</th>\n",
       "      <th>sasrec_scores_2</th>\n",
       "      <th>normalized_text_bert_scores</th>\n",
       "      <th>text_bert_scores</th>\n",
       "      <th>cos_text_bert_scores</th>\n",
       "    </tr>\n",
       "  </thead>\n",
       "  <tbody>\n",
       "    <tr>\n",
       "      <th>45145287</th>\n",
       "      <td>JP</td>\n",
       "      <td>B0BB78W1K4</td>\n",
       "      <td>0.109824</td>\n",
       "      <td>12.599373</td>\n",
       "      <td>0.161231</td>\n",
       "      <td>196.879623</td>\n",
       "      <td>0.949360</td>\n",
       "    </tr>\n",
       "    <tr>\n",
       "      <th>45145274</th>\n",
       "      <td>JP</td>\n",
       "      <td>B0B7LFKRBW</td>\n",
       "      <td>0.085752</td>\n",
       "      <td>12.351955</td>\n",
       "      <td>0.010322</td>\n",
       "      <td>194.131088</td>\n",
       "      <td>0.936323</td>\n",
       "    </tr>\n",
       "    <tr>\n",
       "      <th>45145171</th>\n",
       "      <td>JP</td>\n",
       "      <td>B09FLRJDZV</td>\n",
       "      <td>0.066722</td>\n",
       "      <td>12.101032</td>\n",
       "      <td>0.031126</td>\n",
       "      <td>195.234833</td>\n",
       "      <td>0.929352</td>\n",
       "    </tr>\n",
       "    <tr>\n",
       "      <th>45145217</th>\n",
       "      <td>JP</td>\n",
       "      <td>B09VK2DCW4</td>\n",
       "      <td>0.058213</td>\n",
       "      <td>11.964600</td>\n",
       "      <td>0.010719</td>\n",
       "      <td>194.168808</td>\n",
       "      <td>0.936697</td>\n",
       "    </tr>\n",
       "    <tr>\n",
       "      <th>45145300</th>\n",
       "      <td>JP</td>\n",
       "      <td>B0BHSYHDC7</td>\n",
       "      <td>0.046944</td>\n",
       "      <td>11.749451</td>\n",
       "      <td>0.103612</td>\n",
       "      <td>196.437439</td>\n",
       "      <td>0.939319</td>\n",
       "    </tr>\n",
       "    <tr>\n",
       "      <th>45145098</th>\n",
       "      <td>JP</td>\n",
       "      <td>B0864F9F3X</td>\n",
       "      <td>0.038047</td>\n",
       "      <td>11.539320</td>\n",
       "      <td>0.003106</td>\n",
       "      <td>192.930084</td>\n",
       "      <td>0.932668</td>\n",
       "    </tr>\n",
       "    <tr>\n",
       "      <th>45145220</th>\n",
       "      <td>JP</td>\n",
       "      <td>B09VXHMB4B</td>\n",
       "      <td>0.035546</td>\n",
       "      <td>11.471312</td>\n",
       "      <td>0.035155</td>\n",
       "      <td>195.356567</td>\n",
       "      <td>0.940585</td>\n",
       "    </tr>\n",
       "    <tr>\n",
       "      <th>45145304</th>\n",
       "      <td>JP</td>\n",
       "      <td>B0BHYZTML3</td>\n",
       "      <td>0.034852</td>\n",
       "      <td>11.451614</td>\n",
       "      <td>0.001140</td>\n",
       "      <td>191.927689</td>\n",
       "      <td>0.922487</td>\n",
       "    </tr>\n",
       "    <tr>\n",
       "      <th>45145289</th>\n",
       "      <td>JP</td>\n",
       "      <td>B0BBFYDRPV</td>\n",
       "      <td>0.028480</td>\n",
       "      <td>11.249701</td>\n",
       "      <td>0.011010</td>\n",
       "      <td>194.195557</td>\n",
       "      <td>0.932041</td>\n",
       "    </tr>\n",
       "    <tr>\n",
       "      <th>45145230</th>\n",
       "      <td>JP</td>\n",
       "      <td>B09YCVY6PY</td>\n",
       "      <td>0.028295</td>\n",
       "      <td>11.243197</td>\n",
       "      <td>0.000220</td>\n",
       "      <td>190.281631</td>\n",
       "      <td>0.911501</td>\n",
       "    </tr>\n",
       "    <tr>\n",
       "      <th>45145081</th>\n",
       "      <td>JP</td>\n",
       "      <td>B07VDCHJSW</td>\n",
       "      <td>0.025952</td>\n",
       "      <td>11.156754</td>\n",
       "      <td>0.000036</td>\n",
       "      <td>188.467087</td>\n",
       "      <td>0.891538</td>\n",
       "    </tr>\n",
       "    <tr>\n",
       "      <th>45145065</th>\n",
       "      <td>JP</td>\n",
       "      <td>B07FF596NN</td>\n",
       "      <td>0.024835</td>\n",
       "      <td>11.112761</td>\n",
       "      <td>0.000012</td>\n",
       "      <td>187.364044</td>\n",
       "      <td>0.890425</td>\n",
       "    </tr>\n",
       "    <tr>\n",
       "      <th>45145027</th>\n",
       "      <td>JP</td>\n",
       "      <td>B001MBV4WY</td>\n",
       "      <td>0.022922</td>\n",
       "      <td>11.032597</td>\n",
       "      <td>0.000104</td>\n",
       "      <td>189.534210</td>\n",
       "      <td>0.907429</td>\n",
       "    </tr>\n",
       "    <tr>\n",
       "      <th>45145107</th>\n",
       "      <td>JP</td>\n",
       "      <td>B0872LYZ12</td>\n",
       "      <td>0.021600</td>\n",
       "      <td>10.973176</td>\n",
       "      <td>0.000026</td>\n",
       "      <td>188.152786</td>\n",
       "      <td>0.901896</td>\n",
       "    </tr>\n",
       "    <tr>\n",
       "      <th>45145040</th>\n",
       "      <td>JP</td>\n",
       "      <td>B01B5JCT4E</td>\n",
       "      <td>0.020438</td>\n",
       "      <td>10.917912</td>\n",
       "      <td>0.000056</td>\n",
       "      <td>188.916962</td>\n",
       "      <td>0.893930</td>\n",
       "    </tr>\n",
       "    <tr>\n",
       "      <th>45145026</th>\n",
       "      <td>JP</td>\n",
       "      <td>B001MBV4W4</td>\n",
       "      <td>0.019203</td>\n",
       "      <td>10.855575</td>\n",
       "      <td>0.000005</td>\n",
       "      <td>186.539154</td>\n",
       "      <td>0.890952</td>\n",
       "    </tr>\n",
       "    <tr>\n",
       "      <th>45145052</th>\n",
       "      <td>JP</td>\n",
       "      <td>B073XFGC7K</td>\n",
       "      <td>0.019052</td>\n",
       "      <td>10.847644</td>\n",
       "      <td>0.000019</td>\n",
       "      <td>187.839020</td>\n",
       "      <td>0.895343</td>\n",
       "    </tr>\n",
       "    <tr>\n",
       "      <th>45145281</th>\n",
       "      <td>JP</td>\n",
       "      <td>B0B8Z2LCGG</td>\n",
       "      <td>0.018159</td>\n",
       "      <td>10.799644</td>\n",
       "      <td>0.012610</td>\n",
       "      <td>194.331299</td>\n",
       "      <td>0.930888</td>\n",
       "    </tr>\n",
       "    <tr>\n",
       "      <th>45145246</th>\n",
       "      <td>JP</td>\n",
       "      <td>B0B4JVHKV3</td>\n",
       "      <td>0.016134</td>\n",
       "      <td>10.681395</td>\n",
       "      <td>0.027902</td>\n",
       "      <td>195.125473</td>\n",
       "      <td>0.938006</td>\n",
       "    </tr>\n",
       "    <tr>\n",
       "      <th>45145276</th>\n",
       "      <td>JP</td>\n",
       "      <td>B0B8BZ5367</td>\n",
       "      <td>0.015053</td>\n",
       "      <td>10.612074</td>\n",
       "      <td>0.026769</td>\n",
       "      <td>195.084015</td>\n",
       "      <td>0.936841</td>\n",
       "    </tr>\n",
       "    <tr>\n",
       "      <th>45145268</th>\n",
       "      <td>JP</td>\n",
       "      <td>B0B77L3179</td>\n",
       "      <td>0.014346</td>\n",
       "      <td>10.563965</td>\n",
       "      <td>0.006599</td>\n",
       "      <td>193.683746</td>\n",
       "      <td>0.925962</td>\n",
       "    </tr>\n",
       "    <tr>\n",
       "      <th>45145290</th>\n",
       "      <td>JP</td>\n",
       "      <td>B0BBFYFL8N</td>\n",
       "      <td>0.012896</td>\n",
       "      <td>10.457443</td>\n",
       "      <td>0.001513</td>\n",
       "      <td>192.210602</td>\n",
       "      <td>0.919095</td>\n",
       "    </tr>\n",
       "    <tr>\n",
       "      <th>45145142</th>\n",
       "      <td>JP</td>\n",
       "      <td>B08XVY3QCM</td>\n",
       "      <td>0.011371</td>\n",
       "      <td>10.331600</td>\n",
       "      <td>0.053083</td>\n",
       "      <td>195.768646</td>\n",
       "      <td>0.930383</td>\n",
       "    </tr>\n",
       "    <tr>\n",
       "      <th>45145066</th>\n",
       "      <td>JP</td>\n",
       "      <td>B07FF5JKSM</td>\n",
       "      <td>0.011020</td>\n",
       "      <td>10.300247</td>\n",
       "      <td>0.000009</td>\n",
       "      <td>187.053802</td>\n",
       "      <td>0.895392</td>\n",
       "    </tr>\n",
       "    <tr>\n",
       "      <th>45145076</th>\n",
       "      <td>JP</td>\n",
       "      <td>B07Q59JLHZ</td>\n",
       "      <td>0.010617</td>\n",
       "      <td>10.262918</td>\n",
       "      <td>0.000006</td>\n",
       "      <td>186.608139</td>\n",
       "      <td>0.876944</td>\n",
       "    </tr>\n",
       "  </tbody>\n",
       "</table>\n",
       "</div>"
      ],
      "text/plain": [
       "         sess_locale     product  normalized_sasrec_scores_2  sasrec_scores_2  \\\n",
       "45145287          JP  B0BB78W1K4                    0.109824        12.599373   \n",
       "45145274          JP  B0B7LFKRBW                    0.085752        12.351955   \n",
       "45145171          JP  B09FLRJDZV                    0.066722        12.101032   \n",
       "45145217          JP  B09VK2DCW4                    0.058213        11.964600   \n",
       "45145300          JP  B0BHSYHDC7                    0.046944        11.749451   \n",
       "45145098          JP  B0864F9F3X                    0.038047        11.539320   \n",
       "45145220          JP  B09VXHMB4B                    0.035546        11.471312   \n",
       "45145304          JP  B0BHYZTML3                    0.034852        11.451614   \n",
       "45145289          JP  B0BBFYDRPV                    0.028480        11.249701   \n",
       "45145230          JP  B09YCVY6PY                    0.028295        11.243197   \n",
       "45145081          JP  B07VDCHJSW                    0.025952        11.156754   \n",
       "45145065          JP  B07FF596NN                    0.024835        11.112761   \n",
       "45145027          JP  B001MBV4WY                    0.022922        11.032597   \n",
       "45145107          JP  B0872LYZ12                    0.021600        10.973176   \n",
       "45145040          JP  B01B5JCT4E                    0.020438        10.917912   \n",
       "45145026          JP  B001MBV4W4                    0.019203        10.855575   \n",
       "45145052          JP  B073XFGC7K                    0.019052        10.847644   \n",
       "45145281          JP  B0B8Z2LCGG                    0.018159        10.799644   \n",
       "45145246          JP  B0B4JVHKV3                    0.016134        10.681395   \n",
       "45145276          JP  B0B8BZ5367                    0.015053        10.612074   \n",
       "45145268          JP  B0B77L3179                    0.014346        10.563965   \n",
       "45145290          JP  B0BBFYFL8N                    0.012896        10.457443   \n",
       "45145142          JP  B08XVY3QCM                    0.011371        10.331600   \n",
       "45145066          JP  B07FF5JKSM                    0.011020        10.300247   \n",
       "45145076          JP  B07Q59JLHZ                    0.010617        10.262918   \n",
       "\n",
       "          normalized_text_bert_scores  text_bert_scores  cos_text_bert_scores  \n",
       "45145287                     0.161231        196.879623              0.949360  \n",
       "45145274                     0.010322        194.131088              0.936323  \n",
       "45145171                     0.031126        195.234833              0.929352  \n",
       "45145217                     0.010719        194.168808              0.936697  \n",
       "45145300                     0.103612        196.437439              0.939319  \n",
       "45145098                     0.003106        192.930084              0.932668  \n",
       "45145220                     0.035155        195.356567              0.940585  \n",
       "45145304                     0.001140        191.927689              0.922487  \n",
       "45145289                     0.011010        194.195557              0.932041  \n",
       "45145230                     0.000220        190.281631              0.911501  \n",
       "45145081                     0.000036        188.467087              0.891538  \n",
       "45145065                     0.000012        187.364044              0.890425  \n",
       "45145027                     0.000104        189.534210              0.907429  \n",
       "45145107                     0.000026        188.152786              0.901896  \n",
       "45145040                     0.000056        188.916962              0.893930  \n",
       "45145026                     0.000005        186.539154              0.890952  \n",
       "45145052                     0.000019        187.839020              0.895343  \n",
       "45145281                     0.012610        194.331299              0.930888  \n",
       "45145246                     0.027902        195.125473              0.938006  \n",
       "45145276                     0.026769        195.084015              0.936841  \n",
       "45145268                     0.006599        193.683746              0.925962  \n",
       "45145290                     0.001513        192.210602              0.919095  \n",
       "45145142                     0.053083        195.768646              0.930383  \n",
       "45145066                     0.000009        187.053802              0.895392  \n",
       "45145076                     0.000006        186.608139              0.876944  "
      ]
     },
     "execution_count": 32,
     "metadata": {},
     "output_type": "execute_result"
    }
   ],
   "source": [
    "# verify gru4rec scores\n",
    "merged_candidates[merged_candidates['sess_id'] == 150009].sort_values(by=['sasrec_scores_2'], ascending=False)[['sess_locale', 'product', 'normalized_sasrec_scores_2', 'sasrec_scores_2', 'normalized_'+FIELD_NAME, FIELD_NAME, 'cos_'+FIELD_NAME]].iloc[:25]"
   ]
  },
  {
   "cell_type": "code",
   "execution_count": 33,
   "metadata": {
    "execution": {
     "iopub.execute_input": "2023-06-02T05:01:15.101577Z",
     "iopub.status.busy": "2023-06-02T05:01:15.100178Z",
     "iopub.status.idle": "2023-06-02T05:02:15.190493Z",
     "shell.execute_reply": "2023-06-02T05:02:15.189188Z"
    }
   },
   "outputs": [
    {
     "data": {
      "text/html": [
       "<div>\n",
       "<style scoped>\n",
       "    .dataframe tbody tr th:only-of-type {\n",
       "        vertical-align: middle;\n",
       "    }\n",
       "\n",
       "    .dataframe tbody tr th {\n",
       "        vertical-align: top;\n",
       "    }\n",
       "\n",
       "    .dataframe thead th {\n",
       "        text-align: right;\n",
       "    }\n",
       "</style>\n",
       "<table border=\"1\" class=\"dataframe\">\n",
       "  <thead>\n",
       "    <tr style=\"text-align: right;\">\n",
       "      <th></th>\n",
       "      <th>sess_id</th>\n",
       "      <th>sess_locale</th>\n",
       "      <th>product</th>\n",
       "      <th>target</th>\n",
       "      <th>sess_avg_price</th>\n",
       "      <th>product_price</th>\n",
       "      <th>product_freq</th>\n",
       "      <th>sasrec_scores_3</th>\n",
       "      <th>normalized_sasrec_scores_3</th>\n",
       "      <th>sasrec_scores_2</th>\n",
       "      <th>...</th>\n",
       "      <th>all_items_co_graph_count_2</th>\n",
       "      <th>co_graph_counts_0</th>\n",
       "      <th>normalized_co_graph_counts_0</th>\n",
       "      <th>co_graph_counts_1</th>\n",
       "      <th>normalized_co_graph_counts_1</th>\n",
       "      <th>co_graph_counts_2</th>\n",
       "      <th>normalized_co_graph_counts_2</th>\n",
       "      <th>cos_text_bert_scores</th>\n",
       "      <th>text_bert_scores</th>\n",
       "      <th>normalized_text_bert_scores</th>\n",
       "    </tr>\n",
       "  </thead>\n",
       "  <tbody>\n",
       "    <tr>\n",
       "      <th>0</th>\n",
       "      <td>0</td>\n",
       "      <td>DE</td>\n",
       "      <td>355165591X</td>\n",
       "      <td>0.0</td>\n",
       "      <td>43.256542</td>\n",
       "      <td>8.990000</td>\n",
       "      <td>51.0</td>\n",
       "      <td>2.230508</td>\n",
       "      <td>7.658405e-09</td>\n",
       "      <td>0.512931</td>\n",
       "      <td>...</td>\n",
       "      <td>0</td>\n",
       "      <td>0.0</td>\n",
       "      <td>0.000000</td>\n",
       "      <td>0.000000</td>\n",
       "      <td>0.00000</td>\n",
       "      <td>0.0</td>\n",
       "      <td>0.000000</td>\n",
       "      <td>0.903757</td>\n",
       "      <td>378.286041</td>\n",
       "      <td>1.296655e-08</td>\n",
       "    </tr>\n",
       "    <tr>\n",
       "      <th>1</th>\n",
       "      <td>0</td>\n",
       "      <td>DE</td>\n",
       "      <td>3833237058</td>\n",
       "      <td>0.0</td>\n",
       "      <td>43.256542</td>\n",
       "      <td>22.000000</td>\n",
       "      <td>84.0</td>\n",
       "      <td>9.605231</td>\n",
       "      <td>1.221631e-05</td>\n",
       "      <td>9.325538</td>\n",
       "      <td>...</td>\n",
       "      <td>0</td>\n",
       "      <td>1.0</td>\n",
       "      <td>0.002217</td>\n",
       "      <td>0.090909</td>\n",
       "      <td>0.00083</td>\n",
       "      <td>0.0</td>\n",
       "      <td>0.000000</td>\n",
       "      <td>0.921604</td>\n",
       "      <td>387.624756</td>\n",
       "      <td>1.474268e-04</td>\n",
       "    </tr>\n",
       "    <tr>\n",
       "      <th>2</th>\n",
       "      <td>0</td>\n",
       "      <td>DE</td>\n",
       "      <td>B00CIXSI6U</td>\n",
       "      <td>0.0</td>\n",
       "      <td>43.256542</td>\n",
       "      <td>6.470000</td>\n",
       "      <td>7.0</td>\n",
       "      <td>0.714114</td>\n",
       "      <td>1.681035e-09</td>\n",
       "      <td>-0.115904</td>\n",
       "      <td>...</td>\n",
       "      <td>0</td>\n",
       "      <td>0.0</td>\n",
       "      <td>0.000000</td>\n",
       "      <td>0.000000</td>\n",
       "      <td>0.00000</td>\n",
       "      <td>0.0</td>\n",
       "      <td>0.000000</td>\n",
       "      <td>0.901061</td>\n",
       "      <td>374.802551</td>\n",
       "      <td>3.980740e-10</td>\n",
       "    </tr>\n",
       "    <tr>\n",
       "      <th>3</th>\n",
       "      <td>0</td>\n",
       "      <td>DE</td>\n",
       "      <td>B00NVDOWUW</td>\n",
       "      <td>0.0</td>\n",
       "      <td>43.256542</td>\n",
       "      <td>11.990000</td>\n",
       "      <td>166.0</td>\n",
       "      <td>8.750996</td>\n",
       "      <td>5.199363e-06</td>\n",
       "      <td>8.507557</td>\n",
       "      <td>...</td>\n",
       "      <td>0</td>\n",
       "      <td>0.0</td>\n",
       "      <td>0.000000</td>\n",
       "      <td>0.000000</td>\n",
       "      <td>0.00000</td>\n",
       "      <td>0.0</td>\n",
       "      <td>0.000000</td>\n",
       "      <td>0.927298</td>\n",
       "      <td>385.701782</td>\n",
       "      <td>2.154962e-05</td>\n",
       "    </tr>\n",
       "    <tr>\n",
       "      <th>4</th>\n",
       "      <td>0</td>\n",
       "      <td>DE</td>\n",
       "      <td>B00NVDP3ZU</td>\n",
       "      <td>0.0</td>\n",
       "      <td>43.256542</td>\n",
       "      <td>22.990000</td>\n",
       "      <td>502.0</td>\n",
       "      <td>8.056712</td>\n",
       "      <td>2.596729e-06</td>\n",
       "      <td>5.898870</td>\n",
       "      <td>...</td>\n",
       "      <td>0</td>\n",
       "      <td>0.0</td>\n",
       "      <td>0.000000</td>\n",
       "      <td>0.000000</td>\n",
       "      <td>0.00000</td>\n",
       "      <td>0.0</td>\n",
       "      <td>0.000000</td>\n",
       "      <td>0.930655</td>\n",
       "      <td>385.398499</td>\n",
       "      <td>1.591202e-05</td>\n",
       "    </tr>\n",
       "    <tr>\n",
       "      <th>...</th>\n",
       "      <td>...</td>\n",
       "      <td>...</td>\n",
       "      <td>...</td>\n",
       "      <td>...</td>\n",
       "      <td>...</td>\n",
       "      <td>...</td>\n",
       "      <td>...</td>\n",
       "      <td>...</td>\n",
       "      <td>...</td>\n",
       "      <td>...</td>\n",
       "      <td>...</td>\n",
       "      <td>...</td>\n",
       "      <td>...</td>\n",
       "      <td>...</td>\n",
       "      <td>...</td>\n",
       "      <td>...</td>\n",
       "      <td>...</td>\n",
       "      <td>...</td>\n",
       "      <td>...</td>\n",
       "      <td>...</td>\n",
       "      <td>...</td>\n",
       "    </tr>\n",
       "    <tr>\n",
       "      <th>78842194</th>\n",
       "      <td>261815</td>\n",
       "      <td>UK</td>\n",
       "      <td>B0BCX524Y6</td>\n",
       "      <td>0.0</td>\n",
       "      <td>9.383333</td>\n",
       "      <td>16.990000</td>\n",
       "      <td>7.0</td>\n",
       "      <td>6.813615</td>\n",
       "      <td>1.076201e-03</td>\n",
       "      <td>7.203015</td>\n",
       "      <td>...</td>\n",
       "      <td>0</td>\n",
       "      <td>0.0</td>\n",
       "      <td>0.000000</td>\n",
       "      <td>0.000000</td>\n",
       "      <td>0.00000</td>\n",
       "      <td>0.0</td>\n",
       "      <td>0.000000</td>\n",
       "      <td>0.972680</td>\n",
       "      <td>438.956238</td>\n",
       "      <td>1.636532e-04</td>\n",
       "    </tr>\n",
       "    <tr>\n",
       "      <th>78842195</th>\n",
       "      <td>261815</td>\n",
       "      <td>UK</td>\n",
       "      <td>B0BCX6QB4L</td>\n",
       "      <td>0.0</td>\n",
       "      <td>9.383333</td>\n",
       "      <td>10.990000</td>\n",
       "      <td>53.0</td>\n",
       "      <td>9.030836</td>\n",
       "      <td>9.881445e-03</td>\n",
       "      <td>10.123234</td>\n",
       "      <td>...</td>\n",
       "      <td>2</td>\n",
       "      <td>14.0</td>\n",
       "      <td>0.017115</td>\n",
       "      <td>4.250000</td>\n",
       "      <td>0.01369</td>\n",
       "      <td>2.0</td>\n",
       "      <td>0.010638</td>\n",
       "      <td>0.972680</td>\n",
       "      <td>438.956238</td>\n",
       "      <td>1.636532e-04</td>\n",
       "    </tr>\n",
       "    <tr>\n",
       "      <th>78842196</th>\n",
       "      <td>261815</td>\n",
       "      <td>UK</td>\n",
       "      <td>B0BFPJYXQL</td>\n",
       "      <td>0.0</td>\n",
       "      <td>9.383333</td>\n",
       "      <td>10.560000</td>\n",
       "      <td>7.0</td>\n",
       "      <td>0.796892</td>\n",
       "      <td>2.623396e-06</td>\n",
       "      <td>1.711608</td>\n",
       "      <td>...</td>\n",
       "      <td>0</td>\n",
       "      <td>0.0</td>\n",
       "      <td>0.000000</td>\n",
       "      <td>0.000000</td>\n",
       "      <td>0.00000</td>\n",
       "      <td>0.0</td>\n",
       "      <td>0.000000</td>\n",
       "      <td>0.953467</td>\n",
       "      <td>430.164368</td>\n",
       "      <td>2.486932e-08</td>\n",
       "    </tr>\n",
       "    <tr>\n",
       "      <th>78842197</th>\n",
       "      <td>261815</td>\n",
       "      <td>UK</td>\n",
       "      <td>B0BH3X67S3</td>\n",
       "      <td>0.0</td>\n",
       "      <td>9.383333</td>\n",
       "      <td>6.830000</td>\n",
       "      <td>38.0</td>\n",
       "      <td>4.250781</td>\n",
       "      <td>8.296004e-05</td>\n",
       "      <td>6.447586</td>\n",
       "      <td>...</td>\n",
       "      <td>0</td>\n",
       "      <td>0.0</td>\n",
       "      <td>0.000000</td>\n",
       "      <td>0.000000</td>\n",
       "      <td>0.00000</td>\n",
       "      <td>0.0</td>\n",
       "      <td>0.000000</td>\n",
       "      <td>0.961829</td>\n",
       "      <td>434.029083</td>\n",
       "      <td>1.186011e-06</td>\n",
       "    </tr>\n",
       "    <tr>\n",
       "      <th>78842198</th>\n",
       "      <td>261815</td>\n",
       "      <td>UK</td>\n",
       "      <td>B0BH5MJGGB</td>\n",
       "      <td>0.0</td>\n",
       "      <td>9.383333</td>\n",
       "      <td>22.097065</td>\n",
       "      <td>31.0</td>\n",
       "      <td>-0.310635</td>\n",
       "      <td>8.667048e-07</td>\n",
       "      <td>1.264672</td>\n",
       "      <td>...</td>\n",
       "      <td>0</td>\n",
       "      <td>2.0</td>\n",
       "      <td>0.002445</td>\n",
       "      <td>0.000000</td>\n",
       "      <td>0.00000</td>\n",
       "      <td>0.0</td>\n",
       "      <td>0.000000</td>\n",
       "      <td>0.957924</td>\n",
       "      <td>432.794434</td>\n",
       "      <td>3.450540e-07</td>\n",
       "    </tr>\n",
       "  </tbody>\n",
       "</table>\n",
       "<p>78842199 rows × 34 columns</p>\n",
       "</div>"
      ],
      "text/plain": [
       "          sess_id sess_locale     product  target  sess_avg_price  \\\n",
       "0               0          DE  355165591X     0.0       43.256542   \n",
       "1               0          DE  3833237058     0.0       43.256542   \n",
       "2               0          DE  B00CIXSI6U     0.0       43.256542   \n",
       "3               0          DE  B00NVDOWUW     0.0       43.256542   \n",
       "4               0          DE  B00NVDP3ZU     0.0       43.256542   \n",
       "...           ...         ...         ...     ...             ...   \n",
       "78842194   261815          UK  B0BCX524Y6     0.0        9.383333   \n",
       "78842195   261815          UK  B0BCX6QB4L     0.0        9.383333   \n",
       "78842196   261815          UK  B0BFPJYXQL     0.0        9.383333   \n",
       "78842197   261815          UK  B0BH3X67S3     0.0        9.383333   \n",
       "78842198   261815          UK  B0BH5MJGGB     0.0        9.383333   \n",
       "\n",
       "          product_price  product_freq  sasrec_scores_3  \\\n",
       "0              8.990000          51.0         2.230508   \n",
       "1             22.000000          84.0         9.605231   \n",
       "2              6.470000           7.0         0.714114   \n",
       "3             11.990000         166.0         8.750996   \n",
       "4             22.990000         502.0         8.056712   \n",
       "...                 ...           ...              ...   \n",
       "78842194      16.990000           7.0         6.813615   \n",
       "78842195      10.990000          53.0         9.030836   \n",
       "78842196      10.560000           7.0         0.796892   \n",
       "78842197       6.830000          38.0         4.250781   \n",
       "78842198      22.097065          31.0        -0.310635   \n",
       "\n",
       "          normalized_sasrec_scores_3  sasrec_scores_2  ...  \\\n",
       "0                       7.658405e-09         0.512931  ...   \n",
       "1                       1.221631e-05         9.325538  ...   \n",
       "2                       1.681035e-09        -0.115904  ...   \n",
       "3                       5.199363e-06         8.507557  ...   \n",
       "4                       2.596729e-06         5.898870  ...   \n",
       "...                              ...              ...  ...   \n",
       "78842194                1.076201e-03         7.203015  ...   \n",
       "78842195                9.881445e-03        10.123234  ...   \n",
       "78842196                2.623396e-06         1.711608  ...   \n",
       "78842197                8.296004e-05         6.447586  ...   \n",
       "78842198                8.667048e-07         1.264672  ...   \n",
       "\n",
       "          all_items_co_graph_count_2  co_graph_counts_0  \\\n",
       "0                                  0                0.0   \n",
       "1                                  0                1.0   \n",
       "2                                  0                0.0   \n",
       "3                                  0                0.0   \n",
       "4                                  0                0.0   \n",
       "...                              ...                ...   \n",
       "78842194                           0                0.0   \n",
       "78842195                           2               14.0   \n",
       "78842196                           0                0.0   \n",
       "78842197                           0                0.0   \n",
       "78842198                           0                2.0   \n",
       "\n",
       "          normalized_co_graph_counts_0  co_graph_counts_1  \\\n",
       "0                             0.000000           0.000000   \n",
       "1                             0.002217           0.090909   \n",
       "2                             0.000000           0.000000   \n",
       "3                             0.000000           0.000000   \n",
       "4                             0.000000           0.000000   \n",
       "...                                ...                ...   \n",
       "78842194                      0.000000           0.000000   \n",
       "78842195                      0.017115           4.250000   \n",
       "78842196                      0.000000           0.000000   \n",
       "78842197                      0.000000           0.000000   \n",
       "78842198                      0.002445           0.000000   \n",
       "\n",
       "          normalized_co_graph_counts_1  co_graph_counts_2  \\\n",
       "0                              0.00000                0.0   \n",
       "1                              0.00083                0.0   \n",
       "2                              0.00000                0.0   \n",
       "3                              0.00000                0.0   \n",
       "4                              0.00000                0.0   \n",
       "...                                ...                ...   \n",
       "78842194                       0.00000                0.0   \n",
       "78842195                       0.01369                2.0   \n",
       "78842196                       0.00000                0.0   \n",
       "78842197                       0.00000                0.0   \n",
       "78842198                       0.00000                0.0   \n",
       "\n",
       "          normalized_co_graph_counts_2  cos_text_bert_scores  \\\n",
       "0                             0.000000              0.903757   \n",
       "1                             0.000000              0.921604   \n",
       "2                             0.000000              0.901061   \n",
       "3                             0.000000              0.927298   \n",
       "4                             0.000000              0.930655   \n",
       "...                                ...                   ...   \n",
       "78842194                      0.000000              0.972680   \n",
       "78842195                      0.010638              0.972680   \n",
       "78842196                      0.000000              0.953467   \n",
       "78842197                      0.000000              0.961829   \n",
       "78842198                      0.000000              0.957924   \n",
       "\n",
       "          text_bert_scores  normalized_text_bert_scores  \n",
       "0               378.286041                 1.296655e-08  \n",
       "1               387.624756                 1.474268e-04  \n",
       "2               374.802551                 3.980740e-10  \n",
       "3               385.701782                 2.154962e-05  \n",
       "4               385.398499                 1.591202e-05  \n",
       "...                    ...                          ...  \n",
       "78842194        438.956238                 1.636532e-04  \n",
       "78842195        438.956238                 1.636532e-04  \n",
       "78842196        430.164368                 2.486932e-08  \n",
       "78842197        434.029083                 1.186011e-06  \n",
       "78842198        432.794434                 3.450540e-07  \n",
       "\n",
       "[78842199 rows x 34 columns]"
      ]
     },
     "execution_count": 33,
     "metadata": {},
     "output_type": "execute_result"
    }
   ],
   "source": [
    "merged_candidates"
   ]
  }
 ],
 "metadata": {
  "kernelspec": {
   "display_name": "torch12",
   "language": "python",
   "name": "python3"
  },
  "language_info": {
   "codemirror_mode": {
    "name": "ipython",
    "version": 3
   },
   "file_extension": ".py",
   "mimetype": "text/x-python",
   "name": "python",
   "nbconvert_exporter": "python",
   "pygments_lexer": "ipython3",
   "version": "3.9.15"
  }
 },
 "nbformat": 4,
 "nbformat_minor": 2
}
