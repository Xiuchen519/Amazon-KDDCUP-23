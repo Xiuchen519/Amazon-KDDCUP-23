{
 "cells": [
  {
   "attachments": {},
   "cell_type": "markdown",
   "metadata": {},
   "source": [
    "use loc[i, field] instead of iloc[i, field], iloc is very slow."
   ]
  },
  {
   "cell_type": "code",
   "execution_count": 1,
   "metadata": {
    "execution": {
     "iopub.execute_input": "2023-06-03T17:24:38.223341Z",
     "iopub.status.busy": "2023-06-03T17:24:38.222951Z",
     "iopub.status.idle": "2023-06-03T17:24:39.523856Z",
     "shell.execute_reply": "2023-06-03T17:24:39.522816Z"
    }
   },
   "outputs": [],
   "source": [
    "import sys\n",
    "sys.path = ['/root/autodl-tmp/xiaolong/WorkSpace/Amazon-KDDCUP-23/RecStudio/'] + sys.path\n",
    "import random\n",
    "import numpy as np\n",
    "import pandas as pd\n",
    "# import cudf, itertools\n",
    "import scipy.sparse as ssp\n",
    "from functools import lru_cache, partial\n",
    "from tqdm import tqdm, trange\n",
    "from collections import Counter, defaultdict\n",
    "import torch\n",
    "import pickle\n"
   ]
  },
  {
   "cell_type": "code",
   "execution_count": 2,
   "metadata": {
    "execution": {
     "iopub.execute_input": "2023-06-03T17:24:39.531110Z",
     "iopub.status.busy": "2023-06-03T17:24:39.530693Z",
     "iopub.status.idle": "2023-06-03T17:24:39.539176Z",
     "shell.execute_reply": "2023-06-03T17:24:39.538006Z"
    }
   },
   "outputs": [],
   "source": [
    "def cast_dtype(df : pd.DataFrame, columns=None):\n",
    "    if columns is None:\n",
    "        columns = df.columns\n",
    "    for k in columns:\n",
    "        dt = type(df[k].iloc[0])\n",
    "        if 'float' in str(dt):\n",
    "            df[k] = df[k].astype('float32')\n",
    "        elif 'int' in str(dt):\n",
    "            df[k] = df[k].astype('int32')\n",
    "        elif dt == list:\n",
    "            dt_ = type(df.iloc[0][k][0])\n",
    "            if 'float' in str(dt_):\n",
    "                df[k] = df[k].apply(lambda x : np.array(x, dtype=np.float32))\n",
    "            elif 'int' in str(dt_):\n",
    "                df[k] = df[k].apply(lambda x : np.array(x, dtype=np.int32))"
   ]
  },
  {
   "cell_type": "code",
   "execution_count": 3,
   "metadata": {
    "execution": {
     "iopub.execute_input": "2023-06-03T17:24:39.545291Z",
     "iopub.status.busy": "2023-06-03T17:24:39.544886Z",
     "iopub.status.idle": "2023-06-03T17:24:39.549938Z",
     "shell.execute_reply": "2023-06-03T17:24:39.548954Z"
    }
   },
   "outputs": [],
   "source": [
    "def _load_cache(path):\n",
    "    with open(path, 'rb') as f:\n",
    "        download_obj = pickle.load(f)\n",
    "    return download_obj"
   ]
  },
  {
   "cell_type": "code",
   "execution_count": 4,
   "metadata": {
    "execution": {
     "iopub.execute_input": "2023-06-03T17:24:39.556729Z",
     "iopub.status.busy": "2023-06-03T17:24:39.556310Z",
     "iopub.status.idle": "2023-06-03T17:24:39.568329Z",
     "shell.execute_reply": "2023-06-03T17:24:39.567411Z"
    }
   },
   "outputs": [],
   "source": [
    "def get_scores(merged_candidates_df, query_embeddings, product_embeddings):\n",
    "    batch_size = 2048\n",
    "    num_iter = (len(merged_candidates_df) - 1) // batch_size + 1\n",
    "    score_list = []\n",
    "    with torch.no_grad():\n",
    "        for i in tqdm(range(num_iter)):\n",
    "            st, ed = i * batch_size, (i + 1) * batch_size \n",
    "            batch_sess = merged_candidates_df.iloc[st : ed]\n",
    "            batch_sess_id = torch.tensor(batch_sess['sess_id'].tolist(), dtype=torch.long, device=query_embeddings.device)\n",
    "            batch_product_id = torch.tensor(batch_sess['dataset_id'].tolist(), dtype=torch.long, device=product_embeddings.device)\n",
    "            query_emb = query_embeddings[batch_sess_id].to('cuda:2')\n",
    "            product_emb = product_embeddings[batch_product_id].to('cuda:2')\n",
    "            batch_score = (query_emb * product_emb).sum(dim=-1) \n",
    "            score_list.append(batch_score.cpu())\n",
    "        score_list = torch.cat(score_list, dim=0).cpu().tolist()\n",
    "        return score_list "
   ]
  },
  {
   "cell_type": "code",
   "execution_count": 5,
   "metadata": {
    "execution": {
     "iopub.execute_input": "2023-06-03T17:24:39.575648Z",
     "iopub.status.busy": "2023-06-03T17:24:39.575216Z",
     "iopub.status.idle": "2023-06-03T17:24:39.586611Z",
     "shell.execute_reply": "2023-06-03T17:24:39.585547Z"
    }
   },
   "outputs": [],
   "source": [
    "def normalize_scores(score_df, score_name, normalized_score_name):\n",
    "    # score_df_g = cudf.from_pandas(score_df)\n",
    "    score_df['exp_score'] = np.exp(score_df[score_name].to_numpy())\n",
    "    scores_sum = score_df[['sess_id', 'exp_score']].groupby('sess_id').sum()\n",
    "    scores_sum.reset_index(inplace=True)\n",
    "    scores_sum = scores_sum.sort_values(by=['sess_id'], ascending=True)\n",
    "    scores_sum.reset_index(drop=True, inplace=True)\n",
    "    scores_sum.rename(columns={'exp_score' : 'score_sum'}, inplace=True)\n",
    "\n",
    "    merged_score_df = score_df.merge(scores_sum, how='left', left_on=['sess_id'], right_on=['sess_id'])\n",
    "    merged_score_df = merged_score_df.sort_values(by=['sess_id', 'product'])\n",
    "    merged_score_df.reset_index(drop=True, inplace=True)\n",
    "    \n",
    "    # merged_score_df = merged_score_df_g.to_pandas(merged_score_df_g)\n",
    "    score_df[normalized_score_name] = merged_score_df['exp_score'] / merged_score_df['score_sum']\n",
    "    score_df['exp_score'] = merged_score_df['exp_score']\n",
    "    score_df['score_sum'] = merged_score_df['score_sum']\n",
    "\n",
    "    # del scores_sum_g\n",
    "    # del merged_score_df_g "
   ]
  },
  {
   "attachments": {},
   "cell_type": "markdown",
   "metadata": {},
   "source": [
    "# Merge valid score"
   ]
  },
  {
   "cell_type": "code",
   "execution_count": 6,
   "metadata": {
    "execution": {
     "iopub.execute_input": "2023-06-03T17:24:39.594233Z",
     "iopub.status.busy": "2023-06-03T17:24:39.593767Z",
     "iopub.status.idle": "2023-06-03T17:24:39.599780Z",
     "shell.execute_reply": "2023-06-03T17:24:39.598366Z"
    }
   },
   "outputs": [],
   "source": [
    "merged_candidates_feature_path = '/root/autodl-tmp/xiaolong/WorkSpace/Amazon-KDDCUP-23/XGBoost/candidates_phase2/merged_candidates_150_feature.parquet'\n",
    "valid_sessions_path = '/root/autodl-tmp/xiaolong/WorkSpace/Amazon-KDDCUP-23/data_for_recstudio/task1_data/task13_4_task1_valid_sessions_phase2.csv'\n",
    "test_sessions_path = '/root/autodl-tmp/xiaolong/WorkSpace/Amazon-KDDCUP-23/raw_data/sessions_test_task1_phase2.csv'"
   ]
  },
  {
   "cell_type": "code",
   "execution_count": 7,
   "metadata": {
    "execution": {
     "iopub.execute_input": "2023-06-03T17:24:39.606770Z",
     "iopub.status.busy": "2023-06-03T17:24:39.605975Z",
     "iopub.status.idle": "2023-06-03T17:24:39.615205Z",
     "shell.execute_reply": "2023-06-03T17:24:39.614132Z"
    }
   },
   "outputs": [],
   "source": [
    "@lru_cache(maxsize=1)\n",
    "def read_merged_candidates_feature():\n",
    "    return pd.read_parquet(merged_candidates_feature_path, engine='pyarrow')\n",
    "\n",
    "@lru_cache(maxsize=1)\n",
    "def read_valid_sessions():\n",
    "    return pd.read_csv(valid_sessions_path)\n",
    "\n",
    "@lru_cache(maxsize=1)\n",
    "def read_test_sessions():\n",
    "    return pd.read_csv(test_sessions_path)"
   ]
  },
  {
   "cell_type": "code",
   "execution_count": 8,
   "metadata": {
    "execution": {
     "iopub.execute_input": "2023-06-03T17:24:39.622379Z",
     "iopub.status.busy": "2023-06-03T17:24:39.621790Z",
     "iopub.status.idle": "2023-06-03T17:24:39.627718Z",
     "shell.execute_reply": "2023-06-03T17:24:39.626502Z"
    }
   },
   "outputs": [],
   "source": [
    "FIELD_NAME = 'narm_feat_scores'"
   ]
  },
  {
   "cell_type": "code",
   "execution_count": 9,
   "metadata": {
    "execution": {
     "iopub.execute_input": "2023-06-03T17:24:39.633874Z",
     "iopub.status.busy": "2023-06-03T17:24:39.633024Z",
     "iopub.status.idle": "2023-06-03T17:24:39.641170Z",
     "shell.execute_reply": "2023-06-03T17:24:39.639892Z"
    }
   },
   "outputs": [],
   "source": [
    "DE_product_embeddings_path = '/root/autodl-tmp/xiaolong/WorkSpace/Amazon-KDDCUP-23/candidates_phase2/query_embeddings/NARM_Feat/kdd_cup_2023_DE/product_embeddings_2023-06-03-21-55-48.pt'\n",
    "DE_valid_embeddings_path = '/root/autodl-tmp/xiaolong/WorkSpace/Amazon-KDDCUP-23/candidates_phase2/query_embeddings/NARM_Feat/kdd_cup_2023_DE/valid_embeddings_2023-06-03-21-55-54.pt'\n",
    "JP_product_embeddings_path = '/root/autodl-tmp/xiaolong/WorkSpace/Amazon-KDDCUP-23/candidates_phase2/query_embeddings/NARM_Feat/kdd_cup_2023_JP/product_embeddings_2023-06-03-21-57-16.pt'\n",
    "JP_valid_embeddings_path = '/root/autodl-tmp/xiaolong/WorkSpace/Amazon-KDDCUP-23/candidates_phase2/query_embeddings/NARM_Feat/kdd_cup_2023_JP/valid_embeddings_2023-06-03-21-57-22.pt'\n",
    "UK_product_embeddings_path = '/root/autodl-tmp/xiaolong/WorkSpace/Amazon-KDDCUP-23/candidates_phase2/query_embeddings/NARM_Feat/kdd_cup_2023_UK/product_embeddings_2023-06-03-21-58-29.pt'\n",
    "UK_valid_embeddings_path = '/root/autodl-tmp/xiaolong/WorkSpace/Amazon-KDDCUP-23/candidates_phase2/query_embeddings/NARM_Feat/kdd_cup_2023_UK/valid_embeddings_2023-06-03-21-58-35.pt'"
   ]
  },
  {
   "cell_type": "code",
   "execution_count": 10,
   "metadata": {
    "execution": {
     "iopub.execute_input": "2023-06-03T17:24:39.647730Z",
     "iopub.status.busy": "2023-06-03T17:24:39.646880Z",
     "iopub.status.idle": "2023-06-03T17:24:39.653303Z",
     "shell.execute_reply": "2023-06-03T17:24:39.652139Z"
    }
   },
   "outputs": [],
   "source": [
    "DE_dataset_cache = '/root/autodl-tmp/xiaolong/WorkSpace/Amazon-KDDCUP-23/.recstudio/cache/b5aeac4e5b9ff0518bbcb59a28086594'\n",
    "JP_dataset_cache = '/root/autodl-tmp/xiaolong/WorkSpace/Amazon-KDDCUP-23/.recstudio/cache/2536617955df215e0047f5b220d1c012'\n",
    "UK_dataset_cache = '/root/autodl-tmp/xiaolong/WorkSpace/Amazon-KDDCUP-23/.recstudio/cache/8d133ea55ad67bd3efd625dfeff0fb1d'"
   ]
  },
  {
   "cell_type": "code",
   "execution_count": 11,
   "metadata": {
    "execution": {
     "iopub.execute_input": "2023-06-03T17:24:39.660666Z",
     "iopub.status.busy": "2023-06-03T17:24:39.659844Z",
     "iopub.status.idle": "2023-06-03T17:24:58.050882Z",
     "shell.execute_reply": "2023-06-03T17:24:58.048360Z"
    }
   },
   "outputs": [],
   "source": [
    "DE_train_dataset, DE_valid_dataset = _load_cache(DE_dataset_cache)\n",
    "JP_train_dataset, JP_valid_dataset = _load_cache(JP_dataset_cache)\n",
    "UK_train_dataset, UK_valid_dataset = _load_cache(UK_dataset_cache)\n",
    "locale_map = {\n",
    "    'DE' : DE_train_dataset.field2token2idx['product_id'], \n",
    "    'JP' : JP_train_dataset.field2token2idx['product_id'], \n",
    "    'UK' : UK_train_dataset.field2token2idx['product_id']\n",
    "    }"
   ]
  },
  {
   "cell_type": "code",
   "execution_count": 12,
   "metadata": {
    "execution": {
     "iopub.execute_input": "2023-06-03T17:24:58.061429Z",
     "iopub.status.busy": "2023-06-03T17:24:58.059772Z",
     "iopub.status.idle": "2023-06-03T17:27:16.289592Z",
     "shell.execute_reply": "2023-06-03T17:27:16.288166Z"
    }
   },
   "outputs": [],
   "source": [
    "merged_candidates = read_merged_candidates_feature()\n",
    "valid_sessions = read_valid_sessions()\n",
    "EMBED_DIM = 128\n",
    "merged_candidates.sort_values(by=['sess_id', 'product'], inplace=True)\n",
    "merged_candidates.reset_index(drop=True, inplace=True)"
   ]
  },
  {
   "cell_type": "code",
   "execution_count": 13,
   "metadata": {
    "execution": {
     "iopub.execute_input": "2023-06-03T17:27:16.296881Z",
     "iopub.status.busy": "2023-06-03T17:27:16.296388Z",
     "iopub.status.idle": "2023-06-03T17:27:16.578161Z",
     "shell.execute_reply": "2023-06-03T17:27:16.577048Z"
    }
   },
   "outputs": [],
   "source": [
    "# sess embeddings \n",
    "valid_DE_query_emb = torch.load(DE_valid_embeddings_path, map_location='cpu')\n",
    "valid_JP_query_emb = torch.load(JP_valid_embeddings_path, map_location='cpu')\n",
    "valid_UK_query_emb = torch.load(UK_valid_embeddings_path, map_location='cpu')\n",
    "valid_query_embeddings = torch.empty(len(valid_sessions), EMBED_DIM)\n",
    "valid_query_embeddings[(valid_sessions[valid_sessions['locale'] == 'DE'].index).tolist()] = valid_DE_query_emb\n",
    "valid_query_embeddings[(valid_sessions[valid_sessions['locale'] == 'JP'].index).tolist()] = valid_JP_query_emb\n",
    "valid_query_embeddings[(valid_sessions[valid_sessions['locale'] == 'UK'].index).tolist()] = valid_UK_query_emb"
   ]
  },
  {
   "cell_type": "code",
   "execution_count": 14,
   "metadata": {
    "execution": {
     "iopub.execute_input": "2023-06-03T17:27:16.585191Z",
     "iopub.status.busy": "2023-06-03T17:27:16.584654Z",
     "iopub.status.idle": "2023-06-03T17:27:17.303684Z",
     "shell.execute_reply": "2023-06-03T17:27:17.302571Z"
    }
   },
   "outputs": [],
   "source": [
    "# product_embeddings \n",
    "DE_product_emb = torch.load(DE_product_embeddings_path, map_location='cpu')\n",
    "JP_product_emb = torch.load(JP_product_embeddings_path, map_location='cpu')\n",
    "UK_product_emb = torch.load(UK_product_embeddings_path, map_location='cpu')\n",
    "product_embeddings = torch.cat([DE_product_emb, JP_product_emb, UK_product_emb], dim=0)"
   ]
  },
  {
   "cell_type": "code",
   "execution_count": 15,
   "metadata": {
    "execution": {
     "iopub.execute_input": "2023-06-03T17:27:17.310810Z",
     "iopub.status.busy": "2023-06-03T17:27:17.310203Z",
     "iopub.status.idle": "2023-06-03T17:27:25.474099Z",
     "shell.execute_reply": "2023-06-03T17:27:25.473143Z"
    }
   },
   "outputs": [],
   "source": [
    "merged_candidates_ = merged_candidates[['sess_id', 'sess_locale', 'product']].copy()"
   ]
  },
  {
   "cell_type": "code",
   "execution_count": 16,
   "metadata": {
    "execution": {
     "iopub.execute_input": "2023-06-03T17:27:25.483064Z",
     "iopub.status.busy": "2023-06-03T17:27:25.482653Z",
     "iopub.status.idle": "2023-06-03T17:27:28.079710Z",
     "shell.execute_reply": "2023-06-03T17:27:28.078856Z"
    }
   },
   "outputs": [],
   "source": [
    "DE_product_list, DE_id_list = list(zip(*locale_map['DE'].items()))\n",
    "JP_product_list, JP_id_list = list(zip(*locale_map['JP'].items()))\n",
    "UK_product_list, UK_id_list = list(zip(*locale_map['UK'].items()))\n",
    "product_list = list(DE_product_list) + list(JP_product_list) + list(UK_product_list)\n",
    "id_list = list(DE_id_list) + list(JP_id_list) + list(UK_id_list)\n",
    "locale_list = ['DE'] * len(DE_id_list) + ['JP'] * len(JP_id_list) + ['UK'] * len(UK_id_list)\n",
    "product_id_df = pd.DataFrame({'locale' : locale_list, 'product' : product_list, 'dataset_id' : id_list})"
   ]
  },
  {
   "cell_type": "code",
   "execution_count": 17,
   "metadata": {
    "execution": {
     "iopub.execute_input": "2023-06-03T17:27:28.086964Z",
     "iopub.status.busy": "2023-06-03T17:27:28.086391Z",
     "iopub.status.idle": "2023-06-03T17:27:28.091128Z",
     "shell.execute_reply": "2023-06-03T17:27:28.090071Z"
    }
   },
   "outputs": [],
   "source": [
    "# merged_candidates_g = cudf.from_pandas(merged_candidates_)\n",
    "# product_id_df_g = cudf.from_pandas(product_id_df)"
   ]
  },
  {
   "cell_type": "code",
   "execution_count": 18,
   "metadata": {
    "execution": {
     "iopub.execute_input": "2023-06-03T17:27:28.098390Z",
     "iopub.status.busy": "2023-06-03T17:27:28.097803Z",
     "iopub.status.idle": "2023-06-03T17:27:28.102859Z",
     "shell.execute_reply": "2023-06-03T17:27:28.101829Z"
    }
   },
   "outputs": [],
   "source": [
    "# merged_candidates_score_g = merged_candidates_g.merge(product_id_df_g, how='left', left_on=['sess_locale', 'product'], right_on=['locale', 'product'])\n",
    "# merged_candidates_score_g['dataset_id'] = merged_candidates_score_g['dataset_id'].fillna(0)\n",
    "# merged_candidates_score_g.drop(columns=['locale'], inplace=True)\n",
    "# merged_candidates_score_g = merged_candidates_score_g.sort_values(by=['sess_id', 'product'])\n",
    "# merged_candidates_score_g.reset_index(drop=True, inplace=True)\n",
    "# merged_candidates_score = merged_candidates_score_g.to_pandas()"
   ]
  },
  {
   "cell_type": "code",
   "execution_count": 19,
   "metadata": {
    "execution": {
     "iopub.execute_input": "2023-06-03T17:27:28.109356Z",
     "iopub.status.busy": "2023-06-03T17:27:28.108687Z",
     "iopub.status.idle": "2023-06-03T17:29:57.271256Z",
     "shell.execute_reply": "2023-06-03T17:29:57.269905Z"
    }
   },
   "outputs": [],
   "source": [
    "merged_candidates_score = merged_candidates_.merge(product_id_df, how='left', left_on=['sess_locale', 'product'], right_on=['locale', 'product'])\n",
    "merged_candidates_score['dataset_id'] = merged_candidates_score['dataset_id'].fillna(0)\n",
    "merged_candidates_score.drop(columns=['locale'], inplace=True)\n",
    "merged_candidates_score = merged_candidates_score.sort_values(by=['sess_id', 'product'])\n",
    "merged_candidates_score.reset_index(drop=True, inplace=True)\n",
    "assert len(merged_candidates_score) == len(merged_candidates)"
   ]
  },
  {
   "cell_type": "code",
   "execution_count": 20,
   "metadata": {
    "execution": {
     "iopub.execute_input": "2023-06-03T17:29:57.278936Z",
     "iopub.status.busy": "2023-06-03T17:29:57.278457Z",
     "iopub.status.idle": "2023-06-03T17:29:57.283909Z",
     "shell.execute_reply": "2023-06-03T17:29:57.282674Z"
    }
   },
   "outputs": [],
   "source": [
    "# del merged_candidates_g\n",
    "# del product_id_df_g\n",
    "# del merged_candidates_score_g"
   ]
  },
  {
   "cell_type": "code",
   "execution_count": 21,
   "metadata": {
    "execution": {
     "iopub.execute_input": "2023-06-03T17:29:57.291167Z",
     "iopub.status.busy": "2023-06-03T17:29:57.290505Z",
     "iopub.status.idle": "2023-06-03T17:30:43.176863Z",
     "shell.execute_reply": "2023-06-03T17:30:43.175482Z"
    }
   },
   "outputs": [
    {
     "name": "stderr",
     "output_type": "stream",
     "text": [
      "/tmp/ipykernel_186773/2978421209.py:3: SettingWithCopyWarning: \n",
      "A value is trying to be set on a copy of a slice from a DataFrame\n",
      "\n",
      "See the caveats in the documentation: https://pandas.pydata.org/pandas-docs/stable/user_guide/indexing.html#returning-a-view-versus-a-copy\n",
      "  merged_candidates_score['dataset_id'][merged_candidates_score['sess_locale'] == locale] = \\\n"
     ]
    }
   ],
   "source": [
    "locale_offset = {'DE' : 0, 'JP' : len(DE_product_list), 'UK' : len(DE_product_list) + len(JP_product_list)}\n",
    "for locale in ['DE', 'JP', 'UK']:\n",
    "    merged_candidates_score['dataset_id'][merged_candidates_score['sess_locale'] == locale] = \\\n",
    "        merged_candidates_score['dataset_id'][merged_candidates_score['sess_locale'] == locale] + locale_offset[locale]"
   ]
  },
  {
   "cell_type": "code",
   "execution_count": 22,
   "metadata": {
    "execution": {
     "iopub.execute_input": "2023-06-03T17:30:43.184107Z",
     "iopub.status.busy": "2023-06-03T17:30:43.183717Z",
     "iopub.status.idle": "2023-06-03T17:33:17.568401Z",
     "shell.execute_reply": "2023-06-03T17:33:17.566999Z"
    }
   },
   "outputs": [
    {
     "name": "stderr",
     "output_type": "stream",
     "text": [
      "  0%|                                                                                                                                                                       | 0/38498 [00:00<?, ?it/s]/tmp/ipykernel_186773/1566316832.py:10: DeprecationWarning: an integer is required (got type float).  Implicit conversion to integers using __int__ is deprecated, and may be removed in a future version of Python.\n",
      "  batch_product_id = torch.tensor(batch_sess['dataset_id'].tolist(), dtype=torch.long, device=product_embeddings.device)\n",
      "100%|██████████████████████████████████████████████████████████████████████████████████████████████████████████████████████████████████████████████████████████| 38498/38498 [02:18<00:00, 278.18it/s]\n"
     ]
    }
   ],
   "source": [
    "merged_candidates_score[FIELD_NAME] = get_scores(merged_candidates_score, valid_query_embeddings, product_embeddings)"
   ]
  },
  {
   "cell_type": "code",
   "execution_count": 23,
   "metadata": {
    "execution": {
     "iopub.execute_input": "2023-06-03T17:33:17.579446Z",
     "iopub.status.busy": "2023-06-03T17:33:17.578724Z",
     "iopub.status.idle": "2023-06-03T17:33:17.680284Z",
     "shell.execute_reply": "2023-06-03T17:33:17.679390Z"
    }
   },
   "outputs": [],
   "source": [
    "del valid_query_embeddings\n",
    "del product_embeddings"
   ]
  },
  {
   "cell_type": "code",
   "execution_count": 24,
   "metadata": {
    "execution": {
     "iopub.execute_input": "2023-06-03T17:33:17.686485Z",
     "iopub.status.busy": "2023-06-03T17:33:17.686107Z",
     "iopub.status.idle": "2023-06-03T17:35:09.924860Z",
     "shell.execute_reply": "2023-06-03T17:35:09.923630Z"
    }
   },
   "outputs": [],
   "source": [
    "normalize_scores(merged_candidates_score, FIELD_NAME, 'normalized_'+FIELD_NAME)"
   ]
  },
  {
   "cell_type": "code",
   "execution_count": 25,
   "metadata": {
    "execution": {
     "iopub.execute_input": "2023-06-03T17:35:09.932622Z",
     "iopub.status.busy": "2023-06-03T17:35:09.932182Z",
     "iopub.status.idle": "2023-06-03T17:35:10.859863Z",
     "shell.execute_reply": "2023-06-03T17:35:10.858964Z"
    }
   },
   "outputs": [],
   "source": [
    "merged_candidates[FIELD_NAME] = merged_candidates_score[FIELD_NAME]\n",
    "merged_candidates['normalized_'+FIELD_NAME] = merged_candidates_score['normalized_'+FIELD_NAME]"
   ]
  },
  {
   "cell_type": "code",
   "execution_count": 26,
   "metadata": {
    "execution": {
     "iopub.execute_input": "2023-06-03T17:35:10.867140Z",
     "iopub.status.busy": "2023-06-03T17:35:10.866763Z",
     "iopub.status.idle": "2023-06-03T17:36:27.332668Z",
     "shell.execute_reply": "2023-06-03T17:36:27.331508Z"
    }
   },
   "outputs": [],
   "source": [
    "cast_dtype(merged_candidates, [FIELD_NAME, 'normalized_'+FIELD_NAME])\n",
    "merged_candidates.to_parquet(merged_candidates_feature_path, engine='pyarrow')"
   ]
  },
  {
   "cell_type": "code",
   "execution_count": 27,
   "metadata": {
    "execution": {
     "iopub.execute_input": "2023-06-03T17:36:27.340343Z",
     "iopub.status.busy": "2023-06-03T17:36:27.339900Z",
     "iopub.status.idle": "2023-06-03T17:36:48.026404Z",
     "shell.execute_reply": "2023-06-03T17:36:48.025478Z"
    }
   },
   "outputs": [
    {
     "data": {
      "text/html": [
       "<div>\n",
       "<style scoped>\n",
       "    .dataframe tbody tr th:only-of-type {\n",
       "        vertical-align: middle;\n",
       "    }\n",
       "\n",
       "    .dataframe tbody tr th {\n",
       "        vertical-align: top;\n",
       "    }\n",
       "\n",
       "    .dataframe thead th {\n",
       "        text-align: right;\n",
       "    }\n",
       "</style>\n",
       "<table border=\"1\" class=\"dataframe\">\n",
       "  <thead>\n",
       "    <tr style=\"text-align: right;\">\n",
       "      <th></th>\n",
       "      <th>sess_locale</th>\n",
       "      <th>product</th>\n",
       "      <th>normalized_sasrec_scores_2</th>\n",
       "      <th>sasrec_scores_2</th>\n",
       "      <th>normalized_narm_feat_scores</th>\n",
       "      <th>narm_feat_scores</th>\n",
       "    </tr>\n",
       "  </thead>\n",
       "  <tbody>\n",
       "    <tr>\n",
       "      <th>45142726</th>\n",
       "      <td>JP</td>\n",
       "      <td>B01G4IIOAO</td>\n",
       "      <td>0.235870</td>\n",
       "      <td>17.185946</td>\n",
       "      <td>0.152465</td>\n",
       "      <td>14.479254</td>\n",
       "    </tr>\n",
       "    <tr>\n",
       "      <th>45142762</th>\n",
       "      <td>JP</td>\n",
       "      <td>B075FTW3PD</td>\n",
       "      <td>0.146815</td>\n",
       "      <td>16.711842</td>\n",
       "      <td>0.100060</td>\n",
       "      <td>14.058083</td>\n",
       "    </tr>\n",
       "    <tr>\n",
       "      <th>45142698</th>\n",
       "      <td>JP</td>\n",
       "      <td>B00JX88YJE</td>\n",
       "      <td>0.311983</td>\n",
       "      <td>17.465614</td>\n",
       "      <td>0.278987</td>\n",
       "      <td>15.083484</td>\n",
       "    </tr>\n",
       "    <tr>\n",
       "      <th>45142729</th>\n",
       "      <td>JP</td>\n",
       "      <td>B01HM6XIVM</td>\n",
       "      <td>0.107268</td>\n",
       "      <td>16.397999</td>\n",
       "      <td>0.093529</td>\n",
       "      <td>13.990591</td>\n",
       "    </tr>\n",
       "    <tr>\n",
       "      <th>45142699</th>\n",
       "      <td>JP</td>\n",
       "      <td>B00JX88YJY</td>\n",
       "      <td>0.106716</td>\n",
       "      <td>16.392834</td>\n",
       "      <td>0.121897</td>\n",
       "      <td>14.255495</td>\n",
       "    </tr>\n",
       "    <tr>\n",
       "      <th>45142724</th>\n",
       "      <td>JP</td>\n",
       "      <td>B01G4III8W</td>\n",
       "      <td>0.008586</td>\n",
       "      <td>13.872841</td>\n",
       "      <td>0.027234</td>\n",
       "      <td>12.756790</td>\n",
       "    </tr>\n",
       "    <tr>\n",
       "      <th>45142702</th>\n",
       "      <td>JP</td>\n",
       "      <td>B00LSCAO1E</td>\n",
       "      <td>0.016529</td>\n",
       "      <td>14.527805</td>\n",
       "      <td>0.018880</td>\n",
       "      <td>12.390400</td>\n",
       "    </tr>\n",
       "    <tr>\n",
       "      <th>45142791</th>\n",
       "      <td>JP</td>\n",
       "      <td>B07G93RR4S</td>\n",
       "      <td>0.021031</td>\n",
       "      <td>14.768680</td>\n",
       "      <td>0.036285</td>\n",
       "      <td>13.043726</td>\n",
       "    </tr>\n",
       "    <tr>\n",
       "      <th>45142728</th>\n",
       "      <td>JP</td>\n",
       "      <td>B01GR9UTLM</td>\n",
       "      <td>0.017104</td>\n",
       "      <td>14.561987</td>\n",
       "      <td>0.018452</td>\n",
       "      <td>12.367491</td>\n",
       "    </tr>\n",
       "    <tr>\n",
       "      <th>45142779</th>\n",
       "      <td>JP</td>\n",
       "      <td>B07BFV9G1G</td>\n",
       "      <td>0.000741</td>\n",
       "      <td>11.422927</td>\n",
       "      <td>0.016595</td>\n",
       "      <td>12.261435</td>\n",
       "    </tr>\n",
       "    <tr>\n",
       "      <th>45142680</th>\n",
       "      <td>JP</td>\n",
       "      <td>B009GYL0LO</td>\n",
       "      <td>0.002587</td>\n",
       "      <td>12.673185</td>\n",
       "      <td>0.010969</td>\n",
       "      <td>11.847357</td>\n",
       "    </tr>\n",
       "    <tr>\n",
       "      <th>45142663</th>\n",
       "      <td>JP</td>\n",
       "      <td>B000WIDOL2</td>\n",
       "      <td>0.003376</td>\n",
       "      <td>12.939500</td>\n",
       "      <td>0.001449</td>\n",
       "      <td>9.823312</td>\n",
       "    </tr>\n",
       "    <tr>\n",
       "      <th>45142930</th>\n",
       "      <td>JP</td>\n",
       "      <td>B092M87ZPX</td>\n",
       "      <td>0.000260</td>\n",
       "      <td>10.374493</td>\n",
       "      <td>0.003804</td>\n",
       "      <td>10.788440</td>\n",
       "    </tr>\n",
       "    <tr>\n",
       "      <th>45142931</th>\n",
       "      <td>JP</td>\n",
       "      <td>B092MDQG3J</td>\n",
       "      <td>0.001423</td>\n",
       "      <td>12.075119</td>\n",
       "      <td>0.002227</td>\n",
       "      <td>10.253023</td>\n",
       "    </tr>\n",
       "    <tr>\n",
       "      <th>45142780</th>\n",
       "      <td>JP</td>\n",
       "      <td>B07CG5Z7VZ</td>\n",
       "      <td>0.001019</td>\n",
       "      <td>11.741604</td>\n",
       "      <td>0.007264</td>\n",
       "      <td>11.435225</td>\n",
       "    </tr>\n",
       "  </tbody>\n",
       "</table>\n",
       "</div>"
      ],
      "text/plain": [
       "         sess_locale     product  normalized_sasrec_scores_2  sasrec_scores_2  \\\n",
       "45142726          JP  B01G4IIOAO                    0.235870        17.185946   \n",
       "45142762          JP  B075FTW3PD                    0.146815        16.711842   \n",
       "45142698          JP  B00JX88YJE                    0.311983        17.465614   \n",
       "45142729          JP  B01HM6XIVM                    0.107268        16.397999   \n",
       "45142699          JP  B00JX88YJY                    0.106716        16.392834   \n",
       "45142724          JP  B01G4III8W                    0.008586        13.872841   \n",
       "45142702          JP  B00LSCAO1E                    0.016529        14.527805   \n",
       "45142791          JP  B07G93RR4S                    0.021031        14.768680   \n",
       "45142728          JP  B01GR9UTLM                    0.017104        14.561987   \n",
       "45142779          JP  B07BFV9G1G                    0.000741        11.422927   \n",
       "45142680          JP  B009GYL0LO                    0.002587        12.673185   \n",
       "45142663          JP  B000WIDOL2                    0.003376        12.939500   \n",
       "45142930          JP  B092M87ZPX                    0.000260        10.374493   \n",
       "45142931          JP  B092MDQG3J                    0.001423        12.075119   \n",
       "45142780          JP  B07CG5Z7VZ                    0.001019        11.741604   \n",
       "\n",
       "          normalized_narm_feat_scores  narm_feat_scores  \n",
       "45142726                     0.152465         14.479254  \n",
       "45142762                     0.100060         14.058083  \n",
       "45142698                     0.278987         15.083484  \n",
       "45142729                     0.093529         13.990591  \n",
       "45142699                     0.121897         14.255495  \n",
       "45142724                     0.027234         12.756790  \n",
       "45142702                     0.018880         12.390400  \n",
       "45142791                     0.036285         13.043726  \n",
       "45142728                     0.018452         12.367491  \n",
       "45142779                     0.016595         12.261435  \n",
       "45142680                     0.010969         11.847357  \n",
       "45142663                     0.001449          9.823312  \n",
       "45142930                     0.003804         10.788440  \n",
       "45142931                     0.002227         10.253023  \n",
       "45142780                     0.007264         11.435225  "
      ]
     },
     "execution_count": 27,
     "metadata": {},
     "output_type": "execute_result"
    }
   ],
   "source": [
    "# verify gru4rec scores\n",
    "merged_candidates[merged_candidates['sess_id'] == 150001].sort_values(by=['narm_scores'], ascending=False)[['sess_locale', 'product', 'normalized_sasrec_scores_2', 'sasrec_scores_2', 'normalized_'+FIELD_NAME, FIELD_NAME]].iloc[:15]"
   ]
  }
 ],
 "metadata": {
  "kernelspec": {
   "display_name": "torch12",
   "language": "python",
   "name": "python3"
  },
  "language_info": {
   "codemirror_mode": {
    "name": "ipython",
    "version": 3
   },
   "file_extension": ".py",
   "mimetype": "text/x-python",
   "name": "python",
   "nbconvert_exporter": "python",
   "pygments_lexer": "ipython3",
   "version": "3.9.15"
  }
 },
 "nbformat": 4,
 "nbformat_minor": 2
}
