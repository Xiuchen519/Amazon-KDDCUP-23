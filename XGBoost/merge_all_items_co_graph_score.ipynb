{
 "cells": [
  {
   "attachments": {},
   "cell_type": "markdown",
   "metadata": {},
   "source": [
    "# Necessary Common Functions\n",
    "\n",
    "Those functions should be ran before each part."
   ]
  },
  {
   "cell_type": "code",
   "execution_count": 3,
   "metadata": {},
   "outputs": [
    {
     "name": "stderr",
     "output_type": "stream",
     "text": [
      "/root/autodl-tmp/xiaolong/.conda/envs/torch12/lib/python3.9/site-packages/tqdm/auto.py:22: TqdmWarning: IProgress not found. Please update jupyter and ipywidgets. See https://ipywidgets.readthedocs.io/en/stable/user_install.html\n",
      "  from .autonotebook import tqdm as notebook_tqdm\n"
     ]
    }
   ],
   "source": [
    "import os\n",
    "import random\n",
    "import numpy as np\n",
    "import pandas as pd\n",
    "import cudf, itertools\n",
    "import scipy.sparse as ssp\n",
    "from functools import lru_cache\n",
    "from tqdm import tqdm, trange\n",
    "from collections import Counter, defaultdict\n",
    "import numba \n",
    "from numba import jit\n",
    "import datasets\n",
    "from datasets import Dataset as TFDataset"
   ]
  },
  {
   "cell_type": "code",
   "execution_count": 4,
   "metadata": {},
   "outputs": [],
   "source": [
    "def get_sessions(df: pd.DataFrame, test=False, list_item=False) -> list:\n",
    "    \n",
    "    all_item = []\n",
    "    if 'next_item' in df and not test:\n",
    "        if list_item:\n",
    "            for i in trange(len(df)):\n",
    "                all_item.append(np.concatenate([np.array(df.loc[i, 'prev_items']), np.array(df.loc[i, 'next_item'])], axis=0))\n",
    "        else:\n",
    "            for i in trange(len(df)):\n",
    "                all_item.append(eval((df.loc[i, 'prev_items'][:-1]+f\" '{df.loc[i, 'next_item']}']\").replace(\" \", \",\")))\n",
    "    else:\n",
    "        if list_item:\n",
    "            all_item = df['prev_items']\n",
    "        else:\n",
    "            for i in trange(len(df)):\n",
    "                all_item.append(eval((df.loc[i, 'prev_items']).replace(\" \", \",\")))\n",
    "    return all_item"
   ]
  },
  {
   "cell_type": "code",
   "execution_count": 5,
   "metadata": {},
   "outputs": [],
   "source": [
    "def get_co_occurence_dict(sessions: list, bidirection: bool=True, weighted: bool=False, max_dis=None) -> dict:\n",
    "    res = {}\n",
    "    for sess in tqdm(sessions):\n",
    "        for i, id in enumerate(sess):\n",
    "            if id not in res:\n",
    "                res[id] = Counter()\n",
    "            \n",
    "            if max_dis == None:\n",
    "                e = len(sess)\n",
    "            else:\n",
    "                e = min(i + max_dis + 1, len(sess))\n",
    "\n",
    "            for j in range(i+1, e):\n",
    "                if not weighted:\n",
    "                    res[id][sess[j]] += 1\n",
    "                else:\n",
    "                    res[id][sess[j]] += 1 / (j-i)\n",
    "                if bidirection:\n",
    "                    if sess[j] not in res:\n",
    "                        res[sess[j]] = Counter()\n",
    "                    if not weighted:\n",
    "                        res[sess[j]][id] += 1\n",
    "                    else:\n",
    "                        res[sess[j]][id] += 1 / (j-i)\n",
    "    return res"
   ]
  },
  {
   "cell_type": "code",
   "execution_count": 6,
   "metadata": {},
   "outputs": [],
   "source": [
    "def sort_co_occurence_dict(co_occurence_dict: dict) -> dict:\n",
    "    res = {}\n",
    "    for k,v in co_occurence_dict.items():\n",
    "        res[k] = dict(sorted(v.items(), key=lambda item: -item[1]))\n",
    "    return res"
   ]
  },
  {
   "cell_type": "code",
   "execution_count": 7,
   "metadata": {},
   "outputs": [],
   "source": [
    "def cast_dtype(df : pd.DataFrame):\n",
    "    for k in df.columns:\n",
    "        dt = type(df[k].iloc[0])\n",
    "        if 'float' in str(dt):\n",
    "            df[k] = df[k].astype('float32')\n",
    "        elif 'int' in str(dt):\n",
    "            df[k] = df[k].astype('int32')\n",
    "        elif dt == list:\n",
    "            dt_ = type(df.iloc[0][k][0])\n",
    "            if 'float' in str(dt_):\n",
    "                df[k] = df[k].apply(lambda x : np.array(x, dtype=np.float32))\n",
    "            elif 'int' in str(dt_):\n",
    "                df[k] = df[k].apply(lambda x : np.array(x, dtype=np.int32))"
   ]
  },
  {
   "cell_type": "code",
   "execution_count": 8,
   "metadata": {},
   "outputs": [],
   "source": [
    "def get_session_last_item(session_df):\n",
    "    last_items = []\n",
    "    num_sessions = len(session_df)\n",
    "    for i in tqdm(range(num_sessions)):\n",
    "        sess = session_df.iloc[i]\n",
    "        sess_prev_items = sess['prev_items']\n",
    "        \n",
    "        product_list = sess_prev_items.strip('[]').split(' ')\n",
    "        last_item = product_list[-1].strip(\"'\\n\")\n",
    "\n",
    "        last_items.append(last_item)\n",
    "    return last_items "
   ]
  },
  {
   "cell_type": "code",
   "execution_count": 9,
   "metadata": {},
   "outputs": [],
   "source": [
    "def get_co_graph_counts(session_last_items, merged_candidates_df, co_graph_dict):\n",
    "    co_graph_count_list = []\n",
    "    for idx, row in tqdm(merged_candidates_df.iterrows(), total=merged_candidates_df.shape[0]):\n",
    "        sess_id = row['sess_id']\n",
    "        product = row['product']\n",
    "        last_item = session_last_items[sess_id]\n",
    "        co_graph_count = co_graph_dict[last_item][product]\n",
    "        co_graph_count_list.append(co_graph_count)\n",
    "    return co_graph_count_list"
   ]
  },
  {
   "cell_type": "code",
   "execution_count": 10,
   "metadata": {},
   "outputs": [],
   "source": [
    "def flatten_co_graph_dict(co_graph_dict):\n",
    "    product_list = []\n",
    "    neighbor_list = []\n",
    "    counts_list = []\n",
    "    for product in tqdm(co_graph_dict.keys(), total=len(co_graph_dict)):\n",
    "        for neigh in co_graph_dict[product].keys():\n",
    "            product_list.append(product)\n",
    "            neighbor_list.append(neigh)\n",
    "            counts_list.append(co_graph_dict[product][neigh])\n",
    "    return pd.DataFrame({'product_' : product_list, 'neighbor' : neighbor_list, 'counts' : counts_list})"
   ]
  },
  {
   "cell_type": "code",
   "execution_count": 11,
   "metadata": {},
   "outputs": [],
   "source": [
    "def normalize_co_graph_counts(merged_candidates_counts):\n",
    "    # normalize co graph counts \n",
    "    merged_candidates_counts_g = cudf.from_pandas(merged_candidates_counts)\n",
    "    sessions_count_sum_g = merged_candidates_counts_g[['sess_id', 'counts']].groupby('sess_id').sum()\n",
    "    sessions_count_sum_g.sort_index(inplace=True)\n",
    "\n",
    "    sessions_count_sum = sessions_count_sum_g.to_pandas()\n",
    "\n",
    "    candidates_count_sum = sessions_count_sum.loc[merged_candidates_counts['sess_id']].reset_index(drop=True)\n",
    "    merged_candidates_counts['counts_cum'] = candidates_count_sum['counts']\n",
    "    merged_candidates_counts['normalized_counts'] = merged_candidates_counts['counts'] / merged_candidates_counts['counts_cum']\n",
    "\n",
    "    del merged_candidates_counts_g\n",
    "    del sessions_count_sum_g\n",
    "    "
   ]
  },
  {
   "attachments": {},
   "cell_type": "markdown",
   "metadata": {},
   "source": [
    "# Merge valid co-graph counts "
   ]
  },
  {
   "cell_type": "code",
   "execution_count": 10,
   "metadata": {},
   "outputs": [],
   "source": [
    "merged_candidates_feature_path = '/root/autodl-tmp/xiaolong/WorkSpace/Amazon-KDDCUP-23/XGBoost/candidates/merged_candidates_no_hist_feature.parquet'\n",
    "train_sessions_path = '/root/autodl-tmp/xiaolong/WorkSpace/Amazon-KDDCUP-23/data_for_recstudio/task1_data/task13_4_task1_train_sessions.csv'\n",
    "valid_sessions_path = '/root/autodl-tmp/xiaolong/WorkSpace/Amazon-KDDCUP-23/data_for_recstudio/task1_data/task13_4_task1_valid_sessions.csv'\n",
    "test_sessions_path = '/root/autodl-tmp/xiaolong/WorkSpace/Amazon-KDDCUP-23/raw_data/sessions_test_task1.csv'\n",
    "product_data_path = '/root/autodl-tmp/xiaolong/WorkSpace/Amazon-KDDCUP-23/raw_data/products_train.csv'"
   ]
  },
  {
   "cell_type": "code",
   "execution_count": 11,
   "metadata": {},
   "outputs": [],
   "source": [
    "@lru_cache(maxsize=1)\n",
    "def read_merged_candidates_feature():\n",
    "    return pd.read_parquet(merged_candidates_feature_path)\n",
    "\n",
    "@lru_cache(maxsize=1)\n",
    "def read_product_data():\n",
    "    return pd.read_csv(product_data_path)\n",
    "\n",
    "@lru_cache(maxsize=1)\n",
    "def read_train_data():\n",
    "    return pd.read_csv(train_sessions_path)\n",
    "\n",
    "@lru_cache(maxsize=1)\n",
    "def read_valid_data():\n",
    "    return pd.read_csv(valid_sessions_path)\n",
    "\n",
    "@lru_cache(maxsize=1)\n",
    "def read_test_data():\n",
    "    return pd.read_csv(test_sessions_path)"
   ]
  },
  {
   "cell_type": "code",
   "execution_count": 12,
   "metadata": {},
   "outputs": [],
   "source": [
    "merged_candidates_feature = read_merged_candidates_feature()"
   ]
  },
  {
   "cell_type": "code",
   "execution_count": 13,
   "metadata": {},
   "outputs": [],
   "source": [
    "merged_candidates = merged_candidates_feature[['sess_id', 'sess_locale', 'product']]"
   ]
  },
  {
   "cell_type": "code",
   "execution_count": 14,
   "metadata": {},
   "outputs": [],
   "source": [
    "train_sess_data = read_train_data()\n",
    "valid_sess_data = read_valid_data()\n",
    "test_sess_data = read_test_data()\n",
    "product = read_product_data()"
   ]
  },
  {
   "cell_type": "code",
   "execution_count": 15,
   "metadata": {},
   "outputs": [
    {
     "name": "stderr",
     "output_type": "stream",
     "text": [
      "100%|██████████| 3557898/3557898 [05:05<00:00, 11650.08it/s]\n",
      "100%|██████████| 361581/361581 [00:12<00:00, 29146.51it/s]\n"
     ]
    }
   ],
   "source": [
    "train_sess_item = get_sessions(train_sess_data, list_item=False)\n",
    "valid_sess_item = get_sessions(valid_sess_data, test=True, list_item=False)"
   ]
  },
  {
   "cell_type": "code",
   "execution_count": 21,
   "metadata": {},
   "outputs": [
    {
     "name": "stderr",
     "output_type": "stream",
     "text": [
      "100%|██████████| 3919479/3919479 [01:46<00:00, 36829.39it/s]\n"
     ]
    }
   ],
   "source": [
    "# bidirection\n",
    "co_occurence_dict_bi = get_co_occurence_dict(train_sess_item + valid_sess_item, bidirection=True, weighted=False)\n",
    "# weight \n",
    "# co_occurence_dict_bi_weight = get_co_occurence_dict(train_sess_item + valid_sess_item, bidirection=True, weighted=True)\n",
    "co_occurence_dict_uni_weight = get_co_occurence_dict(train_sess_item + valid_sess_item, bidirection=False, weighted=True)\n",
    "# max dis = 1 \n",
    "# co_occurence_dict_bi_dis1 = get_co_occurence_dict(train_sess_item + valid_sess_item, bidirection=True, weighted=False, max_dis=1)\n",
    "co_occurence_dict_uni_dis1 = get_co_occurence_dict(train_sess_item + valid_sess_item, bidirection=False, weighted=False, max_dis=1)"
   ]
  },
  {
   "attachments": {},
   "cell_type": "markdown",
   "metadata": {},
   "source": [
    "## bidirection"
   ]
  },
  {
   "cell_type": "code",
   "execution_count": null,
   "metadata": {},
   "outputs": [],
   "source": [
    "bi_valid_sessions_counter = {}"
   ]
  },
  {
   "cell_type": "code",
   "execution_count": 34,
   "metadata": {},
   "outputs": [],
   "source": [
    "# only one arg, can't use another arg\n",
    "def get_bi_valid_session_co_graph_candidates(sess_id_example):\n",
    "    sess = valid_sess_item[sess_id_example['sess_id']]\n",
    "    prev_items = set()\n",
    "    cand_counter = Counter()\n",
    "    for item in sess:\n",
    "        if item in co_occurence_dict_bi and item not in prev_items:\n",
    "            cand_counter = cand_counter + co_occurence_dict_bi[item]\n",
    "            prev_items.add(item) # one time for every item\n",
    "    for item in sess:\n",
    "        if item in cand_counter:\n",
    "            cand_counter.pop(item) # remove history items \n",
    "    \n",
    "    bi_valid_sessions_counter[sess_id_example['sess_id']] = cand_counter"
   ]
  },
  {
   "cell_type": "code",
   "execution_count": 32,
   "metadata": {},
   "outputs": [],
   "source": [
    "valid_co_graph_candidates = TFDataset.from_dict({'sess_id' : list(range(valid_sess_data.shape[0]))})"
   ]
  },
  {
   "cell_type": "code",
   "execution_count": 35,
   "metadata": {},
   "outputs": [],
   "source": [
    "# about 1 mins\n",
    "datasets.set_progress_bar_enabled(False)\n",
    "valid_co_graph_candidates = valid_co_graph_candidates.map(get_bi_valid_session_co_graph_candidates, num_proc=8, batched=False)\n",
    "datasets.set_progress_bar_enabled(True)"
   ]
  },
  {
   "cell_type": "code",
   "execution_count": 33,
   "metadata": {},
   "outputs": [
    {
     "data": {
      "text/plain": [
       "Dataset({\n",
       "    features: ['sess_id'],\n",
       "    num_rows: 361581\n",
       "})"
      ]
     },
     "execution_count": 33,
     "metadata": {},
     "output_type": "execute_result"
    }
   ],
   "source": [
    "valid_co_graph_candidates, len(bi_valid_sessions_counter)"
   ]
  },
  {
   "cell_type": "code",
   "execution_count": 38,
   "metadata": {},
   "outputs": [
    {
     "name": "stderr",
     "output_type": "stream",
     "text": [
      "100%|██████████| 84407339/84407339 [01:57<00:00, 719960.20it/s]\n"
     ]
    }
   ],
   "source": [
    "all_items_co_graph_count_list = []\n",
    "for row in tqdm(merged_candidates.itertuples(), total=merged_candidates.shape[0]):\n",
    "    all_items_co_graph_count_list.append(bi_valid_sessions_counter[row.sess_id][row.product])\n",
    "assert len(all_items_co_graph_count_list) == merged_candidates.shape[0]\n",
    "merged_candidates['all_items_co_graph_count_0'] = all_items_co_graph_count_list"
   ]
  },
  {
   "cell_type": "code",
   "execution_count": 55,
   "metadata": {},
   "outputs": [
    {
     "name": "stderr",
     "output_type": "stream",
     "text": [
      "/tmp/ipykernel_232523/375455690.py:1: SettingWithCopyWarning: \n",
      "A value is trying to be set on a copy of a slice from a DataFrame.\n",
      "Try using .loc[row_indexer,col_indexer] = value instead\n",
      "\n",
      "See the caveats in the documentation: https://pandas.pydata.org/pandas-docs/stable/user_guide/indexing.html#returning-a-view-versus-a-copy\n",
      "  merged_candidates['normalized_all_items_co_graph_count_0'] = count_sum_array[merged_candidates['sess_id']]\n"
     ]
    }
   ],
   "source": [
    "count_sum_array = merged_candidates.groupby(by='sess_id')['all_items_co_graph_count_0'].sum().to_numpy()\n",
    "assert len(count_sum_array[merged_candidates['sess_id']]) == merged_candidates.shape[0]\n",
    "merged_candidates['normalized_all_items_co_graph_count_0'] = count_sum_array[merged_candidates['sess_id']]\n",
    "merged_candidates['normalized_all_items_co_graph_count_0'] = merged_candidates['all_items_co_graph_count_0'] / merged_candidates['normalized_all_items_co_graph_count_0']"
   ]
  },
  {
   "cell_type": "code",
   "execution_count": 66,
   "metadata": {},
   "outputs": [],
   "source": [
    "merged_candidates_feature['normalized_all_items_co_graph_count_0'] = merged_candidates['normalized_all_items_co_graph_count_0']\n",
    "merged_candidates_feature['all_items_co_graph_count_0'] = merged_candidates['all_items_co_graph_count_0']"
   ]
  },
  {
   "attachments": {},
   "cell_type": "markdown",
   "metadata": {},
   "source": [
    "## uni and weighted"
   ]
  },
  {
   "cell_type": "code",
   "execution_count": null,
   "metadata": {},
   "outputs": [],
   "source": [
    "merged_candidates = merged_candidates_feature[['sess_id', 'sess_locale', 'product']]"
   ]
  },
  {
   "cell_type": "code",
   "execution_count": null,
   "metadata": {},
   "outputs": [],
   "source": [
    "uni_wei_valid_sessions_counter = {}"
   ]
  },
  {
   "cell_type": "code",
   "execution_count": null,
   "metadata": {},
   "outputs": [],
   "source": [
    "# only one arg, can't use another arg\n",
    "def get_uni_wei_valid_session_co_graph_candidates(sess_id_example):\n",
    "    sess = valid_sess_item[sess_id_example['sess_id']]\n",
    "    prev_items = set()\n",
    "    cand_counter = Counter()\n",
    "    for item in sess:\n",
    "        if item in co_occurence_dict_uni_weight and item not in prev_items:\n",
    "            cand_counter = cand_counter + co_occurence_dict_uni_weight[item]\n",
    "            prev_items.add(item) # one time for every item\n",
    "    for item in sess:\n",
    "        if item in cand_counter:\n",
    "            cand_counter.pop(item) # remove history items \n",
    "    \n",
    "    uni_wei_valid_sessions_counter[sess_id_example['sess_id']] = cand_counter"
   ]
  },
  {
   "cell_type": "code",
   "execution_count": null,
   "metadata": {},
   "outputs": [],
   "source": [
    "valid_co_graph_candidates = TFDataset.from_dict({'sess_id' : list(range(valid_sess_data.shape[0]))})"
   ]
  },
  {
   "cell_type": "code",
   "execution_count": null,
   "metadata": {},
   "outputs": [],
   "source": [
    "# about 1 mins\n",
    "datasets.set_progress_bar_enabled(False)\n",
    "valid_co_graph_candidates = valid_co_graph_candidates.map(get_uni_wei_valid_session_co_graph_candidates, num_proc=8, batched=False)\n",
    "datasets.set_progress_bar_enabled(True)"
   ]
  },
  {
   "cell_type": "code",
   "execution_count": null,
   "metadata": {},
   "outputs": [
    {
     "data": {
      "text/plain": [
       "Dataset({\n",
       "    features: ['sess_id'],\n",
       "    num_rows: 361581\n",
       "})"
      ]
     },
     "metadata": {},
     "output_type": "display_data"
    }
   ],
   "source": [
    "valid_co_graph_candidates, len(uni_wei_valid_sessions_counter)"
   ]
  },
  {
   "cell_type": "code",
   "execution_count": null,
   "metadata": {},
   "outputs": [
    {
     "name": "stderr",
     "output_type": "stream",
     "text": [
      "100%|██████████| 84407339/84407339 [01:57<00:00, 719960.20it/s]\n"
     ]
    }
   ],
   "source": [
    "all_items_co_graph_count_list = []\n",
    "for row in tqdm(merged_candidates.itertuples(), total=merged_candidates.shape[0]):\n",
    "    all_items_co_graph_count_list.append(uni_wei_valid_sessions_counter[row.sess_id][row.product])\n",
    "assert len(all_items_co_graph_count_list) == merged_candidates.shape[0]\n",
    "merged_candidates['all_items_co_graph_count_1'] = all_items_co_graph_count_list"
   ]
  },
  {
   "cell_type": "code",
   "execution_count": null,
   "metadata": {},
   "outputs": [
    {
     "name": "stderr",
     "output_type": "stream",
     "text": [
      "/tmp/ipykernel_232523/375455690.py:1: SettingWithCopyWarning: \n",
      "A value is trying to be set on a copy of a slice from a DataFrame.\n",
      "Try using .loc[row_indexer,col_indexer] = value instead\n",
      "\n",
      "See the caveats in the documentation: https://pandas.pydata.org/pandas-docs/stable/user_guide/indexing.html#returning-a-view-versus-a-copy\n",
      "  merged_candidates['normalized_all_items_co_graph_count_0'] = count_sum_array[merged_candidates['sess_id']]\n"
     ]
    }
   ],
   "source": [
    "count_sum_array = merged_candidates.groupby(by='sess_id')['all_items_co_graph_count_1'].sum().to_numpy()\n",
    "assert len(count_sum_array[merged_candidates['sess_id']]) == merged_candidates.shape[0]\n",
    "merged_candidates['normalized_all_items_co_graph_count_1'] = count_sum_array[merged_candidates['sess_id']]\n",
    "merged_candidates['normalized_all_items_co_graph_count_1'] = merged_candidates['all_items_co_graph_count_1'] / merged_candidates['normalized_all_items_co_graph_count_1']"
   ]
  },
  {
   "cell_type": "code",
   "execution_count": null,
   "metadata": {},
   "outputs": [],
   "source": [
    "merged_candidates_feature['normalized_all_items_co_graph_count_1'] = merged_candidates['normalized_all_items_co_graph_count_1']\n",
    "merged_candidates_feature['all_items_co_graph_count_1'] = merged_candidates['all_items_co_graph_count_1']"
   ]
  },
  {
   "attachments": {},
   "cell_type": "markdown",
   "metadata": {},
   "source": [
    "## uni and dis=1"
   ]
  },
  {
   "cell_type": "code",
   "execution_count": null,
   "metadata": {},
   "outputs": [],
   "source": [
    "merged_candidates = merged_candidates_feature[['sess_id', 'sess_locale', 'product']]"
   ]
  },
  {
   "cell_type": "code",
   "execution_count": null,
   "metadata": {},
   "outputs": [],
   "source": [
    "uni_dis1_valid_sessions_counter = {}"
   ]
  },
  {
   "cell_type": "code",
   "execution_count": null,
   "metadata": {},
   "outputs": [],
   "source": [
    "# only one arg, can't use another arg\n",
    "def get_uni_dis1_valid_session_co_graph_candidates(sess_id_example):\n",
    "    sess = valid_sess_item[sess_id_example['sess_id']]\n",
    "    prev_items = set()\n",
    "    cand_counter = Counter()\n",
    "    for item in sess:\n",
    "        if item in co_occurence_dict_uni_dis1 and item not in prev_items:\n",
    "            cand_counter = cand_counter + co_occurence_dict_uni_dis1[item]\n",
    "            prev_items.add(item) # one time for every item\n",
    "    for item in sess:\n",
    "        if item in cand_counter:\n",
    "            cand_counter.pop(item) # remove history items \n",
    "    \n",
    "    uni_dis1_valid_sessions_counter[sess_id_example['sess_id']] = cand_counter"
   ]
  },
  {
   "cell_type": "code",
   "execution_count": null,
   "metadata": {},
   "outputs": [],
   "source": [
    "valid_co_graph_candidates = TFDataset.from_dict({'sess_id' : list(range(valid_sess_data.shape[0]))})"
   ]
  },
  {
   "cell_type": "code",
   "execution_count": null,
   "metadata": {},
   "outputs": [],
   "source": [
    "# about 1 mins\n",
    "datasets.set_progress_bar_enabled(False)\n",
    "valid_co_graph_candidates = valid_co_graph_candidates.map(get_uni_dis1_valid_session_co_graph_candidates, num_proc=8, batched=False)\n",
    "datasets.set_progress_bar_enabled(True)"
   ]
  },
  {
   "cell_type": "code",
   "execution_count": null,
   "metadata": {},
   "outputs": [
    {
     "data": {
      "text/plain": [
       "Dataset({\n",
       "    features: ['sess_id'],\n",
       "    num_rows: 361581\n",
       "})"
      ]
     },
     "metadata": {},
     "output_type": "display_data"
    }
   ],
   "source": [
    "valid_co_graph_candidates, len(uni_dis1_valid_sessions_counter)"
   ]
  },
  {
   "cell_type": "code",
   "execution_count": null,
   "metadata": {},
   "outputs": [
    {
     "name": "stderr",
     "output_type": "stream",
     "text": [
      "100%|██████████| 84407339/84407339 [01:57<00:00, 719960.20it/s]\n"
     ]
    }
   ],
   "source": [
    "all_items_co_graph_count_list = []\n",
    "for row in tqdm(merged_candidates.itertuples(), total=merged_candidates.shape[0]):\n",
    "    all_items_co_graph_count_list.append(uni_dis1_valid_sessions_counter[row.sess_id][row.product])\n",
    "assert len(all_items_co_graph_count_list) == merged_candidates.shape[0]\n",
    "merged_candidates['all_items_co_graph_count_2'] = all_items_co_graph_count_list"
   ]
  },
  {
   "cell_type": "code",
   "execution_count": null,
   "metadata": {},
   "outputs": [
    {
     "name": "stderr",
     "output_type": "stream",
     "text": [
      "/tmp/ipykernel_232523/375455690.py:1: SettingWithCopyWarning: \n",
      "A value is trying to be set on a copy of a slice from a DataFrame.\n",
      "Try using .loc[row_indexer,col_indexer] = value instead\n",
      "\n",
      "See the caveats in the documentation: https://pandas.pydata.org/pandas-docs/stable/user_guide/indexing.html#returning-a-view-versus-a-copy\n",
      "  merged_candidates['normalized_all_items_co_graph_count_0'] = count_sum_array[merged_candidates['sess_id']]\n"
     ]
    }
   ],
   "source": [
    "count_sum_array = merged_candidates.groupby(by='sess_id')['all_items_co_graph_count_2'].sum().to_numpy()\n",
    "assert len(count_sum_array[merged_candidates['sess_id']]) == merged_candidates.shape[0]\n",
    "merged_candidates['normalized_all_items_co_graph_count_2'] = count_sum_array[merged_candidates['sess_id']]\n",
    "merged_candidates['normalized_all_items_co_graph_count_2'] = merged_candidates['all_items_co_graph_count_2'] / merged_candidates['normalized_all_items_co_graph_count_2']"
   ]
  },
  {
   "cell_type": "code",
   "execution_count": null,
   "metadata": {},
   "outputs": [],
   "source": [
    "merged_candidates_feature['normalized_all_items_co_graph_count_2'] = merged_candidates['normalized_all_items_co_graph_count_2']\n",
    "merged_candidates_feature['all_items_co_graph_count_2'] = merged_candidates['all_items_co_graph_count_2']"
   ]
  },
  {
   "cell_type": "code",
   "execution_count": 64,
   "metadata": {},
   "outputs": [
    {
     "data": {
      "text/plain": [
       "0.28651685393258425"
      ]
     },
     "execution_count": 64,
     "metadata": {},
     "output_type": "execute_result"
    }
   ],
   "source": [
    "merged_candidates.query('sess_id==300')['normalized_all_items_co_graph_count_0'].max()"
   ]
  },
  {
   "cell_type": "code",
   "execution_count": 71,
   "metadata": {},
   "outputs": [],
   "source": [
    "cast_dtype(merged_candidates_feature)\n",
    "merged_candidates_feature.to_parquet(merged_candidates_feature_path, engine='pyarrow')"
   ]
  },
  {
   "cell_type": "code",
   "execution_count": 67,
   "metadata": {},
   "outputs": [
    {
     "data": {
      "text/html": [
       "<div>\n",
       "<style scoped>\n",
       "    .dataframe tbody tr th:only-of-type {\n",
       "        vertical-align: middle;\n",
       "    }\n",
       "\n",
       "    .dataframe tbody tr th {\n",
       "        vertical-align: top;\n",
       "    }\n",
       "\n",
       "    .dataframe thead th {\n",
       "        text-align: right;\n",
       "    }\n",
       "</style>\n",
       "<table border=\"1\" class=\"dataframe\">\n",
       "  <thead>\n",
       "    <tr style=\"text-align: right;\">\n",
       "      <th></th>\n",
       "      <th>sess_id</th>\n",
       "      <th>sess_locale</th>\n",
       "      <th>product</th>\n",
       "      <th>target</th>\n",
       "      <th>sasrec_scores_2</th>\n",
       "      <th>sasrec_normalized_scores_2</th>\n",
       "      <th>product_freq</th>\n",
       "      <th>gru4rec_scores</th>\n",
       "      <th>gru4rec_normalized_scores</th>\n",
       "      <th>sess_avg_price</th>\n",
       "      <th>...</th>\n",
       "      <th>normalized_co_graph_counts_1</th>\n",
       "      <th>co_graph_counts_2</th>\n",
       "      <th>normalized_co_graph_counts_2</th>\n",
       "      <th>roberta_scores</th>\n",
       "      <th>roberta_normalized_scores</th>\n",
       "      <th>title_BM25_scores</th>\n",
       "      <th>sasrec_scores_3</th>\n",
       "      <th>sasrec_normalized_scores_3</th>\n",
       "      <th>normalized_all_items_co_graph_count_0</th>\n",
       "      <th>all_items_co_graph_count_0</th>\n",
       "    </tr>\n",
       "  </thead>\n",
       "  <tbody>\n",
       "    <tr>\n",
       "      <th>0</th>\n",
       "      <td>0</td>\n",
       "      <td>UK</td>\n",
       "      <td>B000OPPVCS</td>\n",
       "      <td>0.0</td>\n",
       "      <td>11.972421</td>\n",
       "      <td>2.286162e-04</td>\n",
       "      <td>104</td>\n",
       "      <td>6.484859</td>\n",
       "      <td>3.816029e-05</td>\n",
       "      <td>7.388571</td>\n",
       "      <td>...</td>\n",
       "      <td>0.004819</td>\n",
       "      <td>2</td>\n",
       "      <td>0.004525</td>\n",
       "      <td>265.826630</td>\n",
       "      <td>1.087245e-03</td>\n",
       "      <td>298.915375</td>\n",
       "      <td>10.891474</td>\n",
       "      <td>2.517129e-04</td>\n",
       "      <td>0.002635</td>\n",
       "      <td>2</td>\n",
       "    </tr>\n",
       "    <tr>\n",
       "      <th>1</th>\n",
       "      <td>0</td>\n",
       "      <td>UK</td>\n",
       "      <td>B000V599Y2</td>\n",
       "      <td>0.0</td>\n",
       "      <td>13.152878</td>\n",
       "      <td>7.443427e-04</td>\n",
       "      <td>37</td>\n",
       "      <td>4.342063</td>\n",
       "      <td>4.477209e-06</td>\n",
       "      <td>7.388571</td>\n",
       "      <td>...</td>\n",
       "      <td>0.000000</td>\n",
       "      <td>2</td>\n",
       "      <td>0.004525</td>\n",
       "      <td>259.157867</td>\n",
       "      <td>1.380768e-06</td>\n",
       "      <td>111.069756</td>\n",
       "      <td>10.677187</td>\n",
       "      <td>2.031618e-04</td>\n",
       "      <td>0.003953</td>\n",
       "      <td>3</td>\n",
       "    </tr>\n",
       "    <tr>\n",
       "      <th>2</th>\n",
       "      <td>0</td>\n",
       "      <td>UK</td>\n",
       "      <td>B0018HH444</td>\n",
       "      <td>0.0</td>\n",
       "      <td>5.606023</td>\n",
       "      <td>3.928400e-07</td>\n",
       "      <td>7</td>\n",
       "      <td>3.220763</td>\n",
       "      <td>1.458925e-06</td>\n",
       "      <td>7.388571</td>\n",
       "      <td>...</td>\n",
       "      <td>0.004819</td>\n",
       "      <td>1</td>\n",
       "      <td>0.002262</td>\n",
       "      <td>257.331421</td>\n",
       "      <td>2.222824e-07</td>\n",
       "      <td>0.000000</td>\n",
       "      <td>6.074605</td>\n",
       "      <td>2.036883e-06</td>\n",
       "      <td>0.001318</td>\n",
       "      <td>1</td>\n",
       "    </tr>\n",
       "    <tr>\n",
       "      <th>3</th>\n",
       "      <td>0</td>\n",
       "      <td>UK</td>\n",
       "      <td>B0079JI4DU</td>\n",
       "      <td>0.0</td>\n",
       "      <td>0.000000</td>\n",
       "      <td>1.443945e-09</td>\n",
       "      <td>67</td>\n",
       "      <td>0.000000</td>\n",
       "      <td>5.824698e-08</td>\n",
       "      <td>7.388571</td>\n",
       "      <td>...</td>\n",
       "      <td>0.002410</td>\n",
       "      <td>2</td>\n",
       "      <td>0.004525</td>\n",
       "      <td>0.000000</td>\n",
       "      <td>0.000000e+00</td>\n",
       "      <td>0.000000</td>\n",
       "      <td>0.000000</td>\n",
       "      <td>4.685961e-09</td>\n",
       "      <td>0.002635</td>\n",
       "      <td>2</td>\n",
       "    </tr>\n",
       "    <tr>\n",
       "      <th>4</th>\n",
       "      <td>0</td>\n",
       "      <td>UK</td>\n",
       "      <td>B0079JI4EY</td>\n",
       "      <td>0.0</td>\n",
       "      <td>0.000000</td>\n",
       "      <td>1.443945e-09</td>\n",
       "      <td>77</td>\n",
       "      <td>0.000000</td>\n",
       "      <td>5.824698e-08</td>\n",
       "      <td>7.388571</td>\n",
       "      <td>...</td>\n",
       "      <td>0.004819</td>\n",
       "      <td>2</td>\n",
       "      <td>0.004525</td>\n",
       "      <td>0.000000</td>\n",
       "      <td>0.000000e+00</td>\n",
       "      <td>0.000000</td>\n",
       "      <td>0.000000</td>\n",
       "      <td>4.685961e-09</td>\n",
       "      <td>0.002635</td>\n",
       "      <td>2</td>\n",
       "    </tr>\n",
       "    <tr>\n",
       "      <th>...</th>\n",
       "      <td>...</td>\n",
       "      <td>...</td>\n",
       "      <td>...</td>\n",
       "      <td>...</td>\n",
       "      <td>...</td>\n",
       "      <td>...</td>\n",
       "      <td>...</td>\n",
       "      <td>...</td>\n",
       "      <td>...</td>\n",
       "      <td>...</td>\n",
       "      <td>...</td>\n",
       "      <td>...</td>\n",
       "      <td>...</td>\n",
       "      <td>...</td>\n",
       "      <td>...</td>\n",
       "      <td>...</td>\n",
       "      <td>...</td>\n",
       "      <td>...</td>\n",
       "      <td>...</td>\n",
       "      <td>...</td>\n",
       "      <td>...</td>\n",
       "    </tr>\n",
       "    <tr>\n",
       "      <th>84407334</th>\n",
       "      <td>361580</td>\n",
       "      <td>DE</td>\n",
       "      <td>B0BB7XV97M</td>\n",
       "      <td>0.0</td>\n",
       "      <td>9.117821</td>\n",
       "      <td>6.077226e-05</td>\n",
       "      <td>56</td>\n",
       "      <td>9.268379</td>\n",
       "      <td>1.396883e-05</td>\n",
       "      <td>32.424000</td>\n",
       "      <td>...</td>\n",
       "      <td>0.000000</td>\n",
       "      <td>0</td>\n",
       "      <td>0.000000</td>\n",
       "      <td>263.574158</td>\n",
       "      <td>1.378417e-03</td>\n",
       "      <td>118.126396</td>\n",
       "      <td>9.635838</td>\n",
       "      <td>3.403967e-05</td>\n",
       "      <td>0.003356</td>\n",
       "      <td>2</td>\n",
       "    </tr>\n",
       "    <tr>\n",
       "      <th>84407335</th>\n",
       "      <td>361580</td>\n",
       "      <td>DE</td>\n",
       "      <td>B0BB7YSRBX</td>\n",
       "      <td>0.0</td>\n",
       "      <td>9.163816</td>\n",
       "      <td>6.363281e-05</td>\n",
       "      <td>58</td>\n",
       "      <td>7.047796</td>\n",
       "      <td>1.516259e-06</td>\n",
       "      <td>32.424000</td>\n",
       "      <td>...</td>\n",
       "      <td>0.000000</td>\n",
       "      <td>0</td>\n",
       "      <td>0.000000</td>\n",
       "      <td>263.523743</td>\n",
       "      <td>1.310646e-03</td>\n",
       "      <td>124.881615</td>\n",
       "      <td>9.159988</td>\n",
       "      <td>2.115080e-05</td>\n",
       "      <td>0.001678</td>\n",
       "      <td>1</td>\n",
       "    </tr>\n",
       "    <tr>\n",
       "      <th>84407336</th>\n",
       "      <td>361580</td>\n",
       "      <td>DE</td>\n",
       "      <td>B0BB7ZMGY8</td>\n",
       "      <td>0.0</td>\n",
       "      <td>11.256460</td>\n",
       "      <td>5.158278e-04</td>\n",
       "      <td>452</td>\n",
       "      <td>9.359167</td>\n",
       "      <td>1.529639e-05</td>\n",
       "      <td>32.424000</td>\n",
       "      <td>...</td>\n",
       "      <td>0.000000</td>\n",
       "      <td>0</td>\n",
       "      <td>0.000000</td>\n",
       "      <td>263.567017</td>\n",
       "      <td>1.368608e-03</td>\n",
       "      <td>124.881615</td>\n",
       "      <td>10.119755</td>\n",
       "      <td>5.522656e-05</td>\n",
       "      <td>0.038591</td>\n",
       "      <td>23</td>\n",
       "    </tr>\n",
       "    <tr>\n",
       "      <th>84407337</th>\n",
       "      <td>361580</td>\n",
       "      <td>DE</td>\n",
       "      <td>B0BD4CP7N3</td>\n",
       "      <td>0.0</td>\n",
       "      <td>-3.778687</td>\n",
       "      <td>1.523433e-10</td>\n",
       "      <td>1</td>\n",
       "      <td>-0.593306</td>\n",
       "      <td>7.282568e-10</td>\n",
       "      <td>32.424000</td>\n",
       "      <td>...</td>\n",
       "      <td>0.000000</td>\n",
       "      <td>0</td>\n",
       "      <td>0.000000</td>\n",
       "      <td>265.401611</td>\n",
       "      <td>8.571040e-03</td>\n",
       "      <td>192.540955</td>\n",
       "      <td>-1.612869</td>\n",
       "      <td>4.433373e-10</td>\n",
       "      <td>0.000000</td>\n",
       "      <td>0</td>\n",
       "    </tr>\n",
       "    <tr>\n",
       "      <th>84407338</th>\n",
       "      <td>361580</td>\n",
       "      <td>DE</td>\n",
       "      <td>B0BFPJC4C2</td>\n",
       "      <td>0.0</td>\n",
       "      <td>0.000000</td>\n",
       "      <td>6.666320e-09</td>\n",
       "      <td>62</td>\n",
       "      <td>0.000000</td>\n",
       "      <td>1.318118e-09</td>\n",
       "      <td>32.424000</td>\n",
       "      <td>...</td>\n",
       "      <td>0.000000</td>\n",
       "      <td>0</td>\n",
       "      <td>0.000000</td>\n",
       "      <td>0.000000</td>\n",
       "      <td>0.000000e+00</td>\n",
       "      <td>0.000000</td>\n",
       "      <td>0.000000</td>\n",
       "      <td>2.224305e-09</td>\n",
       "      <td>0.001678</td>\n",
       "      <td>1</td>\n",
       "    </tr>\n",
       "  </tbody>\n",
       "</table>\n",
       "<p>84407339 rows × 26 columns</p>\n",
       "</div>"
      ],
      "text/plain": [
       "          sess_id sess_locale     product  target  sasrec_scores_2  \\\n",
       "0               0          UK  B000OPPVCS     0.0        11.972421   \n",
       "1               0          UK  B000V599Y2     0.0        13.152878   \n",
       "2               0          UK  B0018HH444     0.0         5.606023   \n",
       "3               0          UK  B0079JI4DU     0.0         0.000000   \n",
       "4               0          UK  B0079JI4EY     0.0         0.000000   \n",
       "...           ...         ...         ...     ...              ...   \n",
       "84407334   361580          DE  B0BB7XV97M     0.0         9.117821   \n",
       "84407335   361580          DE  B0BB7YSRBX     0.0         9.163816   \n",
       "84407336   361580          DE  B0BB7ZMGY8     0.0        11.256460   \n",
       "84407337   361580          DE  B0BD4CP7N3     0.0        -3.778687   \n",
       "84407338   361580          DE  B0BFPJC4C2     0.0         0.000000   \n",
       "\n",
       "          sasrec_normalized_scores_2  product_freq  gru4rec_scores  \\\n",
       "0                       2.286162e-04           104        6.484859   \n",
       "1                       7.443427e-04            37        4.342063   \n",
       "2                       3.928400e-07             7        3.220763   \n",
       "3                       1.443945e-09            67        0.000000   \n",
       "4                       1.443945e-09            77        0.000000   \n",
       "...                              ...           ...             ...   \n",
       "84407334                6.077226e-05            56        9.268379   \n",
       "84407335                6.363281e-05            58        7.047796   \n",
       "84407336                5.158278e-04           452        9.359167   \n",
       "84407337                1.523433e-10             1       -0.593306   \n",
       "84407338                6.666320e-09            62        0.000000   \n",
       "\n",
       "          gru4rec_normalized_scores  sess_avg_price  ...  \\\n",
       "0                      3.816029e-05        7.388571  ...   \n",
       "1                      4.477209e-06        7.388571  ...   \n",
       "2                      1.458925e-06        7.388571  ...   \n",
       "3                      5.824698e-08        7.388571  ...   \n",
       "4                      5.824698e-08        7.388571  ...   \n",
       "...                             ...             ...  ...   \n",
       "84407334               1.396883e-05       32.424000  ...   \n",
       "84407335               1.516259e-06       32.424000  ...   \n",
       "84407336               1.529639e-05       32.424000  ...   \n",
       "84407337               7.282568e-10       32.424000  ...   \n",
       "84407338               1.318118e-09       32.424000  ...   \n",
       "\n",
       "          normalized_co_graph_counts_1  co_graph_counts_2  \\\n",
       "0                             0.004819                  2   \n",
       "1                             0.000000                  2   \n",
       "2                             0.004819                  1   \n",
       "3                             0.002410                  2   \n",
       "4                             0.004819                  2   \n",
       "...                                ...                ...   \n",
       "84407334                      0.000000                  0   \n",
       "84407335                      0.000000                  0   \n",
       "84407336                      0.000000                  0   \n",
       "84407337                      0.000000                  0   \n",
       "84407338                      0.000000                  0   \n",
       "\n",
       "          normalized_co_graph_counts_2  roberta_scores  \\\n",
       "0                             0.004525      265.826630   \n",
       "1                             0.004525      259.157867   \n",
       "2                             0.002262      257.331421   \n",
       "3                             0.004525        0.000000   \n",
       "4                             0.004525        0.000000   \n",
       "...                                ...             ...   \n",
       "84407334                      0.000000      263.574158   \n",
       "84407335                      0.000000      263.523743   \n",
       "84407336                      0.000000      263.567017   \n",
       "84407337                      0.000000      265.401611   \n",
       "84407338                      0.000000        0.000000   \n",
       "\n",
       "          roberta_normalized_scores  title_BM25_scores  sasrec_scores_3  \\\n",
       "0                      1.087245e-03         298.915375        10.891474   \n",
       "1                      1.380768e-06         111.069756        10.677187   \n",
       "2                      2.222824e-07           0.000000         6.074605   \n",
       "3                      0.000000e+00           0.000000         0.000000   \n",
       "4                      0.000000e+00           0.000000         0.000000   \n",
       "...                             ...                ...              ...   \n",
       "84407334               1.378417e-03         118.126396         9.635838   \n",
       "84407335               1.310646e-03         124.881615         9.159988   \n",
       "84407336               1.368608e-03         124.881615        10.119755   \n",
       "84407337               8.571040e-03         192.540955        -1.612869   \n",
       "84407338               0.000000e+00           0.000000         0.000000   \n",
       "\n",
       "          sasrec_normalized_scores_3  normalized_all_items_co_graph_count_0  \\\n",
       "0                       2.517129e-04                               0.002635   \n",
       "1                       2.031618e-04                               0.003953   \n",
       "2                       2.036883e-06                               0.001318   \n",
       "3                       4.685961e-09                               0.002635   \n",
       "4                       4.685961e-09                               0.002635   \n",
       "...                              ...                                    ...   \n",
       "84407334                3.403967e-05                               0.003356   \n",
       "84407335                2.115080e-05                               0.001678   \n",
       "84407336                5.522656e-05                               0.038591   \n",
       "84407337                4.433373e-10                               0.000000   \n",
       "84407338                2.224305e-09                               0.001678   \n",
       "\n",
       "          all_items_co_graph_count_0  \n",
       "0                                  2  \n",
       "1                                  3  \n",
       "2                                  1  \n",
       "3                                  2  \n",
       "4                                  2  \n",
       "...                              ...  \n",
       "84407334                           2  \n",
       "84407335                           1  \n",
       "84407336                          23  \n",
       "84407337                           0  \n",
       "84407338                           1  \n",
       "\n",
       "[84407339 rows x 26 columns]"
      ]
     },
     "execution_count": 67,
     "metadata": {},
     "output_type": "execute_result"
    }
   ],
   "source": [
    "merged_candidates_feature"
   ]
  },
  {
   "cell_type": "code",
   "execution_count": 69,
   "metadata": {},
   "outputs": [
    {
     "data": {
      "text/html": [
       "<div>\n",
       "<style scoped>\n",
       "    .dataframe tbody tr th:only-of-type {\n",
       "        vertical-align: middle;\n",
       "    }\n",
       "\n",
       "    .dataframe tbody tr th {\n",
       "        vertical-align: top;\n",
       "    }\n",
       "\n",
       "    .dataframe thead th {\n",
       "        text-align: right;\n",
       "    }\n",
       "</style>\n",
       "<table border=\"1\" class=\"dataframe\">\n",
       "  <thead>\n",
       "    <tr style=\"text-align: right;\">\n",
       "      <th></th>\n",
       "      <th>sasrec_scores_3</th>\n",
       "      <th>sasrec_normalized_scores_3</th>\n",
       "      <th>all_items_co_graph_count_0</th>\n",
       "      <th>normalized_all_items_co_graph_count_0</th>\n",
       "    </tr>\n",
       "  </thead>\n",
       "  <tbody>\n",
       "    <tr>\n",
       "      <th>2334309</th>\n",
       "      <td>22.575985</td>\n",
       "      <td>9.955325e-01</td>\n",
       "      <td>3</td>\n",
       "      <td>0.008929</td>\n",
       "    </tr>\n",
       "    <tr>\n",
       "      <th>2334430</th>\n",
       "      <td>15.050841</td>\n",
       "      <td>5.369416e-04</td>\n",
       "      <td>12</td>\n",
       "      <td>0.035714</td>\n",
       "    </tr>\n",
       "    <tr>\n",
       "      <th>2334460</th>\n",
       "      <td>14.871281</td>\n",
       "      <td>4.486885e-04</td>\n",
       "      <td>6</td>\n",
       "      <td>0.017857</td>\n",
       "    </tr>\n",
       "    <tr>\n",
       "      <th>2334338</th>\n",
       "      <td>14.773024</td>\n",
       "      <td>4.066983e-04</td>\n",
       "      <td>3</td>\n",
       "      <td>0.008929</td>\n",
       "    </tr>\n",
       "    <tr>\n",
       "      <th>2334316</th>\n",
       "      <td>14.391475</td>\n",
       "      <td>2.776948e-04</td>\n",
       "      <td>2</td>\n",
       "      <td>0.005952</td>\n",
       "    </tr>\n",
       "    <tr>\n",
       "      <th>...</th>\n",
       "      <td>...</td>\n",
       "      <td>...</td>\n",
       "      <td>...</td>\n",
       "      <td>...</td>\n",
       "    </tr>\n",
       "    <tr>\n",
       "      <th>2334215</th>\n",
       "      <td>-8.178933</td>\n",
       "      <td>4.378892e-14</td>\n",
       "      <td>0</td>\n",
       "      <td>0.000000</td>\n",
       "    </tr>\n",
       "    <tr>\n",
       "      <th>2334306</th>\n",
       "      <td>-9.413960</td>\n",
       "      <td>1.273500e-14</td>\n",
       "      <td>2</td>\n",
       "      <td>0.005952</td>\n",
       "    </tr>\n",
       "    <tr>\n",
       "      <th>2334357</th>\n",
       "      <td>-9.928643</td>\n",
       "      <td>7.611580e-15</td>\n",
       "      <td>4</td>\n",
       "      <td>0.011905</td>\n",
       "    </tr>\n",
       "    <tr>\n",
       "      <th>2334409</th>\n",
       "      <td>-10.111639</td>\n",
       "      <td>6.338708e-15</td>\n",
       "      <td>0</td>\n",
       "      <td>0.000000</td>\n",
       "    </tr>\n",
       "    <tr>\n",
       "      <th>2334241</th>\n",
       "      <td>-10.919846</td>\n",
       "      <td>2.824887e-15</td>\n",
       "      <td>8</td>\n",
       "      <td>0.023810</td>\n",
       "    </tr>\n",
       "  </tbody>\n",
       "</table>\n",
       "<p>279 rows × 4 columns</p>\n",
       "</div>"
      ],
      "text/plain": [
       "         sasrec_scores_3  sasrec_normalized_scores_3  \\\n",
       "2334309        22.575985                9.955325e-01   \n",
       "2334430        15.050841                5.369416e-04   \n",
       "2334460        14.871281                4.486885e-04   \n",
       "2334338        14.773024                4.066983e-04   \n",
       "2334316        14.391475                2.776948e-04   \n",
       "...                  ...                         ...   \n",
       "2334215        -8.178933                4.378892e-14   \n",
       "2334306        -9.413960                1.273500e-14   \n",
       "2334357        -9.928643                7.611580e-15   \n",
       "2334409       -10.111639                6.338708e-15   \n",
       "2334241       -10.919846                2.824887e-15   \n",
       "\n",
       "         all_items_co_graph_count_0  normalized_all_items_co_graph_count_0  \n",
       "2334309                           3                               0.008929  \n",
       "2334430                          12                               0.035714  \n",
       "2334460                           6                               0.017857  \n",
       "2334338                           3                               0.008929  \n",
       "2334316                           2                               0.005952  \n",
       "...                             ...                                    ...  \n",
       "2334215                           0                               0.000000  \n",
       "2334306                           2                               0.005952  \n",
       "2334357                           4                               0.011905  \n",
       "2334409                           0                               0.000000  \n",
       "2334241                           8                               0.023810  \n",
       "\n",
       "[279 rows x 4 columns]"
      ]
     },
     "execution_count": 69,
     "metadata": {},
     "output_type": "execute_result"
    }
   ],
   "source": [
    "merged_candidates_feature.query('sess_id==10000').sort_values(by=['sasrec_normalized_scores_3'], ascending=False)[['sasrec_scores_3', 'sasrec_normalized_scores_3', 'all_items_co_graph_count_0', 'normalized_all_items_co_graph_count_0']]"
   ]
  },
  {
   "attachments": {},
   "cell_type": "markdown",
   "metadata": {},
   "source": [
    "# Merge test co-graph counts "
   ]
  },
  {
   "cell_type": "code",
   "execution_count": 1,
   "metadata": {},
   "outputs": [],
   "source": [
    "merged_candidates_feature_test_path = '/root/autodl-tmp/xiaolong/WorkSpace/Amazon-KDDCUP-23/XGBoost/candidates/merged_candidates_test_no_hist_feature.parquet'\n",
    "train_sessions_path = '/root/autodl-tmp/xiaolong/WorkSpace/Amazon-KDDCUP-23/data_for_recstudio/task1_data/task13_4_task1_train_sessions.csv'\n",
    "valid_sessions_path = '/root/autodl-tmp/xiaolong/WorkSpace/Amazon-KDDCUP-23/data_for_recstudio/task1_data/task13_4_task1_valid_sessions.csv'\n",
    "test_sessions_path = '/root/autodl-tmp/xiaolong/WorkSpace/Amazon-KDDCUP-23/raw_data/sessions_test_task1.csv'\n",
    "product_data_path = '/root/autodl-tmp/xiaolong/WorkSpace/Amazon-KDDCUP-23/raw_data/products_train.csv'"
   ]
  },
  {
   "cell_type": "code",
   "execution_count": 12,
   "metadata": {},
   "outputs": [],
   "source": [
    "@lru_cache(maxsize=1)\n",
    "def read_merged_candidates_feature_test():\n",
    "    return pd.read_parquet(merged_candidates_feature_test_path)\n",
    "\n",
    "@lru_cache(maxsize=1)\n",
    "def read_product_data():\n",
    "    return pd.read_csv(product_data_path)\n",
    "\n",
    "@lru_cache(maxsize=1)\n",
    "def read_train_data():\n",
    "    return pd.read_csv(train_sessions_path)\n",
    "\n",
    "@lru_cache(maxsize=1)\n",
    "def read_valid_data():\n",
    "    return pd.read_csv(valid_sessions_path)\n",
    "\n",
    "@lru_cache(maxsize=1)\n",
    "def read_test_data():\n",
    "    return pd.read_csv(test_sessions_path)"
   ]
  },
  {
   "cell_type": "code",
   "execution_count": 14,
   "metadata": {},
   "outputs": [],
   "source": [
    "merged_candidates_feature_test = read_merged_candidates_feature_test()"
   ]
  },
  {
   "cell_type": "code",
   "execution_count": 15,
   "metadata": {},
   "outputs": [],
   "source": [
    "merged_candidates_test = merged_candidates_feature_test[['sess_id', 'sess_locale', 'product']]"
   ]
  },
  {
   "cell_type": "code",
   "execution_count": 16,
   "metadata": {},
   "outputs": [],
   "source": [
    "train_sess_data = read_train_data()\n",
    "valid_sess_data = read_valid_data()\n",
    "test_sess_data = read_test_data()\n",
    "product = read_product_data()"
   ]
  },
  {
   "cell_type": "code",
   "execution_count": 17,
   "metadata": {},
   "outputs": [
    {
     "name": "stderr",
     "output_type": "stream",
     "text": [
      "100%|██████████| 3557898/3557898 [01:49<00:00, 32538.92it/s]\n",
      "100%|██████████| 361581/361581 [00:12<00:00, 29689.67it/s]\n",
      "100%|██████████| 316971/316971 [00:06<00:00, 49106.24it/s]\n"
     ]
    }
   ],
   "source": [
    "train_sess_item = get_sessions(train_sess_data, list_item=False)\n",
    "valid_sess_item = get_sessions(valid_sess_data, list_item=False)\n",
    "test_sess_item = get_sessions(test_sess_data, test=True, list_item=False)"
   ]
  },
  {
   "cell_type": "code",
   "execution_count": 18,
   "metadata": {},
   "outputs": [
    {
     "name": "stderr",
     "output_type": "stream",
     "text": [
      "100%|██████████| 4236450/4236450 [01:34<00:00, 44774.78it/s]\n"
     ]
    }
   ],
   "source": [
    "# bidirection\n",
    "co_occurence_dict_bi = get_co_occurence_dict(train_sess_item + valid_sess_item, bidirection=True, weighted=False)\n",
    "# weight \n",
    "# co_occurence_dict_bi_weight = get_co_occurence_dict(train_sess_item + valid_sess_item, bidirection=True, weighted=True)\n",
    "co_occurence_dict_uni_weight = get_co_occurence_dict(train_sess_item + valid_sess_item, bidirection=False, weighted=True)\n",
    "# max dis = 1 \n",
    "# co_occurence_dict_bi_dis1 = get_co_occurence_dict(train_sess_item + valid_sess_item, bidirection=True, weighted=False, max_dis=1)\n",
    "co_occurence_dict_uni_dis1 = get_co_occurence_dict(train_sess_item + valid_sess_item, bidirection=False, weighted=False, max_dis=1)"
   ]
  },
  {
   "attachments": {},
   "cell_type": "markdown",
   "metadata": {},
   "source": [
    "# bidirection"
   ]
  },
  {
   "cell_type": "code",
   "execution_count": null,
   "metadata": {},
   "outputs": [],
   "source": [
    "bi_test_sessions_counter = {}"
   ]
  },
  {
   "cell_type": "code",
   "execution_count": null,
   "metadata": {},
   "outputs": [],
   "source": [
    "# only one arg, can't use another arg\n",
    "def get_bi_test_session_co_graph_candidates(sess_id_example):\n",
    "    sess = test_sess_item[sess_id_example['sess_id']]\n",
    "    prev_items = set()\n",
    "    cand_counter = Counter()\n",
    "    for item in sess:\n",
    "        if item in co_occurence_dict_bi and item not in prev_items:\n",
    "            cand_counter = cand_counter + co_occurence_dict_bi[item]\n",
    "            prev_items.add(item) # one time for every item\n",
    "    for item in sess:\n",
    "        if item in cand_counter:\n",
    "            cand_counter.pop(item) # remove history items \n",
    "    \n",
    "    bi_test_sessions_counter[sess_id_example['sess_id']] = cand_counter"
   ]
  },
  {
   "cell_type": "code",
   "execution_count": null,
   "metadata": {},
   "outputs": [],
   "source": [
    "test_co_graph_candidates = TFDataset.from_dict({'sess_id' : list(range(test_sess_data.shape[0]))})"
   ]
  },
  {
   "cell_type": "code",
   "execution_count": null,
   "metadata": {},
   "outputs": [],
   "source": [
    "# about 1 mins\n",
    "datasets.set_progress_bar_enabled(False)\n",
    "test_co_graph_candidates = test_co_graph_candidates.map(get_bi_test_session_co_graph_candidates, num_proc=8, batched=False)\n",
    "datasets.set_progress_bar_enabled(True)"
   ]
  },
  {
   "cell_type": "code",
   "execution_count": null,
   "metadata": {},
   "outputs": [
    {
     "data": {
      "text/plain": [
       "Dataset({\n",
       "    features: ['sess_id'],\n",
       "    num_rows: 361581\n",
       "})"
      ]
     },
     "metadata": {},
     "output_type": "display_data"
    }
   ],
   "source": [
    "test_co_graph_candidates, len(bi_test_sessions_counter)"
   ]
  },
  {
   "cell_type": "code",
   "execution_count": null,
   "metadata": {},
   "outputs": [
    {
     "name": "stderr",
     "output_type": "stream",
     "text": [
      "100%|██████████| 84407339/84407339 [01:57<00:00, 719960.20it/s]\n"
     ]
    }
   ],
   "source": [
    "all_items_co_graph_count_list = []\n",
    "for row in tqdm(merged_candidates_test.itertuples(), total=merged_candidates_test.shape[0]):\n",
    "    all_items_co_graph_count_list.append(bi_test_sessions_counter[row.sess_id][row.product])\n",
    "assert len(all_items_co_graph_count_list) == merged_candidates_test.shape[0]\n",
    "merged_candidates_test['all_items_co_graph_count_0'] = all_items_co_graph_count_list"
   ]
  },
  {
   "cell_type": "code",
   "execution_count": null,
   "metadata": {},
   "outputs": [
    {
     "name": "stderr",
     "output_type": "stream",
     "text": [
      "/tmp/ipykernel_232523/375455690.py:1: SettingWithCopyWarning: \n",
      "A value is trying to be set on a copy of a slice from a DataFrame.\n",
      "Try using .loc[row_indexer,col_indexer] = value instead\n",
      "\n",
      "See the caveats in the documentation: https://pandas.pydata.org/pandas-docs/stable/user_guide/indexing.html#returning-a-view-versus-a-copy\n",
      "  merged_candidates['normalized_all_items_co_graph_count_0'] = count_sum_array[merged_candidates['sess_id']]\n"
     ]
    }
   ],
   "source": [
    "count_sum_array = merged_candidates_test.groupby(by='sess_id')['all_items_co_graph_count_0'].sum().to_numpy()\n",
    "assert len(count_sum_array[merged_candidates_test['sess_id']]) == merged_candidates_test.shape[0]\n",
    "merged_candidates_test['normalized_all_items_co_graph_count_0'] = count_sum_array[merged_candidates_test['sess_id']]\n",
    "merged_candidates_test['normalized_all_items_co_graph_count_0'] = merged_candidates_test['all_items_co_graph_count_0'] / merged_candidates_test['normalized_all_items_co_graph_count_0']"
   ]
  },
  {
   "cell_type": "code",
   "execution_count": null,
   "metadata": {},
   "outputs": [],
   "source": [
    "merged_candidates_feature_test['normalized_all_items_co_graph_count_0'] = merged_candidates_test['normalized_all_items_co_graph_count_0']\n",
    "merged_candidates_feature_test['all_items_co_graph_count_0'] = merged_candidates_test['all_items_co_graph_count_0']"
   ]
  },
  {
   "attachments": {},
   "cell_type": "markdown",
   "metadata": {},
   "source": [
    "## uni and weighted"
   ]
  },
  {
   "cell_type": "code",
   "execution_count": null,
   "metadata": {},
   "outputs": [],
   "source": [
    "uni_wei_test_sessions_counter = {}"
   ]
  },
  {
   "cell_type": "code",
   "execution_count": null,
   "metadata": {},
   "outputs": [],
   "source": [
    "# only one arg, can't use another arg\n",
    "def get_uni_wei_test_session_co_graph_candidates(sess_id_example):\n",
    "    sess = test_sess_item[sess_id_example['sess_id']]\n",
    "    prev_items = set()\n",
    "    cand_counter = Counter()\n",
    "    for item in sess:\n",
    "        if item in co_occurence_dict_uni_weight and item not in prev_items:\n",
    "            cand_counter = cand_counter + co_occurence_dict_uni_weight[item]\n",
    "            prev_items.add(item) # one time for every item\n",
    "    for item in sess:\n",
    "        if item in cand_counter:\n",
    "            cand_counter.pop(item) # remove history items \n",
    "    \n",
    "    uni_wei_test_sessions_counter[sess_id_example['sess_id']] = cand_counter"
   ]
  },
  {
   "cell_type": "code",
   "execution_count": null,
   "metadata": {},
   "outputs": [],
   "source": [
    "test_co_graph_candidates = TFDataset.from_dict({'sess_id' : list(range(test_sess_data.shape[0]))})"
   ]
  },
  {
   "cell_type": "code",
   "execution_count": null,
   "metadata": {},
   "outputs": [],
   "source": [
    "# about 1 mins\n",
    "datasets.set_progress_bar_enabled(False)\n",
    "test_co_graph_candidates = test_co_graph_candidates.map(get_uni_wei_test_session_co_graph_candidates, num_proc=8, batched=False)\n",
    "datasets.set_progress_bar_enabled(True)"
   ]
  },
  {
   "cell_type": "code",
   "execution_count": null,
   "metadata": {},
   "outputs": [
    {
     "data": {
      "text/plain": [
       "Dataset({\n",
       "    features: ['sess_id'],\n",
       "    num_rows: 361581\n",
       "})"
      ]
     },
     "metadata": {},
     "output_type": "display_data"
    }
   ],
   "source": [
    "test_co_graph_candidates, len(uni_wei_test_sessions_counter)"
   ]
  },
  {
   "cell_type": "code",
   "execution_count": null,
   "metadata": {},
   "outputs": [
    {
     "name": "stderr",
     "output_type": "stream",
     "text": [
      "100%|██████████| 84407339/84407339 [01:57<00:00, 719960.20it/s]\n"
     ]
    }
   ],
   "source": [
    "all_items_co_graph_count_list = []\n",
    "for row in tqdm(merged_candidates_test.itertuples(), total=merged_candidates_test.shape[0]):\n",
    "    all_items_co_graph_count_list.append(uni_wei_test_sessions_counter[row.sess_id][row.product])\n",
    "assert len(all_items_co_graph_count_list) == merged_candidates_test.shape[0]\n",
    "merged_candidates_test['all_items_co_graph_count_1'] = all_items_co_graph_count_list"
   ]
  },
  {
   "cell_type": "code",
   "execution_count": null,
   "metadata": {},
   "outputs": [
    {
     "name": "stderr",
     "output_type": "stream",
     "text": [
      "/tmp/ipykernel_232523/375455690.py:1: SettingWithCopyWarning: \n",
      "A value is trying to be set on a copy of a slice from a DataFrame.\n",
      "Try using .loc[row_indexer,col_indexer] = value instead\n",
      "\n",
      "See the caveats in the documentation: https://pandas.pydata.org/pandas-docs/stable/user_guide/indexing.html#returning-a-view-versus-a-copy\n",
      "  merged_candidates['normalized_all_items_co_graph_count_0'] = count_sum_array[merged_candidates['sess_id']]\n"
     ]
    }
   ],
   "source": [
    "count_sum_array = merged_candidates_test.groupby(by='sess_id')['all_items_co_graph_count_1'].sum().to_numpy()\n",
    "assert len(count_sum_array[merged_candidates_test['sess_id']]) == merged_candidates_test.shape[0]\n",
    "merged_candidates_test['normalized_all_items_co_graph_count_1'] = count_sum_array[merged_candidates_test['sess_id']]\n",
    "merged_candidates_test['normalized_all_items_co_graph_count_1'] = merged_candidates_test['all_items_co_graph_count_1'] / merged_candidates_test['normalized_all_items_co_graph_count_1']"
   ]
  },
  {
   "cell_type": "code",
   "execution_count": null,
   "metadata": {},
   "outputs": [],
   "source": [
    "merged_candidates_feature_test['normalized_all_items_co_graph_count_1'] = merged_candidates_test['normalized_all_items_co_graph_count_1']\n",
    "merged_candidates_feature_test['all_items_co_graph_count_1'] = merged_candidates_test['all_items_co_graph_count_1']"
   ]
  },
  {
   "attachments": {},
   "cell_type": "markdown",
   "metadata": {},
   "source": [
    "## uni and dis=1"
   ]
  },
  {
   "cell_type": "code",
   "execution_count": null,
   "metadata": {},
   "outputs": [],
   "source": [
    "uni_dis1_test_sessions_counter = {}"
   ]
  },
  {
   "cell_type": "code",
   "execution_count": null,
   "metadata": {},
   "outputs": [],
   "source": [
    "# only one arg, can't use another arg\n",
    "def get_uni_dis1_test_session_co_graph_candidates(sess_id_example):\n",
    "    sess = test_sess_item[sess_id_example['sess_id']]\n",
    "    prev_items = set()\n",
    "    cand_counter = Counter()\n",
    "    for item in sess:\n",
    "        if item in co_occurence_dict_uni_dis1 and item not in prev_items:\n",
    "            cand_counter = cand_counter + co_occurence_dict_uni_dis1[item]\n",
    "            prev_items.add(item) # one time for every item\n",
    "    for item in sess:\n",
    "        if item in cand_counter:\n",
    "            cand_counter.pop(item) # remove history items \n",
    "    \n",
    "    uni_dis1_test_sessions_counter[sess_id_example['sess_id']] = cand_counter"
   ]
  },
  {
   "cell_type": "code",
   "execution_count": null,
   "metadata": {},
   "outputs": [],
   "source": [
    "test_co_graph_candidates = TFDataset.from_dict({'sess_id' : list(range(test_sess_data.shape[0]))})"
   ]
  },
  {
   "cell_type": "code",
   "execution_count": null,
   "metadata": {},
   "outputs": [],
   "source": [
    "# about 1 mins\n",
    "datasets.set_progress_bar_enabled(False)\n",
    "test_co_graph_candidates = test_co_graph_candidates.map(get_uni_dis1_test_session_co_graph_candidates, num_proc=8, batched=False)\n",
    "datasets.set_progress_bar_enabled(True)"
   ]
  },
  {
   "cell_type": "code",
   "execution_count": null,
   "metadata": {},
   "outputs": [
    {
     "data": {
      "text/plain": [
       "Dataset({\n",
       "    features: ['sess_id'],\n",
       "    num_rows: 361581\n",
       "})"
      ]
     },
     "metadata": {},
     "output_type": "display_data"
    }
   ],
   "source": [
    "test_co_graph_candidates, len(uni_dis1_test_sessions_counter)"
   ]
  },
  {
   "cell_type": "code",
   "execution_count": null,
   "metadata": {},
   "outputs": [
    {
     "name": "stderr",
     "output_type": "stream",
     "text": [
      "100%|██████████| 84407339/84407339 [01:57<00:00, 719960.20it/s]\n"
     ]
    }
   ],
   "source": [
    "all_items_co_graph_count_list = []\n",
    "for row in tqdm(merged_candidates_test.itertuples(), total=merged_candidates_test.shape[0]):\n",
    "    all_items_co_graph_count_list.append(uni_dis1_test_sessions_counter[row.sess_id][row.product])\n",
    "assert len(all_items_co_graph_count_list) == merged_candidates_test.shape[0]\n",
    "merged_candidates_test['all_items_co_graph_count_2'] = all_items_co_graph_count_list"
   ]
  },
  {
   "cell_type": "code",
   "execution_count": null,
   "metadata": {},
   "outputs": [
    {
     "name": "stderr",
     "output_type": "stream",
     "text": [
      "/tmp/ipykernel_232523/375455690.py:1: SettingWithCopyWarning: \n",
      "A value is trying to be set on a copy of a slice from a DataFrame.\n",
      "Try using .loc[row_indexer,col_indexer] = value instead\n",
      "\n",
      "See the caveats in the documentation: https://pandas.pydata.org/pandas-docs/stable/user_guide/indexing.html#returning-a-view-versus-a-copy\n",
      "  merged_candidates['normalized_all_items_co_graph_count_0'] = count_sum_array[merged_candidates['sess_id']]\n"
     ]
    }
   ],
   "source": [
    "count_sum_array = merged_candidates_test.groupby(by='sess_id')['all_items_co_graph_count_2'].sum().to_numpy()\n",
    "assert len(count_sum_array[merged_candidates_test['sess_id']]) == merged_candidates_test.shape[0]\n",
    "merged_candidates_test['normalized_all_items_co_graph_count_2'] = count_sum_array[merged_candidates_test['sess_id']]\n",
    "merged_candidates_test['normalized_all_items_co_graph_count_2'] = merged_candidates_test['all_items_co_graph_count_2'] / merged_candidates_test['normalized_all_items_co_graph_count_2']"
   ]
  },
  {
   "cell_type": "code",
   "execution_count": null,
   "metadata": {},
   "outputs": [],
   "source": [
    "merged_candidates_feature_test['normalized_all_items_co_graph_count_2'] = merged_candidates_test['normalized_all_items_co_graph_count_2']\n",
    "merged_candidates_feature_test['all_items_co_graph_count_2'] = merged_candidates_test['all_items_co_graph_count_2']"
   ]
  },
  {
   "cell_type": "code",
   "execution_count": 25,
   "metadata": {},
   "outputs": [
    {
     "data": {
      "text/plain": [
       "0.17692307692307693"
      ]
     },
     "execution_count": 25,
     "metadata": {},
     "output_type": "execute_result"
    }
   ],
   "source": [
    "merged_candidates_test.query('sess_id==200')['normalized_all_items_co_graph_count_0'].max()"
   ]
  },
  {
   "cell_type": "code",
   "execution_count": 37,
   "metadata": {},
   "outputs": [],
   "source": [
    "cast_dtype(merged_candidates_feature_test)\n",
    "merged_candidates_feature_test.to_parquet(merged_candidates_feature_test_path, engine='pyarrow')"
   ]
  },
  {
   "cell_type": "code",
   "execution_count": 63,
   "metadata": {},
   "outputs": [
    {
     "data": {
      "text/html": [
       "<div>\n",
       "<style scoped>\n",
       "    .dataframe tbody tr th:only-of-type {\n",
       "        vertical-align: middle;\n",
       "    }\n",
       "\n",
       "    .dataframe tbody tr th {\n",
       "        vertical-align: top;\n",
       "    }\n",
       "\n",
       "    .dataframe thead th {\n",
       "        text-align: right;\n",
       "    }\n",
       "</style>\n",
       "<table border=\"1\" class=\"dataframe\">\n",
       "  <thead>\n",
       "    <tr style=\"text-align: right;\">\n",
       "      <th></th>\n",
       "      <th>prev_items</th>\n",
       "      <th>locale</th>\n",
       "    </tr>\n",
       "  </thead>\n",
       "  <tbody>\n",
       "    <tr>\n",
       "      <th>0</th>\n",
       "      <td>['B08V12CT4C' 'B08V1KXBQD' 'B01BVG1XJS' 'B09VC...</td>\n",
       "      <td>DE</td>\n",
       "    </tr>\n",
       "    <tr>\n",
       "      <th>1</th>\n",
       "      <td>['B00R9R5ND6' 'B00R9RZ9ZS' 'B00R9RZ9ZS']</td>\n",
       "      <td>DE</td>\n",
       "    </tr>\n",
       "    <tr>\n",
       "      <th>2</th>\n",
       "      <td>['B07YSRXJD3' 'B07G7Q5N6G' 'B08C9Q7QVK' 'B07G7...</td>\n",
       "      <td>DE</td>\n",
       "    </tr>\n",
       "    <tr>\n",
       "      <th>3</th>\n",
       "      <td>['B08KQBYV43' '3955350843' '3955350843' '39553...</td>\n",
       "      <td>DE</td>\n",
       "    </tr>\n",
       "    <tr>\n",
       "      <th>4</th>\n",
       "      <td>['B09FPTCWMC' 'B09FPTQP68' 'B08HMRY8NG' 'B08TB...</td>\n",
       "      <td>DE</td>\n",
       "    </tr>\n",
       "    <tr>\n",
       "      <th>...</th>\n",
       "      <td>...</td>\n",
       "      <td>...</td>\n",
       "    </tr>\n",
       "    <tr>\n",
       "      <th>316966</th>\n",
       "      <td>['B077SZ2C3Y' 'B0B14M3VZX']</td>\n",
       "      <td>UK</td>\n",
       "    </tr>\n",
       "    <tr>\n",
       "      <th>316967</th>\n",
       "      <td>['B08KFHDPY9' 'B0851KTSRZ' 'B08KFHDPY9' 'B0851...</td>\n",
       "      <td>UK</td>\n",
       "    </tr>\n",
       "    <tr>\n",
       "      <th>316968</th>\n",
       "      <td>['B07PY1N81F' 'B07Q1Z8SQN' 'B07PY1N81F' 'B07Q1...</td>\n",
       "      <td>UK</td>\n",
       "    </tr>\n",
       "    <tr>\n",
       "      <th>316969</th>\n",
       "      <td>['B01MCQMORK' 'B09JYZ325W']</td>\n",
       "      <td>UK</td>\n",
       "    </tr>\n",
       "    <tr>\n",
       "      <th>316970</th>\n",
       "      <td>['B0B8JX92YJ' 'B09TN4MP6V' 'B0BG2LZQSL']</td>\n",
       "      <td>UK</td>\n",
       "    </tr>\n",
       "  </tbody>\n",
       "</table>\n",
       "<p>316971 rows × 2 columns</p>\n",
       "</div>"
      ],
      "text/plain": [
       "                                               prev_items locale\n",
       "0       ['B08V12CT4C' 'B08V1KXBQD' 'B01BVG1XJS' 'B09VC...     DE\n",
       "1                ['B00R9R5ND6' 'B00R9RZ9ZS' 'B00R9RZ9ZS']     DE\n",
       "2       ['B07YSRXJD3' 'B07G7Q5N6G' 'B08C9Q7QVK' 'B07G7...     DE\n",
       "3       ['B08KQBYV43' '3955350843' '3955350843' '39553...     DE\n",
       "4       ['B09FPTCWMC' 'B09FPTQP68' 'B08HMRY8NG' 'B08TB...     DE\n",
       "...                                                   ...    ...\n",
       "316966                        ['B077SZ2C3Y' 'B0B14M3VZX']     UK\n",
       "316967  ['B08KFHDPY9' 'B0851KTSRZ' 'B08KFHDPY9' 'B0851...     UK\n",
       "316968  ['B07PY1N81F' 'B07Q1Z8SQN' 'B07PY1N81F' 'B07Q1...     UK\n",
       "316969                        ['B01MCQMORK' 'B09JYZ325W']     UK\n",
       "316970           ['B0B8JX92YJ' 'B09TN4MP6V' 'B0BG2LZQSL']     UK\n",
       "\n",
       "[316971 rows x 2 columns]"
      ]
     },
     "execution_count": 63,
     "metadata": {},
     "output_type": "execute_result"
    }
   ],
   "source": [
    "test_sess_data"
   ]
  },
  {
   "cell_type": "code",
   "execution_count": 29,
   "metadata": {},
   "outputs": [
    {
     "data": {
      "text/plain": [
       "0.07752746488666389"
      ]
     },
     "execution_count": 29,
     "metadata": {},
     "output_type": "execute_result"
    }
   ],
   "source": [
    "merged_candidates_test.query('sess_id==0')['normalized_all_items_co_graph_count_0'].max()"
   ]
  },
  {
   "cell_type": "code",
   "execution_count": 32,
   "metadata": {},
   "outputs": [
    {
     "data": {
      "text/html": [
       "<div>\n",
       "<style scoped>\n",
       "    .dataframe tbody tr th:only-of-type {\n",
       "        vertical-align: middle;\n",
       "    }\n",
       "\n",
       "    .dataframe tbody tr th {\n",
       "        vertical-align: top;\n",
       "    }\n",
       "\n",
       "    .dataframe thead th {\n",
       "        text-align: right;\n",
       "    }\n",
       "</style>\n",
       "<table border=\"1\" class=\"dataframe\">\n",
       "  <thead>\n",
       "    <tr style=\"text-align: right;\">\n",
       "      <th></th>\n",
       "      <th>sess_id</th>\n",
       "      <th>sess_locale</th>\n",
       "      <th>product</th>\n",
       "      <th>sasrec_scores_2</th>\n",
       "      <th>sasrec_normalized_scores_2</th>\n",
       "      <th>gru4rec_scores</th>\n",
       "      <th>gru4rec_normalized_scores</th>\n",
       "      <th>product_freq</th>\n",
       "      <th>sess_avg_price</th>\n",
       "      <th>product_price</th>\n",
       "      <th>...</th>\n",
       "      <th>normalized_co_graph_counts_1</th>\n",
       "      <th>co_graph_counts_2</th>\n",
       "      <th>normalized_co_graph_counts_2</th>\n",
       "      <th>roberta_scores</th>\n",
       "      <th>roberta_normalized_scores</th>\n",
       "      <th>title_BM25_scores</th>\n",
       "      <th>sasrec_scores_3</th>\n",
       "      <th>sasrec_normalized_scores_3</th>\n",
       "      <th>normalized_all_items_co_graph_count_0</th>\n",
       "      <th>all_items_co_graph_count_0</th>\n",
       "    </tr>\n",
       "  </thead>\n",
       "  <tbody>\n",
       "    <tr>\n",
       "      <th>0</th>\n",
       "      <td>0</td>\n",
       "      <td>DE</td>\n",
       "      <td>4088833651</td>\n",
       "      <td>0.000000</td>\n",
       "      <td>2.975813e-09</td>\n",
       "      <td>0.000000</td>\n",
       "      <td>1.580065e-09</td>\n",
       "      <td>828</td>\n",
       "      <td>25.195269</td>\n",
       "      <td>36.761604</td>\n",
       "      <td>...</td>\n",
       "      <td>0.0</td>\n",
       "      <td>0</td>\n",
       "      <td>0.0</td>\n",
       "      <td>0.000000</td>\n",
       "      <td>0.000000</td>\n",
       "      <td>0.000000</td>\n",
       "      <td>0.000000</td>\n",
       "      <td>2.622550e-09</td>\n",
       "      <td>0.000000</td>\n",
       "      <td>0</td>\n",
       "    </tr>\n",
       "    <tr>\n",
       "      <th>1</th>\n",
       "      <td>0</td>\n",
       "      <td>DE</td>\n",
       "      <td>B000H6W2GW</td>\n",
       "      <td>0.000000</td>\n",
       "      <td>2.975813e-09</td>\n",
       "      <td>0.000000</td>\n",
       "      <td>1.580065e-09</td>\n",
       "      <td>875</td>\n",
       "      <td>25.195269</td>\n",
       "      <td>36.761604</td>\n",
       "      <td>...</td>\n",
       "      <td>0.0</td>\n",
       "      <td>0</td>\n",
       "      <td>0.0</td>\n",
       "      <td>0.000000</td>\n",
       "      <td>0.000000</td>\n",
       "      <td>0.000000</td>\n",
       "      <td>0.000000</td>\n",
       "      <td>2.622550e-09</td>\n",
       "      <td>0.000000</td>\n",
       "      <td>0</td>\n",
       "    </tr>\n",
       "    <tr>\n",
       "      <th>2</th>\n",
       "      <td>0</td>\n",
       "      <td>DE</td>\n",
       "      <td>B000JG2RAG</td>\n",
       "      <td>7.665308</td>\n",
       "      <td>6.347557e-06</td>\n",
       "      <td>8.104032</td>\n",
       "      <td>5.226502e-06</td>\n",
       "      <td>24</td>\n",
       "      <td>25.195269</td>\n",
       "      <td>23.190001</td>\n",
       "      <td>...</td>\n",
       "      <td>0.0</td>\n",
       "      <td>0</td>\n",
       "      <td>0.0</td>\n",
       "      <td>267.192719</td>\n",
       "      <td>0.004943</td>\n",
       "      <td>287.809601</td>\n",
       "      <td>8.885176</td>\n",
       "      <td>1.894552e-05</td>\n",
       "      <td>0.000000</td>\n",
       "      <td>0</td>\n",
       "    </tr>\n",
       "    <tr>\n",
       "      <th>3</th>\n",
       "      <td>0</td>\n",
       "      <td>DE</td>\n",
       "      <td>B000RYSOUW</td>\n",
       "      <td>-2.951060</td>\n",
       "      <td>1.555882e-10</td>\n",
       "      <td>-2.857798</td>\n",
       "      <td>9.068785e-11</td>\n",
       "      <td>5</td>\n",
       "      <td>25.195269</td>\n",
       "      <td>6.900000</td>\n",
       "      <td>...</td>\n",
       "      <td>0.0</td>\n",
       "      <td>0</td>\n",
       "      <td>0.0</td>\n",
       "      <td>267.322815</td>\n",
       "      <td>0.005629</td>\n",
       "      <td>321.394653</td>\n",
       "      <td>-1.640674</td>\n",
       "      <td>5.083796e-10</td>\n",
       "      <td>0.000000</td>\n",
       "      <td>0</td>\n",
       "    </tr>\n",
       "    <tr>\n",
       "      <th>4</th>\n",
       "      <td>0</td>\n",
       "      <td>DE</td>\n",
       "      <td>B000UGZVQM</td>\n",
       "      <td>3.977920</td>\n",
       "      <td>1.589257e-07</td>\n",
       "      <td>4.688567</td>\n",
       "      <td>1.717488e-07</td>\n",
       "      <td>4</td>\n",
       "      <td>25.195269</td>\n",
       "      <td>21.990000</td>\n",
       "      <td>...</td>\n",
       "      <td>0.0</td>\n",
       "      <td>0</td>\n",
       "      <td>0.0</td>\n",
       "      <td>267.242462</td>\n",
       "      <td>0.005195</td>\n",
       "      <td>285.328705</td>\n",
       "      <td>4.972019</td>\n",
       "      <td>3.784811e-07</td>\n",
       "      <td>0.000000</td>\n",
       "      <td>0</td>\n",
       "    </tr>\n",
       "    <tr>\n",
       "      <th>...</th>\n",
       "      <td>...</td>\n",
       "      <td>...</td>\n",
       "      <td>...</td>\n",
       "      <td>...</td>\n",
       "      <td>...</td>\n",
       "      <td>...</td>\n",
       "      <td>...</td>\n",
       "      <td>...</td>\n",
       "      <td>...</td>\n",
       "      <td>...</td>\n",
       "      <td>...</td>\n",
       "      <td>...</td>\n",
       "      <td>...</td>\n",
       "      <td>...</td>\n",
       "      <td>...</td>\n",
       "      <td>...</td>\n",
       "      <td>...</td>\n",
       "      <td>...</td>\n",
       "      <td>...</td>\n",
       "      <td>...</td>\n",
       "      <td>...</td>\n",
       "    </tr>\n",
       "    <tr>\n",
       "      <th>69428426</th>\n",
       "      <td>316970</td>\n",
       "      <td>UK</td>\n",
       "      <td>B0BJCTH4NH</td>\n",
       "      <td>11.327528</td>\n",
       "      <td>1.041200e-04</td>\n",
       "      <td>10.629994</td>\n",
       "      <td>3.818184e-04</td>\n",
       "      <td>74</td>\n",
       "      <td>16.950001</td>\n",
       "      <td>5.800000</td>\n",
       "      <td>...</td>\n",
       "      <td>0.0</td>\n",
       "      <td>0</td>\n",
       "      <td>0.0</td>\n",
       "      <td>270.043762</td>\n",
       "      <td>0.014921</td>\n",
       "      <td>449.867401</td>\n",
       "      <td>10.968081</td>\n",
       "      <td>1.849500e-05</td>\n",
       "      <td>0.010237</td>\n",
       "      <td>16</td>\n",
       "    </tr>\n",
       "    <tr>\n",
       "      <th>69428427</th>\n",
       "      <td>316970</td>\n",
       "      <td>UK</td>\n",
       "      <td>B0BJTQQWLG</td>\n",
       "      <td>5.604142</td>\n",
       "      <td>3.403292e-07</td>\n",
       "      <td>6.052083</td>\n",
       "      <td>3.923694e-06</td>\n",
       "      <td>6</td>\n",
       "      <td>16.950001</td>\n",
       "      <td>9.880000</td>\n",
       "      <td>...</td>\n",
       "      <td>0.0</td>\n",
       "      <td>0</td>\n",
       "      <td>0.0</td>\n",
       "      <td>269.350769</td>\n",
       "      <td>0.007462</td>\n",
       "      <td>431.585815</td>\n",
       "      <td>7.366314</td>\n",
       "      <td>5.044600e-07</td>\n",
       "      <td>0.000640</td>\n",
       "      <td>1</td>\n",
       "    </tr>\n",
       "    <tr>\n",
       "      <th>69428428</th>\n",
       "      <td>316970</td>\n",
       "      <td>UK</td>\n",
       "      <td>B0BJV3RL4H</td>\n",
       "      <td>9.146974</td>\n",
       "      <td>1.176336e-05</td>\n",
       "      <td>7.667603</td>\n",
       "      <td>1.973815e-05</td>\n",
       "      <td>7</td>\n",
       "      <td>16.950001</td>\n",
       "      <td>22.097065</td>\n",
       "      <td>...</td>\n",
       "      <td>0.0</td>\n",
       "      <td>0</td>\n",
       "      <td>0.0</td>\n",
       "      <td>269.313751</td>\n",
       "      <td>0.007191</td>\n",
       "      <td>419.572662</td>\n",
       "      <td>8.286265</td>\n",
       "      <td>1.265775e-06</td>\n",
       "      <td>0.000640</td>\n",
       "      <td>1</td>\n",
       "    </tr>\n",
       "    <tr>\n",
       "      <th>69428429</th>\n",
       "      <td>316970</td>\n",
       "      <td>UK</td>\n",
       "      <td>B0BK7SPC84</td>\n",
       "      <td>-10.383047</td>\n",
       "      <td>3.879279e-14</td>\n",
       "      <td>-6.356799</td>\n",
       "      <td>1.601719e-11</td>\n",
       "      <td>0</td>\n",
       "      <td>16.950001</td>\n",
       "      <td>5.960000</td>\n",
       "      <td>...</td>\n",
       "      <td>0.0</td>\n",
       "      <td>0</td>\n",
       "      <td>0.0</td>\n",
       "      <td>270.200653</td>\n",
       "      <td>0.017456</td>\n",
       "      <td>420.993561</td>\n",
       "      <td>-10.871386</td>\n",
       "      <td>6.057512e-15</td>\n",
       "      <td>0.000000</td>\n",
       "      <td>0</td>\n",
       "    </tr>\n",
       "    <tr>\n",
       "      <th>69428430</th>\n",
       "      <td>316970</td>\n",
       "      <td>UK</td>\n",
       "      <td>B0BKFXSM6Q</td>\n",
       "      <td>11.845137</td>\n",
       "      <td>1.747144e-04</td>\n",
       "      <td>11.515342</td>\n",
       "      <td>9.254614e-04</td>\n",
       "      <td>145</td>\n",
       "      <td>16.950001</td>\n",
       "      <td>9.880000</td>\n",
       "      <td>...</td>\n",
       "      <td>0.0</td>\n",
       "      <td>0</td>\n",
       "      <td>0.0</td>\n",
       "      <td>269.673706</td>\n",
       "      <td>0.010306</td>\n",
       "      <td>437.745209</td>\n",
       "      <td>12.121924</td>\n",
       "      <td>5.863568e-05</td>\n",
       "      <td>0.015355</td>\n",
       "      <td>24</td>\n",
       "    </tr>\n",
       "  </tbody>\n",
       "</table>\n",
       "<p>69428431 rows × 25 columns</p>\n",
       "</div>"
      ],
      "text/plain": [
       "          sess_id sess_locale     product  sasrec_scores_2  \\\n",
       "0               0          DE  4088833651         0.000000   \n",
       "1               0          DE  B000H6W2GW         0.000000   \n",
       "2               0          DE  B000JG2RAG         7.665308   \n",
       "3               0          DE  B000RYSOUW        -2.951060   \n",
       "4               0          DE  B000UGZVQM         3.977920   \n",
       "...           ...         ...         ...              ...   \n",
       "69428426   316970          UK  B0BJCTH4NH        11.327528   \n",
       "69428427   316970          UK  B0BJTQQWLG         5.604142   \n",
       "69428428   316970          UK  B0BJV3RL4H         9.146974   \n",
       "69428429   316970          UK  B0BK7SPC84       -10.383047   \n",
       "69428430   316970          UK  B0BKFXSM6Q        11.845137   \n",
       "\n",
       "          sasrec_normalized_scores_2  gru4rec_scores  \\\n",
       "0                       2.975813e-09        0.000000   \n",
       "1                       2.975813e-09        0.000000   \n",
       "2                       6.347557e-06        8.104032   \n",
       "3                       1.555882e-10       -2.857798   \n",
       "4                       1.589257e-07        4.688567   \n",
       "...                              ...             ...   \n",
       "69428426                1.041200e-04       10.629994   \n",
       "69428427                3.403292e-07        6.052083   \n",
       "69428428                1.176336e-05        7.667603   \n",
       "69428429                3.879279e-14       -6.356799   \n",
       "69428430                1.747144e-04       11.515342   \n",
       "\n",
       "          gru4rec_normalized_scores  product_freq  sess_avg_price  \\\n",
       "0                      1.580065e-09           828       25.195269   \n",
       "1                      1.580065e-09           875       25.195269   \n",
       "2                      5.226502e-06            24       25.195269   \n",
       "3                      9.068785e-11             5       25.195269   \n",
       "4                      1.717488e-07             4       25.195269   \n",
       "...                             ...           ...             ...   \n",
       "69428426               3.818184e-04            74       16.950001   \n",
       "69428427               3.923694e-06             6       16.950001   \n",
       "69428428               1.973815e-05             7       16.950001   \n",
       "69428429               1.601719e-11             0       16.950001   \n",
       "69428430               9.254614e-04           145       16.950001   \n",
       "\n",
       "          product_price  ...  normalized_co_graph_counts_1  co_graph_counts_2  \\\n",
       "0             36.761604  ...                           0.0                  0   \n",
       "1             36.761604  ...                           0.0                  0   \n",
       "2             23.190001  ...                           0.0                  0   \n",
       "3              6.900000  ...                           0.0                  0   \n",
       "4             21.990000  ...                           0.0                  0   \n",
       "...                 ...  ...                           ...                ...   \n",
       "69428426       5.800000  ...                           0.0                  0   \n",
       "69428427       9.880000  ...                           0.0                  0   \n",
       "69428428      22.097065  ...                           0.0                  0   \n",
       "69428429       5.960000  ...                           0.0                  0   \n",
       "69428430       9.880000  ...                           0.0                  0   \n",
       "\n",
       "          normalized_co_graph_counts_2  roberta_scores  \\\n",
       "0                                  0.0        0.000000   \n",
       "1                                  0.0        0.000000   \n",
       "2                                  0.0      267.192719   \n",
       "3                                  0.0      267.322815   \n",
       "4                                  0.0      267.242462   \n",
       "...                                ...             ...   \n",
       "69428426                           0.0      270.043762   \n",
       "69428427                           0.0      269.350769   \n",
       "69428428                           0.0      269.313751   \n",
       "69428429                           0.0      270.200653   \n",
       "69428430                           0.0      269.673706   \n",
       "\n",
       "          roberta_normalized_scores  title_BM25_scores  sasrec_scores_3  \\\n",
       "0                          0.000000           0.000000         0.000000   \n",
       "1                          0.000000           0.000000         0.000000   \n",
       "2                          0.004943         287.809601         8.885176   \n",
       "3                          0.005629         321.394653        -1.640674   \n",
       "4                          0.005195         285.328705         4.972019   \n",
       "...                             ...                ...              ...   \n",
       "69428426                   0.014921         449.867401        10.968081   \n",
       "69428427                   0.007462         431.585815         7.366314   \n",
       "69428428                   0.007191         419.572662         8.286265   \n",
       "69428429                   0.017456         420.993561       -10.871386   \n",
       "69428430                   0.010306         437.745209        12.121924   \n",
       "\n",
       "          sasrec_normalized_scores_3  normalized_all_items_co_graph_count_0  \\\n",
       "0                       2.622550e-09                               0.000000   \n",
       "1                       2.622550e-09                               0.000000   \n",
       "2                       1.894552e-05                               0.000000   \n",
       "3                       5.083796e-10                               0.000000   \n",
       "4                       3.784811e-07                               0.000000   \n",
       "...                              ...                                    ...   \n",
       "69428426                1.849500e-05                               0.010237   \n",
       "69428427                5.044600e-07                               0.000640   \n",
       "69428428                1.265775e-06                               0.000640   \n",
       "69428429                6.057512e-15                               0.000000   \n",
       "69428430                5.863568e-05                               0.015355   \n",
       "\n",
       "          all_items_co_graph_count_0  \n",
       "0                                  0  \n",
       "1                                  0  \n",
       "2                                  0  \n",
       "3                                  0  \n",
       "4                                  0  \n",
       "...                              ...  \n",
       "69428426                          16  \n",
       "69428427                           1  \n",
       "69428428                           1  \n",
       "69428429                           0  \n",
       "69428430                          24  \n",
       "\n",
       "[69428431 rows x 25 columns]"
      ]
     },
     "execution_count": 32,
     "metadata": {},
     "output_type": "execute_result"
    }
   ],
   "source": [
    "merged_candidates_feature_test"
   ]
  },
  {
   "cell_type": "code",
   "execution_count": 36,
   "metadata": {},
   "outputs": [
    {
     "data": {
      "text/html": [
       "<div>\n",
       "<style scoped>\n",
       "    .dataframe tbody tr th:only-of-type {\n",
       "        vertical-align: middle;\n",
       "    }\n",
       "\n",
       "    .dataframe tbody tr th {\n",
       "        vertical-align: top;\n",
       "    }\n",
       "\n",
       "    .dataframe thead th {\n",
       "        text-align: right;\n",
       "    }\n",
       "</style>\n",
       "<table border=\"1\" class=\"dataframe\">\n",
       "  <thead>\n",
       "    <tr style=\"text-align: right;\">\n",
       "      <th></th>\n",
       "      <th>sasrec_scores_3</th>\n",
       "      <th>sasrec_normalized_scores_3</th>\n",
       "      <th>all_items_co_graph_count_0</th>\n",
       "      <th>normalized_all_items_co_graph_count_0</th>\n",
       "    </tr>\n",
       "  </thead>\n",
       "  <tbody>\n",
       "    <tr>\n",
       "      <th>65675691</th>\n",
       "      <td>18.784042</td>\n",
       "      <td>7.110926e-01</td>\n",
       "      <td>141</td>\n",
       "      <td>0.220657</td>\n",
       "    </tr>\n",
       "    <tr>\n",
       "      <th>65675602</th>\n",
       "      <td>17.250706</td>\n",
       "      <td>1.534640e-01</td>\n",
       "      <td>127</td>\n",
       "      <td>0.198748</td>\n",
       "    </tr>\n",
       "    <tr>\n",
       "      <th>65675649</th>\n",
       "      <td>16.779135</td>\n",
       "      <td>9.576479e-02</td>\n",
       "      <td>59</td>\n",
       "      <td>0.092332</td>\n",
       "    </tr>\n",
       "    <tr>\n",
       "      <th>65675546</th>\n",
       "      <td>15.148463</td>\n",
       "      <td>1.875056e-02</td>\n",
       "      <td>43</td>\n",
       "      <td>0.067293</td>\n",
       "    </tr>\n",
       "    <tr>\n",
       "      <th>65675714</th>\n",
       "      <td>14.737875</td>\n",
       "      <td>1.243649e-02</td>\n",
       "      <td>29</td>\n",
       "      <td>0.045383</td>\n",
       "    </tr>\n",
       "    <tr>\n",
       "      <th>...</th>\n",
       "      <td>...</td>\n",
       "      <td>...</td>\n",
       "      <td>...</td>\n",
       "      <td>...</td>\n",
       "    </tr>\n",
       "    <tr>\n",
       "      <th>65675666</th>\n",
       "      <td>-6.248106</td>\n",
       "      <td>9.563178e-12</td>\n",
       "      <td>0</td>\n",
       "      <td>0.000000</td>\n",
       "    </tr>\n",
       "    <tr>\n",
       "      <th>65675565</th>\n",
       "      <td>-6.320740</td>\n",
       "      <td>8.893195e-12</td>\n",
       "      <td>0</td>\n",
       "      <td>0.000000</td>\n",
       "    </tr>\n",
       "    <tr>\n",
       "      <th>65675554</th>\n",
       "      <td>-6.321655</td>\n",
       "      <td>8.885057e-12</td>\n",
       "      <td>0</td>\n",
       "      <td>0.000000</td>\n",
       "    </tr>\n",
       "    <tr>\n",
       "      <th>65675610</th>\n",
       "      <td>-8.322851</td>\n",
       "      <td>1.201025e-12</td>\n",
       "      <td>0</td>\n",
       "      <td>0.000000</td>\n",
       "    </tr>\n",
       "    <tr>\n",
       "      <th>65675764</th>\n",
       "      <td>-10.247570</td>\n",
       "      <td>1.752496e-13</td>\n",
       "      <td>0</td>\n",
       "      <td>0.000000</td>\n",
       "    </tr>\n",
       "  </tbody>\n",
       "</table>\n",
       "<p>267 rows × 4 columns</p>\n",
       "</div>"
      ],
      "text/plain": [
       "          sasrec_scores_3  sasrec_normalized_scores_3  \\\n",
       "65675691        18.784042                7.110926e-01   \n",
       "65675602        17.250706                1.534640e-01   \n",
       "65675649        16.779135                9.576479e-02   \n",
       "65675546        15.148463                1.875056e-02   \n",
       "65675714        14.737875                1.243649e-02   \n",
       "...                   ...                         ...   \n",
       "65675666        -6.248106                9.563178e-12   \n",
       "65675565        -6.320740                8.893195e-12   \n",
       "65675554        -6.321655                8.885057e-12   \n",
       "65675610        -8.322851                1.201025e-12   \n",
       "65675764       -10.247570                1.752496e-13   \n",
       "\n",
       "          all_items_co_graph_count_0  normalized_all_items_co_graph_count_0  \n",
       "65675691                         141                               0.220657  \n",
       "65675602                         127                               0.198748  \n",
       "65675649                          59                               0.092332  \n",
       "65675546                          43                               0.067293  \n",
       "65675714                          29                               0.045383  \n",
       "...                              ...                                    ...  \n",
       "65675666                           0                               0.000000  \n",
       "65675565                           0                               0.000000  \n",
       "65675554                           0                               0.000000  \n",
       "65675610                           0                               0.000000  \n",
       "65675764                           0                               0.000000  \n",
       "\n",
       "[267 rows x 4 columns]"
      ]
     },
     "execution_count": 36,
     "metadata": {},
     "output_type": "execute_result"
    }
   ],
   "source": [
    "merged_candidates_feature_test.query('sess_id==300000').sort_values(by=['sasrec_normalized_scores_3'], ascending=False)[['sasrec_scores_3', 'sasrec_normalized_scores_3', 'all_items_co_graph_count_0', 'normalized_all_items_co_graph_count_0']]"
   ]
  }
 ],
 "metadata": {
  "kernelspec": {
   "display_name": "huangxu",
   "language": "python",
   "name": "python3"
  },
  "language_info": {
   "codemirror_mode": {
    "name": "ipython",
    "version": 3
   },
   "file_extension": ".py",
   "mimetype": "text/x-python",
   "name": "python",
   "nbconvert_exporter": "python",
   "pygments_lexer": "ipython3",
   "version": "3.9.16"
  },
  "orig_nbformat": 4
 },
 "nbformat": 4,
 "nbformat_minor": 2
}
