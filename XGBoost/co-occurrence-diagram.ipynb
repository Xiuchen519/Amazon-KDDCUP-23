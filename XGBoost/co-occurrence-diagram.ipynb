{
 "cells": [
  {
   "attachments": {},
   "cell_type": "markdown",
   "metadata": {},
   "source": [
    "## Part0: Necessary Common Functions\n",
    "\n",
    "Those functions should be ran before each part."
   ]
  },
  {
   "cell_type": "code",
   "execution_count": 2,
   "metadata": {},
   "outputs": [
    {
     "name": "stderr",
     "output_type": "stream",
     "text": [
      "<frozen importlib._bootstrap>:228: RuntimeWarning: pyarrow._fs.FileInfo size changed, may indicate binary incompatibility. Expected 64 from C header, got 88 from PyObject\n",
      "<frozen importlib._bootstrap>:228: RuntimeWarning: pyarrow._fs.FileSelector size changed, may indicate binary incompatibility. Expected 48 from C header, got 72 from PyObject\n"
     ]
    }
   ],
   "source": [
    "import os\n",
    "import random\n",
    "import numpy as np\n",
    "import pandas as pd\n",
    "import cudf, itertools\n",
    "import scipy.sparse as ssp\n",
    "from functools import lru_cache\n",
    "from tqdm import tqdm, trange\n",
    "from collections import Counter, defaultdict\n",
    "import numba \n",
    "from numba import jit"
   ]
  },
  {
   "cell_type": "code",
   "execution_count": 3,
   "metadata": {},
   "outputs": [],
   "source": [
    "# Cache loading of data for multiple calls\n",
    "train_data_dir = '../data_for_recstudio/'\n",
    "test_data_dir = '../raw_data/'\n",
    "task = 'task1'\n",
    "PREDS_PER_SESSION = 100\n",
    "\n",
    "\n",
    "@lru_cache(maxsize=1)\n",
    "def read_product_data():\n",
    "    print(os.getcwd())\n",
    "    print(os.path.join(train_data_dir, 'products_train.csv'))\n",
    "    return pd.read_csv(os.path.join(train_data_dir, 'products_train.csv'))\n",
    "\n",
    "@lru_cache(maxsize=1)\n",
    "def read_train_data():\n",
    "    return pd.read_csv(os.path.join(train_data_dir, 'task1_data/task13_4_task1_train_sessions.csv'))\n",
    "\n",
    "@lru_cache(maxsize=1)\n",
    "def read_valid_data():\n",
    "    return pd.read_csv(os.path.join(train_data_dir, 'task1_data/task13_4_task1_valid_sessions.csv'))\n",
    "\n",
    "@lru_cache(maxsize=3)\n",
    "def read_test_data(task):\n",
    "    return pd.read_csv(os.path.join(test_data_dir, f'sessions_test_{task}.csv'))"
   ]
  },
  {
   "cell_type": "code",
   "execution_count": 4,
   "metadata": {},
   "outputs": [],
   "source": [
    "def map_id(id: str, id_dict: dict) -> int:\n",
    "    return id_dict[id]"
   ]
  },
  {
   "cell_type": "code",
   "execution_count": 5,
   "metadata": {},
   "outputs": [],
   "source": [
    "def get_sessions(df: pd.DataFrame, id_dict: dict, test=False, list_item=False) -> list:\n",
    "    \n",
    "    all_item = []\n",
    "    if 'next_item' in df and not test:\n",
    "        if list_item:\n",
    "            for i in trange(len(df)):\n",
    "                all_item.append(np.concatenate([np.array(df.loc[i, 'prev_items']), np.array(df.loc[i, 'next_item'])], axis=0))\n",
    "        else:\n",
    "            for i in trange(len(df)):\n",
    "                all_item.append(eval((df.loc[i, 'prev_items'][:-1]+f\" '{df.loc[i, 'next_item']}']\").replace(\" \", \",\")))\n",
    "    else:\n",
    "        if list_item:\n",
    "            all_item = df['prev_items']\n",
    "        else:\n",
    "            for i in trange(len(df)):\n",
    "                all_item.append(eval((df.loc[i, 'prev_items']).replace(\" \", \",\")))\n",
    "    all_item_id = []\n",
    "    for x in all_item:\n",
    "        all_item_id.append([map_id(y, id_dict) for y in x])\n",
    "    return all_item_id"
   ]
  },
  {
   "cell_type": "code",
   "execution_count": 6,
   "metadata": {},
   "outputs": [],
   "source": [
    "def get_item_pop(train_item):\n",
    "    all_item_id = []\n",
    "    for s in train_item:\n",
    "        all_item_id += s\n",
    "    return Counter(all_item_id)"
   ]
  },
  {
   "cell_type": "code",
   "execution_count": 27,
   "metadata": {},
   "outputs": [],
   "source": [
    "def get_co_occurence_dict(sessions: list, bidirection: bool=True, weighted: bool=False, max_dis=None) -> dict:\n",
    "    res = {}\n",
    "    for sess in tqdm(sessions):\n",
    "        for i, id in enumerate(sess):\n",
    "            if id not in res:\n",
    "                res[id] = Counter()\n",
    "            \n",
    "            if max_dis == None:\n",
    "                e = len(sess)\n",
    "            else:\n",
    "                e = min(i + max_dis + 1, len(sess))\n",
    "\n",
    "            for j in range(i+1, e):\n",
    "                if not weighted:\n",
    "                    res[id][sess[j]] += 1\n",
    "                else:\n",
    "                    res[id][sess[j]] += 1 / (j-i)\n",
    "                if bidirection:\n",
    "                    if sess[j] not in res:\n",
    "                        res[sess[j]] = Counter()\n",
    "                    if not weighted:\n",
    "                        res[sess[j]][id] += 1\n",
    "                    else:\n",
    "                        res[sess[j]][id] += 1 / (j-i)\n",
    "    return res"
   ]
  },
  {
   "cell_type": "code",
   "execution_count": 8,
   "metadata": {},
   "outputs": [],
   "source": [
    "def sort_co_occurence_dict(co_occurence_dict: dict) -> dict:\n",
    "    res = {}\n",
    "    for k,v in co_occurence_dict.items():\n",
    "        res[k] = dict(sorted(v.items(), key=lambda item: -item[1]))\n",
    "    return res"
   ]
  },
  {
   "cell_type": "code",
   "execution_count": 9,
   "metadata": {},
   "outputs": [],
   "source": [
    "def predict_with_co_occurence_dict(sess: list, sess_locale: list, id2locale: dict, co_occurence_dict: dict, topk: int, pred_with_last: bool=False, remove_hist: bool=False) -> list:\n",
    "    sorted_dict = sort_co_occurence_dict(co_occurence_dict)\n",
    "    res = []\n",
    "    for i, s in tqdm(enumerate(sess)):\n",
    "        locale = sess_locale[i]\n",
    "        if not pred_with_last:\n",
    "            cand = Counter()\n",
    "            for i,id in enumerate(s):\n",
    "                if id in sorted_dict:\n",
    "                    if id in sorted_dict:\n",
    "                        cand = cand + Counter({ k:sorted_dict[id][k] * (i / len(s)) for k in list(sorted_dict[id].keys()) } )\n",
    "            cand = sorted(cand.items(), key=lambda x: -x[1])\n",
    "            cand = [i[0] for i in cand]\n",
    "        else:\n",
    "            if s[-1] not in sorted_dict:\n",
    "                cand = []\n",
    "            else:\n",
    "                cand = list(sorted_dict[s[-1]].keys())\n",
    "\n",
    "        if remove_hist:\n",
    "            cand = [x for x in cand if x not in s]\n",
    "\n",
    "        cand = [x for x in cand if locale in id2locale[x]]\n",
    "\n",
    "        cand = cand[: min(len(cand), topk)]\n",
    "        res.append(cand)\n",
    "    return res"
   ]
  },
  {
   "cell_type": "code",
   "execution_count": 10,
   "metadata": {},
   "outputs": [],
   "source": [
    "def pad_topk_with_popular_items(rec_list: list, topk: int, pop_items: list) -> list:\n",
    "    # TODO: remove duplicated items; add locale constraint\n",
    "    res = [None] * len(rec_list)\n",
    "    for i, l in enumerate(rec_list):\n",
    "        pad_len = topk - len(l)\n",
    "        if pad_len > 0:\n",
    "            pad_items = random.sample(pop_items, pad_len)\n",
    "            res[i] = l + pad_items\n",
    "        else:\n",
    "            res[i] = l\n",
    "    return res"
   ]
  },
  {
   "cell_type": "code",
   "execution_count": 11,
   "metadata": {},
   "outputs": [],
   "source": [
    "def id2predictions(pred: list, test_df: cudf.DataFrame, id_dict: dict) -> cudf.DataFrame:\n",
    "    id2product = {v:k for k,v in id_dict.items()}\n",
    "    assert len(pred) == test_df.shape[0]\n",
    "    product_pred = [None] * len(pred)\n",
    "    for i, l in enumerate(pred):\n",
    "        product_pred[i] = [id2product[x] for x in l]\n",
    "    res = cudf.DataFrame()\n",
    "    res['locale'] = test_df['locale']\n",
    "    res['next_item_prediction'] = product_pred\n",
    "    return res"
   ]
  },
  {
   "cell_type": "code",
   "execution_count": 39,
   "metadata": {},
   "outputs": [],
   "source": [
    "def get_neighbors_for_each_product(co_occurence_dict: dict, productid_map: dict, pop_products: list, k: int=300):\n",
    "    res = {'id': [], 'pid': [], 'candidates_id': [], 'counts' : [], 'normalized_counts' : [], 'state': []}\n",
    "    for pid, id in tqdm(productid_map.items(), total=len(productid_map)):\n",
    "        if id in co_occurence_dict and len(co_occurence_dict[id]) > 0:\n",
    "            neighbors, counts = list(zip(*co_occurence_dict[id].most_common()))\n",
    "            neighbors, counts = list(neighbors), list(counts)\n",
    "            if len(neighbors) >= k:\n",
    "                cands = neighbors[:k]\n",
    "                counts_k = counts[:k]\n",
    "                normalized_counts_k = (np.array(counts_k) / np.array(counts).sum()).tolist()\n",
    "                state = 'Full'\n",
    "            else:\n",
    "                num_pop = k - len(neighbors)\n",
    "                _pop_cands = random.sample(pop_products, k-len(neighbors))\n",
    "                cands = neighbors + _pop_cands\n",
    "                counts_k = counts + [0 for i in range(num_pop)]\n",
    "                normalized_counts_k = (np.array(counts) / np.array(counts).sum()).tolist() + [0.0 for i in range(num_pop)]\n",
    "                state = 'Pad'\n",
    "        else:\n",
    "            cands = random.sample(pop_products, k)\n",
    "            counts_k = [0 for i in range(k)]\n",
    "            normalized_counts_k = [0.0 for i in range(k)]\n",
    "            state = 'No'\n",
    "        res['id'].append(id)\n",
    "        res['pid'].append(pid)\n",
    "        res['candidates_id'].append(cands)\n",
    "        res['counts'].append(counts_k)\n",
    "        res['normalized_counts'].append(normalized_counts_k)\n",
    "        res['state'].append(state)\n",
    "    return pd.DataFrame(res)"
   ]
  },
  {
   "cell_type": "code",
   "execution_count": 13,
   "metadata": {},
   "outputs": [],
   "source": [
    "def collect_all_counts(cand_df, co_occ_dict_list):\n",
    "    for i, co_occ_dict in enumerate(co_occ_dict_list):\n",
    "        i_counts, i_normalized_counts = [], []\n",
    "        for j in trange(cand_df.shape[0]):\n",
    "            item_id = cand_df.iloc[j]['id']\n",
    "            item_candidates = cand_df.iloc[j]['candidates_id']\n",
    "            if (item_id in co_occ_dict) and len(co_occ_dict[item_id]) > 0:\n",
    "                cur_counts = [co_occ_dict[item_id][cand] for cand in item_candidates]\n",
    "                all_counts = sum(co_occ_dict[item_id].values())\n",
    "                cur_norm_counts = (np.array(cur_counts) / all_counts).tolist()\n",
    "            else:\n",
    "                cur_counts = [0.0 for cand in item_candidates]\n",
    "                cur_norm_counts = [0.0 for cand in item_candidates]\n",
    "            i_counts.append(cur_counts), i_normalized_counts.append(cur_norm_counts)\n",
    "        cand_df[f'counts_{i}'] = i_counts\n",
    "        cand_df[f'normalized_counts_{i}'] = i_normalized_counts"
   ]
  },
  {
   "cell_type": "code",
   "execution_count": 14,
   "metadata": {},
   "outputs": [],
   "source": [
    "def cast_dtype(df : pd.DataFrame):\n",
    "    for k in df.columns:\n",
    "        dt = type(df[k].iloc[0])\n",
    "        if 'float' in str(dt):\n",
    "            df[k] = df[k].astype('float32')\n",
    "        elif 'int' in str(dt):\n",
    "            df[k] = df[k].astype('int32')\n",
    "        elif dt == list:\n",
    "            dt_ = type(df.iloc[0][k][0])\n",
    "            if 'float' in str(dt_):\n",
    "                df[k] = df[k].apply(lambda x : np.array(x, dtype=np.float32))\n",
    "            elif 'int' in str(dt_):\n",
    "                df[k] = df[k].apply(lambda x : np.array(x, dtype=np.int32))"
   ]
  },
  {
   "cell_type": "code",
   "execution_count": 15,
   "metadata": {},
   "outputs": [],
   "source": [
    "def get_session_last_item(session_df):\n",
    "    last_items = []\n",
    "    num_sessions = len(session_df)\n",
    "    for i in tqdm(range(num_sessions)):\n",
    "        sess = session_df.iloc[i]\n",
    "        sess_prev_items = sess['prev_items']\n",
    "        \n",
    "        product_list = sess_prev_items.strip('[]').split(' ')\n",
    "        last_item = product_list[-1].strip(\"'\\n\")\n",
    "\n",
    "        last_items.append(last_item)\n",
    "    return last_items "
   ]
  },
  {
   "attachments": {},
   "cell_type": "markdown",
   "metadata": {},
   "source": [
    "## Part1: Generate each item's neighbors in co-occurence graph"
   ]
  },
  {
   "cell_type": "code",
   "execution_count": 16,
   "metadata": {},
   "outputs": [
    {
     "name": "stdout",
     "output_type": "stream",
     "text": [
      "/root/autodl-tmp/xiaolong/WorkSpace/Amazon-KDDCUP-23/XGBoost\n",
      "../data_for_recstudio/products_train.csv\n"
     ]
    }
   ],
   "source": [
    "data_type = 'all' # ['all', 'tune']\n",
    "train_sess_data = pd.read_csv(f'../data_for_recstudio/task1_data/task13_4_task1_train_sessions.csv')\n",
    "test_sess_data = pd.read_csv(f'../data_for_recstudio/task1_data/task13_4_task1_valid_sessions.csv')\n",
    "product = read_product_data()"
   ]
  },
  {
   "cell_type": "code",
   "execution_count": 17,
   "metadata": {},
   "outputs": [],
   "source": [
    "# Map product id\n",
    "id_dict = { id: i+1 for i, id in enumerate(product['id'].unique()) }    # 0 saved for padding"
   ]
  },
  {
   "cell_type": "code",
   "execution_count": 18,
   "metadata": {},
   "outputs": [
    {
     "name": "stderr",
     "output_type": "stream",
     "text": [
      "100%|██████████| 3557898/3557898 [01:50<00:00, 32273.17it/s]\n",
      "100%|██████████| 361581/361581 [00:06<00:00, 52842.86it/s]\n"
     ]
    }
   ],
   "source": [
    "train_sess_itemid = get_sessions(train_sess_data, id_dict, list_item=False)\n",
    "test_sess_itemid = get_sessions(test_sess_data, id_dict, test=True, list_item=False)"
   ]
  },
  {
   "cell_type": "code",
   "execution_count": 19,
   "metadata": {},
   "outputs": [],
   "source": [
    "train_pop = get_item_pop(train_sess_itemid)\n",
    "test_pop = get_item_pop(test_sess_itemid)\n",
    "total_pop = train_pop + test_pop\n",
    "sorted_pop = sorted(total_pop.items(), key=lambda x:-x[1])\n",
    "pop_items_500 = [x[0] for x in sorted_pop[:500]]"
   ]
  },
  {
   "cell_type": "code",
   "execution_count": 28,
   "metadata": {},
   "outputs": [
    {
     "name": "stderr",
     "output_type": "stream",
     "text": [
      "100%|██████████| 3919479/3919479 [00:51<00:00, 76213.06it/s] \n"
     ]
    }
   ],
   "source": [
    "co_occurence_dict_uni = get_co_occurence_dict(train_sess_itemid + test_sess_itemid, bidirection=False, weighted=False)"
   ]
  },
  {
   "cell_type": "code",
   "execution_count": 29,
   "metadata": {},
   "outputs": [
    {
     "name": "stderr",
     "output_type": "stream",
     "text": [
      "100%|██████████| 3919479/3919479 [00:47<00:00, 81835.86it/s] \n"
     ]
    }
   ],
   "source": [
    "co_occurence_dict_dis_3_uni_wgt = get_co_occurence_dict(train_sess_itemid + test_sess_itemid, bidirection=False, weighted=True, max_dis=3)"
   ]
  },
  {
   "cell_type": "code",
   "execution_count": 30,
   "metadata": {},
   "outputs": [
    {
     "name": "stderr",
     "output_type": "stream",
     "text": [
      "100%|██████████| 3919479/3919479 [00:51<00:00, 75837.25it/s] \n"
     ]
    }
   ],
   "source": [
    "co_occurence_dict_dis_3_bi = get_co_occurence_dict(train_sess_itemid + test_sess_itemid, bidirection=True, weighted=False, max_dis=3)"
   ]
  },
  {
   "cell_type": "code",
   "execution_count": 31,
   "metadata": {},
   "outputs": [
    {
     "name": "stderr",
     "output_type": "stream",
     "text": [
      "100%|██████████| 1401599/1401599 [00:32<00:00, 43200.39it/s] \n",
      "100%|██████████| 1401599/1401599 [00:15<00:00, 88310.97it/s] \n",
      "100%|██████████| 1401599/1401599 [00:20<00:00, 68111.74it/s] \n"
     ]
    }
   ],
   "source": [
    "co_occurence_dict_merged = {}\n",
    "co_occurence_dict_list = [co_occurence_dict_uni, co_occurence_dict_dis_3_uni_wgt, co_occurence_dict_dis_3_bi]\n",
    "for co_occ_dict in co_occurence_dict_list:\n",
    "    for item_id in tqdm(co_occ_dict.keys(), total=len(co_occ_dict)):\n",
    "        if item_id not in co_occurence_dict_merged:\n",
    "            co_occurence_dict_merged[item_id] = Counter()\n",
    "        for neigh in co_occ_dict[item_id].keys():\n",
    "            co_occurence_dict_merged[item_id][neigh] += co_occ_dict[item_id][neigh]"
   ]
  },
  {
   "cell_type": "code",
   "execution_count": 40,
   "metadata": {},
   "outputs": [
    {
     "name": "stderr",
     "output_type": "stream",
     "text": [
      "100%|██████████| 1410675/1410675 [05:02<00:00, 4670.64it/s]\n"
     ]
    }
   ],
   "source": [
    "neighbors_df = get_neighbors_for_each_product(co_occurence_dict_merged, id_dict, pop_items_500, 300)"
   ]
  },
  {
   "cell_type": "code",
   "execution_count": 41,
   "metadata": {},
   "outputs": [
    {
     "name": "stderr",
     "output_type": "stream",
     "text": [
      "100%|██████████| 1410675/1410675 [07:54<00:00, 2972.38it/s]\n",
      "100%|██████████| 1410675/1410675 [07:22<00:00, 3189.12it/s]\n",
      "100%|██████████| 1410675/1410675 [08:47<00:00, 2675.40it/s]\n"
     ]
    }
   ],
   "source": [
    "collect_all_counts(neighbors_df, co_occurence_dict_list)"
   ]
  },
  {
   "cell_type": "code",
   "execution_count": 42,
   "metadata": {},
   "outputs": [],
   "source": [
    "id2pid = {v:k for k,v in id_dict.items()}\n",
    "neighbors_df['candidates'] = neighbors_df['candidates_id'].apply(lambda x: [id2pid[_] for _ in x])"
   ]
  },
  {
   "cell_type": "code",
   "execution_count": 43,
   "metadata": {},
   "outputs": [
    {
     "data": {
      "text/html": [
       "<div>\n",
       "<style scoped>\n",
       "    .dataframe tbody tr th:only-of-type {\n",
       "        vertical-align: middle;\n",
       "    }\n",
       "\n",
       "    .dataframe tbody tr th {\n",
       "        vertical-align: top;\n",
       "    }\n",
       "\n",
       "    .dataframe thead th {\n",
       "        text-align: right;\n",
       "    }\n",
       "</style>\n",
       "<table border=\"1\" class=\"dataframe\">\n",
       "  <thead>\n",
       "    <tr style=\"text-align: right;\">\n",
       "      <th></th>\n",
       "      <th>id</th>\n",
       "      <th>candidates</th>\n",
       "      <th>counts</th>\n",
       "      <th>normalized_counts</th>\n",
       "      <th>state</th>\n",
       "      <th>counts_0</th>\n",
       "      <th>normalized_counts_0</th>\n",
       "      <th>counts_1</th>\n",
       "      <th>normalized_counts_1</th>\n",
       "      <th>counts_2</th>\n",
       "      <th>normalized_counts_2</th>\n",
       "    </tr>\n",
       "  </thead>\n",
       "  <tbody>\n",
       "    <tr>\n",
       "      <th>0</th>\n",
       "      <td>B005ZSSN10</td>\n",
       "      <td>[B005ZSSMO8, B005ZSSNXS, B07B3XSHWN, B074X4W71...</td>\n",
       "      <td>[4.0, 3.0, 1, 0, 0, 0, 0, 0, 0, 0, 0, 0, 0, 0,...</td>\n",
       "      <td>[0.5, 0.375, 0.125, 0.0, 0.0, 0.0, 0.0, 0.0, 0...</td>\n",
       "      <td>Pad</td>\n",
       "      <td>[1, 1, 0, 0, 0, 0, 0, 0, 0, 0, 0, 0, 0, 0, 0, ...</td>\n",
       "      <td>[0.5, 0.5, 0.0, 0.0, 0.0, 0.0, 0.0, 0.0, 0.0, ...</td>\n",
       "      <td>[1.0, 1.0, 0, 0, 0, 0, 0, 0, 0, 0, 0, 0, 0, 0,...</td>\n",
       "      <td>[0.5, 0.5, 0.0, 0.0, 0.0, 0.0, 0.0, 0.0, 0.0, ...</td>\n",
       "      <td>[2, 1, 1, 0, 0, 0, 0, 0, 0, 0, 0, 0, 0, 0, 0, ...</td>\n",
       "      <td>[0.5, 0.25, 0.25, 0.0, 0.0, 0.0, 0.0, 0.0, 0.0...</td>\n",
       "    </tr>\n",
       "    <tr>\n",
       "      <th>1</th>\n",
       "      <td>B08PRYN6LD</td>\n",
       "      <td>[B08PSBK59Y, B005PKZK7S, B075WSVXS3, B08PRYN6L...</td>\n",
       "      <td>[21.0, 8.833333333333332, 5.5, 3.3333333333333...</td>\n",
       "      <td>[0.3073170731707317, 0.12926829268292683, 0.08...</td>\n",
       "      <td>Pad</td>\n",
       "      <td>[7, 6, 1, 1, 1, 1, 1, 1, 1, 1, 2, 2, 1, 1, 1, ...</td>\n",
       "      <td>[0.23333333333333334, 0.2, 0.03333333333333333...</td>\n",
       "      <td>[6.0, 0.8333333333333333, 0.5, 0.3333333333333...</td>\n",
       "      <td>[0.5806451612903225, 0.08064516129032256, 0.04...</td>\n",
       "      <td>[8, 2, 4, 2, 1, 1, 1, 1, 1, 1, 0, 0, 0, 0, 0, ...</td>\n",
       "      <td>[0.2857142857142857, 0.07142857142857142, 0.14...</td>\n",
       "    </tr>\n",
       "    <tr>\n",
       "      <th>2</th>\n",
       "      <td>B09MBZJ48V</td>\n",
       "      <td>[B07VR16HF9, B089QVZBWM, B005HWEZGG, B07FY5LCH...</td>\n",
       "      <td>[91.33333333333333, 13.0, 8.0, 7.3333333333333...</td>\n",
       "      <td>[0.37127371273712734, 0.052845528455284556, 0....</td>\n",
       "      <td>Pad</td>\n",
       "      <td>[28, 6, 3, 2, 2, 3, 2, 1, 1, 1, 1, 1, 0, 0, 0,...</td>\n",
       "      <td>[0.3684210526315789, 0.07894736842105263, 0.03...</td>\n",
       "      <td>[27.333333333333332, 2.0, 1.0, 1.3333333333333...</td>\n",
       "      <td>[0.6212121212121211, 0.04545454545454545, 0.02...</td>\n",
       "      <td>[36, 5, 4, 4, 4, 3, 4, 3, 2, 2, 1, 1, 3, 3, 3,...</td>\n",
       "      <td>[0.2857142857142857, 0.03968253968253968, 0.03...</td>\n",
       "    </tr>\n",
       "    <tr>\n",
       "      <th>3</th>\n",
       "      <td>B08ZN6F26S</td>\n",
       "      <td>[B08PVG787Z, B08ZN6F26S, B00VMUSFMW, B07JKP79B...</td>\n",
       "      <td>[15.0, 14.333333333333332, 5.5, 5.333333333333...</td>\n",
       "      <td>[0.16453382084095067, 0.15722120658135283, 0.0...</td>\n",
       "      <td>Pad</td>\n",
       "      <td>[5, 4, 2, 2, 2, 2, 1, 2, 1, 2, 2, 1, 1, 2, 1, ...</td>\n",
       "      <td>[0.1388888888888889, 0.1111111111111111, 0.055...</td>\n",
       "      <td>[4.0, 2.333333333333333, 1.5, 1.33333333333333...</td>\n",
       "      <td>[0.24742268041237112, 0.14432989690721645, 0.0...</td>\n",
       "      <td>[6, 8, 2, 2, 2, 2, 2, 1, 2, 1, 1, 1, 1, 0, 0, ...</td>\n",
       "      <td>[0.15384615384615385, 0.20512820512820512, 0.0...</td>\n",
       "    </tr>\n",
       "    <tr>\n",
       "      <th>4</th>\n",
       "      <td>B094DGRV7D</td>\n",
       "      <td>[B08KTP6517, B06WVS91VM, B094DGRV7D, B09JSLJZK...</td>\n",
       "      <td>[21.5, 13.0, 12.333333333333332, 11.0, 10.6666...</td>\n",
       "      <td>[0.08279845956354302, 0.05006418485237485, 0.0...</td>\n",
       "      <td>Pad</td>\n",
       "      <td>[5, 5, 4, 2, 4, 3, 2, 2, 3, 2, 3, 3, 3, 2, 3, ...</td>\n",
       "      <td>[0.060240963855421686, 0.060240963855421686, 0...</td>\n",
       "      <td>[2.5, 3.0, 2.333333333333333, 2.0, 0.666666666...</td>\n",
       "      <td>[0.06302521008403361, 0.07563025210084033, 0.0...</td>\n",
       "      <td>[14, 5, 6, 7, 6, 6, 4, 4, 3, 4, 3, 3, 2, 2, 2,...</td>\n",
       "      <td>[0.10218978102189781, 0.0364963503649635, 0.04...</td>\n",
       "    </tr>\n",
       "  </tbody>\n",
       "</table>\n",
       "</div>"
      ],
      "text/plain": [
       "           id                                         candidates  \\\n",
       "0  B005ZSSN10  [B005ZSSMO8, B005ZSSNXS, B07B3XSHWN, B074X4W71...   \n",
       "1  B08PRYN6LD  [B08PSBK59Y, B005PKZK7S, B075WSVXS3, B08PRYN6L...   \n",
       "2  B09MBZJ48V  [B07VR16HF9, B089QVZBWM, B005HWEZGG, B07FY5LCH...   \n",
       "3  B08ZN6F26S  [B08PVG787Z, B08ZN6F26S, B00VMUSFMW, B07JKP79B...   \n",
       "4  B094DGRV7D  [B08KTP6517, B06WVS91VM, B094DGRV7D, B09JSLJZK...   \n",
       "\n",
       "                                              counts  \\\n",
       "0  [4.0, 3.0, 1, 0, 0, 0, 0, 0, 0, 0, 0, 0, 0, 0,...   \n",
       "1  [21.0, 8.833333333333332, 5.5, 3.3333333333333...   \n",
       "2  [91.33333333333333, 13.0, 8.0, 7.3333333333333...   \n",
       "3  [15.0, 14.333333333333332, 5.5, 5.333333333333...   \n",
       "4  [21.5, 13.0, 12.333333333333332, 11.0, 10.6666...   \n",
       "\n",
       "                                   normalized_counts state  \\\n",
       "0  [0.5, 0.375, 0.125, 0.0, 0.0, 0.0, 0.0, 0.0, 0...   Pad   \n",
       "1  [0.3073170731707317, 0.12926829268292683, 0.08...   Pad   \n",
       "2  [0.37127371273712734, 0.052845528455284556, 0....   Pad   \n",
       "3  [0.16453382084095067, 0.15722120658135283, 0.0...   Pad   \n",
       "4  [0.08279845956354302, 0.05006418485237485, 0.0...   Pad   \n",
       "\n",
       "                                            counts_0  \\\n",
       "0  [1, 1, 0, 0, 0, 0, 0, 0, 0, 0, 0, 0, 0, 0, 0, ...   \n",
       "1  [7, 6, 1, 1, 1, 1, 1, 1, 1, 1, 2, 2, 1, 1, 1, ...   \n",
       "2  [28, 6, 3, 2, 2, 3, 2, 1, 1, 1, 1, 1, 0, 0, 0,...   \n",
       "3  [5, 4, 2, 2, 2, 2, 1, 2, 1, 2, 2, 1, 1, 2, 1, ...   \n",
       "4  [5, 5, 4, 2, 4, 3, 2, 2, 3, 2, 3, 3, 3, 2, 3, ...   \n",
       "\n",
       "                                 normalized_counts_0  \\\n",
       "0  [0.5, 0.5, 0.0, 0.0, 0.0, 0.0, 0.0, 0.0, 0.0, ...   \n",
       "1  [0.23333333333333334, 0.2, 0.03333333333333333...   \n",
       "2  [0.3684210526315789, 0.07894736842105263, 0.03...   \n",
       "3  [0.1388888888888889, 0.1111111111111111, 0.055...   \n",
       "4  [0.060240963855421686, 0.060240963855421686, 0...   \n",
       "\n",
       "                                            counts_1  \\\n",
       "0  [1.0, 1.0, 0, 0, 0, 0, 0, 0, 0, 0, 0, 0, 0, 0,...   \n",
       "1  [6.0, 0.8333333333333333, 0.5, 0.3333333333333...   \n",
       "2  [27.333333333333332, 2.0, 1.0, 1.3333333333333...   \n",
       "3  [4.0, 2.333333333333333, 1.5, 1.33333333333333...   \n",
       "4  [2.5, 3.0, 2.333333333333333, 2.0, 0.666666666...   \n",
       "\n",
       "                                 normalized_counts_1  \\\n",
       "0  [0.5, 0.5, 0.0, 0.0, 0.0, 0.0, 0.0, 0.0, 0.0, ...   \n",
       "1  [0.5806451612903225, 0.08064516129032256, 0.04...   \n",
       "2  [0.6212121212121211, 0.04545454545454545, 0.02...   \n",
       "3  [0.24742268041237112, 0.14432989690721645, 0.0...   \n",
       "4  [0.06302521008403361, 0.07563025210084033, 0.0...   \n",
       "\n",
       "                                            counts_2  \\\n",
       "0  [2, 1, 1, 0, 0, 0, 0, 0, 0, 0, 0, 0, 0, 0, 0, ...   \n",
       "1  [8, 2, 4, 2, 1, 1, 1, 1, 1, 1, 0, 0, 0, 0, 0, ...   \n",
       "2  [36, 5, 4, 4, 4, 3, 4, 3, 2, 2, 1, 1, 3, 3, 3,...   \n",
       "3  [6, 8, 2, 2, 2, 2, 2, 1, 2, 1, 1, 1, 1, 0, 0, ...   \n",
       "4  [14, 5, 6, 7, 6, 6, 4, 4, 3, 4, 3, 3, 2, 2, 2,...   \n",
       "\n",
       "                                 normalized_counts_2  \n",
       "0  [0.5, 0.25, 0.25, 0.0, 0.0, 0.0, 0.0, 0.0, 0.0...  \n",
       "1  [0.2857142857142857, 0.07142857142857142, 0.14...  \n",
       "2  [0.2857142857142857, 0.03968253968253968, 0.03...  \n",
       "3  [0.15384615384615385, 0.20512820512820512, 0.0...  \n",
       "4  [0.10218978102189781, 0.0364963503649635, 0.04...  "
      ]
     },
     "execution_count": 43,
     "metadata": {},
     "output_type": "execute_result"
    }
   ],
   "source": [
    "neighbors_df = neighbors_df[['pid', 'candidates', 'counts', 'normalized_counts', 'state', \\\n",
    "                             'counts_0', 'normalized_counts_0', 'counts_1', 'normalized_counts_1', 'counts_2', 'normalized_counts_2',]]\n",
    "neighbors_df.rename(columns={'pid' : 'id'}, inplace=True)\n",
    "neighbors_df.head(5)"
   ]
  },
  {
   "cell_type": "code",
   "execution_count": 44,
   "metadata": {},
   "outputs": [
    {
     "data": {
      "text/plain": [
       "count    1410675.0\n",
       "mean         300.0\n",
       "std            0.0\n",
       "min          300.0\n",
       "25%          300.0\n",
       "50%          300.0\n",
       "75%          300.0\n",
       "max          300.0\n",
       "Name: candidates, dtype: float64"
      ]
     },
     "execution_count": 44,
     "metadata": {},
     "output_type": "execute_result"
    }
   ],
   "source": [
    "neighbors_df['candidates'].apply(len).describe()"
   ]
  },
  {
   "cell_type": "code",
   "execution_count": 45,
   "metadata": {},
   "outputs": [
    {
     "data": {
      "text/plain": [
       "int"
      ]
     },
     "execution_count": 45,
     "metadata": {},
     "output_type": "execute_result"
    }
   ],
   "source": [
    "type(neighbors_df['counts_0'].iloc[0][0])"
   ]
  },
  {
   "cell_type": "code",
   "execution_count": 46,
   "metadata": {},
   "outputs": [],
   "source": [
    "cast_dtype(neighbors_df)"
   ]
  },
  {
   "cell_type": "code",
   "execution_count": 47,
   "metadata": {},
   "outputs": [],
   "source": [
    "neighbors_df.to_parquet(f'../candidates/co_graph_item_candidates_300_with_normalized_score_2.parquet', engine='pyarrow')"
   ]
  },
  {
   "cell_type": "code",
   "execution_count": 48,
   "metadata": {},
   "outputs": [
    {
     "data": {
      "text/plain": [
       "count    1410675.0\n",
       "mean         100.0\n",
       "std            0.0\n",
       "min          100.0\n",
       "25%          100.0\n",
       "50%          100.0\n",
       "75%          100.0\n",
       "max          100.0\n",
       "Name: counts, dtype: float64"
      ]
     },
     "execution_count": 48,
     "metadata": {},
     "output_type": "execute_result"
    }
   ],
   "source": [
    "neighbors_df['candidates'] = neighbors_df['candidates'].apply(lambda x : x[:100])\n",
    "neighbors_df['counts'] = neighbors_df['counts'].apply(lambda x : x[:100])\n",
    "neighbors_df['normalized_counts'] = neighbors_df['normalized_counts'].apply(lambda x : x[:100])\n",
    "neighbors_df['counts_0'] = neighbors_df['counts_0'].apply(lambda x : x[:100])\n",
    "neighbors_df['normalized_counts_0'] = neighbors_df['normalized_counts_0'].apply(lambda x : x[:100])\n",
    "neighbors_df['counts_1'] = neighbors_df['counts_1'].apply(lambda x : x[:100])\n",
    "neighbors_df['normalized_counts_1'] = neighbors_df['normalized_counts_1'].apply(lambda x : x[:100])\n",
    "neighbors_df['counts_2'] = neighbors_df['counts_2'].apply(lambda x : x[:100])\n",
    "neighbors_df['normalized_counts_2'] = neighbors_df['normalized_counts_2'].apply(lambda x : x[:100])\n",
    "neighbors_df['candidates'].apply(len).describe()\n",
    "neighbors_df['counts'].apply(len).describe()"
   ]
  },
  {
   "cell_type": "code",
   "execution_count": 49,
   "metadata": {},
   "outputs": [],
   "source": [
    "neighbors_df.to_parquet(f'../candidates/co_graph_item_candidates_100_with_normalized_score_2.parquet', engine='pyarrow')"
   ]
  },
  {
   "cell_type": "code",
   "execution_count": 50,
   "metadata": {},
   "outputs": [
    {
     "data": {
      "text/html": [
       "<div>\n",
       "<style scoped>\n",
       "    .dataframe tbody tr th:only-of-type {\n",
       "        vertical-align: middle;\n",
       "    }\n",
       "\n",
       "    .dataframe tbody tr th {\n",
       "        vertical-align: top;\n",
       "    }\n",
       "\n",
       "    .dataframe thead th {\n",
       "        text-align: right;\n",
       "    }\n",
       "</style>\n",
       "<table border=\"1\" class=\"dataframe\">\n",
       "  <thead>\n",
       "    <tr style=\"text-align: right;\">\n",
       "      <th></th>\n",
       "      <th>candidates</th>\n",
       "      <th>counts</th>\n",
       "      <th>normalized_counts</th>\n",
       "      <th>state</th>\n",
       "      <th>counts_0</th>\n",
       "      <th>normalized_counts_0</th>\n",
       "      <th>counts_1</th>\n",
       "      <th>normalized_counts_1</th>\n",
       "      <th>counts_2</th>\n",
       "      <th>normalized_counts_2</th>\n",
       "    </tr>\n",
       "    <tr>\n",
       "      <th>id</th>\n",
       "      <th></th>\n",
       "      <th></th>\n",
       "      <th></th>\n",
       "      <th></th>\n",
       "      <th></th>\n",
       "      <th></th>\n",
       "      <th></th>\n",
       "      <th></th>\n",
       "      <th></th>\n",
       "      <th></th>\n",
       "    </tr>\n",
       "  </thead>\n",
       "  <tbody>\n",
       "    <tr>\n",
       "      <th>B005ZSSN10</th>\n",
       "      <td>[B005ZSSMO8, B005ZSSNXS, B07B3XSHWN, B074X4W71...</td>\n",
       "      <td>[4.0, 3.0, 1.0, 0.0, 0.0, 0.0, 0.0, 0.0, 0.0, ...</td>\n",
       "      <td>[0.5, 0.375, 0.125, 0.0, 0.0, 0.0, 0.0, 0.0, 0...</td>\n",
       "      <td>Pad</td>\n",
       "      <td>[1, 1, 0, 0, 0, 0, 0, 0, 0, 0, 0, 0, 0, 0, 0, ...</td>\n",
       "      <td>[0.5, 0.5, 0.0, 0.0, 0.0, 0.0, 0.0, 0.0, 0.0, ...</td>\n",
       "      <td>[1.0, 1.0, 0.0, 0.0, 0.0, 0.0, 0.0, 0.0, 0.0, ...</td>\n",
       "      <td>[0.5, 0.5, 0.0, 0.0, 0.0, 0.0, 0.0, 0.0, 0.0, ...</td>\n",
       "      <td>[2, 1, 1, 0, 0, 0, 0, 0, 0, 0, 0, 0, 0, 0, 0, ...</td>\n",
       "      <td>[0.5, 0.25, 0.25, 0.0, 0.0, 0.0, 0.0, 0.0, 0.0...</td>\n",
       "    </tr>\n",
       "    <tr>\n",
       "      <th>B08PRYN6LD</th>\n",
       "      <td>[B08PSBK59Y, B005PKZK7S, B075WSVXS3, B08PRYN6L...</td>\n",
       "      <td>[21.0, 8.833333, 5.5, 3.3333333, 2.5, 2.5, 2.5...</td>\n",
       "      <td>[0.30731708, 0.12926829, 0.0804878, 0.04878048...</td>\n",
       "      <td>Pad</td>\n",
       "      <td>[7, 6, 1, 1, 1, 1, 1, 1, 1, 1, 2, 2, 1, 1, 1, ...</td>\n",
       "      <td>[0.23333333, 0.2, 0.033333335, 0.033333335, 0....</td>\n",
       "      <td>[6.0, 0.8333333, 0.5, 0.33333334, 0.5, 0.5, 0....</td>\n",
       "      <td>[0.58064514, 0.08064516, 0.048387095, 0.032258...</td>\n",
       "      <td>[8, 2, 4, 2, 1, 1, 1, 1, 1, 1, 0, 0, 0, 0, 0, ...</td>\n",
       "      <td>[0.2857143, 0.071428575, 0.14285715, 0.0714285...</td>\n",
       "    </tr>\n",
       "    <tr>\n",
       "      <th>B09MBZJ48V</th>\n",
       "      <td>[B07VR16HF9, B089QVZBWM, B005HWEZGG, B07FY5LCH...</td>\n",
       "      <td>[91.333336, 13.0, 8.0, 7.3333335, 7.3333335, 7...</td>\n",
       "      <td>[0.37127373, 0.05284553, 0.032520324, 0.029810...</td>\n",
       "      <td>Pad</td>\n",
       "      <td>[28, 6, 3, 2, 2, 3, 2, 1, 1, 1, 1, 1, 0, 0, 0,...</td>\n",
       "      <td>[0.36842105, 0.078947365, 0.039473683, 0.02631...</td>\n",
       "      <td>[27.333334, 2.0, 1.0, 1.3333334, 1.3333334, 1....</td>\n",
       "      <td>[0.6212121, 0.045454547, 0.022727273, 0.030303...</td>\n",
       "      <td>[36, 5, 4, 4, 4, 3, 4, 3, 2, 2, 1, 1, 3, 3, 3,...</td>\n",
       "      <td>[0.2857143, 0.03968254, 0.031746034, 0.0317460...</td>\n",
       "    </tr>\n",
       "    <tr>\n",
       "      <th>B08ZN6F26S</th>\n",
       "      <td>[B08PVG787Z, B08ZN6F26S, B00VMUSFMW, B07JKP79B...</td>\n",
       "      <td>[15.0, 14.333333, 5.5, 5.3333335, 5.3333335, 4...</td>\n",
       "      <td>[0.16453382, 0.15722121, 0.06032907, 0.0585009...</td>\n",
       "      <td>Pad</td>\n",
       "      <td>[5, 4, 2, 2, 2, 2, 1, 2, 1, 2, 2, 1, 1, 2, 1, ...</td>\n",
       "      <td>[0.1388889, 0.11111111, 0.055555556, 0.0555555...</td>\n",
       "      <td>[4.0, 2.3333333, 1.5, 1.3333334, 1.3333334, 0....</td>\n",
       "      <td>[0.24742268, 0.14432989, 0.0927835, 0.08247422...</td>\n",
       "      <td>[6, 8, 2, 2, 2, 2, 2, 1, 2, 1, 1, 1, 1, 0, 0, ...</td>\n",
       "      <td>[0.15384616, 0.20512821, 0.051282052, 0.051282...</td>\n",
       "    </tr>\n",
       "    <tr>\n",
       "      <th>B094DGRV7D</th>\n",
       "      <td>[B08KTP6517, B06WVS91VM, B094DGRV7D, B09JSLJZK...</td>\n",
       "      <td>[21.5, 13.0, 12.333333, 11.0, 10.666667, 10.33...</td>\n",
       "      <td>[0.08279846, 0.050064184, 0.047496792, 0.04236...</td>\n",
       "      <td>Pad</td>\n",
       "      <td>[5, 5, 4, 2, 4, 3, 2, 2, 3, 2, 3, 3, 3, 2, 3, ...</td>\n",
       "      <td>[0.060240965, 0.060240965, 0.04819277, 0.02409...</td>\n",
       "      <td>[2.5, 3.0, 2.3333333, 2.0, 0.6666667, 1.333333...</td>\n",
       "      <td>[0.063025214, 0.075630255, 0.05882353, 0.05042...</td>\n",
       "      <td>[14, 5, 6, 7, 6, 6, 4, 4, 3, 4, 3, 3, 2, 2, 2,...</td>\n",
       "      <td>[0.10218978, 0.03649635, 0.04379562, 0.0510948...</td>\n",
       "    </tr>\n",
       "  </tbody>\n",
       "</table>\n",
       "</div>"
      ],
      "text/plain": [
       "                                                   candidates  \\\n",
       "id                                                              \n",
       "B005ZSSN10  [B005ZSSMO8, B005ZSSNXS, B07B3XSHWN, B074X4W71...   \n",
       "B08PRYN6LD  [B08PSBK59Y, B005PKZK7S, B075WSVXS3, B08PRYN6L...   \n",
       "B09MBZJ48V  [B07VR16HF9, B089QVZBWM, B005HWEZGG, B07FY5LCH...   \n",
       "B08ZN6F26S  [B08PVG787Z, B08ZN6F26S, B00VMUSFMW, B07JKP79B...   \n",
       "B094DGRV7D  [B08KTP6517, B06WVS91VM, B094DGRV7D, B09JSLJZK...   \n",
       "\n",
       "                                                       counts  \\\n",
       "id                                                              \n",
       "B005ZSSN10  [4.0, 3.0, 1.0, 0.0, 0.0, 0.0, 0.0, 0.0, 0.0, ...   \n",
       "B08PRYN6LD  [21.0, 8.833333, 5.5, 3.3333333, 2.5, 2.5, 2.5...   \n",
       "B09MBZJ48V  [91.333336, 13.0, 8.0, 7.3333335, 7.3333335, 7...   \n",
       "B08ZN6F26S  [15.0, 14.333333, 5.5, 5.3333335, 5.3333335, 4...   \n",
       "B094DGRV7D  [21.5, 13.0, 12.333333, 11.0, 10.666667, 10.33...   \n",
       "\n",
       "                                            normalized_counts state  \\\n",
       "id                                                                    \n",
       "B005ZSSN10  [0.5, 0.375, 0.125, 0.0, 0.0, 0.0, 0.0, 0.0, 0...   Pad   \n",
       "B08PRYN6LD  [0.30731708, 0.12926829, 0.0804878, 0.04878048...   Pad   \n",
       "B09MBZJ48V  [0.37127373, 0.05284553, 0.032520324, 0.029810...   Pad   \n",
       "B08ZN6F26S  [0.16453382, 0.15722121, 0.06032907, 0.0585009...   Pad   \n",
       "B094DGRV7D  [0.08279846, 0.050064184, 0.047496792, 0.04236...   Pad   \n",
       "\n",
       "                                                     counts_0  \\\n",
       "id                                                              \n",
       "B005ZSSN10  [1, 1, 0, 0, 0, 0, 0, 0, 0, 0, 0, 0, 0, 0, 0, ...   \n",
       "B08PRYN6LD  [7, 6, 1, 1, 1, 1, 1, 1, 1, 1, 2, 2, 1, 1, 1, ...   \n",
       "B09MBZJ48V  [28, 6, 3, 2, 2, 3, 2, 1, 1, 1, 1, 1, 0, 0, 0,...   \n",
       "B08ZN6F26S  [5, 4, 2, 2, 2, 2, 1, 2, 1, 2, 2, 1, 1, 2, 1, ...   \n",
       "B094DGRV7D  [5, 5, 4, 2, 4, 3, 2, 2, 3, 2, 3, 3, 3, 2, 3, ...   \n",
       "\n",
       "                                          normalized_counts_0  \\\n",
       "id                                                              \n",
       "B005ZSSN10  [0.5, 0.5, 0.0, 0.0, 0.0, 0.0, 0.0, 0.0, 0.0, ...   \n",
       "B08PRYN6LD  [0.23333333, 0.2, 0.033333335, 0.033333335, 0....   \n",
       "B09MBZJ48V  [0.36842105, 0.078947365, 0.039473683, 0.02631...   \n",
       "B08ZN6F26S  [0.1388889, 0.11111111, 0.055555556, 0.0555555...   \n",
       "B094DGRV7D  [0.060240965, 0.060240965, 0.04819277, 0.02409...   \n",
       "\n",
       "                                                     counts_1  \\\n",
       "id                                                              \n",
       "B005ZSSN10  [1.0, 1.0, 0.0, 0.0, 0.0, 0.0, 0.0, 0.0, 0.0, ...   \n",
       "B08PRYN6LD  [6.0, 0.8333333, 0.5, 0.33333334, 0.5, 0.5, 0....   \n",
       "B09MBZJ48V  [27.333334, 2.0, 1.0, 1.3333334, 1.3333334, 1....   \n",
       "B08ZN6F26S  [4.0, 2.3333333, 1.5, 1.3333334, 1.3333334, 0....   \n",
       "B094DGRV7D  [2.5, 3.0, 2.3333333, 2.0, 0.6666667, 1.333333...   \n",
       "\n",
       "                                          normalized_counts_1  \\\n",
       "id                                                              \n",
       "B005ZSSN10  [0.5, 0.5, 0.0, 0.0, 0.0, 0.0, 0.0, 0.0, 0.0, ...   \n",
       "B08PRYN6LD  [0.58064514, 0.08064516, 0.048387095, 0.032258...   \n",
       "B09MBZJ48V  [0.6212121, 0.045454547, 0.022727273, 0.030303...   \n",
       "B08ZN6F26S  [0.24742268, 0.14432989, 0.0927835, 0.08247422...   \n",
       "B094DGRV7D  [0.063025214, 0.075630255, 0.05882353, 0.05042...   \n",
       "\n",
       "                                                     counts_2  \\\n",
       "id                                                              \n",
       "B005ZSSN10  [2, 1, 1, 0, 0, 0, 0, 0, 0, 0, 0, 0, 0, 0, 0, ...   \n",
       "B08PRYN6LD  [8, 2, 4, 2, 1, 1, 1, 1, 1, 1, 0, 0, 0, 0, 0, ...   \n",
       "B09MBZJ48V  [36, 5, 4, 4, 4, 3, 4, 3, 2, 2, 1, 1, 3, 3, 3,...   \n",
       "B08ZN6F26S  [6, 8, 2, 2, 2, 2, 2, 1, 2, 1, 1, 1, 1, 0, 0, ...   \n",
       "B094DGRV7D  [14, 5, 6, 7, 6, 6, 4, 4, 3, 4, 3, 3, 2, 2, 2,...   \n",
       "\n",
       "                                          normalized_counts_2  \n",
       "id                                                             \n",
       "B005ZSSN10  [0.5, 0.25, 0.25, 0.0, 0.0, 0.0, 0.0, 0.0, 0.0...  \n",
       "B08PRYN6LD  [0.2857143, 0.071428575, 0.14285715, 0.0714285...  \n",
       "B09MBZJ48V  [0.2857143, 0.03968254, 0.031746034, 0.0317460...  \n",
       "B08ZN6F26S  [0.15384616, 0.20512821, 0.051282052, 0.051282...  \n",
       "B094DGRV7D  [0.10218978, 0.03649635, 0.04379562, 0.0510948...  "
      ]
     },
     "execution_count": 50,
     "metadata": {},
     "output_type": "execute_result"
    }
   ],
   "source": [
    "neighbors_df = neighbors_df.set_index('id', drop=True)\n",
    "neighbors_df.head(5)"
   ]
  },
  {
   "cell_type": "code",
   "execution_count": 51,
   "metadata": {},
   "outputs": [
    {
     "name": "stderr",
     "output_type": "stream",
     "text": [
      "100%|██████████| 361581/361581 [00:09<00:00, 38156.06it/s]\n"
     ]
    }
   ],
   "source": [
    "test_last_items = get_session_last_item(test_sess_data)\n",
    "test_candidates = neighbors_df.loc[test_last_items]"
   ]
  },
  {
   "cell_type": "code",
   "execution_count": 52,
   "metadata": {},
   "outputs": [],
   "source": [
    "test_candidates.reset_index(drop=True, inplace=True)\n",
    "test_candidates['sess_id'] = np.arange(test_candidates.shape[0], dtype=np.int32)"
   ]
  },
  {
   "cell_type": "code",
   "execution_count": 56,
   "metadata": {},
   "outputs": [
    {
     "ename": "",
     "evalue": "",
     "output_type": "error",
     "traceback": [
      "\u001b[1;31m在当前单元格或上一个单元格中执行代码时 Kernel 崩溃。请查看单元格中的代码，以确定故障的可能原因。有关详细信息，请单击 <a href='https://aka.ms/vscodeJupyterKernelCrash'>此处</a>。有关更多详细信息，请查看 Jupyter <a href='command:jupyter.viewOutput'>log</a>。"
     ]
    }
   ],
   "source": [
    "test_candidates.to_parquet('../candidates/co_graph/co_graph_valid_100_with_normalized_score_2.parquet', engine='pyarrow')"
   ]
  },
  {
   "cell_type": "code",
   "execution_count": 55,
   "metadata": {},
   "outputs": [
    {
     "data": {
      "text/plain": [
       "count    361581.0\n",
       "mean        100.0\n",
       "std           0.0\n",
       "min         100.0\n",
       "25%         100.0\n",
       "50%         100.0\n",
       "75%         100.0\n",
       "max         100.0\n",
       "Name: counts, dtype: float64"
      ]
     },
     "execution_count": 55,
     "metadata": {},
     "output_type": "execute_result"
    }
   ],
   "source": [
    "test_candidates['counts'].apply(len).describe()"
   ]
  },
  {
   "attachments": {},
   "cell_type": "markdown",
   "metadata": {},
   "source": [
    "## Part2 : Use co-graph to predict candidates in test"
   ]
  },
  {
   "cell_type": "code",
   "execution_count": 14,
   "metadata": {},
   "outputs": [
    {
     "name": "stdout",
     "output_type": "stream",
     "text": [
      "/root/autodl-tmp/xiaolong/WorkSpace/Amazon-KDDCUP-23/XGBoost\n",
      "../data_for_recstudio/products_train.csv\n"
     ]
    }
   ],
   "source": [
    "train_sess_data = read_train_data()\n",
    "valid_sess_data = read_valid_data()\n",
    "test_sess_data = read_test_data(task)\n",
    "product = read_product_data()"
   ]
  },
  {
   "cell_type": "code",
   "execution_count": 15,
   "metadata": {},
   "outputs": [],
   "source": [
    "# Map product id\n",
    "id_dict = { id: i+1 for i, id in enumerate(product['id'].unique()) }    # 0 saved for padding"
   ]
  },
  {
   "cell_type": "code",
   "execution_count": 16,
   "metadata": {},
   "outputs": [],
   "source": [
    "locale_info = product[['id', 'locale']].groupby('id')['locale'].agg(list)\n",
    "id2locale = {id_dict[x]: locale_info[x] for x in product['id'].unique()}\n",
    "test_locale = test_sess_data['locale'].tolist()"
   ]
  },
  {
   "cell_type": "code",
   "execution_count": 17,
   "metadata": {},
   "outputs": [
    {
     "name": "stderr",
     "output_type": "stream",
     "text": [
      "100%|██████████| 3557898/3557898 [01:43<00:00, 34384.93it/s]\n",
      "100%|██████████| 361581/361581 [00:10<00:00, 36152.94it/s]\n",
      "100%|██████████| 316971/316971 [00:05<00:00, 53814.24it/s]\n"
     ]
    }
   ],
   "source": [
    "train_sess_itemid = get_sessions(train_sess_data, id_dict)\n",
    "valid_sess_itemid = get_sessions(valid_sess_data, id_dict)\n",
    "test_sess_itemid = get_sessions(test_sess_data, id_dict, test=True)"
   ]
  },
  {
   "cell_type": "code",
   "execution_count": 18,
   "metadata": {},
   "outputs": [
    {
     "name": "stderr",
     "output_type": "stream",
     "text": [
      "100%|██████████| 3919479/3919479 [00:45<00:00, 86325.86it/s]\n"
     ]
    }
   ],
   "source": [
    "# train and valid include data in test.\n",
    "co_occurence_dict_uni = get_co_occurence_dict(train_sess_itemid + valid_sess_itemid, bidirection=False, weighted=False)"
   ]
  },
  {
   "cell_type": "code",
   "execution_count": 19,
   "metadata": {},
   "outputs": [
    {
     "name": "stderr",
     "output_type": "stream",
     "text": [
      "100%|██████████| 3919479/3919479 [00:48<00:00, 81390.88it/s]\n"
     ]
    }
   ],
   "source": [
    "co_occurence_dict_dis_3_uni_wgt = get_co_occurence_dict(train_sess_itemid + valid_sess_itemid, bidirection=False, weighted=True, max_dis=3)"
   ]
  },
  {
   "cell_type": "code",
   "execution_count": 20,
   "metadata": {},
   "outputs": [
    {
     "name": "stderr",
     "output_type": "stream",
     "text": [
      "100%|██████████| 3919479/3919479 [01:00<00:00, 65292.90it/s]\n"
     ]
    }
   ],
   "source": [
    "co_occurence_dict_dis_3_bi = get_co_occurence_dict(train_sess_itemid + valid_sess_itemid, bidirection=True, weighted=False, max_dis=3)"
   ]
  },
  {
   "cell_type": "code",
   "execution_count": 21,
   "metadata": {},
   "outputs": [],
   "source": [
    "train_pop = get_item_pop(train_sess_itemid)\n",
    "valid_pop = get_item_pop(valid_sess_data)\n",
    "total_pop = train_pop + valid_pop\n",
    "sorted_pop = sorted(total_pop.items(), key=lambda x:-x[1])\n",
    "pop_items_500 = [x[0] for x in sorted_pop[:500]]"
   ]
  },
  {
   "cell_type": "code",
   "execution_count": 22,
   "metadata": {},
   "outputs": [
    {
     "name": "stderr",
     "output_type": "stream",
     "text": [
      "100%|██████████| 1405385/1405385 [00:22<00:00, 61433.73it/s] \n",
      "100%|██████████| 1405385/1405385 [00:16<00:00, 87183.63it/s] \n",
      "100%|██████████| 1405385/1405385 [00:21<00:00, 65469.18it/s] \n"
     ]
    }
   ],
   "source": [
    "co_occurence_dict_merged = {}\n",
    "co_occurence_dict_list = [co_occurence_dict_uni, co_occurence_dict_dis_3_uni_wgt, co_occurence_dict_dis_3_bi]\n",
    "for co_occ_dict in co_occurence_dict_list:\n",
    "    for item_id in tqdm(co_occ_dict.keys(), total=len(co_occ_dict)):\n",
    "        if item_id not in co_occurence_dict_merged:\n",
    "            co_occurence_dict_merged[item_id] = Counter()\n",
    "        for neigh in co_occ_dict[item_id].keys():\n",
    "            co_occurence_dict_merged[item_id][neigh] += co_occ_dict[item_id][neigh]"
   ]
  },
  {
   "cell_type": "code",
   "execution_count": 23,
   "metadata": {},
   "outputs": [
    {
     "name": "stderr",
     "output_type": "stream",
     "text": [
      "100%|██████████| 1410675/1410675 [05:38<00:00, 4163.89it/s]\n"
     ]
    }
   ],
   "source": [
    "neighbors_df = get_neighbors_for_each_product(co_occurence_dict_merged, id_dict, pop_items_500, 300)"
   ]
  },
  {
   "cell_type": "code",
   "execution_count": 24,
   "metadata": {},
   "outputs": [
    {
     "name": "stderr",
     "output_type": "stream",
     "text": [
      "100%|██████████| 1410675/1410675 [07:43<00:00, 3046.15it/s]\n",
      "100%|██████████| 1410675/1410675 [09:23<00:00, 2502.38it/s]\n",
      "100%|██████████| 1410675/1410675 [09:46<00:00, 2405.08it/s]\n"
     ]
    }
   ],
   "source": [
    "collect_all_counts(neighbors_df, co_occurence_dict_list)"
   ]
  },
  {
   "cell_type": "code",
   "execution_count": 26,
   "metadata": {},
   "outputs": [
    {
     "data": {
      "text/html": [
       "<div>\n",
       "<style scoped>\n",
       "    .dataframe tbody tr th:only-of-type {\n",
       "        vertical-align: middle;\n",
       "    }\n",
       "\n",
       "    .dataframe tbody tr th {\n",
       "        vertical-align: top;\n",
       "    }\n",
       "\n",
       "    .dataframe thead th {\n",
       "        text-align: right;\n",
       "    }\n",
       "</style>\n",
       "<table border=\"1\" class=\"dataframe\">\n",
       "  <thead>\n",
       "    <tr style=\"text-align: right;\">\n",
       "      <th></th>\n",
       "      <th>id</th>\n",
       "      <th>pid</th>\n",
       "      <th>candidates_id</th>\n",
       "      <th>counts</th>\n",
       "      <th>normalized_counts</th>\n",
       "      <th>state</th>\n",
       "      <th>counts_0</th>\n",
       "      <th>normalized_counts_0</th>\n",
       "      <th>counts_1</th>\n",
       "      <th>normalized_counts_1</th>\n",
       "      <th>counts_2</th>\n",
       "      <th>normalized_counts_2</th>\n",
       "    </tr>\n",
       "  </thead>\n",
       "  <tbody>\n",
       "    <tr>\n",
       "      <th>0</th>\n",
       "      <td>1</td>\n",
       "      <td>B005ZSSN10</td>\n",
       "      <td>[467115, 304519, 35778, 170156, 356145, 267156...</td>\n",
       "      <td>[4.0, 3.0, 2.5, 1, 0, 0, 0, 0, 0, 0, 0, 0, 0, ...</td>\n",
       "      <td>[0.38095238095238093, 0.2857142857142857, 0.23...</td>\n",
       "      <td>Pad</td>\n",
       "      <td>[1, 1, 1, 0, 0, 0, 0, 0, 0, 0, 0, 0, 0, 0, 0, ...</td>\n",
       "      <td>[0.3333333333333333, 0.3333333333333333, 0.333...</td>\n",
       "      <td>[1.0, 1.0, 0.5, 0, 0, 0, 0, 0, 0, 0, 0, 0, 0, ...</td>\n",
       "      <td>[0.4, 0.4, 0.2, 0.0, 0.0, 0.0, 0.0, 0.0, 0.0, ...</td>\n",
       "      <td>[2, 1, 1, 1, 0, 0, 0, 0, 0, 0, 0, 0, 0, 0, 0, ...</td>\n",
       "      <td>[0.4, 0.2, 0.2, 0.2, 0.0, 0.0, 0.0, 0.0, 0.0, ...</td>\n",
       "    </tr>\n",
       "    <tr>\n",
       "      <th>1</th>\n",
       "      <td>2</td>\n",
       "      <td>B08PRYN6LD</td>\n",
       "      <td>[474553, 134034, 345580, 2, 215789, 49563, 202...</td>\n",
       "      <td>[21.0, 8.833333333333332, 5.5, 3.3333333333333...</td>\n",
       "      <td>[0.3073170731707317, 0.12926829268292683, 0.08...</td>\n",
       "      <td>Pad</td>\n",
       "      <td>[7, 6, 1, 1, 1, 1, 1, 1, 1, 1, 2, 2, 1, 1, 1, ...</td>\n",
       "      <td>[0.23333333333333334, 0.2, 0.03333333333333333...</td>\n",
       "      <td>[6.0, 0.8333333333333333, 0.5, 0.3333333333333...</td>\n",
       "      <td>[0.5806451612903225, 0.08064516129032256, 0.04...</td>\n",
       "      <td>[8, 2, 4, 2, 1, 1, 1, 1, 1, 1, 0, 0, 0, 0, 0, ...</td>\n",
       "      <td>[0.2857142857142857, 0.07142857142857142, 0.14...</td>\n",
       "    </tr>\n",
       "    <tr>\n",
       "      <th>2</th>\n",
       "      <td>3</td>\n",
       "      <td>B09MBZJ48V</td>\n",
       "      <td>[481603, 116190, 119093, 436535, 74637, 85944,...</td>\n",
       "      <td>[91.33333333333333, 13.0, 8.0, 7.3333333333333...</td>\n",
       "      <td>[0.37127371273712734, 0.052845528455284556, 0....</td>\n",
       "      <td>Pad</td>\n",
       "      <td>[28, 6, 3, 2, 2, 3, 2, 1, 1, 1, 1, 1, 0, 0, 0,...</td>\n",
       "      <td>[0.3684210526315789, 0.07894736842105263, 0.03...</td>\n",
       "      <td>[27.333333333333332, 2.0, 1.0, 1.3333333333333...</td>\n",
       "      <td>[0.6212121212121211, 0.04545454545454545, 0.02...</td>\n",
       "      <td>[36, 5, 4, 4, 4, 3, 4, 3, 2, 2, 1, 1, 3, 3, 3,...</td>\n",
       "      <td>[0.2857142857142857, 0.03968253968253968, 0.03...</td>\n",
       "    </tr>\n",
       "    <tr>\n",
       "      <th>3</th>\n",
       "      <td>4</td>\n",
       "      <td>B08ZN6F26S</td>\n",
       "      <td>[1050130, 4, 1118660, 215297, 1036575, 246172,...</td>\n",
       "      <td>[15.0, 14.333333333333332, 5.5, 5.333333333333...</td>\n",
       "      <td>[0.16453382084095067, 0.15722120658135283, 0.0...</td>\n",
       "      <td>Pad</td>\n",
       "      <td>[5, 4, 2, 2, 2, 2, 1, 2, 1, 2, 2, 1, 1, 2, 1, ...</td>\n",
       "      <td>[0.1388888888888889, 0.1111111111111111, 0.055...</td>\n",
       "      <td>[4.0, 2.333333333333333, 1.5, 1.33333333333333...</td>\n",
       "      <td>[0.24742268041237112, 0.14432989690721645, 0.0...</td>\n",
       "      <td>[6, 8, 2, 2, 2, 2, 2, 1, 2, 1, 1, 1, 1, 0, 0, ...</td>\n",
       "      <td>[0.15384615384615385, 0.20512820512820512, 0.0...</td>\n",
       "    </tr>\n",
       "    <tr>\n",
       "      <th>4</th>\n",
       "      <td>5</td>\n",
       "      <td>B094DGRV7D</td>\n",
       "      <td>[977, 426878, 5, 53514, 40200, 398380, 364139,...</td>\n",
       "      <td>[21.5, 13.0, 12.333333333333332, 11.0, 10.6666...</td>\n",
       "      <td>[0.08113207547169811, 0.04905660377358491, 0.0...</td>\n",
       "      <td>Pad</td>\n",
       "      <td>[5, 5, 4, 2, 4, 3, 4, 2, 2, 2, 3, 3, 3, 2, 3, ...</td>\n",
       "      <td>[0.05952380952380952, 0.05952380952380952, 0.0...</td>\n",
       "      <td>[2.5, 3.0, 2.333333333333333, 2.0, 0.666666666...</td>\n",
       "      <td>[0.062499999999999986, 0.07499999999999998, 0....</td>\n",
       "      <td>[14, 5, 6, 7, 6, 6, 4, 4, 4, 4, 3, 3, 2, 2, 2,...</td>\n",
       "      <td>[0.09929078014184398, 0.03546099290780142, 0.0...</td>\n",
       "    </tr>\n",
       "    <tr>\n",
       "      <th>...</th>\n",
       "      <td>...</td>\n",
       "      <td>...</td>\n",
       "      <td>...</td>\n",
       "      <td>...</td>\n",
       "      <td>...</td>\n",
       "      <td>...</td>\n",
       "      <td>...</td>\n",
       "      <td>...</td>\n",
       "      <td>...</td>\n",
       "      <td>...</td>\n",
       "      <td>...</td>\n",
       "      <td>...</td>\n",
       "    </tr>\n",
       "    <tr>\n",
       "      <th>1410670</th>\n",
       "      <td>1410671</td>\n",
       "      <td>B09XN5CXDM</td>\n",
       "      <td>[182517, 1345321, 1343232, 1403874, 142970, 62...</td>\n",
       "      <td>[7.333333333333333, 4.5, 3.0, 2.5, 1, 0, 0, 0,...</td>\n",
       "      <td>[0.4, 0.24545454545454548, 0.16363636363636364...</td>\n",
       "      <td>Pad</td>\n",
       "      <td>[4, 3, 1, 1, 1, 0, 0, 0, 0, 0, 0, 0, 0, 0, 0, ...</td>\n",
       "      <td>[0.4, 0.3, 0.1, 0.1, 0.1, 0.0, 0.0, 0.0, 0.0, ...</td>\n",
       "      <td>[1.3333333333333333, 0.5, 1.0, 0.5, 0, 0, 0, 0...</td>\n",
       "      <td>[0.4, 0.15000000000000002, 0.30000000000000004...</td>\n",
       "      <td>[2, 1, 1, 1, 0, 0, 0, 0, 0, 0, 0, 0, 0, 0, 0, ...</td>\n",
       "      <td>[0.4, 0.2, 0.2, 0.2, 0.0, 0.0, 0.0, 0.0, 0.0, ...</td>\n",
       "    </tr>\n",
       "    <tr>\n",
       "      <th>1410671</th>\n",
       "      <td>1410672</td>\n",
       "      <td>B09S3KGLG6</td>\n",
       "      <td>[163250, 1037502, 1400924, 517279, 97583, 1386...</td>\n",
       "      <td>[5, 4.5, 3.0, 3.0, 3, 2.5, 2, 2, 1, 0, 0, 0, 0...</td>\n",
       "      <td>[0.19230769230769232, 0.17307692307692307, 0.1...</td>\n",
       "      <td>Pad</td>\n",
       "      <td>[0, 1, 1, 1, 0, 1, 0, 0, 0, 0, 0, 0, 0, 0, 0, ...</td>\n",
       "      <td>[0.0, 0.25, 0.25, 0.25, 0.0, 0.25, 0.0, 0.0, 0...</td>\n",
       "      <td>[0, 0.5, 1.0, 1.0, 0, 0.5, 0, 0, 0, 0, 0, 0, 0...</td>\n",
       "      <td>[0.0, 0.16666666666666666, 0.3333333333333333,...</td>\n",
       "      <td>[5, 3, 1, 1, 3, 1, 2, 2, 1, 0, 0, 0, 0, 0, 0, ...</td>\n",
       "      <td>[0.2631578947368421, 0.15789473684210525, 0.05...</td>\n",
       "    </tr>\n",
       "    <tr>\n",
       "      <th>1410672</th>\n",
       "      <td>1410673</td>\n",
       "      <td>B00E4L5YPW</td>\n",
       "      <td>[1393542, 1385589, 1391088, 1393291, 1404397, ...</td>\n",
       "      <td>[16.833333333333332, 16.5, 14.833333333333332,...</td>\n",
       "      <td>[0.1337748344370861, 0.13112582781456955, 0.11...</td>\n",
       "      <td>Pad</td>\n",
       "      <td>[4, 5, 3, 4, 3, 4, 2, 1, 1, 1, 1, 1, 1, 1, 1, ...</td>\n",
       "      <td>[0.0784313725490196, 0.09803921568627451, 0.05...</td>\n",
       "      <td>[1.8333333333333333, 2.5, 1.8333333333333333, ...</td>\n",
       "      <td>[0.09734513274336283, 0.13274336283185842, 0.0...</td>\n",
       "      <td>[11, 9, 10, 4, 4, 1, 1, 1, 1, 1, 1, 1, 1, 1, 1...</td>\n",
       "      <td>[0.19642857142857142, 0.16071428571428573, 0.1...</td>\n",
       "    </tr>\n",
       "    <tr>\n",
       "      <th>1410673</th>\n",
       "      <td>1410674</td>\n",
       "      <td>B08B4DFWCR</td>\n",
       "      <td>[1386437, 1410636, 1402535, 1404727, 1400680, ...</td>\n",
       "      <td>[32.333333333333336, 22.0, 10.333333333333334,...</td>\n",
       "      <td>[0.23658536585365852, 0.16097560975609754, 0.0...</td>\n",
       "      <td>Pad</td>\n",
       "      <td>[3, 2, 4, 1, 2, 1, 0, 1, 1, 1, 3, 1, 1, 1, 0, ...</td>\n",
       "      <td>[0.12, 0.08, 0.16, 0.04, 0.08, 0.04, 0.0, 0.04...</td>\n",
       "      <td>[2.333333333333333, 2.0, 2.3333333333333335, 0...</td>\n",
       "      <td>[0.17073170731707313, 0.14634146341463414, 0.1...</td>\n",
       "      <td>[27, 18, 4, 9, 3, 2, 4, 1, 1, 1, 0, 1, 1, 1, 2...</td>\n",
       "      <td>[0.2755102040816326, 0.1836734693877551, 0.040...</td>\n",
       "    </tr>\n",
       "    <tr>\n",
       "      <th>1410674</th>\n",
       "      <td>1410675</td>\n",
       "      <td>B012D0HJXA</td>\n",
       "      <td>[68057, 64962, 204094, 185281, 38347, 762397, ...</td>\n",
       "      <td>[3.0, 2.5, 0, 0, 0, 0, 0, 0, 0, 0, 0, 0, 0, 0,...</td>\n",
       "      <td>[0.5454545454545454, 0.45454545454545453, 0.0,...</td>\n",
       "      <td>Pad</td>\n",
       "      <td>[1, 1, 0, 0, 0, 0, 0, 0, 0, 0, 0, 0, 0, 0, 0, ...</td>\n",
       "      <td>[0.5, 0.5, 0.0, 0.0, 0.0, 0.0, 0.0, 0.0, 0.0, ...</td>\n",
       "      <td>[1.0, 0.5, 0, 0, 0, 0, 0, 0, 0, 0, 0, 0, 0, 0,...</td>\n",
       "      <td>[0.6666666666666666, 0.3333333333333333, 0.0, ...</td>\n",
       "      <td>[1, 1, 0, 0, 0, 0, 0, 0, 0, 0, 0, 0, 0, 0, 0, ...</td>\n",
       "      <td>[0.5, 0.5, 0.0, 0.0, 0.0, 0.0, 0.0, 0.0, 0.0, ...</td>\n",
       "    </tr>\n",
       "  </tbody>\n",
       "</table>\n",
       "<p>1410675 rows × 12 columns</p>\n",
       "</div>"
      ],
      "text/plain": [
       "              id         pid  \\\n",
       "0              1  B005ZSSN10   \n",
       "1              2  B08PRYN6LD   \n",
       "2              3  B09MBZJ48V   \n",
       "3              4  B08ZN6F26S   \n",
       "4              5  B094DGRV7D   \n",
       "...          ...         ...   \n",
       "1410670  1410671  B09XN5CXDM   \n",
       "1410671  1410672  B09S3KGLG6   \n",
       "1410672  1410673  B00E4L5YPW   \n",
       "1410673  1410674  B08B4DFWCR   \n",
       "1410674  1410675  B012D0HJXA   \n",
       "\n",
       "                                             candidates_id  \\\n",
       "0        [467115, 304519, 35778, 170156, 356145, 267156...   \n",
       "1        [474553, 134034, 345580, 2, 215789, 49563, 202...   \n",
       "2        [481603, 116190, 119093, 436535, 74637, 85944,...   \n",
       "3        [1050130, 4, 1118660, 215297, 1036575, 246172,...   \n",
       "4        [977, 426878, 5, 53514, 40200, 398380, 364139,...   \n",
       "...                                                    ...   \n",
       "1410670  [182517, 1345321, 1343232, 1403874, 142970, 62...   \n",
       "1410671  [163250, 1037502, 1400924, 517279, 97583, 1386...   \n",
       "1410672  [1393542, 1385589, 1391088, 1393291, 1404397, ...   \n",
       "1410673  [1386437, 1410636, 1402535, 1404727, 1400680, ...   \n",
       "1410674  [68057, 64962, 204094, 185281, 38347, 762397, ...   \n",
       "\n",
       "                                                    counts  \\\n",
       "0        [4.0, 3.0, 2.5, 1, 0, 0, 0, 0, 0, 0, 0, 0, 0, ...   \n",
       "1        [21.0, 8.833333333333332, 5.5, 3.3333333333333...   \n",
       "2        [91.33333333333333, 13.0, 8.0, 7.3333333333333...   \n",
       "3        [15.0, 14.333333333333332, 5.5, 5.333333333333...   \n",
       "4        [21.5, 13.0, 12.333333333333332, 11.0, 10.6666...   \n",
       "...                                                    ...   \n",
       "1410670  [7.333333333333333, 4.5, 3.0, 2.5, 1, 0, 0, 0,...   \n",
       "1410671  [5, 4.5, 3.0, 3.0, 3, 2.5, 2, 2, 1, 0, 0, 0, 0...   \n",
       "1410672  [16.833333333333332, 16.5, 14.833333333333332,...   \n",
       "1410673  [32.333333333333336, 22.0, 10.333333333333334,...   \n",
       "1410674  [3.0, 2.5, 0, 0, 0, 0, 0, 0, 0, 0, 0, 0, 0, 0,...   \n",
       "\n",
       "                                         normalized_counts state  \\\n",
       "0        [0.38095238095238093, 0.2857142857142857, 0.23...   Pad   \n",
       "1        [0.3073170731707317, 0.12926829268292683, 0.08...   Pad   \n",
       "2        [0.37127371273712734, 0.052845528455284556, 0....   Pad   \n",
       "3        [0.16453382084095067, 0.15722120658135283, 0.0...   Pad   \n",
       "4        [0.08113207547169811, 0.04905660377358491, 0.0...   Pad   \n",
       "...                                                    ...   ...   \n",
       "1410670  [0.4, 0.24545454545454548, 0.16363636363636364...   Pad   \n",
       "1410671  [0.19230769230769232, 0.17307692307692307, 0.1...   Pad   \n",
       "1410672  [0.1337748344370861, 0.13112582781456955, 0.11...   Pad   \n",
       "1410673  [0.23658536585365852, 0.16097560975609754, 0.0...   Pad   \n",
       "1410674  [0.5454545454545454, 0.45454545454545453, 0.0,...   Pad   \n",
       "\n",
       "                                                  counts_0  \\\n",
       "0        [1, 1, 1, 0, 0, 0, 0, 0, 0, 0, 0, 0, 0, 0, 0, ...   \n",
       "1        [7, 6, 1, 1, 1, 1, 1, 1, 1, 1, 2, 2, 1, 1, 1, ...   \n",
       "2        [28, 6, 3, 2, 2, 3, 2, 1, 1, 1, 1, 1, 0, 0, 0,...   \n",
       "3        [5, 4, 2, 2, 2, 2, 1, 2, 1, 2, 2, 1, 1, 2, 1, ...   \n",
       "4        [5, 5, 4, 2, 4, 3, 4, 2, 2, 2, 3, 3, 3, 2, 3, ...   \n",
       "...                                                    ...   \n",
       "1410670  [4, 3, 1, 1, 1, 0, 0, 0, 0, 0, 0, 0, 0, 0, 0, ...   \n",
       "1410671  [0, 1, 1, 1, 0, 1, 0, 0, 0, 0, 0, 0, 0, 0, 0, ...   \n",
       "1410672  [4, 5, 3, 4, 3, 4, 2, 1, 1, 1, 1, 1, 1, 1, 1, ...   \n",
       "1410673  [3, 2, 4, 1, 2, 1, 0, 1, 1, 1, 3, 1, 1, 1, 0, ...   \n",
       "1410674  [1, 1, 0, 0, 0, 0, 0, 0, 0, 0, 0, 0, 0, 0, 0, ...   \n",
       "\n",
       "                                       normalized_counts_0  \\\n",
       "0        [0.3333333333333333, 0.3333333333333333, 0.333...   \n",
       "1        [0.23333333333333334, 0.2, 0.03333333333333333...   \n",
       "2        [0.3684210526315789, 0.07894736842105263, 0.03...   \n",
       "3        [0.1388888888888889, 0.1111111111111111, 0.055...   \n",
       "4        [0.05952380952380952, 0.05952380952380952, 0.0...   \n",
       "...                                                    ...   \n",
       "1410670  [0.4, 0.3, 0.1, 0.1, 0.1, 0.0, 0.0, 0.0, 0.0, ...   \n",
       "1410671  [0.0, 0.25, 0.25, 0.25, 0.0, 0.25, 0.0, 0.0, 0...   \n",
       "1410672  [0.0784313725490196, 0.09803921568627451, 0.05...   \n",
       "1410673  [0.12, 0.08, 0.16, 0.04, 0.08, 0.04, 0.0, 0.04...   \n",
       "1410674  [0.5, 0.5, 0.0, 0.0, 0.0, 0.0, 0.0, 0.0, 0.0, ...   \n",
       "\n",
       "                                                  counts_1  \\\n",
       "0        [1.0, 1.0, 0.5, 0, 0, 0, 0, 0, 0, 0, 0, 0, 0, ...   \n",
       "1        [6.0, 0.8333333333333333, 0.5, 0.3333333333333...   \n",
       "2        [27.333333333333332, 2.0, 1.0, 1.3333333333333...   \n",
       "3        [4.0, 2.333333333333333, 1.5, 1.33333333333333...   \n",
       "4        [2.5, 3.0, 2.333333333333333, 2.0, 0.666666666...   \n",
       "...                                                    ...   \n",
       "1410670  [1.3333333333333333, 0.5, 1.0, 0.5, 0, 0, 0, 0...   \n",
       "1410671  [0, 0.5, 1.0, 1.0, 0, 0.5, 0, 0, 0, 0, 0, 0, 0...   \n",
       "1410672  [1.8333333333333333, 2.5, 1.8333333333333333, ...   \n",
       "1410673  [2.333333333333333, 2.0, 2.3333333333333335, 0...   \n",
       "1410674  [1.0, 0.5, 0, 0, 0, 0, 0, 0, 0, 0, 0, 0, 0, 0,...   \n",
       "\n",
       "                                       normalized_counts_1  \\\n",
       "0        [0.4, 0.4, 0.2, 0.0, 0.0, 0.0, 0.0, 0.0, 0.0, ...   \n",
       "1        [0.5806451612903225, 0.08064516129032256, 0.04...   \n",
       "2        [0.6212121212121211, 0.04545454545454545, 0.02...   \n",
       "3        [0.24742268041237112, 0.14432989690721645, 0.0...   \n",
       "4        [0.062499999999999986, 0.07499999999999998, 0....   \n",
       "...                                                    ...   \n",
       "1410670  [0.4, 0.15000000000000002, 0.30000000000000004...   \n",
       "1410671  [0.0, 0.16666666666666666, 0.3333333333333333,...   \n",
       "1410672  [0.09734513274336283, 0.13274336283185842, 0.0...   \n",
       "1410673  [0.17073170731707313, 0.14634146341463414, 0.1...   \n",
       "1410674  [0.6666666666666666, 0.3333333333333333, 0.0, ...   \n",
       "\n",
       "                                                  counts_2  \\\n",
       "0        [2, 1, 1, 1, 0, 0, 0, 0, 0, 0, 0, 0, 0, 0, 0, ...   \n",
       "1        [8, 2, 4, 2, 1, 1, 1, 1, 1, 1, 0, 0, 0, 0, 0, ...   \n",
       "2        [36, 5, 4, 4, 4, 3, 4, 3, 2, 2, 1, 1, 3, 3, 3,...   \n",
       "3        [6, 8, 2, 2, 2, 2, 2, 1, 2, 1, 1, 1, 1, 0, 0, ...   \n",
       "4        [14, 5, 6, 7, 6, 6, 4, 4, 4, 4, 3, 3, 2, 2, 2,...   \n",
       "...                                                    ...   \n",
       "1410670  [2, 1, 1, 1, 0, 0, 0, 0, 0, 0, 0, 0, 0, 0, 0, ...   \n",
       "1410671  [5, 3, 1, 1, 3, 1, 2, 2, 1, 0, 0, 0, 0, 0, 0, ...   \n",
       "1410672  [11, 9, 10, 4, 4, 1, 1, 1, 1, 1, 1, 1, 1, 1, 1...   \n",
       "1410673  [27, 18, 4, 9, 3, 2, 4, 1, 1, 1, 0, 1, 1, 1, 2...   \n",
       "1410674  [1, 1, 0, 0, 0, 0, 0, 0, 0, 0, 0, 0, 0, 0, 0, ...   \n",
       "\n",
       "                                       normalized_counts_2  \n",
       "0        [0.4, 0.2, 0.2, 0.2, 0.0, 0.0, 0.0, 0.0, 0.0, ...  \n",
       "1        [0.2857142857142857, 0.07142857142857142, 0.14...  \n",
       "2        [0.2857142857142857, 0.03968253968253968, 0.03...  \n",
       "3        [0.15384615384615385, 0.20512820512820512, 0.0...  \n",
       "4        [0.09929078014184398, 0.03546099290780142, 0.0...  \n",
       "...                                                    ...  \n",
       "1410670  [0.4, 0.2, 0.2, 0.2, 0.0, 0.0, 0.0, 0.0, 0.0, ...  \n",
       "1410671  [0.2631578947368421, 0.15789473684210525, 0.05...  \n",
       "1410672  [0.19642857142857142, 0.16071428571428573, 0.1...  \n",
       "1410673  [0.2755102040816326, 0.1836734693877551, 0.040...  \n",
       "1410674  [0.5, 0.5, 0.0, 0.0, 0.0, 0.0, 0.0, 0.0, 0.0, ...  \n",
       "\n",
       "[1410675 rows x 12 columns]"
      ]
     },
     "execution_count": 26,
     "metadata": {},
     "output_type": "execute_result"
    }
   ],
   "source": [
    "neighbors_df"
   ]
  },
  {
   "cell_type": "code",
   "execution_count": 27,
   "metadata": {},
   "outputs": [
    {
     "name": "stderr",
     "output_type": "stream",
     "text": [
      "/tmp/ipykernel_78133/3206553207.py:5: SettingWithCopyWarning: \n",
      "A value is trying to be set on a copy of a slice from a DataFrame\n",
      "\n",
      "See the caveats in the documentation: https://pandas.pydata.org/pandas-docs/stable/user_guide/indexing.html#returning-a-view-versus-a-copy\n",
      "  neighbors_df.rename(columns={'pid' : 'id'}, inplace=True)\n",
      "/tmp/ipykernel_78133/3837044860.py:11: SettingWithCopyWarning: \n",
      "A value is trying to be set on a copy of a slice from a DataFrame.\n",
      "Try using .loc[row_indexer,col_indexer] = value instead\n",
      "\n",
      "See the caveats in the documentation: https://pandas.pydata.org/pandas-docs/stable/user_guide/indexing.html#returning-a-view-versus-a-copy\n",
      "  df[k] = df[k].apply(lambda x : np.array(x, dtype=np.float32))\n",
      "/tmp/ipykernel_78133/3837044860.py:13: SettingWithCopyWarning: \n",
      "A value is trying to be set on a copy of a slice from a DataFrame.\n",
      "Try using .loc[row_indexer,col_indexer] = value instead\n",
      "\n",
      "See the caveats in the documentation: https://pandas.pydata.org/pandas-docs/stable/user_guide/indexing.html#returning-a-view-versus-a-copy\n",
      "  df[k] = df[k].apply(lambda x : np.array(x, dtype=np.int32))\n"
     ]
    }
   ],
   "source": [
    "id2pid = {v:k for k,v in id_dict.items()}\n",
    "neighbors_df['candidates'] = neighbors_df['candidates_id'].apply(lambda x: [id2pid[_] for _ in x])\n",
    "neighbors_df = neighbors_df[['pid', 'candidates', 'counts', 'normalized_counts', 'state', \\\n",
    "                             'counts_0', 'normalized_counts_0', 'counts_1', 'normalized_counts_1', 'counts_2', 'normalized_counts_2',]]\n",
    "neighbors_df.rename(columns={'pid' : 'id'}, inplace=True)\n",
    "neighbors_df.head(5)\n",
    "cast_dtype(neighbors_df)"
   ]
  },
  {
   "cell_type": "code",
   "execution_count": 31,
   "metadata": {},
   "outputs": [],
   "source": [
    "neighbors_df.to_parquet(f'../candidates/co_graph_item_candidates_300_test_with_normalized_score.parquet', engine='pyarrow')"
   ]
  },
  {
   "cell_type": "code",
   "execution_count": 32,
   "metadata": {},
   "outputs": [
    {
     "name": "stderr",
     "output_type": "stream",
     "text": [
      "/tmp/ipykernel_78133/21767840.py:1: SettingWithCopyWarning: \n",
      "A value is trying to be set on a copy of a slice from a DataFrame.\n",
      "Try using .loc[row_indexer,col_indexer] = value instead\n",
      "\n",
      "See the caveats in the documentation: https://pandas.pydata.org/pandas-docs/stable/user_guide/indexing.html#returning-a-view-versus-a-copy\n",
      "  neighbors_df['candidates'] = neighbors_df['candidates'].apply(lambda x : x[:100])\n",
      "/tmp/ipykernel_78133/21767840.py:2: SettingWithCopyWarning: \n",
      "A value is trying to be set on a copy of a slice from a DataFrame.\n",
      "Try using .loc[row_indexer,col_indexer] = value instead\n",
      "\n",
      "See the caveats in the documentation: https://pandas.pydata.org/pandas-docs/stable/user_guide/indexing.html#returning-a-view-versus-a-copy\n",
      "  neighbors_df['counts'] = neighbors_df['counts'].apply(lambda x : x[:100])\n",
      "/tmp/ipykernel_78133/21767840.py:3: SettingWithCopyWarning: \n",
      "A value is trying to be set on a copy of a slice from a DataFrame.\n",
      "Try using .loc[row_indexer,col_indexer] = value instead\n",
      "\n",
      "See the caveats in the documentation: https://pandas.pydata.org/pandas-docs/stable/user_guide/indexing.html#returning-a-view-versus-a-copy\n",
      "  neighbors_df['normalized_counts'] = neighbors_df['normalized_counts'].apply(lambda x : x[:100])\n",
      "/tmp/ipykernel_78133/21767840.py:4: SettingWithCopyWarning: \n",
      "A value is trying to be set on a copy of a slice from a DataFrame.\n",
      "Try using .loc[row_indexer,col_indexer] = value instead\n",
      "\n",
      "See the caveats in the documentation: https://pandas.pydata.org/pandas-docs/stable/user_guide/indexing.html#returning-a-view-versus-a-copy\n",
      "  neighbors_df['counts_0'] = neighbors_df['counts_0'].apply(lambda x : x[:100])\n",
      "/tmp/ipykernel_78133/21767840.py:5: SettingWithCopyWarning: \n",
      "A value is trying to be set on a copy of a slice from a DataFrame.\n",
      "Try using .loc[row_indexer,col_indexer] = value instead\n",
      "\n",
      "See the caveats in the documentation: https://pandas.pydata.org/pandas-docs/stable/user_guide/indexing.html#returning-a-view-versus-a-copy\n",
      "  neighbors_df['normalized_counts_0'] = neighbors_df['normalized_counts_0'].apply(lambda x : x[:100])\n",
      "/tmp/ipykernel_78133/21767840.py:6: SettingWithCopyWarning: \n",
      "A value is trying to be set on a copy of a slice from a DataFrame.\n",
      "Try using .loc[row_indexer,col_indexer] = value instead\n",
      "\n",
      "See the caveats in the documentation: https://pandas.pydata.org/pandas-docs/stable/user_guide/indexing.html#returning-a-view-versus-a-copy\n",
      "  neighbors_df['counts_1'] = neighbors_df['counts_1'].apply(lambda x : x[:100])\n",
      "/tmp/ipykernel_78133/21767840.py:7: SettingWithCopyWarning: \n",
      "A value is trying to be set on a copy of a slice from a DataFrame.\n",
      "Try using .loc[row_indexer,col_indexer] = value instead\n",
      "\n",
      "See the caveats in the documentation: https://pandas.pydata.org/pandas-docs/stable/user_guide/indexing.html#returning-a-view-versus-a-copy\n",
      "  neighbors_df['normalized_counts_1'] = neighbors_df['normalized_counts_1'].apply(lambda x : x[:100])\n",
      "/tmp/ipykernel_78133/21767840.py:8: SettingWithCopyWarning: \n",
      "A value is trying to be set on a copy of a slice from a DataFrame.\n",
      "Try using .loc[row_indexer,col_indexer] = value instead\n",
      "\n",
      "See the caveats in the documentation: https://pandas.pydata.org/pandas-docs/stable/user_guide/indexing.html#returning-a-view-versus-a-copy\n",
      "  neighbors_df['counts_2'] = neighbors_df['counts_2'].apply(lambda x : x[:100])\n",
      "/tmp/ipykernel_78133/21767840.py:9: SettingWithCopyWarning: \n",
      "A value is trying to be set on a copy of a slice from a DataFrame.\n",
      "Try using .loc[row_indexer,col_indexer] = value instead\n",
      "\n",
      "See the caveats in the documentation: https://pandas.pydata.org/pandas-docs/stable/user_guide/indexing.html#returning-a-view-versus-a-copy\n",
      "  neighbors_df['normalized_counts_2'] = neighbors_df['normalized_counts_2'].apply(lambda x : x[:100])\n"
     ]
    },
    {
     "data": {
      "text/plain": [
       "count    1410675.0\n",
       "mean         100.0\n",
       "std            0.0\n",
       "min          100.0\n",
       "25%          100.0\n",
       "50%          100.0\n",
       "75%          100.0\n",
       "max          100.0\n",
       "Name: counts, dtype: float64"
      ]
     },
     "execution_count": 32,
     "metadata": {},
     "output_type": "execute_result"
    }
   ],
   "source": [
    "neighbors_df['candidates'] = neighbors_df['candidates'].apply(lambda x : x[:100])\n",
    "neighbors_df['counts'] = neighbors_df['counts'].apply(lambda x : x[:100])\n",
    "neighbors_df['normalized_counts'] = neighbors_df['normalized_counts'].apply(lambda x : x[:100])\n",
    "neighbors_df['counts_0'] = neighbors_df['counts_0'].apply(lambda x : x[:100])\n",
    "neighbors_df['normalized_counts_0'] = neighbors_df['normalized_counts_0'].apply(lambda x : x[:100])\n",
    "neighbors_df['counts_1'] = neighbors_df['counts_1'].apply(lambda x : x[:100])\n",
    "neighbors_df['normalized_counts_1'] = neighbors_df['normalized_counts_1'].apply(lambda x : x[:100])\n",
    "neighbors_df['counts_2'] = neighbors_df['counts_2'].apply(lambda x : x[:100])\n",
    "neighbors_df['normalized_counts_2'] = neighbors_df['normalized_counts_2'].apply(lambda x : x[:100])\n",
    "neighbors_df['candidates'].apply(len).describe()\n",
    "neighbors_df['counts'].apply(len).describe()"
   ]
  },
  {
   "cell_type": "code",
   "execution_count": 35,
   "metadata": {},
   "outputs": [],
   "source": [
    "neighbors_df.to_parquet(f'../candidates/co_graph/co_graph_item_candidates_100_test_with_normalized_score.parquet', engine='pyarrow')"
   ]
  },
  {
   "cell_type": "code",
   "execution_count": 36,
   "metadata": {},
   "outputs": [
    {
     "data": {
      "text/html": [
       "<div>\n",
       "<style scoped>\n",
       "    .dataframe tbody tr th:only-of-type {\n",
       "        vertical-align: middle;\n",
       "    }\n",
       "\n",
       "    .dataframe tbody tr th {\n",
       "        vertical-align: top;\n",
       "    }\n",
       "\n",
       "    .dataframe thead th {\n",
       "        text-align: right;\n",
       "    }\n",
       "</style>\n",
       "<table border=\"1\" class=\"dataframe\">\n",
       "  <thead>\n",
       "    <tr style=\"text-align: right;\">\n",
       "      <th></th>\n",
       "      <th>candidates</th>\n",
       "      <th>counts</th>\n",
       "      <th>normalized_counts</th>\n",
       "      <th>state</th>\n",
       "      <th>counts_0</th>\n",
       "      <th>normalized_counts_0</th>\n",
       "      <th>counts_1</th>\n",
       "      <th>normalized_counts_1</th>\n",
       "      <th>counts_2</th>\n",
       "      <th>normalized_counts_2</th>\n",
       "    </tr>\n",
       "    <tr>\n",
       "      <th>id</th>\n",
       "      <th></th>\n",
       "      <th></th>\n",
       "      <th></th>\n",
       "      <th></th>\n",
       "      <th></th>\n",
       "      <th></th>\n",
       "      <th></th>\n",
       "      <th></th>\n",
       "      <th></th>\n",
       "      <th></th>\n",
       "    </tr>\n",
       "  </thead>\n",
       "  <tbody>\n",
       "    <tr>\n",
       "      <th>B005ZSSN10</th>\n",
       "      <td>[B005ZSSMO8, B005ZSSNXS, B00I41DP18, B07B3XSHW...</td>\n",
       "      <td>[4.0, 3.0, 2.5, 1.0, 0.0, 0.0, 0.0, 0.0, 0.0, ...</td>\n",
       "      <td>[0.3809524, 0.2857143, 0.23809524, 0.0952381, ...</td>\n",
       "      <td>Pad</td>\n",
       "      <td>[1, 1, 1, 0, 0, 0, 0, 0, 0, 0, 0, 0, 0, 0, 0, ...</td>\n",
       "      <td>[0.33333334, 0.33333334, 0.33333334, 0.0, 0.0,...</td>\n",
       "      <td>[1.0, 1.0, 0.5, 0.0, 0.0, 0.0, 0.0, 0.0, 0.0, ...</td>\n",
       "      <td>[0.4, 0.4, 0.2, 0.0, 0.0, 0.0, 0.0, 0.0, 0.0, ...</td>\n",
       "      <td>[2, 1, 1, 1, 0, 0, 0, 0, 0, 0, 0, 0, 0, 0, 0, ...</td>\n",
       "      <td>[0.4, 0.2, 0.2, 0.2, 0.0, 0.0, 0.0, 0.0, 0.0, ...</td>\n",
       "    </tr>\n",
       "    <tr>\n",
       "      <th>B08PRYN6LD</th>\n",
       "      <td>[B08PSBK59Y, B005PKZK7S, B075WSVXS3, B08PRYN6L...</td>\n",
       "      <td>[21.0, 8.833333, 5.5, 3.3333333, 2.5, 2.5, 2.5...</td>\n",
       "      <td>[0.30731708, 0.12926829, 0.0804878, 0.04878048...</td>\n",
       "      <td>Pad</td>\n",
       "      <td>[7, 6, 1, 1, 1, 1, 1, 1, 1, 1, 2, 2, 1, 1, 1, ...</td>\n",
       "      <td>[0.23333333, 0.2, 0.033333335, 0.033333335, 0....</td>\n",
       "      <td>[6.0, 0.8333333, 0.5, 0.33333334, 0.5, 0.5, 0....</td>\n",
       "      <td>[0.58064514, 0.08064516, 0.048387095, 0.032258...</td>\n",
       "      <td>[8, 2, 4, 2, 1, 1, 1, 1, 1, 1, 0, 0, 0, 0, 0, ...</td>\n",
       "      <td>[0.2857143, 0.071428575, 0.14285715, 0.0714285...</td>\n",
       "    </tr>\n",
       "    <tr>\n",
       "      <th>B09MBZJ48V</th>\n",
       "      <td>[B07VR16HF9, B089QVZBWM, B005HWEZGG, B07FY5LCH...</td>\n",
       "      <td>[91.333336, 13.0, 8.0, 7.3333335, 7.3333335, 7...</td>\n",
       "      <td>[0.37127373, 0.05284553, 0.032520324, 0.029810...</td>\n",
       "      <td>Pad</td>\n",
       "      <td>[28, 6, 3, 2, 2, 3, 2, 1, 1, 1, 1, 1, 0, 0, 0,...</td>\n",
       "      <td>[0.36842105, 0.078947365, 0.039473683, 0.02631...</td>\n",
       "      <td>[27.333334, 2.0, 1.0, 1.3333334, 1.3333334, 1....</td>\n",
       "      <td>[0.6212121, 0.045454547, 0.022727273, 0.030303...</td>\n",
       "      <td>[36, 5, 4, 4, 4, 3, 4, 3, 2, 2, 1, 1, 3, 3, 3,...</td>\n",
       "      <td>[0.2857143, 0.03968254, 0.031746034, 0.0317460...</td>\n",
       "    </tr>\n",
       "    <tr>\n",
       "      <th>B08ZN6F26S</th>\n",
       "      <td>[B08PVG787Z, B08ZN6F26S, B00VMUSFMW, B07JKP79B...</td>\n",
       "      <td>[15.0, 14.333333, 5.5, 5.3333335, 5.3333335, 4...</td>\n",
       "      <td>[0.16453382, 0.15722121, 0.06032907, 0.0585009...</td>\n",
       "      <td>Pad</td>\n",
       "      <td>[5, 4, 2, 2, 2, 2, 1, 2, 1, 2, 2, 1, 1, 2, 1, ...</td>\n",
       "      <td>[0.1388889, 0.11111111, 0.055555556, 0.0555555...</td>\n",
       "      <td>[4.0, 2.3333333, 1.5, 1.3333334, 1.3333334, 0....</td>\n",
       "      <td>[0.24742268, 0.14432989, 0.0927835, 0.08247422...</td>\n",
       "      <td>[6, 8, 2, 2, 2, 2, 2, 1, 2, 1, 1, 1, 1, 0, 0, ...</td>\n",
       "      <td>[0.15384616, 0.20512821, 0.051282052, 0.051282...</td>\n",
       "    </tr>\n",
       "    <tr>\n",
       "      <th>B094DGRV7D</th>\n",
       "      <td>[B08KTP6517, B06WVS91VM, B094DGRV7D, B09JSLJZK...</td>\n",
       "      <td>[21.5, 13.0, 12.333333, 11.0, 10.666667, 10.33...</td>\n",
       "      <td>[0.08113208, 0.049056605, 0.04654088, 0.041509...</td>\n",
       "      <td>Pad</td>\n",
       "      <td>[5, 5, 4, 2, 4, 3, 4, 2, 2, 2, 3, 3, 3, 2, 3, ...</td>\n",
       "      <td>[0.05952381, 0.05952381, 0.04761905, 0.0238095...</td>\n",
       "      <td>[2.5, 3.0, 2.3333333, 2.0, 0.6666667, 1.333333...</td>\n",
       "      <td>[0.0625, 0.075, 0.058333334, 0.05, 0.016666668...</td>\n",
       "      <td>[14, 5, 6, 7, 6, 6, 4, 4, 4, 4, 3, 3, 2, 2, 2,...</td>\n",
       "      <td>[0.09929078, 0.035460994, 0.04255319, 0.049645...</td>\n",
       "    </tr>\n",
       "  </tbody>\n",
       "</table>\n",
       "</div>"
      ],
      "text/plain": [
       "                                                   candidates  \\\n",
       "id                                                              \n",
       "B005ZSSN10  [B005ZSSMO8, B005ZSSNXS, B00I41DP18, B07B3XSHW...   \n",
       "B08PRYN6LD  [B08PSBK59Y, B005PKZK7S, B075WSVXS3, B08PRYN6L...   \n",
       "B09MBZJ48V  [B07VR16HF9, B089QVZBWM, B005HWEZGG, B07FY5LCH...   \n",
       "B08ZN6F26S  [B08PVG787Z, B08ZN6F26S, B00VMUSFMW, B07JKP79B...   \n",
       "B094DGRV7D  [B08KTP6517, B06WVS91VM, B094DGRV7D, B09JSLJZK...   \n",
       "\n",
       "                                                       counts  \\\n",
       "id                                                              \n",
       "B005ZSSN10  [4.0, 3.0, 2.5, 1.0, 0.0, 0.0, 0.0, 0.0, 0.0, ...   \n",
       "B08PRYN6LD  [21.0, 8.833333, 5.5, 3.3333333, 2.5, 2.5, 2.5...   \n",
       "B09MBZJ48V  [91.333336, 13.0, 8.0, 7.3333335, 7.3333335, 7...   \n",
       "B08ZN6F26S  [15.0, 14.333333, 5.5, 5.3333335, 5.3333335, 4...   \n",
       "B094DGRV7D  [21.5, 13.0, 12.333333, 11.0, 10.666667, 10.33...   \n",
       "\n",
       "                                            normalized_counts state  \\\n",
       "id                                                                    \n",
       "B005ZSSN10  [0.3809524, 0.2857143, 0.23809524, 0.0952381, ...   Pad   \n",
       "B08PRYN6LD  [0.30731708, 0.12926829, 0.0804878, 0.04878048...   Pad   \n",
       "B09MBZJ48V  [0.37127373, 0.05284553, 0.032520324, 0.029810...   Pad   \n",
       "B08ZN6F26S  [0.16453382, 0.15722121, 0.06032907, 0.0585009...   Pad   \n",
       "B094DGRV7D  [0.08113208, 0.049056605, 0.04654088, 0.041509...   Pad   \n",
       "\n",
       "                                                     counts_0  \\\n",
       "id                                                              \n",
       "B005ZSSN10  [1, 1, 1, 0, 0, 0, 0, 0, 0, 0, 0, 0, 0, 0, 0, ...   \n",
       "B08PRYN6LD  [7, 6, 1, 1, 1, 1, 1, 1, 1, 1, 2, 2, 1, 1, 1, ...   \n",
       "B09MBZJ48V  [28, 6, 3, 2, 2, 3, 2, 1, 1, 1, 1, 1, 0, 0, 0,...   \n",
       "B08ZN6F26S  [5, 4, 2, 2, 2, 2, 1, 2, 1, 2, 2, 1, 1, 2, 1, ...   \n",
       "B094DGRV7D  [5, 5, 4, 2, 4, 3, 4, 2, 2, 2, 3, 3, 3, 2, 3, ...   \n",
       "\n",
       "                                          normalized_counts_0  \\\n",
       "id                                                              \n",
       "B005ZSSN10  [0.33333334, 0.33333334, 0.33333334, 0.0, 0.0,...   \n",
       "B08PRYN6LD  [0.23333333, 0.2, 0.033333335, 0.033333335, 0....   \n",
       "B09MBZJ48V  [0.36842105, 0.078947365, 0.039473683, 0.02631...   \n",
       "B08ZN6F26S  [0.1388889, 0.11111111, 0.055555556, 0.0555555...   \n",
       "B094DGRV7D  [0.05952381, 0.05952381, 0.04761905, 0.0238095...   \n",
       "\n",
       "                                                     counts_1  \\\n",
       "id                                                              \n",
       "B005ZSSN10  [1.0, 1.0, 0.5, 0.0, 0.0, 0.0, 0.0, 0.0, 0.0, ...   \n",
       "B08PRYN6LD  [6.0, 0.8333333, 0.5, 0.33333334, 0.5, 0.5, 0....   \n",
       "B09MBZJ48V  [27.333334, 2.0, 1.0, 1.3333334, 1.3333334, 1....   \n",
       "B08ZN6F26S  [4.0, 2.3333333, 1.5, 1.3333334, 1.3333334, 0....   \n",
       "B094DGRV7D  [2.5, 3.0, 2.3333333, 2.0, 0.6666667, 1.333333...   \n",
       "\n",
       "                                          normalized_counts_1  \\\n",
       "id                                                              \n",
       "B005ZSSN10  [0.4, 0.4, 0.2, 0.0, 0.0, 0.0, 0.0, 0.0, 0.0, ...   \n",
       "B08PRYN6LD  [0.58064514, 0.08064516, 0.048387095, 0.032258...   \n",
       "B09MBZJ48V  [0.6212121, 0.045454547, 0.022727273, 0.030303...   \n",
       "B08ZN6F26S  [0.24742268, 0.14432989, 0.0927835, 0.08247422...   \n",
       "B094DGRV7D  [0.0625, 0.075, 0.058333334, 0.05, 0.016666668...   \n",
       "\n",
       "                                                     counts_2  \\\n",
       "id                                                              \n",
       "B005ZSSN10  [2, 1, 1, 1, 0, 0, 0, 0, 0, 0, 0, 0, 0, 0, 0, ...   \n",
       "B08PRYN6LD  [8, 2, 4, 2, 1, 1, 1, 1, 1, 1, 0, 0, 0, 0, 0, ...   \n",
       "B09MBZJ48V  [36, 5, 4, 4, 4, 3, 4, 3, 2, 2, 1, 1, 3, 3, 3,...   \n",
       "B08ZN6F26S  [6, 8, 2, 2, 2, 2, 2, 1, 2, 1, 1, 1, 1, 0, 0, ...   \n",
       "B094DGRV7D  [14, 5, 6, 7, 6, 6, 4, 4, 4, 4, 3, 3, 2, 2, 2,...   \n",
       "\n",
       "                                          normalized_counts_2  \n",
       "id                                                             \n",
       "B005ZSSN10  [0.4, 0.2, 0.2, 0.2, 0.0, 0.0, 0.0, 0.0, 0.0, ...  \n",
       "B08PRYN6LD  [0.2857143, 0.071428575, 0.14285715, 0.0714285...  \n",
       "B09MBZJ48V  [0.2857143, 0.03968254, 0.031746034, 0.0317460...  \n",
       "B08ZN6F26S  [0.15384616, 0.20512821, 0.051282052, 0.051282...  \n",
       "B094DGRV7D  [0.09929078, 0.035460994, 0.04255319, 0.049645...  "
      ]
     },
     "execution_count": 36,
     "metadata": {},
     "output_type": "execute_result"
    }
   ],
   "source": [
    "neighbors_df = neighbors_df.set_index('id', drop=True)\n",
    "neighbors_df.head(5)"
   ]
  },
  {
   "cell_type": "code",
   "execution_count": 39,
   "metadata": {},
   "outputs": [
    {
     "name": "stderr",
     "output_type": "stream",
     "text": [
      "100%|██████████| 316971/316971 [00:08<00:00, 37297.14it/s]\n"
     ]
    }
   ],
   "source": [
    "test_last_items = get_session_last_item(test_sess_data)\n",
    "test_candidates = neighbors_df.loc[test_last_items]"
   ]
  },
  {
   "cell_type": "code",
   "execution_count": 42,
   "metadata": {},
   "outputs": [],
   "source": [
    "test_candidates.reset_index(drop=True, inplace=True)\n",
    "test_candidates['sess_id'] = np.arange(test_candidates.shape[0], dtype=np.int32)"
   ]
  },
  {
   "cell_type": "code",
   "execution_count": 46,
   "metadata": {},
   "outputs": [],
   "source": [
    "test_candidates.to_parquet('../candidates/co_graph/co_graph_test_100_with_normalized_score.parquet', engine='pyarrow')"
   ]
  },
  {
   "cell_type": "code",
   "execution_count": 44,
   "metadata": {},
   "outputs": [
    {
     "data": {
      "text/plain": [
       "count    316971.0\n",
       "mean        100.0\n",
       "std           0.0\n",
       "min         100.0\n",
       "25%         100.0\n",
       "50%         100.0\n",
       "75%         100.0\n",
       "max         100.0\n",
       "Name: candidates, dtype: float64"
      ]
     },
     "execution_count": 44,
     "metadata": {},
     "output_type": "execute_result"
    }
   ],
   "source": [
    "test_candidates['candidates'].apply(len).describe()"
   ]
  }
 ],
 "metadata": {
  "kernelspec": {
   "display_name": "huangxu",
   "language": "python",
   "name": "python3"
  },
  "language_info": {
   "codemirror_mode": {
    "name": "ipython",
    "version": 3
   },
   "file_extension": ".py",
   "mimetype": "text/x-python",
   "name": "python",
   "nbconvert_exporter": "python",
   "pygments_lexer": "ipython3",
   "version": "3.9.16"
  },
  "orig_nbformat": 4
 },
 "nbformat": 4,
 "nbformat_minor": 2
}
