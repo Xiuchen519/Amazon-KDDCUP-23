{
 "cells": [
  {
   "cell_type": "code",
   "execution_count": 1,
   "metadata": {},
   "outputs": [],
   "source": [
    "import pandas as pd \n",
    "import numpy as np\n",
    "from functools import lru_cache\n",
    "import os\n",
    "from tqdm import tqdm"
   ]
  },
  {
   "cell_type": "code",
   "execution_count": 2,
   "metadata": {},
   "outputs": [],
   "source": [
    "sasrec_session_candidates_path = '/root/autodl-tmp/xiaolong/WorkSpace/Amazon-KDDCUP-23/candidates/SASRec_Next/kdd_cup_2023/2023-04-01-14-13-51.parquet'\n",
    "co_graph_item_candidates_path = '/root/autodl-tmp/huangxu/Amazon-KDDCUP-23/co-occurrence_graph/item_candidates.ftr'\n",
    "retromae_session_candidates_path = '/root/autodl-tmp/xiaolong/WorkSpace/Amazon-KDDCUP-23/candidates/retromae_UK_valid_prediction.parquet'\n",
    "valid_inter_feat_path = '../data_for_recstudio/all_task_1_valid_inter_feat.csv'\n",
    "valid_sessions_path = '../data_for_recstudio/all_task_1_valid_sessions.csv'\n",
    "product_data_path = '../raw_data/products_train.csv'"
   ]
  },
  {
   "cell_type": "code",
   "execution_count": 3,
   "metadata": {},
   "outputs": [],
   "source": [
    "@lru_cache(maxsize=1)\n",
    "def read_valid_sessions():\n",
    "    return pd.read_csv(valid_sessions_path)\n",
    "\n",
    "@lru_cache(maxsize=1)\n",
    "def read_sasrec_session_candidates():\n",
    "    return pd.read_parquet(sasrec_session_candidates_path, engine='pyarrow')\n",
    "\n",
    "@lru_cache(maxsize=1)\n",
    "def read_retromae_session_candidates():\n",
    "    return pd.read_parquet(retromae_session_candidates_path, engine='pyarrow')\n",
    "\n",
    "@lru_cache(maxsize=1)\n",
    "def read_co_graph_item_candidates():\n",
    "    return pd.read_feather(co_graph_item_candidates_path)\n",
    "\n",
    "@lru_cache(maxsize=1)\n",
    "def read_product_data():\n",
    "    return pd.read_csv(product_data_path)"
   ]
  },
  {
   "cell_type": "code",
   "execution_count": 4,
   "metadata": {},
   "outputs": [
    {
     "data": {
      "text/plain": [
       "361581"
      ]
     },
     "execution_count": 4,
     "metadata": {},
     "output_type": "execute_result"
    }
   ],
   "source": [
    "valid_sessions = read_valid_sessions()\n",
    "len(valid_sessions)"
   ]
  },
  {
   "cell_type": "code",
   "execution_count": 6,
   "metadata": {},
   "outputs": [
    {
     "data": {
      "text/plain": [
       "361581"
      ]
     },
     "execution_count": 6,
     "metadata": {},
     "output_type": "execute_result"
    }
   ],
   "source": [
    "sasrec_predictions = read_sasrec_session_candidates()\n",
    "len(sasrec_predictions)"
   ]
  },
  {
   "cell_type": "code",
   "execution_count": 14,
   "metadata": {},
   "outputs": [
    {
     "data": {
      "text/plain": [
       "100"
      ]
     },
     "execution_count": 14,
     "metadata": {},
     "output_type": "execute_result"
    }
   ],
   "source": [
    "import copy \n",
    "sasrec_predictions_100 = copy.deepcopy(sasrec_predictions)\n",
    "sasrec_predictions_100['candidates'] = sasrec_predictions.apply(lambda x : x['candidates'][:100], axis=1)\n",
    "len(sasrec_predictions_100.iloc[0]['candidates'])"
   ]
  },
  {
   "cell_type": "code",
   "execution_count": 18,
   "metadata": {},
   "outputs": [],
   "source": [
    "from collections import Counter\n",
    "rank_counter = Counter()"
   ]
  },
  {
   "cell_type": "code",
   "execution_count": 19,
   "metadata": {},
   "outputs": [
    {
     "data": {
      "text/plain": [
       "prev_items    ['B09VSN9GLS' 'B09VSG9DCG' 'B0BJ5L1ZPH' 'B09VS...\n",
       "next_item                                            B06XG1LZ6Z\n",
       "locale                                                       UK\n",
       "Name: 0, dtype: object"
      ]
     },
     "execution_count": 19,
     "metadata": {},
     "output_type": "execute_result"
    }
   ],
   "source": [
    "valid_sessions.iloc[0]"
   ]
  },
  {
   "cell_type": "code",
   "execution_count": 20,
   "metadata": {},
   "outputs": [
    {
     "name": "stderr",
     "output_type": "stream",
     "text": [
      "100%|██████████| 361581/361581 [00:25<00:00, 14055.48it/s]\n"
     ]
    }
   ],
   "source": [
    "for i in tqdm(range(len(valid_sessions))):\n",
    "    ground_truth = valid_sessions.iloc[i]['next_item']\n",
    "    predictions = sasrec_predictions_100.iloc[i]['candidates']\n",
    "    rank = 150\n",
    "    for j, x in enumerate(predictions):\n",
    "        if x == ground_truth:\n",
    "            rank = j + 1\n",
    "            break\n",
    "    rank_counter[rank] += 1"
   ]
  },
  {
   "cell_type": "code",
   "execution_count": 30,
   "metadata": {},
   "outputs": [
    {
     "data": {
      "text/plain": [
       "(array([  1,   2,   3,   4,   5,   6,   7,   8,   9,  10,  11,  12,  13,\n",
       "         14,  15,  16,  17,  18,  19,  20,  21,  22,  23,  24,  25,  26,\n",
       "         27,  28,  29,  30,  31,  32,  33,  34,  35,  36,  37,  38,  39,\n",
       "         40,  41,  42,  43,  44,  45,  46,  47,  48,  49,  50,  51,  52,\n",
       "         53,  54,  55,  56,  57,  58,  59,  60,  61,  62,  63,  64,  65,\n",
       "         66,  67,  68,  69,  70,  71,  72,  73,  74,  75,  76,  77,  78,\n",
       "         79,  80,  81,  82,  83,  84,  85,  86,  87,  88,  89,  90,  91,\n",
       "         92,  93,  94,  95,  96,  97,  98,  99, 100, 150]),\n",
       " array([ 74329,  23095,  13193,   9344,   7211,   5823,   4974,   4165,\n",
       "          3701,   3316,   2894,   2651,   2380,   2197,   2049,   1905,\n",
       "          1795,   1686,   1604,   1494,   1368,   1317,   1282,   1191,\n",
       "          1082,   1086,   1060,    969,    916,    903,    897,    835,\n",
       "           775,    786,    741,    733,    712,    623,    667,    626,\n",
       "           590,    605,    525,    536,    568,    574,    480,    495,\n",
       "           477,    473,    473,    444,    464,    422,    411,    390,\n",
       "           368,    381,    410,    347,    343,    367,    357,    335,\n",
       "           330,    298,    320,    329,    316,    277,    292,    290,\n",
       "           280,    277,    283,    282,    266,    268,    228,    276,\n",
       "           263,    230,    226,    212,    226,    223,    226,    248,\n",
       "           257,    211,    245,    208,    204,    216,    161,    191,\n",
       "           198,    215,    169,    202, 153428]))"
      ]
     },
     "execution_count": 30,
     "metadata": {},
     "output_type": "execute_result"
    }
   ],
   "source": [
    "import matplotlib.pyplot as plt\n",
    "import numpy as np\n",
    "x = list(range(1, 101))\n",
    "y = [rank_counter[i]  for i in x]\n",
    "x.append(150), y.append(rank_counter[150])\n",
    "x = np.array(x)\n",
    "y = np.array(y)\n",
    "x, y"
   ]
  },
  {
   "cell_type": "code",
   "execution_count": 31,
   "metadata": {},
   "outputs": [
    {
     "data": {
      "image/png": "[encoded data removed]",
      "text/plain": [
       "<Figure size 640x480 with 1 Axes>"
      ]
     },
     "metadata": {},
     "output_type": "display_data"
    }
   ],
   "source": [
    "plt.bar(x,y)\n",
    "plt.show()"
   ]
  },
  {
   "cell_type": "code",
   "execution_count": 33,
   "metadata": {},
   "outputs": [],
   "source": [
    "y2 = np.array(y) / len(sasrec_predictions)"
   ]
  },
  {
   "cell_type": "code",
   "execution_count": 34,
   "metadata": {},
   "outputs": [
    {
     "data": {
      "image/png": "[encoded data removed]",
      "text/plain": [
       "<Figure size 640x480 with 1 Axes>"
      ]
     },
     "metadata": {},
     "output_type": "display_data"
    }
   ],
   "source": [
    "plt.bar(x, y2)\n",
    "plt.show()"
   ]
  },
  {
   "cell_type": "code",
   "execution_count": null,
   "metadata": {},
   "outputs": [],
   "source": [
    "for i in range(0, 100):\n",
    "    rank = i \n",
    "    num"
   ]
  }
 ],
 "metadata": {
  "kernelspec": {
   "display_name": "torch12",
   "language": "python",
   "name": "python3"
  },
  "language_info": {
   "codemirror_mode": {
    "name": "ipython",
    "version": 3
   },
   "file_extension": ".py",
   "mimetype": "text/x-python",
   "name": "python",
   "nbconvert_exporter": "python",
   "pygments_lexer": "ipython3",
   "version": "3.9.16"
  },
  "orig_nbformat": 4
 },
 "nbformat": 4,
 "nbformat_minor": 2
}
