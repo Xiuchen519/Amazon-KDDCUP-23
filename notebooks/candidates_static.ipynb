{
 "cells": [
  {
   "cell_type": "code",
   "execution_count": 9,
   "metadata": {},
   "outputs": [],
   "source": [
    "import pandas as pd \n",
    "import numpy as np\n",
    "from functools import lru_cache\n",
    "import os"
   ]
  },
  {
   "cell_type": "code",
   "execution_count": 10,
   "metadata": {},
   "outputs": [],
   "source": [
    "sasrec_session_candidates_path = '/root/autodl-tmp/xiaolong/WorkSpace/Amazon-KDDCUP-23/candidates/SASRec_Next/kdd_cup_2023/2023-04-01-14-13-51.parquet'\n",
    "co_graph_item_candidates_path = '/root/autodl-tmp/huangxu/Amazon-KDDCUP-23/co-orrurrence_graph/item_candidates.ftr'"
   ]
  },
  {
   "cell_type": "code",
   "execution_count": 11,
   "metadata": {},
   "outputs": [],
   "source": [
    "@lru_cache(maxsize=1)\n",
    "def read_sasrec_session_candidates():\n",
    "    return pd.read_parquet(sasrec_session_candidates_path, engine='pyarrow')\n",
    "\n",
    "@lru_cache(maxsize=1)\n",
    "def read_co_graph_item_candidates():\n",
    "    return pd.read_feather(co_graph_item_candidates_path)"
   ]
  },
  {
   "cell_type": "code",
   "execution_count": 12,
   "metadata": {},
   "outputs": [
    {
     "data": {
      "text/plain": [
       "(  locale                                         candidates sess_id\n",
       " 0     UK  [B06XG1LZ6Z, B06XGD9VLV, B076PN1SKG, B01MYUDYP...       0\n",
       " 1     JP  [B09LCPT9DQ, B09MRYK5CV, B0BB5VQ1L8, B084T9C6W...       1\n",
       " 2     UK  [B09XBS6WCX, B01EYGW86Y, B01MDOBUCC, B01C5YK17...       2\n",
       " 3     UK  [0241572614, 1406392979, 024157563X, 024147681...       3\n",
       " 4     JP  [B0B6PF619D, B0B6P77ZRN, B0B6P2PCMP, B0B6NY4PN...       4\n",
       " 5     DE  [B0BD48G63Q, B0BD3DGNT9, B0B685KHK6, B0B54PQKG...       5\n",
       " 6     DE  [B07Q82LRDK, B082XSF8XF, B00H37AVY8, B01EGP3LV...       6\n",
       " 7     UK  [B013SL2712, B07V5LWSN5, B00CL6353A, B07W6JP97...       7\n",
       " 8     JP  [B0BFPGHSYX, B09ZTN81QH, B00B57A5IY, B00LE7TO0...       8\n",
       " 9     DE  [B07MH3K3S8, B07KQHHYQC, B00Z0BTBEA, B07YLZ67Q...       9,\n",
       " 361581)"
      ]
     },
     "execution_count": 12,
     "metadata": {},
     "output_type": "execute_result"
    }
   ],
   "source": [
    "sasrec_session_candidates_df = read_sasrec_session_candidates()\n",
    "sasrec_session_candidates_df.head(10), len(sasrec_session_candidates_df)"
   ]
  },
  {
   "cell_type": "code",
   "execution_count": 13,
   "metadata": {},
   "outputs": [
    {
     "data": {
      "text/plain": [
       "(           id                                         candidates\n",
       " 0  B005ZSSN10  [B07Q1YXVWH, B0B94HRCXK, B09VXRZKWB, B09LCVHCV...\n",
       " 1  B08PRYN6LD  [B08PSBK59Y, B079RJTR2G, B01N7RTYXE, B08HHD25M...\n",
       " 2  B09MBZJ48V  [B07VR16HF9, B07FL7GVZG, B09DPR2LZW, B0B9S2FDD...\n",
       " 3  B08ZN6F26S  [B08PVG787Z, B07PJVGVSM, B08ZN6F26S, 140834646...\n",
       " 4  B094DGRV7D  [B08KTP6517, B094DGRV7D, B092DFVDC4, B09NXJ9KS...\n",
       " 5  B09JNNBDH5  [B08K4214KB, B01MG62Z5M, B0963J155G, B008F8PMU...\n",
       " 6  B08R62WZ1Y  [B09NVJGT2W, B09TB6TK6D, B08NY2NM1M, B08R62WZ1...\n",
       " 7  B09WK4YNX8  [B0B2X1YX72, B094R3R9XH, B0BDML9477, B0BCPD9YY...\n",
       " 8  B07KTKFYYS  [B08V1KXBQD, B0B94HRCXK, B07RHT52HX, B0B7J4WSM...\n",
       " 9  B0B9MPKYJK  [B09HWSDTM3, B09C6H17PK, B08LR3G17D, B09SWTJZH...,\n",
       " 1410675)"
      ]
     },
     "execution_count": 13,
     "metadata": {},
     "output_type": "execute_result"
    }
   ],
   "source": [
    "co_graph_item_candidates_df = read_co_graph_item_candidates()\n",
    "co_graph_item_candidates_df.head(10), len(co_graph_item_candidates_df)"
   ]
  },
  {
   "cell_type": "code",
   "execution_count": 14,
   "metadata": {},
   "outputs": [],
   "source": [
    "valid_inter_feat_path = '../data_for_recstudio/all_task_1_valid_inter_feat.csv'\n",
    "valid_sessions_path = '../data_for_recstudio/all_task_1_valid_sessions.csv'"
   ]
  },
  {
   "cell_type": "code",
   "execution_count": 15,
   "metadata": {},
   "outputs": [
    {
     "data": {
      "text/html": [
       "<div>\n",
       "<style scoped>\n",
       "    .dataframe tbody tr th:only-of-type {\n",
       "        vertical-align: middle;\n",
       "    }\n",
       "\n",
       "    .dataframe tbody tr th {\n",
       "        vertical-align: top;\n",
       "    }\n",
       "\n",
       "    .dataframe thead th {\n",
       "        text-align: right;\n",
       "    }\n",
       "</style>\n",
       "<table border=\"1\" class=\"dataframe\">\n",
       "  <thead>\n",
       "    <tr style=\"text-align: right;\">\n",
       "      <th></th>\n",
       "      <th>sess_id</th>\n",
       "      <th>product_id</th>\n",
       "      <th>timestamp</th>\n",
       "      <th>locale</th>\n",
       "    </tr>\n",
       "  </thead>\n",
       "  <tbody>\n",
       "    <tr>\n",
       "      <th>0</th>\n",
       "      <td>0</td>\n",
       "      <td>B09VSN9GLS</td>\n",
       "      <td>0</td>\n",
       "      <td>UK</td>\n",
       "    </tr>\n",
       "    <tr>\n",
       "      <th>1</th>\n",
       "      <td>0</td>\n",
       "      <td>B09VSG9DCG</td>\n",
       "      <td>1</td>\n",
       "      <td>UK</td>\n",
       "    </tr>\n",
       "    <tr>\n",
       "      <th>2</th>\n",
       "      <td>0</td>\n",
       "      <td>B0BJ5L1ZPH</td>\n",
       "      <td>2</td>\n",
       "      <td>UK</td>\n",
       "    </tr>\n",
       "    <tr>\n",
       "      <th>3</th>\n",
       "      <td>0</td>\n",
       "      <td>B09VSN9GLS</td>\n",
       "      <td>3</td>\n",
       "      <td>UK</td>\n",
       "    </tr>\n",
       "    <tr>\n",
       "      <th>4</th>\n",
       "      <td>0</td>\n",
       "      <td>B0BJ6V797Y</td>\n",
       "      <td>4</td>\n",
       "      <td>UK</td>\n",
       "    </tr>\n",
       "    <tr>\n",
       "      <th>5</th>\n",
       "      <td>0</td>\n",
       "      <td>B09VSG9DCG</td>\n",
       "      <td>5</td>\n",
       "      <td>UK</td>\n",
       "    </tr>\n",
       "    <tr>\n",
       "      <th>6</th>\n",
       "      <td>0</td>\n",
       "      <td>B077XGDMD2</td>\n",
       "      <td>6</td>\n",
       "      <td>UK</td>\n",
       "    </tr>\n",
       "    <tr>\n",
       "      <th>7</th>\n",
       "      <td>0</td>\n",
       "      <td>B06XG1LZ6Z</td>\n",
       "      <td>7</td>\n",
       "      <td>UK</td>\n",
       "    </tr>\n",
       "    <tr>\n",
       "      <th>8</th>\n",
       "      <td>1</td>\n",
       "      <td>B00390YWXE</td>\n",
       "      <td>0</td>\n",
       "      <td>JP</td>\n",
       "    </tr>\n",
       "    <tr>\n",
       "      <th>9</th>\n",
       "      <td>1</td>\n",
       "      <td>B00390YWXE</td>\n",
       "      <td>1</td>\n",
       "      <td>JP</td>\n",
       "    </tr>\n",
       "  </tbody>\n",
       "</table>\n",
       "</div>"
      ],
      "text/plain": [
       "   sess_id  product_id  timestamp locale\n",
       "0        0  B09VSN9GLS          0     UK\n",
       "1        0  B09VSG9DCG          1     UK\n",
       "2        0  B0BJ5L1ZPH          2     UK\n",
       "3        0  B09VSN9GLS          3     UK\n",
       "4        0  B0BJ6V797Y          4     UK\n",
       "5        0  B09VSG9DCG          5     UK\n",
       "6        0  B077XGDMD2          6     UK\n",
       "7        0  B06XG1LZ6Z          7     UK\n",
       "8        1  B00390YWXE          0     JP\n",
       "9        1  B00390YWXE          1     JP"
      ]
     },
     "execution_count": 15,
     "metadata": {},
     "output_type": "execute_result"
    }
   ],
   "source": [
    "valid_inter_feat = pd.read_csv(valid_inter_feat_path)\n",
    "valid_inter_feat.head(10)"
   ]
  },
  {
   "cell_type": "code",
   "execution_count": 16,
   "metadata": {},
   "outputs": [
    {
     "data": {
      "text/html": [
       "<div>\n",
       "<style scoped>\n",
       "    .dataframe tbody tr th:only-of-type {\n",
       "        vertical-align: middle;\n",
       "    }\n",
       "\n",
       "    .dataframe tbody tr th {\n",
       "        vertical-align: top;\n",
       "    }\n",
       "\n",
       "    .dataframe thead th {\n",
       "        text-align: right;\n",
       "    }\n",
       "</style>\n",
       "<table border=\"1\" class=\"dataframe\">\n",
       "  <thead>\n",
       "    <tr style=\"text-align: right;\">\n",
       "      <th></th>\n",
       "      <th>prev_items</th>\n",
       "      <th>next_item</th>\n",
       "      <th>locale</th>\n",
       "    </tr>\n",
       "  </thead>\n",
       "  <tbody>\n",
       "    <tr>\n",
       "      <th>0</th>\n",
       "      <td>['B09VSN9GLS' 'B09VSG9DCG' 'B0BJ5L1ZPH' 'B09VS...</td>\n",
       "      <td>B06XG1LZ6Z</td>\n",
       "      <td>UK</td>\n",
       "    </tr>\n",
       "    <tr>\n",
       "      <th>1</th>\n",
       "      <td>['B00390YWXE' 'B00390YWXE' 'B09WM9W6WQ']</td>\n",
       "      <td>B01MSUI4FE</td>\n",
       "      <td>JP</td>\n",
       "    </tr>\n",
       "    <tr>\n",
       "      <th>2</th>\n",
       "      <td>['B01BM9V6H8' 'B01MG55XDR' 'B07VYSSRL7']</td>\n",
       "      <td>B01M6625ME</td>\n",
       "      <td>UK</td>\n",
       "    </tr>\n",
       "    <tr>\n",
       "      <th>3</th>\n",
       "      <td>['B092ZG24S7' 'B09BNHWWZM' 'B08CB1WG5M' '17880...</td>\n",
       "      <td>0241558573</td>\n",
       "      <td>UK</td>\n",
       "    </tr>\n",
       "    <tr>\n",
       "      <th>4</th>\n",
       "      <td>['B0B6NY5RM8' 'B09BJGBBBR']</td>\n",
       "      <td>B09BJF6N8K</td>\n",
       "      <td>JP</td>\n",
       "    </tr>\n",
       "    <tr>\n",
       "      <th>5</th>\n",
       "      <td>['B0B84YXQLV' 'B09G19MPQH' 'B07GRTY2ZZ' 'B08CB...</td>\n",
       "      <td>B0BD48G63Q</td>\n",
       "      <td>DE</td>\n",
       "    </tr>\n",
       "    <tr>\n",
       "      <th>6</th>\n",
       "      <td>['B001O51JCS' 'B001O51JCS']</td>\n",
       "      <td>B0045DNZ9Q</td>\n",
       "      <td>DE</td>\n",
       "    </tr>\n",
       "    <tr>\n",
       "      <th>7</th>\n",
       "      <td>['B07V5LWSN5' 'B0BF1CGGSJ' 'B07W4DH45P' 'B08P3...</td>\n",
       "      <td>B07W6J5FB2</td>\n",
       "      <td>UK</td>\n",
       "    </tr>\n",
       "    <tr>\n",
       "      <th>8</th>\n",
       "      <td>['B019WI5XXO' 'B08KRZX6DG']</td>\n",
       "      <td>B087BDR5GP</td>\n",
       "      <td>JP</td>\n",
       "    </tr>\n",
       "    <tr>\n",
       "      <th>9</th>\n",
       "      <td>['B0874RWZVB' 'B07MP1ZSLJ']</td>\n",
       "      <td>B07Q65PXXP</td>\n",
       "      <td>DE</td>\n",
       "    </tr>\n",
       "  </tbody>\n",
       "</table>\n",
       "</div>"
      ],
      "text/plain": [
       "                                          prev_items   next_item locale\n",
       "0  ['B09VSN9GLS' 'B09VSG9DCG' 'B0BJ5L1ZPH' 'B09VS...  B06XG1LZ6Z     UK\n",
       "1           ['B00390YWXE' 'B00390YWXE' 'B09WM9W6WQ']  B01MSUI4FE     JP\n",
       "2           ['B01BM9V6H8' 'B01MG55XDR' 'B07VYSSRL7']  B01M6625ME     UK\n",
       "3  ['B092ZG24S7' 'B09BNHWWZM' 'B08CB1WG5M' '17880...  0241558573     UK\n",
       "4                        ['B0B6NY5RM8' 'B09BJGBBBR']  B09BJF6N8K     JP\n",
       "5  ['B0B84YXQLV' 'B09G19MPQH' 'B07GRTY2ZZ' 'B08CB...  B0BD48G63Q     DE\n",
       "6                        ['B001O51JCS' 'B001O51JCS']  B0045DNZ9Q     DE\n",
       "7  ['B07V5LWSN5' 'B0BF1CGGSJ' 'B07W4DH45P' 'B08P3...  B07W6J5FB2     UK\n",
       "8                        ['B019WI5XXO' 'B08KRZX6DG']  B087BDR5GP     JP\n",
       "9                        ['B0874RWZVB' 'B07MP1ZSLJ']  B07Q65PXXP     DE"
      ]
     },
     "execution_count": 16,
     "metadata": {},
     "output_type": "execute_result"
    }
   ],
   "source": [
    "valid_sessions_df = pd.read_csv(valid_sessions_path)\n",
    "valid_sessions_df.head(10)"
   ]
  },
  {
   "cell_type": "code",
   "execution_count": 18,
   "metadata": {},
   "outputs": [
    {
     "data": {
      "text/html": [
       "<div>\n",
       "<style scoped>\n",
       "    .dataframe tbody tr th:only-of-type {\n",
       "        vertical-align: middle;\n",
       "    }\n",
       "\n",
       "    .dataframe tbody tr th {\n",
       "        vertical-align: top;\n",
       "    }\n",
       "\n",
       "    .dataframe thead th {\n",
       "        text-align: right;\n",
       "    }\n",
       "</style>\n",
       "<table border=\"1\" class=\"dataframe\">\n",
       "  <thead>\n",
       "    <tr style=\"text-align: right;\">\n",
       "      <th></th>\n",
       "      <th>id</th>\n",
       "      <th>candidates</th>\n",
       "    </tr>\n",
       "    <tr>\n",
       "      <th>id</th>\n",
       "      <th></th>\n",
       "      <th></th>\n",
       "    </tr>\n",
       "  </thead>\n",
       "  <tbody>\n",
       "    <tr>\n",
       "      <th>B005ZSSN10</th>\n",
       "      <td>B005ZSSN10</td>\n",
       "      <td>[B07Q1YXVWH, B0B94HRCXK, B09VXRZKWB, B09LCVHCV...</td>\n",
       "    </tr>\n",
       "    <tr>\n",
       "      <th>B08PRYN6LD</th>\n",
       "      <td>B08PRYN6LD</td>\n",
       "      <td>[B08PSBK59Y, B079RJTR2G, B01N7RTYXE, B08HHD25M...</td>\n",
       "    </tr>\n",
       "    <tr>\n",
       "      <th>B09MBZJ48V</th>\n",
       "      <td>B09MBZJ48V</td>\n",
       "      <td>[B07VR16HF9, B07FL7GVZG, B09DPR2LZW, B0B9S2FDD...</td>\n",
       "    </tr>\n",
       "    <tr>\n",
       "      <th>B08ZN6F26S</th>\n",
       "      <td>B08ZN6F26S</td>\n",
       "      <td>[B08PVG787Z, B07PJVGVSM, B08ZN6F26S, 140834646...</td>\n",
       "    </tr>\n",
       "    <tr>\n",
       "      <th>B094DGRV7D</th>\n",
       "      <td>B094DGRV7D</td>\n",
       "      <td>[B08KTP6517, B094DGRV7D, B092DFVDC4, B09NXJ9KS...</td>\n",
       "    </tr>\n",
       "  </tbody>\n",
       "</table>\n",
       "</div>"
      ],
      "text/plain": [
       "                    id                                         candidates\n",
       "id                                                                       \n",
       "B005ZSSN10  B005ZSSN10  [B07Q1YXVWH, B0B94HRCXK, B09VXRZKWB, B09LCVHCV...\n",
       "B08PRYN6LD  B08PRYN6LD  [B08PSBK59Y, B079RJTR2G, B01N7RTYXE, B08HHD25M...\n",
       "B09MBZJ48V  B09MBZJ48V  [B07VR16HF9, B07FL7GVZG, B09DPR2LZW, B0B9S2FDD...\n",
       "B08ZN6F26S  B08ZN6F26S  [B08PVG787Z, B07PJVGVSM, B08ZN6F26S, 140834646...\n",
       "B094DGRV7D  B094DGRV7D  [B08KTP6517, B094DGRV7D, B092DFVDC4, B09NXJ9KS..."
      ]
     },
     "execution_count": 18,
     "metadata": {},
     "output_type": "execute_result"
    }
   ],
   "source": [
    "co_graph_item_candidates_df = co_graph_item_candidates_df.set_index('id', drop=False)\n",
    "co_graph_item_candidates_df.head(5)"
   ]
  },
  {
   "attachments": {},
   "cell_type": "markdown",
   "metadata": {},
   "source": [
    "generate session candidates from co-graph item condidates "
   ]
  },
  {
   "cell_type": "code",
   "execution_count": 19,
   "metadata": {},
   "outputs": [
    {
     "data": {
      "text/plain": [
       "\"['B09VSN9GLS' 'B09VSG9DCG' 'B0BJ5L1ZPH' 'B09VSN9GLS' 'B0BJ6V797Y'\\n 'B09VSG9DCG' 'B077XGDMD2']\""
      ]
     },
     "execution_count": 19,
     "metadata": {},
     "output_type": "execute_result"
    }
   ],
   "source": [
    "valid_sessions_df['prev_items'][0]"
   ]
  },
  {
   "cell_type": "code",
   "execution_count": 21,
   "metadata": {},
   "outputs": [
    {
     "name": "stderr",
     "output_type": "stream",
     "text": [
      "100%|██████████| 361581/361581 [00:09<00:00, 36750.18it/s]\n"
     ]
    },
    {
     "data": {
      "text/plain": [
       "['B077XGDMD2',\n",
       " 'B09WM9W6WQ',\n",
       " 'B07VYSSRL7',\n",
       " '1788009975',\n",
       " 'B09BJGBBBR',\n",
       " 'B0BD489B72',\n",
       " 'B001O51JCS',\n",
       " 'B013SL1YXO',\n",
       " 'B08KRZX6DG',\n",
       " 'B07MP1ZSLJ']"
      ]
     },
     "execution_count": 21,
     "metadata": {},
     "output_type": "execute_result"
    }
   ],
   "source": [
    "from tqdm import tqdm \n",
    "\n",
    "def get_session_last_item(session_df):\n",
    "    last_items = []\n",
    "    num_sessions = len(session_df)\n",
    "    for i in tqdm(range(num_sessions)):\n",
    "        sess = session_df.iloc[i]\n",
    "        sess_prev_items = sess['prev_items']\n",
    "        \n",
    "        product_list = sess_prev_items.strip('[]').split(' ')\n",
    "        last_item = product_list[-1].strip(\"'\\n\")\n",
    "\n",
    "        last_items.append(last_item)\n",
    "    return last_items \n",
    "\n",
    "last_items = get_session_last_item(valid_sessions_df)\n",
    "last_items[:10]"
   ]
  },
  {
   "cell_type": "code",
   "execution_count": 31,
   "metadata": {},
   "outputs": [
    {
     "data": {
      "text/html": [
       "<div>\n",
       "<style scoped>\n",
       "    .dataframe tbody tr th:only-of-type {\n",
       "        vertical-align: middle;\n",
       "    }\n",
       "\n",
       "    .dataframe tbody tr th {\n",
       "        vertical-align: top;\n",
       "    }\n",
       "\n",
       "    .dataframe thead th {\n",
       "        text-align: right;\n",
       "    }\n",
       "</style>\n",
       "<table border=\"1\" class=\"dataframe\">\n",
       "  <thead>\n",
       "    <tr style=\"text-align: right;\">\n",
       "      <th></th>\n",
       "      <th>id</th>\n",
       "      <th>candidates</th>\n",
       "    </tr>\n",
       "    <tr>\n",
       "      <th>id</th>\n",
       "      <th></th>\n",
       "      <th></th>\n",
       "    </tr>\n",
       "  </thead>\n",
       "  <tbody>\n",
       "    <tr>\n",
       "      <th>B077XGDMD2</th>\n",
       "      <td>B077XGDMD2</td>\n",
       "      <td>[B077XGDMD2, B06XGDZVZR, B06XG1LZ6Z, B076PN1SK...</td>\n",
       "    </tr>\n",
       "    <tr>\n",
       "      <th>B09WM9W6WQ</th>\n",
       "      <td>B09WM9W6WQ</td>\n",
       "      <td>[B09LCPT9DQ, B09WM9W6WQ, B092D5HM5S, B09MRYK5C...</td>\n",
       "    </tr>\n",
       "    <tr>\n",
       "      <th>B07VYSSRL7</th>\n",
       "      <td>B07VYSSRL7</td>\n",
       "      <td>[B09XBS6WCX, B01M6625ME, B094W9KT4Y, B09SHSZ2C...</td>\n",
       "    </tr>\n",
       "    <tr>\n",
       "      <th>1788009975</th>\n",
       "      <td>1788009975</td>\n",
       "      <td>[1839941960, 1788009975, 0241563437, 000853222...</td>\n",
       "    </tr>\n",
       "    <tr>\n",
       "      <th>B09BJGBBBR</th>\n",
       "      <td>B09BJGBBBR</td>\n",
       "      <td>[B0B6PF619D, B0B6NRKVZF, B0B6NY4PNC, B0B6P77ZR...</td>\n",
       "    </tr>\n",
       "    <tr>\n",
       "      <th>B0BD489B72</th>\n",
       "      <td>B0BD489B72</td>\n",
       "      <td>[B0BD48G63Q, B0B6ZNHCVV, B0B685KHK6, B0B7RNG4X...</td>\n",
       "    </tr>\n",
       "    <tr>\n",
       "      <th>B001O51JCS</th>\n",
       "      <td>B001O51JCS</td>\n",
       "      <td>[B07Q82LRDK, B08BR288Z7, B09MP8BCYP, B01NCX3W3...</td>\n",
       "    </tr>\n",
       "    <tr>\n",
       "      <th>B013SL1YXO</th>\n",
       "      <td>B013SL1YXO</td>\n",
       "      <td>[B013SL1YXO, B08FBZ8QSL, B085WYXXLF, B087MV18C...</td>\n",
       "    </tr>\n",
       "    <tr>\n",
       "      <th>B08KRZX6DG</th>\n",
       "      <td>B08KRZX6DG</td>\n",
       "      <td>[B00LE7TO0K, B00B57A5IY, B08KRZX6DG, B086LGXKY...</td>\n",
       "    </tr>\n",
       "    <tr>\n",
       "      <th>B07MP1ZSLJ</th>\n",
       "      <td>B07MP1ZSLJ</td>\n",
       "      <td>[B07MH3K3S8, B081GT5MW8, B07Q65PXXP, B0041GWW2...</td>\n",
       "    </tr>\n",
       "  </tbody>\n",
       "</table>\n",
       "</div>"
      ],
      "text/plain": [
       "                    id                                         candidates\n",
       "id                                                                       \n",
       "B077XGDMD2  B077XGDMD2  [B077XGDMD2, B06XGDZVZR, B06XG1LZ6Z, B076PN1SK...\n",
       "B09WM9W6WQ  B09WM9W6WQ  [B09LCPT9DQ, B09WM9W6WQ, B092D5HM5S, B09MRYK5C...\n",
       "B07VYSSRL7  B07VYSSRL7  [B09XBS6WCX, B01M6625ME, B094W9KT4Y, B09SHSZ2C...\n",
       "1788009975  1788009975  [1839941960, 1788009975, 0241563437, 000853222...\n",
       "B09BJGBBBR  B09BJGBBBR  [B0B6PF619D, B0B6NRKVZF, B0B6NY4PNC, B0B6P77ZR...\n",
       "B0BD489B72  B0BD489B72  [B0BD48G63Q, B0B6ZNHCVV, B0B685KHK6, B0B7RNG4X...\n",
       "B001O51JCS  B001O51JCS  [B07Q82LRDK, B08BR288Z7, B09MP8BCYP, B01NCX3W3...\n",
       "B013SL1YXO  B013SL1YXO  [B013SL1YXO, B08FBZ8QSL, B085WYXXLF, B087MV18C...\n",
       "B08KRZX6DG  B08KRZX6DG  [B00LE7TO0K, B00B57A5IY, B08KRZX6DG, B086LGXKY...\n",
       "B07MP1ZSLJ  B07MP1ZSLJ  [B07MH3K3S8, B081GT5MW8, B07Q65PXXP, B0041GWW2..."
      ]
     },
     "execution_count": 31,
     "metadata": {},
     "output_type": "execute_result"
    }
   ],
   "source": [
    "co_graph_session_candidates_df = co_graph_item_candidates_df.loc[last_items]\n",
    "co_graph_session_candidates_df[:10]"
   ]
  },
  {
   "cell_type": "code",
   "execution_count": 40,
   "metadata": {},
   "outputs": [
    {
     "name": "stderr",
     "output_type": "stream",
     "text": [
      "100%|██████████| 361581/361581 [02:33<00:00, 2348.93it/s]\n"
     ]
    }
   ],
   "source": [
    "num_sessions = len(valid_sessions_df)\n",
    "co_currence_rates = []\n",
    "for i in tqdm(range(num_sessions)):\n",
    "    co_graph_set = set(co_graph_session_candidates_df.iloc[i]['candidates'])\n",
    "    sasrec_set = set(sasrec_session_candidates_df.iloc[i]['candidates'])\n",
    "    co_currence_set = co_graph_set.intersection(sasrec_set)\n",
    "    co_currence_rates.append(len(co_currence_set) * 1.0 / 300.0)\n",
    "co_currence_rate = np.array(co_currence_rates).mean()"
   ]
  },
  {
   "cell_type": "code",
   "execution_count": 49,
   "metadata": {},
   "outputs": [],
   "source": [
    "def co_currence(length):\n",
    "    num_sessions = len(valid_sessions_df)\n",
    "    co_currence_rates = []\n",
    "    for i in tqdm(range(num_sessions)):\n",
    "        co_graph_set = set(co_graph_session_candidates_df.iloc[i]['candidates'][:length])\n",
    "        sasrec_set = set(sasrec_session_candidates_df.iloc[i]['candidates'][:length])\n",
    "        co_currence_set = co_graph_set.intersection(sasrec_set)\n",
    "        co_currence_rates.append(len(co_currence_set) * 1.0 / length * 1.0)\n",
    "    return np.array(co_currence_rates).mean()"
   ]
  },
  {
   "cell_type": "code",
   "execution_count": 50,
   "metadata": {},
   "outputs": [
    {
     "name": "stderr",
     "output_type": "stream",
     "text": [
      "100%|██████████| 361581/361581 [01:32<00:00, 3924.96it/s]\n",
      "100%|██████████| 361581/361581 [01:15<00:00, 4757.68it/s]\n",
      "100%|██████████| 361581/361581 [01:04<00:00, 5609.18it/s]\n"
     ]
    },
    {
     "data": {
      "text/plain": [
       "(0.06729248310429292, 0.1313047975419062, 0.2583213719747442)"
      ]
     },
     "execution_count": 50,
     "metadata": {},
     "output_type": "execute_result"
    }
   ],
   "source": [
    "co_currence_rate_300 = co_currence(300)\n",
    "co_currence_rate_100 = co_currence(100)\n",
    "co_currence_rate_10 = co_currence(10)\n",
    "co_currence_rate_300, co_currence_rate_100, co_currence_rate_10"
   ]
  },
  {
   "cell_type": "code",
   "execution_count": 56,
   "metadata": {},
   "outputs": [],
   "source": [
    "def co_currence_2(length):\n",
    "    num_sessions = len(valid_sessions_df)\n",
    "    co_currence_rates = []\n",
    "    for i in tqdm(range(num_sessions)):\n",
    "        co_graph_set = set(co_graph_session_candidates_df.iloc[i]['candidates'][:length])\n",
    "        sasrec_set = set(sasrec_session_candidates_df.iloc[i]['candidates'][:length])\n",
    "        co_currence_set = co_graph_set.intersection(sasrec_set)\n",
    "        co_currence_rates.append(len(co_currence_set) * 1.0 / 300)\n",
    "    return np.array(co_currence_rates).mean()"
   ]
  },
  {
   "cell_type": "code",
   "execution_count": 57,
   "metadata": {},
   "outputs": [
    {
     "name": "stderr",
     "output_type": "stream",
     "text": [
      "100%|██████████| 361581/361581 [01:31<00:00, 3963.91it/s]\n",
      "100%|██████████| 361581/361581 [01:15<00:00, 4767.32it/s]\n",
      "100%|██████████| 361581/361581 [01:03<00:00, 5662.77it/s]\n"
     ]
    },
    {
     "data": {
      "text/plain": [
       "(0.06729248310429292, 0.043768265847302076, 0.00861071239915814)"
      ]
     },
     "execution_count": 57,
     "metadata": {},
     "output_type": "execute_result"
    }
   ],
   "source": [
    "co_currence_rate_300_2 = co_currence_2(300)\n",
    "co_currence_rate_100_2 = co_currence_2(100)\n",
    "co_currence_rate_10_2 = co_currence_2(10)\n",
    "co_currence_rate_300_2, co_currence_rate_100_2, co_currence_rate_10_2"
   ]
  },
  {
   "cell_type": "code",
   "execution_count": 34,
   "metadata": {},
   "outputs": [],
   "source": [
    "def cal_hit_and_mrr(ground_truth_list, candidates_list):\n",
    "    hits, mrrs = [], []\n",
    "    for i in tqdm(range(len(ground_truth_list))):\n",
    "        ground_truth = ground_truth_list.iloc[i]\n",
    "        candidates = candidates_list.iloc[i]\n",
    "        hit, mrr = 0.0, 0.0\n",
    "        for j in range(len(candidates)):\n",
    "            if ground_truth == candidates[j]:\n",
    "                hit = 1.0\n",
    "                mrr = 1.0 / (j + 1)\n",
    "                break\n",
    "        hits.append(hit)\n",
    "        mrrs.append(mrr)\n",
    "    return np.array(hits).mean(), np.array(mrrs).mean()"
   ]
  },
  {
   "cell_type": "code",
   "execution_count": 36,
   "metadata": {},
   "outputs": [
    {
     "name": "stderr",
     "output_type": "stream",
     "text": [
      "100%|██████████| 361581/361581 [00:08<00:00, 41247.47it/s]\n"
     ]
    },
    {
     "data": {
      "text/plain": [
       "(0.5527115639372644, 0.27416820624916205)"
      ]
     },
     "execution_count": 36,
     "metadata": {},
     "output_type": "execute_result"
    }
   ],
   "source": [
    "# co-graph hit ratio and mrr\n",
    "co_graph_hit_ratio, co_graph_mrr = cal_hit_and_mrr(valid_sessions_df['next_item'], co_graph_session_candidates_df['candidates'])\n",
    "co_graph_hit_ratio, co_graph_mrr"
   ]
  },
  {
   "cell_type": "code",
   "execution_count": 37,
   "metadata": {},
   "outputs": [
    {
     "name": "stderr",
     "output_type": "stream",
     "text": [
      "100%|██████████| 361581/361581 [00:11<00:00, 31175.87it/s]\n"
     ]
    },
    {
     "data": {
      "text/plain": [
       "(0.6216615364192256, 0.27526101444400336)"
      ]
     },
     "execution_count": 37,
     "metadata": {},
     "output_type": "execute_result"
    }
   ],
   "source": [
    "# sasrec hit ratio and mrr\n",
    "sasrec_hit_ratio, sasrec_mrr = cal_hit_and_mrr(valid_sessions_df['next_item'], sasrec_session_candidates_df['candidates'])\n",
    "sasrec_hit_ratio, sasrec_mrr"
   ]
  },
  {
   "cell_type": "code",
   "execution_count": 44,
   "metadata": {},
   "outputs": [],
   "source": [
    "# hit concurrently\n",
    "def cal_co_hit(ground_truth_list, candidates_list_1, candidates_list_2):\n",
    "    hits = []\n",
    "    for i in tqdm(range(len(ground_truth_list))):\n",
    "        ground_truth = ground_truth_list.iloc[i]\n",
    "        candidates_1 = candidates_list_1.iloc[i]\n",
    "        candidates_2 = candidates_list_2.iloc[i]\n",
    "        hit = 0.0\n",
    "        if (ground_truth in candidates_1) and (ground_truth in candidates_2):\n",
    "            hit = 1.0\n",
    "        hits.append(hit)\n",
    "    return np.array(hits).mean()"
   ]
  },
  {
   "cell_type": "code",
   "execution_count": 45,
   "metadata": {},
   "outputs": [
    {
     "name": "stderr",
     "output_type": "stream",
     "text": [
      "100%|██████████| 361581/361581 [00:35<00:00, 10115.28it/s]\n"
     ]
    },
    {
     "data": {
      "text/plain": [
       "0.43221297579242274"
      ]
     },
     "execution_count": 45,
     "metadata": {},
     "output_type": "execute_result"
    }
   ],
   "source": [
    "co_hit = cal_co_hit(valid_sessions_df['next_item'], co_graph_session_candidates_df['candidates'], sasrec_session_candidates_df['candidates'])\n",
    "co_hit"
   ]
  },
  {
   "cell_type": "code",
   "execution_count": 51,
   "metadata": {},
   "outputs": [],
   "source": [
    "# hit or\n",
    "def cal_or_hit(ground_truth_list, candidates_list_1, candidates_list_2):\n",
    "    hits = []\n",
    "    for i in tqdm(range(len(ground_truth_list))):\n",
    "        ground_truth = ground_truth_list.iloc[i]\n",
    "        candidates_1 = candidates_list_1.iloc[i]\n",
    "        candidates_2 = candidates_list_2.iloc[i]\n",
    "        hit = 0.0\n",
    "        if (ground_truth in candidates_1) or (ground_truth in candidates_2):\n",
    "            hit = 1.0\n",
    "        hits.append(hit)\n",
    "    return np.array(hits).mean()"
   ]
  },
  {
   "cell_type": "code",
   "execution_count": 53,
   "metadata": {},
   "outputs": [
    {
     "name": "stderr",
     "output_type": "stream",
     "text": [
      "100%|██████████| 361581/361581 [00:34<00:00, 10373.10it/s]\n"
     ]
    },
    {
     "data": {
      "text/plain": [
       "0.7421601245640672"
      ]
     },
     "execution_count": 53,
     "metadata": {},
     "output_type": "execute_result"
    }
   ],
   "source": [
    "or_hit = cal_or_hit(valid_sessions_df['next_item'], co_graph_session_candidates_df['candidates'], sasrec_session_candidates_df['candidates'])\n",
    "or_hit"
   ]
  },
  {
   "cell_type": "code",
   "execution_count": 74,
   "metadata": {},
   "outputs": [
    {
     "data": {
      "text/plain": [
       "id\n",
       "B077XGDMD2    [B077XGDMD2, B06XGDZVZR]\n",
       "B09WM9W6WQ    [B09LCPT9DQ, B09WM9W6WQ]\n",
       "B07VYSSRL7    [B09XBS6WCX, B01M6625ME]\n",
       "1788009975    [1839941960, 1788009975]\n",
       "B09BJGBBBR    [B0B6PF619D, B0B6NRKVZF]\n",
       "                        ...           \n",
       "B08L8N8HDR    [B01A955L8G, B08NYPTF96]\n",
       "B09D76FT9D    [B09BBX1T4S, B09D76FT9D]\n",
       "B0BC2K5CY1    [B07KLCY8NF, B0BC38GHB4]\n",
       "B07Q2CNLY3    [B08RQDVX71, B08RQR2NPB]\n",
       "B08427PFR5    [B00P0VKZ7W, B016UZOCX4]\n",
       "Name: candidates, Length: 361581, dtype: object"
      ]
     },
     "execution_count": 74,
     "metadata": {},
     "output_type": "execute_result"
    }
   ],
   "source": [
    "co_graph_session_first = co_graph_session_candidates_df['candidates'].apply(lambda x : x[:2])\n",
    "co_graph_session_first"
   ]
  },
  {
   "cell_type": "code",
   "execution_count": 75,
   "metadata": {},
   "outputs": [
    {
     "name": "stderr",
     "output_type": "stream",
     "text": [
      "100%|██████████| 361581/361581 [00:18<00:00, 19742.36it/s]\n"
     ]
    },
    {
     "data": {
      "text/plain": [
       "(0.2640321255818198, 0.23255508447623077)"
      ]
     },
     "execution_count": 75,
     "metadata": {},
     "output_type": "execute_result"
    }
   ],
   "source": [
    "co_graph_first_hit, co_graph_first_mrr = cal_hit_and_mrr(valid_sessions_df['next_item'], co_graph_session_first)\n",
    "co_graph_first_hit, co_graph_first_mrr"
   ]
  },
  {
   "cell_type": "code",
   "execution_count": 76,
   "metadata": {},
   "outputs": [
    {
     "data": {
      "text/plain": [
       "0         [B06XG1LZ6Z, B06XGD9VLV]\n",
       "1         [B09LCPT9DQ, B09MRYK5CV]\n",
       "2         [B09XBS6WCX, B01EYGW86Y]\n",
       "3         [0241572614, 1406392979]\n",
       "4         [B0B6PF619D, B0B6P77ZRN]\n",
       "                    ...           \n",
       "361576    [B0050IG9DE, B0B7LVKNK8]\n",
       "361577    [B09B9V4PXC, B09BCM5NL1]\n",
       "361578    [B0BC38GHB4, B07KLCY8NF]\n",
       "361579    [B08RQR2NPB, B08RQDVX71]\n",
       "361580    [B0095FMJE6, B016UZOCX4]\n",
       "Name: candidates, Length: 361581, dtype: object"
      ]
     },
     "execution_count": 76,
     "metadata": {},
     "output_type": "execute_result"
    }
   ],
   "source": [
    "sasrec_session_first = sasrec_session_candidates_df['candidates'].apply(lambda x : x[:2])\n",
    "sasrec_session_first"
   ]
  },
  {
   "cell_type": "code",
   "execution_count": 77,
   "metadata": {},
   "outputs": [
    {
     "name": "stderr",
     "output_type": "stream",
     "text": [
      "100%|██████████| 361581/361581 [00:15<00:00, 23871.29it/s]\n"
     ]
    },
    {
     "data": {
      "text/plain": [
       "(0.2694389362272907, 0.23750280020244427)"
      ]
     },
     "execution_count": 77,
     "metadata": {},
     "output_type": "execute_result"
    }
   ],
   "source": [
    "sasrec_first_hit, sasrec_first_mrr = cal_hit_and_mrr(valid_sessions_df['next_item'], sasrec_session_first)\n",
    "sasrec_first_hit, sasrec_first_mrr"
   ]
  },
  {
   "cell_type": "code",
   "execution_count": 78,
   "metadata": {},
   "outputs": [
    {
     "name": "stderr",
     "output_type": "stream",
     "text": [
      "100%|██████████| 361581/361581 [00:25<00:00, 14462.34it/s]\n"
     ]
    },
    {
     "data": {
      "text/plain": [
       "0.36078776263133294"
      ]
     },
     "execution_count": 78,
     "metadata": {},
     "output_type": "execute_result"
    }
   ],
   "source": [
    "cal_or_hit(valid_sessions_df['next_item'], sasrec_session_first, co_graph_session_first)"
   ]
  },
  {
   "cell_type": "code",
   "execution_count": 87,
   "metadata": {},
   "outputs": [
    {
     "name": "stderr",
     "output_type": "stream",
     "text": [
      "100%|██████████| 361581/361581 [01:48<00:00, 3337.89it/s]\n"
     ]
    }
   ],
   "source": [
    "import copy \n",
    "merge_session_candidates_df = copy.deepcopy(sasrec_session_candidates_df)\n",
    "for i in tqdm(range(len(merge_session_candidates_df))):\n",
    "    sasrec_candidates = merge_session_candidates_df.iloc[i]['candidates']\n",
    "    co_graph_first = co_graph_session_candidates_df.iloc[i]['candidates'][0:1]\n",
    "    merge_candidates = np.concatenate([sasrec_candidates[:1], co_graph_first, sasrec_candidates[1:-1]])\n",
    "    merge_session_candidates_df.iloc[i]['candidates'] = merge_candidates"
   ]
  },
  {
   "cell_type": "code",
   "execution_count": 88,
   "metadata": {},
   "outputs": [
    {
     "data": {
      "text/html": [
       "<div>\n",
       "<style scoped>\n",
       "    .dataframe tbody tr th:only-of-type {\n",
       "        vertical-align: middle;\n",
       "    }\n",
       "\n",
       "    .dataframe tbody tr th {\n",
       "        vertical-align: top;\n",
       "    }\n",
       "\n",
       "    .dataframe thead th {\n",
       "        text-align: right;\n",
       "    }\n",
       "</style>\n",
       "<table border=\"1\" class=\"dataframe\">\n",
       "  <thead>\n",
       "    <tr style=\"text-align: right;\">\n",
       "      <th></th>\n",
       "      <th>locale</th>\n",
       "      <th>candidates</th>\n",
       "      <th>sess_id</th>\n",
       "    </tr>\n",
       "  </thead>\n",
       "  <tbody>\n",
       "    <tr>\n",
       "      <th>0</th>\n",
       "      <td>UK</td>\n",
       "      <td>[B06XG1LZ6Z, B06XGD9VLV, B076PN1SKG, B01MYUDYP...</td>\n",
       "      <td>0</td>\n",
       "    </tr>\n",
       "    <tr>\n",
       "      <th>1</th>\n",
       "      <td>JP</td>\n",
       "      <td>[B09LCPT9DQ, B09MRYK5CV, B0BB5VQ1L8, B084T9C6W...</td>\n",
       "      <td>1</td>\n",
       "    </tr>\n",
       "    <tr>\n",
       "      <th>2</th>\n",
       "      <td>UK</td>\n",
       "      <td>[B09XBS6WCX, B01EYGW86Y, B01MDOBUCC, B01C5YK17...</td>\n",
       "      <td>2</td>\n",
       "    </tr>\n",
       "    <tr>\n",
       "      <th>3</th>\n",
       "      <td>UK</td>\n",
       "      <td>[0241572614, 1406392979, 024157563X, 024147681...</td>\n",
       "      <td>3</td>\n",
       "    </tr>\n",
       "    <tr>\n",
       "      <th>4</th>\n",
       "      <td>JP</td>\n",
       "      <td>[B0B6PF619D, B0B6P77ZRN, B0B6P2PCMP, B0B6NY4PN...</td>\n",
       "      <td>4</td>\n",
       "    </tr>\n",
       "  </tbody>\n",
       "</table>\n",
       "</div>"
      ],
      "text/plain": [
       "  locale                                         candidates sess_id\n",
       "0     UK  [B06XG1LZ6Z, B06XGD9VLV, B076PN1SKG, B01MYUDYP...       0\n",
       "1     JP  [B09LCPT9DQ, B09MRYK5CV, B0BB5VQ1L8, B084T9C6W...       1\n",
       "2     UK  [B09XBS6WCX, B01EYGW86Y, B01MDOBUCC, B01C5YK17...       2\n",
       "3     UK  [0241572614, 1406392979, 024157563X, 024147681...       3\n",
       "4     JP  [B0B6PF619D, B0B6P77ZRN, B0B6P2PCMP, B0B6NY4PN...       4"
      ]
     },
     "execution_count": 88,
     "metadata": {},
     "output_type": "execute_result"
    }
   ],
   "source": [
    "sasrec_session_candidates_df.head(5)"
   ]
  },
  {
   "cell_type": "code",
   "execution_count": 89,
   "metadata": {},
   "outputs": [
    {
     "data": {
      "text/html": [
       "<div>\n",
       "<style scoped>\n",
       "    .dataframe tbody tr th:only-of-type {\n",
       "        vertical-align: middle;\n",
       "    }\n",
       "\n",
       "    .dataframe tbody tr th {\n",
       "        vertical-align: top;\n",
       "    }\n",
       "\n",
       "    .dataframe thead th {\n",
       "        text-align: right;\n",
       "    }\n",
       "</style>\n",
       "<table border=\"1\" class=\"dataframe\">\n",
       "  <thead>\n",
       "    <tr style=\"text-align: right;\">\n",
       "      <th></th>\n",
       "      <th>locale</th>\n",
       "      <th>candidates</th>\n",
       "      <th>sess_id</th>\n",
       "    </tr>\n",
       "  </thead>\n",
       "  <tbody>\n",
       "    <tr>\n",
       "      <th>0</th>\n",
       "      <td>UK</td>\n",
       "      <td>[B06XG1LZ6Z, B077XGDMD2, B06XGD9VLV, B076PN1SK...</td>\n",
       "      <td>0</td>\n",
       "    </tr>\n",
       "    <tr>\n",
       "      <th>1</th>\n",
       "      <td>JP</td>\n",
       "      <td>[B09LCPT9DQ, B09LCPT9DQ, B09MRYK5CV, B0BB5VQ1L...</td>\n",
       "      <td>1</td>\n",
       "    </tr>\n",
       "    <tr>\n",
       "      <th>2</th>\n",
       "      <td>UK</td>\n",
       "      <td>[B09XBS6WCX, B09XBS6WCX, B01EYGW86Y, B01MDOBUC...</td>\n",
       "      <td>2</td>\n",
       "    </tr>\n",
       "    <tr>\n",
       "      <th>3</th>\n",
       "      <td>UK</td>\n",
       "      <td>[0241572614, 1839941960, 1406392979, 024157563...</td>\n",
       "      <td>3</td>\n",
       "    </tr>\n",
       "    <tr>\n",
       "      <th>4</th>\n",
       "      <td>JP</td>\n",
       "      <td>[B0B6PF619D, B0B6PF619D, B0B6P77ZRN, B0B6P2PCM...</td>\n",
       "      <td>4</td>\n",
       "    </tr>\n",
       "  </tbody>\n",
       "</table>\n",
       "</div>"
      ],
      "text/plain": [
       "  locale                                         candidates sess_id\n",
       "0     UK  [B06XG1LZ6Z, B077XGDMD2, B06XGD9VLV, B076PN1SK...       0\n",
       "1     JP  [B09LCPT9DQ, B09LCPT9DQ, B09MRYK5CV, B0BB5VQ1L...       1\n",
       "2     UK  [B09XBS6WCX, B09XBS6WCX, B01EYGW86Y, B01MDOBUC...       2\n",
       "3     UK  [0241572614, 1839941960, 1406392979, 024157563...       3\n",
       "4     JP  [B0B6PF619D, B0B6PF619D, B0B6P77ZRN, B0B6P2PCM...       4"
      ]
     },
     "execution_count": 89,
     "metadata": {},
     "output_type": "execute_result"
    }
   ],
   "source": [
    "merge_session_candidates_df.head(5)"
   ]
  },
  {
   "cell_type": "code",
   "execution_count": 91,
   "metadata": {},
   "outputs": [
    {
     "name": "stderr",
     "output_type": "stream",
     "text": [
      "100%|██████████| 361581/361581 [00:26<00:00, 13856.09it/s]\n"
     ]
    },
    {
     "data": {
      "text/plain": [
       "(0.6616083256587044, 0.2897622701720241)"
      ]
     },
     "execution_count": 91,
     "metadata": {},
     "output_type": "execute_result"
    }
   ],
   "source": [
    "cal_hit_and_mrr(valid_sessions_df['next_item'], merge_session_candidates_df['candidates'])"
   ]
  }
 ],
 "metadata": {
  "kernelspec": {
   "display_name": "torch12",
   "language": "python",
   "name": "python3"
  },
  "language_info": {
   "codemirror_mode": {
    "name": "ipython",
    "version": 3
   },
   "file_extension": ".py",
   "mimetype": "text/x-python",
   "name": "python",
   "nbconvert_exporter": "python",
   "pygments_lexer": "ipython3",
   "version": "3.9.16"
  },
  "orig_nbformat": 4
 },
 "nbformat": 4,
 "nbformat_minor": 2
}
