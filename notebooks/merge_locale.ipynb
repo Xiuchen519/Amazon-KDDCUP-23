{
 "cells": [
  {
   "cell_type": "code",
   "execution_count": 1,
   "metadata": {},
   "outputs": [],
   "source": [
    "import pandas as pd \n",
    "import numpy as np\n",
    "from functools import lru_cache\n",
    "import os\n",
    "from tqdm import tqdm \n",
    "from copy import deepcopy"
   ]
  },
  {
   "cell_type": "code",
   "execution_count": 2,
   "metadata": {},
   "outputs": [],
   "source": [
    "sasrec_UK_locale_prediction_path = '/root/autodl-tmp/xiaolong/WorkSpace/Amazon-KDDCUP-23/predictions/SASRec_Next/kdd_cup_2023_UK/2023-05-23-22-41-52.parquet'\n",
    "sasrec_DE_locale_prediction_path = '/root/autodl-tmp/xiaolong/WorkSpace/Amazon-KDDCUP-23/predictions/SASRec_Next/kdd_cup_2023_DE/2023-05-23-22-35-42.parquet'\n",
    "sasrec_JP_locale_prediction_path = '/root/autodl-tmp/xiaolong/WorkSpace/Amazon-KDDCUP-23/predictions/SASRec_Next/kdd_cup_2023_JP/2023-05-23-22-39-16.parquet'"
   ]
  },
  {
   "cell_type": "code",
   "execution_count": 3,
   "metadata": {},
   "outputs": [],
   "source": [
    "\n",
    "@lru_cache(maxsize=1)\n",
    "def read_all_valid_sessions():\n",
    "    return pd.read_csv('/root/autodl-tmp/xiaolong/WorkSpace/Amazon-KDDCUP-23/data_for_recstudio/task1_data/task13_4_task1_valid_sessions.csv')\n",
    "\n",
    "@lru_cache(maxsize=1)\n",
    "def read_sasrec_UK_locale_prediction():\n",
    "    return pd.read_parquet(sasrec_UK_locale_prediction_path, engine='pyarrow')\n",
    "\n",
    "@lru_cache(maxsize=1)\n",
    "def read_sasrec_DE_locale_prediction():\n",
    "    return pd.read_parquet(sasrec_DE_locale_prediction_path, engine='pyarrow')\n",
    "\n",
    "@lru_cache(maxsize=1)\n",
    "def read_sasrec_JP_locale_prediction():\n",
    "    return pd.read_parquet(sasrec_JP_locale_prediction_path, engine='pyarrow')"
   ]
  },
  {
   "attachments": {},
   "cell_type": "markdown",
   "metadata": {},
   "source": [
    "# task1 validation"
   ]
  },
  {
   "cell_type": "code",
   "execution_count": 17,
   "metadata": {},
   "outputs": [],
   "source": [
    "sasrec_valid_sessions = read_all_valid_sessions()"
   ]
  },
  {
   "cell_type": "code",
   "execution_count": 13,
   "metadata": {},
   "outputs": [
    {
     "data": {
      "text/plain": [
       "(361581, 300)"
      ]
     },
     "execution_count": 13,
     "metadata": {},
     "output_type": "execute_result"
    }
   ],
   "source": [
    "sasrec_UK_locale_prediction = read_sasrec_UK_locale_prediction()\n",
    "len(sasrec_UK_locale_prediction), len(sasrec_UK_locale_prediction.iloc[0]['candidates'])"
   ]
  },
  {
   "cell_type": "code",
   "execution_count": 14,
   "metadata": {},
   "outputs": [
    {
     "data": {
      "text/plain": [
       "(361581, 300)"
      ]
     },
     "execution_count": 14,
     "metadata": {},
     "output_type": "execute_result"
    }
   ],
   "source": [
    "sasrec_DE_locale_prediction = read_sasrec_DE_locale_prediction()\n",
    "len(sasrec_DE_locale_prediction), len(sasrec_DE_locale_prediction.iloc[0]['candidates'])"
   ]
  },
  {
   "cell_type": "code",
   "execution_count": 15,
   "metadata": {},
   "outputs": [
    {
     "data": {
      "text/plain": [
       "(361581, 300)"
      ]
     },
     "execution_count": 15,
     "metadata": {},
     "output_type": "execute_result"
    }
   ],
   "source": [
    "sasrec_JP_locale_prediction = read_sasrec_JP_locale_prediction()\n",
    "len(sasrec_JP_locale_prediction), len(sasrec_JP_locale_prediction.iloc[0]['candidates'])"
   ]
  },
  {
   "cell_type": "code",
   "execution_count": 16,
   "metadata": {},
   "outputs": [
    {
     "data": {
      "text/html": [
       "<div>\n",
       "<style scoped>\n",
       "    .dataframe tbody tr th:only-of-type {\n",
       "        vertical-align: middle;\n",
       "    }\n",
       "\n",
       "    .dataframe tbody tr th {\n",
       "        vertical-align: top;\n",
       "    }\n",
       "\n",
       "    .dataframe thead th {\n",
       "        text-align: right;\n",
       "    }\n",
       "</style>\n",
       "<table border=\"1\" class=\"dataframe\">\n",
       "  <thead>\n",
       "    <tr style=\"text-align: right;\">\n",
       "      <th></th>\n",
       "      <th>locale</th>\n",
       "      <th>candidates</th>\n",
       "      <th>sess_id</th>\n",
       "      <th>scores</th>\n",
       "    </tr>\n",
       "  </thead>\n",
       "  <tbody>\n",
       "    <tr>\n",
       "      <th>0</th>\n",
       "      <td>[PAD]</td>\n",
       "      <td>[B07BP8ZBJK, B01CODB5T0, B01CODB64E, B019BWJT0...</td>\n",
       "      <td>0</td>\n",
       "      <td>[nan, nan, nan, nan, nan, nan, nan, nan, nan, ...</td>\n",
       "    </tr>\n",
       "    <tr>\n",
       "      <th>1</th>\n",
       "      <td>JP</td>\n",
       "      <td>[B09LCPT9DQ, B09MRYK5CV, B092D5HM5S, B0797D6F3...</td>\n",
       "      <td>1</td>\n",
       "      <td>[17.74812889099121, 14.109373092651367, 12.546...</td>\n",
       "    </tr>\n",
       "    <tr>\n",
       "      <th>2</th>\n",
       "      <td>[PAD]</td>\n",
       "      <td>[B07BP8ZBJK, B01CODB5T0, B01CODB64E, B019BWJT0...</td>\n",
       "      <td>2</td>\n",
       "      <td>[nan, nan, nan, nan, nan, nan, nan, nan, nan, ...</td>\n",
       "    </tr>\n",
       "    <tr>\n",
       "      <th>3</th>\n",
       "      <td>[PAD]</td>\n",
       "      <td>[B07BP8ZBJK, B01CODB5T0, B01CODB64E, B019BWJT0...</td>\n",
       "      <td>3</td>\n",
       "      <td>[nan, nan, nan, nan, nan, nan, nan, nan, nan, ...</td>\n",
       "    </tr>\n",
       "    <tr>\n",
       "      <th>4</th>\n",
       "      <td>JP</td>\n",
       "      <td>[B0B6PF619D, B09BJF6N8K, B0B6P77ZRN, B0B6P2PCM...</td>\n",
       "      <td>4</td>\n",
       "      <td>[21.915809631347656, 20.597021102905273, 19.71...</td>\n",
       "    </tr>\n",
       "    <tr>\n",
       "      <th>...</th>\n",
       "      <td>...</td>\n",
       "      <td>...</td>\n",
       "      <td>...</td>\n",
       "      <td>...</td>\n",
       "    </tr>\n",
       "    <tr>\n",
       "      <th>361576</th>\n",
       "      <td>[PAD]</td>\n",
       "      <td>[B07BP8ZBJK, B01CODB5T0, B01CODB64E, B019BWJT0...</td>\n",
       "      <td>361576</td>\n",
       "      <td>[nan, nan, nan, nan, nan, nan, nan, nan, nan, ...</td>\n",
       "    </tr>\n",
       "    <tr>\n",
       "      <th>361577</th>\n",
       "      <td>JP</td>\n",
       "      <td>[B09BCM5NL1, B09B9V4PXC, B09XH1YGLL, B09XGRXXG...</td>\n",
       "      <td>361577</td>\n",
       "      <td>[13.340217590332031, 12.540390014648438, 12.30...</td>\n",
       "    </tr>\n",
       "    <tr>\n",
       "      <th>361578</th>\n",
       "      <td>[PAD]</td>\n",
       "      <td>[B07BP8ZBJK, B01CODB5T0, B01CODB64E, B019BWJT0...</td>\n",
       "      <td>361578</td>\n",
       "      <td>[nan, nan, nan, nan, nan, nan, nan, nan, nan, ...</td>\n",
       "    </tr>\n",
       "    <tr>\n",
       "      <th>361579</th>\n",
       "      <td>[PAD]</td>\n",
       "      <td>[B07BP8ZBJK, B01CODB5T0, B01CODB64E, B019BWJT0...</td>\n",
       "      <td>361579</td>\n",
       "      <td>[nan, nan, nan, nan, nan, nan, nan, nan, nan, ...</td>\n",
       "    </tr>\n",
       "    <tr>\n",
       "      <th>361580</th>\n",
       "      <td>[PAD]</td>\n",
       "      <td>[B07BP8ZBJK, B01CODB5T0, B01CODB64E, B019BWJT0...</td>\n",
       "      <td>361580</td>\n",
       "      <td>[nan, nan, nan, nan, nan, nan, nan, nan, nan, ...</td>\n",
       "    </tr>\n",
       "  </tbody>\n",
       "</table>\n",
       "<p>361581 rows × 4 columns</p>\n",
       "</div>"
      ],
      "text/plain": [
       "       locale                                         candidates sess_id  \\\n",
       "0       [PAD]  [B07BP8ZBJK, B01CODB5T0, B01CODB64E, B019BWJT0...       0   \n",
       "1          JP  [B09LCPT9DQ, B09MRYK5CV, B092D5HM5S, B0797D6F3...       1   \n",
       "2       [PAD]  [B07BP8ZBJK, B01CODB5T0, B01CODB64E, B019BWJT0...       2   \n",
       "3       [PAD]  [B07BP8ZBJK, B01CODB5T0, B01CODB64E, B019BWJT0...       3   \n",
       "4          JP  [B0B6PF619D, B09BJF6N8K, B0B6P77ZRN, B0B6P2PCM...       4   \n",
       "...       ...                                                ...     ...   \n",
       "361576  [PAD]  [B07BP8ZBJK, B01CODB5T0, B01CODB64E, B019BWJT0...  361576   \n",
       "361577     JP  [B09BCM5NL1, B09B9V4PXC, B09XH1YGLL, B09XGRXXG...  361577   \n",
       "361578  [PAD]  [B07BP8ZBJK, B01CODB5T0, B01CODB64E, B019BWJT0...  361578   \n",
       "361579  [PAD]  [B07BP8ZBJK, B01CODB5T0, B01CODB64E, B019BWJT0...  361579   \n",
       "361580  [PAD]  [B07BP8ZBJK, B01CODB5T0, B01CODB64E, B019BWJT0...  361580   \n",
       "\n",
       "                                                   scores  \n",
       "0       [nan, nan, nan, nan, nan, nan, nan, nan, nan, ...  \n",
       "1       [17.74812889099121, 14.109373092651367, 12.546...  \n",
       "2       [nan, nan, nan, nan, nan, nan, nan, nan, nan, ...  \n",
       "3       [nan, nan, nan, nan, nan, nan, nan, nan, nan, ...  \n",
       "4       [21.915809631347656, 20.597021102905273, 19.71...  \n",
       "...                                                   ...  \n",
       "361576  [nan, nan, nan, nan, nan, nan, nan, nan, nan, ...  \n",
       "361577  [13.340217590332031, 12.540390014648438, 12.30...  \n",
       "361578  [nan, nan, nan, nan, nan, nan, nan, nan, nan, ...  \n",
       "361579  [nan, nan, nan, nan, nan, nan, nan, nan, nan, ...  \n",
       "361580  [nan, nan, nan, nan, nan, nan, nan, nan, nan, ...  \n",
       "\n",
       "[361581 rows x 4 columns]"
      ]
     },
     "execution_count": 16,
     "metadata": {},
     "output_type": "execute_result"
    }
   ],
   "source": [
    "sasrec_JP_locale_prediction"
   ]
  },
  {
   "cell_type": "code",
   "execution_count": 24,
   "metadata": {},
   "outputs": [],
   "source": [
    "sasrec_merged_valid_prediction = deepcopy(sasrec_DE_locale_prediction)"
   ]
  },
  {
   "cell_type": "code",
   "execution_count": 25,
   "metadata": {},
   "outputs": [],
   "source": [
    "sasrec_merged_valid_prediction[sasrec_valid_sessions['locale'] == 'JP'] = sasrec_JP_locale_prediction[sasrec_valid_sessions['locale'] == 'JP']"
   ]
  },
  {
   "cell_type": "code",
   "execution_count": 27,
   "metadata": {},
   "outputs": [],
   "source": [
    "sasrec_merged_valid_prediction[sasrec_valid_sessions['locale'] == 'UK'] = sasrec_UK_locale_prediction[sasrec_valid_sessions['locale'] == 'UK']"
   ]
  },
  {
   "cell_type": "code",
   "execution_count": 29,
   "metadata": {},
   "outputs": [],
   "source": [
    "def cal_hit_and_mrr(ground_truth_list, candidates_list):\n",
    "    hits, mrrs = [], []\n",
    "    for i in tqdm(range(len(ground_truth_list))):\n",
    "        ground_truth = ground_truth_list.iloc[i]\n",
    "        candidates = candidates_list.iloc[i]\n",
    "        hit, mrr = 0.0, 0.0\n",
    "        for j in range(len(candidates)):\n",
    "            if ground_truth == candidates[j]:\n",
    "                hit = 1.0\n",
    "                mrr = 1.0 / (j + 1)\n",
    "                break\n",
    "        hits.append(hit)\n",
    "        mrrs.append(mrr)\n",
    "    return np.array(hits).mean(), np.array(mrrs).mean()"
   ]
  },
  {
   "cell_type": "code",
   "execution_count": 31,
   "metadata": {},
   "outputs": [
    {
     "name": "stderr",
     "output_type": "stream",
     "text": [
      "100%|██████████| 361581/361581 [00:09<00:00, 36467.17it/s]\n"
     ]
    },
    {
     "data": {
      "text/plain": [
       "(0.6773447719874661, 0.30861870792730345)"
      ]
     },
     "execution_count": 31,
     "metadata": {},
     "output_type": "execute_result"
    }
   ],
   "source": [
    "cal_hit_and_mrr(sasrec_valid_sessions['next_item'], sasrec_merged_valid_prediction['candidates'])"
   ]
  },
  {
   "cell_type": "code",
   "execution_count": 34,
   "metadata": {},
   "outputs": [],
   "source": [
    "sasrec_merged_valid_prediction['candidates'] = sasrec_merged_valid_prediction['candidates'].apply(lambda x : x[:100])\n",
    "sasrec_merged_valid_prediction['scores'] = sasrec_merged_valid_prediction['scores'].apply(lambda x : x[:100])"
   ]
  },
  {
   "cell_type": "code",
   "execution_count": 36,
   "metadata": {},
   "outputs": [
    {
     "data": {
      "text/plain": [
       "count    361581.0\n",
       "mean        100.0\n",
       "std           0.0\n",
       "min         100.0\n",
       "25%         100.0\n",
       "50%         100.0\n",
       "75%         100.0\n",
       "max         100.0\n",
       "Name: scores, dtype: float64"
      ]
     },
     "execution_count": 36,
     "metadata": {},
     "output_type": "execute_result"
    }
   ],
   "source": [
    "sasrec_merged_valid_prediction['scores'].apply(len).describe()"
   ]
  },
  {
   "cell_type": "code",
   "execution_count": null,
   "metadata": {},
   "outputs": [],
   "source": [
    "sasrec_merged_valid_prediction.to_parquet('../candidates/SASRec_Next/seperate_locale/SASRec_Next_04_26_15_26_valid_with_score.parquet')"
   ]
  },
  {
   "attachments": {},
   "cell_type": "markdown",
   "metadata": {},
   "source": [
    "# task 1 "
   ]
  },
  {
   "cell_type": "code",
   "execution_count": 4,
   "metadata": {},
   "outputs": [
    {
     "data": {
      "text/plain": [
       "(316972, 100)"
      ]
     },
     "execution_count": 4,
     "metadata": {},
     "output_type": "execute_result"
    }
   ],
   "source": [
    "sasrec_UK_locale_prediction = read_sasrec_UK_locale_prediction()\n",
    "len(sasrec_UK_locale_prediction), len(sasrec_UK_locale_prediction.iloc[0]['next_item_prediction'])"
   ]
  },
  {
   "cell_type": "code",
   "execution_count": 5,
   "metadata": {},
   "outputs": [
    {
     "data": {
      "text/plain": [
       "(316972, 100)"
      ]
     },
     "execution_count": 5,
     "metadata": {},
     "output_type": "execute_result"
    }
   ],
   "source": [
    "sasrec_DE_locale_prediction = read_sasrec_DE_locale_prediction()\n",
    "len(sasrec_DE_locale_prediction), len(sasrec_DE_locale_prediction.iloc[0]['next_item_prediction'])"
   ]
  },
  {
   "cell_type": "code",
   "execution_count": 6,
   "metadata": {},
   "outputs": [
    {
     "data": {
      "text/plain": [
       "(316972, 100)"
      ]
     },
     "execution_count": 6,
     "metadata": {},
     "output_type": "execute_result"
    }
   ],
   "source": [
    "sasrec_JP_locale_prediction = read_sasrec_JP_locale_prediction()\n",
    "len(sasrec_JP_locale_prediction), len(sasrec_JP_locale_prediction.iloc[0]['next_item_prediction'])"
   ]
  },
  {
   "cell_type": "code",
   "execution_count": 7,
   "metadata": {},
   "outputs": [
    {
     "data": {
      "text/plain": [
       "104568"
      ]
     },
     "execution_count": 7,
     "metadata": {},
     "output_type": "execute_result"
    }
   ],
   "source": [
    "len(sasrec_DE_locale_prediction[sasrec_DE_locale_prediction['locale'] == 'DE'])"
   ]
  },
  {
   "cell_type": "code",
   "execution_count": 8,
   "metadata": {},
   "outputs": [
    {
     "data": {
      "text/plain": [
       "96467"
      ]
     },
     "execution_count": 8,
     "metadata": {},
     "output_type": "execute_result"
    }
   ],
   "source": [
    "len(sasrec_JP_locale_prediction[sasrec_JP_locale_prediction['locale'] == 'JP'])"
   ]
  },
  {
   "cell_type": "code",
   "execution_count": 9,
   "metadata": {},
   "outputs": [
    {
     "data": {
      "text/plain": [
       "115937"
      ]
     },
     "execution_count": 9,
     "metadata": {},
     "output_type": "execute_result"
    }
   ],
   "source": [
    "len(sasrec_UK_locale_prediction[sasrec_UK_locale_prediction['locale'] == 'UK'])"
   ]
  },
  {
   "cell_type": "code",
   "execution_count": 10,
   "metadata": {},
   "outputs": [],
   "source": [
    "new_test_prediction = pd.concat([sasrec_DE_locale_prediction.iloc[ : 104568], sasrec_JP_locale_prediction.iloc[104568 : 104568 + 96467], sasrec_UK_locale_prediction.iloc[104568 + 96467: ]], axis=0)"
   ]
  },
  {
   "cell_type": "code",
   "execution_count": 11,
   "metadata": {},
   "outputs": [],
   "source": [
    "def new_pred_validation(new_pred):\n",
    "    assert len(new_pred) == len(sasrec_DE_locale_prediction)\n",
    "    assert new_pred.iloc[104567]['locale'] == 'DE'\n",
    "    assert new_pred.iloc[104568]['locale'] == 'JP'\n",
    "    assert new_pred.iloc[104568 + 96467 - 1]['locale'] == 'JP'\n",
    "    assert new_pred.iloc[104568 + 96467]['locale'] == 'UK'\n",
    "    print(\"Nice!!!\")"
   ]
  },
  {
   "cell_type": "code",
   "execution_count": 12,
   "metadata": {},
   "outputs": [
    {
     "name": "stdout",
     "output_type": "stream",
     "text": [
      "Nice!!!\n"
     ]
    }
   ],
   "source": [
    "new_pred_validation(new_test_prediction)"
   ]
  },
  {
   "cell_type": "code",
   "execution_count": 13,
   "metadata": {},
   "outputs": [
    {
     "data": {
      "text/plain": [
       "count    316972.0\n",
       "mean        100.0\n",
       "std           0.0\n",
       "min         100.0\n",
       "25%         100.0\n",
       "50%         100.0\n",
       "75%         100.0\n",
       "max         100.0\n",
       "Name: next_item_prediction, dtype: float64"
      ]
     },
     "execution_count": 13,
     "metadata": {},
     "output_type": "execute_result"
    }
   ],
   "source": [
    "new_test_prediction['next_item_prediction'].apply(len).describe()"
   ]
  },
  {
   "cell_type": "code",
   "execution_count": 14,
   "metadata": {},
   "outputs": [
    {
     "data": {
      "text/html": [
       "<div>\n",
       "<style scoped>\n",
       "    .dataframe tbody tr th:only-of-type {\n",
       "        vertical-align: middle;\n",
       "    }\n",
       "\n",
       "    .dataframe tbody tr th {\n",
       "        vertical-align: top;\n",
       "    }\n",
       "\n",
       "    .dataframe thead th {\n",
       "        text-align: right;\n",
       "    }\n",
       "</style>\n",
       "<table border=\"1\" class=\"dataframe\">\n",
       "  <thead>\n",
       "    <tr style=\"text-align: right;\">\n",
       "      <th></th>\n",
       "      <th>locale</th>\n",
       "      <th>next_item_prediction</th>\n",
       "      <th>scores</th>\n",
       "    </tr>\n",
       "  </thead>\n",
       "  <tbody>\n",
       "    <tr>\n",
       "      <th>0</th>\n",
       "      <td>DE</td>\n",
       "      <td>[B091CK241X, B07SDFLVKD, B093X59B31, B0BGC82WV...</td>\n",
       "      <td>[19.219451904296875, 18.955141067504883, 18.11...</td>\n",
       "    </tr>\n",
       "    <tr>\n",
       "      <th>1</th>\n",
       "      <td>DE</td>\n",
       "      <td>[B004P4OF1C, B084CB7GX9, B08HQWQ1SK, B09YD8XV6...</td>\n",
       "      <td>[15.721356391906738, 15.346590995788574, 15.30...</td>\n",
       "    </tr>\n",
       "    <tr>\n",
       "      <th>2</th>\n",
       "      <td>DE</td>\n",
       "      <td>[B09Z4PZQBF, B09GPJ15GS, B07HFTJLR8, B08LLF9M1...</td>\n",
       "      <td>[16.841047286987305, 13.765119552612305, 13.53...</td>\n",
       "    </tr>\n",
       "    <tr>\n",
       "      <th>3</th>\n",
       "      <td>DE</td>\n",
       "      <td>[B07Y1KLF25, B07QQZD49D, B07VSNX4GG, B09GKJ9RR...</td>\n",
       "      <td>[17.946931838989258, 17.033920288085938, 15.95...</td>\n",
       "    </tr>\n",
       "    <tr>\n",
       "      <th>4</th>\n",
       "      <td>DE</td>\n",
       "      <td>[B0B2JY9THB, B08SXLWXH9, B0B93LNSDL, B08SHZHRQ...</td>\n",
       "      <td>[16.5403995513916, 15.69337272644043, 14.64745...</td>\n",
       "    </tr>\n",
       "    <tr>\n",
       "      <th>...</th>\n",
       "      <td>...</td>\n",
       "      <td>...</td>\n",
       "      <td>...</td>\n",
       "    </tr>\n",
       "    <tr>\n",
       "      <th>316967</th>\n",
       "      <td>UK</td>\n",
       "      <td>[B07GKP2LCF, B07GKYSHB4, B006DDGCI2, B016RAAUE...</td>\n",
       "      <td>[17.98622703552246, 16.594831466674805, 13.547...</td>\n",
       "    </tr>\n",
       "    <tr>\n",
       "      <th>316968</th>\n",
       "      <td>UK</td>\n",
       "      <td>[B00M35Y326, B08L5Z8GPL, B085C7TCTC, B00NVMIO0...</td>\n",
       "      <td>[20.247331619262695, 16.64974594116211, 16.398...</td>\n",
       "    </tr>\n",
       "    <tr>\n",
       "      <th>316969</th>\n",
       "      <td>UK</td>\n",
       "      <td>[B08VDHH6QF, B08VD5DC5L, B08VDSL596, B09HGSCL9...</td>\n",
       "      <td>[15.693093299865723, 14.321159362792969, 13.85...</td>\n",
       "    </tr>\n",
       "    <tr>\n",
       "      <th>316970</th>\n",
       "      <td>UK</td>\n",
       "      <td>[B089CZWB4C, B08T1ZJYHV, B09WCQYGX8, B08W2JJZB...</td>\n",
       "      <td>[18.1264591217041, 16.0655460357666, 15.565340...</td>\n",
       "    </tr>\n",
       "    <tr>\n",
       "      <th>316971</th>\n",
       "      <td>UK</td>\n",
       "      <td>[B07NNW2YXB, B08GY1QYXP, B08GYG6T12, B08GY61ZZ...</td>\n",
       "      <td>[14.640172958374023, 14.620201110839844, 14.12...</td>\n",
       "    </tr>\n",
       "  </tbody>\n",
       "</table>\n",
       "<p>316972 rows × 3 columns</p>\n",
       "</div>"
      ],
      "text/plain": [
       "       locale                               next_item_prediction  \\\n",
       "0          DE  [B091CK241X, B07SDFLVKD, B093X59B31, B0BGC82WV...   \n",
       "1          DE  [B004P4OF1C, B084CB7GX9, B08HQWQ1SK, B09YD8XV6...   \n",
       "2          DE  [B09Z4PZQBF, B09GPJ15GS, B07HFTJLR8, B08LLF9M1...   \n",
       "3          DE  [B07Y1KLF25, B07QQZD49D, B07VSNX4GG, B09GKJ9RR...   \n",
       "4          DE  [B0B2JY9THB, B08SXLWXH9, B0B93LNSDL, B08SHZHRQ...   \n",
       "...       ...                                                ...   \n",
       "316967     UK  [B07GKP2LCF, B07GKYSHB4, B006DDGCI2, B016RAAUE...   \n",
       "316968     UK  [B00M35Y326, B08L5Z8GPL, B085C7TCTC, B00NVMIO0...   \n",
       "316969     UK  [B08VDHH6QF, B08VD5DC5L, B08VDSL596, B09HGSCL9...   \n",
       "316970     UK  [B089CZWB4C, B08T1ZJYHV, B09WCQYGX8, B08W2JJZB...   \n",
       "316971     UK  [B07NNW2YXB, B08GY1QYXP, B08GYG6T12, B08GY61ZZ...   \n",
       "\n",
       "                                                   scores  \n",
       "0       [19.219451904296875, 18.955141067504883, 18.11...  \n",
       "1       [15.721356391906738, 15.346590995788574, 15.30...  \n",
       "2       [16.841047286987305, 13.765119552612305, 13.53...  \n",
       "3       [17.946931838989258, 17.033920288085938, 15.95...  \n",
       "4       [16.5403995513916, 15.69337272644043, 14.64745...  \n",
       "...                                                   ...  \n",
       "316967  [17.98622703552246, 16.594831466674805, 13.547...  \n",
       "316968  [20.247331619262695, 16.64974594116211, 16.398...  \n",
       "316969  [15.693093299865723, 14.321159362792969, 13.85...  \n",
       "316970  [18.1264591217041, 16.0655460357666, 15.565340...  \n",
       "316971  [14.640172958374023, 14.620201110839844, 14.12...  \n",
       "\n",
       "[316972 rows x 3 columns]"
      ]
     },
     "execution_count": 14,
     "metadata": {},
     "output_type": "execute_result"
    }
   ],
   "source": [
    "new_test_prediction"
   ]
  },
  {
   "cell_type": "code",
   "execution_count": 15,
   "metadata": {},
   "outputs": [],
   "source": [
    "new_test_prediction['next_item_prediction'] = new_test_prediction['next_item_prediction'].apply(lambda x : x[:100])"
   ]
  },
  {
   "cell_type": "code",
   "execution_count": 19,
   "metadata": {},
   "outputs": [],
   "source": [
    "new_test_prediction.to_parquet('/root/autodl-tmp/xiaolong/WorkSpace/Amazon-KDDCUP-23/candidates/SASRec_Next/seperate_locale/SASRec_three_layers_05_23_23_13_test_100_with_score.parquet', engine='pyarrow')"
   ]
  },
  {
   "attachments": {},
   "cell_type": "markdown",
   "metadata": {},
   "source": [
    "# task 3"
   ]
  },
  {
   "cell_type": "code",
   "execution_count": 1,
   "metadata": {},
   "outputs": [],
   "source": [
    "import pandas as pd \n",
    "import numpy as np\n",
    "from functools import lru_cache\n",
    "import os\n",
    "from tqdm import tqdm "
   ]
  },
  {
   "cell_type": "code",
   "execution_count": 11,
   "metadata": {},
   "outputs": [],
   "source": [
    "taske_test_path = '/root/autodl-tmp/xiaolong/WorkSpace/Amazon-KDDCUP-23/raw_data/phase_2/sessions_test_task3.csv'\n",
    "sasrec_DE_locale_prediction_task3_path = '/root/autodl-tmp/xiaolong/WorkSpace/Amazon-KDDCUP-23/predictions/SASRec_Next/kdd_cup_2023_DE/2023-05-23-19-11-33.parquet'\n",
    "sasrec_JP_locale_prediction_task3_path = '/root/autodl-tmp/xiaolong/WorkSpace/Amazon-KDDCUP-23/predictions/SASRec_Next/kdd_cup_2023_JP/2023-05-23-19-12-49.parquet'\n",
    "sasrec_UK_locale_prediction_task3_path = '/root/autodl-tmp/xiaolong/WorkSpace/Amazon-KDDCUP-23/predictions/SASRec_Next/kdd_cup_2023_UK/2023-05-23-19-13-41.parquet'\n",
    "sasrec_IT_locale_prediction_task3_path = '/root/autodl-tmp/xiaolong/WorkSpace/Amazon-KDDCUP-23/predictions/SASRec_Next/kdd_cup_2023_IT/2023-05-23-19-41-17.parquet'\n",
    "sasrec_ES_locale_prediction_task3_path = '/root/autodl-tmp/xiaolong/WorkSpace/Amazon-KDDCUP-23/predictions/SASRec_Next/kdd_cup_2023_ES/2023-05-23-19-42-14.parquet'\n",
    "sasrec_FR_locale_prediction_task3_path = '/root/autodl-tmp/xiaolong/WorkSpace/Amazon-KDDCUP-23/predictions/SASRec_Next/kdd_cup_2023_FR/2023-05-23-19-43-18.parquet'"
   ]
  },
  {
   "cell_type": "code",
   "execution_count": 12,
   "metadata": {},
   "outputs": [],
   "source": [
    "@lru_cache(maxsize=1)\n",
    "def read_task3_test():\n",
    "    return pd.read_csv(taske_test_path, engine='pyarrow')\n",
    "\n",
    "@lru_cache(maxsize=1)\n",
    "def read_sasrec_UK_locale_prediction():\n",
    "    return pd.read_parquet(sasrec_UK_locale_prediction_task3_path, engine='pyarrow')\n",
    "\n",
    "@lru_cache(maxsize=1)\n",
    "def read_sasrec_DE_locale_prediction():\n",
    "    return pd.read_parquet(sasrec_DE_locale_prediction_task3_path, engine='pyarrow')\n",
    "\n",
    "@lru_cache(maxsize=1)\n",
    "def read_sasrec_JP_locale_prediction():\n",
    "    return pd.read_parquet(sasrec_JP_locale_prediction_task3_path, engine='pyarrow')\n",
    "\n",
    "@lru_cache(maxsize=1)\n",
    "def read_sasrec_IT_locale_prediction():\n",
    "    return pd.read_parquet(sasrec_IT_locale_prediction_task3_path, engine='pyarrow')\n",
    "\n",
    "@lru_cache(maxsize=1)\n",
    "def read_sasrec_ES_locale_prediction():\n",
    "    return pd.read_parquet(sasrec_ES_locale_prediction_task3_path, engine='pyarrow')\n",
    "\n",
    "@lru_cache(maxsize=1)\n",
    "def read_sasrec_FR_locale_prediction():\n",
    "    return pd.read_parquet(sasrec_FR_locale_prediction_task3_path, engine='pyarrow')"
   ]
  },
  {
   "cell_type": "code",
   "execution_count": 13,
   "metadata": {},
   "outputs": [],
   "source": [
    "task3_DE_prediction = read_sasrec_DE_locale_prediction()\n",
    "task3_DE_prediction = task3_DE_prediction[task3_DE_prediction['locale'] == 'DE']\n",
    "\n",
    "task3_JP_prediction = read_sasrec_JP_locale_prediction()\n",
    "task3_JP_prediction = task3_JP_prediction[task3_JP_prediction['locale'] == 'JP']\n",
    "\n",
    "task3_UK_prediction = read_sasrec_UK_locale_prediction()\n",
    "task3_UK_prediction = task3_UK_prediction[task3_UK_prediction['locale'] == 'UK']\n",
    "\n",
    "task3_IT_prediction = read_sasrec_IT_locale_prediction()\n",
    "task3_IT_prediction = task3_IT_prediction[task3_IT_prediction['locale'] == 'IT']\n",
    "\n",
    "task3_ES_prediction = read_sasrec_ES_locale_prediction()\n",
    "task3_ES_prediction = task3_ES_prediction[task3_ES_prediction['locale'] == 'ES']\n",
    "\n",
    "task3_FR_prediction = read_sasrec_FR_locale_prediction()\n",
    "task3_FR_prediction = task3_FR_prediction[task3_FR_prediction['locale'] == 'FR']"
   ]
  },
  {
   "cell_type": "code",
   "execution_count": 14,
   "metadata": {},
   "outputs": [],
   "source": [
    "task3_test_sessions = read_task3_test()"
   ]
  },
  {
   "cell_type": "code",
   "execution_count": 15,
   "metadata": {},
   "outputs": [
    {
     "data": {
      "text/html": [
       "<div>\n",
       "<style scoped>\n",
       "    .dataframe tbody tr th:only-of-type {\n",
       "        vertical-align: middle;\n",
       "    }\n",
       "\n",
       "    .dataframe tbody tr th {\n",
       "        vertical-align: top;\n",
       "    }\n",
       "\n",
       "    .dataframe thead th {\n",
       "        text-align: right;\n",
       "    }\n",
       "</style>\n",
       "<table border=\"1\" class=\"dataframe\">\n",
       "  <thead>\n",
       "    <tr style=\"text-align: right;\">\n",
       "      <th></th>\n",
       "      <th>prev_items</th>\n",
       "      <th>locale</th>\n",
       "    </tr>\n",
       "  </thead>\n",
       "  <tbody>\n",
       "    <tr>\n",
       "      <th>0</th>\n",
       "      <td>['B0BF9JMVDG' 'B01ET9V90M']</td>\n",
       "      <td>ES</td>\n",
       "    </tr>\n",
       "    <tr>\n",
       "      <th>1</th>\n",
       "      <td>['B09QQG85HM' 'B09J4T4JF5']</td>\n",
       "      <td>ES</td>\n",
       "    </tr>\n",
       "    <tr>\n",
       "      <th>2</th>\n",
       "      <td>['B09NSKDG4K' 'B09YY6J1ZM']</td>\n",
       "      <td>ES</td>\n",
       "    </tr>\n",
       "    <tr>\n",
       "      <th>3</th>\n",
       "      <td>['B09B7NYDJ7' 'B09B7NYDJ7']</td>\n",
       "      <td>ES</td>\n",
       "    </tr>\n",
       "    <tr>\n",
       "      <th>4</th>\n",
       "      <td>['B0B6J17LK4' 'B0B6R7X6GY' 'B07HXY5SGH']</td>\n",
       "      <td>ES</td>\n",
       "    </tr>\n",
       "    <tr>\n",
       "      <th>...</th>\n",
       "      <td>...</td>\n",
       "      <td>...</td>\n",
       "    </tr>\n",
       "    <tr>\n",
       "      <th>56417</th>\n",
       "      <td>['B08S8N3YG4' 'B00HRRANWY']</td>\n",
       "      <td>UK</td>\n",
       "    </tr>\n",
       "    <tr>\n",
       "      <th>56418</th>\n",
       "      <td>['B09F5L55QV' 'B0B8BRLGY4' 'B00IKGH2TI' 'B00IK...</td>\n",
       "      <td>UK</td>\n",
       "    </tr>\n",
       "    <tr>\n",
       "      <th>56419</th>\n",
       "      <td>['B09FY2WLZ3' 'B09FY4F65Y']</td>\n",
       "      <td>UK</td>\n",
       "    </tr>\n",
       "    <tr>\n",
       "      <th>56420</th>\n",
       "      <td>['B001G4L9KO' 'B0BG373773' 'B001G4L9KO' 'B07Z2...</td>\n",
       "      <td>UK</td>\n",
       "    </tr>\n",
       "    <tr>\n",
       "      <th>56421</th>\n",
       "      <td>['B07N6CRM21' 'B083KM35P8' 'B07N6CRM21']</td>\n",
       "      <td>UK</td>\n",
       "    </tr>\n",
       "  </tbody>\n",
       "</table>\n",
       "<p>56422 rows × 2 columns</p>\n",
       "</div>"
      ],
      "text/plain": [
       "                                              prev_items locale\n",
       "0                            ['B0BF9JMVDG' 'B01ET9V90M']     ES\n",
       "1                            ['B09QQG85HM' 'B09J4T4JF5']     ES\n",
       "2                            ['B09NSKDG4K' 'B09YY6J1ZM']     ES\n",
       "3                            ['B09B7NYDJ7' 'B09B7NYDJ7']     ES\n",
       "4               ['B0B6J17LK4' 'B0B6R7X6GY' 'B07HXY5SGH']     ES\n",
       "...                                                  ...    ...\n",
       "56417                        ['B08S8N3YG4' 'B00HRRANWY']     UK\n",
       "56418  ['B09F5L55QV' 'B0B8BRLGY4' 'B00IKGH2TI' 'B00IK...     UK\n",
       "56419                        ['B09FY2WLZ3' 'B09FY4F65Y']     UK\n",
       "56420  ['B001G4L9KO' 'B0BG373773' 'B001G4L9KO' 'B07Z2...     UK\n",
       "56421           ['B07N6CRM21' 'B083KM35P8' 'B07N6CRM21']     UK\n",
       "\n",
       "[56422 rows x 2 columns]"
      ]
     },
     "execution_count": 15,
     "metadata": {},
     "output_type": "execute_result"
    }
   ],
   "source": [
    "task3_test_sessions"
   ]
  },
  {
   "cell_type": "code",
   "execution_count": 16,
   "metadata": {},
   "outputs": [
    {
     "data": {
      "text/plain": [
       "(6422, 10000, 10000)"
      ]
     },
     "execution_count": 16,
     "metadata": {},
     "output_type": "execute_result"
    }
   ],
   "source": [
    "(task3_test_sessions['locale'] == 'ES').sum(), (task3_test_sessions['locale'] == 'DE').sum(), (task3_test_sessions['locale'] == 'FR').sum()"
   ]
  },
  {
   "cell_type": "code",
   "execution_count": 17,
   "metadata": {},
   "outputs": [
    {
     "data": {
      "text/plain": [
       "(10000, 10000, 10000)"
      ]
     },
     "execution_count": 17,
     "metadata": {},
     "output_type": "execute_result"
    }
   ],
   "source": [
    "(task3_test_sessions['locale'] == 'IT').sum(), (task3_test_sessions['locale'] == 'JP').sum(), (task3_test_sessions['locale'] == 'UK').sum()"
   ]
  },
  {
   "cell_type": "code",
   "execution_count": 18,
   "metadata": {},
   "outputs": [],
   "source": [
    "# ES : [0, 6420], DE : [6421, 16420], FR : [16421, 26420], IT : [26421, 36420], JP : [36421, 46420], UK : [46421, 56420]\n",
    "new_test_prediction_task3 = pd.concat([task3_ES_prediction, task3_DE_prediction, task3_FR_prediction, task3_IT_prediction, task3_JP_prediction, task3_UK_prediction], axis=0)"
   ]
  },
  {
   "cell_type": "code",
   "execution_count": 19,
   "metadata": {},
   "outputs": [
    {
     "data": {
      "text/html": [
       "<div>\n",
       "<style scoped>\n",
       "    .dataframe tbody tr th:only-of-type {\n",
       "        vertical-align: middle;\n",
       "    }\n",
       "\n",
       "    .dataframe tbody tr th {\n",
       "        vertical-align: top;\n",
       "    }\n",
       "\n",
       "    .dataframe thead th {\n",
       "        text-align: right;\n",
       "    }\n",
       "</style>\n",
       "<table border=\"1\" class=\"dataframe\">\n",
       "  <thead>\n",
       "    <tr style=\"text-align: right;\">\n",
       "      <th></th>\n",
       "      <th>locale</th>\n",
       "      <th>next_item_prediction</th>\n",
       "      <th>scores</th>\n",
       "    </tr>\n",
       "  </thead>\n",
       "  <tbody>\n",
       "    <tr>\n",
       "      <th>0</th>\n",
       "      <td>ES</td>\n",
       "      <td>[B00XA0GJSE, B09HSK3MR5, B00EU8F8M8, B098Q9L54...</td>\n",
       "      <td>[12.420239448547363, 10.279866218566895, 9.359...</td>\n",
       "    </tr>\n",
       "    <tr>\n",
       "      <th>1</th>\n",
       "      <td>ES</td>\n",
       "      <td>[B08BRGH7S3, B09K7TDY1H, B09NT33LZN, B08C7G859...</td>\n",
       "      <td>[14.474514961242676, 14.411263465881348, 13.38...</td>\n",
       "    </tr>\n",
       "    <tr>\n",
       "      <th>2</th>\n",
       "      <td>ES</td>\n",
       "      <td>[B09XM6Z7VY, B09XM6G37B, B09CCQ9987, B07MC3GR8...</td>\n",
       "      <td>[15.859247207641602, 15.796967506408691, 14.34...</td>\n",
       "    </tr>\n",
       "    <tr>\n",
       "      <th>3</th>\n",
       "      <td>ES</td>\n",
       "      <td>[B014EWSGX2, B00MFEHQMO, B00MFEHQJ2, B013C053D...</td>\n",
       "      <td>[18.539295196533203, 17.649274826049805, 16.58...</td>\n",
       "    </tr>\n",
       "    <tr>\n",
       "      <th>4</th>\n",
       "      <td>ES</td>\n",
       "      <td>[B09DXT3NGZ, B087HJ5ZZS, B07S9HX4SX, B07GVM3ZL...</td>\n",
       "      <td>[16.20880699157715, 15.716256141662598, 15.214...</td>\n",
       "    </tr>\n",
       "    <tr>\n",
       "      <th>...</th>\n",
       "      <td>...</td>\n",
       "      <td>...</td>\n",
       "      <td>...</td>\n",
       "    </tr>\n",
       "    <tr>\n",
       "      <th>56417</th>\n",
       "      <td>UK</td>\n",
       "      <td>[B00HRRAK7W, B017UDNQAU, B0012NIL28, B01BREENB...</td>\n",
       "      <td>[16.211650848388672, 15.547916412353516, 15.51...</td>\n",
       "    </tr>\n",
       "    <tr>\n",
       "      <th>56418</th>\n",
       "      <td>UK</td>\n",
       "      <td>[B0BB7H3RL8, B09N2TT7WT, B08KT4N4RN, B0B93KGY2...</td>\n",
       "      <td>[26.357576370239258, 15.044347763061523, 14.95...</td>\n",
       "    </tr>\n",
       "    <tr>\n",
       "      <th>56419</th>\n",
       "      <td>UK</td>\n",
       "      <td>[B08L6FLJHB, B09FXW93LB, B08CYY2KR1, B09YDJWLK...</td>\n",
       "      <td>[24.867746353149414, 22.156007766723633, 18.20...</td>\n",
       "    </tr>\n",
       "    <tr>\n",
       "      <th>56420</th>\n",
       "      <td>UK</td>\n",
       "      <td>[B07Z27R3QH, B09PBNQ79F, B09K41DGTZ, B08LGD255...</td>\n",
       "      <td>[17.918062210083008, 10.027246475219727, 8.897...</td>\n",
       "    </tr>\n",
       "    <tr>\n",
       "      <th>56421</th>\n",
       "      <td>UK</td>\n",
       "      <td>[B083LZWH7F, B09C6FMJS9, B075ZMJRWH, B0816P5CX...</td>\n",
       "      <td>[32.3637809753418, 15.51956844329834, 14.50731...</td>\n",
       "    </tr>\n",
       "  </tbody>\n",
       "</table>\n",
       "<p>56422 rows × 3 columns</p>\n",
       "</div>"
      ],
      "text/plain": [
       "      locale                               next_item_prediction  \\\n",
       "0         ES  [B00XA0GJSE, B09HSK3MR5, B00EU8F8M8, B098Q9L54...   \n",
       "1         ES  [B08BRGH7S3, B09K7TDY1H, B09NT33LZN, B08C7G859...   \n",
       "2         ES  [B09XM6Z7VY, B09XM6G37B, B09CCQ9987, B07MC3GR8...   \n",
       "3         ES  [B014EWSGX2, B00MFEHQMO, B00MFEHQJ2, B013C053D...   \n",
       "4         ES  [B09DXT3NGZ, B087HJ5ZZS, B07S9HX4SX, B07GVM3ZL...   \n",
       "...      ...                                                ...   \n",
       "56417     UK  [B00HRRAK7W, B017UDNQAU, B0012NIL28, B01BREENB...   \n",
       "56418     UK  [B0BB7H3RL8, B09N2TT7WT, B08KT4N4RN, B0B93KGY2...   \n",
       "56419     UK  [B08L6FLJHB, B09FXW93LB, B08CYY2KR1, B09YDJWLK...   \n",
       "56420     UK  [B07Z27R3QH, B09PBNQ79F, B09K41DGTZ, B08LGD255...   \n",
       "56421     UK  [B083LZWH7F, B09C6FMJS9, B075ZMJRWH, B0816P5CX...   \n",
       "\n",
       "                                                  scores  \n",
       "0      [12.420239448547363, 10.279866218566895, 9.359...  \n",
       "1      [14.474514961242676, 14.411263465881348, 13.38...  \n",
       "2      [15.859247207641602, 15.796967506408691, 14.34...  \n",
       "3      [18.539295196533203, 17.649274826049805, 16.58...  \n",
       "4      [16.20880699157715, 15.716256141662598, 15.214...  \n",
       "...                                                  ...  \n",
       "56417  [16.211650848388672, 15.547916412353516, 15.51...  \n",
       "56418  [26.357576370239258, 15.044347763061523, 14.95...  \n",
       "56419  [24.867746353149414, 22.156007766723633, 18.20...  \n",
       "56420  [17.918062210083008, 10.027246475219727, 8.897...  \n",
       "56421  [32.3637809753418, 15.51956844329834, 14.50731...  \n",
       "\n",
       "[56422 rows x 3 columns]"
      ]
     },
     "execution_count": 19,
     "metadata": {},
     "output_type": "execute_result"
    }
   ],
   "source": [
    "new_test_prediction_task3"
   ]
  },
  {
   "cell_type": "code",
   "execution_count": 52,
   "metadata": {},
   "outputs": [],
   "source": [
    "new_test_prediction_task3.to_parquet('/root/autodl-tmp/xiaolong/WorkSpace/Amazon-KDDCUP-23/predictions/SASRec_Next/kdd_cup_2023/task3_six_locale_prediction_0523_1953.parquet', engine='pyarrow')"
   ]
  }
 ],
 "metadata": {
  "kernelspec": {
   "display_name": "torch12",
   "language": "python",
   "name": "python3"
  },
  "language_info": {
   "codemirror_mode": {
    "name": "ipython",
    "version": 3
   },
   "file_extension": ".py",
   "mimetype": "text/x-python",
   "name": "python",
   "nbconvert_exporter": "python",
   "pygments_lexer": "ipython3",
   "version": "3.9.16"
  },
  "orig_nbformat": 4
 },
 "nbformat": 4,
 "nbformat_minor": 2
}
