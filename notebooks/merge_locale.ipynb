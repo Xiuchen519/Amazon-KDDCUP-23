{
 "cells": [
  {
   "cell_type": "code",
   "execution_count": 32,
   "metadata": {},
   "outputs": [],
   "source": [
    "import pandas as pd \n",
    "import numpy as np\n",
    "from functools import lru_cache\n",
    "import os\n",
    "from tqdm import tqdm "
   ]
  },
  {
   "cell_type": "code",
   "execution_count": 33,
   "metadata": {},
   "outputs": [],
   "source": [
    "sasrec_UK_locale_prediction_path = '/root/autodl-tmp/xiaolong/WorkSpace/Amazon-KDDCUP-23/predictions/SASRec_Next/kdd_cup_2023_UK/2023-04-16-21-09-54.parquet'\n",
    "sasrec_DE_locale_prediction_path = '/root/autodl-tmp/xiaolong/WorkSpace/Amazon-KDDCUP-23/predictions/SASRec_Next/kdd_cup_2023_DE/2023-04-16-21-12-54.parquet'\n",
    "sasrec_JP_locale_prediction_path = '/root/autodl-tmp/xiaolong/WorkSpace/Amazon-KDDCUP-23/predictions/SASRec_Next/kdd_cup_2023_JP/2023-04-16-21-15-12.parquet'"
   ]
  },
  {
   "cell_type": "code",
   "execution_count": 34,
   "metadata": {},
   "outputs": [],
   "source": [
    "@lru_cache(maxsize=1)\n",
    "def read_all_test_sessions():\n",
    "    return pd.read_parquet('../predictions/SASRec_Next/kdd_cup_2023/2023-04-01-06-24-57.parquet', 'pyarrow')\n",
    "\n",
    "@lru_cache(maxsize=1)\n",
    "def read_sasrec_UK_locale_prediction():\n",
    "    return pd.read_parquet(sasrec_UK_locale_prediction_path, engine='pyarrow')\n",
    "\n",
    "@lru_cache(maxsize=1)\n",
    "def read_sasrec_DE_locale_prediction():\n",
    "    return pd.read_parquet(sasrec_DE_locale_prediction_path, engine='pyarrow')\n",
    "\n",
    "@lru_cache(maxsize=1)\n",
    "def read_sasrec_JP_locale_prediction():\n",
    "    return pd.read_parquet(sasrec_JP_locale_prediction_path, engine='pyarrow')"
   ]
  },
  {
   "attachments": {},
   "cell_type": "markdown",
   "metadata": {},
   "source": [
    "# task 1 "
   ]
  },
  {
   "cell_type": "code",
   "execution_count": 35,
   "metadata": {},
   "outputs": [
    {
     "data": {
      "text/plain": [
       "(316971, 150)"
      ]
     },
     "execution_count": 35,
     "metadata": {},
     "output_type": "execute_result"
    }
   ],
   "source": [
    "sasrec_UK_locale_prediction = read_sasrec_UK_locale_prediction()\n",
    "len(sasrec_UK_locale_prediction), len(sasrec_UK_locale_prediction.iloc[0]['next_item_prediction'])"
   ]
  },
  {
   "cell_type": "code",
   "execution_count": 36,
   "metadata": {},
   "outputs": [
    {
     "data": {
      "text/plain": [
       "(316971, 150)"
      ]
     },
     "execution_count": 36,
     "metadata": {},
     "output_type": "execute_result"
    }
   ],
   "source": [
    "sasrec_DE_locale_prediction = read_sasrec_DE_locale_prediction()\n",
    "len(sasrec_DE_locale_prediction), len(sasrec_DE_locale_prediction.iloc[0]['next_item_prediction'])"
   ]
  },
  {
   "cell_type": "code",
   "execution_count": 37,
   "metadata": {},
   "outputs": [
    {
     "data": {
      "text/plain": [
       "(316971, 150)"
      ]
     },
     "execution_count": 37,
     "metadata": {},
     "output_type": "execute_result"
    }
   ],
   "source": [
    "sasrec_JP_locale_prediction = read_sasrec_JP_locale_prediction()\n",
    "len(sasrec_JP_locale_prediction), len(sasrec_JP_locale_prediction.iloc[0]['next_item_prediction'])"
   ]
  },
  {
   "cell_type": "code",
   "execution_count": 38,
   "metadata": {},
   "outputs": [
    {
     "data": {
      "text/plain": [
       "104568"
      ]
     },
     "execution_count": 38,
     "metadata": {},
     "output_type": "execute_result"
    }
   ],
   "source": [
    "len(sasrec_DE_locale_prediction[sasrec_DE_locale_prediction['locale'] == 'DE'])"
   ]
  },
  {
   "cell_type": "code",
   "execution_count": 39,
   "metadata": {},
   "outputs": [
    {
     "data": {
      "text/plain": [
       "96467"
      ]
     },
     "execution_count": 39,
     "metadata": {},
     "output_type": "execute_result"
    }
   ],
   "source": [
    "len(sasrec_JP_locale_prediction[sasrec_JP_locale_prediction['locale'] == 'JP'])"
   ]
  },
  {
   "cell_type": "code",
   "execution_count": 40,
   "metadata": {},
   "outputs": [
    {
     "data": {
      "text/plain": [
       "115936"
      ]
     },
     "execution_count": 40,
     "metadata": {},
     "output_type": "execute_result"
    }
   ],
   "source": [
    "len(sasrec_UK_locale_prediction[sasrec_UK_locale_prediction['locale'] == 'UK'])"
   ]
  },
  {
   "cell_type": "code",
   "execution_count": 41,
   "metadata": {},
   "outputs": [],
   "source": [
    "new_test_prediction = pd.concat([sasrec_DE_locale_prediction.iloc[ : 104568], sasrec_JP_locale_prediction.iloc[104568 : 104568 + 96467], sasrec_UK_locale_prediction.iloc[104568 + 96467: ]], axis=0)"
   ]
  },
  {
   "cell_type": "code",
   "execution_count": 42,
   "metadata": {},
   "outputs": [],
   "source": [
    "def new_pred_validation(new_pred):\n",
    "    assert len(new_pred) == len(sasrec_DE_locale_prediction)\n",
    "    assert new_pred.iloc[104567]['locale'] == 'DE'\n",
    "    assert new_pred.iloc[104568]['locale'] == 'JP'\n",
    "    assert new_pred.iloc[104568 + 96467 - 1]['locale'] == 'JP'\n",
    "    assert new_pred.iloc[104568 + 96467]['locale'] == 'UK'\n",
    "    print(\"Nice!!!\")"
   ]
  },
  {
   "cell_type": "code",
   "execution_count": 43,
   "metadata": {},
   "outputs": [
    {
     "name": "stdout",
     "output_type": "stream",
     "text": [
      "Nice!!!\n"
     ]
    }
   ],
   "source": [
    "new_pred_validation(new_test_prediction)"
   ]
  },
  {
   "cell_type": "code",
   "execution_count": 44,
   "metadata": {},
   "outputs": [
    {
     "data": {
      "text/plain": [
       "count    316971.0\n",
       "mean        150.0\n",
       "std           0.0\n",
       "min         150.0\n",
       "25%         150.0\n",
       "50%         150.0\n",
       "75%         150.0\n",
       "max         150.0\n",
       "Name: next_item_prediction, dtype: float64"
      ]
     },
     "execution_count": 44,
     "metadata": {},
     "output_type": "execute_result"
    }
   ],
   "source": [
    "new_test_prediction['next_item_prediction'].apply(len).describe()"
   ]
  },
  {
   "cell_type": "code",
   "execution_count": 19,
   "metadata": {},
   "outputs": [],
   "source": [
    "new_test_prediction.to_parquet('/root/autodl-tmp/xiaolong/WorkSpace/Amazon-KDDCUP-23/predictions/SASRec_Next/kdd_cup_2023/three_locale_prediction_0416_2120.parquet', engine='pyarrow')"
   ]
  },
  {
   "attachments": {},
   "cell_type": "markdown",
   "metadata": {},
   "source": [
    "# task 3"
   ]
  },
  {
   "cell_type": "code",
   "execution_count": 3,
   "metadata": {},
   "outputs": [],
   "source": [
    "import pandas as pd \n",
    "import numpy as np\n",
    "from functools import lru_cache\n",
    "import os\n",
    "from tqdm import tqdm "
   ]
  },
  {
   "cell_type": "code",
   "execution_count": 27,
   "metadata": {},
   "outputs": [],
   "source": [
    "taske_test_path = '/root/autodl-tmp/xiaolong/WorkSpace/Amazon-KDDCUP-23/raw_data/sessions_test_task3.csv'\n",
    "sasrec_UK_locale_prediction_task3_path = '/root/autodl-tmp/xiaolong/WorkSpace/Amazon-KDDCUP-23/predictions/SASRec_Next/kdd_cup_2023_UK/2023-04-21-17-06-44.parquet'\n",
    "sasrec_DE_locale_prediction_task3_path = '/root/autodl-tmp/xiaolong/WorkSpace/Amazon-KDDCUP-23/predictions/SASRec_Next/kdd_cup_2023_DE/2023-04-21-17-04-13.parquet'\n",
    "sasrec_JP_locale_prediction_task3_path = '/root/autodl-tmp/xiaolong/WorkSpace/Amazon-KDDCUP-23/predictions/SASRec_Next/kdd_cup_2023_JP/2023-04-21-17-05-37.parquet'\n",
    "sasrec_IT_locale_prediction_task3_path = '/root/autodl-tmp/xiaolong/WorkSpace/Amazon-KDDCUP-23/predictions/SASRec_Next/kdd_cup_2023_IT/2023-04-21-17-07-42.parquet'\n",
    "sasrec_ES_locale_prediction_task3_path = '/root/autodl-tmp/xiaolong/WorkSpace/Amazon-KDDCUP-23/predictions/SASRec_Next/kdd_cup_2023_ES/2023-04-21-17-08-33.parquet'\n",
    "sasrec_FR_locale_prediction_task3_path = '/root/autodl-tmp/xiaolong/WorkSpace/Amazon-KDDCUP-23/predictions/SASRec_Next/kdd_cup_2023_FR/2023-04-21-17-09-29.parquet'"
   ]
  },
  {
   "cell_type": "code",
   "execution_count": 31,
   "metadata": {},
   "outputs": [],
   "source": [
    "@lru_cache(maxsize=1)\n",
    "def read_task3_test():\n",
    "    return pd.read_csv(taske_test_path, engine='pyarrow')\n",
    "\n",
    "@lru_cache(maxsize=1)\n",
    "def read_sasrec_UK_locale_prediction():\n",
    "    return pd.read_parquet(sasrec_UK_locale_prediction_task3_path, engine='pyarrow')\n",
    "\n",
    "@lru_cache(maxsize=1)\n",
    "def read_sasrec_DE_locale_prediction():\n",
    "    return pd.read_parquet(sasrec_DE_locale_prediction_task3_path, engine='pyarrow')\n",
    "\n",
    "@lru_cache(maxsize=1)\n",
    "def read_sasrec_JP_locale_prediction():\n",
    "    return pd.read_parquet(sasrec_JP_locale_prediction_task3_path, engine='pyarrow')\n",
    "\n",
    "@lru_cache(maxsize=1)\n",
    "def read_sasrec_IT_locale_prediction():\n",
    "    return pd.read_parquet(sasrec_IT_locale_prediction_task3_path, engine='pyarrow')\n",
    "\n",
    "@lru_cache(maxsize=1)\n",
    "def read_sasrec_ES_locale_prediction():\n",
    "    return pd.read_parquet(sasrec_ES_locale_prediction_task3_path, engine='pyarrow')\n",
    "\n",
    "@lru_cache(maxsize=1)\n",
    "def read_sasrec_FR_locale_prediction():\n",
    "    return pd.read_parquet(sasrec_FR_locale_prediction_task3_path, engine='pyarrow')"
   ]
  },
  {
   "cell_type": "code",
   "execution_count": 32,
   "metadata": {},
   "outputs": [],
   "source": [
    "task3_DE_prediction = read_sasrec_DE_locale_prediction()\n",
    "task3_DE_prediction = task3_DE_prediction[task3_DE_prediction['locale'] == 'DE']\n",
    "\n",
    "task3_JP_prediction = read_sasrec_JP_locale_prediction()\n",
    "task3_JP_prediction = task3_JP_prediction[task3_JP_prediction['locale'] == 'JP']\n",
    "\n",
    "task3_UK_prediction = read_sasrec_UK_locale_prediction()\n",
    "task3_UK_prediction = task3_UK_prediction[task3_UK_prediction['locale'] == 'UK']\n",
    "\n",
    "task3_IT_prediction = read_sasrec_IT_locale_prediction()\n",
    "task3_IT_prediction = task3_IT_prediction[task3_IT_prediction['locale'] == 'IT']\n",
    "\n",
    "task3_ES_prediction = read_sasrec_ES_locale_prediction()\n",
    "task3_ES_prediction = task3_ES_prediction[task3_ES_prediction['locale'] == 'ES']\n",
    "\n",
    "task3_FR_prediction = read_sasrec_FR_locale_prediction()\n",
    "task3_FR_prediction = task3_FR_prediction[task3_FR_prediction['locale'] == 'FR']"
   ]
  },
  {
   "cell_type": "code",
   "execution_count": 33,
   "metadata": {},
   "outputs": [],
   "source": [
    "task3_test_sessions = read_task3_test()"
   ]
  },
  {
   "cell_type": "code",
   "execution_count": 34,
   "metadata": {},
   "outputs": [
    {
     "data": {
      "text/html": [
       "<div>\n",
       "<style scoped>\n",
       "    .dataframe tbody tr th:only-of-type {\n",
       "        vertical-align: middle;\n",
       "    }\n",
       "\n",
       "    .dataframe tbody tr th {\n",
       "        vertical-align: top;\n",
       "    }\n",
       "\n",
       "    .dataframe thead th {\n",
       "        text-align: right;\n",
       "    }\n",
       "</style>\n",
       "<table border=\"1\" class=\"dataframe\">\n",
       "  <thead>\n",
       "    <tr style=\"text-align: right;\">\n",
       "      <th></th>\n",
       "      <th>prev_items</th>\n",
       "      <th>locale</th>\n",
       "    </tr>\n",
       "  </thead>\n",
       "  <tbody>\n",
       "    <tr>\n",
       "      <th>0</th>\n",
       "      <td>['B082DLM3NZ' 'B089X86H73']</td>\n",
       "      <td>ES</td>\n",
       "    </tr>\n",
       "    <tr>\n",
       "      <th>1</th>\n",
       "      <td>['B071WPLND2' 'B08TMJ9SDZ' 'B07XRCLVYG']</td>\n",
       "      <td>ES</td>\n",
       "    </tr>\n",
       "    <tr>\n",
       "      <th>2</th>\n",
       "      <td>['B094V8G54H' 'B094V97YV8']</td>\n",
       "      <td>ES</td>\n",
       "    </tr>\n",
       "    <tr>\n",
       "      <th>3</th>\n",
       "      <td>['B0B3DQXY57' 'B0B6W3GGTM']</td>\n",
       "      <td>ES</td>\n",
       "    </tr>\n",
       "    <tr>\n",
       "      <th>4</th>\n",
       "      <td>['B0765BPD7T' 'B00V4PQY3C' 'B09HWV4MBK']</td>\n",
       "      <td>ES</td>\n",
       "    </tr>\n",
       "    <tr>\n",
       "      <th>...</th>\n",
       "      <td>...</td>\n",
       "      <td>...</td>\n",
       "    </tr>\n",
       "    <tr>\n",
       "      <th>56416</th>\n",
       "      <td>['B08GNG5FMW' 'B08Q7MJW8W']</td>\n",
       "      <td>UK</td>\n",
       "    </tr>\n",
       "    <tr>\n",
       "      <th>56417</th>\n",
       "      <td>['B09YH16XH1' 'B09YGY96ZM']</td>\n",
       "      <td>UK</td>\n",
       "    </tr>\n",
       "    <tr>\n",
       "      <th>56418</th>\n",
       "      <td>['B00EXKSNNE' 'B005DBORH8' 'B005DBORCS' 'B005D...</td>\n",
       "      <td>UK</td>\n",
       "    </tr>\n",
       "    <tr>\n",
       "      <th>56419</th>\n",
       "      <td>['B007CJVZ1A' 'B07GCSPHNK' 'B07GCVF3N3']</td>\n",
       "      <td>UK</td>\n",
       "    </tr>\n",
       "    <tr>\n",
       "      <th>56420</th>\n",
       "      <td>['B07NBPTPD9' 'B01H2SPJGC']</td>\n",
       "      <td>UK</td>\n",
       "    </tr>\n",
       "  </tbody>\n",
       "</table>\n",
       "<p>56421 rows × 2 columns</p>\n",
       "</div>"
      ],
      "text/plain": [
       "                                              prev_items locale\n",
       "0                            ['B082DLM3NZ' 'B089X86H73']     ES\n",
       "1               ['B071WPLND2' 'B08TMJ9SDZ' 'B07XRCLVYG']     ES\n",
       "2                            ['B094V8G54H' 'B094V97YV8']     ES\n",
       "3                            ['B0B3DQXY57' 'B0B6W3GGTM']     ES\n",
       "4               ['B0765BPD7T' 'B00V4PQY3C' 'B09HWV4MBK']     ES\n",
       "...                                                  ...    ...\n",
       "56416                        ['B08GNG5FMW' 'B08Q7MJW8W']     UK\n",
       "56417                        ['B09YH16XH1' 'B09YGY96ZM']     UK\n",
       "56418  ['B00EXKSNNE' 'B005DBORH8' 'B005DBORCS' 'B005D...     UK\n",
       "56419           ['B007CJVZ1A' 'B07GCSPHNK' 'B07GCVF3N3']     UK\n",
       "56420                        ['B07NBPTPD9' 'B01H2SPJGC']     UK\n",
       "\n",
       "[56421 rows x 2 columns]"
      ]
     },
     "execution_count": 34,
     "metadata": {},
     "output_type": "execute_result"
    }
   ],
   "source": [
    "task3_test_sessions"
   ]
  },
  {
   "cell_type": "code",
   "execution_count": 43,
   "metadata": {},
   "outputs": [],
   "source": [
    "# ES : [0, 6420], DE : [6421, 16420], FR : [16421, 26420], IT : [26421, 36420], JP : [36421, 46420], UK : [46421, 56420]\n",
    "new_test_prediction_task3 = pd.concat([task3_ES_prediction, task3_DE_prediction, task3_FR_prediction, task3_IT_prediction, task3_JP_prediction, task3_UK_prediction], axis=0)"
   ]
  },
  {
   "cell_type": "code",
   "execution_count": 52,
   "metadata": {},
   "outputs": [],
   "source": [
    "new_test_prediction_task3.to_parquet('/root/autodl-tmp/xiaolong/WorkSpace/Amazon-KDDCUP-23/predictions/SASRec_Next/kdd_cup_2023/task3_six_locale_prediction_0421_1731.parquet', engine='pyarrow')"
   ]
  }
 ],
 "metadata": {
  "kernelspec": {
   "display_name": "torch12",
   "language": "python",
   "name": "python3"
  },
  "language_info": {
   "codemirror_mode": {
    "name": "ipython",
    "version": 3
   },
   "file_extension": ".py",
   "mimetype": "text/x-python",
   "name": "python",
   "nbconvert_exporter": "python",
   "pygments_lexer": "ipython3",
   "version": "3.9.16"
  },
  "orig_nbformat": 4
 },
 "nbformat": 4,
 "nbformat_minor": 2
}
