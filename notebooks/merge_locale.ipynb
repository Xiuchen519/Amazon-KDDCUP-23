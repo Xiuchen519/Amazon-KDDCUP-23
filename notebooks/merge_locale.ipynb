{
 "cells": [
  {
   "cell_type": "code",
   "execution_count": 1,
   "metadata": {},
   "outputs": [],
   "source": [
    "import pandas as pd \n",
    "import numpy as np\n",
    "from functools import lru_cache\n",
    "import os\n",
    "from tqdm import tqdm \n",
    "from copy import deepcopy"
   ]
  },
  {
   "cell_type": "code",
   "execution_count": 3,
   "metadata": {},
   "outputs": [],
   "source": [
    "sasrec_UK_locale_prediction_path = '/root/autodl-tmp/xiaolong/WorkSpace/Amazon-KDDCUP-23/predictions/SASRec_Next/kdd_cup_2023_UK/2023-05-07-03-21-09.parquet'\n",
    "sasrec_DE_locale_prediction_path = '/root/autodl-tmp/xiaolong/WorkSpace/Amazon-KDDCUP-23/predictions/SASRec_Next/kdd_cup_2023_DE/2023-05-10-19-55-32.parquet'\n",
    "sasrec_JP_locale_prediction_path = '/root/autodl-tmp/xiaolong/WorkSpace/Amazon-KDDCUP-23/predictions/SASRec_Next/kdd_cup_2023_JP/2023-05-11-04-25-17.parquet'"
   ]
  },
  {
   "cell_type": "code",
   "execution_count": 4,
   "metadata": {},
   "outputs": [],
   "source": [
    "\n",
    "@lru_cache(maxsize=1)\n",
    "def read_all_valid_sessions():\n",
    "    return pd.read_csv('/root/autodl-tmp/xiaolong/WorkSpace/Amazon-KDDCUP-23/data_for_recstudio/task1_data/task13_4_task1_valid_sessions.csv')\n",
    "\n",
    "@lru_cache(maxsize=1)\n",
    "def read_sasrec_UK_locale_prediction():\n",
    "    return pd.read_parquet(sasrec_UK_locale_prediction_path, engine='pyarrow')\n",
    "\n",
    "@lru_cache(maxsize=1)\n",
    "def read_sasrec_DE_locale_prediction():\n",
    "    return pd.read_parquet(sasrec_DE_locale_prediction_path, engine='pyarrow')\n",
    "\n",
    "@lru_cache(maxsize=1)\n",
    "def read_sasrec_JP_locale_prediction():\n",
    "    return pd.read_parquet(sasrec_JP_locale_prediction_path, engine='pyarrow')"
   ]
  },
  {
   "attachments": {},
   "cell_type": "markdown",
   "metadata": {},
   "source": [
    "# task1 validation"
   ]
  },
  {
   "cell_type": "code",
   "execution_count": 17,
   "metadata": {},
   "outputs": [],
   "source": [
    "sasrec_valid_sessions = read_all_valid_sessions()"
   ]
  },
  {
   "cell_type": "code",
   "execution_count": 13,
   "metadata": {},
   "outputs": [
    {
     "data": {
      "text/plain": [
       "(361581, 300)"
      ]
     },
     "execution_count": 13,
     "metadata": {},
     "output_type": "execute_result"
    }
   ],
   "source": [
    "sasrec_UK_locale_prediction = read_sasrec_UK_locale_prediction()\n",
    "len(sasrec_UK_locale_prediction), len(sasrec_UK_locale_prediction.iloc[0]['candidates'])"
   ]
  },
  {
   "cell_type": "code",
   "execution_count": 14,
   "metadata": {},
   "outputs": [
    {
     "data": {
      "text/plain": [
       "(361581, 300)"
      ]
     },
     "execution_count": 14,
     "metadata": {},
     "output_type": "execute_result"
    }
   ],
   "source": [
    "sasrec_DE_locale_prediction = read_sasrec_DE_locale_prediction()\n",
    "len(sasrec_DE_locale_prediction), len(sasrec_DE_locale_prediction.iloc[0]['candidates'])"
   ]
  },
  {
   "cell_type": "code",
   "execution_count": 15,
   "metadata": {},
   "outputs": [
    {
     "data": {
      "text/plain": [
       "(361581, 300)"
      ]
     },
     "execution_count": 15,
     "metadata": {},
     "output_type": "execute_result"
    }
   ],
   "source": [
    "sasrec_JP_locale_prediction = read_sasrec_JP_locale_prediction()\n",
    "len(sasrec_JP_locale_prediction), len(sasrec_JP_locale_prediction.iloc[0]['candidates'])"
   ]
  },
  {
   "cell_type": "code",
   "execution_count": 16,
   "metadata": {},
   "outputs": [
    {
     "data": {
      "text/html": [
       "<div>\n",
       "<style scoped>\n",
       "    .dataframe tbody tr th:only-of-type {\n",
       "        vertical-align: middle;\n",
       "    }\n",
       "\n",
       "    .dataframe tbody tr th {\n",
       "        vertical-align: top;\n",
       "    }\n",
       "\n",
       "    .dataframe thead th {\n",
       "        text-align: right;\n",
       "    }\n",
       "</style>\n",
       "<table border=\"1\" class=\"dataframe\">\n",
       "  <thead>\n",
       "    <tr style=\"text-align: right;\">\n",
       "      <th></th>\n",
       "      <th>locale</th>\n",
       "      <th>candidates</th>\n",
       "      <th>sess_id</th>\n",
       "      <th>scores</th>\n",
       "    </tr>\n",
       "  </thead>\n",
       "  <tbody>\n",
       "    <tr>\n",
       "      <th>0</th>\n",
       "      <td>[PAD]</td>\n",
       "      <td>[B07BP8ZBJK, B01CODB5T0, B01CODB64E, B019BWJT0...</td>\n",
       "      <td>0</td>\n",
       "      <td>[nan, nan, nan, nan, nan, nan, nan, nan, nan, ...</td>\n",
       "    </tr>\n",
       "    <tr>\n",
       "      <th>1</th>\n",
       "      <td>JP</td>\n",
       "      <td>[B09LCPT9DQ, B09MRYK5CV, B092D5HM5S, B0797D6F3...</td>\n",
       "      <td>1</td>\n",
       "      <td>[17.74812889099121, 14.109373092651367, 12.546...</td>\n",
       "    </tr>\n",
       "    <tr>\n",
       "      <th>2</th>\n",
       "      <td>[PAD]</td>\n",
       "      <td>[B07BP8ZBJK, B01CODB5T0, B01CODB64E, B019BWJT0...</td>\n",
       "      <td>2</td>\n",
       "      <td>[nan, nan, nan, nan, nan, nan, nan, nan, nan, ...</td>\n",
       "    </tr>\n",
       "    <tr>\n",
       "      <th>3</th>\n",
       "      <td>[PAD]</td>\n",
       "      <td>[B07BP8ZBJK, B01CODB5T0, B01CODB64E, B019BWJT0...</td>\n",
       "      <td>3</td>\n",
       "      <td>[nan, nan, nan, nan, nan, nan, nan, nan, nan, ...</td>\n",
       "    </tr>\n",
       "    <tr>\n",
       "      <th>4</th>\n",
       "      <td>JP</td>\n",
       "      <td>[B0B6PF619D, B09BJF6N8K, B0B6P77ZRN, B0B6P2PCM...</td>\n",
       "      <td>4</td>\n",
       "      <td>[21.915809631347656, 20.597021102905273, 19.71...</td>\n",
       "    </tr>\n",
       "    <tr>\n",
       "      <th>...</th>\n",
       "      <td>...</td>\n",
       "      <td>...</td>\n",
       "      <td>...</td>\n",
       "      <td>...</td>\n",
       "    </tr>\n",
       "    <tr>\n",
       "      <th>361576</th>\n",
       "      <td>[PAD]</td>\n",
       "      <td>[B07BP8ZBJK, B01CODB5T0, B01CODB64E, B019BWJT0...</td>\n",
       "      <td>361576</td>\n",
       "      <td>[nan, nan, nan, nan, nan, nan, nan, nan, nan, ...</td>\n",
       "    </tr>\n",
       "    <tr>\n",
       "      <th>361577</th>\n",
       "      <td>JP</td>\n",
       "      <td>[B09BCM5NL1, B09B9V4PXC, B09XH1YGLL, B09XGRXXG...</td>\n",
       "      <td>361577</td>\n",
       "      <td>[13.340217590332031, 12.540390014648438, 12.30...</td>\n",
       "    </tr>\n",
       "    <tr>\n",
       "      <th>361578</th>\n",
       "      <td>[PAD]</td>\n",
       "      <td>[B07BP8ZBJK, B01CODB5T0, B01CODB64E, B019BWJT0...</td>\n",
       "      <td>361578</td>\n",
       "      <td>[nan, nan, nan, nan, nan, nan, nan, nan, nan, ...</td>\n",
       "    </tr>\n",
       "    <tr>\n",
       "      <th>361579</th>\n",
       "      <td>[PAD]</td>\n",
       "      <td>[B07BP8ZBJK, B01CODB5T0, B01CODB64E, B019BWJT0...</td>\n",
       "      <td>361579</td>\n",
       "      <td>[nan, nan, nan, nan, nan, nan, nan, nan, nan, ...</td>\n",
       "    </tr>\n",
       "    <tr>\n",
       "      <th>361580</th>\n",
       "      <td>[PAD]</td>\n",
       "      <td>[B07BP8ZBJK, B01CODB5T0, B01CODB64E, B019BWJT0...</td>\n",
       "      <td>361580</td>\n",
       "      <td>[nan, nan, nan, nan, nan, nan, nan, nan, nan, ...</td>\n",
       "    </tr>\n",
       "  </tbody>\n",
       "</table>\n",
       "<p>361581 rows × 4 columns</p>\n",
       "</div>"
      ],
      "text/plain": [
       "       locale                                         candidates sess_id  \\\n",
       "0       [PAD]  [B07BP8ZBJK, B01CODB5T0, B01CODB64E, B019BWJT0...       0   \n",
       "1          JP  [B09LCPT9DQ, B09MRYK5CV, B092D5HM5S, B0797D6F3...       1   \n",
       "2       [PAD]  [B07BP8ZBJK, B01CODB5T0, B01CODB64E, B019BWJT0...       2   \n",
       "3       [PAD]  [B07BP8ZBJK, B01CODB5T0, B01CODB64E, B019BWJT0...       3   \n",
       "4          JP  [B0B6PF619D, B09BJF6N8K, B0B6P77ZRN, B0B6P2PCM...       4   \n",
       "...       ...                                                ...     ...   \n",
       "361576  [PAD]  [B07BP8ZBJK, B01CODB5T0, B01CODB64E, B019BWJT0...  361576   \n",
       "361577     JP  [B09BCM5NL1, B09B9V4PXC, B09XH1YGLL, B09XGRXXG...  361577   \n",
       "361578  [PAD]  [B07BP8ZBJK, B01CODB5T0, B01CODB64E, B019BWJT0...  361578   \n",
       "361579  [PAD]  [B07BP8ZBJK, B01CODB5T0, B01CODB64E, B019BWJT0...  361579   \n",
       "361580  [PAD]  [B07BP8ZBJK, B01CODB5T0, B01CODB64E, B019BWJT0...  361580   \n",
       "\n",
       "                                                   scores  \n",
       "0       [nan, nan, nan, nan, nan, nan, nan, nan, nan, ...  \n",
       "1       [17.74812889099121, 14.109373092651367, 12.546...  \n",
       "2       [nan, nan, nan, nan, nan, nan, nan, nan, nan, ...  \n",
       "3       [nan, nan, nan, nan, nan, nan, nan, nan, nan, ...  \n",
       "4       [21.915809631347656, 20.597021102905273, 19.71...  \n",
       "...                                                   ...  \n",
       "361576  [nan, nan, nan, nan, nan, nan, nan, nan, nan, ...  \n",
       "361577  [13.340217590332031, 12.540390014648438, 12.30...  \n",
       "361578  [nan, nan, nan, nan, nan, nan, nan, nan, nan, ...  \n",
       "361579  [nan, nan, nan, nan, nan, nan, nan, nan, nan, ...  \n",
       "361580  [nan, nan, nan, nan, nan, nan, nan, nan, nan, ...  \n",
       "\n",
       "[361581 rows x 4 columns]"
      ]
     },
     "execution_count": 16,
     "metadata": {},
     "output_type": "execute_result"
    }
   ],
   "source": [
    "sasrec_JP_locale_prediction"
   ]
  },
  {
   "cell_type": "code",
   "execution_count": 24,
   "metadata": {},
   "outputs": [],
   "source": [
    "sasrec_merged_valid_prediction = deepcopy(sasrec_DE_locale_prediction)"
   ]
  },
  {
   "cell_type": "code",
   "execution_count": 25,
   "metadata": {},
   "outputs": [],
   "source": [
    "sasrec_merged_valid_prediction[sasrec_valid_sessions['locale'] == 'JP'] = sasrec_JP_locale_prediction[sasrec_valid_sessions['locale'] == 'JP']"
   ]
  },
  {
   "cell_type": "code",
   "execution_count": 27,
   "metadata": {},
   "outputs": [],
   "source": [
    "sasrec_merged_valid_prediction[sasrec_valid_sessions['locale'] == 'UK'] = sasrec_UK_locale_prediction[sasrec_valid_sessions['locale'] == 'UK']"
   ]
  },
  {
   "cell_type": "code",
   "execution_count": 29,
   "metadata": {},
   "outputs": [],
   "source": [
    "def cal_hit_and_mrr(ground_truth_list, candidates_list):\n",
    "    hits, mrrs = [], []\n",
    "    for i in tqdm(range(len(ground_truth_list))):\n",
    "        ground_truth = ground_truth_list.iloc[i]\n",
    "        candidates = candidates_list.iloc[i]\n",
    "        hit, mrr = 0.0, 0.0\n",
    "        for j in range(len(candidates)):\n",
    "            if ground_truth == candidates[j]:\n",
    "                hit = 1.0\n",
    "                mrr = 1.0 / (j + 1)\n",
    "                break\n",
    "        hits.append(hit)\n",
    "        mrrs.append(mrr)\n",
    "    return np.array(hits).mean(), np.array(mrrs).mean()"
   ]
  },
  {
   "cell_type": "code",
   "execution_count": 31,
   "metadata": {},
   "outputs": [
    {
     "name": "stderr",
     "output_type": "stream",
     "text": [
      "100%|██████████| 361581/361581 [00:09<00:00, 36467.17it/s]\n"
     ]
    },
    {
     "data": {
      "text/plain": [
       "(0.6773447719874661, 0.30861870792730345)"
      ]
     },
     "execution_count": 31,
     "metadata": {},
     "output_type": "execute_result"
    }
   ],
   "source": [
    "cal_hit_and_mrr(sasrec_valid_sessions['next_item'], sasrec_merged_valid_prediction['candidates'])"
   ]
  },
  {
   "cell_type": "code",
   "execution_count": 34,
   "metadata": {},
   "outputs": [],
   "source": [
    "sasrec_merged_valid_prediction['candidates'] = sasrec_merged_valid_prediction['candidates'].apply(lambda x : x[:100])\n",
    "sasrec_merged_valid_prediction['scores'] = sasrec_merged_valid_prediction['scores'].apply(lambda x : x[:100])"
   ]
  },
  {
   "cell_type": "code",
   "execution_count": 36,
   "metadata": {},
   "outputs": [
    {
     "data": {
      "text/plain": [
       "count    361581.0\n",
       "mean        100.0\n",
       "std           0.0\n",
       "min         100.0\n",
       "25%         100.0\n",
       "50%         100.0\n",
       "75%         100.0\n",
       "max         100.0\n",
       "Name: scores, dtype: float64"
      ]
     },
     "execution_count": 36,
     "metadata": {},
     "output_type": "execute_result"
    }
   ],
   "source": [
    "sasrec_merged_valid_prediction['scores'].apply(len).describe()"
   ]
  },
  {
   "cell_type": "code",
   "execution_count": null,
   "metadata": {},
   "outputs": [],
   "source": [
    "sasrec_merged_valid_prediction.to_parquet('../candidates/SASRec_Next/seperate_locale/SASRec_Next_04_26_15_26_valid_with_score.parquet')"
   ]
  },
  {
   "attachments": {},
   "cell_type": "markdown",
   "metadata": {},
   "source": [
    "# task 1 "
   ]
  },
  {
   "cell_type": "code",
   "execution_count": 5,
   "metadata": {},
   "outputs": [
    {
     "data": {
      "text/plain": [
       "(316971, 100)"
      ]
     },
     "execution_count": 5,
     "metadata": {},
     "output_type": "execute_result"
    }
   ],
   "source": [
    "sasrec_UK_locale_prediction = read_sasrec_UK_locale_prediction()\n",
    "len(sasrec_UK_locale_prediction), len(sasrec_UK_locale_prediction.iloc[0]['next_item_prediction'])"
   ]
  },
  {
   "cell_type": "code",
   "execution_count": 6,
   "metadata": {},
   "outputs": [
    {
     "data": {
      "text/plain": [
       "(316971, 100)"
      ]
     },
     "execution_count": 6,
     "metadata": {},
     "output_type": "execute_result"
    }
   ],
   "source": [
    "sasrec_DE_locale_prediction = read_sasrec_DE_locale_prediction()\n",
    "len(sasrec_DE_locale_prediction), len(sasrec_DE_locale_prediction.iloc[0]['next_item_prediction'])"
   ]
  },
  {
   "cell_type": "code",
   "execution_count": 7,
   "metadata": {},
   "outputs": [
    {
     "data": {
      "text/plain": [
       "(316971, 100)"
      ]
     },
     "execution_count": 7,
     "metadata": {},
     "output_type": "execute_result"
    }
   ],
   "source": [
    "sasrec_JP_locale_prediction = read_sasrec_JP_locale_prediction()\n",
    "len(sasrec_JP_locale_prediction), len(sasrec_JP_locale_prediction.iloc[0]['next_item_prediction'])"
   ]
  },
  {
   "cell_type": "code",
   "execution_count": 8,
   "metadata": {},
   "outputs": [
    {
     "data": {
      "text/plain": [
       "104568"
      ]
     },
     "execution_count": 8,
     "metadata": {},
     "output_type": "execute_result"
    }
   ],
   "source": [
    "len(sasrec_DE_locale_prediction[sasrec_DE_locale_prediction['locale'] == 'DE'])"
   ]
  },
  {
   "cell_type": "code",
   "execution_count": 9,
   "metadata": {},
   "outputs": [
    {
     "data": {
      "text/plain": [
       "96467"
      ]
     },
     "execution_count": 9,
     "metadata": {},
     "output_type": "execute_result"
    }
   ],
   "source": [
    "len(sasrec_JP_locale_prediction[sasrec_JP_locale_prediction['locale'] == 'JP'])"
   ]
  },
  {
   "cell_type": "code",
   "execution_count": 10,
   "metadata": {},
   "outputs": [
    {
     "data": {
      "text/plain": [
       "115936"
      ]
     },
     "execution_count": 10,
     "metadata": {},
     "output_type": "execute_result"
    }
   ],
   "source": [
    "len(sasrec_UK_locale_prediction[sasrec_UK_locale_prediction['locale'] == 'UK'])"
   ]
  },
  {
   "cell_type": "code",
   "execution_count": 11,
   "metadata": {},
   "outputs": [],
   "source": [
    "new_test_prediction = pd.concat([sasrec_DE_locale_prediction.iloc[ : 104568], sasrec_JP_locale_prediction.iloc[104568 : 104568 + 96467], sasrec_UK_locale_prediction.iloc[104568 + 96467: ]], axis=0)"
   ]
  },
  {
   "cell_type": "code",
   "execution_count": 12,
   "metadata": {},
   "outputs": [],
   "source": [
    "def new_pred_validation(new_pred):\n",
    "    assert len(new_pred) == len(sasrec_DE_locale_prediction)\n",
    "    assert new_pred.iloc[104567]['locale'] == 'DE'\n",
    "    assert new_pred.iloc[104568]['locale'] == 'JP'\n",
    "    assert new_pred.iloc[104568 + 96467 - 1]['locale'] == 'JP'\n",
    "    assert new_pred.iloc[104568 + 96467]['locale'] == 'UK'\n",
    "    print(\"Nice!!!\")"
   ]
  },
  {
   "cell_type": "code",
   "execution_count": 13,
   "metadata": {},
   "outputs": [
    {
     "name": "stdout",
     "output_type": "stream",
     "text": [
      "Nice!!!\n"
     ]
    }
   ],
   "source": [
    "new_pred_validation(new_test_prediction)"
   ]
  },
  {
   "cell_type": "code",
   "execution_count": 14,
   "metadata": {},
   "outputs": [
    {
     "data": {
      "text/plain": [
       "count    316971.0\n",
       "mean        100.0\n",
       "std           0.0\n",
       "min         100.0\n",
       "25%         100.0\n",
       "50%         100.0\n",
       "75%         100.0\n",
       "max         100.0\n",
       "Name: next_item_prediction, dtype: float64"
      ]
     },
     "execution_count": 14,
     "metadata": {},
     "output_type": "execute_result"
    }
   ],
   "source": [
    "new_test_prediction['next_item_prediction'].apply(len).describe()"
   ]
  },
  {
   "cell_type": "code",
   "execution_count": 15,
   "metadata": {},
   "outputs": [],
   "source": [
    "new_test_prediction['next_item_prediction'] = new_test_prediction['next_item_prediction'].apply(lambda x : x[:100])"
   ]
  },
  {
   "cell_type": "code",
   "execution_count": 19,
   "metadata": {},
   "outputs": [],
   "source": [
    "new_test_prediction.to_parquet('/root/autodl-tmp/xiaolong/WorkSpace/Amazon-KDDCUP-23/predictions/SASRec_Next/kdd_cup_2023/three_locale_prediction_three_layers_0511_2055.parquet', engine='pyarrow')"
   ]
  },
  {
   "attachments": {},
   "cell_type": "markdown",
   "metadata": {},
   "source": [
    "# task 3"
   ]
  },
  {
   "cell_type": "code",
   "execution_count": 3,
   "metadata": {},
   "outputs": [],
   "source": [
    "import pandas as pd \n",
    "import numpy as np\n",
    "from functools import lru_cache\n",
    "import os\n",
    "from tqdm import tqdm "
   ]
  },
  {
   "cell_type": "code",
   "execution_count": 27,
   "metadata": {},
   "outputs": [],
   "source": [
    "taske_test_path = '/root/autodl-tmp/xiaolong/WorkSpace/Amazon-KDDCUP-23/raw_data/sessions_test_task3.csv'\n",
    "sasrec_UK_locale_prediction_task3_path = '/root/autodl-tmp/xiaolong/WorkSpace/Amazon-KDDCUP-23/predictions/SASRec_Next/kdd_cup_2023_UK/2023-04-21-17-06-44.parquet'\n",
    "sasrec_DE_locale_prediction_task3_path = '/root/autodl-tmp/xiaolong/WorkSpace/Amazon-KDDCUP-23/predictions/SASRec_Next/kdd_cup_2023_DE/2023-04-21-17-04-13.parquet'\n",
    "sasrec_JP_locale_prediction_task3_path = '/root/autodl-tmp/xiaolong/WorkSpace/Amazon-KDDCUP-23/predictions/SASRec_Next/kdd_cup_2023_JP/2023-04-21-17-05-37.parquet'\n",
    "sasrec_IT_locale_prediction_task3_path = '/root/autodl-tmp/xiaolong/WorkSpace/Amazon-KDDCUP-23/predictions/SASRec_Next/kdd_cup_2023_IT/2023-04-21-17-07-42.parquet'\n",
    "sasrec_ES_locale_prediction_task3_path = '/root/autodl-tmp/xiaolong/WorkSpace/Amazon-KDDCUP-23/predictions/SASRec_Next/kdd_cup_2023_ES/2023-04-21-17-08-33.parquet'\n",
    "sasrec_FR_locale_prediction_task3_path = '/root/autodl-tmp/xiaolong/WorkSpace/Amazon-KDDCUP-23/predictions/SASRec_Next/kdd_cup_2023_FR/2023-04-21-17-09-29.parquet'"
   ]
  },
  {
   "cell_type": "code",
   "execution_count": 31,
   "metadata": {},
   "outputs": [],
   "source": [
    "@lru_cache(maxsize=1)\n",
    "def read_task3_test():\n",
    "    return pd.read_csv(taske_test_path, engine='pyarrow')\n",
    "\n",
    "@lru_cache(maxsize=1)\n",
    "def read_sasrec_UK_locale_prediction():\n",
    "    return pd.read_parquet(sasrec_UK_locale_prediction_task3_path, engine='pyarrow')\n",
    "\n",
    "@lru_cache(maxsize=1)\n",
    "def read_sasrec_DE_locale_prediction():\n",
    "    return pd.read_parquet(sasrec_DE_locale_prediction_task3_path, engine='pyarrow')\n",
    "\n",
    "@lru_cache(maxsize=1)\n",
    "def read_sasrec_JP_locale_prediction():\n",
    "    return pd.read_parquet(sasrec_JP_locale_prediction_task3_path, engine='pyarrow')\n",
    "\n",
    "@lru_cache(maxsize=1)\n",
    "def read_sasrec_IT_locale_prediction():\n",
    "    return pd.read_parquet(sasrec_IT_locale_prediction_task3_path, engine='pyarrow')\n",
    "\n",
    "@lru_cache(maxsize=1)\n",
    "def read_sasrec_ES_locale_prediction():\n",
    "    return pd.read_parquet(sasrec_ES_locale_prediction_task3_path, engine='pyarrow')\n",
    "\n",
    "@lru_cache(maxsize=1)\n",
    "def read_sasrec_FR_locale_prediction():\n",
    "    return pd.read_parquet(sasrec_FR_locale_prediction_task3_path, engine='pyarrow')"
   ]
  },
  {
   "cell_type": "code",
   "execution_count": 32,
   "metadata": {},
   "outputs": [],
   "source": [
    "task3_DE_prediction = read_sasrec_DE_locale_prediction()\n",
    "task3_DE_prediction = task3_DE_prediction[task3_DE_prediction['locale'] == 'DE']\n",
    "\n",
    "task3_JP_prediction = read_sasrec_JP_locale_prediction()\n",
    "task3_JP_prediction = task3_JP_prediction[task3_JP_prediction['locale'] == 'JP']\n",
    "\n",
    "task3_UK_prediction = read_sasrec_UK_locale_prediction()\n",
    "task3_UK_prediction = task3_UK_prediction[task3_UK_prediction['locale'] == 'UK']\n",
    "\n",
    "task3_IT_prediction = read_sasrec_IT_locale_prediction()\n",
    "task3_IT_prediction = task3_IT_prediction[task3_IT_prediction['locale'] == 'IT']\n",
    "\n",
    "task3_ES_prediction = read_sasrec_ES_locale_prediction()\n",
    "task3_ES_prediction = task3_ES_prediction[task3_ES_prediction['locale'] == 'ES']\n",
    "\n",
    "task3_FR_prediction = read_sasrec_FR_locale_prediction()\n",
    "task3_FR_prediction = task3_FR_prediction[task3_FR_prediction['locale'] == 'FR']"
   ]
  },
  {
   "cell_type": "code",
   "execution_count": 33,
   "metadata": {},
   "outputs": [],
   "source": [
    "task3_test_sessions = read_task3_test()"
   ]
  },
  {
   "cell_type": "code",
   "execution_count": 34,
   "metadata": {},
   "outputs": [
    {
     "data": {
      "text/html": [
       "<div>\n",
       "<style scoped>\n",
       "    .dataframe tbody tr th:only-of-type {\n",
       "        vertical-align: middle;\n",
       "    }\n",
       "\n",
       "    .dataframe tbody tr th {\n",
       "        vertical-align: top;\n",
       "    }\n",
       "\n",
       "    .dataframe thead th {\n",
       "        text-align: right;\n",
       "    }\n",
       "</style>\n",
       "<table border=\"1\" class=\"dataframe\">\n",
       "  <thead>\n",
       "    <tr style=\"text-align: right;\">\n",
       "      <th></th>\n",
       "      <th>prev_items</th>\n",
       "      <th>locale</th>\n",
       "    </tr>\n",
       "  </thead>\n",
       "  <tbody>\n",
       "    <tr>\n",
       "      <th>0</th>\n",
       "      <td>['B082DLM3NZ' 'B089X86H73']</td>\n",
       "      <td>ES</td>\n",
       "    </tr>\n",
       "    <tr>\n",
       "      <th>1</th>\n",
       "      <td>['B071WPLND2' 'B08TMJ9SDZ' 'B07XRCLVYG']</td>\n",
       "      <td>ES</td>\n",
       "    </tr>\n",
       "    <tr>\n",
       "      <th>2</th>\n",
       "      <td>['B094V8G54H' 'B094V97YV8']</td>\n",
       "      <td>ES</td>\n",
       "    </tr>\n",
       "    <tr>\n",
       "      <th>3</th>\n",
       "      <td>['B0B3DQXY57' 'B0B6W3GGTM']</td>\n",
       "      <td>ES</td>\n",
       "    </tr>\n",
       "    <tr>\n",
       "      <th>4</th>\n",
       "      <td>['B0765BPD7T' 'B00V4PQY3C' 'B09HWV4MBK']</td>\n",
       "      <td>ES</td>\n",
       "    </tr>\n",
       "    <tr>\n",
       "      <th>...</th>\n",
       "      <td>...</td>\n",
       "      <td>...</td>\n",
       "    </tr>\n",
       "    <tr>\n",
       "      <th>56416</th>\n",
       "      <td>['B08GNG5FMW' 'B08Q7MJW8W']</td>\n",
       "      <td>UK</td>\n",
       "    </tr>\n",
       "    <tr>\n",
       "      <th>56417</th>\n",
       "      <td>['B09YH16XH1' 'B09YGY96ZM']</td>\n",
       "      <td>UK</td>\n",
       "    </tr>\n",
       "    <tr>\n",
       "      <th>56418</th>\n",
       "      <td>['B00EXKSNNE' 'B005DBORH8' 'B005DBORCS' 'B005D...</td>\n",
       "      <td>UK</td>\n",
       "    </tr>\n",
       "    <tr>\n",
       "      <th>56419</th>\n",
       "      <td>['B007CJVZ1A' 'B07GCSPHNK' 'B07GCVF3N3']</td>\n",
       "      <td>UK</td>\n",
       "    </tr>\n",
       "    <tr>\n",
       "      <th>56420</th>\n",
       "      <td>['B07NBPTPD9' 'B01H2SPJGC']</td>\n",
       "      <td>UK</td>\n",
       "    </tr>\n",
       "  </tbody>\n",
       "</table>\n",
       "<p>56421 rows × 2 columns</p>\n",
       "</div>"
      ],
      "text/plain": [
       "                                              prev_items locale\n",
       "0                            ['B082DLM3NZ' 'B089X86H73']     ES\n",
       "1               ['B071WPLND2' 'B08TMJ9SDZ' 'B07XRCLVYG']     ES\n",
       "2                            ['B094V8G54H' 'B094V97YV8']     ES\n",
       "3                            ['B0B3DQXY57' 'B0B6W3GGTM']     ES\n",
       "4               ['B0765BPD7T' 'B00V4PQY3C' 'B09HWV4MBK']     ES\n",
       "...                                                  ...    ...\n",
       "56416                        ['B08GNG5FMW' 'B08Q7MJW8W']     UK\n",
       "56417                        ['B09YH16XH1' 'B09YGY96ZM']     UK\n",
       "56418  ['B00EXKSNNE' 'B005DBORH8' 'B005DBORCS' 'B005D...     UK\n",
       "56419           ['B007CJVZ1A' 'B07GCSPHNK' 'B07GCVF3N3']     UK\n",
       "56420                        ['B07NBPTPD9' 'B01H2SPJGC']     UK\n",
       "\n",
       "[56421 rows x 2 columns]"
      ]
     },
     "execution_count": 34,
     "metadata": {},
     "output_type": "execute_result"
    }
   ],
   "source": [
    "task3_test_sessions"
   ]
  },
  {
   "cell_type": "code",
   "execution_count": 43,
   "metadata": {},
   "outputs": [],
   "source": [
    "# ES : [0, 6420], DE : [6421, 16420], FR : [16421, 26420], IT : [26421, 36420], JP : [36421, 46420], UK : [46421, 56420]\n",
    "new_test_prediction_task3 = pd.concat([task3_ES_prediction, task3_DE_prediction, task3_FR_prediction, task3_IT_prediction, task3_JP_prediction, task3_UK_prediction], axis=0)"
   ]
  },
  {
   "cell_type": "code",
   "execution_count": 52,
   "metadata": {},
   "outputs": [],
   "source": [
    "new_test_prediction_task3.to_parquet('/root/autodl-tmp/xiaolong/WorkSpace/Amazon-KDDCUP-23/predictions/SASRec_Next/kdd_cup_2023/task3_six_locale_prediction_0421_1731.parquet', engine='pyarrow')"
   ]
  }
 ],
 "metadata": {
  "kernelspec": {
   "display_name": "torch12",
   "language": "python",
   "name": "python3"
  },
  "language_info": {
   "codemirror_mode": {
    "name": "ipython",
    "version": 3
   },
   "file_extension": ".py",
   "mimetype": "text/x-python",
   "name": "python",
   "nbconvert_exporter": "python",
   "pygments_lexer": "ipython3",
   "version": "3.9.16"
  },
  "orig_nbformat": 4
 },
 "nbformat": 4,
 "nbformat_minor": 2
}
