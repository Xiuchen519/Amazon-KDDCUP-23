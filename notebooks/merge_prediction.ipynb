{
 "cells": [
  {
   "attachments": {},
   "cell_type": "markdown",
   "metadata": {},
   "source": [
    "# Public functions"
   ]
  },
  {
   "cell_type": "code",
   "execution_count": 38,
   "metadata": {},
   "outputs": [],
   "source": [
    "import pandas as pd \n",
    "import numpy as np\n",
    "from functools import lru_cache\n",
    "import os\n",
    "from tqdm import tqdm \n",
    "import torch\n",
    "import copy \n",
    "from collections import Counter"
   ]
  },
  {
   "cell_type": "code",
   "execution_count": 60,
   "metadata": {},
   "outputs": [],
   "source": [
    "valid_sessions_path = '/root/autodl-tmp/xiaolong/WorkSpace/Amazon-KDDCUP-23/data_for_recstudio/all_task_1_valid_sessions.csv'\n",
    "sasrec_valid_candidates_path = '/root/autodl-tmp/xiaolong/WorkSpace/Amazon-KDDCUP-23/candidates/SASRec_Next/kdd_cup_2023/2023-04-12-14-21-03.parquet'\n",
    "sasrec_test_candidates_path = '/root/autodl-tmp/xiaolong/WorkSpace/Amazon-KDDCUP-23/predictions/SASRec_Next/kdd_cup_2023/2023-04-12-23-41-31.parquet'\n",
    "roberta_valid_candidates_path = '/root/autodl-tmp/xiaolong/WorkSpace/Amazon-KDDCUP-23/predictions/roberta/roberta_prediction_300.parquet'\n",
    "roberta_test_candidates_path = '/root/autodl-tmp/xiaolong/WorkSpace/Amazon-KDDCUP-23/predictions/roberta/roberta_test_prediction_300.parquet'"
   ]
  },
  {
   "cell_type": "code",
   "execution_count": 61,
   "metadata": {},
   "outputs": [],
   "source": [
    "@lru_cache(maxsize=1)\n",
    "def read_valid_sessions():\n",
    "    return pd.read_csv(valid_sessions_path)\n",
    "\n",
    "@lru_cache(maxsize=1)\n",
    "def read_sasrec_valid_candidates():\n",
    "    return pd.read_parquet(sasrec_valid_candidates_path, engine='pyarrow')\n",
    "\n",
    "lru_cache(maxsize=1)\n",
    "def read_sasrec_test_candidates():\n",
    "    return pd.read_parquet(sasrec_test_candidates_path, engine='pyarrow')\n",
    "\n",
    "lru_cache(maxsize=1)\n",
    "def read_roberta_valid_candidates():\n",
    "    return pd.read_parquet(roberta_valid_candidates_path, engine='pyarrow')\n",
    "\n",
    "lru_cache(maxsize=1)\n",
    "def read_roberta_test_candidates():\n",
    "    return pd.read_parquet(roberta_test_candidates_path, engine='pyarrow')"
   ]
  },
  {
   "cell_type": "code",
   "execution_count": 43,
   "metadata": {},
   "outputs": [],
   "source": [
    "def cut_candidates(candidates_df, cut_len):\n",
    "    new_candidates_df = copy.deepcopy(candidates_df)\n",
    "    new_candidates_df['next_item_prediction'] = candidates_df['next_item_prediction'].apply(lambda x : x[:cut_len])\n",
    "    new_candidates_df['scores'] = candidates_df['scores'].apply(lambda x : x[:cut_len])\n",
    "    print(len(new_candidates_df.iloc[0]['next_item_prediction']), len(new_candidates_df.iloc[0]['scores']))\n",
    "    return new_candidates_df"
   ]
  },
  {
   "cell_type": "code",
   "execution_count": 79,
   "metadata": {},
   "outputs": [
    {
     "data": {
      "text/html": [
       "<div>\n",
       "<style scoped>\n",
       "    .dataframe tbody tr th:only-of-type {\n",
       "        vertical-align: middle;\n",
       "    }\n",
       "\n",
       "    .dataframe tbody tr th {\n",
       "        vertical-align: top;\n",
       "    }\n",
       "\n",
       "    .dataframe thead th {\n",
       "        text-align: right;\n",
       "    }\n",
       "</style>\n",
       "<table border=\"1\" class=\"dataframe\">\n",
       "  <thead>\n",
       "    <tr style=\"text-align: right;\">\n",
       "      <th></th>\n",
       "      <th>prev_items</th>\n",
       "      <th>next_item</th>\n",
       "      <th>locale</th>\n",
       "    </tr>\n",
       "  </thead>\n",
       "  <tbody>\n",
       "    <tr>\n",
       "      <th>0</th>\n",
       "      <td>['B09VSN9GLS' 'B09VSG9DCG' 'B0BJ5L1ZPH' 'B09VS...</td>\n",
       "      <td>B06XG1LZ6Z</td>\n",
       "      <td>UK</td>\n",
       "    </tr>\n",
       "    <tr>\n",
       "      <th>1</th>\n",
       "      <td>['B00390YWXE' 'B00390YWXE' 'B09WM9W6WQ']</td>\n",
       "      <td>B01MSUI4FE</td>\n",
       "      <td>JP</td>\n",
       "    </tr>\n",
       "  </tbody>\n",
       "</table>\n",
       "</div>"
      ],
      "text/plain": [
       "                                          prev_items   next_item locale\n",
       "0  ['B09VSN9GLS' 'B09VSG9DCG' 'B0BJ5L1ZPH' 'B09VS...  B06XG1LZ6Z     UK\n",
       "1           ['B00390YWXE' 'B00390YWXE' 'B09WM9W6WQ']  B01MSUI4FE     JP"
      ]
     },
     "execution_count": 79,
     "metadata": {},
     "output_type": "execute_result"
    }
   ],
   "source": [
    "valid_sessions = read_valid_sessions()\n",
    "valid_sessions.head(2)"
   ]
  },
  {
   "cell_type": "code",
   "execution_count": 18,
   "metadata": {},
   "outputs": [
    {
     "data": {
      "text/html": [
       "<div>\n",
       "<style scoped>\n",
       "    .dataframe tbody tr th:only-of-type {\n",
       "        vertical-align: middle;\n",
       "    }\n",
       "\n",
       "    .dataframe tbody tr th {\n",
       "        vertical-align: top;\n",
       "    }\n",
       "\n",
       "    .dataframe thead th {\n",
       "        text-align: right;\n",
       "    }\n",
       "</style>\n",
       "<table border=\"1\" class=\"dataframe\">\n",
       "  <thead>\n",
       "    <tr style=\"text-align: right;\">\n",
       "      <th></th>\n",
       "      <th>next_item_prediction</th>\n",
       "      <th>scores</th>\n",
       "    </tr>\n",
       "  </thead>\n",
       "  <tbody>\n",
       "    <tr>\n",
       "      <th>0</th>\n",
       "      <td>[B084ZPL21L, B0B2JT2BND, B0B2JSKN7X, B08F7P8R6...</td>\n",
       "      <td>[266.0794982910156, 265.99432373046875, 265.99...</td>\n",
       "    </tr>\n",
       "    <tr>\n",
       "      <th>1</th>\n",
       "      <td>[B09WM9W6WQ, B09LCPT9DQ, B09MRYK5CV, B09LCRNQT...</td>\n",
       "      <td>[268.8392639160156, 268.33990478515625, 268.14...</td>\n",
       "    </tr>\n",
       "  </tbody>\n",
       "</table>\n",
       "</div>"
      ],
      "text/plain": [
       "                                next_item_prediction  \\\n",
       "0  [B084ZPL21L, B0B2JT2BND, B0B2JSKN7X, B08F7P8R6...   \n",
       "1  [B09WM9W6WQ, B09LCPT9DQ, B09MRYK5CV, B09LCRNQT...   \n",
       "\n",
       "                                              scores  \n",
       "0  [266.0794982910156, 265.99432373046875, 265.99...  \n",
       "1  [268.8392639160156, 268.33990478515625, 268.14...  "
      ]
     },
     "execution_count": 18,
     "metadata": {},
     "output_type": "execute_result"
    }
   ],
   "source": [
    "roberta_valid_candidates = read_roberta_valid_candidates()\n",
    "roberta_valid_candidates.head(2)"
   ]
  },
  {
   "cell_type": "code",
   "execution_count": 62,
   "metadata": {},
   "outputs": [
    {
     "data": {
      "text/plain": [
       "(100, 100)"
      ]
     },
     "execution_count": 62,
     "metadata": {},
     "output_type": "execute_result"
    }
   ],
   "source": [
    "roberta_valid_candidates_100 = copy.deepcopy(roberta_valid_candidates)\n",
    "roberta_valid_candidates_100['next_item_prediction'] = roberta_valid_candidates['next_item_prediction'].apply(lambda x : x[:100])\n",
    "roberta_valid_candidates_100['scores'] = roberta_valid_candidates['scores'].apply(lambda x : x[:100])\n",
    "len(roberta_valid_candidates_100.iloc[0]['next_item_prediction']), len(roberta_valid_candidates_100.iloc[0]['scores'])"
   ]
  },
  {
   "cell_type": "code",
   "execution_count": 5,
   "metadata": {},
   "outputs": [],
   "source": [
    "def normalize_score(candidates_df):\n",
    "    for i in tqdm(range(len(candidates_df))):\n",
    "        scores = candidates_df.iloc[i]['scores'] - candidates_df.iloc[i]['scores'].max()\n",
    "        scores = torch.nn.functional.softmax(torch.from_numpy(scores))\n",
    "        candidates_df.at[i, 'scores'] = scores.numpy()"
   ]
  },
  {
   "cell_type": "code",
   "execution_count": 85,
   "metadata": {},
   "outputs": [
    {
     "name": "stderr",
     "output_type": "stream",
     "text": [
      "  0%|          | 0/361581 [00:00<?, ?it/s]/tmp/ipykernel_619913/3753381385.py:3: UserWarning: Implicit dimension choice for softmax has been deprecated. Change the call to include dim=X as an argument.\n",
      "  scores = torch.nn.functional.softmax(torch.from_numpy(scores))\n",
      "100%|██████████| 361581/361581 [00:53<00:00, 6734.73it/s]\n"
     ]
    },
    {
     "data": {
      "text/html": [
       "<div>\n",
       "<style scoped>\n",
       "    .dataframe tbody tr th:only-of-type {\n",
       "        vertical-align: middle;\n",
       "    }\n",
       "\n",
       "    .dataframe tbody tr th {\n",
       "        vertical-align: top;\n",
       "    }\n",
       "\n",
       "    .dataframe thead th {\n",
       "        text-align: right;\n",
       "    }\n",
       "</style>\n",
       "<table border=\"1\" class=\"dataframe\">\n",
       "  <thead>\n",
       "    <tr style=\"text-align: right;\">\n",
       "      <th></th>\n",
       "      <th>next_item_prediction</th>\n",
       "      <th>scores</th>\n",
       "    </tr>\n",
       "  </thead>\n",
       "  <tbody>\n",
       "    <tr>\n",
       "      <th>0</th>\n",
       "      <td>[B084ZPL21L, B0B2JT2BND, B0B2JSKN7X, B08F7P8R6...</td>\n",
       "      <td>[0.010051003401355616, 0.010038628362893742, 0...</td>\n",
       "    </tr>\n",
       "    <tr>\n",
       "      <th>1</th>\n",
       "      <td>[B09WM9W6WQ, B09LCPT9DQ, B09MRYK5CV, B09LCRNQT...</td>\n",
       "      <td>[0.010772150929588447, 0.010420460807982517, 0...</td>\n",
       "    </tr>\n",
       "  </tbody>\n",
       "</table>\n",
       "</div>"
      ],
      "text/plain": [
       "                                next_item_prediction  \\\n",
       "0  [B084ZPL21L, B0B2JT2BND, B0B2JSKN7X, B08F7P8R6...   \n",
       "1  [B09WM9W6WQ, B09LCPT9DQ, B09MRYK5CV, B09LCRNQT...   \n",
       "\n",
       "                                              scores  \n",
       "0  [0.010051003401355616, 0.010038628362893742, 0...  \n",
       "1  [0.010772150929588447, 0.010420460807982517, 0...  "
      ]
     },
     "execution_count": 85,
     "metadata": {},
     "output_type": "execute_result"
    }
   ],
   "source": [
    "for i in tqdm(range(len(roberta_valid_candidates_100))):\n",
    "    scores = roberta_valid_candidates_100.iloc[i]['scores'] - roberta_valid_candidates_100.iloc[i]['scores'].max()\n",
    "    scores = torch.nn.functional.softmax(torch.from_numpy(scores))\n",
    "    roberta_valid_candidates_100.at[i, 'scores'] = scores.numpy()\n",
    "roberta_valid_candidates_100.head(2)"
   ]
  },
  {
   "cell_type": "code",
   "execution_count": 96,
   "metadata": {},
   "outputs": [
    {
     "name": "stderr",
     "output_type": "stream",
     "text": [
      "  0%|          | 0/361581 [00:00<?, ?it/s]/tmp/ipykernel_619913/4140741353.py:3: UserWarning: Implicit dimension choice for softmax has been deprecated. Change the call to include dim=X as an argument.\n",
      "  scores = torch.nn.functional.softmax(torch.from_numpy(scores))\n",
      "100%|██████████| 361581/361581 [00:55<00:00, 6470.64it/s]\n"
     ]
    },
    {
     "data": {
      "text/html": [
       "<div>\n",
       "<style scoped>\n",
       "    .dataframe tbody tr th:only-of-type {\n",
       "        vertical-align: middle;\n",
       "    }\n",
       "\n",
       "    .dataframe tbody tr th {\n",
       "        vertical-align: top;\n",
       "    }\n",
       "\n",
       "    .dataframe thead th {\n",
       "        text-align: right;\n",
       "    }\n",
       "</style>\n",
       "<table border=\"1\" class=\"dataframe\">\n",
       "  <thead>\n",
       "    <tr style=\"text-align: right;\">\n",
       "      <th></th>\n",
       "      <th>locale</th>\n",
       "      <th>candidates</th>\n",
       "      <th>sess_id</th>\n",
       "      <th>score</th>\n",
       "    </tr>\n",
       "  </thead>\n",
       "  <tbody>\n",
       "    <tr>\n",
       "      <th>0</th>\n",
       "      <td>UK</td>\n",
       "      <td>[B06XG1LZ6Z, B06XGD9VLV, B076PN1SKG, B01MYUDYP...</td>\n",
       "      <td>0</td>\n",
       "      <td>[0.2712954212156488, 0.16770452100600358, 0.16...</td>\n",
       "    </tr>\n",
       "    <tr>\n",
       "      <th>1</th>\n",
       "      <td>JP</td>\n",
       "      <td>[B09LCPT9DQ, B09MRYK5CV, B0BB5VQ1L8, B084T9C6W...</td>\n",
       "      <td>1</td>\n",
       "      <td>[0.9104351964115006, 0.019139557601848656, 0.0...</td>\n",
       "    </tr>\n",
       "  </tbody>\n",
       "</table>\n",
       "</div>"
      ],
      "text/plain": [
       "  locale                                         candidates sess_id  \\\n",
       "0     UK  [B06XG1LZ6Z, B06XGD9VLV, B076PN1SKG, B01MYUDYP...       0   \n",
       "1     JP  [B09LCPT9DQ, B09MRYK5CV, B0BB5VQ1L8, B084T9C6W...       1   \n",
       "\n",
       "                                               score  \n",
       "0  [0.2712954212156488, 0.16770452100600358, 0.16...  \n",
       "1  [0.9104351964115006, 0.019139557601848656, 0.0...  "
      ]
     },
     "execution_count": 96,
     "metadata": {},
     "output_type": "execute_result"
    }
   ],
   "source": [
    "for i in tqdm(range(len(sasrec_valid_candidates_100))):\n",
    "    scores = sasrec_valid_candidates_100.iloc[i]['score'] - sasrec_valid_candidates_100.iloc[i]['score'].max()\n",
    "    scores = torch.nn.functional.softmax(torch.from_numpy(scores))\n",
    "    sasrec_valid_candidates_100.at[i, 'score'] = scores.numpy()\n",
    "sasrec_valid_candidates_100.head(2)"
   ]
  },
  {
   "cell_type": "code",
   "execution_count": 98,
   "metadata": {},
   "outputs": [
    {
     "data": {
      "text/html": [
       "<div>\n",
       "<style scoped>\n",
       "    .dataframe tbody tr th:only-of-type {\n",
       "        vertical-align: middle;\n",
       "    }\n",
       "\n",
       "    .dataframe tbody tr th {\n",
       "        vertical-align: top;\n",
       "    }\n",
       "\n",
       "    .dataframe thead th {\n",
       "        text-align: right;\n",
       "    }\n",
       "</style>\n",
       "<table border=\"1\" class=\"dataframe\">\n",
       "  <thead>\n",
       "    <tr style=\"text-align: right;\">\n",
       "      <th></th>\n",
       "      <th>locale</th>\n",
       "      <th>next_item_prediction</th>\n",
       "      <th>sess_id</th>\n",
       "      <th>scores</th>\n",
       "    </tr>\n",
       "  </thead>\n",
       "  <tbody>\n",
       "    <tr>\n",
       "      <th>0</th>\n",
       "      <td>UK</td>\n",
       "      <td>[B06XG1LZ6Z, B06XGD9VLV, B076PN1SKG, B01MYUDYP...</td>\n",
       "      <td>0</td>\n",
       "      <td>[0.2712954212156488, 0.16770452100600358, 0.16...</td>\n",
       "    </tr>\n",
       "    <tr>\n",
       "      <th>1</th>\n",
       "      <td>JP</td>\n",
       "      <td>[B09LCPT9DQ, B09MRYK5CV, B0BB5VQ1L8, B084T9C6W...</td>\n",
       "      <td>1</td>\n",
       "      <td>[0.9104351964115006, 0.019139557601848656, 0.0...</td>\n",
       "    </tr>\n",
       "    <tr>\n",
       "      <th>2</th>\n",
       "      <td>UK</td>\n",
       "      <td>[B09XBS6WCX, B01EYGW86Y, B01MDOBUCC, B01C5YK17...</td>\n",
       "      <td>2</td>\n",
       "      <td>[0.5189365862585792, 0.11578885764040067, 0.08...</td>\n",
       "    </tr>\n",
       "    <tr>\n",
       "      <th>3</th>\n",
       "      <td>UK</td>\n",
       "      <td>[0241572614, 1406392979, 024157563X, 024147681...</td>\n",
       "      <td>3</td>\n",
       "      <td>[0.17436096931167835, 0.1062810279624873, 0.09...</td>\n",
       "    </tr>\n",
       "    <tr>\n",
       "      <th>4</th>\n",
       "      <td>JP</td>\n",
       "      <td>[B0B6PF619D, B0B6P77ZRN, B0B6P2PCMP, B0B6NY4PN...</td>\n",
       "      <td>4</td>\n",
       "      <td>[0.9418506919421911, 0.03955500319937586, 0.00...</td>\n",
       "    </tr>\n",
       "    <tr>\n",
       "      <th>...</th>\n",
       "      <td>...</td>\n",
       "      <td>...</td>\n",
       "      <td>...</td>\n",
       "      <td>...</td>\n",
       "    </tr>\n",
       "    <tr>\n",
       "      <th>361576</th>\n",
       "      <td>UK</td>\n",
       "      <td>[B0050IG9DE, B0B7LVKNK8, B07ZCWWZSM, B00465F49...</td>\n",
       "      <td>361576</td>\n",
       "      <td>[0.3216314191614029, 0.03237086799685645, 0.03...</td>\n",
       "    </tr>\n",
       "    <tr>\n",
       "      <th>361577</th>\n",
       "      <td>JP</td>\n",
       "      <td>[B09B9V4PXC, B09BCM5NL1, B09XGRXXG3, B09XH1YGL...</td>\n",
       "      <td>361577</td>\n",
       "      <td>[0.32195132928283726, 0.2734383066946782, 0.10...</td>\n",
       "    </tr>\n",
       "    <tr>\n",
       "      <th>361578</th>\n",
       "      <td>DE</td>\n",
       "      <td>[B0BC38GHB4, B07KLCY8NF, B00MXZEMBI, B07K6LTLW...</td>\n",
       "      <td>361578</td>\n",
       "      <td>[0.5633314956366812, 0.27870872436215477, 0.06...</td>\n",
       "    </tr>\n",
       "    <tr>\n",
       "      <th>361579</th>\n",
       "      <td>DE</td>\n",
       "      <td>[B08RQR2NPB, B08RQDVX71, B08H8SYLMQ, B08H8TLK4...</td>\n",
       "      <td>361579</td>\n",
       "      <td>[0.4668851399227642, 0.2816610932504468, 0.078...</td>\n",
       "    </tr>\n",
       "    <tr>\n",
       "      <th>361580</th>\n",
       "      <td>DE</td>\n",
       "      <td>[B0095FMJE6, B016UZOCX4, B07T42KRCB, B07JHTY3V...</td>\n",
       "      <td>361580</td>\n",
       "      <td>[0.21694955987851278, 0.18372488531901976, 0.1...</td>\n",
       "    </tr>\n",
       "  </tbody>\n",
       "</table>\n",
       "<p>361581 rows × 4 columns</p>\n",
       "</div>"
      ],
      "text/plain": [
       "       locale                               next_item_prediction sess_id  \\\n",
       "0          UK  [B06XG1LZ6Z, B06XGD9VLV, B076PN1SKG, B01MYUDYP...       0   \n",
       "1          JP  [B09LCPT9DQ, B09MRYK5CV, B0BB5VQ1L8, B084T9C6W...       1   \n",
       "2          UK  [B09XBS6WCX, B01EYGW86Y, B01MDOBUCC, B01C5YK17...       2   \n",
       "3          UK  [0241572614, 1406392979, 024157563X, 024147681...       3   \n",
       "4          JP  [B0B6PF619D, B0B6P77ZRN, B0B6P2PCMP, B0B6NY4PN...       4   \n",
       "...       ...                                                ...     ...   \n",
       "361576     UK  [B0050IG9DE, B0B7LVKNK8, B07ZCWWZSM, B00465F49...  361576   \n",
       "361577     JP  [B09B9V4PXC, B09BCM5NL1, B09XGRXXG3, B09XH1YGL...  361577   \n",
       "361578     DE  [B0BC38GHB4, B07KLCY8NF, B00MXZEMBI, B07K6LTLW...  361578   \n",
       "361579     DE  [B08RQR2NPB, B08RQDVX71, B08H8SYLMQ, B08H8TLK4...  361579   \n",
       "361580     DE  [B0095FMJE6, B016UZOCX4, B07T42KRCB, B07JHTY3V...  361580   \n",
       "\n",
       "                                                   scores  \n",
       "0       [0.2712954212156488, 0.16770452100600358, 0.16...  \n",
       "1       [0.9104351964115006, 0.019139557601848656, 0.0...  \n",
       "2       [0.5189365862585792, 0.11578885764040067, 0.08...  \n",
       "3       [0.17436096931167835, 0.1062810279624873, 0.09...  \n",
       "4       [0.9418506919421911, 0.03955500319937586, 0.00...  \n",
       "...                                                   ...  \n",
       "361576  [0.3216314191614029, 0.03237086799685645, 0.03...  \n",
       "361577  [0.32195132928283726, 0.2734383066946782, 0.10...  \n",
       "361578  [0.5633314956366812, 0.27870872436215477, 0.06...  \n",
       "361579  [0.4668851399227642, 0.2816610932504468, 0.078...  \n",
       "361580  [0.21694955987851278, 0.18372488531901976, 0.1...  \n",
       "\n",
       "[361581 rows x 4 columns]"
      ]
     },
     "execution_count": 98,
     "metadata": {},
     "output_type": "execute_result"
    }
   ],
   "source": [
    "sasrec_valid_candidates_100.rename(columns={'score' : 'scores', 'candidates' : 'next_item_prediction'}, inplace=True)\n",
    "sasrec_valid_candidates_100"
   ]
  },
  {
   "cell_type": "code",
   "execution_count": 6,
   "metadata": {},
   "outputs": [],
   "source": [
    "def merge_candidates(candidates_df_1, candidates_df_2, lam=5):\n",
    "    new_candidates_list = []\n",
    "    locale_list = []\n",
    "    item_counter = Counter()\n",
    "    for i in tqdm(range(len(candidates_df_1))):\n",
    "        item_counter.clear()\n",
    "        candidates_1 = candidates_df_1.iloc[i]['next_item_prediction']\n",
    "        scores_1 = candidates_df_1.iloc[i]['scores']\n",
    "        candidates_2 = candidates_df_2.iloc[i]['next_item_prediction']\n",
    "        scores_2 = candidates_df_2.iloc[i]['scores']\n",
    "\n",
    "        for can, score in zip(candidates_1, scores_1):\n",
    "            item_counter[can] += score\n",
    "        for can, score in zip(candidates_2, scores_2):\n",
    "            item_counter[can] += lam * score\n",
    "        \n",
    "        new_candidates, _ = zip(*item_counter.most_common(100))\n",
    "\n",
    "        new_candidates_list.append(list(new_candidates))\n",
    "        locale_list.append(candidates_df_1.iloc[i]['locale'])\n",
    "\n",
    "    merged_df = pd.DataFrame({'locale' : locale_list, 'next_item_prediction' : new_candidates_list})\n",
    "    return merged_df"
   ]
  },
  {
   "cell_type": "code",
   "execution_count": 116,
   "metadata": {},
   "outputs": [
    {
     "name": "stderr",
     "output_type": "stream",
     "text": [
      "100%|██████████| 361581/361581 [05:30<00:00, 1092.68it/s]\n"
     ]
    },
    {
     "data": {
      "text/html": [
       "<div>\n",
       "<style scoped>\n",
       "    .dataframe tbody tr th:only-of-type {\n",
       "        vertical-align: middle;\n",
       "    }\n",
       "\n",
       "    .dataframe tbody tr th {\n",
       "        vertical-align: top;\n",
       "    }\n",
       "\n",
       "    .dataframe thead th {\n",
       "        text-align: right;\n",
       "    }\n",
       "</style>\n",
       "<table border=\"1\" class=\"dataframe\">\n",
       "  <thead>\n",
       "    <tr style=\"text-align: right;\">\n",
       "      <th></th>\n",
       "      <th>locale</th>\n",
       "      <th>next_item_prediction</th>\n",
       "    </tr>\n",
       "  </thead>\n",
       "  <tbody>\n",
       "    <tr>\n",
       "      <th>0</th>\n",
       "      <td>UK</td>\n",
       "      <td>[B06XG1LZ6Z, B06XGD9VLV, B01MYUDYP7, B076PN1SK...</td>\n",
       "    </tr>\n",
       "    <tr>\n",
       "      <th>1</th>\n",
       "      <td>JP</td>\n",
       "      <td>[B09LCPT9DQ, B09MRYK5CV, B0BB5VQ1L8, B084T9C6W...</td>\n",
       "    </tr>\n",
       "  </tbody>\n",
       "</table>\n",
       "</div>"
      ],
      "text/plain": [
       "  locale                               next_item_prediction\n",
       "0     UK  [B06XG1LZ6Z, B06XGD9VLV, B01MYUDYP7, B076PN1SK...\n",
       "1     JP  [B09LCPT9DQ, B09MRYK5CV, B0BB5VQ1L8, B084T9C6W..."
      ]
     },
     "execution_count": 116,
     "metadata": {},
     "output_type": "execute_result"
    }
   ],
   "source": [
    "merged_df = merge_candidates(sasrec_valid_candidates_100, roberta_valid_candidates_100)\n",
    "merged_df.head(2)"
   ]
  },
  {
   "cell_type": "code",
   "execution_count": 125,
   "metadata": {},
   "outputs": [
    {
     "name": "stderr",
     "output_type": "stream",
     "text": [
      "100%|██████████| 361581/361581 [05:32<00:00, 1085.94it/s]\n"
     ]
    },
    {
     "data": {
      "text/html": [
       "<div>\n",
       "<style scoped>\n",
       "    .dataframe tbody tr th:only-of-type {\n",
       "        vertical-align: middle;\n",
       "    }\n",
       "\n",
       "    .dataframe tbody tr th {\n",
       "        vertical-align: top;\n",
       "    }\n",
       "\n",
       "    .dataframe thead th {\n",
       "        text-align: right;\n",
       "    }\n",
       "</style>\n",
       "<table border=\"1\" class=\"dataframe\">\n",
       "  <thead>\n",
       "    <tr style=\"text-align: right;\">\n",
       "      <th></th>\n",
       "      <th>locale</th>\n",
       "      <th>next_item_prediction</th>\n",
       "    </tr>\n",
       "  </thead>\n",
       "  <tbody>\n",
       "    <tr>\n",
       "      <th>0</th>\n",
       "      <td>UK</td>\n",
       "      <td>[B06XG1LZ6Z, B06XGD9VLV, B01MYUDYP7, B076PN1SK...</td>\n",
       "    </tr>\n",
       "    <tr>\n",
       "      <th>1</th>\n",
       "      <td>JP</td>\n",
       "      <td>[B09LCPT9DQ, B09MRYK5CV, B0BB5VQ1L8, B084T9C6W...</td>\n",
       "    </tr>\n",
       "  </tbody>\n",
       "</table>\n",
       "</div>"
      ],
      "text/plain": [
       "  locale                               next_item_prediction\n",
       "0     UK  [B06XG1LZ6Z, B06XGD9VLV, B01MYUDYP7, B076PN1SK...\n",
       "1     JP  [B09LCPT9DQ, B09MRYK5CV, B0BB5VQ1L8, B084T9C6W..."
      ]
     },
     "execution_count": 125,
     "metadata": {},
     "output_type": "execute_result"
    }
   ],
   "source": [
    "merged_10_df = merge_candidates(sasrec_valid_candidates_100, roberta_valid_candidates_100, lam=10)\n",
    "merged_10_df.head(2)"
   ]
  },
  {
   "cell_type": "code",
   "execution_count": 13,
   "metadata": {},
   "outputs": [
    {
     "ename": "NameError",
     "evalue": "name 'sasrec_valid_candidates_100' is not defined",
     "output_type": "error",
     "traceback": [
      "\u001b[0;31m---------------------------------------------------------------------------\u001b[0m",
      "\u001b[0;31mNameError\u001b[0m                                 Traceback (most recent call last)",
      "Cell \u001b[0;32mIn[13], line 1\u001b[0m\n\u001b[0;32m----> 1\u001b[0m merged_2_df \u001b[39m=\u001b[39m merge_candidates(sasrec_valid_candidates_100, roberta_valid_candidates_100, lam\u001b[39m=\u001b[39m\u001b[39m2\u001b[39m)\n\u001b[1;32m      2\u001b[0m merged_2_df\u001b[39m.\u001b[39mhead(\u001b[39m2\u001b[39m)\n",
      "\u001b[0;31mNameError\u001b[0m: name 'sasrec_valid_candidates_100' is not defined"
     ]
    }
   ],
   "source": [
    "merged_2_df = merge_candidates(sasrec_valid_candidates_100, roberta_valid_candidates_100, lam=2)\n",
    "merged_2_df.head(2)"
   ]
  },
  {
   "cell_type": "code",
   "execution_count": 126,
   "metadata": {},
   "outputs": [
    {
     "data": {
      "text/plain": [
       "100"
      ]
     },
     "execution_count": 126,
     "metadata": {},
     "output_type": "execute_result"
    }
   ],
   "source": [
    "len(merged_10_df.iloc[0]['next_item_prediction'])"
   ]
  },
  {
   "cell_type": "code",
   "execution_count": 118,
   "metadata": {},
   "outputs": [
    {
     "data": {
      "text/plain": [
       "100"
      ]
     },
     "execution_count": 118,
     "metadata": {},
     "output_type": "execute_result"
    }
   ],
   "source": [
    "len(merged_df.iloc[0]['next_item_prediction'])"
   ]
  },
  {
   "cell_type": "code",
   "execution_count": 117,
   "metadata": {},
   "outputs": [],
   "source": [
    "def cal_hit_and_mrr(ground_truth_list, candidates_list):\n",
    "    hits, mrrs = [], []\n",
    "    for i in tqdm(range(len(ground_truth_list))):\n",
    "        ground_truth = ground_truth_list.iloc[i]\n",
    "        candidates = candidates_list.iloc[i]\n",
    "        hit, mrr = 0.0, 0.0\n",
    "        for j in range(len(candidates)):\n",
    "            if ground_truth == candidates[j]:\n",
    "                hit = 1.0\n",
    "                mrr = 1.0 / (j + 1)\n",
    "                break\n",
    "        hits.append(hit)\n",
    "        mrrs.append(mrr)\n",
    "    return np.array(hits).mean(), np.array(mrrs).mean()"
   ]
  },
  {
   "cell_type": "code",
   "execution_count": 121,
   "metadata": {},
   "outputs": [
    {
     "name": "stderr",
     "output_type": "stream",
     "text": [
      "100%|██████████| 361581/361581 [00:17<00:00, 21150.92it/s]\n"
     ]
    },
    {
     "data": {
      "text/plain": [
       "(0.6287498513472777, 0.28694266710644833)"
      ]
     },
     "execution_count": 121,
     "metadata": {},
     "output_type": "execute_result"
    }
   ],
   "source": [
    "cal_hit_and_mrr(valid_sessions['next_item'], merged_df['next_item_prediction'])"
   ]
  },
  {
   "cell_type": "code",
   "execution_count": 122,
   "metadata": {},
   "outputs": [
    {
     "name": "stderr",
     "output_type": "stream",
     "text": [
      "100%|██████████| 361581/361581 [00:19<00:00, 18773.39it/s]\n"
     ]
    },
    {
     "data": {
      "text/plain": [
       "(0.5756746067962641, 0.27497283950067)"
      ]
     },
     "execution_count": 122,
     "metadata": {},
     "output_type": "execute_result"
    }
   ],
   "source": [
    "cal_hit_and_mrr(valid_sessions['next_item'], sasrec_valid_candidates_100['next_item_prediction'])"
   ]
  },
  {
   "cell_type": "code",
   "execution_count": 127,
   "metadata": {},
   "outputs": [
    {
     "name": "stderr",
     "output_type": "stream",
     "text": [
      "100%|██████████| 361581/361581 [00:16<00:00, 21836.06it/s]\n"
     ]
    },
    {
     "data": {
      "text/plain": [
       "(0.6228231018775876, 0.28704315354228643)"
      ]
     },
     "execution_count": 127,
     "metadata": {},
     "output_type": "execute_result"
    }
   ],
   "source": [
    "cal_hit_and_mrr(valid_sessions['next_item'], merged_10_df['next_item_prediction'])"
   ]
  },
  {
   "cell_type": "code",
   "execution_count": 120,
   "metadata": {},
   "outputs": [
    {
     "data": {
      "text/html": [
       "<div>\n",
       "<style scoped>\n",
       "    .dataframe tbody tr th:only-of-type {\n",
       "        vertical-align: middle;\n",
       "    }\n",
       "\n",
       "    .dataframe tbody tr th {\n",
       "        vertical-align: top;\n",
       "    }\n",
       "\n",
       "    .dataframe thead th {\n",
       "        text-align: right;\n",
       "    }\n",
       "</style>\n",
       "<table border=\"1\" class=\"dataframe\">\n",
       "  <thead>\n",
       "    <tr style=\"text-align: right;\">\n",
       "      <th></th>\n",
       "      <th>prev_items</th>\n",
       "      <th>next_item</th>\n",
       "      <th>locale</th>\n",
       "    </tr>\n",
       "  </thead>\n",
       "  <tbody>\n",
       "    <tr>\n",
       "      <th>0</th>\n",
       "      <td>['B09VSN9GLS' 'B09VSG9DCG' 'B0BJ5L1ZPH' 'B09VS...</td>\n",
       "      <td>B06XG1LZ6Z</td>\n",
       "      <td>UK</td>\n",
       "    </tr>\n",
       "    <tr>\n",
       "      <th>1</th>\n",
       "      <td>['B00390YWXE' 'B00390YWXE' 'B09WM9W6WQ']</td>\n",
       "      <td>B01MSUI4FE</td>\n",
       "      <td>JP</td>\n",
       "    </tr>\n",
       "    <tr>\n",
       "      <th>2</th>\n",
       "      <td>['B01BM9V6H8' 'B01MG55XDR' 'B07VYSSRL7']</td>\n",
       "      <td>B01M6625ME</td>\n",
       "      <td>UK</td>\n",
       "    </tr>\n",
       "    <tr>\n",
       "      <th>3</th>\n",
       "      <td>['B092ZG24S7' 'B09BNHWWZM' 'B08CB1WG5M' '17880...</td>\n",
       "      <td>0241558573</td>\n",
       "      <td>UK</td>\n",
       "    </tr>\n",
       "    <tr>\n",
       "      <th>4</th>\n",
       "      <td>['B0B6NY5RM8' 'B09BJGBBBR']</td>\n",
       "      <td>B09BJF6N8K</td>\n",
       "      <td>JP</td>\n",
       "    </tr>\n",
       "    <tr>\n",
       "      <th>...</th>\n",
       "      <td>...</td>\n",
       "      <td>...</td>\n",
       "      <td>...</td>\n",
       "    </tr>\n",
       "    <tr>\n",
       "      <th>361576</th>\n",
       "      <td>['B08HH6L4PB' 'B08L8N8HDR']</td>\n",
       "      <td>B00TS5UXGY</td>\n",
       "      <td>UK</td>\n",
       "    </tr>\n",
       "    <tr>\n",
       "      <th>361577</th>\n",
       "      <td>['B08X4L1KLZ' 'B09BBX1T4S' 'B09D76FT9D']</td>\n",
       "      <td>B09BCM5NL1</td>\n",
       "      <td>JP</td>\n",
       "    </tr>\n",
       "    <tr>\n",
       "      <th>361578</th>\n",
       "      <td>['B0098G6L3M' 'B00ELRLP3O' 'B00PLXGK82' 'B09GS...</td>\n",
       "      <td>B0BC38GHB4</td>\n",
       "      <td>DE</td>\n",
       "    </tr>\n",
       "    <tr>\n",
       "      <th>361579</th>\n",
       "      <td>['B07Q2CNLY3' 'B07Q2CNLY3' 'B07BR7DZWN' 'B07Q2...</td>\n",
       "      <td>B08H8SYLMQ</td>\n",
       "      <td>DE</td>\n",
       "    </tr>\n",
       "    <tr>\n",
       "      <th>361580</th>\n",
       "      <td>['B07N6J2M3K' 'B081YZVG5L' 'B011XK46F0' 'B0842...</td>\n",
       "      <td>B0853Q7C2Q</td>\n",
       "      <td>DE</td>\n",
       "    </tr>\n",
       "  </tbody>\n",
       "</table>\n",
       "<p>361581 rows × 3 columns</p>\n",
       "</div>"
      ],
      "text/plain": [
       "                                               prev_items   next_item locale\n",
       "0       ['B09VSN9GLS' 'B09VSG9DCG' 'B0BJ5L1ZPH' 'B09VS...  B06XG1LZ6Z     UK\n",
       "1                ['B00390YWXE' 'B00390YWXE' 'B09WM9W6WQ']  B01MSUI4FE     JP\n",
       "2                ['B01BM9V6H8' 'B01MG55XDR' 'B07VYSSRL7']  B01M6625ME     UK\n",
       "3       ['B092ZG24S7' 'B09BNHWWZM' 'B08CB1WG5M' '17880...  0241558573     UK\n",
       "4                             ['B0B6NY5RM8' 'B09BJGBBBR']  B09BJF6N8K     JP\n",
       "...                                                   ...         ...    ...\n",
       "361576                        ['B08HH6L4PB' 'B08L8N8HDR']  B00TS5UXGY     UK\n",
       "361577           ['B08X4L1KLZ' 'B09BBX1T4S' 'B09D76FT9D']  B09BCM5NL1     JP\n",
       "361578  ['B0098G6L3M' 'B00ELRLP3O' 'B00PLXGK82' 'B09GS...  B0BC38GHB4     DE\n",
       "361579  ['B07Q2CNLY3' 'B07Q2CNLY3' 'B07BR7DZWN' 'B07Q2...  B08H8SYLMQ     DE\n",
       "361580  ['B07N6J2M3K' 'B081YZVG5L' 'B011XK46F0' 'B0842...  B0853Q7C2Q     DE\n",
       "\n",
       "[361581 rows x 3 columns]"
      ]
     },
     "execution_count": 120,
     "metadata": {},
     "output_type": "execute_result"
    }
   ],
   "source": [
    "valid_sessions"
   ]
  },
  {
   "attachments": {},
   "cell_type": "markdown",
   "metadata": {},
   "source": [
    "# Cut and save candidates"
   ]
  },
  {
   "cell_type": "code",
   "execution_count": null,
   "metadata": {},
   "outputs": [],
   "source": [
    "sasrec_valid_candidates = read_sasrec_valid_candidates()\n",
    "sasrec_valid_candidates.head(2), len(sasrec_valid_candidates)"
   ]
  },
  {
   "cell_type": "code",
   "execution_count": null,
   "metadata": {},
   "outputs": [],
   "source": [
    "sasrec_valid_candidates.rename(columns={'candidates' : 'next_item_prediction', 'score' : 'scores'}, inplace=True)\n",
    "sasrec_valid_candidates.head(2)"
   ]
  },
  {
   "cell_type": "code",
   "execution_count": null,
   "metadata": {},
   "outputs": [],
   "source": [
    "sasrec_valid_candidates.to_parquet('/root/autodl-tmp/xiaolong/WorkSpace/Amazon-KDDCUP-23/candidates/SASRec_Next/SASRec_valid_300_with_score.parquet')"
   ]
  },
  {
   "cell_type": "code",
   "execution_count": null,
   "metadata": {},
   "outputs": [],
   "source": [
    "sasrec_valid_candidates_150 = cut_candidates(sasrec_valid_candidates, cut_len=150)"
   ]
  },
  {
   "cell_type": "code",
   "execution_count": null,
   "metadata": {},
   "outputs": [],
   "source": [
    "sasrec_valid_candidates_150.to_parquet('/root/autodl-tmp/xiaolong/WorkSpace/Amazon-KDDCUP-23/candidates/SASRec_Next/SASRec_valid_150_with_score.parquet')"
   ]
  },
  {
   "cell_type": "code",
   "execution_count": 62,
   "metadata": {},
   "outputs": [
    {
     "data": {
      "text/html": [
       "<div>\n",
       "<style scoped>\n",
       "    .dataframe tbody tr th:only-of-type {\n",
       "        vertical-align: middle;\n",
       "    }\n",
       "\n",
       "    .dataframe tbody tr th {\n",
       "        vertical-align: top;\n",
       "    }\n",
       "\n",
       "    .dataframe thead th {\n",
       "        text-align: right;\n",
       "    }\n",
       "</style>\n",
       "<table border=\"1\" class=\"dataframe\">\n",
       "  <thead>\n",
       "    <tr style=\"text-align: right;\">\n",
       "      <th></th>\n",
       "      <th>locale</th>\n",
       "      <th>next_item_prediction</th>\n",
       "      <th>score</th>\n",
       "    </tr>\n",
       "  </thead>\n",
       "  <tbody>\n",
       "    <tr>\n",
       "      <th>0</th>\n",
       "      <td>DE</td>\n",
       "      <td>[B07LG5T3V9, B099NS1XPG, B099NR3X6D, B08QYYBTM...</td>\n",
       "      <td>[21.012548446655273, 19.94110107421875, 18.792...</td>\n",
       "    </tr>\n",
       "    <tr>\n",
       "      <th>1</th>\n",
       "      <td>DE</td>\n",
       "      <td>[B004ZXMV4Q, B095TQTZXY, B08BZCKDKQ, B010MJNUZ...</td>\n",
       "      <td>[24.912931442260742, 17.836830139160156, 17.03...</td>\n",
       "    </tr>\n",
       "  </tbody>\n",
       "</table>\n",
       "</div>"
      ],
      "text/plain": [
       "  locale                               next_item_prediction  \\\n",
       "0     DE  [B07LG5T3V9, B099NS1XPG, B099NR3X6D, B08QYYBTM...   \n",
       "1     DE  [B004ZXMV4Q, B095TQTZXY, B08BZCKDKQ, B010MJNUZ...   \n",
       "\n",
       "                                               score  \n",
       "0  [21.012548446655273, 19.94110107421875, 18.792...  \n",
       "1  [24.912931442260742, 17.836830139160156, 17.03...  "
      ]
     },
     "execution_count": 62,
     "metadata": {},
     "output_type": "execute_result"
    }
   ],
   "source": [
    "sasrec_test_candidates = read_sasrec_test_candidates()\n",
    "sasrec_test_candidates.head(2), len(sasrec_test_candidates)"
   ]
  },
  {
   "cell_type": "code",
   "execution_count": 66,
   "metadata": {},
   "outputs": [],
   "source": [
    "print(len(sasrec_test_candidates.iloc[0]['next_item_prediction']))\n",
    "sasrec_test_candidates.rename(columns={'score' : 'scores'}, inplace=True)"
   ]
  },
  {
   "cell_type": "code",
   "execution_count": 68,
   "metadata": {},
   "outputs": [],
   "source": [
    "sasrec_test_candidates.to_parquet('/root/autodl-tmp/xiaolong/WorkSpace/Amazon-KDDCUP-23/candidates/SASRec_Next/SASRec_test_300_with_score.parquet')"
   ]
  },
  {
   "cell_type": "code",
   "execution_count": 67,
   "metadata": {},
   "outputs": [
    {
     "name": "stdout",
     "output_type": "stream",
     "text": [
      "150 150\n"
     ]
    }
   ],
   "source": [
    "sasrec_test_candidates_150 = cut_candidates(sasrec_test_candidates, 150)\n",
    "sasrec_test_candidates_150.to_parquet('/root/autodl-tmp/xiaolong/WorkSpace/Amazon-KDDCUP-23/candidates/SASRec_Next/SASRec_test_150_with_score.parquet')"
   ]
  },
  {
   "cell_type": "code",
   "execution_count": 69,
   "metadata": {},
   "outputs": [
    {
     "data": {
      "text/html": [
       "<div>\n",
       "<style scoped>\n",
       "    .dataframe tbody tr th:only-of-type {\n",
       "        vertical-align: middle;\n",
       "    }\n",
       "\n",
       "    .dataframe tbody tr th {\n",
       "        vertical-align: top;\n",
       "    }\n",
       "\n",
       "    .dataframe thead th {\n",
       "        text-align: right;\n",
       "    }\n",
       "</style>\n",
       "<table border=\"1\" class=\"dataframe\">\n",
       "  <thead>\n",
       "    <tr style=\"text-align: right;\">\n",
       "      <th></th>\n",
       "      <th>next_item_prediction</th>\n",
       "      <th>scores</th>\n",
       "    </tr>\n",
       "  </thead>\n",
       "  <tbody>\n",
       "    <tr>\n",
       "      <th>0</th>\n",
       "      <td>[B08V12CT4C, B099NR3X6D, B099NS1XPG, B08DFMG6D...</td>\n",
       "      <td>[266.46697998046875, 266.4009094238281, 266.39...</td>\n",
       "    </tr>\n",
       "    <tr>\n",
       "      <th>1</th>\n",
       "      <td>[B00R9R5ND6, B004ZXMV4Q, B00R9RZ9ZS, B09P1XWJP...</td>\n",
       "      <td>[266.80084228515625, 266.1681823730469, 265.14...</td>\n",
       "    </tr>\n",
       "  </tbody>\n",
       "</table>\n",
       "</div>"
      ],
      "text/plain": [
       "                                next_item_prediction  \\\n",
       "0  [B08V12CT4C, B099NR3X6D, B099NS1XPG, B08DFMG6D...   \n",
       "1  [B00R9R5ND6, B004ZXMV4Q, B00R9RZ9ZS, B09P1XWJP...   \n",
       "\n",
       "                                              scores  \n",
       "0  [266.46697998046875, 266.4009094238281, 266.39...  \n",
       "1  [266.80084228515625, 266.1681823730469, 265.14...  "
      ]
     },
     "execution_count": 69,
     "metadata": {},
     "output_type": "execute_result"
    }
   ],
   "source": [
    "roberta_test_candidates = read_roberta_test_candidates()\n",
    "roberta_test_candidates.head(2), len(roberta_test_candidates)"
   ]
  },
  {
   "cell_type": "code",
   "execution_count": 73,
   "metadata": {},
   "outputs": [],
   "source": [
    "roberta_test_candidates.to_parquet('/root/autodl-tmp/xiaolong/WorkSpace/Amazon-KDDCUP-23/candidates/roberta/roberta_test_300_with_score.parquet')"
   ]
  },
  {
   "cell_type": "code",
   "execution_count": 70,
   "metadata": {},
   "outputs": [
    {
     "name": "stdout",
     "output_type": "stream",
     "text": [
      "150 150\n"
     ]
    }
   ],
   "source": [
    "roberta_test_candidates_150 = cut_candidates(roberta_test_candidates, 150)"
   ]
  },
  {
   "cell_type": "code",
   "execution_count": 72,
   "metadata": {},
   "outputs": [],
   "source": [
    "roberta_test_candidates_150.to_parquet('/root/autodl-tmp/xiaolong/WorkSpace/Amazon-KDDCUP-23/candidates/roberta/roberta_test_150_with_score.parquet')"
   ]
  },
  {
   "cell_type": "code",
   "execution_count": 74,
   "metadata": {},
   "outputs": [
    {
     "data": {
      "text/html": [
       "<div>\n",
       "<style scoped>\n",
       "    .dataframe tbody tr th:only-of-type {\n",
       "        vertical-align: middle;\n",
       "    }\n",
       "\n",
       "    .dataframe tbody tr th {\n",
       "        vertical-align: top;\n",
       "    }\n",
       "\n",
       "    .dataframe thead th {\n",
       "        text-align: right;\n",
       "    }\n",
       "</style>\n",
       "<table border=\"1\" class=\"dataframe\">\n",
       "  <thead>\n",
       "    <tr style=\"text-align: right;\">\n",
       "      <th></th>\n",
       "      <th>next_item_prediction</th>\n",
       "      <th>scores</th>\n",
       "    </tr>\n",
       "  </thead>\n",
       "  <tbody>\n",
       "    <tr>\n",
       "      <th>0</th>\n",
       "      <td>[B084ZPL21L, B0B2JT2BND, B0B2JSKN7X, B08F7P8R6...</td>\n",
       "      <td>[266.0794982910156, 265.99432373046875, 265.99...</td>\n",
       "    </tr>\n",
       "    <tr>\n",
       "      <th>1</th>\n",
       "      <td>[B09WM9W6WQ, B09LCPT9DQ, B09MRYK5CV, B09LCRNQT...</td>\n",
       "      <td>[268.8392639160156, 268.33990478515625, 268.14...</td>\n",
       "    </tr>\n",
       "  </tbody>\n",
       "</table>\n",
       "</div>"
      ],
      "text/plain": [
       "                                next_item_prediction  \\\n",
       "0  [B084ZPL21L, B0B2JT2BND, B0B2JSKN7X, B08F7P8R6...   \n",
       "1  [B09WM9W6WQ, B09LCPT9DQ, B09MRYK5CV, B09LCRNQT...   \n",
       "\n",
       "                                              scores  \n",
       "0  [266.0794982910156, 265.99432373046875, 265.99...  \n",
       "1  [268.8392639160156, 268.33990478515625, 268.14...  "
      ]
     },
     "execution_count": 74,
     "metadata": {},
     "output_type": "execute_result"
    }
   ],
   "source": [
    "roberta_valid_candidates = read_roberta_valid_candidates()\n",
    "roberta_valid_candidates.head(2), len(roberta_valid_candidates)"
   ]
  },
  {
   "cell_type": "code",
   "execution_count": 78,
   "metadata": {},
   "outputs": [
    {
     "name": "stdout",
     "output_type": "stream",
     "text": [
      "150 150\n"
     ]
    }
   ],
   "source": [
    "roberta_valid_candidates_150 = cut_candidates(roberta_valid_candidates, 150)"
   ]
  },
  {
   "cell_type": "code",
   "execution_count": 79,
   "metadata": {},
   "outputs": [],
   "source": [
    "roberta_valid_candidates_150.to_parquet('/root/autodl-tmp/xiaolong/WorkSpace/Amazon-KDDCUP-23/candidates/roberta/roberta_valid_150_with_score.parquet')"
   ]
  },
  {
   "attachments": {},
   "cell_type": "markdown",
   "metadata": {},
   "source": [
    "# test dataset"
   ]
  },
  {
   "cell_type": "code",
   "execution_count": 11,
   "metadata": {},
   "outputs": [
    {
     "name": "stderr",
     "output_type": "stream",
     "text": [
      "  0%|          | 0/316971 [00:00<?, ?it/s]/tmp/ipykernel_770953/2762373892.py:4: UserWarning: Implicit dimension choice for softmax has been deprecated. Change the call to include dim=X as an argument.\n",
      "  scores = torch.nn.functional.softmax(torch.from_numpy(scores))\n",
      "100%|██████████| 316971/316971 [00:44<00:00, 7117.53it/s]\n"
     ]
    },
    {
     "data": {
      "text/html": [
       "<div>\n",
       "<style scoped>\n",
       "    .dataframe tbody tr th:only-of-type {\n",
       "        vertical-align: middle;\n",
       "    }\n",
       "\n",
       "    .dataframe tbody tr th {\n",
       "        vertical-align: top;\n",
       "    }\n",
       "\n",
       "    .dataframe thead th {\n",
       "        text-align: right;\n",
       "    }\n",
       "</style>\n",
       "<table border=\"1\" class=\"dataframe\">\n",
       "  <thead>\n",
       "    <tr style=\"text-align: right;\">\n",
       "      <th></th>\n",
       "      <th>locale</th>\n",
       "      <th>next_item_prediction</th>\n",
       "      <th>scores</th>\n",
       "    </tr>\n",
       "  </thead>\n",
       "  <tbody>\n",
       "    <tr>\n",
       "      <th>0</th>\n",
       "      <td>DE</td>\n",
       "      <td>[B07LG5T3V9, B099NS1XPG, B099NR3X6D, B08QYYBTM...</td>\n",
       "      <td>[0.6562827152580006, 0.2247849780236378, 0.071...</td>\n",
       "    </tr>\n",
       "    <tr>\n",
       "      <th>1</th>\n",
       "      <td>DE</td>\n",
       "      <td>[B004ZXMV4Q, B095TQTZXY, B08BZCKDKQ, B010MJNUZ...</td>\n",
       "      <td>[0.9985161592585081, 0.0008438074359781079, 0....</td>\n",
       "    </tr>\n",
       "  </tbody>\n",
       "</table>\n",
       "</div>"
      ],
      "text/plain": [
       "  locale                               next_item_prediction  \\\n",
       "0     DE  [B07LG5T3V9, B099NS1XPG, B099NR3X6D, B08QYYBTM...   \n",
       "1     DE  [B004ZXMV4Q, B095TQTZXY, B08BZCKDKQ, B010MJNUZ...   \n",
       "\n",
       "                                              scores  \n",
       "0  [0.6562827152580006, 0.2247849780236378, 0.071...  \n",
       "1  [0.9985161592585081, 0.0008438074359781079, 0....  "
      ]
     },
     "execution_count": 11,
     "metadata": {},
     "output_type": "execute_result"
    }
   ],
   "source": [
    "normalize_score(sasrec_test_candidates_100)\n",
    "sasrec_test_candidates_100.head(2)"
   ]
  },
  {
   "cell_type": "code",
   "execution_count": 20,
   "metadata": {},
   "outputs": [
    {
     "name": "stderr",
     "output_type": "stream",
     "text": [
      "  0%|          | 0/316971 [00:00<?, ?it/s]/tmp/ipykernel_770953/2762373892.py:4: UserWarning: Implicit dimension choice for softmax has been deprecated. Change the call to include dim=X as an argument.\n",
      "  scores = torch.nn.functional.softmax(torch.from_numpy(scores))\n",
      "100%|██████████| 316971/316971 [00:43<00:00, 7220.07it/s]\n"
     ]
    },
    {
     "data": {
      "text/html": [
       "<div>\n",
       "<style scoped>\n",
       "    .dataframe tbody tr th:only-of-type {\n",
       "        vertical-align: middle;\n",
       "    }\n",
       "\n",
       "    .dataframe tbody tr th {\n",
       "        vertical-align: top;\n",
       "    }\n",
       "\n",
       "    .dataframe thead th {\n",
       "        text-align: right;\n",
       "    }\n",
       "</style>\n",
       "<table border=\"1\" class=\"dataframe\">\n",
       "  <thead>\n",
       "    <tr style=\"text-align: right;\">\n",
       "      <th></th>\n",
       "      <th>next_item_prediction</th>\n",
       "      <th>scores</th>\n",
       "    </tr>\n",
       "  </thead>\n",
       "  <tbody>\n",
       "    <tr>\n",
       "      <th>0</th>\n",
       "      <td>[B08V12CT4C, B099NR3X6D, B099NS1XPG, B08DFMG6D...</td>\n",
       "      <td>[0.018416484674576083, 0.01723902334513837, 0....</td>\n",
       "    </tr>\n",
       "    <tr>\n",
       "      <th>1</th>\n",
       "      <td>[B00R9R5ND6, B004ZXMV4Q, B00R9RZ9ZS, B09P1XWJP...</td>\n",
       "      <td>[0.2799033881807676, 0.14867825211013236, 0.05...</td>\n",
       "    </tr>\n",
       "  </tbody>\n",
       "</table>\n",
       "</div>"
      ],
      "text/plain": [
       "                                next_item_prediction  \\\n",
       "0  [B08V12CT4C, B099NR3X6D, B099NS1XPG, B08DFMG6D...   \n",
       "1  [B00R9R5ND6, B004ZXMV4Q, B00R9RZ9ZS, B09P1XWJP...   \n",
       "\n",
       "                                              scores  \n",
       "0  [0.018416484674576083, 0.01723902334513837, 0....  \n",
       "1  [0.2799033881807676, 0.14867825211013236, 0.05...  "
      ]
     },
     "execution_count": 20,
     "metadata": {},
     "output_type": "execute_result"
    }
   ],
   "source": [
    "normalize_score(roberta_test_candidates_100)\n",
    "roberta_test_candidates_100.head(2)"
   ]
  },
  {
   "cell_type": "code",
   "execution_count": 22,
   "metadata": {},
   "outputs": [
    {
     "name": "stderr",
     "output_type": "stream",
     "text": [
      "100%|██████████| 316971/316971 [01:57<00:00, 2692.34it/s]\n"
     ]
    },
    {
     "data": {
      "text/html": [
       "<div>\n",
       "<style scoped>\n",
       "    .dataframe tbody tr th:only-of-type {\n",
       "        vertical-align: middle;\n",
       "    }\n",
       "\n",
       "    .dataframe tbody tr th {\n",
       "        vertical-align: top;\n",
       "    }\n",
       "\n",
       "    .dataframe thead th {\n",
       "        text-align: right;\n",
       "    }\n",
       "</style>\n",
       "<table border=\"1\" class=\"dataframe\">\n",
       "  <thead>\n",
       "    <tr style=\"text-align: right;\">\n",
       "      <th></th>\n",
       "      <th>locale</th>\n",
       "      <th>next_item_prediction</th>\n",
       "    </tr>\n",
       "  </thead>\n",
       "  <tbody>\n",
       "    <tr>\n",
       "      <th>0</th>\n",
       "      <td>DE</td>\n",
       "      <td>[B07LG5T3V9, B099NS1XPG, B099NR3X6D, B08QYYBTM...</td>\n",
       "    </tr>\n",
       "    <tr>\n",
       "      <th>1</th>\n",
       "      <td>DE</td>\n",
       "      <td>[B004ZXMV4Q, B095TQTZXY, B08BZCKDKQ, B010MJNUZ...</td>\n",
       "    </tr>\n",
       "  </tbody>\n",
       "</table>\n",
       "</div>"
      ],
      "text/plain": [
       "  locale                               next_item_prediction\n",
       "0     DE  [B07LG5T3V9, B099NS1XPG, B099NR3X6D, B08QYYBTM...\n",
       "1     DE  [B004ZXMV4Q, B095TQTZXY, B08BZCKDKQ, B010MJNUZ..."
      ]
     },
     "execution_count": 22,
     "metadata": {},
     "output_type": "execute_result"
    }
   ],
   "source": [
    "merged_2_5_df = merge_candidates(sasrec_test_candidates_100, roberta_test_candidates_100, lam=2.5)\n",
    "merged_2_5_df.head(2)"
   ]
  },
  {
   "cell_type": "code",
   "execution_count": 23,
   "metadata": {},
   "outputs": [],
   "source": [
    "merged_2_5_df.to_parquet('/root/autodl-tmp/xiaolong/WorkSpace/Amazon-KDDCUP-23/predictions/merge_prediction/merge_sasrec_and_roberta.parquet')"
   ]
  },
  {
   "cell_type": "code",
   "execution_count": 26,
   "metadata": {},
   "outputs": [
    {
     "name": "stderr",
     "output_type": "stream",
     "text": [
      "100%|██████████| 316971/316971 [01:54<00:00, 2773.06it/s]\n"
     ]
    },
    {
     "data": {
      "text/html": [
       "<div>\n",
       "<style scoped>\n",
       "    .dataframe tbody tr th:only-of-type {\n",
       "        vertical-align: middle;\n",
       "    }\n",
       "\n",
       "    .dataframe tbody tr th {\n",
       "        vertical-align: top;\n",
       "    }\n",
       "\n",
       "    .dataframe thead th {\n",
       "        text-align: right;\n",
       "    }\n",
       "</style>\n",
       "<table border=\"1\" class=\"dataframe\">\n",
       "  <thead>\n",
       "    <tr style=\"text-align: right;\">\n",
       "      <th></th>\n",
       "      <th>locale</th>\n",
       "      <th>next_item_prediction</th>\n",
       "    </tr>\n",
       "  </thead>\n",
       "  <tbody>\n",
       "    <tr>\n",
       "      <th>0</th>\n",
       "      <td>DE</td>\n",
       "      <td>[B07LG5T3V9, B099NS1XPG, B099NR3X6D, B08QYYBTM...</td>\n",
       "    </tr>\n",
       "    <tr>\n",
       "      <th>1</th>\n",
       "      <td>DE</td>\n",
       "      <td>[B004ZXMV4Q, B095TQTZXY, B08BZCKDKQ, B010MJNUZ...</td>\n",
       "    </tr>\n",
       "  </tbody>\n",
       "</table>\n",
       "</div>"
      ],
      "text/plain": [
       "  locale                               next_item_prediction\n",
       "0     DE  [B07LG5T3V9, B099NS1XPG, B099NR3X6D, B08QYYBTM...\n",
       "1     DE  [B004ZXMV4Q, B095TQTZXY, B08BZCKDKQ, B010MJNUZ..."
      ]
     },
     "execution_count": 26,
     "metadata": {},
     "output_type": "execute_result"
    }
   ],
   "source": [
    "merged_5_df = merge_candidates(sasrec_test_candidates_100, roberta_test_candidates_100, lam=5)\n",
    "merged_5_df.head(2)"
   ]
  },
  {
   "cell_type": "code",
   "execution_count": 27,
   "metadata": {},
   "outputs": [],
   "source": [
    "merged_5_df.to_parquet('/root/autodl-tmp/xiaolong/WorkSpace/Amazon-KDDCUP-23/predictions/merge_prediction/merge_sasrec_and_roberta_5.parquet')"
   ]
  },
  {
   "cell_type": "code",
   "execution_count": 29,
   "metadata": {},
   "outputs": [
    {
     "name": "stderr",
     "output_type": "stream",
     "text": [
      "100%|██████████| 316971/316971 [01:51<00:00, 2839.11it/s]\n"
     ]
    },
    {
     "data": {
      "text/html": [
       "<div>\n",
       "<style scoped>\n",
       "    .dataframe tbody tr th:only-of-type {\n",
       "        vertical-align: middle;\n",
       "    }\n",
       "\n",
       "    .dataframe tbody tr th {\n",
       "        vertical-align: top;\n",
       "    }\n",
       "\n",
       "    .dataframe thead th {\n",
       "        text-align: right;\n",
       "    }\n",
       "</style>\n",
       "<table border=\"1\" class=\"dataframe\">\n",
       "  <thead>\n",
       "    <tr style=\"text-align: right;\">\n",
       "      <th></th>\n",
       "      <th>locale</th>\n",
       "      <th>next_item_prediction</th>\n",
       "    </tr>\n",
       "  </thead>\n",
       "  <tbody>\n",
       "    <tr>\n",
       "      <th>0</th>\n",
       "      <td>DE</td>\n",
       "      <td>[B07LG5T3V9, B099NS1XPG, B099NR3X6D, B08QYYBTM...</td>\n",
       "    </tr>\n",
       "    <tr>\n",
       "      <th>1</th>\n",
       "      <td>DE</td>\n",
       "      <td>[B004ZXMV4Q, B095TQTZXY, B08BZCKDKQ, B010MJNUZ...</td>\n",
       "    </tr>\n",
       "  </tbody>\n",
       "</table>\n",
       "</div>"
      ],
      "text/plain": [
       "  locale                               next_item_prediction\n",
       "0     DE  [B07LG5T3V9, B099NS1XPG, B099NR3X6D, B08QYYBTM...\n",
       "1     DE  [B004ZXMV4Q, B095TQTZXY, B08BZCKDKQ, B010MJNUZ..."
      ]
     },
     "execution_count": 29,
     "metadata": {},
     "output_type": "execute_result"
    }
   ],
   "source": [
    "merged_10_df = merge_candidates(sasrec_test_candidates_100, roberta_test_candidates_100, lam=10)\n",
    "merged_10_df.head(2)"
   ]
  },
  {
   "cell_type": "code",
   "execution_count": 30,
   "metadata": {},
   "outputs": [],
   "source": [
    "merged_10_df.to_parquet('/root/autodl-tmp/xiaolong/WorkSpace/Amazon-KDDCUP-23/predictions/merge_prediction/merge_sasrec_and_roberta_10.parquet')"
   ]
  },
  {
   "cell_type": "code",
   "execution_count": 36,
   "metadata": {},
   "outputs": [
    {
     "data": {
      "text/plain": [
       "array([0.01404141, 0.01404141, 0.01304059, 0.01283646, 0.01220759,\n",
       "       0.01192225, 0.01181792, 0.01180279, 0.01160704, 0.01154874,\n",
       "       0.01152445, 0.01151777, 0.01136345, 0.01135167, 0.01114162,\n",
       "       0.01109649, 0.01108871, 0.01108871, 0.01108871, 0.01108871,\n",
       "       0.01108871, 0.01103065, 0.01098832, 0.01094916, 0.01079389,\n",
       "       0.01077414, 0.01077349, 0.01076954, 0.01059126, 0.01059126,\n",
       "       0.01054642, 0.01054642, 0.01035539, 0.01033802, 0.01031061,\n",
       "       0.01030841, 0.01015664, 0.01005518, 0.01002118, 0.00984566,\n",
       "       0.00967115, 0.00964521, 0.0095474 , 0.00953837, 0.00953139,\n",
       "       0.0094922 , 0.00941029, 0.00935446, 0.00931372, 0.00930349,\n",
       "       0.00927939, 0.00926977, 0.00924717, 0.00924547, 0.00923532,\n",
       "       0.00923222, 0.00913971, 0.00913887, 0.00913887, 0.00913887,\n",
       "       0.00913887, 0.00913887, 0.00913887, 0.00913887, 0.00913887,\n",
       "       0.00913887, 0.00913887, 0.00913887, 0.00913887, 0.00913887,\n",
       "       0.00913887, 0.00913887, 0.00913887, 0.00913887, 0.00913887,\n",
       "       0.00913887, 0.00913887, 0.00913887, 0.00913887, 0.00913887,\n",
       "       0.00913887, 0.00913887, 0.00913887, 0.00913887, 0.00913887,\n",
       "       0.00913887, 0.00913887, 0.00913887, 0.00913887, 0.00913887,\n",
       "       0.00913887, 0.00913887, 0.00913887, 0.00913887, 0.00912633,\n",
       "       0.00912327, 0.00910047, 0.00908659, 0.0089643 , 0.00895309])"
      ]
     },
     "execution_count": 36,
     "metadata": {},
     "output_type": "execute_result"
    }
   ],
   "source": [
    "roberta_test_candidates_100.iloc[30]['scores']"
   ]
  },
  {
   "cell_type": "code",
   "execution_count": 37,
   "metadata": {},
   "outputs": [
    {
     "ename": "NameError",
     "evalue": "name 'sasrec_valid_candidates' is not defined",
     "output_type": "error",
     "traceback": [
      "\u001b[0;31m---------------------------------------------------------------------------\u001b[0m",
      "\u001b[0;31mNameError\u001b[0m                                 Traceback (most recent call last)",
      "Cell \u001b[0;32mIn[37], line 1\u001b[0m\n\u001b[0;32m----> 1\u001b[0m sasrec_valid_candidates[\u001b[39m'\u001b[39m\u001b[39mscores\u001b[39m\u001b[39m'\u001b[39m]\n",
      "\u001b[0;31mNameError\u001b[0m: name 'sasrec_valid_candidates' is not defined"
     ]
    }
   ],
   "source": [
    "sasrec_valid_candidates['scores']"
   ]
  }
 ],
 "metadata": {
  "kernelspec": {
   "display_name": "torch12",
   "language": "python",
   "name": "python3"
  },
  "language_info": {
   "codemirror_mode": {
    "name": "ipython",
    "version": 3
   },
   "file_extension": ".py",
   "mimetype": "text/x-python",
   "name": "python",
   "nbconvert_exporter": "python",
   "pygments_lexer": "ipython3",
   "version": "3.9.16"
  },
  "orig_nbformat": 4
 },
 "nbformat": 4,
 "nbformat_minor": 2
}
