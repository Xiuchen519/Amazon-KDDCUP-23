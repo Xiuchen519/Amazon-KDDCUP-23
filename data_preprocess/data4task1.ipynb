{
 "cells": [
  {
   "cell_type": "code",
   "execution_count": 1,
   "metadata": {},
   "outputs": [],
   "source": [
    "import numpy as np\n",
    "import pandas as pd \n",
    "from functools import lru_cache\n",
    "import os "
   ]
  },
  {
   "cell_type": "code",
   "execution_count": 3,
   "metadata": {},
   "outputs": [],
   "source": [
    "data_dir = '../raw_data/'\n",
    "dst_dir = '../data_for_recstudio/'"
   ]
  },
  {
   "cell_type": "code",
   "execution_count": 6,
   "metadata": {},
   "outputs": [],
   "source": [
    "@lru_cache(maxsize=1)\n",
    "def read_train_data():\n",
    "    return pd.read_csv(os.path.join(data_dir, 'sessions_train.csv'))\n",
    "\n",
    "@lru_cache(maxsize=1)\n",
    "def read_test_data(task):\n",
    "    return pd.read_csv(os.path.join(data_dir, f'sessions_test_{task}.csv'))"
   ]
  },
  {
   "cell_type": "code",
   "execution_count": 11,
   "metadata": {},
   "outputs": [
    {
     "name": "stdout",
     "output_type": "stream",
     "text": [
      "                                          prev_items   next_item locale\n",
      "0                        ['B09W9FND7K' 'B09JSPLN1M']  B09M7GY217     DE\n",
      "1  ['B076THCGSG' 'B007MO8IME' 'B08MF65MLV' 'B001B...  B001B4THSA     DE\n",
      "2  ['B0B1LGXWDS' 'B00AZYORS2' 'B0B1LGXWDS' 'B00AZ...  B0767DTG2Q     DE\n",
      "3  ['B09XMTWDVT' 'B0B4MZZ8MB' 'B0B7HZ2GWX' 'B09XM...  B0B4R9NN4B     DE\n",
      "4           ['B09Y5CSL3T' 'B09Y5DPTXN' 'B09FKD61R8']  B0BGVBKWGZ     DE\n",
      "3606249\n",
      "                                          prev_items locale\n",
      "0  ['B08V12CT4C' 'B08V1KXBQD' 'B01BVG1XJS' 'B09VC...     DE\n",
      "1           ['B00R9R5ND6' 'B00R9RZ9ZS' 'B00R9RZ9ZS']     DE\n",
      "2  ['B07YSRXJD3' 'B07G7Q5N6G' 'B08C9Q7QVK' 'B07G7...     DE\n",
      "3  ['B08KQBYV43' '3955350843' '3955350843' '39553...     DE\n",
      "4  ['B09FPTCWMC' 'B09FPTQP68' 'B08HMRY8NG' 'B08TB...     DE\n",
      "316971\n"
     ]
    }
   ],
   "source": [
    "sessions_train = read_train_data()\n",
    "sessions_test_task1 = read_test_data('task1')\n",
    "print(sessions_train.head(5))\n",
    "print(len(sessions_train))\n",
    "print(sessions_test_task1.head(5))\n",
    "print(len(sessions_test_task1))"
   ]
  },
  {
   "cell_type": "code",
   "execution_count": 13,
   "metadata": {},
   "outputs": [
    {
     "name": "stdout",
     "output_type": "stream",
     "text": [
      "                                          prev_items locale\n",
      "0           ['B08GYKNCCP' 'B08HCPTMJG' 'B08HCHS64Y']     ES\n",
      "1                        ['B08NYF9MBQ' 'B085NGXGWM']     ES\n",
      "2                        ['B091FL1QFK' 'B0B1DG29F4']     ES\n",
      "3  ['B004APAHCW' 'B07JMF49HN' 'B004APAHCW' 'B07JM...     ES\n",
      "4  ['B09YM11D4T' 'B0B12QWP5G' 'B08YMT6Q4X' 'B09V1...     ES\n",
      "34688\n",
      "                                 prev_items locale\n",
      "0               ['B082DLM3NZ' 'B089X86H73']     ES\n",
      "1  ['B071WPLND2' 'B08TMJ9SDZ' 'B07XRCLVYG']     ES\n",
      "2               ['B094V8G54H' 'B094V97YV8']     ES\n",
      "3               ['B0B3DQXY57' 'B0B6W3GGTM']     ES\n",
      "4  ['B0765BPD7T' 'B00V4PQY3C' 'B09HWV4MBK']     ES\n",
      "56421\n"
     ]
    }
   ],
   "source": [
    "sessions_test_task2 = read_test_data('task2')\n",
    "sessions_test_task3 = read_test_data('task3')\n",
    "print(sessions_test_task2.head(5))\n",
    "print(len(sessions_test_task2))\n",
    "print(sessions_test_task3.head(5))\n",
    "print(len(sessions_test_task3))"
   ]
  },
  {
   "cell_type": "code",
   "execution_count": 18,
   "metadata": {},
   "outputs": [
    {
     "data": {
      "text/plain": [
       "30000"
      ]
     },
     "execution_count": 18,
     "metadata": {},
     "output_type": "execute_result"
    }
   ],
   "source": [
    "sessions_test3_task1 = sessions_test_task3[sessions_test_task3['locale'].isin(['UK', 'JP', 'DE'])].reset_index(drop=True)\n",
    "len(sessions_test3_task1)"
   ]
  },
  {
   "cell_type": "code",
   "execution_count": 19,
   "metadata": {},
   "outputs": [
    {
     "data": {
      "text/plain": [
       "\"['B07KWVBK8W' 'B07KWVDNV2' 'B07KWVBK8W' 'B01M2CLQA5']\""
      ]
     },
     "execution_count": 19,
     "metadata": {},
     "output_type": "execute_result"
    }
   ],
   "source": [
    "sessions_test3_task1.iloc[0]['prev_items']"
   ]
  },
  {
   "cell_type": "code",
   "execution_count": 22,
   "metadata": {},
   "outputs": [],
   "source": [
    "@lru_cache(maxsize=1)\n",
    "def read_train_inter_data():\n",
    "    return pd.read_csv(os.path.join(dst_dir, f'inter_feat.csv'))"
   ]
  },
  {
   "cell_type": "code",
   "execution_count": 25,
   "metadata": {},
   "outputs": [
    {
     "data": {
      "text/plain": [
       "3606248"
      ]
     },
     "execution_count": 25,
     "metadata": {},
     "output_type": "execute_result"
    }
   ],
   "source": [
    "sessions_train_inter_feat = read_train_inter_data()\n",
    "num_train_sessions = sessions_train_inter_feat['sess_id'].max()\n",
    "num_train_sessions"
   ]
  },
  {
   "cell_type": "code",
   "execution_count": 27,
   "metadata": {},
   "outputs": [
    {
     "name": "stderr",
     "output_type": "stream",
     "text": [
      "100%|██████████| 316971/316971 [00:10<00:00, 29091.68it/s]\n",
      "100%|██████████| 30000/30000 [00:01<00:00, 28767.96it/s]\n"
     ]
    }
   ],
   "source": [
    "from tqdm import tqdm \n",
    "num_test1 = len(sessions_test_task1)\n",
    "num_test3 = len(sessions_test3_task1)\n",
    "\n",
    "with open(os.path.join(dst_dir, 'all_task1_inter_feat.csv'), 'w') as f:\n",
    "    f.write('sess_id,product_id,timestamp,locale\\n')\n",
    "    \n",
    "    for i in tqdm(range(num_test1)):\n",
    "        sess_id = i + num_train_sessions\n",
    "        sess = sessions_test_task1.iloc[i]\n",
    "        sess_locale = sess['locale']\n",
    "        sess_prev_items = sess['prev_items']\n",
    "        \n",
    "        product_list = sess_prev_items.strip('[]').split(' ')\n",
    "        product_list = list(map(lambda x : x.strip(\"'\\n\"), product_list))\n",
    "        \n",
    "        for j, product_id in enumerate(product_list):\n",
    "            inter_str = f'{sess_id},{product_id},{j},{sess_locale}\\n'\n",
    "            f.write(inter_str)\n",
    "\n",
    "    for i in tqdm(range(num_test3)):\n",
    "        sess_id = i + num_train_sessions + num_test1\n",
    "        sess = sessions_test3_task1.iloc[i]\n",
    "        sess_locale = sess['locale']\n",
    "        sess_prev_items = sess['prev_items']\n",
    "        \n",
    "        product_list = sess_prev_items.strip('[]').split(' ')\n",
    "        product_list = list(map(lambda x : x.strip(\"'\\n\"), product_list))\n",
    "        \n",
    "        for j, product_id in enumerate(product_list):\n",
    "            inter_str = f'{sess_id},{product_id},{j},{sess_locale}\\n'\n",
    "            f.write(inter_str)"
   ]
  },
  {
   "cell_type": "code",
   "execution_count": 29,
   "metadata": {},
   "outputs": [],
   "source": [
    "@lru_cache(maxsize=1)\n",
    "def read_all_task1_inter_data():\n",
    "    return pd.read_csv(os.path.join(dst_dir, f'all_task1_inter_feat.csv'))"
   ]
  },
  {
   "cell_type": "code",
   "execution_count": 31,
   "metadata": {},
   "outputs": [
    {
     "name": "stdout",
     "output_type": "stream",
     "text": [
      "1447779\n",
      "3953218\n"
     ]
    }
   ],
   "source": [
    "all_task1_inter_feat = read_all_task1_inter_data()\n",
    "print(len(all_task1_inter_feat))\n",
    "print(all_task1_inter_feat['sess_id'].max())"
   ]
  },
  {
   "cell_type": "code",
   "execution_count": 33,
   "metadata": {},
   "outputs": [
    {
     "name": "stdout",
     "output_type": "stream",
     "text": [
      "18912432\n",
      "20360211\n",
      "3953218\n"
     ]
    }
   ],
   "source": [
    "all_task1_inter_feat_ = pd.concat([sessions_train_inter_feat, all_task1_inter_feat], ignore_index=True)\n",
    "print(len(sessions_train_inter_feat))\n",
    "print(len(all_task1_inter_feat_))\n",
    "print(all_task1_inter_feat_['sess_id'].max())"
   ]
  },
  {
   "cell_type": "code",
   "execution_count": 35,
   "metadata": {},
   "outputs": [],
   "source": [
    "all_task1_inter_feat_.to_csv(os.path.join(dst_dir, f'all_task1_inter_feat.csv'), sep=',')"
   ]
  },
  {
   "cell_type": "code",
   "execution_count": 4,
   "metadata": {},
   "outputs": [
    {
     "data": {
      "text/html": [
       "<div>\n",
       "<style scoped>\n",
       "    .dataframe tbody tr th:only-of-type {\n",
       "        vertical-align: middle;\n",
       "    }\n",
       "\n",
       "    .dataframe tbody tr th {\n",
       "        vertical-align: top;\n",
       "    }\n",
       "\n",
       "    .dataframe thead th {\n",
       "        text-align: right;\n",
       "    }\n",
       "</style>\n",
       "<table border=\"1\" class=\"dataframe\">\n",
       "  <thead>\n",
       "    <tr style=\"text-align: right;\">\n",
       "      <th></th>\n",
       "      <th>Unnamed: 0</th>\n",
       "      <th>sess_id</th>\n",
       "      <th>product_id</th>\n",
       "      <th>timestamp</th>\n",
       "      <th>locale</th>\n",
       "    </tr>\n",
       "  </thead>\n",
       "  <tbody>\n",
       "    <tr>\n",
       "      <th>0</th>\n",
       "      <td>0</td>\n",
       "      <td>0</td>\n",
       "      <td>B09W9FND7K</td>\n",
       "      <td>0</td>\n",
       "      <td>DE</td>\n",
       "    </tr>\n",
       "    <tr>\n",
       "      <th>1</th>\n",
       "      <td>1</td>\n",
       "      <td>0</td>\n",
       "      <td>B09JSPLN1M</td>\n",
       "      <td>1</td>\n",
       "      <td>DE</td>\n",
       "    </tr>\n",
       "    <tr>\n",
       "      <th>2</th>\n",
       "      <td>2</td>\n",
       "      <td>0</td>\n",
       "      <td>B09M7GY217</td>\n",
       "      <td>2</td>\n",
       "      <td>DE</td>\n",
       "    </tr>\n",
       "    <tr>\n",
       "      <th>3</th>\n",
       "      <td>3</td>\n",
       "      <td>1</td>\n",
       "      <td>B076THCGSG</td>\n",
       "      <td>0</td>\n",
       "      <td>DE</td>\n",
       "    </tr>\n",
       "    <tr>\n",
       "      <th>4</th>\n",
       "      <td>4</td>\n",
       "      <td>1</td>\n",
       "      <td>B007MO8IME</td>\n",
       "      <td>1</td>\n",
       "      <td>DE</td>\n",
       "    </tr>\n",
       "  </tbody>\n",
       "</table>\n",
       "</div>"
      ],
      "text/plain": [
       "   Unnamed: 0  sess_id  product_id  timestamp locale\n",
       "0           0        0  B09W9FND7K          0     DE\n",
       "1           1        0  B09JSPLN1M          1     DE\n",
       "2           2        0  B09M7GY217          2     DE\n",
       "3           3        1  B076THCGSG          0     DE\n",
       "4           4        1  B007MO8IME          1     DE"
      ]
     },
     "execution_count": 4,
     "metadata": {},
     "output_type": "execute_result"
    }
   ],
   "source": [
    "all_task1_inter_feat_ = pd.read_csv(os.path.join(dst_dir, f'all_task1_inter_feat.csv'))\n",
    "all_task1_inter_feat_.head(5)"
   ]
  },
  {
   "cell_type": "code",
   "execution_count": 22,
   "metadata": {},
   "outputs": [],
   "source": [
    "all_task1_inter_feat_ = all_task1_inter_feat_.drop(columns=['Unnamed: 0'], axis=1)"
   ]
  },
  {
   "cell_type": "code",
   "execution_count": 23,
   "metadata": {},
   "outputs": [],
   "source": [
    "all_task1_inter_feat_.to_csv(os.path.join(dst_dir, f'all_task1_inter_feat.csv'), sep=',', index=False)"
   ]
  },
  {
   "cell_type": "code",
   "execution_count": 24,
   "metadata": {},
   "outputs": [
    {
     "data": {
      "text/html": [
       "<div>\n",
       "<style scoped>\n",
       "    .dataframe tbody tr th:only-of-type {\n",
       "        vertical-align: middle;\n",
       "    }\n",
       "\n",
       "    .dataframe tbody tr th {\n",
       "        vertical-align: top;\n",
       "    }\n",
       "\n",
       "    .dataframe thead th {\n",
       "        text-align: right;\n",
       "    }\n",
       "</style>\n",
       "<table border=\"1\" class=\"dataframe\">\n",
       "  <thead>\n",
       "    <tr style=\"text-align: right;\">\n",
       "      <th></th>\n",
       "      <th>sess_id</th>\n",
       "      <th>product_id</th>\n",
       "      <th>timestamp</th>\n",
       "      <th>locale</th>\n",
       "    </tr>\n",
       "  </thead>\n",
       "  <tbody>\n",
       "    <tr>\n",
       "      <th>0</th>\n",
       "      <td>0</td>\n",
       "      <td>B09W9FND7K</td>\n",
       "      <td>0</td>\n",
       "      <td>DE</td>\n",
       "    </tr>\n",
       "    <tr>\n",
       "      <th>1</th>\n",
       "      <td>0</td>\n",
       "      <td>B09JSPLN1M</td>\n",
       "      <td>1</td>\n",
       "      <td>DE</td>\n",
       "    </tr>\n",
       "    <tr>\n",
       "      <th>2</th>\n",
       "      <td>0</td>\n",
       "      <td>B09M7GY217</td>\n",
       "      <td>2</td>\n",
       "      <td>DE</td>\n",
       "    </tr>\n",
       "    <tr>\n",
       "      <th>3</th>\n",
       "      <td>1</td>\n",
       "      <td>B076THCGSG</td>\n",
       "      <td>0</td>\n",
       "      <td>DE</td>\n",
       "    </tr>\n",
       "    <tr>\n",
       "      <th>4</th>\n",
       "      <td>1</td>\n",
       "      <td>B007MO8IME</td>\n",
       "      <td>1</td>\n",
       "      <td>DE</td>\n",
       "    </tr>\n",
       "  </tbody>\n",
       "</table>\n",
       "</div>"
      ],
      "text/plain": [
       "   sess_id  product_id  timestamp locale\n",
       "0        0  B09W9FND7K          0     DE\n",
       "1        0  B09JSPLN1M          1     DE\n",
       "2        0  B09M7GY217          2     DE\n",
       "3        1  B076THCGSG          0     DE\n",
       "4        1  B007MO8IME          1     DE"
      ]
     },
     "execution_count": 24,
     "metadata": {},
     "output_type": "execute_result"
    }
   ],
   "source": [
    "all_task1_inter_feat_ = pd.read_csv(os.path.join(dst_dir, f'all_task1_inter_feat.csv'))\n",
    "all_task1_inter_feat_.head(5)"
   ]
  }
 ],
 "metadata": {
  "kernelspec": {
   "display_name": "torch12",
   "language": "python",
   "name": "python3"
  },
  "language_info": {
   "codemirror_mode": {
    "name": "ipython",
    "version": 3
   },
   "file_extension": ".py",
   "mimetype": "text/x-python",
   "name": "python",
   "nbconvert_exporter": "python",
   "pygments_lexer": "ipython3",
   "version": "3.9.16"
  },
  "orig_nbformat": 4
 },
 "nbformat": 4,
 "nbformat_minor": 2
}
