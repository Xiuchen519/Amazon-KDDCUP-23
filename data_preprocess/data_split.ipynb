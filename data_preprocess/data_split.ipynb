{
 "cells": [
  {
   "cell_type": "code",
   "execution_count": 1,
   "metadata": {},
   "outputs": [],
   "source": [
    "import numpy as np\n",
    "import pandas as pd \n",
    "from functools import lru_cache\n",
    "import os\n",
    "from tqdm import tqdm \n",
    "np.random.seed(42)"
   ]
  },
  {
   "cell_type": "code",
   "execution_count": 2,
   "metadata": {},
   "outputs": [],
   "source": [
    "train_data_dir = '../raw_data/'\n",
    "test_data_dir = '../raw_data/'\n",
    "recstudio_data_dir = '../data_for_recstudio/'\n",
    "task = 'task1'\n",
    "PREDS_PER_SESSION = 100"
   ]
  },
  {
   "cell_type": "code",
   "execution_count": 10,
   "metadata": {},
   "outputs": [],
   "source": [
    "@lru_cache(maxsize=1)\n",
    "def read_product_data():\n",
    "    return pd.read_csv(os.path.join(train_data_dir, 'products_train.csv'))\n",
    "\n",
    "@lru_cache(maxsize=1)\n",
    "def read_train_data():\n",
    "    return pd.read_csv(os.path.join(train_data_dir, 'sessions_train.csv'))\n",
    "\n",
    "@lru_cache(maxsize=3)\n",
    "def read_test_data(task):\n",
    "    return pd.read_csv(os.path.join(test_data_dir, f'sessions_test_{task}_phase1.csv'))\n",
    "\n",
    "@lru_cache(maxsize=1)\n",
    "def read_all_task1_data():\n",
    "    return pd.read_csv(os.path.join(recstudio_data_dir, 'products_train.csv'))"
   ]
  },
  {
   "cell_type": "code",
   "execution_count": 11,
   "metadata": {},
   "outputs": [],
   "source": [
    "def split_valid_data(df, ratio):\n",
    "    num_sessions = len(df)\n",
    "    num_val_sessions = int(ratio * num_sessions)\n",
    "    index_permu = np.random.permutation(num_sessions)\n",
    "    valid_index = index_permu[:num_val_sessions]\n",
    "    train_index = index_permu[num_val_sessions:]\n",
    "    val_df = df.iloc[valid_index].reset_index(drop=True)\n",
    "    train_df = df.iloc[train_index].reset_index(drop=True)\n",
    "    return train_df, val_df"
   ]
  },
  {
   "cell_type": "code",
   "execution_count": 12,
   "metadata": {},
   "outputs": [],
   "source": [
    "def session_2_inter_feat(sessions_df, save_path, test=False):\n",
    "    num_sessions = len(sessions_df)\n",
    "\n",
    "    with open(os.path.join(save_path), 'w') as f:\n",
    "        f.write('sess_id,product_id,timestamp,locale\\n')\n",
    "\n",
    "        for i in tqdm(range(num_sessions)):\n",
    "            sess = sessions_df.iloc[i]\n",
    "            sess_locale = sess['locale']\n",
    "            sess_prev_items = sess['prev_items']\n",
    "            if not test:\n",
    "                sess_next_item = sess['next_item']\n",
    "            \n",
    "            product_list = sess_prev_items.strip('[]').split(' ')\n",
    "            product_list = list(map(lambda x : x.strip(\"'\\n\"), product_list))\n",
    "            if not test:\n",
    "                product_list.append(sess_next_item)\n",
    "\n",
    "            sess_id = i\n",
    "            for j, product_id in enumerate(product_list):\n",
    "                inter_str = f'{sess_id},{product_id},{j},{sess_locale}\\n'\n",
    "                f.write(inter_str)"
   ]
  },
  {
   "cell_type": "code",
   "execution_count": 13,
   "metadata": {},
   "outputs": [],
   "source": [
    "def transform_test_2_train(test_sessions_df):\n",
    "    train_prev_items, train_locales, train_next_items  = [], [], []\n",
    "    for i in tqdm(range(len(test_sessions_df))):\n",
    "        sess = test_sessions_df.iloc[i]\n",
    "        sess_prev_items = sess['prev_items']\n",
    "        sess_locale = sess['locale']\n",
    "        product_list = sess_prev_items.strip('[]').split(' ')\n",
    "        product_list = np.array(list(map(lambda x : x.strip(\"'\\n\"), product_list)))\n",
    "        \n",
    "        if len(product_list) <= 1:\n",
    "            continue\n",
    "\n",
    "        next_item = product_list[-1]\n",
    "        product_list = product_list[:-1]\n",
    "\n",
    "        train_prev_items.append(str(product_list))\n",
    "        train_locales.append(sess_locale)\n",
    "        train_next_items.append(next_item)\n",
    "\n",
    "    train_sessions_df = pd.DataFrame({'prev_items' : train_prev_items, 'locale' : train_locales, 'next_item' : train_next_items})\n",
    "    return train_sessions_df"
   ]
  },
  {
   "cell_type": "code",
   "execution_count": 14,
   "metadata": {},
   "outputs": [],
   "source": [
    "def split_single_locale(all_sessions, locale_name):\n",
    "    locale_sessions = all_sessions[all_sessions['locale'] == locale_name]\n",
    "    return locale_sessions   "
   ]
  },
  {
   "cell_type": "code",
   "execution_count": 15,
   "metadata": {},
   "outputs": [],
   "source": [
    "train_sessions = read_train_data()\n",
    "task_1_test_sessions = read_test_data('task1')\n",
    "task_2_test_sessions = read_test_data('task2')\n",
    "task_3_test_sessions = read_test_data('task3')"
   ]
  },
  {
   "attachments": {},
   "cell_type": "markdown",
   "metadata": {},
   "source": [
    "# data for task1"
   ]
  },
  {
   "cell_type": "code",
   "execution_count": 16,
   "metadata": {},
   "outputs": [
    {
     "data": {
      "text/plain": [
       "30000"
      ]
     },
     "execution_count": 16,
     "metadata": {},
     "output_type": "execute_result"
    }
   ],
   "source": [
    "task3_4_task1_test_sessions = task_3_test_sessions[task_3_test_sessions['locale'].isin(['UK', 'JP', 'DE'])].reset_index(drop=True)\n",
    "len(task3_4_task1_test_sessions)"
   ]
  },
  {
   "cell_type": "code",
   "execution_count": 17,
   "metadata": {},
   "outputs": [
    {
     "name": "stderr",
     "output_type": "stream",
     "text": [
      "100%|██████████| 316971/316971 [00:30<00:00, 10532.04it/s]\n"
     ]
    },
    {
     "name": "stdout",
     "output_type": "stream",
     "text": [
      "                                          prev_items locale   next_item\n",
      "0  ['B08V12CT4C' 'B08V1KXBQD' 'B01BVG1XJS' 'B09VC...     DE  B099NQFMG7\n",
      "1                        ['B00R9R5ND6' 'B00R9RZ9ZS']     DE  B00R9RZ9ZS\n",
      "2           ['B07YSRXJD3' 'B07G7Q5N6G' 'B08C9Q7QVK']     DE  B07G7Q5N6G\n",
      "3  ['B08KQBYV43' '3955350843' '3955350843' '39553...     DE  3955350843\n",
      "4  ['B09FPTCWMC' 'B09FPTQP68' 'B08HMRY8NG' 'B08TB...     DE  B09J945WQR\n",
      "316971\n"
     ]
    },
    {
     "name": "stderr",
     "output_type": "stream",
     "text": [
      "100%|██████████| 30000/30000 [00:02<00:00, 10522.34it/s]"
     ]
    },
    {
     "name": "stdout",
     "output_type": "stream",
     "text": [
      "                                 prev_items locale   next_item\n",
      "0  ['B07KWVBK8W' 'B07KWVDNV2' 'B07KWVBK8W']     DE  B01M2CLQA5\n",
      "1               ['B08K7GPV1G' 'B08P1WJYW5']     DE  B09MFXKQMT\n",
      "2               ['B07R8RCRYL' 'B08379LSYF']     DE  B00PM9Z2L6\n",
      "3  ['B084RTW66R' 'B001O7XWFI' 'B088KRKFJ3']     DE  B09LYX3WBC\n",
      "4                            ['B074M9DZ4M']     DE  B074M9DZ4M\n",
      "30000\n"
     ]
    },
    {
     "name": "stderr",
     "output_type": "stream",
     "text": [
      "\n"
     ]
    }
   ],
   "source": [
    "# merge 3 data\n",
    "\n",
    "task1_prev_items, task1_locales, task1_next_items  = [], [], []\n",
    "for i in tqdm(range(len(task_1_test_sessions))):\n",
    "    sess = task_1_test_sessions.iloc[i]\n",
    "    sess_prev_items = sess['prev_items']\n",
    "    sess_locale = sess['locale']\n",
    "    product_list = sess_prev_items.strip('[]').split(' ')\n",
    "    product_list = np.array(list(map(lambda x : x.strip(\"'\\n\"), product_list)))\n",
    "    \n",
    "    if len(product_list) <= 1:\n",
    "        continue\n",
    "\n",
    "    next_item = product_list[-1]\n",
    "    product_list = product_list[:-1]\n",
    "\n",
    "    task1_prev_items.append(str(product_list))\n",
    "    task1_locales.append(sess_locale)\n",
    "    task1_next_items.append(next_item)\n",
    "\n",
    "task_1_test_sessions = pd.DataFrame({'prev_items' : task1_prev_items, 'locale' : task1_locales, 'next_item' : task1_next_items})\n",
    "print(task_1_test_sessions.head(5))\n",
    "print(len(task_1_test_sessions))\n",
    "\n",
    "task3_prev_items, task3_locales, task3_next_items  = [], [], []\n",
    "for i in tqdm(range(len(task3_4_task1_test_sessions))):\n",
    "    sess = task3_4_task1_test_sessions.iloc[i]\n",
    "    sess_prev_items = sess['prev_items']\n",
    "    sess_locale = sess['locale']\n",
    "    product_list = sess_prev_items.strip('[]').split(' ')\n",
    "    product_list = np.array(list(map(lambda x : x.strip(\"'\\n\"), product_list)))\n",
    "    \n",
    "    if len(product_list) <= 1:\n",
    "        continue\n",
    "\n",
    "    next_item = product_list[-1]\n",
    "    product_list = product_list[:-1]\n",
    "\n",
    "    task3_prev_items.append(str(product_list))\n",
    "    task3_locales.append(sess_locale)\n",
    "    task3_next_items.append(next_item)\n",
    "\n",
    "task3_4_task1_test_sessions = pd.DataFrame({'prev_items' : task3_prev_items, 'locale' : task3_locales, 'next_item' : task3_next_items})\n",
    "print(task3_4_task1_test_sessions.head(5))\n",
    "print(len(task3_4_task1_test_sessions))\n",
    "\n"
   ]
  },
  {
   "cell_type": "code",
   "execution_count": 18,
   "metadata": {},
   "outputs": [
    {
     "data": {
      "text/plain": [
       "(                                          prev_items   next_item locale\n",
       " 0                        ['B09W9FND7K' 'B09JSPLN1M']  B09M7GY217     DE\n",
       " 1  ['B076THCGSG' 'B007MO8IME' 'B08MF65MLV' 'B001B...  B001B4THSA     DE\n",
       " 2  ['B0B1LGXWDS' 'B00AZYORS2' 'B0B1LGXWDS' 'B00AZ...  B0767DTG2Q     DE\n",
       " 3  ['B09XMTWDVT' 'B0B4MZZ8MB' 'B0B7HZ2GWX' 'B09XM...  B0B4R9NN4B     DE\n",
       " 4           ['B09Y5CSL3T' 'B09Y5DPTXN' 'B09FKD61R8']  B0BGVBKWGZ     DE,\n",
       " 3953220,\n",
       " 3606249)"
      ]
     },
     "execution_count": 18,
     "metadata": {},
     "output_type": "execute_result"
    }
   ],
   "source": [
    "all_task_1_sessions = pd.concat([train_sessions, task_1_test_sessions, task3_4_task1_test_sessions], axis=0, ignore_index=True)\n",
    "all_task_1_sessions.head(5), len(all_task_1_sessions), len(train_sessions)"
   ]
  },
  {
   "cell_type": "code",
   "execution_count": 19,
   "metadata": {},
   "outputs": [],
   "source": [
    "# split all data \n",
    "all_task_1_train_sessions, all_task_1_valid_sessions = split_valid_data(all_task_1_sessions, 0.1)"
   ]
  },
  {
   "cell_type": "code",
   "execution_count": 20,
   "metadata": {},
   "outputs": [
    {
     "data": {
      "text/plain": [
       "(3557898, 395322)"
      ]
     },
     "execution_count": 20,
     "metadata": {},
     "output_type": "execute_result"
    }
   ],
   "source": [
    "len(all_task_1_train_sessions), len(all_task_1_valid_sessions)"
   ]
  },
  {
   "cell_type": "code",
   "execution_count": 21,
   "metadata": {},
   "outputs": [
    {
     "data": {
      "text/html": [
       "<div>\n",
       "<style scoped>\n",
       "    .dataframe tbody tr th:only-of-type {\n",
       "        vertical-align: middle;\n",
       "    }\n",
       "\n",
       "    .dataframe tbody tr th {\n",
       "        vertical-align: top;\n",
       "    }\n",
       "\n",
       "    .dataframe thead th {\n",
       "        text-align: right;\n",
       "    }\n",
       "</style>\n",
       "<table border=\"1\" class=\"dataframe\">\n",
       "  <thead>\n",
       "    <tr style=\"text-align: right;\">\n",
       "      <th></th>\n",
       "      <th>prev_items</th>\n",
       "      <th>next_item</th>\n",
       "      <th>locale</th>\n",
       "    </tr>\n",
       "  </thead>\n",
       "  <tbody>\n",
       "    <tr>\n",
       "      <th>0</th>\n",
       "      <td>['B007K5OLDU' 'B00RP3DEW6']</td>\n",
       "      <td>B005VX9IO0</td>\n",
       "      <td>IT</td>\n",
       "    </tr>\n",
       "    <tr>\n",
       "      <th>1</th>\n",
       "      <td>['B09VSN9GLS' 'B09VSG9DCG' 'B0BJ5L1ZPH' 'B09VS...</td>\n",
       "      <td>B06XG1LZ6Z</td>\n",
       "      <td>UK</td>\n",
       "    </tr>\n",
       "    <tr>\n",
       "      <th>2</th>\n",
       "      <td>['B00390YWXE' 'B00390YWXE' 'B09WM9W6WQ']</td>\n",
       "      <td>B01MSUI4FE</td>\n",
       "      <td>JP</td>\n",
       "    </tr>\n",
       "    <tr>\n",
       "      <th>3</th>\n",
       "      <td>['B01BM9V6H8' 'B01MG55XDR' 'B07VYSSRL7']</td>\n",
       "      <td>B01M6625ME</td>\n",
       "      <td>UK</td>\n",
       "    </tr>\n",
       "    <tr>\n",
       "      <th>4</th>\n",
       "      <td>['B092ZG24S7' 'B09BNHWWZM' 'B08CB1WG5M' '17880...</td>\n",
       "      <td>0241558573</td>\n",
       "      <td>UK</td>\n",
       "    </tr>\n",
       "    <tr>\n",
       "      <th>...</th>\n",
       "      <td>...</td>\n",
       "      <td>...</td>\n",
       "      <td>...</td>\n",
       "    </tr>\n",
       "    <tr>\n",
       "      <th>395317</th>\n",
       "      <td>['B08HH6L4PB' 'B08L8N8HDR']</td>\n",
       "      <td>B00TS5UXGY</td>\n",
       "      <td>UK</td>\n",
       "    </tr>\n",
       "    <tr>\n",
       "      <th>395318</th>\n",
       "      <td>['B08X4L1KLZ' 'B09BBX1T4S' 'B09D76FT9D']</td>\n",
       "      <td>B09BCM5NL1</td>\n",
       "      <td>JP</td>\n",
       "    </tr>\n",
       "    <tr>\n",
       "      <th>395319</th>\n",
       "      <td>['B0098G6L3M' 'B00ELRLP3O' 'B00PLXGK82' 'B09GS...</td>\n",
       "      <td>B0BC38GHB4</td>\n",
       "      <td>DE</td>\n",
       "    </tr>\n",
       "    <tr>\n",
       "      <th>395320</th>\n",
       "      <td>['B07Q2CNLY3' 'B07Q2CNLY3' 'B07BR7DZWN' 'B07Q2...</td>\n",
       "      <td>B08H8SYLMQ</td>\n",
       "      <td>DE</td>\n",
       "    </tr>\n",
       "    <tr>\n",
       "      <th>395321</th>\n",
       "      <td>['B07N6J2M3K' 'B081YZVG5L' 'B011XK46F0' 'B0842...</td>\n",
       "      <td>B0853Q7C2Q</td>\n",
       "      <td>DE</td>\n",
       "    </tr>\n",
       "  </tbody>\n",
       "</table>\n",
       "<p>395322 rows × 3 columns</p>\n",
       "</div>"
      ],
      "text/plain": [
       "                                               prev_items   next_item locale\n",
       "0                             ['B007K5OLDU' 'B00RP3DEW6']  B005VX9IO0     IT\n",
       "1       ['B09VSN9GLS' 'B09VSG9DCG' 'B0BJ5L1ZPH' 'B09VS...  B06XG1LZ6Z     UK\n",
       "2                ['B00390YWXE' 'B00390YWXE' 'B09WM9W6WQ']  B01MSUI4FE     JP\n",
       "3                ['B01BM9V6H8' 'B01MG55XDR' 'B07VYSSRL7']  B01M6625ME     UK\n",
       "4       ['B092ZG24S7' 'B09BNHWWZM' 'B08CB1WG5M' '17880...  0241558573     UK\n",
       "...                                                   ...         ...    ...\n",
       "395317                        ['B08HH6L4PB' 'B08L8N8HDR']  B00TS5UXGY     UK\n",
       "395318           ['B08X4L1KLZ' 'B09BBX1T4S' 'B09D76FT9D']  B09BCM5NL1     JP\n",
       "395319  ['B0098G6L3M' 'B00ELRLP3O' 'B00PLXGK82' 'B09GS...  B0BC38GHB4     DE\n",
       "395320  ['B07Q2CNLY3' 'B07Q2CNLY3' 'B07BR7DZWN' 'B07Q2...  B08H8SYLMQ     DE\n",
       "395321  ['B07N6J2M3K' 'B081YZVG5L' 'B011XK46F0' 'B0842...  B0853Q7C2Q     DE\n",
       "\n",
       "[395322 rows x 3 columns]"
      ]
     },
     "execution_count": 21,
     "metadata": {},
     "output_type": "execute_result"
    }
   ],
   "source": [
    "all_task_1_valid_sessions"
   ]
  },
  {
   "cell_type": "code",
   "execution_count": 13,
   "metadata": {},
   "outputs": [],
   "source": [
    "all_task_1_valid_sessions.to_csv('../data_for_recstudio/task13_4_all_valid_sessions.csv', index=False)"
   ]
  },
  {
   "cell_type": "code",
   "execution_count": 53,
   "metadata": {},
   "outputs": [
    {
     "data": {
      "text/plain": [
       "361581"
      ]
     },
     "execution_count": 53,
     "metadata": {},
     "output_type": "execute_result"
    }
   ],
   "source": [
    "# filter ES, IT, FR in valid sessions\n",
    "all_task_1_valid_sessions = all_task_1_valid_sessions[all_task_1_valid_sessions['locale'].isin(['DE', 'JP', 'UK'])]\n",
    "len(all_task_1_valid_sessions)"
   ]
  },
  {
   "cell_type": "code",
   "execution_count": 55,
   "metadata": {},
   "outputs": [
    {
     "name": "stderr",
     "output_type": "stream",
     "text": [
      "100%|██████████| 3557898/3557898 [05:45<00:00, 10285.57it/s]\n",
      "100%|██████████| 361581/361581 [00:35<00:00, 10151.82it/s]\n"
     ]
    }
   ],
   "source": [
    "session_2_inter_feat(all_task_1_train_sessions, '../data_for_recstudio/all_task_1_train_inter_feat.csv')\n",
    "session_2_inter_feat(all_task_1_valid_sessions, '../data_for_recstudio/all_task_1_valid_inter_feat.csv')"
   ]
  },
  {
   "attachments": {},
   "cell_type": "markdown",
   "metadata": {},
   "source": [
    "# tune data"
   ]
  },
  {
   "cell_type": "code",
   "execution_count": 56,
   "metadata": {},
   "outputs": [],
   "source": [
    "tune_task_1_sessions = all_task_1_sessions.sample(int(0.3 * len(all_task_1_sessions)), ignore_index=True)"
   ]
  },
  {
   "cell_type": "code",
   "execution_count": 57,
   "metadata": {},
   "outputs": [
    {
     "data": {
      "text/plain": [
       "1185966"
      ]
     },
     "execution_count": 57,
     "metadata": {},
     "output_type": "execute_result"
    }
   ],
   "source": [
    "len(tune_task_1_sessions)"
   ]
  },
  {
   "cell_type": "code",
   "execution_count": 58,
   "metadata": {},
   "outputs": [
    {
     "data": {
      "text/plain": [
       "(1067370, 118596)"
      ]
     },
     "execution_count": 58,
     "metadata": {},
     "output_type": "execute_result"
    }
   ],
   "source": [
    "tune_task_1_train_sessions, tune_task_1_valid_sessions = split_valid_data(tune_task_1_sessions, 0.1)\n",
    "len(tune_task_1_train_sessions), len(tune_task_1_valid_sessions)"
   ]
  },
  {
   "cell_type": "code",
   "execution_count": 59,
   "metadata": {},
   "outputs": [
    {
     "data": {
      "text/plain": [
       "108617"
      ]
     },
     "execution_count": 59,
     "metadata": {},
     "output_type": "execute_result"
    }
   ],
   "source": [
    "# filter ES, IT, FR in valid sessions\n",
    "tune_task_1_valid_sessions = tune_task_1_valid_sessions[tune_task_1_valid_sessions['locale'].isin(['DE', 'JP', 'UK'])]\n",
    "len(tune_task_1_valid_sessions)"
   ]
  },
  {
   "cell_type": "code",
   "execution_count": 60,
   "metadata": {},
   "outputs": [
    {
     "name": "stderr",
     "output_type": "stream",
     "text": [
      "100%|██████████| 1067370/1067370 [01:42<00:00, 10365.51it/s]\n",
      "100%|██████████| 108617/108617 [00:10<00:00, 10113.86it/s]\n"
     ]
    }
   ],
   "source": [
    "session_2_inter_feat(tune_task_1_train_sessions, '../data_for_recstudio/tune_task_1_train_inter_feat.csv')\n",
    "session_2_inter_feat(tune_task_1_valid_sessions, '../data_for_recstudio/tune_task_1_valid_inter_feat.csv')"
   ]
  },
  {
   "cell_type": "code",
   "execution_count": 61,
   "metadata": {},
   "outputs": [
    {
     "data": {
      "text/plain": [
       "(18321875, 1882412)"
      ]
     },
     "execution_count": 61,
     "metadata": {},
     "output_type": "execute_result"
    }
   ],
   "source": [
    "all_task_1_train_inter_feat = pd.read_csv('../data_for_recstudio/all_task_1_train_inter_feat.csv')\n",
    "all_task_1_valid_inter_feat = pd.read_csv('../data_for_recstudio/all_task_1_valid_inter_feat.csv')\n",
    "\n",
    "len(all_task_1_train_inter_feat), len(all_task_1_valid_inter_feat)"
   ]
  },
  {
   "cell_type": "code",
   "execution_count": 62,
   "metadata": {},
   "outputs": [
    {
     "data": {
      "text/plain": [
       "(5497807, 566614)"
      ]
     },
     "execution_count": 62,
     "metadata": {},
     "output_type": "execute_result"
    }
   ],
   "source": [
    "tune_task_1_train_inter_feat = pd.read_csv('../data_for_recstudio/tune_task_1_train_inter_feat.csv')\n",
    "tune_task_1_valid_inter_feat = pd.read_csv('../data_for_recstudio/tune_task_1_valid_inter_feat.csv')\n",
    "len(tune_task_1_train_inter_feat), len(tune_task_1_valid_inter_feat)"
   ]
  },
  {
   "attachments": {},
   "cell_type": "markdown",
   "metadata": {},
   "source": [
    "# data for task2"
   ]
  },
  {
   "cell_type": "code",
   "execution_count": 8,
   "metadata": {},
   "outputs": [
    {
     "data": {
      "text/plain": [
       "26421"
      ]
     },
     "execution_count": 8,
     "metadata": {},
     "output_type": "execute_result"
    }
   ],
   "source": [
    "task3_4_task2_test_sessions = task_3_test_sessions[task_3_test_sessions['locale'].isin(['IT', 'FR', 'ES'])].reset_index(drop=True)\n",
    "len(task3_4_task2_test_sessions)"
   ]
  },
  {
   "cell_type": "code",
   "execution_count": 9,
   "metadata": {},
   "outputs": [
    {
     "name": "stderr",
     "output_type": "stream",
     "text": [
      "100%|██████████| 26421/26421 [00:02<00:00, 9542.61it/s] \n"
     ]
    }
   ],
   "source": [
    "task3_4_task2_test_sessions_transformed = transform_test_2_train(task3_4_task2_test_sessions)"
   ]
  },
  {
   "cell_type": "code",
   "execution_count": 10,
   "metadata": {},
   "outputs": [
    {
     "name": "stderr",
     "output_type": "stream",
     "text": [
      "100%|██████████| 34688/34688 [00:04<00:00, 8534.68it/s] \n"
     ]
    }
   ],
   "source": [
    "task_2_test_sessions_transformed = transform_test_2_train(task_2_test_sessions)"
   ]
  },
  {
   "cell_type": "code",
   "execution_count": 11,
   "metadata": {},
   "outputs": [
    {
     "data": {
      "text/plain": [
       "333533"
      ]
     },
     "execution_count": 11,
     "metadata": {},
     "output_type": "execute_result"
    }
   ],
   "source": [
    "train_task2_sessions = train_sessions[train_sessions['locale'].isin(['IT', 'ES', 'FR'])]\n",
    "len(train_task2_sessions)"
   ]
  },
  {
   "cell_type": "code",
   "execution_count": 12,
   "metadata": {},
   "outputs": [
    {
     "data": {
      "text/plain": [
       "(                                          prev_items   next_item locale\n",
       " 0           ['B08MV5B53K' 'B08MV4RCQR' 'B08MV5B53K']  B012408XPC     ES\n",
       " 1                        ['B07JGW4QWX' 'B085VCXHXL']  B07JFPYN5P     ES\n",
       " 2           ['B08BFQ52PR' 'B08LVSTZVF' 'B08BFQ52PR']  B08NJP3KT6     ES\n",
       " 3  ['B08PPBF9C6' 'B08PPBF9C6' 'B08PPBF9C6' 'B08PP...  B08PP6BLLK     ES\n",
       " 4           ['B0B6W67XCR' 'B0B712FY2M' 'B0B6ZYJ3S2']  B09SL4MBM2     ES,\n",
       " 394642,\n",
       " 333533)"
      ]
     },
     "execution_count": 12,
     "metadata": {},
     "output_type": "execute_result"
    }
   ],
   "source": [
    "task23_4_task2_sessions = pd.concat([train_task2_sessions, task_2_test_sessions_transformed, task3_4_task2_test_sessions_transformed], axis=0, ignore_index=True)\n",
    "task23_4_task2_sessions.head(5), len(task23_4_task2_sessions), len(train_task2_sessions)"
   ]
  },
  {
   "cell_type": "code",
   "execution_count": 13,
   "metadata": {},
   "outputs": [
    {
     "data": {
      "text/plain": [
       "(355178, 39464)"
      ]
     },
     "execution_count": 13,
     "metadata": {},
     "output_type": "execute_result"
    }
   ],
   "source": [
    "# split all data, use the first random operation of the random seed \n",
    "task23_4_task2_train_sessions, task23_4_task2_valid_sessions = split_valid_data(task23_4_task2_sessions, 0.1)\n",
    "len(task23_4_task2_train_sessions), len(task23_4_task2_valid_sessions)"
   ]
  },
  {
   "cell_type": "code",
   "execution_count": 15,
   "metadata": {},
   "outputs": [
    {
     "name": "stderr",
     "output_type": "stream",
     "text": [
      "100%|██████████| 355178/355178 [00:24<00:00, 14383.95it/s]\n",
      "100%|██████████| 39464/39464 [00:02<00:00, 13506.41it/s]\n"
     ]
    }
   ],
   "source": [
    "session_2_inter_feat(task23_4_task2_train_sessions, '../data_for_recstudio/task2_data/task23_4_task2_train_inter_feat.csv')\n",
    "session_2_inter_feat(task23_4_task2_valid_sessions, '../data_for_recstudio/task2_data/task23_4_task2_valid_inter_feat.csv')"
   ]
  },
  {
   "cell_type": "code",
   "execution_count": 16,
   "metadata": {},
   "outputs": [],
   "source": [
    "task23_4_task2_train_sessions.to_csv('../data_for_recstudio/task2_data/task23_4_task2_train_sessions.csv', index=False)\n",
    "task23_4_task2_valid_sessions.to_csv('../data_for_recstudio/task2_data/task23_4_task2_valid_sessions.csv', index=False)"
   ]
  },
  {
   "cell_type": "code",
   "execution_count": 18,
   "metadata": {},
   "outputs": [
    {
     "name": "stderr",
     "output_type": "stream",
     "text": [
      "100%|██████████| 135785/135785 [00:09<00:00, 14530.99it/s]\n",
      "100%|██████████| 126177/126177 [00:08<00:00, 14728.14it/s]\n",
      "100%|██████████| 93216/93216 [00:07<00:00, 12535.53it/s]\n"
     ]
    }
   ],
   "source": [
    "IT_task23_4_task2_train_sessions = task23_4_task2_train_sessions[task23_4_task2_train_sessions['locale'] == 'IT']\n",
    "session_2_inter_feat(IT_task23_4_task2_train_sessions, '../data_for_recstudio/IT_data/IT_train_inter_feat.csv')\n",
    "\n",
    "FR_task23_4_task2_train_sessions = task23_4_task2_train_sessions[task23_4_task2_train_sessions['locale'] == 'FR']\n",
    "session_2_inter_feat(FR_task23_4_task2_train_sessions, '../data_for_recstudio/FR_data/FR_train_inter_feat.csv')\n",
    "\n",
    "ES_task23_4_task2_train_sessions = task23_4_task2_train_sessions[task23_4_task2_train_sessions['locale'] == 'ES']\n",
    "session_2_inter_feat(ES_task23_4_task2_train_sessions, '../data_for_recstudio/ES_data/ES_train_inter_feat.csv')"
   ]
  },
  {
   "cell_type": "code",
   "execution_count": 19,
   "metadata": {},
   "outputs": [
    {
     "name": "stderr",
     "output_type": "stream",
     "text": [
      "100%|██████████| 15132/15132 [00:01<00:00, 11512.50it/s]\n",
      "100%|██████████| 13904/13904 [00:00<00:00, 13933.00it/s]\n",
      "100%|██████████| 10428/10428 [00:00<00:00, 13712.46it/s]\n"
     ]
    }
   ],
   "source": [
    "IT_task23_4_task2_valid_sessions = task23_4_task2_valid_sessions[task23_4_task2_valid_sessions['locale'] == 'IT']\n",
    "session_2_inter_feat(IT_task23_4_task2_valid_sessions, '../data_for_recstudio/IT_data/IT_valid_inter_feat.csv')\n",
    "\n",
    "FR_task23_4_task2_valid_sessions = task23_4_task2_valid_sessions[task23_4_task2_valid_sessions['locale'] == 'FR']\n",
    "session_2_inter_feat(FR_task23_4_task2_valid_sessions, '../data_for_recstudio/FR_data/FR_valid_inter_feat.csv')\n",
    "\n",
    "ES_task23_4_task2_valid_sessions = task23_4_task2_valid_sessions[task23_4_task2_valid_sessions['locale'] == 'ES']\n",
    "session_2_inter_feat(ES_task23_4_task2_valid_sessions, '../data_for_recstudio/ES_data/ES_valid_inter_feat.csv')"
   ]
  },
  {
   "cell_type": "code",
   "execution_count": 5,
   "metadata": {},
   "outputs": [
    {
     "data": {
      "text/plain": [
       "1551057"
      ]
     },
     "execution_count": 5,
     "metadata": {},
     "output_type": "execute_result"
    }
   ],
   "source": [
    "products_data = read_product_data()\n",
    "len(products_data)"
   ]
  },
  {
   "cell_type": "code",
   "execution_count": 21,
   "metadata": {},
   "outputs": [],
   "source": [
    "IT_products_data = products_data[products_data['locale'] == 'IT'].reset_index(drop=True)\n",
    "IT_products_data.to_csv('../data_for_recstudio/IT_data/IT_product_train.csv', index=False)\n",
    "\n",
    "FR_products_data = products_data[products_data['locale'] == 'FR'].reset_index(drop=True)\n",
    "FR_products_data.to_csv('../data_for_recstudio/FR_data/FR_product_train.csv', index=False)\n",
    "\n",
    "ES_products_data = products_data[products_data['locale'] == 'ES'].reset_index(drop=True)\n",
    "ES_products_data.to_csv('../data_for_recstudio/ES_data/ES_product_train.csv', index=False)"
   ]
  },
  {
   "cell_type": "code",
   "execution_count": 22,
   "metadata": {},
   "outputs": [
    {
     "data": {
      "text/html": [
       "<div>\n",
       "<style scoped>\n",
       "    .dataframe tbody tr th:only-of-type {\n",
       "        vertical-align: middle;\n",
       "    }\n",
       "\n",
       "    .dataframe tbody tr th {\n",
       "        vertical-align: top;\n",
       "    }\n",
       "\n",
       "    .dataframe thead th {\n",
       "        text-align: right;\n",
       "    }\n",
       "</style>\n",
       "<table border=\"1\" class=\"dataframe\">\n",
       "  <thead>\n",
       "    <tr style=\"text-align: right;\">\n",
       "      <th></th>\n",
       "      <th>id</th>\n",
       "      <th>locale</th>\n",
       "      <th>title</th>\n",
       "      <th>price</th>\n",
       "      <th>brand</th>\n",
       "      <th>color</th>\n",
       "      <th>size</th>\n",
       "      <th>model</th>\n",
       "      <th>material</th>\n",
       "      <th>author</th>\n",
       "      <th>desc</th>\n",
       "    </tr>\n",
       "  </thead>\n",
       "  <tbody>\n",
       "    <tr>\n",
       "      <th>0</th>\n",
       "      <td>B09BNYKKLN</td>\n",
       "      <td>IT</td>\n",
       "      <td>Pro Breeze Mini Termoventilatore Ceramico da 1...</td>\n",
       "      <td>52.99</td>\n",
       "      <td>Pro Breeze</td>\n",
       "      <td>Nero</td>\n",
       "      <td>NaN</td>\n",
       "      <td>1800W</td>\n",
       "      <td>NaN</td>\n",
       "      <td>NaN</td>\n",
       "      <td>2 impostazioni di potenza, oscillazione e moda...</td>\n",
       "    </tr>\n",
       "    <tr>\n",
       "      <th>1</th>\n",
       "      <td>B09D7LG64G</td>\n",
       "      <td>IT</td>\n",
       "      <td>Coloranti Alimentari a 14 colori - Colorante A...</td>\n",
       "      <td>9.98</td>\n",
       "      <td>SigWong</td>\n",
       "      <td>rosso arancio, rosa, giallo verde, giallo limo...</td>\n",
       "      <td>6 ml (Confezione da 14)</td>\n",
       "      <td>NaN</td>\n",
       "      <td>NaN</td>\n",
       "      <td>NaN</td>\n",
       "      <td>ALTAMENTE CONCENTRATO - Sia che tu stia prepar...</td>\n",
       "    </tr>\n",
       "    <tr>\n",
       "      <th>2</th>\n",
       "      <td>B09Z6Y56X5</td>\n",
       "      <td>IT</td>\n",
       "      <td>Pampers Progressi &amp; Fit Prime Junior, Formato ...</td>\n",
       "      <td>59.99</td>\n",
       "      <td>Fater Spa</td>\n",
       "      <td>Avana</td>\n",
       "      <td>Taglia 5 (Confezione da 114)</td>\n",
       "      <td>NaN</td>\n",
       "      <td>NaN</td>\n",
       "      <td>NaN</td>\n",
       "      <td>Cari mamma e papà, c’è una bella novità per vo...</td>\n",
       "    </tr>\n",
       "    <tr>\n",
       "      <th>3</th>\n",
       "      <td>B016QM6OIC</td>\n",
       "      <td>IT</td>\n",
       "      <td>Tommy Hilfiger Classic Bb Cap, Berretto Uomo, ...</td>\n",
       "      <td>32.22</td>\n",
       "      <td>Tommy Hilfiger</td>\n",
       "      <td>FLAG BLACK</td>\n",
       "      <td>Taglia unica</td>\n",
       "      <td>E367895041</td>\n",
       "      <td>Cotone</td>\n",
       "      <td>NaN</td>\n",
       "      <td>Cinturino regolabile sul retro</td>\n",
       "    </tr>\n",
       "    <tr>\n",
       "      <th>4</th>\n",
       "      <td>B09BVHH3F6</td>\n",
       "      <td>IT</td>\n",
       "      <td>JETech Cover in Silicone per iPhone 13 6,1 Pol...</td>\n",
       "      <td>11.99</td>\n",
       "      <td>JETech</td>\n",
       "      <td>Nero</td>\n",
       "      <td>6,1 pollici</td>\n",
       "      <td>3584-</td>\n",
       "      <td>Silicone</td>\n",
       "      <td>NaN</td>\n",
       "      <td>[Altamente protettivo] I bordi rialzati offron...</td>\n",
       "    </tr>\n",
       "    <tr>\n",
       "      <th>...</th>\n",
       "      <td>...</td>\n",
       "      <td>...</td>\n",
       "      <td>...</td>\n",
       "      <td>...</td>\n",
       "      <td>...</td>\n",
       "      <td>...</td>\n",
       "      <td>...</td>\n",
       "      <td>...</td>\n",
       "      <td>...</td>\n",
       "      <td>...</td>\n",
       "      <td>...</td>\n",
       "    </tr>\n",
       "    <tr>\n",
       "      <th>50456</th>\n",
       "      <td>B09BW5CDRR</td>\n",
       "      <td>IT</td>\n",
       "      <td>Barbie - Playset Gelateria con Bambola con Mac...</td>\n",
       "      <td>20.48</td>\n",
       "      <td>Barbie</td>\n",
       "      <td>NaN</td>\n",
       "      <td>NaN</td>\n",
       "      <td>HCN46</td>\n",
       "      <td>NaN</td>\n",
       "      <td>NaN</td>\n",
       "      <td>DETTAGLI REALISTICI. Basta inserire la pasta m...</td>\n",
       "    </tr>\n",
       "    <tr>\n",
       "      <th>50457</th>\n",
       "      <td>B0050IILBM</td>\n",
       "      <td>IT</td>\n",
       "      <td>Braun Silk-épil 1 Depilatore Donna, Epilatore ...</td>\n",
       "      <td>22.61</td>\n",
       "      <td>Braun</td>\n",
       "      <td>Pink</td>\n",
       "      <td>NaN</td>\n",
       "      <td>4210201656067</td>\n",
       "      <td>NaN</td>\n",
       "      <td>NaN</td>\n",
       "      <td>Alimentato a corrente per un comodo utilizzo</td>\n",
       "    </tr>\n",
       "    <tr>\n",
       "      <th>50458</th>\n",
       "      <td>B07W4C5W9D</td>\n",
       "      <td>IT</td>\n",
       "      <td>BoxLegend Sacchetti Sottovuoto Vestiti 6 Pezzi...</td>\n",
       "      <td>14.99</td>\n",
       "      <td>BoxLegend</td>\n",
       "      <td>6 Pezzi.</td>\n",
       "      <td>6 Pezzi (2L + 2M + 2S)</td>\n",
       "      <td>6186666487608_SML</td>\n",
       "      <td>Polietilene Ppa</td>\n",
       "      <td>NaN</td>\n",
       "      <td>6 Sacchetti in 3 Diverse Misure- Questo set di...</td>\n",
       "    </tr>\n",
       "    <tr>\n",
       "      <th>50459</th>\n",
       "      <td>B012D0HJXA</td>\n",
       "      <td>IT</td>\n",
       "      <td>Trasportino Pratiko Metal - Accessorio da viag...</td>\n",
       "      <td>18.35</td>\n",
       "      <td>MPS</td>\n",
       "      <td>verde</td>\n",
       "      <td>NaN</td>\n",
       "      <td>NaN</td>\n",
       "      <td>Metallo</td>\n",
       "      <td>NaN</td>\n",
       "      <td>TRASPORTINO 48X31.5X33CM</td>\n",
       "    </tr>\n",
       "    <tr>\n",
       "      <th>50460</th>\n",
       "      <td>B07P5RLXP3</td>\n",
       "      <td>IT</td>\n",
       "      <td>LiCB - Batterie LR1130, batterie alcaline AG10...</td>\n",
       "      <td>6.99</td>\n",
       "      <td>LiCB</td>\n",
       "      <td>NaN</td>\n",
       "      <td>20 Stück LR1130</td>\n",
       "      <td>LR1130-20</td>\n",
       "      <td>NaN</td>\n",
       "      <td>NaN</td>\n",
       "      <td>Denominazione: 20 pezzi di pile alcaline LR113...</td>\n",
       "    </tr>\n",
       "  </tbody>\n",
       "</table>\n",
       "<p>50461 rows × 11 columns</p>\n",
       "</div>"
      ],
      "text/plain": [
       "               id locale                                              title  \\\n",
       "0      B09BNYKKLN     IT  Pro Breeze Mini Termoventilatore Ceramico da 1...   \n",
       "1      B09D7LG64G     IT  Coloranti Alimentari a 14 colori - Colorante A...   \n",
       "2      B09Z6Y56X5     IT  Pampers Progressi & Fit Prime Junior, Formato ...   \n",
       "3      B016QM6OIC     IT  Tommy Hilfiger Classic Bb Cap, Berretto Uomo, ...   \n",
       "4      B09BVHH3F6     IT  JETech Cover in Silicone per iPhone 13 6,1 Pol...   \n",
       "...           ...    ...                                                ...   \n",
       "50456  B09BW5CDRR     IT  Barbie - Playset Gelateria con Bambola con Mac...   \n",
       "50457  B0050IILBM     IT  Braun Silk-épil 1 Depilatore Donna, Epilatore ...   \n",
       "50458  B07W4C5W9D     IT  BoxLegend Sacchetti Sottovuoto Vestiti 6 Pezzi...   \n",
       "50459  B012D0HJXA     IT  Trasportino Pratiko Metal - Accessorio da viag...   \n",
       "50460  B07P5RLXP3     IT  LiCB - Batterie LR1130, batterie alcaline AG10...   \n",
       "\n",
       "       price           brand  \\\n",
       "0      52.99      Pro Breeze   \n",
       "1       9.98         SigWong   \n",
       "2      59.99       Fater Spa   \n",
       "3      32.22  Tommy Hilfiger   \n",
       "4      11.99          JETech   \n",
       "...      ...             ...   \n",
       "50456  20.48          Barbie   \n",
       "50457  22.61           Braun   \n",
       "50458  14.99       BoxLegend   \n",
       "50459  18.35             MPS   \n",
       "50460   6.99            LiCB   \n",
       "\n",
       "                                                   color  \\\n",
       "0                                                   Nero   \n",
       "1      rosso arancio, rosa, giallo verde, giallo limo...   \n",
       "2                                                  Avana   \n",
       "3                                             FLAG BLACK   \n",
       "4                                                   Nero   \n",
       "...                                                  ...   \n",
       "50456                                                NaN   \n",
       "50457                                               Pink   \n",
       "50458                                           6 Pezzi.   \n",
       "50459                                              verde   \n",
       "50460                                                NaN   \n",
       "\n",
       "                               size              model         material  \\\n",
       "0                               NaN              1800W              NaN   \n",
       "1           6 ml (Confezione da 14)                NaN              NaN   \n",
       "2      Taglia 5 (Confezione da 114)                NaN              NaN   \n",
       "3                      Taglia unica         E367895041           Cotone   \n",
       "4                       6,1 pollici              3584-         Silicone   \n",
       "...                             ...                ...              ...   \n",
       "50456                           NaN              HCN46              NaN   \n",
       "50457                           NaN      4210201656067              NaN   \n",
       "50458        6 Pezzi (2L + 2M + 2S)  6186666487608_SML  Polietilene Ppa   \n",
       "50459                           NaN                NaN          Metallo   \n",
       "50460               20 Stück LR1130          LR1130-20              NaN   \n",
       "\n",
       "      author                                               desc  \n",
       "0        NaN  2 impostazioni di potenza, oscillazione e moda...  \n",
       "1        NaN  ALTAMENTE CONCENTRATO - Sia che tu stia prepar...  \n",
       "2        NaN  Cari mamma e papà, c’è una bella novità per vo...  \n",
       "3        NaN                     Cinturino regolabile sul retro  \n",
       "4        NaN  [Altamente protettivo] I bordi rialzati offron...  \n",
       "...      ...                                                ...  \n",
       "50456    NaN  DETTAGLI REALISTICI. Basta inserire la pasta m...  \n",
       "50457    NaN       Alimentato a corrente per un comodo utilizzo  \n",
       "50458    NaN  6 Sacchetti in 3 Diverse Misure- Questo set di...  \n",
       "50459    NaN                           TRASPORTINO 48X31.5X33CM  \n",
       "50460    NaN  Denominazione: 20 pezzi di pile alcaline LR113...  \n",
       "\n",
       "[50461 rows x 11 columns]"
      ]
     },
     "execution_count": 22,
     "metadata": {},
     "output_type": "execute_result"
    }
   ],
   "source": [
    "IT_products_data"
   ]
  },
  {
   "cell_type": "code",
   "execution_count": 84,
   "metadata": {},
   "outputs": [],
   "source": [
    "id_IT_products_data = IT_products_data[['id', 'locale']]\n",
    "id_FR_products_data = FR_products_data[['id', 'locale']]\n",
    "id_ES_products_data = ES_products_data[['id', 'locale']]\n",
    "id_IT_products_data.to_csv('../data_for_recstudio/IT_data/id_IT_product_train.csv', index=False)\n",
    "id_FR_products_data.to_csv('../data_for_recstudio/FR_data/id_FR_product_train.csv', index=False)\n",
    "id_ES_products_data.to_csv('../data_for_recstudio/ES_data/id_ES_product_train.csv', index=False)"
   ]
  },
  {
   "attachments": {},
   "cell_type": "markdown",
   "metadata": {},
   "source": [
    "# split ranker data"
   ]
  },
  {
   "cell_type": "code",
   "execution_count": 4,
   "metadata": {},
   "outputs": [],
   "source": [
    "train_data_dir = '../raw_data/'\n",
    "test_data_dir = '../raw_data/'\n",
    "recstudio_data_dir = '../data_for_recstudio/'\n",
    "task = 'task1'\n",
    "PREDS_PER_SESSION = 100\n",
    "\n",
    "task_1_valid_sessions_path = os.path.join(recstudio_data_dir, 'task1_data/task13_4_task1_valid_sessions.csv')"
   ]
  },
  {
   "cell_type": "code",
   "execution_count": 5,
   "metadata": {},
   "outputs": [],
   "source": [
    "@lru_cache(maxsize=1)\n",
    "def read_valid_sessions():\n",
    "    return pd.read_csv(task_1_valid_sessions_path)"
   ]
  },
  {
   "cell_type": "code",
   "execution_count": 6,
   "metadata": {},
   "outputs": [],
   "source": [
    "valid_sessions = read_valid_sessions()"
   ]
  },
  {
   "cell_type": "code",
   "execution_count": 12,
   "metadata": {},
   "outputs": [
    {
     "data": {
      "text/plain": [
       "(                                               prev_items   next_item locale\n",
       " 0                ['B09W28TX9M' 'B00SQUYBJM' 'B00WHCND0I']  B00WHCNCVI     JP\n",
       " 1       ['B09J2BRXPL' 'B07PGLVQRK' 'B09XB2Y9LK' 'B07NN...  B07JGP94GS     JP\n",
       " 2       ['B07BQBV754' 'B07NJ6ZQ1P' 'B0B7NTGVK7' 'B0B7N...  B084L41R99     UK\n",
       " 3       ['B074J6ZLRZ' 'B08RY188GF' 'B097XC86LP' 'B0BDR...  B09DFFFL87     JP\n",
       " 4       ['B00TDNLSBU' 'B00TDNLSBU' 'B00TDNLSBU' 'B00TD...  B00JESZT8M     DE\n",
       " ...                                                   ...         ...    ...\n",
       " 289260  ['B0109XHK78' 'B001B2MPE0' 'B07QQPZ5D9' 'B0795...  B07DXD9DCM     DE\n",
       " 289261           ['B09ZHTD9FZ' 'B09ZHTHLSV' 'B09ZHS39RF']  B09TRVCW4L     DE\n",
       " 289262                        ['B095NX9YJ2' 'B000H6W2GW']  B0B2KMSPN4     UK\n",
       " 289263                        ['B083ZS6ZR7' 'B07SX9BW6T']  B0BDL7WK7G     UK\n",
       " 289264  ['B09Z29D7GV' 'B0B95ZM4LN' 'B08FM7CDNC' 'B09RJ...  B09S12VGYR     JP\n",
       " \n",
       " [289265 rows x 3 columns],\n",
       "                                               prev_items   next_item locale\n",
       " 0                            ['B09QFPYX34' 'B09QFPYX34']  B0BGLYJRKG     UK\n",
       " 1      ['B083X5R6VR' 'B0BCDR823B' 'B083X5R6VR' 'B01MU...  B0B8R4N4W4     JP\n",
       " 2               ['B07P3H8XT5' 'B07SJ4VXRJ' 'B07P3H8XT5']  B07P2D25CW     UK\n",
       " 3      ['B0B11T3RF1' 'B00BIWA8PG' 'B00BIWA7XO' 'B00BI...  B00CHJIU86     JP\n",
       " 4                            ['B09VGG4RDW' 'B09WGXGRST']  B007HTL5ME     JP\n",
       " ...                                                  ...         ...    ...\n",
       " 72311                                     ['B003CT4XT0']  B002NPTNIK     UK\n",
       " 72312                        ['B07232M876' 'B01NH500RV']  B07TD515P2     UK\n",
       " 72313                        ['B09NFXTX47' 'B07HBMTR66']  B07BNB5BRZ     UK\n",
       " 72314                        ['B07CHLZQNL' 'B097XV7KC7']  B01DNX814M     DE\n",
       " 72315           ['B0787CNGPM' 'B07L737TBQ' 'B07ZZ39V47']  B07ZH4G3G9     UK\n",
       " \n",
       " [72316 rows x 3 columns])"
      ]
     },
     "execution_count": 12,
     "metadata": {},
     "output_type": "execute_result"
    }
   ],
   "source": [
    "train_sess_df, valid_sess_df = split_valid_data(valid_sessions, 0.2)\n",
    "train_sess_df, valid_sess_df"
   ]
  },
  {
   "cell_type": "code",
   "execution_count": 15,
   "metadata": {},
   "outputs": [
    {
     "name": "stderr",
     "output_type": "stream",
     "text": [
      "100%|██████████| 289265/289265 [00:22<00:00, 12865.74it/s]\n",
      "100%|██████████| 72316/72316 [00:05<00:00, 13318.28it/s]\n"
     ]
    }
   ],
   "source": [
    "train_save_path = '/root/autodl-tmp/xiaolong/WorkSpace/Amazon-KDDCUP-23/data_for_recstudio/task1_data/task13_4_task1_ranker_train_inter_feat.csv'\n",
    "valid_save_path = '/root/autodl-tmp/xiaolong/WorkSpace/Amazon-KDDCUP-23/data_for_recstudio/task1_data/task13_4_task1_ranker_valid_inter_feat.csv'\n",
    "train_inter_feat = session_2_inter_feat(train_sess_df, train_save_path)\n",
    "valid_inter_feat = session_2_inter_feat(valid_sess_df, valid_save_path)"
   ]
  },
  {
   "cell_type": "code",
   "execution_count": 25,
   "metadata": {},
   "outputs": [],
   "source": [
    "train_sess_df.to_csv('/root/autodl-tmp/xiaolong/WorkSpace/Amazon-KDDCUP-23/data_for_recstudio/task1_data/task13_4_task1_ranker_train_sessions.csv', index=False)\n",
    "valid_sess_df.to_csv('/root/autodl-tmp/xiaolong/WorkSpace/Amazon-KDDCUP-23/data_for_recstudio/task1_data/task13_4_task1_ranker_valid_sessions.csv', index=False)"
   ]
  },
  {
   "cell_type": "code",
   "execution_count": 22,
   "metadata": {},
   "outputs": [
    {
     "name": "stderr",
     "output_type": "stream",
     "text": [
      "100%|██████████| 97738/97738 [00:07<00:00, 12339.73it/s]\n",
      "100%|██████████| 87087/87087 [00:07<00:00, 12398.39it/s]\n",
      "100%|██████████| 104440/104440 [00:08<00:00, 12779.93it/s]\n"
     ]
    }
   ],
   "source": [
    "DE_inter_feat_save_path = '/root/autodl-tmp/xiaolong/WorkSpace/Amazon-KDDCUP-23/data_for_recstudio/DE_data/DE_ranker_train_inter_feat.csv'\n",
    "DE_train_sess_df = split_single_locale(train_sess_df, 'DE')\n",
    "session_2_inter_feat(DE_train_sess_df, DE_inter_feat_save_path)\n",
    "\n",
    "JP_inter_feat_save_path = '/root/autodl-tmp/xiaolong/WorkSpace/Amazon-KDDCUP-23/data_for_recstudio/JP_data/JP_ranker_train_inter_feat.csv'\n",
    "JP_train_sess_df = split_single_locale(train_sess_df, 'JP')\n",
    "session_2_inter_feat(JP_train_sess_df, JP_inter_feat_save_path)\n",
    "\n",
    "UK_inter_feat_save_path = '/root/autodl-tmp/xiaolong/WorkSpace/Amazon-KDDCUP-23/data_for_recstudio/UK_data/UK_ranker_train_inter_feat.csv'\n",
    "UK_train_sess_df = split_single_locale(train_sess_df, 'UK')\n",
    "session_2_inter_feat(UK_train_sess_df, UK_inter_feat_save_path)"
   ]
  },
  {
   "cell_type": "code",
   "execution_count": 23,
   "metadata": {},
   "outputs": [
    {
     "name": "stderr",
     "output_type": "stream",
     "text": [
      "100%|██████████| 24443/24443 [00:01<00:00, 14907.77it/s]\n",
      "100%|██████████| 21648/21648 [00:01<00:00, 14609.82it/s]\n",
      "100%|██████████| 26225/26225 [00:01<00:00, 14985.85it/s]\n"
     ]
    }
   ],
   "source": [
    "DE_valid_inter_feat_save_path = '/root/autodl-tmp/xiaolong/WorkSpace/Amazon-KDDCUP-23/data_for_recstudio/DE_data/DE_ranker_valid_inter_feat.csv'\n",
    "DE_valid_sess_df = split_single_locale(valid_sess_df, 'DE')\n",
    "session_2_inter_feat(DE_valid_sess_df, DE_valid_inter_feat_save_path)\n",
    "\n",
    "JP_valid_inter_feat_save_path = '/root/autodl-tmp/xiaolong/WorkSpace/Amazon-KDDCUP-23/data_for_recstudio/JP_data/JP_ranker_valid_inter_feat.csv'\n",
    "JP_valid_sess_df = split_single_locale(valid_sess_df, 'JP')\n",
    "session_2_inter_feat(JP_valid_sess_df, JP_valid_inter_feat_save_path)\n",
    "\n",
    "UK_valid_inter_feat_save_path = '/root/autodl-tmp/xiaolong/WorkSpace/Amazon-KDDCUP-23/data_for_recstudio/UK_data/UK_ranker_valid_inter_feat.csv'\n",
    "UK_valid_sess_df = split_single_locale(valid_sess_df, 'UK')\n",
    "session_2_inter_feat(UK_valid_sess_df, UK_valid_inter_feat_save_path)"
   ]
  },
  {
   "cell_type": "code",
   "execution_count": 26,
   "metadata": {},
   "outputs": [],
   "source": [
    "DE_train_sess_df.to_csv('/root/autodl-tmp/xiaolong/WorkSpace/Amazon-KDDCUP-23/data_for_recstudio/DE_data/DE_ranker_train_sessions.csv', index=False)\n",
    "JP_train_sess_df.to_csv('/root/autodl-tmp/xiaolong/WorkSpace/Amazon-KDDCUP-23/data_for_recstudio/JP_data/JP_ranker_train_sessions.csv', index=False)\n",
    "UK_train_sess_df.to_csv('/root/autodl-tmp/xiaolong/WorkSpace/Amazon-KDDCUP-23/data_for_recstudio/UK_data/UK_ranker_train_sessions.csv', index=False)"
   ]
  },
  {
   "cell_type": "code",
   "execution_count": null,
   "metadata": {},
   "outputs": [],
   "source": [
    "DE_valid_sess_df.to_csv('/root/autodl-tmp/xiaolong/WorkSpace/Amazon-KDDCUP-23/data_for_recstudio/DE_data/DE_ranker_valid_sessions.csv', index=False)\n",
    "JP_valid_sess_df.to_csv('/root/autodl-tmp/xiaolong/WorkSpace/Amazon-KDDCUP-23/data_for_recstudio/JP_data/JP_ranker_valid_sessions.csv', index=False)\n",
    "UK_valid_sess_df.to_csv('/root/autodl-tmp/xiaolong/WorkSpace/Amazon-KDDCUP-23/data_for_recstudio/UK_data/UK_ranker_valid_sessions.csv', index=False)"
   ]
  },
  {
   "cell_type": "code",
   "execution_count": 21,
   "metadata": {},
   "outputs": [
    {
     "data": {
      "text/html": [
       "<div>\n",
       "<style scoped>\n",
       "    .dataframe tbody tr th:only-of-type {\n",
       "        vertical-align: middle;\n",
       "    }\n",
       "\n",
       "    .dataframe tbody tr th {\n",
       "        vertical-align: top;\n",
       "    }\n",
       "\n",
       "    .dataframe thead th {\n",
       "        text-align: right;\n",
       "    }\n",
       "</style>\n",
       "<table border=\"1\" class=\"dataframe\">\n",
       "  <thead>\n",
       "    <tr style=\"text-align: right;\">\n",
       "      <th></th>\n",
       "      <th>prev_items</th>\n",
       "      <th>next_item</th>\n",
       "      <th>locale</th>\n",
       "    </tr>\n",
       "  </thead>\n",
       "  <tbody>\n",
       "    <tr>\n",
       "      <th>4</th>\n",
       "      <td>['B00TDNLSBU' 'B00TDNLSBU' 'B00TDNLSBU' 'B00TD...</td>\n",
       "      <td>B00JESZT8M</td>\n",
       "      <td>DE</td>\n",
       "    </tr>\n",
       "    <tr>\n",
       "      <th>5</th>\n",
       "      <td>['394718882X' '3897778394']</td>\n",
       "      <td>B00336PUV2</td>\n",
       "      <td>DE</td>\n",
       "    </tr>\n",
       "    <tr>\n",
       "      <th>8</th>\n",
       "      <td>['B09DVS1X8V' 'B09F5P9FNY']</td>\n",
       "      <td>B07T95ZJVN</td>\n",
       "      <td>DE</td>\n",
       "    </tr>\n",
       "    <tr>\n",
       "      <th>9</th>\n",
       "      <td>['B07256TD16' 'B07XYWMTSS' 'B07256TD16' 'B07XY...</td>\n",
       "      <td>B01MFAYA83</td>\n",
       "      <td>DE</td>\n",
       "    </tr>\n",
       "    <tr>\n",
       "      <th>14</th>\n",
       "      <td>['B09W4SD48T' 'B09W4K1L5G' 'B09W4J1PNX' 'B07R7...</td>\n",
       "      <td>B08RWX83XZ</td>\n",
       "      <td>DE</td>\n",
       "    </tr>\n",
       "    <tr>\n",
       "      <th>...</th>\n",
       "      <td>...</td>\n",
       "      <td>...</td>\n",
       "      <td>...</td>\n",
       "    </tr>\n",
       "    <tr>\n",
       "      <th>289257</th>\n",
       "      <td>['B08DY35N2Y' 'B0146CV72W']</td>\n",
       "      <td>B00UFCKYJ0</td>\n",
       "      <td>DE</td>\n",
       "    </tr>\n",
       "    <tr>\n",
       "      <th>289258</th>\n",
       "      <td>['B002SADO5S' 'B002SADO5S' 'B00473V1OA' 'B0047...</td>\n",
       "      <td>B00473V1NG</td>\n",
       "      <td>DE</td>\n",
       "    </tr>\n",
       "    <tr>\n",
       "      <th>289259</th>\n",
       "      <td>['B0B6FFNK8B' 'B0B6FFNK8B' 'B08BLHK9ND' 'B000O...</td>\n",
       "      <td>B017EOZ8OC</td>\n",
       "      <td>DE</td>\n",
       "    </tr>\n",
       "    <tr>\n",
       "      <th>289260</th>\n",
       "      <td>['B0109XHK78' 'B001B2MPE0' 'B07QQPZ5D9' 'B0795...</td>\n",
       "      <td>B07DXD9DCM</td>\n",
       "      <td>DE</td>\n",
       "    </tr>\n",
       "    <tr>\n",
       "      <th>289261</th>\n",
       "      <td>['B09ZHTD9FZ' 'B09ZHTHLSV' 'B09ZHS39RF']</td>\n",
       "      <td>B09TRVCW4L</td>\n",
       "      <td>DE</td>\n",
       "    </tr>\n",
       "  </tbody>\n",
       "</table>\n",
       "<p>97738 rows × 3 columns</p>\n",
       "</div>"
      ],
      "text/plain": [
       "                                               prev_items   next_item locale\n",
       "4       ['B00TDNLSBU' 'B00TDNLSBU' 'B00TDNLSBU' 'B00TD...  B00JESZT8M     DE\n",
       "5                             ['394718882X' '3897778394']  B00336PUV2     DE\n",
       "8                             ['B09DVS1X8V' 'B09F5P9FNY']  B07T95ZJVN     DE\n",
       "9       ['B07256TD16' 'B07XYWMTSS' 'B07256TD16' 'B07XY...  B01MFAYA83     DE\n",
       "14      ['B09W4SD48T' 'B09W4K1L5G' 'B09W4J1PNX' 'B07R7...  B08RWX83XZ     DE\n",
       "...                                                   ...         ...    ...\n",
       "289257                        ['B08DY35N2Y' 'B0146CV72W']  B00UFCKYJ0     DE\n",
       "289258  ['B002SADO5S' 'B002SADO5S' 'B00473V1OA' 'B0047...  B00473V1NG     DE\n",
       "289259  ['B0B6FFNK8B' 'B0B6FFNK8B' 'B08BLHK9ND' 'B000O...  B017EOZ8OC     DE\n",
       "289260  ['B0109XHK78' 'B001B2MPE0' 'B07QQPZ5D9' 'B0795...  B07DXD9DCM     DE\n",
       "289261           ['B09ZHTD9FZ' 'B09ZHTHLSV' 'B09ZHS39RF']  B09TRVCW4L     DE\n",
       "\n",
       "[97738 rows x 3 columns]"
      ]
     },
     "execution_count": 21,
     "metadata": {},
     "output_type": "execute_result"
    }
   ],
   "source": [
    "DE_train_sess_df"
   ]
  }
 ],
 "metadata": {
  "kernelspec": {
   "display_name": "torch12",
   "language": "python",
   "name": "python3"
  },
  "language_info": {
   "codemirror_mode": {
    "name": "ipython",
    "version": 3
   },
   "file_extension": ".py",
   "mimetype": "text/x-python",
   "name": "python",
   "nbconvert_exporter": "python",
   "pygments_lexer": "ipython3",
   "version": "3.9.15"
  },
  "orig_nbformat": 4
 },
 "nbformat": 4,
 "nbformat_minor": 2
}
