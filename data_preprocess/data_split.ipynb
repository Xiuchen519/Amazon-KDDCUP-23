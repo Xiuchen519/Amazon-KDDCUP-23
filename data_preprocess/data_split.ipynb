{
 "cells": [
  {
   "cell_type": "code",
   "execution_count": 2,
   "metadata": {},
   "outputs": [],
   "source": [
    "import numpy as np\n",
    "import pandas as pd \n",
    "from functools import lru_cache\n",
    "import os\n",
    "from tqdm import tqdm \n",
    "np.random.seed(42)"
   ]
  },
  {
   "cell_type": "code",
   "execution_count": 3,
   "metadata": {},
   "outputs": [],
   "source": [
    "train_data_dir = '../raw_data/'\n",
    "test_data_dir = '../raw_data/'\n",
    "recstudio_data_dir = '../data_for_recstudio/'\n",
    "task = 'task1'\n",
    "PREDS_PER_SESSION = 100"
   ]
  },
  {
   "cell_type": "code",
   "execution_count": 4,
   "metadata": {},
   "outputs": [],
   "source": [
    "@lru_cache(maxsize=1)\n",
    "def read_product_data():\n",
    "    return pd.read_csv(os.path.join(train_data_dir, 'products_train.csv'))\n",
    "\n",
    "@lru_cache(maxsize=1)\n",
    "def read_train_data():\n",
    "    return pd.read_csv(os.path.join(train_data_dir, 'sessions_train.csv'))\n",
    "\n",
    "@lru_cache(maxsize=3)\n",
    "def read_test_data(task):\n",
    "    return pd.read_csv(os.path.join(test_data_dir, f'sessions_test_{task}.csv'))\n",
    "\n",
    "@lru_cache(maxsize=1)\n",
    "def read_all_task1_data():\n",
    "    return pd.read_csv(os.path.join(recstudio_data_dir, 'products_train.csv'))"
   ]
  },
  {
   "cell_type": "code",
   "execution_count": 4,
   "metadata": {},
   "outputs": [],
   "source": [
    "def split_valid_data(df, ratio):\n",
    "    num_sessions = len(df)\n",
    "    num_val_sessions = int(ratio * num_sessions)\n",
    "    index_permu = np.random.permutation(num_sessions)\n",
    "    valid_index = index_permu[:num_val_sessions]\n",
    "    train_index = index_permu[num_val_sessions:]\n",
    "    val_df = df.iloc[valid_index].reset_index(drop=True)\n",
    "    train_df = df.iloc[train_index].reset_index(drop=True)\n",
    "    return train_df, val_df"
   ]
  },
  {
   "cell_type": "code",
   "execution_count": 5,
   "metadata": {},
   "outputs": [],
   "source": [
    "def session_2_inter_feat(sessions_df, save_path, test=False):\n",
    "    num_sessions = len(sessions_df)\n",
    "\n",
    "    with open(os.path.join(save_path), 'w') as f:\n",
    "        f.write('sess_id,product_id,timestamp,locale\\n')\n",
    "\n",
    "        for i in tqdm(range(num_sessions)):\n",
    "            sess = sessions_df.iloc[i]\n",
    "            sess_locale = sess['locale']\n",
    "            sess_prev_items = sess['prev_items']\n",
    "            if not test:\n",
    "                sess_next_item = sess['next_item']\n",
    "            \n",
    "            product_list = sess_prev_items.strip('[]').split(' ')\n",
    "            product_list = list(map(lambda x : x.strip(\"'\\n\"), product_list))\n",
    "            if not test:\n",
    "                product_list.append(sess_next_item)\n",
    "\n",
    "            sess_id = i\n",
    "            for j, product_id in enumerate(product_list):\n",
    "                inter_str = f'{sess_id},{product_id},{j},{sess_locale}\\n'\n",
    "                f.write(inter_str)"
   ]
  },
  {
   "cell_type": "code",
   "execution_count": 6,
   "metadata": {},
   "outputs": [],
   "source": [
    "def transform_test_2_train(test_sessions_df):\n",
    "    train_prev_items, train_locales, train_next_items  = [], [], []\n",
    "    for i in tqdm(range(len(test_sessions_df))):\n",
    "        sess = test_sessions_df.iloc[i]\n",
    "        sess_prev_items = sess['prev_items']\n",
    "        sess_locale = sess['locale']\n",
    "        product_list = sess_prev_items.strip('[]').split(' ')\n",
    "        product_list = np.array(list(map(lambda x : x.strip(\"'\\n\"), product_list)))\n",
    "        \n",
    "        if len(product_list) <= 1:\n",
    "            continue\n",
    "\n",
    "        next_item = product_list[-1]\n",
    "        product_list = product_list[:-1]\n",
    "\n",
    "        train_prev_items.append(str(product_list))\n",
    "        train_locales.append(sess_locale)\n",
    "        train_next_items.append(next_item)\n",
    "\n",
    "    train_sessions_df = pd.DataFrame({'prev_items' : train_prev_items, 'locale' : train_locales, 'next_item' : train_next_items})\n",
    "    return train_sessions_df"
   ]
  },
  {
   "cell_type": "code",
   "execution_count": 7,
   "metadata": {},
   "outputs": [],
   "source": [
    "train_sessions = read_train_data()\n",
    "task_1_test_sessions = read_test_data('task1')\n",
    "task_2_test_sessions = read_test_data('task2')\n",
    "task_3_test_sessions = read_test_data('task3')"
   ]
  },
  {
   "attachments": {},
   "cell_type": "markdown",
   "metadata": {},
   "source": [
    "# data for task1\n",
    "这个划分不能修改了，因为已经有算法在使用"
   ]
  },
  {
   "cell_type": "code",
   "execution_count": 6,
   "metadata": {},
   "outputs": [
    {
     "data": {
      "text/plain": [
       "30000"
      ]
     },
     "execution_count": 6,
     "metadata": {},
     "output_type": "execute_result"
    }
   ],
   "source": [
    "task3_4_task1_test_sessions = task_3_test_sessions[task_3_test_sessions['locale'].isin(['UK', 'JP', 'DE'])].reset_index(drop=True)\n",
    "len(task3_4_task1_test_sessions)"
   ]
  },
  {
   "cell_type": "code",
   "execution_count": 8,
   "metadata": {},
   "outputs": [
    {
     "name": "stderr",
     "output_type": "stream",
     "text": [
      "100%|██████████| 316971/316971 [00:19<00:00, 15985.35it/s]\n"
     ]
    },
    {
     "name": "stdout",
     "output_type": "stream",
     "text": [
      "                                          prev_items locale   next_item\n",
      "0  ['B08V12CT4C' 'B08V1KXBQD' 'B01BVG1XJS' 'B09VC...     DE  B099NQFMG7\n",
      "1                        ['B00R9R5ND6' 'B00R9RZ9ZS']     DE  B00R9RZ9ZS\n",
      "2           ['B07YSRXJD3' 'B07G7Q5N6G' 'B08C9Q7QVK']     DE  B07G7Q5N6G\n",
      "3  ['B08KQBYV43' '3955350843' '3955350843' '39553...     DE  3955350843\n",
      "4  ['B09FPTCWMC' 'B09FPTQP68' 'B08HMRY8NG' 'B08TB...     DE  B09J945WQR\n",
      "316971\n"
     ]
    },
    {
     "name": "stderr",
     "output_type": "stream",
     "text": [
      "100%|██████████| 30000/30000 [00:01<00:00, 16654.98it/s]\n"
     ]
    },
    {
     "name": "stdout",
     "output_type": "stream",
     "text": [
      "                                 prev_items locale   next_item\n",
      "0  ['B07KWVBK8W' 'B07KWVDNV2' 'B07KWVBK8W']     DE  B01M2CLQA5\n",
      "1               ['B08K7GPV1G' 'B08P1WJYW5']     DE  B09MFXKQMT\n",
      "2               ['B07R8RCRYL' 'B08379LSYF']     DE  B00PM9Z2L6\n",
      "3  ['B084RTW66R' 'B001O7XWFI' 'B088KRKFJ3']     DE  B09LYX3WBC\n",
      "4                            ['B074M9DZ4M']     DE  B074M9DZ4M\n",
      "30000\n"
     ]
    }
   ],
   "source": [
    "# merge 3 data\n",
    "\n",
    "task1_prev_items, task1_locales, task1_next_items  = [], [], []\n",
    "for i in tqdm(range(len(task_1_test_sessions))):\n",
    "    sess = task_1_test_sessions.iloc[i]\n",
    "    sess_prev_items = sess['prev_items']\n",
    "    sess_locale = sess['locale']\n",
    "    product_list = sess_prev_items.strip('[]').split(' ')\n",
    "    product_list = np.array(list(map(lambda x : x.strip(\"'\\n\"), product_list)))\n",
    "    \n",
    "    if len(product_list) <= 1:\n",
    "        continue\n",
    "\n",
    "    next_item = product_list[-1]\n",
    "    product_list = product_list[:-1]\n",
    "\n",
    "    task1_prev_items.append(str(product_list))\n",
    "    task1_locales.append(sess_locale)\n",
    "    task1_next_items.append(next_item)\n",
    "\n",
    "task_1_test_sessions = pd.DataFrame({'prev_items' : task1_prev_items, 'locale' : task1_locales, 'next_item' : task1_next_items})\n",
    "print(task_1_test_sessions.head(5))\n",
    "print(len(task_1_test_sessions))\n",
    "\n",
    "task3_prev_items, task3_locales, task3_next_items  = [], [], []\n",
    "for i in tqdm(range(len(task3_4_task1_test_sessions))):\n",
    "    sess = task3_4_task1_test_sessions.iloc[i]\n",
    "    sess_prev_items = sess['prev_items']\n",
    "    sess_locale = sess['locale']\n",
    "    product_list = sess_prev_items.strip('[]').split(' ')\n",
    "    product_list = np.array(list(map(lambda x : x.strip(\"'\\n\"), product_list)))\n",
    "    \n",
    "    if len(product_list) <= 1:\n",
    "        continue\n",
    "\n",
    "    next_item = product_list[-1]\n",
    "    product_list = product_list[:-1]\n",
    "\n",
    "    task3_prev_items.append(str(product_list))\n",
    "    task3_locales.append(sess_locale)\n",
    "    task3_next_items.append(next_item)\n",
    "\n",
    "task3_4_task1_test_sessions = pd.DataFrame({'prev_items' : task3_prev_items, 'locale' : task3_locales, 'next_item' : task3_next_items})\n",
    "print(task3_4_task1_test_sessions.head(5))\n",
    "print(len(task3_4_task1_test_sessions))\n",
    "\n"
   ]
  },
  {
   "cell_type": "code",
   "execution_count": 9,
   "metadata": {},
   "outputs": [
    {
     "data": {
      "text/plain": [
       "(                                          prev_items   next_item locale\n",
       " 0                        ['B09W9FND7K' 'B09JSPLN1M']  B09M7GY217     DE\n",
       " 1  ['B076THCGSG' 'B007MO8IME' 'B08MF65MLV' 'B001B...  B001B4THSA     DE\n",
       " 2  ['B0B1LGXWDS' 'B00AZYORS2' 'B0B1LGXWDS' 'B00AZ...  B0767DTG2Q     DE\n",
       " 3  ['B09XMTWDVT' 'B0B4MZZ8MB' 'B0B7HZ2GWX' 'B09XM...  B0B4R9NN4B     DE\n",
       " 4           ['B09Y5CSL3T' 'B09Y5DPTXN' 'B09FKD61R8']  B0BGVBKWGZ     DE,\n",
       " 3953220,\n",
       " 3606249)"
      ]
     },
     "execution_count": 9,
     "metadata": {},
     "output_type": "execute_result"
    }
   ],
   "source": [
    "all_task_1_sessions = pd.concat([train_sessions, task_1_test_sessions, task3_4_task1_test_sessions], axis=0, ignore_index=True)\n",
    "all_task_1_sessions.head(5), len(all_task_1_sessions), len(train_sessions)"
   ]
  },
  {
   "cell_type": "code",
   "execution_count": 10,
   "metadata": {},
   "outputs": [],
   "source": [
    "# split all data \n",
    "all_task_1_train_sessions, all_task_1_valid_sessions = split_valid_data(all_task_1_sessions, 0.1)"
   ]
  },
  {
   "cell_type": "code",
   "execution_count": 11,
   "metadata": {},
   "outputs": [
    {
     "data": {
      "text/plain": [
       "(3557898, 395322)"
      ]
     },
     "execution_count": 11,
     "metadata": {},
     "output_type": "execute_result"
    }
   ],
   "source": [
    "len(all_task_1_train_sessions), len(all_task_1_valid_sessions)"
   ]
  },
  {
   "cell_type": "code",
   "execution_count": 13,
   "metadata": {},
   "outputs": [],
   "source": [
    "all_task_1_valid_sessions.to_csv('../data_for_recstudio/task13_4_all_valid_sessions.csv', index=False)"
   ]
  },
  {
   "cell_type": "code",
   "execution_count": 53,
   "metadata": {},
   "outputs": [
    {
     "data": {
      "text/plain": [
       "361581"
      ]
     },
     "execution_count": 53,
     "metadata": {},
     "output_type": "execute_result"
    }
   ],
   "source": [
    "# filter ES, IT, FR in valid sessions\n",
    "all_task_1_valid_sessions = all_task_1_valid_sessions[all_task_1_valid_sessions['locale'].isin(['DE', 'JP', 'UK'])]\n",
    "len(all_task_1_valid_sessions)"
   ]
  },
  {
   "cell_type": "code",
   "execution_count": 55,
   "metadata": {},
   "outputs": [
    {
     "name": "stderr",
     "output_type": "stream",
     "text": [
      "100%|██████████| 3557898/3557898 [05:45<00:00, 10285.57it/s]\n",
      "100%|██████████| 361581/361581 [00:35<00:00, 10151.82it/s]\n"
     ]
    }
   ],
   "source": [
    "session_2_inter_feat(all_task_1_train_sessions, '../data_for_recstudio/all_task_1_train_inter_feat.csv')\n",
    "session_2_inter_feat(all_task_1_valid_sessions, '../data_for_recstudio/all_task_1_valid_inter_feat.csv')"
   ]
  },
  {
   "attachments": {},
   "cell_type": "markdown",
   "metadata": {},
   "source": [
    "# tune data"
   ]
  },
  {
   "cell_type": "code",
   "execution_count": 56,
   "metadata": {},
   "outputs": [],
   "source": [
    "tune_task_1_sessions = all_task_1_sessions.sample(int(0.3 * len(all_task_1_sessions)), ignore_index=True)"
   ]
  },
  {
   "cell_type": "code",
   "execution_count": 57,
   "metadata": {},
   "outputs": [
    {
     "data": {
      "text/plain": [
       "1185966"
      ]
     },
     "execution_count": 57,
     "metadata": {},
     "output_type": "execute_result"
    }
   ],
   "source": [
    "len(tune_task_1_sessions)"
   ]
  },
  {
   "cell_type": "code",
   "execution_count": 58,
   "metadata": {},
   "outputs": [
    {
     "data": {
      "text/plain": [
       "(1067370, 118596)"
      ]
     },
     "execution_count": 58,
     "metadata": {},
     "output_type": "execute_result"
    }
   ],
   "source": [
    "tune_task_1_train_sessions, tune_task_1_valid_sessions = split_valid_data(tune_task_1_sessions, 0.1)\n",
    "len(tune_task_1_train_sessions), len(tune_task_1_valid_sessions)"
   ]
  },
  {
   "cell_type": "code",
   "execution_count": 59,
   "metadata": {},
   "outputs": [
    {
     "data": {
      "text/plain": [
       "108617"
      ]
     },
     "execution_count": 59,
     "metadata": {},
     "output_type": "execute_result"
    }
   ],
   "source": [
    "# filter ES, IT, FR in valid sessions\n",
    "tune_task_1_valid_sessions = tune_task_1_valid_sessions[tune_task_1_valid_sessions['locale'].isin(['DE', 'JP', 'UK'])]\n",
    "len(tune_task_1_valid_sessions)"
   ]
  },
  {
   "cell_type": "code",
   "execution_count": 60,
   "metadata": {},
   "outputs": [
    {
     "name": "stderr",
     "output_type": "stream",
     "text": [
      "100%|██████████| 1067370/1067370 [01:42<00:00, 10365.51it/s]\n",
      "100%|██████████| 108617/108617 [00:10<00:00, 10113.86it/s]\n"
     ]
    }
   ],
   "source": [
    "session_2_inter_feat(tune_task_1_train_sessions, '../data_for_recstudio/tune_task_1_train_inter_feat.csv')\n",
    "session_2_inter_feat(tune_task_1_valid_sessions, '../data_for_recstudio/tune_task_1_valid_inter_feat.csv')"
   ]
  },
  {
   "cell_type": "code",
   "execution_count": 61,
   "metadata": {},
   "outputs": [
    {
     "data": {
      "text/plain": [
       "(18321875, 1882412)"
      ]
     },
     "execution_count": 61,
     "metadata": {},
     "output_type": "execute_result"
    }
   ],
   "source": [
    "all_task_1_train_inter_feat = pd.read_csv('../data_for_recstudio/all_task_1_train_inter_feat.csv')\n",
    "all_task_1_valid_inter_feat = pd.read_csv('../data_for_recstudio/all_task_1_valid_inter_feat.csv')\n",
    "\n",
    "len(all_task_1_train_inter_feat), len(all_task_1_valid_inter_feat)"
   ]
  },
  {
   "cell_type": "code",
   "execution_count": 62,
   "metadata": {},
   "outputs": [
    {
     "data": {
      "text/plain": [
       "(5497807, 566614)"
      ]
     },
     "execution_count": 62,
     "metadata": {},
     "output_type": "execute_result"
    }
   ],
   "source": [
    "tune_task_1_train_inter_feat = pd.read_csv('../data_for_recstudio/tune_task_1_train_inter_feat.csv')\n",
    "tune_task_1_valid_inter_feat = pd.read_csv('../data_for_recstudio/tune_task_1_valid_inter_feat.csv')\n",
    "len(tune_task_1_train_inter_feat), len(tune_task_1_valid_inter_feat)"
   ]
  },
  {
   "attachments": {},
   "cell_type": "markdown",
   "metadata": {},
   "source": [
    "# data for task2"
   ]
  },
  {
   "cell_type": "code",
   "execution_count": 8,
   "metadata": {},
   "outputs": [
    {
     "data": {
      "text/plain": [
       "26421"
      ]
     },
     "execution_count": 8,
     "metadata": {},
     "output_type": "execute_result"
    }
   ],
   "source": [
    "task3_4_task2_test_sessions = task_3_test_sessions[task_3_test_sessions['locale'].isin(['IT', 'FR', 'ES'])].reset_index(drop=True)\n",
    "len(task3_4_task2_test_sessions)"
   ]
  },
  {
   "cell_type": "code",
   "execution_count": 9,
   "metadata": {},
   "outputs": [
    {
     "name": "stderr",
     "output_type": "stream",
     "text": [
      "100%|██████████| 26421/26421 [00:02<00:00, 9542.61it/s] \n"
     ]
    }
   ],
   "source": [
    "task3_4_task2_test_sessions_transformed = transform_test_2_train(task3_4_task2_test_sessions)"
   ]
  },
  {
   "cell_type": "code",
   "execution_count": 10,
   "metadata": {},
   "outputs": [
    {
     "name": "stderr",
     "output_type": "stream",
     "text": [
      "100%|██████████| 34688/34688 [00:04<00:00, 8534.68it/s] \n"
     ]
    }
   ],
   "source": [
    "task_2_test_sessions_transformed = transform_test_2_train(task_2_test_sessions)"
   ]
  },
  {
   "cell_type": "code",
   "execution_count": 11,
   "metadata": {},
   "outputs": [
    {
     "data": {
      "text/plain": [
       "333533"
      ]
     },
     "execution_count": 11,
     "metadata": {},
     "output_type": "execute_result"
    }
   ],
   "source": [
    "train_task2_sessions = train_sessions[train_sessions['locale'].isin(['IT', 'ES', 'FR'])]\n",
    "len(train_task2_sessions)"
   ]
  },
  {
   "cell_type": "code",
   "execution_count": 12,
   "metadata": {},
   "outputs": [
    {
     "data": {
      "text/plain": [
       "(                                          prev_items   next_item locale\n",
       " 0           ['B08MV5B53K' 'B08MV4RCQR' 'B08MV5B53K']  B012408XPC     ES\n",
       " 1                        ['B07JGW4QWX' 'B085VCXHXL']  B07JFPYN5P     ES\n",
       " 2           ['B08BFQ52PR' 'B08LVSTZVF' 'B08BFQ52PR']  B08NJP3KT6     ES\n",
       " 3  ['B08PPBF9C6' 'B08PPBF9C6' 'B08PPBF9C6' 'B08PP...  B08PP6BLLK     ES\n",
       " 4           ['B0B6W67XCR' 'B0B712FY2M' 'B0B6ZYJ3S2']  B09SL4MBM2     ES,\n",
       " 394642,\n",
       " 333533)"
      ]
     },
     "execution_count": 12,
     "metadata": {},
     "output_type": "execute_result"
    }
   ],
   "source": [
    "task23_4_task2_sessions = pd.concat([train_task2_sessions, task_2_test_sessions_transformed, task3_4_task2_test_sessions_transformed], axis=0, ignore_index=True)\n",
    "task23_4_task2_sessions.head(5), len(task23_4_task2_sessions), len(train_task2_sessions)"
   ]
  },
  {
   "cell_type": "code",
   "execution_count": 13,
   "metadata": {},
   "outputs": [
    {
     "data": {
      "text/plain": [
       "(355178, 39464)"
      ]
     },
     "execution_count": 13,
     "metadata": {},
     "output_type": "execute_result"
    }
   ],
   "source": [
    "# split all data, use the first random operation of the random seed \n",
    "task23_4_task2_train_sessions, task23_4_task2_valid_sessions = split_valid_data(task23_4_task2_sessions, 0.1)\n",
    "len(task23_4_task2_train_sessions), len(task23_4_task2_valid_sessions)"
   ]
  },
  {
   "cell_type": "code",
   "execution_count": 15,
   "metadata": {},
   "outputs": [
    {
     "name": "stderr",
     "output_type": "stream",
     "text": [
      "100%|██████████| 355178/355178 [00:24<00:00, 14383.95it/s]\n",
      "100%|██████████| 39464/39464 [00:02<00:00, 13506.41it/s]\n"
     ]
    }
   ],
   "source": [
    "session_2_inter_feat(task23_4_task2_train_sessions, '../data_for_recstudio/task2_data/task23_4_task2_train_inter_feat.csv')\n",
    "session_2_inter_feat(task23_4_task2_valid_sessions, '../data_for_recstudio/task2_data/task23_4_task2_valid_inter_feat.csv')"
   ]
  },
  {
   "cell_type": "code",
   "execution_count": 16,
   "metadata": {},
   "outputs": [],
   "source": [
    "task23_4_task2_train_sessions.to_csv('../data_for_recstudio/task2_data/task23_4_task2_train_sessions.csv', index=False)\n",
    "task23_4_task2_valid_sessions.to_csv('../data_for_recstudio/task2_data/task23_4_task2_valid_sessions.csv', index=False)"
   ]
  },
  {
   "cell_type": "code",
   "execution_count": 18,
   "metadata": {},
   "outputs": [
    {
     "name": "stderr",
     "output_type": "stream",
     "text": [
      "100%|██████████| 135785/135785 [00:09<00:00, 14530.99it/s]\n",
      "100%|██████████| 126177/126177 [00:08<00:00, 14728.14it/s]\n",
      "100%|██████████| 93216/93216 [00:07<00:00, 12535.53it/s]\n"
     ]
    }
   ],
   "source": [
    "IT_task23_4_task2_train_sessions = task23_4_task2_train_sessions[task23_4_task2_train_sessions['locale'] == 'IT']\n",
    "session_2_inter_feat(IT_task23_4_task2_train_sessions, '../data_for_recstudio/IT_data/IT_train_inter_feat.csv')\n",
    "\n",
    "FR_task23_4_task2_train_sessions = task23_4_task2_train_sessions[task23_4_task2_train_sessions['locale'] == 'FR']\n",
    "session_2_inter_feat(FR_task23_4_task2_train_sessions, '../data_for_recstudio/FR_data/FR_train_inter_feat.csv')\n",
    "\n",
    "ES_task23_4_task2_train_sessions = task23_4_task2_train_sessions[task23_4_task2_train_sessions['locale'] == 'ES']\n",
    "session_2_inter_feat(ES_task23_4_task2_train_sessions, '../data_for_recstudio/ES_data/ES_train_inter_feat.csv')"
   ]
  },
  {
   "cell_type": "code",
   "execution_count": 19,
   "metadata": {},
   "outputs": [
    {
     "name": "stderr",
     "output_type": "stream",
     "text": [
      "100%|██████████| 15132/15132 [00:01<00:00, 11512.50it/s]\n",
      "100%|██████████| 13904/13904 [00:00<00:00, 13933.00it/s]\n",
      "100%|██████████| 10428/10428 [00:00<00:00, 13712.46it/s]\n"
     ]
    }
   ],
   "source": [
    "IT_task23_4_task2_valid_sessions = task23_4_task2_valid_sessions[task23_4_task2_valid_sessions['locale'] == 'IT']\n",
    "session_2_inter_feat(IT_task23_4_task2_valid_sessions, '../data_for_recstudio/IT_data/IT_valid_inter_feat.csv')\n",
    "\n",
    "FR_task23_4_task2_valid_sessions = task23_4_task2_valid_sessions[task23_4_task2_valid_sessions['locale'] == 'FR']\n",
    "session_2_inter_feat(FR_task23_4_task2_valid_sessions, '../data_for_recstudio/FR_data/FR_valid_inter_feat.csv')\n",
    "\n",
    "ES_task23_4_task2_valid_sessions = task23_4_task2_valid_sessions[task23_4_task2_valid_sessions['locale'] == 'ES']\n",
    "session_2_inter_feat(ES_task23_4_task2_valid_sessions, '../data_for_recstudio/ES_data/ES_valid_inter_feat.csv')"
   ]
  },
  {
   "cell_type": "code",
   "execution_count": 5,
   "metadata": {},
   "outputs": [
    {
     "data": {
      "text/plain": [
       "1551057"
      ]
     },
     "execution_count": 5,
     "metadata": {},
     "output_type": "execute_result"
    }
   ],
   "source": [
    "products_data = read_product_data()\n",
    "len(products_data)"
   ]
  },
  {
   "cell_type": "code",
   "execution_count": 21,
   "metadata": {},
   "outputs": [],
   "source": [
    "IT_products_data = products_data[products_data['locale'] == 'IT'].reset_index(drop=True)\n",
    "IT_products_data.to_csv('../data_for_recstudio/IT_data/IT_product_train.csv', index=False)\n",
    "\n",
    "FR_products_data = products_data[products_data['locale'] == 'FR'].reset_index(drop=True)\n",
    "FR_products_data.to_csv('../data_for_recstudio/FR_data/FR_product_train.csv', index=False)\n",
    "\n",
    "ES_products_data = products_data[products_data['locale'] == 'ES'].reset_index(drop=True)\n",
    "ES_products_data.to_csv('../data_for_recstudio/ES_data/ES_product_train.csv', index=False)"
   ]
  },
  {
   "cell_type": "code",
   "execution_count": 22,
   "metadata": {},
   "outputs": [
    {
     "data": {
      "text/html": [
       "<div>\n",
       "<style scoped>\n",
       "    .dataframe tbody tr th:only-of-type {\n",
       "        vertical-align: middle;\n",
       "    }\n",
       "\n",
       "    .dataframe tbody tr th {\n",
       "        vertical-align: top;\n",
       "    }\n",
       "\n",
       "    .dataframe thead th {\n",
       "        text-align: right;\n",
       "    }\n",
       "</style>\n",
       "<table border=\"1\" class=\"dataframe\">\n",
       "  <thead>\n",
       "    <tr style=\"text-align: right;\">\n",
       "      <th></th>\n",
       "      <th>id</th>\n",
       "      <th>locale</th>\n",
       "      <th>title</th>\n",
       "      <th>price</th>\n",
       "      <th>brand</th>\n",
       "      <th>color</th>\n",
       "      <th>size</th>\n",
       "      <th>model</th>\n",
       "      <th>material</th>\n",
       "      <th>author</th>\n",
       "      <th>desc</th>\n",
       "    </tr>\n",
       "  </thead>\n",
       "  <tbody>\n",
       "    <tr>\n",
       "      <th>0</th>\n",
       "      <td>B09BNYKKLN</td>\n",
       "      <td>IT</td>\n",
       "      <td>Pro Breeze Mini Termoventilatore Ceramico da 1...</td>\n",
       "      <td>52.99</td>\n",
       "      <td>Pro Breeze</td>\n",
       "      <td>Nero</td>\n",
       "      <td>NaN</td>\n",
       "      <td>1800W</td>\n",
       "      <td>NaN</td>\n",
       "      <td>NaN</td>\n",
       "      <td>2 impostazioni di potenza, oscillazione e moda...</td>\n",
       "    </tr>\n",
       "    <tr>\n",
       "      <th>1</th>\n",
       "      <td>B09D7LG64G</td>\n",
       "      <td>IT</td>\n",
       "      <td>Coloranti Alimentari a 14 colori - Colorante A...</td>\n",
       "      <td>9.98</td>\n",
       "      <td>SigWong</td>\n",
       "      <td>rosso arancio, rosa, giallo verde, giallo limo...</td>\n",
       "      <td>6 ml (Confezione da 14)</td>\n",
       "      <td>NaN</td>\n",
       "      <td>NaN</td>\n",
       "      <td>NaN</td>\n",
       "      <td>ALTAMENTE CONCENTRATO - Sia che tu stia prepar...</td>\n",
       "    </tr>\n",
       "    <tr>\n",
       "      <th>2</th>\n",
       "      <td>B09Z6Y56X5</td>\n",
       "      <td>IT</td>\n",
       "      <td>Pampers Progressi &amp; Fit Prime Junior, Formato ...</td>\n",
       "      <td>59.99</td>\n",
       "      <td>Fater Spa</td>\n",
       "      <td>Avana</td>\n",
       "      <td>Taglia 5 (Confezione da 114)</td>\n",
       "      <td>NaN</td>\n",
       "      <td>NaN</td>\n",
       "      <td>NaN</td>\n",
       "      <td>Cari mamma e papà, c’è una bella novità per vo...</td>\n",
       "    </tr>\n",
       "    <tr>\n",
       "      <th>3</th>\n",
       "      <td>B016QM6OIC</td>\n",
       "      <td>IT</td>\n",
       "      <td>Tommy Hilfiger Classic Bb Cap, Berretto Uomo, ...</td>\n",
       "      <td>32.22</td>\n",
       "      <td>Tommy Hilfiger</td>\n",
       "      <td>FLAG BLACK</td>\n",
       "      <td>Taglia unica</td>\n",
       "      <td>E367895041</td>\n",
       "      <td>Cotone</td>\n",
       "      <td>NaN</td>\n",
       "      <td>Cinturino regolabile sul retro</td>\n",
       "    </tr>\n",
       "    <tr>\n",
       "      <th>4</th>\n",
       "      <td>B09BVHH3F6</td>\n",
       "      <td>IT</td>\n",
       "      <td>JETech Cover in Silicone per iPhone 13 6,1 Pol...</td>\n",
       "      <td>11.99</td>\n",
       "      <td>JETech</td>\n",
       "      <td>Nero</td>\n",
       "      <td>6,1 pollici</td>\n",
       "      <td>3584-</td>\n",
       "      <td>Silicone</td>\n",
       "      <td>NaN</td>\n",
       "      <td>[Altamente protettivo] I bordi rialzati offron...</td>\n",
       "    </tr>\n",
       "    <tr>\n",
       "      <th>...</th>\n",
       "      <td>...</td>\n",
       "      <td>...</td>\n",
       "      <td>...</td>\n",
       "      <td>...</td>\n",
       "      <td>...</td>\n",
       "      <td>...</td>\n",
       "      <td>...</td>\n",
       "      <td>...</td>\n",
       "      <td>...</td>\n",
       "      <td>...</td>\n",
       "      <td>...</td>\n",
       "    </tr>\n",
       "    <tr>\n",
       "      <th>50456</th>\n",
       "      <td>B09BW5CDRR</td>\n",
       "      <td>IT</td>\n",
       "      <td>Barbie - Playset Gelateria con Bambola con Mac...</td>\n",
       "      <td>20.48</td>\n",
       "      <td>Barbie</td>\n",
       "      <td>NaN</td>\n",
       "      <td>NaN</td>\n",
       "      <td>HCN46</td>\n",
       "      <td>NaN</td>\n",
       "      <td>NaN</td>\n",
       "      <td>DETTAGLI REALISTICI. Basta inserire la pasta m...</td>\n",
       "    </tr>\n",
       "    <tr>\n",
       "      <th>50457</th>\n",
       "      <td>B0050IILBM</td>\n",
       "      <td>IT</td>\n",
       "      <td>Braun Silk-épil 1 Depilatore Donna, Epilatore ...</td>\n",
       "      <td>22.61</td>\n",
       "      <td>Braun</td>\n",
       "      <td>Pink</td>\n",
       "      <td>NaN</td>\n",
       "      <td>4210201656067</td>\n",
       "      <td>NaN</td>\n",
       "      <td>NaN</td>\n",
       "      <td>Alimentato a corrente per un comodo utilizzo</td>\n",
       "    </tr>\n",
       "    <tr>\n",
       "      <th>50458</th>\n",
       "      <td>B07W4C5W9D</td>\n",
       "      <td>IT</td>\n",
       "      <td>BoxLegend Sacchetti Sottovuoto Vestiti 6 Pezzi...</td>\n",
       "      <td>14.99</td>\n",
       "      <td>BoxLegend</td>\n",
       "      <td>6 Pezzi.</td>\n",
       "      <td>6 Pezzi (2L + 2M + 2S)</td>\n",
       "      <td>6186666487608_SML</td>\n",
       "      <td>Polietilene Ppa</td>\n",
       "      <td>NaN</td>\n",
       "      <td>6 Sacchetti in 3 Diverse Misure- Questo set di...</td>\n",
       "    </tr>\n",
       "    <tr>\n",
       "      <th>50459</th>\n",
       "      <td>B012D0HJXA</td>\n",
       "      <td>IT</td>\n",
       "      <td>Trasportino Pratiko Metal - Accessorio da viag...</td>\n",
       "      <td>18.35</td>\n",
       "      <td>MPS</td>\n",
       "      <td>verde</td>\n",
       "      <td>NaN</td>\n",
       "      <td>NaN</td>\n",
       "      <td>Metallo</td>\n",
       "      <td>NaN</td>\n",
       "      <td>TRASPORTINO 48X31.5X33CM</td>\n",
       "    </tr>\n",
       "    <tr>\n",
       "      <th>50460</th>\n",
       "      <td>B07P5RLXP3</td>\n",
       "      <td>IT</td>\n",
       "      <td>LiCB - Batterie LR1130, batterie alcaline AG10...</td>\n",
       "      <td>6.99</td>\n",
       "      <td>LiCB</td>\n",
       "      <td>NaN</td>\n",
       "      <td>20 Stück LR1130</td>\n",
       "      <td>LR1130-20</td>\n",
       "      <td>NaN</td>\n",
       "      <td>NaN</td>\n",
       "      <td>Denominazione: 20 pezzi di pile alcaline LR113...</td>\n",
       "    </tr>\n",
       "  </tbody>\n",
       "</table>\n",
       "<p>50461 rows × 11 columns</p>\n",
       "</div>"
      ],
      "text/plain": [
       "               id locale                                              title  \\\n",
       "0      B09BNYKKLN     IT  Pro Breeze Mini Termoventilatore Ceramico da 1...   \n",
       "1      B09D7LG64G     IT  Coloranti Alimentari a 14 colori - Colorante A...   \n",
       "2      B09Z6Y56X5     IT  Pampers Progressi & Fit Prime Junior, Formato ...   \n",
       "3      B016QM6OIC     IT  Tommy Hilfiger Classic Bb Cap, Berretto Uomo, ...   \n",
       "4      B09BVHH3F6     IT  JETech Cover in Silicone per iPhone 13 6,1 Pol...   \n",
       "...           ...    ...                                                ...   \n",
       "50456  B09BW5CDRR     IT  Barbie - Playset Gelateria con Bambola con Mac...   \n",
       "50457  B0050IILBM     IT  Braun Silk-épil 1 Depilatore Donna, Epilatore ...   \n",
       "50458  B07W4C5W9D     IT  BoxLegend Sacchetti Sottovuoto Vestiti 6 Pezzi...   \n",
       "50459  B012D0HJXA     IT  Trasportino Pratiko Metal - Accessorio da viag...   \n",
       "50460  B07P5RLXP3     IT  LiCB - Batterie LR1130, batterie alcaline AG10...   \n",
       "\n",
       "       price           brand  \\\n",
       "0      52.99      Pro Breeze   \n",
       "1       9.98         SigWong   \n",
       "2      59.99       Fater Spa   \n",
       "3      32.22  Tommy Hilfiger   \n",
       "4      11.99          JETech   \n",
       "...      ...             ...   \n",
       "50456  20.48          Barbie   \n",
       "50457  22.61           Braun   \n",
       "50458  14.99       BoxLegend   \n",
       "50459  18.35             MPS   \n",
       "50460   6.99            LiCB   \n",
       "\n",
       "                                                   color  \\\n",
       "0                                                   Nero   \n",
       "1      rosso arancio, rosa, giallo verde, giallo limo...   \n",
       "2                                                  Avana   \n",
       "3                                             FLAG BLACK   \n",
       "4                                                   Nero   \n",
       "...                                                  ...   \n",
       "50456                                                NaN   \n",
       "50457                                               Pink   \n",
       "50458                                           6 Pezzi.   \n",
       "50459                                              verde   \n",
       "50460                                                NaN   \n",
       "\n",
       "                               size              model         material  \\\n",
       "0                               NaN              1800W              NaN   \n",
       "1           6 ml (Confezione da 14)                NaN              NaN   \n",
       "2      Taglia 5 (Confezione da 114)                NaN              NaN   \n",
       "3                      Taglia unica         E367895041           Cotone   \n",
       "4                       6,1 pollici              3584-         Silicone   \n",
       "...                             ...                ...              ...   \n",
       "50456                           NaN              HCN46              NaN   \n",
       "50457                           NaN      4210201656067              NaN   \n",
       "50458        6 Pezzi (2L + 2M + 2S)  6186666487608_SML  Polietilene Ppa   \n",
       "50459                           NaN                NaN          Metallo   \n",
       "50460               20 Stück LR1130          LR1130-20              NaN   \n",
       "\n",
       "      author                                               desc  \n",
       "0        NaN  2 impostazioni di potenza, oscillazione e moda...  \n",
       "1        NaN  ALTAMENTE CONCENTRATO - Sia che tu stia prepar...  \n",
       "2        NaN  Cari mamma e papà, c’è una bella novità per vo...  \n",
       "3        NaN                     Cinturino regolabile sul retro  \n",
       "4        NaN  [Altamente protettivo] I bordi rialzati offron...  \n",
       "...      ...                                                ...  \n",
       "50456    NaN  DETTAGLI REALISTICI. Basta inserire la pasta m...  \n",
       "50457    NaN       Alimentato a corrente per un comodo utilizzo  \n",
       "50458    NaN  6 Sacchetti in 3 Diverse Misure- Questo set di...  \n",
       "50459    NaN                           TRASPORTINO 48X31.5X33CM  \n",
       "50460    NaN  Denominazione: 20 pezzi di pile alcaline LR113...  \n",
       "\n",
       "[50461 rows x 11 columns]"
      ]
     },
     "execution_count": 22,
     "metadata": {},
     "output_type": "execute_result"
    }
   ],
   "source": [
    "IT_products_data"
   ]
  },
  {
   "cell_type": "code",
   "execution_count": 84,
   "metadata": {},
   "outputs": [],
   "source": [
    "id_IT_products_data = IT_products_data[['id', 'locale']]\n",
    "id_FR_products_data = FR_products_data[['id', 'locale']]\n",
    "id_ES_products_data = ES_products_data[['id', 'locale']]\n",
    "id_IT_products_data.to_csv('../data_for_recstudio/IT_data/id_IT_product_train.csv', index=False)\n",
    "id_FR_products_data.to_csv('../data_for_recstudio/FR_data/id_FR_product_train.csv', index=False)\n",
    "id_ES_products_data.to_csv('../data_for_recstudio/ES_data/id_ES_product_train.csv', index=False)"
   ]
  }
 ],
 "metadata": {
  "kernelspec": {
   "display_name": "torch12",
   "language": "python",
   "name": "python3"
  },
  "language_info": {
   "codemirror_mode": {
    "name": "ipython",
    "version": 3
   },
   "file_extension": ".py",
   "mimetype": "text/x-python",
   "name": "python",
   "nbconvert_exporter": "python",
   "pygments_lexer": "ipython3",
   "version": "3.9.15"
  },
  "orig_nbformat": 4
 },
 "nbformat": 4,
 "nbformat_minor": 2
}
