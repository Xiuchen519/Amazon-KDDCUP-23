{
 "cells": [
  {
   "attachments": {},
   "cell_type": "markdown",
   "metadata": {},
   "source": [
    "# public functions"
   ]
  },
  {
   "cell_type": "code",
   "execution_count": 1,
   "metadata": {},
   "outputs": [],
   "source": [
    "import os\n",
    "import numpy as np\n",
    "import pandas as pd\n",
    "from functools import lru_cache\n",
    "from collections import Counter, defaultdict\n",
    "from tqdm import trange, tqdm\n",
    "import copy"
   ]
  },
  {
   "cell_type": "code",
   "execution_count": 2,
   "metadata": {},
   "outputs": [],
   "source": [
    "train_data_dir = '../raw_data/'\n",
    "test_data_dir = '../raw_data/'"
   ]
  },
  {
   "cell_type": "code",
   "execution_count": 3,
   "metadata": {},
   "outputs": [],
   "source": [
    "@lru_cache(maxsize=1)\n",
    "def read_product_data():\n",
    "    print(os.getcwd())\n",
    "    print(os.path.join(train_data_dir, 'products_train.csv'))\n",
    "    return pd.read_csv(os.path.join(train_data_dir, 'products_train.csv'))"
   ]
  },
  {
   "cell_type": "code",
   "execution_count": 4,
   "metadata": {},
   "outputs": [
    {
     "name": "stdout",
     "output_type": "stream",
     "text": [
      "/root/autodl-tmp/xiaolong/WorkSpace/Amazon-KDDCUP-23/data_preprocess\n",
      "../raw_data/products_train.csv\n"
     ]
    },
    {
     "data": {
      "text/html": [
       "<div>\n",
       "<style scoped>\n",
       "    .dataframe tbody tr th:only-of-type {\n",
       "        vertical-align: middle;\n",
       "    }\n",
       "\n",
       "    .dataframe tbody tr th {\n",
       "        vertical-align: top;\n",
       "    }\n",
       "\n",
       "    .dataframe thead th {\n",
       "        text-align: right;\n",
       "    }\n",
       "</style>\n",
       "<table border=\"1\" class=\"dataframe\">\n",
       "  <thead>\n",
       "    <tr style=\"text-align: right;\">\n",
       "      <th></th>\n",
       "      <th>id</th>\n",
       "      <th>locale</th>\n",
       "      <th>title</th>\n",
       "      <th>price</th>\n",
       "      <th>brand</th>\n",
       "      <th>color</th>\n",
       "      <th>size</th>\n",
       "      <th>model</th>\n",
       "      <th>material</th>\n",
       "      <th>author</th>\n",
       "      <th>desc</th>\n",
       "    </tr>\n",
       "  </thead>\n",
       "  <tbody>\n",
       "    <tr>\n",
       "      <th>0</th>\n",
       "      <td>B005ZSSN10</td>\n",
       "      <td>DE</td>\n",
       "      <td>RED DRAGON Amberjack 3 - Steel Tip 22 Gramm Wo...</td>\n",
       "      <td>30.95</td>\n",
       "      <td>RED DRAGON</td>\n",
       "      <td>NaN</td>\n",
       "      <td>NaN</td>\n",
       "      <td>RDD0089</td>\n",
       "      <td>NaN</td>\n",
       "      <td>NaN</td>\n",
       "      <td>Amberjacks Steel Dartpfeile sind verfügbar in ...</td>\n",
       "    </tr>\n",
       "    <tr>\n",
       "      <th>1</th>\n",
       "      <td>B08PRYN6LD</td>\n",
       "      <td>DE</td>\n",
       "      <td>Simply Keto Lower Carb* Schokodrops ohne Zucke...</td>\n",
       "      <td>17.90</td>\n",
       "      <td>Simply Keto</td>\n",
       "      <td>NaN</td>\n",
       "      <td>750 g (1er Pack)</td>\n",
       "      <td>NaN</td>\n",
       "      <td>NaN</td>\n",
       "      <td>NaN</td>\n",
       "      <td>🌱 NATÜRLICHE SÜSSE DURCH ERYTHRIT - Wir stelle...</td>\n",
       "    </tr>\n",
       "  </tbody>\n",
       "</table>\n",
       "</div>"
      ],
      "text/plain": [
       "           id locale                                              title  \\\n",
       "0  B005ZSSN10     DE  RED DRAGON Amberjack 3 - Steel Tip 22 Gramm Wo...   \n",
       "1  B08PRYN6LD     DE  Simply Keto Lower Carb* Schokodrops ohne Zucke...   \n",
       "\n",
       "   price        brand color              size    model material author  \\\n",
       "0  30.95   RED DRAGON   NaN               NaN  RDD0089      NaN    NaN   \n",
       "1  17.90  Simply Keto   NaN  750 g (1er Pack)      NaN      NaN    NaN   \n",
       "\n",
       "                                                desc  \n",
       "0  Amberjacks Steel Dartpfeile sind verfügbar in ...  \n",
       "1  🌱 NATÜRLICHE SÜSSE DURCH ERYTHRIT - Wir stelle...  "
      ]
     },
     "execution_count": 4,
     "metadata": {},
     "output_type": "execute_result"
    }
   ],
   "source": [
    "products = read_product_data()\n",
    "products.head(2)"
   ]
  },
  {
   "cell_type": "code",
   "execution_count": 5,
   "metadata": {},
   "outputs": [],
   "source": [
    "processed_products = copy.deepcopy(products)"
   ]
  },
  {
   "attachments": {},
   "cell_type": "markdown",
   "metadata": {},
   "source": [
    "# Color"
   ]
  },
  {
   "cell_type": "code",
   "execution_count": 250,
   "metadata": {},
   "outputs": [],
   "source": [
    "def lower_color(x):\n",
    "    if not pd.isna(x):\n",
    "        return x.lower()\n",
    "    else:\n",
    "        return x"
   ]
  },
  {
   "cell_type": "code",
   "execution_count": 251,
   "metadata": {},
   "outputs": [],
   "source": [
    "def split_color(x):\n",
    "    if '/' in x:\n",
    "        res = x.split('/')\n",
    "    elif ',' in x:\n",
    "        res = x.split(',')\n",
    "    elif ' ' in x:\n",
    "        res = x.split(' ')\n",
    "    else:\n",
    "        res = [x]\n",
    "    return [_.strip(' ') for _ in res]"
   ]
  },
  {
   "cell_type": "code",
   "execution_count": 252,
   "metadata": {},
   "outputs": [],
   "source": [
    "def precess_color(products_df, color_set):\n",
    "    new_color_col = []\n",
    "    for i in tqdm(products_df.index, total=len(products_df)):\n",
    "        cur_color = products_df.loc[i, 'color']\n",
    "        if pd.isna(cur_color):\n",
    "            new_color_col.append(cur_color)\n",
    "        else:\n",
    "            if cur_color in color_set:\n",
    "                new_color_col.append(cur_color)\n",
    "            else:\n",
    "                in_color_list = []\n",
    "                cur_color_sep = split_color(cur_color)\n",
    "                for c in cur_color_sep:\n",
    "                    if c in color_set:\n",
    "                        in_color_list.append(c)\n",
    "                if len(in_color_list) == 0:\n",
    "                    new_color_col.append(float('nan'))\n",
    "                else:\n",
    "                    new_color_col.append('|'.join(in_color_list))\n",
    "    products_df['processed_color'] = new_color_col"
   ]
  },
  {
   "cell_type": "code",
   "execution_count": 253,
   "metadata": {},
   "outputs": [],
   "source": [
    "products['color'] = products['color'].apply(lower_color)"
   ]
  },
  {
   "cell_type": "code",
   "execution_count": 254,
   "metadata": {},
   "outputs": [
    {
     "data": {
      "text/html": [
       "<div>\n",
       "<style scoped>\n",
       "    .dataframe tbody tr th:only-of-type {\n",
       "        vertical-align: middle;\n",
       "    }\n",
       "\n",
       "    .dataframe tbody tr th {\n",
       "        vertical-align: top;\n",
       "    }\n",
       "\n",
       "    .dataframe thead th {\n",
       "        text-align: right;\n",
       "    }\n",
       "</style>\n",
       "<table border=\"1\" class=\"dataframe\">\n",
       "  <thead>\n",
       "    <tr style=\"text-align: right;\">\n",
       "      <th></th>\n",
       "      <th>id</th>\n",
       "      <th>locale</th>\n",
       "      <th>title</th>\n",
       "      <th>price</th>\n",
       "      <th>brand</th>\n",
       "      <th>color</th>\n",
       "      <th>size</th>\n",
       "      <th>model</th>\n",
       "      <th>material</th>\n",
       "      <th>author</th>\n",
       "      <th>desc</th>\n",
       "    </tr>\n",
       "  </thead>\n",
       "  <tbody>\n",
       "    <tr>\n",
       "      <th>0</th>\n",
       "      <td>B005ZSSN10</td>\n",
       "      <td>DE</td>\n",
       "      <td>RED DRAGON Amberjack 3 - Steel Tip 22 Gramm Wo...</td>\n",
       "      <td>30.95</td>\n",
       "      <td>RED DRAGON</td>\n",
       "      <td>NaN</td>\n",
       "      <td>NaN</td>\n",
       "      <td>RDD0089</td>\n",
       "      <td>NaN</td>\n",
       "      <td>NaN</td>\n",
       "      <td>Amberjacks Steel Dartpfeile sind verfügbar in ...</td>\n",
       "    </tr>\n",
       "    <tr>\n",
       "      <th>1</th>\n",
       "      <td>B08PRYN6LD</td>\n",
       "      <td>DE</td>\n",
       "      <td>Simply Keto Lower Carb* Schokodrops ohne Zucke...</td>\n",
       "      <td>17.90</td>\n",
       "      <td>Simply Keto</td>\n",
       "      <td>NaN</td>\n",
       "      <td>750 g (1er Pack)</td>\n",
       "      <td>NaN</td>\n",
       "      <td>NaN</td>\n",
       "      <td>NaN</td>\n",
       "      <td>🌱 NATÜRLICHE SÜSSE DURCH ERYTHRIT - Wir stelle...</td>\n",
       "    </tr>\n",
       "    <tr>\n",
       "      <th>2</th>\n",
       "      <td>B09MBZJ48V</td>\n",
       "      <td>DE</td>\n",
       "      <td>Sennheiser 508377 PC 5.2 Chat, Stilvolles Mult...</td>\n",
       "      <td>68.89</td>\n",
       "      <td>Sennheiser</td>\n",
       "      <td>multi-colour</td>\n",
       "      <td>One size</td>\n",
       "      <td>508377</td>\n",
       "      <td>Kunstleder</td>\n",
       "      <td>NaN</td>\n",
       "      <td>3.5 MM BUCHSE - Kann problemlos an Geräte mit ...</td>\n",
       "    </tr>\n",
       "    <tr>\n",
       "      <th>3</th>\n",
       "      <td>B08ZN6F26S</td>\n",
       "      <td>DE</td>\n",
       "      <td>AmyBenton Auto ab 1 2 3 ahre - Baby Aufziehbar...</td>\n",
       "      <td>18.99</td>\n",
       "      <td>Amy &amp; Benton</td>\n",
       "      <td>animal car</td>\n",
       "      <td>NaN</td>\n",
       "      <td>2008B</td>\n",
       "      <td>aufziehauto 1 jahr</td>\n",
       "      <td>NaN</td>\n",
       "      <td>【Auto aufziehbar】: Drücken Sie einfach leicht ...</td>\n",
       "    </tr>\n",
       "    <tr>\n",
       "      <th>4</th>\n",
       "      <td>B094DGRV7D</td>\n",
       "      <td>DE</td>\n",
       "      <td>PLAYMOBIL - 70522 - Cavaliere mit grauem Pony</td>\n",
       "      <td>7.17</td>\n",
       "      <td>PLAYMOBIL</td>\n",
       "      <td>nicht zutreffend.</td>\n",
       "      <td>OneSize</td>\n",
       "      <td>70522</td>\n",
       "      <td>Polypropylen</td>\n",
       "      <td>NaN</td>\n",
       "      <td>Inhalt: 1 Stück</td>\n",
       "    </tr>\n",
       "  </tbody>\n",
       "</table>\n",
       "</div>"
      ],
      "text/plain": [
       "           id locale                                              title  \\\n",
       "0  B005ZSSN10     DE  RED DRAGON Amberjack 3 - Steel Tip 22 Gramm Wo...   \n",
       "1  B08PRYN6LD     DE  Simply Keto Lower Carb* Schokodrops ohne Zucke...   \n",
       "2  B09MBZJ48V     DE  Sennheiser 508377 PC 5.2 Chat, Stilvolles Mult...   \n",
       "3  B08ZN6F26S     DE  AmyBenton Auto ab 1 2 3 ahre - Baby Aufziehbar...   \n",
       "4  B094DGRV7D     DE      PLAYMOBIL - 70522 - Cavaliere mit grauem Pony   \n",
       "\n",
       "   price         brand              color              size    model  \\\n",
       "0  30.95    RED DRAGON                NaN               NaN  RDD0089   \n",
       "1  17.90   Simply Keto                NaN  750 g (1er Pack)      NaN   \n",
       "2  68.89    Sennheiser       multi-colour          One size   508377   \n",
       "3  18.99  Amy & Benton         animal car               NaN    2008B   \n",
       "4   7.17     PLAYMOBIL  nicht zutreffend.           OneSize    70522   \n",
       "\n",
       "             material author  \\\n",
       "0                 NaN    NaN   \n",
       "1                 NaN    NaN   \n",
       "2          Kunstleder    NaN   \n",
       "3  aufziehauto 1 jahr    NaN   \n",
       "4        Polypropylen    NaN   \n",
       "\n",
       "                                                desc  \n",
       "0  Amberjacks Steel Dartpfeile sind verfügbar in ...  \n",
       "1  🌱 NATÜRLICHE SÜSSE DURCH ERYTHRIT - Wir stelle...  \n",
       "2  3.5 MM BUCHSE - Kann problemlos an Geräte mit ...  \n",
       "3  【Auto aufziehbar】: Drücken Sie einfach leicht ...  \n",
       "4                                    Inhalt: 1 Stück  "
      ]
     },
     "execution_count": 254,
     "metadata": {},
     "output_type": "execute_result"
    }
   ],
   "source": [
    "products.head(5)"
   ]
  },
  {
   "cell_type": "code",
   "execution_count": 255,
   "metadata": {},
   "outputs": [],
   "source": [
    "processed_products['processed_color'] = [float('nan') for i in range(len(processed_products))]"
   ]
  },
  {
   "cell_type": "code",
   "execution_count": 256,
   "metadata": {},
   "outputs": [],
   "source": [
    "def process_color_for_locale(locale_name):\n",
    "    cur_products = products[products['locale'] == locale_name]\n",
    "    print(\"============print color infomation===============\")\n",
    "    print(f\"unique : {len(cur_products['color'].unique())}, not na : {cur_products['color'].notna().sum()}, share number : {cur_products['color'].notna().sum() / len(cur_products['color'].unique())}\")\n",
    "    \n",
    "    # color share counter \n",
    "    print(\"============start to get color share counter===============\")\n",
    "    cur_color_share_counter = Counter()\n",
    "    cur_color_share_set = defaultdict(list)\n",
    "    for i in tqdm(cur_products.index, total=len(cur_products.index)):\n",
    "        product_id = cur_products.loc[i, 'id']\n",
    "        product_color = cur_products.loc[i, 'color']\n",
    "        if (not pd.isna(product_color)) and (product_id not in cur_color_share_set[product_color]):\n",
    "            cur_color_share_counter[product_color] += 1\n",
    "            cur_color_share_set[product_color].append(product_id)\n",
    "    colors_150, nums_150 = zip(*cur_color_share_counter.most_common(150))\n",
    "    print(\"=============most 10 popular colors===============\")\n",
    "    print(colors_150[:10])\n",
    "    \n",
    "    # cover ratio of 150 colors\n",
    "    print(\"=============cover ratio of 150 colors===============\")\n",
    "    single_color_num = 0\n",
    "    for k in cur_color_share_counter.keys():\n",
    "        if cur_color_share_counter[k] == 1:\n",
    "            single_color_num += 1\n",
    "    print(np.array(nums_150).sum(), np.array(nums_150).sum() / cur_products['color'].notna().sum(), (np.array(nums_150).sum() + single_color_num) / cur_products['color'].notna().sum())\n",
    "    \n",
    "    print(\"=============process colors===============\")\n",
    "    precess_color(cur_products, colors_150)\n",
    "    \n",
    "    processed_products[processed_products['locale'] == locale_name] = cur_products\n",
    "    "
   ]
  },
  {
   "cell_type": "code",
   "execution_count": 257,
   "metadata": {},
   "outputs": [
    {
     "name": "stdout",
     "output_type": "stream",
     "text": [
      "============print color infomation===============\n",
      "unique : 78391, not na : 391466, share number : 4.99376203900958\n",
      "============start to get color share counter===============\n"
     ]
    },
    {
     "name": "stderr",
     "output_type": "stream",
     "text": [
      "100%|██████████| 518327/518327 [01:32<00:00, 5601.35it/s] \n"
     ]
    },
    {
     "name": "stdout",
     "output_type": "stream",
     "text": [
      "=============most 10 popular colors===============\n",
      "('schwarz', 'weiß', 'mehrfarbig', 'blau', 'grau', 'silber', 'rot', 'grün', 'transparent', 'braun')\n",
      "=============cover ratio of 150 colors===============\n",
      "242476 0.6194050057987156 0.7769257100233481\n",
      "=============process colors===============\n"
     ]
    },
    {
     "name": "stderr",
     "output_type": "stream",
     "text": [
      "100%|██████████| 518327/518327 [00:15<00:00, 34332.80it/s]\n",
      "/tmp/ipykernel_149609/607710257.py:20: SettingWithCopyWarning: \n",
      "A value is trying to be set on a copy of a slice from a DataFrame.\n",
      "Try using .loc[row_indexer,col_indexer] = value instead\n",
      "\n",
      "See the caveats in the documentation: https://pandas.pydata.org/pandas-docs/stable/user_guide/indexing.html#returning-a-view-versus-a-copy\n",
      "  products_df['processed_color'] = new_color_col\n"
     ]
    },
    {
     "name": "stdout",
     "output_type": "stream",
     "text": [
      "============print color infomation===============\n",
      "unique : 53480, not na : 252934, share number : 4.729506357516828\n",
      "============start to get color share counter===============\n"
     ]
    },
    {
     "name": "stderr",
     "output_type": "stream",
     "text": [
      "100%|██████████| 395009/395009 [00:44<00:00, 8975.88it/s] \n"
     ]
    },
    {
     "name": "stdout",
     "output_type": "stream",
     "text": [
      "=============most 10 popular colors===============\n",
      "('ブラック', 'ホワイト', 'グレー', 'シルバー', 'ブルー', 'ピンク', '黒', 'ブラウン', 'グリーン', '白')\n",
      "=============cover ratio of 150 colors===============\n",
      "156291 0.6179121826247164 0.7823305684486862\n",
      "=============process colors===============\n"
     ]
    },
    {
     "name": "stderr",
     "output_type": "stream",
     "text": [
      "100%|██████████| 395009/395009 [00:11<00:00, 34984.92it/s]\n",
      "/tmp/ipykernel_149609/607710257.py:20: SettingWithCopyWarning: \n",
      "A value is trying to be set on a copy of a slice from a DataFrame.\n",
      "Try using .loc[row_indexer,col_indexer] = value instead\n",
      "\n",
      "See the caveats in the documentation: https://pandas.pydata.org/pandas-docs/stable/user_guide/indexing.html#returning-a-view-versus-a-copy\n",
      "  products_df['processed_color'] = new_color_col\n"
     ]
    },
    {
     "name": "stdout",
     "output_type": "stream",
     "text": [
      "============print color infomation===============\n",
      "unique : 68935, not na : 378080, share number : 5.484586929716399\n",
      "============start to get color share counter===============\n"
     ]
    },
    {
     "name": "stderr",
     "output_type": "stream",
     "text": [
      "100%|██████████| 500180/500180 [01:39<00:00, 5007.97it/s]\n"
     ]
    },
    {
     "name": "stdout",
     "output_type": "stream",
     "text": [
      "=============most 10 popular colors===============\n",
      "('black', 'white', 'blue', 'grey', 'silver', 'multicolor', 'red', 'pink', 'green', 'clear')\n",
      "=============cover ratio of 150 colors===============\n",
      "247601 0.6548904993652137 0.800089928057554\n",
      "=============process colors===============\n"
     ]
    },
    {
     "name": "stderr",
     "output_type": "stream",
     "text": [
      "100%|██████████| 500180/500180 [00:14<00:00, 34538.63it/s]\n",
      "/tmp/ipykernel_149609/607710257.py:20: SettingWithCopyWarning: \n",
      "A value is trying to be set on a copy of a slice from a DataFrame.\n",
      "Try using .loc[row_indexer,col_indexer] = value instead\n",
      "\n",
      "See the caveats in the documentation: https://pandas.pydata.org/pandas-docs/stable/user_guide/indexing.html#returning-a-view-versus-a-copy\n",
      "  products_df['processed_color'] = new_color_col\n"
     ]
    }
   ],
   "source": [
    "process_color_for_locale('DE')\n",
    "process_color_for_locale('JP')\n",
    "process_color_for_locale('UK')"
   ]
  },
  {
   "cell_type": "code",
   "execution_count": 259,
   "metadata": {},
   "outputs": [
    {
     "name": "stdout",
     "output_type": "stream",
     "text": [
      "============print color infomation===============\n",
      "unique : 8624, not na : 36068, share number : 4.182282003710575\n",
      "============start to get color share counter===============\n"
     ]
    },
    {
     "name": "stderr",
     "output_type": "stream",
     "text": [
      "100%|██████████| 50461/50461 [00:03<00:00, 16045.35it/s]\n"
     ]
    },
    {
     "name": "stdout",
     "output_type": "stream",
     "text": [
      "=============most 10 popular colors===============\n",
      "('nero', 'bianco', 'multicolore', 'blu', 'grigio', 'trasparente', 'argento', 'black', 'verde', 'rosso')\n",
      "=============cover ratio of 150 colors===============\n",
      "23706 0.657258511700122 0.8460408117999335\n",
      "=============process colors===============\n"
     ]
    },
    {
     "name": "stderr",
     "output_type": "stream",
     "text": [
      "100%|██████████| 50461/50461 [00:01<00:00, 34037.31it/s]\n",
      "/tmp/ipykernel_149609/607710257.py:20: SettingWithCopyWarning: \n",
      "A value is trying to be set on a copy of a slice from a DataFrame.\n",
      "Try using .loc[row_indexer,col_indexer] = value instead\n",
      "\n",
      "See the caveats in the documentation: https://pandas.pydata.org/pandas-docs/stable/user_guide/indexing.html#returning-a-view-versus-a-copy\n",
      "  products_df['processed_color'] = new_color_col\n"
     ]
    },
    {
     "name": "stdout",
     "output_type": "stream",
     "text": [
      "============print color infomation===============\n",
      "unique : 8255, not na : 33996, share number : 4.118231374924289\n",
      "============start to get color share counter===============\n"
     ]
    },
    {
     "name": "stderr",
     "output_type": "stream",
     "text": [
      "100%|██████████| 44577/44577 [00:02<00:00, 16093.81it/s]\n"
     ]
    },
    {
     "name": "stdout",
     "output_type": "stream",
     "text": [
      "=============most 10 popular colors===============\n",
      "('noir', 'blanc', 'multicolore', 'bleu', 'gris', 'transparent', 'rose', 'rouge', 'black', 'argent')\n",
      "=============cover ratio of 150 colors===============\n",
      "22593 0.6645781856689023 0.8601306036004236\n",
      "=============process colors===============\n"
     ]
    },
    {
     "name": "stderr",
     "output_type": "stream",
     "text": [
      "100%|██████████| 44577/44577 [00:01<00:00, 34002.87it/s]\n",
      "/tmp/ipykernel_149609/607710257.py:20: SettingWithCopyWarning: \n",
      "A value is trying to be set on a copy of a slice from a DataFrame.\n",
      "Try using .loc[row_indexer,col_indexer] = value instead\n",
      "\n",
      "See the caveats in the documentation: https://pandas.pydata.org/pandas-docs/stable/user_guide/indexing.html#returning-a-view-versus-a-copy\n",
      "  products_df['processed_color'] = new_color_col\n"
     ]
    },
    {
     "name": "stdout",
     "output_type": "stream",
     "text": [
      "============print color infomation===============\n",
      "unique : 7425, not na : 32888, share number : 4.429360269360269\n",
      "============start to get color share counter===============\n"
     ]
    },
    {
     "name": "stderr",
     "output_type": "stream",
     "text": [
      "100%|██████████| 42503/42503 [00:02<00:00, 15852.11it/s]\n"
     ]
    },
    {
     "name": "stdout",
     "output_type": "stream",
     "text": [
      "=============most 10 popular colors===============\n",
      "('negro', 'blanco', 'multicolor', 'azul', 'gris', 'transparente', 'verde', 'rojo', 'black', 'rosa')\n",
      "=============cover ratio of 150 colors===============\n",
      "22719 0.6907990756506933 0.8711688153733884\n",
      "=============process colors===============\n"
     ]
    },
    {
     "name": "stderr",
     "output_type": "stream",
     "text": [
      "100%|██████████| 42503/42503 [00:01<00:00, 34260.56it/s]\n",
      "/tmp/ipykernel_149609/607710257.py:20: SettingWithCopyWarning: \n",
      "A value is trying to be set on a copy of a slice from a DataFrame.\n",
      "Try using .loc[row_indexer,col_indexer] = value instead\n",
      "\n",
      "See the caveats in the documentation: https://pandas.pydata.org/pandas-docs/stable/user_guide/indexing.html#returning-a-view-versus-a-copy\n",
      "  products_df['processed_color'] = new_color_col\n"
     ]
    }
   ],
   "source": [
    "process_color_for_locale('IT')\n",
    "process_color_for_locale('FR')\n",
    "process_color_for_locale('ES')"
   ]
  },
  {
   "cell_type": "code",
   "execution_count": 261,
   "metadata": {},
   "outputs": [],
   "source": [
    "processed_products.drop(columns=['color'], inplace=True)"
   ]
  },
  {
   "cell_type": "code",
   "execution_count": 263,
   "metadata": {},
   "outputs": [
    {
     "data": {
      "text/html": [
       "<div>\n",
       "<style scoped>\n",
       "    .dataframe tbody tr th:only-of-type {\n",
       "        vertical-align: middle;\n",
       "    }\n",
       "\n",
       "    .dataframe tbody tr th {\n",
       "        vertical-align: top;\n",
       "    }\n",
       "\n",
       "    .dataframe thead th {\n",
       "        text-align: right;\n",
       "    }\n",
       "</style>\n",
       "<table border=\"1\" class=\"dataframe\">\n",
       "  <thead>\n",
       "    <tr style=\"text-align: right;\">\n",
       "      <th></th>\n",
       "      <th>id</th>\n",
       "      <th>locale</th>\n",
       "      <th>title</th>\n",
       "      <th>price</th>\n",
       "      <th>brand</th>\n",
       "      <th>size</th>\n",
       "      <th>model</th>\n",
       "      <th>material</th>\n",
       "      <th>author</th>\n",
       "      <th>desc</th>\n",
       "      <th>processed_color</th>\n",
       "    </tr>\n",
       "  </thead>\n",
       "  <tbody>\n",
       "    <tr>\n",
       "      <th>0</th>\n",
       "      <td>B005ZSSN10</td>\n",
       "      <td>DE</td>\n",
       "      <td>RED DRAGON Amberjack 3 - Steel Tip 22 Gramm Wo...</td>\n",
       "      <td>30.95</td>\n",
       "      <td>RED DRAGON</td>\n",
       "      <td>NaN</td>\n",
       "      <td>RDD0089</td>\n",
       "      <td>NaN</td>\n",
       "      <td>NaN</td>\n",
       "      <td>Amberjacks Steel Dartpfeile sind verfügbar in ...</td>\n",
       "      <td>NaN</td>\n",
       "    </tr>\n",
       "    <tr>\n",
       "      <th>1</th>\n",
       "      <td>B08PRYN6LD</td>\n",
       "      <td>DE</td>\n",
       "      <td>Simply Keto Lower Carb* Schokodrops ohne Zucke...</td>\n",
       "      <td>17.90</td>\n",
       "      <td>Simply Keto</td>\n",
       "      <td>750 g (1er Pack)</td>\n",
       "      <td>NaN</td>\n",
       "      <td>NaN</td>\n",
       "      <td>NaN</td>\n",
       "      <td>🌱 NATÜRLICHE SÜSSE DURCH ERYTHRIT - Wir stelle...</td>\n",
       "      <td>NaN</td>\n",
       "    </tr>\n",
       "    <tr>\n",
       "      <th>2</th>\n",
       "      <td>B09MBZJ48V</td>\n",
       "      <td>DE</td>\n",
       "      <td>Sennheiser 508377 PC 5.2 Chat, Stilvolles Mult...</td>\n",
       "      <td>68.89</td>\n",
       "      <td>Sennheiser</td>\n",
       "      <td>One size</td>\n",
       "      <td>508377</td>\n",
       "      <td>Kunstleder</td>\n",
       "      <td>NaN</td>\n",
       "      <td>3.5 MM BUCHSE - Kann problemlos an Geräte mit ...</td>\n",
       "      <td>NaN</td>\n",
       "    </tr>\n",
       "    <tr>\n",
       "      <th>3</th>\n",
       "      <td>B08ZN6F26S</td>\n",
       "      <td>DE</td>\n",
       "      <td>AmyBenton Auto ab 1 2 3 ahre - Baby Aufziehbar...</td>\n",
       "      <td>18.99</td>\n",
       "      <td>Amy &amp; Benton</td>\n",
       "      <td>NaN</td>\n",
       "      <td>2008B</td>\n",
       "      <td>aufziehauto 1 jahr</td>\n",
       "      <td>NaN</td>\n",
       "      <td>【Auto aufziehbar】: Drücken Sie einfach leicht ...</td>\n",
       "      <td>NaN</td>\n",
       "    </tr>\n",
       "    <tr>\n",
       "      <th>4</th>\n",
       "      <td>B094DGRV7D</td>\n",
       "      <td>DE</td>\n",
       "      <td>PLAYMOBIL - 70522 - Cavaliere mit grauem Pony</td>\n",
       "      <td>7.17</td>\n",
       "      <td>PLAYMOBIL</td>\n",
       "      <td>OneSize</td>\n",
       "      <td>70522</td>\n",
       "      <td>Polypropylen</td>\n",
       "      <td>NaN</td>\n",
       "      <td>Inhalt: 1 Stück</td>\n",
       "      <td>NaN</td>\n",
       "    </tr>\n",
       "    <tr>\n",
       "      <th>...</th>\n",
       "      <td>...</td>\n",
       "      <td>...</td>\n",
       "      <td>...</td>\n",
       "      <td>...</td>\n",
       "      <td>...</td>\n",
       "      <td>...</td>\n",
       "      <td>...</td>\n",
       "      <td>...</td>\n",
       "      <td>...</td>\n",
       "      <td>...</td>\n",
       "      <td>...</td>\n",
       "    </tr>\n",
       "    <tr>\n",
       "      <th>1551052</th>\n",
       "      <td>B09BW5CDRR</td>\n",
       "      <td>IT</td>\n",
       "      <td>Barbie - Playset Gelateria con Bambola con Mac...</td>\n",
       "      <td>20.48</td>\n",
       "      <td>Barbie</td>\n",
       "      <td>NaN</td>\n",
       "      <td>HCN46</td>\n",
       "      <td>NaN</td>\n",
       "      <td>NaN</td>\n",
       "      <td>DETTAGLI REALISTICI. Basta inserire la pasta m...</td>\n",
       "      <td>NaN</td>\n",
       "    </tr>\n",
       "    <tr>\n",
       "      <th>1551053</th>\n",
       "      <td>B0050IILBM</td>\n",
       "      <td>IT</td>\n",
       "      <td>Braun Silk-épil 1 Depilatore Donna, Epilatore ...</td>\n",
       "      <td>22.61</td>\n",
       "      <td>Braun</td>\n",
       "      <td>NaN</td>\n",
       "      <td>4210201656067</td>\n",
       "      <td>NaN</td>\n",
       "      <td>NaN</td>\n",
       "      <td>Alimentato a corrente per un comodo utilizzo</td>\n",
       "      <td>pink</td>\n",
       "    </tr>\n",
       "    <tr>\n",
       "      <th>1551054</th>\n",
       "      <td>B07W4C5W9D</td>\n",
       "      <td>IT</td>\n",
       "      <td>BoxLegend Sacchetti Sottovuoto Vestiti 6 Pezzi...</td>\n",
       "      <td>14.99</td>\n",
       "      <td>BoxLegend</td>\n",
       "      <td>6 Pezzi (2L + 2M + 2S)</td>\n",
       "      <td>6186666487608_SML</td>\n",
       "      <td>Polietilene Ppa</td>\n",
       "      <td>NaN</td>\n",
       "      <td>6 Sacchetti in 3 Diverse Misure- Questo set di...</td>\n",
       "      <td>NaN</td>\n",
       "    </tr>\n",
       "    <tr>\n",
       "      <th>1551055</th>\n",
       "      <td>B012D0HJXA</td>\n",
       "      <td>IT</td>\n",
       "      <td>Trasportino Pratiko Metal - Accessorio da viag...</td>\n",
       "      <td>18.35</td>\n",
       "      <td>MPS</td>\n",
       "      <td>NaN</td>\n",
       "      <td>NaN</td>\n",
       "      <td>Metallo</td>\n",
       "      <td>NaN</td>\n",
       "      <td>TRASPORTINO 48X31.5X33CM</td>\n",
       "      <td>verde</td>\n",
       "    </tr>\n",
       "    <tr>\n",
       "      <th>1551056</th>\n",
       "      <td>B07P5RLXP3</td>\n",
       "      <td>IT</td>\n",
       "      <td>LiCB - Batterie LR1130, batterie alcaline AG10...</td>\n",
       "      <td>6.99</td>\n",
       "      <td>LiCB</td>\n",
       "      <td>20 Stück LR1130</td>\n",
       "      <td>LR1130-20</td>\n",
       "      <td>NaN</td>\n",
       "      <td>NaN</td>\n",
       "      <td>Denominazione: 20 pezzi di pile alcaline LR113...</td>\n",
       "      <td>NaN</td>\n",
       "    </tr>\n",
       "  </tbody>\n",
       "</table>\n",
       "<p>1551057 rows × 11 columns</p>\n",
       "</div>"
      ],
      "text/plain": [
       "                 id locale                                              title  \\\n",
       "0        B005ZSSN10     DE  RED DRAGON Amberjack 3 - Steel Tip 22 Gramm Wo...   \n",
       "1        B08PRYN6LD     DE  Simply Keto Lower Carb* Schokodrops ohne Zucke...   \n",
       "2        B09MBZJ48V     DE  Sennheiser 508377 PC 5.2 Chat, Stilvolles Mult...   \n",
       "3        B08ZN6F26S     DE  AmyBenton Auto ab 1 2 3 ahre - Baby Aufziehbar...   \n",
       "4        B094DGRV7D     DE      PLAYMOBIL - 70522 - Cavaliere mit grauem Pony   \n",
       "...             ...    ...                                                ...   \n",
       "1551052  B09BW5CDRR     IT  Barbie - Playset Gelateria con Bambola con Mac...   \n",
       "1551053  B0050IILBM     IT  Braun Silk-épil 1 Depilatore Donna, Epilatore ...   \n",
       "1551054  B07W4C5W9D     IT  BoxLegend Sacchetti Sottovuoto Vestiti 6 Pezzi...   \n",
       "1551055  B012D0HJXA     IT  Trasportino Pratiko Metal - Accessorio da viag...   \n",
       "1551056  B07P5RLXP3     IT  LiCB - Batterie LR1130, batterie alcaline AG10...   \n",
       "\n",
       "         price         brand                    size              model  \\\n",
       "0        30.95    RED DRAGON                     NaN            RDD0089   \n",
       "1        17.90   Simply Keto        750 g (1er Pack)                NaN   \n",
       "2        68.89    Sennheiser                One size             508377   \n",
       "3        18.99  Amy & Benton                     NaN              2008B   \n",
       "4         7.17     PLAYMOBIL                 OneSize              70522   \n",
       "...        ...           ...                     ...                ...   \n",
       "1551052  20.48        Barbie                     NaN              HCN46   \n",
       "1551053  22.61         Braun                     NaN      4210201656067   \n",
       "1551054  14.99     BoxLegend  6 Pezzi (2L + 2M + 2S)  6186666487608_SML   \n",
       "1551055  18.35           MPS                     NaN                NaN   \n",
       "1551056   6.99          LiCB         20 Stück LR1130          LR1130-20   \n",
       "\n",
       "                   material author  \\\n",
       "0                       NaN    NaN   \n",
       "1                       NaN    NaN   \n",
       "2                Kunstleder    NaN   \n",
       "3        aufziehauto 1 jahr    NaN   \n",
       "4              Polypropylen    NaN   \n",
       "...                     ...    ...   \n",
       "1551052                 NaN    NaN   \n",
       "1551053                 NaN    NaN   \n",
       "1551054     Polietilene Ppa    NaN   \n",
       "1551055             Metallo    NaN   \n",
       "1551056                 NaN    NaN   \n",
       "\n",
       "                                                      desc processed_color  \n",
       "0        Amberjacks Steel Dartpfeile sind verfügbar in ...             NaN  \n",
       "1        🌱 NATÜRLICHE SÜSSE DURCH ERYTHRIT - Wir stelle...             NaN  \n",
       "2        3.5 MM BUCHSE - Kann problemlos an Geräte mit ...             NaN  \n",
       "3        【Auto aufziehbar】: Drücken Sie einfach leicht ...             NaN  \n",
       "4                                          Inhalt: 1 Stück             NaN  \n",
       "...                                                    ...             ...  \n",
       "1551052  DETTAGLI REALISTICI. Basta inserire la pasta m...             NaN  \n",
       "1551053       Alimentato a corrente per un comodo utilizzo            pink  \n",
       "1551054  6 Sacchetti in 3 Diverse Misure- Questo set di...             NaN  \n",
       "1551055                           TRASPORTINO 48X31.5X33CM           verde  \n",
       "1551056  Denominazione: 20 pezzi di pile alcaline LR113...             NaN  \n",
       "\n",
       "[1551057 rows x 11 columns]"
      ]
     },
     "execution_count": 263,
     "metadata": {},
     "output_type": "execute_result"
    }
   ],
   "source": [
    "processed_products"
   ]
  },
  {
   "cell_type": "code",
   "execution_count": 262,
   "metadata": {},
   "outputs": [],
   "source": [
    "processed_products.to_csv('../data_for_recstudio/processed_products_train_color.csv', index=False)"
   ]
  },
  {
   "attachments": {},
   "cell_type": "markdown",
   "metadata": {},
   "source": [
    "# price "
   ]
  },
  {
   "cell_type": "code",
   "execution_count": 45,
   "metadata": {},
   "outputs": [],
   "source": [
    "processed_products = pd.read_csv('../data_for_recstudio/processed_products_train_color.csv')"
   ]
  },
  {
   "cell_type": "code",
   "execution_count": 46,
   "metadata": {},
   "outputs": [
    {
     "data": {
      "text/html": [
       "<div>\n",
       "<style scoped>\n",
       "    .dataframe tbody tr th:only-of-type {\n",
       "        vertical-align: middle;\n",
       "    }\n",
       "\n",
       "    .dataframe tbody tr th {\n",
       "        vertical-align: top;\n",
       "    }\n",
       "\n",
       "    .dataframe thead th {\n",
       "        text-align: right;\n",
       "    }\n",
       "</style>\n",
       "<table border=\"1\" class=\"dataframe\">\n",
       "  <thead>\n",
       "    <tr style=\"text-align: right;\">\n",
       "      <th></th>\n",
       "      <th>id</th>\n",
       "      <th>locale</th>\n",
       "      <th>title</th>\n",
       "      <th>price</th>\n",
       "      <th>brand</th>\n",
       "      <th>size</th>\n",
       "      <th>model</th>\n",
       "      <th>material</th>\n",
       "      <th>author</th>\n",
       "      <th>desc</th>\n",
       "      <th>processed_color</th>\n",
       "    </tr>\n",
       "  </thead>\n",
       "  <tbody>\n",
       "    <tr>\n",
       "      <th>0</th>\n",
       "      <td>B005ZSSN10</td>\n",
       "      <td>DE</td>\n",
       "      <td>RED DRAGON Amberjack 3 - Steel Tip 22 Gramm Wo...</td>\n",
       "      <td>30.95</td>\n",
       "      <td>RED DRAGON</td>\n",
       "      <td>NaN</td>\n",
       "      <td>RDD0089</td>\n",
       "      <td>NaN</td>\n",
       "      <td>NaN</td>\n",
       "      <td>Amberjacks Steel Dartpfeile sind verfügbar in ...</td>\n",
       "      <td>NaN</td>\n",
       "    </tr>\n",
       "    <tr>\n",
       "      <th>1</th>\n",
       "      <td>B08PRYN6LD</td>\n",
       "      <td>DE</td>\n",
       "      <td>Simply Keto Lower Carb* Schokodrops ohne Zucke...</td>\n",
       "      <td>17.90</td>\n",
       "      <td>Simply Keto</td>\n",
       "      <td>750 g (1er Pack)</td>\n",
       "      <td>NaN</td>\n",
       "      <td>NaN</td>\n",
       "      <td>NaN</td>\n",
       "      <td>🌱 NATÜRLICHE SÜSSE DURCH ERYTHRIT - Wir stelle...</td>\n",
       "      <td>NaN</td>\n",
       "    </tr>\n",
       "    <tr>\n",
       "      <th>2</th>\n",
       "      <td>B09MBZJ48V</td>\n",
       "      <td>DE</td>\n",
       "      <td>Sennheiser 508377 PC 5.2 Chat, Stilvolles Mult...</td>\n",
       "      <td>68.89</td>\n",
       "      <td>Sennheiser</td>\n",
       "      <td>One size</td>\n",
       "      <td>508377</td>\n",
       "      <td>Kunstleder</td>\n",
       "      <td>NaN</td>\n",
       "      <td>3.5 MM BUCHSE - Kann problemlos an Geräte mit ...</td>\n",
       "      <td>NaN</td>\n",
       "    </tr>\n",
       "    <tr>\n",
       "      <th>3</th>\n",
       "      <td>B08ZN6F26S</td>\n",
       "      <td>DE</td>\n",
       "      <td>AmyBenton Auto ab 1 2 3 ahre - Baby Aufziehbar...</td>\n",
       "      <td>18.99</td>\n",
       "      <td>Amy &amp; Benton</td>\n",
       "      <td>NaN</td>\n",
       "      <td>2008B</td>\n",
       "      <td>aufziehauto 1 jahr</td>\n",
       "      <td>NaN</td>\n",
       "      <td>【Auto aufziehbar】: Drücken Sie einfach leicht ...</td>\n",
       "      <td>NaN</td>\n",
       "    </tr>\n",
       "    <tr>\n",
       "      <th>4</th>\n",
       "      <td>B094DGRV7D</td>\n",
       "      <td>DE</td>\n",
       "      <td>PLAYMOBIL - 70522 - Cavaliere mit grauem Pony</td>\n",
       "      <td>7.17</td>\n",
       "      <td>PLAYMOBIL</td>\n",
       "      <td>OneSize</td>\n",
       "      <td>70522</td>\n",
       "      <td>Polypropylen</td>\n",
       "      <td>NaN</td>\n",
       "      <td>Inhalt: 1 Stück</td>\n",
       "      <td>NaN</td>\n",
       "    </tr>\n",
       "    <tr>\n",
       "      <th>5</th>\n",
       "      <td>B09JNNBDH5</td>\n",
       "      <td>DE</td>\n",
       "      <td>URBZUE Handwärmer, 10000mAh USB aufladbar und ...</td>\n",
       "      <td>20.99</td>\n",
       "      <td>URBZUE</td>\n",
       "      <td>13.5*9*5</td>\n",
       "      <td>Oro rosa</td>\n",
       "      <td>Aluminium</td>\n",
       "      <td>NaN</td>\n",
       "      <td>Einstellbarer Temperaturmodus: Aufladbare Hand...</td>\n",
       "      <td>NaN</td>\n",
       "    </tr>\n",
       "    <tr>\n",
       "      <th>6</th>\n",
       "      <td>B08R62WZ1Y</td>\n",
       "      <td>DE</td>\n",
       "      <td>Kinderkopfhörer Bluetooth, Mädchen Katzenohr K...</td>\n",
       "      <td>24.97</td>\n",
       "      <td>JYPS</td>\n",
       "      <td>NaN</td>\n",
       "      <td>Kinderkopfhörer</td>\n",
       "      <td>NaN</td>\n",
       "      <td>NaN</td>\n",
       "      <td>🎁Drahtlose und kabelgebundene Kinderkopfhörer:...</td>\n",
       "      <td>lila</td>\n",
       "    </tr>\n",
       "    <tr>\n",
       "      <th>7</th>\n",
       "      <td>B09WK4YNX8</td>\n",
       "      <td>DE</td>\n",
       "      <td>8 Stück Herd Schalter Schutz, Küche Gasherd Kn...</td>\n",
       "      <td>12.49</td>\n",
       "      <td>FANSEZQ</td>\n",
       "      <td>NaN</td>\n",
       "      <td>NaN</td>\n",
       "      <td>NaN</td>\n",
       "      <td>NaN</td>\n",
       "      <td>【BREITE ANWENDUNG】Diese Knopfschutzabdeckung i...</td>\n",
       "      <td>transparent</td>\n",
       "    </tr>\n",
       "    <tr>\n",
       "      <th>8</th>\n",
       "      <td>B07KTKFYYS</td>\n",
       "      <td>DE</td>\n",
       "      <td>AVANA Edelstahl Ausstechformen 12 Stück Ringe ...</td>\n",
       "      <td>13.99</td>\n",
       "      <td>AVANA</td>\n",
       "      <td>NaN</td>\n",
       "      <td>NaN</td>\n",
       "      <td>Edelstahl</td>\n",
       "      <td>NaN</td>\n",
       "      <td>100% ZUFRIEDENHEITSGARANTIE - Falls Sie nicht ...</td>\n",
       "      <td>silber</td>\n",
       "    </tr>\n",
       "    <tr>\n",
       "      <th>9</th>\n",
       "      <td>B0B9MPKYJK</td>\n",
       "      <td>DE</td>\n",
       "      <td>Amstory Stirnlampe LED Wiederaufladbar Joggen ...</td>\n",
       "      <td>25.99</td>\n",
       "      <td>Amstory</td>\n",
       "      <td>2 Stücke</td>\n",
       "      <td>LMHL-0006BK</td>\n",
       "      <td>ABS</td>\n",
       "      <td>NaN</td>\n",
       "      <td>☀【1000 Lumen Superheller Kopflampe】 Der LED He...</td>\n",
       "      <td>schwarz</td>\n",
       "    </tr>\n",
       "  </tbody>\n",
       "</table>\n",
       "</div>"
      ],
      "text/plain": [
       "           id locale                                              title  \\\n",
       "0  B005ZSSN10     DE  RED DRAGON Amberjack 3 - Steel Tip 22 Gramm Wo...   \n",
       "1  B08PRYN6LD     DE  Simply Keto Lower Carb* Schokodrops ohne Zucke...   \n",
       "2  B09MBZJ48V     DE  Sennheiser 508377 PC 5.2 Chat, Stilvolles Mult...   \n",
       "3  B08ZN6F26S     DE  AmyBenton Auto ab 1 2 3 ahre - Baby Aufziehbar...   \n",
       "4  B094DGRV7D     DE      PLAYMOBIL - 70522 - Cavaliere mit grauem Pony   \n",
       "5  B09JNNBDH5     DE  URBZUE Handwärmer, 10000mAh USB aufladbar und ...   \n",
       "6  B08R62WZ1Y     DE  Kinderkopfhörer Bluetooth, Mädchen Katzenohr K...   \n",
       "7  B09WK4YNX8     DE  8 Stück Herd Schalter Schutz, Küche Gasherd Kn...   \n",
       "8  B07KTKFYYS     DE  AVANA Edelstahl Ausstechformen 12 Stück Ringe ...   \n",
       "9  B0B9MPKYJK     DE  Amstory Stirnlampe LED Wiederaufladbar Joggen ...   \n",
       "\n",
       "   price         brand              size            model            material  \\\n",
       "0  30.95    RED DRAGON               NaN          RDD0089                 NaN   \n",
       "1  17.90   Simply Keto  750 g (1er Pack)              NaN                 NaN   \n",
       "2  68.89    Sennheiser          One size           508377          Kunstleder   \n",
       "3  18.99  Amy & Benton               NaN            2008B  aufziehauto 1 jahr   \n",
       "4   7.17     PLAYMOBIL           OneSize            70522        Polypropylen   \n",
       "5  20.99        URBZUE          13.5*9*5         Oro rosa           Aluminium   \n",
       "6  24.97          JYPS               NaN  Kinderkopfhörer                 NaN   \n",
       "7  12.49       FANSEZQ               NaN              NaN                 NaN   \n",
       "8  13.99         AVANA               NaN              NaN           Edelstahl   \n",
       "9  25.99       Amstory          2 Stücke      LMHL-0006BK                 ABS   \n",
       "\n",
       "  author                                               desc processed_color  \n",
       "0    NaN  Amberjacks Steel Dartpfeile sind verfügbar in ...             NaN  \n",
       "1    NaN  🌱 NATÜRLICHE SÜSSE DURCH ERYTHRIT - Wir stelle...             NaN  \n",
       "2    NaN  3.5 MM BUCHSE - Kann problemlos an Geräte mit ...             NaN  \n",
       "3    NaN  【Auto aufziehbar】: Drücken Sie einfach leicht ...             NaN  \n",
       "4    NaN                                    Inhalt: 1 Stück             NaN  \n",
       "5    NaN  Einstellbarer Temperaturmodus: Aufladbare Hand...             NaN  \n",
       "6    NaN  🎁Drahtlose und kabelgebundene Kinderkopfhörer:...            lila  \n",
       "7    NaN  【BREITE ANWENDUNG】Diese Knopfschutzabdeckung i...     transparent  \n",
       "8    NaN  100% ZUFRIEDENHEITSGARANTIE - Falls Sie nicht ...          silber  \n",
       "9    NaN  ☀【1000 Lumen Superheller Kopflampe】 Der LED He...         schwarz  "
      ]
     },
     "execution_count": 46,
     "metadata": {},
     "output_type": "execute_result"
    }
   ],
   "source": [
    "processed_products.head(10)"
   ]
  },
  {
   "cell_type": "code",
   "execution_count": 48,
   "metadata": {},
   "outputs": [],
   "source": [
    "def replace_invalid_price(locale_name):\n",
    "    locale_price_mean = products[products['locale'] == locale_name]['price'].apply(lambda x : x if x != 40000000.07 else 0.0).mean()\n",
    "    processed_products.loc[(products['locale'] == locale_name) & (products['price'] == 40000000.07), 'price'] = locale_price_mean\n",
    "    print(f'The mean price of {locale_name} is {locale_price_mean}!')"
   ]
  },
  {
   "cell_type": "code",
   "execution_count": 49,
   "metadata": {},
   "outputs": [
    {
     "name": "stdout",
     "output_type": "stream",
     "text": [
      "The mean price of DE is 36.7616060903638!\n",
      "The mean price of JP is 4201.2729840839065!\n",
      "The mean price of UK is 22.097065056579634!\n",
      "The mean price of IT is 41.40211192802362!\n",
      "The mean price of FR is 36.92596899746506!\n",
      "The mean price of ES is 40.18674375926405!\n"
     ]
    }
   ],
   "source": [
    "replace_invalid_price('DE')\n",
    "replace_invalid_price('JP')\n",
    "replace_invalid_price('UK')\n",
    "replace_invalid_price('IT')\n",
    "replace_invalid_price('FR')\n",
    "replace_invalid_price('ES')"
   ]
  },
  {
   "cell_type": "code",
   "execution_count": 51,
   "metadata": {},
   "outputs": [
    {
     "data": {
      "text/html": [
       "<div>\n",
       "<style scoped>\n",
       "    .dataframe tbody tr th:only-of-type {\n",
       "        vertical-align: middle;\n",
       "    }\n",
       "\n",
       "    .dataframe tbody tr th {\n",
       "        vertical-align: top;\n",
       "    }\n",
       "\n",
       "    .dataframe thead th {\n",
       "        text-align: right;\n",
       "    }\n",
       "</style>\n",
       "<table border=\"1\" class=\"dataframe\">\n",
       "  <thead>\n",
       "    <tr style=\"text-align: right;\">\n",
       "      <th></th>\n",
       "      <th>id</th>\n",
       "      <th>locale</th>\n",
       "      <th>title</th>\n",
       "      <th>price</th>\n",
       "      <th>brand</th>\n",
       "      <th>size</th>\n",
       "      <th>model</th>\n",
       "      <th>material</th>\n",
       "      <th>author</th>\n",
       "      <th>desc</th>\n",
       "      <th>processed_color</th>\n",
       "    </tr>\n",
       "  </thead>\n",
       "  <tbody>\n",
       "    <tr>\n",
       "      <th>518393</th>\n",
       "      <td>B00A3PNT2S</td>\n",
       "      <td>JP</td>\n",
       "      <td>アール【すりガラス対応】 【日本製】 【結露対策】 すりガラス用結露吸水テープ トナカイ H...</td>\n",
       "      <td>4201.272984</td>\n",
       "      <td>アール</td>\n",
       "      <td>NaN</td>\n",
       "      <td>H-281</td>\n",
       "      <td>PET</td>\n",
       "      <td>NaN</td>\n",
       "      <td>サイズ:8*180*0.3㎝</td>\n",
       "      <td>ホワイト</td>\n",
       "    </tr>\n",
       "    <tr>\n",
       "      <th>518401</th>\n",
       "      <td>B07G2L16ZK</td>\n",
       "      <td>JP</td>\n",
       "      <td>[東京下町工房] 本革コインケース 小銭入れ 完全手作り 手縫い仕上げ コンパクト 使いやす...</td>\n",
       "      <td>4201.272984</td>\n",
       "      <td>東京下町工房</td>\n",
       "      <td>Medium</td>\n",
       "      <td>0917</td>\n",
       "      <td>レザー</td>\n",
       "      <td>NaN</td>\n",
       "      <td>【完全手作り】 完全手作りで一つひとつ人の手により、丁寧に仕上げられています。シンプルで高級...</td>\n",
       "      <td>ブラック</td>\n",
       "    </tr>\n",
       "    <tr>\n",
       "      <th>518443</th>\n",
       "      <td>B07SHBFG97</td>\n",
       "      <td>JP</td>\n",
       "      <td>N NEWKOIN 【最新強化版】 室内 HD テレビ アンテナ地デジアンテナ 卓上 TV ...</td>\n",
       "      <td>4201.272984</td>\n",
       "      <td>N NEWKOIN</td>\n",
       "      <td>SW003</td>\n",
       "      <td>NaN</td>\n",
       "      <td>NaN</td>\n",
       "      <td>NaN</td>\n",
       "      <td>【購入する前に読んでください】このアンテナを購入する前に、近くに信号塔があることを確認してく...</td>\n",
       "      <td>blue</td>\n",
       "    </tr>\n",
       "    <tr>\n",
       "      <th>518451</th>\n",
       "      <td>B0B615DW5G</td>\n",
       "      <td>JP</td>\n",
       "      <td>イヌノカガヤキニチジョウヘン</td>\n",
       "      <td>4201.272984</td>\n",
       "      <td>NaN</td>\n",
       "      <td>NaN</td>\n",
       "      <td>NaN</td>\n",
       "      <td>NaN</td>\n",
       "      <td>NaN</td>\n",
       "      <td>NaN</td>\n",
       "      <td>NaN</td>\n",
       "    </tr>\n",
       "    <tr>\n",
       "      <th>518474</th>\n",
       "      <td>B0B9NG2KQ8</td>\n",
       "      <td>JP</td>\n",
       "      <td>ハロウィン 飾り付け 風船 バルーン 装飾セット パーティー イベント HAPPY HALL...</td>\n",
       "      <td>4201.272984</td>\n",
       "      <td>Xinvery</td>\n",
       "      <td>NaN</td>\n",
       "      <td>X0002</td>\n",
       "      <td>紙吹雪</td>\n",
       "      <td>NaN</td>\n",
       "      <td>【 楽しく飾りつけ】初心者＆自信がない方でもスムーズにご準備できます。素敵なガーランドが作り...</td>\n",
       "      <td>b</td>\n",
       "    </tr>\n",
       "    <tr>\n",
       "      <th>...</th>\n",
       "      <td>...</td>\n",
       "      <td>...</td>\n",
       "      <td>...</td>\n",
       "      <td>...</td>\n",
       "      <td>...</td>\n",
       "      <td>...</td>\n",
       "      <td>...</td>\n",
       "      <td>...</td>\n",
       "      <td>...</td>\n",
       "      <td>...</td>\n",
       "      <td>...</td>\n",
       "    </tr>\n",
       "    <tr>\n",
       "      <th>913248</th>\n",
       "      <td>B00D0X3KH4</td>\n",
       "      <td>JP</td>\n",
       "      <td>【正規品】 Herman Miller (ハーマンミラー) セイルチェア オフィスチェア グ...</td>\n",
       "      <td>4201.272984</td>\n",
       "      <td>HermanMiller(ハーマンミラー)</td>\n",
       "      <td>巾73x奥行73ｘ高さ89~99</td>\n",
       "      <td>AS1YA23HA N2 65 BB SG SG 7314</td>\n",
       "      <td>アルミニウム</td>\n",
       "      <td>NaN</td>\n",
       "      <td>「設置・組立・引き取り」サービスを一部地域でご利用いただけます。本ページ内に「サービスオプシ...</td>\n",
       "      <td>グレー</td>\n",
       "    </tr>\n",
       "    <tr>\n",
       "      <th>913274</th>\n",
       "      <td>B0B2RMRNFH</td>\n",
       "      <td>JP</td>\n",
       "      <td>くらしモアさぬき丸一製麺 本場熟成さぬきうどん 5食入</td>\n",
       "      <td>4201.272984</td>\n",
       "      <td>くらしモアさぬき丸一製麺</td>\n",
       "      <td>NaN</td>\n",
       "      <td>NaN</td>\n",
       "      <td>NaN</td>\n",
       "      <td>NaN</td>\n",
       "      <td>冷凍</td>\n",
       "      <td>NaN</td>\n",
       "    </tr>\n",
       "    <tr>\n",
       "      <th>913289</th>\n",
       "      <td>B07Y8HG5F7</td>\n",
       "      <td>JP</td>\n",
       "      <td>CINECE ハロウィン 飾り コウモリ ステッカー 108枚セット PVC製 立体 取り外...</td>\n",
       "      <td>4201.272984</td>\n",
       "      <td>CINECE</td>\n",
       "      <td>NaN</td>\n",
       "      <td>NaN</td>\n",
       "      <td>ポリ塩化ビニル</td>\n",
       "      <td>NaN</td>\n",
       "      <td>付属の両面シールを胴体部分に貼って壁に貼り付ける仕様になります。</td>\n",
       "      <td>NaN</td>\n",
       "    </tr>\n",
       "    <tr>\n",
       "      <th>913299</th>\n",
       "      <td>B0BCWJK33Y</td>\n",
       "      <td>JP</td>\n",
       "      <td>フック 壁 傷つけない 耐荷重5kg (3個入り) 石膏ボード 壁紙 賃貸 ホチキスで取付 ...</td>\n",
       "      <td>4201.272984</td>\n",
       "      <td>ウエルスジャパン(Wealth JAPAN)</td>\n",
       "      <td>‎縦5.2×横3×厚さ2cm</td>\n",
       "      <td>NaN</td>\n",
       "      <td>NaN</td>\n",
       "      <td>NaN</td>\n",
       "      <td>壁面の有効利用で・お部屋がスッキリ!</td>\n",
       "      <td>ホワイト</td>\n",
       "    </tr>\n",
       "    <tr>\n",
       "      <th>913323</th>\n",
       "      <td>B07K8N85HK</td>\n",
       "      <td>JP</td>\n",
       "      <td>ギャクテンサイバンナルホドウセレクション</td>\n",
       "      <td>4201.272984</td>\n",
       "      <td>カプコン</td>\n",
       "      <td>NaN</td>\n",
       "      <td>NaN</td>\n",
       "      <td>NaN</td>\n",
       "      <td>NaN</td>\n",
       "      <td>2019年初頭、シリーズの原点となる初期3作品を1本に収めた『逆転裁判123 成歩堂セレクシ...</td>\n",
       "      <td>NaN</td>\n",
       "    </tr>\n",
       "  </tbody>\n",
       "</table>\n",
       "<p>15806 rows × 11 columns</p>\n",
       "</div>"
      ],
      "text/plain": [
       "                id locale                                              title  \\\n",
       "518393  B00A3PNT2S     JP  アール【すりガラス対応】 【日本製】 【結露対策】 すりガラス用結露吸水テープ トナカイ H...   \n",
       "518401  B07G2L16ZK     JP  [東京下町工房] 本革コインケース 小銭入れ 完全手作り 手縫い仕上げ コンパクト 使いやす...   \n",
       "518443  B07SHBFG97     JP  N NEWKOIN 【最新強化版】 室内 HD テレビ アンテナ地デジアンテナ 卓上 TV ...   \n",
       "518451  B0B615DW5G     JP                                     イヌノカガヤキニチジョウヘン   \n",
       "518474  B0B9NG2KQ8     JP  ハロウィン 飾り付け 風船 バルーン 装飾セット パーティー イベント HAPPY HALL...   \n",
       "...            ...    ...                                                ...   \n",
       "913248  B00D0X3KH4     JP  【正規品】 Herman Miller (ハーマンミラー) セイルチェア オフィスチェア グ...   \n",
       "913274  B0B2RMRNFH     JP                        くらしモアさぬき丸一製麺 本場熟成さぬきうどん 5食入   \n",
       "913289  B07Y8HG5F7     JP  CINECE ハロウィン 飾り コウモリ ステッカー 108枚セット PVC製 立体 取り外...   \n",
       "913299  B0BCWJK33Y     JP  フック 壁 傷つけない 耐荷重5kg (3個入り) 石膏ボード 壁紙 賃貸 ホチキスで取付 ...   \n",
       "913323  B07K8N85HK     JP                               ギャクテンサイバンナルホドウセレクション   \n",
       "\n",
       "              price                   brand              size  \\\n",
       "518393  4201.272984                     アール               NaN   \n",
       "518401  4201.272984                  東京下町工房            Medium   \n",
       "518443  4201.272984               N NEWKOIN             SW003   \n",
       "518451  4201.272984                     NaN               NaN   \n",
       "518474  4201.272984                 Xinvery               NaN   \n",
       "...             ...                     ...               ...   \n",
       "913248  4201.272984   HermanMiller(ハーマンミラー)  巾73x奥行73ｘ高さ89~99   \n",
       "913274  4201.272984            くらしモアさぬき丸一製麺               NaN   \n",
       "913289  4201.272984                  CINECE               NaN   \n",
       "913299  4201.272984  ウエルスジャパン(Wealth JAPAN)    ‎縦5.2×横3×厚さ2cm   \n",
       "913323  4201.272984                    カプコン               NaN   \n",
       "\n",
       "                                model material author  \\\n",
       "518393                          H-281      PET    NaN   \n",
       "518401                           0917      レザー    NaN   \n",
       "518443                            NaN      NaN    NaN   \n",
       "518451                            NaN      NaN    NaN   \n",
       "518474                          X0002      紙吹雪    NaN   \n",
       "...                               ...      ...    ...   \n",
       "913248  AS1YA23HA N2 65 BB SG SG 7314   アルミニウム    NaN   \n",
       "913274                            NaN      NaN    NaN   \n",
       "913289                            NaN  ポリ塩化ビニル    NaN   \n",
       "913299                            NaN      NaN    NaN   \n",
       "913323                            NaN      NaN    NaN   \n",
       "\n",
       "                                                     desc processed_color  \n",
       "518393                                     サイズ:8*180*0.3㎝            ホワイト  \n",
       "518401  【完全手作り】 完全手作りで一つひとつ人の手により、丁寧に仕上げられています。シンプルで高級...            ブラック  \n",
       "518443  【購入する前に読んでください】このアンテナを購入する前に、近くに信号塔があることを確認してく...            blue  \n",
       "518451                                                NaN             NaN  \n",
       "518474  【 楽しく飾りつけ】初心者＆自信がない方でもスムーズにご準備できます。素敵なガーランドが作り...               b  \n",
       "...                                                   ...             ...  \n",
       "913248  「設置・組立・引き取り」サービスを一部地域でご利用いただけます。本ページ内に「サービスオプシ...             グレー  \n",
       "913274                                                 冷凍             NaN  \n",
       "913289                   付属の両面シールを胴体部分に貼って壁に貼り付ける仕様になります。             NaN  \n",
       "913299                                 壁面の有効利用で・お部屋がスッキリ!            ホワイト  \n",
       "913323  2019年初頭、シリーズの原点となる初期3作品を1本に収めた『逆転裁判123 成歩堂セレクシ...             NaN  \n",
       "\n",
       "[15806 rows x 11 columns]"
      ]
     },
     "execution_count": 51,
     "metadata": {},
     "output_type": "execute_result"
    }
   ],
   "source": [
    "processed_products[(products['locale'] == 'JP') & (products['price'] == 40000000.07)]"
   ]
  },
  {
   "cell_type": "code",
   "execution_count": null,
   "metadata": {},
   "outputs": [],
   "source": [
    "processed_products['price'] = np.log1p(processed_products['price'])"
   ]
  },
  {
   "cell_type": "code",
   "execution_count": 52,
   "metadata": {},
   "outputs": [],
   "source": [
    "processed_products.to_csv('../data_for_recstudio/processed_products_train_price.csv', index=False)"
   ]
  },
  {
   "attachments": {},
   "cell_type": "markdown",
   "metadata": {},
   "source": [
    "# brand"
   ]
  },
  {
   "cell_type": "code",
   "execution_count": 103,
   "metadata": {},
   "outputs": [],
   "source": [
    "def lower_name(x):\n",
    "    if not pd.isna(x):\n",
    "        return x.lower()\n",
    "    else:\n",
    "        return x"
   ]
  },
  {
   "cell_type": "code",
   "execution_count": 95,
   "metadata": {},
   "outputs": [],
   "source": [
    "products['brand'] = products['brand'].apply(lambda x : lower_name(x))"
   ]
  },
  {
   "cell_type": "code",
   "execution_count": 90,
   "metadata": {},
   "outputs": [],
   "source": [
    "def locale_brand_statistic(locale_name):\n",
    "    locale_products = products[products['locale'] == locale_name]\n",
    "    # color share counter \n",
    "    brand_counter = Counter()\n",
    "    for i in tqdm(locale_products.index, total=locale_products.shape[0]):\n",
    "        product_id = locale_products.loc[i, 'id']\n",
    "        product_brand = locale_products.loc[i, 'brand']\n",
    "        if not pd.isna(product_brand):\n",
    "            brand_counter[product_brand] += 1\n",
    "    \n",
    "    single_brand_num = 0\n",
    "    for k in brand_counter.keys():\n",
    "        if brand_counter[k] == 1:\n",
    "            single_brand_num += 1\n",
    "    print(f\"The number of all brand : {len(brand_counter.keys())}, the number of single brands : {single_brand_num}.\")\n",
    "    return brand_counter"
   ]
  },
  {
   "cell_type": "code",
   "execution_count": 96,
   "metadata": {},
   "outputs": [
    {
     "name": "stderr",
     "output_type": "stream",
     "text": [
      "100%|██████████| 518327/518327 [00:07<00:00, 65214.91it/s]\n"
     ]
    },
    {
     "name": "stdout",
     "output_type": "stream",
     "text": [
      "The number of all brand : 68940, the number of single brands : 25486.\n"
     ]
    }
   ],
   "source": [
    "DE_brand_counter = locale_brand_statistic('DE')"
   ]
  },
  {
   "cell_type": "code",
   "execution_count": 97,
   "metadata": {},
   "outputs": [
    {
     "name": "stderr",
     "output_type": "stream",
     "text": [
      "100%|██████████| 395009/395009 [00:06<00:00, 62565.12it/s]\n"
     ]
    },
    {
     "name": "stdout",
     "output_type": "stream",
     "text": [
      "The number of all brand : 48697, the number of single brands : 18183.\n"
     ]
    },
    {
     "name": "stderr",
     "output_type": "stream",
     "text": [
      "100%|██████████| 500180/500180 [00:07<00:00, 64178.01it/s]\n"
     ]
    },
    {
     "name": "stdout",
     "output_type": "stream",
     "text": [
      "The number of all brand : 72755, the number of single brands : 27977.\n"
     ]
    }
   ],
   "source": [
    "JP_brand_counter = locale_brand_statistic('JP')\n",
    "UK_brand_counter = locale_brand_statistic('UK')"
   ]
  },
  {
   "cell_type": "code",
   "execution_count": 84,
   "metadata": {},
   "outputs": [],
   "source": [
    "most_brands, most_nums = zip(*DE_brand_counter.most_common(10000))"
   ]
  },
  {
   "cell_type": "code",
   "execution_count": 85,
   "metadata": {},
   "outputs": [
    {
     "name": "stdout",
     "output_type": "stream",
     "text": [
      "x, y is got.\n"
     ]
    },
    {
     "data": {
      "image/png": "[encoded data removed]",
      "text/plain": [
       "<Figure size 3000x1000 with 1 Axes>"
      ]
     },
     "metadata": {},
     "output_type": "display_data"
    }
   ],
   "source": [
    "import matplotlib.pyplot as plt\n",
    "import numpy as np\n",
    "plt.figure(figsize=(30, 10))\n",
    "\n",
    "x = np.array(range(len(most_brands)))\n",
    "y = np.array(list(most_nums))\n",
    "print('x, y is got.')\n",
    "\n",
    "plt.bar(x,y)\n",
    "plt.show()"
   ]
  },
  {
   "cell_type": "code",
   "execution_count": 98,
   "metadata": {},
   "outputs": [],
   "source": [
    "processed_products['brand'] = processed_products['brand'].apply(lambda x : lower_name(x))"
   ]
  },
  {
   "attachments": {},
   "cell_type": "markdown",
   "metadata": {},
   "source": [
    "# material"
   ]
  },
  {
   "cell_type": "code",
   "execution_count": 104,
   "metadata": {},
   "outputs": [],
   "source": [
    "products['material'] = products['material'].apply(lambda x : lower_name(x))"
   ]
  },
  {
   "cell_type": "code",
   "execution_count": 100,
   "metadata": {},
   "outputs": [],
   "source": [
    "def locale_material_statistic(locale_name):\n",
    "    locale_products = products[products['locale'] == locale_name]\n",
    "    # color share counter \n",
    "    brand_counter = Counter()\n",
    "    for i in tqdm(locale_products.index, total=locale_products.shape[0]):\n",
    "        product_id = locale_products.loc[i, 'id']\n",
    "        product_material = locale_products.loc[i, 'material']\n",
    "        if not pd.isna(product_material):\n",
    "            brand_counter[product_material] += 1\n",
    "    \n",
    "    single_brand_num = 0\n",
    "    for k in brand_counter.keys():\n",
    "        if brand_counter[k] == 1:\n",
    "            single_brand_num += 1\n",
    "    print(f\"The number of all brand : {len(brand_counter.keys())}, the number of single brands : {single_brand_num}.\")\n",
    "    return brand_counter"
   ]
  },
  {
   "cell_type": "code",
   "execution_count": 105,
   "metadata": {},
   "outputs": [
    {
     "name": "stderr",
     "output_type": "stream",
     "text": [
      "100%|██████████| 518327/518327 [00:07<00:00, 68454.61it/s]\n"
     ]
    },
    {
     "name": "stdout",
     "output_type": "stream",
     "text": [
      "The number of all brand : 15126, the number of single brands : 8992.\n"
     ]
    },
    {
     "name": "stderr",
     "output_type": "stream",
     "text": [
      "100%|██████████| 395009/395009 [00:06<00:00, 58844.90it/s]\n"
     ]
    },
    {
     "name": "stdout",
     "output_type": "stream",
     "text": [
      "The number of all brand : 15407, the number of single brands : 9024.\n"
     ]
    },
    {
     "name": "stderr",
     "output_type": "stream",
     "text": [
      "100%|██████████| 500180/500180 [00:07<00:00, 68957.55it/s]\n"
     ]
    },
    {
     "name": "stdout",
     "output_type": "stream",
     "text": [
      "The number of all brand : 13609, the number of single brands : 7989.\n"
     ]
    }
   ],
   "source": [
    "DE_brand_counter = locale_material_statistic('DE')\n",
    "JP_brand_counter = locale_material_statistic('JP')\n",
    "UK_brand_counter = locale_material_statistic('UK')"
   ]
  },
  {
   "cell_type": "code",
   "execution_count": 106,
   "metadata": {},
   "outputs": [],
   "source": [
    "processed_products['material'] = processed_products['material'].apply(lambda x : lower_name(x))"
   ]
  },
  {
   "attachments": {},
   "cell_type": "markdown",
   "metadata": {},
   "source": [
    "# author"
   ]
  },
  {
   "cell_type": "code",
   "execution_count": 107,
   "metadata": {},
   "outputs": [],
   "source": [
    "products['author'] = products['author'].apply(lambda x : lower_name(x))"
   ]
  },
  {
   "cell_type": "code",
   "execution_count": null,
   "metadata": {},
   "outputs": [],
   "source": [
    "def locale_author_statistic(locale_name):\n",
    "    locale_products = products[products['locale'] == locale_name]\n",
    "    # color share counter \n",
    "    author_counter = Counter()\n",
    "    for i in tqdm(locale_products.index, total=locale_products.shape[0]):\n",
    "        product_id = locale_products.loc[i, 'id']\n",
    "        product_author = locale_products.loc[i, 'author']\n",
    "        if not pd.isna(product_author):\n",
    "            author_counter[product_author] += 1\n",
    "    \n",
    "    single_author_num = 0\n",
    "    for k in author_counter.keys():\n",
    "        if author_counter[k] == 1:\n",
    "            single_author_num += 1\n",
    "    print(f\"The number of all brand : {len(author_counter.keys())}, the number of single brands : {single_author_num}.\")\n",
    "    return author_counter"
   ]
  },
  {
   "cell_type": "code",
   "execution_count": 108,
   "metadata": {},
   "outputs": [
    {
     "name": "stderr",
     "output_type": "stream",
     "text": [
      "100%|██████████| 518327/518327 [00:07<00:00, 68392.42it/s]\n"
     ]
    },
    {
     "name": "stdout",
     "output_type": "stream",
     "text": [
      "The number of all brand : 15126, the number of single brands : 8992.\n"
     ]
    },
    {
     "name": "stderr",
     "output_type": "stream",
     "text": [
      "100%|██████████| 395009/395009 [00:06<00:00, 59636.39it/s]\n"
     ]
    },
    {
     "name": "stdout",
     "output_type": "stream",
     "text": [
      "The number of all brand : 15407, the number of single brands : 9024.\n"
     ]
    },
    {
     "name": "stderr",
     "output_type": "stream",
     "text": [
      "100%|██████████| 500180/500180 [00:07<00:00, 69391.74it/s]\n"
     ]
    },
    {
     "name": "stdout",
     "output_type": "stream",
     "text": [
      "The number of all brand : 13609, the number of single brands : 7989.\n"
     ]
    }
   ],
   "source": [
    "DE_material_counter = locale_material_statistic('DE')\n",
    "JP_material_counter = locale_material_statistic('JP')\n",
    "UK_material_counter = locale_material_statistic('UK')"
   ]
  },
  {
   "cell_type": "code",
   "execution_count": 109,
   "metadata": {},
   "outputs": [],
   "source": [
    "processed_products['author'] = processed_products['author'].apply(lambda x : lower_name(x))"
   ]
  },
  {
   "cell_type": "code",
   "execution_count": 14,
   "metadata": {},
   "outputs": [],
   "source": [
    "processed_products.to_csv('../data_for_recstudio/processed_products_train.csv', index=False)"
   ]
  },
  {
   "cell_type": "code",
   "execution_count": 9,
   "metadata": {},
   "outputs": [
    {
     "name": "stderr",
     "output_type": "stream",
     "text": [
      "/tmp/ipykernel_430998/2790002809.py:2: SettingWithCopyWarning: \n",
      "A value is trying to be set on a copy of a slice from a DataFrame\n",
      "\n",
      "See the caveats in the documentation: https://pandas.pydata.org/pandas-docs/stable/user_guide/indexing.html#returning-a-view-versus-a-copy\n",
      "  UK_processed_products.drop(columns=['desc', 'size', 'model'], inplace=True)\n"
     ]
    }
   ],
   "source": [
    "UK_processed_products = processed_products[processed_products['locale'] == 'UK']\n",
    "UK_processed_products.drop(columns=['desc', 'size', 'model'], inplace=True)\n",
    "UK_processed_products.to_csv('../data_for_recstudio/UK_data/UK_processed_product_train.csv', index=False)"
   ]
  },
  {
   "cell_type": "code",
   "execution_count": 10,
   "metadata": {},
   "outputs": [
    {
     "name": "stderr",
     "output_type": "stream",
     "text": [
      "/tmp/ipykernel_430998/844834643.py:2: SettingWithCopyWarning: \n",
      "A value is trying to be set on a copy of a slice from a DataFrame\n",
      "\n",
      "See the caveats in the documentation: https://pandas.pydata.org/pandas-docs/stable/user_guide/indexing.html#returning-a-view-versus-a-copy\n",
      "  DE_processed_products.drop(columns=['desc', 'size', 'model'], inplace=True)\n",
      "/tmp/ipykernel_430998/844834643.py:6: SettingWithCopyWarning: \n",
      "A value is trying to be set on a copy of a slice from a DataFrame\n",
      "\n",
      "See the caveats in the documentation: https://pandas.pydata.org/pandas-docs/stable/user_guide/indexing.html#returning-a-view-versus-a-copy\n",
      "  JP_processed_products.drop(columns=['desc', 'size', 'model'], inplace=True)\n"
     ]
    }
   ],
   "source": [
    "DE_processed_products = processed_products[processed_products['locale'] == 'DE']\n",
    "DE_processed_products.drop(columns=['desc', 'size', 'model'], inplace=True)\n",
    "DE_processed_products.to_csv('../data_for_recstudio/DE_data/DE_processed_product_train.csv', index=False)\n",
    "\n",
    "JP_processed_products = processed_products[processed_products['locale'] == 'JP']\n",
    "JP_processed_products.drop(columns=['desc', 'size', 'model'], inplace=True)\n",
    "JP_processed_products.to_csv('../data_for_recstudio/JP_data/JP_processed_product_train.csv', index=False)"
   ]
  },
  {
   "cell_type": "code",
   "execution_count": 11,
   "metadata": {},
   "outputs": [
    {
     "name": "stderr",
     "output_type": "stream",
     "text": [
      "/tmp/ipykernel_430998/2984794033.py:2: SettingWithCopyWarning: \n",
      "A value is trying to be set on a copy of a slice from a DataFrame\n",
      "\n",
      "See the caveats in the documentation: https://pandas.pydata.org/pandas-docs/stable/user_guide/indexing.html#returning-a-view-versus-a-copy\n",
      "  IT_processed_products.drop(columns=['desc', 'size', 'model'], inplace=True)\n",
      "/tmp/ipykernel_430998/2984794033.py:6: SettingWithCopyWarning: \n",
      "A value is trying to be set on a copy of a slice from a DataFrame\n",
      "\n",
      "See the caveats in the documentation: https://pandas.pydata.org/pandas-docs/stable/user_guide/indexing.html#returning-a-view-versus-a-copy\n",
      "  ES_processed_products.drop(columns=['desc', 'size', 'model'], inplace=True)\n",
      "/tmp/ipykernel_430998/2984794033.py:10: SettingWithCopyWarning: \n",
      "A value is trying to be set on a copy of a slice from a DataFrame\n",
      "\n",
      "See the caveats in the documentation: https://pandas.pydata.org/pandas-docs/stable/user_guide/indexing.html#returning-a-view-versus-a-copy\n",
      "  FR_processed_products.drop(columns=['desc', 'size', 'model'], inplace=True)\n"
     ]
    }
   ],
   "source": [
    "IT_processed_products = processed_products[processed_products['locale'] == 'IT']\n",
    "IT_processed_products.drop(columns=['desc', 'size', 'model'], inplace=True)\n",
    "IT_processed_products.to_csv('../data_for_recstudio/IT_data/IT_processed_product_train.csv', index=False)\n",
    "\n",
    "ES_processed_products = processed_products[processed_products['locale'] == 'ES']\n",
    "ES_processed_products.drop(columns=['desc', 'size', 'model'], inplace=True)\n",
    "ES_processed_products.to_csv('../data_for_recstudio/ES_data/ES_processed_product_train.csv', index=False)\n",
    "\n",
    "FR_processed_products = processed_products[processed_products['locale'] == 'FR']\n",
    "FR_processed_products.drop(columns=['desc', 'size', 'model'], inplace=True)\n",
    "FR_processed_products.to_csv('../data_for_recstudio/FR_data/FR_processed_product_train.csv', index=False)"
   ]
  },
  {
   "cell_type": "code",
   "execution_count": 121,
   "metadata": {},
   "outputs": [
    {
     "data": {
      "text/html": [
       "<div>\n",
       "<style scoped>\n",
       "    .dataframe tbody tr th:only-of-type {\n",
       "        vertical-align: middle;\n",
       "    }\n",
       "\n",
       "    .dataframe tbody tr th {\n",
       "        vertical-align: top;\n",
       "    }\n",
       "\n",
       "    .dataframe thead th {\n",
       "        text-align: right;\n",
       "    }\n",
       "</style>\n",
       "<table border=\"1\" class=\"dataframe\">\n",
       "  <thead>\n",
       "    <tr style=\"text-align: right;\">\n",
       "      <th></th>\n",
       "      <th>id</th>\n",
       "      <th>locale</th>\n",
       "      <th>title</th>\n",
       "      <th>price</th>\n",
       "      <th>brand</th>\n",
       "      <th>material</th>\n",
       "      <th>author</th>\n",
       "      <th>processed_color</th>\n",
       "    </tr>\n",
       "  </thead>\n",
       "  <tbody>\n",
       "    <tr>\n",
       "      <th>913336</th>\n",
       "      <td>B087LZNPHS</td>\n",
       "      <td>UK</td>\n",
       "      <td>SOCHOW Sherpa Fleece Throw Blanket, Double-Sid...</td>\n",
       "      <td>24.99</td>\n",
       "      <td>sochow</td>\n",
       "      <td>100% polyester</td>\n",
       "      <td>NaN</td>\n",
       "      <td>teal|green</td>\n",
       "    </tr>\n",
       "    <tr>\n",
       "      <th>913337</th>\n",
       "      <td>B08THFN1KX</td>\n",
       "      <td>UK</td>\n",
       "      <td>Hippowarehouse Personalised Photo Printed Mous...</td>\n",
       "      <td>9.95</td>\n",
       "      <td>hippowarehouse</td>\n",
       "      <td>rubber</td>\n",
       "      <td>NaN</td>\n",
       "      <td>white</td>\n",
       "    </tr>\n",
       "    <tr>\n",
       "      <th>913338</th>\n",
       "      <td>0804185328</td>\n",
       "      <td>UK</td>\n",
       "      <td>500 Easy Recipes for Every Machine, Both Stove...</td>\n",
       "      <td>16.49</td>\n",
       "      <td>clarkson potter</td>\n",
       "      <td>NaN</td>\n",
       "      <td>scarbrough, mark</td>\n",
       "      <td>white</td>\n",
       "    </tr>\n",
       "    <tr>\n",
       "      <th>913339</th>\n",
       "      <td>B09VBKDBW6</td>\n",
       "      <td>UK</td>\n",
       "      <td>TYHJOY Mini Bag Sealer, Handheld Vacuum Heat S...</td>\n",
       "      <td>11.99</td>\n",
       "      <td>tyhjoy</td>\n",
       "      <td>acrylonitrile butadiene styrene</td>\n",
       "      <td>NaN</td>\n",
       "      <td>black</td>\n",
       "    </tr>\n",
       "    <tr>\n",
       "      <th>913340</th>\n",
       "      <td>B096ZW8B49</td>\n",
       "      <td>UK</td>\n",
       "      <td>Lucosobie Steering Wheel Lock - Car Anti-Theft...</td>\n",
       "      <td>26.99</td>\n",
       "      <td>lucosobie</td>\n",
       "      <td>alloy steel</td>\n",
       "      <td>NaN</td>\n",
       "      <td>black</td>\n",
       "    </tr>\n",
       "    <tr>\n",
       "      <th>...</th>\n",
       "      <td>...</td>\n",
       "      <td>...</td>\n",
       "      <td>...</td>\n",
       "      <td>...</td>\n",
       "      <td>...</td>\n",
       "      <td>...</td>\n",
       "      <td>...</td>\n",
       "      <td>...</td>\n",
       "    </tr>\n",
       "    <tr>\n",
       "      <th>1413511</th>\n",
       "      <td>B08D7KW8VK</td>\n",
       "      <td>UK</td>\n",
       "      <td>TOMHOUSEE Anime Cosplay Short Straight Hair Wi...</td>\n",
       "      <td>9.99</td>\n",
       "      <td>tomhousee</td>\n",
       "      <td>synthetic</td>\n",
       "      <td>NaN</td>\n",
       "      <td>grey</td>\n",
       "    </tr>\n",
       "    <tr>\n",
       "      <th>1413512</th>\n",
       "      <td>B073WXLXR9</td>\n",
       "      <td>UK</td>\n",
       "      <td>Crystals NEW brilliant ink twister bingo dabbe...</td>\n",
       "      <td>8.99</td>\n",
       "      <td>crystals</td>\n",
       "      <td>plastic</td>\n",
       "      <td>NaN</td>\n",
       "      <td>orange|blue|green|pink|red|purple</td>\n",
       "    </tr>\n",
       "    <tr>\n",
       "      <th>1413513</th>\n",
       "      <td>1529393833</td>\n",
       "      <td>UK</td>\n",
       "      <td>Before I Do: the new, funny and unexpected lov...</td>\n",
       "      <td>4.50</td>\n",
       "      <td>hodder paperbacks</td>\n",
       "      <td>NaN</td>\n",
       "      <td>cousens, sophie</td>\n",
       "      <td>NaN</td>\n",
       "    </tr>\n",
       "    <tr>\n",
       "      <th>1413514</th>\n",
       "      <td>B0B3TJ1NDN</td>\n",
       "      <td>UK</td>\n",
       "      <td>Black iPhone Charger Cable, iPhone Charger Bra...</td>\n",
       "      <td>4.49</td>\n",
       "      <td>aa-tech</td>\n",
       "      <td>nylon braided</td>\n",
       "      <td>NaN</td>\n",
       "      <td>black</td>\n",
       "    </tr>\n",
       "    <tr>\n",
       "      <th>1413515</th>\n",
       "      <td>B00HUBEG3Y</td>\n",
       "      <td>UK</td>\n",
       "      <td>Kids B Crafty 100 Mini Pegs, Mini Wooden Pegs,...</td>\n",
       "      <td>3.99</td>\n",
       "      <td>kids b crafty</td>\n",
       "      <td>alloy steel</td>\n",
       "      <td>NaN</td>\n",
       "      <td>NaN</td>\n",
       "    </tr>\n",
       "  </tbody>\n",
       "</table>\n",
       "<p>500180 rows × 8 columns</p>\n",
       "</div>"
      ],
      "text/plain": [
       "                 id locale                                              title  \\\n",
       "913336   B087LZNPHS     UK  SOCHOW Sherpa Fleece Throw Blanket, Double-Sid...   \n",
       "913337   B08THFN1KX     UK  Hippowarehouse Personalised Photo Printed Mous...   \n",
       "913338   0804185328     UK  500 Easy Recipes for Every Machine, Both Stove...   \n",
       "913339   B09VBKDBW6     UK  TYHJOY Mini Bag Sealer, Handheld Vacuum Heat S...   \n",
       "913340   B096ZW8B49     UK  Lucosobie Steering Wheel Lock - Car Anti-Theft...   \n",
       "...             ...    ...                                                ...   \n",
       "1413511  B08D7KW8VK     UK  TOMHOUSEE Anime Cosplay Short Straight Hair Wi...   \n",
       "1413512  B073WXLXR9     UK  Crystals NEW brilliant ink twister bingo dabbe...   \n",
       "1413513  1529393833     UK  Before I Do: the new, funny and unexpected lov...   \n",
       "1413514  B0B3TJ1NDN     UK  Black iPhone Charger Cable, iPhone Charger Bra...   \n",
       "1413515  B00HUBEG3Y     UK  Kids B Crafty 100 Mini Pegs, Mini Wooden Pegs,...   \n",
       "\n",
       "         price              brand                         material  \\\n",
       "913336   24.99             sochow                   100% polyester   \n",
       "913337    9.95     hippowarehouse                           rubber   \n",
       "913338   16.49    clarkson potter                              NaN   \n",
       "913339   11.99             tyhjoy  acrylonitrile butadiene styrene   \n",
       "913340   26.99          lucosobie                      alloy steel   \n",
       "...        ...                ...                              ...   \n",
       "1413511   9.99          tomhousee                        synthetic   \n",
       "1413512   8.99           crystals                          plastic   \n",
       "1413513   4.50  hodder paperbacks                              NaN   \n",
       "1413514   4.49            aa-tech                    nylon braided   \n",
       "1413515   3.99      kids b crafty                      alloy steel   \n",
       "\n",
       "                   author                    processed_color  \n",
       "913336                NaN                         teal|green  \n",
       "913337                NaN                              white  \n",
       "913338   scarbrough, mark                              white  \n",
       "913339                NaN                              black  \n",
       "913340                NaN                              black  \n",
       "...                   ...                                ...  \n",
       "1413511               NaN                               grey  \n",
       "1413512               NaN  orange|blue|green|pink|red|purple  \n",
       "1413513   cousens, sophie                                NaN  \n",
       "1413514               NaN                              black  \n",
       "1413515               NaN                                NaN  \n",
       "\n",
       "[500180 rows x 8 columns]"
      ]
     },
     "execution_count": 121,
     "metadata": {},
     "output_type": "execute_result"
    }
   ],
   "source": [
    "UK_processed_products"
   ]
  }
 ],
 "metadata": {
  "kernelspec": {
   "display_name": "torch12",
   "language": "python",
   "name": "python3"
  },
  "language_info": {
   "codemirror_mode": {
    "name": "ipython",
    "version": 3
   },
   "file_extension": ".py",
   "mimetype": "text/x-python",
   "name": "python",
   "nbconvert_exporter": "python",
   "pygments_lexer": "ipython3",
   "version": "3.9.16"
  },
  "orig_nbformat": 4
 },
 "nbformat": 4,
 "nbformat_minor": 2
}
