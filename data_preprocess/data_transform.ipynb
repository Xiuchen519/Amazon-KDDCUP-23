{
 "cells": [
  {
   "cell_type": "code",
   "execution_count": 7,
   "metadata": {},
   "outputs": [],
   "source": [
    "import os\n",
    "import numpy as np\n",
    "import pandas as pd\n",
    "from functools import lru_cache\n",
    "from tqdm import tqdm "
   ]
  },
  {
   "cell_type": "code",
   "execution_count": 12,
   "metadata": {},
   "outputs": [],
   "source": [
    "train_data_dir = '../raw_data/'\n",
    "test_data_dir = '../raw_data/'\n",
    "recstudio_data_dir = '../data_for_recstudio/'\n",
    "task = 'task1'\n",
    "PREDS_PER_SESSION = 100"
   ]
  },
  {
   "cell_type": "code",
   "execution_count": 6,
   "metadata": {},
   "outputs": [],
   "source": [
    "@lru_cache(maxsize=1)\n",
    "def read_train_data():\n",
    "    return pd.read_csv(os.path.join(train_data_dir, 'sessions_train.csv'))\n",
    "\n",
    "@lru_cache(maxsize=1)\n",
    "def read_test_data():\n",
    "    return pd.read_csv(os.path.join(test_data_dir, 'sessions_test_task1.csv'))\n",
    "\n",
    "@lru_cache(maxsize=1)\n",
    "def read_test_data_task3():\n",
    "    return pd.read_csv(os.path.join(test_data_dir, 'sessions_test_task3.csv'))"
   ]
  },
  {
   "cell_type": "code",
   "execution_count": 14,
   "metadata": {},
   "outputs": [],
   "source": [
    "def transform_to_inter_feat(sess_df):\n",
    "    num_sess = len(sess_df)\n",
    "\n",
    "    with open(os.path.join(recstudio_data_dir, 'test_inter_feat_task3.csv'), 'w') as f:\n",
    "        f.write('sess_id,product_id,timestamp,locale\\n')\n",
    "        \n",
    "        for i in tqdm(range(num_sess)):\n",
    "            sess_id = i \n",
    "            sess = sess_df.iloc[i]\n",
    "            sess_locale = sess['locale']\n",
    "            sess_prev_items = sess['prev_items']\n",
    "            if 'next_item' in sess_df:\n",
    "                sess_nxt_item = sess['next_item']\n",
    "\n",
    "            product_list = sess_prev_items.strip('[]').split(' ')\n",
    "            product_list = list(map(lambda x : x.strip(\"'\\n\"), product_list))\n",
    "            if 'next_item' in sess_df:\n",
    "                product_list.append(sess_nxt_item)\n",
    "\n",
    "            for j, product_id in enumerate(product_list):\n",
    "                inter_str = f'{sess_id},{product_id},{j},{sess_locale}\\n'\n",
    "                f.write(inter_str)"
   ]
  },
  {
   "cell_type": "code",
   "execution_count": 15,
   "metadata": {},
   "outputs": [],
   "source": [
    "sess_test_task3 = read_test_data_task3()"
   ]
  },
  {
   "cell_type": "code",
   "execution_count": 16,
   "metadata": {},
   "outputs": [
    {
     "name": "stderr",
     "output_type": "stream",
     "text": [
      "100%|██████████| 56421/56421 [00:02<00:00, 26447.53it/s]\n"
     ]
    }
   ],
   "source": [
    "transform_to_inter_feat(sess_test_task3)"
   ]
  },
  {
   "cell_type": "code",
   "execution_count": 17,
   "metadata": {},
   "outputs": [
    {
     "data": {
      "text/html": [
       "<div>\n",
       "<style scoped>\n",
       "    .dataframe tbody tr th:only-of-type {\n",
       "        vertical-align: middle;\n",
       "    }\n",
       "\n",
       "    .dataframe tbody tr th {\n",
       "        vertical-align: top;\n",
       "    }\n",
       "\n",
       "    .dataframe thead th {\n",
       "        text-align: right;\n",
       "    }\n",
       "</style>\n",
       "<table border=\"1\" class=\"dataframe\">\n",
       "  <thead>\n",
       "    <tr style=\"text-align: right;\">\n",
       "      <th></th>\n",
       "      <th>prev_items</th>\n",
       "      <th>locale</th>\n",
       "    </tr>\n",
       "  </thead>\n",
       "  <tbody>\n",
       "    <tr>\n",
       "      <th>0</th>\n",
       "      <td>['B082DLM3NZ' 'B089X86H73']</td>\n",
       "      <td>ES</td>\n",
       "    </tr>\n",
       "    <tr>\n",
       "      <th>1</th>\n",
       "      <td>['B071WPLND2' 'B08TMJ9SDZ' 'B07XRCLVYG']</td>\n",
       "      <td>ES</td>\n",
       "    </tr>\n",
       "    <tr>\n",
       "      <th>2</th>\n",
       "      <td>['B094V8G54H' 'B094V97YV8']</td>\n",
       "      <td>ES</td>\n",
       "    </tr>\n",
       "    <tr>\n",
       "      <th>3</th>\n",
       "      <td>['B0B3DQXY57' 'B0B6W3GGTM']</td>\n",
       "      <td>ES</td>\n",
       "    </tr>\n",
       "    <tr>\n",
       "      <th>4</th>\n",
       "      <td>['B0765BPD7T' 'B00V4PQY3C' 'B09HWV4MBK']</td>\n",
       "      <td>ES</td>\n",
       "    </tr>\n",
       "  </tbody>\n",
       "</table>\n",
       "</div>"
      ],
      "text/plain": [
       "                                 prev_items locale\n",
       "0               ['B082DLM3NZ' 'B089X86H73']     ES\n",
       "1  ['B071WPLND2' 'B08TMJ9SDZ' 'B07XRCLVYG']     ES\n",
       "2               ['B094V8G54H' 'B094V97YV8']     ES\n",
       "3               ['B0B3DQXY57' 'B0B6W3GGTM']     ES\n",
       "4  ['B0765BPD7T' 'B00V4PQY3C' 'B09HWV4MBK']     ES"
      ]
     },
     "execution_count": 17,
     "metadata": {},
     "output_type": "execute_result"
    }
   ],
   "source": [
    "sess_test_task3.head(5)"
   ]
  },
  {
   "cell_type": "code",
   "execution_count": 33,
   "metadata": {},
   "outputs": [],
   "source": [
    "sess_train = read_train_data()"
   ]
  },
  {
   "cell_type": "code",
   "execution_count": 34,
   "metadata": {},
   "outputs": [
    {
     "data": {
      "text/html": [
       "<div>\n",
       "<style scoped>\n",
       "    .dataframe tbody tr th:only-of-type {\n",
       "        vertical-align: middle;\n",
       "    }\n",
       "\n",
       "    .dataframe tbody tr th {\n",
       "        vertical-align: top;\n",
       "    }\n",
       "\n",
       "    .dataframe thead th {\n",
       "        text-align: right;\n",
       "    }\n",
       "</style>\n",
       "<table border=\"1\" class=\"dataframe\">\n",
       "  <thead>\n",
       "    <tr style=\"text-align: right;\">\n",
       "      <th></th>\n",
       "      <th>prev_items</th>\n",
       "      <th>next_item</th>\n",
       "      <th>locale</th>\n",
       "    </tr>\n",
       "  </thead>\n",
       "  <tbody>\n",
       "    <tr>\n",
       "      <th>0</th>\n",
       "      <td>['B09W9FND7K' 'B09JSPLN1M']</td>\n",
       "      <td>B09M7GY217</td>\n",
       "      <td>DE</td>\n",
       "    </tr>\n",
       "    <tr>\n",
       "      <th>1</th>\n",
       "      <td>['B076THCGSG' 'B007MO8IME' 'B08MF65MLV' 'B001B...</td>\n",
       "      <td>B001B4THSA</td>\n",
       "      <td>DE</td>\n",
       "    </tr>\n",
       "    <tr>\n",
       "      <th>2</th>\n",
       "      <td>['B0B1LGXWDS' 'B00AZYORS2' 'B0B1LGXWDS' 'B00AZ...</td>\n",
       "      <td>B0767DTG2Q</td>\n",
       "      <td>DE</td>\n",
       "    </tr>\n",
       "    <tr>\n",
       "      <th>3</th>\n",
       "      <td>['B09XMTWDVT' 'B0B4MZZ8MB' 'B0B7HZ2GWX' 'B09XM...</td>\n",
       "      <td>B0B4R9NN4B</td>\n",
       "      <td>DE</td>\n",
       "    </tr>\n",
       "    <tr>\n",
       "      <th>4</th>\n",
       "      <td>['B09Y5CSL3T' 'B09Y5DPTXN' 'B09FKD61R8']</td>\n",
       "      <td>B0BGVBKWGZ</td>\n",
       "      <td>DE</td>\n",
       "    </tr>\n",
       "    <tr>\n",
       "      <th>5</th>\n",
       "      <td>['B0749V8TC7' 'B0749W93VC' 'B0749TX4YP']</td>\n",
       "      <td>B0749TX4YS</td>\n",
       "      <td>DE</td>\n",
       "    </tr>\n",
       "    <tr>\n",
       "      <th>6</th>\n",
       "      <td>['B09SMK3R8H' 'B01N4ND0F9']</td>\n",
       "      <td>B08YNZT93Z</td>\n",
       "      <td>DE</td>\n",
       "    </tr>\n",
       "    <tr>\n",
       "      <th>7</th>\n",
       "      <td>['B09B2W5S9R' 'B09B2YFY6M' 'B09B2WGPRB']</td>\n",
       "      <td>B097CX2V3L</td>\n",
       "      <td>DE</td>\n",
       "    </tr>\n",
       "    <tr>\n",
       "      <th>8</th>\n",
       "      <td>['B01MQOR80Q' 'B095HS8R62' 'B09B31WTVY']</td>\n",
       "      <td>B09B32SSDT</td>\n",
       "      <td>DE</td>\n",
       "    </tr>\n",
       "    <tr>\n",
       "      <th>9</th>\n",
       "      <td>['3649625660' 'B07N3SNQW5' 'B099JZ9L9Y' 'B07Q2...</td>\n",
       "      <td>B08R7G53T1</td>\n",
       "      <td>DE</td>\n",
       "    </tr>\n",
       "  </tbody>\n",
       "</table>\n",
       "</div>"
      ],
      "text/plain": [
       "                                          prev_items   next_item locale\n",
       "0                        ['B09W9FND7K' 'B09JSPLN1M']  B09M7GY217     DE\n",
       "1  ['B076THCGSG' 'B007MO8IME' 'B08MF65MLV' 'B001B...  B001B4THSA     DE\n",
       "2  ['B0B1LGXWDS' 'B00AZYORS2' 'B0B1LGXWDS' 'B00AZ...  B0767DTG2Q     DE\n",
       "3  ['B09XMTWDVT' 'B0B4MZZ8MB' 'B0B7HZ2GWX' 'B09XM...  B0B4R9NN4B     DE\n",
       "4           ['B09Y5CSL3T' 'B09Y5DPTXN' 'B09FKD61R8']  B0BGVBKWGZ     DE\n",
       "5           ['B0749V8TC7' 'B0749W93VC' 'B0749TX4YP']  B0749TX4YS     DE\n",
       "6                        ['B09SMK3R8H' 'B01N4ND0F9']  B08YNZT93Z     DE\n",
       "7           ['B09B2W5S9R' 'B09B2YFY6M' 'B09B2WGPRB']  B097CX2V3L     DE\n",
       "8           ['B01MQOR80Q' 'B095HS8R62' 'B09B31WTVY']  B09B32SSDT     DE\n",
       "9  ['3649625660' 'B07N3SNQW5' 'B099JZ9L9Y' 'B07Q2...  B08R7G53T1     DE"
      ]
     },
     "execution_count": 34,
     "metadata": {},
     "output_type": "execute_result"
    }
   ],
   "source": [
    "sess_train.head(10)"
   ]
  },
  {
   "cell_type": "code",
   "execution_count": 8,
   "metadata": {},
   "outputs": [],
   "source": [
    "recstudio_data_dir = '../data_for_recstudio/'"
   ]
  },
  {
   "cell_type": "code",
   "execution_count": 36,
   "metadata": {},
   "outputs": [
    {
     "name": "stderr",
     "output_type": "stream",
     "text": [
      "100%|██████████| 3606249/3606249 [06:00<00:00, 10007.82it/s]\n"
     ]
    }
   ],
   "source": [
    "from tqdm import tqdm \n",
    "num_train_sess = len(sess_train)\n",
    "\n",
    "with open(os.path.join(recstudio_data_dir, 'inter_feat.csv'), 'w') as f:\n",
    "    f.write('sess_id,product_id,timestamp,locale\\n')\n",
    "    \n",
    "    for i in tqdm(range(num_train_sess)):\n",
    "        sess_id = i \n",
    "        sess = sess_train.iloc[i]\n",
    "        sess_locale = sess['locale']\n",
    "        sess_prev_items = sess['prev_items']\n",
    "        sess_nxt_item = sess['next_item']\n",
    "\n",
    "        product_list = sess_prev_items.strip('[]').split(' ')\n",
    "        product_list = list(map(lambda x : x.strip(\"'\\n\"), product_list))\n",
    "        product_list.append(sess_nxt_item)\n",
    "\n",
    "        for j, product_id in enumerate(product_list):\n",
    "            inter_str = f'{sess_id},{product_id},{j},{sess_locale}\\n'\n",
    "            f.write(inter_str)"
   ]
  },
  {
   "cell_type": "code",
   "execution_count": 38,
   "metadata": {},
   "outputs": [
    {
     "data": {
      "text/html": [
       "<div>\n",
       "<style scoped>\n",
       "    .dataframe tbody tr th:only-of-type {\n",
       "        vertical-align: middle;\n",
       "    }\n",
       "\n",
       "    .dataframe tbody tr th {\n",
       "        vertical-align: top;\n",
       "    }\n",
       "\n",
       "    .dataframe thead th {\n",
       "        text-align: right;\n",
       "    }\n",
       "</style>\n",
       "<table border=\"1\" class=\"dataframe\">\n",
       "  <thead>\n",
       "    <tr style=\"text-align: right;\">\n",
       "      <th></th>\n",
       "      <th>sess_id</th>\n",
       "      <th>product_id</th>\n",
       "      <th>timestamp</th>\n",
       "      <th>locale</th>\n",
       "    </tr>\n",
       "  </thead>\n",
       "  <tbody>\n",
       "    <tr>\n",
       "      <th>18075374</th>\n",
       "      <td>3425525</td>\n",
       "      <td>B07J67BC5V</td>\n",
       "      <td>1</td>\n",
       "      <td>FR</td>\n",
       "    </tr>\n",
       "    <tr>\n",
       "      <th>6369146</th>\n",
       "      <td>1187854</td>\n",
       "      <td>B00P8XV9JA</td>\n",
       "      <td>1</td>\n",
       "      <td>JP</td>\n",
       "    </tr>\n",
       "    <tr>\n",
       "      <th>9396601</th>\n",
       "      <td>1740713</td>\n",
       "      <td>B09Q5SHDR3</td>\n",
       "      <td>0</td>\n",
       "      <td>JP</td>\n",
       "    </tr>\n",
       "    <tr>\n",
       "      <th>14078412</th>\n",
       "      <td>2629826</td>\n",
       "      <td>B084ZWXRFL</td>\n",
       "      <td>8</td>\n",
       "      <td>UK</td>\n",
       "    </tr>\n",
       "    <tr>\n",
       "      <th>15214021</th>\n",
       "      <td>2851136</td>\n",
       "      <td>B09VSZ6ZW9</td>\n",
       "      <td>4</td>\n",
       "      <td>UK</td>\n",
       "    </tr>\n",
       "    <tr>\n",
       "      <th>17796356</th>\n",
       "      <td>3363965</td>\n",
       "      <td>B09LQWM2NZ</td>\n",
       "      <td>2</td>\n",
       "      <td>FR</td>\n",
       "    </tr>\n",
       "    <tr>\n",
       "      <th>2835956</th>\n",
       "      <td>529970</td>\n",
       "      <td>B07KQKMCMV</td>\n",
       "      <td>3</td>\n",
       "      <td>DE</td>\n",
       "    </tr>\n",
       "    <tr>\n",
       "      <th>18403257</th>\n",
       "      <td>3497075</td>\n",
       "      <td>B071YH437W</td>\n",
       "      <td>3</td>\n",
       "      <td>IT</td>\n",
       "    </tr>\n",
       "    <tr>\n",
       "      <th>5865803</th>\n",
       "      <td>1095980</td>\n",
       "      <td>B07XLML2YS</td>\n",
       "      <td>0</td>\n",
       "      <td>DE</td>\n",
       "    </tr>\n",
       "    <tr>\n",
       "      <th>8058063</th>\n",
       "      <td>1495625</td>\n",
       "      <td>B092VX5RK7</td>\n",
       "      <td>18</td>\n",
       "      <td>JP</td>\n",
       "    </tr>\n",
       "  </tbody>\n",
       "</table>\n",
       "</div>"
      ],
      "text/plain": [
       "          sess_id  product_id  timestamp locale\n",
       "18075374  3425525  B07J67BC5V          1     FR\n",
       "6369146   1187854  B00P8XV9JA          1     JP\n",
       "9396601   1740713  B09Q5SHDR3          0     JP\n",
       "14078412  2629826  B084ZWXRFL          8     UK\n",
       "15214021  2851136  B09VSZ6ZW9          4     UK\n",
       "17796356  3363965  B09LQWM2NZ          2     FR\n",
       "2835956    529970  B07KQKMCMV          3     DE\n",
       "18403257  3497075  B071YH437W          3     IT\n",
       "5865803   1095980  B07XLML2YS          0     DE\n",
       "8058063   1495625  B092VX5RK7         18     JP"
      ]
     },
     "execution_count": 38,
     "metadata": {},
     "output_type": "execute_result"
    }
   ],
   "source": [
    "train_data_recstduio = pd.read_csv(os.path.join(recstudio_data_dir, 'inter_feat.csv'), sep=',')\n",
    "train_data_recstduio.sample(10)"
   ]
  },
  {
   "cell_type": "code",
   "execution_count": 4,
   "metadata": {},
   "outputs": [],
   "source": [
    "sess_test = read_test_data()"
   ]
  },
  {
   "cell_type": "code",
   "execution_count": 6,
   "metadata": {},
   "outputs": [
    {
     "data": {
      "text/html": [
       "<div>\n",
       "<style scoped>\n",
       "    .dataframe tbody tr th:only-of-type {\n",
       "        vertical-align: middle;\n",
       "    }\n",
       "\n",
       "    .dataframe tbody tr th {\n",
       "        vertical-align: top;\n",
       "    }\n",
       "\n",
       "    .dataframe thead th {\n",
       "        text-align: right;\n",
       "    }\n",
       "</style>\n",
       "<table border=\"1\" class=\"dataframe\">\n",
       "  <thead>\n",
       "    <tr style=\"text-align: right;\">\n",
       "      <th></th>\n",
       "      <th>prev_items</th>\n",
       "      <th>locale</th>\n",
       "    </tr>\n",
       "  </thead>\n",
       "  <tbody>\n",
       "    <tr>\n",
       "      <th>142704</th>\n",
       "      <td>['B09PBFPS1G' 'B09DQ5G235' 'B09DQ6CVHC' 'B09PB...</td>\n",
       "      <td>JP</td>\n",
       "    </tr>\n",
       "    <tr>\n",
       "      <th>159948</th>\n",
       "      <td>['B09BZQ9HN2' 'B0743D6F2H' 'B073S8BGJD' 'B0743...</td>\n",
       "      <td>JP</td>\n",
       "    </tr>\n",
       "    <tr>\n",
       "      <th>192046</th>\n",
       "      <td>['B082YQV5YJ' 'B07W22SHHS' 'B07W8772K4' 'B082Y...</td>\n",
       "      <td>JP</td>\n",
       "    </tr>\n",
       "    <tr>\n",
       "      <th>158890</th>\n",
       "      <td>['B00I9Q0RJ6' 'B000RYULUI']</td>\n",
       "      <td>JP</td>\n",
       "    </tr>\n",
       "    <tr>\n",
       "      <th>276375</th>\n",
       "      <td>['B08DJTYDHB' 'B088SYLJ97' 'B09CZZHCXD' 'B08DR...</td>\n",
       "      <td>UK</td>\n",
       "    </tr>\n",
       "    <tr>\n",
       "      <th>86084</th>\n",
       "      <td>['B0B17HX2G9' 'B07QTCGCV3' 'B0B17HX2G9' 'B07QT...</td>\n",
       "      <td>DE</td>\n",
       "    </tr>\n",
       "    <tr>\n",
       "      <th>113721</th>\n",
       "      <td>['B09CH44769' 'B09NMB5JWH']</td>\n",
       "      <td>JP</td>\n",
       "    </tr>\n",
       "    <tr>\n",
       "      <th>220624</th>\n",
       "      <td>['B09TNFJX22' 'B09TTWKQ3X' 'B09R9WBM1L' 'B09YM...</td>\n",
       "      <td>UK</td>\n",
       "    </tr>\n",
       "    <tr>\n",
       "      <th>169389</th>\n",
       "      <td>['B0895GFC7L' 'B08MTTLPK3']</td>\n",
       "      <td>JP</td>\n",
       "    </tr>\n",
       "    <tr>\n",
       "      <th>108191</th>\n",
       "      <td>['B08DCPJL9Q' 'B07FW6NC79' 'B075VZ3TDT' 'B07FV...</td>\n",
       "      <td>JP</td>\n",
       "    </tr>\n",
       "  </tbody>\n",
       "</table>\n",
       "</div>"
      ],
      "text/plain": [
       "                                               prev_items locale\n",
       "142704  ['B09PBFPS1G' 'B09DQ5G235' 'B09DQ6CVHC' 'B09PB...     JP\n",
       "159948  ['B09BZQ9HN2' 'B0743D6F2H' 'B073S8BGJD' 'B0743...     JP\n",
       "192046  ['B082YQV5YJ' 'B07W22SHHS' 'B07W8772K4' 'B082Y...     JP\n",
       "158890                        ['B00I9Q0RJ6' 'B000RYULUI']     JP\n",
       "276375  ['B08DJTYDHB' 'B088SYLJ97' 'B09CZZHCXD' 'B08DR...     UK\n",
       "86084   ['B0B17HX2G9' 'B07QTCGCV3' 'B0B17HX2G9' 'B07QT...     DE\n",
       "113721                        ['B09CH44769' 'B09NMB5JWH']     JP\n",
       "220624  ['B09TNFJX22' 'B09TTWKQ3X' 'B09R9WBM1L' 'B09YM...     UK\n",
       "169389                        ['B0895GFC7L' 'B08MTTLPK3']     JP\n",
       "108191  ['B08DCPJL9Q' 'B07FW6NC79' 'B075VZ3TDT' 'B07FV...     JP"
      ]
     },
     "execution_count": 6,
     "metadata": {},
     "output_type": "execute_result"
    }
   ],
   "source": [
    "sess_test.sample(10)"
   ]
  },
  {
   "cell_type": "code",
   "execution_count": 10,
   "metadata": {},
   "outputs": [
    {
     "name": "stderr",
     "output_type": "stream",
     "text": [
      "100%|██████████| 316971/316971 [00:44<00:00, 7133.33it/s] \n"
     ]
    }
   ],
   "source": [
    "from tqdm import tqdm \n",
    "num_test_sess = len(sess_test)\n",
    "\n",
    "with open(os.path.join(recstudio_data_dir, 'test_inter_feat.csv'), 'w') as f:\n",
    "    f.write('sess_id,product_id,timestamp,locale\\n')\n",
    "    \n",
    "    for i in tqdm(range(num_test_sess)):\n",
    "        sess_id = i \n",
    "        sess = sess_test.iloc[i]\n",
    "        sess_locale = sess['locale']\n",
    "        sess_prev_items = sess['prev_items']\n",
    "\n",
    "        product_list = sess_prev_items.strip('[]').split(' ')\n",
    "        product_list = list(map(lambda x : x.strip(\"'\\n\"), product_list))\n",
    "\n",
    "        for j, product_id in enumerate(product_list):\n",
    "            inter_str = f'{sess_id},{product_id},{j},{sess_locale}\\n'\n",
    "            f.write(inter_str)"
   ]
  },
  {
   "cell_type": "code",
   "execution_count": 11,
   "metadata": {},
   "outputs": [
    {
     "data": {
      "text/html": [
       "<div>\n",
       "<style scoped>\n",
       "    .dataframe tbody tr th:only-of-type {\n",
       "        vertical-align: middle;\n",
       "    }\n",
       "\n",
       "    .dataframe tbody tr th {\n",
       "        vertical-align: top;\n",
       "    }\n",
       "\n",
       "    .dataframe thead th {\n",
       "        text-align: right;\n",
       "    }\n",
       "</style>\n",
       "<table border=\"1\" class=\"dataframe\">\n",
       "  <thead>\n",
       "    <tr style=\"text-align: right;\">\n",
       "      <th></th>\n",
       "      <th>sess_id</th>\n",
       "      <th>product_id</th>\n",
       "      <th>timestamp</th>\n",
       "      <th>locale</th>\n",
       "    </tr>\n",
       "  </thead>\n",
       "  <tbody>\n",
       "    <tr>\n",
       "      <th>523854</th>\n",
       "      <td>120923</td>\n",
       "      <td>B07C533XCW</td>\n",
       "      <td>9</td>\n",
       "      <td>JP</td>\n",
       "    </tr>\n",
       "    <tr>\n",
       "      <th>817807</th>\n",
       "      <td>186103</td>\n",
       "      <td>B0BGPFCXQ5</td>\n",
       "      <td>2</td>\n",
       "      <td>JP</td>\n",
       "    </tr>\n",
       "    <tr>\n",
       "      <th>1282568</th>\n",
       "      <td>300001</td>\n",
       "      <td>B01NCE5ZXR</td>\n",
       "      <td>7</td>\n",
       "      <td>UK</td>\n",
       "    </tr>\n",
       "    <tr>\n",
       "      <th>689569</th>\n",
       "      <td>157685</td>\n",
       "      <td>B08Z8TZ95V</td>\n",
       "      <td>0</td>\n",
       "      <td>JP</td>\n",
       "    </tr>\n",
       "    <tr>\n",
       "      <th>592978</th>\n",
       "      <td>136233</td>\n",
       "      <td>B099N5JCKQ</td>\n",
       "      <td>0</td>\n",
       "      <td>JP</td>\n",
       "    </tr>\n",
       "    <tr>\n",
       "      <th>243234</th>\n",
       "      <td>56486</td>\n",
       "      <td>B084RDB8GN</td>\n",
       "      <td>1</td>\n",
       "      <td>DE</td>\n",
       "    </tr>\n",
       "    <tr>\n",
       "      <th>768</th>\n",
       "      <td>180</td>\n",
       "      <td>B095WV7MJF</td>\n",
       "      <td>2</td>\n",
       "      <td>DE</td>\n",
       "    </tr>\n",
       "    <tr>\n",
       "      <th>1126722</th>\n",
       "      <td>261166</td>\n",
       "      <td>B07YSH91XR</td>\n",
       "      <td>9</td>\n",
       "      <td>UK</td>\n",
       "    </tr>\n",
       "    <tr>\n",
       "      <th>1044604</th>\n",
       "      <td>240664</td>\n",
       "      <td>B08L5R7WVJ</td>\n",
       "      <td>1</td>\n",
       "      <td>UK</td>\n",
       "    </tr>\n",
       "    <tr>\n",
       "      <th>1051935</th>\n",
       "      <td>242573</td>\n",
       "      <td>B01HZ6YAUW</td>\n",
       "      <td>0</td>\n",
       "      <td>UK</td>\n",
       "    </tr>\n",
       "  </tbody>\n",
       "</table>\n",
       "</div>"
      ],
      "text/plain": [
       "         sess_id  product_id  timestamp locale\n",
       "523854    120923  B07C533XCW          9     JP\n",
       "817807    186103  B0BGPFCXQ5          2     JP\n",
       "1282568   300001  B01NCE5ZXR          7     UK\n",
       "689569    157685  B08Z8TZ95V          0     JP\n",
       "592978    136233  B099N5JCKQ          0     JP\n",
       "243234     56486  B084RDB8GN          1     DE\n",
       "768          180  B095WV7MJF          2     DE\n",
       "1126722   261166  B07YSH91XR          9     UK\n",
       "1044604   240664  B08L5R7WVJ          1     UK\n",
       "1051935   242573  B01HZ6YAUW          0     UK"
      ]
     },
     "execution_count": 11,
     "metadata": {},
     "output_type": "execute_result"
    }
   ],
   "source": [
    "test_data_recstduio = pd.read_csv(os.path.join(recstudio_data_dir, 'test_inter_feat.csv'), sep=',')\n",
    "test_data_recstduio.sample(10)"
   ]
  },
  {
   "cell_type": "code",
   "execution_count": 6,
   "metadata": {},
   "outputs": [],
   "source": [
    "name_list = ['product_id', 'locale', 'title', 'price', 'brand', 'color', 'size', 'model', 'material', 'author', 'desc']\n",
    "products_data_recstudio = pd.read_csv(os.path.join(recstudio_data_dir, 'products_train.csv'), sep=',', names=name_list, header=0)\n"
   ]
  },
  {
   "cell_type": "code",
   "execution_count": 7,
   "metadata": {},
   "outputs": [
    {
     "data": {
      "text/html": [
       "<div>\n",
       "<style scoped>\n",
       "    .dataframe tbody tr th:only-of-type {\n",
       "        vertical-align: middle;\n",
       "    }\n",
       "\n",
       "    .dataframe tbody tr th {\n",
       "        vertical-align: top;\n",
       "    }\n",
       "\n",
       "    .dataframe thead th {\n",
       "        text-align: right;\n",
       "    }\n",
       "</style>\n",
       "<table border=\"1\" class=\"dataframe\">\n",
       "  <thead>\n",
       "    <tr style=\"text-align: right;\">\n",
       "      <th></th>\n",
       "      <th>product_id</th>\n",
       "      <th>locale</th>\n",
       "      <th>title</th>\n",
       "      <th>price</th>\n",
       "      <th>brand</th>\n",
       "      <th>color</th>\n",
       "      <th>size</th>\n",
       "      <th>model</th>\n",
       "      <th>material</th>\n",
       "      <th>author</th>\n",
       "      <th>desc</th>\n",
       "    </tr>\n",
       "  </thead>\n",
       "  <tbody>\n",
       "    <tr>\n",
       "      <th>0</th>\n",
       "      <td>B005ZSSN10</td>\n",
       "      <td>DE</td>\n",
       "      <td>RED DRAGON Amberjack 3 - Steel Tip 22 Gramm Wo...</td>\n",
       "      <td>30.95</td>\n",
       "      <td>RED DRAGON</td>\n",
       "      <td>NaN</td>\n",
       "      <td>NaN</td>\n",
       "      <td>RDD0089</td>\n",
       "      <td>NaN</td>\n",
       "      <td>NaN</td>\n",
       "      <td>Amberjacks Steel Dartpfeile sind verfügbar in ...</td>\n",
       "    </tr>\n",
       "    <tr>\n",
       "      <th>1</th>\n",
       "      <td>B08PRYN6LD</td>\n",
       "      <td>DE</td>\n",
       "      <td>Simply Keto Lower Carb* Schokodrops ohne Zucke...</td>\n",
       "      <td>17.90</td>\n",
       "      <td>Simply Keto</td>\n",
       "      <td>NaN</td>\n",
       "      <td>750 g (1er Pack)</td>\n",
       "      <td>NaN</td>\n",
       "      <td>NaN</td>\n",
       "      <td>NaN</td>\n",
       "      <td>🌱 NATÜRLICHE SÜSSE DURCH ERYTHRIT - Wir stelle...</td>\n",
       "    </tr>\n",
       "    <tr>\n",
       "      <th>2</th>\n",
       "      <td>B09MBZJ48V</td>\n",
       "      <td>DE</td>\n",
       "      <td>Sennheiser 508377 PC 5.2 Chat, Stilvolles Mult...</td>\n",
       "      <td>68.89</td>\n",
       "      <td>Sennheiser</td>\n",
       "      <td>Multi-Colour</td>\n",
       "      <td>One size</td>\n",
       "      <td>508377</td>\n",
       "      <td>Kunstleder</td>\n",
       "      <td>NaN</td>\n",
       "      <td>3.5 MM BUCHSE - Kann problemlos an Geräte mit ...</td>\n",
       "    </tr>\n",
       "    <tr>\n",
       "      <th>3</th>\n",
       "      <td>B08ZN6F26S</td>\n",
       "      <td>DE</td>\n",
       "      <td>AmyBenton Auto ab 1 2 3 ahre - Baby Aufziehbar...</td>\n",
       "      <td>18.99</td>\n",
       "      <td>Amy &amp; Benton</td>\n",
       "      <td>Animal Car</td>\n",
       "      <td>NaN</td>\n",
       "      <td>2008B</td>\n",
       "      <td>aufziehauto 1 jahr</td>\n",
       "      <td>NaN</td>\n",
       "      <td>【Auto aufziehbar】: Drücken Sie einfach leicht ...</td>\n",
       "    </tr>\n",
       "    <tr>\n",
       "      <th>4</th>\n",
       "      <td>B094DGRV7D</td>\n",
       "      <td>DE</td>\n",
       "      <td>PLAYMOBIL - 70522 - Cavaliere mit grauem Pony</td>\n",
       "      <td>7.17</td>\n",
       "      <td>PLAYMOBIL</td>\n",
       "      <td>Nicht Zutreffend.</td>\n",
       "      <td>OneSize</td>\n",
       "      <td>70522</td>\n",
       "      <td>Polypropylen</td>\n",
       "      <td>NaN</td>\n",
       "      <td>Inhalt: 1 Stück</td>\n",
       "    </tr>\n",
       "    <tr>\n",
       "      <th>5</th>\n",
       "      <td>B09JNNBDH5</td>\n",
       "      <td>DE</td>\n",
       "      <td>URBZUE Handwärmer, 10000mAh USB aufladbar und ...</td>\n",
       "      <td>20.99</td>\n",
       "      <td>URBZUE</td>\n",
       "      <td>Rosagold</td>\n",
       "      <td>13.5*9*5</td>\n",
       "      <td>Oro rosa</td>\n",
       "      <td>Aluminium</td>\n",
       "      <td>NaN</td>\n",
       "      <td>Einstellbarer Temperaturmodus: Aufladbare Hand...</td>\n",
       "    </tr>\n",
       "    <tr>\n",
       "      <th>6</th>\n",
       "      <td>B08R62WZ1Y</td>\n",
       "      <td>DE</td>\n",
       "      <td>Kinderkopfhörer Bluetooth, Mädchen Katzenohr K...</td>\n",
       "      <td>24.97</td>\n",
       "      <td>JYPS</td>\n",
       "      <td>Lila</td>\n",
       "      <td>NaN</td>\n",
       "      <td>Kinderkopfhörer</td>\n",
       "      <td>NaN</td>\n",
       "      <td>NaN</td>\n",
       "      <td>🎁Drahtlose und kabelgebundene Kinderkopfhörer:...</td>\n",
       "    </tr>\n",
       "    <tr>\n",
       "      <th>7</th>\n",
       "      <td>B09WK4YNX8</td>\n",
       "      <td>DE</td>\n",
       "      <td>8 Stück Herd Schalter Schutz, Küche Gasherd Kn...</td>\n",
       "      <td>12.49</td>\n",
       "      <td>FANSEZQ</td>\n",
       "      <td>Transparent</td>\n",
       "      <td>NaN</td>\n",
       "      <td>NaN</td>\n",
       "      <td>NaN</td>\n",
       "      <td>NaN</td>\n",
       "      <td>【BREITE ANWENDUNG】Diese Knopfschutzabdeckung i...</td>\n",
       "    </tr>\n",
       "    <tr>\n",
       "      <th>8</th>\n",
       "      <td>B07KTKFYYS</td>\n",
       "      <td>DE</td>\n",
       "      <td>AVANA Edelstahl Ausstechformen 12 Stück Ringe ...</td>\n",
       "      <td>13.99</td>\n",
       "      <td>AVANA</td>\n",
       "      <td>Silber</td>\n",
       "      <td>NaN</td>\n",
       "      <td>NaN</td>\n",
       "      <td>Edelstahl</td>\n",
       "      <td>NaN</td>\n",
       "      <td>100% ZUFRIEDENHEITSGARANTIE - Falls Sie nicht ...</td>\n",
       "    </tr>\n",
       "    <tr>\n",
       "      <th>9</th>\n",
       "      <td>B0B9MPKYJK</td>\n",
       "      <td>DE</td>\n",
       "      <td>Amstory Stirnlampe LED Wiederaufladbar Joggen ...</td>\n",
       "      <td>25.99</td>\n",
       "      <td>Amstory</td>\n",
       "      <td>Schwarz</td>\n",
       "      <td>2 Stücke</td>\n",
       "      <td>LMHL-0006BK</td>\n",
       "      <td>ABS</td>\n",
       "      <td>NaN</td>\n",
       "      <td>☀【1000 Lumen Superheller Kopflampe】 Der LED He...</td>\n",
       "    </tr>\n",
       "  </tbody>\n",
       "</table>\n",
       "</div>"
      ],
      "text/plain": [
       "   product_id locale                                              title  \\\n",
       "0  B005ZSSN10     DE  RED DRAGON Amberjack 3 - Steel Tip 22 Gramm Wo...   \n",
       "1  B08PRYN6LD     DE  Simply Keto Lower Carb* Schokodrops ohne Zucke...   \n",
       "2  B09MBZJ48V     DE  Sennheiser 508377 PC 5.2 Chat, Stilvolles Mult...   \n",
       "3  B08ZN6F26S     DE  AmyBenton Auto ab 1 2 3 ahre - Baby Aufziehbar...   \n",
       "4  B094DGRV7D     DE      PLAYMOBIL - 70522 - Cavaliere mit grauem Pony   \n",
       "5  B09JNNBDH5     DE  URBZUE Handwärmer, 10000mAh USB aufladbar und ...   \n",
       "6  B08R62WZ1Y     DE  Kinderkopfhörer Bluetooth, Mädchen Katzenohr K...   \n",
       "7  B09WK4YNX8     DE  8 Stück Herd Schalter Schutz, Küche Gasherd Kn...   \n",
       "8  B07KTKFYYS     DE  AVANA Edelstahl Ausstechformen 12 Stück Ringe ...   \n",
       "9  B0B9MPKYJK     DE  Amstory Stirnlampe LED Wiederaufladbar Joggen ...   \n",
       "\n",
       "   price         brand              color              size            model  \\\n",
       "0  30.95    RED DRAGON                NaN               NaN          RDD0089   \n",
       "1  17.90   Simply Keto                NaN  750 g (1er Pack)              NaN   \n",
       "2  68.89    Sennheiser       Multi-Colour          One size           508377   \n",
       "3  18.99  Amy & Benton         Animal Car               NaN            2008B   \n",
       "4   7.17     PLAYMOBIL  Nicht Zutreffend.           OneSize            70522   \n",
       "5  20.99        URBZUE           Rosagold          13.5*9*5         Oro rosa   \n",
       "6  24.97          JYPS               Lila               NaN  Kinderkopfhörer   \n",
       "7  12.49       FANSEZQ        Transparent               NaN              NaN   \n",
       "8  13.99         AVANA             Silber               NaN              NaN   \n",
       "9  25.99       Amstory            Schwarz          2 Stücke      LMHL-0006BK   \n",
       "\n",
       "             material author  \\\n",
       "0                 NaN    NaN   \n",
       "1                 NaN    NaN   \n",
       "2          Kunstleder    NaN   \n",
       "3  aufziehauto 1 jahr    NaN   \n",
       "4        Polypropylen    NaN   \n",
       "5           Aluminium    NaN   \n",
       "6                 NaN    NaN   \n",
       "7                 NaN    NaN   \n",
       "8           Edelstahl    NaN   \n",
       "9                 ABS    NaN   \n",
       "\n",
       "                                                desc  \n",
       "0  Amberjacks Steel Dartpfeile sind verfügbar in ...  \n",
       "1  🌱 NATÜRLICHE SÜSSE DURCH ERYTHRIT - Wir stelle...  \n",
       "2  3.5 MM BUCHSE - Kann problemlos an Geräte mit ...  \n",
       "3  【Auto aufziehbar】: Drücken Sie einfach leicht ...  \n",
       "4                                    Inhalt: 1 Stück  \n",
       "5  Einstellbarer Temperaturmodus: Aufladbare Hand...  \n",
       "6  🎁Drahtlose und kabelgebundene Kinderkopfhörer:...  \n",
       "7  【BREITE ANWENDUNG】Diese Knopfschutzabdeckung i...  \n",
       "8  100% ZUFRIEDENHEITSGARANTIE - Falls Sie nicht ...  \n",
       "9  ☀【1000 Lumen Superheller Kopflampe】 Der LED He...  "
      ]
     },
     "execution_count": 7,
     "metadata": {},
     "output_type": "execute_result"
    }
   ],
   "source": [
    "products_data_recstudio.head(10)"
   ]
  },
  {
   "cell_type": "code",
   "execution_count": 4,
   "metadata": {},
   "outputs": [],
   "source": [
    "products_data = read_train_data()"
   ]
  },
  {
   "cell_type": "code",
   "execution_count": 5,
   "metadata": {},
   "outputs": [
    {
     "data": {
      "text/plain": [
       "array(['DE', 'JP', 'UK', 'ES', 'FR', 'IT'], dtype=object)"
      ]
     },
     "execution_count": 5,
     "metadata": {},
     "output_type": "execute_result"
    }
   ],
   "source": [
    "products_data['locale'].unique()"
   ]
  },
  {
   "cell_type": "code",
   "execution_count": 8,
   "metadata": {},
   "outputs": [
    {
     "data": {
      "text/html": [
       "<div>\n",
       "<style scoped>\n",
       "    .dataframe tbody tr th:only-of-type {\n",
       "        vertical-align: middle;\n",
       "    }\n",
       "\n",
       "    .dataframe tbody tr th {\n",
       "        vertical-align: top;\n",
       "    }\n",
       "\n",
       "    .dataframe thead th {\n",
       "        text-align: right;\n",
       "    }\n",
       "</style>\n",
       "<table border=\"1\" class=\"dataframe\">\n",
       "  <thead>\n",
       "    <tr style=\"text-align: right;\">\n",
       "      <th></th>\n",
       "      <th>prev_items</th>\n",
       "      <th>locale</th>\n",
       "    </tr>\n",
       "  </thead>\n",
       "  <tbody>\n",
       "    <tr>\n",
       "      <th>0</th>\n",
       "      <td>['B08V12CT4C' 'B08V1KXBQD' 'B01BVG1XJS' 'B09VC...</td>\n",
       "      <td>DE</td>\n",
       "    </tr>\n",
       "    <tr>\n",
       "      <th>1</th>\n",
       "      <td>['B00R9R5ND6' 'B00R9RZ9ZS' 'B00R9RZ9ZS']</td>\n",
       "      <td>DE</td>\n",
       "    </tr>\n",
       "    <tr>\n",
       "      <th>2</th>\n",
       "      <td>['B07YSRXJD3' 'B07G7Q5N6G' 'B08C9Q7QVK' 'B07G7...</td>\n",
       "      <td>DE</td>\n",
       "    </tr>\n",
       "    <tr>\n",
       "      <th>3</th>\n",
       "      <td>['B08KQBYV43' '3955350843' '3955350843' '39553...</td>\n",
       "      <td>DE</td>\n",
       "    </tr>\n",
       "    <tr>\n",
       "      <th>4</th>\n",
       "      <td>['B09FPTCWMC' 'B09FPTQP68' 'B08HMRY8NG' 'B08TB...</td>\n",
       "      <td>DE</td>\n",
       "    </tr>\n",
       "    <tr>\n",
       "      <th>5</th>\n",
       "      <td>['B0BHT75TPQ' 'B0BHT7X2R6' 'B0BK5VMHND' 'B0BHT...</td>\n",
       "      <td>DE</td>\n",
       "    </tr>\n",
       "    <tr>\n",
       "      <th>6</th>\n",
       "      <td>['B071P9DVF6' 'B07BGHDRZH' 'B09S37TD4N']</td>\n",
       "      <td>DE</td>\n",
       "    </tr>\n",
       "    <tr>\n",
       "      <th>7</th>\n",
       "      <td>['B0B8D1V4QW' 'B0813KJ832' 'B099XL3VS4' 'B09V1...</td>\n",
       "      <td>DE</td>\n",
       "    </tr>\n",
       "    <tr>\n",
       "      <th>8</th>\n",
       "      <td>['B0B3BZFMCH' 'B0B3BW437K' 'B0B3C5P8N8' 'B0B3C...</td>\n",
       "      <td>DE</td>\n",
       "    </tr>\n",
       "    <tr>\n",
       "      <th>9</th>\n",
       "      <td>['B08F9GMLXM' 'B0B8D4CWZ4' 'B08L9CZ7BW' 'B08FB...</td>\n",
       "      <td>DE</td>\n",
       "    </tr>\n",
       "  </tbody>\n",
       "</table>\n",
       "</div>"
      ],
      "text/plain": [
       "                                          prev_items locale\n",
       "0  ['B08V12CT4C' 'B08V1KXBQD' 'B01BVG1XJS' 'B09VC...     DE\n",
       "1           ['B00R9R5ND6' 'B00R9RZ9ZS' 'B00R9RZ9ZS']     DE\n",
       "2  ['B07YSRXJD3' 'B07G7Q5N6G' 'B08C9Q7QVK' 'B07G7...     DE\n",
       "3  ['B08KQBYV43' '3955350843' '3955350843' '39553...     DE\n",
       "4  ['B09FPTCWMC' 'B09FPTQP68' 'B08HMRY8NG' 'B08TB...     DE\n",
       "5  ['B0BHT75TPQ' 'B0BHT7X2R6' 'B0BK5VMHND' 'B0BHT...     DE\n",
       "6           ['B071P9DVF6' 'B07BGHDRZH' 'B09S37TD4N']     DE\n",
       "7  ['B0B8D1V4QW' 'B0813KJ832' 'B099XL3VS4' 'B09V1...     DE\n",
       "8  ['B0B3BZFMCH' 'B0B3BW437K' 'B0B3C5P8N8' 'B0B3C...     DE\n",
       "9  ['B08F9GMLXM' 'B0B8D4CWZ4' 'B08L9CZ7BW' 'B08FB...     DE"
      ]
     },
     "execution_count": 8,
     "metadata": {},
     "output_type": "execute_result"
    }
   ],
   "source": [
    "task1_test = pd.read_csv(os.path.join(train_data_dir, 'sessions_test_task1.csv'))\n",
    "task1_test.head(10)"
   ]
  },
  {
   "cell_type": "code",
   "execution_count": 14,
   "metadata": {},
   "outputs": [
    {
     "data": {
      "text/plain": [
       "115936"
      ]
     },
     "execution_count": 14,
     "metadata": {},
     "output_type": "execute_result"
    }
   ],
   "source": [
    "# DE 104568 JP 96467 UK 115936\n",
    "(task1_test['locale'] == 'UK').sum()"
   ]
  },
  {
   "cell_type": "code",
   "execution_count": 18,
   "metadata": {},
   "outputs": [],
   "source": [
    "task1_DE_test = task1_test[ : 104568]\n",
    "task1_JP_test = task1_test[104568 : 104568 + 96467]\n",
    "task1_UK_test = task1_test[104568 + 96467 : ]\n"
   ]
  },
  {
   "cell_type": "code",
   "execution_count": 19,
   "metadata": {},
   "outputs": [
    {
     "data": {
      "text/plain": [
       "True"
      ]
     },
     "execution_count": 19,
     "metadata": {},
     "output_type": "execute_result"
    }
   ],
   "source": [
    "len(task1_DE_test) + len(task1_JP_test) + len(task1_UK_test) == len(task1_test)"
   ]
  },
  {
   "cell_type": "code",
   "execution_count": 27,
   "metadata": {},
   "outputs": [
    {
     "data": {
      "text/plain": [
       "True"
      ]
     },
     "execution_count": 27,
     "metadata": {},
     "output_type": "execute_result"
    }
   ],
   "source": [
    "(task1_UK_test['locale'] == 'UK').all()\n",
    "(task1_JP_test['locale'] == 'JP').all()\n",
    "(task1_DE_test['locale'] == 'DE').all()"
   ]
  },
  {
   "cell_type": "code",
   "execution_count": 29,
   "metadata": {},
   "outputs": [],
   "source": [
    "task1_DE_test.to_csv('../data_for_recstudio/session_test_task1_DE.csv', index=False)\n",
    "task1_JP_test.to_csv('../data_for_recstudio/session_test_task1_JP.csv', index=False)\n",
    "task1_UK_test.to_csv('../data_for_recstudio/session_test_task1_UK.csv', index=False)"
   ]
  },
  {
   "cell_type": "code",
   "execution_count": 33,
   "metadata": {},
   "outputs": [],
   "source": [
    "from tqdm import tqdm \n",
    "def transform_test_csv(test_sessions:pd.DataFrame, save_path):\n",
    "    num_test = len(test_sessions)\n",
    "\n",
    "    with open(save_path, 'w') as f:\n",
    "        f.write('sess_id,product_id,timestamp,locale\\n')\n",
    "        \n",
    "        for i in tqdm(range(num_test)):\n",
    "            sess_id = i \n",
    "            sess = test_sessions.iloc[i]\n",
    "            sess_locale = sess['locale']\n",
    "            sess_prev_items = sess['prev_items']\n",
    "\n",
    "            product_list = sess_prev_items.strip('[]').split(' ')\n",
    "            product_list = list(map(lambda x : x.strip(\"'\\n\"), product_list))\n",
    "\n",
    "            for j, product_id in enumerate(product_list):\n",
    "                inter_str = f'{sess_id},{product_id},{j},{sess_locale}\\n'\n",
    "                f.write(inter_str)"
   ]
  },
  {
   "cell_type": "code",
   "execution_count": 35,
   "metadata": {},
   "outputs": [
    {
     "name": "stderr",
     "output_type": "stream",
     "text": [
      "100%|██████████| 104568/104568 [00:03<00:00, 31364.43it/s]\n"
     ]
    }
   ],
   "source": [
    "\n",
    "transform_test_csv(task1_DE_test, '../data_for_recstudio/test_inter_feat_task1_DE.csv')"
   ]
  },
  {
   "cell_type": "code",
   "execution_count": 37,
   "metadata": {},
   "outputs": [
    {
     "name": "stderr",
     "output_type": "stream",
     "text": [
      "100%|██████████| 96467/96467 [00:03<00:00, 30458.88it/s]\n"
     ]
    }
   ],
   "source": [
    "transform_test_csv(task1_JP_test, '../data_for_recstudio/test_inter_feat_task1_JP.csv')"
   ]
  },
  {
   "cell_type": "code",
   "execution_count": 38,
   "metadata": {},
   "outputs": [
    {
     "name": "stderr",
     "output_type": "stream",
     "text": [
      "100%|██████████| 115936/115936 [00:03<00:00, 30526.84it/s]\n"
     ]
    }
   ],
   "source": [
    "transform_test_csv(task1_UK_test, '../data_for_recstudio/test_inter_feat_task1_UK.csv')"
   ]
  }
 ],
 "metadata": {
  "kernelspec": {
   "display_name": "torch12",
   "language": "python",
   "name": "python3"
  },
  "language_info": {
   "codemirror_mode": {
    "name": "ipython",
    "version": 3
   },
   "file_extension": ".py",
   "mimetype": "text/x-python",
   "name": "python",
   "nbconvert_exporter": "python",
   "pygments_lexer": "ipython3",
   "version": "3.9.16"
  },
  "orig_nbformat": 4
 },
 "nbformat": 4,
 "nbformat_minor": 2
}
