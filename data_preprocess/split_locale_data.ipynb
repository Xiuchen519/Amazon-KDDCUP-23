{
 "cells": [
  {
   "cell_type": "code",
   "execution_count": 1,
   "metadata": {},
   "outputs": [],
   "source": [
    "import numpy as np\n",
    "import pandas as pd \n",
    "from tqdm import tqdm \n",
    "from functools import lru_cache\n",
    "import os "
   ]
  },
  {
   "cell_type": "code",
   "execution_count": 2,
   "metadata": {},
   "outputs": [],
   "source": [
    "recstudio_data_dir = '/root/autodl-tmp/xiaolong/WorkSpace/Amazon-KDDCUP-23/data_for_recstudio'\n",
    "raw_data_dir = '/root/autodl-tmp/xiaolong/WorkSpace/Amazon-KDDCUP-23/raw_data'"
   ]
  },
  {
   "cell_type": "code",
   "execution_count": 3,
   "metadata": {},
   "outputs": [],
   "source": [
    "@lru_cache(maxsize=1)\n",
    "def read_train_sessions():\n",
    "    return pd.read_csv(os.path.join(recstudio_data_dir, 'task1_data/task13_4_task1_train_sessions.csv'))\n",
    "\n",
    "@lru_cache(maxsize=1)\n",
    "def read_valid_sessions():\n",
    "    return pd.read_csv(os.path.join(recstudio_data_dir, 'task1_data/task13_4_task1_valid_sessions.csv'))\n",
    "\n",
    "@lru_cache(maxsize=1)\n",
    "def read_product_data():\n",
    "    return pd.read_csv(os.path.join(raw_data_dir, 'products_train.csv'))"
   ]
  },
  {
   "cell_type": "code",
   "execution_count": 7,
   "metadata": {},
   "outputs": [],
   "source": [
    "def transform_to_inter_feat(sess_df, save_file):\n",
    "    num_sess = len(sess_df)\n",
    "\n",
    "    with open(os.path.join(recstudio_data_dir, save_file), 'w') as f:\n",
    "        f.write('sess_id,product_id,timestamp,locale\\n')\n",
    "        \n",
    "        for i in tqdm(range(num_sess)):\n",
    "            sess_id = i \n",
    "            sess = sess_df.iloc[i]\n",
    "            sess_locale = sess['locale']\n",
    "            sess_prev_items = sess['prev_items']\n",
    "            if 'next_item' in sess_df:\n",
    "                sess_nxt_item = sess['next_item']\n",
    "\n",
    "            product_list = sess_prev_items.strip('[]').split(' ')\n",
    "            product_list = list(map(lambda x : x.strip(\"'\\n\"), product_list))\n",
    "            if 'next_item' in sess_df:\n",
    "                product_list.append(sess_nxt_item)\n",
    "\n",
    "            for j, product_id in enumerate(product_list):\n",
    "                inter_str = f'{sess_id},{product_id},{j},{sess_locale}\\n'\n",
    "                f.write(inter_str)"
   ]
  },
  {
   "cell_type": "code",
   "execution_count": 5,
   "metadata": {},
   "outputs": [],
   "source": [
    "def split_single_locale(all_sessions, locale_name):\n",
    "    locale_sessions = all_sessions[all_sessions['locale'] == locale_name]\n",
    "    return locale_sessions   "
   ]
  },
  {
   "cell_type": "code",
   "execution_count": 7,
   "metadata": {},
   "outputs": [
    {
     "data": {
      "text/html": [
       "<div>\n",
       "<style scoped>\n",
       "    .dataframe tbody tr th:only-of-type {\n",
       "        vertical-align: middle;\n",
       "    }\n",
       "\n",
       "    .dataframe tbody tr th {\n",
       "        vertical-align: top;\n",
       "    }\n",
       "\n",
       "    .dataframe thead th {\n",
       "        text-align: right;\n",
       "    }\n",
       "</style>\n",
       "<table border=\"1\" class=\"dataframe\">\n",
       "  <thead>\n",
       "    <tr style=\"text-align: right;\">\n",
       "      <th></th>\n",
       "      <th>prev_items</th>\n",
       "      <th>next_item</th>\n",
       "      <th>locale</th>\n",
       "    </tr>\n",
       "  </thead>\n",
       "  <tbody>\n",
       "    <tr>\n",
       "      <th>0</th>\n",
       "      <td>['B005ZJTUXE' 'B005ZJTUXE' 'B00P8VIBBG']</td>\n",
       "      <td>B07TVSL9TW</td>\n",
       "      <td>FR</td>\n",
       "    </tr>\n",
       "    <tr>\n",
       "      <th>1</th>\n",
       "      <td>['B09M8HSN22' 'B09MTKZNB2' 'B07XWK3G8K' 'B09H7...</td>\n",
       "      <td>B01J5EEEQW</td>\n",
       "      <td>DE</td>\n",
       "    </tr>\n",
       "  </tbody>\n",
       "</table>\n",
       "</div>"
      ],
      "text/plain": [
       "                                          prev_items   next_item locale\n",
       "0           ['B005ZJTUXE' 'B005ZJTUXE' 'B00P8VIBBG']  B07TVSL9TW     FR\n",
       "1  ['B09M8HSN22' 'B09MTKZNB2' 'B07XWK3G8K' 'B09H7...  B01J5EEEQW     DE"
      ]
     },
     "execution_count": 7,
     "metadata": {},
     "output_type": "execute_result"
    }
   ],
   "source": [
    "all_task_1_train_sessions = read_train_sessions()\n",
    "all_task_1_train_sessions.head(2)"
   ]
  },
  {
   "cell_type": "code",
   "execution_count": 8,
   "metadata": {},
   "outputs": [
    {
     "data": {
      "text/plain": [
       "array(['FR', 'DE', 'JP', 'UK', 'ES', 'IT'], dtype=object)"
      ]
     },
     "execution_count": 8,
     "metadata": {},
     "output_type": "execute_result"
    }
   ],
   "source": [
    "all_task_1_train_sessions['locale'].unique()"
   ]
  },
  {
   "cell_type": "code",
   "execution_count": 12,
   "metadata": {},
   "outputs": [],
   "source": [
    "UK_train_sessions = split_single_locale(all_task_1_train_sessions, 'UK')\n",
    "UK_train_sessions.to_csv('../data_for_recstudio/UK_data/UK_train_sessions.csv', index=False)\n",
    "\n",
    "DE_train_sessions = split_single_locale(all_task_1_train_sessions, 'DE')\n",
    "DE_train_sessions.to_csv('../data_for_recstudio/DE_data/DE_train_sessions.csv', index=False)\n",
    "\n",
    "JP_train_sessions = split_single_locale(all_task_1_train_sessions, 'JP')\n",
    "JP_train_sessions.to_csv('../data_for_recstudio/JP_data/JP_train_sessions.csv', index=False)"
   ]
  },
  {
   "cell_type": "code",
   "execution_count": 13,
   "metadata": {},
   "outputs": [
    {
     "name": "stderr",
     "output_type": "stream",
     "text": [
      "100%|██████████| 1103803/1103803 [00:43<00:00, 25321.51it/s]\n"
     ]
    }
   ],
   "source": [
    "DE_train_sessions = split_single_locale(all_task_1_train_sessions, 'DE')\n",
    "transform_to_inter_feat(DE_train_sessions, 'DE_train_inter_feat.csv')"
   ]
  },
  {
   "cell_type": "code",
   "execution_count": 14,
   "metadata": {},
   "outputs": [
    {
     "name": "stdout",
     "output_type": "stream",
     "text": [
      "976851\n"
     ]
    },
    {
     "name": "stderr",
     "output_type": "stream",
     "text": [
      "100%|██████████| 976851/976851 [00:38<00:00, 25135.97it/s]\n"
     ]
    }
   ],
   "source": [
    "JP_train_sessions = split_single_locale(all_task_1_train_sessions, 'JP')\n",
    "print(len(JP_train_sessions))\n",
    "transform_to_inter_feat(JP_train_sessions, 'JP_train_inter_feat.csv')"
   ]
  },
  {
   "cell_type": "code",
   "execution_count": 15,
   "metadata": {},
   "outputs": [
    {
     "name": "stdout",
     "output_type": "stream",
     "text": [
      "1177452\n"
     ]
    },
    {
     "name": "stderr",
     "output_type": "stream",
     "text": [
      "100%|██████████| 1177452/1177452 [00:46<00:00, 25521.07it/s]\n"
     ]
    }
   ],
   "source": [
    "UK_train_sessions = split_single_locale(all_task_1_train_sessions, 'UK')\n",
    "print(len(UK_train_sessions))\n",
    "transform_to_inter_feat(UK_train_sessions, 'UK_train_inter_feat.csv')"
   ]
  },
  {
   "cell_type": "code",
   "execution_count": 15,
   "metadata": {},
   "outputs": [
    {
     "name": "stdout",
     "output_type": "stream",
     "text": [
      "114115\n"
     ]
    },
    {
     "name": "stderr",
     "output_type": "stream",
     "text": [
      "100%|██████████| 114115/114115 [00:04<00:00, 25700.24it/s]\n"
     ]
    }
   ],
   "source": [
    "IT_train_sessions = split_single_locale(all_task_1_train_sessions, 'IT')\n",
    "print(len(IT_train_sessions))\n",
    "transform_to_inter_feat(IT_train_sessions, 'IT_data/IT_train_inter_feat.csv')"
   ]
  },
  {
   "cell_type": "code",
   "execution_count": 16,
   "metadata": {},
   "outputs": [
    {
     "name": "stdout",
     "output_type": "stream",
     "text": [
      "80093\n"
     ]
    },
    {
     "name": "stderr",
     "output_type": "stream",
     "text": [
      "100%|██████████| 80093/80093 [00:03<00:00, 25271.48it/s]\n"
     ]
    }
   ],
   "source": [
    "ES_train_sessions = split_single_locale(all_task_1_train_sessions, 'ES')\n",
    "print(len(ES_train_sessions))\n",
    "transform_to_inter_feat(ES_train_sessions, 'ES_data/ES_train_inter_feat.csv')"
   ]
  },
  {
   "cell_type": "code",
   "execution_count": 11,
   "metadata": {},
   "outputs": [
    {
     "name": "stdout",
     "output_type": "stream",
     "text": [
      "105584\n"
     ]
    },
    {
     "name": "stderr",
     "output_type": "stream",
     "text": [
      "100%|██████████| 105584/105584 [00:04<00:00, 25670.94it/s]\n"
     ]
    }
   ],
   "source": [
    "FR_train_sessions = split_single_locale(all_task_1_train_sessions, 'FR')\n",
    "print(len(FR_train_sessions))\n",
    "transform_to_inter_feat(FR_train_sessions, 'FR_train_inter_feat.csv')"
   ]
  },
  {
   "cell_type": "code",
   "execution_count": 14,
   "metadata": {},
   "outputs": [
    {
     "data": {
      "text/plain": [
       "361581"
      ]
     },
     "execution_count": 14,
     "metadata": {},
     "output_type": "execute_result"
    }
   ],
   "source": [
    "all_task_1_valid_sessions = read_valid_sessions()\n",
    "len(all_task_1_valid_sessions)"
   ]
  },
  {
   "cell_type": "code",
   "execution_count": 15,
   "metadata": {},
   "outputs": [],
   "source": [
    "UK_valid_sessions = split_single_locale(all_task_1_valid_sessions, 'UK')\n",
    "UK_valid_sessions.to_csv('../data_for_recstudio/UK_data/UK_valid_sessions.csv', index=False)\n",
    "\n",
    "DE_valid_sessions = split_single_locale(all_task_1_valid_sessions, 'DE')\n",
    "DE_valid_sessions.to_csv('../data_for_recstudio/DE_data/DE_valid_sessions.csv', index=False)\n",
    "\n",
    "JP_valid_sessions = split_single_locale(all_task_1_valid_sessions, 'JP')\n",
    "JP_valid_sessions.to_csv('../data_for_recstudio/JP_data/JP_valid_sessions.csv', index=False)"
   ]
  },
  {
   "cell_type": "code",
   "execution_count": 18,
   "metadata": {},
   "outputs": [
    {
     "name": "stderr",
     "output_type": "stream",
     "text": [
      "100%|██████████| 122181/122181 [00:04<00:00, 25352.06it/s]\n",
      "100%|██████████| 108735/108735 [00:04<00:00, 25332.73it/s]\n",
      "100%|██████████| 130665/130665 [00:05<00:00, 25941.79it/s]\n"
     ]
    }
   ],
   "source": [
    "DE_valid_sessions = split_single_locale(all_task_1_valid_sessions, 'DE')\n",
    "transform_to_inter_feat(DE_valid_sessions, 'DE_valid_inter_feat.csv')\n",
    "\n",
    "JP_valid_sessions = split_single_locale(all_task_1_valid_sessions, 'JP')\n",
    "transform_to_inter_feat(JP_valid_sessions, 'JP_valid_inter_feat.csv')\n",
    "\n",
    "UK_valid_sessions = split_single_locale(all_task_1_valid_sessions, 'UK')\n",
    "transform_to_inter_feat(UK_valid_sessions, 'UK_valid_inter_feat.csv')"
   ]
  },
  {
   "cell_type": "code",
   "execution_count": 17,
   "metadata": {},
   "outputs": [
    {
     "data": {
      "text/plain": [
       "395322"
      ]
     },
     "execution_count": 17,
     "metadata": {},
     "output_type": "execute_result"
    }
   ],
   "source": [
    "task13_4_all_valid_sessions = pd.read_csv('../data_for_recstudio/task13_4_all_valid_sessions.csv')\n",
    "len(task13_4_all_valid_sessions)"
   ]
  },
  {
   "cell_type": "code",
   "execution_count": 21,
   "metadata": {},
   "outputs": [
    {
     "data": {
      "text/plain": [
       "33741"
      ]
     },
     "execution_count": 21,
     "metadata": {},
     "output_type": "execute_result"
    }
   ],
   "source": [
    "task13_4_task2_valid_sessions = task13_4_all_valid_sessions[task13_4_all_valid_sessions['locale'].isin(['FR', 'IT', 'ES'])]\n",
    "len(task13_4_task2_valid_sessions)"
   ]
  },
  {
   "cell_type": "code",
   "execution_count": 23,
   "metadata": {},
   "outputs": [
    {
     "name": "stderr",
     "output_type": "stream",
     "text": [
      "100%|██████████| 12810/12810 [00:00<00:00, 24989.90it/s]\n",
      "100%|██████████| 8954/8954 [00:00<00:00, 24732.72it/s]\n",
      "100%|██████████| 11977/11977 [00:00<00:00, 25485.01it/s]\n"
     ]
    }
   ],
   "source": [
    "IT_valid_sessions = split_single_locale(task13_4_task2_valid_sessions, 'IT')\n",
    "transform_to_inter_feat(IT_valid_sessions, 'IT_data/IT_valid_inter_feat.csv')\n",
    "\n",
    "ES_valid_sessions = split_single_locale(task13_4_task2_valid_sessions, 'ES')\n",
    "transform_to_inter_feat(ES_valid_sessions, 'ES_data/ES_valid_inter_feat.csv')\n",
    "\n",
    "FR_valid_sessions = split_single_locale(task13_4_task2_valid_sessions, 'FR')\n",
    "transform_to_inter_feat(FR_valid_sessions, 'FR_data/FR_valid_inter_feat.csv')"
   ]
  },
  {
   "cell_type": "code",
   "execution_count": 28,
   "metadata": {},
   "outputs": [
    {
     "data": {
      "text/plain": [
       "1551057"
      ]
     },
     "execution_count": 28,
     "metadata": {},
     "output_type": "execute_result"
    }
   ],
   "source": [
    "all_product_data = read_product_data()\n",
    "len(all_product_data)"
   ]
  },
  {
   "cell_type": "code",
   "execution_count": 29,
   "metadata": {},
   "outputs": [],
   "source": [
    "DE_product_data = all_product_data[all_product_data['locale'] == 'DE']\n",
    "DE_product_data.to_csv(os.path.join(recstudio_data_dir, 'DE_product_train.csv'), index=False)"
   ]
  },
  {
   "cell_type": "code",
   "execution_count": 30,
   "metadata": {},
   "outputs": [],
   "source": [
    "JP_product_data = all_product_data[all_product_data['locale'] == 'JP']\n",
    "JP_product_data.to_csv(os.path.join(recstudio_data_dir, 'JP_product_train.csv'), index=False)"
   ]
  },
  {
   "cell_type": "code",
   "execution_count": 31,
   "metadata": {},
   "outputs": [],
   "source": [
    "UK_product_data = all_product_data[all_product_data['locale'] == 'UK']\n",
    "UK_product_data.to_csv(os.path.join(recstudio_data_dir, 'UK_product_train.csv'), index=False)"
   ]
  },
  {
   "cell_type": "code",
   "execution_count": 32,
   "metadata": {},
   "outputs": [
    {
     "data": {
      "text/html": [
       "<div>\n",
       "<style scoped>\n",
       "    .dataframe tbody tr th:only-of-type {\n",
       "        vertical-align: middle;\n",
       "    }\n",
       "\n",
       "    .dataframe tbody tr th {\n",
       "        vertical-align: top;\n",
       "    }\n",
       "\n",
       "    .dataframe thead th {\n",
       "        text-align: right;\n",
       "    }\n",
       "</style>\n",
       "<table border=\"1\" class=\"dataframe\">\n",
       "  <thead>\n",
       "    <tr style=\"text-align: right;\">\n",
       "      <th></th>\n",
       "      <th>id</th>\n",
       "      <th>locale</th>\n",
       "      <th>title</th>\n",
       "      <th>price</th>\n",
       "      <th>brand</th>\n",
       "      <th>color</th>\n",
       "      <th>size</th>\n",
       "      <th>model</th>\n",
       "      <th>material</th>\n",
       "      <th>author</th>\n",
       "      <th>desc</th>\n",
       "    </tr>\n",
       "  </thead>\n",
       "  <tbody>\n",
       "    <tr>\n",
       "      <th>0</th>\n",
       "      <td>B005ZSSN10</td>\n",
       "      <td>DE</td>\n",
       "      <td>RED DRAGON Amberjack 3 - Steel Tip 22 Gramm Wo...</td>\n",
       "      <td>30.95</td>\n",
       "      <td>RED DRAGON</td>\n",
       "      <td>NaN</td>\n",
       "      <td>NaN</td>\n",
       "      <td>RDD0089</td>\n",
       "      <td>NaN</td>\n",
       "      <td>NaN</td>\n",
       "      <td>Amberjacks Steel Dartpfeile sind verfügbar in ...</td>\n",
       "    </tr>\n",
       "    <tr>\n",
       "      <th>1</th>\n",
       "      <td>B08PRYN6LD</td>\n",
       "      <td>DE</td>\n",
       "      <td>Simply Keto Lower Carb* Schokodrops ohne Zucke...</td>\n",
       "      <td>17.90</td>\n",
       "      <td>Simply Keto</td>\n",
       "      <td>NaN</td>\n",
       "      <td>750 g (1er Pack)</td>\n",
       "      <td>NaN</td>\n",
       "      <td>NaN</td>\n",
       "      <td>NaN</td>\n",
       "      <td>🌱 NATÜRLICHE SÜSSE DURCH ERYTHRIT - Wir stelle...</td>\n",
       "    </tr>\n",
       "  </tbody>\n",
       "</table>\n",
       "</div>"
      ],
      "text/plain": [
       "           id locale                                              title  \\\n",
       "0  B005ZSSN10     DE  RED DRAGON Amberjack 3 - Steel Tip 22 Gramm Wo...   \n",
       "1  B08PRYN6LD     DE  Simply Keto Lower Carb* Schokodrops ohne Zucke...   \n",
       "\n",
       "   price        brand color              size    model material author  \\\n",
       "0  30.95   RED DRAGON   NaN               NaN  RDD0089      NaN    NaN   \n",
       "1  17.90  Simply Keto   NaN  750 g (1er Pack)      NaN      NaN    NaN   \n",
       "\n",
       "                                                desc  \n",
       "0  Amberjacks Steel Dartpfeile sind verfügbar in ...  \n",
       "1  🌱 NATÜRLICHE SÜSSE DURCH ERYTHRIT - Wir stelle...  "
      ]
     },
     "execution_count": 32,
     "metadata": {},
     "output_type": "execute_result"
    }
   ],
   "source": [
    "DE_product_data.head(2)"
   ]
  },
  {
   "cell_type": "code",
   "execution_count": 33,
   "metadata": {},
   "outputs": [],
   "source": [
    "id_DE_product_data = DE_product_data[['id', 'locale']]\n",
    "id_DE_product_data.to_csv(os.path.join(recstudio_data_dir, 'id_DE_product_train.csv'), index=False)"
   ]
  },
  {
   "cell_type": "code",
   "execution_count": 34,
   "metadata": {},
   "outputs": [],
   "source": [
    "id_JP_product_data = JP_product_data[['id', 'locale']]\n",
    "id_JP_product_data.to_csv(os.path.join(recstudio_data_dir, 'id_JP_product_train.csv'), index=False)"
   ]
  },
  {
   "cell_type": "code",
   "execution_count": 35,
   "metadata": {},
   "outputs": [],
   "source": [
    "id_UK_product_data = UK_product_data[['id', 'locale']]\n",
    "id_UK_product_data.to_csv(os.path.join(recstudio_data_dir, 'id_UK_product_train.csv'), index=False)"
   ]
  },
  {
   "attachments": {},
   "cell_type": "markdown",
   "metadata": {},
   "source": [
    "# Debug sessions"
   ]
  },
  {
   "cell_type": "code",
   "execution_count": 9,
   "metadata": {},
   "outputs": [
    {
     "data": {
      "text/html": [
       "<div>\n",
       "<style scoped>\n",
       "    .dataframe tbody tr th:only-of-type {\n",
       "        vertical-align: middle;\n",
       "    }\n",
       "\n",
       "    .dataframe tbody tr th {\n",
       "        vertical-align: top;\n",
       "    }\n",
       "\n",
       "    .dataframe thead th {\n",
       "        text-align: right;\n",
       "    }\n",
       "</style>\n",
       "<table border=\"1\" class=\"dataframe\">\n",
       "  <thead>\n",
       "    <tr style=\"text-align: right;\">\n",
       "      <th></th>\n",
       "      <th>prev_items</th>\n",
       "      <th>next_item</th>\n",
       "      <th>locale</th>\n",
       "    </tr>\n",
       "  </thead>\n",
       "  <tbody>\n",
       "    <tr>\n",
       "      <th>0</th>\n",
       "      <td>['B07DRPH58X' 'B098TF21JM']</td>\n",
       "      <td>B098TG1D3C</td>\n",
       "      <td>UK</td>\n",
       "    </tr>\n",
       "    <tr>\n",
       "      <th>1</th>\n",
       "      <td>['B07Q9ZTSJD' 'B00D8CXYXC']</td>\n",
       "      <td>B00D8CXXTC</td>\n",
       "      <td>UK</td>\n",
       "    </tr>\n",
       "  </tbody>\n",
       "</table>\n",
       "</div>"
      ],
      "text/plain": [
       "                    prev_items   next_item locale\n",
       "0  ['B07DRPH58X' 'B098TF21JM']  B098TG1D3C     UK\n",
       "1  ['B07Q9ZTSJD' 'B00D8CXYXC']  B00D8CXXTC     UK"
      ]
     },
     "execution_count": 9,
     "metadata": {},
     "output_type": "execute_result"
    }
   ],
   "source": [
    "UK_train_sessions = pd.read_csv('/root/autodl-tmp/xiaolong/WorkSpace/Amazon-KDDCUP-23/data_for_recstudio/UK_data/UK_train_sessions.csv')\n",
    "UK_train_sessions.head(2)"
   ]
  },
  {
   "cell_type": "code",
   "execution_count": 12,
   "metadata": {},
   "outputs": [
    {
     "data": {
      "text/html": [
       "<div>\n",
       "<style scoped>\n",
       "    .dataframe tbody tr th:only-of-type {\n",
       "        vertical-align: middle;\n",
       "    }\n",
       "\n",
       "    .dataframe tbody tr th {\n",
       "        vertical-align: top;\n",
       "    }\n",
       "\n",
       "    .dataframe thead th {\n",
       "        text-align: right;\n",
       "    }\n",
       "</style>\n",
       "<table border=\"1\" class=\"dataframe\">\n",
       "  <thead>\n",
       "    <tr style=\"text-align: right;\">\n",
       "      <th></th>\n",
       "      <th>prev_items</th>\n",
       "      <th>next_item</th>\n",
       "      <th>locale</th>\n",
       "    </tr>\n",
       "  </thead>\n",
       "  <tbody>\n",
       "    <tr>\n",
       "      <th>0</th>\n",
       "      <td>['B08NWFZXXK' 'B08NTQVNDG' 'B07XN4ZP6F' 'B07XG...</td>\n",
       "      <td>B083DWL275</td>\n",
       "      <td>UK</td>\n",
       "    </tr>\n",
       "    <tr>\n",
       "      <th>1</th>\n",
       "      <td>['B00SH2UZWG' 'B00B7JJB76' 'B005LMS21Q' 'B002R...</td>\n",
       "      <td>B005LH2J42</td>\n",
       "      <td>UK</td>\n",
       "    </tr>\n",
       "    <tr>\n",
       "      <th>2</th>\n",
       "      <td>['B0B42YN26Y' 'B07PQRBT5N' 'B0B431NHJ1' 'B0B42...</td>\n",
       "      <td>B075WWQY2Y</td>\n",
       "      <td>UK</td>\n",
       "    </tr>\n",
       "    <tr>\n",
       "      <th>3</th>\n",
       "      <td>['B00BQFTN5G' 'B07B8PQGR2' 'B01H69OP0I' 'B09QY...</td>\n",
       "      <td>B09VY73TFG</td>\n",
       "      <td>UK</td>\n",
       "    </tr>\n",
       "    <tr>\n",
       "      <th>4</th>\n",
       "      <td>['B07RRWQ4TS' 'B07RRWQKWJ']</td>\n",
       "      <td>B07PQT9P2M</td>\n",
       "      <td>UK</td>\n",
       "    </tr>\n",
       "    <tr>\n",
       "      <th>...</th>\n",
       "      <td>...</td>\n",
       "      <td>...</td>\n",
       "      <td>...</td>\n",
       "    </tr>\n",
       "    <tr>\n",
       "      <th>9995</th>\n",
       "      <td>['B0071QN03K' 'B000TASL5W' 'B08SWKPHF1']</td>\n",
       "      <td>B092TSH17C</td>\n",
       "      <td>UK</td>\n",
       "    </tr>\n",
       "    <tr>\n",
       "      <th>9996</th>\n",
       "      <td>['B0B1Z419SF' 'B00SGP6TAQ' 'B016SK4TIE']</td>\n",
       "      <td>B01N3VDMSY</td>\n",
       "      <td>UK</td>\n",
       "    </tr>\n",
       "    <tr>\n",
       "      <th>9997</th>\n",
       "      <td>['B0B4JW7L9C' 'B0B5MM44QY']</td>\n",
       "      <td>B00B3T3U2C</td>\n",
       "      <td>UK</td>\n",
       "    </tr>\n",
       "    <tr>\n",
       "      <th>9998</th>\n",
       "      <td>['B07T13PN2N' 'B07SYJ48GM']</td>\n",
       "      <td>B084RMLXFH</td>\n",
       "      <td>UK</td>\n",
       "    </tr>\n",
       "    <tr>\n",
       "      <th>9999</th>\n",
       "      <td>['B0B63XG6CZ' 'B002OB4CRA' 'B09M4GC7KZ' 'B00TQ...</td>\n",
       "      <td>B0B1Y3YFKT</td>\n",
       "      <td>UK</td>\n",
       "    </tr>\n",
       "  </tbody>\n",
       "</table>\n",
       "<p>10000 rows × 3 columns</p>\n",
       "</div>"
      ],
      "text/plain": [
       "                                             prev_items   next_item locale\n",
       "0     ['B08NWFZXXK' 'B08NTQVNDG' 'B07XN4ZP6F' 'B07XG...  B083DWL275     UK\n",
       "1     ['B00SH2UZWG' 'B00B7JJB76' 'B005LMS21Q' 'B002R...  B005LH2J42     UK\n",
       "2     ['B0B42YN26Y' 'B07PQRBT5N' 'B0B431NHJ1' 'B0B42...  B075WWQY2Y     UK\n",
       "3     ['B00BQFTN5G' 'B07B8PQGR2' 'B01H69OP0I' 'B09QY...  B09VY73TFG     UK\n",
       "4                           ['B07RRWQ4TS' 'B07RRWQKWJ']  B07PQT9P2M     UK\n",
       "...                                                 ...         ...    ...\n",
       "9995           ['B0071QN03K' 'B000TASL5W' 'B08SWKPHF1']  B092TSH17C     UK\n",
       "9996           ['B0B1Z419SF' 'B00SGP6TAQ' 'B016SK4TIE']  B01N3VDMSY     UK\n",
       "9997                        ['B0B4JW7L9C' 'B0B5MM44QY']  B00B3T3U2C     UK\n",
       "9998                        ['B07T13PN2N' 'B07SYJ48GM']  B084RMLXFH     UK\n",
       "9999  ['B0B63XG6CZ' 'B002OB4CRA' 'B09M4GC7KZ' 'B00TQ...  B0B1Y3YFKT     UK\n",
       "\n",
       "[10000 rows x 3 columns]"
      ]
     },
     "execution_count": 12,
     "metadata": {},
     "output_type": "execute_result"
    }
   ],
   "source": [
    "debug_train_sessions = UK_train_sessions.sample(10000)\n",
    "debug_train_sessions = debug_train_sessions.reset_index(drop=True)\n",
    "debug_train_sessions"
   ]
  },
  {
   "cell_type": "code",
   "execution_count": 13,
   "metadata": {},
   "outputs": [],
   "source": [
    "debug_train_sessions.to_csv('../data_for_recstudio/UK_data/debug_UK_train_sessions.csv', index=False)"
   ]
  },
  {
   "cell_type": "code",
   "execution_count": 14,
   "metadata": {},
   "outputs": [
    {
     "name": "stderr",
     "output_type": "stream",
     "text": [
      "100%|██████████| 10000/10000 [00:00<00:00, 16625.48it/s]\n"
     ]
    }
   ],
   "source": [
    "transform_to_inter_feat(debug_train_sessions, '../data_for_recstudio/UK_data/debug_UK_train_inter_feat.csv')"
   ]
  }
 ],
 "metadata": {
  "kernelspec": {
   "display_name": "torch12",
   "language": "python",
   "name": "python3"
  },
  "language_info": {
   "codemirror_mode": {
    "name": "ipython",
    "version": 3
   },
   "file_extension": ".py",
   "mimetype": "text/x-python",
   "name": "python",
   "nbconvert_exporter": "python",
   "pygments_lexer": "ipython3",
   "version": "3.9.16"
  },
  "orig_nbformat": 4
 },
 "nbformat": 4,
 "nbformat_minor": 2
}
