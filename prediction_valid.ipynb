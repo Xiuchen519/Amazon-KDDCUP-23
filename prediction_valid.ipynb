{
 "cells": [
  {
   "cell_type": "code",
   "execution_count": 1,
   "metadata": {},
   "outputs": [],
   "source": [
    "import numpy as np \n",
    "import pandas as pd \n",
    "import os \n",
    "from functools import lru_cache"
   ]
  },
  {
   "cell_type": "code",
   "execution_count": 2,
   "metadata": {},
   "outputs": [],
   "source": [
    "prediction_df = pd.read_parquet('./predictions/SASRec2/kdd_cup_2023/2023-03-22-16-16-53.parquet', engine='pyarrow')"
   ]
  },
  {
   "cell_type": "code",
   "execution_count": 5,
   "metadata": {},
   "outputs": [
    {
     "data": {
      "text/html": [
       "<div>\n",
       "<style scoped>\n",
       "    .dataframe tbody tr th:only-of-type {\n",
       "        vertical-align: middle;\n",
       "    }\n",
       "\n",
       "    .dataframe tbody tr th {\n",
       "        vertical-align: top;\n",
       "    }\n",
       "\n",
       "    .dataframe thead th {\n",
       "        text-align: right;\n",
       "    }\n",
       "</style>\n",
       "<table border=\"1\" class=\"dataframe\">\n",
       "  <thead>\n",
       "    <tr style=\"text-align: right;\">\n",
       "      <th></th>\n",
       "      <th>locale</th>\n",
       "      <th>next_item_prediction</th>\n",
       "    </tr>\n",
       "  </thead>\n",
       "  <tbody>\n",
       "    <tr>\n",
       "      <th>0</th>\n",
       "      <td>DE</td>\n",
       "      <td>[B07JG9TFSB, B099NS1XPG, B07LG5T3V9, B07TV364M...</td>\n",
       "    </tr>\n",
       "    <tr>\n",
       "      <th>1</th>\n",
       "      <td>DE</td>\n",
       "      <td>[B08NP5GN8R, B07VY9P2GR, B08TZ2RWF6, B09M7ZNQS...</td>\n",
       "    </tr>\n",
       "    <tr>\n",
       "      <th>2</th>\n",
       "      <td>DE</td>\n",
       "      <td>[B0BJF4KGCN, B000KSLHNQ, B09CTYS57Z, B0B5TFLBC...</td>\n",
       "    </tr>\n",
       "    <tr>\n",
       "      <th>3</th>\n",
       "      <td>DE</td>\n",
       "      <td>[B001RYNMDA, B01MXLEVR7, B0BD88WWQ8, B009Q8492...</td>\n",
       "    </tr>\n",
       "    <tr>\n",
       "      <th>4</th>\n",
       "      <td>DE</td>\n",
       "      <td>[B09J8SKX9G, B09MTBHT8P, B0BDDPDQSM, B0B51L89C...</td>\n",
       "    </tr>\n",
       "    <tr>\n",
       "      <th>...</th>\n",
       "      <td>...</td>\n",
       "      <td>...</td>\n",
       "    </tr>\n",
       "    <tr>\n",
       "      <th>95</th>\n",
       "      <td>DE</td>\n",
       "      <td>[B07SD6621Q, B07J12LPMD, B00HYAE0LO, B09LHT9T7...</td>\n",
       "    </tr>\n",
       "    <tr>\n",
       "      <th>96</th>\n",
       "      <td>DE</td>\n",
       "      <td>[B0B87R6VZ4, B0B87V78G4, B09N3NTVJT, B09LD6XRR...</td>\n",
       "    </tr>\n",
       "    <tr>\n",
       "      <th>97</th>\n",
       "      <td>DE</td>\n",
       "      <td>[B0B244R4KB, B0B8J8JCZ1, B0BDJM32H4, B0B5H56N3...</td>\n",
       "    </tr>\n",
       "    <tr>\n",
       "      <th>98</th>\n",
       "      <td>DE</td>\n",
       "      <td>[B003F0WKDM, B09CCVCM32, B07F38XNL3, B0924MT4H...</td>\n",
       "    </tr>\n",
       "    <tr>\n",
       "      <th>99</th>\n",
       "      <td>DE</td>\n",
       "      <td>[B0995XN3J3, B08PKTVNGN, B09MGB6B88, B07TVS41F...</td>\n",
       "    </tr>\n",
       "  </tbody>\n",
       "</table>\n",
       "<p>100 rows × 2 columns</p>\n",
       "</div>"
      ],
      "text/plain": [
       "   locale                               next_item_prediction\n",
       "0      DE  [B07JG9TFSB, B099NS1XPG, B07LG5T3V9, B07TV364M...\n",
       "1      DE  [B08NP5GN8R, B07VY9P2GR, B08TZ2RWF6, B09M7ZNQS...\n",
       "2      DE  [B0BJF4KGCN, B000KSLHNQ, B09CTYS57Z, B0B5TFLBC...\n",
       "3      DE  [B001RYNMDA, B01MXLEVR7, B0BD88WWQ8, B009Q8492...\n",
       "4      DE  [B09J8SKX9G, B09MTBHT8P, B0BDDPDQSM, B0B51L89C...\n",
       "..    ...                                                ...\n",
       "95     DE  [B07SD6621Q, B07J12LPMD, B00HYAE0LO, B09LHT9T7...\n",
       "96     DE  [B0B87R6VZ4, B0B87V78G4, B09N3NTVJT, B09LD6XRR...\n",
       "97     DE  [B0B244R4KB, B0B8J8JCZ1, B0BDJM32H4, B0B5H56N3...\n",
       "98     DE  [B003F0WKDM, B09CCVCM32, B07F38XNL3, B0924MT4H...\n",
       "99     DE  [B0995XN3J3, B08PKTVNGN, B09MGB6B88, B07TVS41F...\n",
       "\n",
       "[100 rows x 2 columns]"
      ]
     },
     "execution_count": 5,
     "metadata": {},
     "output_type": "execute_result"
    }
   ],
   "source": [
    "prediction_df.head(100)\n"
   ]
  },
  {
   "cell_type": "code",
   "execution_count": 6,
   "metadata": {},
   "outputs": [
    {
     "data": {
      "text/plain": [
       "115936"
      ]
     },
     "execution_count": 6,
     "metadata": {},
     "output_type": "execute_result"
    }
   ],
   "source": [
    "(prediction_df['locale'] == 'UK').sum()"
   ]
  },
  {
   "cell_type": "code",
   "execution_count": 7,
   "metadata": {},
   "outputs": [
    {
     "data": {
      "text/plain": [
       "array(['B07JG9TFSB', 'B099NS1XPG', 'B07LG5T3V9', 'B07TV364MZ',\n",
       "       'B07TV22X9M', 'B08CRV3XXV', 'B0BGL7KC2D', 'B089FBHSJ8',\n",
       "       'B0B53KBXR8', 'B08QYYBTMC', 'B07XG2PTH8', 'B096BGC3XF',\n",
       "       'B01H1R0K68', 'B094R3R9XH', 'B089FBVXRZ', 'B07JDSHD4Z',\n",
       "       'B0B1DJ7LMB', 'B07YWR9S66', 'B086CJF45F', 'B0B3DKVCC6',\n",
       "       'B06XZYP5FW', 'B093PT1NL1', 'B07GPT8HPY', 'B07JW7K2M5',\n",
       "       'B09NKFSLGB', 'B0B9HC9P9H', 'B0B68FM5ZL', 'B0BFJJG7RT',\n",
       "       'B07ZTGVKWN', 'B09W5988V1', 'B07TW3NL2M', 'B07TS22D8Z',\n",
       "       'B09129FV4D', 'B08Q391KS3', 'B095C1CHMQ', 'B09T2ZXL4V',\n",
       "       'B0BB2B69CV', 'B091YCWH9S', 'B079JXY1RC', 'B09P3K5778',\n",
       "       'B0BHHZ9LPT', 'B09Z67V8GM', 'B08RJ6QGFV', 'B0B96Y2N4D',\n",
       "       'B0B5ND342Y', 'B082N332HB', 'B07JG9QZ2B', 'B0876NB9KT',\n",
       "       'B07QH1MYPY', 'B08FDKF3MW', 'B07T14HSNQ', 'B0B7S7LBMB',\n",
       "       'B07G2YM494', 'B09QFN2DYJ', 'B09N3CHFZK', 'B084RPXG3B',\n",
       "       'B09PH91HX2', 'B09KG6VDF2', 'B09X1K2Y1K', 'B00AUMR30S',\n",
       "       'B0BB6T261Z', 'B09QFPYX34', 'B09JRJ3NYV', 'B0B7WMRFFJ',\n",
       "       'B08Y8XV8ST', 'B09WDMG628', 'B08GYKLWVR', 'B094CRSR99',\n",
       "       'B09NBMHYPG', 'B07XD7VRFQ', 'B09C1N2X38', 'B09TKMQKJS',\n",
       "       'B091FH61VP', 'B07P996ZKJ', 'B0BD88WWQ8', 'B0BJ6TD9HT',\n",
       "       'B09WDSH4CD', 'B08DRQR6J8', 'B08Q7HL9QV', 'B09P49Z4PP',\n",
       "       'B09V7NMDC9', 'B08319YYJR', 'B09G722XC1', 'B0BHCKP3ZC',\n",
       "       'B09QFJNDQX', 'B0BB7M7BPM', 'B0BFBQD7BB', 'B008CF3CQO',\n",
       "       'B08HK468VP', 'B08F2YWHS9', 'B0BD7MGXMM', 'B0B1D1FMLF',\n",
       "       'B09XQT2TVS', 'B08X1B622Z', 'B08CXQL1PY', 'B081PL4PV5',\n",
       "       'B081PT7Z8Y', 'B08T1NSLQ3', 'B0BH2NL8CJ', 'B0BBGVS3SY'],\n",
       "      dtype=object)"
      ]
     },
     "execution_count": 7,
     "metadata": {},
     "output_type": "execute_result"
    }
   ],
   "source": [
    "prediction_df.iloc[0]['next_item_prediction']"
   ]
  },
  {
   "cell_type": "code",
   "execution_count": 8,
   "metadata": {},
   "outputs": [
    {
     "data": {
      "text/html": [
       "<div>\n",
       "<style scoped>\n",
       "    .dataframe tbody tr th:only-of-type {\n",
       "        vertical-align: middle;\n",
       "    }\n",
       "\n",
       "    .dataframe tbody tr th {\n",
       "        vertical-align: top;\n",
       "    }\n",
       "\n",
       "    .dataframe thead th {\n",
       "        text-align: right;\n",
       "    }\n",
       "</style>\n",
       "<table border=\"1\" class=\"dataframe\">\n",
       "  <thead>\n",
       "    <tr style=\"text-align: right;\">\n",
       "      <th></th>\n",
       "      <th>prev_items</th>\n",
       "      <th>locale</th>\n",
       "    </tr>\n",
       "  </thead>\n",
       "  <tbody>\n",
       "    <tr>\n",
       "      <th>0</th>\n",
       "      <td>['B08V12CT4C' 'B08V1KXBQD' 'B01BVG1XJS' 'B09VC...</td>\n",
       "      <td>DE</td>\n",
       "    </tr>\n",
       "    <tr>\n",
       "      <th>1</th>\n",
       "      <td>['B00R9R5ND6' 'B00R9RZ9ZS' 'B00R9RZ9ZS']</td>\n",
       "      <td>DE</td>\n",
       "    </tr>\n",
       "    <tr>\n",
       "      <th>2</th>\n",
       "      <td>['B07YSRXJD3' 'B07G7Q5N6G' 'B08C9Q7QVK' 'B07G7...</td>\n",
       "      <td>DE</td>\n",
       "    </tr>\n",
       "    <tr>\n",
       "      <th>3</th>\n",
       "      <td>['B08KQBYV43' '3955350843' '3955350843' '39553...</td>\n",
       "      <td>DE</td>\n",
       "    </tr>\n",
       "    <tr>\n",
       "      <th>4</th>\n",
       "      <td>['B09FPTCWMC' 'B09FPTQP68' 'B08HMRY8NG' 'B08TB...</td>\n",
       "      <td>DE</td>\n",
       "    </tr>\n",
       "  </tbody>\n",
       "</table>\n",
       "</div>"
      ],
      "text/plain": [
       "                                          prev_items locale\n",
       "0  ['B08V12CT4C' 'B08V1KXBQD' 'B01BVG1XJS' 'B09VC...     DE\n",
       "1           ['B00R9R5ND6' 'B00R9RZ9ZS' 'B00R9RZ9ZS']     DE\n",
       "2  ['B07YSRXJD3' 'B07G7Q5N6G' 'B08C9Q7QVK' 'B07G7...     DE\n",
       "3  ['B08KQBYV43' '3955350843' '3955350843' '39553...     DE\n",
       "4  ['B09FPTCWMC' 'B09FPTQP68' 'B08HMRY8NG' 'B08TB...     DE"
      ]
     },
     "execution_count": 8,
     "metadata": {},
     "output_type": "execute_result"
    }
   ],
   "source": [
    "test_sessions = pd.read_csv('./raw_data/sessions_test_task1.csv')\n",
    "test_sessions.head(5)"
   ]
  },
  {
   "cell_type": "code",
   "execution_count": 9,
   "metadata": {},
   "outputs": [],
   "source": [
    "train_data_dir = './raw_data/'\n",
    "test_data_dir = './raw_data/'\n",
    "@lru_cache(maxsize=1)\n",
    "def read_product_data():\n",
    "    return pd.read_csv(os.path.join(train_data_dir, 'products_train.csv'))\n",
    "\n",
    "@lru_cache(maxsize=1)\n",
    "def read_train_data():\n",
    "    return pd.read_csv(os.path.join(train_data_dir, 'sessions_train.csv'))\n",
    "\n",
    "@lru_cache(maxsize=3)\n",
    "def read_test_data(task):\n",
    "    return pd.read_csv(os.path.join(test_data_dir, f'sessions_test_{task}.csv'))"
   ]
  },
  {
   "cell_type": "code",
   "execution_count": 10,
   "metadata": {},
   "outputs": [],
   "source": [
    "def check_predictions(predictions, check_products=False):\n",
    "    \"\"\"\n",
    "    These tests need to pass as they will also be applied on the evaluator\n",
    "    \"\"\"\n",
    "    test_locale_names = test_sessions['locale'].unique()\n",
    "    for locale in test_locale_names:\n",
    "        sess_test = test_sessions.query(f'locale == \"{locale}\"')\n",
    "        preds_locale =  predictions[predictions['locale'] == sess_test['locale'].iloc[0]]\n",
    "        assert sorted(preds_locale.index.values) == sorted(sess_test.index.values), f\"Session ids of {locale} doesn't match\"\n",
    "\n",
    "        if check_products:\n",
    "            # This check is not done on the evaluator\n",
    "            # but you can run it to verify there is no mixing of products between locales\n",
    "            # Since the ground truth next item will always belong to the same locale\n",
    "            # Warning - This can be slow to run\n",
    "            products = read_product_data().query(f'locale == \"{locale}\"')\n",
    "            predicted_products = np.unique( np.array(list(preds_locale[\"next_item_prediction\"].values)) )\n",
    "            assert np.all( np.isin(predicted_products, products['id']) ), f\"Invalid products in {locale} predictions\""
   ]
  },
  {
   "cell_type": "code",
   "execution_count": 11,
   "metadata": {},
   "outputs": [],
   "source": [
    "check_predictions(prediction_df)"
   ]
  }
 ],
 "metadata": {
  "kernelspec": {
   "display_name": "torch12",
   "language": "python",
   "name": "python3"
  },
  "language_info": {
   "codemirror_mode": {
    "name": "ipython",
    "version": 3
   },
   "file_extension": ".py",
   "mimetype": "text/x-python",
   "name": "python",
   "nbconvert_exporter": "python",
   "pygments_lexer": "ipython3",
   "version": "3.9.16"
  },
  "orig_nbformat": 4
 },
 "nbformat": 4,
 "nbformat_minor": 2
}
