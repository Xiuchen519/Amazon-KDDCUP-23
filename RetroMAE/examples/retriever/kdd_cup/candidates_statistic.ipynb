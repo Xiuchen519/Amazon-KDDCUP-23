{
 "cells": [
  {
   "cell_type": "code",
   "execution_count": 1,
   "metadata": {},
   "outputs": [],
   "source": [
    "import pandas as pd \n",
    "import numpy as np\n",
    "from functools import lru_cache\n",
    "import os\n",
    "from tqdm import tqdm "
   ]
  },
  {
   "cell_type": "code",
   "execution_count": 2,
   "metadata": {},
   "outputs": [],
   "source": [
    "recstudio_data_dir = '/root/autodl-tmp/xiaolong/WorkSpace/Amazon-KDDCUP-23/data_for_recstudio'\n",
    "raw_data_dir = '/root/autodl-tmp/xiaolong/WorkSpace/Amazon-KDDCUP-23/raw_data'"
   ]
  },
  {
   "cell_type": "code",
   "execution_count": 3,
   "metadata": {},
   "outputs": [],
   "source": [
    "sasrec_session_candidates_path = '/root/autodl-tmp/xiaolong/WorkSpace/Amazon-KDDCUP-23/candidates/2023-04-01-14-13-51.parquet'\n",
    "retromae_candidates_path = '/root/autodl-tmp/xiaolong/WorkSpace/Amazon-KDDCUP-23/RetroMAE/examples/retriever/kdd_cup/valid_results/valid_prediction.parquet'"
   ]
  },
  {
   "cell_type": "code",
   "execution_count": 14,
   "metadata": {},
   "outputs": [],
   "source": [
    "@lru_cache(maxsize=1)\n",
    "def read_sasrec_session_candidates():\n",
    "    return pd.read_parquet(sasrec_session_candidates_path, engine='pyarrow')\n",
    "\n",
    "@lru_cache(maxsize=1)\n",
    "def read_retromae_session_candidates():\n",
    "    return pd.read_parquet(retromae_candidates_path, engine='pyarrow')\n",
    "\n",
    "@lru_cache(maxsize=1)\n",
    "def read_valid_sessions():\n",
    "    return pd.read_csv(os.path.join(recstudio_data_dir, 'all_task_1_valid_sessions.csv'))"
   ]
  },
  {
   "cell_type": "code",
   "execution_count": 15,
   "metadata": {},
   "outputs": [
    {
     "data": {
      "text/plain": [
       "(  locale                                         candidates sess_id\n",
       " 0     UK  [B06XG1LZ6Z, B06XGD9VLV, B076PN1SKG, B01MYUDYP...       0\n",
       " 1     JP  [B09LCPT9DQ, B09MRYK5CV, B0BB5VQ1L8, B084T9C6W...       1\n",
       " 2     UK  [B09XBS6WCX, B01EYGW86Y, B01MDOBUCC, B01C5YK17...       2\n",
       " 3     UK  [0241572614, 1406392979, 024157563X, 024147681...       3\n",
       " 4     JP  [B0B6PF619D, B0B6P77ZRN, B0B6P2PCMP, B0B6NY4PN...       4\n",
       " 5     DE  [B0BD48G63Q, B0BD3DGNT9, B0B685KHK6, B0B54PQKG...       5\n",
       " 6     DE  [B07Q82LRDK, B082XSF8XF, B00H37AVY8, B01EGP3LV...       6\n",
       " 7     UK  [B013SL2712, B07V5LWSN5, B00CL6353A, B07W6JP97...       7\n",
       " 8     JP  [B0BFPGHSYX, B09ZTN81QH, B00B57A5IY, B00LE7TO0...       8\n",
       " 9     DE  [B07MH3K3S8, B07KQHHYQC, B00Z0BTBEA, B07YLZ67Q...       9,\n",
       " 361581,\n",
       " 300)"
      ]
     },
     "execution_count": 15,
     "metadata": {},
     "output_type": "execute_result"
    }
   ],
   "source": [
    "sasrec_session_candidates_df = read_sasrec_session_candidates()\n",
    "sasrec_session_candidates_df.head(10), len(sasrec_session_candidates_df), len(sasrec_session_candidates_df.iloc[0]['candidates'])"
   ]
  },
  {
   "cell_type": "code",
   "execution_count": 16,
   "metadata": {},
   "outputs": [
    {
     "data": {
      "text/plain": [
       "130665"
      ]
     },
     "execution_count": 16,
     "metadata": {},
     "output_type": "execute_result"
    }
   ],
   "source": [
    "sasrec_session_candidates_df = sasrec_session_candidates_df[sasrec_session_candidates_df['locale'] == 'UK']\n",
    "len(sasrec_session_candidates_df)"
   ]
  },
  {
   "cell_type": "code",
   "execution_count": 19,
   "metadata": {},
   "outputs": [
    {
     "data": {
      "text/plain": [
       "(  locale                               next_item_prediction\n",
       " 0     UK  [B06XGD9VLV, B06XG1LZ6Z, B06XGDZVZR, B0BJQ95XW...\n",
       " 1     UK  [B00JLH125A, B09GGGFKFR, B015DVC6G6, B017A0OY8...\n",
       " 2     UK  [1406357383, 1406363073, B0BGY899Q5, B074G22VZ...\n",
       " 3     UK  [B013SL2712, B07W6JP976, B07W6JJ253, B07W7LHVB...\n",
       " 4     UK  [B0B7XCS3QT, B077P3D31Q, B098JJLSWX, B08PYWFGB...\n",
       " 5     UK  [1529176913, 1399702742, B07VP5BKSW, B095J8R9Y...\n",
       " 6     UK  [B00IG32NC6, B01JAQFAZE, B01JLTVHNY, B01JAQEW9...\n",
       " 7     UK  [B09QKT69MR, B0B1JHRTQY, B08PPDTH9L, B0B9FHP56...\n",
       " 8     UK  [B08YL9D3B1, B00MAIO9MA, B008MYJ57K, B00O9RYS7...\n",
       " 9     UK  [B09PRQS53M, B09S11KJ9W, B09BPWHRYQ, B0918LLKV...,\n",
       " 130665,\n",
       " 300)"
      ]
     },
     "execution_count": 19,
     "metadata": {},
     "output_type": "execute_result"
    }
   ],
   "source": [
    "retromae_session_candidates_df = read_retromae_session_candidates()\n",
    "retromae_session_candidates_df.head(10), len(retromae_session_candidates_df), len(retromae_session_candidates_df.iloc[0]['next_item_prediction'])"
   ]
  },
  {
   "cell_type": "code",
   "execution_count": 17,
   "metadata": {},
   "outputs": [
    {
     "data": {
      "text/plain": [
       "130665"
      ]
     },
     "execution_count": 17,
     "metadata": {},
     "output_type": "execute_result"
    }
   ],
   "source": [
    "valid_sessions_df = read_valid_sessions()\n",
    "valid_sessions_df = valid_sessions_df[valid_sessions_df['locale'] == 'UK']\n",
    "len(valid_sessions_df)"
   ]
  },
  {
   "cell_type": "code",
   "execution_count": 22,
   "metadata": {},
   "outputs": [],
   "source": [
    "def co_currence(length):\n",
    "    num_sessions = len(valid_sessions_df)\n",
    "    co_currence_rates = []\n",
    "    for i in tqdm(range(num_sessions)):\n",
    "        co_graph_set = set(retromae_session_candidates_df.iloc[i]['next_item_prediction'][:length])\n",
    "        sasrec_set = set(sasrec_session_candidates_df.iloc[i]['candidates'][:length])\n",
    "        co_currence_set = co_graph_set.intersection(sasrec_set)\n",
    "        co_currence_rates.append(len(co_currence_set) * 1.0 / length * 1.0)\n",
    "    return np.array(co_currence_rates).mean()"
   ]
  },
  {
   "cell_type": "code",
   "execution_count": 23,
   "metadata": {},
   "outputs": [
    {
     "name": "stderr",
     "output_type": "stream",
     "text": [
      "100%|██████████| 130665/130665 [00:24<00:00, 5361.93it/s]\n",
      "100%|██████████| 130665/130665 [00:16<00:00, 7798.97it/s]\n",
      "100%|██████████| 130665/130665 [00:12<00:00, 10662.42it/s]\n"
     ]
    },
    {
     "data": {
      "text/plain": [
       "(0.2960451026161047, 0.326827153407569, 0.2968859296674703)"
      ]
     },
     "execution_count": 23,
     "metadata": {},
     "output_type": "execute_result"
    }
   ],
   "source": [
    "co_currence_rate_300 = co_currence(300)\n",
    "co_currence_rate_100 = co_currence(100)\n",
    "co_currence_rate_10 = co_currence(10)\n",
    "co_currence_rate_300, co_currence_rate_100, co_currence_rate_10"
   ]
  },
  {
   "cell_type": "code",
   "execution_count": 10,
   "metadata": {},
   "outputs": [],
   "source": [
    "def cal_hit_and_mrr(ground_truth_list, candidates_list):\n",
    "    hits, mrrs = [], []\n",
    "    for i in tqdm(range(len(ground_truth_list))):\n",
    "        ground_truth = ground_truth_list.iloc[i]\n",
    "        candidates = candidates_list.iloc[i]\n",
    "        hit, mrr = 0.0, 0.0\n",
    "        for j in range(len(candidates)):\n",
    "            if ground_truth == candidates[j]:\n",
    "                hit = 1.0\n",
    "                mrr = 1.0 / (j + 1)\n",
    "                break\n",
    "        hits.append(hit)\n",
    "        mrrs.append(mrr)\n",
    "    return np.array(hits).mean(), np.array(mrrs).mean()"
   ]
  },
  {
   "cell_type": "code",
   "execution_count": 35,
   "metadata": {},
   "outputs": [
    {
     "name": "stderr",
     "output_type": "stream",
     "text": [
      "100%|██████████| 130665/130665 [00:03<00:00, 32683.51it/s]\n"
     ]
    },
    {
     "data": {
      "text/plain": [
       "(0.7314047373053227, 0.24190486057082744)"
      ]
     },
     "execution_count": 35,
     "metadata": {},
     "output_type": "execute_result"
    }
   ],
   "source": [
    "# retromae hit ratio and mrr\n",
    "retromae_hit_ratio, retromae_mrr = cal_hit_and_mrr(valid_sessions_df['next_item'], retromae_session_candidates_df['next_item_prediction'])\n",
    "retromae_hit_ratio, retromae_mrr"
   ]
  },
  {
   "cell_type": "code",
   "execution_count": 18,
   "metadata": {},
   "outputs": [
    {
     "name": "stderr",
     "output_type": "stream",
     "text": [
      "100%|██████████| 130665/130665 [00:04<00:00, 26840.75it/s]\n"
     ]
    },
    {
     "data": {
      "text/plain": [
       "(0.6061454865495733, 0.26247991444563873)"
      ]
     },
     "execution_count": 18,
     "metadata": {},
     "output_type": "execute_result"
    }
   ],
   "source": [
    "# sasrec hit ratio and mrr\n",
    "sasrec_hit_ratio, sasrec_mrr = cal_hit_and_mrr(valid_sessions_df['next_item'], sasrec_session_candidates_df['candidates'])\n",
    "sasrec_hit_ratio, sasrec_mrr"
   ]
  },
  {
   "cell_type": "code",
   "execution_count": 28,
   "metadata": {},
   "outputs": [],
   "source": [
    "# hit or\n",
    "def cal_or_hit(ground_truth_list, candidates_list_1, candidates_list_2):\n",
    "    hits = []\n",
    "    for i in tqdm(range(len(ground_truth_list))):\n",
    "        ground_truth = ground_truth_list.iloc[i]\n",
    "        candidates_1 = candidates_list_1.iloc[i]\n",
    "        candidates_2 = candidates_list_2.iloc[i]\n",
    "        hit = 0.0\n",
    "        if (ground_truth in candidates_1) or (ground_truth in candidates_2):\n",
    "            hit = 1.0\n",
    "        hits.append(hit)\n",
    "    return np.array(hits).mean()"
   ]
  },
  {
   "cell_type": "code",
   "execution_count": 29,
   "metadata": {},
   "outputs": [
    {
     "name": "stderr",
     "output_type": "stream",
     "text": [
      "100%|██████████| 130665/130665 [00:06<00:00, 20107.39it/s]\n"
     ]
    },
    {
     "data": {
      "text/plain": [
       "0.7527417441548999"
      ]
     },
     "execution_count": 29,
     "metadata": {},
     "output_type": "execute_result"
    }
   ],
   "source": [
    "or_hit = cal_or_hit(valid_sessions_df['next_item'], retromae_session_candidates_df['next_item_prediction'], sasrec_session_candidates_df['candidates'])\n",
    "or_hit"
   ]
  },
  {
   "cell_type": "code",
   "execution_count": 30,
   "metadata": {},
   "outputs": [],
   "source": [
    "# hit concurrently\n",
    "def cal_co_hit(ground_truth_list, candidates_list_1, candidates_list_2):\n",
    "    hits = []\n",
    "    for i in tqdm(range(len(ground_truth_list))):\n",
    "        ground_truth = ground_truth_list.iloc[i]\n",
    "        candidates_1 = candidates_list_1.iloc[i]\n",
    "        candidates_2 = candidates_list_2.iloc[i]\n",
    "        hit = 0.0\n",
    "        if (ground_truth in candidates_1) and (ground_truth in candidates_2):\n",
    "            hit = 1.0\n",
    "        hits.append(hit)\n",
    "    return np.array(hits).mean()"
   ]
  },
  {
   "cell_type": "code",
   "execution_count": 32,
   "metadata": {},
   "outputs": [
    {
     "name": "stderr",
     "output_type": "stream",
     "text": [
      "100%|██████████| 130665/130665 [00:08<00:00, 16092.94it/s]\n"
     ]
    },
    {
     "data": {
      "text/plain": [
       "0.5848084796999962"
      ]
     },
     "execution_count": 32,
     "metadata": {},
     "output_type": "execute_result"
    }
   ],
   "source": [
    "co_hit = cal_co_hit(valid_sessions_df['next_item'], retromae_session_candidates_df['next_item_prediction'], sasrec_session_candidates_df['candidates'])\n",
    "co_hit"
   ]
  }
 ],
 "metadata": {
  "kernelspec": {
   "display_name": "torch12",
   "language": "python",
   "name": "python3"
  },
  "language_info": {
   "codemirror_mode": {
    "name": "ipython",
    "version": 3
   },
   "file_extension": ".py",
   "mimetype": "text/x-python",
   "name": "python",
   "nbconvert_exporter": "python",
   "pygments_lexer": "ipython3",
   "version": "3.9.15"
  },
  "orig_nbformat": 4
 },
 "nbformat": 4,
 "nbformat_minor": 2
}
