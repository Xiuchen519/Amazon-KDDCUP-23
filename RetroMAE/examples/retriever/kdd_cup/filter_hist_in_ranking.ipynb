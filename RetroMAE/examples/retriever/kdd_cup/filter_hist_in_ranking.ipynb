{
 "cells": [
  {
   "cell_type": "code",
   "execution_count": 147,
   "metadata": {},
   "outputs": [],
   "source": [
    "import numpy as np\n",
    "import pandas as pd \n",
    "from tqdm import tqdm \n",
    "from functools import lru_cache\n",
    "import os "
   ]
  },
  {
   "cell_type": "code",
   "execution_count": 148,
   "metadata": {},
   "outputs": [],
   "source": [
    "recstudio_data_dir = '/root/autodl-tmp/xiaolong/WorkSpace/Amazon-KDDCUP-23/data_for_recstudio'\n",
    "raw_data_dir = '/root/autodl-tmp/xiaolong/WorkSpace/Amazon-KDDCUP-23/raw_data'"
   ]
  },
  {
   "cell_type": "code",
   "execution_count": 149,
   "metadata": {},
   "outputs": [],
   "source": [
    "@lru_cache(maxsize=1)\n",
    "def read_valid_data():\n",
    "    return pd.read_csv(os.path.join(recstudio_data_dir, 'all_task_1_valid_sessions.csv'))\n",
    "\n",
    "@lru_cache(maxsize=1)\n",
    "def read_product_data():\n",
    "    return pd.read_csv(os.path.join(raw_data_dir, 'products_train.csv'))"
   ]
  },
  {
   "cell_type": "code",
   "execution_count": 150,
   "metadata": {},
   "outputs": [
    {
     "data": {
      "text/plain": [
       "(                                                                                       prev_items   next_item locale\n",
       " 0  ['B09VSN9GLS' 'B09VSG9DCG' 'B0BJ5L1ZPH' 'B09VSN9GLS' 'B0BJ6V797Y'\\n 'B09VSG9DCG' 'B077XGDMD2']  B06XG1LZ6Z     UK\n",
       " 1                                                        ['B00390YWXE' 'B00390YWXE' 'B09WM9W6WQ']  B01MSUI4FE     JP\n",
       " 2                                                        ['B01BM9V6H8' 'B01MG55XDR' 'B07VYSSRL7']  B01M6625ME     UK\n",
       " 3               ['B092ZG24S7' 'B09BNHWWZM' 'B08CB1WG5M' '1788009975' '1839941960'\\n '1788009975']  0241558573     UK\n",
       " 4                                                                     ['B0B6NY5RM8' 'B09BJGBBBR']  B09BJF6N8K     JP,\n",
       " 361581)"
      ]
     },
     "execution_count": 150,
     "metadata": {},
     "output_type": "execute_result"
    }
   ],
   "source": [
    "valid_sessions_df = read_valid_data()\n",
    "valid_sessions_df.head(5), len(valid_sessions_df)"
   ]
  },
  {
   "cell_type": "code",
   "execution_count": 151,
   "metadata": {},
   "outputs": [
    {
     "data": {
      "text/plain": [
       "130665"
      ]
     },
     "execution_count": 151,
     "metadata": {},
     "output_type": "execute_result"
    }
   ],
   "source": [
    "valid_sessions_df = valid_sessions_df[valid_sessions_df['locale'] == 'UK'].reset_index(drop=True)\n",
    "len(valid_sessions_df)"
   ]
  },
  {
   "cell_type": "code",
   "execution_count": 152,
   "metadata": {},
   "outputs": [
    {
     "data": {
      "text/html": [
       "<div>\n",
       "<style scoped>\n",
       "    .dataframe tbody tr th:only-of-type {\n",
       "        vertical-align: middle;\n",
       "    }\n",
       "\n",
       "    .dataframe tbody tr th {\n",
       "        vertical-align: top;\n",
       "    }\n",
       "\n",
       "    .dataframe thead th {\n",
       "        text-align: right;\n",
       "    }\n",
       "</style>\n",
       "<table border=\"1\" class=\"dataframe\">\n",
       "  <thead>\n",
       "    <tr style=\"text-align: right;\">\n",
       "      <th></th>\n",
       "      <th>prev_items</th>\n",
       "      <th>next_item</th>\n",
       "      <th>locale</th>\n",
       "    </tr>\n",
       "  </thead>\n",
       "  <tbody>\n",
       "    <tr>\n",
       "      <th>0</th>\n",
       "      <td>['B09VSN9GLS' 'B09VSG9DCG' 'B0BJ5L1ZPH' 'B09VSN9GLS' 'B0BJ6V797Y'\\n 'B09VSG9DCG' 'B077XGDMD2']</td>\n",
       "      <td>B06XG1LZ6Z</td>\n",
       "      <td>UK</td>\n",
       "    </tr>\n",
       "    <tr>\n",
       "      <th>1</th>\n",
       "      <td>['B01BM9V6H8' 'B01MG55XDR' 'B07VYSSRL7']</td>\n",
       "      <td>B01M6625ME</td>\n",
       "      <td>UK</td>\n",
       "    </tr>\n",
       "    <tr>\n",
       "      <th>2</th>\n",
       "      <td>['B092ZG24S7' 'B09BNHWWZM' 'B08CB1WG5M' '1788009975' '1839941960'\\n '1788009975']</td>\n",
       "      <td>0241558573</td>\n",
       "      <td>UK</td>\n",
       "    </tr>\n",
       "    <tr>\n",
       "      <th>3</th>\n",
       "      <td>['B07V5LWSN5' 'B0BF1CGGSJ' 'B07W4DH45P' 'B08P395NWN' 'B08DNF166V'\\n 'B07W6JP96X' 'B0919KJY3B' 'B08JYCJ8GC' 'B08CDMG1GK' 'B09NBSLVZS'\\n 'B013SL1YXO']</td>\n",
       "      <td>B07W6J5FB2</td>\n",
       "      <td>UK</td>\n",
       "    </tr>\n",
       "    <tr>\n",
       "      <th>4</th>\n",
       "      <td>['B07P4CYP4S' 'B07P4CYP4S' 'B0B7XDNP5W']</td>\n",
       "      <td>B0B7XCS3QT</td>\n",
       "      <td>UK</td>\n",
       "    </tr>\n",
       "    <tr>\n",
       "      <th>...</th>\n",
       "      <td>...</td>\n",
       "      <td>...</td>\n",
       "      <td>...</td>\n",
       "    </tr>\n",
       "    <tr>\n",
       "      <th>130660</th>\n",
       "      <td>['B07GKM97YF' 'B07GKP2LCF']</td>\n",
       "      <td>B07GKYSHB4</td>\n",
       "      <td>UK</td>\n",
       "    </tr>\n",
       "    <tr>\n",
       "      <th>130661</th>\n",
       "      <td>['B0B2JCPSFK' 'B0B2HTT64B' 'B0BBWMJJTK']</td>\n",
       "      <td>B08QGSHVKV</td>\n",
       "      <td>UK</td>\n",
       "    </tr>\n",
       "    <tr>\n",
       "      <th>130662</th>\n",
       "      <td>['B086YQN87Q' 'B086DP9T8Z']</td>\n",
       "      <td>B09WTGMWXC</td>\n",
       "      <td>UK</td>\n",
       "    </tr>\n",
       "    <tr>\n",
       "      <th>130663</th>\n",
       "      <td>['B08Q67YV3S' 'B07Y36TGRS' 'B08Q67YV3S' 'B08BZFVK19']</td>\n",
       "      <td>B09C1YJS7D</td>\n",
       "      <td>UK</td>\n",
       "    </tr>\n",
       "    <tr>\n",
       "      <th>130664</th>\n",
       "      <td>['B08HH6L4PB' 'B08L8N8HDR']</td>\n",
       "      <td>B00TS5UXGY</td>\n",
       "      <td>UK</td>\n",
       "    </tr>\n",
       "  </tbody>\n",
       "</table>\n",
       "<p>130665 rows × 3 columns</p>\n",
       "</div>"
      ],
      "text/plain": [
       "                                                                                                                                                  prev_items   next_item locale\n",
       "0                                                             ['B09VSN9GLS' 'B09VSG9DCG' 'B0BJ5L1ZPH' 'B09VSN9GLS' 'B0BJ6V797Y'\\n 'B09VSG9DCG' 'B077XGDMD2']  B06XG1LZ6Z     UK\n",
       "1                                                                                                                   ['B01BM9V6H8' 'B01MG55XDR' 'B07VYSSRL7']  B01M6625ME     UK\n",
       "2                                                                          ['B092ZG24S7' 'B09BNHWWZM' 'B08CB1WG5M' '1788009975' '1839941960'\\n '1788009975']  0241558573     UK\n",
       "3       ['B07V5LWSN5' 'B0BF1CGGSJ' 'B07W4DH45P' 'B08P395NWN' 'B08DNF166V'\\n 'B07W6JP96X' 'B0919KJY3B' 'B08JYCJ8GC' 'B08CDMG1GK' 'B09NBSLVZS'\\n 'B013SL1YXO']  B07W6J5FB2     UK\n",
       "4                                                                                                                   ['B07P4CYP4S' 'B07P4CYP4S' 'B0B7XDNP5W']  B0B7XCS3QT     UK\n",
       "...                                                                                                                                                      ...         ...    ...\n",
       "130660                                                                                                                           ['B07GKM97YF' 'B07GKP2LCF']  B07GKYSHB4     UK\n",
       "130661                                                                                                              ['B0B2JCPSFK' 'B0B2HTT64B' 'B0BBWMJJTK']  B08QGSHVKV     UK\n",
       "130662                                                                                                                           ['B086YQN87Q' 'B086DP9T8Z']  B09WTGMWXC     UK\n",
       "130663                                                                                                 ['B08Q67YV3S' 'B07Y36TGRS' 'B08Q67YV3S' 'B08BZFVK19']  B09C1YJS7D     UK\n",
       "130664                                                                                                                           ['B08HH6L4PB' 'B08L8N8HDR']  B00TS5UXGY     UK\n",
       "\n",
       "[130665 rows x 3 columns]"
      ]
     },
     "execution_count": 152,
     "metadata": {},
     "output_type": "execute_result"
    }
   ],
   "source": [
    "valid_sessions_df"
   ]
  },
  {
   "cell_type": "code",
   "execution_count": 153,
   "metadata": {},
   "outputs": [],
   "source": [
    "session_candidates = [[] for _ in range(len(valid_sessions_df))]"
   ]
  },
  {
   "cell_type": "code",
   "execution_count": 154,
   "metadata": {},
   "outputs": [
    {
     "data": {
      "text/plain": [
       "(130665, 0)"
      ]
     },
     "execution_count": 154,
     "metadata": {},
     "output_type": "execute_result"
    }
   ],
   "source": [
    "len(session_candidates), len(session_candidates[0])"
   ]
  },
  {
   "cell_type": "code",
   "execution_count": 155,
   "metadata": {},
   "outputs": [],
   "source": [
    "with open('./valid_results/valid_UK_ranking.txt', 'r') as f:\n",
    "    for line in f:\n",
    "        session_list = line.split('\\t')\n",
    "        session_id = session_list[0]\n",
    "        product = session_list[1]\n",
    "        session_candidates[int(session_id)].append(product.split('_')[0])\n"
   ]
  },
  {
   "cell_type": "code",
   "execution_count": 156,
   "metadata": {},
   "outputs": [
    {
     "data": {
      "text/plain": [
       "(130665, 350)"
      ]
     },
     "execution_count": 156,
     "metadata": {},
     "output_type": "execute_result"
    }
   ],
   "source": [
    "len(session_candidates), len(session_candidates[0])\n"
   ]
  },
  {
   "cell_type": "code",
   "execution_count": 1,
   "metadata": {},
   "outputs": [
    {
     "ename": "NameError",
     "evalue": "name 'tqdm' is not defined",
     "output_type": "error",
     "traceback": [
      "\u001b[0;31m---------------------------------------------------------------------------\u001b[0m",
      "\u001b[0;31mNameError\u001b[0m                                 Traceback (most recent call last)",
      "Cell \u001b[0;32mIn[1], line 2\u001b[0m\n\u001b[1;32m      1\u001b[0m \u001b[39m# history is filtered\u001b[39;00m\n\u001b[0;32m----> 2\u001b[0m \u001b[39mfor\u001b[39;00m i \u001b[39min\u001b[39;00m tqdm(\u001b[39mrange\u001b[39m(\u001b[39mlen\u001b[39m(session_candidates))):\n\u001b[1;32m      3\u001b[0m     new_candidates \u001b[39m=\u001b[39m []\n\u001b[1;32m      4\u001b[0m     hist_candidates \u001b[39m=\u001b[39m \u001b[39meval\u001b[39m(valid_sessions_df\u001b[39m.\u001b[39miloc[i][\u001b[39m'\u001b[39m\u001b[39mprev_items\u001b[39m\u001b[39m'\u001b[39m]\u001b[39m.\u001b[39mreplace(\u001b[39m'\u001b[39m\u001b[39m \u001b[39m\u001b[39m'\u001b[39m, \u001b[39m'\u001b[39m\u001b[39m,\u001b[39m\u001b[39m'\u001b[39m))\n",
      "\u001b[0;31mNameError\u001b[0m: name 'tqdm' is not defined"
     ]
    }
   ],
   "source": [
    "# history is filtered\n",
    "for i in tqdm(range(len(session_candidates))):\n",
    "    new_candidates = []\n",
    "    hist_candidates = eval(valid_sessions_df.iloc[i]['prev_items'].replace(' ', ','))\n",
    "    for product in session_candidates[i]:\n",
    "        if product not in hist_candidates:\n",
    "            new_candidates.append(product)\n",
    "    session_candidates[i] = new_candidates[:300]"
   ]
  },
  {
   "cell_type": "code",
   "execution_count": 158,
   "metadata": {},
   "outputs": [
    {
     "data": {
      "text/html": [
       "<div>\n",
       "<style scoped>\n",
       "    .dataframe tbody tr th:only-of-type {\n",
       "        vertical-align: middle;\n",
       "    }\n",
       "\n",
       "    .dataframe tbody tr th {\n",
       "        vertical-align: top;\n",
       "    }\n",
       "\n",
       "    .dataframe thead th {\n",
       "        text-align: right;\n",
       "    }\n",
       "</style>\n",
       "<table border=\"1\" class=\"dataframe\">\n",
       "  <thead>\n",
       "    <tr style=\"text-align: right;\">\n",
       "      <th></th>\n",
       "      <th>locale</th>\n",
       "      <th>next_item_prediction</th>\n",
       "    </tr>\n",
       "  </thead>\n",
       "  <tbody>\n",
       "    <tr>\n",
       "      <th>0</th>\n",
       "      <td>UK</td>\n",
       "      <td>[B06XGD9VLV, B06XG1LZ6Z, B06XGDZVZR, B0BJQ95XWV, B09WVLM2TB, B09XDVQFWD, B0BJ66G5LN, B0B2N3RGMF, B09BD65VSF, B09NPZPKYQ, B09NQ1GK4P, B08BNH48JM, B09DXD4STW, B087FB54VN, B087DYVDXL, B087F749NB, B098QH6122, B09P54SPTQ, B09P52T43Z, B095NZWZDH, B07FCBV2Q5, B077VSMJ8R, B0B2JT2BND, B08F7P8R6D, B0B2JSKN7X, B01HF2A8PC, B097DM36WD, B0B9BKBCLC, B084ZQ5JF4, B09TP6PWNB, B09SLBY68P, B077VXHCCH, B07BK7HMN2, B09TW5134P, B085Y1L7LX, B085Y1DP3P, B07G5ZSNY2, B08VN7FMLT, B09WM8JX9T, B07BK7739T, B07BK7HZ2L, B09XQSP9LD, B09T6QTGC8, B097Y7S2KY, B097Y7MDHN, B084ZQ2NW8, B09W1V6Q3M, B098QF9QPP, B00I0UKKD4, B09TZS4S2Z, B07TH98T68, B07TGBMC72, B084ZPN91X, B092ZQDZF5, B07TBQB8FK, B09TWBBFY9, B09FY916F1, B077VXNL6H, B083QXSY66, B084QF8P74, B079BL4CPZ, B01MPYILA7, B01MYUDYP7, B07SNHRTSW, B07WQ4B3WZ, B097PVPKV4, B09FY7VX9S, B09YXB4JKW, B077VX8Q12, B082L9D9R4, B09SPZ3RT1, B076PN1SKG, B084ZPL21L, B077VXNL67, B077VWJYHT, B07RNZZ89K, B07RMJ5X1R, B07RK95WGT, B07T8FX6L2, B072HCH1R2, B0728GGX6Y, B071XXBXDT, B01MZXG8J0,...</td>\n",
       "    </tr>\n",
       "    <tr>\n",
       "      <th>1</th>\n",
       "      <td>UK</td>\n",
       "      <td>[B00JLH125A, B09GGGFKFR, B015DVC6G6, B017A0OY86, B00KP0UETW, B06XX9W93F, B00L17OXRM, B0B6CTFYX6, B01GJ6ICYO, B07VS2H3P6, B01M8KBTGW, B09X5XLZR9, B0BGSX7DL5, B07BMG1S8X, B01IT3KVB2, B09XBQ8XSK, B01M8I1WX4, B01MG1CO07, B01LPOSCBI, B01CDUR2S2, B07GJS6QNP, B01MDOBUCC, B079WKK1B2, B0BG647MF9, B0B1D4665T, B07D3GG47V, B0B6CW5HCN, B09GB1312D, B09QJ2N5C2, B0744HJQK9, B091G673KC, B01F02DYLY, B01MQ62UJV, B081NBB59N, B00HP48OCU, B096YFM2K5, B01MAYMOCG, B01CNSNSPA, B01CCZ4LNM, B09XBQ5DSZ, B091G35Q5T, B01LF3WD6O, B091G67DJ9, B00M4GYASG, B01LPOS1W8, B01M7ULTTN, B07115S814, B09TRRX7XT, B01N20N3FB, B0BB3F54F5, B0B1QK35XL, B094DMFLC6, B07GJS6QPF, B00CD31U24, B08SK6SPCP, B00FQV015C, B01JZTY29Q, B08DJR5NWN, B09P1PFV3H, B01N2G0TLF, B01IT3KKNQ, B01CJSI624, B01MU1PF62, B08F2Q6FRX, B00H0GFY3K, B01GJ6ICVC, B01AWH5AW8, B08FMKZFV2, B073PGNDTP, B0B6CW77DS, B01EYKV5U0, B01GRWA4F0, B01AWH4JFC, B01IB2SSA2, B01IT3KURW, B0BF62Q3Z7, B01BNLTTRE, B01NCB79N3, B0BC9SBPN8, B00JLH126Y, B07CT2JP2L, B075VVPVSL, B01CNSNSHI,...</td>\n",
       "    </tr>\n",
       "    <tr>\n",
       "      <th>2</th>\n",
       "      <td>UK</td>\n",
       "      <td>[1406357383, 1406363073, B0BGY899Q5, B074G22VZC, 0008544840, 0008305749, B01M5EBAO4, B07G4MNXPZ, B0BGF31237, 0439873770, B00E32X422, 0552545104, B09ZTG7344, 1405296895, B07XYYX7ZM, B09GXHNH7F, 1801313652, B0BJ54PZV6, B095LR178T, 140528272X, B0154LBMFG, B08D6DD4NG, B0BC1FTLZS, 1405290528, B0B7L5LPLW, 0593125177, 024135739X, 000847902X, 1408354403, 1841215651, 184869069X, B09XB5G823, B0B6F3FGQZ, B09ZTGMS34, B09ZSMGFMT, B098NHBNR6, B07W5V4Q6B, B097H5X5M1, B0B8DWYPK6, 0803738412, 1509804773, B00IMKXIBI, 150983043X, B07X9LJST9, 1529025346, 0241456541, B07HMVLQB2, 0141376147, 0141376139, B009S8AZ64, B08DP195R4, B095YMFCGR, 0241357349, 0241357306, B097JZ86B5, 1787009726, 1803700890, B08CL1L5M3, B097JK5BSK, 1407170740, B09BL1NLS1, B09734YB3P, B07X95M3RV, B0BBXLD735, B08FJ29PYV, B09C1WPN4K, B094R357SS, B09F3Q6MNZ, B09BQT82M3, 1801314918, 152906421X, B0B778ZK32, B08HD2BDLP, B07GY2JB9H, B08BVXRTMM, B094QTHLMH, B09DN1FKN1, B09BVWGLDY, 0008560749, B09BVWTKM6, B087MVYZ3C, B0B1ZM95GZ, B0933FSJRZ,...</td>\n",
       "    </tr>\n",
       "    <tr>\n",
       "      <th>3</th>\n",
       "      <td>UK</td>\n",
       "      <td>[B013SL2712, B07W6JP976, B07W6JJ253, B07W7LHVBM, B07W4DHYR9, B07W7L11LJ, B013SL2050, B01GV6HP0E, B013SL26LS, B07W4DHYLC, B002MMY4WY, B004N627KS, B0BF1D5W4D, B00A389JEW, B08FBZW5QD, B08FBZ8QSL, B08FBZVDM5, B00XJ3LVPI, B0957ZDFJ2, B0074486GA, B0055JDM06, B07K2PK3BV, B08HKYNY73, B0B8C4Z38P, B09NXMPRGG, B016NY7784, B07W7K1LRV, B095BXKSFP, B09G344JRY, B07W4DG8RR, B00OK49SMI, B09JKDYY3B, B085RGMMV4, B07TH9L7QR, B07W6HPP3R, B08J7ZP1J3, B07W5JK5RN, B07W7K8MW2, B07V3HG2YD, B0B97XCNL2, B0B925S1HT, B09JLRPVP7, B07JJYLKQ2, B003ZY9Z40, B0B599ZN13, B096XW7WBL, B08T5QJCTM, B07W6JLQCY, B07Y3T2XXV, B0B6PQKG78, B09HTW1QMJ, B0B8SRBV4R, B08W55GSTV, B0B599KRXJ, B081Z3VZS5, B019O1R4DQ, B07XRFMG5B, B01EHSLFAY, B08MLBPNQY, B08CXF9WF5, B085WYXXLF, B07W4DH1Y5, B07W7JLVCL, B07W6J5FB2, B08CH44W4S, B08BCJNMGP, B09WYJQG64, B09MFL38PC, B0B3926J39, B00CL6353A, B00X5P80IQ, B07XTGS1J3, B0B8NKMT5S, B085XGLXRJ, B07XYM62G6, B01MT5WLHY, B0919LWWS3, B0B58RQZZM, B0BB1YRSL3, B09QPYFTWG, B0BB1TXNGR, B09MFJ3CL2, B0B38Z6VXY,...</td>\n",
       "    </tr>\n",
       "    <tr>\n",
       "      <th>4</th>\n",
       "      <td>UK</td>\n",
       "      <td>[B0B7XCS3QT, B077P3D31Q, B098JJLSWX, B08PYWFGB7, B09HXS33L6, B089NGVWH5, B09HXSN34F, B08HJYHLKF, B08HJZSGDX, B07DKDGRRK, B07ZKNRXFS, B09GVP3BLN, B0B37CCBC6, B096XR7M84, B099RH2VXQ, B06XDNR6RN, B071Z5N512, B072328JCG, B087PBHCV7, B07TX9SHD7, B086MDQKTH, B01JPHOXXI, B0719GMR2V, B086WMSGS2, B09572M4GJ, B01M3O39UJ, B082SR5T5C, B09YH7Q2SQ, B09N959VPS, B09MKM9YP3, B08L37JB23, B0859RQZW7, B07TXJTKW9, B0859RPQNW, B00KB225MS, B013FYQZX8, B08B5Q7YJT, B0991PLCTY, B00ECGYLB2, B0BG5TTP7Y, B0084EN22C, B000JDM9TI, B0BGHN9TXM, B000NZKHKU, B0859R3VDP, B07TTBBT49, B09TRX5VR3, B09YCR1KWN, B082XTPD7G, B08TGFRVLF, B09WN4SLK4, B09MKY21W9, B091H97M68, B08H2C5G7G, B06XRJVNWG, B08VWHGLQJ, B000CCDBRK, B0741KFHP2, B07FTPYTBZ, B0B6PJXXY8, B09TRWLQBZ, B09TRTQ6RN, B08D98JH56, B074TRY94M, B07PL64S23, B077RJDV19, B09ZBDZHRR, B082XTB8PM, B086V91L86, B0989MY6DB, B09TRWP5H5, B08P9CRZ9H, B07FYK8NBW, B07YLFRHNV, B09TRG25HZ, B09NSP23Y8, B09KLTB35G, B09M692V9T, B00I8S7L62, B09MHJN3W9, B0BCJ3D5SY, B09W5MV929, B09T94YB8L,...</td>\n",
       "    </tr>\n",
       "  </tbody>\n",
       "</table>\n",
       "</div>"
      ],
      "text/plain": [
       "  locale  \\\n",
       "0     UK   \n",
       "1     UK   \n",
       "2     UK   \n",
       "3     UK   \n",
       "4     UK   \n",
       "\n",
       "                                                                                                                                                                                                                                                                                                                                                                                                                                                                                                                                                                                                                                                                                                                                                                                                                                                                                                                                                                                                                      next_item_prediction  \n",
       "0  [B06XGD9VLV, B06XG1LZ6Z, B06XGDZVZR, B0BJQ95XWV, B09WVLM2TB, B09XDVQFWD, B0BJ66G5LN, B0B2N3RGMF, B09BD65VSF, B09NPZPKYQ, B09NQ1GK4P, B08BNH48JM, B09DXD4STW, B087FB54VN, B087DYVDXL, B087F749NB, B098QH6122, B09P54SPTQ, B09P52T43Z, B095NZWZDH, B07FCBV2Q5, B077VSMJ8R, B0B2JT2BND, B08F7P8R6D, B0B2JSKN7X, B01HF2A8PC, B097DM36WD, B0B9BKBCLC, B084ZQ5JF4, B09TP6PWNB, B09SLBY68P, B077VXHCCH, B07BK7HMN2, B09TW5134P, B085Y1L7LX, B085Y1DP3P, B07G5ZSNY2, B08VN7FMLT, B09WM8JX9T, B07BK7739T, B07BK7HZ2L, B09XQSP9LD, B09T6QTGC8, B097Y7S2KY, B097Y7MDHN, B084ZQ2NW8, B09W1V6Q3M, B098QF9QPP, B00I0UKKD4, B09TZS4S2Z, B07TH98T68, B07TGBMC72, B084ZPN91X, B092ZQDZF5, B07TBQB8FK, B09TWBBFY9, B09FY916F1, B077VXNL6H, B083QXSY66, B084QF8P74, B079BL4CPZ, B01MPYILA7, B01MYUDYP7, B07SNHRTSW, B07WQ4B3WZ, B097PVPKV4, B09FY7VX9S, B09YXB4JKW, B077VX8Q12, B082L9D9R4, B09SPZ3RT1, B076PN1SKG, B084ZPL21L, B077VXNL67, B077VWJYHT, B07RNZZ89K, B07RMJ5X1R, B07RK95WGT, B07T8FX6L2, B072HCH1R2, B0728GGX6Y, B071XXBXDT, B01MZXG8J0,...  \n",
       "1  [B00JLH125A, B09GGGFKFR, B015DVC6G6, B017A0OY86, B00KP0UETW, B06XX9W93F, B00L17OXRM, B0B6CTFYX6, B01GJ6ICYO, B07VS2H3P6, B01M8KBTGW, B09X5XLZR9, B0BGSX7DL5, B07BMG1S8X, B01IT3KVB2, B09XBQ8XSK, B01M8I1WX4, B01MG1CO07, B01LPOSCBI, B01CDUR2S2, B07GJS6QNP, B01MDOBUCC, B079WKK1B2, B0BG647MF9, B0B1D4665T, B07D3GG47V, B0B6CW5HCN, B09GB1312D, B09QJ2N5C2, B0744HJQK9, B091G673KC, B01F02DYLY, B01MQ62UJV, B081NBB59N, B00HP48OCU, B096YFM2K5, B01MAYMOCG, B01CNSNSPA, B01CCZ4LNM, B09XBQ5DSZ, B091G35Q5T, B01LF3WD6O, B091G67DJ9, B00M4GYASG, B01LPOS1W8, B01M7ULTTN, B07115S814, B09TRRX7XT, B01N20N3FB, B0BB3F54F5, B0B1QK35XL, B094DMFLC6, B07GJS6QPF, B00CD31U24, B08SK6SPCP, B00FQV015C, B01JZTY29Q, B08DJR5NWN, B09P1PFV3H, B01N2G0TLF, B01IT3KKNQ, B01CJSI624, B01MU1PF62, B08F2Q6FRX, B00H0GFY3K, B01GJ6ICVC, B01AWH5AW8, B08FMKZFV2, B073PGNDTP, B0B6CW77DS, B01EYKV5U0, B01GRWA4F0, B01AWH4JFC, B01IB2SSA2, B01IT3KURW, B0BF62Q3Z7, B01BNLTTRE, B01NCB79N3, B0BC9SBPN8, B00JLH126Y, B07CT2JP2L, B075VVPVSL, B01CNSNSHI,...  \n",
       "2  [1406357383, 1406363073, B0BGY899Q5, B074G22VZC, 0008544840, 0008305749, B01M5EBAO4, B07G4MNXPZ, B0BGF31237, 0439873770, B00E32X422, 0552545104, B09ZTG7344, 1405296895, B07XYYX7ZM, B09GXHNH7F, 1801313652, B0BJ54PZV6, B095LR178T, 140528272X, B0154LBMFG, B08D6DD4NG, B0BC1FTLZS, 1405290528, B0B7L5LPLW, 0593125177, 024135739X, 000847902X, 1408354403, 1841215651, 184869069X, B09XB5G823, B0B6F3FGQZ, B09ZTGMS34, B09ZSMGFMT, B098NHBNR6, B07W5V4Q6B, B097H5X5M1, B0B8DWYPK6, 0803738412, 1509804773, B00IMKXIBI, 150983043X, B07X9LJST9, 1529025346, 0241456541, B07HMVLQB2, 0141376147, 0141376139, B009S8AZ64, B08DP195R4, B095YMFCGR, 0241357349, 0241357306, B097JZ86B5, 1787009726, 1803700890, B08CL1L5M3, B097JK5BSK, 1407170740, B09BL1NLS1, B09734YB3P, B07X95M3RV, B0BBXLD735, B08FJ29PYV, B09C1WPN4K, B094R357SS, B09F3Q6MNZ, B09BQT82M3, 1801314918, 152906421X, B0B778ZK32, B08HD2BDLP, B07GY2JB9H, B08BVXRTMM, B094QTHLMH, B09DN1FKN1, B09BVWGLDY, 0008560749, B09BVWTKM6, B087MVYZ3C, B0B1ZM95GZ, B0933FSJRZ,...  \n",
       "3  [B013SL2712, B07W6JP976, B07W6JJ253, B07W7LHVBM, B07W4DHYR9, B07W7L11LJ, B013SL2050, B01GV6HP0E, B013SL26LS, B07W4DHYLC, B002MMY4WY, B004N627KS, B0BF1D5W4D, B00A389JEW, B08FBZW5QD, B08FBZ8QSL, B08FBZVDM5, B00XJ3LVPI, B0957ZDFJ2, B0074486GA, B0055JDM06, B07K2PK3BV, B08HKYNY73, B0B8C4Z38P, B09NXMPRGG, B016NY7784, B07W7K1LRV, B095BXKSFP, B09G344JRY, B07W4DG8RR, B00OK49SMI, B09JKDYY3B, B085RGMMV4, B07TH9L7QR, B07W6HPP3R, B08J7ZP1J3, B07W5JK5RN, B07W7K8MW2, B07V3HG2YD, B0B97XCNL2, B0B925S1HT, B09JLRPVP7, B07JJYLKQ2, B003ZY9Z40, B0B599ZN13, B096XW7WBL, B08T5QJCTM, B07W6JLQCY, B07Y3T2XXV, B0B6PQKG78, B09HTW1QMJ, B0B8SRBV4R, B08W55GSTV, B0B599KRXJ, B081Z3VZS5, B019O1R4DQ, B07XRFMG5B, B01EHSLFAY, B08MLBPNQY, B08CXF9WF5, B085WYXXLF, B07W4DH1Y5, B07W7JLVCL, B07W6J5FB2, B08CH44W4S, B08BCJNMGP, B09WYJQG64, B09MFL38PC, B0B3926J39, B00CL6353A, B00X5P80IQ, B07XTGS1J3, B0B8NKMT5S, B085XGLXRJ, B07XYM62G6, B01MT5WLHY, B0919LWWS3, B0B58RQZZM, B0BB1YRSL3, B09QPYFTWG, B0BB1TXNGR, B09MFJ3CL2, B0B38Z6VXY,...  \n",
       "4  [B0B7XCS3QT, B077P3D31Q, B098JJLSWX, B08PYWFGB7, B09HXS33L6, B089NGVWH5, B09HXSN34F, B08HJYHLKF, B08HJZSGDX, B07DKDGRRK, B07ZKNRXFS, B09GVP3BLN, B0B37CCBC6, B096XR7M84, B099RH2VXQ, B06XDNR6RN, B071Z5N512, B072328JCG, B087PBHCV7, B07TX9SHD7, B086MDQKTH, B01JPHOXXI, B0719GMR2V, B086WMSGS2, B09572M4GJ, B01M3O39UJ, B082SR5T5C, B09YH7Q2SQ, B09N959VPS, B09MKM9YP3, B08L37JB23, B0859RQZW7, B07TXJTKW9, B0859RPQNW, B00KB225MS, B013FYQZX8, B08B5Q7YJT, B0991PLCTY, B00ECGYLB2, B0BG5TTP7Y, B0084EN22C, B000JDM9TI, B0BGHN9TXM, B000NZKHKU, B0859R3VDP, B07TTBBT49, B09TRX5VR3, B09YCR1KWN, B082XTPD7G, B08TGFRVLF, B09WN4SLK4, B09MKY21W9, B091H97M68, B08H2C5G7G, B06XRJVNWG, B08VWHGLQJ, B000CCDBRK, B0741KFHP2, B07FTPYTBZ, B0B6PJXXY8, B09TRWLQBZ, B09TRTQ6RN, B08D98JH56, B074TRY94M, B07PL64S23, B077RJDV19, B09ZBDZHRR, B082XTB8PM, B086V91L86, B0989MY6DB, B09TRWP5H5, B08P9CRZ9H, B07FYK8NBW, B07YLFRHNV, B09TRG25HZ, B09NSP23Y8, B09KLTB35G, B09M692V9T, B00I8S7L62, B09MHJN3W9, B0BCJ3D5SY, B09W5MV929, B09T94YB8L,...  "
      ]
     },
     "execution_count": 158,
     "metadata": {},
     "output_type": "execute_result"
    }
   ],
   "source": [
    "valid_predict_df = pd.DataFrame({'locale' : valid_sessions_df['locale'], 'next_item_prediction' : session_candidates}).reset_index(drop=True)\n",
    "valid_predict_df.head(5)"
   ]
  },
  {
   "cell_type": "code",
   "execution_count": 159,
   "metadata": {},
   "outputs": [],
   "source": [
    "def cal_hit_and_mrr(ground_truth_list, candidates_list):\n",
    "    hits, mrrs = [], []\n",
    "    for i in tqdm(range(len(ground_truth_list))):\n",
    "        ground_truth = ground_truth_list.iloc[i]\n",
    "        candidates = candidates_list.iloc[i]\n",
    "        hit, mrr = 0.0, 0.0\n",
    "        for j in range(len(candidates)):\n",
    "            if ground_truth == candidates[j]:\n",
    "                hit = 1.0\n",
    "                mrr = 1.0 / (j + 1)\n",
    "                break\n",
    "        hits.append(hit)\n",
    "        mrrs.append(mrr)\n",
    "    return np.array(hits).mean(), np.array(mrrs).mean()"
   ]
  },
  {
   "cell_type": "code",
   "execution_count": 160,
   "metadata": {},
   "outputs": [
    {
     "name": "stderr",
     "output_type": "stream",
     "text": [
      "100%|██████████| 130665/130665 [00:02<00:00, 45920.32it/s]\n"
     ]
    },
    {
     "data": {
      "text/plain": [
       "(0.7314047373053227, 0.24190486057082744)"
      ]
     },
     "execution_count": 160,
     "metadata": {},
     "output_type": "execute_result"
    }
   ],
   "source": [
    "cal_hit_and_mrr(valid_sessions_df['next_item'], valid_predict_df['next_item_prediction'])"
   ]
  },
  {
   "cell_type": "code",
   "execution_count": 170,
   "metadata": {},
   "outputs": [
    {
     "name": "stderr",
     "output_type": "stream",
     "text": [
      "100%|██████████| 130665/130665 [00:02<00:00, 57812.77it/s]\n"
     ]
    },
    {
     "data": {
      "text/plain": [
       "(0.6577201239811732, 0.24143956782486917)"
      ]
     },
     "execution_count": 170,
     "metadata": {},
     "output_type": "execute_result"
    }
   ],
   "source": [
    "cal_hit_and_mrr(valid_sessions_df['next_item'], valid_predict_df['next_item_prediction'].apply(lambda x : x[:100]))"
   ]
  },
  {
   "cell_type": "code",
   "execution_count": 169,
   "metadata": {},
   "outputs": [],
   "source": [
    "valid_predict_df.to_parquet('./valid_results/valid_prediction.parquet', engine='pyarrow')"
   ]
  },
  {
   "cell_type": "code",
   "execution_count": 146,
   "metadata": {},
   "outputs": [],
   "source": [
    "product_data = read_product_data()\n",
    "product_data = product_data.set_index('id')"
   ]
  },
  {
   "cell_type": "code",
   "execution_count": 171,
   "metadata": {},
   "outputs": [],
   "source": [
    "def compare_title(index):\n",
    "    print('********last item*********')\n",
    "    prev_items = eval(valid_sessions_df.iloc[index]['prev_items'].replace(' ', ','))\n",
    "    last_item = prev_items[-1]\n",
    "    last_item_title = product_data.loc[last_item][['title']]\n",
    "    print(last_item_title)\n",
    "    print('*******ground truth*******')\n",
    "    next_item = valid_sessions_df.iloc[index]['next_item']\n",
    "    next_item_title = product_data.loc[next_item][['title']]\n",
    "    print(next_item_title)\n",
    "    print('*******prediction*********')\n",
    "    for i in range(5):\n",
    "        print(f'No. {i} : ')\n",
    "        candidate = valid_predict_df.iloc[index]['next_item_prediction'][i]\n",
    "        predict_title = product_data.loc[candidate][['title']]\n",
    "        print(predict_title)"
   ]
  },
  {
   "cell_type": "code",
   "execution_count": 172,
   "metadata": {},
   "outputs": [
    {
     "name": "stdout",
     "output_type": "stream",
     "text": [
      "********last item*********\n",
      "title    Police Hat Outfit Accessory for Police Cops Fancy Dress\n",
      "Name: B0057WXSNC, dtype: object\n",
      "*******ground truth*******\n",
      "title    HAT POLICEMAN ADULT (beanie/hat)\n",
      "Name: B005CC679E, dtype: object\n",
      "*******prediction*********\n",
      "No. 0 : \n",
      "title    ADULTS POLICE HAT STAG NIGHT HAT - POLICE OFFICER HAT POLICEMAN'S CAP FOR FANCY DRESS - ONE SIZE FITS MOST PANDA HAT\n",
      "Name: B00I4YCLIS, dtype: object\n",
      "No. 1 : \n",
      "title    WPC Hat Outfit Accessory for Police Cops Fancy Dress\n",
      "Name: B0054YL9I4, dtype: object\n",
      "No. 2 : \n",
      "title    Smiffys Police Panda Cap Fabric Check Band - Black\n",
      "Name: B000LWCN98, dtype: object\n",
      "No. 3 : \n",
      "title    1X POLICE PANDA CAP FANCY DRESS ACCESSORY CAP HAT WITH CHECKED BAND & BADGE BULK COP HATS\n",
      "Name: B071NNN1QM, dtype: object\n",
      "No. 4 : \n",
      "title    Lizzy Adult Policeman Hat Police Cop Fancy Dress Costume Peak Cap With Check Band and Handcuffs (Unisex Police Hat & Metal handcuff)\n",
      "Name: B06XQZ2X1T, dtype: object\n"
     ]
    }
   ],
   "source": [
    "compare_title(200)"
   ]
  },
  {
   "cell_type": "code",
   "execution_count": 95,
   "metadata": {},
   "outputs": [
    {
     "name": "stdout",
     "output_type": "stream",
     "text": [
      "********last item*********\n",
      "title    edding 22 EcoLine permanent marker set - black, red, blue, green - 4 pens - chisel nib 1-5 mm - waterproof, quick-drying, smear-proof pens - for cardboard, plastic, glass, wood, metal and fabric\n",
      "Name: B001E39KGW, dtype: object\n",
      "*******ground truth*******\n",
      "title    STAEDTLER 341 WP6 Lumocolor whiteboard compact markers, pack of 6 assorted colours\n",
      "Name: B07GS12BSQ, dtype: object\n",
      "*******prediction*********\n",
      "No. 0 : \n",
      "                                                                                                                                                                                                title\n",
      "id                                                                                                                                                                                                   \n",
      "B00473V0N2  edding 21 EcoLine permanent marker - black - 1 pen - round nib 1.5-3 mm - waterproof, quick-drying, smear-proof pens - for cardboard, plastic, glass, wood, metal and fabric - refillable\n",
      "B00473V0N2    edding 21 EcoLine marqueur permanent - noir - 1 stylo - pointe ronde 1,5-3 mm - sèche vite - résiste à l'eau et à l'essuyage - pour carton, plastique, bois, métal - marqueur universel\n",
      "No. 1 : \n",
      "                                                                                                                                                                                                    title\n",
      "id                                                                                                                                                                                                       \n",
      "B001O3M56O  edding 21 Ecoline permanent marker - black - box of 10 - round tip 1.5-3 mm - waterproof, quick-drying, smear-proof pens - for cardboard, plastic, glass, wood, metal and fabric - refillable\n",
      "B001O3M56O      edding 21 EcoLine marqueur permanent - noir - 10 stylos - pointe ronde 1,5-3 mm - sèche vite - résiste à l'eau et à l'essuyage - pour carton, plastique, bois, métal - marqueur universel\n",
      "No. 2 : \n",
      "                                                                                                                                                                                                       title\n",
      "id                                                                                                                                                                                                          \n",
      "B016KJFD1K  edding 25 Ecoline Permanentmarker - schwarz - 1 Stift - Rund-Spitze 1 mm - schnell trocknender Permanent Marker - wasserfest, wischfest - für Karton, Kunststoff, Holz, Metall - Universalmarker\n",
      "B016KJFD1K             edding 25 Ecoline permanent marker - black - 1 pen - round tip 1 mm - waterproof, quick-drying, smear-proof pens - for cardboard, plastic, glass, wood, metal and fabric - refillable\n",
      "B016KJFD1K          edding 25 EcoLine marqueur permanent - noir - 1 stylo - pointe ronde fine 1 mm - sèche vite - résiste à l'eau et à l'essuyage - pour carton, plastique, bois, métal - marqueur universel\n",
      "No. 3 : \n",
      "title    whiteboard markers whiteboard pens:12 Magnetic Whiteboard Pens and Eraser set, 12 Colors Fine Tip Whiteboard Markers, Low-Odor, Non-Toxic Fine Point Pens\n",
      "Name: B08SW9XZBL, dtype: object\n",
      "No. 4 : \n",
      "title    Paper Mate Low Odour Whiteboard Markers, Bullet Tip, Assorted Ink Colours, 4 Count\n",
      "Name: B07XC4LQBJ, dtype: object\n"
     ]
    }
   ],
   "source": [
    "compare_title(100)\n"
   ]
  },
  {
   "cell_type": "code",
   "execution_count": 68,
   "metadata": {},
   "outputs": [],
   "source": [
    "pd.set_option('max_colwidth',1000)"
   ]
  },
  {
   "cell_type": "code",
   "execution_count": 82,
   "metadata": {},
   "outputs": [
    {
     "data": {
      "text/plain": [
       "prev_items    ['B0132XVLDG' 'B0132XVLDG' 'B00NFR1M7U' 'B00NFR1M7U' 'B09L1LZ991']\n",
       "next_item                                                             B09L1LZ991\n",
       "locale                                                                        UK\n",
       "Name: 1000, dtype: object"
      ]
     },
     "execution_count": 82,
     "metadata": {},
     "output_type": "execute_result"
    }
   ],
   "source": [
    "valid_sessions_df.iloc[1000]"
   ]
  },
  {
   "cell_type": "code",
   "execution_count": 97,
   "metadata": {},
   "outputs": [
    {
     "name": "stdout",
     "output_type": "stream",
     "text": [
      "********last item*********\n",
      "                                                                                                               title\n",
      "id                                                                                                                  \n",
      "B09L1LZ991  Eveready Gold Batterien AA, 40 Stück, Langlebige Batterien für Haushaltsgeräte Alkaline, Amazon-exklusiv\n",
      "B09L1LZ991                                           Eveready Gold Alkaline AA Batteries, 40 Pack [Amazon Exclusive]\n",
      "*******ground truth*******\n",
      "                                                                                                               title\n",
      "id                                                                                                                  \n",
      "B09L1LZ991  Eveready Gold Batterien AA, 40 Stück, Langlebige Batterien für Haushaltsgeräte Alkaline, Amazon-exklusiv\n",
      "B09L1LZ991                                           Eveready Gold Alkaline AA Batteries, 40 Pack [Amazon Exclusive]\n",
      "*******prediction*********\n",
      "No. 0 : \n",
      "                                                                                                                title\n",
      "id                                                                                                                   \n",
      "B09L1N414Z  Eveready Gold AAA Batterien, 40 Stück, Langlebige Batterien für Haushaltsgeräte Alkaline, Amazon-exklusiv\n",
      "B09L1N414Z                                            Eveready Gold Alkaline AAA Batteries 40 pack [Amazon Exclusive]\n",
      "No. 1 : \n",
      "                                                                                                                 title\n",
      "id                                                                                                                    \n",
      "B09L1QTQCR  Eveready Gold AAA Batterien, 100 Stück, Langlebige Batterien für Haushaltsgeräte Alkaline, Amazon-exklusiv\n",
      "B09L1QTQCR                                            Eveready Gold Alkaline AAA Batteries 100 pack [Amazon Exclusive]\n",
      "No. 2 : \n",
      "                                                                              title\n",
      "id                                                                                 \n",
      "B000IWXV7Y                     Energizer Alkaline Power AA/Mignon Akku (24-er Pack)\n",
      "B000IWXV7Y  Energizer AA Batteries, Alkaline Power Batteries, 24 Pack (Family Pack)\n",
      "No. 3 : \n",
      "                                                                                                title\n",
      "id                                                                                                   \n",
      "B07WXVSXLS                  Energizer Batterien AA, Alkaline Power Batterie, 32 Stück Amazon Exklusiv\n",
      "B07WXVSXLS  Energizer AA Batteries, Alkaline Power, 32 Pack, Double A Battery Pack - Amazon Exclusive\n",
      "B07WXVSXLS                                   Energizer Baterias AA, 32 Unidades (Exclusivo de Amazon)\n",
      "B07WXVSXLS                                Energizer Alkaline Power AA, 32 Pack AMZ Exclusivité Amazon\n",
      "No. 4 : \n",
      "                                                                                                title\n",
      "id                                                                                                   \n",
      "B07L49RDJH                           Energizer Batterien AA, Alkaline Power, 24 Stück Amazon Exklusiv\n",
      "B07L49RDJH  Energizer AA Batteries, Alkaline Power, 24 Pack, Double A Battery Pack - Amazon Exclusive\n",
      "B07L49RDJH        Energizer Pilas AA, pilas alcalinas de potencia doble A, 24 Unidades (Paquete de 1)\n",
      "B07L49RDJH           Energizer Piles AA, Alkaline Power, Lot de 24, Pile alcaline [ Amazon Exclusif ]\n",
      "B07L49RDJH                           Energizer Batterie Alcaline AA, Alkaline Power, Confezione da 24\n"
     ]
    }
   ],
   "source": [
    "compare_title(1000)"
   ]
  },
  {
   "cell_type": "code",
   "execution_count": 98,
   "metadata": {},
   "outputs": [
    {
     "name": "stdout",
     "output_type": "stream",
     "text": [
      "********last item*********\n",
      "                                                                                                                                                        title\n",
      "id                                                                                                                                                           \n",
      "B085WV4WST                                                LEGO 21166 Minecraft Die verlassene Mine Bauset, Zombiehöhle mit Figuren: Schleim, Steve und Spinne\n",
      "B085WV4WST                                                                                   レゴ(LEGO) マインクラフト 廃坑の探検 21166 おもちゃ ブロック プレゼント テレビゲーム 男の子 女の子 7歳以上\n",
      "B085WV4WST      LEGO 21166 Minecraft The Abandoned Mine Building Toy, Zombie Cave with Slime, Steve & Spider Figures, Gift idea for Boys and Girls Age 7 plus\n",
      "B085WV4WST  LEGO 21166 Minecraft La Mina Abandonada, Juguete de Construcción para Niños de 7 Años o Más, Juego de Acción con Ladrillos, Araña, Zombie y Slime\n",
      "B085WV4WST   LEGO 21166 Minecraft La Miniera Abbandonata, Modellino da Costruire con Personaggi di Steve, Zombie, Ragno e Slime, Giochi per Bambini e Bambine\n",
      "*******ground truth*******\n",
      "                                                                                                                                    title\n",
      "id                                                                                                                                       \n",
      "B09BNXL1SB  LEGO 21181 Minecraft Die Kaninchenranch, Bauernhof-Spielzeug für Jungen und Mädchen ab 8 Jahren mit Zähmer, Zombie und Tieren\n",
      "B09BNXL1SB                                                       レゴ(LEGO) マインクラフト ウサギ牧場 21181 おもちゃ ブロック プレゼント テレビゲーム 動物 どうぶつ 男の子 女の子 8歳以上\n",
      "B09BNXL1SB  LEGO 21181 Minecraft The Rabbit Ranch House Farm Set, Animals Toy for Boys and Girls Age 8 Plus with Tamer and Zombie Figures\n",
      "B09BNXL1SB             LEGO 21181 Minecraft El Rancho-Conejo, Juguete de Construcción para Niños con Figuras de Domador, Zombi y Animales\n",
      "B09BNXL1SB     LEGO 21181 Minecraft Le Ranch Lapin, Set de Construction, Jouet Enfants dès 8 Ans avec Figurines Dresseur, Zombie, Animaux\n",
      "*******prediction*********\n",
      "No. 0 : \n",
      "                                                                                                                                                            title\n",
      "id                                                                                                                                                               \n",
      "B09BNX79CM      LEGO 21178 Minecraft Die Fuchs-Lodge, Spielzeug für Jungen und Mädchen ab 8 Jahren mit Figuren von ertrunkenem Zombie und Tieren, Kinderspielzeug\n",
      "B09BNX79CM                                                                               レゴ(LEGO) マインクラフト キツネ小屋 21178 おもちゃ ブロック プレゼント テレビゲーム 動物 どうぶつ 男の子 女の子 8歳以上\n",
      "B09BNX79CM               LEGO 21178 Minecraft The Fox Lodge House, Animal Toys,Birthday Gifts for Boys and Girls age 8 plus Years Old, with Drowned Zombie Figure\n",
      "B09BNX79CM     LEGO 21178 Minecraft El Refugio-Zorro, Juguete de Construcción con Figuras de Zombi Ahogado y Animales, Regalos Originales Niños y Niñas de 8 Años\n",
      "B09BNX79CM      LEGO 21178 Minecraft Le Refuge du Renard, Jouet de Construction de Maison, Set avec Figurines Animaux et Zombie, pour Garçons et Filles Dès 8 Ans\n",
      "B09BNX79CM  LEGO 21178 Minecraft Il Capanno della Volpe, Mattoncini da Costruzione, Set con Zombie e Animali, Giochi per Bambino e Bambina da 8 Anni, Idee Regalo\n",
      "No. 1 : \n",
      "                                                                                                                                                          title\n",
      "id                                                                                                                                                             \n",
      "B09BNWHGQF  LEGO 21177 Minecraft Der Hinterhalt des Creeper, Spielzeugset mit Steve, Schweinchen- und Kükenfiguren, Kinderspielzeug ab 7 Jahren mit Minifiguren\n",
      "B09BNWHGQF                                                                                 レゴ(LEGO) マインクラフト クリーパーとの対決 21177 おもちゃ ブロック プレゼント テレビゲーム 男の子 女の子 7歳以上\n",
      "B09BNWHGQF            LEGO 21177 Minecraft The Creeper Ambush Building Toy with Steve, Baby Pig & Chicken Figures, Gift for Boys and Girls age 7 Plus Years Old\n",
      "B09BNWHGQF                        LEGO 21177 Minecraft La Emboscada del Creeper, Set de Juego con Figuras de Steve, Cerdito y Pollo, Juguete para Niños y Niñas\n",
      "B09BNWHGQF                           LEGO 21177 Minecraft L’embuscade du Creeper, Set avec Minifigures Steve, Bébé Cochon et Poulet, Jouets pour Enfants +7 Ans\n",
      "B09BNWHGQF                           LEGO 21177 Minecraft L'agguato del Creeper, Mattoncini da Costruzione con Steve e 2 Minifigure, Giochi per Bambini 7+ Anni\n",
      "No. 2 : \n",
      "                                                                                                                                                       title\n",
      "id                                                                                                                                                          \n",
      "B08WWWGJR6                LEGO 21172 Minecraft Das zerstörte Portal Minecraft Spielzeug Set für Jungen und Mädchen ab 8 Jahre mit Figuren aus dem Videospiel\n",
      "B08WWWGJR6                                                                               レゴ(LEGO) マインクラフト 荒廃したポータル 21172 おもちゃ ブロック プレゼント テレビゲーム 男の子 女の子 8歳以上\n",
      "B08WWWGJR6            LEGO 21172 Minecraft The Ruined Portal Building Toy with Steve and Wither Skeleton Figures, Gift Idea for 8 Plus Year Old Boys & Girls\n",
      "B08WWWGJR6  LEGO 21172 Minecraft El Portal en Ruinas, Juego de Acción, Set de Construcción para Niños de 8 Años y Más con Mini Figuras y Animales de Juguete\n",
      "B08WWWGJR6      LEGO 21172 Minecraft Le Portail en Ruine, Jouet avec Figurines de Steve et Wither Squelette, dans Le Nether, pour Filles et Garçons de 8 Ans\n",
      "No. 3 : \n",
      "                                                                                                                                                          title\n",
      "id                                                                                                                                                             \n",
      "B09QFNJ8ST                            LEGO 21186 Minecraft Der Eispalast Set, Spielzeug-Schloss mit Skelett und Zombie Figuren, Geschenk für Kinder ab 8 Jahren\n",
      "B09QFNJ8ST                                                                                      レゴ(LEGO) マインクラフト 氷の城 21186 おもちゃ ブロック プレゼント お城 街づくり 男の子 女の子 8歳以上\n",
      "B09QFNJ8ST                     LEGO 21186 Minecraft The Ice Castle Toy with Zombie and Skeleton Mobs Figures, Birthday Gift Idea for Boys and Girls Aged 8 Plus\n",
      "B09QFNJ8ST  LEGO 21186 Minecraft El Castillo de Hielo, Juego de Acción y Batallas, Set de Construcción para Niños de 8 Años o Más, Zombies, Esqueletos y Espada\n",
      "B09QFNJ8ST  Lego 21186 Minecraft Le Château de Glace, Jouet avec Épée en Diamant pour Garçons et Filles de 8 Ans et Plus, avec Figurines de Squelette et Zombie\n",
      "No. 4 : \n",
      "title    LEGO 21172 Minecraft The Ruined Portal Toy, for Kids 8+ Years Old & 21166 Minecraft The Abandoned Mine Building Set, Zombie Cave with Slime, Steve and Spider Figures, Toy for Kids Age 7 +\n",
      "Name: B09PF7Y7C8, dtype: object\n"
     ]
    }
   ],
   "source": [
    "compare_title(2000)"
   ]
  },
  {
   "cell_type": "code",
   "execution_count": 99,
   "metadata": {},
   "outputs": [
    {
     "name": "stdout",
     "output_type": "stream",
     "text": [
      "********last item*********\n",
      "title    Deadly Cry: An absolutely gripping crime thriller packed with suspense\n",
      "Name: B08FJ71854, dtype: object\n",
      "*******ground truth*******\n",
      "title    Twisted Lies: An absolutely gripping mystery and suspense thriller\n",
      "Name: B08W2CDXVR, dtype: object\n",
      "*******prediction*********\n",
      "No. 0 : \n",
      "title    Deadly Secrets: An absolutely gripping crime thriller\n",
      "Name: B07956JX2T, dtype: object\n",
      "No. 1 : \n",
      "title    Lethal Game: An absolutely gripping crime thriller packed with suspense\n",
      "Name: B08YY13YTV, dtype: object\n",
      "No. 2 : \n",
      "title    Silent Voices: A gripping crime thriller packed with mystery and suspense\n",
      "Name: B08KT53KGV, dtype: object\n",
      "No. 3 : \n",
      "title    Little Girls Sleeping: An absolutely gripping crime thriller\n",
      "Name: B07PM81LJZ, dtype: object\n",
      "No. 4 : \n",
      "title    Lola Is Missing: A totally gripping crime thriller\n",
      "Name: B077JH259R, dtype: object\n"
     ]
    }
   ],
   "source": [
    "compare_title(5601)"
   ]
  },
  {
   "cell_type": "code",
   "execution_count": 100,
   "metadata": {},
   "outputs": [
    {
     "name": "stdout",
     "output_type": "stream",
     "text": [
      "********last item*********\n",
      "title    G9 LED Bulbs 6-Pack, TopLeder 5W 450LM LED Light Bulbs, Warm White 3000K, No Flicker Non-Dimmable, 40W Halogen Bulb Equivalent, Energy Saving G9 Bulb\n",
      "Name: B09GY5BJ7N, dtype: object\n",
      "*******ground truth*******\n",
      "title    G9 LED Bulbs Cool White 5W, TopLeder G9 Bulbs 450LM 6500K Equivalent to 40W 50W Halogen Bulb, Led G9 Bulbs, G9 Socket Led Lamp, No Flicker Non-Dimmable, AC 220-240V, 6 Pack\n",
      "Name: B08SHX4ZWV, dtype: object\n",
      "*******prediction*********\n",
      "No. 0 : \n",
      "title    G9 LED Bulbs Cool White 5W, TopLeder G9 Bulbs 450LM 6500K Equivalent to 40W 50W Halogen Bulb, Led G9 Bulbs, G9 Socket Led Lamp, No Flicker Non-Dimmable, AC 220-240V, 6 Pack\n",
      "Name: B08SHX4ZWV, dtype: object\n",
      "No. 1 : \n",
      "title    G9 Led Bulbs, 5W Warm White 3000K,40W Halogen Light Bulbs Equivalent,470Lm, Non Dimmable,Pack of 4\n",
      "Name: B09TH74WWF, dtype: object\n",
      "No. 2 : \n",
      "title    G9 LED Light Bulbs, 5W, Warm White 3000K, 450LM, Equivalent to 40W G9 Halogen Bulb, Non Dimmable, AC 220V-240V for Lighting Decor, Chandelier Home and More 6-Pack\n",
      "Name: B094Q4G23F, dtype: object\n",
      "No. 3 : \n",
      "title    G9 Led Bulbs,5W 470Lm Warm White 3000K, 40W Halogen Light Bulbs Equivalent,Energy Saving,Pack of 6\n",
      "Name: B09TH9S8Q6, dtype: object\n",
      "No. 4 : \n",
      "title    Creyer G9 Led Light Bulbs,5W 450LM, Equivalent to 40W Halogen, Warm White 2900K, Energy Saving Led Bulbs, G9 Socket Led Lamp, AC 220-240V, Non-Dimmable (Pack of 6)\n",
      "Name: B09JC9CVR2, dtype: object\n"
     ]
    }
   ],
   "source": [
    "compare_title(45677)"
   ]
  },
  {
   "cell_type": "code",
   "execution_count": 101,
   "metadata": {},
   "outputs": [
    {
     "name": "stdout",
     "output_type": "stream",
     "text": [
      "********last item*********\n",
      "title    RelianceUK 30 Pack 5 x 5 x 5” Single Wall Cardboard Boxes Small Postal Box for Mailing Shipping Packaging\n",
      "Name: B0B71X39FG, dtype: object\n",
      "*******ground truth*******\n",
      "title    RedOne Hair Styling Aqua Wax Red 150 ml | Edge Control | Hair Gel Wax | Ultra Hold | Strawberry Scent | Men & Women Hair Wax | Maximum Control\n",
      "Name: B07XVP3R4F, dtype: object\n",
      "*******prediction*********\n",
      "No. 0 : \n",
      "title    RelianceUK 25 Pack 8 x 6 x 4” Single Wall Cardboard Boxes Small Postal Box for Mailing Shipping Packaging\n",
      "Name: B0B71WWVHB, dtype: object\n",
      "No. 1 : \n",
      "title    RelianceUK 20 Pack 6 x 6 x 6” Single Wall Cardboard Boxes Small Postal Box for Mailing Shipping Packaging\n",
      "Name: B0B71VMF3Q, dtype: object\n",
      "No. 2 : \n",
      "title    RelianceUK 20 Pack 9 x 6 x 6” Single Wall Cardboard Boxes Small Postal Box for Mailing Shipping Packaging\n",
      "Name: B0B71XPZ9P, dtype: object\n",
      "No. 3 : \n",
      "title    50 x Single Wall 12\" x 9\" x 6\" Inch (30.5 x 22.9 x 15 cm) Cardboard Small Box, Royal Mail Small Parcel Size Mailing Postal Boxes, Durable & Perfect for Any Online Business, Bulk Discount Price\n",
      "Name: B094JV9YJK, dtype: object\n",
      "No. 4 : \n",
      "title    5 Pack 4\"x4\"x4\" (101mmx101mmx101mm) Small Mailing Packing Cardboard Boxes, Strong Postal Shipping Boxes, Gift Parcel Boxes, (Pack Of 5), Single Wall\n",
      "Name: B097TH2NVZ, dtype: object\n"
     ]
    }
   ],
   "source": [
    "compare_title(45647)"
   ]
  },
  {
   "cell_type": "code",
   "execution_count": 102,
   "metadata": {},
   "outputs": [
    {
     "name": "stdout",
     "output_type": "stream",
     "text": [
      "********last item*********\n",
      "title    Frame's by Lewis's - Cologne Black Portrait Frame - (30cm x 42cm) A3 Photo Frame, Picture Display Frame, Mantlepieces, Wall Mount\n",
      "Name: B095HK134C, dtype: object\n",
      "*******ground truth*******\n",
      "title    Hampton Frames BLACKWOOD A3 (30x42cm) Black Painted Pine Wood Photo Picture Poster Frame BLW3042BLKX\n",
      "Name: B07YZH9V8H, dtype: object\n",
      "*******prediction*********\n",
      "No. 0 : \n",
      "title    MH Traders Black A3 Picture Frame - Wall Mounted Photo Frame for Pictures Posters & Certificates - 30 x 42 CM A3 Size Compact Picture Frames\n",
      "Name: B09PJH17DS, dtype: object\n",
      "No. 1 : \n",
      "title    MH Traders Silver A3 Picture Frame - Wall Mounted Photo Frame for Pictures Posters & Certificates - 30 x 42 CM A3 Size Compact Picture Frames\n",
      "Name: B0B1QGX126, dtype: object\n",
      "No. 2 : \n",
      "title    Hampton Frames CAMBRIDGE A3 (30x42cm) Black Picture Poster Photo Frame Plexi (Non-Glass) CAM3042NG\n",
      "Name: B093CBD3NJ, dtype: object\n",
      "No. 3 : \n",
      "title    Hampton Frames BACKLOADER A3 (30x42cm) Black Picture Poster Photo Frame Plexi (Non-Glass) A3MARBLX\n",
      "Name: B0758CGWBC, dtype: object\n",
      "No. 4 : \n",
      "title    Hampton Frames BACKLOADER A3 (30x42cm) Black Picture Poster Photo Frame Plexi (Non-Glass) BLR3042BLKX\n",
      "Name: B07YY6L3KK, dtype: object\n"
     ]
    }
   ],
   "source": [
    "compare_title(65647)"
   ]
  }
 ],
 "metadata": {
  "kernelspec": {
   "display_name": "torch12",
   "language": "python",
   "name": "python3"
  },
  "language_info": {
   "codemirror_mode": {
    "name": "ipython",
    "version": 3
   },
   "file_extension": ".py",
   "mimetype": "text/x-python",
   "name": "python",
   "nbconvert_exporter": "python",
   "pygments_lexer": "ipython3",
   "version": "3.9.15"
  },
  "orig_nbformat": 4
 },
 "nbformat": 4,
 "nbformat_minor": 2
}
