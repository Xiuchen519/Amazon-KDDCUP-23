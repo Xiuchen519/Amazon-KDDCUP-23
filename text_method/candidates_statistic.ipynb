{
 "cells": [
  {
   "cell_type": "code",
   "execution_count": 3,
   "metadata": {},
   "outputs": [],
   "source": [
    "import pandas as pd \n",
    "import numpy as np\n",
    "from functools import lru_cache\n",
    "import os\n",
    "from tqdm import tqdm "
   ]
  },
  {
   "cell_type": "code",
   "execution_count": 2,
   "metadata": {},
   "outputs": [],
   "source": [
    "recstudio_data_dir = '/root/autodl-tmp/xiaolong/WorkSpace/Amazon-KDDCUP-23/data_for_recstudio'\n",
    "raw_data_dir = '/root/autodl-tmp/xiaolong/WorkSpace/Amazon-KDDCUP-23/raw_data'"
   ]
  },
  {
   "cell_type": "code",
   "execution_count": 1,
   "metadata": {},
   "outputs": [],
   "source": [
    "sasrec_session_candidates_path = '/root/autodl-tmp/xiaolong/WorkSpace/Amazon-KDDCUP-23/candidates/2023-04-01-14-13-51.parquet'\n",
    "roberta_candidates_300_path = '/root/autodl-tmp/xiaolong/WorkSpace/Amazon-KDDCUP-23/text_method/valid_results_epoch_4/roberta_prediction_300_filtered.parquet'\n",
    "roberta_candidates_150_path = '/root/autodl-tmp/xiaolong/WorkSpace/Amazon-KDDCUP-23/text_method/valid_results_epoch_4/roberta_prediction_150_filtered.parquet'"
   ]
  },
  {
   "cell_type": "code",
   "execution_count": 4,
   "metadata": {},
   "outputs": [],
   "source": [
    "@lru_cache(maxsize=1)\n",
    "def read_sasrec_session_candidates():\n",
    "    return pd.read_parquet(sasrec_session_candidates_path, engine='pyarrow')\n",
    "\n",
    "@lru_cache(maxsize=1)\n",
    "def read_roberta_session_candidates_300():\n",
    "    return pd.read_parquet(roberta_candidates_300_path, engine='pyarrow')\n",
    "\n",
    "@lru_cache(maxsize=1)\n",
    "def read_roberta_session_candidates_150():\n",
    "    return pd.read_parquet(roberta_candidates_150_path, engine='pyarrow')\n",
    "\n",
    "@lru_cache(maxsize=1)\n",
    "def read_valid_sessions():\n",
    "    return pd.read_csv(os.path.join(recstudio_data_dir, 'all_task_1_valid_sessions.csv'))"
   ]
  },
  {
   "cell_type": "code",
   "execution_count": 5,
   "metadata": {},
   "outputs": [
    {
     "data": {
      "text/plain": [
       "(  locale                                         candidates sess_id\n",
       " 0     UK  [B06XG1LZ6Z, B06XGD9VLV, B076PN1SKG, B01MYUDYP...       0\n",
       " 1     JP  [B09LCPT9DQ, B09MRYK5CV, B0BB5VQ1L8, B084T9C6W...       1\n",
       " 2     UK  [B09XBS6WCX, B01EYGW86Y, B01MDOBUCC, B01C5YK17...       2\n",
       " 3     UK  [0241572614, 1406392979, 024157563X, 024147681...       3\n",
       " 4     JP  [B0B6PF619D, B0B6P77ZRN, B0B6P2PCMP, B0B6NY4PN...       4\n",
       " 5     DE  [B0BD48G63Q, B0BD3DGNT9, B0B685KHK6, B0B54PQKG...       5\n",
       " 6     DE  [B07Q82LRDK, B082XSF8XF, B00H37AVY8, B01EGP3LV...       6\n",
       " 7     UK  [B013SL2712, B07V5LWSN5, B00CL6353A, B07W6JP97...       7\n",
       " 8     JP  [B0BFPGHSYX, B09ZTN81QH, B00B57A5IY, B00LE7TO0...       8\n",
       " 9     DE  [B07MH3K3S8, B07KQHHYQC, B00Z0BTBEA, B07YLZ67Q...       9,\n",
       " 361581,\n",
       " 300)"
      ]
     },
     "execution_count": 5,
     "metadata": {},
     "output_type": "execute_result"
    }
   ],
   "source": [
    "sasrec_session_candidates_df = read_sasrec_session_candidates()\n",
    "sasrec_session_candidates_df.head(10), len(sasrec_session_candidates_df), len(sasrec_session_candidates_df.iloc[0]['candidates'])"
   ]
  },
  {
   "cell_type": "code",
   "execution_count": 6,
   "metadata": {},
   "outputs": [
    {
     "data": {
      "text/plain": [
       "(                                next_item_prediction  \\\n",
       " 0  [B096ZT4DK4, B09XCGNN6F, B09XCHDLYR, B06XGD9VL...   \n",
       " 1  [B08ZHJKF28, B09LCPT9DQ, B09MRYK5CV, B09G9YRX1...   \n",
       " 2  [B06ZYHMRST, B01017JLP6, B007CW985C, B0017RTPK...   \n",
       " 3  [B01M5EBAO4, B07TYFS1K7, B08BX71RLT, B0BGY899Q...   \n",
       " 4  [B0B6NXJMJJ, B0B6PF619D, B0B6P77ZRN, B0B6NRKVZ...   \n",
       " 5  [B0BD48G63Q, B0BD3DGNT9, B0BD3FYDPB, B09BJNXGP...   \n",
       " 6  [B00GYSC172, B088NQ34PW, B06ZZ6ZCD6, B07CNV566...   \n",
       " 7  [B07V3HG2YD, B0B8NKMT5S, B07XRFMG5B, B019O1R4D...   \n",
       " 8  [B0BFPGHSYX, B005A0PEQ0, B082FHGR57, B0152C7KP...   \n",
       " 9  [B096DSVNSN, B096D4C8HT, B07MH3K3S8, B00Z0BTBE...   \n",
       " \n",
       "                                               scores  \n",
       " 0  [268.6368103027344, 268.5672607421875, 268.567...  \n",
       " 1  [269.99102783203125, 269.4064636230469, 269.30...  \n",
       " 2  [264.7541198730469, 264.58624267578125, 264.49...  \n",
       " 3  [267.71771240234375, 266.8636779785156, 266.69...  \n",
       " 4  [269.4986572265625, 269.49267578125, 269.47979...  \n",
       " 5  [268.35125732421875, 267.9956359863281, 267.74...  \n",
       " 6  [268.696533203125, 266.9201965332031, 266.5725...  \n",
       " 7  [267.2389221191406, 267.2389221191406, 266.933...  \n",
       " 8  [268.7426452636719, 268.5973815917969, 267.512...  \n",
       " 9  [267.4139709472656, 267.4014892578125, 267.347...  ,\n",
       " 361581)"
      ]
     },
     "execution_count": 6,
     "metadata": {},
     "output_type": "execute_result"
    }
   ],
   "source": [
    "roberta_session_candidates_300_df = read_roberta_session_candidates_300()\n",
    "roberta_session_candidates_300_df.head(10), len(roberta_session_candidates_300_df)"
   ]
  },
  {
   "cell_type": "code",
   "execution_count": 7,
   "metadata": {},
   "outputs": [
    {
     "data": {
      "text/plain": [
       "(                                next_item_prediction  \\\n",
       " 0  [B096ZT4DK4, B09XCGNN6F, B09XCHDLYR, B06XGD9VL...   \n",
       " 1  [B08ZHJKF28, B09LCPT9DQ, B09MRYK5CV, B09G9YRX1...   \n",
       " 2  [B06ZYHMRST, B01017JLP6, B007CW985C, B0017RTPK...   \n",
       " 3  [B01M5EBAO4, B07TYFS1K7, B08BX71RLT, B0BGY899Q...   \n",
       " 4  [B0B6NXJMJJ, B0B6PF619D, B0B6P77ZRN, B0B6NRKVZ...   \n",
       " 5  [B0BD48G63Q, B0BD3DGNT9, B0BD3FYDPB, B09BJNXGP...   \n",
       " 6  [B00GYSC172, B088NQ34PW, B06ZZ6ZCD6, B07CNV566...   \n",
       " 7  [B07V3HG2YD, B0B8NKMT5S, B07XRFMG5B, B019O1R4D...   \n",
       " 8  [B0BFPGHSYX, B005A0PEQ0, B082FHGR57, B0152C7KP...   \n",
       " 9  [B096DSVNSN, B096D4C8HT, B07MH3K3S8, B00Z0BTBE...   \n",
       " \n",
       "                                               scores  \n",
       " 0  [268.6368103027344, 268.5672607421875, 268.567...  \n",
       " 1  [269.99102783203125, 269.4064636230469, 269.30...  \n",
       " 2  [264.7541198730469, 264.58624267578125, 264.49...  \n",
       " 3  [267.71771240234375, 266.8636779785156, 266.69...  \n",
       " 4  [269.4986572265625, 269.49267578125, 269.47979...  \n",
       " 5  [268.35125732421875, 267.9956359863281, 267.74...  \n",
       " 6  [268.696533203125, 266.9201965332031, 266.5725...  \n",
       " 7  [267.2389221191406, 267.2389221191406, 266.933...  \n",
       " 8  [268.7426452636719, 268.5973815917969, 267.512...  \n",
       " 9  [267.4139709472656, 267.4014892578125, 267.347...  ,\n",
       " 361581,\n",
       " 150)"
      ]
     },
     "execution_count": 7,
     "metadata": {},
     "output_type": "execute_result"
    }
   ],
   "source": [
    "roberta_session_candidates_150_df = read_roberta_session_candidates_150()\n",
    "roberta_session_candidates_150_df.head(10), len(roberta_session_candidates_150_df), len(roberta_session_candidates_150_df.iloc[0]['next_item_prediction'])"
   ]
  },
  {
   "cell_type": "code",
   "execution_count": 8,
   "metadata": {},
   "outputs": [
    {
     "data": {
      "text/plain": [
       "361581"
      ]
     },
     "execution_count": 8,
     "metadata": {},
     "output_type": "execute_result"
    }
   ],
   "source": [
    "valid_sessions_df = read_valid_sessions()\n",
    "len(valid_sessions_df)"
   ]
  },
  {
   "cell_type": "code",
   "execution_count": 10,
   "metadata": {},
   "outputs": [],
   "source": [
    "def co_currence(length):\n",
    "    num_sessions = len(valid_sessions_df)\n",
    "    co_currence_rates = []\n",
    "    for i in tqdm(range(num_sessions)):\n",
    "        co_graph_set = set(roberta_session_candidates_300_df.iloc[i]['next_item_prediction'][:length])\n",
    "        sasrec_set = set(sasrec_session_candidates_df.iloc[i]['candidates'][:length])\n",
    "        co_currence_set = co_graph_set.intersection(sasrec_set)\n",
    "        co_currence_rates.append(len(co_currence_set) * 1.0 / length * 1.0)\n",
    "    return np.array(co_currence_rates).mean()"
   ]
  },
  {
   "cell_type": "code",
   "execution_count": 11,
   "metadata": {},
   "outputs": [
    {
     "name": "stderr",
     "output_type": "stream",
     "text": [
      "100%|██████████| 361581/361581 [01:00<00:00, 6009.64it/s]\n",
      "100%|██████████| 361581/361581 [00:45<00:00, 7878.77it/s]\n",
      "100%|██████████| 361581/361581 [00:33<00:00, 10718.18it/s]\n"
     ]
    },
    {
     "data": {
      "text/plain": [
       "(0.16374873126629994, 0.25498864708046054, 0.1887048821702468)"
      ]
     },
     "execution_count": 11,
     "metadata": {},
     "output_type": "execute_result"
    }
   ],
   "source": [
    "co_currence_rate_300 = co_currence(300)\n",
    "co_currence_rate_100 = co_currence(100)\n",
    "co_currence_rate_10 = co_currence(10)\n",
    "co_currence_rate_300, co_currence_rate_100, co_currence_rate_10"
   ]
  },
  {
   "cell_type": "code",
   "execution_count": 9,
   "metadata": {},
   "outputs": [],
   "source": [
    "def cal_hit_and_mrr(ground_truth_list, candidates_list):\n",
    "    hits, mrrs = [], []\n",
    "    for i in tqdm(range(len(ground_truth_list))):\n",
    "        ground_truth = ground_truth_list.iloc[i]\n",
    "        candidates = candidates_list.iloc[i]\n",
    "        hit, mrr = 0.0, 0.0\n",
    "        for j in range(len(candidates)):\n",
    "            if ground_truth == candidates[j]:\n",
    "                hit = 1.0\n",
    "                mrr = 1.0 / (j + 1)\n",
    "                break\n",
    "        hits.append(hit)\n",
    "        mrrs.append(mrr)\n",
    "    return np.array(hits).mean(), np.array(mrrs).mean()"
   ]
  },
  {
   "cell_type": "code",
   "execution_count": 10,
   "metadata": {},
   "outputs": [
    {
     "name": "stderr",
     "output_type": "stream",
     "text": [
      "100%|██████████| 361581/361581 [00:13<00:00, 26763.77it/s]\n"
     ]
    },
    {
     "data": {
      "text/plain": [
       "(0.6903460082249897, 0.1774922584571136)"
      ]
     },
     "execution_count": 10,
     "metadata": {},
     "output_type": "execute_result"
    }
   ],
   "source": [
    "# retromae hit ratio and mrr\n",
    "roberta_hit_ratio, roberta_mrr = cal_hit_and_mrr(valid_sessions_df['next_item'], roberta_session_candidates_300_df['next_item_prediction'])\n",
    "roberta_hit_ratio, roberta_mrr"
   ]
  },
  {
   "cell_type": "code",
   "execution_count": 12,
   "metadata": {},
   "outputs": [
    {
     "name": "stderr",
     "output_type": "stream",
     "text": [
      "100%|██████████| 361581/361581 [00:10<00:00, 36047.67it/s]\n"
     ]
    },
    {
     "data": {
      "text/plain": [
       "(0.6325498297753477, 0.17721058083632896)"
      ]
     },
     "execution_count": 12,
     "metadata": {},
     "output_type": "execute_result"
    }
   ],
   "source": [
    "roberta_hit_ratio, roberta_mrr = cal_hit_and_mrr(valid_sessions_df['next_item'], roberta_session_candidates_150_df['next_item_prediction'])\n",
    "roberta_hit_ratio, roberta_mrr"
   ]
  },
  {
   "cell_type": "code",
   "execution_count": 11,
   "metadata": {},
   "outputs": [
    {
     "name": "stderr",
     "output_type": "stream",
     "text": [
      "100%|██████████| 361581/361581 [00:14<00:00, 24144.01it/s]\n"
     ]
    },
    {
     "data": {
      "text/plain": [
       "(0.6216615364192256, 0.27526101444400336)"
      ]
     },
     "execution_count": 11,
     "metadata": {},
     "output_type": "execute_result"
    }
   ],
   "source": [
    "# sasrec hit ratio and mrr\n",
    "sasrec_hit_ratio, sasrec_mrr = cal_hit_and_mrr(valid_sessions_df['next_item'], sasrec_session_candidates_df['candidates'])\n",
    "sasrec_hit_ratio, sasrec_mrr"
   ]
  },
  {
   "cell_type": "code",
   "execution_count": 13,
   "metadata": {},
   "outputs": [],
   "source": [
    "# hit or\n",
    "def cal_or_hit(ground_truth_list, candidates_list_1, candidates_list_2):\n",
    "    hits = []\n",
    "    for i in tqdm(range(len(ground_truth_list))):\n",
    "        ground_truth = ground_truth_list.iloc[i]\n",
    "        candidates_1 = candidates_list_1.iloc[i]\n",
    "        candidates_2 = candidates_list_2.iloc[i]\n",
    "        hit = 0.0\n",
    "        if (ground_truth in candidates_1) or (ground_truth in candidates_2):\n",
    "            hit = 1.0\n",
    "        hits.append(hit)\n",
    "    return np.array(hits).mean()"
   ]
  },
  {
   "cell_type": "code",
   "execution_count": 14,
   "metadata": {},
   "outputs": [
    {
     "name": "stderr",
     "output_type": "stream",
     "text": [
      "100%|██████████| 361581/361581 [00:21<00:00, 17173.59it/s]\n"
     ]
    },
    {
     "data": {
      "text/plain": [
       "0.7468423396140838"
      ]
     },
     "execution_count": 14,
     "metadata": {},
     "output_type": "execute_result"
    }
   ],
   "source": [
    "or_hit = cal_or_hit(valid_sessions_df['next_item'], roberta_session_candidates_300_df['next_item_prediction'], sasrec_session_candidates_df['candidates'])\n",
    "or_hit"
   ]
  },
  {
   "cell_type": "code",
   "execution_count": 15,
   "metadata": {},
   "outputs": [
    {
     "name": "stderr",
     "output_type": "stream",
     "text": [
      "100%|██████████| 361581/361581 [00:17<00:00, 20479.41it/s]\n"
     ]
    },
    {
     "data": {
      "text/plain": [
       "0.7286085275498436"
      ]
     },
     "execution_count": 15,
     "metadata": {},
     "output_type": "execute_result"
    }
   ],
   "source": [
    "or_hit = cal_or_hit(valid_sessions_df['next_item'], roberta_session_candidates_150_df['next_item_prediction'], sasrec_session_candidates_df['candidates'])\n",
    "or_hit"
   ]
  },
  {
   "cell_type": "code",
   "execution_count": 17,
   "metadata": {},
   "outputs": [],
   "source": [
    "# hit concurrently\n",
    "def cal_co_hit(ground_truth_list, candidates_list_1, candidates_list_2):\n",
    "    hits = []\n",
    "    for i in tqdm(range(len(ground_truth_list))):\n",
    "        ground_truth = ground_truth_list.iloc[i]\n",
    "        candidates_1 = candidates_list_1.iloc[i]\n",
    "        candidates_2 = candidates_list_2.iloc[i]\n",
    "        hit = 0.0\n",
    "        if (ground_truth in candidates_1) and (ground_truth in candidates_2):\n",
    "            hit = 1.0\n",
    "        hits.append(hit)\n",
    "    return np.array(hits).mean()"
   ]
  },
  {
   "cell_type": "code",
   "execution_count": 18,
   "metadata": {},
   "outputs": [
    {
     "name": "stderr",
     "output_type": "stream",
     "text": [
      "100%|██████████| 361581/361581 [00:24<00:00, 14637.85it/s]\n"
     ]
    },
    {
     "data": {
      "text/plain": [
       "0.5651652050301316"
      ]
     },
     "execution_count": 18,
     "metadata": {},
     "output_type": "execute_result"
    }
   ],
   "source": [
    "co_hit = cal_co_hit(valid_sessions_df['next_item'], roberta_session_candidates_300_df['next_item_prediction'], sasrec_session_candidates_df['candidates'])\n",
    "co_hit"
   ]
  }
 ],
 "metadata": {
  "kernelspec": {
   "display_name": "torch12",
   "language": "python",
   "name": "python3"
  },
  "language_info": {
   "codemirror_mode": {
    "name": "ipython",
    "version": 3
   },
   "file_extension": ".py",
   "mimetype": "text/x-python",
   "name": "python",
   "nbconvert_exporter": "python",
   "pygments_lexer": "ipython3",
   "version": "3.9.15"
  },
  "orig_nbformat": 4
 },
 "nbformat": 4,
 "nbformat_minor": 2
}
