{
 "cells": [
  {
   "cell_type": "code",
   "execution_count": 1,
   "metadata": {},
   "outputs": [],
   "source": [
    "import pandas as pd \n",
    "import numpy as np\n",
    "from functools import lru_cache\n",
    "import os\n",
    "from tqdm import tqdm"
   ]
  },
  {
   "cell_type": "code",
   "execution_count": 4,
   "metadata": {},
   "outputs": [],
   "source": [
    "sasrec_session_candidates_path = '/root/autodl-tmp/xiaolong/WorkSpace/Amazon-KDDCUP-23/candidates/SASRec_Next/kdd_cup_2023/2023-04-01-14-13-51.parquet'\n",
    "co_graph_item_candidates_path = '/root/autodl-tmp/huangxu/Amazon-KDDCUP-23/co-occurrence_graph/item_candidates.ftr'\n",
    "retromae_session_candidates_path = '/root/autodl-tmp/xiaolong/WorkSpace/Amazon-KDDCUP-23/candidates/retromae_UK_valid_prediction.parquet'\n",
    "valid_inter_feat_path = '../data_for_recstudio/all_task_1_valid_inter_feat.csv'\n",
    "valid_sessions_path = '/root/autodl-tmp/xiaolong/WorkSpace/Amazon-KDDCUP-23/data_for_recstudio/all_task_1_valid_sessions.csv'\n",
    "product_data_path = '../raw_data/products_train.csv'\n",
    "roberta_session_candidates_path = '/root/autodl-tmp/xiaolong/WorkSpace/Amazon-KDDCUP-23/text_method/valid_results/valid_prediction.parquet'"
   ]
  },
  {
   "cell_type": "code",
   "execution_count": 5,
   "metadata": {},
   "outputs": [],
   "source": [
    "@lru_cache(maxsize=1)\n",
    "def read_valid_sessions():\n",
    "    return pd.read_csv(valid_sessions_path)\n",
    "\n",
    "@lru_cache(maxsize=1)\n",
    "def read_sasrec_session_candidates():\n",
    "    return pd.read_parquet(sasrec_session_candidates_path, engine='pyarrow')\n",
    "\n",
    "@lru_cache(maxsize=1)\n",
    "def read_retromae_session_candidates():\n",
    "    return pd.read_parquet(retromae_session_candidates_path, engine='pyarrow')\n",
    "\n",
    "@lru_cache(maxsize=1)\n",
    "def read_co_graph_item_candidates():\n",
    "    return pd.read_feather(co_graph_item_candidates_path)\n",
    "\n",
    "@lru_cache(maxsize=1)\n",
    "def read_product_data():\n",
    "    return pd.read_csv(product_data_path)\n",
    "\n",
    "@lru_cache(maxsize=1)\n",
    "def read_roberta_session_candidates():\n",
    "    return pd.read_parquet(roberta_session_candidates_path, engine='pyarrow')"
   ]
  },
  {
   "cell_type": "code",
   "execution_count": 6,
   "metadata": {},
   "outputs": [
    {
     "data": {
      "text/plain": [
       "361581"
      ]
     },
     "execution_count": 6,
     "metadata": {},
     "output_type": "execute_result"
    }
   ],
   "source": [
    "valid_sessions = read_valid_sessions()\n",
    "len(valid_sessions)"
   ]
  },
  {
   "cell_type": "code",
   "execution_count": 7,
   "metadata": {},
   "outputs": [
    {
     "data": {
      "text/plain": [
       "361581"
      ]
     },
     "execution_count": 7,
     "metadata": {},
     "output_type": "execute_result"
    }
   ],
   "source": [
    "roberta_predictions = read_roberta_session_candidates()\n",
    "len(roberta_predictions)"
   ]
  },
  {
   "cell_type": "code",
   "execution_count": 8,
   "metadata": {},
   "outputs": [],
   "source": [
    "from collections import Counter\n",
    "rank_counter = Counter()"
   ]
  },
  {
   "cell_type": "code",
   "execution_count": 11,
   "metadata": {},
   "outputs": [
    {
     "name": "stderr",
     "output_type": "stream",
     "text": [
      "100%|██████████| 361581/361581 [00:39<00:00, 9185.72it/s]\n"
     ]
    }
   ],
   "source": [
    "for i in tqdm(range(len(valid_sessions))):\n",
    "    ground_truth = valid_sessions.iloc[i]['next_item']\n",
    "    predictions = roberta_predictions.iloc[i]['next_item_prediction']\n",
    "    rank = 150\n",
    "    for j, x in enumerate(predictions):\n",
    "        if x == ground_truth:\n",
    "            rank = j + 1\n",
    "            break\n",
    "    rank_counter[rank] += 1"
   ]
  },
  {
   "cell_type": "code",
   "execution_count": 12,
   "metadata": {},
   "outputs": [
    {
     "data": {
      "text/plain": [
       "(array([  1,   2,   3,   4,   5,   6,   7,   8,   9,  10,  11,  12,  13,\n",
       "         14,  15,  16,  17,  18,  19,  20,  21,  22,  23,  24,  25,  26,\n",
       "         27,  28,  29,  30,  31,  32,  33,  34,  35,  36,  37,  38,  39,\n",
       "         40,  41,  42,  43,  44,  45,  46,  47,  48,  49,  50,  51,  52,\n",
       "         53,  54,  55,  56,  57,  58,  59,  60,  61,  62,  63,  64,  65,\n",
       "         66,  67,  68,  69,  70,  71,  72,  73,  74,  75,  76,  77,  78,\n",
       "         79,  80,  81,  82,  83,  84,  85,  86,  87,  88,  89,  90,  91,\n",
       "         92,  93,  94,  95,  96,  97,  98,  99, 100, 150]),\n",
       " array([ 15700,  21131,  17487,  13698,  10812,   9012,   7497,   6451,\n",
       "          5792,   5192,   4482,   4085,   3792,   3614,   3268,   3212,\n",
       "          2873,   2774,   2534,   2415,   2271,   2152,   2056,   2064,\n",
       "          1883,   1832,   1717,   1674,   1601,   1627,   1518,   1433,\n",
       "          1390,   1327,   1226,   1236,   1181,   1142,   1149,   1110,\n",
       "          1106,   1014,   1009,   1022,    937,    974,   1007,    931,\n",
       "           924,    851,    902,    833,    860,    832,    806,    798,\n",
       "           789,    694,    698,    682,    730,    682,    677,    708,\n",
       "           693,    654,    635,    605,    600,    597,    611,    587,\n",
       "           599,    626,    565,    505,    532,    516,    518,    528,\n",
       "           505,    528,    477,    499,    490,    479,    470,    457,\n",
       "           480,    481,    446,    469,    454,    480,    409,    455,\n",
       "           398,    405,    378,    399, 130045]))"
      ]
     },
     "execution_count": 12,
     "metadata": {},
     "output_type": "execute_result"
    }
   ],
   "source": [
    "import matplotlib.pyplot as plt\n",
    "import numpy as np\n",
    "x = list(range(1, 101))\n",
    "y = [rank_counter[i]  for i in x]\n",
    "x.append(150), y.append(rank_counter[150])\n",
    "x = np.array(x)\n",
    "y = np.array(y)\n",
    "x, y"
   ]
  },
  {
   "cell_type": "code",
   "execution_count": 13,
   "metadata": {},
   "outputs": [
    {
     "data": {
      "image/png": "[encoded data removed]",
      "text/plain": [
       "<Figure size 640x480 with 1 Axes>"
      ]
     },
     "metadata": {},
     "output_type": "display_data"
    }
   ],
   "source": [
    "y2 = np.array(y) / len(roberta_predictions)\n",
    "plt.bar(x, y2)\n",
    "plt.show()"
   ]
  }
 ],
 "metadata": {
  "kernelspec": {
   "display_name": "torch12",
   "language": "python",
   "name": "python3"
  },
  "language_info": {
   "codemirror_mode": {
    "name": "ipython",
    "version": 3
   },
   "file_extension": ".py",
   "mimetype": "text/x-python",
   "name": "python",
   "nbconvert_exporter": "python",
   "pygments_lexer": "ipython3",
   "version": "3.9.15"
  },
  "orig_nbformat": 4
 },
 "nbformat": 4,
 "nbformat_minor": 2
}
