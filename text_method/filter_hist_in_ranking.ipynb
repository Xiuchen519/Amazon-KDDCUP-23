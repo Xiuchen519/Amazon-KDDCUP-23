{
 "cells": [
  {
   "cell_type": "code",
   "execution_count": 47,
   "metadata": {},
   "outputs": [],
   "source": [
    "import numpy as np\n",
    "import pandas as pd \n",
    "from tqdm import tqdm \n",
    "from functools import lru_cache\n",
    "import os \n",
    "import copy"
   ]
  },
  {
   "cell_type": "code",
   "execution_count": 48,
   "metadata": {},
   "outputs": [],
   "source": [
    "recstudio_data_dir = '/root/autodl-tmp/xiaolong/WorkSpace/Amazon-KDDCUP-23/data_for_recstudio'\n",
    "raw_data_dir = '/root/autodl-tmp/xiaolong/WorkSpace/Amazon-KDDCUP-23/raw_data'"
   ]
  },
  {
   "cell_type": "code",
   "execution_count": 56,
   "metadata": {},
   "outputs": [],
   "source": [
    "\n",
    "@lru_cache(maxsize=1)\n",
    "def read_valid_data():\n",
    "    return pd.read_csv(os.path.join(recstudio_data_dir, 'UK_data/UK_valid_sessions_phase2.csv'))\n",
    "\n",
    "@lru_cache(maxsize=1)\n",
    "def read_DE_valid_data():\n",
    "    return pd.read_csv(os.path.join(recstudio_data_dir, 'DE_data/DE_valid_sessions_phase2.csv'))\n",
    "\n",
    "@lru_cache(maxsize=1)\n",
    "def read_JP_valid_data():\n",
    "    return pd.read_csv(os.path.join(recstudio_data_dir, 'JP_data/JP_valid_sessions_phase2.csv'))\n",
    "\n",
    "@lru_cache(maxsize=1)\n",
    "def read_UK_valid_data():\n",
    "    return pd.read_csv(os.path.join(recstudio_data_dir, 'UK_data/UK_valid_sessions_phase2.csv'))\n",
    "\n",
    "@lru_cache(maxsize=1)\n",
    "def read_test_data():\n",
    "    return pd.read_csv(os.path.join(raw_data_dir, 'sessions_test_task1.csv'))\n",
    "\n",
    "@lru_cache(maxsize=1)\n",
    "def read_valid_300_prediction():\n",
    "    return pd.read_parquet('/root/autodl-tmp/xiaolong/WorkSpace/Amazon-KDDCUP-23/text_method/phase2_task1_roberta_title_results_UK/valid_results/phase2_task1_valid_300_with_score_UK.parquet')\n",
    "\n",
    "@lru_cache(maxsize=1)\n",
    "def read_test_300_prediction():\n",
    "    return pd.read_parquet('/root/autodl-tmp/xiaolong/WorkSpace/Amazon-KDDCUP-23/text_method/phase2_task1_xlm_roberta_results/test_results/phase2_task1_test_300_with_score.parquet')\n",
    "\n",
    "@lru_cache(maxsize=1)\n",
    "def read_product_data():\n",
    "    return pd.read_csv('/root/autodl-tmp/xiaolong/WorkSpace/Amazon-KDDCUP-23/data_for_recstudio/processed_products_train.csv')"
   ]
  },
  {
   "cell_type": "code",
   "execution_count": 50,
   "metadata": {},
   "outputs": [],
   "source": [
    "def filter_hist(sessions_df, prediction_df, num_candidates):\n",
    "    assert len(sessions_df) == len(prediction_df)\n",
    "    filtered_prediction_df = copy.deepcopy(prediction_df)\n",
    "    for row in tqdm(prediction_df.itertuples(), total=len(prediction_df)):\n",
    "        idx = row.Index\n",
    "\n",
    "        new_candidates = []\n",
    "        if 'scores' in row._fields:\n",
    "            new_scores = []\n",
    "        \n",
    "        hist_candidates = eval(sessions_df.iloc[idx]['prev_items'].replace(' ', ','))\n",
    "        candidates = row.next_item_prediction\n",
    "        if 'scores' in row._fields:\n",
    "            scores = row.scores\n",
    "        for j in range(len(candidates)):\n",
    "            if candidates[j] not in hist_candidates:\n",
    "                new_candidates.append(candidates[j])\n",
    "                if 'scores' in row._fields:\n",
    "                    new_scores.append(scores[j])\n",
    "\n",
    "        new_candidates = new_candidates[:num_candidates]\n",
    "        if 'scores' in row._fields:\n",
    "            new_scores = new_scores[:num_candidates]\n",
    "        \n",
    "        filtered_prediction_df.iloc[idx]['next_item_prediction'] = np.array(new_candidates, dtype=object)\n",
    "        if 'scores' in row._fields:\n",
    "            filtered_prediction_df.iloc[idx]['scores'] = np.array(new_scores, dtype=object)\n",
    "    return filtered_prediction_df"
   ]
  },
  {
   "attachments": {},
   "cell_type": "markdown",
   "metadata": {},
   "source": [
    "# valid prediction"
   ]
  },
  {
   "cell_type": "code",
   "execution_count": 51,
   "metadata": {},
   "outputs": [],
   "source": [
    "product_data = read_product_data()"
   ]
  },
  {
   "cell_type": "code",
   "execution_count": 52,
   "metadata": {},
   "outputs": [
    {
     "data": {
      "text/plain": [
       "(                                          prev_items   next_item locale\n",
       " 0  ['B0B42XZNCW' 'B07ND7MKVZ' 'B0B42XZNCW' 'B07ND...  B07S43KJL7     UK\n",
       " 1                        ['B09BW9Y1YR' 'B0B6Q3H47G']  B01EUNA3VS     UK\n",
       " 2           ['B013KV0FS2' 'B06VW8Y81Y' 'B013KV0FS2']  B014WYVD1O     UK\n",
       " 3           ['B09TB336FC' 'B083P3LGFY' 'B09TB3KFNV']  B09N3M5JNJ     UK\n",
       " 4           ['B0B77H8NYS' 'B07HQ7P9BQ' 'B07MWYRVPG']  B009ARMB0Q     UK,\n",
       " 94574)"
      ]
     },
     "execution_count": 52,
     "metadata": {},
     "output_type": "execute_result"
    }
   ],
   "source": [
    "valid_sessions_df = read_valid_data()\n",
    "valid_sessions_df.head(5), len(valid_sessions_df)"
   ]
  },
  {
   "cell_type": "code",
   "execution_count": 53,
   "metadata": {},
   "outputs": [
    {
     "data": {
      "text/html": [
       "<div>\n",
       "<style scoped>\n",
       "    .dataframe tbody tr th:only-of-type {\n",
       "        vertical-align: middle;\n",
       "    }\n",
       "\n",
       "    .dataframe tbody tr th {\n",
       "        vertical-align: top;\n",
       "    }\n",
       "\n",
       "    .dataframe thead th {\n",
       "        text-align: right;\n",
       "    }\n",
       "</style>\n",
       "<table border=\"1\" class=\"dataframe\">\n",
       "  <thead>\n",
       "    <tr style=\"text-align: right;\">\n",
       "      <th></th>\n",
       "      <th>prev_items</th>\n",
       "      <th>next_item</th>\n",
       "      <th>locale</th>\n",
       "    </tr>\n",
       "  </thead>\n",
       "  <tbody>\n",
       "    <tr>\n",
       "      <th>0</th>\n",
       "      <td>['B0B42XZNCW' 'B07ND7MKVZ' 'B0B42XZNCW' 'B07ND...</td>\n",
       "      <td>B07S43KJL7</td>\n",
       "      <td>UK</td>\n",
       "    </tr>\n",
       "    <tr>\n",
       "      <th>1</th>\n",
       "      <td>['B09BW9Y1YR' 'B0B6Q3H47G']</td>\n",
       "      <td>B01EUNA3VS</td>\n",
       "      <td>UK</td>\n",
       "    </tr>\n",
       "  </tbody>\n",
       "</table>\n",
       "</div>"
      ],
      "text/plain": [
       "                                          prev_items   next_item locale\n",
       "0  ['B0B42XZNCW' 'B07ND7MKVZ' 'B0B42XZNCW' 'B07ND...  B07S43KJL7     UK\n",
       "1                        ['B09BW9Y1YR' 'B0B6Q3H47G']  B01EUNA3VS     UK"
      ]
     },
     "execution_count": 53,
     "metadata": {},
     "output_type": "execute_result"
    }
   ],
   "source": [
    "valid_sessions_df.head(2)"
   ]
  },
  {
   "cell_type": "code",
   "execution_count": 57,
   "metadata": {},
   "outputs": [
    {
     "data": {
      "text/plain": [
       "94574"
      ]
     },
     "execution_count": 57,
     "metadata": {},
     "output_type": "execute_result"
    }
   ],
   "source": [
    "valid_prediction_300_df = read_valid_300_prediction()\n",
    "len(valid_prediction_300_df)"
   ]
  },
  {
   "cell_type": "code",
   "execution_count": 58,
   "metadata": {},
   "outputs": [
    {
     "name": "stderr",
     "output_type": "stream",
     "text": [
      "100%|██████████| 94574/94574 [01:00<00:00, 1565.90it/s]\n"
     ]
    }
   ],
   "source": [
    "filtered_valid_prediction_300_df = filter_hist(valid_sessions_df, valid_prediction_300_df, 300)"
   ]
  },
  {
   "cell_type": "code",
   "execution_count": 10,
   "metadata": {},
   "outputs": [],
   "source": [
    "if 'scores' in filtered_valid_prediction_300_df:\n",
    "    filtered_valid_prediction_300_df.drop(columns=['scores'], inplace=True)"
   ]
  },
  {
   "cell_type": "code",
   "execution_count": 11,
   "metadata": {},
   "outputs": [
    {
     "data": {
      "text/html": [
       "<div>\n",
       "<style scoped>\n",
       "    .dataframe tbody tr th:only-of-type {\n",
       "        vertical-align: middle;\n",
       "    }\n",
       "\n",
       "    .dataframe tbody tr th {\n",
       "        vertical-align: top;\n",
       "    }\n",
       "\n",
       "    .dataframe thead th {\n",
       "        text-align: right;\n",
       "    }\n",
       "</style>\n",
       "<table border=\"1\" class=\"dataframe\">\n",
       "  <thead>\n",
       "    <tr style=\"text-align: right;\">\n",
       "      <th></th>\n",
       "      <th>next_item_prediction</th>\n",
       "    </tr>\n",
       "  </thead>\n",
       "  <tbody>\n",
       "    <tr>\n",
       "      <th>0</th>\n",
       "      <td>[B0BGS6VHTF, B0BGS7PZCS, B08KQ96C3V, B0BGS8M5F...</td>\n",
       "    </tr>\n",
       "    <tr>\n",
       "      <th>1</th>\n",
       "      <td>[B014GLJOLO, B014GLJIAG, B014GLJI92, B014GLJI2...</td>\n",
       "    </tr>\n",
       "    <tr>\n",
       "      <th>2</th>\n",
       "      <td>[B07C5TQVG5, B001TV6DKK, B000AQY0KU, B01EPQODR...</td>\n",
       "    </tr>\n",
       "    <tr>\n",
       "      <th>3</th>\n",
       "      <td>[B09CTRHVQ2, B09CTQXZ4X, B0BFHQ8PLJ, B0BFF8PWL...</td>\n",
       "    </tr>\n",
       "    <tr>\n",
       "      <th>4</th>\n",
       "      <td>[B076JB96D8, B09HH6VN55, B09HH3F41F, B09HH1BSS...</td>\n",
       "    </tr>\n",
       "    <tr>\n",
       "      <th>...</th>\n",
       "      <td>...</td>\n",
       "    </tr>\n",
       "    <tr>\n",
       "      <th>78324</th>\n",
       "      <td>[B07HKS5SH7, B09H7DRWB3, B0BJNTCF3T, B000FQNK9...</td>\n",
       "    </tr>\n",
       "    <tr>\n",
       "      <th>78325</th>\n",
       "      <td>[B09VB3VVJM, B093H2DK1N, B0B9S6PSPH, B07QT24FX...</td>\n",
       "    </tr>\n",
       "    <tr>\n",
       "      <th>78326</th>\n",
       "      <td>[B01ABQLWR2, B08WQL1J4K, B08XBZD3DP, B08CH8YVJ...</td>\n",
       "    </tr>\n",
       "    <tr>\n",
       "      <th>78327</th>\n",
       "      <td>[B01M58CVJN, B0145YNPDA, B01M4FMS8I, B07X1JMFN...</td>\n",
       "    </tr>\n",
       "    <tr>\n",
       "      <th>78328</th>\n",
       "      <td>[B079Z6142S, B094N3W4PG, B07YV55TNL, B079RTMPB...</td>\n",
       "    </tr>\n",
       "  </tbody>\n",
       "</table>\n",
       "<p>78329 rows × 1 columns</p>\n",
       "</div>"
      ],
      "text/plain": [
       "                                    next_item_prediction\n",
       "0      [B0BGS6VHTF, B0BGS7PZCS, B08KQ96C3V, B0BGS8M5F...\n",
       "1      [B014GLJOLO, B014GLJIAG, B014GLJI92, B014GLJI2...\n",
       "2      [B07C5TQVG5, B001TV6DKK, B000AQY0KU, B01EPQODR...\n",
       "3      [B09CTRHVQ2, B09CTQXZ4X, B0BFHQ8PLJ, B0BFF8PWL...\n",
       "4      [B076JB96D8, B09HH6VN55, B09HH3F41F, B09HH1BSS...\n",
       "...                                                  ...\n",
       "78324  [B07HKS5SH7, B09H7DRWB3, B0BJNTCF3T, B000FQNK9...\n",
       "78325  [B09VB3VVJM, B093H2DK1N, B0B9S6PSPH, B07QT24FX...\n",
       "78326  [B01ABQLWR2, B08WQL1J4K, B08XBZD3DP, B08CH8YVJ...\n",
       "78327  [B01M58CVJN, B0145YNPDA, B01M4FMS8I, B07X1JMFN...\n",
       "78328  [B079Z6142S, B094N3W4PG, B07YV55TNL, B079RTMPB...\n",
       "\n",
       "[78329 rows x 1 columns]"
      ]
     },
     "execution_count": 11,
     "metadata": {},
     "output_type": "execute_result"
    }
   ],
   "source": [
    "filtered_valid_prediction_300_df"
   ]
  },
  {
   "cell_type": "code",
   "execution_count": 56,
   "metadata": {},
   "outputs": [],
   "source": [
    "filtered_valid_prediction_300_df.to_parquet('/root/autodl-tmp/xiaolong/WorkSpace/Amazon-KDDCUP-23/text_method/phase2_task1_xlm_roberta_results/valid_results/phase2_task1_valid_300_filtered.parquet', engine='pyarrow')"
   ]
  },
  {
   "cell_type": "code",
   "execution_count": 22,
   "metadata": {},
   "outputs": [],
   "source": [
    "filtered_valid_prediction_150_df = copy.deepcopy(filtered_valid_prediction_300_df)\n",
    "filtered_valid_prediction_150_df['next_item_prediction'] = filtered_valid_prediction_300_df['next_item_prediction'].apply(lambda x : x[:150])"
   ]
  },
  {
   "cell_type": "code",
   "execution_count": 23,
   "metadata": {},
   "outputs": [],
   "source": [
    "filtered_valid_prediction_150_df.to_parquet('/root/autodl-tmp/xiaolong/WorkSpace/Amazon-KDDCUP-23/text_method/phase2_task1_roberta_results_UK_new_data/valid_results/phase2_task1_valid_150_with_score_UK_filtered.parquet', engine='pyarrow')"
   ]
  },
  {
   "attachments": {},
   "cell_type": "markdown",
   "metadata": {},
   "source": [
    "# test prediction"
   ]
  },
  {
   "cell_type": "code",
   "execution_count": 61,
   "metadata": {},
   "outputs": [],
   "source": [
    "product_data = read_product_data()"
   ]
  },
  {
   "cell_type": "code",
   "execution_count": 62,
   "metadata": {},
   "outputs": [
    {
     "data": {
      "text/plain": [
       "(                                 prev_items locale\n",
       " 0  ['B087VLP2RT' 'B09BRQSHYH' 'B099KW4ZLV']     DE\n",
       " 1  ['B08XW4W667' 'B096VMCJYF' 'B096VMCJYF']     DE,\n",
       " 316972)"
      ]
     },
     "execution_count": 62,
     "metadata": {},
     "output_type": "execute_result"
    }
   ],
   "source": [
    "test_sessions_df = read_test_data()\n",
    "test_sessions_df.head(2), len(test_sessions_df)"
   ]
  },
  {
   "cell_type": "code",
   "execution_count": 63,
   "metadata": {},
   "outputs": [
    {
     "data": {
      "text/plain": [
       "(316972, 350)"
      ]
     },
     "execution_count": 63,
     "metadata": {},
     "output_type": "execute_result"
    }
   ],
   "source": [
    "test_prediction_300_df = read_test_300_prediction()\n",
    "len(test_prediction_300_df), len(test_prediction_300_df.iloc[0]['next_item_prediction'])"
   ]
  },
  {
   "cell_type": "code",
   "execution_count": 64,
   "metadata": {},
   "outputs": [
    {
     "data": {
      "text/html": [
       "<div>\n",
       "<style scoped>\n",
       "    .dataframe tbody tr th:only-of-type {\n",
       "        vertical-align: middle;\n",
       "    }\n",
       "\n",
       "    .dataframe tbody tr th {\n",
       "        vertical-align: top;\n",
       "    }\n",
       "\n",
       "    .dataframe thead th {\n",
       "        text-align: right;\n",
       "    }\n",
       "</style>\n",
       "<table border=\"1\" class=\"dataframe\">\n",
       "  <thead>\n",
       "    <tr style=\"text-align: right;\">\n",
       "      <th></th>\n",
       "      <th>next_item_prediction</th>\n",
       "      <th>scores</th>\n",
       "    </tr>\n",
       "  </thead>\n",
       "  <tbody>\n",
       "    <tr>\n",
       "      <th>0</th>\n",
       "      <td>[B07GJXLBJ2, B078Y36QFJ, B099KW4ZLV, B08JW5DR7...</td>\n",
       "      <td>[289.486083984375, 289.4067687988281, 289.1253...</td>\n",
       "    </tr>\n",
       "    <tr>\n",
       "      <th>1</th>\n",
       "      <td>[B079NW6DQ1, B096VMCJYF, B0B2Z8DJYP, B079NVK7C...</td>\n",
       "      <td>[289.16607666015625, 288.5951843261719, 288.11...</td>\n",
       "    </tr>\n",
       "  </tbody>\n",
       "</table>\n",
       "</div>"
      ],
      "text/plain": [
       "                                next_item_prediction  \\\n",
       "0  [B07GJXLBJ2, B078Y36QFJ, B099KW4ZLV, B08JW5DR7...   \n",
       "1  [B079NW6DQ1, B096VMCJYF, B0B2Z8DJYP, B079NVK7C...   \n",
       "\n",
       "                                              scores  \n",
       "0  [289.486083984375, 289.4067687988281, 289.1253...  \n",
       "1  [289.16607666015625, 288.5951843261719, 288.11...  "
      ]
     },
     "execution_count": 64,
     "metadata": {},
     "output_type": "execute_result"
    }
   ],
   "source": [
    "test_prediction_300_df.head(2)"
   ]
  },
  {
   "cell_type": "code",
   "execution_count": 65,
   "metadata": {},
   "outputs": [
    {
     "name": "stderr",
     "output_type": "stream",
     "text": [
      "100%|██████████| 316972/316972 [08:23<00:00, 629.42it/s]\n"
     ]
    }
   ],
   "source": [
    "filtered_test_prediction_300_df = filter_hist(test_sessions_df, test_prediction_300_df, 300)"
   ]
  },
  {
   "cell_type": "code",
   "execution_count": 66,
   "metadata": {},
   "outputs": [
    {
     "data": {
      "text/plain": [
       "(300, 300)"
      ]
     },
     "execution_count": 66,
     "metadata": {},
     "output_type": "execute_result"
    }
   ],
   "source": [
    "len(filtered_test_prediction_300_df.iloc[0]['next_item_prediction']), len(filtered_test_prediction_300_df.iloc[0]['scores'])"
   ]
  },
  {
   "cell_type": "code",
   "execution_count": null,
   "metadata": {},
   "outputs": [],
   "source": [
    "if 'scores' in filtered_test_prediction_300_df:\n",
    "    filtered_test_prediction_300_df.drop(columns=['scores'], inplace=True)"
   ]
  },
  {
   "cell_type": "code",
   "execution_count": 46,
   "metadata": {},
   "outputs": [],
   "source": [
    "filtered_test_prediction_300_df.to_parquet('/root/autodl-tmp/xiaolong/WorkSpace/Amazon-KDDCUP-23/text_method/phase2_task1_xlm_roberta_results/test_results/phase2_task1_test_300_filtered.parquet')"
   ]
  },
  {
   "cell_type": "code",
   "execution_count": 47,
   "metadata": {},
   "outputs": [
    {
     "data": {
      "text/plain": [
       "100"
      ]
     },
     "execution_count": 47,
     "metadata": {},
     "output_type": "execute_result"
    }
   ],
   "source": [
    "filtered_test_prediction_100_df = copy.deepcopy(filtered_test_prediction_300_df)\n",
    "filtered_test_prediction_100_df['next_item_prediction'] = filtered_test_prediction_300_df['next_item_prediction'].apply(lambda x : x[:100])\n",
    "len(filtered_test_prediction_100_df.iloc[0]['next_item_prediction'])"
   ]
  },
  {
   "cell_type": "code",
   "execution_count": 48,
   "metadata": {},
   "outputs": [
    {
     "data": {
      "text/plain": [
       "100"
      ]
     },
     "execution_count": 48,
     "metadata": {},
     "output_type": "execute_result"
    }
   ],
   "source": [
    "filtered_test_prediction_100_df['scores'] = filtered_test_prediction_300_df['scores'].apply(lambda x : x[:100])\n",
    "len(filtered_test_prediction_100_df.iloc[0]['scores'])"
   ]
  },
  {
   "cell_type": "code",
   "execution_count": 49,
   "metadata": {},
   "outputs": [],
   "source": [
    "filtered_test_prediction_100_df.to_parquet('/root/autodl-tmp/xiaolong/WorkSpace/Amazon-KDDCUP-23/candidates/roberta/phase2_roberta_task1_test_100_with_score.parquet')"
   ]
  },
  {
   "attachments": {},
   "cell_type": "markdown",
   "metadata": {},
   "source": [
    "# calculate metrics"
   ]
  },
  {
   "cell_type": "code",
   "execution_count": 59,
   "metadata": {},
   "outputs": [],
   "source": [
    "def cal_hit_and_mrr(ground_truth_list, candidates_list):\n",
    "    hits, mrrs = [], []\n",
    "    for i in tqdm(range(len(ground_truth_list))):\n",
    "        ground_truth = ground_truth_list.iloc[i]\n",
    "        candidates = candidates_list.iloc[i]\n",
    "        hit, mrr = 0.0, 0.0\n",
    "        for j in range(len(candidates)):\n",
    "            if ground_truth == candidates[j]:\n",
    "                hit = 1.0\n",
    "                mrr = 1.0 / (j + 1)\n",
    "                break\n",
    "        hits.append(hit)\n",
    "        mrrs.append(mrr)\n",
    "    return np.array(hits).mean(), np.array(mrrs).mean()"
   ]
  },
  {
   "cell_type": "code",
   "execution_count": 25,
   "metadata": {},
   "outputs": [],
   "source": [
    "UK_valid_sessions_df = valid_sessions_df[valid_sessions_df['locale'] == 'UK']"
   ]
  },
  {
   "cell_type": "code",
   "execution_count": 14,
   "metadata": {},
   "outputs": [],
   "source": [
    "UK_valid_prediction_300_df = filtered_valid_prediction_300_df[valid_sessions_df['locale'] == 'UK']"
   ]
  },
  {
   "cell_type": "code",
   "execution_count": 15,
   "metadata": {},
   "outputs": [],
   "source": [
    "DE_valid_sessions_df = valid_sessions_df[valid_sessions_df['locale'] == 'DE']\n",
    "DE_valid_prediction_300_df = filtered_valid_prediction_300_df[valid_sessions_df['locale'] == 'DE']"
   ]
  },
  {
   "cell_type": "code",
   "execution_count": 26,
   "metadata": {},
   "outputs": [],
   "source": [
    "JP_valid_sessions_df = valid_sessions_df[valid_sessions_df['locale'] == 'JP']\n",
    "JP_valid_prediction_300_df = filtered_valid_prediction_300_df[valid_sessions_df['locale'] == 'JP']"
   ]
  },
  {
   "cell_type": "code",
   "execution_count": 27,
   "metadata": {},
   "outputs": [
    {
     "name": "stderr",
     "output_type": "stream",
     "text": [
      "100%|██████████| 88913/88913 [00:04<00:00, 18732.61it/s]\n"
     ]
    },
    {
     "data": {
      "text/plain": [
       "(0.7123592725473216, 0.17543721424179237)"
      ]
     },
     "execution_count": 27,
     "metadata": {},
     "output_type": "execute_result"
    }
   ],
   "source": [
    "cal_hit_and_mrr(DE_valid_sessions_df['next_item'], DE_valid_prediction_300_df['next_item_prediction'])"
   ]
  },
  {
   "cell_type": "code",
   "execution_count": 28,
   "metadata": {},
   "outputs": [
    {
     "name": "stderr",
     "output_type": "stream",
     "text": [
      "100%|██████████| 78329/78329 [00:03<00:00, 20957.78it/s]\n"
     ]
    },
    {
     "data": {
      "text/plain": [
       "(0.7002515032746492, 0.2096176694089955)"
      ]
     },
     "execution_count": 28,
     "metadata": {},
     "output_type": "execute_result"
    }
   ],
   "source": [
    "cal_hit_and_mrr(JP_valid_sessions_df['next_item'], JP_valid_prediction_300_df['next_item_prediction'])"
   ]
  },
  {
   "cell_type": "code",
   "execution_count": 29,
   "metadata": {},
   "outputs": [
    {
     "name": "stderr",
     "output_type": "stream",
     "text": [
      "100%|██████████| 94574/94574 [00:05<00:00, 17954.39it/s]\n"
     ]
    },
    {
     "data": {
      "text/plain": [
       "(0.6977816313151606, 0.17564609772143364)"
      ]
     },
     "execution_count": 29,
     "metadata": {},
     "output_type": "execute_result"
    }
   ],
   "source": [
    "cal_hit_and_mrr(UK_valid_sessions_df['next_item'], UK_valid_prediction_300_df['next_item_prediction'])"
   ]
  },
  {
   "cell_type": "code",
   "execution_count": 60,
   "metadata": {},
   "outputs": [
    {
     "name": "stderr",
     "output_type": "stream",
     "text": [
      "100%|██████████| 94574/94574 [00:04<00:00, 19917.14it/s]\n"
     ]
    },
    {
     "data": {
      "text/plain": [
       "(0.7324105991075771, 0.2240871480011947)"
      ]
     },
     "execution_count": 60,
     "metadata": {},
     "output_type": "execute_result"
    }
   ],
   "source": [
    "cal_hit_and_mrr(valid_sessions_df['next_item'], filtered_valid_prediction_300_df['next_item_prediction'])"
   ]
  },
  {
   "cell_type": "code",
   "execution_count": null,
   "metadata": {},
   "outputs": [],
   "source": [
    "cal_hit_and_mrr(valid_sessions_df['next_item'], filtered_valid_prediction_150_df['next_item_prediction'])"
   ]
  },
  {
   "cell_type": "code",
   "execution_count": 24,
   "metadata": {},
   "outputs": [],
   "source": [
    "product_data = read_product_data()\n",
    "product_data = product_data.set_index('id')"
   ]
  },
  {
   "cell_type": "code",
   "execution_count": 78,
   "metadata": {},
   "outputs": [],
   "source": [
    "def compare_title(index):\n",
    "    print('********last item*********')\n",
    "    prev_items = eval(valid_sessions_df.iloc[index]['prev_items'].replace(' ', ','))\n",
    "    last_item = prev_items[-1]\n",
    "    last_item_title = product_data.loc[last_item][['title', 'locale']]\n",
    "    print(last_item_title)\n",
    "    print('*******ground truth*******')\n",
    "    next_item = valid_sessions_df.iloc[index]['next_item']\n",
    "    next_item_title = product_data.loc[next_item][['title', 'locale']]\n",
    "    print(next_item_title)\n",
    "    print('*******prediction*********')\n",
    "    for i in range(10):\n",
    "        print(f'No. {i} : ')\n",
    "        candidate = valid_prediction_df.iloc[index]['next_item_prediction'][i]\n",
    "        predict_title = product_data.loc[candidate][['title', 'locale']]\n",
    "        print(predict_title)"
   ]
  },
  {
   "cell_type": "code",
   "execution_count": 47,
   "metadata": {},
   "outputs": [
    {
     "name": "stdout",
     "output_type": "stream",
     "text": [
      "********last item*********\n",
      "title     [5 Pcs] Stitch Makeup Brush Set, Lilo and Stit...\n",
      "locale                                                   UK\n",
      "Name: B09XHPY9PG, dtype: object\n",
      "*******ground truth*******\n",
      "title     Lilo and Stitch Temporary Tattoos 8 sheetsTemp...\n",
      "locale                                                   UK\n",
      "Name: B0B8MRC9HB, dtype: object\n",
      "*******prediction*********\n",
      "No. 0 : \n",
      "title     5Pcs Stitch Makeup Brush Set, Lilo and Stitch ...\n",
      "locale                                                   UK\n",
      "Name: B083NFMMF4, dtype: object\n",
      "No. 1 : \n",
      "title     [5 Pcs] Stitch Makeup Brush Set Lilo and Stitc...\n",
      "locale                                                   UK\n",
      "Name: B0BCDYXLGD, dtype: object\n",
      "No. 2 : \n",
      "title     [5 Pcs] Stitch Makeup Brush Set, Lilo and Stit...\n",
      "locale                                                   UK\n",
      "Name: B09XHPY9PG, dtype: object\n",
      "No. 3 : \n",
      "title     Disney Stitch Hair Brush, Detangle Hair Brush ...\n",
      "locale                                                   UK\n",
      "Name: B08R68MJ9Q, dtype: object\n",
      "No. 4 : \n",
      "title     Disney Stitch Gifts 3D Stationary Set with Sti...\n",
      "locale                                                   UK\n",
      "Name: B08TWYX7QX, dtype: object\n"
     ]
    }
   ],
   "source": [
    "compare_title(200)"
   ]
  },
  {
   "cell_type": "code",
   "execution_count": 48,
   "metadata": {},
   "outputs": [
    {
     "name": "stdout",
     "output_type": "stream",
     "text": [
      "********last item*********\n",
      "title     Magnetic Eyelashes False Eyelashes Natural Loo...\n",
      "locale                                                   UK\n",
      "Name: B09T32YPZ8, dtype: object\n",
      "*******ground truth*******\n",
      "                                                        title locale\n",
      "id                                                                  \n",
      "B0B2VMQ213  False Eyelashes, Russian Strip Lashes D Curl V...     UK\n",
      "B0B2VMQ213  Faux Cils 5 Styles Faux Cils Naturel Avec Coll...     FR\n",
      "*******prediction*********\n",
      "No. 0 : \n",
      "                                                        title locale\n",
      "id                                                                  \n",
      "B082FWPZ5Z  Künstliche Wimpern mit 3 Magneten, Dual Magnet...     DE\n",
      "B082FWPZ5Z  Magnetic Eyelashes, Magnetic lashes, Magnetic ...     UK\n",
      "No. 1 : \n",
      "title     Magnetic Eyelashes 5 Pares False Eyelashes wit...\n",
      "locale                                                   UK\n",
      "Name: B09Y5M5GLW, dtype: object\n",
      "No. 2 : \n",
      "title     Grandeur Magnetic Eyelashes Kit, 5 Pairs of Fa...\n",
      "locale                                                   UK\n",
      "Name: B09F8PL291, dtype: object\n",
      "No. 3 : \n",
      "                                                        title locale\n",
      "id                                                                  \n",
      "B08JQNKN3J  Magnetische Wimpern Fake Lashes Set - Magnet W...     DE\n",
      "B08JQNKN3J  Magnetic Eyelashes with Eyeliner Kit - Magneti...     UK\n",
      "No. 4 : \n",
      "title     Magnetic Eyelashes False Eyelashes Natural Loo...\n",
      "locale                                                   UK\n",
      "Name: B09T32YPZ8, dtype: object\n"
     ]
    }
   ],
   "source": [
    "compare_title(100)"
   ]
  },
  {
   "cell_type": "code",
   "execution_count": 49,
   "metadata": {},
   "outputs": [],
   "source": [
    "pd.set_option('max_colwidth',1000)"
   ]
  },
  {
   "cell_type": "code",
   "execution_count": 50,
   "metadata": {},
   "outputs": [
    {
     "data": {
      "text/plain": [
       "prev_items    ['B0BC8YRH6V' 'B0BC8YRH6V' 'B0BC1HCT56']\n",
       "next_item                                   B09GB3BD7R\n",
       "locale                                              JP\n",
       "Name: 1000, dtype: object"
      ]
     },
     "execution_count": 50,
     "metadata": {},
     "output_type": "execute_result"
    }
   ],
   "source": [
    "valid_sessions_df.iloc[1000]"
   ]
  },
  {
   "cell_type": "code",
   "execution_count": 51,
   "metadata": {},
   "outputs": [
    {
     "name": "stdout",
     "output_type": "stream",
     "text": [
      "********last item*********\n",
      "title     『2022冬新型』 セラミックヒーター 【知能恒温 メモリー機能】 セラミックファンヒーター 暖房器具 省エネ 電気ファンヒーター 首振り 3段階温度調整 800W/1200W 切り忘れ防止 二重過熱保護 転倒OFF タイマー機能 リモコン付き 大風量 速暖 電気ストーブ 電気ヒーター 足元 スリム タワー 脱衣所 寝室 トイレ 日本語取扱説明書 8畳 S720\n",
      "locale                                                                                                                                                                                        JP\n",
      "Name: B0BC1HCT56, dtype: object\n",
      "*******ground truth*******\n",
      "title     モダンデコ カーボンヒーター 電気 【保証1年間】 スリム 遠赤外線 足元 (ホワイト)\n",
      "locale                                              JP\n",
      "Name: B09GB3BD7R, dtype: object\n",
      "*******prediction*********\n",
      "No. 0 : \n",
      "title     『2022冬新型』 セラミックヒーター 【知能恒温 メモリー機能】 セラミックファンヒーター 暖房器具 省エネ 電気ファンヒーター 首振り 3段階温度調整 800W/1200W 切り忘れ防止 二重過熱保護 転倒OFF タイマー機能 リモコン付き 大風量 速暖 電気ストーブ 電気ヒーター 足元 スリム タワー 脱衣所 寝室 トイレ 日本語取扱説明書 8畳 S720\n",
      "locale                                                                                                                                                                                        JP\n",
      "Name: B0BC1HCT56, dtype: object\n",
      "No. 1 : \n",
      "title     セラミックヒーター 【恒温 首振り 速暖 省エネ】電気ストーブ セラミックファンヒーター 大風量 暖房器具 1200W足元ヒーター 冷暖兼用 2秒速暖 リモコン操作 3段階切替 12Hタイマー付きホット 過熱/転倒保護 子供部屋/リビング/寝室/書斎/キッチン/脱衣所/洗面所/トイレなど/オフィス適用 8畳 PSE認証済み\n",
      "locale                                                                                                                                                                    JP\n",
      "Name: B09FL32TV6, dtype: object\n",
      "No. 2 : \n",
      "title     【2022冬新型 & 知能恒温】 セラミックヒーター 小型 首振り 電気ファンヒーター ミニ ヒーター 暖房器具 速暖 マイナスイオン 大風量 1500W 立体送風 足元ヒーター 持ち運び 二重過熱保護 転倒OFF タイマー 窓下結露対策 寝室/脱衣所 トイレ 洗面所 オフィスに適用 日本語取扱説明書 リモコン操作可能 (ホワイト)\n",
      "locale                                                                                                                                                                         JP\n",
      "Name: B0BKKWS3GZ, dtype: object\n",
      "No. 3 : \n",
      "title     『2022新型』セラミックヒーター 電気ファンヒーター 大風量 セラミックファンヒーター 暖房器具 省エネ 知能恒温 メモリー機能 切り忘れ防止 二重過熱保護 転倒OFF 1-12hタイマー機能 リモコン付き 3段階温度調節 首振り 速暖 タワー 電気ストーブ 電気ヒーター 脱衣所寝室 トイレ 8畳 PSE認証済み 正規品 800W/1200W S720\n",
      "locale                                                                                                                                                                                    JP\n",
      "Name: B09G9KXSST, dtype: object\n",
      "No. 4 : \n",
      "title     セラミックヒーター 【2022年新登場・室温センサー付き】セラミックファンヒーター 自動首振り 大風量 即暖 ファンヒーター 電気 知能恒温 電気ストーブ ヒーター 3段階温風モード 10-30度温度設定 9時間タイマー 1200W リモコン 電気ヒーター 暖房器具 省エネ 転倒OFF 過熱保護 寝室 リビンク 脱衣所 トイレ 洗面所 キッチン オフィス 家庭用 持ち運び便利 日本PSE認証済み 日本語説明書 ホワイト\n",
      "locale                                                                                                                                                                                                                     JP\n",
      "Name: B0B92MMFNF, dtype: object\n"
     ]
    }
   ],
   "source": [
    "compare_title(1000)"
   ]
  },
  {
   "cell_type": "code",
   "execution_count": 52,
   "metadata": {},
   "outputs": [
    {
     "name": "stdout",
     "output_type": "stream",
     "text": [
      "********last item*********\n",
      "title     【EC限定】UHAグミサプリ鉄＆葉酸　60日分（10日分×6箱）\n",
      "locale                                  JP\n",
      "Name: B097X5WY6H, dtype: object\n",
      "*******ground truth*******\n",
      "title     【まとめ買い】グミサプリ　亜鉛＆マカ　30日分（60粒）　コーラ味　3個セット\n",
      "locale                                         JP\n",
      "Name: B09SKRW42Q, dtype: object\n",
      "*******prediction*********\n",
      "No. 0 : \n",
      "title     【EC限定】UHAグミサプリ鉄＆葉酸　60日分（10日分×6箱）\n",
      "locale                                  JP\n",
      "Name: B097X5WY6H, dtype: object\n",
      "No. 1 : \n",
      "title     グミサプリ UHAグミサプリ マルチビタミン 30日分SP 白 60 粒\n",
      "locale                                      JP\n",
      "Name: B08Y655N98, dtype: object\n",
      "No. 2 : \n",
      "title     ＵＨＡ味覚糖 ＵＨＡグミサプリ 鉄＆葉酸 ２０日分×３個\n",
      "locale                              JP\n",
      "Name: B01JKHKCOW, dtype: object\n",
      "No. 3 : \n",
      "title     【まとめ買い】グミサプリ　鉄　20日分（40粒）　グレープ味　3個セット\n",
      "locale                                      JP\n",
      "Name: B09SKY29S2, dtype: object\n",
      "No. 4 : \n",
      "title     UHAグミサプリ 鉄 20日分SP\n",
      "locale                   JP\n",
      "Name: B086X9CBRD, dtype: object\n"
     ]
    }
   ],
   "source": [
    "compare_title(2000)"
   ]
  },
  {
   "cell_type": "code",
   "execution_count": 53,
   "metadata": {},
   "outputs": [
    {
     "name": "stdout",
     "output_type": "stream",
     "text": [
      "********last item*********\n",
      "                                                                                                                                                                           title  \\\n",
      "id                                                                                                                                                                                 \n",
      "B08C4Q8QSK  Smart Steckdosenleiste für HomeKit WLAN Mehrfachsteckdose, Refoss mit 4 AC-Ausgänge und 4 USB-Anschlüsse, kompatibel für Apple Siri, Alexa, Google Assistant, 2,4Ghz   \n",
      "B08C4Q8QSK                         Smart power strip WiFi multiple socket, Refoss with 4 AC outlets and 4 USB ports, compatible with Apple Siri, Alexa, Google Assistant, 2.4Ghz   \n",
      "\n",
      "           locale  \n",
      "id                 \n",
      "B08C4Q8QSK     DE  \n",
      "B08C4Q8QSK     UK  \n",
      "*******ground truth*******\n",
      "title     Smart Power Strip WiFi Plug - Refoss Smart Outlets Smart Extension Lead 1.8m with 4 AC Outlets, Compatible with Amazon Alexa, Google Assistant, Support Voice/APP Control, Surge Protecting, 13A 250V\n",
      "locale                                                                                                                                                                                                       UK\n",
      "Name: B0B1MQ93KH, dtype: object\n",
      "*******prediction*********\n",
      "No. 0 : \n",
      "title     Meross Smart Plug with Energy Monitor Wi-Fi Outlet Work with Alexa Echo, Google Home, Smart Socket No Hub Required 13A (3-Pack)\n",
      "locale                                                                                                                                 UK\n",
      "Name: B0BC79WF1J, dtype: object\n",
      "No. 1 : \n",
      "title     Meross Smart Plug with Energy Monitor Wi-Fi Outlet Work with Alexa Echo, Google Home, Smart Socket No Hub Required 13A (2-Pack)\n",
      "locale                                                                                                                                 UK\n",
      "Name: B07QX6CF46, dtype: object\n",
      "No. 2 : \n",
      "title     Kasa Mini Smart Plug by TP-Link, WiFi Outlet with Energy Monitoring, Works with Amazon Alexa(Echo and Echo Dot), Google Home and Samsung SmartThings, Wireless Smart Socket (KP115)\n",
      "locale                                                                                                                                                                                     UK\n",
      "Name: B08LZWBTR6, dtype: object\n",
      "No. 3 : \n",
      "title     FrankEver Smart Plug,16A WiFi Outlet Plug Compatible with Alexa, Google Home, Wireless Socket with Remote Control, Timer Function, Energy Monitoring, No Hub Required, 2.4GHz ONLY, 4 Pack\n",
      "locale                                                                                                                                                                                            UK\n",
      "Name: B0B3ML1SDK, dtype: object\n",
      "No. 4 : \n",
      "title     FrankEver Smart Plug,16A WiFi Outlet Plug Compatible with Alexa, Google Home, Wireless Socket with Remote Control, Timer Function, Energy Monitoring, No Hub Required, 2.4GHz ONLY, 2 Pack\n",
      "locale                                                                                                                                                                                            UK\n",
      "Name: B0B3MN93RT, dtype: object\n"
     ]
    }
   ],
   "source": [
    "compare_title(5601)"
   ]
  },
  {
   "cell_type": "code",
   "execution_count": 55,
   "metadata": {},
   "outputs": [
    {
     "name": "stdout",
     "output_type": "stream",
     "text": [
      "********last item*********\n",
      "title     21.5カタワイドエキショウディスプレイ KA220HQbmidx (ヒコウタク/1920x1080/ブラック/ミニD-Sub15ピン・DVI-D24ピン・HDMI/スピーカー/フリッカーフリー/BLフィルター)\n",
      "locale                                                                                                            JP\n",
      "Name: B01EL89H6E, dtype: object\n",
      "*******ground truth*******\n",
      "title     Acer ゲーミングモニター ディスプレイ SigmaLine 21.5インチ KG221QAbmix 1ms(GTG) 75Hz TN FPS向き フルHD FreeSync HDMI スピーカー内蔵 ブルーライト軽減\n",
      "locale                                                                                                                JP\n",
      "Name: B07ZJFLTBF, dtype: object\n",
      "*******prediction*********\n",
      "No. 0 : \n",
      "title     21.5カタワイドエキショウディスプレイ KA220HQbmidx (ヒコウタク/1920x1080/ブラック/ミニD-Sub15ピン・DVI-D24ピン・HDMI/スピーカー/フリッカーフリー/BLフィルター)\n",
      "locale                                                                                                            JP\n",
      "Name: B01EL89H6E, dtype: object\n",
      "No. 1 : \n",
      "title     21.5カタワイドエキショウディスプレイ KA220HQbid (TN/ヒコウタク/1920x1080/200cd/100000000:1/5ms/ブラック/ミニD-Sub15ピン・DVI-D24ピン・HDMI)\n",
      "locale                                                                                                            JP\n",
      "Name: B00ZI9232Q, dtype: object\n",
      "No. 2 : \n",
      "title     BenQ モニター ディスプレイ GL2780 27インチ/フルHD/TN/1ms/75Hz/輝度自動調整/ブルーライト軽減/フリッカーフリー/HDMI/D-sub/DVI/DP/スピーカー\n",
      "locale                                                                                                 JP\n",
      "Name: B07WNTJMW5, dtype: object\n",
      "No. 3 : \n",
      "title     LG モニター ディスプレイ 22MN430M-BAJP 21.5インチ/フルHD/IPS 非光沢/HDMI×2、D-Sub/FreeSync/ブルーライト低減、フリッカーセーフ/3年安心・無輝点保証\n",
      "locale                                                                                                      JP\n",
      "Name: B09CYKQ724, dtype: object\n",
      "No. 4 : \n",
      "title     DELL U2718Q 液晶モニター 27インチ ディスプレイ/超広視野角/フレームレス/4K/IPS 非光沢/HDR10対応/DP/mDPx2/HDMI/高さ調整/回転 (整備済み品)\n",
      "locale                                                                                               JP\n",
      "Name: B0B2ZCSDN3, dtype: object\n"
     ]
    }
   ],
   "source": [
    "compare_title(45677)"
   ]
  },
  {
   "cell_type": "code",
   "execution_count": 63,
   "metadata": {},
   "outputs": [
    {
     "data": {
      "text/plain": [
       "next_item_prediction    [B00ZI9232Q, B07WNTJMW5, B09CYKQ724, B0B2ZCSDN3, B088HD6R5P, B086LMJKVY, B07V5BHZLW, B07XVR3XN2, B09NVXJY9M, B07V47WQD8, B0B2QPW4NM, B0989RJBY8, B094CCD62V, B088HBN5SJ, B09F3HR4BT, B088HF6Q3M, B0969CY544, B094CFGW3R, B095HH3G7N, B07NH8S9JL, B07XVQGH7X, B0973GF3F5, B09RPFXGJF, B0B14N36PS, B09F3X3P7P, B08KJ97ZJY, B07JPXTL28, B08GFWHRJC, B0B4QQT3YV, B08GBVWCR3, B0BDY3NQS7, B08HGNYMWZ, B094D5J7T8, B089QF5VLX, B0B3WTZM5S, B0973TSW7W, B00DCGO2PS, B07KM8RD34, B09T5H8TW1, B09QPHY4DK, B0B6NBJ68L, B085TWLMF9, B08HGHJ98B, B09CYBJ31X, B08HH3BQMF, B07NWT82B5, B085Y5BB1L, B088HBM7HQ, B08BRX2RKY, B01L8H204W, B0B13MP97X, B0BL3HPFWD, B09LH6Y1TQ, B07PQF1MQC, B09F4FJBF5, B091T1TY9L, B09TQCWMQB, B07DQPQKC8, B07J9WRFTR, B09WYWLD8L, B01FQ6JMDS, B07WPY8P3L, B0989THPPX, B08BRX9K95, B09WND7Y7J, B0B7QYHRP5, B01LMGK61S, B0B8Y5SLBF, B08ZSLDD77, B091T7ZSWH, B00FEZD86O, B0BCGQBZQZ, B0B2QNGHSK, B08ZYKGLZX, B08HN39MML, B09SY6FL4W, B09VGGKZDZ, B08HCSQCH3, B09BHG1RT7, B09PB3YC8N, B091SMKJC3, B091SWJJPJ, B09FJGPQYF,...\n",
       "scores                  [266.3050842285156, 266.1222839355469, 265.4594421386719, 265.43951416015625, 265.41656494140625, 265.3647766113281, 265.3627624511719, 265.35418701171875, 265.35223388671875, 265.3520812988281, 265.32757568359375, 265.32501220703125, 265.3063049316406, 265.3037414550781, 265.2931213378906, 265.2812194824219, 265.279296875, 265.276123046875, 265.2754211425781, 265.19866943359375, 265.1774597167969, 265.1695251464844, 265.15545654296875, 265.1450500488281, 265.14434814453125, 265.1411437988281, 265.13970947265625, 265.12774658203125, 265.1214904785156, 265.111083984375, 265.08441162109375, 265.08209228515625, 265.0797119140625, 265.075927734375, 265.0750732421875, 265.0397033691406, 265.0143127441406, 265.0086364746094, 265.0011901855469, 264.9990234375, 264.9974670410156, 264.9765319824219, 264.97650146484375, 264.9741516113281, 264.9739074707031, 264.967529296875, 264.9430236816406, 264.92529296875, 264.9193420410156, 264.9110412597656, 264.908203125, 264.9034729003906, 264.902740...\n",
       "Name: 45677, dtype: object"
      ]
     },
     "execution_count": 63,
     "metadata": {},
     "output_type": "execute_result"
    }
   ],
   "source": [
    "valid_prediction_df.iloc[45677]"
   ]
  },
  {
   "cell_type": "code",
   "execution_count": 64,
   "metadata": {},
   "outputs": [
    {
     "name": "stdout",
     "output_type": "stream",
     "text": [
      "********last item*********\n",
      "title     KIMO インパクトドライバー セット 20V 200N·m 高回転 電動インパクトドライバー ブラシレス 4モード 無段変速・正逆転両用 充電式インパクトドライバー LEDライト付き 過負荷保護 過熱保護 DIY 日曜大工 家具の組立て インパクトドライバー ビット6本 ソケット4本 2.0Ahバッテリー バッグ 日本語説明書付き PSE認証済み QM-3602B\n",
      "locale                                                                                                                                                                                          JP\n",
      "Name: B08L4TX8Q4, dtype: object\n",
      "*******ground truth*******\n",
      "title     靴下 メンズ ビジネスソックス 8足セット 綿 抗菌防臭 高通気性 24-28cm 銀イオン加工 吸汗 耐摩耗性 黒 四季適用\n",
      "locale                                                                 JP\n",
      "Name: B0866FBJTR, dtype: object\n",
      "*******prediction*********\n",
      "No. 0 : \n",
      "title     インパクトレンチ 電動インパクトレンチ コードレスインパクトレンチ 一台３役 ドリルドライバー インパクトドライバー 最大トルク600N·m マキタ18Vバッテリー対応可能 無段変速 ブラシレスモーター 正逆転両用 回転最大数:3300r/min 自動停止モード タイヤ交換 ホームメンテナンス ボルトの緩み ホイール交換 バッテリー・ケース付き\n",
      "locale                                                                                                                                                                               JP\n",
      "Name: B0B7JB55GS, dtype: object\n",
      "No. 1 : \n",
      "title     インパクトレンチ 充電式 21V 電動インパクト ドライバー バッテリー2個付き (レンチ320set)\n",
      "locale                                                      JP\n",
      "Name: B09ZKDBMCB, dtype: object\n",
      "No. 2 : \n",
      "title     KIMO インパクトドライバー 充電式 20V 最大トルク300N・m ブラシレス 電動インパクトドライバー コードレス インパクト 無段変速 正逆転両用 ドライバー 過負荷保護 過熱保護 2.0Ah 安全ロック インパクト ドライバー ビット6本 (バッテリー・充電器・収納バッグ・日本語説明書付き) PSE認証済み QM-3601B\n",
      "locale                                                                                                                                                                          JP\n",
      "Name: B07SV2Q6Q2, dtype: object\n",
      "No. 3 : \n",
      "title     電動インパクトレンチ 21V 充電式 コードレス 1台2役 豊かな付属品付き 無段変速 正逆転両用 最大トルク450N・m インパクトレンチ タイヤ交換 車 自動車の修理 過負荷保護 過熱保護 LEDライト 日本語マニュアル\n",
      "locale                                                                                                                  JP\n",
      "Name: B09N78DJNC, dtype: object\n",
      "No. 4 : \n",
      "title     VANQUE インパクトレンチ 電動インパクトレンチ 20V 最大トルク300N・m コードレス ブラシレスモーター 0-3000RPM 無段変速 2.0Ahバッテリー 約30分間連続使用 1時間快速充電 正逆転両用 自動停止機能 LEDライト 過負荷保護 過熱保護 車 ホイール タイヤ交換 インパクトレンチ 充電式 ソケット10本 PSE認証取得済み 日本語取扱説明書 V3603\n",
      "locale                                                                                                                                                                                                  JP\n",
      "Name: B0BJZ8JJJ1, dtype: object\n"
     ]
    }
   ],
   "source": [
    "compare_title(45647)"
   ]
  },
  {
   "cell_type": "code",
   "execution_count": 65,
   "metadata": {},
   "outputs": [
    {
     "name": "stdout",
     "output_type": "stream",
     "text": [
      "********last item*********\n",
      "title     デルフォニックス ロルバーン ポケット付メモ [リング式/切離しミシン目付き] A5 イエロー NRP08-YE\n",
      "locale                                                          JP\n",
      "Name: B007B8N2RC, dtype: object\n",
      "*******ground truth*******\n",
      "title     デルフォニックス ロルバーン ポケット付メモ [リング式/切離しミシン目付き] A5 ダークブルー NRP08-DB\n",
      "locale                                                            JP\n",
      "Name: B007B8N2YA, dtype: object\n",
      "*******prediction*********\n",
      "No. 0 : \n",
      "title     デルフォニックス ロルバーン ポケット付メモ [リング式/切離しミシン目付き] A5 ダークブルー NRP08-DB\n",
      "locale                                                            JP\n",
      "Name: B007B8N2YA, dtype: object\n",
      "No. 1 : \n",
      "title     デルフォニックス ロルバーン ポケット付メモ [リング式/切離しミシン目付き] A5 ライトブルー(新タイプ) NRP08-SB\n",
      "locale                                                                  JP\n",
      "Name: B01DPSRA88, dtype: object\n",
      "No. 2 : \n",
      "title     デルフォニックス ロルバーン ポケット付メモ [リング式/切離しミシン目付き] A5 ローズ NRP08-RO\n",
      "locale                                                         JP\n",
      "Name: B00CHI7Y52, dtype: object\n",
      "No. 3 : \n",
      "title     デルフォニックス ロルバーン ポケット付メモ [リング式/切離しミシン目付き] A5 ライトピンク NRP08-BP\n",
      "locale                                                            JP\n",
      "Name: B01IOIZHWU, dtype: object\n",
      "No. 4 : \n",
      "title     [デルフォニックス] ロルバーン ポケット付メモA5（ライトパープル）\n",
      "locale                                     JP\n",
      "Name: B085GDZ9T9, dtype: object\n"
     ]
    }
   ],
   "source": [
    "compare_title(65647)"
   ]
  },
  {
   "cell_type": "code",
   "execution_count": 66,
   "metadata": {},
   "outputs": [
    {
     "name": "stdout",
     "output_type": "stream",
     "text": [
      "********last item*********\n",
      "title     USB Plug Charger,Rekavin Dual Port USB Wall Plug Adapter UK Compact Mains Charge 2.1A with Smart IC Charging Technology for iPhone 11 Xs/XS Max/XR/X/8/7/6/Plus,iPad Pro/Air 2/Mini 4 etc\n",
      "locale                                                                                                                                                                                           UK\n",
      "Name: B08L6JJ9M2, dtype: object\n",
      "*******ground truth*******\n",
      "title     USB Plug UK Mains Charger,Rekavin Dual USB Plug Adapter UK Compact Wall Charge Head 2.1A with Smart IC Fast Charging Technology for iPhone 13 12 11 Xs/XS Max/XR/X/8/7/6/Plus,iPad Pro/Air 2/Mini 4 etc\n",
      "locale                                                                                                                                                                                                         UK\n",
      "Name: B09K6C8ZWP, dtype: object\n",
      "*******prediction*********\n",
      "No. 0 : \n",
      "title     USB Plug Charger,Rekavin Dual Port USB Wall Plug Adapter UK Compact Mains Charge 2.4A with Smart IC Fast Charging Technology for iPhone 13 Pro Max/12/11 Pro/Xs/XR/8/7,iPad,Samsung,Huawei,Android ect\n",
      "locale                                                                                                                                                                                                        UK\n",
      "Name: B09H47YLHC, dtype: object\n",
      "No. 1 : \n",
      "title     Multi USB Plug Charger UK, 4-Port USB Wall Charger Plug, QC 3.0 3.1A Fast Charging Power Adapter with Smart Device-Adaptive Quick Charging Technology for All Smartphone\n",
      "locale                                                                                                                                                                          UK\n",
      "Name: B0B6194XMC, dtype: object\n",
      "No. 2 : \n",
      "title     30W USB Plug Charger USB Wall Chargers 3-Port Mains Adapter Plug Power with Fast Charging Technology for iPhone 13 Pro X XR XS Max Galaxy Samsung iPad Pro Air 4 Mini 4 and More Black\n",
      "locale                                                                                                                                                                                        UK\n",
      "Name: B09S5H7MXR, dtype: object\n",
      "No. 3 : \n",
      "title     USB Plug Charger [2 Pack],Rekavin Dual USB Plug Adapter UK Wall Mains Charge 2Port with Smart IC Fast Charging Technology for iPhone 11 XS Max XR X 8 7 6,iPad Pro 2018,Samsung,Huawei,Android ect\n",
      "locale                                                                                                                                                                                                    UK\n",
      "Name: B08L6M76C6, dtype: object\n",
      "No. 4 : \n",
      "title     USB Plug Charger Dual Port Quick 3.0 Fast Charger Plug 30W USB Wall Charger,Multi USB Plug Power Adapter UK Mains Charge Fast Charging for Samsung Galaxy S22 S21 S10 S9 S8 Google Pixel 6 White\n",
      "locale                                                                                                                                                                                                  UK\n",
      "Name: B0BBKNXW5P, dtype: object\n"
     ]
    }
   ],
   "source": [
    "compare_title(65747)"
   ]
  },
  {
   "cell_type": "code",
   "execution_count": 67,
   "metadata": {},
   "outputs": [
    {
     "name": "stdout",
     "output_type": "stream",
     "text": [
      "********last item*********\n",
      "title     Merriway BH01938 100mm (4 inch) Sink Plunger with 225mm (9 inch) Plastic Handle Diameter, White/Black\n",
      "locale                                                                                                       UK\n",
      "Name: B00TQWT2WK, dtype: object\n",
      "*******ground truth*******\n",
      "title     O.R.S Hydration Tablets with Electrolytes, Vegan, Gluten and Lactose Free Formula – Soluble Sports Hydration Tablets with Natural Blackcurrant Flavour, 24 Tablets\n",
      "locale                                                                                                                                                                    UK\n",
      "Name: B00NGTCKWS, dtype: object\n",
      "*******prediction*********\n",
      "No. 0 : \n",
      "title     Merriway BH03116 Sink Plunger 150mm (6 inch) Dia. with 225mm (9 inch) Plastic Handle\n",
      "locale                                                                                      UK\n",
      "Name: B00OBFZF5A, dtype: object\n",
      "No. 1 : \n",
      "title     PLUMB-PAK T627AMZ Mini Sink Plunger(Packaging May Vary)\n",
      "locale                                                         UK\n",
      "Name: B002OB4CRA, dtype: object\n",
      "No. 2 : \n",
      "title     Rohi Heavy Duty Force Rubber Sink Drain Plunger 5 1/2\" with 16\" Handle - Fix Clogged Toilets and Drains\n",
      "locale                                                                                                         UK\n",
      "Name: B07QS47PK7, dtype: object\n",
      "No. 3 : \n",
      "title     Morrisons Sink Plunger\n",
      "locale                        UK\n",
      "Name: B09QJ2F8VV, dtype: object\n",
      "No. 4 : \n",
      "title     Rubber Sink Plunger - IDEAL FOR TOILET, SINK, DRAIN, CLEANING AND UNBLOCKING\n",
      "locale                                                                              UK\n",
      "Name: B0727RT9WM, dtype: object\n"
     ]
    }
   ],
   "source": [
    "compare_title(65847)"
   ]
  },
  {
   "cell_type": "code",
   "execution_count": 69,
   "metadata": {},
   "outputs": [
    {
     "name": "stdout",
     "output_type": "stream",
     "text": [
      "********last item*********\n",
      "title     【BLKP】 パール金属 保温 弁当箱 ランチ ジャー 限定 ブラック 1060 ご飯茶碗 約2.7杯分 どんぶり BLKP 黒 AZ-5025\n",
      "locale                                                                          JP\n",
      "Name: B07S4W67QT, dtype: object\n",
      "*******ground truth*******\n",
      "title     【BLKP】 パール金属 スープジャー 270ml 限定 ブラック フードジャー 保温 弁当箱 BLKP 黒 AZ-5026\n",
      "locale                                                                JP\n",
      "Name: B07QMRS6KL, dtype: object\n",
      "*******prediction*********\n",
      "No. 0 : \n",
      "title     タイガー 魔法瓶 保温 弁当箱 ステンレス ランチ ジャー 茶碗 約 3 杯分 ブラック LWU-A172-KM Tiger\n",
      "locale                                                                JP\n",
      "Name: B01K1QPFB6, dtype: object\n",
      "No. 1 : \n",
      "title     パール金属 ランチジャー 1500 弁当箱 どんぶり 全真空 ステンレス 保温 保冷 ブラック ホームレーベル HB-5668\n",
      "locale                                                                 JP\n",
      "Name: B09QFRNP86, dtype: object\n",
      "No. 2 : \n",
      "title     タイガー 魔法瓶 保温 弁当箱 ステンレス ランチ ジャー 茶碗 約 4 杯分 ブラック LWU-A202-KM Tiger\n",
      "locale                                                                JP\n",
      "Name: B01K1QPGTM, dtype: object\n",
      "No. 3 : \n",
      "title     パール金属 ランチジャー 1500 弁当箱 どんぶり 全真空 ステンレス 保温 保冷 ホワイト ホームレーベル HB-5670\n",
      "locale                                                                 JP\n",
      "Name: B09QS8H1HY, dtype: object\n",
      "No. 4 : \n",
      "title     パール金属 ランチジャー 1000 弁当箱 どんぶり 全真空 ステンレス 保温 保冷 ブラック ホームレーベル HB-5665\n",
      "locale                                                                 JP\n",
      "Name: B09QRGSCRB, dtype: object\n"
     ]
    }
   ],
   "source": [
    "compare_title(65947)"
   ]
  },
  {
   "cell_type": "code",
   "execution_count": 70,
   "metadata": {},
   "outputs": [
    {
     "name": "stdout",
     "output_type": "stream",
     "text": [
      "********last item*********\n",
      "title     おつまみセット 詰め合わせ 12種12品 Aセット (おつまみセット)\n",
      "locale                                     JP\n",
      "Name: B0BCX4ZG9C, dtype: object\n",
      "*******ground truth*******\n",
      "title     駄菓子 お菓子 詰め合わせ プレゼント 食べ比べ アソート 50種約55個入 (駄菓子詰め合わせ)\n",
      "locale                                                   JP\n",
      "Name: B0B566J6X4, dtype: object\n",
      "*******prediction*********\n",
      "No. 0 : \n",
      "title     おつまみセット 詰め合わせ お楽しみランダムセット 10食入り\n",
      "locale                                 JP\n",
      "Name: B08CZNFQVT, dtype: object\n",
      "No. 1 : \n",
      "title     おつまみセット 詰め合わせ お楽しみバラエティーセット 12食入り\n",
      "locale                                   JP\n",
      "Name: B08LN3MLW3, dtype: object\n",
      "No. 2 : \n",
      "title     大人の厳選 おつまみ 30点セット 珍味 駄菓子 詰め合わせ 人気 お楽しセット まとめ買い・大人買い\n",
      "locale                                                     JP\n",
      "Name: B09BBH7KFL, dtype: object\n",
      "No. 3 : \n",
      "title     グリコ おつまみセット15品　ジョッキ型ＢＯＸ入り\n",
      "locale                           JP\n",
      "Name: B071ZBC8XR, dtype: object\n",
      "No. 4 : \n",
      "title     おつまみセット 詰め合わせ 人気 ギフト 世界の珍味シリーズ 8種セット おしゃれ 高級 珍味 お取り寄せ\n",
      "locale                                                       JP\n",
      "Name: B09CGQ69XG, dtype: object\n"
     ]
    }
   ],
   "source": [
    "compare_title(65748)"
   ]
  },
  {
   "cell_type": "code",
   "execution_count": 71,
   "metadata": {},
   "outputs": [
    {
     "name": "stdout",
     "output_type": "stream",
     "text": [
      "********last item*********\n",
      "                                                                                                                                                                                title  \\\n",
      "id                                                                                                                                                                                      \n",
      "B07QKXWP26           Odoland Campingkocher 3500W Gaskocher mit Piezozündung, Winddicht Gas Campingkocher für alle Schraubkartusche Gasbrenner, mit Adapter Faltbar Camping Kocher Rot   \n",
      "B07QKXWP26  Odoland 3500W Windproof Camping Gas Stove Portable Collapsible Outdoor Camping Stove with Piezo Ignition Backpacking Stove for Outdoor Cooking Hiking Picnic and Trekking   \n",
      "\n",
      "           locale  \n",
      "id                 \n",
      "B07QKXWP26     DE  \n",
      "B07QKXWP26     UK  \n",
      "*******ground truth*******\n",
      "title     ROTHENBERGER Industrial Hockerkocher inkl. 1,5 m Propan-Gas-Schlauch & Propan-Konstantregler für Camping, Outdoor, nur für die Verwendung im Freien, für den Anschluss an Propangasflasche 1500001392\n",
      "locale                                                                                                                                                                                                       DE\n",
      "Name: B01M0R2719, dtype: object\n",
      "*******prediction*********\n",
      "No. 0 : \n",
      "title     Odoland Campingkocher 3500W Gaskocher mit Piezozündung Adapter und Faltbar Aluminium Windschutz Gas Campingkocher für Schraubkartusche Gasbrenner Faltbar Camping Kocher für Wandern Picknick Outdoor\n",
      "locale                                                                                                                                                                                                       DE\n",
      "Name: B09V2N24ST, dtype: object\n",
      "No. 1 : \n",
      "title     Gaskocher Campingkocher 2-flammig DUO + Gasschlauch und Druckminderer\n",
      "locale                                                                       DE\n",
      "Name: B08XXWPCT9, dtype: object\n",
      "No. 2 : \n",
      "title     Campingkocher Gaskocher mit Piezozündung, 3500W Camping Kocher für alle Schraubkartusche Kartuschen, Faltbar Gas Campingkocher mit Tragebox und Gas Adapter\n",
      "locale                                                                                                                                                             DE\n",
      "Name: B07V2HM67L, dtype: object\n",
      "No. 3 : \n",
      "title     CAGO Gaskocher Camping-Kocher 2 flammig mit elektrischer Zündung und Zündsicherung, inkl. Gasschlauch mit 360°-Manometer Gas-Füllstandsanzeige und Schlauchbruchsicherung 3 4\n",
      "locale                                                                                                                                                                               DE\n",
      "Name: B07ZQM35QF, dtype: object\n",
      "No. 4 : \n",
      "                                                                                                                                                                                         title  \\\n",
      "id                                                                                                                                                                                               \n",
      "B08QN2BF5M        Campingaz Camping Cook CV Gaskocher, 2-flammig, Campingkocher, Betrieb mit Gaskartusche, Campingkocher mit 3.6 Watt, Kartuschenkocher mit 2 stufenlos regelbaren Kochplatten   \n",
      "B08QN2BF5M  Campingaz Camping Cook CV Gas Stove, 2-Burner, Camping Stove, Operation with Gas Cartridge, Portable Gas Stove with 3600 W, Cartridge Stove with 2 Infinitely Adjustable Hotplates   \n",
      "\n",
      "           locale  \n",
      "id                 \n",
      "B08QN2BF5M     DE  \n",
      "B08QN2BF5M     UK  \n"
     ]
    }
   ],
   "source": [
    "compare_title(65758)"
   ]
  },
  {
   "cell_type": "code",
   "execution_count": 72,
   "metadata": {},
   "outputs": [
    {
     "name": "stdout",
     "output_type": "stream",
     "text": [
      "********last item*********\n",
      "title     SINOPHANT High Waisted Leggings for Women, Buttery Soft Elastic Opaque Tummy Control Leggings, Plus Size Workout Gym Yoga Stretchy Pants (Navy1,L-XL)\n",
      "locale                                                                                                                                                       UK\n",
      "Name: B07Q34R58W, dtype: object\n",
      "*******ground truth*******\n",
      "title     SINOPHANT High Waisted Leggings for Women, Buttery Soft Elastic Opaque Tummy Control Leggings, Plus Size Workout Gym Yoga Stretchy Pants (Plum purple1,L-XL)\n",
      "locale                                                                                                                                                              UK\n",
      "Name: B07SL9XKN1, dtype: object\n",
      "*******prediction*********\n",
      "No. 0 : \n",
      "                                                                                                                                                                                                        title  \\\n",
      "id                                                                                                                                                                                                              \n",
      "B082HMQ14X  SINOPHANT Sport Leggings Damen Mit Hohem Bund Elastische Blickdichte Leggins Mit Bauchkontrolle Große Größen Stretchhose für Workout Gymnastik Yogahose,1er Pack Schwarz,4XL-6XL (Tag: Plus Size)   \n",
      "B082HMQ14X                                              SINOPHANT High Waisted Leggings for Women, Buttery Soft Elastic Opaque Tummy Control Leggings, Plus Size Workout Gym Yoga Stretchy Pants (Black1,XXL)   \n",
      "B082HMQ14X                                                                    SINOPHANT Leggins Mujer, Pantalon Deporte Yoga Mujer, Leggings Mujer Fitness Suaves Elásticos Cintura Alta para Reducir Vientre   \n",
      "\n",
      "           locale  \n",
      "id                 \n",
      "B082HMQ14X     DE  \n",
      "B082HMQ14X     UK  \n",
      "B082HMQ14X     ES  \n",
      "No. 1 : \n",
      "                                                                                                                                                            title  \\\n",
      "id                                                                                                                                                                  \n",
      "B07P2D25CW                                          SINOPHANT Leggings Damen High Waist - Blickdicht Leggins mit Bauchkontrolle für Sport Yoga Gym(1 Schwarz,S-M)   \n",
      "B07P2D25CW  SINOPHANT High Waisted Leggings for Women, Buttery Soft Elastic Opaque Tummy Control Leggings, Plus Size Workout Gym Yoga Stretchy Pants (Black1,S-M)   \n",
      "B07P2D25CW                        SINOPHANT Leggins Mujer, Pantalon Deporte Yoga Mujer, Leggings Mujer Fitness Suaves Elásticos Cintura Alta para Reducir Vientre   \n",
      "\n",
      "           locale  \n",
      "id                 \n",
      "B07P2D25CW     DE  \n",
      "B07P2D25CW     UK  \n",
      "B07P2D25CW     ES  \n",
      "No. 2 : \n",
      "title     SINOPHANT High Waisted Leggings for Women, Buttery Soft Elastic Opaque Tummy Control Leggings, Plus Size Workout Gym Yoga Stretchy Pants (Grey1,L-XL)\n",
      "locale                                                                                                                                                       UK\n",
      "Name: B07Q5676DQ, dtype: object\n",
      "No. 3 : \n",
      "                                                                                                                                                                                       title  \\\n",
      "id                                                                                                                                                                                             \n",
      "B07NY5LQHL  SINOPHANT Hochtaillierte Leggings für Damen - Angenehm Weiche Elastische, Dehnbare Sport- und Yogahosen , 3er Pack(schwarz + Holzkohle + Braun), S-L (Herstellergröße: ONE SIZE)   \n",
      "B07NY5LQHL              SINOPHANT High Waisted Leggings for Women, Buttery Soft Elastic Opaque Tummy Control Leggings, Plus Size Workout Gym Yoga Stretchy Pants (Black+ArmyGreen+Brown,S-M)   \n",
      "\n",
      "           locale  \n",
      "id                 \n",
      "B07NY5LQHL     DE  \n",
      "B07NY5LQHL     UK  \n",
      "No. 4 : \n",
      "                                                                                                                                                               title  \\\n",
      "id                                                                                                                                                                     \n",
      "B07Q33Z5X1  SINOPHANT Hochtaillierte Leggings für Damen - Angenehm Weiche Elastische, Dehnbare Sport- und Yogahosen , 1er Pack Grau, S-L (Herstellergröße: ONE SIZE)   \n",
      "B07Q33Z5X1      SINOPHANT High Waisted Leggings for Women, Buttery Soft Elastic Opaque Tummy Control Leggings, Plus Size Workout Gym Yoga Stretchy Pants (Grey1,S-M)   \n",
      "B07Q33Z5X1                           SINOPHANT Leggins Mujer, Pantalon Deporte Yoga Mujer, Leggings Mujer Fitness Suaves Elásticos Cintura Alta para Reducir Vientre   \n",
      "\n",
      "           locale  \n",
      "id                 \n",
      "B07Q33Z5X1     DE  \n",
      "B07Q33Z5X1     UK  \n",
      "B07Q33Z5X1     ES  \n"
     ]
    }
   ],
   "source": [
    "compare_title(65768)"
   ]
  },
  {
   "cell_type": "code",
   "execution_count": 73,
   "metadata": {},
   "outputs": [
    {
     "name": "stdout",
     "output_type": "stream",
     "text": [
      "********last item*********\n",
      "title     Keine Werbung Aufkleber - Schild – Folie - Sticker (Stop Bitte Keine Kostenlose Zeitung, Reklame, Flyer, Handzettel, Wurfsendungen, Wochenblätter, Werbung) für den Briefkasten - 1 Stück\n",
      "locale                                                                                                                                                                                           DE\n",
      "Name: B091GKW3K2, dtype: object\n",
      "*******ground truth*******\n",
      "title     5 x Keine Werbung Aufkleber - Schild extra starke Folie - Sticker (Stop Bitte Keine Kostenlose Zeitung, Reklame, Flyer, Handzettel, Wurfsendungen, Wochenblätter, Werbung) für den Briefkasten - 5 Stück\n",
      "locale                                                                                                                                                                                                          DE\n",
      "Name: B091FSFR2D, dtype: object\n",
      "*******prediction*********\n",
      "No. 0 : \n",
      "title     5 x Keine Werbung Aufkleber - Schild extra starke Folie - Sticker (Stop Bitte Keine Kostenlose Zeitung, Reklame, Flyer, Handzettel, Wurfsendungen, Wochenblätter, Werbung) für den Briefkasten - 5 Stück\n",
      "locale                                                                                                                                                                                                          DE\n",
      "Name: B091FSFR2D, dtype: object\n",
      "No. 1 : \n",
      "title     10 x Keine Werbung Aufkleber - Schild – Folie - Sticker (Stop Bitte Keine Kostenlose Zeitung, Flyer, Handzettel, Wurfsendungen, Wochenblätter, Werbung) für den Briefkasten - 10 Stück\n",
      "locale                                                                                                                                                                                        DE\n",
      "Name: B091FV5VRQ, dtype: object\n",
      "No. 2 : \n",
      "title     immi 4 St. XXL Keine Werbung Aufkleber, Edelstahl-Optik, 100x31mm\n",
      "locale                                                                   DE\n",
      "Name: B09822DP68, dtype: object\n",
      "No. 3 : \n",
      "title     Aufkleber Stop Bitte keine Werbung und kostenlose Zeitung einwerfen! I 8,5 x 3 cm I Gegen Reklame im Briefkasten I wetterfest I hin_083\n",
      "locale                                                                                                                                         DE\n",
      "Name: B00PULPENM, dtype: object\n",
      "No. 4 : \n",
      "title     5 x Keine Werbung Aufkleber für Briefkasten (6,7 x 2,1 cm klein) - Keine kostenlosen Zeitungen und Reklame einwerfen - Briefkastenaufkleber - Selbstklebend - Edelstahl Optik\n",
      "locale                                                                                                                                                                               DE\n",
      "Name: B07X59V73D, dtype: object\n"
     ]
    }
   ],
   "source": [
    "compare_title(65778)"
   ]
  },
  {
   "cell_type": "code",
   "execution_count": 74,
   "metadata": {},
   "outputs": [
    {
     "name": "stdout",
     "output_type": "stream",
     "text": [
      "********last item*********\n",
      "title     Hakenleiste TALIDA Edelstahl selbstklebend mit 3M Klebepad (Länge: 735 mm / Stangen-Ø 12 mm) inkl. 3 S-Haken für Küche und Bad Küchenhaken von SO-TECH®\n",
      "locale                                                                                                                                                         DE\n",
      "Name: B07Y1RKVP4, dtype: object\n",
      "*******ground truth*******\n",
      "                                                                                                                                                                       title  \\\n",
      "id                                                                                                                                                                             \n",
      "B09DL9MFNH           Joejis Hakenleiste Küche - Küchenstange - Starker Selbstklebend 3M Ohne Bohren - Küchenleiste Stange für Küchenutensilien -Küchenhelfer Leiste - Silber   \n",
      "B09DL9MFNH  Joejis Kitchen Utensil Rack 40cm - Aluminium Kitchen Rail with 8 Hanging Hooks - Wall Mount Strong 3M Self Adhesive - No Drill Space-Saving Tool Holder - Silver   \n",
      "\n",
      "           locale  \n",
      "id                 \n",
      "B09DL9MFNH     DE  \n",
      "B09DL9MFNH     UK  \n",
      "*******prediction*********\n",
      "No. 0 : \n",
      "title     tesa Powerstrips Hakenleiste, weiß - selbstklebender 3er-Haken für Küche und Bad, Kunststoff - Haken-Leiste für Handtücher sowie Bad- und Küchenutensilien - belastbar bis 3 kg\n",
      "locale                                                                                                                                                                                 DE\n",
      "Name: B0014EI0E4, dtype: object\n",
      "No. 1 : \n",
      "title     tesa Powerstrips Hakenleiste, matt-chrom - selbstklebender 3er-Haken für Küche und Bad, Kunststoff - Haken-Leiste für Handtücher sowie Bad- und Küchenutensilien - belastbar bis 3 kg\n",
      "locale                                                                                                                                                                                       DE\n",
      "Name: B000U3YN5U, dtype: object\n",
      "No. 2 : \n",
      "title     Designfabrik Hamburg | Hakenleiste Küchenleiste selbstklebend Küche Hängeleiste Stange für Küchenutensilien | Küchenhalterung ohne bohren | 4x Zusatzhaken Schwarz\n",
      "locale                                                                                                                                                                    DE\n",
      "Name: B09L6KRTMD, dtype: object\n",
      "No. 3 : \n",
      "title     Hakenleiste für Küchenutensilien mit 8 Haken - Ohne Bohren - Selbstklebend - 40 cm\n",
      "locale                                                                                    DE\n",
      "Name: B09DSKX86C, dtype: object\n",
      "No. 4 : \n",
      "title     LouMaxx Hakenleiste – Kleiderhaken Wand 2er Set Chrom – Gaderobenhakenleiste – optimaler Helfer für Küche, Bad und Garage\n",
      "locale                                                                                                                           DE\n",
      "Name: B08GLQ448S, dtype: object\n"
     ]
    }
   ],
   "source": [
    "compare_title(65779)"
   ]
  },
  {
   "cell_type": "code",
   "execution_count": 75,
   "metadata": {},
   "outputs": [
    {
     "name": "stdout",
     "output_type": "stream",
     "text": [
      "********last item*********\n",
      "title     3M Extension Lead with USB Slots, 4 Way 2 USB Extension Socket with Individual Switches Mountable Power Strips with 3M Extension cable 3250W\n",
      "locale                                                                                                                                              UK\n",
      "Name: B09CTTXVN5, dtype: object\n",
      "*******ground truth*******\n",
      "title     Masterplug BSG3-MP Four Socket Long Extension Lead, 3 Metres, 13 Amp, White\n",
      "locale                                                                             UK\n",
      "Name: B0030WRXDM, dtype: object\n",
      "*******prediction*********\n",
      "No. 0 : \n",
      "title     Pro Elec pl15152 2 Gang 3 m Extension Lead - White\n",
      "locale                                                    UK\n",
      "Name: B078Y4JNXP, dtype: object\n",
      "No. 1 : \n",
      "title     Masterplug BTG5-MP Two Socket Extension Lead, 5 Metres, White\n",
      "locale                                                               UK\n",
      "Name: B0036162JI, dtype: object\n",
      "No. 2 : \n",
      "title     Mscien Extension Lead 2M with USB Slots, 13A 4 Way Plug Sockets with Individual Switches 2 USB Ports Extension Cord Mountable Power Strips with 2 Meter extension cable 3250W\n",
      "locale                                                                                                                                                                               UK\n",
      "Name: B09MJZ492H, dtype: object\n",
      "No. 3 : \n",
      "title     PRO ELEC - Extension Lead, 3 Socket, 2 Metres (Black)\n",
      "locale                                                       UK\n",
      "Name: B01EK8T828, dtype: object\n",
      "No. 4 : \n",
      "title     Pro Elec BS1363 3m 2 Gang Extension Lead - Black\n",
      "locale                                                  UK\n",
      "Name: B071VF6F5J, dtype: object\n"
     ]
    }
   ],
   "source": [
    "compare_title(65789)"
   ]
  },
  {
   "cell_type": "code",
   "execution_count": 76,
   "metadata": {},
   "outputs": [
    {
     "name": "stdout",
     "output_type": "stream",
     "text": [
      "********last item*********\n",
      "title     システムK カーペット ラグ ラグマット 防ダニ 抗菌 防臭 洗える ふわふわ肌触り 滑り止めホットカーペット対応 約3畳 トライアングルイエロー 200×250cm\n",
      "locale                                                                                     JP\n",
      "Name: B09S5ZXZCX, dtype: object\n",
      "*******ground truth*******\n",
      "title     システムK カーペット ラグ ラグマット 防ダニ 抗菌 防臭 洗える ふわふわ肌触り 滑り止めホットカーペット対応 約2畳 トライアングルイエロー 185×185cm\n",
      "locale                                                                                     JP\n",
      "Name: B09S5MNZFK, dtype: object\n",
      "*******prediction*********\n",
      "No. 0 : \n",
      "title     システムK カーペット ラグ ラグマット 防ダニ 抗菌 防臭 洗える ふわふわ肌触り 滑り止めホットカーペット対応 約2畳 ダークブラウン 185×185cm\n",
      "locale                                                                                 JP\n",
      "Name: B00QSVJVPA, dtype: object\n",
      "No. 1 : \n",
      "title     システムK カーペット ラグ ラグマット 防ダニ 抗菌 防臭 洗える ふわふわ肌触り 滑り止めホットカーペット対応 約2畳 ダークグレー 185×185cm\n",
      "locale                                                                                JP\n",
      "Name: B081DSRWFR, dtype: object\n",
      "No. 2 : \n",
      "title     システムK カーペット ラグ ラグマット 防ダニ 抗菌 防臭 洗える ふわふわ肌触り 滑り止めホットカーペット対応 約2畳 ブラウン 185×185cm\n",
      "locale                                                                              JP\n",
      "Name: B00NIKNNZI, dtype: object\n",
      "No. 3 : \n",
      "title     システムK カーペット ラグ ラグマット 防ダニ 抗菌 防臭 洗える ふわふわ肌触り 滑り止めホットカーペット対応 約2畳 トライアングルイエロー 185×185cm\n",
      "locale                                                                                     JP\n",
      "Name: B09S5MNZFK, dtype: object\n",
      "No. 4 : \n",
      "title     システムK カーペット ラグ ラグマット 防ダニ 抗菌 防臭 洗える ふわふわ肌触り 滑り止めホットカーペット対応 約1.5畳 シルバー 130×185cm\n",
      "locale                                                                                JP\n",
      "Name: B081DSH9VN, dtype: object\n"
     ]
    }
   ],
   "source": [
    "compare_title(65790)"
   ]
  },
  {
   "cell_type": "code",
   "execution_count": 79,
   "metadata": {},
   "outputs": [
    {
     "name": "stdout",
     "output_type": "stream",
     "text": [
      "********last item*********\n",
      "title     NUK Babyphone mit Kamera Eco Control+ Video mit Gegensprechfunktion und Temperatursensor, frei von hochfrequenter Strahlung im Eco-Mode\n",
      "locale                                                                                                                                         DE\n",
      "Name: B007CK1ESS, dtype: object\n",
      "*******ground truth*******\n",
      "title     Ersatzkopf für Elektrorasierer,Scherkopf Ersatzteil Passend für Braun 7 Series,Ersatzklingen Folienkopf Zubehör für Rasierer（70S）\n",
      "locale                                                                                                                                   DE\n",
      "Name: B0B373TQW1, dtype: object\n",
      "*******prediction*********\n",
      "No. 0 : \n",
      "                                                                                                                                                                         title  \\\n",
      "id                                                                                                                                                                               \n",
      "B07KSK6CK7  Philips Avent Video Babyphone mit Kamera, Tag- und Nachtansicht, hohe Reichweite, Eco-Mode, Mit FHSS-Technologie, 10 Stunden Akkulaufzeit, weiß (Modell SCD843/26)   \n",
      "B07KSK6CK7                                                                                                                       Philips AVENT SCD843/26 Babyphone Vidéo Blanc   \n",
      "\n",
      "           locale  \n",
      "id                 \n",
      "B07KSK6CK7     DE  \n",
      "B07KSK6CK7     FR  \n",
      "No. 1 : \n",
      "title     Motorola Nursery VM482 - Babyphone mit Kamera - 2.4 Zoll Farbdisplay - Infrarot Nachtsicht - Digitaler Zoom - Temperatur - Weiß\n",
      "locale                                                                                                                                 DE\n",
      "Name: B09VL6QXT8, dtype: object\n",
      "No. 2 : \n",
      "                                                                                                                                                                 title  \\\n",
      "id                                                                                                                                                                       \n",
      "B07KS8MP5Y  Philips AVENT Video Babyphone mit Kamera, SCD833/26, Tag- und Nachtansicht, hohe Reichweite, Eco-Mode, Mit FHSS-Technologie, 10 Stunden Akkulaufzeit, weiß   \n",
      "B07KS8MP5Y                                                                         Philips Avent SCD833/26 Babyphone Vidéo Écran Couleur 2,7 inch, Blanc/Gris, 1 Unité   \n",
      "\n",
      "           locale  \n",
      "id                 \n",
      "B07KS8MP5Y     DE  \n",
      "B07KS8MP5Y     FR  \n",
      "No. 3 : \n",
      "title     Video Babyphone mit Kamera und Audio, 3,2 Zoll Farbdisplay mit Nachtsicht- VOX-Funktion, Rücksprache, Raumtemperatur,Schlaflieder, 300 Meter Reichweite und Lange Lebensdauer der Batterie Babyphone\n",
      "locale                                                                                                                                                                                                      DE\n",
      "Name: B07MZ1J93Y, dtype: object\n",
      "No. 4 : \n",
      "title     NUK Eco Control 550VD Digitales Babyphone, mit Kamera und Video Display, bis zu 4 Kameras hinzufügbar, frei von hochfrequenter Strahlung im Eco-Mode\n",
      "locale                                                                                                                                                      DE\n",
      "Name: B07B14BDJ8, dtype: object\n",
      "No. 5 : \n",
      "title     HelloBaby Babyphone mit Kamera Ferngesteuerter Pan-Tilt-Zoom und 3,2-Zoll-LCD-Bildschirm, Infrarot-Nachtsicht, Temperaturanzeige, Schlaflieder, Zwei-Wege-Audio, mit Wandhalterung\n",
      "locale                                                                                                                                                                                    DE\n",
      "Name: B07N428WP1, dtype: object\n",
      "No. 6 : \n",
      "title     Searong Babyphone Halterung Universal Baby KameraBaby Monitor Halter,Handyhalter ür Kamera/Webcam/Ringlicht,Kompatibel mit den meisten Babyphone\n",
      "locale                                                                                                                                                  DE\n",
      "Name: B08YN7J9K6, dtype: object\n",
      "No. 7 : \n",
      "title     Babyphone Halterung,Kamera Halterung Universal Baby Kamera Handyhalter Kompatibel für Philips Avent/Reer/GHB/Hellobaby Babyphone die meisten Video-Babyphone(Clip Mount)\n",
      "locale                                                                                                                                                                          DE\n",
      "Name: B0B632G7DR, dtype: object\n",
      "No. 8 : \n",
      "title     GHB Babyphone mit Kamera 5 Zoll LCD HD 720P ECO Gegensprechen Weitwinkelobjektiv Nachtsicht Schlaflied Zoom Funktion Modell 2022\n",
      "locale                                                                                                                                  DE\n",
      "Name: B08K3DQNZH, dtype: object\n",
      "No. 9 : \n",
      "                                                                                                                                                                          title  \\\n",
      "id                                                                                                                                                                                \n",
      "B0B51RKQFG                                             HelloBaby Babyphone mit Kamera Drahtloser Nachtsicht-Temperaturüberwachung u. 2 Weise Talkback System Weiß(Zwei Kameras)   \n",
      "B0B51RKQFG  HelloBaby Wireless Video Baby Monitor with Digital Camera, 3.2 Inch Screen Night Vision Temperature Monitoring & 2 Way Talkback System UK Interface Plug, 2 Cameras   \n",
      "\n",
      "           locale  \n",
      "id                 \n",
      "B0B51RKQFG     DE  \n",
      "B0B51RKQFG     UK  \n"
     ]
    }
   ],
   "source": [
    "compare_title(65791)"
   ]
  },
  {
   "cell_type": "code",
   "execution_count": 80,
   "metadata": {},
   "outputs": [
    {
     "name": "stdout",
     "output_type": "stream",
     "text": [
      "********last item*********\n",
      "title     Milka Weihnachts-Kugeln Alpenmilch 1 x 100g, Zartschmelzende Alpenmilch Schokolade\n",
      "locale                                                                                    DE\n",
      "Name: B0161AA3AY, dtype: object\n",
      "*******ground truth*******\n",
      "title     Milka Weihnachts-Kugeln Weiß 1 x 100g, Weiße zartschmelzende Schokolade\n",
      "locale                                                                         DE\n",
      "Name: B0161A9YMW, dtype: object\n",
      "*******prediction*********\n",
      "No. 0 : \n",
      "title     Bahlsen Winter-Mix – 1er Pack Thekendispenser – Mit Klassikern wie Lebkuchen und Zimtsternen – Schokolade - einzeln verpackt (1 x 1,03 kg)\n",
      "locale                                                                                                                                            DE\n",
      "Name: B07R35GKCK, dtype: object\n",
      "No. 1 : \n",
      "                                                                                                                     title  \\\n",
      "id                                                                                                                           \n",
      "B00EJ5WSDO                               Milka Mini Weihnachtsmänner 1 x 1540g, Zarte Alpenmilch Schokolade, Klarsichtdose   \n",
      "B00EJ5WSDO  Milka – Père Noël Chocolat au Lait – Idée Cadeau Noël – Chocolat Enfant à Offrir – 1 Tubo 1,54 kg (175 unités)   \n",
      "\n",
      "           locale  \n",
      "id                 \n",
      "B00EJ5WSDO     DE  \n",
      "B00EJ5WSDO     FR  \n",
      "No. 2 : \n",
      "title     Lindt Schokolade Weihnachtsschokolade Glamour im Beutel, zartschmelzende Schokoladen-Kugeln in drei Sorten, Schokoladengeschenk zu Weihnachten, 268g\n",
      "locale                                                                                                                                                      DE\n",
      "Name: B098V98WYP, dtype: object\n",
      "No. 3 : \n",
      "title     Kinder Mix Weihnachts-Minis, 153g\n",
      "locale                                   DE\n",
      "Name: B016A6GQ1E, dtype: object\n",
      "No. 4 : \n",
      "title     Milka Kleines Weihnachtspräsent 1 x 44g, Milka Zarte Momente Mix in Weihnachts-Geschenkverpackung\n",
      "locale                                                                                                   DE\n",
      "Name: B096LF2R2S, dtype: object\n",
      "No. 5 : \n",
      "                                                                                                                                             title  \\\n",
      "id                                                                                                                                                   \n",
      "B09B7ZJZCV  NESTLÉ Mini Mix Süßigkeiten-Box, Schokoladen-Mix mit 63 KITKAT, LION, SMARTIES Schoko-Leckereien im Mini-Format, 1er Pack (1 x 1,03kg)   \n",
      "B09B7ZJZCV                        NESTLÉ Mini Mix Snack di Cioccolato al Latte KITKAT LION e SMARTIES Confezione Assortita da 63 Mini Snack 1,03kg   \n",
      "\n",
      "           locale  \n",
      "id                 \n",
      "B09B7ZJZCV     DE  \n",
      "B09B7ZJZCV     IT  \n",
      "No. 6 : \n",
      "                                                                                                                                                title  \\\n",
      "id                                                                                                                                                      \n",
      "B08BT4MVXT                                          Milka Großes Weihnachtspräsent 1 x 152g, Milka Zarte Momente Mix in Weihnachts-Geschenkverpackung   \n",
      "B08BT4MVXT  Milka Moments – Assortiments de 17 Pralines au Chocolat au Lait – Idée Cadeau Noël – Chocolats à Offrir – 1 Boîte en Forme de Sapin 152 g   \n",
      "\n",
      "           locale  \n",
      "id                 \n",
      "B08BT4MVXT     DE  \n",
      "B08BT4MVXT     FR  \n",
      "No. 7 : \n",
      "title     Handcreme Set Weihnachtsgeschenke, 9 Pcs Mini Handcreme Geschenkset mit Lippenbalsam, Natürliche Handcreme für Sehr Trockene Hände, Feuchtigkeitsspendende Pflegecreme Geschenk für Frauen und Männer\n",
      "locale                                                                                                                                                                                                       DE\n",
      "Name: B0B12SL897, dtype: object\n",
      "No. 8 : \n",
      "title     Lindt Schokolade zu Weihnachten | Weihnachts-Zapfen Caramel & Salz | 101 g Salted Caramel | Schokoladengeschenk\n",
      "locale                                                                                                                 DE\n",
      "Name: B09Z3633ZJ, dtype: object\n",
      "No. 9 : \n",
      "title     kinder Happy Moments Mini Mix, Zum geselligen Anbieten, Teilen mit Freunden und Familie, 162 g\n",
      "locale                                                                                                DE\n",
      "Name: B07BHXZP7F, dtype: object\n"
     ]
    }
   ],
   "source": [
    "compare_title(65792)"
   ]
  },
  {
   "cell_type": "code",
   "execution_count": 81,
   "metadata": {},
   "outputs": [
    {
     "name": "stdout",
     "output_type": "stream",
     "text": [
      "********last item*********\n",
      "title     DHC ビタミンBミックス トクヨウ90ニチブン\n",
      "locale                          JP\n",
      "Name: B01N47PAGY, dtype: object\n",
      "*******ground truth*******\n",
      "title     サプリクラフト ナイアシンアミド （ビタミンB3） 250mg 120カプセル\n",
      "locale                                         JP\n",
      "Name: B0893SSNRN, dtype: object\n",
      "*******prediction*********\n",
      "No. 0 : \n",
      "title     ネイチャーメイド ビタミンB6 20mg 80つぶ\n",
      "locale                           JP\n",
      "Name: B000FQTQO0, dtype: object\n",
      "No. 1 : \n",
      "title     DHC ビタミンD 60ニチブン\n",
      "locale                  JP\n",
      "Name: B08L7TB1LQ, dtype: object\n",
      "No. 2 : \n",
      "title     ビタミンD 30日分\n",
      "locale            JP\n",
      "Name: B07S376VHR, dtype: object\n",
      "No. 3 : \n",
      "title     ネイチャーメイド スーパービタミンD(1000I.U.) 90ツブ\n",
      "locale                                   JP\n",
      "Name: B009OB2FVS, dtype: object\n",
      "No. 4 : \n",
      "title     ネイチャーメイド ビタミンD(400I.U.) 60ツブ\n",
      "locale                              JP\n",
      "Name: B009PKQ5W8, dtype: object\n",
      "No. 5 : \n",
      "title     ネイチャーメイド ビタミンC　500mg　　　　　　　\n",
      "locale                             JP\n",
      "Name: B000FQTQW2, dtype: object\n",
      "No. 6 : \n",
      "title     ネイチャーメイドスーパーマルチビタミン&ミネラル120ツブ\n",
      "locale                               JP\n",
      "Name: B00516RULK, dtype: object\n",
      "No. 7 : \n",
      "title     ビタミンD 30日分 4個\n",
      "locale               JP\n",
      "Name: B0BJNS7259, dtype: object\n",
      "No. 8 : \n",
      "title     ディアナチュラ ビタミンC・アエン・ニュウサンキン・ビタミンB2・B6 120ツブ (60ニチブン)\n",
      "locale                                                    JP\n",
      "Name: B07GSD97L2, dtype: object\n",
      "No. 9 : \n",
      "title     【セットヒン】DHC ビタミンBミックス 60ニチブン 120ツブ 2コセット\n",
      "locale                                         JP\n",
      "Name: B01FQCACMM, dtype: object\n"
     ]
    }
   ],
   "source": [
    "compare_title(65793)"
   ]
  },
  {
   "cell_type": "code",
   "execution_count": 82,
   "metadata": {},
   "outputs": [
    {
     "name": "stdout",
     "output_type": "stream",
     "text": [
      "********last item*********\n",
      "title     Official SMOK RPM2 2000mAh 80W E Cigarette Vape Starter Kit, USB Type-C Fast Charging ecig, Large 1.14\" TFT Screen, 2X Pods 2ml, Mesh 0.16ohm & 0.4ohm, Real Pod Mod, No Nicotine - Prism Blue\n",
      "locale                                                                                                                                                                                                UK\n",
      "Name: B08FM96DQS, dtype: object\n",
      "*******ground truth*******\n",
      "title     Official SMOK RPM2 2000mAh 80W E Cigarette Vape Starter Kit, USB Type-C Fast Charging ecig, Large 1.14\" TFT Screen, 2X Pods 2ml, Mesh 0.16ohm & 0.4ohm, Real Pod Mod, No Nicotine - Prism Rainbow\n",
      "locale                                                                                                                                                                                                   UK\n",
      "Name: B08FM6CZYY, dtype: object\n",
      "*******prediction*********\n",
      "No. 0 : \n",
      "title     Official SMOK RPM2 2000mAh 80W E Cigarette Vape Starter Kit, USB Type-C Fast Charging ecig, Large 1.14\" TFT Screen, 2X Pods 2ml, Mesh 0.16ohm & 0.4ohm, Real Pod Mod, No Nicotine - Prism Rainbow\n",
      "locale                                                                                                                                                                                                   UK\n",
      "Name: B08FM6CZYY, dtype: object\n",
      "No. 1 : \n",
      "title     SMOK RPM 2 80W POD MOD E Cigarette Vape Starter Kit (Black) No Nicotine\n",
      "locale                                                                         UK\n",
      "Name: B08GPVT36B, dtype: object\n",
      "No. 2 : \n",
      "title     Official SMOK Nord 4 E Cigarette Vape Starter Kit, 80W 2000mAh, 2ml Airflow Control Vaping, OLED Display, USB Type-C Fast Charging, RPM Mesh 0.4ohm Coil preinstalled, No Nicotine, Black Armor\n",
      "locale                                                                                                                                                                                                 UK\n",
      "Name: B08X6RMFMV, dtype: object\n",
      "No. 3 : \n",
      "title     Official SMOK Nord 4 E Cigarette Vape Starter Kit, 80W 2000mAh, 2ml Airflow Control Vaping, OLED Display, USB Type-C Fast Charging, RPM Mesh 0.4ohm Coil preinstalled, No Nicotine, 7-Color Armor\n",
      "locale                                                                                                                                                                                                   UK\n",
      "Name: B08XBR1PTN, dtype: object\n",
      "No. 4 : \n",
      "title     Official SMOK Nord 4 E Cigarette Vape Starter Kit, 80W 2000mAh, 2ml Airflow Control Vaping, OLED Display, USB Type-C Fast Charging, RPM Mesh 0.4ohm Coil preinstalled, No Nicotine, White Armor\n",
      "locale                                                                                                                                                                                                 UK\n",
      "Name: B08XB1CQY3, dtype: object\n",
      "No. 5 : \n",
      "title     Official SMOK Nord 4 E Cigarette Vape Starter Kit, 80W 2000mAh, 2ml Airflow Control Vaping, OLED Display, USB Type-C Fast Charging, RPM Mesh 0.4ohm Coil preinstalled, No Nicotine, Fluid 7-Color\n",
      "locale                                                                                                                                                                                                   UK\n",
      "Name: B08X6TZS3X, dtype: object\n",
      "No. 6 : \n",
      "title     Genuine SMOK RPM80 Kit 80W E Cigarette Vape Starter Kit 3000mAh SMOK RPM 80 No Nicotine (Black and White Resin)\n",
      "locale                                                                                                                 UK\n",
      "Name: B089K82T6M, dtype: object\n",
      "No. 7 : \n",
      "title     Official SMOK RPM40 1500mAh 40W E Cigarettes Starter Kit with Pod of TRPR 2ml Edition, Mesh 0.4phm, Real Pod Mod, Built-in IQ-R Chip Making Firing Time Down to 0.001S - No Nicotine (Purple Red)\n",
      "locale                                                                                                                                                                                                   UK\n",
      "Name: B082R39WGY, dtype: object\n",
      "No. 8 : \n",
      "title     VOPOO for SMOK RPM 2 RPM2 80w Vape Starter 2ml Kit with RPM 2 RPM2 Pods Meshed Mesh 0.16ohm RPM 0.4ohm Coil TPD Compliant Prism Rainbow\n",
      "locale                                                                                                                                         UK\n",
      "Name: B0B429H1SD, dtype: object\n",
      "No. 9 : \n",
      "title     Official SMOK RPM40 1500mAh 40W E Cigarettes Starter Kit with Pod of 2ml Edition, Mesh 0.4phm, Real Pod Mod, Built-in IQ-R Chip Making Firing Time Down to 0.001S - No Nicotine (Green)\n",
      "locale                                                                                                                                                                                         UK\n",
      "Name: B082R2PY54, dtype: object\n"
     ]
    }
   ],
   "source": [
    "compare_title(65794)"
   ]
  },
  {
   "cell_type": "code",
   "execution_count": 83,
   "metadata": {},
   "outputs": [
    {
     "name": "stdout",
     "output_type": "stream",
     "text": [
      "********last item*********\n",
      "title     Nitrilhandschuhe 100 Stück Box (L, Schwarz) Einweghandschuhe, Einmalhandschuhe, Untersuchungshandschuhe, Nitril Handschuhe, puderfrei, ohne Latex, unsteril, latexfrei, disposible gloves, black\n",
      "locale                                                                                                                                                                                                  DE\n",
      "Name: B00X81M4FW, dtype: object\n",
      "*******ground truth*******\n",
      "title     Nitrilhandschuhe 100 Stück Box (S, Schwarz) Einweghandschuhe, Einmalhandschuhe, Untersuchungshandschuhe, Nitril Handschuhe, puderfrei, ohne Latex, unsteril, latexfrei, disposible gloves, black\n",
      "locale                                                                                                                                                                                                  DE\n",
      "Name: B00X81GP9I, dtype: object\n",
      "*******prediction*********\n",
      "No. 0 : \n",
      "title     Nitrilhandschuhe 100 Stück Box (M, Schwarz) Einweghandschuhe, Einmalhandschuhe, Untersuchungshandschuhe, Nitril Handschuhe, puderfrei, ohne Latex, unsteril, latexfrei, disposible gloves, black\n",
      "locale                                                                                                                                                                                                  DE\n",
      "Name: B00X81MA0Q, dtype: object\n",
      "No. 1 : \n",
      "title     Nitrilhandschuhe 200 Stück Box (M, Schwarz) Einweghandschuhe, Einmalhandschuhe, Untersuchungshandschuhe, Nitril Handschuhe, puderfrei, ohne Latex, unsteril, latexfrei, disposible gloves, black\n",
      "locale                                                                                                                                                                                                  DE\n",
      "Name: B01N24HPR2, dtype: object\n",
      "No. 2 : \n",
      "title     Nitrilhandschuhe 200 Stück Box (L, Schwarz) Einweghandschuhe, Einmalhandschuhe, Untersuchungshandschuhe, Nitril Handschuhe, puderfrei, ohne Latex, unsteril, latexfrei, disposible gloves, black\n",
      "locale                                                                                                                                                                                                  DE\n",
      "Name: B01MR866BB, dtype: object\n",
      "No. 3 : \n",
      "title     Nitrilhandschuhe 100 Stück Box (S, Weiß) Einweghandschuhe, Einmalhandschuhe, Untersuchungshandschuhe, Nitril Handschuhe, puderfrei, ohne Latex, unsteril, latexfrei, disposible gloves, white\n",
      "locale                                                                                                                                                                                               DE\n",
      "Name: B00X81GVLA, dtype: object\n",
      "No. 4 : \n",
      "title     Nitrilhandschuhe 100 Stück Box (XL, Weiß) Einweghandschuhe, Einmalhandschuhe, Untersuchungshandschuhe, Nitril Handschuhe, puderfrei, ohne Latex, unsteril, latexfrei, disposible gloves, white\n",
      "locale                                                                                                                                                                                                DE\n",
      "Name: B00XULDZG2, dtype: object\n",
      "No. 5 : \n",
      "title     Nitrilhandschuhe 200 Stück Box (S, Schwarz) Einweghandschuhe, Einmalhandschuhe, Untersuchungshandschuhe, Nitril Handschuhe, puderfrei, ohne Latex, unsteril, latexfrei, disposible gloves, black\n",
      "locale                                                                                                                                                                                                  DE\n",
      "Name: B01N4Q6E13, dtype: object\n",
      "No. 6 : \n",
      "title     Nitrilhandschuhe 100 Stück Box (XL, Schwarz) Einweghandschuhe, Einmalhandschuhe, Untersuchungshandschuhe, Nitril Handschuhe, puderfrei, ohne Latex, unsteril, latexfrei, disposible gloves, black\n",
      "locale                                                                                                                                                                                                   DE\n",
      "Name: B00X9X4JFW, dtype: object\n",
      "No. 7 : \n",
      "title     Nitrilhandschuhe 100 Stück Box (M, Weiß) Einweghandschuhe, Einmalhandschuhe, Untersuchungshandschuhe, Nitril Handschuhe, puderfrei, ohne Latex, unsteril, latexfrei, disposible gloves, white\n",
      "locale                                                                                                                                                                                               DE\n",
      "Name: B00X81GTCQ, dtype: object\n",
      "No. 8 : \n",
      "title     Nitrilhandschuhe 100 Stück Box (S, Schwarz) Einweghandschuhe, Einmalhandschuhe, Untersuchungshandschuhe, Nitril Handschuhe, puderfrei, ohne Latex, unsteril, latexfrei, disposible gloves, black\n",
      "locale                                                                                                                                                                                                  DE\n",
      "Name: B00X81GP9I, dtype: object\n",
      "No. 9 : \n",
      "title     Nitrilhandschuhe 90 Stück Box (XXL, Schwarz) Einweghandschuhe, Einmalhandschuhe, Untersuchungshandschuhe, Nitril Handschuhe, puderfrei, ohne Latex, unsteril, latexfrei, disposible gloves, black\n",
      "locale                                                                                                                                                                                                   DE\n",
      "Name: B01MR03PS1, dtype: object\n"
     ]
    }
   ],
   "source": [
    "compare_title(65800)"
   ]
  },
  {
   "cell_type": "code",
   "execution_count": 84,
   "metadata": {},
   "outputs": [
    {
     "name": "stdout",
     "output_type": "stream",
     "text": [
      "********last item*********\n",
      "title     【ビール 糖質ゼロ】キリン一番搾り 糖質ゼロ 350ml×24本\n",
      "locale                                  JP\n",
      "Name: B08F81KS91, dtype: object\n",
      "*******ground truth*******\n",
      "title     【ビール 糖質ゼロ】キリン一番搾り 糖質ゼロ 350ml×24本\n",
      "locale                                  JP\n",
      "Name: B08F81KS91, dtype: object\n",
      "*******prediction*********\n",
      "No. 0 : \n",
      "title     【ビール 糖質ゼロ】キリン一番搾り 糖質ゼロ 500ml×24本\n",
      "locale                                  JP\n",
      "Name: B08F5KS1WF, dtype: object\n",
      "No. 1 : \n",
      "title     【ビール 糖質ゼロ】キリン一番搾り 糖質ゼロ 350ml×6本\n",
      "locale                                 JP\n",
      "Name: B08GM8Z41N, dtype: object\n",
      "No. 2 : \n",
      "title     【ノンアルコールビール 脂肪の吸収を抑え、糖の吸収をおだやかに】キリン パーフェクトフリー 350ml×24本\n",
      "locale                                                         JP\n",
      "Name: B00XVEBHRW, dtype: object\n",
      "No. 3 : \n",
      "title     【第3の ビール 新ジャンル】キリン 濃い味〈糖質ゼロ〉 500ml×24本\n",
      "locale                                        JP\n",
      "Name: B0052QSVKS, dtype: object\n",
      "No. 4 : \n",
      "title     【第3の ビール 新ジャンル】キリン 濃い味〈糖質ゼロ〉 350ml×24本\n",
      "locale                                        JP\n",
      "Name: B004P9C6UY, dtype: object\n",
      "No. 5 : \n",
      "title     【糖質ゼロ】【発泡酒】アサヒスタイルフリー [ ビール 350ml×24本 ]\n",
      "locale                                         JP\n",
      "Name: B079LNSJJH, dtype: object\n",
      "No. 6 : \n",
      "title     【糖質ゼロ】【発泡酒】アサヒスタイルフリー [ ビール 500ml×24本 ]\n",
      "locale                                         JP\n",
      "Name: B079LGDDT6, dtype: object\n",
      "No. 7 : \n",
      "title     【発泡酒(ビール 類)】[糖質ゼロ・プリン体ゼロ]キリン 淡麗プラチナダブル 350ml×24本\n",
      "locale                                                  JP\n",
      "Name: B00MUJBC7Y, dtype: object\n",
      "No. 8 : \n",
      "title     【発泡酒(ビール 類)】[糖質ゼロ・プリン体ゼロ]キリン 淡麗プラチナダブル 500ml×24本\n",
      "locale                                                  JP\n",
      "Name: B01M5BD2DZ, dtype: object\n",
      "No. 9 : \n",
      "title     【第3の ビール 新ジャンル】[糖質ゼロ・プリン体ゼロ・甘味料ゼロ]キリン のどごしZERO 500ml×24本\n",
      "locale                                                          JP\n",
      "Name: B07H4HBHMJ, dtype: object\n"
     ]
    }
   ],
   "source": [
    "compare_title(65801)"
   ]
  },
  {
   "cell_type": "code",
   "execution_count": 85,
   "metadata": {},
   "outputs": [
    {
     "name": "stdout",
     "output_type": "stream",
     "text": [
      "********last item*********\n",
      "title     【精米】[Amazon限定ブランド] 580.com 新潟県産 無洗米 コシヒカリ 5kg 令和4年産\n",
      "locale                                                     JP\n",
      "Name: B08MWS3M85, dtype: object\n",
      "*******ground truth*******\n",
      "title     [Amazon限定ブランド] Oseamaid バスタオル 大判 5色5 枚セット マイクロファイバー タオル 吸水速乾抗菌防臭(白 ベージュ グレー カーキ色 コーヒー色)\n",
      "locale                                                                                         JP\n",
      "Name: B091P3LWM5, dtype: object\n",
      "*******prediction*********\n",
      "No. 0 : \n",
      "title     【セイマイ】[アマゾンゲンテイブランド] 580.com アイヅサン ムセンマイ コシヒカリ 2kg レイワ3ネンサン\n",
      "locale                                                             JP\n",
      "Name: B0777HL1GV, dtype: object\n",
      "No. 1 : \n",
      "title     【セイマイ】[アマゾンゲンテイブランド] 580.com ミヤギケンサン ムセンマイ ツヤヒメ 5kg レイワ3ネンサン\n",
      "locale                                                              JP\n",
      "Name: B07NGBBLTH, dtype: object\n",
      "No. 2 : \n",
      "title     【セイマイ】[アマゾンゲンテイブランド] 580.com ミヤギケンサン ハクマイ ツヤヒメ 5kg レイワ3ネンサン\n",
      "locale                                                             JP\n",
      "Name: B00WJNO21E, dtype: object\n",
      "No. 3 : \n",
      "title     【セイマイ】[アマゾンゲンテイブランド] 580.com アイヅサン ムセンマイ コシヒカリ 10kg レイワ3ネンサン\n",
      "locale                                                              JP\n",
      "Name: B00YC3LYK6, dtype: object\n",
      "No. 4 : \n",
      "title     【セイマイ】[アマゾンゲンテイブランド] 580.com ミヤギケンサン ムセンマイ ツヤヒメ 10kg レイワ3ネンサン\n",
      "locale                                                               JP\n",
      "Name: B00WJNO2GE, dtype: object\n",
      "No. 5 : \n",
      "title     【セイマイ】[アマゾンゲンテイブランド] 580.com ヤマガタケンサン ハクマイ ツヤヒメ 5kg レイワ3ネンサン\n",
      "locale                                                              JP\n",
      "Name: B07NG653KN, dtype: object\n",
      "No. 6 : \n",
      "title     【セイマイ】[アマゾンゲンテイブランド] 580.com アイヅサン ハクマイ コシヒカリ 5kg レイワ3ネンサン\n",
      "locale                                                            JP\n",
      "Name: B00YC3M086, dtype: object\n",
      "No. 7 : \n",
      "title     【セイマイ】[アマゾンゲンテイブランド] 580.com ヤマガタケンサン ムセンマイ ツヤヒメ 5kg レイワ3ネンサン\n",
      "locale                                                               JP\n",
      "Name: B07NG9BQ8X, dtype: object\n",
      "No. 8 : \n",
      "title     【セイマイ】[アマゾンゲンテイブランド] 580.com アキタケンサン ムセンマイ アキタコマチ 5kg レイワ3ネンサン\n",
      "locale                                                                JP\n",
      "Name: B00ENWQYNS, dtype: object\n",
      "No. 9 : \n",
      "title     【セイマイ】[アマゾンゲンテイブランド] 580.com イワテケンサン ハクマイ ギンガノシズク 5kg レイワ3ネンサン\n",
      "locale                                                                JP\n",
      "Name: B08MWMYNS1, dtype: object\n"
     ]
    }
   ],
   "source": [
    "compare_title(65802)"
   ]
  },
  {
   "cell_type": "code",
   "execution_count": 86,
   "metadata": {},
   "outputs": [
    {
     "name": "stdout",
     "output_type": "stream",
     "text": [
      "********last item*********\n",
      "title     洗面台 排水口 ごみ受け パンチング 排水口サイズ：約35-45mm 流し用 排水口カバー 抗菌 ゴミカゴ 排水フィルター 18-8ステンレス 浅型 ゴミカゴ 洗面台 洗面所 (XS(排水口サイズ：約35-45mm))\n",
      "locale                                                                                                               JP\n",
      "Name: B0B9KXSLQH, dtype: object\n",
      "*******ground truth*******\n",
      "title     ユニットバス ステンレス ごみ受け 排水口サイズ：約58-80mm 排水溝 ごみ受け 流し用 排水口カバー 抗菌 キッチン ヘアキャッチャー シンク ネット 髪の毛 取り パンチング 排水口 ゴミ受け 8cm (M(排水口サイズ：約58-80mm))\n",
      "locale                                                                                                                               JP\n",
      "Name: B0B9KVDRQ4, dtype: object\n",
      "*******prediction*********\n",
      "No. 0 : \n",
      "title     洗面台排水口用 ゴミ受け パンチング ステンレス 排水口サイズ：35-45mm 2個セット\n",
      "locale                                               JP\n",
      "Name: B07MK8MGPM, dtype: object\n",
      "No. 1 : \n",
      "title     洗面台排水口用 ゴミ受け パンチング ステンレス 排水口サイズ：35-45mm\n",
      "locale                                         JP\n",
      "Name: B07SYJ91K5, dtype: object\n",
      "No. 2 : \n",
      "title     洗面器排水口用 洗面台 パンチング ゴミ受け 18 – 8ステンレス鋼 排水口サイズ：3.5-4.5cm\n",
      "locale                                                      JP\n",
      "Name: B07K48G143, dtype: object\n",
      "No. 3 : \n",
      "title     洗面器排水口ネット 洗面台 パンチング 排水口ゴミ受け 304ステンレス鋼 排水口サイズ：3.5－4.5cm (1個)\n",
      "locale                                                             JP\n",
      "Name: B097N59ZWT, dtype: object\n",
      "No. 4 : \n",
      "title     Funnty 洗面台排水口用 ゴミ受け 排水溝 ゴミ受け パンチング ステンレス 排水口サイズ：35-45mm\n",
      "locale                                                         JP\n",
      "Name: B08784JSC9, dtype: object\n",
      "No. 5 : \n",
      "title     Andexi 洗面台 ゴミ受け パンチング 排水溝 ゴミ受け ステンレス製 排水カゴ 持ち手付き 排水口サイズ：3.5-4.5cm\n",
      "locale                                                                   JP\n",
      "Name: B08817PRM1, dtype: object\n",
      "No. 6 : \n",
      "title     ユニットバス用 洗面台排水口用 ゴミ受け LとSサイズ パンチング ステンレス 2個セット\n",
      "locale                                               JP\n",
      "Name: B07K1XT1YQ, dtype: object\n",
      "No. 7 : \n",
      "title     Andexi 洗面台 ゴミ受け 排水口 ゴミ受け パンチング ゴミ受け ステンレス 排水溝 シンク 排水カゴ 持ち手付き 排水口サイズ：3.5-4.5cm ヘアキャッチャー\n",
      "locale                                                                                        JP\n",
      "Name: B07H3Z18SC, dtype: object\n",
      "No. 8 : \n",
      "title     洗面台 ゴミ受け パンチング 排水溝 ゴミ受け ステンレス製 排水カゴ 持ち手付き (M)\n",
      "locale                                               JP\n",
      "Name: B08YRBYKJD, dtype: object\n",
      "No. 9 : \n",
      "title     貝印 KAI パンチング 排水口ゴミ受け 5cm 日本製 DF1473\n",
      "locale                                     JP\n",
      "Name: B00T8OWYYE, dtype: object\n"
     ]
    }
   ],
   "source": [
    "compare_title(65803)"
   ]
  },
  {
   "cell_type": "code",
   "execution_count": 87,
   "metadata": {},
   "outputs": [
    {
     "name": "stdout",
     "output_type": "stream",
     "text": [
      "********last item*********\n",
      "                                                                                                                                                                                           title  \\\n",
      "id                                                                                                                                                                                                 \n",
      "B008FN6YOU  Optimum Nutrition ON Optimen Multivitamin Kapseln, Vitamine und Mineralstoffe Tabletten für Männer mit Zink, Magnesium und Aminosäuren Komplex Hochdosiert, 60 Portionen 180 Kapseln   \n",
      "B008FN6YOU                                           Optimum Nutrition Opti-Men Multivitamin Supplements for Men with Vitamin D, Vitamin C, Vitamin A and Amino Acids, 60 Servings, 180 Capsules   \n",
      "\n",
      "           locale  \n",
      "id                 \n",
      "B008FN6YOU     DE  \n",
      "B008FN6YOU     UK  \n",
      "*******ground truth*******\n",
      "                                                                                                                                                                                           title  \\\n",
      "id                                                                                                                                                                                                 \n",
      "B008FN6YOU  Optimum Nutrition ON Optimen Multivitamin Kapseln, Vitamine und Mineralstoffe Tabletten für Männer mit Zink, Magnesium und Aminosäuren Komplex Hochdosiert, 60 Portionen 180 Kapseln   \n",
      "B008FN6YOU                                           Optimum Nutrition Opti-Men Multivitamin Supplements for Men with Vitamin D, Vitamin C, Vitamin A and Amino Acids, 60 Servings, 180 Capsules   \n",
      "\n",
      "           locale  \n",
      "id                 \n",
      "B008FN6YOU     DE  \n",
      "B008FN6YOU     UK  \n",
      "*******prediction*********\n",
      "No. 0 : \n",
      "title     Hey Nutrition Ashwagandha Complex 9000mg Supplement High Strength KSM-66 for Mood & Energy, Anxiety, Stress - Natural - 60 Capsules, Non GMO, Vegan\n",
      "locale                                                                                                                                                     UK\n",
      "Name: B09TTTZG2H, dtype: object\n",
      "No. 1 : \n",
      "title     Organic Ashwagandha Capsules - 1000mg Ashwagandha Root Powder per Serving - 120 Vegan Capsules with Black Pepper - High Strength Herbal Supplement - Organic Certified by Soil Association\n",
      "locale                                                                                                                                                                                            UK\n",
      "Name: B07ZZ8RGQH, dtype: object\n",
      "No. 2 : \n",
      "title     Seven Seas Omega-3 & Multivitamins Man, With B Vitamins and Magnesium, 30-Day Duo Pack, 30 Omega-3 Capsules and 30 Multivitamin Tablets\n",
      "locale                                                                                                                                         UK\n",
      "Name: B0BHJJQ584, dtype: object\n",
      "No. 3 : \n",
      "                                                                                                                                                                                         title  \\\n",
      "id                                                                                                                                                                                               \n",
      "B094NVGR3L  Ashwagandha 1100mg - 120 Vegan Capsules with Added Bioperine® - High Strength Natural Ashwagandha Root Powder - Vegan Friendly Ashwaganda Supplement - Made in The UK by Nutravita   \n",
      "B094NVGR3L           Ashwagandha con Bioperine® Añadido 1100 mg - 120 Cápsulas Veganas - Polvo de Raíz de Ashwagandha Natural de Alta Resistencia - Suplemento de Ashwaganda Apto Para Veganos   \n",
      "\n",
      "           locale  \n",
      "id                 \n",
      "B094NVGR3L     UK  \n",
      "B094NVGR3L     ES  \n",
      "No. 4 : \n",
      "title     Active Iron for Men | 30 Iron Tablets & 30 Multivitamin Tablets | Iron Supplement with Zinc, Vitamin C, D and High Dose B Vitamins | 1-Month Supply\n",
      "locale                                                                                                                                                     UK\n",
      "Name: B07KTBNXZN, dtype: object\n",
      "No. 5 : \n",
      "title     Centrum Men 50+ Multivitamin & Mineral Tablets, 24 essential nutrients including Vitamin D, Complete Multivitamin Tablets, 30 tablets\n",
      "locale                                                                                                                                       UK\n",
      "Name: B06XRYFMPY, dtype: object\n",
      "No. 6 : \n",
      "title     Centrum Multivitamins for Men - Pack of 60\n",
      "locale                                            UK\n",
      "Name: B00DU6RK9K, dtype: object\n",
      "No. 7 : \n",
      "title     Multivitamin Supplement for Women & Men - High Potency Multivitamin Capsules for Immune Health, Metabolism Support, Energy Boost - 25 Essential Vitamins, Minerals, and Amino Acids - Vegan, 60 Count\n",
      "locale                                                                                                                                                                                                       UK\n",
      "Name: B08VJ6PB5R, dtype: object\n",
      "No. 8 : \n",
      "title     Wellman Vitabiotics Original, 30 Count (Pack of 1)\n",
      "locale                                                    UK\n",
      "Name: B000LNHAZY, dtype: object\n",
      "No. 9 : \n",
      "title     Tom Oliver Nutrition Men's Complete Multivitamin with CoQ10, B Complex, Vitamin A, Vitamin D3 +K2, Zinc & Magnesium, 60 Count\n",
      "locale                                                                                                                               UK\n",
      "Name: B08RDWF5T6, dtype: object\n"
     ]
    }
   ],
   "source": [
    "compare_title(65807)"
   ]
  },
  {
   "cell_type": "code",
   "execution_count": 88,
   "metadata": {},
   "outputs": [
    {
     "name": "stdout",
     "output_type": "stream",
     "text": [
      "********last item*********\n",
      "title     1ショクブンノヤサイガトレルグーグーキッチン【9カゲツゴロカラ】オススメセット\n",
      "locale                                         JP\n",
      "Name: B093BSRPJY, dtype: object\n",
      "*******ground truth*******\n",
      "title     【パンツ Mサイズ】メリーズ オムツ さらさらエアスルー (6~11kg) 74枚 【Amazon.co.jp限定】\n",
      "locale                                                            JP\n",
      "Name: B07H7D3CG7, dtype: object\n",
      "*******prediction*********\n",
      "No. 0 : \n",
      "title     ワコウドウ グーグーキッチン トリゾウスイ\n",
      "locale                       JP\n",
      "Name: B01KLW8IO6, dtype: object\n",
      "No. 1 : \n",
      "title     ワコウドウ グーグーキッチン トリトヤサイノチュウカアンカケ\n",
      "locale                                JP\n",
      "Name: B01KLW9C46, dtype: object\n",
      "No. 2 : \n",
      "title     和光堂 具たっぷりグーグーキッチン [12か月頃から] おすすめセット 6種×2袋(12袋) ベビーフード\n",
      "locale                                                       JP\n",
      "Name: B0BD7X1JRJ, dtype: object\n",
      "No. 3 : \n",
      "title     ワコウドウ グーグーキッチン ダイコントブタノカクニ\n",
      "locale                            JP\n",
      "Name: B01KLW8P1W, dtype: object\n",
      "No. 4 : \n",
      "title     ワコウドウ グーグーキッチン ツナトキノコノリゾット\n",
      "locale                            JP\n",
      "Name: B01KLW95UW, dtype: object\n",
      "No. 5 : \n",
      "title     ワコウドウ グーグーキッチン シラストワカメノニコミウドン\n",
      "locale                               JP\n",
      "Name: B01KLW8IGO, dtype: object\n",
      "No. 6 : \n",
      "title     和光堂 グーグーキッチン [9か月頃から] おすすめセット ベビーフード 6種×2袋(12袋)\n",
      "locale                                                 JP\n",
      "Name: B07HP9MQT4, dtype: object\n",
      "No. 7 : \n",
      "title     ワコウドウ グーグーキッチン ヤワラカギュウニクノニクジャガ\n",
      "locale                                JP\n",
      "Name: B01KLW95KC, dtype: object\n",
      "No. 8 : \n",
      "title     ワコウドウ グーグーキッチン ヤサイトタマゴノアンカケウドン\n",
      "locale                                JP\n",
      "Name: B01KLW8OZ4, dtype: object\n",
      "No. 9 : \n",
      "title     ワコウドウ グーグーキッチン オサカナトジャガイモノクリームグラタン\n",
      "locale                                    JP\n",
      "Name: B01KLW9CFU, dtype: object\n"
     ]
    }
   ],
   "source": [
    "compare_title(65810)"
   ]
  },
  {
   "cell_type": "code",
   "execution_count": 89,
   "metadata": {},
   "outputs": [
    {
     "name": "stdout",
     "output_type": "stream",
     "text": [
      "********last item*********\n",
      "title     Replacement Toothbrush Heads for Oral-B,Replacement Heads Compatible with Oral B Braun Electric Toothbrush (Pack of 12)\n",
      "locale                                                                                                                         UK\n",
      "Name: B08YYBQYCQ, dtype: object\n",
      "*******ground truth*******\n",
      "title     SINOPHANT High Waist Knickers for Women, Ladies Cotton Knickers Full Briefs Multipack\n",
      "locale                                                                                       UK\n",
      "Name: B091GGW93Q, dtype: object\n",
      "*******prediction*********\n",
      "No. 0 : \n",
      "title     Electric Toothbrush Head for Oral-B, 12 Pack Replacement Toothbrush Heads Compatible with Most Braun Oral B Electric Toothbrushes, Classic Precision Clean Replacement Brush Heads\n",
      "locale                                                                                                                                                                                    UK\n",
      "Name: B0BH3RWZ9N, dtype: object\n",
      "No. 1 : \n",
      "title     Compatible with Oral-B Precision Clean Toothbrush Heads Replacement Refills for Rechargeable Electric Toothbrush for Braun Oral B (Pack of 16)\n",
      "locale                                                                                                                                                UK\n",
      "Name: B07NSHDZKT, dtype: object\n",
      "No. 2 : \n",
      "title     Replacement Toothbrush Heads for Oral-B, Precision Clean Replacement Heads Compatible with Oral B Braun Electric Toothbrush (Pack of 16)\n",
      "locale                                                                                                                                          UK\n",
      "Name: B09GLSZW4T, dtype: object\n",
      "No. 3 : \n",
      "title     Compatible with Oral-B Precision Clean Toothbrush Heads Replacement Refills for Rechargeable Electric Toothbrush for Braun Oral B (Pack of 4)\n",
      "locale                                                                                                                                               UK\n",
      "Name: B07NSJ8M8G, dtype: object\n",
      "No. 4 : \n",
      "title     Aster Replacement Electric Toothbrush Heads, Compatible with Braun Oral B Toothbrush Heads, 16 Pack of Compatible Oral B Toothbrush Head\n",
      "locale                                                                                                                                          UK\n",
      "Name: B07YX5BQYT, dtype: object\n",
      "No. 5 : \n",
      "title     Replacement Toothbrush Heads Compatible with Oral-B Braun Electric Toothbrushes, Classic Precision Clean Replacement Brush Heads (Pack of 4)\n",
      "locale                                                                                                                                              UK\n",
      "Name: B096VPN4J8, dtype: object\n",
      "No. 6 : \n",
      "title     8X Electric Toothbrush Heads Pack of 8 Compatible with Oral B Braun Toothbrush Heads / Replacement Toothbrush Heads Compatible with Oral B Electric Toothbrush Heads 8 Packs\n",
      "locale                                                                                                                                                                              UK\n",
      "Name: B09N4TMY4T, dtype: object\n",
      "No. 7 : \n",
      "title     Replacement Toothbrush Heads Compatible Refills for Most Braun Oral-B Electric Toothbrushes, Classic Precision Clean Replacement Brush Heads (Pack of 4)\n",
      "locale                                                                                                                                                          UK\n",
      "Name: B09GBKS312, dtype: object\n",
      "No. 8 : \n",
      "title     Replacement Toothbrush Heads Compatible Refills for Most Braun Oral-B Electric Toothbrushes, Classic Precision Clean Replacement Brush Heads (Pack of 8)\n",
      "locale                                                                                                                                                          UK\n",
      "Name: B07BTR5353, dtype: object\n",
      "No. 9 : \n",
      "title     Braun Oral-B Precision Clean Replacement Toothbrush Heads Pack of 6\n",
      "locale                                                                     UK\n",
      "Name: B0048EL0EY, dtype: object\n"
     ]
    }
   ],
   "source": [
    "compare_title(65811)"
   ]
  },
  {
   "cell_type": "code",
   "execution_count": 90,
   "metadata": {},
   "outputs": [
    {
     "name": "stdout",
     "output_type": "stream",
     "text": [
      "********last item*********\n",
      "title     HooMoo T16 LED バックランプ 爆光 1200LM高輝度 無極性 キャンセラー内蔵 CANBUS 24連3030 SMD LED バックアップ 後退灯 7000K ホワイト 2個セット\n",
      "locale                                                                                                    JP\n",
      "Name: B07GLNVGJ5, dtype: object\n",
      "*******ground truth*******\n",
      "title     HooMoo T16 LED バックランプ 爆光 1200LM高輝度 無極性 キャンセラー内蔵 CANBUS 24連3030 SMD LED バックアップ 後退灯 7000K ホワイト 4個セット\n",
      "locale                                                                                                    JP\n",
      "Name: B07QGR8725, dtype: object\n",
      "*******prediction*********\n",
      "No. 0 : \n",
      "title     OXILAM T16 LED, バックランプ 爆光 後退灯 キャンセラー内蔵 Canbus T15 W16W バックランプ 無極性 ランプセット ホワイト (2個入)\n",
      "locale                                                                                     JP\n",
      "Name: B07KPXR9P5, dtype: object\n",
      "No. 1 : \n",
      "title     T16 LED バックランプ 爆光1200ルーメン キャンセラー内蔵 CANBUS バックランプ T16 W16W T10 T15 バックランプ 高輝度 ホワイト4014LED 45連 12V 無極性 ホワイト 後退灯 バックライト 6000K 50000時間以上寿命 (4個セット)\n",
      "locale                                                                                                                                                JP\n",
      "Name: B08ZXZ5WHK, dtype: object\n",
      "No. 2 : \n",
      "title     W16W T10 T15 T16 led バックランプ 爆光 キャンセラー内蔵 DC 12V /24V 兼用 無極性 Canbus 45連 ホワイト 4個セット6000K (4個白)\n",
      "locale                                                                                             JP\n",
      "Name: B085TJ2J16, dtype: object\n",
      "No. 3 : \n",
      "title     HooMoo T16 LED バックランプ 爆光 1200LM高輝度 無極性 キャンセラー内蔵 CANBUS 24連3030 SMD LED バックアップ 後退灯 7000K ホワイト 4個セット\n",
      "locale                                                                                                    JP\n",
      "Name: B07QGR8725, dtype: object\n",
      "No. 4 : \n",
      "                                                                                                                                                                          title  \\\n",
      "id                                                                                                                                                                                \n",
      "B06XKFPCNT                                             AGLINT T16 LED バックランプ 後退灯 キャンセラー内蔵 CANBUS 爆光 高輝度 無極性12V/24V兼用 10連3030SMD T15 W16W 921 912 LED バックアップ 6000K ホワイト車検対応 2個入り   \n",
      "B06XKFPCNT  AGLINT W16W LED Bulbs CANBUS Error Free Extremely Bright 3030 10SMD T15 921 912 955 for Car Reverse Light Backup Parking Lights 12V 24V 6500K Xenon White Pack of 2   \n",
      "\n",
      "           locale  \n",
      "id                 \n",
      "B06XKFPCNT     JP  \n",
      "B06XKFPCNT     UK  \n",
      "No. 5 : \n",
      "title     YAKASTAR T16 LED バックランプ 爆光 拡散角360°明るい後退灯 キャンセラー内蔵 1800ルーメン 無極性 ホワイト 2個セット\n",
      "locale                                                                           JP\n",
      "Name: B09CP7HP96, dtype: object\n",
      "No. 6 : \n",
      "title     SEALIGHT T16 LED バックランプ T15 バックライト 高輝度 爆光 1500ルーメンキャンセラー内蔵 後退灯 ホワイト 18連3030SMD 無極性 12V 50000時間以上寿命 3年保証 (2個入り)\n",
      "locale                                                                                                                JP\n",
      "Name: B07R2JN6KZ, dtype: object\n",
      "No. 7 : \n",
      "title     Mixsuper T16 Led バックランプ 爆光 新基準車検対応 銅 アルミニウム 6000K 3000LM 11W 後退灯 テールランプ T15 キャンセラー内蔵 無極性 高輝度\n",
      "locale                                                                                              JP\n",
      "Name: B08G8C7ZPV, dtype: object\n",
      "No. 8 : \n",
      "title     SEALIGHT t16 led バックランプ 爆光 2000lm バック ライト 車検対応 最新3030SMD チップ キャンセラー内蔵 6500K 後退灯 T16/T15 ホワイト 12V 無極性 50000時間以上寿命 (2個入り) 2年メーカ保証\n",
      "locale                                                                                                                                 JP\n",
      "Name: B08XQF2MPB, dtype: object\n",
      "No. 9 : \n",
      "title     SEALIGHT T25 3156 LED バックランプ シングル 高輝度 2000ルーメン 6500K キャンセラー内蔵 後退灯 ブレーキランプ バックライト T25 3156 3157ホワイト 12V 無極性 50000時間以上寿命 (2個入り)\n",
      "locale                                                                                                                               JP\n",
      "Name: B08XQFS4GP, dtype: object\n"
     ]
    }
   ],
   "source": [
    "compare_title(65812)"
   ]
  },
  {
   "cell_type": "code",
   "execution_count": 91,
   "metadata": {},
   "outputs": [
    {
     "name": "stdout",
     "output_type": "stream",
     "text": [
      "********last item*********\n",
      "title     Yale YKB/550/DB1 Large Electronic Key Cabinet, for Up to 100X Keys, Includes Numbered Racks, Supplied with 2 Override Keys\n",
      "locale                                                                                                                            UK\n",
      "Name: B00VYSHUYG, dtype: object\n",
      "*******ground truth*******\n",
      "                                                                                                                                                                                                        title  \\\n",
      "id                                                                                                                                                                                                              \n",
      "B006XBSPF2               Yale YSV/200/DB1 Kleiner Werttresor, digitale Tastatur, LED-Leuchtanzeigen, 15-mm-Stahlverriegelungsbolzen, Notbetätigungsschlüssel, Wand- und Bodenbefestigung, schwarze Ausführung   \n",
      "B006XBSPF2  Yale YSV/200/DB1 Small Value Safe, Digital Keypad, LED Light Indicators, 15mm Steel Locking Bolts, Emergency Override Key, Wall And Floor Fixings, Black Finish, 8 Litre Capacity 20 x 32 x 20 cm   \n",
      "B006XBSPF2                                                                                                                             Yale YSB/200/DB1 - Caja Fuerte Gama Básica Pequeña, 200 x 310 x 200 mm   \n",
      "\n",
      "           locale  \n",
      "id                 \n",
      "B006XBSPF2     DE  \n",
      "B006XBSPF2     UK  \n",
      "B006XBSPF2     ES  \n",
      "*******prediction*********\n",
      "No. 0 : \n",
      "title     BIRD Digital Key Cabinet, Electronic, Wall Mountable for upto 40 keys\n",
      "locale                                                                       UK\n",
      "Name: B077GX61H3, dtype: object\n",
      "No. 1 : \n",
      "title     Cathedral (KC20) Key Cabinet, 20 Keys\n",
      "locale                                       UK\n",
      "Name: B0013NFROC, dtype: object\n",
      "No. 2 : \n",
      "title     Uniclife 48-Key Steel Key Cabinet with Combination Lock Wall Mounted Key Organizer with Resettable Code Black Digital Security Box with Hooks and Key Tag Labels Identifiers in 9 Assorted Colors\n",
      "locale                                                                                                                                                                                                   UK\n",
      "Name: B07XRFRS9Z, dtype: object\n",
      "No. 3 : \n",
      "title     Uniclife 60-Key Slotted Key Cabinet with Combination Lock Wall Mounted Steel Key Organizer with Resettable Code Black Digital Security Box with Slotted Racks White Key Tags and Permanent Marker\n",
      "locale                                                                                                                                                                                                   UK\n",
      "Name: B0827N7MSV, dtype: object\n",
      "No. 4 : \n",
      "title     BIRD Combination Key Cabinet, wall mounted 20 key cabinet safe storage of keys at home or office\n",
      "locale                                                                                                  UK\n",
      "Name: B06ZYC44S9, dtype: object\n",
      "No. 5 : \n",
      "title     Grey Key Cabinet printed\"Keys\". Key rack\n",
      "locale                                          UK\n",
      "Name: B088KRLS2S, dtype: object\n",
      "No. 6 : \n",
      "title     Shabby Chic Wooden Wall Mounted Key Box | Key Cabinet 6 Hooks Key Cupboard | Magnetic Key Holder\n",
      "locale                                                                                                  UK\n",
      "Name: B09SJ31B9J, dtype: object\n",
      "No. 7 : \n",
      "title     Yale YSV/250/DB2 Medium Value Safe, Digital Keypad, LED Light Indicators, Steel Locking Bolts, Emergency Override Key, Wall And Floor Fixings, Black Finish, 16 Litre Capacity 25 x 35 x 25 cm\n",
      "locale                                                                                                                                                                                                UK\n",
      "Name: B0B4BJYR2P, dtype: object\n",
      "No. 8 : \n",
      "                                                                                    title  \\\n",
      "id                                                                                          \n",
      "B0879XYLKP  Amazon Basics Schlüsselkasten für 24 Schlüssel, abschließbarer Kasten, Silber   \n",
      "B0879XYLKP                Amazon Basics Key Lock 24 Position Key Cabinet Lock Box, Silver   \n",
      "\n",
      "           locale  \n",
      "id                 \n",
      "B0879XYLKP     DE  \n",
      "B0879XYLKP     UK  \n",
      "No. 9 : \n",
      "title     Yale YSV/200/DB2 Small Value Safe, Digital Keypad, LED Light Indicators, Steel Locking Bolts, Emergency Override Key, Wall And Floor Fixings, Black Finish, 8 Litre Capacity 20 x 31 x 20 cm\n",
      "locale                                                                                                                                                                                              UK\n",
      "Name: B0B4BJ4D63, dtype: object\n"
     ]
    }
   ],
   "source": [
    "compare_title(65813)"
   ]
  },
  {
   "cell_type": "code",
   "execution_count": 93,
   "metadata": {},
   "outputs": [
    {
     "name": "stdout",
     "output_type": "stream",
     "text": [
      "********last item*********\n",
      "                                                                                                                                                                   title  \\\n",
      "id                                                                                                                                                                         \n",
      "B093SHYNVR     SUTAN Elektrische Heizdecke, 180*130cm, 6 Heizstufen, Heizdecke mit abschaltautomatik, Elektrische Wärmedecke Überhitzungsschutz, Maschinenwaschbar, Grau   \n",
      "B093SHYNVR                                           SUTAN Manta eléctrica , 180x130cm, 6 Niveles de Temperatura, Apagado automático en 3 Horas, Lavable a máquina, Gris   \n",
      "B093SHYNVR  SuTan Coperta Elettrica Termica, 180X130cm, 6 Livelli di Temperatura, Spegnimento Automatico, Protezione dal Surriscaldamento, Lavabile in Lavatrice, Grigio   \n",
      "\n",
      "           locale  \n",
      "id                 \n",
      "B093SHYNVR     DE  \n",
      "B093SHYNVR     ES  \n",
      "B093SHYNVR     IT  \n",
      "*******ground truth*******\n",
      "                                                                                                                                                                title  \\\n",
      "id                                                                                                                                                                      \n",
      "B093T58TNS  SUTAN Elektrische Heizdecke, 180*130cm, 6 Heizstufen, Heizdecke mit abschaltautomatik, Elektrische Wärmedecke Überhitzungsschutz, Maschinenwaschbar, Grün   \n",
      "B093T58TNS                                       SUTAN Manta eléctrica , 180x130cm, 6 Niveles de Temperatura, Apagado automático en 3 Horas, Lavable a máquina, Verde   \n",
      "\n",
      "           locale  \n",
      "id                 \n",
      "B093T58TNS     DE  \n",
      "B093T58TNS     ES  \n",
      "*******prediction*********\n",
      "No. 0 : \n",
      "title     Klarstein XL Wärmedecke, 120 W Heizdecke mit Abschaltautomatik, Kuscheldecke fürs Bett, Sofa & Camping, Elektrische Heizdecken Groß, Wärmedecken Energiesparend & Waschbar, Decke Elektrisch 180x130 cm\n",
      "locale                                                                                                                                                                                                         DE\n",
      "Name: B074PRYDMV, dtype: object\n",
      "No. 1 : \n",
      "title     Klarstein XL Wärmedecke, 120 W Heizdecke mit Abschaltautomatik, Kuscheldecke fürs Bett, Sofa & Camping, Elektrische Heizdecken Groß, Wärmedecken Energiesparend & Waschbar, Decke Elektrisch 180x130 cm\n",
      "locale                                                                                                                                                                                                         DE\n",
      "Name: B01M8PIY3F, dtype: object\n",
      "No. 2 : \n",
      "                                                                                                                                                                                                               title  \\\n",
      "id                                                                                                                                                                                                                     \n",
      "B074PRTQ1N   Klarstein XXL Wärmedecke, 120W Heizdecke mit Abschaltautomatik, Kuscheldecke fürs Bett, Sofa & Camping, Elektrische Heizdecken Groß, Wärmedecken Energiesparend & Waschbar, Decke Elektrisch 200x180 cm   \n",
      "B074PRTQ1N  Klarstein Scaldasonno Matrimoniale XXL, Coperta Termica Elettrica 200 x 180 cm, Scaldaletto Matrimoniale Elettrico 3 Livelli di Temperatura, Lavabile in Lavatrice, Coperta Elettrica per Letto e Divano   \n",
      "\n",
      "           locale  \n",
      "id                 \n",
      "B074PRTQ1N     DE  \n",
      "B074PRTQ1N     IT  \n",
      "No. 3 : \n",
      "title     Klarstein XXL Wärmedecke, 120W Heizdecke mit Abschaltautomatik, Kuscheldecke fürs Bett, Sofa & Camping, Elektrische Heizdecken Groß, Wärmedecken Energiesparend & Waschbar, Decke Elektrisch 200x180 cm\n",
      "locale                                                                                                                                                                                                         DE\n",
      "Name: B074PRXJL9, dtype: object\n",
      "No. 4 : \n",
      "title     Klarstein XXL Wärmedecke, 120W Heizdecke mit Abschaltautomatik, Kuscheldecke fürs Bett, Sofa & Camping, Elektrische Heizdecken Groß, Wärmedecken Energiesparend & Waschbar, Decke Elektrisch 200x180 cm\n",
      "locale                                                                                                                                                                                                         DE\n",
      "Name: B08LH98K7N, dtype: object\n",
      "No. 5 : \n",
      "title     Klarstein XXL Wärmedecke, 120W Heizdecke mit Abschaltautomatik, Kuscheldecke fürs Bett, Sofa & Camping, Elektrische Heizdecken Groß, Wärmedecken Energiesparend & Waschbar, Decke Elektrisch 200x180 cm\n",
      "locale                                                                                                                                                                                                         DE\n",
      "Name: B08LH5LP9D, dtype: object\n",
      "No. 6 : \n",
      "title     CAROMIO Heizdecke mit Abschaltautomatik 9 Heizstufen Elektrische Wärmedecke für Bett, Flauschige Heizdecke Kuscheldecke mit Überhitzungsschutz, 9 Stunden Timer, Washbar, TÜV SÜD GS geprüft,130x180cm\n",
      "locale                                                                                                                                                                                                        DE\n",
      "Name: B0B42CDMQ3, dtype: object\n",
      "No. 7 : \n",
      "                                                                                                                                                                                                              title  \\\n",
      "id                                                                                                                                                                                                                    \n",
      "B099RS4NV2  Duerer Heizdecke, Kuscheldecke, Wärmedecke mit Abschaltautomatik, mit 10 Heizstufen und 9 Stunden Auto-Off-Timer, Aus 130X180cm hautfreundlichem Flanellmaterial, Überhitzungsschutz, Aaschinenwaschbar   \n",
      "B099RS4NV2              Duerer Manta Eléctrica, 130X180 cm Manta Térmica Franela Calentamiento Rápido, con 9 Niveles de Temperatura, con autoapagado y Protección contra Sobrecalentamiento, Lavable en la Lavadora   \n",
      "\n",
      "           locale  \n",
      "id                 \n",
      "B099RS4NV2     DE  \n",
      "B099RS4NV2     ES  \n",
      "No. 8 : \n",
      "title     Yorbay Heizdecke 180 x 130 cm, Elektrische kuschelige Wärmedecke, mit Abschaltautomatik, Überhitzungsschutz und 10 Timer, mit 10 Temperaturstufen, Waschbar, Blau und Grau\n",
      "locale                                                                                                                                                                            DE\n",
      "Name: B09VZ61PK4, dtype: object\n",
      "No. 9 : \n",
      "title     Yorbay Heizdecke 180 x 130 cm, GS geprüft Elektrische kuschelige Wärmedecke, mit Abschaltautomatik, Überhitzungsschutz und Timer, mit 3 Temperaturstufen, Waschbar, Violett Lila\n",
      "locale                                                                                                                                                                                  DE\n",
      "Name: B096V8B8Y5, dtype: object\n"
     ]
    }
   ],
   "source": [
    "compare_title(65814)"
   ]
  },
  {
   "cell_type": "code",
   "execution_count": 94,
   "metadata": {},
   "outputs": [
    {
     "name": "stdout",
     "output_type": "stream",
     "text": [
      "********last item*********\n",
      "title     サーモス 交換用部品 ケータイマグ JNL パッキンセット (フタパッキン・せんパッキン)\n",
      "locale                                               JP\n",
      "Name: B00AEIIBVI, dtype: object\n",
      "*******ground truth*******\n",
      "title     サーモス 交換用部品 ケータイマグ JNO-250/350 パッキンセット (フタパッキン・せんパッキン)\n",
      "locale                                                       JP\n",
      "Name: B00GN711NE, dtype: object\n",
      "*******prediction*********\n",
      "No. 0 : \n",
      "title     サーモス 交換用部品 ケータイマグ JOK パッキンセット (フタパッキン・せんパッキン)\n",
      "locale                                               JP\n",
      "Name: B08NSNZKLQ, dtype: object\n",
      "No. 1 : \n",
      "title     サーモス 交換用部品 ケータイマグ JNR パッキンセット (フタパッキン・せんパッキン)\n",
      "locale                                               JP\n",
      "Name: B07MQC71M4, dtype: object\n",
      "No. 2 : \n",
      "title     サーモス 交換用部品 ケータイマグ JNI パッキンセット (フタパッキン・せんパッキン)\n",
      "locale                                               JP\n",
      "Name: B00A9OJOTA, dtype: object\n",
      "No. 3 : \n",
      "title     サーモス 交換用部品 ケータイマグ JNO-500 パッキンセット (フタパッキン・せんパッキン)\n",
      "locale                                                   JP\n",
      "Name: B00GN6ZB7C, dtype: object\n",
      "No. 4 : \n",
      "title     サーモス 交換用部品 ケータイマグ JNS/JNT パッキンセット (フタパッキン・せんパッキン)\n",
      "locale                                                   JP\n",
      "Name: B018VMU18O, dtype: object\n",
      "No. 5 : \n",
      "title     サーモス 交換用部品 ケータイマグ JNO-250/350 パッキンセット (フタパッキン・せんパッキン)\n",
      "locale                                                       JP\n",
      "Name: B00GN711NE, dtype: object\n",
      "No. 6 : \n",
      "title     サーモス 交換用部品 ケータイマグ JNR 飲み口 せんパッキン付き\n",
      "locale                                    JP\n",
      "Name: B08JGCH578, dtype: object\n",
      "No. 7 : \n",
      "title     サーモス 交換用部品 ケータイマグ JNT 飲み口 せんパッキン付き\n",
      "locale                                    JP\n",
      "Name: B07586LFFS, dtype: object\n",
      "No. 8 : \n",
      "title     サーモス 交換用部品 ケータイマグ JNL 飲み口 せんパッキン付き\n",
      "locale                                    JP\n",
      "Name: B00VUBIN0M, dtype: object\n",
      "No. 9 : \n",
      "title     サーモス 交換用部品 ケータイマグ JNL せんユニット (飲み口・パッキンセット付き) パステルパープル (PPL)\n",
      "locale                                                             JP\n",
      "Name: B07DPN54BH, dtype: object\n"
     ]
    }
   ],
   "source": [
    "compare_title(65815)"
   ]
  },
  {
   "cell_type": "code",
   "execution_count": 95,
   "metadata": {},
   "outputs": [
    {
     "name": "stdout",
     "output_type": "stream",
     "text": [
      "********last item*********\n",
      "title     iwaki レンジのポット・チャキ モモイロ 400ml\n",
      "locale                              JP\n",
      "Name: B0078XFM1E, dtype: object\n",
      "*******ground truth*******\n",
      "title     iwaki パイレックス レンジのポット・チャキ グリーン 400ml 863-G\n",
      "locale                                           JP\n",
      "Name: B003AQBDWU, dtype: object\n",
      "*******prediction*********\n",
      "No. 0 : \n",
      "title     iwaki パイレックス レンジのポット・チャキ グリーン 400ml 863-G\n",
      "locale                                           JP\n",
      "Name: B003AQBDWU, dtype: object\n",
      "No. 1 : \n",
      "title     iwaki Pyrex レンジノポット プチティー ブルー 400ml\n",
      "locale                                     JP\n",
      "Name: B0009MZ5AE, dtype: object\n",
      "No. 2 : \n",
      "title     iwaki パイレックス 【レンジノポット】 ポット&ドリッパー ブラック 1L 7966C-BK2\n",
      "locale                                                    JP\n",
      "Name: B002UKPA7Q, dtype: object\n",
      "No. 3 : \n",
      "title     iwaki パイレックス ジャンピングティーポット ブラック 640ml 894T-BK\n",
      "locale                                              JP\n",
      "Name: B002UKPAAI, dtype: object\n",
      "No. 4 : \n",
      "title     iwaki パイレックス 【レンジノポット】 コーヒー1000 ブラック 1L 7966-BK2\n",
      "locale                                                  JP\n",
      "Name: B002UKPA8A, dtype: object\n",
      "No. 5 : \n",
      "title     タイネツガラスセイ アブラロカポット W ml ホワイト\n",
      "locale                              JP\n",
      "Name: B06XWPPFZJ, dtype: object\n",
      "No. 6 : \n",
      "title     iwaki ティーポット 0.5L\n",
      "locale                   JP\n",
      "Name: B000FMNO1K, dtype: object\n",
      "No. 7 : \n",
      "title     イシガキサンギョウ 300mlポット ニコヨウモクダイ 21×11cm\n",
      "locale                                     JP\n",
      "Name: B01BOQSJGU, dtype: object\n",
      "No. 8 : \n",
      "title     アケボノサンギョウ クリアティーポット ステンレス メッシュ\n",
      "locale                                JP\n",
      "Name: B01N3AHXHH, dtype: object\n",
      "No. 9 : \n",
      "title     iwaki パイレックス パック&レンジ (グリーン) 380ml 7401-G\n",
      "locale                                          JP\n",
      "Name: B0027X57NI, dtype: object\n"
     ]
    }
   ],
   "source": [
    "compare_title(65819)"
   ]
  },
  {
   "cell_type": "code",
   "execution_count": 96,
   "metadata": {},
   "outputs": [
    {
     "name": "stdout",
     "output_type": "stream",
     "text": [
      "********last item*********\n",
      "title     Reayos Halloween String Lights, 2 Pack Total 20 Ft 40 LED Fall Garland with Decorations Lights, Pumpkin Maple Leaf String Lights for Halloween Thanksgiving Christmas Party Indoor Outdoor Decor\n",
      "locale                                                                                                                                                                                                  UK\n",
      "Name: B09DSF7MXR, dtype: object\n",
      "*******ground truth*******\n",
      "title     kuou 5 PCS Halloween Decoration Banners, Halloween Paper Chain Garland Banner Set Pumpkin Ghost Bat Spooky Spiders Skeleton Banners\n",
      "locale                                                                                                                                     UK\n",
      "Name: B08J2MKCG5, dtype: object\n",
      "*******prediction*********\n",
      "No. 0 : \n",
      "                                                                                                                                                                                                      title  \\\n",
      "id                                                                                                                                                                                                            \n",
      "B0B49NZHVD                      Pumpkin Lights Jsdoin Halloween String Lights Battery Powered Halloween Decoration Pumpkin Lights 16.5ft 20 LED for Halloween Party Indoor Outdoor Home Festival Decoration   \n",
      "B0B49NZHVD                              Jsdoin - Guirnalda de luces de calabaza para Halloween, funciona con pilas, decoración de Halloween, 5M, 20 LED para fiestas de Halloween, decoración de festivales   \n",
      "B0B49NZHVD  Jsdoin - Luci a forma di zucca per Halloween, impermeabili, alimentate a batteria, decorazione di Halloween, 5 m, 20 LED, per feste di Halloween, per interni ed esterni, decorazione per feste   \n",
      "\n",
      "           locale  \n",
      "id                 \n",
      "B0B49NZHVD     UK  \n",
      "B0B49NZHVD     ES  \n",
      "B0B49NZHVD     IT  \n",
      "No. 1 : \n",
      "                                                                                                                                                                                              title  \\\n",
      "id                                                                                                                                                                                                    \n",
      "B08CZRJRCQ             Evance Halloween Lichterketten Batteriebetrieben, 15FT 30 LED Orange Kürbis Lichterkette mit Spinnennetz Weiß & 2 Spinnen für Halloween Dekorationen Outdoor Indoor (30 LED)   \n",
      "B08CZRJRCQ  Evance Halloween Pumpkin String Lights with Stretchable Spider Cob Web & 2 Spider, 15 Feet 30 LEDs Pumpkin Lights Battery Operated, Led Fairy Lights for Halloween Decorations (30 LED)   \n",
      "B08CZRJRCQ                           Evance Halloween Cadena de Luces, 15FT 30 LED + Telaraña + 2 arañas Falsas, Guirnaldas Luces a Pilas para Decoraciones de Fiesta de Halloween Navidad (30 LED)   \n",
      "B08CZRJRCQ          Evance Catena Luminosa Halloween, 15FT 30LED + Bianco Ragnatele Decorative + 2 Ragni, Luci Stringa LED a Batteria per Esterni per Giardino Halloween Natale Decorative (30 LED)   \n",
      "\n",
      "           locale  \n",
      "id                 \n",
      "B08CZRJRCQ     DE  \n",
      "B08CZRJRCQ     UK  \n",
      "B08CZRJRCQ     ES  \n",
      "B08CZRJRCQ     IT  \n",
      "No. 2 : \n",
      "title     Vodtian Halloween Pumpkin String Lights Decoration, 9.8ft 20 LEDs 2 Modes Steady/Flash Halloween Christmas Party Fairy Garland Pumpkin Light Hanging Lantern Decor for Festival Home Outdoor Indoor\n",
      "locale                                                                                                                                                                                                     UK\n",
      "Name: B09JWMVY94, dtype: object\n",
      "No. 3 : \n",
      "title     Halloween String Lights, Halloween Decorations Lights, 10 Feet 30 LED Pumpkin Bat Ghost Fairy Lights - Battery Operated 2 Mode Waterproof Indoor Outdoor Halloween Party Home Decor, One Strip\n",
      "locale                                                                                                                                                                                                UK\n",
      "Name: B0B7ZL9GZ1, dtype: object\n",
      "No. 4 : \n",
      "title     Pumpkin Halloween String Lights, 10Ft 20LED Battery Operated Halloween Lights, 2 Modes Flash/Steady On Warm White Pumpkin Lights for Halloween Decorations (Pumpkin-Warm White)\n",
      "locale                                                                                                                                                                                 UK\n",
      "Name: B099DWKNR2, dtype: object\n",
      "No. 5 : \n",
      "title     JOLIGAEA Halloween Pumpkin String Lights, 3M 20LEDs Pumpkin Fairy Lights, Battery Operated Decoration Indoor Outdoor Indoor for Halloween Christmas Festival Party Decoration\n",
      "locale                                                                                                                                                                               UK\n",
      "Name: B0B5Z4SNTZ, dtype: object\n",
      "No. 6 : \n",
      "title     VEYLIN Halloween Pumpkin String Lights, 9.8ft 20LEDs Halloween Decoration Lights for Indoor & Outdoor Home Decor 2 Modes Steady/Flash\n",
      "locale                                                                                                                                       UK\n",
      "Name: B0922KJ9DZ, dtype: object\n",
      "No. 7 : \n",
      "title     KIBDSNG Halloween String Lights, 9.8FT 20 LED 2 Modes Pumpkin String Lights for Halloween Party Indoor Outdoor Home Festival Decoration\n",
      "locale                                                                                                                                         UK\n",
      "Name: B08DNDCYSQ, dtype: object\n",
      "No. 8 : \n",
      "title     FINGOOO 3 metres 20 Pieces Pumpkin Halloween String Lights Pumpkins Light for Halloween Indoor/ Outdoor Decoration\n",
      "locale                                                                                                                    UK\n",
      "Name: B096FD3BRG, dtype: object\n",
      "No. 9 : \n",
      "title     Jsdoin Halloween Lights,Lantern Pumpkin Halloween Decorations Fairy Lights 1.5M 10 Led Pumpkin Lanterns Battery Powered String Lights\n",
      "locale                                                                                                                                       UK\n",
      "Name: B0B2ZH13D1, dtype: object\n"
     ]
    }
   ],
   "source": [
    "compare_title(65820)"
   ]
  },
  {
   "cell_type": "code",
   "execution_count": 97,
   "metadata": {},
   "outputs": [
    {
     "name": "stdout",
     "output_type": "stream",
     "text": [
      "********last item*********\n",
      "                                                                        title  \\\n",
      "id                                                                              \n",
      "B07KPTB56T  Amazon Basics - Elektrischer Wasserkocher aus Glas, 1,7 l, 2200 W   \n",
      "B07KPTB56T                   Amazon Basics 1.7 L 2200 W Electric Glass Kettle   \n",
      "\n",
      "           locale  \n",
      "id                 \n",
      "B07KPTB56T     DE  \n",
      "B07KPTB56T     UK  \n",
      "*******ground truth*******\n",
      "                                                                        title  \\\n",
      "id                                                                              \n",
      "B07KPTB56T  Amazon Basics - Elektrischer Wasserkocher aus Glas, 1,7 l, 2200 W   \n",
      "B07KPTB56T                   Amazon Basics 1.7 L 2200 W Electric Glass Kettle   \n",
      "\n",
      "           locale  \n",
      "id                 \n",
      "B07KPTB56T     DE  \n",
      "B07KPTB56T     UK  \n",
      "*******prediction*********\n",
      "No. 0 : \n",
      "title     SEVERIN WK 3417 Wasserkocher (ca. 2.200 W, 1 L) fire red metallic /schwarz\n",
      "locale                                                                            DE\n",
      "Name: B07L9SW8M6, dtype: object\n",
      "No. 1 : \n",
      "title     Russell Hobbs 26051-70 Wasserkocher `Honeycomb`, 1,7 Liter schwarz\n",
      "locale                                                                    DE\n",
      "Name: B08L1ZH7HZ, dtype: object\n",
      "No. 2 : \n",
      "title     Ninja Wasserkocher [KT200EU] Schwarz, 1,7 L, Schnellkochfunktion, Warmhaltefunktion\n",
      "locale                                                                                     DE\n",
      "Name: B09SG46L47, dtype: object\n",
      "No. 3 : \n",
      "title     CONCEPT Hausgeräte rk0020 Wasserkocher, Ceramic, 1.5 liters, Weiß + Muster\n",
      "locale                                                                            DE\n",
      "Name: B00KGJ2ORC, dtype: object\n",
      "No. 4 : \n",
      "title     SEVERIN WK 9540 Wasserkocher (ca. 2.200 W, 1,0 L) grau-metallic/schwarz\n",
      "locale                                                                         DE\n",
      "Name: B07GZG1FMQ, dtype: object\n",
      "No. 5 : \n",
      "title     Ninja Wasserkocher [KT201EU] Edelstahl, 1.7 L, Schnellkochfunktion, Warmhaltefunktion, Silber\n",
      "locale                                                                                               DE\n",
      "Name: B09X757MD2, dtype: object\n",
      "No. 6 : \n",
      "title     Philips Wasserkocher – 1.7 L Fassungsvermögen mit Temperaturregelung, Warmhaltefunktion und Kontrollanzeige, Edelstahl, Pirouettenbasis (HD9359/90)\n",
      "locale                                                                                                                                                     DE\n",
      "Name: B07GDTDPXQ, dtype: object\n",
      "No. 7 : \n",
      "title     Adler AD 1244 Wasserkocher 2,5 L, Weiß/Grau\n",
      "locale                                             DE\n",
      "Name: B01L3ZA7DK, dtype: object\n",
      "No. 8 : \n",
      "title     SEVERIN WK 3415 Wasserkocher, kompakt schnell und BPA-frei, 2400 W, 1,0 Liter\n",
      "locale                                                                               DE\n",
      "Name: B082P95T7Z, dtype: object\n",
      "No. 9 : \n",
      "title     ADE Energiesparender Wasserkocher mit Temperatureinstellung 40-100°C | 1,5 l | Edelstahl | BPA-frei | schwarz matt\n",
      "locale                                                                                                                    DE\n",
      "Name: B01LXKYEAQ, dtype: object\n"
     ]
    }
   ],
   "source": [
    "compare_title(65821)"
   ]
  }
 ],
 "metadata": {
  "kernelspec": {
   "display_name": "torch12",
   "language": "python",
   "name": "python3"
  },
  "language_info": {
   "codemirror_mode": {
    "name": "ipython",
    "version": 3
   },
   "file_extension": ".py",
   "mimetype": "text/x-python",
   "name": "python",
   "nbconvert_exporter": "python",
   "pygments_lexer": "ipython3",
   "version": "3.9.15"
  },
  "orig_nbformat": 4
 },
 "nbformat": 4,
 "nbformat_minor": 2
}
