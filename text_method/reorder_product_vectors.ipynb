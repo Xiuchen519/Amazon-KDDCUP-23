{
 "cells": [
  {
   "cell_type": "code",
   "execution_count": 1,
   "metadata": {},
   "outputs": [
    {
     "name": "stderr",
     "output_type": "stream",
     "text": [
      "/root/autodl-tmp/xiaolong/anaconda3/envs/pytorch_gpu/lib/python3.9/site-packages/tqdm/auto.py:22: TqdmWarning: IProgress not found. Please update jupyter and ipywidgets. See https://ipywidgets.readthedocs.io/en/stable/user_install.html\n",
      "  from .autonotebook import tqdm as notebook_tqdm\n"
     ]
    }
   ],
   "source": [
    "import sys\n",
    "sys.path = ['../RecStudio'] + sys.path\n",
    "import pandas as pd \n",
    "import numpy as np \n",
    "import torch\n",
    "from recstudio.data.advance_dataset import KDDCUPSeqDataset, KDDCUPSessionDataset\n",
    "import pickle"
   ]
  },
  {
   "cell_type": "code",
   "execution_count": 2,
   "metadata": {},
   "outputs": [],
   "source": [
    "def _load_cache(path):\n",
    "    with open(path, 'rb') as f:\n",
    "        download_obj = pickle.load(f)\n",
    "    return download_obj"
   ]
  },
  {
   "cell_type": "code",
   "execution_count": 3,
   "metadata": {},
   "outputs": [],
   "source": [
    "def load_datasets_from_cache(data_dir):\n",
    "    cache_datasets = _load_cache(data_dir)\n",
    "    datasets = []\n",
    "    for i in range(len(cache_datasets)):\n",
    "        datasets.append(KDDCUPSessionDataset(None, data_dir, None, True))\n",
    "        for k in cache_datasets[i].__dict__:\n",
    "            attr = getattr(cache_datasets[i], k)\n",
    "            setattr(datasets[i], k, attr)\n",
    "    return datasets "
   ]
  },
  {
   "cell_type": "code",
   "execution_count": 4,
   "metadata": {},
   "outputs": [],
   "source": [
    "product_data = pd.read_csv('/root/autodl-tmp/xiaolong/WorkSpace/Amazon-KDDCUP-23/raw_data/products_train.csv')"
   ]
  },
  {
   "attachments": {},
   "cell_type": "markdown",
   "metadata": {},
   "source": [
    "# DE"
   ]
  },
  {
   "cell_type": "code",
   "execution_count": 5,
   "metadata": {},
   "outputs": [],
   "source": [
    "DE_product_vectors = np.load('/root/autodl-tmp/xiaolong/WorkSpace/Amazon-KDDCUP-23/text_method/phase2_task1_bert_results_DE/results/item_reps/item.npy')\n",
    "padding_vector = np.array([[0.0 for _ in range(DE_product_vectors.shape[-1])]])\n",
    "DE_product_vectors = np.concatenate([padding_vector, DE_product_vectors], axis=0)"
   ]
  },
  {
   "cell_type": "code",
   "execution_count": 6,
   "metadata": {},
   "outputs": [
    {
     "data": {
      "text/plain": [
       "(518328, 768)"
      ]
     },
     "execution_count": 6,
     "metadata": {},
     "output_type": "execute_result"
    }
   ],
   "source": [
    "DE_product_vectors.shape"
   ]
  },
  {
   "cell_type": "code",
   "execution_count": 7,
   "metadata": {},
   "outputs": [],
   "source": [
    "DE_dataset = load_datasets_from_cache('/root/autodl-tmp/xiaolong/WorkSpace/Amazon-KDDCUP-23/.recstudio/cache/cf49a486c59e9dd4de37544db3d11d4f')[0]"
   ]
  },
  {
   "cell_type": "code",
   "execution_count": 8,
   "metadata": {},
   "outputs": [],
   "source": [
    "DE_index = DE_dataset.item_feat.get_col('DE_index').long()"
   ]
  },
  {
   "cell_type": "code",
   "execution_count": 57,
   "metadata": {},
   "outputs": [],
   "source": [
    "reordered_DE_product_vectors = DE_product_vectors[DE_index]"
   ]
  },
  {
   "cell_type": "code",
   "execution_count": 58,
   "metadata": {},
   "outputs": [],
   "source": [
    "vector = reordered_DE_product_vectors[10]"
   ]
  },
  {
   "cell_type": "code",
   "execution_count": 59,
   "metadata": {},
   "outputs": [
    {
     "data": {
      "text/plain": [
       "(array([[ 0.        ,  0.        ,  0.        , ...,  0.        ,\n",
       "          0.        ,  0.        ],\n",
       "        [-0.27767107,  0.46169734,  0.1656774 , ...,  0.0504719 ,\n",
       "          0.06277502, -0.71079695],\n",
       "        [-0.09146871,  0.25685158, -0.15032132, ..., -0.05625479,\n",
       "          0.12564886, -0.44113448],\n",
       "        ...,\n",
       "        [ 0.25588366,  0.10712019, -0.16894843, ..., -0.09348757,\n",
       "         -0.05167353, -0.48440662],\n",
       "        [-0.18512085,  0.63365602,  0.05480206, ...,  0.19784965,\n",
       "         -0.47778049, -0.89562184],\n",
       "        [-0.11996938,  0.10017258, -0.44667378, ...,  0.15710057,\n",
       "         -0.48249194, -0.30656368]]),\n",
       " array([[ 0.        ,  0.        ,  0.        , ...,  0.        ,\n",
       "          0.        ,  0.        ],\n",
       "        [ 0.15347071, -0.04191907, -0.02111584, ...,  0.26753294,\n",
       "         -0.42893904, -0.15342619],\n",
       "        [ 0.10978135,  0.18713956, -0.26135033, ..., -0.15469003,\n",
       "          0.10276753, -0.40611464],\n",
       "        ...,\n",
       "        [ 0.05648566,  0.17951466, -0.13526079, ..., -0.31038904,\n",
       "         -0.08087464, -0.42047179],\n",
       "        [ 0.22574706,  0.63171631, -0.10606638, ..., -0.29681659,\n",
       "         -0.37644342, -0.46039981],\n",
       "        [-0.53508061,  0.93563133, -0.20645574, ...,  0.27692243,\n",
       "         -0.10926964, -0.31760818]]))"
      ]
     },
     "execution_count": 59,
     "metadata": {},
     "output_type": "execute_result"
    }
   ],
   "source": [
    "reordered_DE_product_vectors, DE_product_vectors"
   ]
  },
  {
   "cell_type": "code",
   "execution_count": 60,
   "metadata": {},
   "outputs": [
    {
     "data": {
      "text/plain": [
       "array([    10,  79610,     11,  79611, 220141, 363759, 233091, 212236,\n",
       "       205996, 256106])"
      ]
     },
     "execution_count": 60,
     "metadata": {},
     "output_type": "execute_result"
    }
   ],
   "source": [
    "(-np.matmul(reordered_DE_product_vectors, vector)).argsort()[:10]"
   ]
  },
  {
   "cell_type": "code",
   "execution_count": 64,
   "metadata": {},
   "outputs": [
    {
     "data": {
      "text/plain": [
       "('B003YCIEWC', 'B003YCIEWW')"
      ]
     },
     "execution_count": 64,
     "metadata": {},
     "output_type": "execute_result"
    }
   ],
   "source": [
    "DE_dataset.field2tokens['product_id'][10], DE_dataset.field2tokens['product_id'][79610]"
   ]
  },
  {
   "cell_type": "code",
   "execution_count": 39,
   "metadata": {},
   "outputs": [
    {
     "data": {
      "text/plain": [
       "'ROMMELSBACHER Kleinbackofen BG 1055/E - 18 Liter Backraum, 7 Heizarten inkl. Umluft, Temperaturen von 80 - 230 °C, Doppelverglasung, Innenbeleuchtung, Zeitschaltuhr, 1050 W, Edelstahl'"
      ]
     },
     "execution_count": 39,
     "metadata": {},
     "output_type": "execute_result"
    }
   ],
   "source": [
    "product_data.query(\"id=='B003YCIEWC'\").iloc[0]['title']"
   ]
  },
  {
   "cell_type": "code",
   "execution_count": 65,
   "metadata": {},
   "outputs": [
    {
     "data": {
      "text/plain": [
       "'ROMMELSBACHER Kleinbackofen BG 950 \"Speedy\" - 10 Liter Backraum, 2 Quarzheizelemente, Temperatur von 80 - 230 °, Ober-/Unterhitze, Zeitschaltuhr, antihaftbeschichteter Backraum, Doppelverglasung'"
      ]
     },
     "execution_count": 65,
     "metadata": {},
     "output_type": "execute_result"
    }
   ],
   "source": [
    "product_data.query(\"id=='B003YCIEWW'\").iloc[0]['title']"
   ]
  },
  {
   "cell_type": "code",
   "execution_count": 22,
   "metadata": {},
   "outputs": [
    {
     "data": {
      "text/plain": [
       "(array([[ 0.        ,  0.        ,  0.        , ...,  0.        ,\n",
       "          0.        ,  0.        ],\n",
       "        [-0.27767107,  0.46169734,  0.1656774 , ...,  0.0504719 ,\n",
       "          0.06277502, -0.71079695],\n",
       "        [-0.09146871,  0.25685158, -0.15032132, ..., -0.05625479,\n",
       "          0.12564886, -0.44113448],\n",
       "        ...,\n",
       "        [ 0.25588366,  0.10712019, -0.16894843, ..., -0.09348757,\n",
       "         -0.05167353, -0.48440662],\n",
       "        [-0.18512085,  0.63365602,  0.05480206, ...,  0.19784965,\n",
       "         -0.47778049, -0.89562184],\n",
       "        [-0.11996938,  0.10017258, -0.44667378, ...,  0.15710057,\n",
       "         -0.48249194, -0.30656368]]),\n",
       " (518328, 768))"
      ]
     },
     "execution_count": 22,
     "metadata": {},
     "output_type": "execute_result"
    }
   ],
   "source": [
    "reordered_DE_product_vectors, reordered_DE_product_vectors.shape"
   ]
  },
  {
   "cell_type": "code",
   "execution_count": 23,
   "metadata": {},
   "outputs": [],
   "source": [
    "np.save('/root/autodl-tmp/xiaolong/WorkSpace/Amazon-KDDCUP-23/text_method/phase2_task1_bert_results_DE/results/item_reps/reordered_item.npy', reordered_DE_product_vectors)"
   ]
  },
  {
   "attachments": {},
   "cell_type": "markdown",
   "metadata": {},
   "source": [
    "# JP"
   ]
  },
  {
   "cell_type": "code",
   "execution_count": 24,
   "metadata": {},
   "outputs": [],
   "source": [
    "JP_product_vectors = np.load('/root/autodl-tmp/xiaolong/WorkSpace/Amazon-KDDCUP-23/text_method/phase2_task1_bert_results_JP/results/item_reps/item.npy')\n",
    "padding_vector = np.array([[0.0 for _ in range(JP_product_vectors.shape[-1])]])\n",
    "JP_product_vectors = np.concatenate([padding_vector, JP_product_vectors], axis=0)"
   ]
  },
  {
   "cell_type": "code",
   "execution_count": 25,
   "metadata": {},
   "outputs": [
    {
     "data": {
      "text/plain": [
       "(395010, 768)"
      ]
     },
     "execution_count": 25,
     "metadata": {},
     "output_type": "execute_result"
    }
   ],
   "source": [
    "JP_product_vectors.shape"
   ]
  },
  {
   "cell_type": "code",
   "execution_count": 26,
   "metadata": {},
   "outputs": [],
   "source": [
    "JP_dataset = load_datasets_from_cache('/root/autodl-tmp/xiaolong/WorkSpace/Amazon-KDDCUP-23/.recstudio/cache/0a61def413f0594014cbda0db39a5d35')[0]"
   ]
  },
  {
   "cell_type": "code",
   "execution_count": 27,
   "metadata": {},
   "outputs": [],
   "source": [
    "JP_index = JP_dataset.item_feat.get_col('JP_index').long()"
   ]
  },
  {
   "cell_type": "code",
   "execution_count": 28,
   "metadata": {},
   "outputs": [],
   "source": [
    "reordered_JP_product_vectors = JP_product_vectors[JP_index]"
   ]
  },
  {
   "cell_type": "code",
   "execution_count": 29,
   "metadata": {},
   "outputs": [
    {
     "data": {
      "text/plain": [
       "(array([[ 0.        ,  0.        ,  0.        , ...,  0.        ,\n",
       "          0.        ,  0.        ],\n",
       "        [-0.07792613, -0.20774005, -0.11552254, ..., -0.14221342,\n",
       "         -0.01400352,  0.45575038],\n",
       "        [-0.15231362, -0.08534466, -0.02059302, ..., -0.3459157 ,\n",
       "         -0.01568456,  0.2924411 ],\n",
       "        ...,\n",
       "        [-0.04140345,  0.36435166, -0.1477115 , ...,  0.11874112,\n",
       "          0.21343319, -0.23807478],\n",
       "        [ 0.14280741, -0.09587425, -0.50497603, ...,  0.24368274,\n",
       "          0.10076301,  0.17239091],\n",
       "        [-0.34945658,  0.17122674, -0.46473494, ..., -0.43367937,\n",
       "          0.0645022 , -0.05137298]]),\n",
       " (395010, 768))"
      ]
     },
     "execution_count": 29,
     "metadata": {},
     "output_type": "execute_result"
    }
   ],
   "source": [
    "reordered_JP_product_vectors, reordered_JP_product_vectors.shape"
   ]
  },
  {
   "cell_type": "code",
   "execution_count": 30,
   "metadata": {},
   "outputs": [],
   "source": [
    "np.save('/root/autodl-tmp/xiaolong/WorkSpace/Amazon-KDDCUP-23/text_method/phase2_task1_bert_results_JP/results/item_reps/reordered_item.npy', reordered_JP_product_vectors)"
   ]
  },
  {
   "attachments": {},
   "cell_type": "markdown",
   "metadata": {},
   "source": [
    "# UK"
   ]
  },
  {
   "cell_type": "code",
   "execution_count": 5,
   "metadata": {},
   "outputs": [],
   "source": [
    "UK_product_vectors = np.load('/root/autodl-tmp/xiaolong/WorkSpace/Amazon-KDDCUP-23/text_method/phase2_task1_roberta_results_UK/results/item_reps/item.npy')\n",
    "padding_vector = np.array([[0.0 for _ in range(UK_product_vectors.shape[-1])]])\n",
    "UK_product_vectors = np.concatenate([padding_vector, UK_product_vectors], axis=0)"
   ]
  },
  {
   "cell_type": "code",
   "execution_count": 6,
   "metadata": {},
   "outputs": [
    {
     "data": {
      "text/plain": [
       "(500181, 768)"
      ]
     },
     "execution_count": 6,
     "metadata": {},
     "output_type": "execute_result"
    }
   ],
   "source": [
    "UK_product_vectors.shape"
   ]
  },
  {
   "cell_type": "code",
   "execution_count": 22,
   "metadata": {},
   "outputs": [],
   "source": [
    "one_vector = UK_product_vectors[2000]"
   ]
  },
  {
   "cell_type": "code",
   "execution_count": 23,
   "metadata": {},
   "outputs": [
    {
     "data": {
      "text/plain": [
       "array([  2000, 112424, 202301, 472272, 272461, 391722, 303370, 232505,\n",
       "       147477, 469652])"
      ]
     },
     "execution_count": 23,
     "metadata": {},
     "output_type": "execute_result"
    }
   ],
   "source": [
    "(-np.matmul(UK_product_vectors, one_vector)).argsort()[:10]"
   ]
  },
  {
   "cell_type": "code",
   "execution_count": 9,
   "metadata": {},
   "outputs": [],
   "source": [
    "UK_product_data = product_data.query(\"locale=='UK'\")"
   ]
  },
  {
   "cell_type": "code",
   "execution_count": 10,
   "metadata": {},
   "outputs": [
    {
     "data": {
      "text/html": [
       "<div>\n",
       "<style scoped>\n",
       "    .dataframe tbody tr th:only-of-type {\n",
       "        vertical-align: middle;\n",
       "    }\n",
       "\n",
       "    .dataframe tbody tr th {\n",
       "        vertical-align: top;\n",
       "    }\n",
       "\n",
       "    .dataframe thead th {\n",
       "        text-align: right;\n",
       "    }\n",
       "</style>\n",
       "<table border=\"1\" class=\"dataframe\">\n",
       "  <thead>\n",
       "    <tr style=\"text-align: right;\">\n",
       "      <th></th>\n",
       "      <th>id</th>\n",
       "      <th>locale</th>\n",
       "      <th>title</th>\n",
       "      <th>price</th>\n",
       "      <th>brand</th>\n",
       "      <th>color</th>\n",
       "      <th>size</th>\n",
       "      <th>model</th>\n",
       "      <th>material</th>\n",
       "      <th>author</th>\n",
       "      <th>desc</th>\n",
       "    </tr>\n",
       "  </thead>\n",
       "  <tbody>\n",
       "    <tr>\n",
       "      <th>913336</th>\n",
       "      <td>B087LZNPHS</td>\n",
       "      <td>UK</td>\n",
       "      <td>SOCHOW Sherpa Fleece Throw Blanket, Double-Sid...</td>\n",
       "      <td>24.99</td>\n",
       "      <td>SOCHOW</td>\n",
       "      <td>Teal Green</td>\n",
       "      <td>127cm×150cm</td>\n",
       "      <td>NaN</td>\n",
       "      <td>100% Polyester</td>\n",
       "      <td>NaN</td>\n",
       "      <td>COLOR: The sherpa throw blanket is available i...</td>\n",
       "    </tr>\n",
       "    <tr>\n",
       "      <th>913337</th>\n",
       "      <td>B08THFN1KX</td>\n",
       "      <td>UK</td>\n",
       "      <td>Hippowarehouse Personalised Photo Printed Mous...</td>\n",
       "      <td>9.95</td>\n",
       "      <td>Hippowarehouse</td>\n",
       "      <td>White</td>\n",
       "      <td>240mm x 190mm x 60mm</td>\n",
       "      <td>50245-Mat-Perso</td>\n",
       "      <td>Rubber</td>\n",
       "      <td>NaN</td>\n",
       "      <td>Competitively priced</td>\n",
       "    </tr>\n",
       "    <tr>\n",
       "      <th>913338</th>\n",
       "      <td>0804185328</td>\n",
       "      <td>UK</td>\n",
       "      <td>500 Easy Recipes for Every Machine, Both Stove...</td>\n",
       "      <td>16.49</td>\n",
       "      <td>Clarkson Potter</td>\n",
       "      <td>White</td>\n",
       "      <td>NaN</td>\n",
       "      <td>NaN</td>\n",
       "      <td>NaN</td>\n",
       "      <td>Scarbrough, Mark</td>\n",
       "      <td>NaN</td>\n",
       "    </tr>\n",
       "    <tr>\n",
       "      <th>913339</th>\n",
       "      <td>B09VBKDBW6</td>\n",
       "      <td>UK</td>\n",
       "      <td>TYHJOY Mini Bag Sealer, Handheld Vacuum Heat S...</td>\n",
       "      <td>11.99</td>\n",
       "      <td>TYHJOY</td>\n",
       "      <td>Black</td>\n",
       "      <td>NaN</td>\n",
       "      <td>FBA-sealer-black</td>\n",
       "      <td>Acrylonitrile Butadiene Styrene</td>\n",
       "      <td>NaN</td>\n",
       "      <td>【AFTER-SALE】This handheld food heat sealer sho...</td>\n",
       "    </tr>\n",
       "    <tr>\n",
       "      <th>913340</th>\n",
       "      <td>B096ZW8B49</td>\n",
       "      <td>UK</td>\n",
       "      <td>Lucosobie Steering Wheel Lock - Car Anti-Theft...</td>\n",
       "      <td>26.99</td>\n",
       "      <td>Lucosobie</td>\n",
       "      <td>Black</td>\n",
       "      <td>NaN</td>\n",
       "      <td>NaN</td>\n",
       "      <td>Alloy Steel</td>\n",
       "      <td>NaN</td>\n",
       "      <td>🔐【 Anti-Friction &amp; Customer First】Each box of ...</td>\n",
       "    </tr>\n",
       "    <tr>\n",
       "      <th>...</th>\n",
       "      <td>...</td>\n",
       "      <td>...</td>\n",
       "      <td>...</td>\n",
       "      <td>...</td>\n",
       "      <td>...</td>\n",
       "      <td>...</td>\n",
       "      <td>...</td>\n",
       "      <td>...</td>\n",
       "      <td>...</td>\n",
       "      <td>...</td>\n",
       "      <td>...</td>\n",
       "    </tr>\n",
       "    <tr>\n",
       "      <th>1413511</th>\n",
       "      <td>B08D7KW8VK</td>\n",
       "      <td>UK</td>\n",
       "      <td>TOMHOUSEE Anime Cosplay Short Straight Hair Wi...</td>\n",
       "      <td>9.99</td>\n",
       "      <td>TOMHOUSEE</td>\n",
       "      <td>Deep Grey Yuki</td>\n",
       "      <td>NaN</td>\n",
       "      <td>NaN</td>\n",
       "      <td>Synthetic</td>\n",
       "      <td>NaN</td>\n",
       "      <td>NaN</td>\n",
       "    </tr>\n",
       "    <tr>\n",
       "      <th>1413512</th>\n",
       "      <td>B073WXLXR9</td>\n",
       "      <td>UK</td>\n",
       "      <td>Crystals NEW brilliant ink twister bingo dabbe...</td>\n",
       "      <td>8.99</td>\n",
       "      <td>CRYSTALS</td>\n",
       "      <td>Orange,blue,green,pink,red,purple</td>\n",
       "      <td>NaN</td>\n",
       "      <td>NaN</td>\n",
       "      <td>Plastic</td>\n",
       "      <td>NaN</td>\n",
       "      <td>NaN</td>\n",
       "    </tr>\n",
       "    <tr>\n",
       "      <th>1413513</th>\n",
       "      <td>1529393833</td>\n",
       "      <td>UK</td>\n",
       "      <td>Before I Do: the new, funny and unexpected lov...</td>\n",
       "      <td>4.50</td>\n",
       "      <td>Hodder Paperbacks</td>\n",
       "      <td>NaN</td>\n",
       "      <td>NaN</td>\n",
       "      <td>NaN</td>\n",
       "      <td>NaN</td>\n",
       "      <td>Cousens, Sophie</td>\n",
       "      <td>NaN</td>\n",
       "    </tr>\n",
       "    <tr>\n",
       "      <th>1413514</th>\n",
       "      <td>B0B3TJ1NDN</td>\n",
       "      <td>UK</td>\n",
       "      <td>Black iPhone Charger Cable, iPhone Charger Bra...</td>\n",
       "      <td>4.49</td>\n",
       "      <td>AA-TECH</td>\n",
       "      <td>Black</td>\n",
       "      <td>2M</td>\n",
       "      <td>brd-ip-black-2022</td>\n",
       "      <td>Nylon Braided</td>\n",
       "      <td>NaN</td>\n",
       "      <td>Added Protection: An additional layer of prote...</td>\n",
       "    </tr>\n",
       "    <tr>\n",
       "      <th>1413515</th>\n",
       "      <td>B00HUBEG3Y</td>\n",
       "      <td>UK</td>\n",
       "      <td>Kids B Crafty 100 Mini Pegs, Mini Wooden Pegs,...</td>\n",
       "      <td>3.99</td>\n",
       "      <td>Kids B Crafty</td>\n",
       "      <td>NaN</td>\n",
       "      <td>NaN</td>\n",
       "      <td>NaN</td>\n",
       "      <td>Alloy Steel</td>\n",
       "      <td>NaN</td>\n",
       "      <td>🔵 Mini Pegs : 100 Wooden Pegs For Decoration, ...</td>\n",
       "    </tr>\n",
       "  </tbody>\n",
       "</table>\n",
       "<p>500180 rows × 11 columns</p>\n",
       "</div>"
      ],
      "text/plain": [
       "                 id locale                                              title  \\\n",
       "913336   B087LZNPHS     UK  SOCHOW Sherpa Fleece Throw Blanket, Double-Sid...   \n",
       "913337   B08THFN1KX     UK  Hippowarehouse Personalised Photo Printed Mous...   \n",
       "913338   0804185328     UK  500 Easy Recipes for Every Machine, Both Stove...   \n",
       "913339   B09VBKDBW6     UK  TYHJOY Mini Bag Sealer, Handheld Vacuum Heat S...   \n",
       "913340   B096ZW8B49     UK  Lucosobie Steering Wheel Lock - Car Anti-Theft...   \n",
       "...             ...    ...                                                ...   \n",
       "1413511  B08D7KW8VK     UK  TOMHOUSEE Anime Cosplay Short Straight Hair Wi...   \n",
       "1413512  B073WXLXR9     UK  Crystals NEW brilliant ink twister bingo dabbe...   \n",
       "1413513  1529393833     UK  Before I Do: the new, funny and unexpected lov...   \n",
       "1413514  B0B3TJ1NDN     UK  Black iPhone Charger Cable, iPhone Charger Bra...   \n",
       "1413515  B00HUBEG3Y     UK  Kids B Crafty 100 Mini Pegs, Mini Wooden Pegs,...   \n",
       "\n",
       "         price              brand                              color  \\\n",
       "913336   24.99             SOCHOW                         Teal Green   \n",
       "913337    9.95     Hippowarehouse                              White   \n",
       "913338   16.49    Clarkson Potter                              White   \n",
       "913339   11.99             TYHJOY                              Black   \n",
       "913340   26.99          Lucosobie                              Black   \n",
       "...        ...                ...                                ...   \n",
       "1413511   9.99          TOMHOUSEE                     Deep Grey Yuki   \n",
       "1413512   8.99           CRYSTALS  Orange,blue,green,pink,red,purple   \n",
       "1413513   4.50  Hodder Paperbacks                                NaN   \n",
       "1413514   4.49            AA-TECH                              Black   \n",
       "1413515   3.99      Kids B Crafty                                NaN   \n",
       "\n",
       "                         size              model  \\\n",
       "913336            127cm×150cm                NaN   \n",
       "913337   240mm x 190mm x 60mm    50245-Mat-Perso   \n",
       "913338                    NaN                NaN   \n",
       "913339                    NaN   FBA-sealer-black   \n",
       "913340                    NaN                NaN   \n",
       "...                       ...                ...   \n",
       "1413511                   NaN                NaN   \n",
       "1413512                   NaN                NaN   \n",
       "1413513                   NaN                NaN   \n",
       "1413514                    2M  brd-ip-black-2022   \n",
       "1413515                   NaN                NaN   \n",
       "\n",
       "                                material            author  \\\n",
       "913336                    100% Polyester               NaN   \n",
       "913337                            Rubber               NaN   \n",
       "913338                               NaN  Scarbrough, Mark   \n",
       "913339   Acrylonitrile Butadiene Styrene               NaN   \n",
       "913340                       Alloy Steel               NaN   \n",
       "...                                  ...               ...   \n",
       "1413511                        Synthetic               NaN   \n",
       "1413512                          Plastic               NaN   \n",
       "1413513                              NaN   Cousens, Sophie   \n",
       "1413514                    Nylon Braided               NaN   \n",
       "1413515                      Alloy Steel               NaN   \n",
       "\n",
       "                                                      desc  \n",
       "913336   COLOR: The sherpa throw blanket is available i...  \n",
       "913337                                Competitively priced  \n",
       "913338                                                 NaN  \n",
       "913339   【AFTER-SALE】This handheld food heat sealer sho...  \n",
       "913340   🔐【 Anti-Friction & Customer First】Each box of ...  \n",
       "...                                                    ...  \n",
       "1413511                                                NaN  \n",
       "1413512                                                NaN  \n",
       "1413513                                                NaN  \n",
       "1413514  Added Protection: An additional layer of prote...  \n",
       "1413515  🔵 Mini Pegs : 100 Wooden Pegs For Decoration, ...  \n",
       "\n",
       "[500180 rows x 11 columns]"
      ]
     },
     "execution_count": 10,
     "metadata": {},
     "output_type": "execute_result"
    }
   ],
   "source": [
    "UK_product_data"
   ]
  },
  {
   "cell_type": "code",
   "execution_count": 24,
   "metadata": {},
   "outputs": [
    {
     "data": {
      "text/plain": [
       "'Lest We Forget Flag Remembrance Day Flag Poppy Flag 3 X 5 ft Remembrance Sunday Poppy Flag Remembrance Day Decorations for Heroes Soldiers Outdoors Street Square Lest We Forget Banner'"
      ]
     },
     "execution_count": 24,
     "metadata": {},
     "output_type": "execute_result"
    }
   ],
   "source": [
    "UK_product_data.iloc[1999]['title']"
   ]
  },
  {
   "cell_type": "code",
   "execution_count": 25,
   "metadata": {},
   "outputs": [
    {
     "data": {
      "text/plain": [
       "'Lest We Forget Flag Remembrance Day Flag Poppy Flag 3 X 5 ft Remembrance Sunday Poppy Flag Remembrance Day Decorations for Heroes Soldiers Outdoors Street Square Lest We Forget Banner'"
      ]
     },
     "execution_count": 25,
     "metadata": {},
     "output_type": "execute_result"
    }
   ],
   "source": [
    "UK_product_data.iloc[112423]['title']"
   ]
  },
  {
   "cell_type": "code",
   "execution_count": 26,
   "metadata": {},
   "outputs": [],
   "source": [
    "UK_dataset = load_datasets_from_cache('/root/autodl-tmp/xiaolong/WorkSpace/Amazon-KDDCUP-23/.recstudio/cache/5bd28611fbebac9d3034ecb047ad8235')[0]"
   ]
  },
  {
   "cell_type": "code",
   "execution_count": 17,
   "metadata": {},
   "outputs": [
    {
     "data": {
      "text/plain": [
       "500181"
      ]
     },
     "execution_count": 17,
     "metadata": {},
     "output_type": "execute_result"
    }
   ],
   "source": [
    "len(UK_dataset.field2tokens['product_id'])"
   ]
  },
  {
   "cell_type": "code",
   "execution_count": 22,
   "metadata": {},
   "outputs": [
    {
     "data": {
      "text/plain": [
       "43"
      ]
     },
     "execution_count": 22,
     "metadata": {},
     "output_type": "execute_result"
    }
   ],
   "source": [
    "len(UK_dataset.title_feat['input_ids'][1])"
   ]
  },
  {
   "cell_type": "code",
   "execution_count": 27,
   "metadata": {},
   "outputs": [],
   "source": [
    "UK_index = UK_dataset.item_feat.get_col('UK_index').long()"
   ]
  },
  {
   "cell_type": "code",
   "execution_count": 28,
   "metadata": {},
   "outputs": [],
   "source": [
    "reordered_UK_product_vectors = UK_product_vectors[UK_index]"
   ]
  },
  {
   "cell_type": "code",
   "execution_count": 29,
   "metadata": {},
   "outputs": [
    {
     "data": {
      "text/plain": [
       "array([[ 0.        ,  0.        ,  0.        , ...,  0.        ,\n",
       "         0.        ,  0.        ],\n",
       "       [ 0.31055942,  0.26857582, -0.02708881, ..., -0.20840503,\n",
       "         0.22763547,  0.09966043],\n",
       "       [ 0.28270358,  0.23816437, -0.08710322, ..., -0.31988525,\n",
       "         0.05173429,  0.10050996],\n",
       "       ...,\n",
       "       [ 0.01956559,  0.38649058, -0.10972144, ..., -0.23125383,\n",
       "         0.18344085, -0.13115814],\n",
       "       [ 0.3251771 ,  0.32289335,  0.0486753 , ..., -0.50031304,\n",
       "         0.06716381,  0.1378964 ],\n",
       "       [-0.03344749,  0.29696861,  0.03735647, ..., -0.255467  ,\n",
       "         0.19779138,  0.2023138 ]])"
      ]
     },
     "execution_count": 29,
     "metadata": {},
     "output_type": "execute_result"
    }
   ],
   "source": [
    "reordered_UK_product_vectors"
   ]
  },
  {
   "cell_type": "code",
   "execution_count": 16,
   "metadata": {},
   "outputs": [],
   "source": [
    "np.save('/root/autodl-tmp/xiaolong/WorkSpace/Amazon-KDDCUP-23/text_method/phase2_task1_roberta_results_UK/results/item_reps/reordered_item.npy', reordered_UK_product_vectors)"
   ]
  }
 ],
 "metadata": {
  "kernelspec": {
   "display_name": "pytorch_gpu",
   "language": "python",
   "name": "python3"
  },
  "language_info": {
   "codemirror_mode": {
    "name": "ipython",
    "version": 3
   },
   "file_extension": ".py",
   "mimetype": "text/x-python",
   "name": "python",
   "nbconvert_exporter": "python",
   "pygments_lexer": "ipython3",
   "version": "3.9.15"
  },
  "orig_nbformat": 4
 },
 "nbformat": 4,
 "nbformat_minor": 2
}
