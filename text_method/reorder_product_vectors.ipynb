{
 "cells": [
  {
   "cell_type": "code",
   "execution_count": 1,
   "metadata": {},
   "outputs": [],
   "source": [
    "import sys\n",
    "sys.path = ['../RecStudio'] + sys.path\n",
    "import pandas as pd \n",
    "import numpy as np \n",
    "import torch\n",
    "from recstudio.data.advance_dataset import KDDCUPSeqDataset, KDDCUPSessionDataset\n",
    "import pickle"
   ]
  },
  {
   "cell_type": "code",
   "execution_count": 2,
   "metadata": {},
   "outputs": [],
   "source": [
    "def _load_cache(path):\n",
    "    with open(path, 'rb') as f:\n",
    "        download_obj = pickle.load(f)\n",
    "    return download_obj"
   ]
  },
  {
   "cell_type": "code",
   "execution_count": 3,
   "metadata": {},
   "outputs": [],
   "source": [
    "def load_datasets_from_cache(data_dir):\n",
    "    cache_datasets = _load_cache(data_dir)\n",
    "    datasets = []\n",
    "    for i in range(len(cache_datasets)):\n",
    "        datasets.append(KDDCUPSessionDataset(None, data_dir, None, True))\n",
    "        for k in cache_datasets[i].__dict__:\n",
    "            attr = getattr(cache_datasets[i], k)\n",
    "            setattr(datasets[i], k, attr)\n",
    "    return datasets "
   ]
  },
  {
   "cell_type": "code",
   "execution_count": 4,
   "metadata": {},
   "outputs": [],
   "source": [
    "product_data = pd.read_csv('/root/autodl-tmp/xiaolong/WorkSpace/Amazon-KDDCUP-23/raw_data/products_train.csv')"
   ]
  },
  {
   "attachments": {},
   "cell_type": "markdown",
   "metadata": {},
   "source": [
    "# DE"
   ]
  },
  {
   "cell_type": "code",
   "execution_count": 5,
   "metadata": {},
   "outputs": [],
   "source": [
    "DE_product_vectors = np.load('/root/autodl-tmp/xiaolong/WorkSpace/Amazon-KDDCUP-23/text_method/phase2_task1_bert_results_DE/results/item_reps/item.npy')\n",
    "padding_vector = np.array([[0.0 for _ in range(DE_product_vectors.shape[-1])]])\n",
    "DE_product_vectors = np.concatenate([padding_vector, DE_product_vectors], axis=0)"
   ]
  },
  {
   "cell_type": "code",
   "execution_count": 6,
   "metadata": {},
   "outputs": [
    {
     "data": {
      "text/plain": [
       "(518328, 768)"
      ]
     },
     "execution_count": 6,
     "metadata": {},
     "output_type": "execute_result"
    }
   ],
   "source": [
    "DE_product_vectors.shape"
   ]
  },
  {
   "cell_type": "code",
   "execution_count": 7,
   "metadata": {},
   "outputs": [],
   "source": [
    "DE_dataset = load_datasets_from_cache('/root/autodl-tmp/xiaolong/WorkSpace/Amazon-KDDCUP-23/.recstudio/cache/b5aeac4e5b9ff0518bbcb59a28086594')[0]"
   ]
  },
  {
   "cell_type": "code",
   "execution_count": 8,
   "metadata": {},
   "outputs": [],
   "source": [
    "DE_index = DE_dataset.item_feat.get_col('DE_index').long()"
   ]
  },
  {
   "cell_type": "code",
   "execution_count": 9,
   "metadata": {},
   "outputs": [],
   "source": [
    "reordered_DE_product_vectors = DE_product_vectors[DE_index]"
   ]
  },
  {
   "cell_type": "code",
   "execution_count": 10,
   "metadata": {},
   "outputs": [],
   "source": [
    "vector = reordered_DE_product_vectors[10]"
   ]
  },
  {
   "cell_type": "code",
   "execution_count": 11,
   "metadata": {},
   "outputs": [
    {
     "data": {
      "text/plain": [
       "(array([[ 0.        ,  0.        ,  0.        , ...,  0.        ,\n",
       "          0.        ,  0.        ],\n",
       "        [-0.17863712,  0.10916085,  0.11707042, ...,  0.10832006,\n",
       "         -0.27978522,  0.05633187],\n",
       "        [ 0.17450115, -0.10964729,  0.20953828, ..., -0.20026118,\n",
       "          0.06307486, -0.12778322],\n",
       "        ...,\n",
       "        [ 0.37622038,  0.61418992, -0.17060213, ...,  0.33777729,\n",
       "          0.20072481, -0.52602822],\n",
       "        [-0.26937884, -0.18768312,  0.56726915, ...,  0.12342592,\n",
       "         -0.21520002, -0.20621392],\n",
       "        [-0.15914454,  0.61516678,  0.16783659, ...,  0.29599333,\n",
       "         -0.59034371, -0.27012023]]),\n",
       " array([[ 0.        ,  0.        ,  0.        , ...,  0.        ,\n",
       "          0.        ,  0.        ],\n",
       "        [ 0.0163502 , -0.0811897 , -0.02968303, ...,  0.17686917,\n",
       "         -0.32891601, -0.06422292],\n",
       "        [ 0.38436505,  0.39604807, -0.33651093, ..., -0.09598921,\n",
       "          0.20652246, -0.30377069],\n",
       "        ...,\n",
       "        [-0.10901906, -0.04847462,  0.17508447, ..., -0.30791625,\n",
       "         -0.31683603, -0.13484496],\n",
       "        [ 0.1109426 ,  0.42274603,  0.00544143, ..., -0.05780502,\n",
       "         -0.35730055, -0.36540678],\n",
       "        [-0.31041262,  0.6806668 , -0.06051243, ...,  0.25829399,\n",
       "         -0.03806284, -0.01377632]]))"
      ]
     },
     "execution_count": 11,
     "metadata": {},
     "output_type": "execute_result"
    }
   ],
   "source": [
    "reordered_DE_product_vectors, DE_product_vectors"
   ]
  },
  {
   "cell_type": "code",
   "execution_count": 12,
   "metadata": {},
   "outputs": [
    {
     "data": {
      "text/plain": [
       "array([    10, 310442,  61126, 392279, 117775, 500305, 179647, 333226,\n",
       "       129831, 181296])"
      ]
     },
     "execution_count": 12,
     "metadata": {},
     "output_type": "execute_result"
    }
   ],
   "source": [
    "(-np.matmul(reordered_DE_product_vectors, vector)).argsort()[:10]"
   ]
  },
  {
   "cell_type": "code",
   "execution_count": 13,
   "metadata": {},
   "outputs": [
    {
     "data": {
      "text/plain": [
       "('B00175X9QE', 'B000S5JVRU')"
      ]
     },
     "execution_count": 13,
     "metadata": {},
     "output_type": "execute_result"
    }
   ],
   "source": [
    "DE_dataset.field2tokens['product_id'][10], DE_dataset.field2tokens['product_id'][310442]"
   ]
  },
  {
   "cell_type": "code",
   "execution_count": 14,
   "metadata": {},
   "outputs": [
    {
     "data": {
      "text/plain": [
       "'Herlitz 8770307 Musterbeutelklammer, Metall, Rundkopf, 100 Stück in Hängebox, messing'"
      ]
     },
     "execution_count": 14,
     "metadata": {},
     "output_type": "execute_result"
    }
   ],
   "source": [
    "product_data.query(\"id=='B00175X9QE'\").iloc[0]['title']"
   ]
  },
  {
   "cell_type": "code",
   "execution_count": 15,
   "metadata": {},
   "outputs": [
    {
     "data": {
      "text/plain": [
       "'Herlitz Musterbeutelklammer Flachkopf, 60 Stück in Hängebox, metall'"
      ]
     },
     "execution_count": 15,
     "metadata": {},
     "output_type": "execute_result"
    }
   ],
   "source": [
    "product_data.query(\"id=='B000S5JVRU'\").iloc[0]['title']"
   ]
  },
  {
   "cell_type": "code",
   "execution_count": 16,
   "metadata": {},
   "outputs": [
    {
     "data": {
      "text/plain": [
       "(array([[ 0.        ,  0.        ,  0.        , ...,  0.        ,\n",
       "          0.        ,  0.        ],\n",
       "        [-0.17863712,  0.10916085,  0.11707042, ...,  0.10832006,\n",
       "         -0.27978522,  0.05633187],\n",
       "        [ 0.17450115, -0.10964729,  0.20953828, ..., -0.20026118,\n",
       "          0.06307486, -0.12778322],\n",
       "        ...,\n",
       "        [ 0.37622038,  0.61418992, -0.17060213, ...,  0.33777729,\n",
       "          0.20072481, -0.52602822],\n",
       "        [-0.26937884, -0.18768312,  0.56726915, ...,  0.12342592,\n",
       "         -0.21520002, -0.20621392],\n",
       "        [-0.15914454,  0.61516678,  0.16783659, ...,  0.29599333,\n",
       "         -0.59034371, -0.27012023]]),\n",
       " (518328, 768))"
      ]
     },
     "execution_count": 16,
     "metadata": {},
     "output_type": "execute_result"
    }
   ],
   "source": [
    "reordered_DE_product_vectors, reordered_DE_product_vectors.shape"
   ]
  },
  {
   "cell_type": "code",
   "execution_count": 17,
   "metadata": {},
   "outputs": [],
   "source": [
    "np.save('/root/autodl-tmp/xiaolong/WorkSpace/Amazon-KDDCUP-23/text_method/phase2_task1_bert_results_DE/results/item_reps/reordered_item.npy', reordered_DE_product_vectors)"
   ]
  },
  {
   "attachments": {},
   "cell_type": "markdown",
   "metadata": {},
   "source": [
    "# JP"
   ]
  },
  {
   "cell_type": "code",
   "execution_count": 41,
   "metadata": {},
   "outputs": [],
   "source": [
    "JP_product_vectors = np.load('/root/autodl-tmp/xiaolong/WorkSpace/Amazon-KDDCUP-23/text_method/phase2_task1_bert_results_JP/results/item_reps/item.npy')\n",
    "padding_vector = np.array([[0.0 for _ in range(JP_product_vectors.shape[-1])]])\n",
    "JP_product_vectors = np.concatenate([padding_vector, JP_product_vectors], axis=0)"
   ]
  },
  {
   "cell_type": "code",
   "execution_count": 42,
   "metadata": {},
   "outputs": [
    {
     "data": {
      "text/plain": [
       "(395010, 768)"
      ]
     },
     "execution_count": 42,
     "metadata": {},
     "output_type": "execute_result"
    }
   ],
   "source": [
    "JP_product_vectors.shape"
   ]
  },
  {
   "cell_type": "code",
   "execution_count": 43,
   "metadata": {},
   "outputs": [],
   "source": [
    "JP_dataset = load_datasets_from_cache('/root/autodl-tmp/xiaolong/WorkSpace/Amazon-KDDCUP-23/.recstudio/cache/2536617955df215e0047f5b220d1c012')[0]"
   ]
  },
  {
   "cell_type": "code",
   "execution_count": 44,
   "metadata": {},
   "outputs": [],
   "source": [
    "JP_index = JP_dataset.item_feat.get_col('JP_index').long()"
   ]
  },
  {
   "cell_type": "code",
   "execution_count": 45,
   "metadata": {},
   "outputs": [],
   "source": [
    "reordered_JP_product_vectors = JP_product_vectors[JP_index]"
   ]
  },
  {
   "cell_type": "code",
   "execution_count": 46,
   "metadata": {},
   "outputs": [
    {
     "data": {
      "text/plain": [
       "(array([[ 0.        ,  0.        ,  0.        , ...,  0.        ,\n",
       "          0.        ,  0.        ],\n",
       "        [-0.04782737, -0.14124656, -0.03755919, ...,  0.18743366,\n",
       "         -0.41416973,  0.05504756],\n",
       "        [-0.37269983, -0.18318939,  0.12348562, ...,  0.29210562,\n",
       "         -0.26847038,  0.06414852],\n",
       "        ...,\n",
       "        [-0.29770693, -0.13189454, -0.03135134, ...,  0.03924929,\n",
       "         -0.15332511, -0.42025369],\n",
       "        [-0.00445627,  0.24775715, -0.45316821, ..., -0.04333911,\n",
       "         -0.22731598,  0.00165353],\n",
       "        [ 0.02761289,  0.01399995,  0.16871327, ..., -0.19703799,\n",
       "         -0.0800084 ,  0.15992028]]),\n",
       " (395010, 768))"
      ]
     },
     "execution_count": 46,
     "metadata": {},
     "output_type": "execute_result"
    }
   ],
   "source": [
    "reordered_JP_product_vectors, reordered_JP_product_vectors.shape"
   ]
  },
  {
   "cell_type": "code",
   "execution_count": 47,
   "metadata": {},
   "outputs": [],
   "source": [
    "np.save('/root/autodl-tmp/xiaolong/WorkSpace/Amazon-KDDCUP-23/text_method/phase2_task1_bert_results_JP/results/item_reps/reordered_item.npy', reordered_JP_product_vectors)"
   ]
  },
  {
   "attachments": {},
   "cell_type": "markdown",
   "metadata": {},
   "source": [
    "# UK"
   ]
  },
  {
   "cell_type": "code",
   "execution_count": 27,
   "metadata": {},
   "outputs": [],
   "source": [
    "UK_product_vectors = np.load('/root/autodl-tmp/xiaolong/WorkSpace/Amazon-KDDCUP-23/text_method/phase2_task1_roberta_results_UK/results/item_reps/item.npy')\n",
    "padding_vector = np.array([[0.0 for _ in range(UK_product_vectors.shape[-1])]])\n",
    "UK_product_vectors = np.concatenate([padding_vector, UK_product_vectors], axis=0)"
   ]
  },
  {
   "cell_type": "code",
   "execution_count": 28,
   "metadata": {},
   "outputs": [
    {
     "data": {
      "text/plain": [
       "(500181, 768)"
      ]
     },
     "execution_count": 28,
     "metadata": {},
     "output_type": "execute_result"
    }
   ],
   "source": [
    "UK_product_vectors.shape"
   ]
  },
  {
   "cell_type": "code",
   "execution_count": 29,
   "metadata": {},
   "outputs": [],
   "source": [
    "one_vector = UK_product_vectors[2000]"
   ]
  },
  {
   "cell_type": "code",
   "execution_count": 30,
   "metadata": {},
   "outputs": [
    {
     "data": {
      "text/plain": [
       "array([  2000, 112424, 272461, 472272, 202301, 391722, 232505, 303370,\n",
       "       469652, 147888])"
      ]
     },
     "execution_count": 30,
     "metadata": {},
     "output_type": "execute_result"
    }
   ],
   "source": [
    "(-np.matmul(UK_product_vectors, one_vector)).argsort()[:10]"
   ]
  },
  {
   "cell_type": "code",
   "execution_count": 31,
   "metadata": {},
   "outputs": [],
   "source": [
    "UK_product_data = product_data.query(\"locale=='UK'\")"
   ]
  },
  {
   "cell_type": "code",
   "execution_count": 32,
   "metadata": {},
   "outputs": [
    {
     "data": {
      "text/html": [
       "<div>\n",
       "<style scoped>\n",
       "    .dataframe tbody tr th:only-of-type {\n",
       "        vertical-align: middle;\n",
       "    }\n",
       "\n",
       "    .dataframe tbody tr th {\n",
       "        vertical-align: top;\n",
       "    }\n",
       "\n",
       "    .dataframe thead th {\n",
       "        text-align: right;\n",
       "    }\n",
       "</style>\n",
       "<table border=\"1\" class=\"dataframe\">\n",
       "  <thead>\n",
       "    <tr style=\"text-align: right;\">\n",
       "      <th></th>\n",
       "      <th>id</th>\n",
       "      <th>locale</th>\n",
       "      <th>title</th>\n",
       "      <th>price</th>\n",
       "      <th>brand</th>\n",
       "      <th>color</th>\n",
       "      <th>size</th>\n",
       "      <th>model</th>\n",
       "      <th>material</th>\n",
       "      <th>author</th>\n",
       "      <th>desc</th>\n",
       "    </tr>\n",
       "  </thead>\n",
       "  <tbody>\n",
       "    <tr>\n",
       "      <th>913336</th>\n",
       "      <td>B087LZNPHS</td>\n",
       "      <td>UK</td>\n",
       "      <td>SOCHOW Sherpa Fleece Throw Blanket, Double-Sid...</td>\n",
       "      <td>24.99</td>\n",
       "      <td>SOCHOW</td>\n",
       "      <td>Teal Green</td>\n",
       "      <td>127cm×150cm</td>\n",
       "      <td>NaN</td>\n",
       "      <td>100% Polyester</td>\n",
       "      <td>NaN</td>\n",
       "      <td>COLOR: The sherpa throw blanket is available i...</td>\n",
       "    </tr>\n",
       "    <tr>\n",
       "      <th>913337</th>\n",
       "      <td>B08THFN1KX</td>\n",
       "      <td>UK</td>\n",
       "      <td>Hippowarehouse Personalised Photo Printed Mous...</td>\n",
       "      <td>9.95</td>\n",
       "      <td>Hippowarehouse</td>\n",
       "      <td>White</td>\n",
       "      <td>240mm x 190mm x 60mm</td>\n",
       "      <td>50245-Mat-Perso</td>\n",
       "      <td>Rubber</td>\n",
       "      <td>NaN</td>\n",
       "      <td>Competitively priced</td>\n",
       "    </tr>\n",
       "    <tr>\n",
       "      <th>913338</th>\n",
       "      <td>0804185328</td>\n",
       "      <td>UK</td>\n",
       "      <td>500 Easy Recipes for Every Machine, Both Stove...</td>\n",
       "      <td>16.49</td>\n",
       "      <td>Clarkson Potter</td>\n",
       "      <td>White</td>\n",
       "      <td>NaN</td>\n",
       "      <td>NaN</td>\n",
       "      <td>NaN</td>\n",
       "      <td>Scarbrough, Mark</td>\n",
       "      <td>NaN</td>\n",
       "    </tr>\n",
       "    <tr>\n",
       "      <th>913339</th>\n",
       "      <td>B09VBKDBW6</td>\n",
       "      <td>UK</td>\n",
       "      <td>TYHJOY Mini Bag Sealer, Handheld Vacuum Heat S...</td>\n",
       "      <td>11.99</td>\n",
       "      <td>TYHJOY</td>\n",
       "      <td>Black</td>\n",
       "      <td>NaN</td>\n",
       "      <td>FBA-sealer-black</td>\n",
       "      <td>Acrylonitrile Butadiene Styrene</td>\n",
       "      <td>NaN</td>\n",
       "      <td>【AFTER-SALE】This handheld food heat sealer sho...</td>\n",
       "    </tr>\n",
       "    <tr>\n",
       "      <th>913340</th>\n",
       "      <td>B096ZW8B49</td>\n",
       "      <td>UK</td>\n",
       "      <td>Lucosobie Steering Wheel Lock - Car Anti-Theft...</td>\n",
       "      <td>26.99</td>\n",
       "      <td>Lucosobie</td>\n",
       "      <td>Black</td>\n",
       "      <td>NaN</td>\n",
       "      <td>NaN</td>\n",
       "      <td>Alloy Steel</td>\n",
       "      <td>NaN</td>\n",
       "      <td>🔐【 Anti-Friction &amp; Customer First】Each box of ...</td>\n",
       "    </tr>\n",
       "    <tr>\n",
       "      <th>...</th>\n",
       "      <td>...</td>\n",
       "      <td>...</td>\n",
       "      <td>...</td>\n",
       "      <td>...</td>\n",
       "      <td>...</td>\n",
       "      <td>...</td>\n",
       "      <td>...</td>\n",
       "      <td>...</td>\n",
       "      <td>...</td>\n",
       "      <td>...</td>\n",
       "      <td>...</td>\n",
       "    </tr>\n",
       "    <tr>\n",
       "      <th>1413511</th>\n",
       "      <td>B08D7KW8VK</td>\n",
       "      <td>UK</td>\n",
       "      <td>TOMHOUSEE Anime Cosplay Short Straight Hair Wi...</td>\n",
       "      <td>9.99</td>\n",
       "      <td>TOMHOUSEE</td>\n",
       "      <td>Deep Grey Yuki</td>\n",
       "      <td>NaN</td>\n",
       "      <td>NaN</td>\n",
       "      <td>Synthetic</td>\n",
       "      <td>NaN</td>\n",
       "      <td>NaN</td>\n",
       "    </tr>\n",
       "    <tr>\n",
       "      <th>1413512</th>\n",
       "      <td>B073WXLXR9</td>\n",
       "      <td>UK</td>\n",
       "      <td>Crystals NEW brilliant ink twister bingo dabbe...</td>\n",
       "      <td>8.99</td>\n",
       "      <td>CRYSTALS</td>\n",
       "      <td>Orange,blue,green,pink,red,purple</td>\n",
       "      <td>NaN</td>\n",
       "      <td>NaN</td>\n",
       "      <td>Plastic</td>\n",
       "      <td>NaN</td>\n",
       "      <td>NaN</td>\n",
       "    </tr>\n",
       "    <tr>\n",
       "      <th>1413513</th>\n",
       "      <td>1529393833</td>\n",
       "      <td>UK</td>\n",
       "      <td>Before I Do: the new, funny and unexpected lov...</td>\n",
       "      <td>4.50</td>\n",
       "      <td>Hodder Paperbacks</td>\n",
       "      <td>NaN</td>\n",
       "      <td>NaN</td>\n",
       "      <td>NaN</td>\n",
       "      <td>NaN</td>\n",
       "      <td>Cousens, Sophie</td>\n",
       "      <td>NaN</td>\n",
       "    </tr>\n",
       "    <tr>\n",
       "      <th>1413514</th>\n",
       "      <td>B0B3TJ1NDN</td>\n",
       "      <td>UK</td>\n",
       "      <td>Black iPhone Charger Cable, iPhone Charger Bra...</td>\n",
       "      <td>4.49</td>\n",
       "      <td>AA-TECH</td>\n",
       "      <td>Black</td>\n",
       "      <td>2M</td>\n",
       "      <td>brd-ip-black-2022</td>\n",
       "      <td>Nylon Braided</td>\n",
       "      <td>NaN</td>\n",
       "      <td>Added Protection: An additional layer of prote...</td>\n",
       "    </tr>\n",
       "    <tr>\n",
       "      <th>1413515</th>\n",
       "      <td>B00HUBEG3Y</td>\n",
       "      <td>UK</td>\n",
       "      <td>Kids B Crafty 100 Mini Pegs, Mini Wooden Pegs,...</td>\n",
       "      <td>3.99</td>\n",
       "      <td>Kids B Crafty</td>\n",
       "      <td>NaN</td>\n",
       "      <td>NaN</td>\n",
       "      <td>NaN</td>\n",
       "      <td>Alloy Steel</td>\n",
       "      <td>NaN</td>\n",
       "      <td>🔵 Mini Pegs : 100 Wooden Pegs For Decoration, ...</td>\n",
       "    </tr>\n",
       "  </tbody>\n",
       "</table>\n",
       "<p>500180 rows × 11 columns</p>\n",
       "</div>"
      ],
      "text/plain": [
       "                 id locale                                              title  \\\n",
       "913336   B087LZNPHS     UK  SOCHOW Sherpa Fleece Throw Blanket, Double-Sid...   \n",
       "913337   B08THFN1KX     UK  Hippowarehouse Personalised Photo Printed Mous...   \n",
       "913338   0804185328     UK  500 Easy Recipes for Every Machine, Both Stove...   \n",
       "913339   B09VBKDBW6     UK  TYHJOY Mini Bag Sealer, Handheld Vacuum Heat S...   \n",
       "913340   B096ZW8B49     UK  Lucosobie Steering Wheel Lock - Car Anti-Theft...   \n",
       "...             ...    ...                                                ...   \n",
       "1413511  B08D7KW8VK     UK  TOMHOUSEE Anime Cosplay Short Straight Hair Wi...   \n",
       "1413512  B073WXLXR9     UK  Crystals NEW brilliant ink twister bingo dabbe...   \n",
       "1413513  1529393833     UK  Before I Do: the new, funny and unexpected lov...   \n",
       "1413514  B0B3TJ1NDN     UK  Black iPhone Charger Cable, iPhone Charger Bra...   \n",
       "1413515  B00HUBEG3Y     UK  Kids B Crafty 100 Mini Pegs, Mini Wooden Pegs,...   \n",
       "\n",
       "         price              brand                              color  \\\n",
       "913336   24.99             SOCHOW                         Teal Green   \n",
       "913337    9.95     Hippowarehouse                              White   \n",
       "913338   16.49    Clarkson Potter                              White   \n",
       "913339   11.99             TYHJOY                              Black   \n",
       "913340   26.99          Lucosobie                              Black   \n",
       "...        ...                ...                                ...   \n",
       "1413511   9.99          TOMHOUSEE                     Deep Grey Yuki   \n",
       "1413512   8.99           CRYSTALS  Orange,blue,green,pink,red,purple   \n",
       "1413513   4.50  Hodder Paperbacks                                NaN   \n",
       "1413514   4.49            AA-TECH                              Black   \n",
       "1413515   3.99      Kids B Crafty                                NaN   \n",
       "\n",
       "                         size              model  \\\n",
       "913336            127cm×150cm                NaN   \n",
       "913337   240mm x 190mm x 60mm    50245-Mat-Perso   \n",
       "913338                    NaN                NaN   \n",
       "913339                    NaN   FBA-sealer-black   \n",
       "913340                    NaN                NaN   \n",
       "...                       ...                ...   \n",
       "1413511                   NaN                NaN   \n",
       "1413512                   NaN                NaN   \n",
       "1413513                   NaN                NaN   \n",
       "1413514                    2M  brd-ip-black-2022   \n",
       "1413515                   NaN                NaN   \n",
       "\n",
       "                                material            author  \\\n",
       "913336                    100% Polyester               NaN   \n",
       "913337                            Rubber               NaN   \n",
       "913338                               NaN  Scarbrough, Mark   \n",
       "913339   Acrylonitrile Butadiene Styrene               NaN   \n",
       "913340                       Alloy Steel               NaN   \n",
       "...                                  ...               ...   \n",
       "1413511                        Synthetic               NaN   \n",
       "1413512                          Plastic               NaN   \n",
       "1413513                              NaN   Cousens, Sophie   \n",
       "1413514                    Nylon Braided               NaN   \n",
       "1413515                      Alloy Steel               NaN   \n",
       "\n",
       "                                                      desc  \n",
       "913336   COLOR: The sherpa throw blanket is available i...  \n",
       "913337                                Competitively priced  \n",
       "913338                                                 NaN  \n",
       "913339   【AFTER-SALE】This handheld food heat sealer sho...  \n",
       "913340   🔐【 Anti-Friction & Customer First】Each box of ...  \n",
       "...                                                    ...  \n",
       "1413511                                                NaN  \n",
       "1413512                                                NaN  \n",
       "1413513                                                NaN  \n",
       "1413514  Added Protection: An additional layer of prote...  \n",
       "1413515  🔵 Mini Pegs : 100 Wooden Pegs For Decoration, ...  \n",
       "\n",
       "[500180 rows x 11 columns]"
      ]
     },
     "execution_count": 32,
     "metadata": {},
     "output_type": "execute_result"
    }
   ],
   "source": [
    "UK_product_data"
   ]
  },
  {
   "cell_type": "code",
   "execution_count": 33,
   "metadata": {},
   "outputs": [
    {
     "data": {
      "text/plain": [
       "'Lest We Forget Flag Remembrance Day Flag Poppy Flag 3 X 5 ft Remembrance Sunday Poppy Flag Remembrance Day Decorations for Heroes Soldiers Outdoors Street Square Lest We Forget Banner'"
      ]
     },
     "execution_count": 33,
     "metadata": {},
     "output_type": "execute_result"
    }
   ],
   "source": [
    "UK_product_data.iloc[1999]['title']"
   ]
  },
  {
   "cell_type": "code",
   "execution_count": 34,
   "metadata": {},
   "outputs": [
    {
     "data": {
      "text/plain": [
       "'Lest We Forget Flag Remembrance Day Flag Poppy Flag 3 X 5 ft Remembrance Sunday Poppy Flag Remembrance Day Decorations for Heroes Soldiers Outdoors Street Square Lest We Forget Banner'"
      ]
     },
     "execution_count": 34,
     "metadata": {},
     "output_type": "execute_result"
    }
   ],
   "source": [
    "UK_product_data.iloc[112423]['title']"
   ]
  },
  {
   "cell_type": "code",
   "execution_count": 35,
   "metadata": {},
   "outputs": [],
   "source": [
    "UK_dataset = load_datasets_from_cache('/root/autodl-tmp/xiaolong/WorkSpace/Amazon-KDDCUP-23/.recstudio/cache/8d133ea55ad67bd3efd625dfeff0fb1d')[0]"
   ]
  },
  {
   "cell_type": "code",
   "execution_count": 36,
   "metadata": {},
   "outputs": [
    {
     "data": {
      "text/plain": [
       "500181"
      ]
     },
     "execution_count": 36,
     "metadata": {},
     "output_type": "execute_result"
    }
   ],
   "source": [
    "len(UK_dataset.field2tokens['product_id'])"
   ]
  },
  {
   "cell_type": "code",
   "execution_count": 37,
   "metadata": {},
   "outputs": [],
   "source": [
    "UK_index = UK_dataset.item_feat.get_col('UK_index').long()"
   ]
  },
  {
   "cell_type": "code",
   "execution_count": 38,
   "metadata": {},
   "outputs": [],
   "source": [
    "reordered_UK_product_vectors = UK_product_vectors[UK_index]"
   ]
  },
  {
   "cell_type": "code",
   "execution_count": 39,
   "metadata": {},
   "outputs": [
    {
     "data": {
      "text/plain": [
       "array([[ 0.        ,  0.        ,  0.        , ...,  0.        ,\n",
       "         0.        ,  0.        ],\n",
       "       [-0.01448025,  0.35636491, -0.22841541, ..., -0.40260869,\n",
       "         0.30051389,  0.16629395],\n",
       "       [-0.01257956,  0.34611082, -0.21633583, ..., -0.37115097,\n",
       "         0.28949398,  0.20995954],\n",
       "       ...,\n",
       "       [-0.09949617,  0.06758122, -0.13347711, ..., -0.70578253,\n",
       "         0.4333744 ,  0.04405852],\n",
       "       [-0.12538552,  0.27691829, -0.06401664, ..., -0.19322231,\n",
       "         0.41759366,  0.29057989],\n",
       "       [ 0.08841106,  0.22024369, -0.24605125, ..., -0.27180609,\n",
       "         0.32305729,  0.36370665]])"
      ]
     },
     "execution_count": 39,
     "metadata": {},
     "output_type": "execute_result"
    }
   ],
   "source": [
    "reordered_UK_product_vectors"
   ]
  },
  {
   "cell_type": "code",
   "execution_count": 40,
   "metadata": {},
   "outputs": [],
   "source": [
    "np.save('/root/autodl-tmp/xiaolong/WorkSpace/Amazon-KDDCUP-23/text_method/phase2_task1_roberta_results_UK/results/item_reps/reordered_item.npy', reordered_UK_product_vectors)"
   ]
  }
 ],
 "metadata": {
  "kernelspec": {
   "display_name": "pytorch_gpu",
   "language": "python",
   "name": "python3"
  },
  "language_info": {
   "codemirror_mode": {
    "name": "ipython",
    "version": 3
   },
   "file_extension": ".py",
   "mimetype": "text/x-python",
   "name": "python",
   "nbconvert_exporter": "python",
   "pygments_lexer": "ipython3",
   "version": "3.9.15"
  },
  "orig_nbformat": 4
 },
 "nbformat": 4,
 "nbformat_minor": 2
}
